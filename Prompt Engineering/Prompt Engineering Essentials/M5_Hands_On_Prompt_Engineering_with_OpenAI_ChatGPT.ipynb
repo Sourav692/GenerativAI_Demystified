{
 "cells": [
  {
   "cell_type": "markdown",
   "metadata": {
    "application/vnd.databricks.v1+cell": {
     "cellMetadata": {},
     "inputWidgets": {},
     "nuid": "724a79dc-07e5-41c0-b80b-68107c8dff81",
     "showTitle": false,
     "tableResultSettingsMap": {},
     "title": ""
    },
    "id": "fb6rdwlCsCGt"
   },
   "source": [
    "# Using GPT-4o-mini with Python for diverse real-world tasks using Prompt Engineering"
   ]
  },
  {
   "cell_type": "markdown",
   "metadata": {
    "application/vnd.databricks.v1+cell": {
     "cellMetadata": {},
     "inputWidgets": {},
     "nuid": "b66badc8-8e12-44f9-ad61-646d1fd806ca",
     "showTitle": false,
     "tableResultSettingsMap": {},
     "title": ""
    },
    "id": "XTzBUFWQ-OWj"
   },
   "source": [
    "In this notebook you will use the OpenAI's ChatGPT to solve:\n",
    "\n",
    "- Task 1: Zero-shot Classification\n",
    "- Task 2: Few-shot Classification\n",
    "- Task 3: Coding Tasks - Python\n",
    "- Task 4: Coding Tasks - SQL\n",
    "- Task 5: Information Extraction\n",
    "- Task 6: Closed-Domain Question Answering\n",
    "- Task 7: Open-Domain Question Answering\n",
    "- Task 8: Document Summarization\n",
    "- Task 9: Transformation\n",
    "- Task 10: Translation\n",
    "\n",
    "\n",
    "\n",
    "___Created By: Dipanjan (DJ)___"
   ]
  },
  {
   "cell_type": "markdown",
   "metadata": {
    "application/vnd.databricks.v1+cell": {
     "cellMetadata": {},
     "inputWidgets": {},
     "nuid": "bbf4bac1-da10-47f4-847f-dc307e9bb5ea",
     "showTitle": false,
     "tableResultSettingsMap": {},
     "title": ""
    },
    "id": "L1KvMtf54l0d"
   },
   "source": [
    "## Install OpenAI dependencies"
   ]
  },
  {
   "cell_type": "code",
   "execution_count": 0,
   "metadata": {
    "application/vnd.databricks.v1+cell": {
     "cellMetadata": {},
     "inputWidgets": {},
     "nuid": "ab76b500-6ae8-4f72-bd77-885959f041b0",
     "showTitle": false,
     "tableResultSettingsMap": {},
     "title": ""
    },
    "colab": {
     "base_uri": "https://localhost:8080/"
    },
    "executionInfo": {
     "elapsed": 5189,
     "status": "ok",
     "timestamp": 1734091188755,
     "user": {
      "displayName": "Dipanjan “DJ” Sarkar",
      "userId": "05135987707016476934"
     },
     "user_tz": -330
    },
    "id": "2evPp14fy258",
    "outputId": "1a9da03a-2a23-4be8-b80b-4ef764e8213d"
   },
   "outputs": [
    {
     "output_type": "stream",
     "name": "stdout",
     "output_type": "stream",
     "text": [
      "Requirement already satisfied: openai==1.55.3 in d:\\2. my workspace and notes\\1. demystify folders\\generativeai-demystified\\.venv\\lib\\site-packages (1.55.3)\nRequirement already satisfied: anyio<5,>=3.5.0 in d:\\2. my workspace and notes\\1. demystify folders\\generativeai-demystified\\.venv\\lib\\site-packages (from openai==1.55.3) (4.8.0)\nRequirement already satisfied: distro<2,>=1.7.0 in d:\\2. my workspace and notes\\1. demystify folders\\generativeai-demystified\\.venv\\lib\\site-packages (from openai==1.55.3) (1.9.0)\nRequirement already satisfied: httpx<1,>=0.23.0 in d:\\2. my workspace and notes\\1. demystify folders\\generativeai-demystified\\.venv\\lib\\site-packages (from openai==1.55.3) (0.28.1)\nRequirement already satisfied: jiter<1,>=0.4.0 in d:\\2. my workspace and notes\\1. demystify folders\\generativeai-demystified\\.venv\\lib\\site-packages (from openai==1.55.3) (0.8.2)\nRequirement already satisfied: pydantic<3,>=1.9.0 in d:\\2. my workspace and notes\\1. demystify folders\\generativeai-demystified\\.venv\\lib\\site-packages (from openai==1.55.3) (2.10.6)\nRequirement already satisfied: sniffio in d:\\2. my workspace and notes\\1. demystify folders\\generativeai-demystified\\.venv\\lib\\site-packages (from openai==1.55.3) (1.3.1)\nRequirement already satisfied: tqdm>4 in d:\\2. my workspace and notes\\1. demystify folders\\generativeai-demystified\\.venv\\lib\\site-packages (from openai==1.55.3) (4.67.1)\nRequirement already satisfied: typing-extensions<5,>=4.11 in d:\\2. my workspace and notes\\1. demystify folders\\generativeai-demystified\\.venv\\lib\\site-packages (from openai==1.55.3) (4.12.2)\nRequirement already satisfied: idna>=2.8 in d:\\2. my workspace and notes\\1. demystify folders\\generativeai-demystified\\.venv\\lib\\site-packages (from anyio<5,>=3.5.0->openai==1.55.3) (3.10)\nRequirement already satisfied: certifi in d:\\2. my workspace and notes\\1. demystify folders\\generativeai-demystified\\.venv\\lib\\site-packages (from httpx<1,>=0.23.0->openai==1.55.3) (2025.1.31)\nRequirement already satisfied: httpcore==1.* in d:\\2. my workspace and notes\\1. demystify folders\\generativeai-demystified\\.venv\\lib\\site-packages (from httpx<1,>=0.23.0->openai==1.55.3) (1.0.7)\nRequirement already satisfied: h11<0.15,>=0.13 in d:\\2. my workspace and notes\\1. demystify folders\\generativeai-demystified\\.venv\\lib\\site-packages (from httpcore==1.*->httpx<1,>=0.23.0->openai==1.55.3) (0.14.0)\nRequirement already satisfied: annotated-types>=0.6.0 in d:\\2. my workspace and notes\\1. demystify folders\\generativeai-demystified\\.venv\\lib\\site-packages (from pydantic<3,>=1.9.0->openai==1.55.3) (0.7.0)\nRequirement already satisfied: pydantic-core==2.27.2 in d:\\2. my workspace and notes\\1. demystify folders\\generativeai-demystified\\.venv\\lib\\site-packages (from pydantic<3,>=1.9.0->openai==1.55.3) (2.27.2)\nRequirement already satisfied: colorama in d:\\2. my workspace and notes\\1. demystify folders\\generativeai-demystified\\.venv\\lib\\site-packages (from tqdm>4->openai==1.55.3) (0.4.6)\n"
     ]
    }
   ],
   "source": [
    "!pip install openai==1.55.3"
   ]
  },
  {
   "cell_type": "markdown",
   "metadata": {
    "application/vnd.databricks.v1+cell": {
     "cellMetadata": {},
     "inputWidgets": {},
     "nuid": "1263fb43-41a0-4bf2-a246-c281a8f4db09",
     "showTitle": false,
     "tableResultSettingsMap": {},
     "title": ""
    },
    "id": "CiwGjVWK4q6F"
   },
   "source": [
    "## Load OpenAI API Credentials\n"
   ]
  },
  {
   "cell_type": "code",
   "execution_count": 0,
   "metadata": {
    "application/vnd.databricks.v1+cell": {
     "cellMetadata": {},
     "inputWidgets": {},
     "nuid": "30d69ab1-c963-4017-9613-013667a0acf4",
     "showTitle": false,
     "tableResultSettingsMap": {},
     "title": ""
    },
    "colab": {
     "base_uri": "https://localhost:8080/"
    },
    "executionInfo": {
     "elapsed": 5952,
     "status": "ok",
     "timestamp": 1734091198457,
     "user": {
      "displayName": "Dipanjan “DJ” Sarkar",
      "userId": "05135987707016476934"
     },
     "user_tz": -330
    },
    "id": "ryheOZuXxa41",
    "outputId": "0b4a7bf6-10ca-4165-fbdd-b6fed6f54996"
   },
   "outputs": [],
   "source": [
    "from getpass import getpass\n",
    "\n",
    "openai_key = getpass(\"Enter your OpenAI API Key: \")"
   ]
  },
  {
   "cell_type": "code",
   "execution_count": 0,
   "metadata": {
    "application/vnd.databricks.v1+cell": {
     "cellMetadata": {},
     "inputWidgets": {},
     "nuid": "91863d27-a7a3-4fa3-82a1-dc4148526bf2",
     "showTitle": false,
     "tableResultSettingsMap": {},
     "title": ""
    },
    "executionInfo": {
     "elapsed": 1643,
     "status": "ok",
     "timestamp": 1734091201334,
     "user": {
      "displayName": "Dipanjan “DJ” Sarkar",
      "userId": "05135987707016476934"
     },
     "user_tz": -330
    },
    "id": "kDe44J0N0NcC"
   },
   "outputs": [],
   "source": [
    "import openai\n",
    "from IPython.display import HTML\n",
    "\n",
    "openai.api_key = openai_key"
   ]
  },
  {
   "cell_type": "markdown",
   "metadata": {
    "application/vnd.databricks.v1+cell": {
     "cellMetadata": {},
     "inputWidgets": {},
     "nuid": "edf79a9d-fad1-4c99-b3fa-b9c361aa4921",
     "showTitle": false,
     "tableResultSettingsMap": {},
     "title": ""
    },
    "id": "VDWhgxCy5bA6"
   },
   "source": [
    "## Create ChatGPT Completion Access Function\n",
    "\n",
    "This function will use the [Chat Completion API](https://platform.openai.com/docs/api-reference/chat/create) to access ChatGPT for us and return responses\n"
   ]
  },
  {
   "cell_type": "code",
   "execution_count": 0,
   "metadata": {
    "application/vnd.databricks.v1+cell": {
     "cellMetadata": {},
     "inputWidgets": {},
     "nuid": "8bc000fe-01a3-4fc0-93d5-91b99fd1d215",
     "showTitle": false,
     "tableResultSettingsMap": {},
     "title": ""
    },
    "executionInfo": {
     "elapsed": 353,
     "status": "ok",
     "timestamp": 1734091204182,
     "user": {
      "displayName": "Dipanjan “DJ” Sarkar",
      "userId": "05135987707016476934"
     },
     "user_tz": -330
    },
    "id": "kA9gVCwK0WKd"
   },
   "outputs": [],
   "source": [
    "def get_completion(prompt, model=\"gpt-4o-mini\"):\n",
    "    messages = [{\"role\": \"user\", \"content\": prompt}]\n",
    "    response = openai.chat.completions.create(\n",
    "        model=model,\n",
    "        messages=messages,\n",
    "        temperature=0, # degree of randomness of the model's output\n",
    "    )\n",
    "    return response.choices[0].message.content"
   ]
  },
  {
   "cell_type": "markdown",
   "metadata": {
    "application/vnd.databricks.v1+cell": {
     "cellMetadata": {},
     "inputWidgets": {},
     "nuid": "bb02a720-f586-4de4-a91d-ac4dfbd58051",
     "showTitle": false,
     "tableResultSettingsMap": {},
     "title": ""
    },
    "id": "1TFZjzuGjCOw"
   },
   "source": [
    "## Let's try out the ChatGPT API!"
   ]
  },
  {
   "cell_type": "code",
   "execution_count": 0,
   "metadata": {
    "application/vnd.databricks.v1+cell": {
     "cellMetadata": {},
     "inputWidgets": {},
     "nuid": "2b7c8c73-b247-4047-a935-a5352913b590",
     "showTitle": false,
     "tableResultSettingsMap": {},
     "title": ""
    },
    "colab": {
     "base_uri": "https://localhost:8080/",
     "height": 139
    },
    "executionInfo": {
     "elapsed": 2753,
     "status": "ok",
     "timestamp": 1734091208535,
     "user": {
      "displayName": "Dipanjan “DJ” Sarkar",
      "userId": "05135987707016476934"
     },
     "user_tz": -330
    },
    "id": "KK-kjmMoi5rO",
    "outputId": "068d52a9-d99a-4072-821f-26594395f7b4"
   },
   "outputs": [
    {
     "output_type": "display_data",
     "data": {
      "text/markdown": [
       "- **Definition and Functionality**: Generative AI refers to a class of artificial intelligence models that can create new content, such as text, images, music, or videos, by learning patterns and structures from existing data. These models, like GPT and GANs, utilize deep learning techniques to generate outputs that mimic human-like creativity.\n",
       "\n",
       "- **Applications and Impact**: Generative AI has a wide range of applications, including content creation, design, gaming, and personalized experiences. Its ability to produce high-quality, original content can enhance productivity and innovation across various industries, but it also raises ethical concerns regarding copyright, misinformation, and the potential for misuse."
      ],
      "text/plain": [
       "<IPython.core.display.Markdown object>"
      ]
     },
     "metadata": {},
     "output_type": "display_data"
    }
   ],
   "source": [
    "from IPython.display import Markdown, display\n",
    "\n",
    "\n",
    "response = get_completion(prompt='Explain Generative AI in 2 bullet points',\n",
    "                          model='gpt-4o-mini')\n",
    "display(Markdown(response))"
   ]
  },
  {
   "cell_type": "code",
   "execution_count": 0,
   "metadata": {
    "application/vnd.databricks.v1+cell": {
     "cellMetadata": {},
     "inputWidgets": {},
     "nuid": "7484bf31-bf96-4349-b04b-ae6d72525563",
     "showTitle": false,
     "tableResultSettingsMap": {},
     "title": ""
    }
   },
   "outputs": [],
   "source": []
  },
  {
   "cell_type": "markdown",
   "metadata": {
    "application/vnd.databricks.v1+cell": {
     "cellMetadata": {},
     "inputWidgets": {},
     "nuid": "662b4267-24b5-454a-9698-63ea5b136320",
     "showTitle": false,
     "tableResultSettingsMap": {},
     "title": ""
    },
    "id": "AeDkpvGDhMGV"
   },
   "source": [
    "## Task 1: Zero-shot Classification\n",
    "\n",
    "This prompt tests an LLM's text classification capabilities by prompting it to classify a piece of text without providing any examples.\n",
    "\n"
   ]
  },
  {
   "cell_type": "code",
   "execution_count": 0,
   "metadata": {
    "application/vnd.databricks.v1+cell": {
     "cellMetadata": {},
     "inputWidgets": {},
     "nuid": "1ca7bca9-197d-4fba-8def-446ef88733cc",
     "showTitle": false,
     "tableResultSettingsMap": {},
     "title": ""
    },
    "id": "hRbBZB57hT0G"
   },
   "outputs": [],
   "source": [
    "reviews = [\n",
    "    f\"\"\"\n",
    "    Just received the Bluetooth speaker I ordered for beach outings, and it's fantastic.\n",
    "    The sound quality is impressively clear with just the right amount of bass.\n",
    "    It's also waterproof, which tested true during a recent splashing incident.\n",
    "    Though it's compact, the volume can really fill the space.\n",
    "    The price was a bargain for such high-quality sound.\n",
    "    Shipping was also on point, arriving two days early in secure packaging.\n",
    "    \"\"\",\n",
    "    f\"\"\"\n",
    "    Needed a new kitchen blender, but this model has been a nightmare.\n",
    "    It's supposed to handle various foods, but it struggles with anything tougher than cooked vegetables.\n",
    "    It's also incredibly noisy, and the 'easy-clean' feature is a joke; food gets stuck under the blades constantly.\n",
    "    I thought the brand meant quality, but this product has proven me wrong.\n",
    "    Plus, it arrived three days late. Definitely not worth the expense.\n",
    "    \"\"\"\n",
    "]"
   ]
  },
  {
   "cell_type": "code",
   "execution_count": 0,
   "metadata": {
    "application/vnd.databricks.v1+cell": {
     "cellMetadata": {},
     "inputWidgets": {},
     "nuid": "58d9b065-6cc1-4f89-b286-1ad1ba966345",
     "showTitle": false,
     "tableResultSettingsMap": {},
     "title": ""
    },
    "id": "jZwPaViatl7f"
   },
   "outputs": [],
   "source": [
    "responses = []\n",
    "\n",
    "for review in reviews:\n",
    "  prompt = f\"\"\"\n",
    "              Act as a product review analyst.\n",
    "              Given the following review,\n",
    "              Display the overall sentiment for the review as only one of the following:\n",
    "              Positive, Negative OR Neutral\n",
    "\n",
    "              ```{review}```\n",
    "              \"\"\"\n",
    "  response = get_completion(prompt, model='gpt-4o-mini')\n",
    "  responses.append(response)"
   ]
  },
  {
   "cell_type": "code",
   "execution_count": 0,
   "metadata": {
    "application/vnd.databricks.v1+cell": {
     "cellMetadata": {},
     "inputWidgets": {},
     "nuid": "32b9f01f-0966-41f1-9a6e-56de731707fd",
     "showTitle": false,
     "tableResultSettingsMap": {},
     "title": ""
    },
    "colab": {
     "base_uri": "https://localhost:8080/"
    },
    "id": "EdUFkKAmtmBj",
    "outputId": "16ca1c08-66ca-4bf1-8324-ff876c396cea"
   },
   "outputs": [
    {
     "output_type": "stream",
     "name": "stdout",
     "output_type": "stream",
     "text": [
      "Review: \n    Just received the Bluetooth speaker I ordered for beach outings, and it's fantastic.\n    The sound quality is impressively clear with just the right amount of bass.\n    It's also waterproof, which tested true during a recent splashing incident.\n    Though it's compact, the volume can really fill the space.\n    The price was a bargain for such high-quality sound.\n    Shipping was also on point, arriving two days early in secure packaging.\n    \nSentiment: Positive\n------\n\n\nReview: \n    Needed a new kitchen blender, but this model has been a nightmare.\n    It's supposed to handle various foods, but it struggles with anything tougher than cooked vegetables.\n    It's also incredibly noisy, and the 'easy-clean' feature is a joke; food gets stuck under the blades constantly.\n    I thought the brand meant quality, but this product has proven me wrong.\n    Plus, it arrived three days late. Definitely not worth the expense.\n    \nSentiment: Negative\n------\n\n\n"
     ]
    }
   ],
   "source": [
    "for review, response in zip(reviews, responses):\n",
    "  print('Review:', review)\n",
    "  print('Sentiment:', response)\n",
    "  print('------')\n",
    "  print('\\n')"
   ]
  },
  {
   "cell_type": "markdown",
   "metadata": {
    "application/vnd.databricks.v1+cell": {
     "cellMetadata": {},
     "inputWidgets": {},
     "nuid": "f8a18d26-5253-4084-b3a9-e1eb2cb4b32c",
     "showTitle": false,
     "tableResultSettingsMap": {},
     "title": ""
    },
    "id": "6WC6aycZ9Qe3"
   },
   "source": [
    "## Task 2: Few-shot Classification\n",
    "\n",
    "This prompt tests an LLM's text classification capabilities by prompting it to classify a piece of text by providing a few examples of inputs and outputs.\n",
    "\n"
   ]
  },
  {
   "cell_type": "code",
   "execution_count": 0,
   "metadata": {
    "application/vnd.databricks.v1+cell": {
     "cellMetadata": {},
     "inputWidgets": {},
     "nuid": "adf3de09-8585-429d-81f3-d5367b46d33a",
     "showTitle": false,
     "tableResultSettingsMap": {},
     "title": ""
    },
    "id": "kQZdygfUoXGT"
   },
   "outputs": [],
   "source": [
    "responses = []\n",
    "\n",
    "for review in reviews:\n",
    "  prompt = f\"\"\"\n",
    "              Act as a product review analyst.\n",
    "              Given the following review,\n",
    "              Display only the overall sentiment for the review:\n",
    "\n",
    "              Try to classify it by using the following examples as a reference:\n",
    "\n",
    "              Review: Just received the Laptop I ordered for work, and it's amazing.\n",
    "              Sentiment: 😊\n",
    "\n",
    "              Review: Needed a new mechanical keyboard, but this model has been totally disappointing.\n",
    "              Sentiment: 😡\n",
    "\n",
    "              Review: ```{review}```\n",
    "              \"\"\"\n",
    "  response = get_completion(prompt, model='gpt-4o-mini')\n",
    "  responses.append(response)"
   ]
  },
  {
   "cell_type": "code",
   "execution_count": 0,
   "metadata": {
    "application/vnd.databricks.v1+cell": {
     "cellMetadata": {},
     "inputWidgets": {},
     "nuid": "0f2bc79e-4105-4981-b7ee-36af244cd2a0",
     "showTitle": false,
     "tableResultSettingsMap": {},
     "title": ""
    },
    "colab": {
     "base_uri": "https://localhost:8080/"
    },
    "id": "OCsMzs3QodqR",
    "outputId": "4d4be2dc-397a-4205-f657-22af451ed9c7"
   },
   "outputs": [
    {
     "output_type": "stream",
     "name": "stdout",
     "output_type": "stream",
     "text": [
      "Review: \n    Just received the Bluetooth speaker I ordered for beach outings, and it's fantastic.\n    The sound quality is impressively clear with just the right amount of bass.\n    It's also waterproof, which tested true during a recent splashing incident.\n    Though it's compact, the volume can really fill the space.\n    The price was a bargain for such high-quality sound.\n    Shipping was also on point, arriving two days early in secure packaging.\n    \nSentiment: Sentiment: 😊\n------\n\n\nReview: \n    Needed a new kitchen blender, but this model has been a nightmare.\n    It's supposed to handle various foods, but it struggles with anything tougher than cooked vegetables.\n    It's also incredibly noisy, and the 'easy-clean' feature is a joke; food gets stuck under the blades constantly.\n    I thought the brand meant quality, but this product has proven me wrong.\n    Plus, it arrived three days late. Definitely not worth the expense.\n    \nSentiment: Sentiment: 😡\n------\n\n\n"
     ]
    }
   ],
   "source": [
    "for review, response in zip(reviews, responses):\n",
    "  print('Review:', review)\n",
    "  print('Sentiment:', response)\n",
    "  print('------')\n",
    "  print('\\n')"
   ]
  },
  {
   "cell_type": "markdown",
   "metadata": {
    "application/vnd.databricks.v1+cell": {
     "cellMetadata": {},
     "inputWidgets": {},
     "nuid": "28faacc6-4fb2-47ba-a8aa-2d87fd785dc5",
     "showTitle": false,
     "tableResultSettingsMap": {},
     "title": ""
    },
    "id": "HEKTyfWf9cxY"
   },
   "source": [
    "## Task 3: Coding Tasks - Python\n",
    "\n",
    "This prompt tests an LLM's capabilities for generating python code based on various tasks\n"
   ]
  },
  {
   "cell_type": "code",
   "execution_count": 0,
   "metadata": {
    "application/vnd.databricks.v1+cell": {
     "cellMetadata": {},
     "inputWidgets": {},
     "nuid": "486a176a-310d-4ed2-97b1-d7a1f8f1ffaa",
     "showTitle": false,
     "tableResultSettingsMap": {},
     "title": ""
    },
    "id": "6xawr-Co9b0t"
   },
   "outputs": [],
   "source": [
    "prompt = f\"\"\"\n",
    "Act as an expert in generating python code\n",
    "\n",
    "Your task is to generate python code\n",
    "to build a Chain of Though prompt pattern using\n",
    "the openai python library\n",
    "\"\"\"\n",
    "response = get_completion(prompt, model='gpt-4o-mini')"
   ]
  },
  {
   "cell_type": "code",
   "execution_count": 0,
   "metadata": {
    "application/vnd.databricks.v1+cell": {
     "cellMetadata": {},
     "inputWidgets": {},
     "nuid": "4a51e4b0-f4ef-424c-8d0a-ea8bdbee09b2",
     "showTitle": false,
     "tableResultSettingsMap": {},
     "title": ""
    },
    "colab": {
     "base_uri": "https://localhost:8080/",
     "height": 1000
    },
    "id": "2Cenat0G9-Bw",
    "outputId": "c5b0d746-8bd8-419f-963b-ba99c2510f07"
   },
   "outputs": [
    {
     "output_type": "display_data",
     "data": {
      "text/markdown": [
       "Certainly! The Chain of Thought (CoT) prompting pattern is a technique used to improve the reasoning capabilities of language models by encouraging them to think step-by-step through a problem. Below is an example of how to implement a Chain of Thought prompt using the OpenAI Python library.\n",
       "\n",
       "First, ensure you have the OpenAI library installed. If you haven't installed it yet, you can do so using pip:\n",
       "\n",
       "```bash\n",
       "pip install openai\n",
       "```\n",
       "\n",
       "Next, you can use the following Python code to create a Chain of Thought prompt pattern:\n",
       "\n",
       "```python\n",
       "import openai\n",
       "\n",
       "# Set your OpenAI API key\n",
       "openai.api_key = 'your-api-key-here'\n",
       "\n",
       "def generate_chain_of_thought_prompt(question):\n",
       "    # Create a Chain of Thought prompt\n",
       "    prompt = (\n",
       "        \"Let's think step by step. \"\n",
       "        f\"Question: {question}\\n\"\n",
       "        \"Step 1: Analyze the question and break it down into smaller parts.\\n\"\n",
       "        \"Step 2: Consider each part carefully and reason through it.\\n\"\n",
       "        \"Step 3: Combine the insights from each part to arrive at a final answer.\\n\"\n",
       "        \"Final Answer: \"\n",
       "    )\n",
       "    return prompt\n",
       "\n",
       "def get_answer(question):\n",
       "    # Generate the Chain of Thought prompt\n",
       "    prompt = generate_chain_of_thought_prompt(question)\n",
       "\n",
       "    # Call the OpenAI API\n",
       "    response = openai.ChatCompletion.create(\n",
       "        model=\"gpt-3.5-turbo\",  # or \"gpt-4\" if you have access\n",
       "        messages=[\n",
       "            {\"role\": \"user\", \"content\": prompt}\n",
       "        ],\n",
       "        max_tokens=150,  # Adjust based on your needs\n",
       "        temperature=0.0,  # Lower temperature for more deterministic output\n",
       "    )\n",
       "\n",
       "    # Extract and return the answer\n",
       "    answer = response['choices'][0]['message']['content']\n",
       "    return answer\n",
       "\n",
       "# Example usage\n",
       "if __name__ == \"__main__\":\n",
       "    question = \"What is the capital of France?\"\n",
       "    answer = get_answer(question)\n",
       "    print(\"Answer:\", answer)\n",
       "```\n",
       "\n",
       "### Explanation:\n",
       "1. **API Key**: Replace `'your-api-key-here'` with your actual OpenAI API key.\n",
       "2. **Prompt Generation**: The `generate_chain_of_thought_prompt` function creates a structured prompt that encourages the model to think step-by-step.\n",
       "3. **API Call**: The `get_answer` function sends the prompt to the OpenAI API and retrieves the model's response.\n",
       "4. **Example Usage**: The script includes an example question about the capital of France, but you can replace it with any question you want.\n",
       "\n",
       "### Note:\n",
       "- Adjust the `max_tokens` parameter based on how long you expect the answer to be.\n",
       "- The `temperature` parameter controls the randomness of the output; a value of `0.0` makes the output more deterministic.\n",
       "\n",
       "This code should help you implement a Chain of Thought prompting pattern using the OpenAI Python library effectively!"
      ],
      "text/plain": [
       "<IPython.core.display.Markdown object>"
      ]
     },
     "metadata": {},
     "output_type": "display_data"
    }
   ],
   "source": [
    "from IPython.display import Markdown, display\n",
    "\n",
    "display(Markdown(response))"
   ]
  },
  {
   "cell_type": "markdown",
   "metadata": {
    "application/vnd.databricks.v1+cell": {
     "cellMetadata": {},
     "inputWidgets": {},
     "nuid": "080c3efd-673d-4a29-b313-a6a7f526423d",
     "showTitle": false,
     "tableResultSettingsMap": {},
     "title": ""
    },
    "id": "0JoSF5wb_Imw"
   },
   "source": [
    "## Task 4: Coding Tasks - SQL\n",
    "\n",
    "This prompt tests an LLM's capabilities for generating SQL code based on various tasks"
   ]
  },
  {
   "cell_type": "code",
   "execution_count": 0,
   "metadata": {
    "application/vnd.databricks.v1+cell": {
     "cellMetadata": {},
     "inputWidgets": {},
     "nuid": "e9cb07d4-7a35-4929-b085-a7c4669b2f07",
     "showTitle": false,
     "tableResultSettingsMap": {},
     "title": ""
    },
    "id": "4XKGZIG3_Tjl"
   },
   "outputs": [],
   "source": [
    "prompt = f\"\"\"\n",
    "Act as an expert in generating SQL code.\n",
    "\n",
    "Understand the following schema of the database tables carefully:\n",
    "Table departments, columns = [DepartmentId, DepartmentName]\n",
    "Table employees, columns = [EmployeeId, EmployeeName, DepartmentId]\n",
    "Table salaries, columns = [EmployeeId, Salary]\n",
    "\n",
    "Create a MySQL query for the employee with max salary in the 'IT' Department.\n",
    "\"\"\"\n",
    "response = get_completion(prompt, model='gpt-4o-mini')"
   ]
  },
  {
   "cell_type": "code",
   "execution_count": 0,
   "metadata": {
    "application/vnd.databricks.v1+cell": {
     "cellMetadata": {},
     "inputWidgets": {},
     "nuid": "934e2ec4-041c-413b-9e5d-73540519708e",
     "showTitle": false,
     "tableResultSettingsMap": {},
     "title": ""
    },
    "colab": {
     "base_uri": "https://localhost:8080/",
     "height": 398
    },
    "id": "4cFqsBtSA7Wx",
    "outputId": "2edb3320-4771-4c58-cbb1-23989b6dd802"
   },
   "outputs": [
    {
     "output_type": "display_data",
     "data": {
      "text/markdown": [
       "To retrieve the employee with the maximum salary in the 'IT' department, you can use a SQL query that joins the `departments`, `employees`, and `salaries` tables. Here’s how you can construct the query:\n",
       "\n",
       "```sql\n",
       "SELECT e.EmployeeId, e.EmployeeName, s.Salary\n",
       "FROM employees e\n",
       "JOIN departments d ON e.DepartmentId = d.DepartmentId\n",
       "JOIN salaries s ON e.EmployeeId = s.EmployeeId\n",
       "WHERE d.DepartmentName = 'IT'\n",
       "ORDER BY s.Salary DESC\n",
       "LIMIT 1;\n",
       "```\n",
       "\n",
       "### Explanation:\n",
       "1. **SELECT**: We select the `EmployeeId`, `EmployeeName`, and `Salary` from the relevant tables.\n",
       "2. **FROM**: We start from the `employees` table (aliased as `e`).\n",
       "3. **JOIN**: We join the `departments` table (aliased as `d`) on the `DepartmentId` to filter by department name. We also join the `salaries` table (aliased as `s`) on `EmployeeId` to get the salary information.\n",
       "4. **WHERE**: We filter the results to only include employees in the 'IT' department.\n",
       "5. **ORDER BY**: We order the results by `Salary` in descending order to get the highest salary first.\n",
       "6. **LIMIT 1**: We limit the results to just one record, which will be the employee with the maximum salary in the 'IT' department.\n",
       "\n",
       "This query will return the employee with the highest salary in the specified department."
      ],
      "text/plain": [
       "<IPython.core.display.Markdown object>"
      ]
     },
     "metadata": {},
     "output_type": "display_data"
    }
   ],
   "source": [
    "display(Markdown(response))"
   ]
  },
  {
   "cell_type": "markdown",
   "metadata": {
    "application/vnd.databricks.v1+cell": {
     "cellMetadata": {},
     "inputWidgets": {},
     "nuid": "b74dbf81-dd42-439a-882d-dfda86b61038",
     "showTitle": false,
     "tableResultSettingsMap": {},
     "title": ""
    },
    "id": "-mck_SlcM3bG"
   },
   "source": [
    "## Task 5: Information Extraction\n",
    "\n",
    "This prompt tests an LLM's capabilities for extracting and analyzing key entities from documents"
   ]
  },
  {
   "cell_type": "code",
   "execution_count": 0,
   "metadata": {
    "application/vnd.databricks.v1+cell": {
     "cellMetadata": {},
     "inputWidgets": {},
     "nuid": "0f11a45b-5b99-4c97-8ceb-a4235ee10165",
     "showTitle": false,
     "tableResultSettingsMap": {},
     "title": ""
    },
    "id": "UxciK2wsIw3U"
   },
   "outputs": [],
   "source": [
    "clinical_note = \"\"\"\n",
    "60-year-old man in NAD with a h/o CAD, DM2, asthma, pharyngitis, SBP,\n",
    "and HTN on altace for 8 years awoke from sleep around 1:00 am this morning\n",
    "with a sore throat and swelling of the tongue.\n",
    "He came immediately to the ED because he was having difficulty swallowing and\n",
    "some trouble breathing due to obstruction caused by the swelling.\n",
    "He did not have any associated SOB, chest pain, itching, or nausea.\n",
    "He has not noticed any rashes.\n",
    "He says that he feels like it is swollen down in his esophagus as well.\n",
    "He does not recall vomiting but says he might have retched a bit.\n",
    "In the ED he was given 25mg benadryl IV, 125 mg solumedrol IV,\n",
    "and pepcid 20 mg IV.\n",
    "Family history of CHF and esophageal cancer (father).\n",
    "\"\"\""
   ]
  },
  {
   "cell_type": "code",
   "execution_count": 0,
   "metadata": {
    "application/vnd.databricks.v1+cell": {
     "cellMetadata": {},
     "inputWidgets": {},
     "nuid": "50a92274-280e-4e7c-a686-f41316225980",
     "showTitle": false,
     "tableResultSettingsMap": {},
     "title": ""
    },
    "id": "GcazKzm0JGKc"
   },
   "outputs": [],
   "source": [
    "prompt = f\"\"\"\n",
    "Act as an expert in analyzing and understanding clinical doctor notes in healthcare.\n",
    "Extract all symptoms only from the clinical note information below.\n",
    "Differentiate between symptoms that are present vs. absent.\n",
    "Give me the probability (high/ medium/ low) of how sure you are about the result.\n",
    "Add a note on the probabilities and why you think so.\n",
    "\n",
    "Output as a markdown table with the following columns,\n",
    "all symptoms should be expanded and no acronyms unless you don't know:\n",
    "\n",
    "Symptoms | Present/Denies | Probability.\n",
    "\n",
    "Also expand all acronyms.\n",
    "Output that also as a separate appendix table in Markdown.\n",
    "\n",
    "Clinical Note:\n",
    "```{clinical_note}```\n",
    "\"\"\"\n",
    "response = get_completion(prompt, model='gpt-4o-mini')"
   ]
  },
  {
   "cell_type": "code",
   "execution_count": 0,
   "metadata": {
    "application/vnd.databricks.v1+cell": {
     "cellMetadata": {},
     "inputWidgets": {},
     "nuid": "7886fc11-8aae-486f-8b7f-bd6007f3d429",
     "showTitle": false,
     "tableResultSettingsMap": {},
     "title": ""
    },
    "colab": {
     "base_uri": "https://localhost:8080/",
     "height": 828
    },
    "id": "pqXCxmtEJl4h",
    "outputId": "f08b8229-ba66-4cc6-b711-b5ea698b491d"
   },
   "outputs": [
    {
     "output_type": "display_data",
     "data": {
      "text/markdown": [
       "Here is the extracted information from the clinical note regarding symptoms:\n",
       "\n",
       "| Symptoms                                   | Present/Denies | Probability |\n",
       "|--------------------------------------------|----------------|-------------|\n",
       "| Sore throat                                | Present        | High        |\n",
       "| Swelling of the tongue                     | Present        | High        |\n",
       "| Difficulty swallowing                      | Present        | High        |\n",
       "| Trouble breathing                           | Present        | High        |\n",
       "| Shortness of breath                        | Denies         | High        |\n",
       "| Chest pain                                 | Denies         | High        |\n",
       "| Itching                                    | Denies         | High        |\n",
       "| Nausea                                     | Denies         | High        |\n",
       "| Rash                                       | Denies         | High        |\n",
       "| Swelling in the esophagus                  | Present        | Medium      |\n",
       "| Vomiting                                   | Denies         | Medium      |\n",
       "| Retching                                   | Present        | Medium      |\n",
       "\n",
       "### Note on Probabilities:\n",
       "- **High Probability**: Symptoms that are explicitly mentioned in the clinical note as present or denied, such as \"sore throat,\" \"swelling of the tongue,\" and \"difficulty swallowing,\" are categorized with high confidence due to clear statements in the text.\n",
       "- **Medium Probability**: Symptoms like \"swelling in the esophagus\" and \"retching\" are less definitive. The patient describes a sensation of swelling and mentions retching but does not confirm it as a clear symptom, leading to a medium level of certainty.\n",
       "\n",
       "### Appendix Table\n",
       "\n",
       "| Acronym | Expanded Form                     |\n",
       "|---------|-----------------------------------|\n",
       "| NAD     | No Acute Distress                 |\n",
       "| CAD     | Coronary Artery Disease           |\n",
       "| DM2     | Type 2 Diabetes Mellitus          |\n",
       "| SBP     | Systolic Blood Pressure           |\n",
       "| HTN     | Hypertension                      |\n",
       "| CHF     | Congestive Heart Failure          |"
      ],
      "text/plain": [
       "<IPython.core.display.Markdown object>"
      ]
     },
     "metadata": {},
     "output_type": "display_data"
    }
   ],
   "source": [
    "display(Markdown(response))"
   ]
  },
  {
   "cell_type": "markdown",
   "metadata": {
    "application/vnd.databricks.v1+cell": {
     "cellMetadata": {},
     "inputWidgets": {},
     "nuid": "86b0c9fc-be65-467c-904e-90a2dacdd799",
     "showTitle": false,
     "tableResultSettingsMap": {},
     "title": ""
    },
    "id": "_jucY6L9w14Z"
   },
   "source": [
    "## Task 6: Closed-Domain Question Answering\n",
    "\n",
    "Question Answering (QA) is a natural language processing task which involves generating the desired answer for the given question. Question Answering can be open-domain QA or closed-domain QA depending on whether the LLM is provided with the relevant context or not.\n",
    "\n",
    "In the case of closed-domain QA, a question along with relevant context is given. Here the context is nothing but the relevant text which ideally should have the answer. Just like a RAG workflow."
   ]
  },
  {
   "cell_type": "code",
   "execution_count": 0,
   "metadata": {
    "application/vnd.databricks.v1+cell": {
     "cellMetadata": {},
     "inputWidgets": {},
     "nuid": "6afd681c-0c74-4c9d-9a28-f7af47c3e325",
     "showTitle": false,
     "tableResultSettingsMap": {},
     "title": ""
    },
    "id": "8I7ZsP3OxL-n"
   },
   "outputs": [],
   "source": [
    "report = \"\"\"\n",
    "Three quarters (77%) of the population saw an increase in their regular outgoings over the past year,\n",
    "according to findings from our recent consumer survey. In contrast, just over half (54%) of respondents\n",
    "had an increase in their salary, which suggests that the burden of costs outweighing income remains for\n",
    "most. In total, across the 2,500 people surveyed, the increase in outgoings was 18%, three times higher\n",
    "than the 6% increase in income.\n",
    "\n",
    "Despite this, the findings of our survey suggest we have reached a plateau. Looking at savings,\n",
    "for example, the share of people who expect to make regular savings this year is just over 70%,\n",
    "broadly similar to last year. Over half of those saving plan to use some of the funds for residential\n",
    "property. A third are saving for a deposit, and a further 20% for an investment property or second home.\n",
    "\n",
    "But for some, their plans are being pushed back. 9% of respondents stated they had planned to purchase\n",
    "a new home this year but have now changed their mind. While for many the deposit may be an issue,\n",
    "the other driving factor remains the cost of the mortgage, which has been steadily rising the last\n",
    "few years. For those that currently own a property, the survey showed that in the last year,\n",
    "the average mortgage payment has increased from £668.51 to £748.94, or 12%.\"\"\"\n"
   ]
  },
  {
   "cell_type": "code",
   "execution_count": 0,
   "metadata": {
    "application/vnd.databricks.v1+cell": {
     "cellMetadata": {},
     "inputWidgets": {},
     "nuid": "b158d622-e8bb-429d-8b99-7b2c74cfdddd",
     "showTitle": false,
     "tableResultSettingsMap": {},
     "title": ""
    },
    "id": "dAPf8hD2xATM"
   },
   "outputs": [],
   "source": [
    "question = \"\"\"\n",
    "How much has the average mortage payment increased in the last year?\n",
    "\"\"\"\n",
    "\n",
    "prompt = f\"\"\"\n",
    "Using the following context information below please answer the following question\n",
    "to the best of your ability\n",
    "Context:\n",
    "{report}\n",
    "Question:\n",
    "{question}\n",
    "Answer:\n",
    "\"\"\""
   ]
  },
  {
   "cell_type": "code",
   "execution_count": 0,
   "metadata": {
    "application/vnd.databricks.v1+cell": {
     "cellMetadata": {},
     "inputWidgets": {},
     "nuid": "f710b3fe-9f59-4785-ae3b-411028105187",
     "showTitle": false,
     "tableResultSettingsMap": {},
     "title": ""
    },
    "colab": {
     "base_uri": "https://localhost:8080/",
     "height": 46
    },
    "id": "whY2mBoXxUPM",
    "outputId": "32017587-b51a-470d-bd2a-43e0aecf4c69"
   },
   "outputs": [
    {
     "output_type": "display_data",
     "data": {
      "text/markdown": [
       "The average mortgage payment has increased from £668.51 to £748.94 in the last year, which is an increase of £80.43."
      ],
      "text/plain": [
       "<IPython.core.display.Markdown object>"
      ]
     },
     "metadata": {},
     "output_type": "display_data"
    }
   ],
   "source": [
    "response = get_completion(prompt, model='gpt-4o-mini')\n",
    "display(Markdown(response))"
   ]
  },
  {
   "cell_type": "code",
   "execution_count": 0,
   "metadata": {
    "application/vnd.databricks.v1+cell": {
     "cellMetadata": {},
     "inputWidgets": {},
     "nuid": "505c3653-362d-4767-b1c9-fdedaaa574f5",
     "showTitle": false,
     "tableResultSettingsMap": {},
     "title": ""
    },
    "colab": {
     "base_uri": "https://localhost:8080/",
     "height": 46
    },
    "id": "A-Dxn9d_xibD",
    "outputId": "ec770b40-5d12-4bc6-dd66-e7349a1d28c0"
   },
   "outputs": [
    {
     "output_type": "display_data",
     "data": {
      "text/markdown": [
       "54"
      ],
      "text/plain": [
       "<IPython.core.display.Markdown object>"
      ]
     },
     "metadata": {},
     "output_type": "display_data"
    }
   ],
   "source": [
    "question = \"\"\"\n",
    "What percentage of people had an increase in salary last year? Show the answer just as a number.\n",
    "\"\"\"\n",
    "\n",
    "prompt = f\"\"\"\n",
    "Using the following context information below please answer the following question\n",
    "to the best of your ability\n",
    "Context:\n",
    "{report}\n",
    "Question:\n",
    "{question}\n",
    "Answer:\n",
    "\"\"\"\n",
    "response = get_completion(prompt)\n",
    "display(Markdown(response))"
   ]
  },
  {
   "cell_type": "markdown",
   "metadata": {
    "application/vnd.databricks.v1+cell": {
     "cellMetadata": {},
     "inputWidgets": {},
     "nuid": "b7c522d3-eef1-4bea-8637-a2adf3a95734",
     "showTitle": false,
     "tableResultSettingsMap": {},
     "title": ""
    },
    "id": "EuQlsSmWxyCd"
   },
   "source": [
    "## Task 7: Open-Domain Question Answering\n",
    "\n",
    "Question Answering (QA) is a natural language processing task which involves generating the desired answer for the given question.\n",
    "\n",
    "In the case of open-domain QA, only the question is asked without providing any context or information. Here, the LLM answers the question using the knowledge gained from large volumes of text data during its training. This is basically Zero-Shot QA"
   ]
  },
  {
   "cell_type": "code",
   "execution_count": 0,
   "metadata": {
    "application/vnd.databricks.v1+cell": {
     "cellMetadata": {},
     "inputWidgets": {},
     "nuid": "9a2582f1-a10f-4b6a-b55c-d4ef0d174bd4",
     "showTitle": false,
     "tableResultSettingsMap": {},
     "title": ""
    },
    "id": "fV2MP4OdyETp"
   },
   "outputs": [],
   "source": [
    "prompt = f\"\"\"\n",
    "Please answer the following question to the best of your ability\n",
    "Question:\n",
    "What is LangChain?\n",
    "\n",
    "Answer:\n",
    "\"\"\""
   ]
  },
  {
   "cell_type": "code",
   "execution_count": 0,
   "metadata": {
    "application/vnd.databricks.v1+cell": {
     "cellMetadata": {},
     "inputWidgets": {},
     "nuid": "804415a1-88a5-4242-90d3-391bb0922650",
     "showTitle": false,
     "tableResultSettingsMap": {},
     "title": ""
    },
    "colab": {
     "base_uri": "https://localhost:8080/",
     "height": 347
    },
    "id": "OSC-IhDmyRYg",
    "outputId": "31298d05-0733-4357-90d5-aeb13712bdee"
   },
   "outputs": [
    {
     "output_type": "display_data",
     "data": {
      "text/markdown": [
       "LangChain is a framework designed to facilitate the development of applications that utilize large language models (LLMs). It provides a set of tools and components that help developers build, manage, and deploy applications that can leverage the capabilities of LLMs for various tasks, such as natural language understanding, text generation, and conversational agents.\n",
       "\n",
       "Key features of LangChain include:\n",
       "\n",
       "1. **Modularity**: LangChain offers a modular architecture, allowing developers to easily integrate different components, such as prompt templates, memory management, and chains of operations.\n",
       "\n",
       "2. **Chains**: It enables the creation of \"chains,\" which are sequences of operations that can be executed in a specific order. This is useful for building complex workflows that involve multiple steps of processing.\n",
       "\n",
       "3. **Agents**: LangChain supports the development of agents that can make decisions based on user input and context, allowing for more interactive and dynamic applications.\n",
       "\n",
       "4. **Integration**: The framework can be integrated with various data sources, APIs, and other tools, making it versatile for different use cases.\n",
       "\n",
       "5. **Prompt Management**: LangChain provides utilities for managing and optimizing prompts, which are crucial for effectively interacting with LLMs.\n",
       "\n",
       "Overall, LangChain aims to simplify the process of building applications that harness the power of language models, making it easier for developers to create innovative solutions in areas like chatbots, content generation, and more."
      ],
      "text/plain": [
       "<IPython.core.display.Markdown object>"
      ]
     },
     "metadata": {},
     "output_type": "display_data"
    }
   ],
   "source": [
    "response = get_completion(prompt, model='gpt-4o-mini')\n",
    "display(Markdown(response))"
   ]
  },
  {
   "cell_type": "code",
   "execution_count": 0,
   "metadata": {
    "application/vnd.databricks.v1+cell": {
     "cellMetadata": {},
     "inputWidgets": {},
     "nuid": "e345d927-a8ea-408a-adb3-71e420da440f",
     "showTitle": false,
     "tableResultSettingsMap": {},
     "title": ""
    },
    "id": "xMX1CcsdMg_C"
   },
   "outputs": [],
   "source": [
    "prompt = f\"\"\"\n",
    "Please answer the following question to the best of your ability\n",
    "Question:\n",
    "What is LangGraph?\n",
    "\n",
    "Answer:\n",
    "\"\"\""
   ]
  },
  {
   "cell_type": "code",
   "execution_count": 0,
   "metadata": {
    "application/vnd.databricks.v1+cell": {
     "cellMetadata": {},
     "inputWidgets": {},
     "nuid": "4e6b17ac-bab7-4349-bdda-7a429bea1af7",
     "showTitle": false,
     "tableResultSettingsMap": {},
     "title": ""
    },
    "colab": {
     "base_uri": "https://localhost:8080/",
     "height": 139
    },
    "id": "8-AxYD5AMjk6",
    "outputId": "becb2d33-a282-4957-f1df-4160dbd32b4a"
   },
   "outputs": [
    {
     "output_type": "display_data",
     "data": {
      "text/markdown": [
       "LangGraph is a framework designed to facilitate the development and deployment of applications that leverage large language models (LLMs) and graph-based data structures. It allows developers to create systems that can efficiently process and analyze complex relationships within data, enabling more sophisticated natural language understanding and generation capabilities. LangGraph typically integrates features such as knowledge graphs, semantic search, and reasoning over structured data, making it a powerful tool for building intelligent applications that require both language processing and relational data handling. \n",
       "\n",
       "If you have a specific context or application in mind regarding LangGraph, please provide more details for a more tailored response!"
      ],
      "text/plain": [
       "<IPython.core.display.Markdown object>"
      ]
     },
     "metadata": {},
     "output_type": "display_data"
    }
   ],
   "source": [
    "response = get_completion(prompt, model='gpt-4o-mini')\n",
    "display(Markdown(response))"
   ]
  },
  {
   "cell_type": "markdown",
   "metadata": {
    "application/vnd.databricks.v1+cell": {
     "cellMetadata": {},
     "inputWidgets": {},
     "nuid": "c81aee2a-c33e-4fa8-a044-cdcbbae01f23",
     "showTitle": false,
     "tableResultSettingsMap": {},
     "title": ""
    },
    "id": "tnVmXCZAzyux"
   },
   "source": [
    "## Task 8: Document Summarization\n",
    "\n",
    "Document summarization is a natural language processing task which involves creating a concise summary of the given text, while still capturing all the important information."
   ]
  },
  {
   "cell_type": "code",
   "execution_count": 0,
   "metadata": {
    "application/vnd.databricks.v1+cell": {
     "cellMetadata": {},
     "inputWidgets": {},
     "nuid": "7340052f-0993-4146-aef4-ca28d1b0913f",
     "showTitle": false,
     "tableResultSettingsMap": {},
     "title": ""
    },
    "id": "dY53sXf_ymwE"
   },
   "outputs": [],
   "source": [
    "doc = \"\"\"\n",
    "Coronaviruses are a large family of viruses which may cause illness in animals or humans.\n",
    "In humans, several coronaviruses are known to cause respiratory infections ranging from the\n",
    "common cold to more severe diseases such as Middle East Respiratory Syndrome (MERS) and Severe Acute Respiratory Syndrome (SARS).\n",
    "The most recently discovered coronavirus causes coronavirus disease COVID-19.\n",
    "COVID-19 is the infectious disease caused by the most recently discovered coronavirus.\n",
    "This new virus and disease were unknown before the outbreak began in Wuhan, China, in December 2019.\n",
    "COVID-19 is now a pandemic affecting many countries globally.\n",
    "The most common symptoms of COVID-19 are fever, dry cough, and tiredness.\n",
    "Other symptoms that are less common and may affect some patients include aches\n",
    "and pains, nasal congestion, headache, conjunctivitis, sore throat, diarrhea,\n",
    "loss of taste or smell or a rash on skin or discoloration of fingers or toes.\n",
    "These symptoms are usually mild and begin gradually.\n",
    "Some people become infected but only have very mild symptoms.\n",
    "Most people (about 80%) recover from the disease without needing hospital treatment.\n",
    "Around 1 out of every 5 people who gets COVID-19 becomes seriously ill and develops difficulty breathing.\n",
    "Older people, and those with underlying medical problems like high blood pressure, heart and lung problems,\n",
    "diabetes, or cancer, are at higher risk of developing serious illness.\n",
    "However, anyone can catch COVID-19 and become seriously ill.\n",
    "People of all ages who experience fever and/or  cough associated with difficulty breathing/shortness of breath,\n",
    "chest pain/pressure, or loss of speech or movement should seek medical attention immediately.\n",
    "If possible, it is recommended to call the health care provider or facility first,\n",
    "so the patient can be directed to the right clinic.\n",
    "People can catch COVID-19 from others who have the virus.\n",
    "The disease spreads primarily from person to person through small droplets from the nose or mouth,\n",
    "which are expelled when a person with COVID-19 coughs, sneezes, or speaks.\n",
    "These droplets are relatively heavy, do not travel far and quickly sink to the ground.\n",
    "People can catch COVID-19 if they breathe in these droplets from a person infected with the virus.\n",
    "This is why it is important to stay at least 1 meter) away from others.\n",
    "These droplets can land on objects and surfaces around the person such as tables, doorknobs and handrails.\n",
    "People can become infected by touching these objects or surfaces, then touching their eyes, nose or mouth.\n",
    "This is why it is important to wash your hands regularly with soap and water or clean with alcohol-based hand rub.\n",
    "Practicing hand and respiratory hygiene is important at ALL times and is the best way to protect others and yourself.\n",
    "When possible maintain at least a 1 meter distance between yourself and others.\n",
    "This is especially important if you are standing by someone who is coughing or sneezing.\n",
    "Since some infected persons may not yet be exhibiting symptoms or their symptoms may be mild,\n",
    "maintaining a physical distance with everyone is a good idea if you are in an area where COVID-19 is circulating.\"\"\""
   ]
  },
  {
   "cell_type": "code",
   "execution_count": 0,
   "metadata": {
    "application/vnd.databricks.v1+cell": {
     "cellMetadata": {},
     "inputWidgets": {},
     "nuid": "f5a6a57b-b2c5-4862-b74c-5dfde9c48e76",
     "showTitle": false,
     "tableResultSettingsMap": {},
     "title": ""
    },
    "colab": {
     "base_uri": "https://localhost:8080/",
     "height": 98
    },
    "id": "7upxVwh5y8te",
    "outputId": "89c35647-061c-48a5-a33c-d822eb17a0f7"
   },
   "outputs": [
    {
     "output_type": "display_data",
     "data": {
      "text/markdown": [
       "Summary: Coronaviruses are a large family of viruses that can cause respiratory infections in humans, including COVID-19, which emerged in December 2019. Common symptoms include fever, dry cough, and tiredness, with serious cases leading to difficulty breathing, particularly in older adults and those with underlying health issues. COVID-19 spreads primarily through respiratory droplets from infected individuals. Preventative measures include maintaining physical distance, practicing hand hygiene, and seeking medical attention for severe symptoms."
      ],
      "text/plain": [
       "<IPython.core.display.Markdown object>"
      ]
     },
     "metadata": {},
     "output_type": "display_data"
    }
   ],
   "source": [
    "prompt = f\"\"\"\n",
    "You are an expert in generating accurate document summaries.\n",
    "Generate a summary of the given document.\n",
    "\n",
    "Document:\n",
    "{doc}\n",
    "\n",
    "\n",
    "Constraints: Please start the summary with the delimiter 'Summary'\n",
    "and limit the summary to 5 lines\n",
    "\n",
    "Summary:\n",
    "\"\"\"\n",
    "\n",
    "response = get_completion(prompt, model='gpt-4o-mini')\n",
    "display(Markdown(response))"
   ]
  },
  {
   "cell_type": "markdown",
   "metadata": {
    "application/vnd.databricks.v1+cell": {
     "cellMetadata": {},
     "inputWidgets": {},
     "nuid": "cf3f5dd9-3e05-467b-b188-7228ebd26a57",
     "showTitle": false,
     "tableResultSettingsMap": {},
     "title": ""
    },
    "id": "keC5k5S-18cw"
   },
   "source": [
    "## Task 9: Transformation\n",
    "\n",
    "You can use LLMs to take an existing document and transform it into other formats of content and even generate training data for fine-tuning or training models"
   ]
  },
  {
   "cell_type": "code",
   "execution_count": 0,
   "metadata": {
    "application/vnd.databricks.v1+cell": {
     "cellMetadata": {},
     "inputWidgets": {},
     "nuid": "548ecc6d-4fd8-47e2-9df9-caabc78746b6",
     "showTitle": false,
     "tableResultSettingsMap": {},
     "title": ""
    },
    "id": "ta182I2t2FD0"
   },
   "outputs": [],
   "source": [
    "fact_sheet_mobile = \"\"\"\n",
    "PRODUCT NAME\n",
    "Samsung Galaxy Z Fold4 5G Black\n",
    "​\n",
    "PRODUCT OVERVIEW\n",
    "Stands out. Stands up. Unfolds.\n",
    "The Galaxy Z Fold4 does a lot in one hand with its 15.73 cm(6.2-inch) Cover Screen.\n",
    "Unfolded, the 19.21 cm(7.6-inch) Main Screen lets you really get into the zone.\n",
    "Pushed-back bezels and the Under Display Camera means there's more screen\n",
    "and no black dot getting between you and the breathtaking Infinity Flex Display.\n",
    "Do more than more with Multi View. Whether toggling between texts or catching up\n",
    "on emails, take full advantage of the expansive Main Screen with Multi View.\n",
    "PC-like power thanks to Qualcomm Snapdragon 8+ Gen 1 processor in your pocket,\n",
    "transforms apps optimized with One UI to give you menus and more in a glance\n",
    "New Taskbar for PC-like multitasking. Wipe out tasks in fewer taps. Add\n",
    "apps to the Taskbar for quick navigation and bouncing between windows when\n",
    "you're in the groove.4 And with App Pair, one tap launches up to three apps,\n",
    "all sharing one super-productive screen\n",
    "Our toughest Samsung Galaxy foldables ever. From the inside out,\n",
    "Galaxy Z Fold4 is made with materials that are not only stunning,\n",
    "but stand up to life's bumps and fumbles. The front and rear panels,\n",
    "made with exclusive Corning Gorilla Glass Victus+, are ready to resist\n",
    "sneaky scrapes and scratches. With our toughest aluminum frame made with\n",
    "Armor Aluminum, this is one durable smartphone.\n",
    "World’s first water resistant foldable smartphones. Be adventurous, rain\n",
    "or shine. You don't have to sweat the forecast when you've got one of the\n",
    "world's first water-resistant foldable smartphones.\n",
    "​\n",
    "PRODUCT SPECS\n",
    "OS - Android 12.0\n",
    "RAM - 12 GB\n",
    "Product Dimensions - 15.5 x 13 x 0.6 cm; 263 Grams\n",
    "Batteries - 2 Lithium Ion batteries required. (included)\n",
    "Item model number - SM-F936BZKDINU_5\n",
    "Wireless communication technologies - Cellular\n",
    "Connectivity technologies - Bluetooth, Wi-Fi, USB, NFC\n",
    "GPS - True\n",
    "Special features - Fast Charging Support, Dual SIM, Wireless Charging, Built-In GPS, Water Resistant\n",
    "Other display features - Wireless\n",
    "Device interface - primary - Touchscreen\n",
    "Resolution - 2176x1812\n",
    "Other camera features - Rear, Front\n",
    "Form factor - Foldable Screen\n",
    "Colour - Phantom Black\n",
    "Battery Power Rating - 4400\n",
    "Whats in the box - SIM Tray Ejector, USB Cable\n",
    "Manufacturer - Samsung India pvt Ltd\n",
    "Country of Origin - China\n",
    "Item Weight - 263 g\n",
    "\"\"\""
   ]
  },
  {
   "cell_type": "code",
   "execution_count": 0,
   "metadata": {
    "application/vnd.databricks.v1+cell": {
     "cellMetadata": {},
     "inputWidgets": {},
     "nuid": "edd1d598-ea40-448c-8b3f-371a4decf643",
     "showTitle": false,
     "tableResultSettingsMap": {},
     "title": ""
    },
    "colab": {
     "base_uri": "https://localhost:8080/",
     "height": 487
    },
    "id": "zko53u-N2KmD",
    "outputId": "8777522b-135d-464b-99ad-d0a2596f9fd5"
   },
   "outputs": [
    {
     "output_type": "display_data",
     "data": {
      "text/markdown": [
       "### Frequently Asked Questions (FAQ)\n",
       "\n",
       "**Q1: What is the screen size of the Samsung Galaxy Z Fold4?**  \n",
       "**A1:** The Galaxy Z Fold4 features a 6.2-inch Cover Screen and a 7.6-inch Main Screen when unfolded.\n",
       "\n",
       "---\n",
       "\n",
       "**Q2: What processor does the Galaxy Z Fold4 use?**  \n",
       "**A2:** The device is powered by the Qualcomm Snapdragon 8+ Gen 1 processor.\n",
       "\n",
       "---\n",
       "\n",
       "**Q3: Is the Galaxy Z Fold4 water-resistant?**  \n",
       "**A3:** Yes, the Galaxy Z Fold4 is one of the world’s first water-resistant foldable smartphones.\n",
       "\n",
       "---\n",
       "\n",
       "**Q4: How much RAM does the Galaxy Z Fold4 have?**  \n",
       "**A4:** The Galaxy Z Fold4 comes with 12 GB of RAM.\n",
       "\n",
       "---\n",
       "\n",
       "**Q5: What special features does the Galaxy Z Fold4 offer?**  \n",
       "**A5:** The Galaxy Z Fold4 includes features such as Fast Charging Support, Dual SIM capability, Wireless Charging, Built-In GPS, and is Water Resistant.\n",
       "\n",
       "---\n",
       "\n",
       "**Q6: What is the battery capacity of the Galaxy Z Fold4?**  \n",
       "**A6:** The Galaxy Z Fold4 has a battery power rating of 4400 mAh.\n",
       "\n",
       "---\n",
       "\n",
       "**Q7: What materials are used in the construction of the Galaxy Z Fold4?**  \n",
       "**A7:** The Galaxy Z Fold4 is made with Corning Gorilla Glass Victus+ for the front and rear panels and features an Armor Aluminum frame for durability.\n",
       "\n",
       "---\n",
       "\n",
       "**Q8: What comes in the box with the Galaxy Z Fold4?**  \n",
       "**A8:** The box includes a SIM Tray Ejector and a USB Cable."
      ],
      "text/plain": [
       "<IPython.core.display.Markdown object>"
      ]
     },
     "metadata": {},
     "output_type": "display_data"
    }
   ],
   "source": [
    "prompt =f\"\"\"Turn the following product description into a list of frequently asked questions (FAQ).\n",
    "Show both the question and it's corresponding answer.\n",
    "Create at the max 8 FAQs\n",
    "\n",
    "Product description:\n",
    "```{fact_sheet_mobile}```\n",
    "\"\"\"\n",
    "\n",
    "response = get_completion(prompt, model='gpt-4o-mini')\n",
    "display(Markdown(response))"
   ]
  },
  {
   "cell_type": "markdown",
   "metadata": {
    "application/vnd.databricks.v1+cell": {
     "cellMetadata": {},
     "inputWidgets": {},
     "nuid": "e5ca9e0d-f8fe-40f9-863a-7cb9532deda0",
     "showTitle": false,
     "tableResultSettingsMap": {},
     "title": ""
    },
    "id": "53QdnJ0M3Vee"
   },
   "source": [
    "## Task 10: Translation\n",
    "\n",
    "You can use LLMs to take an existing document and translate it from a source to target language. You can also translate to multiple languages at the same time"
   ]
  },
  {
   "cell_type": "code",
   "execution_count": 0,
   "metadata": {
    "application/vnd.databricks.v1+cell": {
     "cellMetadata": {},
     "inputWidgets": {},
     "nuid": "8f3ed8ad-b561-4096-b3cf-fade7f438bcd",
     "showTitle": false,
     "tableResultSettingsMap": {},
     "title": ""
    },
    "colab": {
     "base_uri": "https://localhost:8080/",
     "height": 70
    },
    "id": "g-jdFJqJ2cWu",
    "outputId": "3eb043ad-7acb-4e15-ee5f-0962f52e882c"
   },
   "outputs": [
    {
     "output_type": "display_data",
     "data": {
      "text/markdown": [
       "Translation in German: 'Hallo, wie geht es dir heute?'\n",
       "\n",
       "Translation in Spanish: 'Hola, ¿cómo estás hoy?'"
      ],
      "text/plain": [
       "<IPython.core.display.Markdown object>"
      ]
     },
     "metadata": {},
     "output_type": "display_data"
    }
   ],
   "source": [
    "prompt = \"\"\"You are an expert translator.\n",
    "Translate the given text from English to German and Spanish.\n",
    "\n",
    "Text: 'Hello, how are you today?'\n",
    "Translation:\n",
    "\"\"\"\n",
    "\n",
    "response = get_completion(prompt, model='gpt-4o-mini')\n",
    "display(Markdown(response))"
   ]
  }
 ],
 "metadata": {
  "application/vnd.databricks.v1+notebook": {
   "computePreferences": null,
   "dashboards": [],
   "environmentMetadata": null,
   "language": "python",
   "notebookMetadata": {},
   "notebookName": "M5_Hands_On_Prompt_Engineering_with_OpenAI_ChatGPT",
   "widgets": {}
  },
  "colab": {
   "provenance": []
  },
  "kernelspec": {
   "display_name": ".venv",
   "language": "python",
   "name": "python3"
  },
  "language_info": {
   "name": "python"
  }
 },
 "nbformat": 4,
 "nbformat_minor": 0
}
