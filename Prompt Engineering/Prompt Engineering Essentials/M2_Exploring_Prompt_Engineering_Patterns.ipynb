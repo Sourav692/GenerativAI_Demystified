{
 "cells": [
  {
   "cell_type": "markdown",
   "metadata": {
    "application/vnd.databricks.v1+cell": {
     "cellMetadata": {},
     "inputWidgets": {},
     "nuid": "79803423-6fab-4094-b9c4-75fb2079ffaa",
     "showTitle": false,
     "tableResultSettingsMap": {},
     "title": ""
    },
    "id": "XTzBUFWQ-OWj"
   },
   "source": [
    "# Exploring Prompt Engineering Patterns\n",
    "\n",
    "In this notebook you will use ChatGPT and LangChain to learn about:\n",
    "\n",
    "```\n",
    "Persona Pattern\n",
    "Flipped Interaction Pattern\n",
    "N-Shot Prompting Pattern\n",
    "Directional Stimulus Pattern\n",
    "Template Pattern\n",
    "Meta Language Pattern\n",
    "```\n",
    "\n",
    "___Created By: Dipanjan (DJ)___\n",
    "\n"
   ]
  },
  {
   "cell_type": "markdown",
   "metadata": {
    "application/vnd.databricks.v1+cell": {
     "cellMetadata": {},
     "inputWidgets": {},
     "nuid": "2b19ee21-6586-458b-b86f-585b16f5ac42",
     "showTitle": false,
     "tableResultSettingsMap": {},
     "title": ""
    },
    "id": "L1KvMtf54l0d"
   },
   "source": [
    "## Install OpenAI and LangChain dependencies\n"
   ]
  },
  {
   "cell_type": "code",
   "execution_count": 0,
   "metadata": {
    "application/vnd.databricks.v1+cell": {
     "cellMetadata": {},
     "inputWidgets": {},
     "nuid": "02fe968f-d335-497b-aca9-ac68c4329b36",
     "showTitle": false,
     "tableResultSettingsMap": {},
     "title": ""
    },
    "colab": {
     "base_uri": "https://localhost:8080/"
    },
    "executionInfo": {
     "elapsed": 34176,
     "status": "ok",
     "timestamp": 1734089625525,
     "user": {
      "displayName": "Dipanjan “DJ” Sarkar",
      "userId": "05135987707016476934"
     },
     "user_tz": -330
    },
    "id": "eEzecGfICCw1",
    "outputId": "00d45460-afce-4301-ddc5-0d972205e8ba"
   },
   "outputs": [],
   "source": [
    "!pip install -q langchain==0.3.10\n",
    "!pip install -q langchain-openai==0.2.12\n",
    "!pip install -q langchain-community==0.3.11"
   ]
  },
  {
   "cell_type": "code",
   "execution_count": 0,
   "metadata": {
    "application/vnd.databricks.v1+cell": {
     "cellMetadata": {},
     "inputWidgets": {},
     "nuid": "a30b83af-50f9-4024-959d-539143ff8794",
     "showTitle": false,
     "tableResultSettingsMap": {},
     "title": ""
    }
   },
   "outputs": [],
   "source": [
    "!pip -q install openai==1.55.3"
   ]
  },
  {
   "cell_type": "markdown",
   "metadata": {
    "application/vnd.databricks.v1+cell": {
     "cellMetadata": {},
     "inputWidgets": {},
     "nuid": "4b080d75-c567-42b3-8e29-b0d0028b5f9f",
     "showTitle": false,
     "tableResultSettingsMap": {},
     "title": ""
    },
    "id": "CiwGjVWK4q6F"
   },
   "source": [
    "## Load OpenAI API Credentials\n",
    "\n",
    "Here we load it from get password function"
   ]
  },
  {
   "cell_type": "markdown",
   "metadata": {
    "application/vnd.databricks.v1+cell": {
     "cellMetadata": {},
     "inputWidgets": {},
     "nuid": "bc86a53b-33a0-40da-90a8-a3f982410df0",
     "showTitle": false,
     "tableResultSettingsMap": {},
     "title": ""
    },
    "id": "PtBa7rlWJWH3"
   },
   "source": [
    "## Enter API Tokens"
   ]
  },
  {
   "cell_type": "code",
   "execution_count": 0,
   "metadata": {
    "application/vnd.databricks.v1+cell": {
     "cellMetadata": {},
     "inputWidgets": {},
     "nuid": "6ee45a06-0d9c-43a1-afe9-8140dd065a45",
     "showTitle": false,
     "tableResultSettingsMap": {},
     "title": ""
    },
    "colab": {
     "base_uri": "https://localhost:8080/"
    },
    "executionInfo": {
     "elapsed": 3794,
     "status": "ok",
     "timestamp": 1734089642918,
     "user": {
      "displayName": "Dipanjan “DJ” Sarkar",
      "userId": "05135987707016476934"
     },
     "user_tz": -330
    },
    "id": "9ogxBkS6ZnnC",
    "outputId": "2ad99b03-794a-4a38-e7fc-39a15e06a165"
   },
   "outputs": [],
   "source": [
    "from getpass import getpass\n",
    "\n",
    "OPENAI_KEY = getpass('Enter Open AI API Key: ')"
   ]
  },
  {
   "cell_type": "code",
   "execution_count": 0,
   "metadata": {
    "application/vnd.databricks.v1+cell": {
     "cellMetadata": {},
     "inputWidgets": {},
     "nuid": "bfe75fab-cd6b-4387-a8dd-e38caaaf18c1",
     "showTitle": false,
     "tableResultSettingsMap": {},
     "title": ""
    },
    "executionInfo": {
     "elapsed": 354,
     "status": "ok",
     "timestamp": 1734089651712,
     "user": {
      "displayName": "Dipanjan “DJ” Sarkar",
      "userId": "05135987707016476934"
     },
     "user_tz": -330
    },
    "id": "kDe44J0N0NcC"
   },
   "outputs": [],
   "source": [
    "import os\n",
    "\n",
    "os.environ['OPENAI_API_KEY'] = OPENAI_KEY"
   ]
  },
  {
   "cell_type": "markdown",
   "metadata": {
    "application/vnd.databricks.v1+cell": {
     "cellMetadata": {},
     "inputWidgets": {},
     "nuid": "912b9174-391a-42a7-a538-1e4d54264030",
     "showTitle": false,
     "tableResultSettingsMap": {},
     "title": ""
    },
    "id": "VDWhgxCy5bA6"
   },
   "source": [
    "## Load Necessary Dependencies and ChatGPT LLM"
   ]
  },
  {
   "cell_type": "code",
   "execution_count": 0,
   "metadata": {
    "application/vnd.databricks.v1+cell": {
     "cellMetadata": {},
     "inputWidgets": {},
     "nuid": "47a05c87-8a24-40c7-bf67-dd792756fce1",
     "showTitle": false,
     "tableResultSettingsMap": {},
     "title": ""
    },
    "executionInfo": {
     "elapsed": 2650,
     "status": "ok",
     "timestamp": 1734089654750,
     "user": {
      "displayName": "Dipanjan “DJ” Sarkar",
      "userId": "05135987707016476934"
     },
     "user_tz": -330
    },
    "id": "mY2bapqfuWq1"
   },
   "outputs": [],
   "source": [
    "from langchain_core.prompts import ChatPromptTemplate\n",
    "from langchain_openai import ChatOpenAI\n",
    "\n",
    "chatgpt = ChatOpenAI(model_name='gpt-4o-mini', temperature=0)"
   ]
  },
  {
   "cell_type": "markdown",
   "metadata": {
    "application/vnd.databricks.v1+cell": {
     "cellMetadata": {},
     "inputWidgets": {},
     "nuid": "9b61d76e-7020-497d-a937-7d73db12b52c",
     "showTitle": false,
     "tableResultSettingsMap": {},
     "title": ""
    },
    "id": "YvjOf7W_v35E"
   },
   "source": [
    "## Persona Pattern"
   ]
  },
  {
   "cell_type": "code",
   "execution_count": 0,
   "metadata": {
    "application/vnd.databricks.v1+cell": {
     "cellMetadata": {},
     "inputWidgets": {},
     "nuid": "7b785689-b2a7-4e29-ab8e-30a3d73bdfa3",
     "showTitle": false,
     "tableResultSettingsMap": {},
     "title": ""
    },
    "colab": {
     "base_uri": "https://localhost:8080/",
     "height": 802
    },
    "executionInfo": {
     "elapsed": 9849,
     "status": "ok",
     "timestamp": 1734089664597,
     "user": {
      "displayName": "Dipanjan “DJ” Sarkar",
      "userId": "05135987707016476934"
     },
     "user_tz": -330
    },
    "id": "zW1h6eeEv57r",
    "outputId": "e9d7974c-cf2a-4e97-d998-1a484c148651"
   },
   "outputs": [
    {
     "output_type": "display_data",
     "data": {
      "text/markdown": [
       "**📱 Introducing the All-New Apple iPhone 15: Elevate Your Experience! 📱**\n",
       "\n",
       "---\n",
       "\n",
       "**Unleash the Power of Innovation!**\n",
       "\n",
       "Get ready to redefine what a smartphone can do with the stunning **Apple iPhone 15**. Packed with cutting-edge technology and designed for the modern lifestyle, this device is your ultimate companion for work, play, and everything in between.\n",
       "\n",
       "---\n",
       "\n",
       "**🌟 Key Features:**\n",
       "\n",
       "**1. Immersive Display: 6.1 inches of Brilliance!**\n",
       "   - **Experience:** With a Super Retina XDR OLED display, enjoy vibrant colors and stunning clarity. Whether you're binge-watching your favorite series or scrolling through social media, every detail pops!\n",
       "   - **Example:** Imagine watching a movie in Dolby Vision while lounging at the beach, the sun shining bright, and your screen remains crystal clear even in direct sunlight!\n",
       "\n",
       "**2. Unmatched Performance: A16 Bionic Chip**\n",
       "   - **Experience:** The lightning-fast A16 Bionic chip ensures seamless multitasking and gaming. Say goodbye to lag and hello to smooth performance!\n",
       "   - **Example:** Play the latest graphics-intensive games or edit high-resolution videos on the go without a hitch. Your creativity knows no bounds!\n",
       "\n",
       "**3. Capture Every Moment: Dual Camera System**\n",
       "   - **Experience:** With a 48 MP main camera and a 12 MP ultra-wide lens, your photography skills will shine. Capture breathtaking landscapes or stunning portraits with ease.\n",
       "   - **Example:** Snap a picture of a sunset with the ultra-wide lens, and then switch to the main camera for a close-up of your friends laughing together. Every moment is a masterpiece!\n",
       "\n",
       "**4. All-Day Battery Life: 3349 mAh Powerhouse**\n",
       "   - **Experience:** Stay connected longer with a battery that lasts. Enjoy up to 98 hours of endurance, perfect for your busy lifestyle.\n",
       "   - **Example:** Whether you're on a road trip, attending back-to-back meetings, or enjoying a day out, the iPhone 15 keeps you powered up. Plus, with fast charging, get 50% battery in just 30 minutes!\n",
       "\n",
       "---\n",
       "\n",
       "**🌈 Choose Your Style:**\n",
       "Available in a range of stunning colors—Black, Blue, Green, Yellow, and Pink—express yourself with a device that matches your personality!\n",
       "\n",
       "---\n",
       "\n",
       "**💡 Why Wait?**\n",
       "The future of smartphones is here. Elevate your everyday experiences with the **Apple iPhone 15**. Available now for just ₹79,900 / £799.00 / €949.00.\n",
       "\n",
       "---\n",
       "\n",
       "**📲 Visit your nearest store or order online today! Experience the iPhone 15—where innovation meets elegance!** \n",
       "\n",
       "---\n",
       "\n",
       "**#Apple #iPhone15 #SmartphoneRevolution #CaptureYourWorld**"
      ],
      "text/plain": [
       "<IPython.core.display.Markdown object>"
      ]
     },
     "metadata": {},
     "output_type": "display_data"
    }
   ],
   "source": [
    "from IPython.display import display, Markdown\n",
    "\n",
    "prompt = \"\"\"Act as a marketing manager,\n",
    "            your task is to help a marketing team create an eye-catching advert\n",
    "            for a new smartphone product based on the following technical fact sheet.\n",
    "\n",
    "            Create an advert where you highlight the most important features\n",
    "            and briefly mention how they could be used with an example.\n",
    "            Try to captivate the audience with these examples.\n",
    "            Focus especially on the screen size, hardware, camera, battery life\n",
    "\n",
    "            PRODUCT NAME: Apple iPhone 15\n",
    "\n",
    "            PRODUCT SPECS:\n",
    "\n",
    "            NETWORK\tTechnology\n",
    "            GSM / CDMA / HSPA / EVDO / LTE / 5G\n",
    "            LAUNCH\tAnnounced\t2023, September 12\n",
    "            Status\tAvailable. Released 2023, September 22\n",
    "            BODY\tDimensions\t147.6 x 71.6 x 7.8 mm (5.81 x 2.82 x 0.31 in)\n",
    "            Weight\t171 g (6.03 oz)\n",
    "            Build\tGlass front (Corning-made glass), glass back (Corning-made glass), aluminum frame\n",
    "            SIM\tNano-SIM and eSIM - International\n",
    "            Dual eSIM with multiple numbers - USA\n",
    "            Dual SIM (Nano-SIM, dual stand-by) - China\n",
    "                IP68 dust/water resistant (up to 6m for 30 min)\n",
    "            Apple Pay (Visa, MasterCard, AMEX certified)\n",
    "            DISPLAY\tType\tSuper Retina XDR OLED, HDR10, Dolby Vision, 1000 nits (HBM), 2000 nits (peak)\n",
    "            Size\t6.1 inches, 91.3 cm2 (~86.4% screen-to-body ratio)\n",
    "            Resolution\t1179 x 2556 pixels, 19.5:9 ratio (~461 ppi density)\n",
    "            Protection\tCeramic Shield glass\n",
    "            PLATFORM\tOS\tiOS 17, upgradable to iOS 17.1\n",
    "            Chipset\tApple A16 Bionic (4 nm)\n",
    "            CPU\tHexa-core (2x3.46 GHz Everest + 4x2.02 GHz Sawtooth)\n",
    "            GPU\tApple GPU (5-core graphics)\n",
    "            MEMORY\tCard slot\tNo\n",
    "            Internal\t128GB 6GB RAM, 256GB 6GB RAM, 512GB 6GB RAM\n",
    "                NVMe\n",
    "            MAIN CAMERA\tDual\t48 MP, f/1.6, 26mm (wide), 1/1.56\", 1.0µm, dual pixel PDAF, sensor-shift OIS\n",
    "            12 MP, f/2.4, 13mm, 120˚ (ultrawide)\n",
    "            Features\tDual-LED dual-tone flash, HDR (photo/panorama)\n",
    "            Video\t4K@24/25/30/60fps, 1080p@25/30/60/120/240fps, HDR, Dolby Vision HDR (up to 60fps), Cinematic mode (4K@30fps), stereo sound rec.\n",
    "            SELFIE CAMERA\tSingle\t12 MP, f/1.9, 23mm (wide), 1/3.6\", PDAF\n",
    "            SL 3D, (depth/biometrics sensor)\n",
    "            Features\tHDR, Cinematic mode (4K@30fps)\n",
    "            Video\t4K@24/25/30/60fps, 1080p@25/30/60/120fps, gyro-EIS\n",
    "            SOUND\tLoudspeaker\tYes, with stereo speakers\n",
    "            3.5mm jack\tNo\n",
    "            COMMS\tWLAN\tWi-Fi 802.11 a/b/g/n/ac/6, dual-band, hotspot\n",
    "            Bluetooth\t5.3, A2DP, LE\n",
    "            Positioning\tGPS, GLONASS, GALILEO, BDS, QZSS\n",
    "            NFC\tYes\n",
    "            Radio\tNo\n",
    "            USB\tUSB Type-C 2.0, DisplayPort\n",
    "            FEATURES\tSensors\tFace ID, accelerometer, gyro, proximity, compass, barometer\n",
    "                Ultra Wideband 2 (UWB) support\n",
    "            Emergency SOS via satellite (SMS sending/receiving)\n",
    "            BATTERY\tType\tLi-Ion 3349 mAh, non-removable\n",
    "            Charging\tWired, PD2.0, 50% in 30 min (advertised)\n",
    "            15W wireless (MagSafe)\n",
    "            7.5W wireless (Qi)\n",
    "            4.5W reverse wired\n",
    "            MISC\tColors\tBlack, Blue, Green, Yellow, Pink\n",
    "            Models\tA3090, A2846, A3089, A3092, iPhone15,4\n",
    "            SAR\t1.12 W/kg (head)     1.14 W/kg (body)\n",
    "            SAR EU\t0.98 W/kg (head)     0.98 W/kg (body)\n",
    "            Price\t₹ 79,900 / £ 799.00 / € 949.00\n",
    "            TESTS\tPerformance\tAnTuTu: 1354651 (v10)\n",
    "            GeekBench: 6526 (v6)\n",
    "            GFXBench: 60fps (ES 3.1 onscreen)\n",
    "            Display\tContrast ratio: Infinite (nominal)\n",
    "            Camera\tPhoto / Video\n",
    "            Loudspeaker\t-26.2 LUFS (Good)\n",
    "            Battery life\n",
    "            Endurance rating 98h\n",
    "         \"\"\"\n",
    "\n",
    "response = chatgpt.invoke(prompt)\n",
    "display(Markdown(response.content))"
   ]
  },
  {
   "cell_type": "code",
   "execution_count": 0,
   "metadata": {
    "application/vnd.databricks.v1+cell": {
     "cellMetadata": {},
     "inputWidgets": {},
     "nuid": "fbe5c477-8fb5-4749-8170-33a26d5f7b77",
     "showTitle": false,
     "tableResultSettingsMap": {},
     "title": ""
    }
   },
   "outputs": [
    {
     "output_type": "display_data",
     "data": {
      "text/markdown": [
       "**📱 Introducing the All-New Apple iPhone 15: Elevate Your Experience! 📱**\n",
       "\n",
       "---\n",
       "\n",
       "**Unleash the Power of Innovation!**\n",
       "\n",
       "The Apple iPhone 15 is here, and it’s not just a smartphone; it’s your gateway to a world of possibilities! With cutting-edge technology and stunning design, this device is crafted to enhance your everyday life. Let’s dive into the features that make the iPhone 15 a must-have!\n",
       "\n",
       "---\n",
       "\n",
       "**🌟 Stunning Display: 6.1 Inches of Brilliance!**\n",
       "\n",
       "Experience your content like never before on the **Super Retina XDR OLED** display. With a resolution of **1179 x 2556 pixels**, every image bursts with color and clarity. Whether you’re streaming your favorite series in **Dolby Vision** or scrolling through social media, the **2000 nits peak brightness** ensures you won’t miss a detail—even in bright sunlight!\n",
       "\n",
       "*Example:* Imagine watching a movie on a sunny day at the park. The vibrant colors and sharp details will make you feel like you’re right in the action!\n",
       "\n",
       "---\n",
       "\n",
       "**⚡ Unmatched Performance: A16 Bionic Chip!**\n",
       "\n",
       "Powered by the **Apple A16 Bionic chip**, the iPhone 15 delivers lightning-fast performance with a **Hexa-core CPU** and **5-core GPU**. Whether you’re gaming, multitasking, or using demanding apps, this smartphone handles it all with ease.\n",
       "\n",
       "*Example:* Play the latest graphics-intensive game without a hitch, or switch between video calls and document editing seamlessly—no lag, just pure performance!\n",
       "\n",
       "---\n",
       "\n",
       "**📸 Capture Every Moment: Dual Camera System!**\n",
       "\n",
       "With a **48 MP wide camera** and a **12 MP ultrawide lens**, the iPhone 15 takes photography to the next level. Capture stunning landscapes, vibrant portraits, and cinematic videos in **4K**. The **Cinematic mode** allows you to create professional-looking videos with depth-of-field effects.\n",
       "\n",
       "*Example:* Snap a breathtaking sunset with the ultrawide lens, then switch to the wide camera for a stunning portrait of your friends—all with just a tap!\n",
       "\n",
       "---\n",
       "\n",
       "**🔋 All-Day Battery Life: Stay Connected!**\n",
       "\n",
       "The iPhone 15 is equipped with a **3349 mAh battery** that offers an impressive **endurance rating of 98 hours**. With **fast charging** capabilities, you can get **50% charge in just 30 minutes**. Plus, enjoy the convenience of **15W MagSafe wireless charging**.\n",
       "\n",
       "*Example:* Head out for a day of adventure without worrying about your battery. A quick charge during lunch is all you need to keep capturing memories and staying connected!\n",
       "\n",
       "---\n",
       "\n",
       "**🌈 Choose Your Style: Vibrant Colors!**\n",
       "\n",
       "Available in **Black, Blue, Green, Yellow, and Pink**, the iPhone 15 lets you express your personality. Its sleek design, with a **glass front and back** and **aluminum frame**, not only looks stunning but feels premium in your hand.\n",
       "\n",
       "---\n",
       "\n",
       "**🌐 Stay Connected: 5G Ready!**\n",
       "\n",
       "With support for **5G networks**, experience blazing-fast internet speeds. Stream, download, and share content like never before!\n",
       "\n",
       "---\n",
       "\n",
       "**💰 Starting at Just ₹79,900 / £799.00 / €949.00!**\n",
       "\n",
       "Don’t miss out on the opportunity to own the future of smartphones. The Apple iPhone 15 is available now!\n",
       "\n",
       "---\n",
       "\n",
       "**✨ Elevate your experience with the iPhone 15—where innovation meets style!** \n",
       "\n",
       "**Visit your nearest store or shop online today!**"
      ],
      "text/plain": [
       "<IPython.core.display.Markdown object>"
      ]
     },
     "metadata": {},
     "output_type": "display_data"
    }
   ],
   "source": [
    "def get_completion(prompt, model=\"gpt-4o-mini\"):\n",
    "    messages = [{\"role\": \"user\", \"content\": prompt}]\n",
    "    response = openai.chat.completions.create(\n",
    "        model=model,\n",
    "        messages=messages,\n",
    "        temperature=0, # degree of randomness of the model's output\n",
    "    )\n",
    "    return response.choices[0].message.content\n",
    "\n",
    "from IPython.display import Markdown, display\n",
    "\n",
    "\n",
    "response = get_completion(prompt=prompt,\n",
    "                          model='gpt-4o-mini')\n",
    "display(Markdown(response))"
   ]
  },
  {
   "cell_type": "markdown",
   "metadata": {
    "application/vnd.databricks.v1+cell": {
     "cellMetadata": {},
     "inputWidgets": {},
     "nuid": "6eb79af2-b2ad-42f7-ba61-8e96cebd2ac7",
     "showTitle": false,
     "tableResultSettingsMap": {},
     "title": ""
    },
    "id": "N_zaTBytxaDo"
   },
   "source": [
    "## Flipped Interaction Pattern"
   ]
  },
  {
   "cell_type": "code",
   "execution_count": 0,
   "metadata": {
    "application/vnd.databricks.v1+cell": {
     "cellMetadata": {},
     "inputWidgets": {},
     "nuid": "2cb3d56c-86a5-4bb1-8635-ea453d1b1f7d",
     "showTitle": false,
     "tableResultSettingsMap": {},
     "title": ""
    },
    "executionInfo": {
     "elapsed": 553,
     "status": "ok",
     "timestamp": 1734090034697,
     "user": {
      "displayName": "Dipanjan “DJ” Sarkar",
      "userId": "05135987707016476934"
     },
     "user_tz": -330
    },
    "id": "uMs6b4cfxm5k"
   },
   "outputs": [],
   "source": [
    "from langchain_core.prompts import ChatPromptTemplate\n",
    "from langchain_community.chat_message_histories import ChatMessageHistory\n",
    "from langchain_core.runnables.history import RunnableWithMessageHistory\n",
    "\n",
    "prompt = ChatPromptTemplate.from_messages(\n",
    "    [\n",
    "        (\"placeholder\", \"{chat_history}\"),\n",
    "        (\"human\", \"{input}\"),\n",
    "    ]\n",
    ")\n",
    "\n",
    "llm_chain = (prompt\n",
    "                |\n",
    "             chatgpt)\n",
    "\n",
    "history = ChatMessageHistory()\n",
    "\n",
    "conv_chain = RunnableWithMessageHistory(\n",
    "    llm_chain,\n",
    "    lambda session_id: history,\n",
    "    input_messages_key=\"input\",\n",
    "    history_messages_key=\"chat_history\",\n",
    ")"
   ]
  },
  {
   "cell_type": "code",
   "execution_count": 0,
   "metadata": {
    "application/vnd.databricks.v1+cell": {
     "cellMetadata": {},
     "inputWidgets": {},
     "nuid": "4515f153-d140-41e1-a64b-06f11df6e558",
     "showTitle": false,
     "tableResultSettingsMap": {},
     "title": ""
    },
    "colab": {
     "base_uri": "https://localhost:8080/",
     "height": 70
    },
    "executionInfo": {
     "elapsed": 571,
     "status": "ok",
     "timestamp": 1734090035265,
     "user": {
      "displayName": "Dipanjan “DJ” Sarkar",
      "userId": "05135987707016476934"
     },
     "user_tz": -330
    },
    "id": "4lMrEk2xxaDp",
    "outputId": "7335c52b-0253-412a-b353-9afc5af6e3a1"
   },
   "outputs": [
    {
     "output_type": "display_data",
     "data": {
      "text/markdown": [
       "Great! Let's get started. \n",
       "\n",
       "What is the main objective of your data science project? Please describe the problem you are trying to solve or the question you are aiming to answer."
      ],
      "text/plain": [
       "<IPython.core.display.Markdown object>"
      ]
     },
     "metadata": {},
     "output_type": "display_data"
    }
   ],
   "source": [
    "prompt_input = \"\"\"I would like you to ask me questions to build a detailed project plan\n",
    "            for a data science project.\n",
    "            Ask me questions until you have enough information to build this project plan.\n",
    "            You can ask questions about the problem, resources, data, and any other relevant questions.\n",
    "            Ask me one question at a time. Let’s start with the first question.\n",
    "         \"\"\"\n",
    "response = conv_chain.invoke({\"input\": prompt_input},\n",
    "                             {\"configurable\": {\"session_id\": \"unused\"}})\n",
    "display(Markdown(response.content))"
   ]
  },
  {
   "cell_type": "code",
   "execution_count": 0,
   "metadata": {
    "application/vnd.databricks.v1+cell": {
     "cellMetadata": {},
     "inputWidgets": {},
     "nuid": "125d5dc7-3ab7-473a-a6a2-a2a6ce460947",
     "showTitle": false,
     "tableResultSettingsMap": {},
     "title": ""
    },
    "colab": {
     "base_uri": "https://localhost:8080/",
     "height": 70
    },
    "executionInfo": {
     "elapsed": 2145,
     "status": "ok",
     "timestamp": 1734090039341,
     "user": {
      "displayName": "Dipanjan “DJ” Sarkar",
      "userId": "05135987707016476934"
     },
     "user_tz": -330
    },
    "id": "1mq0p_zt0Mmp",
    "outputId": "708c7050-f47a-45e8-c8fc-77acdbd0a85c"
   },
   "outputs": [
    {
     "output_type": "display_data",
     "data": {
      "text/markdown": [
       "That sounds like an important project! \n",
       "\n",
       "What specific types of data do you currently have available for this project? For example, do you have historical transaction data, customer information, or any other relevant datasets?"
      ],
      "text/plain": [
       "<IPython.core.display.Markdown object>"
      ]
     },
     "metadata": {},
     "output_type": "display_data"
    }
   ],
   "source": [
    "human_answer = \"We want to build a predictive model to detect fraudulent transactions in our bank\"\n",
    "response = conv_chain.invoke({\"input\": human_answer},\n",
    "                             {\"configurable\": {\"session_id\": \"unused\"}})\n",
    "display(Markdown(response.content))"
   ]
  },
  {
   "cell_type": "code",
   "execution_count": 0,
   "metadata": {
    "application/vnd.databricks.v1+cell": {
     "cellMetadata": {},
     "inputWidgets": {},
     "nuid": "3c9f3e38-1061-4af3-ae39-ff7d1e5d5ed9",
     "showTitle": false,
     "tableResultSettingsMap": {},
     "title": ""
    },
    "colab": {
     "base_uri": "https://localhost:8080/",
     "height": 87
    },
    "executionInfo": {
     "elapsed": 1366,
     "status": "ok",
     "timestamp": 1734090041739,
     "user": {
      "displayName": "Dipanjan “DJ” Sarkar",
      "userId": "05135987707016476934"
     },
     "user_tz": -330
    },
    "id": "VwWFL6J40V1N",
    "outputId": "be2b479c-c911-4eec-d2fe-133cd806e54f"
   },
   "outputs": [
    {
     "output_type": "display_data",
     "data": {
      "text/markdown": [
       "Excellent! Having labeled data is crucial for building a predictive model.\n",
       "\n",
       "What is the size of your dataset (e.g., number of transactions, features available), and how is the data structured (e.g., what features or attributes are included in the dataset)?"
      ],
      "text/plain": [
       "<IPython.core.display.Markdown object>"
      ]
     },
     "metadata": {},
     "output_type": "display_data"
    }
   ],
   "source": [
    "human_answer = \"\"\"We are dealing with credit card and online banking transactions both.\n",
    "                  We have labeled data for our historical data flagging transactions as normal or fraudulent\n",
    "               \"\"\"\n",
    "response = conv_chain.invoke({\"input\": human_answer},\n",
    "                             {\"configurable\": {\"session_id\": \"unused\"}})\n",
    "display(Markdown(response.content))"
   ]
  },
  {
   "cell_type": "code",
   "execution_count": 0,
   "metadata": {
    "application/vnd.databricks.v1+cell": {
     "cellMetadata": {},
     "inputWidgets": {},
     "nuid": "7e81152d-65c3-4e16-8b99-4c2bc6b782ab",
     "showTitle": false,
     "tableResultSettingsMap": {},
     "title": ""
    },
    "colab": {
     "base_uri": "https://localhost:8080/",
     "height": 87
    },
    "executionInfo": {
     "elapsed": 1452,
     "status": "ok",
     "timestamp": 1734090046690,
     "user": {
      "displayName": "Dipanjan “DJ” Sarkar",
      "userId": "05135987707016476934"
     },
     "user_tz": -330
    },
    "id": "92tsGERc0opy",
    "outputId": "c202cdc1-3de3-4c4a-9830-9dfe34135883"
   },
   "outputs": [
    {
     "output_type": "display_data",
     "data": {
      "text/markdown": [
       "Thank you for the details on the dataset!\n",
       "\n",
       "What is your target performance metric for the predictive model? For example, are you focusing on accuracy, precision, recall, F1 score, or another metric? Additionally, do you have any specific thresholds for acceptable performance?"
      ],
      "text/plain": [
       "<IPython.core.display.Markdown object>"
      ]
     },
     "metadata": {},
     "output_type": "display_data"
    }
   ],
   "source": [
    "human_answer = \"\"\"We have roughly 500000 transactions for the last 3 years of data.\n",
    "                  These are the main features in our dataset:\n",
    "                    transaction amount\n",
    "                    payment method\n",
    "                    payment type\n",
    "                    payment time\n",
    "                    merchant ID\n",
    "                    total transactions in last month\n",
    "                    credit score\n",
    "                    average transaction amount in last year\n",
    "                    transaction status - fraudulent or not fraudulent\n",
    "               \"\"\"\n",
    "response = conv_chain.invoke({\"input\": human_answer},\n",
    "                             {\"configurable\": {\"session_id\": \"unused\"}})\n",
    "display(Markdown(response.content))"
   ]
  },
  {
   "cell_type": "code",
   "execution_count": 0,
   "metadata": {
    "application/vnd.databricks.v1+cell": {
     "cellMetadata": {},
     "inputWidgets": {},
     "nuid": "66f78532-c11a-4207-aaa0-143f60a5bd53",
     "showTitle": false,
     "tableResultSettingsMap": {},
     "title": ""
    },
    "colab": {
     "base_uri": "https://localhost:8080/",
     "height": 87
    },
    "executionInfo": {
     "elapsed": 1467,
     "status": "ok",
     "timestamp": 1734090049843,
     "user": {
      "displayName": "Dipanjan “DJ” Sarkar",
      "userId": "05135987707016476934"
     },
     "user_tz": -330
    },
    "id": "CqlEF0w31Tyk",
    "outputId": "f67c2bb7-74d1-4d57-97d4-8e1cf40eb744"
   },
   "outputs": [
    {
     "output_type": "display_data",
     "data": {
      "text/markdown": [
       "Thank you for confirming that. \n",
       "\n",
       "What tools and technologies do you plan to use for this project? For example, do you have preferences for programming languages, libraries, or platforms (e.g., Python, R, TensorFlow, etc.)?"
      ],
      "text/plain": [
       "<IPython.core.display.Markdown object>"
      ]
     },
     "metadata": {},
     "output_type": "display_data"
    }
   ],
   "source": [
    "human_answer = \"\"\"We want to start with a balance between precision and recall\n",
    "               \"\"\"\n",
    "response = conv_chain.invoke({\"input\": human_answer},\n",
    "                             {\"configurable\": {\"session_id\": \"unused\"}})\n",
    "display(Markdown(response.content))"
   ]
  },
  {
   "cell_type": "code",
   "execution_count": 0,
   "metadata": {
    "application/vnd.databricks.v1+cell": {
     "cellMetadata": {},
     "inputWidgets": {},
     "nuid": "8e14865b-c17e-47ea-b504-d0a1599fd484",
     "showTitle": false,
     "tableResultSettingsMap": {},
     "title": ""
    },
    "colab": {
     "base_uri": "https://localhost:8080/",
     "height": 87
    },
    "executionInfo": {
     "elapsed": 1211,
     "status": "ok",
     "timestamp": 1734090053593,
     "user": {
      "displayName": "Dipanjan “DJ” Sarkar",
      "userId": "05135987707016476934"
     },
     "user_tz": -330
    },
    "id": "ibthhHAv02fw",
    "outputId": "481f08f7-c558-4b6e-cd53-7579a48be49c"
   },
   "outputs": [
    {
     "output_type": "display_data",
     "data": {
      "text/markdown": [
       "Got it! The Python ecosystem offers a wealth of libraries for data science and machine learning.\n",
       "\n",
       "Next question: Who will be involved in this project? Please describe the team composition, including roles such as data scientists, data engineers, domain experts, and any other stakeholders."
      ],
      "text/plain": [
       "<IPython.core.display.Markdown object>"
      ]
     },
     "metadata": {},
     "output_type": "display_data"
    }
   ],
   "source": [
    "human_answer = \"\"\"Open source is our focus and also the python ecosystem.\n",
    "                  Feel free to suggest relevant libraries and tools in the plan.\n",
    "               \"\"\"\n",
    "response = conv_chain.invoke({\"input\": human_answer},\n",
    "                             {\"configurable\": {\"session_id\": \"unused\"}})\n",
    "display(Markdown(response.content))"
   ]
  },
  {
   "cell_type": "code",
   "execution_count": 0,
   "metadata": {
    "application/vnd.databricks.v1+cell": {
     "cellMetadata": {},
     "inputWidgets": {},
     "nuid": "ef154ee3-30a0-463d-b56e-2f3d68f449e8",
     "showTitle": false,
     "tableResultSettingsMap": {},
     "title": ""
    },
    "colab": {
     "base_uri": "https://localhost:8080/",
     "height": 70
    },
    "executionInfo": {
     "elapsed": 1185,
     "status": "ok",
     "timestamp": 1734090057795,
     "user": {
      "displayName": "Dipanjan “DJ” Sarkar",
      "userId": "05135987707016476934"
     },
     "user_tz": -330
    },
    "id": "Io8bXckv1ABj",
    "outputId": "a8417af1-deac-4cda-a665-b2c6c33425cd"
   },
   "outputs": [
    {
     "output_type": "display_data",
     "data": {
      "text/markdown": [
       "Understood! With a one-month timeline and two data scientists, we can structure the project into key milestones.\n",
       "\n",
       "What is your plan for data preprocessing and feature engineering? Do you have any specific techniques or methods in mind for handling missing values, scaling features, or creating new features?"
      ],
      "text/plain": [
       "<IPython.core.display.Markdown object>"
      ]
     },
     "metadata": {},
     "output_type": "display_data"
    }
   ],
   "source": [
    "human_answer = \"\"\"We have one month to build a proof of concept and two data scientists.\n",
    "                  Please suggest relevant milestones and timelines in the plan as needed\n",
    "               \"\"\"\n",
    "response = conv_chain.invoke({\"input\": human_answer},\n",
    "                             {\"configurable\": {\"session_id\": \"unused\"}})\n",
    "display(Markdown(response.content))"
   ]
  },
  {
   "cell_type": "code",
   "execution_count": 0,
   "metadata": {
    "application/vnd.databricks.v1+cell": {
     "cellMetadata": {},
     "inputWidgets": {},
     "nuid": "c9cce759-8bcd-4f0d-b2c7-1ce5341bb306",
     "showTitle": false,
     "tableResultSettingsMap": {},
     "title": ""
    },
    "colab": {
     "base_uri": "https://localhost:8080/",
     "height": 87
    },
    "executionInfo": {
     "elapsed": 1390,
     "status": "ok",
     "timestamp": 1734090067914,
     "user": {
      "displayName": "Dipanjan “DJ” Sarkar",
      "userId": "05135987707016476934"
     },
     "user_tz": -330
    },
    "id": "7qBOZLwq1hYq",
    "outputId": "89567281-8b56-4b1b-8cb7-11494b425832"
   },
   "outputs": [
    {
     "output_type": "display_data",
     "data": {
      "text/markdown": [
       "Thank you for providing the team structure and roles. \n",
       "\n",
       "Now, regarding data preprocessing and feature engineering: Do you have any specific techniques or methods in mind for handling missing values, scaling features, or creating new features? Additionally, are there any domain-specific insights that could help in feature engineering?"
      ],
      "text/plain": [
       "<IPython.core.display.Markdown object>"
      ]
     },
     "metadata": {},
     "output_type": "display_data"
    }
   ],
   "source": [
    "human_answer = \"\"\"Database Team Developer: John for database access and help as needed\n",
    "                  Transaction Team Manager: Jim for presentations and approvals after PoC is built\n",
    "                  Analytics Team Manager: Jacob For intermediate progress, technical discussions and demos as PoC is being built\n",
    "               \"\"\"\n",
    "response = conv_chain.invoke({\"input\": human_answer},\n",
    "                             {\"configurable\": {\"session_id\": \"unused\"}})\n",
    "display(Markdown(response.content))"
   ]
  },
  {
   "cell_type": "code",
   "execution_count": 0,
   "metadata": {
    "application/vnd.databricks.v1+cell": {
     "cellMetadata": {},
     "inputWidgets": {},
     "nuid": "44dd60aa-75c2-427b-9c05-977d3a7e6f97",
     "showTitle": false,
     "tableResultSettingsMap": {},
     "title": ""
    },
    "colab": {
     "base_uri": "https://localhost:8080/",
     "height": 87
    },
    "executionInfo": {
     "elapsed": 1637,
     "status": "ok",
     "timestamp": 1734090087786,
     "user": {
      "displayName": "Dipanjan “DJ” Sarkar",
      "userId": "05135987707016476934"
     },
     "user_tz": -330
    },
    "id": "RpT2WTMg0qHn",
    "outputId": "64f32de6-caec-443e-9d2b-df9f304f1e2e"
   },
   "outputs": [
    {
     "output_type": "display_data",
     "data": {
      "text/markdown": [
       "Great! Here’s a summary of the approach we can take for data preprocessing and feature engineering:\n",
       "\n",
       "1. **Handling Missing Values**: \n",
       "   - Identify missing values and decide on strategies (e.g., imputation, removal).\n",
       "   \n",
       "2. **Feature Scaling**: \n",
       "   - Use techniques like Min-Max scaling or Standardization for numerical features (e.g., transaction amount, credit score).\n",
       "\n",
       "3. **Feature Engineering**: \n",
       "   - Create new features based on domain knowledge, such as:\n",
       "     - Time-based features (e.g., day of the week, hour of the day).\n",
       "     - Aggregated features (e.g., average transaction amount per merchant).\n",
       "     - Behavioral features (e.g., frequency of transactions per user).\n",
       "\n",
       "Next question: What is your plan for model selection and evaluation? Do you have specific algorithms in mind (e.g., logistic regression, decision trees, ensemble methods) or a strategy for model comparison?"
      ],
      "text/plain": [
       "<IPython.core.display.Markdown object>"
      ]
     },
     "metadata": {},
     "output_type": "display_data"
    }
   ],
   "source": [
    "human_answer = \"\"\"All of the above as you suggested\n",
    "               \"\"\"\n",
    "response = conv_chain.invoke({\"input\": human_answer},\n",
    "                             {\"configurable\": {\"session_id\": \"unused\"}})\n",
    "display(Markdown(response.content))"
   ]
  },
  {
   "cell_type": "code",
   "execution_count": 0,
   "metadata": {
    "application/vnd.databricks.v1+cell": {
     "cellMetadata": {},
     "inputWidgets": {},
     "nuid": "45881392-fa59-4373-b122-bad26df4f65a",
     "showTitle": false,
     "tableResultSettingsMap": {},
     "title": ""
    },
    "colab": {
     "base_uri": "https://localhost:8080/",
     "height": 1000
    },
    "executionInfo": {
     "elapsed": 12137,
     "status": "ok",
     "timestamp": 1734090136348,
     "user": {
      "displayName": "Dipanjan “DJ” Sarkar",
      "userId": "05135987707016476934"
     },
     "user_tz": -330
    },
    "id": "0NnrPSLU0wBu",
    "outputId": "c91e6c1f-3310-45dc-a90c-02c904c5a321"
   },
   "outputs": [
    {
     "output_type": "display_data",
     "data": {
      "text/markdown": [
       "That makes sense! Focusing on cross-validation and a holdout dataset will help ensure that your proof of concept is robust.\n",
       "\n",
       "Next question: How do you plan to handle model deployment and monitoring once the proof of concept is built? Do you have any specific requirements or tools in mind for deploying the model and tracking its performance in a production environment?"
      ],
      "text/plain": [
       "<IPython.core.display.Markdown object>"
      ]
     },
     "metadata": {},
     "output_type": "display_data"
    }
   ],
   "source": [
    "human_answer = \"\"\"Cross validation and a holdout dataset, for now we just want to focus\n",
    "                  on our proof of concept\n",
    "               \"\"\"\n",
    "response = conv_chain.invoke({\"input\": human_answer},\n",
    "                             {\"configurable\": {\"session_id\": \"unused\"}})\n",
    "display(Markdown(response.content))"
   ]
  },
  {
   "cell_type": "markdown",
   "metadata": {
    "application/vnd.databricks.v1+cell": {
     "cellMetadata": {},
     "inputWidgets": {},
     "nuid": "7c079389-ba06-4217-a02c-a5a4b8b3e8d0",
     "showTitle": false,
     "tableResultSettingsMap": {},
     "title": ""
    },
    "id": "F6VrYagy3lqL"
   },
   "source": [
    "## N-shot Prompting Pattern"
   ]
  },
  {
   "cell_type": "markdown",
   "metadata": {
    "application/vnd.databricks.v1+cell": {
     "cellMetadata": {},
     "inputWidgets": {},
     "nuid": "55ddd50c-aa7a-4ad0-acf9-2f6c91e56bb4",
     "showTitle": false,
     "tableResultSettingsMap": {},
     "title": ""
    },
    "id": "TkowC_IY3o0e"
   },
   "source": [
    "### Zero-Shot Prompting"
   ]
  },
  {
   "cell_type": "code",
   "execution_count": 0,
   "metadata": {
    "application/vnd.databricks.v1+cell": {
     "cellMetadata": {},
     "inputWidgets": {},
     "nuid": "c70b4a47-821d-45a4-97d2-07ff7a1d6a3d",
     "showTitle": false,
     "tableResultSettingsMap": {},
     "title": ""
    },
    "colab": {
     "base_uri": "https://localhost:8080/",
     "height": 46
    },
    "executionInfo": {
     "elapsed": 594,
     "status": "ok",
     "timestamp": 1734089673600,
     "user": {
      "displayName": "Dipanjan “DJ” Sarkar",
      "userId": "05135987707016476934"
     },
     "user_tz": -330
    },
    "id": "g7dpdaEA3lqL",
    "outputId": "72cb9f3c-3c25-40a5-c28d-7b7ba9ca9da0"
   },
   "outputs": [
    {
     "output_type": "display_data",
     "data": {
      "text/markdown": [
       "The capital of France is Paris."
      ],
      "text/plain": [
       "<IPython.core.display.Markdown object>"
      ]
     },
     "metadata": {},
     "output_type": "display_data"
    }
   ],
   "source": [
    "from IPython.display import display, Markdown\n",
    "\n",
    "prompt = \"\"\"Q: What is the capital of France?\n",
    "            A:\n",
    "         \"\"\"\n",
    "\n",
    "response = chatgpt.invoke(prompt)\n",
    "display(Markdown(response.content))"
   ]
  },
  {
   "cell_type": "code",
   "execution_count": 0,
   "metadata": {
    "application/vnd.databricks.v1+cell": {
     "cellMetadata": {},
     "inputWidgets": {},
     "nuid": "4837340f-9f98-4332-9de9-b76f26b548fd",
     "showTitle": false,
     "tableResultSettingsMap": {},
     "title": ""
    },
    "colab": {
     "base_uri": "https://localhost:8080/",
     "height": 46
    },
    "executionInfo": {
     "elapsed": 616,
     "status": "ok",
     "timestamp": 1734089674214,
     "user": {
      "displayName": "Dipanjan “DJ” Sarkar",
      "userId": "05135987707016476934"
     },
     "user_tz": -330
    },
    "id": "pH9qWtfk3zwL",
    "outputId": "5889ab58-7069-43eb-9560-0d624e667ce0"
   },
   "outputs": [
    {
     "output_type": "display_data",
     "data": {
      "text/markdown": [
       "Sports"
      ],
      "text/plain": [
       "<IPython.core.display.Markdown object>"
      ]
     },
     "metadata": {},
     "output_type": "display_data"
    }
   ],
   "source": [
    "prompt = \"\"\"News Categories : sports, business, entertainment, technology\n",
    "            Article:  Olympics postponed due to unforeseen circumstances, world athletes in shock\n",
    "            Category:\n",
    "         \"\"\"\n",
    "\n",
    "response = chatgpt.invoke(prompt)\n",
    "display(Markdown(response.content))"
   ]
  },
  {
   "cell_type": "markdown",
   "metadata": {
    "application/vnd.databricks.v1+cell": {
     "cellMetadata": {},
     "inputWidgets": {},
     "nuid": "f075cf95-bb4f-43a2-9c5c-75fc4b16e0c3",
     "showTitle": false,
     "tableResultSettingsMap": {},
     "title": ""
    },
    "id": "JPTuvCoy37hE"
   },
   "source": [
    "### 1-Shot Prompting"
   ]
  },
  {
   "cell_type": "code",
   "execution_count": 0,
   "metadata": {
    "application/vnd.databricks.v1+cell": {
     "cellMetadata": {},
     "inputWidgets": {},
     "nuid": "f5c52413-1071-4548-9229-da8c543323a5",
     "showTitle": false,
     "tableResultSettingsMap": {},
     "title": ""
    },
    "colab": {
     "base_uri": "https://localhost:8080/",
     "height": 46
    },
    "executionInfo": {
     "elapsed": 600,
     "status": "ok",
     "timestamp": 1734089674812,
     "user": {
      "displayName": "Dipanjan “DJ” Sarkar",
      "userId": "05135987707016476934"
     },
     "user_tz": -330
    },
    "id": "1ex5fjMO37hE",
    "outputId": "8f3733c9-1349-4d49-a90a-6ef0d4066fc6"
   },
   "outputs": [
    {
     "output_type": "display_data",
     "data": {
      "text/markdown": [
       "A: Bern."
      ],
      "text/plain": [
       "<IPython.core.display.Markdown object>"
      ]
     },
     "metadata": {},
     "output_type": "display_data"
    }
   ],
   "source": [
    "from IPython.display import display, Markdown\n",
    "\n",
    "prompt = \"\"\"Q: What is the capital of France?\n",
    "            A: Paris.\n",
    "\n",
    "            Q: What is the capital of Switzerland?\n",
    "            A:\n",
    "         \"\"\"\n",
    "\n",
    "response = chatgpt.invoke(prompt)\n",
    "display(Markdown(response.content))"
   ]
  },
  {
   "cell_type": "code",
   "execution_count": 0,
   "metadata": {
    "application/vnd.databricks.v1+cell": {
     "cellMetadata": {},
     "inputWidgets": {},
     "nuid": "bf598b04-225b-4d1c-91e4-c39e62c905a3",
     "showTitle": false,
     "tableResultSettingsMap": {},
     "title": ""
    },
    "colab": {
     "base_uri": "https://localhost:8080/",
     "height": 46
    },
    "executionInfo": {
     "elapsed": 5,
     "status": "ok",
     "timestamp": 1734089674813,
     "user": {
      "displayName": "Dipanjan “DJ” Sarkar",
      "userId": "05135987707016476934"
     },
     "user_tz": -330
    },
    "id": "8TiWrwsr4Db_",
    "outputId": "8f181bb7-716e-4196-f476-436255148ebf"
   },
   "outputs": [
    {
     "output_type": "display_data",
     "data": {
      "text/markdown": [
       "Category: Technology"
      ],
      "text/plain": [
       "<IPython.core.display.Markdown object>"
      ]
     },
     "metadata": {},
     "output_type": "display_data"
    }
   ],
   "source": [
    "from IPython.display import display, Markdown\n",
    "\n",
    "prompt = \"\"\"Possible News Categories : Sports, Business, Entertainment, Technology\n",
    "\n",
    "            Article:  Olympics postponed due to unforeseen circumstances, world athletes in shock\n",
    "            Category: Sports\n",
    "\n",
    "            Article:  Tech giant NeoTech announces its latest smartphone, the NeoTech Ultra\n",
    "            Category:\n",
    "         \"\"\"\n",
    "\n",
    "response = chatgpt.invoke(prompt)\n",
    "display(Markdown(response.content))"
   ]
  },
  {
   "cell_type": "markdown",
   "metadata": {
    "application/vnd.databricks.v1+cell": {
     "cellMetadata": {},
     "inputWidgets": {},
     "nuid": "c8e6dc3e-4c6c-4381-a341-6075d5ef311b",
     "showTitle": false,
     "tableResultSettingsMap": {},
     "title": ""
    },
    "id": "zRHJAKRt4Kks"
   },
   "source": [
    "### Few-Shot Prompting"
   ]
  },
  {
   "cell_type": "code",
   "execution_count": 0,
   "metadata": {
    "application/vnd.databricks.v1+cell": {
     "cellMetadata": {},
     "inputWidgets": {},
     "nuid": "82fc4794-d027-4cc8-853d-ca50f8fdf772",
     "showTitle": false,
     "tableResultSettingsMap": {},
     "title": ""
    }
   },
   "outputs": [
    {
     "output_type": "execute_result",
     "data": {
      "text/plain": [
       "ChatOpenAI(client=<openai.resources.chat.completions.completions.Completions object at 0x000001E5BC9A16A0>, async_client=<openai.resources.chat.completions.completions.AsyncCompletions object at 0x000001E5BC9A92B0>, root_client=<openai.OpenAI object at 0x000001E5BC783CB0>, root_async_client=<openai.AsyncOpenAI object at 0x000001E5BC9A17F0>, model_name='gpt-4o-mini', temperature=0.0, model_kwargs={}, openai_api_key=SecretStr('**********'))"
      ]
     },
     "execution_count": 29,
     "metadata": {},
     "output_type": "execute_result"
    }
   ],
   "source": [
    "chatgpt.invoke()"
   ]
  },
  {
   "cell_type": "code",
   "execution_count": 0,
   "metadata": {
    "application/vnd.databricks.v1+cell": {
     "cellMetadata": {},
     "inputWidgets": {},
     "nuid": "fa84fe35-0663-41e7-9c82-16952168f11f",
     "showTitle": false,
     "tableResultSettingsMap": {},
     "title": ""
    },
    "colab": {
     "base_uri": "https://localhost:8080/",
     "height": 46
    },
    "executionInfo": {
     "elapsed": 389,
     "status": "ok",
     "timestamp": 1734089675198,
     "user": {
      "displayName": "Dipanjan “DJ” Sarkar",
      "userId": "05135987707016476934"
     },
     "user_tz": -330
    },
    "id": "62hsCaJe4Kkt",
    "outputId": "cfca330a-23ed-462f-dd1b-6ecb89b02e60"
   },
   "outputs": [
    {
     "output_type": "display_data",
     "data": {
      "text/markdown": [
       "Sports"
      ],
      "text/plain": [
       "<IPython.core.display.Markdown object>"
      ]
     },
     "metadata": {},
     "output_type": "display_data"
    }
   ],
   "source": [
    "from IPython.display import display, Markdown\n",
    "\n",
    "prompt = \"\"\"Possible News Categories : Sports, Business, Entertainment, Technology\n",
    "\n",
    "            INPUT: Wimbledon 2023 Women’s Final. Marketa Vondrousova beats Ons Jabeur to win her maiden Grand Slam title\n",
    "            OUTPUT: Sports\n",
    "\n",
    "            INPUT: Kicking things off with the Galaxy Tab S9 FE Plus. It's going to be powered by the Exynos 1380 with 8GB of RAM, and pack a 12.4-inch display. The slate will measure 285.4 x 185.4 x 6.54 mm and feature dual speakers, a side-mounted fingerprint sensor. It will come in Grey, Light Green, Light Pink, and Silver color options.\n",
    "            OUTPUT: Technology\n",
    "\n",
    "            INPUT: The share of the cigarette business to ITC’s business in revenue terms has dropped from 47 per cent in FY13 to 37 per cent in FY23 on a larger revenue base. According to the company’s most recent annual report, the leadership position has been sustained “through its unwavering focus on nurturing a future-ready portfolio of world-class products anchored on its integrated seed to smoke value chain, superior consumer insights, robust innovation pipeline and world-class product development capabilities.”\n",
    "            OUTPUT: Business\n",
    "\n",
    "            INPUT: Arsenal finally completed the signing of Rice as they announced the player's arrival on Saturday. Right after completing his move, Rice revealed that he is a great admirer of Arteta and that the Spaniard's presence in the Arsenal dressing room is one of the main reasons why he decided to join the North London club.\n",
    "            OUTPUT:\n",
    "         \"\"\"\n",
    "\n",
    "\n",
    "response = chatgpt.invoke(prompt)\n",
    "display(Markdown(response.content))"
   ]
  },
  {
   "cell_type": "code",
   "execution_count": 0,
   "metadata": {
    "application/vnd.databricks.v1+cell": {
     "cellMetadata": {},
     "inputWidgets": {},
     "nuid": "9bfd7e28-99d0-4344-8ab1-4f970fbe863e",
     "showTitle": false,
     "tableResultSettingsMap": {},
     "title": ""
    }
   },
   "outputs": [
    {
     "output_type": "execute_result",
     "data": {
      "text/plain": [
       "langchain_openai.chat_models.base.ChatOpenAI"
      ]
     },
     "execution_count": 48,
     "metadata": {},
     "output_type": "execute_result"
    }
   ],
   "source": [
    "type(chatgpt)"
   ]
  },
  {
   "cell_type": "code",
   "execution_count": 0,
   "metadata": {
    "application/vnd.databricks.v1+cell": {
     "cellMetadata": {},
     "inputWidgets": {},
     "nuid": "166bb6f7-f788-4083-991f-074564ef0506",
     "showTitle": false,
     "tableResultSettingsMap": {},
     "title": ""
    }
   },
   "outputs": [
    {
     "output_type": "execute_result",
     "data": {
      "text/plain": [
       "AIMessage(content=\"J'aime la programmation.\", additional_kwargs={'refusal': None}, response_metadata={'token_usage': {'completion_tokens': 6, 'prompt_tokens': 28, 'total_tokens': 34, 'completion_tokens_details': {'accepted_prediction_tokens': 0, 'audio_tokens': 0, 'reasoning_tokens': 0, 'rejected_prediction_tokens': 0}, 'prompt_tokens_details': {'audio_tokens': 0, 'cached_tokens': 0}}, 'model_name': 'gpt-4o-mini-2024-07-18', 'system_fingerprint': 'fp_00428b782a', 'finish_reason': 'stop', 'logprobs': None}, id='run-a53f02fb-ee8e-4fc2-a9c9-f03f2732b818-0', usage_metadata={'input_tokens': 28, 'output_tokens': 6, 'total_tokens': 34, 'input_token_details': {'audio': 0, 'cache_read': 0}, 'output_token_details': {'audio': 0, 'reasoning': 0}})"
      ]
     },
     "execution_count": 56,
     "metadata": {},
     "output_type": "execute_result"
    }
   ],
   "source": [
    "messages =[\n",
    "    (\n",
    "        \"system\",\n",
    "        \"You are a helpful translator. Translate the user sentence to French.\",\n",
    "    ),\n",
    "    (\"human\", \"I love programming.\"),\n",
    "]\n",
    "chatgpt.invoke(messages)"
   ]
  },
  {
   "cell_type": "code",
   "execution_count": 0,
   "metadata": {
    "application/vnd.databricks.v1+cell": {
     "cellMetadata": {},
     "inputWidgets": {},
     "nuid": "4c799485-1830-4d49-8f19-7652a1b21c69",
     "showTitle": false,
     "tableResultSettingsMap": {},
     "title": ""
    }
   },
   "outputs": [
    {
     "output_type": "execute_result",
     "data": {
      "text/plain": [
       "str"
      ]
     },
     "execution_count": 43,
     "metadata": {},
     "output_type": "execute_result"
    }
   ],
   "source": [
    "type(prompt)"
   ]
  },
  {
   "cell_type": "code",
   "execution_count": 0,
   "metadata": {
    "application/vnd.databricks.v1+cell": {
     "cellMetadata": {},
     "inputWidgets": {},
     "nuid": "91eb46a8-0232-4f55-ac29-98321e14a207",
     "showTitle": false,
     "tableResultSettingsMap": {},
     "title": ""
    }
   },
   "outputs": [
    {
     "output_type": "display_data",
     "data": {
      "text/markdown": [
       "Sports"
      ],
      "text/plain": [
       "<IPython.core.display.Markdown object>"
      ]
     },
     "metadata": {},
     "output_type": "display_data"
    }
   ],
   "source": [
    "prompt1 = ChatPromptTemplate.from_template(prompt)\n",
    "\n",
    "llm_chain = (prompt1\n",
    "                |\n",
    "             chatgpt)\n",
    "response = llm_chain.invoke({})\n",
    "display(Markdown(response.content))"
   ]
  },
  {
   "cell_type": "code",
   "execution_count": 0,
   "metadata": {
    "application/vnd.databricks.v1+cell": {
     "cellMetadata": {},
     "inputWidgets": {},
     "nuid": "6559db09-5d37-4790-b405-6ba86e43bcf2",
     "showTitle": false,
     "tableResultSettingsMap": {},
     "title": ""
    }
   },
   "outputs": [
    {
     "output_type": "execute_result",
     "data": {
      "text/plain": [
       "langchain_core.runnables.base.RunnableSequence"
      ]
     },
     "execution_count": 55,
     "metadata": {},
     "output_type": "execute_result"
    }
   ],
   "source": [
    "type(llm_chain)"
   ]
  },
  {
   "cell_type": "code",
   "execution_count": 0,
   "metadata": {
    "application/vnd.databricks.v1+cell": {
     "cellMetadata": {},
     "inputWidgets": {},
     "nuid": "76e15ba5-8a40-430e-9738-9fc7fcafec56",
     "showTitle": false,
     "tableResultSettingsMap": {},
     "title": ""
    }
   },
   "outputs": [
    {
     "output_type": "execute_result",
     "data": {
      "text/plain": [
       "langchain_core.prompts.chat.ChatPromptTemplate"
      ]
     },
     "execution_count": 40,
     "metadata": {},
     "output_type": "execute_result"
    }
   ],
   "source": [
    "type(prompt)"
   ]
  },
  {
   "cell_type": "markdown",
   "metadata": {
    "application/vnd.databricks.v1+cell": {
     "cellMetadata": {},
     "inputWidgets": {},
     "nuid": "41d48d1f-3783-46d2-aa66-157f27b07251",
     "showTitle": false,
     "tableResultSettingsMap": {},
     "title": ""
    },
    "id": "uk0PjKKk3lqN"
   },
   "source": [
    "## Directional Stimulus Pattern"
   ]
  },
  {
   "cell_type": "code",
   "execution_count": 0,
   "metadata": {
    "application/vnd.databricks.v1+cell": {
     "cellMetadata": {},
     "inputWidgets": {},
     "nuid": "50ddce43-b698-4051-ada3-c3d30aa575bd",
     "showTitle": false,
     "tableResultSettingsMap": {},
     "title": ""
    },
    "executionInfo": {
     "elapsed": 2,
     "status": "ok",
     "timestamp": 1734089675198,
     "user": {
      "displayName": "Dipanjan “DJ” Sarkar",
      "userId": "05135987707016476934"
     },
     "user_tz": -330
    },
    "id": "DyTXxXVV5mzE"
   },
   "outputs": [],
   "source": [
    "ARTICLE = \"\"\"Generative artificial intelligence (also generative AI or GenAI[1]) is artificial intelligence capable of generating text, images, or other media, using generative models.[2][3][4] Generative AI models learn the patterns and structure of their input training data and then generate new data that has similar characteristics.[5][6]\n",
    "\n",
    "In the early 2020s, advances in transformer-based deep neural networks enabled a number of generative AI systems notable for accepting natural language prompts as input. These include large language model chatbots such as ChatGPT, Bing Chat, Bard, and LLaMA, and text-to-image artificial intelligence art systems such as Stable Diffusion, Midjourney, and DALL-E.[7][8][9]\n",
    "\n",
    "Generative AI has uses across a wide range of industries, including art, writing, script writing, software development, product design, healthcare, finance, gaming, marketing, and fashion.[10][11][12] Investment in generative AI surged during the early 2020s, with large companies such as Microsoft, Google, and Baidu as well as numerous smaller firms developing generative AI models.[2][13][14] However, there are also concerns about the potential misuse of generative AI, including cybercrime or creating fake news or deepfakes which can be used to deceive or manipulate people.[15]\n",
    "\n",
    "History\n",
    "Main article: History of artificial intelligence\n",
    "The academic discipline of artificial intelligence was founded at a research workshop at Dartmouth College in 1956, and has experienced several waves of advancement and optimism in the decades since.[16] Since its founding, researchers in the field have raised philosophical and ethical arguments about the nature of the human mind and the consequences of creating artificial beings with human-like intelligence; these issues have previously been explored by myth, fiction and philosophy since antiquity.[17] These concepts of automated art date back at least to the automata of ancient Greek civilization, where inventors such as Daedalus and Hero of Alexandria were described as having designed machines capable of writing text, generating sounds, and playing music.[18][19] The tradition of creative automatons has flourished throughout history, such as Maillardet's automaton, created in the early 1800s.[20]\n",
    "\n",
    "Since the founding of AI in the 1950s, artists and researchers have used artificial intelligence to create artistic works. By the early 1970s, Harold Cohen was creating and exhibiting generative AI works created by AARON, the computer program Cohen created to generate paintings.[21]\n",
    "\n",
    "Markov chains have long been used to model natural languages since their development by Russian mathematician Andrey Markov in the early 20th century. Markov published his first paper on the topic in 1906,[22][23][24] and analyzed the pattern of vowels and consonants in the novel Eugeny Onegin using Markov chains. Once a Markov chain is learned on a text corpus, it can then be used as a probabilistic text generator.[25][26]\n",
    "\n",
    "The field of machine learning often uses statistical models, including generative models, to model and predict data. Beginning in the late 2000s, the emergence of deep learning drove progress and research in image classification, speech recognition, natural language processing and other tasks. Neural networks in this era were typically trained as discriminative models, due to the difficulty of generative modeling.[27]\n",
    "\n",
    "In 2014, advancements such as the variational autoencoder and generative adversarial network produced the first practical deep neural networks capable of learning generative, rather than discriminative, models of complex data such as images. These deep generative models were the first able to output not only class labels for images, but to output entire images.\n",
    "\n",
    "In 2017, the Transformer network enabled advancements in generative models, leading to the first generative pre-trained transformer (GPT), known as GPT-1, in 2018.[28] This was followed in 2019 by GPT-2 which demonstrated the ability to generalize unsupervised to many different tasks as a Foundation model.[29]\n",
    "\n",
    "In 2021, the release of DALL-E, a transformer-based pixel generative model, followed by Midjourney and Stable Diffusion marked the emergence of practical high-quality artificial intelligence art from natural language prompts.\n",
    "\n",
    "In March 2023, GPT-4 was released. A team from Microsoft Research argued that \"it could reasonably be viewed as an early (yet still incomplete) version of an artificial general intelligence (AGI) system\".[30]. Other scholars have disputed that GPT-4 reaches this threshold, calling generative AI \"still far from reaching the benchmark of ‘general human intelligence’\" as of 2023.[31]\n",
    "\n",
    "Modalities\n",
    "A generative AI system is constructed by applying unsupervised or self-supervised machine learning to a data set. The capabilities of a generative AI system depend on the modality or type of the data set used.\n",
    "\n",
    "Generative AI can be either unimodal or multimodal; unimodal systems take only one type of input, whereas multimodal systems can take more than one type of input.[32] For example, one version of OpenAI's GPT-4 accepts both text and image inputs.[33]\n",
    "\n",
    "Text\n",
    "\n",
    "A user conversing with a Character.ai simulation of Ludwig Wittgenstein\n",
    "Generative AI systems trained on words or word tokens include GPT-3, LaMDA, LLaMA, BLOOM, GPT-4, and others (see List of large language models). They are capable of natural language processing, machine translation, and natural language generation and can be used as foundation models for other tasks.[34] Data sets include BookCorpus, Wikipedia, and others (see List of text corpora).\n",
    "\n",
    "Code\n",
    "In addition to natural language text, large language models can be trained on programming language text, allowing them to generate source code for new computer programs.[35] Examples include OpenAI Codex.\n",
    "\n",
    "Images\n",
    "See also: Artificial intelligence art\n",
    "\n",
    "Stable Diffusion, prompt a photograph of an astronaut riding a horse\n",
    "Producing high-quality visual art is a prominent application of generative AI.[36] Many such artistic works have received public awards and recognition.\n",
    "\n",
    "Generative AI systems trained on sets of images with text captions include Imagen, DALL-E, Midjourney, Adobe Firefly, Stable Diffusion and others (see Artificial intelligence art, Generative art, and Synthetic media). They are commonly used for text-to-image generation and neural style transfer.[37] Datasets include LAION-5B and others (See Datasets in computer vision).\n",
    "\n",
    "Music\n",
    "Duration: 16 seconds.0:16\n",
    "AI-generated music from the Riffusion Inference Server, prompted with bossa nova with electric guitar\n",
    "Generative AI systems such as MusicLM[38] and MusicGen[39] can be trained on the audio waveforms of recorded music along with text annotations, in order to generate new musical samples based on text descriptions such as a calming violin melody backed by a distorted guitar riff.\n",
    "\n",
    "Video\n",
    "Runway Gen2, prompt A golden retriever in a suit sitting at a podium giving a speech to the white house press corps\n",
    "Generative AI trained on annotated video can generate temporally-coherent video clips. Examples include Gen1 and Gen2 by RunwayML[40] and Make-A-Video by Meta Platforms.[41]\n",
    "\n",
    "Molecules\n",
    "Generative AI systems can be trained on sequences of amino acids or molecular representations such as SMILES representing DNA or proteins. These systems, such as AlphaFold, are used for protein structure prediction and drug discovery.[42] Datasets include various biological datasets.\n",
    "\n",
    "Robotics\n",
    "Generative AI can also be trained on the motions of a robotic system to generate new trajectories for motion planning or navigation. For example, UniPi from Google Research uses prompts like \"pick up blue bowl\" or \"wipe plate with yellow sponge\" to control movements of a robot arm.[43] Multimodal \"vision-language-action\" models such as Google's RT-2 can perform rudimentary reasoning in response to user prompts and visual input, such as picking up a toy dinosaur when given the prompt pick up the extinct animal at a table filled with toy animals and other objects.[44]\n",
    "\n",
    "Planning\n",
    "The terms generative AI planning or generative planning were used in the 1980s and 1990s to refer to AI planning systems, especially computer-aided process planning, used to generate sequences of actions to reach a specified goal.[45][46]\n",
    "\n",
    "Generative AI planning systems used symbolic AI methods such as state space search and constraint satisfaction and were a \"relatively mature\" technology by the early 1990s. They were used to generate crisis action plans for military use,[47] process plans for manufacturing[45] and decision plans such as in prototype autonomous spacecraft.[48]\n",
    "\n",
    "Software and hardware\n",
    "Generative AI models are used to power chatbot products such as ChatGPT, programming tools such as GitHub Copilot,[49] text-to-image products such as Midjourney, and text-to-video products such as Runway Gen-2.[50] Generative AI features have been integrated into a variety of existing commercially-available products such as Microsoft Office,[51] Google Photos,[52] and Adobe Photoshop.[53] Many generative AI models are also available as open-source software, including Stable Diffusion and the LLaMA[54] language model.\n",
    "\n",
    "Smaller generative AI models with up to a few billion parameters can run on smartphones, embedded devices, and personal computers. For example, LLaMA-7B (a version with 7 billion parameters) can run on a Raspberry Pi 4[55] and one version of Stable Diffusion can run on an iPhone 11.[56]\n",
    "\n",
    "Larger models with tens of billions of parameters can run on laptop or desktop computers. To achieve an acceptable speed, models of this size may require accelerators such as the GPU chips produced by Nvidia and AMD or the Neural Engine included in Apple silicon products. For example, the 65 billion parameter version of LLaMA can be configured to run on a desktop PC.[57]\n",
    "\n",
    "Language models with hundreds of billions of parameters, such as GPT-4 or PaLM, typically run on datacenter computers equipped with arrays of GPUs (such as Nvidia's H100) or AI accelerator chips (such as Google's TPU). These very large models are typically accessed as cloud services over the Internet.\n",
    "\n",
    "In 2022, the United States New Export Controls on Advanced Computing and Semiconductors to China imposed restrictions on exports to China of GPU and AI accelerator chips used for generative AI.[58] Chips such as the Nvidia A800[59] and the Biren Technology BR104[60] were developed to meet the requirements of the sanctions.\n",
    "\n",
    "There are free softwares on the market capable of recognising text generated by generative artificial intelligence (such as GPTZero), as well as images, audio or video coming from it.[61]\n",
    "\n",
    "Concerns\n",
    "See also: Ethics of artificial intelligence and Existential risk from artificial general intelligence\n",
    "The development of generative AI has raised concerns from governments, businesses, and individuals, resulting in protests, legal actions, calls to pause AI experiments, and actions by multiple governments. In a July 2023 briefing of the United Nations Security Council, Secretary-General António Guterres stated \"Generative AI has enormous potential for good and evil at scale\", that AI may \"turbocharge global development\" and contribute between $10 and $15 trillion to the global economy by 2030, but that its malicious use \"could cause horrific levels of death and destruction, widespread trauma, and deep psychological damage on an unimaginable scale\".[62]\n",
    "\n",
    "Job losses\n",
    "\n",
    "A picketer at the 2023 Writers Guild of America strike. While not a top priority, one of the WGA's 2023 requests was \"regulations around the use of (generative) AI\".[63]\n",
    "Main articles: Workplace impact of artificial intelligence and Technological unemployment\n",
    "From the early days of the development of AI, there have been arguments put forward by ELIZA creator Joseph Weizenbaum and others about whether tasks that can be done by computers actually should be done by them, given the difference between computers and humans, and between quantitative calculations and qualitative, value-based judgements.[64] In April 2023, it was reported that image generation AI has resulted in 70% of the jobs for video game illustrators in China being lost.[65][66] In July 2023, developments in generative AI contributed to the 2023 Hollywood labor disputes. Fran Drescher, president of the Screen Actors Guild, declared that \"artificial intelligence poses an existential threat to creative professions\" during the 2023 SAG-AFTRA strike.[67]\n",
    "\n",
    "Deepfakes\n",
    "Main article: Deepfake\n",
    "Deepfakes (a portmanteau of \"deep learning\" and \"fake\"[68]) are AI-generated media that take a person in an existing image or video and replace them with someone else's likeness using artificial neural networks.[69] Deepfakes have garnered widespread attention and concerns for their uses in deepfake celebrity pornographic videos, revenge porn, fake news, hoaxes, and financial fraud.[70][71][72][73] This has elicited responses from both industry and government to detect and limit their use.[74][75]\n",
    "\n",
    "Cybercrime\n",
    "Generative AI's ability to create realistic fake content has been exploited in numerous types of cybercrime, including phishing scams.[76] Deepfake video and audio have been used to create disinformation and fraud. Former Google fraud czar Shuman Ghosemajumder has predicted that while deepfake videos initially created a stir in the media, they would soon become commonplace, and as a result, more dangerous.[77] Cybercriminals have created large language models focused on fraud, including WormGPT and FraudGPT.[78]\n",
    "\n",
    "Misuse in journalism\n",
    "In January 2023, Futurism.com broke the story that CNET had been using an undisclosed internal AI tool to write at least 77 of its stories; after the news broke, CNET posted corrections to 41 of the stories.[79]\n",
    "\n",
    "In April 2023, German tabloid Die Aktuelle published a fake AI-generated interview with former racing driver Michael Schumacher, who had not made any public appearances since 2013 after sustaining a brain injury in a skiing accident. The story included two possible disclosures: the cover included the line \"deceptively real\", and the interview included an acknowledgement at the end that it was AI-generated. The editor-in-chief was fired shortly thereafter amid the controversy.[80]\n",
    "\n",
    "Regulation\n",
    "Main article: Regulation of artificial intelligence\n",
    "In the European Union, the proposed Artificial Intelligence Act includes requirements to disclose copyrighted material used to train generative AI systems, and to label any AI-generated output as such.[81]\n",
    "\n",
    "In the United States, a group of companies including OpenAI, Alphabet, and Meta signed a voluntary agreement with the White House in July 2023 to watermark AI-generated content.[82]\n",
    "\n",
    "In China, the Interim Measures for the Management of Generative AI Services introduced by the Cyberspace Administration of China regulates any public-facing generative AI. It includes requirements to watermark generated images or videos, regulations on training data and label quality, restrictions on personal data collection, and a guideline that generative AI must \"adhere to socialist core values\".[83][84]\n",
    "\"\"\""
   ]
  },
  {
   "cell_type": "code",
   "execution_count": 0,
   "metadata": {
    "application/vnd.databricks.v1+cell": {
     "cellMetadata": {},
     "inputWidgets": {},
     "nuid": "b25777c5-fd79-4813-9540-e840c9d47dd1",
     "showTitle": false,
     "tableResultSettingsMap": {},
     "title": ""
    },
    "colab": {
     "base_uri": "https://localhost:8080/",
     "height": 133
    },
    "executionInfo": {
     "elapsed": 2003,
     "status": "ok",
     "timestamp": 1734089677199,
     "user": {
      "displayName": "Dipanjan “DJ” Sarkar",
      "userId": "05135987707016476934"
     },
     "user_tz": -330
    },
    "id": "Wep8f6uW5l1Q",
    "outputId": "d8e4c56a-74aa-48d0-bc85-1d4b95022307"
   },
   "outputs": [
    {
     "output_type": "display_data",
     "data": {
      "text/markdown": [
       "```json\n",
       "{\n",
       "  \"summary\": {\n",
       "    \"history\": \"Generative AI has evolved since the 1956 founding of AI, with significant advancements in the early 2020s driven by transformer-based models, leading to systems like ChatGPT and DALL-E.\",\n",
       "    \"data_modalities\": \"Generative AI can process various data modalities, including text, images, music, and video, with systems being either unimodal or multimodal, such as GPT-4 which accepts both text and images.\",\n",
       "    \"tools\": \"Key tools in generative AI include large language models (e.g., GPT-3, Codex), text-to-image generators (e.g., DALL-E, Midjourney), and music generation systems (e.g., MusicLM).\",\n",
       "    \"applications\": \"Generative AI is applied across diverse industries such as art, healthcare, finance, and gaming, with significant investment from major tech companies.\",\n",
       "    \"concerns\": \"Concerns surrounding generative AI include potential misuse for cybercrime, deepfakes, job displacement, and the need for regulation to manage its ethical implications.\"\n",
       "  }\n",
       "}\n",
       "```"
      ],
      "text/plain": [
       "<IPython.core.display.Markdown object>"
      ]
     },
     "metadata": {},
     "output_type": "display_data"
    }
   ],
   "source": [
    "from IPython.display import display, Markdown\n",
    "\n",
    "prompt_inp = \"\"\"Summarize the following article in 5 lines based on the following hints and output this in following format\n",
    "                Hint: Generative AI history, data modalities, tools, applications, concerns\n",
    "\n",
    "                Article:\n",
    "                {article}\n",
    "                format::\n",
    "                {format}\n",
    "\n",
    "             \"\"\"\n",
    "\n",
    "prompt = ChatPromptTemplate.from_template(prompt_inp)\n",
    "\n",
    "llm_chain = (prompt\n",
    "                |\n",
    "             chatgpt)\n",
    "\n",
    "response = llm_chain.invoke({'article': ARTICLE,'format': \"json\"})\n",
    "display(Markdown(response.content))"
   ]
  },
  {
   "cell_type": "markdown",
   "metadata": {
    "application/vnd.databricks.v1+cell": {
     "cellMetadata": {},
     "inputWidgets": {},
     "nuid": "efb41f50-95ce-43d1-a82b-335a675ab70f",
     "showTitle": false,
     "tableResultSettingsMap": {},
     "title": ""
    },
    "id": "GaNQC4Xz7mPk"
   },
   "source": [
    "## Template Pattern"
   ]
  },
  {
   "cell_type": "code",
   "execution_count": 0,
   "metadata": {
    "application/vnd.databricks.v1+cell": {
     "cellMetadata": {},
     "inputWidgets": {},
     "nuid": "07de61df-49ab-42ff-b95c-d21023ce72e7",
     "showTitle": false,
     "tableResultSettingsMap": {},
     "title": ""
    },
    "colab": {
     "base_uri": "https://localhost:8080/",
     "height": 1000
    },
    "executionInfo": {
     "elapsed": 13864,
     "status": "ok",
     "timestamp": 1734089691061,
     "user": {
      "displayName": "Dipanjan “DJ” Sarkar",
      "userId": "05135987707016476934"
     },
     "user_tz": -330
    },
    "id": "PxXiKNnZ7ori",
    "outputId": "ab312eb7-e46c-4207-ad4d-9f48633a9540"
   },
   "outputs": [
    {
     "output_type": "display_data",
     "data": {
      "text/markdown": [
       "```json\n",
       "[\n",
       "    {\n",
       "        \"ACTIVITY\": \"Watch a tutorial on Generative Adversarial Networks (GANs)\",\n",
       "        \"TOPIC\": \"Generative Models\",\n",
       "        \"RESOURCE\": \"YouTube - 'Introduction to GANs'\",\n",
       "        \"DIFFICULTY SCALE 1-5\": 3,\n",
       "        \"NOTES\": \"Focus on understanding the basic architecture and training process.\"\n",
       "    },\n",
       "    {\n",
       "        \"ACTIVITY\": \"Read a research paper on the latest advancements in generative AI\",\n",
       "        \"TOPIC\": \"Research Insights\",\n",
       "        \"RESOURCE\": \"arXiv - 'Generative AI: A Survey'\",\n",
       "        \"DIFFICULTY SCALE 1-5\": 4,\n",
       "        \"NOTES\": \"Take notes on key findings and methodologies.\"\n",
       "    },\n",
       "    {\n",
       "        \"ACTIVITY\": \"Experiment with a pre-trained generative model\",\n",
       "        \"TOPIC\": \"Hands-on Practice\",\n",
       "        \"RESOURCE\": \"Hugging Face - 'Transformers Library'\",\n",
       "        \"DIFFICULTY SCALE 1-5\": 2,\n",
       "        \"NOTES\": \"Try generating text or images using available models.\"\n",
       "    },\n",
       "    {\n",
       "        \"ACTIVITY\": \"Join an online forum or community discussion\",\n",
       "        \"TOPIC\": \"Networking and Knowledge Sharing\",\n",
       "        \"RESOURCE\": \"Reddit - r/MachineLearning\",\n",
       "        \"DIFFICULTY SCALE 1-5\": 1,\n",
       "        \"NOTES\": \"Engage with others to share insights and ask questions.\"\n",
       "    },\n",
       "    {\n",
       "        \"ACTIVITY\": \"Complete an online course module on Variational Autoencoders (VAEs)\",\n",
       "        \"TOPIC\": \"Generative Models\",\n",
       "        \"RESOURCE\": \"Coursera - 'Deep Learning Specialization'\",\n",
       "        \"DIFFICULTY SCALE 1-5\": 3,\n",
       "        \"NOTES\": \"Focus on the differences between VAEs and GANs.\"\n",
       "    },\n",
       "    {\n",
       "        \"ACTIVITY\": \"Create a simple generative model from scratch\",\n",
       "        \"TOPIC\": \"Practical Implementation\",\n",
       "        \"RESOURCE\": \"GitHub - 'Simple GAN Implementation'\",\n",
       "        \"DIFFICULTY SCALE 1-5\": 4,\n",
       "        \"NOTES\": \"Use Python and TensorFlow or PyTorch.\"\n",
       "    },\n",
       "    {\n",
       "        \"ACTIVITY\": \"Attend a webinar on ethical considerations in generative AI\",\n",
       "        \"TOPIC\": \"Ethics in AI\",\n",
       "        \"RESOURCE\": \"Eventbrite - 'Ethics of Generative AI'\",\n",
       "        \"DIFFICULTY SCALE 1-5\": 2,\n",
       "        \"NOTES\": \"Prepare questions to ask the speakers.\"\n",
       "    },\n",
       "    {\n",
       "        \"ACTIVITY\": \"Follow a blog series on applications of generative AI\",\n",
       "        \"TOPIC\": \"Real-world Applications\",\n",
       "        \"RESOURCE\": \"Towards Data Science - 'Generative AI Applications'\",\n",
       "        \"DIFFICULTY SCALE 1-5\": 2,\n",
       "        \"NOTES\": \"Look for case studies and practical examples.\"\n",
       "    },\n",
       "    {\n",
       "        \"ACTIVITY\": \"Participate in a coding challenge focused on generative models\",\n",
       "        \"TOPIC\": \"Skill Development\",\n",
       "        \"RESOURCE\": \"Kaggle - 'Generative AI Challenge'\",\n",
       "        \"DIFFICULTY SCALE 1-5\": 5,\n",
       "        \"NOTES\": \"Collaborate with others and learn from their approaches.\"\n",
       "    },\n",
       "    {\n",
       "        \"ACTIVITY\": \"Listen to a podcast episode on the future of generative AI\",\n",
       "        \"TOPIC\": \"Trends and Predictions\",\n",
       "        \"RESOURCE\": \"AI Alignment Podcast - 'Generative AI and Society'\",\n",
       "        \"DIFFICULTY SCALE 1-5\": 1,\n",
       "        \"NOTES\": \"Reflect on the implications discussed in the episode.\"\n",
       "    }\n",
       "]\n",
       "```"
      ],
      "text/plain": [
       "<IPython.core.display.Markdown object>"
      ]
     },
     "metadata": {},
     "output_type": "display_data"
    }
   ],
   "source": [
    "from IPython.display import display, Markdown\n",
    "\n",
    "prompt = \"\"\"Create a random list of learning activities I can do today for learning Generative AI.\n",
    "            I am going to provide a template for your output .\n",
    "            Try to fit the output into the templates that I list.\n",
    "            Please preserve the formatting and overall template that I provide.\n",
    "\n",
    "            This is the template: ACTIVITY, TOPIC, RESOURCE, DIFFICULTY SCALE 1-5, NOTES\n",
    "            Return the response as JSON\n",
    "         \"\"\"\n",
    "\n",
    "response = chatgpt.invoke(prompt)\n",
    "display(Markdown(response.content))"
   ]
  },
  {
   "cell_type": "markdown",
   "metadata": {
    "application/vnd.databricks.v1+cell": {
     "cellMetadata": {},
     "inputWidgets": {},
     "nuid": "dc049e57-8d5f-4de4-8380-39bd91f147e6",
     "showTitle": false,
     "tableResultSettingsMap": {},
     "title": ""
    },
    "id": "L6HcSml18lAt"
   },
   "source": [
    "## Meta Language Pattern"
   ]
  },
  {
   "cell_type": "code",
   "execution_count": 0,
   "metadata": {
    "application/vnd.databricks.v1+cell": {
     "cellMetadata": {},
     "inputWidgets": {},
     "nuid": "d21c5cbe-fb21-4fe3-bddc-4020f7827f10",
     "showTitle": false,
     "tableResultSettingsMap": {},
     "title": ""
    },
    "colab": {
     "base_uri": "https://localhost:8080/",
     "height": 1000
    },
    "executionInfo": {
     "elapsed": 21295,
     "status": "ok",
     "timestamp": 1734089712354,
     "user": {
      "displayName": "Dipanjan “DJ” Sarkar",
      "userId": "05135987707016476934"
     },
     "user_tz": -330
    },
    "id": "KROqVz8M8lAt",
    "outputId": "2f9987d6-e1b4-454e-9048-c5517df4b728"
   },
   "outputs": [],
   "source": [
    "from IPython.display import display, Markdown\n",
    "\n",
    "prompt = \"\"\"Act as a project manager for a data science team in a tech company.\n",
    "            We will be using a special notation now to indicate the flow of a data science project.\n",
    "            I will provide you that notation.\n",
    "            Your task is to give a detailed plan for each step in the project as identified by the notation.\n",
    "\n",
    "            Let's take an example:\n",
    "\n",
    "            Project Name: Churn Analytics for a Telecom Company\n",
    "    \t    Dataset: Database with over 20000 customers data, has features including contract, payment method,\n",
    "                     paperless billing, monthly charges, total charges, gender, age range\n",
    "                     and of course churn (yes \\ no)\n",
    "            Project Flow: Business_Understanding,3 -> Data_Understanding,5 -> Data_Cleaning,7\n",
    "                          -> Data_Exploration,5 -> Data_Visualization,5 -> Machine_Learning,7\n",
    "                          -> Results_Evaluation,2 -> Business_Presentation,2\n",
    "\n",
    "            This indicates the project name, details about the dataset\n",
    "            and the project flow is in the form Step1,Days1 -> Step2,Days2\n",
    "            and so on where Step1 indicates what step in the data science project is going to be performed\n",
    "            and Days1 indicates the days allocated for that step.\n",
    "\n",
    "            You should list down a detailed set of tasks which can be done in each of these steps\n",
    "            based on the number of days provided. Like\n",
    "\n",
    "            Step 1: Business Understanding (3 days)\n",
    "                Day 1: <list of activities to do>\n",
    "                Day 2: <list of activities to do>\n",
    "                Day 3: <list of activities to do>\n",
    "\n",
    "            Step 2: Data Understanding (5 days)\n",
    "                Day 1: <list of activities to do>\n",
    "                Day 2: <list of activities to do>\n",
    "                Day 3: <list of activities to do>\n",
    "                Day 4: <list of activities to do>\n",
    "                Day 5: <list of activities to do>\n",
    "\n",
    "            and so on...\n",
    "         \"\"\"\n",
    "\n",
    "response = chatgpt.invoke(prompt)\n",
    "display(Markdown(response.content))"
   ]
  },
  {
   "cell_type": "code",
   "execution_count": 0,
   "metadata": {
    "application/vnd.databricks.v1+cell": {
     "cellMetadata": {},
     "inputWidgets": {},
     "nuid": "913e6d5d-bc8c-47e8-be29-32bf24e4c471",
     "showTitle": false,
     "tableResultSettingsMap": {},
     "title": ""
    },
    "executionInfo": {
     "elapsed": 3,
     "status": "ok",
     "timestamp": 1734089712354,
     "user": {
      "displayName": "Dipanjan “DJ” Sarkar",
      "userId": "05135987707016476934"
     },
     "user_tz": -330
    },
    "id": "zq5Q-2eM2bjH"
   },
   "outputs": [],
   "source": []
  }
 ],
 "metadata": {
  "application/vnd.databricks.v1+notebook": {
   "computePreferences": null,
   "dashboards": [],
   "environmentMetadata": null,
   "language": "python",
   "notebookMetadata": {},
   "notebookName": "M2_Exploring_Prompt_Engineering_Patterns",
   "widgets": {}
  },
  "colab": {
   "provenance": []
  },
  "kernelspec": {
   "display_name": ".venv",
   "language": "python",
   "name": "python3"
  },
  "language_info": {
   "name": "python"
  }
 },
 "nbformat": 4,
 "nbformat_minor": 0
}
