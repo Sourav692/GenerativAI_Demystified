{
 "cells": [
  {
   "cell_type": "markdown",
   "metadata": {
    "application/vnd.databricks.v1+cell": {
     "cellMetadata": {},
     "inputWidgets": {},
     "nuid": "23b4afa2-5f97-4ba0-adda-413e3a1d6913",
     "showTitle": false,
     "tableResultSettingsMap": {},
     "title": ""
    }
   },
   "source": [
    "# Document Loading"
   ]
  },
  {
   "cell_type": "markdown",
   "metadata": {
    "application/vnd.databricks.v1+cell": {
     "cellMetadata": {},
     "inputWidgets": {},
     "nuid": "d841cc75-622b-45c0-a9a5-1e79fcc2722d",
     "showTitle": false,
     "tableResultSettingsMap": {},
     "title": ""
    }
   },
   "source": [
    "## Note to students.\n",
    "During periods of high load you may find the notebook unresponsive. It may appear to execute a cell, update the completion number in brackets [#] at the left of the cell but you may find the cell has not executed. This is particularly obvious on print statements when there is no output. If this happens, restart the kernel using the command under the Kernel tab."
   ]
  },
  {
   "cell_type": "markdown",
   "metadata": {
    "application/vnd.databricks.v1+cell": {
     "cellMetadata": {},
     "inputWidgets": {},
     "nuid": "3203fc87-2505-4604-bf8c-2dc88628b1c3",
     "showTitle": false,
     "tableResultSettingsMap": {},
     "title": ""
    }
   },
   "source": [
    "## Retrieval augmented generation\n",
    "In retrieval augmented generation (RAG), an LLM retrieves contextual documents from an external dataset as part of its execution.\n",
    "\n",
    "This is useful if we want to ask question about specific documents (e.g., our PDFs, a set of videos, etc)."
   ]
  },
  {
   "cell_type": "code",
   "execution_count": 0,
   "metadata": {
    "application/vnd.databricks.v1+cell": {
     "cellMetadata": {},
     "inputWidgets": {},
     "nuid": "be8a5499-e184-436b-b184-4f08f49cac78",
     "showTitle": false,
     "tableResultSettingsMap": {},
     "title": ""
    }
   },
   "outputs": [
    {
     "output_type": "stream",
     "name": "stdout",
     "output_type": "stream",
     "text": [
      "Requirement already satisfied: langchain in c:\\users\\sourav banerjee\\anaconda3\\lib\\site-packages (0.1.14)\nRequirement already satisfied: tenacity<9.0.0,>=8.1.0 in c:\\users\\sourav banerjee\\anaconda3\\lib\\site-packages (from langchain) (8.2.3)\nRequirement already satisfied: jsonpatch<2.0,>=1.33 in c:\\users\\sourav banerjee\\anaconda3\\lib\\site-packages (from langchain) (1.33)\nRequirement already satisfied: aiohttp<4.0.0,>=3.8.3 in c:\\users\\sourav banerjee\\anaconda3\\lib\\site-packages (from langchain) (3.8.5)\nRequirement already satisfied: langsmith<0.2.0,>=0.1.17 in c:\\users\\sourav banerjee\\appdata\\roaming\\python\\python310\\site-packages (from langchain) (0.1.99)\nRequirement already satisfied: langchain-core<0.2.0,>=0.1.37 in c:\\users\\sourav banerjee\\anaconda3\\lib\\site-packages (from langchain) (0.1.52)\nRequirement already satisfied: async-timeout<5.0.0,>=4.0.0 in c:\\users\\sourav banerjee\\anaconda3\\lib\\site-packages (from langchain) (4.0.3)\nRequirement already satisfied: dataclasses-json<0.7,>=0.5.7 in c:\\users\\sourav banerjee\\anaconda3\\lib\\site-packages (from langchain) (0.5.14)\nRequirement already satisfied: langchain-community<0.1,>=0.0.30 in c:\\users\\sourav banerjee\\anaconda3\\lib\\site-packages (from langchain) (0.0.38)\nRequirement already satisfied: requests<3,>=2 in c:\\users\\sourav banerjee\\anaconda3\\lib\\site-packages (from langchain) (2.28.1)\nRequirement already satisfied: pydantic<3,>=1 in c:\\users\\sourav banerjee\\anaconda3\\lib\\site-packages (from langchain) (1.10.17)\nRequirement already satisfied: langchain-text-splitters<0.1,>=0.0.1 in c:\\users\\sourav banerjee\\anaconda3\\lib\\site-packages (from langchain) (0.0.2)\nRequirement already satisfied: numpy<2,>=1 in c:\\users\\sourav banerjee\\anaconda3\\lib\\site-packages (from langchain) (1.23.5)\nRequirement already satisfied: SQLAlchemy<3,>=1.4 in c:\\users\\sourav banerjee\\anaconda3\\lib\\site-packages (from langchain) (1.4.39)\nRequirement already satisfied: PyYAML>=5.3 in c:\\users\\sourav banerjee\\anaconda3\\lib\\site-packages (from langchain) (6.0)\nRequirement already satisfied: aiosignal>=1.1.2 in c:\\users\\sourav banerjee\\anaconda3\\lib\\site-packages (from aiohttp<4.0.0,>=3.8.3->langchain) (1.3.1)\nRequirement already satisfied: yarl<2.0,>=1.0 in c:\\users\\sourav banerjee\\anaconda3\\lib\\site-packages (from aiohttp<4.0.0,>=3.8.3->langchain) (1.9.2)\nRequirement already satisfied: charset-normalizer<4.0,>=2.0 in c:\\users\\sourav banerjee\\anaconda3\\lib\\site-packages (from aiohttp<4.0.0,>=3.8.3->langchain) (2.0.4)\nRequirement already satisfied: multidict<7.0,>=4.5 in c:\\users\\sourav banerjee\\anaconda3\\lib\\site-packages (from aiohttp<4.0.0,>=3.8.3->langchain) (6.0.4)\nRequirement already satisfied: frozenlist>=1.1.1 in c:\\users\\sourav banerjee\\anaconda3\\lib\\site-packages (from aiohttp<4.0.0,>=3.8.3->langchain) (1.4.0)\nRequirement already satisfied: attrs>=17.3.0 in c:\\users\\sourav banerjee\\anaconda3\\lib\\site-packages (from aiohttp<4.0.0,>=3.8.3->langchain) (23.2.0)\nRequirement already satisfied: marshmallow<4.0.0,>=3.18.0 in c:\\users\\sourav banerjee\\anaconda3\\lib\\site-packages (from dataclasses-json<0.7,>=0.5.7->langchain) (3.20.1)\nRequirement already satisfied: typing-inspect<1,>=0.4.0 in c:\\users\\sourav banerjee\\anaconda3\\lib\\site-packages (from dataclasses-json<0.7,>=0.5.7->langchain) (0.9.0)\nRequirement already satisfied: jsonpointer>=1.9 in c:\\users\\sourav banerjee\\anaconda3\\lib\\site-packages (from jsonpatch<2.0,>=1.33->langchain) (2.1)\nRequirement already satisfied: packaging<24.0,>=23.2 in c:\\users\\sourav banerjee\\anaconda3\\lib\\site-packages (from langchain-core<0.2.0,>=0.1.37->langchain) (23.2)\nRequirement already satisfied: orjson<4.0.0,>=3.9.14 in c:\\users\\sourav banerjee\\anaconda3\\lib\\site-packages (from langsmith<0.2.0,>=0.1.17->langchain) (3.10.7)\nRequirement already satisfied: typing-extensions>=4.2.0 in c:\\users\\sourav banerjee\\anaconda3\\lib\\site-packages (from pydantic<3,>=1->langchain) (4.12.2)\nRequirement already satisfied: certifi>=2017.4.17 in c:\\users\\sourav banerjee\\anaconda3\\lib\\site-packages (from requests<3,>=2->langchain) (2022.12.7)\nRequirement already satisfied: idna<4,>=2.5 in c:\\users\\sourav banerjee\\anaconda3\\lib\\site-packages (from requests<3,>=2->langchain) (3.4)\nRequirement already satisfied: urllib3<1.27,>=1.21.1 in c:\\users\\sourav banerjee\\anaconda3\\lib\\site-packages (from requests<3,>=2->langchain) (1.26.14)\nRequirement already satisfied: greenlet!=0.4.17 in c:\\users\\sourav banerjee\\anaconda3\\lib\\site-packages (from SQLAlchemy<3,>=1.4->langchain) (2.0.1)\nRequirement already satisfied: mypy-extensions>=0.3.0 in c:\\users\\sourav banerjee\\anaconda3\\lib\\site-packages (from typing-inspect<1,>=0.4.0->dataclasses-json<0.7,>=0.5.7->langchain) (0.4.3)\n"
     ]
    }
   ],
   "source": [
    "! pip install langchain"
   ]
  },
  {
   "cell_type": "code",
   "execution_count": 0,
   "metadata": {
    "application/vnd.databricks.v1+cell": {
     "cellMetadata": {},
     "inputWidgets": {},
     "nuid": "2a9fa8df-5606-4e2f-b64f-4c4ec8e0ec8a",
     "showTitle": false,
     "tableResultSettingsMap": {},
     "title": ""
    }
   },
   "outputs": [],
   "source": [
    "import os\n",
    "import openai\n",
    "import sys\n",
    "sys.path.append('../..')\n",
    "\n",
    "from dotenv import load_dotenv, find_dotenv\n",
    "_ = load_dotenv(find_dotenv()) # read local .env file\n",
    "\n",
    "openai.api_key  = os.environ['OPENAI_API_KEY']"
   ]
  },
  {
   "cell_type": "markdown",
   "metadata": {
    "application/vnd.databricks.v1+cell": {
     "cellMetadata": {},
     "inputWidgets": {},
     "nuid": "285029bf-9dea-44ab-9a2c-6aea904e49b0",
     "showTitle": false,
     "tableResultSettingsMap": {},
     "title": ""
    }
   },
   "source": [
    "## PDFs\n",
    "Let's load a PDF [transcript](https://see.stanford.edu/materials/aimlcs229/transcripts/MachineLearning-Lecture01.pdf) from Andrew Ng's famous CS229 course! These documents are the result of automated transcription so words and sentences are sometimes split unexpectedly."
   ]
  },
  {
   "cell_type": "code",
   "execution_count": 0,
   "metadata": {
    "application/vnd.databricks.v1+cell": {
     "cellMetadata": {},
     "inputWidgets": {},
     "nuid": "cb4b8077-bab9-4661-80f1-4d019f11cb1f",
     "showTitle": false,
     "tableResultSettingsMap": {},
     "title": ""
    }
   },
   "outputs": [],
   "source": [
    "# The course will show the pip installs you would need to install packages on your own machine.\n",
    "# These packages are already installed on this platform and should not be run again.\n",
    "# ! pip install pypdf "
   ]
  },
  {
   "cell_type": "code",
   "execution_count": 0,
   "metadata": {
    "application/vnd.databricks.v1+cell": {
     "cellMetadata": {},
     "inputWidgets": {},
     "nuid": "f53c4dfa-d317-4b6f-89d9-6d5e91df988c",
     "showTitle": false,
     "tableResultSettingsMap": {},
     "title": ""
    }
   },
   "outputs": [],
   "source": [
    "from langchain.document_loaders import PyPDFLoader\n",
    "loader = PyPDFLoader(\"docs/cs229_lectures/MachineLearning-Lecture01.pdf\")\n",
    "pages = loader.load()"
   ]
  },
  {
   "cell_type": "markdown",
   "metadata": {
    "application/vnd.databricks.v1+cell": {
     "cellMetadata": {},
     "inputWidgets": {},
     "nuid": "92e96997-e3a4-4305-8084-9a36e73967b7",
     "showTitle": false,
     "tableResultSettingsMap": {},
     "title": ""
    }
   },
   "source": [
    "Each page is a Document.\n",
    "\n",
    "A Document contains text (page_content) and metadata."
   ]
  },
  {
   "cell_type": "code",
   "execution_count": 0,
   "metadata": {
    "application/vnd.databricks.v1+cell": {
     "cellMetadata": {},
     "inputWidgets": {},
     "nuid": "eccf0ad2-0134-441b-a944-dc5741970f88",
     "showTitle": false,
     "tableResultSettingsMap": {},
     "title": ""
    }
   },
   "outputs": [
    {
     "output_type": "execute_result",
     "data": {
      "text/plain": [
       "22"
      ]
     },
     "execution_count": 6,
     "metadata": {},
     "output_type": "execute_result"
    }
   ],
   "source": [
    "len(pages)"
   ]
  },
  {
   "cell_type": "code",
   "execution_count": 0,
   "metadata": {
    "application/vnd.databricks.v1+cell": {
     "cellMetadata": {},
     "inputWidgets": {},
     "nuid": "8dc31252-e694-47c9-8b20-bc77fec61ec8",
     "showTitle": false,
     "tableResultSettingsMap": {},
     "title": ""
    }
   },
   "outputs": [],
   "source": [
    "page = pages[0]"
   ]
  },
  {
   "cell_type": "code",
   "execution_count": 0,
   "metadata": {
    "application/vnd.databricks.v1+cell": {
     "cellMetadata": {},
     "inputWidgets": {},
     "nuid": "dc983f6e-a6b2-4cf0-b9a1-303f49296f1e",
     "showTitle": false,
     "tableResultSettingsMap": {},
     "title": ""
    }
   },
   "outputs": [
    {
     "output_type": "stream",
     "name": "stdout",
     "output_type": "stream",
     "text": [
      "MachineLearning-Lecture01  \nInstructor (Andrew Ng):  Okay. Good morning. Welcome to CS229, the machine \nlearning class. So what I wanna do today is ju st spend a little time going over the logistics \nof the class, and then we'll start to  talk a bit about machine learning.  \nBy way of introduction, my name's  Andrew Ng and I'll be instru ctor for this class. And so \nI personally work in machine learning, and I' ve worked on it for about 15 years now, and \nI actually think that machine learning i\n"
     ]
    }
   ],
   "source": [
    "print(page.page_content[0:500])"
   ]
  },
  {
   "cell_type": "code",
   "execution_count": 0,
   "metadata": {
    "application/vnd.databricks.v1+cell": {
     "cellMetadata": {},
     "inputWidgets": {},
     "nuid": "4bd60790-c008-408e-a018-f1856773a51a",
     "showTitle": false,
     "tableResultSettingsMap": {},
     "title": ""
    }
   },
   "outputs": [
    {
     "output_type": "execute_result",
     "data": {
      "text/plain": [
       "{'source': 'docs/cs229_lectures/MachineLearning-Lecture01.pdf', 'page': 0}"
      ]
     },
     "execution_count": 8,
     "metadata": {},
     "output_type": "execute_result"
    }
   ],
   "source": [
    "page.metadata"
   ]
  },
  {
   "cell_type": "markdown",
   "metadata": {
    "application/vnd.databricks.v1+cell": {
     "cellMetadata": {},
     "inputWidgets": {},
     "nuid": "0ae554de-a549-4943-bbcd-05d82888cf13",
     "showTitle": false,
     "tableResultSettingsMap": {},
     "title": ""
    }
   },
   "source": [
    "## YouTube"
   ]
  },
  {
   "cell_type": "code",
   "execution_count": 0,
   "metadata": {
    "application/vnd.databricks.v1+cell": {
     "cellMetadata": {},
     "inputWidgets": {},
     "nuid": "e94f8adf-c769-421d-8e39-602227d7f3e0",
     "showTitle": false,
     "tableResultSettingsMap": {},
     "title": ""
    }
   },
   "outputs": [],
   "source": [
    "from langchain.document_loaders.generic import GenericLoader\n",
    "from langchain.document_loaders.parsers import OpenAIWhisperParser\n",
    "from langchain.document_loaders.blob_loaders.youtube_audio import YoutubeAudioLoader"
   ]
  },
  {
   "cell_type": "code",
   "execution_count": 0,
   "metadata": {
    "application/vnd.databricks.v1+cell": {
     "cellMetadata": {},
     "inputWidgets": {},
     "nuid": "93abbf7d-a24e-4776-98f7-16e8b7df3298",
     "showTitle": false,
     "tableResultSettingsMap": {},
     "title": ""
    }
   },
   "outputs": [
    {
     "output_type": "stream",
     "name": "stdout",
     "output_type": "stream",
     "text": [
      "Collecting yt_dlp\n  Downloading yt_dlp-2024.10.22-py3-none-any.whl (3.2 MB)\n     ---------------------------------------- 3.2/3.2 MB 14.4 MB/s eta 0:00:00\nCollecting brotli\n  Downloading Brotli-1.1.0-cp310-cp310-win_amd64.whl (357 kB)\n     ---------------------------------------- 357.3/357.3 kB ? eta 0:00:00\nCollecting requests<3,>=2.32.2\n  Downloading requests-2.32.3-py3-none-any.whl (64 kB)\n     ---------------------------------------- 64.9/64.9 kB ? eta 0:00:00\nCollecting websockets>=13.0\n  Downloading websockets-13.1-cp310-cp310-win_amd64.whl (159 kB)\n     ---------------------------------------- 159.1/159.1 kB ? eta 0:00:00\nRequirement already satisfied: certifi in c:\\users\\sourav banerjee\\anaconda3\\lib\\site-packages (from yt_dlp) (2022.12.7)\nCollecting urllib3<3,>=1.26.17\n  Downloading urllib3-2.2.3-py3-none-any.whl (126 kB)\n     ---------------------------------------- 126.3/126.3 kB ? eta 0:00:00\nCollecting mutagen\n  Downloading mutagen-1.47.0-py3-none-any.whl (194 kB)\n     ---------------------------------------- 194.4/194.4 kB ? eta 0:00:00\nCollecting pycryptodomex\n  Downloading pycryptodomex-3.21.0-cp36-abi3-win_amd64.whl (1.8 MB)\n     ---------------------------------------- 1.8/1.8 MB 58.3 MB/s eta 0:00:00\nRequirement already satisfied: charset-normalizer<4,>=2 in c:\\users\\sourav banerjee\\anaconda3\\lib\\site-packages (from requests<3,>=2.32.2->yt_dlp) (2.0.4)\nRequirement already satisfied: idna<4,>=2.5 in c:\\users\\sourav banerjee\\anaconda3\\lib\\site-packages (from requests<3,>=2.32.2->yt_dlp) (3.4)\nInstalling collected packages: brotli, websockets, urllib3, pycryptodomex, mutagen, requests, yt_dlp\n  Attempting uninstall: websockets\n    Found existing installation: websockets 12.0\n    Uninstalling websockets-12.0:\n      Successfully uninstalled websockets-12.0\n  Attempting uninstall: urllib3\n    Found existing installation: urllib3 1.26.14\n    Uninstalling urllib3-1.26.14:\n      Successfully uninstalled urllib3-1.26.14\n  Attempting uninstall: requests\n    Found existing installation: requests 2.28.1\n    Uninstalling requests-2.28.1:\n      Successfully uninstalled requests-2.28.1\nSuccessfully installed brotli-1.1.0 mutagen-1.47.0 pycryptodomex-3.21.0 requests-2.32.3 urllib3-2.2.3 websockets-13.1 yt_dlp-2024.10.22\n"
     ]
    },
    {
     "output_type": "stream",
     "name": "stderr",
     "output_type": "stream",
     "text": [
      "ERROR: pip's dependency resolver does not currently take into account all the packages that are installed. This behaviour is the source of the following dependency conflicts.\nconda-repo-cli 1.0.41 requires requests_mock, which is not installed.\ndatasets 2.16.1 requires dill<0.3.8,>=0.3.0, but you have dill 0.3.8 which is incompatible.\nconda-repo-cli 1.0.41 requires clyent==1.2.1, but you have clyent 1.2.2 which is incompatible.\nconda-repo-cli 1.0.41 requires nbformat==5.4.0, but you have nbformat 5.7.0 which is incompatible.\nconda-repo-cli 1.0.41 requires requests==2.28.1, but you have requests 2.32.3 which is incompatible.\nbotocore 1.34.37 requires urllib3<2.1,>=1.25.4; python_version >= \"3.10\", but you have urllib3 2.2.3 which is incompatible.\n"
     ]
    },
    {
     "output_type": "stream",
     "name": "stdout",
     "output_type": "stream",
     "text": [
      "Collecting pydub\n  Downloading pydub-0.25.1-py2.py3-none-any.whl (32 kB)\nInstalling collected packages: pydub\nSuccessfully installed pydub-0.25.1\n"
     ]
    }
   ],
   "source": [
    "! pip install yt_dlp\n",
    "! pip install pydub"
   ]
  },
  {
   "cell_type": "markdown",
   "metadata": {
    "application/vnd.databricks.v1+cell": {
     "cellMetadata": {},
     "inputWidgets": {},
     "nuid": "5e2b1974-1b94-4f65-89c0-b99b51d0b23c",
     "showTitle": false,
     "tableResultSettingsMap": {},
     "title": ""
    }
   },
   "source": [
    "**Note**: This can take several minutes to complete."
   ]
  },
  {
   "cell_type": "code",
   "execution_count": 0,
   "metadata": {
    "application/vnd.databricks.v1+cell": {
     "cellMetadata": {},
     "inputWidgets": {},
     "nuid": "b48ed553-3016-481e-abf5-a5c9a2c47c95",
     "showTitle": false,
     "tableResultSettingsMap": {},
     "title": ""
    }
   },
   "outputs": [
    {
     "output_type": "stream",
     "name": "stdout",
     "output_type": "stream",
     "text": [
      "[youtube] Extracting URL: https://www.youtube.com/watch?v=jGwO_UgTS7I\n[youtube] jGwO_UgTS7I: Downloading webpage\n[youtube] jGwO_UgTS7I: Downloading ios player API JSON\n[youtube] jGwO_UgTS7I: Downloading mweb player API JSON\n[youtube] jGwO_UgTS7I: Downloading player 4e23410d\n[youtube] jGwO_UgTS7I: Downloading m3u8 information\n[info] jGwO_UgTS7I: Downloading 1 format(s): 140\n[download] docs\\youtube\\Stanford CS229： Machine Learning Course, Lecture 1 - Andrew Ng (Autumn 2018).m4a has already been downloaded\n[download] 100% of   69.71MiB\n"
     ]
    },
    {
     "output_type": "stream",
     "name": "stderr",
     "output_type": "stream",
     "text": [
      "ERROR: Postprocessing: ffprobe and ffmpeg not found. Please install or provide the path using --ffmpeg-location\n"
     ]
    },
    {
     "output_type": "display_data",
     "data": {
      "text/plain": [
       "\u001B[1;31m---------------------------------------------------------------------------\u001B[0m\n",
       "\u001B[1;31mPostProcessingError\u001B[0m                       Traceback (most recent call last)\n",
       "File \u001B[1;32mc:\\Users\\Sourav Banerjee\\anaconda3\\lib\\site-packages\\yt_dlp\\YoutubeDL.py:3560\u001B[0m, in \u001B[0;36mYoutubeDL.process_info\u001B[1;34m(self, info_dict)\u001B[0m\n",
       "\u001B[0;32m   3559\u001B[0m \u001B[38;5;28;01mtry\u001B[39;00m:\n",
       "\u001B[1;32m-> 3560\u001B[0m     replace_info_dict(\u001B[38;5;28;43mself\u001B[39;49m\u001B[38;5;241;43m.\u001B[39;49m\u001B[43mpost_process\u001B[49m\u001B[43m(\u001B[49m\u001B[43mdl_filename\u001B[49m\u001B[43m,\u001B[49m\u001B[43m \u001B[49m\u001B[43minfo_dict\u001B[49m\u001B[43m,\u001B[49m\u001B[43m \u001B[49m\u001B[43mfiles_to_move\u001B[49m\u001B[43m)\u001B[49m)\n",
       "\u001B[0;32m   3561\u001B[0m \u001B[38;5;28;01mexcept\u001B[39;00m PostProcessingError \u001B[38;5;28;01mas\u001B[39;00m err:\n",
       "\n",
       "File \u001B[1;32mc:\\Users\\Sourav Banerjee\\anaconda3\\lib\\site-packages\\yt_dlp\\YoutubeDL.py:3744\u001B[0m, in \u001B[0;36mYoutubeDL.post_process\u001B[1;34m(self, filename, info, files_to_move)\u001B[0m\n",
       "\u001B[0;32m   3743\u001B[0m info[\u001B[38;5;124m'\u001B[39m\u001B[38;5;124m__files_to_move\u001B[39m\u001B[38;5;124m'\u001B[39m] \u001B[38;5;241m=\u001B[39m files_to_move \u001B[38;5;129;01mor\u001B[39;00m {}\n",
       "\u001B[1;32m-> 3744\u001B[0m info \u001B[38;5;241m=\u001B[39m \u001B[38;5;28;43mself\u001B[39;49m\u001B[38;5;241;43m.\u001B[39;49m\u001B[43mrun_all_pps\u001B[49m\u001B[43m(\u001B[49m\u001B[38;5;124;43m'\u001B[39;49m\u001B[38;5;124;43mpost_process\u001B[39;49m\u001B[38;5;124;43m'\u001B[39;49m\u001B[43m,\u001B[49m\u001B[43m \u001B[49m\u001B[43minfo\u001B[49m\u001B[43m,\u001B[49m\u001B[43m \u001B[49m\u001B[43madditional_pps\u001B[49m\u001B[38;5;241;43m=\u001B[39;49m\u001B[43minfo\u001B[49m\u001B[38;5;241;43m.\u001B[39;49m\u001B[43mget\u001B[49m\u001B[43m(\u001B[49m\u001B[38;5;124;43m'\u001B[39;49m\u001B[38;5;124;43m__postprocessors\u001B[39;49m\u001B[38;5;124;43m'\u001B[39;49m\u001B[43m)\u001B[49m\u001B[43m)\u001B[49m\n",
       "\u001B[0;32m   3745\u001B[0m info \u001B[38;5;241m=\u001B[39m \u001B[38;5;28mself\u001B[39m\u001B[38;5;241m.\u001B[39mrun_pp(MoveFilesAfterDownloadPP(\u001B[38;5;28mself\u001B[39m), info)\n",
       "\n",
       "File \u001B[1;32mc:\\Users\\Sourav Banerjee\\anaconda3\\lib\\site-packages\\yt_dlp\\YoutubeDL.py:3726\u001B[0m, in \u001B[0;36mYoutubeDL.run_all_pps\u001B[1;34m(self, key, info, additional_pps)\u001B[0m\n",
       "\u001B[0;32m   3725\u001B[0m \u001B[38;5;28;01mfor\u001B[39;00m pp \u001B[38;5;129;01min\u001B[39;00m (additional_pps \u001B[38;5;129;01mor\u001B[39;00m []) \u001B[38;5;241m+\u001B[39m \u001B[38;5;28mself\u001B[39m\u001B[38;5;241m.\u001B[39m_pps[key]:\n",
       "\u001B[1;32m-> 3726\u001B[0m     info \u001B[38;5;241m=\u001B[39m \u001B[38;5;28;43mself\u001B[39;49m\u001B[38;5;241;43m.\u001B[39;49m\u001B[43mrun_pp\u001B[49m\u001B[43m(\u001B[49m\u001B[43mpp\u001B[49m\u001B[43m,\u001B[49m\u001B[43m \u001B[49m\u001B[43minfo\u001B[49m\u001B[43m)\u001B[49m\n",
       "\u001B[0;32m   3727\u001B[0m \u001B[38;5;28;01mreturn\u001B[39;00m info\n",
       "\n",
       "File \u001B[1;32mc:\\Users\\Sourav Banerjee\\anaconda3\\lib\\site-packages\\yt_dlp\\YoutubeDL.py:3704\u001B[0m, in \u001B[0;36mYoutubeDL.run_pp\u001B[1;34m(self, pp, infodict)\u001B[0m\n",
       "\u001B[0;32m   3703\u001B[0m \u001B[38;5;28;01mtry\u001B[39;00m:\n",
       "\u001B[1;32m-> 3704\u001B[0m     files_to_delete, infodict \u001B[38;5;241m=\u001B[39m \u001B[43mpp\u001B[49m\u001B[38;5;241;43m.\u001B[39;49m\u001B[43mrun\u001B[49m\u001B[43m(\u001B[49m\u001B[43minfodict\u001B[49m\u001B[43m)\u001B[49m\n",
       "\u001B[0;32m   3705\u001B[0m \u001B[38;5;28;01mexcept\u001B[39;00m PostProcessingError \u001B[38;5;28;01mas\u001B[39;00m e:\n",
       "\u001B[0;32m   3706\u001B[0m     \u001B[38;5;66;03m# Must be True and not 'only_download'\u001B[39;00m\n",
       "\n",
       "File \u001B[1;32mc:\\Users\\Sourav Banerjee\\anaconda3\\lib\\site-packages\\yt_dlp\\postprocessor\\common.py:23\u001B[0m, in \u001B[0;36mPostProcessorMetaClass.run_wrapper.<locals>.run\u001B[1;34m(self, info, *args, **kwargs)\u001B[0m\n",
       "\u001B[0;32m     22\u001B[0m \u001B[38;5;28mself\u001B[39m\u001B[38;5;241m.\u001B[39m_hook_progress({\u001B[38;5;124m'\u001B[39m\u001B[38;5;124mstatus\u001B[39m\u001B[38;5;124m'\u001B[39m: \u001B[38;5;124m'\u001B[39m\u001B[38;5;124mstarted\u001B[39m\u001B[38;5;124m'\u001B[39m}, info_copy)\n",
       "\u001B[1;32m---> 23\u001B[0m ret \u001B[38;5;241m=\u001B[39m func(\u001B[38;5;28mself\u001B[39m, info, \u001B[38;5;241m*\u001B[39margs, \u001B[38;5;241m*\u001B[39m\u001B[38;5;241m*\u001B[39mkwargs)\n",
       "\u001B[0;32m     24\u001B[0m \u001B[38;5;28;01mif\u001B[39;00m ret \u001B[38;5;129;01mis\u001B[39;00m \u001B[38;5;129;01mnot\u001B[39;00m \u001B[38;5;28;01mNone\u001B[39;00m:\n",
       "\n",
       "File \u001B[1;32mc:\\Users\\Sourav Banerjee\\anaconda3\\lib\\site-packages\\yt_dlp\\postprocessor\\common.py:128\u001B[0m, in \u001B[0;36mPostProcessor._restrict_to.<locals>.decorator.<locals>.wrapper\u001B[1;34m(self, info)\u001B[0m\n",
       "\u001B[0;32m    127\u001B[0m \u001B[38;5;28;01mif\u001B[39;00m allowed[format_type]:\n",
       "\u001B[1;32m--> 128\u001B[0m     \u001B[38;5;28;01mreturn\u001B[39;00m \u001B[43mfunc\u001B[49m\u001B[43m(\u001B[49m\u001B[38;5;28;43mself\u001B[39;49m\u001B[43m,\u001B[49m\u001B[43m \u001B[49m\u001B[43minfo\u001B[49m\u001B[43m)\u001B[49m\n",
       "\u001B[0;32m    129\u001B[0m \u001B[38;5;28;01melse\u001B[39;00m:\n",
       "\n",
       "File \u001B[1;32mc:\\Users\\Sourav Banerjee\\anaconda3\\lib\\site-packages\\yt_dlp\\postprocessor\\ffmpeg.py:494\u001B[0m, in \u001B[0;36mFFmpegExtractAudioPP.run\u001B[1;34m(self, information)\u001B[0m\n",
       "\u001B[0;32m    492\u001B[0m     \u001B[38;5;28;01mreturn\u001B[39;00m [], information\n",
       "\u001B[1;32m--> 494\u001B[0m filecodec \u001B[38;5;241m=\u001B[39m \u001B[38;5;28;43mself\u001B[39;49m\u001B[38;5;241;43m.\u001B[39;49m\u001B[43mget_audio_codec\u001B[49m\u001B[43m(\u001B[49m\u001B[43mpath\u001B[49m\u001B[43m)\u001B[49m\n",
       "\u001B[0;32m    495\u001B[0m \u001B[38;5;28;01mif\u001B[39;00m filecodec \u001B[38;5;129;01mis\u001B[39;00m \u001B[38;5;28;01mNone\u001B[39;00m:\n",
       "\n",
       "File \u001B[1;32mc:\\Users\\Sourav Banerjee\\anaconda3\\lib\\site-packages\\yt_dlp\\postprocessor\\ffmpeg.py:242\u001B[0m, in \u001B[0;36mFFmpegPostProcessor.get_audio_codec\u001B[1;34m(self, path)\u001B[0m\n",
       "\u001B[0;32m    241\u001B[0m \u001B[38;5;28;01mif\u001B[39;00m \u001B[38;5;129;01mnot\u001B[39;00m \u001B[38;5;28mself\u001B[39m\u001B[38;5;241m.\u001B[39mprobe_available \u001B[38;5;129;01mand\u001B[39;00m \u001B[38;5;129;01mnot\u001B[39;00m \u001B[38;5;28mself\u001B[39m\u001B[38;5;241m.\u001B[39mavailable:\n",
       "\u001B[1;32m--> 242\u001B[0m     \u001B[38;5;28;01mraise\u001B[39;00m PostProcessingError(\u001B[38;5;124m'\u001B[39m\u001B[38;5;124mffprobe and ffmpeg not found. Please install or provide the path using --ffmpeg-location\u001B[39m\u001B[38;5;124m'\u001B[39m)\n",
       "\u001B[0;32m    243\u001B[0m \u001B[38;5;28;01mtry\u001B[39;00m:\n",
       "\n",
       "\u001B[1;31mPostProcessingError\u001B[0m: ffprobe and ffmpeg not found. Please install or provide the path using --ffmpeg-location\n",
       "\n",
       "During handling of the above exception, another exception occurred:\n",
       "\n",
       "\u001B[1;31mDownloadError\u001B[0m                             Traceback (most recent call last)\n",
       "Cell \u001B[1;32mIn[12], line 7\u001B[0m\n",
       "\u001B[0;32m      2\u001B[0m save_dir\u001B[38;5;241m=\u001B[39m\u001B[38;5;124m\"\u001B[39m\u001B[38;5;124mdocs/youtube/\u001B[39m\u001B[38;5;124m\"\u001B[39m\n",
       "\u001B[0;32m      3\u001B[0m loader \u001B[38;5;241m=\u001B[39m GenericLoader(\n",
       "\u001B[0;32m      4\u001B[0m     YoutubeAudioLoader([url],save_dir),\n",
       "\u001B[0;32m      5\u001B[0m     OpenAIWhisperParser()\n",
       "\u001B[0;32m      6\u001B[0m )\n",
       "\u001B[1;32m----> 7\u001B[0m docs \u001B[38;5;241m=\u001B[39m \u001B[43mloader\u001B[49m\u001B[38;5;241;43m.\u001B[39;49m\u001B[43mload\u001B[49m\u001B[43m(\u001B[49m\u001B[43m)\u001B[49m\n",
       "\n",
       "File \u001B[1;32mc:\\Users\\Sourav Banerjee\\anaconda3\\lib\\site-packages\\langchain_core\\document_loaders\\base.py:29\u001B[0m, in \u001B[0;36mBaseLoader.load\u001B[1;34m(self)\u001B[0m\n",
       "\u001B[0;32m     27\u001B[0m \u001B[38;5;28;01mdef\u001B[39;00m \u001B[38;5;21mload\u001B[39m(\u001B[38;5;28mself\u001B[39m) \u001B[38;5;241m-\u001B[39m\u001B[38;5;241m>\u001B[39m List[Document]:\n",
       "\u001B[0;32m     28\u001B[0m \u001B[38;5;250m    \u001B[39m\u001B[38;5;124;03m\"\"\"Load data into Document objects.\"\"\"\u001B[39;00m\n",
       "\u001B[1;32m---> 29\u001B[0m     \u001B[38;5;28;01mreturn\u001B[39;00m \u001B[38;5;28;43mlist\u001B[39;49m\u001B[43m(\u001B[49m\u001B[38;5;28;43mself\u001B[39;49m\u001B[38;5;241;43m.\u001B[39;49m\u001B[43mlazy_load\u001B[49m\u001B[43m(\u001B[49m\u001B[43m)\u001B[49m\u001B[43m)\u001B[49m\n",
       "\n",
       "File \u001B[1;32mc:\\Users\\Sourav Banerjee\\anaconda3\\lib\\site-packages\\langchain_community\\document_loaders\\generic.py:115\u001B[0m, in \u001B[0;36mGenericLoader.lazy_load\u001B[1;34m(self)\u001B[0m\n",
       "\u001B[0;32m    111\u001B[0m \u001B[38;5;28;01mdef\u001B[39;00m \u001B[38;5;21mlazy_load\u001B[39m(\n",
       "\u001B[0;32m    112\u001B[0m     \u001B[38;5;28mself\u001B[39m,\n",
       "\u001B[0;32m    113\u001B[0m ) \u001B[38;5;241m-\u001B[39m\u001B[38;5;241m>\u001B[39m Iterator[Document]:\n",
       "\u001B[0;32m    114\u001B[0m \u001B[38;5;250m    \u001B[39m\u001B[38;5;124;03m\"\"\"Load documents lazily. Use this when working at a large scale.\"\"\"\u001B[39;00m\n",
       "\u001B[1;32m--> 115\u001B[0m     \u001B[38;5;28;01mfor\u001B[39;00m blob \u001B[38;5;129;01min\u001B[39;00m \u001B[38;5;28mself\u001B[39m\u001B[38;5;241m.\u001B[39mblob_loader\u001B[38;5;241m.\u001B[39myield_blobs():  \u001B[38;5;66;03m# type: ignore[attr-defined]\u001B[39;00m\n",
       "\u001B[0;32m    116\u001B[0m         \u001B[38;5;28;01myield from\u001B[39;00m \u001B[38;5;28mself\u001B[39m\u001B[38;5;241m.\u001B[39mblob_parser\u001B[38;5;241m.\u001B[39mlazy_parse(blob)\n",
       "\n",
       "File \u001B[1;32mc:\\Users\\Sourav Banerjee\\anaconda3\\lib\\site-packages\\langchain_community\\document_loaders\\blob_loaders\\youtube_audio.py:45\u001B[0m, in \u001B[0;36mYoutubeAudioLoader.yield_blobs\u001B[1;34m(self)\u001B[0m\n",
       "\u001B[0;32m     42\u001B[0m \u001B[38;5;28;01mfor\u001B[39;00m url \u001B[38;5;129;01min\u001B[39;00m \u001B[38;5;28mself\u001B[39m\u001B[38;5;241m.\u001B[39murls:\n",
       "\u001B[0;32m     43\u001B[0m     \u001B[38;5;66;03m# Download file\u001B[39;00m\n",
       "\u001B[0;32m     44\u001B[0m     \u001B[38;5;28;01mwith\u001B[39;00m yt_dlp\u001B[38;5;241m.\u001B[39mYoutubeDL(ydl_opts) \u001B[38;5;28;01mas\u001B[39;00m ydl:\n",
       "\u001B[1;32m---> 45\u001B[0m         \u001B[43mydl\u001B[49m\u001B[38;5;241;43m.\u001B[39;49m\u001B[43mdownload\u001B[49m\u001B[43m(\u001B[49m\u001B[43murl\u001B[49m\u001B[43m)\u001B[49m\n",
       "\u001B[0;32m     47\u001B[0m \u001B[38;5;66;03m# Yield the written blobs\u001B[39;00m\n",
       "\u001B[0;32m     48\u001B[0m loader \u001B[38;5;241m=\u001B[39m FileSystemBlobLoader(\u001B[38;5;28mself\u001B[39m\u001B[38;5;241m.\u001B[39msave_dir, glob\u001B[38;5;241m=\u001B[39m\u001B[38;5;124m\"\u001B[39m\u001B[38;5;124m*.m4a\u001B[39m\u001B[38;5;124m\"\u001B[39m)\n",
       "\n",
       "File \u001B[1;32mc:\\Users\\Sourav Banerjee\\anaconda3\\lib\\site-packages\\yt_dlp\\YoutubeDL.py:3608\u001B[0m, in \u001B[0;36mYoutubeDL.download\u001B[1;34m(self, url_list)\u001B[0m\n",
       "\u001B[0;32m   3605\u001B[0m     \u001B[38;5;28;01mraise\u001B[39;00m SameFileError(outtmpl)\n",
       "\u001B[0;32m   3607\u001B[0m \u001B[38;5;28;01mfor\u001B[39;00m url \u001B[38;5;129;01min\u001B[39;00m url_list:\n",
       "\u001B[1;32m-> 3608\u001B[0m     \u001B[38;5;28;43mself\u001B[39;49m\u001B[38;5;241;43m.\u001B[39;49m\u001B[43m__download_wrapper\u001B[49m\u001B[43m(\u001B[49m\u001B[38;5;28;43mself\u001B[39;49m\u001B[38;5;241;43m.\u001B[39;49m\u001B[43mextract_info\u001B[49m\u001B[43m)\u001B[49m\u001B[43m(\u001B[49m\n",
       "\u001B[0;32m   3609\u001B[0m \u001B[43m        \u001B[49m\u001B[43murl\u001B[49m\u001B[43m,\u001B[49m\u001B[43m \u001B[49m\u001B[43mforce_generic_extractor\u001B[49m\u001B[38;5;241;43m=\u001B[39;49m\u001B[38;5;28;43mself\u001B[39;49m\u001B[38;5;241;43m.\u001B[39;49m\u001B[43mparams\u001B[49m\u001B[38;5;241;43m.\u001B[39;49m\u001B[43mget\u001B[49m\u001B[43m(\u001B[49m\u001B[38;5;124;43m'\u001B[39;49m\u001B[38;5;124;43mforce_generic_extractor\u001B[39;49m\u001B[38;5;124;43m'\u001B[39;49m\u001B[43m,\u001B[49m\u001B[43m \u001B[49m\u001B[38;5;28;43;01mFalse\u001B[39;49;00m\u001B[43m)\u001B[49m\u001B[43m)\u001B[49m\n",
       "\u001B[0;32m   3611\u001B[0m \u001B[38;5;28;01mreturn\u001B[39;00m \u001B[38;5;28mself\u001B[39m\u001B[38;5;241m.\u001B[39m_download_retcode\n",
       "\n",
       "File \u001B[1;32mc:\\Users\\Sourav Banerjee\\anaconda3\\lib\\site-packages\\yt_dlp\\YoutubeDL.py:3581\u001B[0m, in \u001B[0;36mYoutubeDL.__download_wrapper.<locals>.wrapper\u001B[1;34m(*args, **kwargs)\u001B[0m\n",
       "\u001B[0;32m   3578\u001B[0m \u001B[38;5;129m@functools\u001B[39m\u001B[38;5;241m.\u001B[39mwraps(func)\n",
       "\u001B[0;32m   3579\u001B[0m \u001B[38;5;28;01mdef\u001B[39;00m \u001B[38;5;21mwrapper\u001B[39m(\u001B[38;5;241m*\u001B[39margs, \u001B[38;5;241m*\u001B[39m\u001B[38;5;241m*\u001B[39mkwargs):\n",
       "\u001B[0;32m   3580\u001B[0m     \u001B[38;5;28;01mtry\u001B[39;00m:\n",
       "\u001B[1;32m-> 3581\u001B[0m         res \u001B[38;5;241m=\u001B[39m func(\u001B[38;5;241m*\u001B[39margs, \u001B[38;5;241m*\u001B[39m\u001B[38;5;241m*\u001B[39mkwargs)\n",
       "\u001B[0;32m   3582\u001B[0m     \u001B[38;5;28;01mexcept\u001B[39;00m CookieLoadError:\n",
       "\u001B[0;32m   3583\u001B[0m         \u001B[38;5;28;01mraise\u001B[39;00m\n",
       "\n",
       "File \u001B[1;32mc:\\Users\\Sourav Banerjee\\anaconda3\\lib\\site-packages\\yt_dlp\\YoutubeDL.py:1614\u001B[0m, in \u001B[0;36mYoutubeDL.extract_info\u001B[1;34m(self, url, download, ie_key, extra_info, process, force_generic_extractor)\u001B[0m\n",
       "\u001B[0;32m   1612\u001B[0m             \u001B[38;5;28;01mraise\u001B[39;00m ExistingVideoReached\n",
       "\u001B[0;32m   1613\u001B[0m         \u001B[38;5;28;01mbreak\u001B[39;00m\n",
       "\u001B[1;32m-> 1614\u001B[0m     \u001B[38;5;28;01mreturn\u001B[39;00m \u001B[38;5;28;43mself\u001B[39;49m\u001B[38;5;241;43m.\u001B[39;49m\u001B[43m__extract_info\u001B[49m\u001B[43m(\u001B[49m\u001B[43murl\u001B[49m\u001B[43m,\u001B[49m\u001B[43m \u001B[49m\u001B[38;5;28;43mself\u001B[39;49m\u001B[38;5;241;43m.\u001B[39;49m\u001B[43mget_info_extractor\u001B[49m\u001B[43m(\u001B[49m\u001B[43mkey\u001B[49m\u001B[43m)\u001B[49m\u001B[43m,\u001B[49m\u001B[43m \u001B[49m\u001B[43mdownload\u001B[49m\u001B[43m,\u001B[49m\u001B[43m \u001B[49m\u001B[43mextra_info\u001B[49m\u001B[43m,\u001B[49m\u001B[43m \u001B[49m\u001B[43mprocess\u001B[49m\u001B[43m)\u001B[49m\n",
       "\u001B[0;32m   1615\u001B[0m \u001B[38;5;28;01melse\u001B[39;00m:\n",
       "\u001B[0;32m   1616\u001B[0m     extractors_restricted \u001B[38;5;241m=\u001B[39m \u001B[38;5;28mself\u001B[39m\u001B[38;5;241m.\u001B[39mparams\u001B[38;5;241m.\u001B[39mget(\u001B[38;5;124m'\u001B[39m\u001B[38;5;124mallowed_extractors\u001B[39m\u001B[38;5;124m'\u001B[39m) \u001B[38;5;129;01mnot\u001B[39;00m \u001B[38;5;129;01min\u001B[39;00m (\u001B[38;5;28;01mNone\u001B[39;00m, [\u001B[38;5;124m'\u001B[39m\u001B[38;5;124mdefault\u001B[39m\u001B[38;5;124m'\u001B[39m])\n",
       "\n",
       "File \u001B[1;32mc:\\Users\\Sourav Banerjee\\anaconda3\\lib\\site-packages\\yt_dlp\\YoutubeDL.py:1625\u001B[0m, in \u001B[0;36mYoutubeDL._handle_extraction_exceptions.<locals>.wrapper\u001B[1;34m(self, *args, **kwargs)\u001B[0m\n",
       "\u001B[0;32m   1623\u001B[0m \u001B[38;5;28;01mwhile\u001B[39;00m \u001B[38;5;28;01mTrue\u001B[39;00m:\n",
       "\u001B[0;32m   1624\u001B[0m     \u001B[38;5;28;01mtry\u001B[39;00m:\n",
       "\u001B[1;32m-> 1625\u001B[0m         \u001B[38;5;28;01mreturn\u001B[39;00m func(\u001B[38;5;28mself\u001B[39m, \u001B[38;5;241m*\u001B[39margs, \u001B[38;5;241m*\u001B[39m\u001B[38;5;241m*\u001B[39mkwargs)\n",
       "\u001B[0;32m   1626\u001B[0m     \u001B[38;5;28;01mexcept\u001B[39;00m (CookieLoadError, DownloadCancelled, LazyList\u001B[38;5;241m.\u001B[39mIndexError, PagedList\u001B[38;5;241m.\u001B[39mIndexError):\n",
       "\u001B[0;32m   1627\u001B[0m         \u001B[38;5;28;01mraise\u001B[39;00m\n",
       "\n",
       "File \u001B[1;32mc:\\Users\\Sourav Banerjee\\anaconda3\\lib\\site-packages\\yt_dlp\\YoutubeDL.py:1781\u001B[0m, in \u001B[0;36mYoutubeDL.__extract_info\u001B[1;34m(self, url, ie, download, extra_info, process)\u001B[0m\n",
       "\u001B[0;32m   1779\u001B[0m \u001B[38;5;28;01mif\u001B[39;00m process:\n",
       "\u001B[0;32m   1780\u001B[0m     \u001B[38;5;28mself\u001B[39m\u001B[38;5;241m.\u001B[39m_wait_for_video(ie_result)\n",
       "\u001B[1;32m-> 1781\u001B[0m     \u001B[38;5;28;01mreturn\u001B[39;00m \u001B[38;5;28;43mself\u001B[39;49m\u001B[38;5;241;43m.\u001B[39;49m\u001B[43mprocess_ie_result\u001B[49m\u001B[43m(\u001B[49m\u001B[43mie_result\u001B[49m\u001B[43m,\u001B[49m\u001B[43m \u001B[49m\u001B[43mdownload\u001B[49m\u001B[43m,\u001B[49m\u001B[43m \u001B[49m\u001B[43mextra_info\u001B[49m\u001B[43m)\u001B[49m\n",
       "\u001B[0;32m   1782\u001B[0m \u001B[38;5;28;01melse\u001B[39;00m:\n",
       "\u001B[0;32m   1783\u001B[0m     \u001B[38;5;28;01mreturn\u001B[39;00m ie_result\n",
       "\n",
       "File \u001B[1;32mc:\\Users\\Sourav Banerjee\\anaconda3\\lib\\site-packages\\yt_dlp\\YoutubeDL.py:1840\u001B[0m, in \u001B[0;36mYoutubeDL.process_ie_result\u001B[1;34m(self, ie_result, download, extra_info)\u001B[0m\n",
       "\u001B[0;32m   1838\u001B[0m \u001B[38;5;28;01mif\u001B[39;00m result_type \u001B[38;5;241m==\u001B[39m \u001B[38;5;124m'\u001B[39m\u001B[38;5;124mvideo\u001B[39m\u001B[38;5;124m'\u001B[39m:\n",
       "\u001B[0;32m   1839\u001B[0m     \u001B[38;5;28mself\u001B[39m\u001B[38;5;241m.\u001B[39madd_extra_info(ie_result, extra_info)\n",
       "\u001B[1;32m-> 1840\u001B[0m     ie_result \u001B[38;5;241m=\u001B[39m \u001B[38;5;28;43mself\u001B[39;49m\u001B[38;5;241;43m.\u001B[39;49m\u001B[43mprocess_video_result\u001B[49m\u001B[43m(\u001B[49m\u001B[43mie_result\u001B[49m\u001B[43m,\u001B[49m\u001B[43m \u001B[49m\u001B[43mdownload\u001B[49m\u001B[38;5;241;43m=\u001B[39;49m\u001B[43mdownload\u001B[49m\u001B[43m)\u001B[49m\n",
       "\u001B[0;32m   1841\u001B[0m     \u001B[38;5;28mself\u001B[39m\u001B[38;5;241m.\u001B[39m_raise_pending_errors(ie_result)\n",
       "\u001B[0;32m   1842\u001B[0m     additional_urls \u001B[38;5;241m=\u001B[39m (ie_result \u001B[38;5;129;01mor\u001B[39;00m {})\u001B[38;5;241m.\u001B[39mget(\u001B[38;5;124m'\u001B[39m\u001B[38;5;124madditional_urls\u001B[39m\u001B[38;5;124m'\u001B[39m)\n",
       "\n",
       "File \u001B[1;32mc:\\Users\\Sourav Banerjee\\anaconda3\\lib\\site-packages\\yt_dlp\\YoutubeDL.py:3014\u001B[0m, in \u001B[0;36mYoutubeDL.process_video_result\u001B[1;34m(self, info_dict, download)\u001B[0m\n",
       "\u001B[0;32m   3012\u001B[0m downloaded_formats\u001B[38;5;241m.\u001B[39mappend(new_info)\n",
       "\u001B[0;32m   3013\u001B[0m \u001B[38;5;28;01mtry\u001B[39;00m:\n",
       "\u001B[1;32m-> 3014\u001B[0m     \u001B[38;5;28;43mself\u001B[39;49m\u001B[38;5;241;43m.\u001B[39;49m\u001B[43mprocess_info\u001B[49m\u001B[43m(\u001B[49m\u001B[43mnew_info\u001B[49m\u001B[43m)\u001B[49m\n",
       "\u001B[0;32m   3015\u001B[0m \u001B[38;5;28;01mexcept\u001B[39;00m MaxDownloadsReached:\n",
       "\u001B[0;32m   3016\u001B[0m     max_downloads_reached \u001B[38;5;241m=\u001B[39m \u001B[38;5;28;01mTrue\u001B[39;00m\n",
       "\n",
       "File \u001B[1;32mc:\\Users\\Sourav Banerjee\\anaconda3\\lib\\site-packages\\yt_dlp\\YoutubeDL.py:178\u001B[0m, in \u001B[0;36m_catch_unsafe_extension_error.<locals>.wrapper\u001B[1;34m(self, *args, **kwargs)\u001B[0m\n",
       "\u001B[0;32m    175\u001B[0m \u001B[38;5;129m@functools\u001B[39m\u001B[38;5;241m.\u001B[39mwraps(func)\n",
       "\u001B[0;32m    176\u001B[0m \u001B[38;5;28;01mdef\u001B[39;00m \u001B[38;5;21mwrapper\u001B[39m(\u001B[38;5;28mself\u001B[39m, \u001B[38;5;241m*\u001B[39margs, \u001B[38;5;241m*\u001B[39m\u001B[38;5;241m*\u001B[39mkwargs):\n",
       "\u001B[0;32m    177\u001B[0m     \u001B[38;5;28;01mtry\u001B[39;00m:\n",
       "\u001B[1;32m--> 178\u001B[0m         \u001B[38;5;28;01mreturn\u001B[39;00m func(\u001B[38;5;28mself\u001B[39m, \u001B[38;5;241m*\u001B[39margs, \u001B[38;5;241m*\u001B[39m\u001B[38;5;241m*\u001B[39mkwargs)\n",
       "\u001B[0;32m    179\u001B[0m     \u001B[38;5;28;01mexcept\u001B[39;00m _UnsafeExtensionError \u001B[38;5;28;01mas\u001B[39;00m error:\n",
       "\u001B[0;32m    180\u001B[0m         \u001B[38;5;28mself\u001B[39m\u001B[38;5;241m.\u001B[39mreport_error(\n",
       "\u001B[0;32m    181\u001B[0m             \u001B[38;5;124mf\u001B[39m\u001B[38;5;124m'\u001B[39m\u001B[38;5;124mThe extracted extension (\u001B[39m\u001B[38;5;132;01m{\u001B[39;00merror\u001B[38;5;241m.\u001B[39mextension\u001B[38;5;132;01m!r}\u001B[39;00m\u001B[38;5;124m) is unusual \u001B[39m\u001B[38;5;124m'\u001B[39m\n",
       "\u001B[0;32m    182\u001B[0m             \u001B[38;5;124m'\u001B[39m\u001B[38;5;124mand will be skipped for safety reasons. \u001B[39m\u001B[38;5;124m'\u001B[39m\n",
       "\u001B[0;32m    183\u001B[0m             \u001B[38;5;124mf\u001B[39m\u001B[38;5;124m'\u001B[39m\u001B[38;5;124mIf you believe this is an error\u001B[39m\u001B[38;5;132;01m{\u001B[39;00mbug_reports_message(\u001B[38;5;124m\"\u001B[39m\u001B[38;5;124m,\u001B[39m\u001B[38;5;124m\"\u001B[39m)\u001B[38;5;132;01m}\u001B[39;00m\u001B[38;5;124m'\u001B[39m)\n",
       "\n",
       "File \u001B[1;32mc:\\Users\\Sourav Banerjee\\anaconda3\\lib\\site-packages\\yt_dlp\\YoutubeDL.py:3562\u001B[0m, in \u001B[0;36mYoutubeDL.process_info\u001B[1;34m(self, info_dict)\u001B[0m\n",
       "\u001B[0;32m   3560\u001B[0m     replace_info_dict(\u001B[38;5;28mself\u001B[39m\u001B[38;5;241m.\u001B[39mpost_process(dl_filename, info_dict, files_to_move))\n",
       "\u001B[0;32m   3561\u001B[0m \u001B[38;5;28;01mexcept\u001B[39;00m PostProcessingError \u001B[38;5;28;01mas\u001B[39;00m err:\n",
       "\u001B[1;32m-> 3562\u001B[0m     \u001B[38;5;28;43mself\u001B[39;49m\u001B[38;5;241;43m.\u001B[39;49m\u001B[43mreport_error\u001B[49m\u001B[43m(\u001B[49m\u001B[38;5;124;43mf\u001B[39;49m\u001B[38;5;124;43m'\u001B[39;49m\u001B[38;5;124;43mPostprocessing: \u001B[39;49m\u001B[38;5;132;43;01m{\u001B[39;49;00m\u001B[43merr\u001B[49m\u001B[38;5;132;43;01m}\u001B[39;49;00m\u001B[38;5;124;43m'\u001B[39;49m\u001B[43m)\u001B[49m\n",
       "\u001B[0;32m   3563\u001B[0m     \u001B[38;5;28;01mreturn\u001B[39;00m\n",
       "\u001B[0;32m   3564\u001B[0m \u001B[38;5;28;01mtry\u001B[39;00m:\n",
       "\n",
       "File \u001B[1;32mc:\\Users\\Sourav Banerjee\\anaconda3\\lib\\site-packages\\yt_dlp\\YoutubeDL.py:1091\u001B[0m, in \u001B[0;36mYoutubeDL.report_error\u001B[1;34m(self, message, *args, **kwargs)\u001B[0m\n",
       "\u001B[0;32m   1086\u001B[0m \u001B[38;5;28;01mdef\u001B[39;00m \u001B[38;5;21mreport_error\u001B[39m(\u001B[38;5;28mself\u001B[39m, message, \u001B[38;5;241m*\u001B[39margs, \u001B[38;5;241m*\u001B[39m\u001B[38;5;241m*\u001B[39mkwargs):\n",
       "\u001B[0;32m   1087\u001B[0m \u001B[38;5;250m    \u001B[39m\u001B[38;5;124;03m\"\"\"\u001B[39;00m\n",
       "\u001B[0;32m   1088\u001B[0m \u001B[38;5;124;03m    Do the same as trouble, but prefixes the message with 'ERROR:', colored\u001B[39;00m\n",
       "\u001B[0;32m   1089\u001B[0m \u001B[38;5;124;03m    in red if stderr is a tty file.\u001B[39;00m\n",
       "\u001B[0;32m   1090\u001B[0m \u001B[38;5;124;03m    \"\"\"\u001B[39;00m\n",
       "\u001B[1;32m-> 1091\u001B[0m     \u001B[38;5;28mself\u001B[39m\u001B[38;5;241m.\u001B[39mtrouble(\u001B[38;5;124mf\u001B[39m\u001B[38;5;124m'\u001B[39m\u001B[38;5;132;01m{\u001B[39;00m\u001B[38;5;28mself\u001B[39m\u001B[38;5;241m.\u001B[39m_format_err(\u001B[38;5;124m\"\u001B[39m\u001B[38;5;124mERROR:\u001B[39m\u001B[38;5;124m\"\u001B[39m,\u001B[38;5;250m \u001B[39m\u001B[38;5;28mself\u001B[39m\u001B[38;5;241m.\u001B[39mStyles\u001B[38;5;241m.\u001B[39mERROR)\u001B[38;5;132;01m}\u001B[39;00m\u001B[38;5;124m \u001B[39m\u001B[38;5;132;01m{\u001B[39;00mmessage\u001B[38;5;132;01m}\u001B[39;00m\u001B[38;5;124m'\u001B[39m, \u001B[38;5;241m*\u001B[39margs, \u001B[38;5;241m*\u001B[39m\u001B[38;5;241m*\u001B[39mkwargs)\n",
       "\n",
       "File \u001B[1;32mc:\\Users\\Sourav Banerjee\\anaconda3\\lib\\site-packages\\yt_dlp\\YoutubeDL.py:1030\u001B[0m, in \u001B[0;36mYoutubeDL.trouble\u001B[1;34m(self, message, tb, is_error)\u001B[0m\n",
       "\u001B[0;32m   1028\u001B[0m     \u001B[38;5;28;01melse\u001B[39;00m:\n",
       "\u001B[0;32m   1029\u001B[0m         exc_info \u001B[38;5;241m=\u001B[39m sys\u001B[38;5;241m.\u001B[39mexc_info()\n",
       "\u001B[1;32m-> 1030\u001B[0m     \u001B[38;5;28;01mraise\u001B[39;00m DownloadError(message, exc_info)\n",
       "\u001B[0;32m   1031\u001B[0m \u001B[38;5;28mself\u001B[39m\u001B[38;5;241m.\u001B[39m_download_retcode \u001B[38;5;241m=\u001B[39m \u001B[38;5;241m1\u001B[39m\n",
       "\n",
       "\u001B[1;31mDownloadError\u001B[0m: ERROR: Postprocessing: ffprobe and ffmpeg not found. Please install or provide the path using --ffmpeg-location"
      ]
     },
     "metadata": {
      "application/vnd.databricks.v1+output": {
       "arguments": {},
       "data": "\u001B[1;31m---------------------------------------------------------------------------\u001B[0m\n\u001B[1;31mPostProcessingError\u001B[0m                       Traceback (most recent call last)\nFile \u001B[1;32mc:\\Users\\Sourav Banerjee\\anaconda3\\lib\\site-packages\\yt_dlp\\YoutubeDL.py:3560\u001B[0m, in \u001B[0;36mYoutubeDL.process_info\u001B[1;34m(self, info_dict)\u001B[0m\n\u001B[0;32m   3559\u001B[0m \u001B[38;5;28;01mtry\u001B[39;00m:\n\u001B[1;32m-> 3560\u001B[0m     replace_info_dict(\u001B[38;5;28;43mself\u001B[39;49m\u001B[38;5;241;43m.\u001B[39;49m\u001B[43mpost_process\u001B[49m\u001B[43m(\u001B[49m\u001B[43mdl_filename\u001B[49m\u001B[43m,\u001B[49m\u001B[43m \u001B[49m\u001B[43minfo_dict\u001B[49m\u001B[43m,\u001B[49m\u001B[43m \u001B[49m\u001B[43mfiles_to_move\u001B[49m\u001B[43m)\u001B[49m)\n\u001B[0;32m   3561\u001B[0m \u001B[38;5;28;01mexcept\u001B[39;00m PostProcessingError \u001B[38;5;28;01mas\u001B[39;00m err:\n\nFile \u001B[1;32mc:\\Users\\Sourav Banerjee\\anaconda3\\lib\\site-packages\\yt_dlp\\YoutubeDL.py:3744\u001B[0m, in \u001B[0;36mYoutubeDL.post_process\u001B[1;34m(self, filename, info, files_to_move)\u001B[0m\n\u001B[0;32m   3743\u001B[0m info[\u001B[38;5;124m'\u001B[39m\u001B[38;5;124m__files_to_move\u001B[39m\u001B[38;5;124m'\u001B[39m] \u001B[38;5;241m=\u001B[39m files_to_move \u001B[38;5;129;01mor\u001B[39;00m {}\n\u001B[1;32m-> 3744\u001B[0m info \u001B[38;5;241m=\u001B[39m \u001B[38;5;28;43mself\u001B[39;49m\u001B[38;5;241;43m.\u001B[39;49m\u001B[43mrun_all_pps\u001B[49m\u001B[43m(\u001B[49m\u001B[38;5;124;43m'\u001B[39;49m\u001B[38;5;124;43mpost_process\u001B[39;49m\u001B[38;5;124;43m'\u001B[39;49m\u001B[43m,\u001B[49m\u001B[43m \u001B[49m\u001B[43minfo\u001B[49m\u001B[43m,\u001B[49m\u001B[43m \u001B[49m\u001B[43madditional_pps\u001B[49m\u001B[38;5;241;43m=\u001B[39;49m\u001B[43minfo\u001B[49m\u001B[38;5;241;43m.\u001B[39;49m\u001B[43mget\u001B[49m\u001B[43m(\u001B[49m\u001B[38;5;124;43m'\u001B[39;49m\u001B[38;5;124;43m__postprocessors\u001B[39;49m\u001B[38;5;124;43m'\u001B[39;49m\u001B[43m)\u001B[49m\u001B[43m)\u001B[49m\n\u001B[0;32m   3745\u001B[0m info \u001B[38;5;241m=\u001B[39m \u001B[38;5;28mself\u001B[39m\u001B[38;5;241m.\u001B[39mrun_pp(MoveFilesAfterDownloadPP(\u001B[38;5;28mself\u001B[39m), info)\n\nFile \u001B[1;32mc:\\Users\\Sourav Banerjee\\anaconda3\\lib\\site-packages\\yt_dlp\\YoutubeDL.py:3726\u001B[0m, in \u001B[0;36mYoutubeDL.run_all_pps\u001B[1;34m(self, key, info, additional_pps)\u001B[0m\n\u001B[0;32m   3725\u001B[0m \u001B[38;5;28;01mfor\u001B[39;00m pp \u001B[38;5;129;01min\u001B[39;00m (additional_pps \u001B[38;5;129;01mor\u001B[39;00m []) \u001B[38;5;241m+\u001B[39m \u001B[38;5;28mself\u001B[39m\u001B[38;5;241m.\u001B[39m_pps[key]:\n\u001B[1;32m-> 3726\u001B[0m     info \u001B[38;5;241m=\u001B[39m \u001B[38;5;28;43mself\u001B[39;49m\u001B[38;5;241;43m.\u001B[39;49m\u001B[43mrun_pp\u001B[49m\u001B[43m(\u001B[49m\u001B[43mpp\u001B[49m\u001B[43m,\u001B[49m\u001B[43m \u001B[49m\u001B[43minfo\u001B[49m\u001B[43m)\u001B[49m\n\u001B[0;32m   3727\u001B[0m \u001B[38;5;28;01mreturn\u001B[39;00m info\n\nFile \u001B[1;32mc:\\Users\\Sourav Banerjee\\anaconda3\\lib\\site-packages\\yt_dlp\\YoutubeDL.py:3704\u001B[0m, in \u001B[0;36mYoutubeDL.run_pp\u001B[1;34m(self, pp, infodict)\u001B[0m\n\u001B[0;32m   3703\u001B[0m \u001B[38;5;28;01mtry\u001B[39;00m:\n\u001B[1;32m-> 3704\u001B[0m     files_to_delete, infodict \u001B[38;5;241m=\u001B[39m \u001B[43mpp\u001B[49m\u001B[38;5;241;43m.\u001B[39;49m\u001B[43mrun\u001B[49m\u001B[43m(\u001B[49m\u001B[43minfodict\u001B[49m\u001B[43m)\u001B[49m\n\u001B[0;32m   3705\u001B[0m \u001B[38;5;28;01mexcept\u001B[39;00m PostProcessingError \u001B[38;5;28;01mas\u001B[39;00m e:\n\u001B[0;32m   3706\u001B[0m     \u001B[38;5;66;03m# Must be True and not 'only_download'\u001B[39;00m\n\nFile \u001B[1;32mc:\\Users\\Sourav Banerjee\\anaconda3\\lib\\site-packages\\yt_dlp\\postprocessor\\common.py:23\u001B[0m, in \u001B[0;36mPostProcessorMetaClass.run_wrapper.<locals>.run\u001B[1;34m(self, info, *args, **kwargs)\u001B[0m\n\u001B[0;32m     22\u001B[0m \u001B[38;5;28mself\u001B[39m\u001B[38;5;241m.\u001B[39m_hook_progress({\u001B[38;5;124m'\u001B[39m\u001B[38;5;124mstatus\u001B[39m\u001B[38;5;124m'\u001B[39m: \u001B[38;5;124m'\u001B[39m\u001B[38;5;124mstarted\u001B[39m\u001B[38;5;124m'\u001B[39m}, info_copy)\n\u001B[1;32m---> 23\u001B[0m ret \u001B[38;5;241m=\u001B[39m func(\u001B[38;5;28mself\u001B[39m, info, \u001B[38;5;241m*\u001B[39margs, \u001B[38;5;241m*\u001B[39m\u001B[38;5;241m*\u001B[39mkwargs)\n\u001B[0;32m     24\u001B[0m \u001B[38;5;28;01mif\u001B[39;00m ret \u001B[38;5;129;01mis\u001B[39;00m \u001B[38;5;129;01mnot\u001B[39;00m \u001B[38;5;28;01mNone\u001B[39;00m:\n\nFile \u001B[1;32mc:\\Users\\Sourav Banerjee\\anaconda3\\lib\\site-packages\\yt_dlp\\postprocessor\\common.py:128\u001B[0m, in \u001B[0;36mPostProcessor._restrict_to.<locals>.decorator.<locals>.wrapper\u001B[1;34m(self, info)\u001B[0m\n\u001B[0;32m    127\u001B[0m \u001B[38;5;28;01mif\u001B[39;00m allowed[format_type]:\n\u001B[1;32m--> 128\u001B[0m     \u001B[38;5;28;01mreturn\u001B[39;00m \u001B[43mfunc\u001B[49m\u001B[43m(\u001B[49m\u001B[38;5;28;43mself\u001B[39;49m\u001B[43m,\u001B[49m\u001B[43m \u001B[49m\u001B[43minfo\u001B[49m\u001B[43m)\u001B[49m\n\u001B[0;32m    129\u001B[0m \u001B[38;5;28;01melse\u001B[39;00m:\n\nFile \u001B[1;32mc:\\Users\\Sourav Banerjee\\anaconda3\\lib\\site-packages\\yt_dlp\\postprocessor\\ffmpeg.py:494\u001B[0m, in \u001B[0;36mFFmpegExtractAudioPP.run\u001B[1;34m(self, information)\u001B[0m\n\u001B[0;32m    492\u001B[0m     \u001B[38;5;28;01mreturn\u001B[39;00m [], information\n\u001B[1;32m--> 494\u001B[0m filecodec \u001B[38;5;241m=\u001B[39m \u001B[38;5;28;43mself\u001B[39;49m\u001B[38;5;241;43m.\u001B[39;49m\u001B[43mget_audio_codec\u001B[49m\u001B[43m(\u001B[49m\u001B[43mpath\u001B[49m\u001B[43m)\u001B[49m\n\u001B[0;32m    495\u001B[0m \u001B[38;5;28;01mif\u001B[39;00m filecodec \u001B[38;5;129;01mis\u001B[39;00m \u001B[38;5;28;01mNone\u001B[39;00m:\n\nFile \u001B[1;32mc:\\Users\\Sourav Banerjee\\anaconda3\\lib\\site-packages\\yt_dlp\\postprocessor\\ffmpeg.py:242\u001B[0m, in \u001B[0;36mFFmpegPostProcessor.get_audio_codec\u001B[1;34m(self, path)\u001B[0m\n\u001B[0;32m    241\u001B[0m \u001B[38;5;28;01mif\u001B[39;00m \u001B[38;5;129;01mnot\u001B[39;00m \u001B[38;5;28mself\u001B[39m\u001B[38;5;241m.\u001B[39mprobe_available \u001B[38;5;129;01mand\u001B[39;00m \u001B[38;5;129;01mnot\u001B[39;00m \u001B[38;5;28mself\u001B[39m\u001B[38;5;241m.\u001B[39mavailable:\n\u001B[1;32m--> 242\u001B[0m     \u001B[38;5;28;01mraise\u001B[39;00m PostProcessingError(\u001B[38;5;124m'\u001B[39m\u001B[38;5;124mffprobe and ffmpeg not found. Please install or provide the path using --ffmpeg-location\u001B[39m\u001B[38;5;124m'\u001B[39m)\n\u001B[0;32m    243\u001B[0m \u001B[38;5;28;01mtry\u001B[39;00m:\n\n\u001B[1;31mPostProcessingError\u001B[0m: ffprobe and ffmpeg not found. Please install or provide the path using --ffmpeg-location\n\nDuring handling of the above exception, another exception occurred:\n\n\u001B[1;31mDownloadError\u001B[0m                             Traceback (most recent call last)\nCell \u001B[1;32mIn[12], line 7\u001B[0m\n\u001B[0;32m      2\u001B[0m save_dir\u001B[38;5;241m=\u001B[39m\u001B[38;5;124m\"\u001B[39m\u001B[38;5;124mdocs/youtube/\u001B[39m\u001B[38;5;124m\"\u001B[39m\n\u001B[0;32m      3\u001B[0m loader \u001B[38;5;241m=\u001B[39m GenericLoader(\n\u001B[0;32m      4\u001B[0m     YoutubeAudioLoader([url],save_dir),\n\u001B[0;32m      5\u001B[0m     OpenAIWhisperParser()\n\u001B[0;32m      6\u001B[0m )\n\u001B[1;32m----> 7\u001B[0m docs \u001B[38;5;241m=\u001B[39m \u001B[43mloader\u001B[49m\u001B[38;5;241;43m.\u001B[39;49m\u001B[43mload\u001B[49m\u001B[43m(\u001B[49m\u001B[43m)\u001B[49m\n\nFile \u001B[1;32mc:\\Users\\Sourav Banerjee\\anaconda3\\lib\\site-packages\\langchain_core\\document_loaders\\base.py:29\u001B[0m, in \u001B[0;36mBaseLoader.load\u001B[1;34m(self)\u001B[0m\n\u001B[0;32m     27\u001B[0m \u001B[38;5;28;01mdef\u001B[39;00m \u001B[38;5;21mload\u001B[39m(\u001B[38;5;28mself\u001B[39m) \u001B[38;5;241m-\u001B[39m\u001B[38;5;241m>\u001B[39m List[Document]:\n\u001B[0;32m     28\u001B[0m \u001B[38;5;250m    \u001B[39m\u001B[38;5;124;03m\"\"\"Load data into Document objects.\"\"\"\u001B[39;00m\n\u001B[1;32m---> 29\u001B[0m     \u001B[38;5;28;01mreturn\u001B[39;00m \u001B[38;5;28;43mlist\u001B[39;49m\u001B[43m(\u001B[49m\u001B[38;5;28;43mself\u001B[39;49m\u001B[38;5;241;43m.\u001B[39;49m\u001B[43mlazy_load\u001B[49m\u001B[43m(\u001B[49m\u001B[43m)\u001B[49m\u001B[43m)\u001B[49m\n\nFile \u001B[1;32mc:\\Users\\Sourav Banerjee\\anaconda3\\lib\\site-packages\\langchain_community\\document_loaders\\generic.py:115\u001B[0m, in \u001B[0;36mGenericLoader.lazy_load\u001B[1;34m(self)\u001B[0m\n\u001B[0;32m    111\u001B[0m \u001B[38;5;28;01mdef\u001B[39;00m \u001B[38;5;21mlazy_load\u001B[39m(\n\u001B[0;32m    112\u001B[0m     \u001B[38;5;28mself\u001B[39m,\n\u001B[0;32m    113\u001B[0m ) \u001B[38;5;241m-\u001B[39m\u001B[38;5;241m>\u001B[39m Iterator[Document]:\n\u001B[0;32m    114\u001B[0m \u001B[38;5;250m    \u001B[39m\u001B[38;5;124;03m\"\"\"Load documents lazily. Use this when working at a large scale.\"\"\"\u001B[39;00m\n\u001B[1;32m--> 115\u001B[0m     \u001B[38;5;28;01mfor\u001B[39;00m blob \u001B[38;5;129;01min\u001B[39;00m \u001B[38;5;28mself\u001B[39m\u001B[38;5;241m.\u001B[39mblob_loader\u001B[38;5;241m.\u001B[39myield_blobs():  \u001B[38;5;66;03m# type: ignore[attr-defined]\u001B[39;00m\n\u001B[0;32m    116\u001B[0m         \u001B[38;5;28;01myield from\u001B[39;00m \u001B[38;5;28mself\u001B[39m\u001B[38;5;241m.\u001B[39mblob_parser\u001B[38;5;241m.\u001B[39mlazy_parse(blob)\n\nFile \u001B[1;32mc:\\Users\\Sourav Banerjee\\anaconda3\\lib\\site-packages\\langchain_community\\document_loaders\\blob_loaders\\youtube_audio.py:45\u001B[0m, in \u001B[0;36mYoutubeAudioLoader.yield_blobs\u001B[1;34m(self)\u001B[0m\n\u001B[0;32m     42\u001B[0m \u001B[38;5;28;01mfor\u001B[39;00m url \u001B[38;5;129;01min\u001B[39;00m \u001B[38;5;28mself\u001B[39m\u001B[38;5;241m.\u001B[39murls:\n\u001B[0;32m     43\u001B[0m     \u001B[38;5;66;03m# Download file\u001B[39;00m\n\u001B[0;32m     44\u001B[0m     \u001B[38;5;28;01mwith\u001B[39;00m yt_dlp\u001B[38;5;241m.\u001B[39mYoutubeDL(ydl_opts) \u001B[38;5;28;01mas\u001B[39;00m ydl:\n\u001B[1;32m---> 45\u001B[0m         \u001B[43mydl\u001B[49m\u001B[38;5;241;43m.\u001B[39;49m\u001B[43mdownload\u001B[49m\u001B[43m(\u001B[49m\u001B[43murl\u001B[49m\u001B[43m)\u001B[49m\n\u001B[0;32m     47\u001B[0m \u001B[38;5;66;03m# Yield the written blobs\u001B[39;00m\n\u001B[0;32m     48\u001B[0m loader \u001B[38;5;241m=\u001B[39m FileSystemBlobLoader(\u001B[38;5;28mself\u001B[39m\u001B[38;5;241m.\u001B[39msave_dir, glob\u001B[38;5;241m=\u001B[39m\u001B[38;5;124m\"\u001B[39m\u001B[38;5;124m*.m4a\u001B[39m\u001B[38;5;124m\"\u001B[39m)\n\nFile \u001B[1;32mc:\\Users\\Sourav Banerjee\\anaconda3\\lib\\site-packages\\yt_dlp\\YoutubeDL.py:3608\u001B[0m, in \u001B[0;36mYoutubeDL.download\u001B[1;34m(self, url_list)\u001B[0m\n\u001B[0;32m   3605\u001B[0m     \u001B[38;5;28;01mraise\u001B[39;00m SameFileError(outtmpl)\n\u001B[0;32m   3607\u001B[0m \u001B[38;5;28;01mfor\u001B[39;00m url \u001B[38;5;129;01min\u001B[39;00m url_list:\n\u001B[1;32m-> 3608\u001B[0m     \u001B[38;5;28;43mself\u001B[39;49m\u001B[38;5;241;43m.\u001B[39;49m\u001B[43m__download_wrapper\u001B[49m\u001B[43m(\u001B[49m\u001B[38;5;28;43mself\u001B[39;49m\u001B[38;5;241;43m.\u001B[39;49m\u001B[43mextract_info\u001B[49m\u001B[43m)\u001B[49m\u001B[43m(\u001B[49m\n\u001B[0;32m   3609\u001B[0m \u001B[43m        \u001B[49m\u001B[43murl\u001B[49m\u001B[43m,\u001B[49m\u001B[43m \u001B[49m\u001B[43mforce_generic_extractor\u001B[49m\u001B[38;5;241;43m=\u001B[39;49m\u001B[38;5;28;43mself\u001B[39;49m\u001B[38;5;241;43m.\u001B[39;49m\u001B[43mparams\u001B[49m\u001B[38;5;241;43m.\u001B[39;49m\u001B[43mget\u001B[49m\u001B[43m(\u001B[49m\u001B[38;5;124;43m'\u001B[39;49m\u001B[38;5;124;43mforce_generic_extractor\u001B[39;49m\u001B[38;5;124;43m'\u001B[39;49m\u001B[43m,\u001B[49m\u001B[43m \u001B[49m\u001B[38;5;28;43;01mFalse\u001B[39;49;00m\u001B[43m)\u001B[49m\u001B[43m)\u001B[49m\n\u001B[0;32m   3611\u001B[0m \u001B[38;5;28;01mreturn\u001B[39;00m \u001B[38;5;28mself\u001B[39m\u001B[38;5;241m.\u001B[39m_download_retcode\n\nFile \u001B[1;32mc:\\Users\\Sourav Banerjee\\anaconda3\\lib\\site-packages\\yt_dlp\\YoutubeDL.py:3581\u001B[0m, in \u001B[0;36mYoutubeDL.__download_wrapper.<locals>.wrapper\u001B[1;34m(*args, **kwargs)\u001B[0m\n\u001B[0;32m   3578\u001B[0m \u001B[38;5;129m@functools\u001B[39m\u001B[38;5;241m.\u001B[39mwraps(func)\n\u001B[0;32m   3579\u001B[0m \u001B[38;5;28;01mdef\u001B[39;00m \u001B[38;5;21mwrapper\u001B[39m(\u001B[38;5;241m*\u001B[39margs, \u001B[38;5;241m*\u001B[39m\u001B[38;5;241m*\u001B[39mkwargs):\n\u001B[0;32m   3580\u001B[0m     \u001B[38;5;28;01mtry\u001B[39;00m:\n\u001B[1;32m-> 3581\u001B[0m         res \u001B[38;5;241m=\u001B[39m func(\u001B[38;5;241m*\u001B[39margs, \u001B[38;5;241m*\u001B[39m\u001B[38;5;241m*\u001B[39mkwargs)\n\u001B[0;32m   3582\u001B[0m     \u001B[38;5;28;01mexcept\u001B[39;00m CookieLoadError:\n\u001B[0;32m   3583\u001B[0m         \u001B[38;5;28;01mraise\u001B[39;00m\n\nFile \u001B[1;32mc:\\Users\\Sourav Banerjee\\anaconda3\\lib\\site-packages\\yt_dlp\\YoutubeDL.py:1614\u001B[0m, in \u001B[0;36mYoutubeDL.extract_info\u001B[1;34m(self, url, download, ie_key, extra_info, process, force_generic_extractor)\u001B[0m\n\u001B[0;32m   1612\u001B[0m             \u001B[38;5;28;01mraise\u001B[39;00m ExistingVideoReached\n\u001B[0;32m   1613\u001B[0m         \u001B[38;5;28;01mbreak\u001B[39;00m\n\u001B[1;32m-> 1614\u001B[0m     \u001B[38;5;28;01mreturn\u001B[39;00m \u001B[38;5;28;43mself\u001B[39;49m\u001B[38;5;241;43m.\u001B[39;49m\u001B[43m__extract_info\u001B[49m\u001B[43m(\u001B[49m\u001B[43murl\u001B[49m\u001B[43m,\u001B[49m\u001B[43m \u001B[49m\u001B[38;5;28;43mself\u001B[39;49m\u001B[38;5;241;43m.\u001B[39;49m\u001B[43mget_info_extractor\u001B[49m\u001B[43m(\u001B[49m\u001B[43mkey\u001B[49m\u001B[43m)\u001B[49m\u001B[43m,\u001B[49m\u001B[43m \u001B[49m\u001B[43mdownload\u001B[49m\u001B[43m,\u001B[49m\u001B[43m \u001B[49m\u001B[43mextra_info\u001B[49m\u001B[43m,\u001B[49m\u001B[43m \u001B[49m\u001B[43mprocess\u001B[49m\u001B[43m)\u001B[49m\n\u001B[0;32m   1615\u001B[0m \u001B[38;5;28;01melse\u001B[39;00m:\n\u001B[0;32m   1616\u001B[0m     extractors_restricted \u001B[38;5;241m=\u001B[39m \u001B[38;5;28mself\u001B[39m\u001B[38;5;241m.\u001B[39mparams\u001B[38;5;241m.\u001B[39mget(\u001B[38;5;124m'\u001B[39m\u001B[38;5;124mallowed_extractors\u001B[39m\u001B[38;5;124m'\u001B[39m) \u001B[38;5;129;01mnot\u001B[39;00m \u001B[38;5;129;01min\u001B[39;00m (\u001B[38;5;28;01mNone\u001B[39;00m, [\u001B[38;5;124m'\u001B[39m\u001B[38;5;124mdefault\u001B[39m\u001B[38;5;124m'\u001B[39m])\n\nFile \u001B[1;32mc:\\Users\\Sourav Banerjee\\anaconda3\\lib\\site-packages\\yt_dlp\\YoutubeDL.py:1625\u001B[0m, in \u001B[0;36mYoutubeDL._handle_extraction_exceptions.<locals>.wrapper\u001B[1;34m(self, *args, **kwargs)\u001B[0m\n\u001B[0;32m   1623\u001B[0m \u001B[38;5;28;01mwhile\u001B[39;00m \u001B[38;5;28;01mTrue\u001B[39;00m:\n\u001B[0;32m   1624\u001B[0m     \u001B[38;5;28;01mtry\u001B[39;00m:\n\u001B[1;32m-> 1625\u001B[0m         \u001B[38;5;28;01mreturn\u001B[39;00m func(\u001B[38;5;28mself\u001B[39m, \u001B[38;5;241m*\u001B[39margs, \u001B[38;5;241m*\u001B[39m\u001B[38;5;241m*\u001B[39mkwargs)\n\u001B[0;32m   1626\u001B[0m     \u001B[38;5;28;01mexcept\u001B[39;00m (CookieLoadError, DownloadCancelled, LazyList\u001B[38;5;241m.\u001B[39mIndexError, PagedList\u001B[38;5;241m.\u001B[39mIndexError):\n\u001B[0;32m   1627\u001B[0m         \u001B[38;5;28;01mraise\u001B[39;00m\n\nFile \u001B[1;32mc:\\Users\\Sourav Banerjee\\anaconda3\\lib\\site-packages\\yt_dlp\\YoutubeDL.py:1781\u001B[0m, in \u001B[0;36mYoutubeDL.__extract_info\u001B[1;34m(self, url, ie, download, extra_info, process)\u001B[0m\n\u001B[0;32m   1779\u001B[0m \u001B[38;5;28;01mif\u001B[39;00m process:\n\u001B[0;32m   1780\u001B[0m     \u001B[38;5;28mself\u001B[39m\u001B[38;5;241m.\u001B[39m_wait_for_video(ie_result)\n\u001B[1;32m-> 1781\u001B[0m     \u001B[38;5;28;01mreturn\u001B[39;00m \u001B[38;5;28;43mself\u001B[39;49m\u001B[38;5;241;43m.\u001B[39;49m\u001B[43mprocess_ie_result\u001B[49m\u001B[43m(\u001B[49m\u001B[43mie_result\u001B[49m\u001B[43m,\u001B[49m\u001B[43m \u001B[49m\u001B[43mdownload\u001B[49m\u001B[43m,\u001B[49m\u001B[43m \u001B[49m\u001B[43mextra_info\u001B[49m\u001B[43m)\u001B[49m\n\u001B[0;32m   1782\u001B[0m \u001B[38;5;28;01melse\u001B[39;00m:\n\u001B[0;32m   1783\u001B[0m     \u001B[38;5;28;01mreturn\u001B[39;00m ie_result\n\nFile \u001B[1;32mc:\\Users\\Sourav Banerjee\\anaconda3\\lib\\site-packages\\yt_dlp\\YoutubeDL.py:1840\u001B[0m, in \u001B[0;36mYoutubeDL.process_ie_result\u001B[1;34m(self, ie_result, download, extra_info)\u001B[0m\n\u001B[0;32m   1838\u001B[0m \u001B[38;5;28;01mif\u001B[39;00m result_type \u001B[38;5;241m==\u001B[39m \u001B[38;5;124m'\u001B[39m\u001B[38;5;124mvideo\u001B[39m\u001B[38;5;124m'\u001B[39m:\n\u001B[0;32m   1839\u001B[0m     \u001B[38;5;28mself\u001B[39m\u001B[38;5;241m.\u001B[39madd_extra_info(ie_result, extra_info)\n\u001B[1;32m-> 1840\u001B[0m     ie_result \u001B[38;5;241m=\u001B[39m \u001B[38;5;28;43mself\u001B[39;49m\u001B[38;5;241;43m.\u001B[39;49m\u001B[43mprocess_video_result\u001B[49m\u001B[43m(\u001B[49m\u001B[43mie_result\u001B[49m\u001B[43m,\u001B[49m\u001B[43m \u001B[49m\u001B[43mdownload\u001B[49m\u001B[38;5;241;43m=\u001B[39;49m\u001B[43mdownload\u001B[49m\u001B[43m)\u001B[49m\n\u001B[0;32m   1841\u001B[0m     \u001B[38;5;28mself\u001B[39m\u001B[38;5;241m.\u001B[39m_raise_pending_errors(ie_result)\n\u001B[0;32m   1842\u001B[0m     additional_urls \u001B[38;5;241m=\u001B[39m (ie_result \u001B[38;5;129;01mor\u001B[39;00m {})\u001B[38;5;241m.\u001B[39mget(\u001B[38;5;124m'\u001B[39m\u001B[38;5;124madditional_urls\u001B[39m\u001B[38;5;124m'\u001B[39m)\n\nFile \u001B[1;32mc:\\Users\\Sourav Banerjee\\anaconda3\\lib\\site-packages\\yt_dlp\\YoutubeDL.py:3014\u001B[0m, in \u001B[0;36mYoutubeDL.process_video_result\u001B[1;34m(self, info_dict, download)\u001B[0m\n\u001B[0;32m   3012\u001B[0m downloaded_formats\u001B[38;5;241m.\u001B[39mappend(new_info)\n\u001B[0;32m   3013\u001B[0m \u001B[38;5;28;01mtry\u001B[39;00m:\n\u001B[1;32m-> 3014\u001B[0m     \u001B[38;5;28;43mself\u001B[39;49m\u001B[38;5;241;43m.\u001B[39;49m\u001B[43mprocess_info\u001B[49m\u001B[43m(\u001B[49m\u001B[43mnew_info\u001B[49m\u001B[43m)\u001B[49m\n\u001B[0;32m   3015\u001B[0m \u001B[38;5;28;01mexcept\u001B[39;00m MaxDownloadsReached:\n\u001B[0;32m   3016\u001B[0m     max_downloads_reached \u001B[38;5;241m=\u001B[39m \u001B[38;5;28;01mTrue\u001B[39;00m\n\nFile \u001B[1;32mc:\\Users\\Sourav Banerjee\\anaconda3\\lib\\site-packages\\yt_dlp\\YoutubeDL.py:178\u001B[0m, in \u001B[0;36m_catch_unsafe_extension_error.<locals>.wrapper\u001B[1;34m(self, *args, **kwargs)\u001B[0m\n\u001B[0;32m    175\u001B[0m \u001B[38;5;129m@functools\u001B[39m\u001B[38;5;241m.\u001B[39mwraps(func)\n\u001B[0;32m    176\u001B[0m \u001B[38;5;28;01mdef\u001B[39;00m \u001B[38;5;21mwrapper\u001B[39m(\u001B[38;5;28mself\u001B[39m, \u001B[38;5;241m*\u001B[39margs, \u001B[38;5;241m*\u001B[39m\u001B[38;5;241m*\u001B[39mkwargs):\n\u001B[0;32m    177\u001B[0m     \u001B[38;5;28;01mtry\u001B[39;00m:\n\u001B[1;32m--> 178\u001B[0m         \u001B[38;5;28;01mreturn\u001B[39;00m func(\u001B[38;5;28mself\u001B[39m, \u001B[38;5;241m*\u001B[39margs, \u001B[38;5;241m*\u001B[39m\u001B[38;5;241m*\u001B[39mkwargs)\n\u001B[0;32m    179\u001B[0m     \u001B[38;5;28;01mexcept\u001B[39;00m _UnsafeExtensionError \u001B[38;5;28;01mas\u001B[39;00m error:\n\u001B[0;32m    180\u001B[0m         \u001B[38;5;28mself\u001B[39m\u001B[38;5;241m.\u001B[39mreport_error(\n\u001B[0;32m    181\u001B[0m             \u001B[38;5;124mf\u001B[39m\u001B[38;5;124m'\u001B[39m\u001B[38;5;124mThe extracted extension (\u001B[39m\u001B[38;5;132;01m{\u001B[39;00merror\u001B[38;5;241m.\u001B[39mextension\u001B[38;5;132;01m!r}\u001B[39;00m\u001B[38;5;124m) is unusual \u001B[39m\u001B[38;5;124m'\u001B[39m\n\u001B[0;32m    182\u001B[0m             \u001B[38;5;124m'\u001B[39m\u001B[38;5;124mand will be skipped for safety reasons. \u001B[39m\u001B[38;5;124m'\u001B[39m\n\u001B[0;32m    183\u001B[0m             \u001B[38;5;124mf\u001B[39m\u001B[38;5;124m'\u001B[39m\u001B[38;5;124mIf you believe this is an error\u001B[39m\u001B[38;5;132;01m{\u001B[39;00mbug_reports_message(\u001B[38;5;124m\"\u001B[39m\u001B[38;5;124m,\u001B[39m\u001B[38;5;124m\"\u001B[39m)\u001B[38;5;132;01m}\u001B[39;00m\u001B[38;5;124m'\u001B[39m)\n\nFile \u001B[1;32mc:\\Users\\Sourav Banerjee\\anaconda3\\lib\\site-packages\\yt_dlp\\YoutubeDL.py:3562\u001B[0m, in \u001B[0;36mYoutubeDL.process_info\u001B[1;34m(self, info_dict)\u001B[0m\n\u001B[0;32m   3560\u001B[0m     replace_info_dict(\u001B[38;5;28mself\u001B[39m\u001B[38;5;241m.\u001B[39mpost_process(dl_filename, info_dict, files_to_move))\n\u001B[0;32m   3561\u001B[0m \u001B[38;5;28;01mexcept\u001B[39;00m PostProcessingError \u001B[38;5;28;01mas\u001B[39;00m err:\n\u001B[1;32m-> 3562\u001B[0m     \u001B[38;5;28;43mself\u001B[39;49m\u001B[38;5;241;43m.\u001B[39;49m\u001B[43mreport_error\u001B[49m\u001B[43m(\u001B[49m\u001B[38;5;124;43mf\u001B[39;49m\u001B[38;5;124;43m'\u001B[39;49m\u001B[38;5;124;43mPostprocessing: \u001B[39;49m\u001B[38;5;132;43;01m{\u001B[39;49;00m\u001B[43merr\u001B[49m\u001B[38;5;132;43;01m}\u001B[39;49;00m\u001B[38;5;124;43m'\u001B[39;49m\u001B[43m)\u001B[49m\n\u001B[0;32m   3563\u001B[0m     \u001B[38;5;28;01mreturn\u001B[39;00m\n\u001B[0;32m   3564\u001B[0m \u001B[38;5;28;01mtry\u001B[39;00m:\n\nFile \u001B[1;32mc:\\Users\\Sourav Banerjee\\anaconda3\\lib\\site-packages\\yt_dlp\\YoutubeDL.py:1091\u001B[0m, in \u001B[0;36mYoutubeDL.report_error\u001B[1;34m(self, message, *args, **kwargs)\u001B[0m\n\u001B[0;32m   1086\u001B[0m \u001B[38;5;28;01mdef\u001B[39;00m \u001B[38;5;21mreport_error\u001B[39m(\u001B[38;5;28mself\u001B[39m, message, \u001B[38;5;241m*\u001B[39margs, \u001B[38;5;241m*\u001B[39m\u001B[38;5;241m*\u001B[39mkwargs):\n\u001B[0;32m   1087\u001B[0m \u001B[38;5;250m    \u001B[39m\u001B[38;5;124;03m\"\"\"\u001B[39;00m\n\u001B[0;32m   1088\u001B[0m \u001B[38;5;124;03m    Do the same as trouble, but prefixes the message with 'ERROR:', colored\u001B[39;00m\n\u001B[0;32m   1089\u001B[0m \u001B[38;5;124;03m    in red if stderr is a tty file.\u001B[39;00m\n\u001B[0;32m   1090\u001B[0m \u001B[38;5;124;03m    \"\"\"\u001B[39;00m\n\u001B[1;32m-> 1091\u001B[0m     \u001B[38;5;28mself\u001B[39m\u001B[38;5;241m.\u001B[39mtrouble(\u001B[38;5;124mf\u001B[39m\u001B[38;5;124m'\u001B[39m\u001B[38;5;132;01m{\u001B[39;00m\u001B[38;5;28mself\u001B[39m\u001B[38;5;241m.\u001B[39m_format_err(\u001B[38;5;124m\"\u001B[39m\u001B[38;5;124mERROR:\u001B[39m\u001B[38;5;124m\"\u001B[39m,\u001B[38;5;250m \u001B[39m\u001B[38;5;28mself\u001B[39m\u001B[38;5;241m.\u001B[39mStyles\u001B[38;5;241m.\u001B[39mERROR)\u001B[38;5;132;01m}\u001B[39;00m\u001B[38;5;124m \u001B[39m\u001B[38;5;132;01m{\u001B[39;00mmessage\u001B[38;5;132;01m}\u001B[39;00m\u001B[38;5;124m'\u001B[39m, \u001B[38;5;241m*\u001B[39margs, \u001B[38;5;241m*\u001B[39m\u001B[38;5;241m*\u001B[39mkwargs)\n\nFile \u001B[1;32mc:\\Users\\Sourav Banerjee\\anaconda3\\lib\\site-packages\\yt_dlp\\YoutubeDL.py:1030\u001B[0m, in \u001B[0;36mYoutubeDL.trouble\u001B[1;34m(self, message, tb, is_error)\u001B[0m\n\u001B[0;32m   1028\u001B[0m     \u001B[38;5;28;01melse\u001B[39;00m:\n\u001B[0;32m   1029\u001B[0m         exc_info \u001B[38;5;241m=\u001B[39m sys\u001B[38;5;241m.\u001B[39mexc_info()\n\u001B[1;32m-> 1030\u001B[0m     \u001B[38;5;28;01mraise\u001B[39;00m DownloadError(message, exc_info)\n\u001B[0;32m   1031\u001B[0m \u001B[38;5;28mself\u001B[39m\u001B[38;5;241m.\u001B[39m_download_retcode \u001B[38;5;241m=\u001B[39m \u001B[38;5;241m1\u001B[39m\n\n\u001B[1;31mDownloadError\u001B[0m: ERROR: Postprocessing: ffprobe and ffmpeg not found. Please install or provide the path using --ffmpeg-location",
       "errorSummary": "<span class='ansi-red-fg'>DownloadError</span>: ERROR: Postprocessing: ffprobe and ffmpeg not found. Please install or provide the path using --ffmpeg-location",
       "errorTraceType": "ansi",
       "metadata": {},
       "type": "ipynbError"
      }
     },
     "output_type": "display_data"
    }
   ],
   "source": [
    "url=\"https://www.youtube.com/watch?v=jGwO_UgTS7I\"\n",
    "save_dir=\"docs/youtube/\"\n",
    "loader = GenericLoader(\n",
    "    YoutubeAudioLoader([url],save_dir),\n",
    "    OpenAIWhisperParser()\n",
    ")\n",
    "docs = loader.load()"
   ]
  },
  {
   "cell_type": "code",
   "execution_count": 0,
   "metadata": {
    "application/vnd.databricks.v1+cell": {
     "cellMetadata": {},
     "inputWidgets": {},
     "nuid": "93daf7ea-d405-4f31-99c4-1e347e3cc2b3",
     "showTitle": false,
     "tableResultSettingsMap": {},
     "title": ""
    }
   },
   "outputs": [
    {
     "output_type": "execute_result",
     "data": {
      "text/plain": [
       "\"Welcome to CS229 Machine Learning. Uh, some of you know that this is a class that's taught at Stanford for a long time. And this is often the class that, um, I most look forward to teaching each year because this is where we've helped, I think, several generations of Stanford students become experts in machine learning, got- built many of their products and services and startups that I'm sure, many of you or probably all of you are using, uh, uh, today. Um, so what I want to do today was spend s\""
      ]
     },
     "execution_count": 17,
     "metadata": {},
     "output_type": "execute_result"
    }
   ],
   "source": [
    "docs[0].page_content[0:500]"
   ]
  },
  {
   "cell_type": "markdown",
   "metadata": {
    "application/vnd.databricks.v1+cell": {
     "cellMetadata": {},
     "inputWidgets": {},
     "nuid": "57004b58-67c8-414b-9e5e-832b69fd9fb5",
     "showTitle": false,
     "tableResultSettingsMap": {},
     "title": ""
    }
   },
   "source": [
    "## URLs"
   ]
  },
  {
   "cell_type": "code",
   "execution_count": 0,
   "metadata": {
    "application/vnd.databricks.v1+cell": {
     "cellMetadata": {},
     "inputWidgets": {},
     "nuid": "52bf1dc3-c91d-4475-a256-a5d357417f9b",
     "showTitle": false,
     "tableResultSettingsMap": {},
     "title": ""
    }
   },
   "outputs": [],
   "source": [
    "from langchain.document_loaders import WebBaseLoader\n",
    "\n",
    "loader = WebBaseLoader(\"https://github.com/basecamp/handbook/blob/master/titles-for-programmers.md\")"
   ]
  },
  {
   "cell_type": "code",
   "execution_count": 0,
   "metadata": {
    "application/vnd.databricks.v1+cell": {
     "cellMetadata": {},
     "inputWidgets": {},
     "nuid": "20d93e2f-65c2-4d8a-ada7-bf77d3e26efa",
     "showTitle": false,
     "tableResultSettingsMap": {},
     "title": ""
    }
   },
   "outputs": [],
   "source": [
    "docs = loader.load()"
   ]
  },
  {
   "cell_type": "code",
   "execution_count": 0,
   "metadata": {
    "application/vnd.databricks.v1+cell": {
     "cellMetadata": {},
     "inputWidgets": {},
     "nuid": "d5c8fa1d-260c-4a79-b6ed-fb86a00b0582",
     "showTitle": false,
     "tableResultSettingsMap": {},
     "title": ""
    }
   },
   "outputs": [
    {
     "output_type": "stream",
     "name": "stdout",
     "output_type": "stream",
     "text": [
      "\n\n\n\n\n\n\n\n\n\n\n\n\n\n\n\n\n\n\n\n\n\n\n\n\n\n\n\n\n\n\n\n\n\n\n\n\n\n\n\n\n\n\n\n\n\n\n\n\n\n\n\n\n\n\n\n\n\n\n\n\n\n\n\n\n\n\n\n\n\n\n\n\n\n\n\n\n\n\n\n\n\n\n\nhandbook/titles-for-programmers.md at master · basecamp/handbook · GitHub\n\n\n\n\n\n\n\n\n\n\n\n\n\n\n\n\n\n\n\n\n\n\n\n\n\n\n\n\n\n\n\n\n\n\n\n\n\n\n\n\n\n\n\n\n\nSkip to content\n\n\n\n\n\n\n\n\n\n\n\n\n\nNavigation Menu\n\nToggle navigation\n\n\n\n\n \n\n\n\n\n\n\n\n\n\n\n\n\n\n            Sign in\n          \n\n\n\n\n\n\n\n\n        Product\n        \n\n\n\n\n\n\n\n\n\n\n\n\n\nGitHub Copilot\n        Write better code with AI\n      \n\n\n\n\n\n\n\nSecurity\n        Find and fix vulnerabilities\n      \n\n\n\n\n\n\n\nActions\n      \n"
     ]
    }
   ],
   "source": [
    "print(docs[0].page_content[:500])"
   ]
  },
  {
   "cell_type": "markdown",
   "metadata": {
    "application/vnd.databricks.v1+cell": {
     "cellMetadata": {},
     "inputWidgets": {},
     "nuid": "2744a2ad-c256-472a-b368-13483b1586ab",
     "showTitle": false,
     "tableResultSettingsMap": {},
     "title": ""
    }
   },
   "source": [
    "## Notion"
   ]
  },
  {
   "cell_type": "markdown",
   "metadata": {
    "application/vnd.databricks.v1+cell": {
     "cellMetadata": {},
     "inputWidgets": {},
     "nuid": "0443f068-75a7-4700-a87f-b84635adaa53",
     "showTitle": false,
     "tableResultSettingsMap": {},
     "title": ""
    }
   },
   "source": [
    "Follow steps [here](https://python.langchain.com/docs/modules/data_connection/document_loaders/integrations/notion) for an example Notion site such as [this one](https://yolospace.notion.site/Blendle-s-Employee-Handbook-e31bff7da17346ee99f531087d8b133f):\n",
    "\n",
    "- Duplicate the page into your own Notion space and export as Markdown / CSV.\n",
    "- Unzip it and save it as a folder that contains the markdown file for the Notion page."
   ]
  },
  {
   "cell_type": "code",
   "execution_count": 0,
   "metadata": {
    "application/vnd.databricks.v1+cell": {
     "cellMetadata": {},
     "inputWidgets": {},
     "nuid": "04de3af5-3211-4fe9-9a74-b6c6d20ac1de",
     "showTitle": false,
     "tableResultSettingsMap": {},
     "title": ""
    }
   },
   "outputs": [],
   "source": [
    "from langchain.document_loaders import NotionDirectoryLoader\n",
    "loader = NotionDirectoryLoader(\"docs/Notion_DB\")\n",
    "docs = loader.load()"
   ]
  },
  {
   "cell_type": "code",
   "execution_count": 0,
   "metadata": {
    "application/vnd.databricks.v1+cell": {
     "cellMetadata": {},
     "inputWidgets": {},
     "nuid": "03a9868b-d26b-43cb-8151-9ec2da8e1312",
     "showTitle": false,
     "tableResultSettingsMap": {},
     "title": ""
    }
   },
   "outputs": [
    {
     "output_type": "stream",
     "name": "stdout",
     "output_type": "stream",
     "text": [
      "# #letstalkaboutstress\n\nLet’s talk about stress. Too much stress. \n\nWe know this can be a topic.\n\nSo let’s get this conversation going. \n\n[Intro: two things you should know](#letstalkaboutstress%20640\n"
     ]
    }
   ],
   "source": [
    "print(docs[0].page_content[0:200])"
   ]
  },
  {
   "cell_type": "code",
   "execution_count": 0,
   "metadata": {
    "application/vnd.databricks.v1+cell": {
     "cellMetadata": {},
     "inputWidgets": {},
     "nuid": "05c77893-8aa4-431e-adbe-5bb4ba6ff878",
     "showTitle": false,
     "tableResultSettingsMap": {},
     "title": ""
    }
   },
   "outputs": [
    {
     "output_type": "execute_result",
     "data": {
      "text/plain": [
       "{'source': 'docs\\\\Notion_DB\\\\#letstalkaboutstress 64040a0733074994976118bbe0acc7fb.md'}"
      ]
     },
     "execution_count": 21,
     "metadata": {},
     "output_type": "execute_result"
    }
   ],
   "source": [
    "docs[0].metadata"
   ]
  },
  {
   "cell_type": "code",
   "execution_count": 0,
   "metadata": {
    "application/vnd.databricks.v1+cell": {
     "cellMetadata": {},
     "inputWidgets": {},
     "nuid": "f4d80857-2540-4194-877f-50075130b90e",
     "showTitle": false,
     "tableResultSettingsMap": {},
     "title": ""
    }
   },
   "outputs": [],
   "source": []
  },
  {
   "cell_type": "code",
   "execution_count": 0,
   "metadata": {
    "application/vnd.databricks.v1+cell": {
     "cellMetadata": {},
     "inputWidgets": {},
     "nuid": "d041db8c-757a-428e-9304-d097244e7d29",
     "showTitle": false,
     "tableResultSettingsMap": {},
     "title": ""
    }
   },
   "outputs": [],
   "source": []
  },
  {
   "cell_type": "code",
   "execution_count": 0,
   "metadata": {
    "application/vnd.databricks.v1+cell": {
     "cellMetadata": {},
     "inputWidgets": {},
     "nuid": "68a18849-1dd5-4414-b8dd-54c8c3f47ed1",
     "showTitle": false,
     "tableResultSettingsMap": {},
     "title": ""
    }
   },
   "outputs": [],
   "source": []
  },
  {
   "cell_type": "code",
   "execution_count": 0,
   "metadata": {
    "application/vnd.databricks.v1+cell": {
     "cellMetadata": {},
     "inputWidgets": {},
     "nuid": "7ae631c1-fd59-46ba-b41d-7240c9d3af9b",
     "showTitle": false,
     "tableResultSettingsMap": {},
     "title": ""
    }
   },
   "outputs": [],
   "source": []
  }
 ],
 "metadata": {
  "application/vnd.databricks.v1+notebook": {
   "computePreferences": null,
   "dashboards": [],
   "environmentMetadata": null,
   "language": "python",
   "notebookMetadata": {},
   "notebookName": "L1-Document_loading",
   "widgets": {}
  },
  "kernelspec": {
   "display_name": "base",
   "language": "python",
   "name": "python3"
  },
  "language_info": {
   "name": "python"
  }
 },
 "nbformat": 4,
 "nbformat_minor": 0
}
