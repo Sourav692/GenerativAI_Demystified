{
 "cells": [
  {
   "cell_type": "code",
   "execution_count": 1,
   "metadata": {
    "executionInfo": {
     "elapsed": 32674,
     "status": "ok",
     "timestamp": 1706648007606,
     "user": {
      "displayName": "Harpreet Sahota",
      "userId": "04881662502078178826"
     },
     "user_tz": 360
    },
    "id": "2kSYDbb6_bnV"
   },
   "outputs": [],
   "source": [
    "%%capture\n",
    "!pip install -q langchain==0.3.10\n",
    "!pip install -q langchain-openai==0.2.12\n",
    "!pip install -q langchain-community==0.3.11\n",
    "!pip -q install openai==1.55.3\n",
    "!pip -q install faiss-cpu\n",
    "!pip -q install tiktoken"
   ]
  },
  {
   "cell_type": "code",
   "execution_count": 2,
   "metadata": {},
   "outputs": [],
   "source": [
    "import os\n",
    "import getpass\n",
    "from typing import Dict, Any"
   ]
  },
  {
   "cell_type": "code",
   "execution_count": 3,
   "metadata": {},
   "outputs": [],
   "source": [
    "import os\n",
    "import openai\n",
    "\n",
    "from dotenv import load_dotenv, find_dotenv\n",
    "_ = load_dotenv(find_dotenv())\n",
    "openai.api_key = os.environ['OPENAI_API_KEY']"
   ]
  },
  {
   "cell_type": "code",
   "execution_count": 4,
   "metadata": {
    "colab": {
     "base_uri": "https://localhost:8080/"
    },
    "executionInfo": {
     "elapsed": 3224,
     "status": "ok",
     "timestamp": 1706648010825,
     "user": {
      "displayName": "Harpreet Sahota",
      "userId": "04881662502078178826"
     },
     "user_tz": 360
    },
    "id": "7Jt5HU1A_yoJ",
    "outputId": "4c543987-52e9-451d-dab6-8165f8c3604e"
   },
   "outputs": [],
   "source": [
    "# import os\n",
    "# import getpass\n",
    "\n",
    "# os.environ[\"OPENAI_API_KEY\"] = getpass.getpass(\"Enter Your OpenAI API Key:\")"
   ]
  },
  {
   "cell_type": "markdown",
   "metadata": {
    "id": "9LroJ5jI_0Dz"
   },
   "source": [
    "# 🛠️ **Custom Prompt Templates in LangChain:**\n",
    "\n",
    "- ✂️ **Tailor-Made**: Craft prompts that fit your model like a glove.\n",
    "\n",
    "- 🎨**Full Control**: Dictate every detail from instructions to formatting.\n",
    "\n",
    "- 🔌 **Dynamic Inputs**: Plug in specific data as needed for each task.\n",
    "\n",
    "Create your own by defining inputs and crafting a `format()` method. 📝\n",
    "\n",
    "📐 Custom templates are like a bespoke suit—made to fit your model's unique requirements.\n"
   ]
  },
  {
   "cell_type": "markdown",
   "metadata": {
    "id": "q7NumwwOfsXM"
   },
   "source": [
    "#🎨 **Custom vs. Default Prompt Templates:**\n",
    "\n",
    "- ✏️ **Default Templates**: Like using a template for a letter, where you just fill in the blanks.\n",
    "\n",
    "- 🎭 **Custom Templates**: Like writing a script for a play, where you have the freedom to craft the entire scene.\n"
   ]
  },
  {
   "cell_type": "code",
   "execution_count": 5,
   "metadata": {
    "colab": {
     "base_uri": "https://localhost:8080/"
    },
    "executionInfo": {
     "elapsed": 532,
     "status": "ok",
     "timestamp": 1706648646275,
     "user": {
      "displayName": "Harpreet Sahota",
      "userId": "04881662502078178826"
     },
     "user_tz": 360
    },
    "id": "i-GUz-HlfsR9",
    "outputId": "ea789832-4966-47a1-bb9e-a0568b8606da"
   },
   "outputs": [
    {
     "name": "stdout",
     "output_type": "stream",
     "text": [
      "Hello Harpreet!\n"
     ]
    }
   ],
   "source": [
    "from langchain.prompts import PromptTemplate, StringPromptTemplate\n",
    "\n",
    "template = PromptTemplate.from_template(\"Hello {name}!\")\n",
    "\n",
    "prompt = template.format(name=\"Harpreet\")\n",
    "\n",
    "print(prompt)"
   ]
  },
  {
   "cell_type": "markdown",
   "metadata": {
    "id": "KlqmbqVuK_DW"
   },
   "source": [
    "\n",
    "**Custom templates let you:**\n",
    "\n",
    "- 🛠️ **Programmatically Craft Prompts**: Build prompts on-the-fly, tailored to the task at hand.\n",
    "\n",
    "- **Example - `FunctionExplainerPromptTemplate`**:\n",
    "\n",
    "  - 👨🏽‍💻 **Function Input**: Takes a function directly.\n",
    "\n",
    "  - 🔍 **Code Inspection**: Uses `inspect` to get the function's source code.\n",
    "\n",
    "  - 🗣️ **Prompt Assembly**: Creates a prompt to explain the function in plain language.\n",
    "\n",
    "🗝️ This approach is like having a Swiss Army knife for prompt creation, giving you the tools to construct exactly what you need.\n"
   ]
  },
  {
   "cell_type": "code",
   "execution_count": 7,
   "metadata": {
    "executionInfo": {
     "elapsed": 174,
     "status": "ok",
     "timestamp": 1706648796980,
     "user": {
      "displayName": "Harpreet Sahota",
      "userId": "04881662502078178826"
     },
     "user_tz": 360
    },
    "id": "KBsXW_tdZ3Ii"
   },
   "outputs": [
    {
     "name": "stderr",
     "output_type": "stream",
     "text": [
      "C:\\Users\\Sourav Banerjee\\AppData\\Local\\Temp\\ipykernel_15488\\601068411.py:23: PydanticDeprecatedSince20: Pydantic V1 style `@validator` validators are deprecated. You should migrate to Pydantic V2 style `@field_validator` validators, see the migration guide for more details. Deprecated in Pydantic V2.0 to be removed in V3.0. See Pydantic V2 Migration Guide at https://errors.pydantic.dev/2.10/migration/\n",
      "  @validator(\"input_variables\")\n"
     ]
    }
   ],
   "source": [
    "import inspect\n",
    "from langchain.prompts import StringPromptTemplate\n",
    "from pydantic import BaseModel, validator\n",
    "\n",
    "def get_source_code(function_name):\n",
    "    \"\"\"Return the source code of the provided function.\"\"\"\n",
    "    # Using the inspect module to get the source code of the function\n",
    "    return inspect.getsource(function_name)\n",
    "\n",
    "# Template string for the prompt that will be sent to the language model\n",
    "PROMPT = \"\"\"Given the function name and source code, generate an English language explanation of the function.\n",
    "Function Name: {function_name}\n",
    "\n",
    "Source Code:\n",
    "{source_code}\n",
    "\n",
    "Explanation:\n",
    "\"\"\"\n",
    "\n",
    "class FunctionExplainerPromptTemplate(StringPromptTemplate, BaseModel):\n",
    "    \"\"\"A custom prompt template that takes in the function name as input and formats the prompt template to provide the source code of the function.\"\"\"\n",
    "\n",
    "    @validator(\"input_variables\")\n",
    "    def validate_input_variables(cls, v):\n",
    "        \"\"\"Validate that the input variables are correct.\"\"\"\n",
    "        # Ensuring that the only input variable is 'function_name'\n",
    "        if len(v) != 1 or \"function_name\" not in v:\n",
    "            raise ValueError(\"function_name must be the only input_variable.\")\n",
    "        return v\n",
    "\n",
    "    def format(self, **kwargs) -> str:\n",
    "        \"\"\"Format the prompt using the function's name and source code.\"\"\"\n",
    "        # Retrieve the source code of the provided function\n",
    "        source_code = get_source_code(kwargs[\"function_name\"])\n",
    "\n",
    "        # Format the PROMPT string using the function name and its source code\n",
    "        prompt = PROMPT.format(\n",
    "            function_name=kwargs[\"function_name\"].__name__,\n",
    "            source_code=source_code\n",
    "        )\n",
    "        return prompt\n",
    "\n",
    "    def _prompt_type(self) -> str:\n",
    "        \"\"\"Return the type of prompt.\"\"\"\n",
    "        return \"function-explainer\""
   ]
  },
  {
   "cell_type": "code",
   "execution_count": 8,
   "metadata": {
    "executionInfo": {
     "elapsed": 208,
     "status": "ok",
     "timestamp": 1706648809038,
     "user": {
      "displayName": "Harpreet Sahota",
      "userId": "04881662502078178826"
     },
     "user_tz": 360
    },
    "id": "1UFaN1wJeOs4"
   },
   "outputs": [],
   "source": [
    "fn_explainer = FunctionExplainerPromptTemplate(input_variables=[\"function_name\"])"
   ]
  },
  {
   "cell_type": "code",
   "execution_count": 9,
   "metadata": {
    "colab": {
     "base_uri": "https://localhost:8080/"
    },
    "executionInfo": {
     "elapsed": 220,
     "status": "ok",
     "timestamp": 1706648820171,
     "user": {
      "displayName": "Harpreet Sahota",
      "userId": "04881662502078178826"
     },
     "user_tz": 360
    },
    "id": "XQzW90rsMjU3",
    "outputId": "1efbcfe2-8710-4b05-d1c6-25aabb5ec6d7"
   },
   "outputs": [
    {
     "data": {
      "text/plain": [
       "__main__.FunctionExplainerPromptTemplate"
      ]
     },
     "execution_count": 9,
     "metadata": {},
     "output_type": "execute_result"
    }
   ],
   "source": [
    "type(fn_explainer)"
   ]
  },
  {
   "cell_type": "code",
   "execution_count": 10,
   "metadata": {
    "colab": {
     "base_uri": "https://localhost:8080/"
    },
    "executionInfo": {
     "elapsed": 135,
     "status": "ok",
     "timestamp": 1706648834995,
     "user": {
      "displayName": "Harpreet Sahota",
      "userId": "04881662502078178826"
     },
     "user_tz": 360
    },
    "id": "dnJpuVxcMiLr",
    "outputId": "234f5831-b962-4385-cd37-b148f0d1d44f"
   },
   "outputs": [
    {
     "name": "stdout",
     "output_type": "stream",
     "text": [
      "Given the function name and source code, generate an English language explanation of the function.\n",
      "Function Name: get_source_code\n",
      "\n",
      "Source Code:\n",
      "def get_source_code(function_name):\n",
      "    \"\"\"Return the source code of the provided function.\"\"\"\n",
      "    # Using the inspect module to get the source code of the function\n",
      "    return inspect.getsource(function_name)\n",
      "\n",
      "\n",
      "Explanation:\n",
      "\n"
     ]
    }
   ],
   "source": [
    "# Generate a prompt for the function \"get_source_code\"\n",
    "prompt = fn_explainer.format(function_name=get_source_code)\n",
    "\n",
    "print(prompt)"
   ]
  },
  {
   "cell_type": "code",
   "execution_count": 13,
   "metadata": {
    "colab": {
     "base_uri": "https://localhost:8080/",
     "height": 70
    },
    "executionInfo": {
     "elapsed": 5369,
     "status": "ok",
     "timestamp": 1706648854926,
     "user": {
      "displayName": "Harpreet Sahota",
      "userId": "04881662502078178826"
     },
     "user_tz": 360
    },
    "id": "kQQNLJHUeSPK",
    "outputId": "579d92af-a51e-4f58-c471-05459bef28ab"
   },
   "outputs": [
    {
     "name": "stdout",
     "output_type": "stream",
     "text": [
      "This function is called get_source_code and it takes in a parameter called function_name. It uses the inspect module to retrieve the source code of the provided function and then returns that source code as a string. This can be useful for examining the code of a specific function within a program.\n"
     ]
    }
   ],
   "source": [
    "from langchain_openai import ChatOpenAI\n",
    "\n",
    "llm = ChatOpenAI(model=\"gpt-3.5-turbo-1106\")\n",
    "\n",
    "response = llm.invoke(prompt)\n",
    "\n",
    "print(response.content)"
   ]
  },
  {
   "cell_type": "code",
   "execution_count": 14,
   "metadata": {
    "colab": {
     "base_uri": "https://localhost:8080/"
    },
    "executionInfo": {
     "elapsed": 1486,
     "status": "ok",
     "timestamp": 1706649019525,
     "user": {
      "displayName": "Harpreet Sahota",
      "userId": "04881662502078178826"
     },
     "user_tz": 360
    },
    "id": "TvWdjpliMwg3",
    "outputId": "8078a757-8534-4d5e-b0d3-903a5c06bef5"
   },
   "outputs": [
    {
     "name": "stdout",
     "output_type": "stream",
     "text": [
      "The function \"get_source_code\" takes a function name as input and returns the source code of that function. It uses the inspect module to retrieve the source code of the provided function and then returns it as a string. This can be useful for debugging or for dynamically accessing and analyzing the source code of a given function."
     ]
    }
   ],
   "source": [
    "from langchain_core.output_parsers import StrOutputParser\n",
    "\n",
    "llm_chaim = fn_explainer | llm | StrOutputParser()\n",
    "\n",
    "for chunk in llm_chaim.stream({\"function_name\":get_source_code}):\n",
    "  print(chunk, end=\"\", flush=True)"
   ]
  },
  {
   "cell_type": "markdown",
   "metadata": {
    "id": "Z8DY4LOdjNRe"
   },
   "source": [
    "# Another example\n"
   ]
  },
  {
   "cell_type": "code",
   "execution_count": 10,
   "metadata": {
    "executionInfo": {
     "elapsed": 141,
     "status": "ok",
     "timestamp": 1706649059110,
     "user": {
      "displayName": "Harpreet Sahota",
      "userId": "04881662502078178826"
     },
     "user_tz": 360
    },
    "id": "mS6vK2rxhpsI"
   },
   "outputs": [],
   "source": [
    "# Template string for the algorithm optimization prompt\n",
    "ALGO_PROMPT = \"\"\"Given the algorithm below, suggest optimizations or potential \\\n",
    "improvements, and return the optimized code.\n",
    "\n",
    "Algorithm Name: {algorithm_name}\n",
    "\n",
    "Source Code:\n",
    "{source_code}\n",
    "\n",
    "Suggestions:\n",
    "\"\"\"\n",
    "\n",
    "class AlgorithmOptimizerPromptTemplate(StringPromptTemplate, BaseModel):\n",
    "    \"\"\"A custom prompt template that takes an algorithm as input and formats the prompt template to request optimization suggestions.\"\"\"\n",
    "\n",
    "    @validator(\"input_variables\")\n",
    "    def validate_input_variables(cls, v):\n",
    "        \"\"\"Validate that the input variables are correct.\"\"\"\n",
    "        if len(v) != 1 or \"algorithm_function\" not in v:\n",
    "            raise ValueError(\"algorithm_function must be the only input_variable.\")\n",
    "        return v\n",
    "\n",
    "    def format(self, **kwargs) -> str:\n",
    "        \"\"\"Format the prompt using the algorithm's name and source code.\"\"\"\n",
    "\n",
    "        # Retrieve the source code of the provided algorithm\n",
    "        source_code = get_source_code(kwargs[\"algorithm_function\"])\n",
    "\n",
    "        # Format the ALGO_PROMPT string using the algorithm name and its source code\n",
    "        prompt = ALGO_PROMPT.format(\n",
    "            algorithm_name=kwargs[\"algorithm_function\"].__name__,\n",
    "            source_code=source_code\n",
    "        )\n",
    "        return prompt\n",
    "\n",
    "    def _prompt_type(self) -> str:\n",
    "        \"\"\"Return the type of prompt.\"\"\"\n",
    "        return \"algorithm-optimizer\"\n"
   ]
  },
  {
   "cell_type": "code",
   "execution_count": 11,
   "metadata": {
    "executionInfo": {
     "elapsed": 145,
     "status": "ok",
     "timestamp": 1706649061519,
     "user": {
      "displayName": "Harpreet Sahota",
      "userId": "04881662502078178826"
     },
     "user_tz": 360
    },
    "id": "xOgbsjxvisXK"
   },
   "outputs": [],
   "source": [
    "def recursive_factorial(n: int) -> int:\n",
    "    \"\"\"Calculate factorial of a number using recursion.\"\"\"\n",
    "    if n == 0:\n",
    "        return 1\n",
    "    else:\n",
    "        return n * recursive_factorial(n-1)\n"
   ]
  },
  {
   "cell_type": "code",
   "execution_count": 12,
   "metadata": {
    "colab": {
     "base_uri": "https://localhost:8080/"
    },
    "executionInfo": {
     "elapsed": 128,
     "status": "ok",
     "timestamp": 1706649069326,
     "user": {
      "displayName": "Harpreet Sahota",
      "userId": "04881662502078178826"
     },
     "user_tz": 360
    },
    "id": "iM0dqHFiiyZQ",
    "outputId": "cad8063f-a206-4db9-e2a8-75a01534c9a8"
   },
   "outputs": [
    {
     "name": "stdout",
     "output_type": "stream",
     "text": [
      "Given the algorithm below, suggest optimizations or potential improvements, and return the optimized code.\n",
      "\n",
      "Algorithm Name: recursive_factorial\n",
      "\n",
      "Source Code:\n",
      "def recursive_factorial(n: int) -> int:\n",
      "    \"\"\"Calculate factorial of a number using recursion.\"\"\"\n",
      "    if n == 0:\n",
      "        return 1\n",
      "    else:\n",
      "        return n * recursive_factorial(n-1)\n",
      "\n",
      "\n",
      "Suggestions:\n",
      "\n"
     ]
    }
   ],
   "source": [
    "# Instantiate the AlgorithmOptimizerPromptTemplate with the appropriate input variable\n",
    "algo_optimizer = AlgorithmOptimizerPromptTemplate(input_variables=[\"algorithm_function\"])\n",
    "\n",
    "# Generate a prompt for the function \"recursive_factorial\"\n",
    "prompt = algo_optimizer.format(algorithm_function=recursive_factorial)\n",
    "\n",
    "print(prompt)"
   ]
  },
  {
   "cell_type": "code",
   "execution_count": 13,
   "metadata": {
    "colab": {
     "base_uri": "https://localhost:8080/"
    },
    "executionInfo": {
     "elapsed": 2298,
     "status": "ok",
     "timestamp": 1706649078315,
     "user": {
      "displayName": "Harpreet Sahota",
      "userId": "04881662502078178826"
     },
     "user_tz": 360
    },
    "id": "1RiGyAr5i1Or",
    "outputId": "98286802-bb30-484d-e628-70a191f509fc"
   },
   "outputs": [
    {
     "name": "stdout",
     "output_type": "stream",
     "text": [
      "1. Use memoization to store the results of previously calculated factorials to avoid redundant calculations.\n",
      "2. Add input validation to handle negative numbers or non-integer inputs.\n",
      "\n",
      "Optimized Code:\n",
      "from functools import lru_cache\n",
      "\n",
      "@lru_cache(maxsize=None)\n",
      "def recursive_factorial(n: int) -> int:\n",
      "    \"\"\"Calculate factorial of a number using recursion and memoization.\"\"\"\n",
      "    if not isinstance(n, int) or n < 0:\n",
      "        raise ValueError(\"Input must be a non-negative integer\")\n",
      "    if n == 0:\n",
      "        return 1\n",
      "    else:\n",
      "        return n * recursive_factorial(n-1)\n"
     ]
    }
   ],
   "source": [
    "result = llm.invoke(prompt)\n",
    "\n",
    "print(result.content)"
   ]
  },
  {
   "cell_type": "code",
   "execution_count": 14,
   "metadata": {
    "colab": {
     "base_uri": "https://localhost:8080/"
    },
    "executionInfo": {
     "elapsed": 3338,
     "status": "ok",
     "timestamp": 1706649154004,
     "user": {
      "displayName": "Harpreet Sahota",
      "userId": "04881662502078178826"
     },
     "user_tz": 360
    },
    "id": "DzFHNzL7Nj_P",
    "outputId": "0cb8624a-a69b-44f4-f194-5f5387e6a008"
   },
   "outputs": [
    {
     "name": "stdout",
     "output_type": "stream",
     "text": [
      "1. Use memoization to store the results of previously calculated factorials to avoid redundant calculations.\n",
      "2. Implement error handling to handle negative input values.\n",
      "3. Use a loop-based approach for better performance and reduced stack overhead, especially for large input values.\n",
      "\n",
      "Optimized Code:\n",
      "\n",
      "def recursive_factorial(n: int) -> int:\n",
      "    \"\"\"Calculate factorial of a number using recursion with memoization.\"\"\"\n",
      "    if n < 0:\n",
      "        raise ValueError(\"Input value must be non-negative\")\n",
      "    memo = {}\n",
      "    return factorial_helper(n, memo)\n",
      "\n",
      "def factorial_helper(n: int, memo: dict) -> int:\n",
      "    if n in memo:\n",
      "        return memo[n]\n",
      "    if n == 0:\n",
      "        return 1\n",
      "    else:\n",
      "        result = n * factorial_helper(n-1, memo)\n",
      "        memo[n] = result\n",
      "        return result\n",
      "\n",
      "This optimized code uses memoization to store previously calculated factorials and also includes error handling for negative input values. This approach improves performance and reduces redundant calculations."
     ]
    }
   ],
   "source": [
    "llm_chain = algo_optimizer | llm | StrOutputParser()\n",
    "\n",
    "for chunk in llm_chain.stream({\"algorithm_function\":recursive_factorial}):\n",
    "  print(chunk, end=\"\", flush=True)"
   ]
  },
  {
   "cell_type": "code",
   "execution_count": null,
   "metadata": {
    "id": "6o-X_3hhN2OD"
   },
   "outputs": [],
   "source": []
  }
 ],
 "metadata": {
  "colab": {
   "authorship_tag": "ABX9TyNlCKfr+nYp1J9z3uArzIDx",
   "provenance": []
  },
  "kernelspec": {
   "display_name": ".venv",
   "language": "python",
   "name": "python3"
  },
  "language_info": {
   "codemirror_mode": {
    "name": "ipython",
    "version": 3
   },
   "file_extension": ".py",
   "mimetype": "text/x-python",
   "name": "python",
   "nbconvert_exporter": "python",
   "pygments_lexer": "ipython3",
   "version": "3.13.2"
  }
 },
 "nbformat": 4,
 "nbformat_minor": 0
}
