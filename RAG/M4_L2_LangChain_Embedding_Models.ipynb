{
 "cells": [
  {
   "cell_type": "markdown",
   "metadata": {
    "application/vnd.databricks.v1+cell": {
     "cellMetadata": {},
     "inputWidgets": {},
     "nuid": "0817a22b-a0ea-4f64-990d-e11a73d560d9",
     "showTitle": false,
     "tableResultSettingsMap": {},
     "title": ""
    }
   },
   "source": [
    "**Reference Link:** [RAG Systems Essentials (Analytics Vidhya)](https://courses.analyticsvidhya.com/courses/take/rag-systems-essentials/lessons/60148017-hands-on-deep-dive-into-rag-evaluation-metrics-generator-metrics-i)"
   ]
  },
  {
   "cell_type": "markdown",
   "metadata": {
    "application/vnd.databricks.v1+cell": {
     "cellMetadata": {},
     "inputWidgets": {},
     "nuid": "8e411c25-a1b7-45b7-bd10-3ecd572b9541",
     "showTitle": false,
     "tableResultSettingsMap": {},
     "title": ""
    },
    "id": "br-yEtdhToCP"
   },
   "source": [
    "# Exploring Embedding Models in LangChain"
   ]
  },
  {
   "cell_type": "markdown",
   "metadata": {
    "application/vnd.databricks.v1+cell": {
     "cellMetadata": {},
     "inputWidgets": {},
     "nuid": "334f34c2-a14f-46be-9a6d-5b0d02f0fb1a",
     "showTitle": false,
     "tableResultSettingsMap": {},
     "title": ""
    },
    "id": "L1KvMtf54l0d"
   },
   "source": [
    "## Install OpenAI, HuggingFace and LangChain dependencies"
   ]
  },
  {
   "cell_type": "code",
   "execution_count": 0,
   "metadata": {
    "application/vnd.databricks.v1+cell": {
     "cellMetadata": {},
     "inputWidgets": {},
     "nuid": "8bc6d74b-1723-4b7f-a14f-5aaa6164f2dc",
     "showTitle": false,
     "tableResultSettingsMap": {},
     "title": ""
    }
   },
   "outputs": [],
   "source": [
    "!pip install langchain==0.3.11\n",
    "!pip install langchain-openai==0.2.12\n",
    "!pip install langchain-community==0.3.11\n",
    "!pip install langchain-huggingface==0.1.2"
   ]
  },
  {
   "cell_type": "markdown",
   "metadata": {
    "application/vnd.databricks.v1+cell": {
     "cellMetadata": {},
     "inputWidgets": {},
     "nuid": "e792fd15-6c0a-4822-96b4-77689c2cdfbd",
     "showTitle": false,
     "tableResultSettingsMap": {},
     "title": ""
    },
    "id": "H9c37cLnSrbg"
   },
   "source": [
    "## Enter Open AI and HuggingFace API Tokens"
   ]
  },
  {
   "cell_type": "code",
   "execution_count": 0,
   "metadata": {
    "application/vnd.databricks.v1+cell": {
     "cellMetadata": {},
     "inputWidgets": {},
     "nuid": "649900d3-6f2f-4872-ae84-b78e5e2170f6",
     "showTitle": false,
     "tableResultSettingsMap": {},
     "title": ""
    },
    "id": "cv3JzCEx_PAd"
   },
   "outputs": [],
   "source": [
    "from getpass import getpass\n",
    "\n",
    "OPENAI_KEY = getpass('Enter Open AI API Key: ')"
   ]
  },
  {
   "cell_type": "code",
   "execution_count": 0,
   "metadata": {
    "application/vnd.databricks.v1+cell": {
     "cellMetadata": {},
     "inputWidgets": {},
     "nuid": "4b236852-6e25-4782-9cca-4d2d174f4a71",
     "showTitle": false,
     "tableResultSettingsMap": {},
     "title": ""
    },
    "id": "h7vnQZC6_eiy"
   },
   "outputs": [],
   "source": [
    "from getpass import getpass\n",
    "\n",
    "HUGGINGFACEHUB_API_TOKEN = getpass('Enter HuggingFace Auth Token Key: ')"
   ]
  },
  {
   "cell_type": "markdown",
   "metadata": {
    "application/vnd.databricks.v1+cell": {
     "cellMetadata": {},
     "inputWidgets": {},
     "nuid": "22929149-f98f-4a61-a062-1357d35258e9",
     "showTitle": false,
     "tableResultSettingsMap": {},
     "title": ""
    },
    "id": "1T0s0um5Svfa"
   },
   "source": [
    "## Setup Environment Variables"
   ]
  },
  {
   "cell_type": "code",
   "execution_count": 0,
   "metadata": {
    "application/vnd.databricks.v1+cell": {
     "cellMetadata": {},
     "inputWidgets": {},
     "nuid": "04f0bce6-235f-4d8a-8008-d49ae68dd672",
     "showTitle": false,
     "tableResultSettingsMap": {},
     "title": ""
    },
    "id": "x1YSuHNF_lbh"
   },
   "outputs": [],
   "source": [
    "import os\n",
    "\n",
    "os.environ['OPENAI_API_KEY'] = OPENAI_KEY\n",
    "os.environ['HUGGINGFACEHUB_API_TOKEN'] = HUGGINGFACEHUB_API_TOKEN"
   ]
  },
  {
   "cell_type": "markdown",
   "metadata": {
    "application/vnd.databricks.v1+cell": {
     "cellMetadata": {},
     "inputWidgets": {},
     "nuid": "d9ebe1f9-edf4-4cf2-aa71-c11c9b4d94ee",
     "showTitle": false,
     "tableResultSettingsMap": {},
     "title": ""
    },
    "id": "e81VnNL-Npan"
   },
   "source": [
    "## Embedding models\n",
    "\n",
    "The Embeddings class is a class designed for interfacing with text embedding models. There are lots of embedding model providers (OpenAI, Cohere, Hugging Face, etc) - this class is designed to provide a standard interface for all of them.\n",
    "\n",
    "Embeddings create a vector representation of a piece of text. This is useful because it means we can think about text in the vector space, and do things like semantic search where we look for pieces of text that are most similar in the vector space.\n",
    "\n",
    "The base Embeddings class in LangChain provides two methods: one for embedding documents and one for embedding a query. The former takes as input multiple texts, while the latter takes a single text. The reason for having these as two separate methods is that some embedding providers have different embedding methods for documents (to be searched over) vs queries (the search query itself)."
   ]
  },
  {
   "cell_type": "code",
   "execution_count": 0,
   "metadata": {
    "application/vnd.databricks.v1+cell": {
     "cellMetadata": {},
     "inputWidgets": {},
     "nuid": "74803800-411a-4b08-81bd-4e27ebc95d4e",
     "showTitle": false,
     "tableResultSettingsMap": {},
     "title": ""
    },
    "id": "ZKNTEu9r_6xY"
   },
   "outputs": [],
   "source": [
    "docs = [\n",
    "    \"cats eat and sleep\",\n",
    "    \"dogs eat and bark\",\n",
    "    \"cars drive fast\",\n",
    "    \"vehicles include trucks and cars\"\n",
    "]"
   ]
  },
  {
   "cell_type": "markdown",
   "metadata": {
    "application/vnd.databricks.v1+cell": {
     "cellMetadata": {},
     "inputWidgets": {},
     "nuid": "34a78601-62d5-4652-9d34-9518a7fb71d9",
     "showTitle": false,
     "tableResultSettingsMap": {},
     "title": ""
    },
    "id": "CF4EkcYfNwx0"
   },
   "source": [
    "Embeddings create a vector representation of a piece of text. This is useful because it means we can think about text in the vector space, and do things like semantic search where we look for pieces of text that are most similar in the vector space.\n",
    "\n",
    "The base Embeddings class in LangChain provides two methods: one for embedding documents and one for embedding a query. The former, `.embed_documents`, takes as input multiple texts, while the latter, `.embed_query`, takes a single text. The reason for having these as two separate methods is that some embedding providers have different embedding methods for documents (to be searched over) vs queries (the search query itself).\n",
    "\n",
    "- `.embed_query`  will return a list of floats,\n",
    "- `.embed_documents` returns a list of lists of floats."
   ]
  },
  {
   "cell_type": "markdown",
   "metadata": {
    "application/vnd.databricks.v1+cell": {
     "cellMetadata": {},
     "inputWidgets": {},
     "nuid": "80ab0a2a-87a7-4b84-920f-efc2a927b2c7",
     "showTitle": false,
     "tableResultSettingsMap": {},
     "title": ""
    },
    "id": "M8nHAP7XOGOj"
   },
   "source": [
    "### Open AI Embedding Models\n",
    "\n",
    "LangChain enables us to access Open AI embedding models which include the newest models: a smaller and highly efficient `text-embedding-3-small` model, and a larger and more powerful `text-embedding-3-large` model."
   ]
  },
  {
   "cell_type": "code",
   "execution_count": 0,
   "metadata": {
    "application/vnd.databricks.v1+cell": {
     "cellMetadata": {},
     "inputWidgets": {},
     "nuid": "5e9fcd23-2902-4104-99d8-f7116de31d44",
     "showTitle": false,
     "tableResultSettingsMap": {},
     "title": ""
    },
    "id": "jzrIVI2NAHC1"
   },
   "outputs": [],
   "source": [
    "from langchain_openai import OpenAIEmbeddings\n",
    "\n",
    "# details here: https://openai.com/blog/new-embedding-models-and-api-updates\n",
    "openai_embed_model = OpenAIEmbeddings(model='text-embedding-3-small')"
   ]
  },
  {
   "cell_type": "code",
   "execution_count": 0,
   "metadata": {
    "application/vnd.databricks.v1+cell": {
     "cellMetadata": {},
     "inputWidgets": {},
     "nuid": "f34a7459-1e3f-4fe9-9bfb-41f1ac4a0d8c",
     "showTitle": false,
     "tableResultSettingsMap": {},
     "title": ""
    },
    "id": "YusSojOAAVAX"
   },
   "outputs": [],
   "source": [
    "embeddings = openai_embed_model.embed_documents(docs)"
   ]
  },
  {
   "cell_type": "code",
   "execution_count": 0,
   "metadata": {
    "application/vnd.databricks.v1+cell": {
     "cellMetadata": {},
     "inputWidgets": {},
     "nuid": "ae522ddd-2293-413a-bbc3-bd43ba20b069",
     "showTitle": false,
     "tableResultSettingsMap": {},
     "title": ""
    },
    "id": "93H3jQqlAYza"
   },
   "outputs": [],
   "source": [
    "len(embeddings)"
   ]
  },
  {
   "cell_type": "code",
   "execution_count": 0,
   "metadata": {
    "application/vnd.databricks.v1+cell": {
     "cellMetadata": {},
     "inputWidgets": {},
     "nuid": "e9b46217-0be9-46ac-a8e9-5d7ba76be426",
     "showTitle": false,
     "tableResultSettingsMap": {},
     "title": ""
    }
   },
   "outputs": [],
   "source": [
    "print(embeddings)"
   ]
  },
  {
   "cell_type": "code",
   "execution_count": 0,
   "metadata": {
    "application/vnd.databricks.v1+cell": {
     "cellMetadata": {},
     "inputWidgets": {},
     "nuid": "06dbde0a-3432-4e4e-8e61-9389272b4e1e",
     "showTitle": false,
     "tableResultSettingsMap": {},
     "title": ""
    },
    "id": "UgC3CyGDAdr0"
   },
   "outputs": [],
   "source": [
    "len(embeddings[0])"
   ]
  },
  {
   "cell_type": "code",
   "execution_count": 0,
   "metadata": {
    "application/vnd.databricks.v1+cell": {
     "cellMetadata": {},
     "inputWidgets": {},
     "nuid": "7844d843-addd-489c-a38f-560fd7161198",
     "showTitle": false,
     "tableResultSettingsMap": {},
     "title": ""
    },
    "id": "GRo0asF4AfBd",
    "scrolled": true
   },
   "outputs": [],
   "source": [
    "print(embeddings[0])"
   ]
  },
  {
   "cell_type": "code",
   "execution_count": 0,
   "metadata": {
    "application/vnd.databricks.v1+cell": {
     "cellMetadata": {},
     "inputWidgets": {},
     "nuid": "0188eba6-9938-48e2-8119-b8dfd6ebae96",
     "showTitle": false,
     "tableResultSettingsMap": {},
     "title": ""
    },
    "id": "dfIZhgRAAkq7"
   },
   "outputs": [],
   "source": [
    "docs"
   ]
  },
  {
   "cell_type": "code",
   "execution_count": 0,
   "metadata": {
    "application/vnd.databricks.v1+cell": {
     "cellMetadata": {},
     "inputWidgets": {},
     "nuid": "38fd92c7-bbc0-4ba2-aa53-22cd7fd90c86",
     "showTitle": false,
     "tableResultSettingsMap": {},
     "title": ""
    },
    "id": "QVffLOp5AlXF"
   },
   "outputs": [],
   "source": [
    "from sklearn.metrics.pairwise import cosine_similarity\n",
    "\n",
    "sim_matrix = cosine_similarity(embeddings)\n",
    "sim_matrix"
   ]
  },
  {
   "cell_type": "markdown",
   "metadata": {
    "application/vnd.databricks.v1+cell": {
     "cellMetadata": {},
     "inputWidgets": {},
     "nuid": "c6097f3e-73db-4e2b-8cb2-995a8d12f1c2",
     "showTitle": false,
     "tableResultSettingsMap": {},
     "title": ""
    },
    "id": "z1uMrziMOaYw"
   },
   "source": [
    "## Open Source Embedding Models on HuggingFace\n",
    "\n",
    "`langchain-huggingface` integrates seamlessly with LangChain, providing an efficient and effective way to utilize Hugging Face models within the LangChain ecosystem.\n",
    "\n",
    "`HuggingFaceEmbeddings`uses `sentence-transformers` embeddings. It computes the embedding locally, using your computer resources and allows you to access open or open source embedding LLMs hosted on HuggingFace."
   ]
  },
  {
   "cell_type": "code",
   "execution_count": 0,
   "metadata": {
    "application/vnd.databricks.v1+cell": {
     "cellMetadata": {},
     "inputWidgets": {},
     "nuid": "871873c6-2878-4bb6-b672-f4df0b6567ac",
     "showTitle": false,
     "tableResultSettingsMap": {},
     "title": ""
    },
    "id": "28n79jM-AsBx"
   },
   "outputs": [],
   "source": [
    "from langchain_huggingface import HuggingFaceEmbeddings\n",
    "\n",
    "# check out model details here: https://huggingface.co/mixedbread-ai/mxbai-embed-large-v1\n",
    "model_name = \"mixedbread-ai/mxbai-embed-large-v1\"\n",
    "\n",
    "hf_embeddings = HuggingFaceEmbeddings(\n",
    "    model_name=model_name,\n",
    ")"
   ]
  },
  {
   "cell_type": "code",
   "execution_count": 0,
   "metadata": {
    "application/vnd.databricks.v1+cell": {
     "cellMetadata": {},
     "inputWidgets": {},
     "nuid": "9e90e277-d285-4333-a174-9b12c1ad93ed",
     "showTitle": false,
     "tableResultSettingsMap": {},
     "title": ""
    },
    "id": "UM7xEwiwBXqe"
   },
   "outputs": [],
   "source": [
    "embeddings = hf_embeddings.embed_documents(docs)"
   ]
  },
  {
   "cell_type": "code",
   "execution_count": 0,
   "metadata": {
    "application/vnd.databricks.v1+cell": {
     "cellMetadata": {},
     "inputWidgets": {},
     "nuid": "0fc9c78b-093d-4991-9d48-2bd96b24bb82",
     "showTitle": false,
     "tableResultSettingsMap": {},
     "title": ""
    },
    "id": "8M20R3q3BfIL"
   },
   "outputs": [],
   "source": [
    "len(embeddings)"
   ]
  },
  {
   "cell_type": "code",
   "execution_count": 0,
   "metadata": {
    "application/vnd.databricks.v1+cell": {
     "cellMetadata": {},
     "inputWidgets": {},
     "nuid": "d262cf2b-c357-4250-a202-b85fd1deb3fd",
     "showTitle": false,
     "tableResultSettingsMap": {},
     "title": ""
    },
    "id": "D_87rUyEBgL4"
   },
   "outputs": [],
   "source": [
    "len(embeddings[0])"
   ]
  },
  {
   "cell_type": "code",
   "execution_count": 0,
   "metadata": {
    "application/vnd.databricks.v1+cell": {
     "cellMetadata": {},
     "inputWidgets": {},
     "nuid": "c01480b7-3b0d-400e-bad9-2f231703f424",
     "showTitle": false,
     "tableResultSettingsMap": {},
     "title": ""
    },
    "id": "83qh6lQZVWnV"
   },
   "outputs": [],
   "source": [
    "docs"
   ]
  },
  {
   "cell_type": "code",
   "execution_count": 0,
   "metadata": {
    "application/vnd.databricks.v1+cell": {
     "cellMetadata": {},
     "inputWidgets": {},
     "nuid": "a3b7fe3a-de8e-4c3c-9ec8-add40e98cf1b",
     "showTitle": false,
     "tableResultSettingsMap": {},
     "title": ""
    },
    "id": "zGHEceLfBhB4"
   },
   "outputs": [],
   "source": [
    "sim_matrix = cosine_similarity(embeddings)\n",
    "sim_matrix"
   ]
  },
  {
   "cell_type": "markdown",
   "metadata": {
    "application/vnd.databricks.v1+cell": {
     "cellMetadata": {},
     "inputWidgets": {},
     "nuid": "edd3a3e3-0f0d-4fd6-ba51-e500c0dc8488",
     "showTitle": false,
     "tableResultSettingsMap": {},
     "title": ""
    },
    "id": "3lftCkcFp3cn"
   },
   "source": [
    "## Build a small search engine!"
   ]
  },
  {
   "cell_type": "markdown",
   "metadata": {
    "application/vnd.databricks.v1+cell": {
     "cellMetadata": {},
     "inputWidgets": {},
     "nuid": "a211c09f-9bc2-49a4-a362-25ab3598c939",
     "showTitle": false,
     "tableResultSettingsMap": {},
     "title": ""
    },
    "id": "vqhZfWqwO5AJ"
   },
   "source": [
    "### Load Knowledgebase documents"
   ]
  },
  {
   "cell_type": "code",
   "execution_count": 0,
   "metadata": {
    "application/vnd.databricks.v1+cell": {
     "cellMetadata": {},
     "inputWidgets": {},
     "nuid": "d4bb8d34-c04d-437b-98f5-a066ff2073f5",
     "showTitle": false,
     "tableResultSettingsMap": {},
     "title": ""
    },
    "id": "LYybmS0Sejd7"
   },
   "outputs": [],
   "source": [
    "documents = [\n",
    "    'Quantum mechanics describes the behavior of very small particles.',\n",
    "    'Photosynthesis is the process by which green plants make food using sunlight.',\n",
    "    \"Shakespeare's plays are a testament to English literature.\",\n",
    "    'Artificial Intelligence aims to create machines that can think and learn.',\n",
    "    'The pyramids of Egypt are historical monuments that have stood for thousands of years.',\n",
    "    'Biology is the study of living organisms and their interactions with the environment.',\n",
    "    'Music therapy can aid in the mental well-being of individuals.',\n",
    "    'The Milky Way is just one of billions of galaxies in the universe.',\n",
    "    'Economic theories help understand the distribution of resources in society.',\n",
    "    'Yoga is an ancient practice that involves physical postures and meditation.'\n",
    "]"
   ]
  },
  {
   "cell_type": "code",
   "execution_count": 0,
   "metadata": {
    "application/vnd.databricks.v1+cell": {
     "cellMetadata": {},
     "inputWidgets": {},
     "nuid": "85a4ae46-0e0a-45a4-83df-be78b936d43a",
     "showTitle": false,
     "tableResultSettingsMap": {},
     "title": ""
    },
    "id": "pz9HLzPz-YQC"
   },
   "outputs": [],
   "source": [
    "len(documents)"
   ]
  },
  {
   "cell_type": "markdown",
   "metadata": {
    "application/vnd.databricks.v1+cell": {
     "cellMetadata": {},
     "inputWidgets": {},
     "nuid": "83ca1e98-5436-43d6-9bce-11cf491a706b",
     "showTitle": false,
     "tableResultSettingsMap": {},
     "title": ""
    },
    "id": "D-llyc6yp-WK"
   },
   "source": [
    "### Get document embeddings"
   ]
  },
  {
   "cell_type": "code",
   "execution_count": 0,
   "metadata": {
    "application/vnd.databricks.v1+cell": {
     "cellMetadata": {},
     "inputWidgets": {},
     "nuid": "77ed3518-9a14-4568-a999-97e4c5ce12b5",
     "showTitle": false,
     "tableResultSettingsMap": {},
     "title": ""
    },
    "id": "9uNIJzSwhSOz"
   },
   "outputs": [],
   "source": [
    "document_embeddings = openai_embed_model.embed_documents(documents)"
   ]
  },
  {
   "cell_type": "markdown",
   "metadata": {
    "application/vnd.databricks.v1+cell": {
     "cellMetadata": {},
     "inputWidgets": {},
     "nuid": "83760e0c-9003-4c0c-9c46-10930f634a84",
     "showTitle": false,
     "tableResultSettingsMap": {},
     "title": ""
    },
    "id": "hm9TZcPyqQFl"
   },
   "source": [
    "### Let's try to find the most similar document for one query"
   ]
  },
  {
   "cell_type": "code",
   "execution_count": 0,
   "metadata": {
    "application/vnd.databricks.v1+cell": {
     "cellMetadata": {},
     "inputWidgets": {},
     "nuid": "dce2e7a5-286f-4cc3-a56e-e70de99fbe7a",
     "showTitle": false,
     "tableResultSettingsMap": {},
     "title": ""
    },
    "id": "d1tSZLrnqL-v"
   },
   "outputs": [],
   "source": [
    "new_text = 'What is AI?'\n",
    "new_text"
   ]
  },
  {
   "cell_type": "code",
   "execution_count": 0,
   "metadata": {
    "application/vnd.databricks.v1+cell": {
     "cellMetadata": {},
     "inputWidgets": {},
     "nuid": "56db3ef8-d6db-4629-8bdb-a15392cd8f91",
     "showTitle": false,
     "tableResultSettingsMap": {},
     "title": ""
    },
    "id": "SY684YySMA67"
   },
   "outputs": [],
   "source": [
    "query_embedding = openai_embed_model.embed_query(new_text)"
   ]
  },
  {
   "cell_type": "code",
   "execution_count": 0,
   "metadata": {
    "application/vnd.databricks.v1+cell": {
     "cellMetadata": {},
     "inputWidgets": {},
     "nuid": "70ce4a36-841e-43e1-9c94-87f214e9b8d2",
     "showTitle": false,
     "tableResultSettingsMap": {},
     "title": ""
    },
    "id": "9lI1JrtFMDF-"
   },
   "outputs": [],
   "source": [
    "cosine_similarities = cosine_similarity([query_embedding], document_embeddings)\n",
    "cosine_similarities"
   ]
  },
  {
   "cell_type": "code",
   "execution_count": 0,
   "metadata": {
    "application/vnd.databricks.v1+cell": {
     "cellMetadata": {},
     "inputWidgets": {},
     "nuid": "48cb4eed-cbbb-40b6-8096-fa4c27a1ac7e",
     "showTitle": false,
     "tableResultSettingsMap": {},
     "title": ""
    },
    "id": "L8ilJpgXMR3f"
   },
   "outputs": [],
   "source": [
    "import numpy as np\n",
    "\n",
    "documents[np.argmax(cosine_similarities[0])]"
   ]
  },
  {
   "cell_type": "markdown",
   "metadata": {
    "application/vnd.databricks.v1+cell": {
     "cellMetadata": {},
     "inputWidgets": {},
     "nuid": "b5d7da86-a5a6-4626-9e06-e23c88c0e474",
     "showTitle": false,
     "tableResultSettingsMap": {},
     "title": ""
    },
    "id": "Q-YNRhmbrnDE"
   },
   "source": [
    "### Create Search Engine function"
   ]
  },
  {
   "cell_type": "code",
   "execution_count": 0,
   "metadata": {
    "application/vnd.databricks.v1+cell": {
     "cellMetadata": {},
     "inputWidgets": {},
     "nuid": "b868d892-afce-4254-8492-cf2f4c8735da",
     "showTitle": false,
     "tableResultSettingsMap": {},
     "title": ""
    },
    "id": "d1AEDYNdhfW1"
   },
   "outputs": [],
   "source": [
    "def semantic_search_engine(query, embedder_model):\n",
    "  query_embedding = embedder_model.embed_query(query)\n",
    "  cos_scores = cosine_similarity([query_embedding], document_embeddings)[0]\n",
    "  top_result_id = np.argmax(cos_scores)\n",
    "  return documents[top_result_id]"
   ]
  },
  {
   "cell_type": "markdown",
   "metadata": {
    "application/vnd.databricks.v1+cell": {
     "cellMetadata": {},
     "inputWidgets": {},
     "nuid": "ec831ecf-850c-4232-b22a-82ab6584ef7a",
     "showTitle": false,
     "tableResultSettingsMap": {},
     "title": ""
    },
    "id": "dvnpjNtervq7"
   },
   "source": [
    "### Try out the function"
   ]
  },
  {
   "cell_type": "code",
   "execution_count": 0,
   "metadata": {
    "application/vnd.databricks.v1+cell": {
     "cellMetadata": {},
     "inputWidgets": {},
     "nuid": "0b497d7a-dbe8-4fee-aacd-41e5cc305ecf",
     "showTitle": false,
     "tableResultSettingsMap": {},
     "title": ""
    },
    "id": "u6waCgoHiSrF"
   },
   "outputs": [],
   "source": [
    "new_sentence = 'Tell me about AI'\n",
    "semantic_search_engine(new_sentence, openai_embed_model)"
   ]
  },
  {
   "cell_type": "code",
   "execution_count": 0,
   "metadata": {
    "application/vnd.databricks.v1+cell": {
     "cellMetadata": {},
     "inputWidgets": {},
     "nuid": "6c23025b-76b0-4444-83c7-b70ff5e1a1fb",
     "showTitle": false,
     "tableResultSettingsMap": {},
     "title": ""
    },
    "id": "5fNNYN-lifn4"
   },
   "outputs": [],
   "source": [
    "new_sentence = 'Do you know about the pyramids?'\n",
    "semantic_search_engine(new_sentence, openai_embed_model)"
   ]
  },
  {
   "cell_type": "code",
   "execution_count": 0,
   "metadata": {
    "application/vnd.databricks.v1+cell": {
     "cellMetadata": {},
     "inputWidgets": {},
     "nuid": "daf93e49-85b1-4429-b7f6-48e107bd5a5f",
     "showTitle": false,
     "tableResultSettingsMap": {},
     "title": ""
    },
    "id": "lod8wnLziqG8"
   },
   "outputs": [],
   "source": [
    "new_sentence = 'How do plants survive?'\n",
    "semantic_search_engine(new_sentence, openai_embed_model)"
   ]
  }
 ],
 "metadata": {
  "application/vnd.databricks.v1+notebook": {
   "computePreferences": null,
   "dashboards": [],
   "environmentMetadata": null,
   "language": "python",
   "notebookMetadata": {},
   "notebookName": "M4_L2_LangChain_Embedding_Models",
   "widgets": {}
  },
  "colab": {
   "provenance": []
  },
  "kernelspec": {
   "display_name": ".venv",
   "language": "python",
   "name": "python3"
  },
  "language_info": {
   "name": "python"
  }
 },
 "nbformat": 4,
 "nbformat_minor": 0
}
