{
 "cells": [
  {
   "cell_type": "markdown",
   "metadata": {
    "application/vnd.databricks.v1+cell": {
     "cellMetadata": {},
     "inputWidgets": {},
     "nuid": "322c7436-a50f-4832-8ba8-22acffe85fd7",
     "showTitle": false,
     "tableResultSettingsMap": {},
     "title": ""
    }
   },
   "source": [
    "**Reference Link:** [RAG Systems Essentials (Analytics Vidhya)](https://courses.analyticsvidhya.com/courses/take/rag-systems-essentials/lessons/60148017-hands-on-deep-dive-into-rag-evaluation-metrics-generator-metrics-i)"
   ]
  },
  {
   "cell_type": "markdown",
   "metadata": {
    "application/vnd.databricks.v1+cell": {
     "cellMetadata": {},
     "inputWidgets": {},
     "nuid": "9548137c-1d97-4d9a-939e-1b31d70e8dcc",
     "showTitle": false,
     "tableResultSettingsMap": {},
     "title": ""
    },
    "id": "FK8y96JHga3F"
   },
   "source": [
    "# Exploring Vector Database Operations in LangChain"
   ]
  },
  {
   "cell_type": "markdown",
   "metadata": {
    "application/vnd.databricks.v1+cell": {
     "cellMetadata": {},
     "inputWidgets": {},
     "nuid": "d74bb32a-b2c4-428d-a2b5-328e0839a754",
     "showTitle": false,
     "tableResultSettingsMap": {},
     "title": ""
    },
    "id": "L1KvMtf54l0d"
   },
   "source": [
    "## Install OpenAI, and LangChain dependencies"
   ]
  },
  {
   "cell_type": "code",
   "execution_count": 0,
   "metadata": {
    "application/vnd.databricks.v1+cell": {
     "cellMetadata": {},
     "inputWidgets": {},
     "nuid": "f50bac22-7e74-4a87-9335-fed8fe875351",
     "showTitle": false,
     "tableResultSettingsMap": {},
     "title": ""
    }
   },
   "outputs": [],
   "source": [
    "!pip install langchain==0.3.11\n",
    "!pip install langchain-openai==0.2.12\n",
    "!pip install langchain-community==0.3.11"
   ]
  },
  {
   "cell_type": "markdown",
   "metadata": {
    "application/vnd.databricks.v1+cell": {
     "cellMetadata": {},
     "inputWidgets": {},
     "nuid": "6976dcb0-a207-405e-bdc5-850a63735af3",
     "showTitle": false,
     "tableResultSettingsMap": {},
     "title": ""
    },
    "id": "TlfidBdQZRGj"
   },
   "source": [
    "## Install Chroma Vector DB and LangChain wrapper"
   ]
  },
  {
   "cell_type": "code",
   "execution_count": 0,
   "metadata": {
    "application/vnd.databricks.v1+cell": {
     "cellMetadata": {},
     "inputWidgets": {},
     "nuid": "c3e289a2-c4c8-4d56-af04-1d47a26fb9d6",
     "showTitle": false,
     "tableResultSettingsMap": {},
     "title": ""
    },
    "collapsed": true,
    "id": "uZKQDgQURhmF",
    "jupyter": {
     "outputs_hidden": true
    },
    "scrolled": true
   },
   "outputs": [],
   "source": [
    "!pip install langchain-chroma"
   ]
  },
  {
   "cell_type": "markdown",
   "metadata": {
    "application/vnd.databricks.v1+cell": {
     "cellMetadata": {},
     "inputWidgets": {},
     "nuid": "9231ce3e-2edd-4d95-89b8-3b9067560f00",
     "showTitle": false,
     "tableResultSettingsMap": {},
     "title": ""
    },
    "id": "H9c37cLnSrbg"
   },
   "source": [
    "## Enter Open AI API Key"
   ]
  },
  {
   "cell_type": "code",
   "execution_count": 0,
   "metadata": {
    "application/vnd.databricks.v1+cell": {
     "cellMetadata": {},
     "inputWidgets": {},
     "nuid": "de26f114-376c-4ad1-a2d4-89d29db839d6",
     "showTitle": false,
     "tableResultSettingsMap": {},
     "title": ""
    },
    "id": "cv3JzCEx_PAd"
   },
   "outputs": [],
   "source": [
    "from getpass import getpass\n",
    "\n",
    "OPENAI_KEY = getpass('Enter Open AI API Key: ')"
   ]
  },
  {
   "cell_type": "markdown",
   "metadata": {
    "application/vnd.databricks.v1+cell": {
     "cellMetadata": {},
     "inputWidgets": {},
     "nuid": "0195e498-765a-4e69-bb4e-28cb114f5e7b",
     "showTitle": false,
     "tableResultSettingsMap": {},
     "title": ""
    },
    "id": "1T0s0um5Svfa"
   },
   "source": [
    "## Setup Environment Variables"
   ]
  },
  {
   "cell_type": "code",
   "execution_count": 0,
   "metadata": {
    "application/vnd.databricks.v1+cell": {
     "cellMetadata": {},
     "inputWidgets": {},
     "nuid": "febb3faf-86a5-4954-a793-c700bb092a7c",
     "showTitle": false,
     "tableResultSettingsMap": {},
     "title": ""
    },
    "id": "x1YSuHNF_lbh"
   },
   "outputs": [],
   "source": [
    "import os\n",
    "\n",
    "os.environ['OPENAI_API_KEY'] = OPENAI_KEY"
   ]
  },
  {
   "cell_type": "code",
   "execution_count": 0,
   "metadata": {
    "application/vnd.databricks.v1+cell": {
     "cellMetadata": {},
     "inputWidgets": {},
     "nuid": "19dbf10e-14b3-4da1-9a77-c19a4bb056de",
     "showTitle": false,
     "tableResultSettingsMap": {},
     "title": ""
    },
    "id": "chE-52dQSX-D"
   },
   "outputs": [],
   "source": [
    "documents = ['Quantum mechanics describes the behavior of very small particles.',\n",
    " 'Photosynthesis is the process by which green plants make food using sunlight.',\n",
    " \"Shakespeare's plays are a testament to English literature.\",\n",
    " 'Artificial Intelligence aims to create machines that can think and learn.',\n",
    " 'The pyramids of Egypt are historical monuments that have stood for thousands of years.']"
   ]
  },
  {
   "cell_type": "markdown",
   "metadata": {
    "application/vnd.databricks.v1+cell": {
     "cellMetadata": {},
     "inputWidgets": {},
     "nuid": "d541e43c-784e-4034-9404-d316e9bb8c65",
     "showTitle": false,
     "tableResultSettingsMap": {},
     "title": ""
    },
    "id": "M8nHAP7XOGOj"
   },
   "source": [
    "### Open AI Embedding Models\n",
    "\n",
    "LangChain enables us to access Open AI embedding models which include the newest models: a smaller and highly efficient `text-embedding-3-small` model, and a larger and more powerful `text-embedding-3-large` model."
   ]
  },
  {
   "cell_type": "code",
   "execution_count": 0,
   "metadata": {
    "application/vnd.databricks.v1+cell": {
     "cellMetadata": {},
     "inputWidgets": {},
     "nuid": "60633363-c224-4963-b18b-e0bc092f74ff",
     "showTitle": false,
     "tableResultSettingsMap": {},
     "title": ""
    },
    "id": "jzrIVI2NAHC1"
   },
   "outputs": [],
   "source": [
    "from langchain_openai import OpenAIEmbeddings\n",
    "\n",
    "# details here: https://openai.com/blog/new-embedding-models-and-api-updates\n",
    "openai_embed_model = OpenAIEmbeddings(model='text-embedding-3-small')"
   ]
  },
  {
   "cell_type": "markdown",
   "metadata": {
    "application/vnd.databricks.v1+cell": {
     "cellMetadata": {},
     "inputWidgets": {},
     "nuid": "761b6657-1e8c-42e1-b378-96c636b181cd",
     "showTitle": false,
     "tableResultSettingsMap": {},
     "title": ""
    },
    "id": "IO3_BzTbTBcJ"
   },
   "source": [
    "## Vector Databases\n",
    "\n",
    "One of the most common ways to store and search over unstructured data is to embed it and store the resulting embedding vectors, and then at query time to embed the unstructured query and retrieve the embedding vectors that are 'most similar' to the embedded query. A vector database takes care of storing embedded data and performing vector search for you.\n",
    "\n",
    "### Chroma Vector DB\n",
    "\n",
    "[Chroma](https://docs.trychroma.com/getting-started) is a AI-native open-source vector database focused on developer productivity and happiness. Chroma is licensed under Apache 2.0."
   ]
  },
  {
   "cell_type": "code",
   "execution_count": 0,
   "metadata": {
    "application/vnd.databricks.v1+cell": {
     "cellMetadata": {},
     "inputWidgets": {},
     "nuid": "a5bf785f-bf23-467c-a053-dbc93d95d7f9",
     "showTitle": false,
     "tableResultSettingsMap": {},
     "title": ""
    },
    "id": "YcKeBBJpVWLa"
   },
   "outputs": [],
   "source": [
    "# delete vector db if exists\n",
    "!del -rf ./chroma_db"
   ]
  },
  {
   "cell_type": "markdown",
   "metadata": {
    "application/vnd.databricks.v1+cell": {
     "cellMetadata": {},
     "inputWidgets": {},
     "nuid": "43dcd784-fb7b-40fa-ac1d-a594c8054a68",
     "showTitle": false,
     "tableResultSettingsMap": {},
     "title": ""
    },
    "id": "-PnV9lAXZw9a"
   },
   "source": [
    "### Create a Vector DB and persist on disk\n",
    "\n",
    "Here we initialize a connection to a Chroma vector DB client, and also we want to save to disk, so we simply initialize the Chroma client and pass the directory where we want the data to be saved to."
   ]
  },
  {
   "cell_type": "code",
   "execution_count": 0,
   "metadata": {
    "application/vnd.databricks.v1+cell": {
     "cellMetadata": {},
     "inputWidgets": {},
     "nuid": "3f15218e-a2c0-4d9b-946f-55c9e3d719b9",
     "showTitle": false,
     "tableResultSettingsMap": {},
     "title": ""
    },
    "id": "kRYfcrsHUxyZ"
   },
   "outputs": [],
   "source": [
    "from langchain_chroma import Chroma\n",
    "\n",
    "# create empty vector DB\n",
    "chroma_db = Chroma(collection_name='search_docs',\n",
    "                   embedding_function=openai_embed_model,\n",
    "                   persist_directory=\"./chroma_db\")"
   ]
  },
  {
   "cell_type": "markdown",
   "metadata": {
    "application/vnd.databricks.v1+cell": {
     "cellMetadata": {},
     "inputWidgets": {},
     "nuid": "0e8f54a7-7898-492b-abd2-33606fd124e6",
     "showTitle": false,
     "tableResultSettingsMap": {},
     "title": ""
    },
    "id": "QZNgo3-FaQDy"
   },
   "source": [
    "We take some sample documents"
   ]
  },
  {
   "cell_type": "code",
   "execution_count": 0,
   "metadata": {
    "application/vnd.databricks.v1+cell": {
     "cellMetadata": {},
     "inputWidgets": {},
     "nuid": "1a914d33-ff38-4f87-9d6f-5aef966c74e0",
     "showTitle": false,
     "tableResultSettingsMap": {},
     "title": ""
    },
    "id": "DM43ZGeYSYEo"
   },
   "outputs": [],
   "source": [
    "documents"
   ]
  },
  {
   "cell_type": "markdown",
   "metadata": {
    "application/vnd.databricks.v1+cell": {
     "cellMetadata": {},
     "inputWidgets": {},
     "nuid": "29f72ebc-aa81-4230-84e9-188b8d6a57c3",
     "showTitle": false,
     "tableResultSettingsMap": {},
     "title": ""
    },
    "id": "xabwMGilaRvB"
   },
   "source": [
    "We create document IDs to uniquely identify each document"
   ]
  },
  {
   "cell_type": "code",
   "execution_count": 0,
   "metadata": {
    "application/vnd.databricks.v1+cell": {
     "cellMetadata": {},
     "inputWidgets": {},
     "nuid": "8957d858-521b-4ff7-ba6c-fb59610119df",
     "showTitle": false,
     "tableResultSettingsMap": {},
     "title": ""
    },
    "id": "xvakxS5_SYHf"
   },
   "outputs": [],
   "source": [
    "ids = ['doc_'+str(i) for i in range(len(documents))]\n",
    "ids"
   ]
  },
  {
   "cell_type": "markdown",
   "metadata": {
    "application/vnd.databricks.v1+cell": {
     "cellMetadata": {},
     "inputWidgets": {},
     "nuid": "0f370f74-25b7-43aa-a29f-52ece76c94bd",
     "showTitle": false,
     "tableResultSettingsMap": {},
     "title": ""
    },
    "id": "pi8cceQ8aV5d"
   },
   "source": [
    "Checking the Vector DB to see if its empty"
   ]
  },
  {
   "cell_type": "code",
   "execution_count": 0,
   "metadata": {
    "application/vnd.databricks.v1+cell": {
     "cellMetadata": {},
     "inputWidgets": {},
     "nuid": "ead51781-c541-4abe-82dd-760a992cb4fb",
     "showTitle": false,
     "tableResultSettingsMap": {},
     "title": ""
    },
    "id": "CaJCDXf6UB6Z"
   },
   "outputs": [],
   "source": [
    "chroma_db.get()"
   ]
  },
  {
   "cell_type": "markdown",
   "metadata": {
    "application/vnd.databricks.v1+cell": {
     "cellMetadata": {},
     "inputWidgets": {},
     "nuid": "bafcd7e5-ed70-4670-989a-29f7ff6d7207",
     "showTitle": false,
     "tableResultSettingsMap": {},
     "title": ""
    },
    "id": "cq8i9EFHaZUx"
   },
   "source": [
    "### Adding documents to Vector DB\n",
    "\n",
    "Here we take our texts, pass them through the Open AI embedder to get embeddings and add it to the Chroma Vector DB.\n",
    "\n",
    "If you have documents in the LangChain `Document` format then you can use `add_documents` instead"
   ]
  },
  {
   "cell_type": "code",
   "execution_count": 0,
   "metadata": {
    "application/vnd.databricks.v1+cell": {
     "cellMetadata": {},
     "inputWidgets": {},
     "nuid": "b27cc245-d1f3-4a89-b69c-61c83d88a78b",
     "showTitle": false,
     "tableResultSettingsMap": {},
     "title": ""
    },
    "id": "7bpaVxAzUF3K"
   },
   "outputs": [],
   "source": [
    "chroma_db.add_texts(texts=documents, ids=ids)"
   ]
  },
  {
   "cell_type": "markdown",
   "metadata": {
    "application/vnd.databricks.v1+cell": {
     "cellMetadata": {},
     "inputWidgets": {},
     "nuid": "b26d9f62-c81b-4714-a1f9-a9e323ffcf75",
     "showTitle": false,
     "tableResultSettingsMap": {},
     "title": ""
    },
    "id": "gdHhK5huavC_"
   },
   "source": [
    "We check out Vector DB now to see these documents have been indexed successfully"
   ]
  },
  {
   "cell_type": "code",
   "execution_count": 0,
   "metadata": {
    "application/vnd.databricks.v1+cell": {
     "cellMetadata": {},
     "inputWidgets": {},
     "nuid": "b78094a3-72b8-4f65-ad90-5b04004560ec",
     "showTitle": false,
     "tableResultSettingsMap": {},
     "title": ""
    },
    "id": "0spBuNy5USvl"
   },
   "outputs": [],
   "source": [
    "chroma_db.get()"
   ]
  },
  {
   "cell_type": "markdown",
   "metadata": {
    "application/vnd.databricks.v1+cell": {
     "cellMetadata": {},
     "inputWidgets": {},
     "nuid": "a6bafebf-45b2-4aa9-a9dc-310e7101978b",
     "showTitle": false,
     "tableResultSettingsMap": {},
     "title": ""
    },
    "id": "I0yT6J0fa0Nz"
   },
   "source": [
    "Run some search queries in our Vector DB"
   ]
  },
  {
   "cell_type": "code",
   "execution_count": 0,
   "metadata": {
    "application/vnd.databricks.v1+cell": {
     "cellMetadata": {},
     "inputWidgets": {},
     "nuid": "be176dc4-5aab-47a2-8865-771f9190aece",
     "showTitle": false,
     "tableResultSettingsMap": {},
     "title": ""
    },
    "id": "abDq5EuSUuaD"
   },
   "outputs": [],
   "source": [
    "query = 'Tell me about AI'\n",
    "docs = chroma_db.similarity_search_with_score(query=query, k=1)\n",
    "docs"
   ]
  },
  {
   "cell_type": "code",
   "execution_count": 0,
   "metadata": {
    "application/vnd.databricks.v1+cell": {
     "cellMetadata": {},
     "inputWidgets": {},
     "nuid": "55b2114b-1e19-4050-8850-51c53aa1da4d",
     "showTitle": false,
     "tableResultSettingsMap": {},
     "title": ""
    },
    "id": "DQ8gfFyCVCD_"
   },
   "outputs": [],
   "source": [
    "query = 'Do you know about the pyramids?'\n",
    "docs = chroma_db.similarity_search_with_score(query=query, k=1)\n",
    "docs"
   ]
  },
  {
   "cell_type": "code",
   "execution_count": 0,
   "metadata": {
    "application/vnd.databricks.v1+cell": {
     "cellMetadata": {},
     "inputWidgets": {},
     "nuid": "70cd1ce9-4976-46e4-a6a1-26d74e84653a",
     "showTitle": false,
     "tableResultSettingsMap": {},
     "title": ""
    },
    "id": "DVb69ih3VNgH"
   },
   "outputs": [],
   "source": [
    "query = 'What is Biology?'\n",
    "docs = chroma_db.similarity_search_with_score(query=query, k=1)\n",
    "docs"
   ]
  },
  {
   "cell_type": "markdown",
   "metadata": {
    "application/vnd.databricks.v1+cell": {
     "cellMetadata": {},
     "inputWidgets": {},
     "nuid": "52c39dc8-a0fc-41b7-a7d8-2cf8e115f5a2",
     "showTitle": false,
     "tableResultSettingsMap": {},
     "title": ""
    },
    "id": "6_jLaVlVa4r2"
   },
   "source": [
    "### Adding more documents to our Vector DB\n",
    "\n",
    "You can add new documents anytime to the vector DB as shown below"
   ]
  },
  {
   "cell_type": "code",
   "execution_count": 0,
   "metadata": {
    "application/vnd.databricks.v1+cell": {
     "cellMetadata": {},
     "inputWidgets": {},
     "nuid": "74be91a0-0117-4ac6-adce-49a981198503",
     "showTitle": false,
     "tableResultSettingsMap": {},
     "title": ""
    },
    "id": "4oV3J9WfWBPG"
   },
   "outputs": [],
   "source": [
    "new_documents = [ 'Biology is the study of living organisms and their interactions with the environment.',\n",
    " 'Music therapy can aid in the mental well-being of individuals.',\n",
    " 'The Milky Way is just one of billions of galaxies in the universe.',\n",
    " 'Economic theories help understand the distribution of resources in society.',\n",
    " 'Yoga is an ancient practice that involves physical postures and meditation.']"
   ]
  },
  {
   "cell_type": "code",
   "execution_count": 0,
   "metadata": {
    "application/vnd.databricks.v1+cell": {
     "cellMetadata": {},
     "inputWidgets": {},
     "nuid": "1e5ddd18-6ac3-41ef-a478-6f9df3262ece",
     "showTitle": false,
     "tableResultSettingsMap": {},
     "title": ""
    },
    "id": "STDdgZFzUcAE"
   },
   "outputs": [],
   "source": [
    "new_ids = ['doc_'+str(i+len(ids)) for i in range(len(new_documents))]\n",
    "new_ids"
   ]
  },
  {
   "cell_type": "code",
   "execution_count": 0,
   "metadata": {
    "application/vnd.databricks.v1+cell": {
     "cellMetadata": {},
     "inputWidgets": {},
     "nuid": "5638480c-00ef-4b29-a030-9cac5a411a49",
     "showTitle": false,
     "tableResultSettingsMap": {},
     "title": ""
    },
    "id": "TflFjSaMUYt1"
   },
   "outputs": [],
   "source": [
    "chroma_db.add_texts(texts=new_documents, ids=new_ids)"
   ]
  },
  {
   "cell_type": "code",
   "execution_count": 0,
   "metadata": {
    "application/vnd.databricks.v1+cell": {
     "cellMetadata": {},
     "inputWidgets": {},
     "nuid": "900ab04b-9204-45b7-bc3e-d1f404348285",
     "showTitle": false,
     "tableResultSettingsMap": {},
     "title": ""
    },
    "id": "Ky07CngbUsTO"
   },
   "outputs": [],
   "source": [
    "chroma_db.get()"
   ]
  },
  {
   "cell_type": "code",
   "execution_count": 0,
   "metadata": {
    "application/vnd.databricks.v1+cell": {
     "cellMetadata": {},
     "inputWidgets": {},
     "nuid": "cb070cad-84ff-4282-bfd2-92000b937790",
     "showTitle": false,
     "tableResultSettingsMap": {},
     "title": ""
    },
    "id": "Z3x5UJglWFcC"
   },
   "outputs": [],
   "source": [
    "query = 'What is Biology?'\n",
    "docs = chroma_db.similarity_search_with_score(query=query, k=1)\n",
    "docs"
   ]
  },
  {
   "cell_type": "markdown",
   "metadata": {
    "application/vnd.databricks.v1+cell": {
     "cellMetadata": {},
     "inputWidgets": {},
     "nuid": "b91bbee2-94b8-4a58-a636-ec7a1e0d5e1e",
     "showTitle": false,
     "tableResultSettingsMap": {},
     "title": ""
    },
    "id": "XdBtHtSMbBCM"
   },
   "source": [
    "### Updating documents in the Vector DB\n",
    "\n",
    "While building toward a real application, you want to go beyond adding data, and also update and delete data.\n",
    "\n",
    "Chroma has users provide ids to simplify the bookkeeping here and update documents as shown below using the `update_documents`function"
   ]
  },
  {
   "cell_type": "code",
   "execution_count": 0,
   "metadata": {
    "application/vnd.databricks.v1+cell": {
     "cellMetadata": {},
     "inputWidgets": {},
     "nuid": "c20e584a-401c-4ba0-8fa8-8c4f86d84070",
     "showTitle": false,
     "tableResultSettingsMap": {},
     "title": ""
    },
    "id": "FfihAFixWeFy"
   },
   "outputs": [],
   "source": [
    "chroma_db.get(['doc_3'])"
   ]
  },
  {
   "cell_type": "code",
   "execution_count": 0,
   "metadata": {
    "application/vnd.databricks.v1+cell": {
     "cellMetadata": {},
     "inputWidgets": {},
     "nuid": "2a9cfb27-488f-48f3-9b13-34faa264d90f",
     "showTitle": false,
     "tableResultSettingsMap": {},
     "title": ""
    },
    "id": "XAwRqzfZWSEe"
   },
   "outputs": [],
   "source": [
    "from langchain_core.documents import Document\n",
    "\n",
    "ids = ['doc_3']\n",
    "texts = ['AI is known as Artificial Intelligence. Artificial Intelligence aims to create machines that can think and learn.']\n",
    "documents = [Document(page_content=text, metadata={'doc': id})\n",
    "                for id, text in zip(ids,texts)]\n",
    "documents"
   ]
  },
  {
   "cell_type": "code",
   "execution_count": 0,
   "metadata": {
    "application/vnd.databricks.v1+cell": {
     "cellMetadata": {},
     "inputWidgets": {},
     "nuid": "68b17b1b-8c23-401e-9c49-3188edaa9365",
     "showTitle": false,
     "tableResultSettingsMap": {},
     "title": ""
    },
    "id": "8b5roh90jn1I"
   },
   "outputs": [],
   "source": [
    "chroma_db.update_documents(ids=ids,documents=documents)"
   ]
  },
  {
   "cell_type": "code",
   "execution_count": 0,
   "metadata": {
    "application/vnd.databricks.v1+cell": {
     "cellMetadata": {},
     "inputWidgets": {},
     "nuid": "7f2c4418-9859-4a61-a90e-fd294e07359a",
     "showTitle": false,
     "tableResultSettingsMap": {},
     "title": ""
    },
    "id": "lymdyvHFYKeG"
   },
   "outputs": [],
   "source": [
    "chroma_db.get(['doc_3'])"
   ]
  },
  {
   "cell_type": "code",
   "execution_count": 0,
   "metadata": {
    "application/vnd.databricks.v1+cell": {
     "cellMetadata": {},
     "inputWidgets": {},
     "nuid": "354fd404-997a-47a2-af1f-c756e494cf00",
     "showTitle": false,
     "tableResultSettingsMap": {},
     "title": ""
    },
    "id": "cbw49i-iYN8z"
   },
   "outputs": [],
   "source": [
    "query = 'What is AI?'\n",
    "docs = chroma_db.similarity_search_with_score(query=query, k=1)\n",
    "docs"
   ]
  },
  {
   "cell_type": "markdown",
   "metadata": {
    "application/vnd.databricks.v1+cell": {
     "cellMetadata": {},
     "inputWidgets": {},
     "nuid": "d2282af3-e9a1-415e-8dd7-50411bc4e16d",
     "showTitle": false,
     "tableResultSettingsMap": {},
     "title": ""
    },
    "id": "x0dr_3hqbQnc"
   },
   "source": [
    "### Deleting documents in the Vector DB\n",
    "\n",
    "Chroma has users provide ids to simplify the bookkeeping here and delete documents as shown below using the `delete`function"
   ]
  },
  {
   "cell_type": "code",
   "execution_count": 0,
   "metadata": {
    "application/vnd.databricks.v1+cell": {
     "cellMetadata": {},
     "inputWidgets": {},
     "nuid": "e97dd9af-c0f7-431f-ac1f-99d392a38a68",
     "showTitle": false,
     "tableResultSettingsMap": {},
     "title": ""
    },
    "id": "u9Ie_7apYUoh"
   },
   "outputs": [],
   "source": [
    "chroma_db.delete(['doc_9'])"
   ]
  },
  {
   "cell_type": "code",
   "execution_count": 0,
   "metadata": {
    "application/vnd.databricks.v1+cell": {
     "cellMetadata": {},
     "inputWidgets": {},
     "nuid": "192fb691-fcdd-4845-8d6d-9d07a9288179",
     "showTitle": false,
     "tableResultSettingsMap": {},
     "title": ""
    },
    "id": "oOi9ZPINYXHb"
   },
   "outputs": [],
   "source": [
    "chroma_db.get()"
   ]
  },
  {
   "cell_type": "markdown",
   "metadata": {
    "application/vnd.databricks.v1+cell": {
     "cellMetadata": {},
     "inputWidgets": {},
     "nuid": "2d18164b-3f4a-48f3-a626-c726e75ccc9d",
     "showTitle": false,
     "tableResultSettingsMap": {},
     "title": ""
    },
    "id": "okbliKQzbWan"
   },
   "source": [
    "### Load Vector DB from disk\n",
    "\n",
    "Once you have saved your DB to disk, you can load it up anytime and connect to it and run queries as shown below"
   ]
  },
  {
   "cell_type": "code",
   "execution_count": 0,
   "metadata": {
    "application/vnd.databricks.v1+cell": {
     "cellMetadata": {},
     "inputWidgets": {},
     "nuid": "6e3641cc-31ae-478c-a756-41945126bf36",
     "showTitle": false,
     "tableResultSettingsMap": {},
     "title": ""
    },
    "id": "sQZ_1784Yp_0"
   },
   "outputs": [],
   "source": [
    "# load from disk\n",
    "db = Chroma(persist_directory=\"./chroma_db\",\n",
    "            embedding_function=openai_embed_model,\n",
    "            collection_name='search_docs')\n",
    "\n",
    "query = 'What is AI?'\n",
    "docs = db.similarity_search_with_score(query=query, k=1)\n",
    "docs"
   ]
  },
  {
   "cell_type": "code",
   "execution_count": 0,
   "metadata": {
    "application/vnd.databricks.v1+cell": {
     "cellMetadata": {},
     "inputWidgets": {},
     "nuid": "f93cecf0-11a4-4fee-ad5a-8bb46fd1cd2d",
     "showTitle": false,
     "tableResultSettingsMap": {},
     "title": ""
    }
   },
   "outputs": [],
   "source": []
  },
  {
   "cell_type": "code",
   "execution_count": 0,
   "metadata": {
    "application/vnd.databricks.v1+cell": {
     "cellMetadata": {},
     "inputWidgets": {},
     "nuid": "9ac529d1-5004-4eb4-97d9-6c7b80d57e23",
     "showTitle": false,
     "tableResultSettingsMap": {},
     "title": ""
    }
   },
   "outputs": [],
   "source": []
  },
  {
   "cell_type": "code",
   "execution_count": 0,
   "metadata": {
    "application/vnd.databricks.v1+cell": {
     "cellMetadata": {},
     "inputWidgets": {},
     "nuid": "42a16d12-c77a-4f1e-ab59-b964d1c965b6",
     "showTitle": false,
     "tableResultSettingsMap": {},
     "title": ""
    }
   },
   "outputs": [],
   "source": []
  }
 ],
 "metadata": {
  "application/vnd.databricks.v1+notebook": {
   "computePreferences": null,
   "dashboards": [],
   "environmentMetadata": null,
   "language": "python",
   "notebookMetadata": {},
   "notebookName": "M4_L4_LangChain_Vector_Databases",
   "widgets": {}
  },
  "colab": {
   "provenance": []
  },
  "kernelspec": {
   "display_name": ".venv",
   "language": "python",
   "name": "python3"
  },
  "language_info": {
   "name": "python"
  }
 },
 "nbformat": 4,
 "nbformat_minor": 0
}
