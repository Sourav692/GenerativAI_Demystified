{
 "cells": [
  {
   "cell_type": "markdown",
   "metadata": {
    "application/vnd.databricks.v1+cell": {
     "cellMetadata": {},
     "inputWidgets": {},
     "nuid": "dd2b4a3c-6e81-4193-a82b-446e8c5e2bf3",
     "showTitle": false,
     "tableResultSettingsMap": {},
     "title": ""
    }
   },
   "source": [
    "**Reference Link:** [RAG Systems Essentials (Analytics Vidhya)](https://courses.analyticsvidhya.com/courses/take/rag-systems-essentials/lessons/60148017-hands-on-deep-dive-into-rag-evaluation-metrics-generator-metrics-i)"
   ]
  },
  {
   "cell_type": "markdown",
   "metadata": {
    "application/vnd.databricks.v1+cell": {
     "cellMetadata": {},
     "inputWidgets": {},
     "nuid": "3ec082ca-332f-4e26-bc0c-413aa8398e4a",
     "showTitle": false,
     "tableResultSettingsMap": {},
     "title": ""
    },
    "id": "jbw4wHV4zlKj"
   },
   "source": [
    "# Explore Various Retrieval Strategies with Retrievers in LangChain"
   ]
  },
  {
   "cell_type": "markdown",
   "metadata": {
    "application/vnd.databricks.v1+cell": {
     "cellMetadata": {},
     "inputWidgets": {},
     "nuid": "dae22694-ac1e-4893-98b9-764b5a66a23c",
     "showTitle": false,
     "tableResultSettingsMap": {},
     "title": ""
    },
    "id": "L1KvMtf54l0d"
   },
   "source": [
    "## Install OpenAI, and LangChain dependencies"
   ]
  },
  {
   "cell_type": "code",
   "execution_count": 0,
   "metadata": {
    "application/vnd.databricks.v1+cell": {
     "cellMetadata": {},
     "inputWidgets": {},
     "nuid": "624386ca-8a93-4f5c-b33c-259ade72f62d",
     "showTitle": false,
     "tableResultSettingsMap": {},
     "title": ""
    }
   },
   "outputs": [],
   "source": [
    "!pip install langchain==0.3.11\n",
    "!pip install langchain-openai==0.2.12\n",
    "!pip install langchain-community==0.3.11"
   ]
  },
  {
   "cell_type": "markdown",
   "metadata": {
    "application/vnd.databricks.v1+cell": {
     "cellMetadata": {},
     "inputWidgets": {},
     "nuid": "ba454d56-7902-4e50-8d00-c10d9eef0352",
     "showTitle": false,
     "tableResultSettingsMap": {},
     "title": ""
    },
    "id": "TlfidBdQZRGj"
   },
   "source": [
    "## Install Chroma Vector DB and LangChain wrapper"
   ]
  },
  {
   "cell_type": "code",
   "execution_count": 0,
   "metadata": {
    "application/vnd.databricks.v1+cell": {
     "cellMetadata": {},
     "inputWidgets": {},
     "nuid": "695c4689-3a17-4e95-8b47-b90101e4ac75",
     "showTitle": false,
     "tableResultSettingsMap": {},
     "title": ""
    },
    "id": "uZKQDgQURhmF"
   },
   "outputs": [],
   "source": [
    "!pip install langchain-chroma"
   ]
  },
  {
   "cell_type": "markdown",
   "metadata": {
    "application/vnd.databricks.v1+cell": {
     "cellMetadata": {},
     "inputWidgets": {},
     "nuid": "7d247877-c991-4ef1-ab31-0b7342d24978",
     "showTitle": false,
     "tableResultSettingsMap": {},
     "title": ""
    },
    "id": "H9c37cLnSrbg"
   },
   "source": [
    "## Enter Open AI API Key"
   ]
  },
  {
   "cell_type": "code",
   "execution_count": 0,
   "metadata": {
    "application/vnd.databricks.v1+cell": {
     "cellMetadata": {},
     "inputWidgets": {},
     "nuid": "ef1ba0e3-160f-4fda-a389-b2c47a8bff30",
     "showTitle": false,
     "tableResultSettingsMap": {},
     "title": ""
    },
    "id": "cv3JzCEx_PAd"
   },
   "outputs": [],
   "source": [
    "from getpass import getpass\n",
    "\n",
    "OPENAI_KEY = getpass('Enter Open AI API Key: ')"
   ]
  },
  {
   "cell_type": "markdown",
   "metadata": {
    "application/vnd.databricks.v1+cell": {
     "cellMetadata": {},
     "inputWidgets": {},
     "nuid": "700ff55a-9f5f-48e7-b1a8-6d36b3b82905",
     "showTitle": false,
     "tableResultSettingsMap": {},
     "title": ""
    },
    "id": "1T0s0um5Svfa"
   },
   "source": [
    "## Setup Environment Variables"
   ]
  },
  {
   "cell_type": "code",
   "execution_count": 0,
   "metadata": {
    "application/vnd.databricks.v1+cell": {
     "cellMetadata": {},
     "inputWidgets": {},
     "nuid": "4a751903-8127-4f41-93a9-b0c6b05ee475",
     "showTitle": false,
     "tableResultSettingsMap": {},
     "title": ""
    },
    "id": "x1YSuHNF_lbh"
   },
   "outputs": [],
   "source": [
    "import os\n",
    "\n",
    "os.environ['OPENAI_API_KEY'] = OPENAI_KEY"
   ]
  },
  {
   "cell_type": "markdown",
   "metadata": {
    "application/vnd.databricks.v1+cell": {
     "cellMetadata": {},
     "inputWidgets": {},
     "nuid": "45718666-97c8-442b-a5f8-62f49e173f12",
     "showTitle": false,
     "tableResultSettingsMap": {},
     "title": ""
    },
    "id": "M8nHAP7XOGOj"
   },
   "source": [
    "### Open AI Embedding Models\n",
    "\n",
    "LangChain enables us to access Open AI embedding models which include the newest models: a smaller and highly efficient `text-embedding-3-small` model, and a larger and more powerful `text-embedding-3-large` model."
   ]
  },
  {
   "cell_type": "code",
   "execution_count": 0,
   "metadata": {
    "application/vnd.databricks.v1+cell": {
     "cellMetadata": {},
     "inputWidgets": {},
     "nuid": "84c09d63-05e1-4d8d-b131-a75b35e2cd41",
     "showTitle": false,
     "tableResultSettingsMap": {},
     "title": ""
    },
    "id": "jzrIVI2NAHC1"
   },
   "outputs": [],
   "source": [
    "from langchain_openai import OpenAIEmbeddings\n",
    "\n",
    "# details here: https://openai.com/blog/new-embedding-models-and-api-updates\n",
    "openai_embed_model = OpenAIEmbeddings(model='text-embedding-3-small')"
   ]
  },
  {
   "cell_type": "markdown",
   "metadata": {
    "application/vnd.databricks.v1+cell": {
     "cellMetadata": {},
     "inputWidgets": {},
     "nuid": "12850b7d-e338-4449-8758-fb46e89b2bbd",
     "showTitle": false,
     "tableResultSettingsMap": {},
     "title": ""
    },
    "id": "IO3_BzTbTBcJ"
   },
   "source": [
    "## Vector Databases\n",
    "\n",
    "One of the most common ways to store and search over unstructured data is to embed it and store the resulting embedding vectors, and then at query time to embed the unstructured query and retrieve the embedding vectors that are 'most similar' to the embedded query. A vector database takes care of storing embedded data and performing vector search for you.\n",
    "\n",
    "### Chroma Vector DB\n",
    "\n",
    "[Chroma](https://docs.trychroma.com/getting-started) is a AI-native open-source vector database focused on developer productivity and happiness. Chroma is licensed under Apache 2.0."
   ]
  },
  {
   "cell_type": "markdown",
   "metadata": {
    "application/vnd.databricks.v1+cell": {
     "cellMetadata": {},
     "inputWidgets": {},
     "nuid": "1078867a-4fda-4ce0-96d5-cc98563b0561",
     "showTitle": false,
     "tableResultSettingsMap": {},
     "title": ""
    },
    "id": "-PnV9lAXZw9a"
   },
   "source": [
    "### Create a Vector DB and persist on disk\n",
    "\n",
    "Here we initialize a connection to a Chroma vector DB client, and also we want to save to disk, so we simply initialize the Chroma client and pass the directory where we want the data to be saved to."
   ]
  },
  {
   "cell_type": "code",
   "execution_count": 0,
   "metadata": {
    "application/vnd.databricks.v1+cell": {
     "cellMetadata": {},
     "inputWidgets": {},
     "nuid": "c7585f40-ad0c-47e6-be44-d73d41f09775",
     "showTitle": false,
     "tableResultSettingsMap": {},
     "title": ""
    },
    "id": "oABVR8m-6ZiY"
   },
   "outputs": [],
   "source": [
    "docs = [\n",
    " 'Quantum mechanics describes the behavior of very small particles.',\n",
    " 'Photosynthesis is the process by which green plants make food using sunlight.',\n",
    " 'Artificial Intelligence aims to create machines that can think and learn.',\n",
    " 'The pyramids of Egypt are historical monuments that have stood for thousands of years.',\n",
    " 'New Delhi is the capital of India and the seat of all three branches of the Government of India.',\n",
    " 'Biology is the study of living organisms and their interactions with the environment.',\n",
    " 'Music therapy can aid in the mental well-being of individuals.',\n",
    " 'Mumbai is the financial capital and the most populous city of India. It is the financial, commercial, and entertainment capital of South Asia.',\n",
    " 'The Milky Way is just one of billions of galaxies in the universe.',\n",
    " 'Economic theories help understand the distribution of resources in society.',\n",
    " 'Kolkata is the de facto cultural capital of India and a historically and culturally significant city. Calcutta served as the de facto capital of India until 1911.',\n",
    " 'Yoga is an ancient practice that involves physical postures and meditation.'\n",
    "]"
   ]
  },
  {
   "cell_type": "code",
   "execution_count": 0,
   "metadata": {
    "application/vnd.databricks.v1+cell": {
     "cellMetadata": {},
     "inputWidgets": {},
     "nuid": "44885ccf-c2aa-4e20-b531-c56aeec2c5e2",
     "showTitle": false,
     "tableResultSettingsMap": {},
     "title": ""
    },
    "id": "kRYfcrsHUxyZ"
   },
   "outputs": [],
   "source": [
    "from langchain_chroma import Chroma\n",
    "\n",
    "# create vector DB of docs and embeddings - takes 1 min on Colab\n",
    "chroma_db = Chroma.from_texts(texts=docs, collection_name='db_docs',\n",
    "                              # need to set the distance function to cosine else it uses euclidean by default\n",
    "                              # check https://docs.trychroma.com/guides#changing-the-distance-function\n",
    "                              collection_metadata={\"hnsw:space\": \"cosine\"},\n",
    "                              embedding=openai_embed_model)"
   ]
  },
  {
   "cell_type": "markdown",
   "metadata": {
    "application/vnd.databricks.v1+cell": {
     "cellMetadata": {},
     "inputWidgets": {},
     "nuid": "6a86c886-2b1e-46a0-91d1-653bb21a355c",
     "showTitle": false,
     "tableResultSettingsMap": {},
     "title": ""
    },
    "id": "bprZC4S6TLfj"
   },
   "source": [
    "## Vector Database Retrievers\n",
    "\n",
    "Here we will explore the following retrieval strategies on our Vector Database:\n",
    "\n",
    "- Similarity or Ranking based Retrieval\n",
    "- Similarity with Threshold Retrieval\n",
    "- Custom Retriever with Similarity Scores + Thresholding\n",
    "- Multi Query Retrieval\n",
    "- Contextual Compression Retrieval\n",
    "- Ensemble Retrieval"
   ]
  },
  {
   "cell_type": "markdown",
   "metadata": {
    "application/vnd.databricks.v1+cell": {
     "cellMetadata": {},
     "inputWidgets": {},
     "nuid": "087a3329-9863-4dbb-ab26-98614e5afe06",
     "showTitle": false,
     "tableResultSettingsMap": {},
     "title": ""
    },
    "id": "269fFuebBr5P"
   },
   "source": [
    "### Similarity or Ranking based Retrieval\n",
    "\n",
    "We use cosine similarity here and retrieve the top 3 similar documents based on the user input query"
   ]
  },
  {
   "cell_type": "code",
   "execution_count": 0,
   "metadata": {
    "application/vnd.databricks.v1+cell": {
     "cellMetadata": {},
     "inputWidgets": {},
     "nuid": "0a279db7-01ba-49a8-b579-b3759ae38583",
     "showTitle": false,
     "tableResultSettingsMap": {},
     "title": ""
    },
    "id": "ST7PDWG2b0ln"
   },
   "outputs": [],
   "source": [
    "similarity_retriever = chroma_db.as_retriever(search_type=\"similarity\",\n",
    "                                              search_kwargs={\"k\": 3})"
   ]
  },
  {
   "cell_type": "code",
   "execution_count": 0,
   "metadata": {
    "application/vnd.databricks.v1+cell": {
     "cellMetadata": {},
     "inputWidgets": {},
     "nuid": "70ee6426-3cee-42cd-a334-83ca0d4fb23f",
     "showTitle": false,
     "tableResultSettingsMap": {},
     "title": ""
    },
    "id": "4czRBjWLe8JH"
   },
   "outputs": [],
   "source": [
    "query = \"what is the capital of India?\"\n",
    "top3_docs = similarity_retriever.invoke(query)\n",
    "top3_docs"
   ]
  },
  {
   "cell_type": "code",
   "execution_count": 0,
   "metadata": {
    "application/vnd.databricks.v1+cell": {
     "cellMetadata": {},
     "inputWidgets": {},
     "nuid": "d9cf0177-90b5-43e4-a6ed-467508befd6d",
     "showTitle": false,
     "tableResultSettingsMap": {},
     "title": ""
    },
    "id": "CYGmZdV--qz_"
   },
   "outputs": [],
   "source": [
    "query = \"what is the old capital of India?\"\n",
    "top3_docs = similarity_retriever.invoke(query)\n",
    "top3_docs"
   ]
  },
  {
   "cell_type": "code",
   "execution_count": 0,
   "metadata": {
    "application/vnd.databricks.v1+cell": {
     "cellMetadata": {},
     "inputWidgets": {},
     "nuid": "10812b39-c4d9-46e1-b422-ff1e4718372e",
     "showTitle": false,
     "tableResultSettingsMap": {},
     "title": ""
    },
    "id": "ZJmJRjlV_kvS"
   },
   "outputs": [],
   "source": [
    "query = \"how do plants make food?\"\n",
    "top3_docs = similarity_retriever.invoke(query)\n",
    "top3_docs"
   ]
  },
  {
   "cell_type": "markdown",
   "metadata": {
    "application/vnd.databricks.v1+cell": {
     "cellMetadata": {},
     "inputWidgets": {},
     "nuid": "684e6240-8627-4367-9af9-2442c0133f51",
     "showTitle": false,
     "tableResultSettingsMap": {},
     "title": ""
    },
    "id": "Wk2cdAjpB5TE"
   },
   "source": [
    "We use maximum marginal relevance ranking here and retrieve the top 3 similar documents based on the user input query"
   ]
  },
  {
   "cell_type": "code",
   "execution_count": 0,
   "metadata": {
    "application/vnd.databricks.v1+cell": {
     "cellMetadata": {},
     "inputWidgets": {},
     "nuid": "38517df0-c59f-42b5-89ad-ab24b6db5cc3",
     "showTitle": false,
     "tableResultSettingsMap": {},
     "title": ""
    },
    "id": "TLlTPW5vfGIo"
   },
   "outputs": [],
   "source": [
    "mmr_retriever = chroma_db.as_retriever(search_type=\"mmr\",\n",
    "                                       search_kwargs={\"k\": 3,\n",
    "                                                      'fetch_k': 10})"
   ]
  },
  {
   "cell_type": "code",
   "execution_count": 0,
   "metadata": {
    "application/vnd.databricks.v1+cell": {
     "cellMetadata": {},
     "inputWidgets": {},
     "nuid": "86dc7523-e1b5-4721-8762-62d749251c24",
     "showTitle": false,
     "tableResultSettingsMap": {},
     "title": ""
    },
    "id": "mHztMoMDfU2D"
   },
   "outputs": [],
   "source": [
    "query = \"what is the capital of India?\"\n",
    "top3_docs = mmr_retriever.invoke(query)\n",
    "top3_docs"
   ]
  },
  {
   "cell_type": "code",
   "execution_count": 0,
   "metadata": {
    "application/vnd.databricks.v1+cell": {
     "cellMetadata": {},
     "inputWidgets": {},
     "nuid": "a2f7dab8-86fc-4ae5-b9b9-8073d2951b3a",
     "showTitle": false,
     "tableResultSettingsMap": {},
     "title": ""
    },
    "id": "I3wDFqdW_tA8"
   },
   "outputs": [],
   "source": [
    "query = \"what is the old capital of India?\"\n",
    "top3_docs = mmr_retriever.invoke(query)\n",
    "top3_docs"
   ]
  },
  {
   "cell_type": "code",
   "execution_count": 0,
   "metadata": {
    "application/vnd.databricks.v1+cell": {
     "cellMetadata": {},
     "inputWidgets": {},
     "nuid": "bd7f111e-d981-4cd6-baae-8f610ad4f216",
     "showTitle": false,
     "tableResultSettingsMap": {},
     "title": ""
    },
    "id": "XrY8wGD__xR8"
   },
   "outputs": [],
   "source": [
    "query = \"how do plants make food?\"\n",
    "top3_docs = mmr_retriever.invoke(query)\n",
    "top3_docs"
   ]
  },
  {
   "cell_type": "markdown",
   "metadata": {
    "application/vnd.databricks.v1+cell": {
     "cellMetadata": {},
     "inputWidgets": {},
     "nuid": "587e911c-118a-48ff-ab47-75bde8608d53",
     "showTitle": false,
     "tableResultSettingsMap": {},
     "title": ""
    },
    "id": "8foBD2xmCDYc"
   },
   "source": [
    "### Similarity with Threshold Retrieval\n",
    "\n",
    "We use cosine similarity here and retrieve the top 3 similar documents based on the user input query and also introduce a cutoff to not return any documents which are below a certain similarity threshold"
   ]
  },
  {
   "cell_type": "code",
   "execution_count": 0,
   "metadata": {
    "application/vnd.databricks.v1+cell": {
     "cellMetadata": {},
     "inputWidgets": {},
     "nuid": "00282c8c-0703-4d5f-8853-fb4c620964c9",
     "showTitle": false,
     "tableResultSettingsMap": {},
     "title": ""
    },
    "id": "6ROSNwqeCMRS"
   },
   "outputs": [],
   "source": [
    "similarity_threshold_retriever = chroma_db.as_retriever(search_type=\"similarity_score_threshold\",\n",
    "                                                        search_kwargs={\"k\": 3,\n",
    "                                                                       \"score_threshold\": 0.3})"
   ]
  },
  {
   "cell_type": "code",
   "execution_count": 0,
   "metadata": {
    "application/vnd.databricks.v1+cell": {
     "cellMetadata": {},
     "inputWidgets": {},
     "nuid": "9e5051c9-1ab8-47bf-962f-54704929c58a",
     "showTitle": false,
     "tableResultSettingsMap": {},
     "title": ""
    },
    "id": "Nv93k_QpCZv7"
   },
   "outputs": [],
   "source": [
    "query = \"what is the capital of India?\"\n",
    "top3_docs = similarity_threshold_retriever.invoke(query)\n",
    "top3_docs"
   ]
  },
  {
   "cell_type": "code",
   "execution_count": 0,
   "metadata": {
    "application/vnd.databricks.v1+cell": {
     "cellMetadata": {},
     "inputWidgets": {},
     "nuid": "39f7e08d-c911-41cd-af51-3972b57feeb3",
     "showTitle": false,
     "tableResultSettingsMap": {},
     "title": ""
    },
    "id": "fpu7Wzo6Cre9"
   },
   "outputs": [],
   "source": [
    "query = \"what is the old capital of India?\"\n",
    "top3_docs = similarity_threshold_retriever.invoke(query)\n",
    "top3_docs"
   ]
  },
  {
   "cell_type": "code",
   "execution_count": 0,
   "metadata": {
    "application/vnd.databricks.v1+cell": {
     "cellMetadata": {},
     "inputWidgets": {},
     "nuid": "d757be02-a2ac-41ec-8e1a-3dc4d789c602",
     "showTitle": false,
     "tableResultSettingsMap": {},
     "title": ""
    },
    "id": "nmALobtYCy0-"
   },
   "outputs": [],
   "source": [
    "query = \"how do plants make food?\"\n",
    "top3_docs = similarity_threshold_retriever.invoke(query)\n",
    "top3_docs"
   ]
  },
  {
   "cell_type": "markdown",
   "metadata": {
    "application/vnd.databricks.v1+cell": {
     "cellMetadata": {},
     "inputWidgets": {},
     "nuid": "ed65bf65-7745-4460-afdb-142ed7a32ba6",
     "showTitle": false,
     "tableResultSettingsMap": {},
     "title": ""
    },
    "id": "05zZy9jCLEbC"
   },
   "source": [
    "### Custom Retriever with Similarity Scores + Thresholding\n",
    "\n",
    "Here we will create a custom retriever which will:\n",
    "\n",
    "- Retrieve documents with cosine distance\n",
    "- Convert to similarity score and apply thresholding\n",
    "- Return topk documents above a similarity threshold"
   ]
  },
  {
   "cell_type": "code",
   "execution_count": 0,
   "metadata": {
    "application/vnd.databricks.v1+cell": {
     "cellMetadata": {},
     "inputWidgets": {},
     "nuid": "966d45dd-6cfa-4520-9296-61a3f36b8bd1",
     "showTitle": false,
     "tableResultSettingsMap": {},
     "title": ""
    },
    "id": "hwU_kMxIKQBG"
   },
   "outputs": [],
   "source": [
    "query = 'how do plants make food?'\n",
    "chroma_db.similarity_search_with_score(query, k=3)"
   ]
  },
  {
   "cell_type": "code",
   "execution_count": 0,
   "metadata": {
    "application/vnd.databricks.v1+cell": {
     "cellMetadata": {},
     "inputWidgets": {},
     "nuid": "7a6c4b0a-1471-482a-83b7-41a4d6ced443",
     "showTitle": false,
     "tableResultSettingsMap": {},
     "title": ""
    },
    "id": "ArhLcC32J-OC"
   },
   "outputs": [],
   "source": [
    "chroma_db._select_relevance_score_fn()"
   ]
  },
  {
   "cell_type": "code",
   "execution_count": 0,
   "metadata": {
    "application/vnd.databricks.v1+cell": {
     "cellMetadata": {},
     "inputWidgets": {},
     "nuid": "0d957768-2c1f-4cde-a46f-9864a2de59c2",
     "showTitle": false,
     "tableResultSettingsMap": {},
     "title": ""
    },
    "id": "3WlBCDeTKLM2"
   },
   "outputs": [],
   "source": [
    "# converts cosine distance to similarity; cosine_similarity = 1 - cosine_distance\n",
    "cosine_sim = chroma_db._select_relevance_score_fn()\n",
    "cosine_sim(0.35375)"
   ]
  },
  {
   "cell_type": "code",
   "execution_count": 0,
   "metadata": {
    "application/vnd.databricks.v1+cell": {
     "cellMetadata": {},
     "inputWidgets": {},
     "nuid": "98e0d86c-260a-4133-a2f5-299150e400df",
     "showTitle": false,
     "tableResultSettingsMap": {},
     "title": ""
    },
    "id": "YgOMpLEnDnoi"
   },
   "outputs": [],
   "source": [
    "from typing import List\n",
    "from langchain_core.documents import Document\n",
    "from langchain_core.runnables import chain\n",
    "\n",
    "@chain\n",
    "def custom_retriever(query: str, topk=3, threshold_score=0.3) -> List[Document]:\n",
    "    # get similarity conversion function (converts cosine distance to similarity)\n",
    "    cosine_sim = chroma_db._select_relevance_score_fn()\n",
    "    # get topk documents with lowest cosine distance\n",
    "    docs, scores = zip(*chroma_db.similarity_search_with_score(query, k=topk))\n",
    "    final_docs = []\n",
    "    for doc, score in zip(docs, scores):\n",
    "        # convert cosine distance to similarity\n",
    "        score = cosine_sim(score)\n",
    "        doc.metadata[\"score\"] = round(score, 3)\n",
    "        # check if score is above threshold\n",
    "        if score > threshold_score:\n",
    "            final_docs.append(doc)\n",
    "\n",
    "    return final_docs"
   ]
  },
  {
   "cell_type": "code",
   "execution_count": 0,
   "metadata": {
    "application/vnd.databricks.v1+cell": {
     "cellMetadata": {},
     "inputWidgets": {},
     "nuid": "4ebb58c6-8772-48bc-8640-2443feff80b5",
     "showTitle": false,
     "tableResultSettingsMap": {},
     "title": ""
    },
    "id": "Tt2ihp3yDFaE"
   },
   "outputs": [],
   "source": [
    "query = \"what is the financial capital of India?\"\n",
    "top3_docs = custom_retriever.invoke(query, topk=3, threshold_score=0.51)\n",
    "top3_docs"
   ]
  },
  {
   "cell_type": "code",
   "execution_count": 0,
   "metadata": {
    "application/vnd.databricks.v1+cell": {
     "cellMetadata": {},
     "inputWidgets": {},
     "nuid": "b697ec13-f26a-492d-afd8-481d55aa1853",
     "showTitle": false,
     "tableResultSettingsMap": {},
     "title": ""
    },
    "id": "kLk3PAu5EOGJ"
   },
   "outputs": [],
   "source": [
    "query = 'how do plants make food?'\n",
    "top3_docs = custom_retriever.invoke(query, topk=3, threshold_score=0.5)\n",
    "top3_docs"
   ]
  },
  {
   "cell_type": "markdown",
   "metadata": {
    "application/vnd.databricks.v1+cell": {
     "cellMetadata": {},
     "inputWidgets": {},
     "nuid": "79523968-7732-4b7e-a1f8-3586d8b111b2",
     "showTitle": false,
     "tableResultSettingsMap": {},
     "title": ""
    },
    "id": "6HKdIe2_wIBR"
   },
   "source": [
    "### Multi Query Retrieval\n",
    "\n",
    "Retrieval may produce different results with subtle changes in query wording, or if the embeddings do not capture the semantics of the data well. Prompt engineering / tuning is sometimes done to manually address these problems, but can be tedious.\n",
    "\n",
    "The [`MultiQueryRetriever`](https://api.python.langchain.com/en/latest/retrievers/langchain.retrievers.multi_query.MultiQueryRetriever.html) automates the process of prompt tuning by using an LLM to generate multiple queries from different perspectives for a given user input query. For each query, it retrieves a set of relevant documents and takes the unique union across all queries to get a larger set of potentially relevant documents."
   ]
  },
  {
   "cell_type": "code",
   "execution_count": 0,
   "metadata": {
    "application/vnd.databricks.v1+cell": {
     "cellMetadata": {},
     "inputWidgets": {},
     "nuid": "ec311c03-0f78-4cd4-9036-1f31e2f15f2a",
     "showTitle": false,
     "tableResultSettingsMap": {},
     "title": ""
    },
    "id": "qmfVRrRujxrA"
   },
   "outputs": [],
   "source": [
    "from langchain_openai import ChatOpenAI\n",
    "\n",
    "chatgpt = ChatOpenAI(model_name=\"gpt-4o-mini\", temperature=0)"
   ]
  },
  {
   "cell_type": "code",
   "execution_count": 0,
   "metadata": {
    "application/vnd.databricks.v1+cell": {
     "cellMetadata": {},
     "inputWidgets": {},
     "nuid": "d0b0063f-8ad9-49c8-9f3d-0db197100dfd",
     "showTitle": false,
     "tableResultSettingsMap": {},
     "title": ""
    },
    "id": "s3gU4HPvfjs7"
   },
   "outputs": [],
   "source": [
    "from langchain.retrievers.multi_query import MultiQueryRetriever\n",
    "# Set logging for the queries\n",
    "import logging\n",
    "\n",
    "similarity_retriever = chroma_db.as_retriever(search_type=\"similarity\",\n",
    "                                              search_kwargs={\"k\": 3})\n",
    "\n",
    "mq_retriever = MultiQueryRetriever.from_llm(\n",
    "    retriever=similarity_retriever, llm=chatgpt\n",
    ")\n",
    "\n",
    "logging.basicConfig()\n",
    "# so we can see what queries are generated by the LLM\n",
    "logging.getLogger(\"langchain.retrievers.multi_query\").setLevel(logging.INFO)"
   ]
  },
  {
   "cell_type": "code",
   "execution_count": 0,
   "metadata": {
    "application/vnd.databricks.v1+cell": {
     "cellMetadata": {},
     "inputWidgets": {},
     "nuid": "90823ec4-051c-4dac-88f8-852619843561",
     "showTitle": false,
     "tableResultSettingsMap": {},
     "title": ""
    },
    "id": "KZJBIsl8xC_N"
   },
   "outputs": [],
   "source": [
    "query = \"financial capital of India?\"\n",
    "docs = mq_retriever.invoke(query)\n",
    "docs"
   ]
  },
  {
   "cell_type": "code",
   "execution_count": 0,
   "metadata": {
    "application/vnd.databricks.v1+cell": {
     "cellMetadata": {},
     "inputWidgets": {},
     "nuid": "c3333fd2-21f2-4d66-a884-af36861299f2",
     "showTitle": false,
     "tableResultSettingsMap": {},
     "title": ""
    },
    "id": "TVBeusuSyVo3"
   },
   "outputs": [],
   "source": [
    "query = \"old capital of India?\"\n",
    "docs = mq_retriever.invoke(query)\n",
    "docs"
   ]
  },
  {
   "cell_type": "markdown",
   "metadata": {
    "application/vnd.databricks.v1+cell": {
     "cellMetadata": {},
     "inputWidgets": {},
     "nuid": "54d85efb-5963-4b16-b2c6-738d125d9114",
     "showTitle": false,
     "tableResultSettingsMap": {},
     "title": ""
    },
    "id": "qKkMcQpf3lBs"
   },
   "source": [
    "### Contextual Compression Retrieval\n",
    "\n",
    "The information most relevant to a query may be buried in a document with a lot of irrelevant text. Passing that full document through your application can lead to more expensive LLM calls and poorer responses.\n",
    "\n",
    "Contextual compression is meant to fix this. The idea is simple: instead of immediately returning retrieved documents as-is, you can compress them using the context of the given query, so that only the relevant information is returned.\n",
    "\n",
    "This compression can happen in the form of:\n",
    "\n",
    "- Remove parts of the content of retrieved documents which are not relevant to the query. This is done by extracting only relevant parts of the document to the given query\n",
    "\n",
    "- Filter out documents which are not relevant to the given query but do not remove content from the document"
   ]
  },
  {
   "cell_type": "markdown",
   "metadata": {
    "application/vnd.databricks.v1+cell": {
     "cellMetadata": {},
     "inputWidgets": {},
     "nuid": "09d0cdba-c285-47f9-a220-b07cef3b74ea",
     "showTitle": false,
     "tableResultSettingsMap": {},
     "title": ""
    },
    "id": "pNMpbsi64QcM"
   },
   "source": [
    "Here we wrap our base cosine distance retriever with a `ContextualCompressionRetriever`. Then we'll add an `LLMChainExtractor`, which will iterate over the initially returned documents and extract from each only the content that is relevant to the query."
   ]
  },
  {
   "cell_type": "code",
   "execution_count": 0,
   "metadata": {
    "application/vnd.databricks.v1+cell": {
     "cellMetadata": {},
     "inputWidgets": {},
     "nuid": "1fd1e733-d476-4349-9848-8c9babac1b37",
     "showTitle": false,
     "tableResultSettingsMap": {},
     "title": ""
    },
    "id": "b14n_2AHykTf"
   },
   "outputs": [],
   "source": [
    "from langchain.retrievers import ContextualCompressionRetriever\n",
    "from langchain.retrievers.document_compressors import LLMChainExtractor\n",
    "\n",
    "# simple cosine distance based retriever\n",
    "similarity_retriever = chroma_db.as_retriever(search_type=\"similarity\",\n",
    "                                              search_kwargs={\"k\": 3})\n",
    "\n",
    "# extracts from each document only the content that is relevant to the query\n",
    "compressor = LLMChainExtractor.from_llm(llm=chatgpt)\n",
    "\n",
    "# retrieves the documents similar to query and then applies the compressor\n",
    "compression_retriever = ContextualCompressionRetriever(\n",
    "    base_compressor=compressor, base_retriever=similarity_retriever\n",
    ")"
   ]
  },
  {
   "cell_type": "code",
   "execution_count": 0,
   "metadata": {
    "application/vnd.databricks.v1+cell": {
     "cellMetadata": {},
     "inputWidgets": {},
     "nuid": "e3455e90-5db8-485d-b137-8e0b36e502ce",
     "showTitle": false,
     "tableResultSettingsMap": {},
     "title": ""
    },
    "id": "UxoVG1dt0GQb"
   },
   "outputs": [],
   "source": [
    "query = \"what is the financial capital of India?\"\n",
    "docs = compression_retriever.invoke(query)\n",
    "docs"
   ]
  },
  {
   "cell_type": "code",
   "execution_count": 0,
   "metadata": {
    "application/vnd.databricks.v1+cell": {
     "cellMetadata": {},
     "inputWidgets": {},
     "nuid": "e2d98a48-b681-4fe2-bfa9-8b7e6281144c",
     "showTitle": false,
     "tableResultSettingsMap": {},
     "title": ""
    },
    "id": "zW64q3FF0M-b"
   },
   "outputs": [],
   "source": [
    "query = \"what is the old capital of India?\"\n",
    "docs = compression_retriever.invoke(query)\n",
    "docs"
   ]
  },
  {
   "cell_type": "markdown",
   "metadata": {
    "application/vnd.databricks.v1+cell": {
     "cellMetadata": {},
     "inputWidgets": {},
     "nuid": "d2d243e6-2553-4926-88ec-a84bcd742496",
     "showTitle": false,
     "tableResultSettingsMap": {},
     "title": ""
    },
    "id": "URTONl5c4aLe"
   },
   "source": [
    "The `LLMChainFilter` is slightly simpler but more robust compressor that uses an LLM chain to decide which of the initially retrieved documents to filter out and which ones to return, without manipulating the document contents."
   ]
  },
  {
   "cell_type": "code",
   "execution_count": 0,
   "metadata": {
    "application/vnd.databricks.v1+cell": {
     "cellMetadata": {},
     "inputWidgets": {},
     "nuid": "8ace9392-8529-4e2b-8aff-a38a72682a40",
     "showTitle": false,
     "tableResultSettingsMap": {},
     "title": ""
    },
    "id": "fs-INms_0VTX"
   },
   "outputs": [],
   "source": [
    "from langchain.retrievers.document_compressors import LLMChainFilter\n",
    "\n",
    "#  decides which of the initially retrieved documents to filter out and which ones to return\n",
    "_filter = LLMChainFilter.from_llm(llm=chatgpt)\n",
    "\n",
    "# retrieves the documents similar to query and then applies the filter\n",
    "compression_retriever = ContextualCompressionRetriever(\n",
    "    base_compressor=_filter, base_retriever=similarity_retriever\n",
    ")"
   ]
  },
  {
   "cell_type": "code",
   "execution_count": 0,
   "metadata": {
    "application/vnd.databricks.v1+cell": {
     "cellMetadata": {},
     "inputWidgets": {},
     "nuid": "1b850d96-0903-4426-80ff-a0bb850d009f",
     "showTitle": false,
     "tableResultSettingsMap": {},
     "title": ""
    },
    "id": "bgKB3_lV17Hh"
   },
   "outputs": [],
   "source": [
    "query = \"what is the financial capital of India?\"\n",
    "docs = compression_retriever.invoke(query)\n",
    "docs"
   ]
  },
  {
   "cell_type": "code",
   "execution_count": 0,
   "metadata": {
    "application/vnd.databricks.v1+cell": {
     "cellMetadata": {},
     "inputWidgets": {},
     "nuid": "18ec1047-d966-4ab2-9b01-2bdb91fdd5e2",
     "showTitle": false,
     "tableResultSettingsMap": {},
     "title": ""
    },
    "id": "AyhPhAld1-H3"
   },
   "outputs": [],
   "source": [
    "query = \"what is the old capital of India?\"\n",
    "docs = compression_retriever.invoke(query)\n",
    "docs"
   ]
  },
  {
   "cell_type": "code",
   "execution_count": 0,
   "metadata": {
    "application/vnd.databricks.v1+cell": {
     "cellMetadata": {},
     "inputWidgets": {},
     "nuid": "7df30e41-2ed8-4a97-af45-4dc1d28a0532",
     "showTitle": false,
     "tableResultSettingsMap": {},
     "title": ""
    },
    "id": "zGdq0G7v2FAc"
   },
   "outputs": [],
   "source": [
    "query = \"how do plants live?\"\n",
    "docs = compression_retriever.invoke(query)\n",
    "docs"
   ]
  },
  {
   "cell_type": "markdown",
   "metadata": {
    "application/vnd.databricks.v1+cell": {
     "cellMetadata": {},
     "inputWidgets": {},
     "nuid": "53a928da-090e-426c-9d3e-211cc4f0e8b1",
     "showTitle": false,
     "tableResultSettingsMap": {},
     "title": ""
    },
    "id": "9YK8BBMBAU9o"
   },
   "source": [
    "### Ensemble Retrieval\n",
    "\n",
    "The `EnsembleRetriever` takes a list of retrievers as input and ensemble the results of each of their retrievals and rerank the results based on the [Reciprocal Rank Fusion](https://plg.uwaterloo.ca/~gvcormac/cormacksigir09-rrf.pdf) algorithm."
   ]
  },
  {
   "cell_type": "code",
   "execution_count": 0,
   "metadata": {
    "application/vnd.databricks.v1+cell": {
     "cellMetadata": {},
     "inputWidgets": {},
     "nuid": "c3426a4a-d5e7-4666-bf01-5553f299c142",
     "showTitle": false,
     "tableResultSettingsMap": {},
     "title": ""
    },
    "id": "UgZ4eMFc2GgI"
   },
   "outputs": [],
   "source": [
    "from langchain.retrievers import EnsembleRetriever\n",
    "\n",
    "# simple cosine distance based retriever\n",
    "similarity_retriever = chroma_db.as_retriever(search_type=\"similarity\",\n",
    "                                              search_kwargs={\"k\": 3})\n",
    "\n",
    "# retrieves the documents similar to query and then applies the filter\n",
    "compression_retriever = ContextualCompressionRetriever(\n",
    "    base_compressor=_filter, base_retriever=similarity_retriever\n",
    ")\n",
    "\n",
    "\n",
    "ensemble_retriever = EnsembleRetriever(\n",
    "    retrievers=[compression_retriever, similarity_retriever],\n",
    "    weights=[0.7, 0.3]\n",
    ")"
   ]
  },
  {
   "cell_type": "code",
   "execution_count": 0,
   "metadata": {
    "application/vnd.databricks.v1+cell": {
     "cellMetadata": {},
     "inputWidgets": {},
     "nuid": "270e65f6-f671-43ea-a2ef-983556b7af16",
     "showTitle": false,
     "tableResultSettingsMap": {},
     "title": ""
    },
    "id": "8dVz4JGVBQTO"
   },
   "outputs": [],
   "source": [
    "query = \"what is the financial capital of India?\"\n",
    "docs = ensemble_retriever.invoke(query)\n",
    "docs"
   ]
  },
  {
   "cell_type": "code",
   "execution_count": 0,
   "metadata": {
    "application/vnd.databricks.v1+cell": {
     "cellMetadata": {},
     "inputWidgets": {},
     "nuid": "722ba561-5c68-45f5-bb48-daecdee3ba93",
     "showTitle": false,
     "tableResultSettingsMap": {},
     "title": ""
    },
    "id": "dFtoRwndBZuc"
   },
   "outputs": [],
   "source": [
    "query = \"how do plants live?\"\n",
    "docs = ensemble_retriever.invoke(query)\n",
    "docs"
   ]
  },
  {
   "cell_type": "markdown",
   "metadata": {
    "application/vnd.databricks.v1+cell": {
     "cellMetadata": {},
     "inputWidgets": {},
     "nuid": "f431979e-f8e6-435d-a59e-558f81c5ae19",
     "showTitle": false,
     "tableResultSettingsMap": {},
     "title": ""
    },
    "id": "OfQj71WHCKc8"
   },
   "source": [
    "We will cover more retrieval strategies in the Advanced Course on RAG and LangChain in the future including:\n",
    "\n",
    "- Self Query Retrieval\n",
    "- Hybrid Search Retrieval\n",
    "- Parent Document Retrieval\n",
    "- Reranker Retrieval\n",
    "\n",
    "and more..."
   ]
  }
 ],
 "metadata": {
  "application/vnd.databricks.v1+notebook": {
   "computePreferences": null,
   "dashboards": [],
   "environmentMetadata": null,
   "language": "python",
   "notebookMetadata": {},
   "notebookName": "M4_L6,7_LangChain_Retrievers",
   "widgets": {}
  },
  "colab": {
   "provenance": []
  },
  "kernelspec": {
   "display_name": ".venv",
   "language": "python",
   "name": "python3"
  },
  "language_info": {
   "name": "python"
  }
 },
 "nbformat": 4,
 "nbformat_minor": 0
}
