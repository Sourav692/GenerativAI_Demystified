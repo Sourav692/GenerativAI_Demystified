{
 "cells": [
  {
   "cell_type": "markdown",
   "id": "24524212",
   "metadata": {},
   "source": [
    "## Set Up the Environment"
   ]
  },
  {
   "cell_type": "code",
   "execution_count": 1,
   "id": "85802483",
   "metadata": {},
   "outputs": [],
   "source": [
    "%run setup.ipynb"
   ]
  },
  {
   "cell_type": "markdown",
   "id": "78c53a3a",
   "metadata": {},
   "source": [
    "## Document Loaders\n",
    "\n",
    "Document loaders are used to import data from various sources into LangChain as `Document` objects. A `Document` typically includes a piece of text along with its associated metadata.\n",
    "\n",
    "### Examples of Document Loaders:\n",
    "\n",
    "- **Text File Loader:** Loads data from a simple `.txt` file.\n",
    "- **Web Page Loader:** Retrieves the text content from any web page.\n",
    "- **YouTube Video Transcript Loader:** Loads transcripts from YouTube videos.\n",
    "\n",
    "### Functionality:\n",
    "\n",
    "- **Load Method:** Each document loader has a `load` method that enables the loading of data as documents from a pre-configured source.\n",
    "- **Lazy Load Option:** Some loaders also support a \"lazy load\" feature, which allows data to be loaded into memory gradually as needed.\n",
    "\n",
    "For more detailed information, visit [LangChain's document loader documentation](https://python.langchain.com/docs/modules/data_connection/document_loaders/).\n"
   ]
  },
  {
   "cell_type": "markdown",
   "id": "0653300c",
   "metadata": {},
   "source": [
    "### Markdown Loader\n",
    "\n",
    "* Markdown is a lightweight markup language for creating formatted text using a plain-text editor.\n",
    "  \n",
    "* This showcases how to load Markdown documents into a langchain document format that we can use in our pipelines and chains.\n",
    "  \n",
    "* This Loader loads the whole document.\n"
   ]
  },
  {
   "cell_type": "markdown",
   "id": "212d2053",
   "metadata": {},
   "source": [
    "#### Download nltk packages if needed"
   ]
  },
  {
   "cell_type": "code",
   "execution_count": 3,
   "id": "dc0c3b98",
   "metadata": {},
   "outputs": [
    {
     "name": "stderr",
     "output_type": "stream",
     "text": [
      "[nltk_data] Downloading package punkt_tab to\n",
      "[nltk_data]     /Users/sourav.banerjee/nltk_data...\n",
      "[nltk_data]   Package punkt_tab is already up-to-date!\n",
      "[nltk_data] Downloading package averaged_perceptron_tagger_eng to\n",
      "[nltk_data]     /Users/sourav.banerjee/nltk_data...\n",
      "[nltk_data]   Package averaged_perceptron_tagger_eng is already up-to-\n",
      "[nltk_data]       date!\n"
     ]
    },
    {
     "data": {
      "text/plain": [
       "True"
      ]
     },
     "execution_count": 3,
     "metadata": {},
     "output_type": "execute_result"
    }
   ],
   "source": [
    "import nltk\n",
    "nltk.download('punkt_tab')\n",
    "nltk.download('averaged_perceptron_tagger_eng')"
   ]
  },
  {
   "cell_type": "markdown",
   "id": "fe6842e0",
   "metadata": {},
   "source": [
    "### Load Document in a single Section"
   ]
  },
  {
   "cell_type": "code",
   "execution_count": 4,
   "id": "90b85922",
   "metadata": {},
   "outputs": [],
   "source": [
    "from langchain_community.document_loaders import UnstructuredMarkdownLoader\n",
    "loader = UnstructuredMarkdownLoader(\"../../docs/README.md\", mode='single')\n",
    "docs = loader.load()"
   ]
  },
  {
   "cell_type": "code",
   "execution_count": 7,
   "id": "b09c3935",
   "metadata": {},
   "outputs": [
    {
     "name": "stdout",
     "output_type": "stream",
     "text": [
      "\n",
      "The number of documents : 1\n",
      "\n"
     ]
    }
   ],
   "source": [
    "print(f\"\\nThe number of documents : {len(docs)}\\n\")"
   ]
  },
  {
   "cell_type": "code",
   "execution_count": 8,
   "id": "707f8c28",
   "metadata": {},
   "outputs": [
    {
     "name": "stdout",
     "output_type": "stream",
     "text": [
      "\n",
      " Type of first documents : <class 'langchain_core.documents.base.Document'>\n",
      "\n"
     ]
    }
   ],
   "source": [
    "print(f\"\\n Type of first documents : {type(docs[0])}\\n\")"
   ]
  },
  {
   "cell_type": "code",
   "execution_count": 9,
   "id": "24a5793c",
   "metadata": {},
   "outputs": [
    {
     "data": {
      "text/plain": [
       "langchain_core.documents.base.Document"
      ]
     },
     "execution_count": 9,
     "metadata": {},
     "output_type": "execute_result"
    }
   ],
   "source": [
    "type(docs[0])"
   ]
  },
  {
   "cell_type": "code",
   "execution_count": 10,
   "id": "a375fb6b",
   "metadata": {},
   "outputs": [
    {
     "name": "stdout",
     "output_type": "stream",
     "text": [
      "{'source': '../../docs/README.md'}\n"
     ]
    }
   ],
   "source": [
    "print(docs[0].metadata)"
   ]
  },
  {
   "cell_type": "code",
   "execution_count": 11,
   "id": "1ed05711",
   "metadata": {},
   "outputs": [
    {
     "name": "stdout",
     "output_type": "stream",
     "text": [
      "🦜️🔗 LangChain\n",
      "\n",
      "⚡ Build context-aware reasoning applications ⚡\n",
      "\n",
      "Release Notes\n",
      "\n",
      "CI\n",
      "\n",
      "PyPI - License\n",
      "\n",
      "Py\n"
     ]
    }
   ],
   "source": [
    "print(docs[0].page_content[:100])"
   ]
  },
  {
   "cell_type": "markdown",
   "id": "99b70631",
   "metadata": {},
   "source": [
    "### Load document and separate based on elements"
   ]
  },
  {
   "cell_type": "code",
   "execution_count": 12,
   "id": "02b30de7",
   "metadata": {},
   "outputs": [
    {
     "name": "stdout",
     "output_type": "stream",
     "text": [
      "\n",
      "The number of documents : 75\n",
      "\n"
     ]
    }
   ],
   "source": [
    "loader = UnstructuredMarkdownLoader(\"../../docs/README.md\", mode=\"elements\")\n",
    "docs = loader.load()\n",
    "print(f\"\\nThe number of documents : {len(docs)}\\n\")"
   ]
  },
  {
   "cell_type": "code",
   "execution_count": 13,
   "id": "b28ae34f",
   "metadata": {},
   "outputs": [
    {
     "data": {
      "text/plain": [
       "[Document(metadata={'source': '../../docs/README.md', 'category_depth': 0, 'languages': ['eng'], 'file_directory': '../../docs', 'filename': 'README.md', 'filetype': 'text/markdown', 'last_modified': '2025-05-30T10:16:46', 'category': 'Title', 'element_id': '200b8a7d0dd03f66e4f13456566d2b3a'}, page_content='🦜️🔗 LangChain'),\n",
       " Document(metadata={'source': '../../docs/README.md', 'languages': ['eng'], 'file_directory': '../../docs', 'filename': 'README.md', 'filetype': 'text/markdown', 'last_modified': '2025-05-30T10:16:46', 'parent_id': '200b8a7d0dd03f66e4f13456566d2b3a', 'category': 'NarrativeText', 'element_id': '80d06543c0c2b75ca147f3509e518a47'}, page_content='⚡ Build context-aware reasoning applications ⚡'),\n",
       " Document(metadata={'source': '../../docs/README.md', 'image_url': 'https://img.shields.io/github/release/langchain-ai/langchain?style=flat-square', 'link_texts': ['Release Notes'], 'link_urls': ['https://github.com/langchain-ai/langchain/releases'], 'languages': ['eng'], 'file_directory': '../../docs', 'filename': 'README.md', 'filetype': 'text/markdown', 'last_modified': '2025-05-30T10:16:46', 'category': 'Image', 'element_id': '8c57d5f8bd859747ec80d901de40bc62'}, page_content='Release Notes'),\n",
       " Document(metadata={'source': '../../docs/README.md', 'image_url': 'https://github.com/langchain-ai/langchain/actions/workflows/check_diffs.yml/badge.svg', 'link_texts': ['CI'], 'link_urls': ['https://github.com/langchain-ai/langchain/actions/workflows/check_diffs.yml'], 'languages': ['eng'], 'file_directory': '../../docs', 'filename': 'README.md', 'filetype': 'text/markdown', 'last_modified': '2025-05-30T10:16:46', 'category': 'Image', 'element_id': 'dd7e1905f92a0532e784cc37d9415421'}, page_content='CI'),\n",
       " Document(metadata={'source': '../../docs/README.md', 'image_url': 'https://img.shields.io/pypi/l/langchain-core?style=flat-square', 'link_texts': ['PyPI - License'], 'link_urls': ['https://opensource.org/licenses/MIT'], 'languages': ['eng'], 'file_directory': '../../docs', 'filename': 'README.md', 'filetype': 'text/markdown', 'last_modified': '2025-05-30T10:16:46', 'category': 'Image', 'element_id': '5220f47ead54ddb5bd890ba722404d19'}, page_content='PyPI - License'),\n",
       " Document(metadata={'source': '../../docs/README.md', 'image_url': 'https://img.shields.io/pypi/dm/langchain-core?style=flat-square', 'link_texts': ['PyPI - Downloads'], 'link_urls': ['https://pypistats.org/packages/langchain-core'], 'languages': ['eng'], 'file_directory': '../../docs', 'filename': 'README.md', 'filetype': 'text/markdown', 'last_modified': '2025-05-30T10:16:46', 'category': 'Image', 'element_id': '4aaad03a5afff6fbd8add503e9dce90b'}, page_content='PyPI - Downloads'),\n",
       " Document(metadata={'source': '../../docs/README.md', 'image_url': 'https://img.shields.io/github/stars/langchain-ai/langchain?style=flat-square', 'link_texts': ['GitHub star chart'], 'link_urls': ['https://star-history.com/#langchain-ai/langchain'], 'languages': ['eng'], 'file_directory': '../../docs', 'filename': 'README.md', 'filetype': 'text/markdown', 'last_modified': '2025-05-30T10:16:46', 'category': 'Image', 'element_id': '33a74aa12274481948e2cd15fd9be863'}, page_content='GitHub star chart'),\n",
       " Document(metadata={'source': '../../docs/README.md', 'image_url': 'https://img.shields.io/github/issues-raw/langchain-ai/langchain?style=flat-square', 'link_texts': ['Open Issues'], 'link_urls': ['https://github.com/langchain-ai/langchain/issues'], 'languages': ['eng'], 'file_directory': '../../docs', 'filename': 'README.md', 'filetype': 'text/markdown', 'last_modified': '2025-05-30T10:16:46', 'category': 'Image', 'element_id': 'e3f172111b606b07ad51171338aa94ef'}, page_content='Open Issues'),\n",
       " Document(metadata={'source': '../../docs/README.md', 'image_url': 'https://img.shields.io/static/v1?label=Dev%20Containers&message=Open&color=blue&logo=visualstudiocode&style=flat-square', 'link_texts': ['Open in Dev Containers'], 'link_urls': ['https://vscode.dev/redirect?url=vscode://ms-vscode-remote.remote-containers/cloneInVolume?url=https://github.com/langchain-ai/langchain'], 'languages': ['eng'], 'file_directory': '../../docs', 'filename': 'README.md', 'filetype': 'text/markdown', 'last_modified': '2025-05-30T10:16:46', 'category': 'Image', 'element_id': 'd65d2b296fe15e5b4d9a805f62842f55'}, page_content='Open in Dev Containers'),\n",
       " Document(metadata={'source': '../../docs/README.md', 'image_url': 'https://github.com/codespaces/badge.svg', 'link_texts': ['Open in GitHub Codespaces'], 'link_urls': ['https://codespaces.new/langchain-ai/langchain'], 'languages': ['eng'], 'file_directory': '../../docs', 'filename': 'README.md', 'filetype': 'text/markdown', 'last_modified': '2025-05-30T10:16:46', 'category': 'Image', 'element_id': '58758ef7c3621cebaf77a177e5db7ac2'}, page_content='Open in GitHub Codespaces')]"
      ]
     },
     "execution_count": 13,
     "metadata": {},
     "output_type": "execute_result"
    }
   ],
   "source": [
    "docs[:10]"
   ]
  },
  {
   "cell_type": "code",
   "execution_count": 14,
   "id": "90b5440c",
   "metadata": {},
   "outputs": [
    {
     "data": {
      "text/plain": [
       "Counter({'ListItem': 26,\n",
       "         'NarrativeText': 17,\n",
       "         'Title': 13,\n",
       "         'Image': 12,\n",
       "         'UncategorizedText': 7})"
      ]
     },
     "execution_count": 14,
     "metadata": {},
     "output_type": "execute_result"
    }
   ],
   "source": [
    "from collections import Counter\n",
    "Counter([doc.metadata['category'] for doc in docs])"
   ]
  },
  {
   "cell_type": "code",
   "execution_count": 15,
   "id": "39697a00",
   "metadata": {},
   "outputs": [
    {
     "data": {
      "text/plain": [
       "{'source': '../../docs/README.md',\n",
       " 'category_depth': 0,\n",
       " 'languages': ['eng'],\n",
       " 'file_directory': '../../docs',\n",
       " 'filename': 'README.md',\n",
       " 'filetype': 'text/markdown',\n",
       " 'last_modified': '2025-05-30T10:16:46',\n",
       " 'category': 'Title',\n",
       " 'element_id': '200b8a7d0dd03f66e4f13456566d2b3a'}"
      ]
     },
     "execution_count": 15,
     "metadata": {},
     "output_type": "execute_result"
    }
   ],
   "source": [
    "docs[0].metadata"
   ]
  },
  {
   "cell_type": "code",
   "execution_count": 16,
   "id": "35f985c8",
   "metadata": {},
   "outputs": [
    {
     "data": {
      "text/plain": [
       "'🦜️🔗 LangChain'"
      ]
     },
     "execution_count": 16,
     "metadata": {},
     "output_type": "execute_result"
    }
   ],
   "source": [
    "docs[0].page_content"
   ]
  },
  {
   "cell_type": "code",
   "execution_count": 17,
   "id": "b228eb25",
   "metadata": {},
   "outputs": [
    {
     "data": {
      "text/plain": [
       "{'source': '../../docs/README.md',\n",
       " 'languages': ['eng'],\n",
       " 'file_directory': '../../docs',\n",
       " 'filename': 'README.md',\n",
       " 'filetype': 'text/markdown',\n",
       " 'last_modified': '2025-05-30T10:16:46',\n",
       " 'parent_id': '200b8a7d0dd03f66e4f13456566d2b3a',\n",
       " 'category': 'NarrativeText',\n",
       " 'element_id': '80d06543c0c2b75ca147f3509e518a47'}"
      ]
     },
     "execution_count": 17,
     "metadata": {},
     "output_type": "execute_result"
    }
   ],
   "source": [
    "docs[1].metadata"
   ]
  },
  {
   "cell_type": "code",
   "execution_count": 18,
   "id": "cb075a8a",
   "metadata": {},
   "outputs": [
    {
     "data": {
      "text/plain": [
       "'⚡ Build context-aware reasoning applications ⚡'"
      ]
     },
     "execution_count": 18,
     "metadata": {},
     "output_type": "execute_result"
    }
   ],
   "source": [
    "docs[1].page_content"
   ]
  },
  {
   "cell_type": "markdown",
   "id": "c550d5cb",
   "metadata": {},
   "source": [
    "### Comparing Unstructured.io loaders vs LangChain wrapper API"
   ]
  },
  {
   "cell_type": "code",
   "execution_count": 19,
   "id": "4f440771",
   "metadata": {},
   "outputs": [],
   "source": [
    "from unstructured.partition.md import partition_md\n",
    "\n",
    "docs = partition_md(filename=\"../../docs/README.md\")"
   ]
  },
  {
   "cell_type": "code",
   "execution_count": 20,
   "id": "50f044d8",
   "metadata": {},
   "outputs": [
    {
     "data": {
      "text/plain": [
       "75"
      ]
     },
     "execution_count": 20,
     "metadata": {},
     "output_type": "execute_result"
    }
   ],
   "source": [
    "len(docs)"
   ]
  },
  {
   "cell_type": "code",
   "execution_count": 21,
   "id": "3526a509",
   "metadata": {},
   "outputs": [
    {
     "data": {
      "text/plain": [
       "[<unstructured.documents.elements.Title at 0x177d0bb50>,\n",
       " <unstructured.documents.elements.NarrativeText at 0x174c59190>,\n",
       " <unstructured.documents.elements.Image at 0x17c7a63d0>,\n",
       " <unstructured.documents.elements.Image at 0x178094fd0>,\n",
       " <unstructured.documents.elements.Image at 0x17c7a6ed0>,\n",
       " <unstructured.documents.elements.Image at 0x17c7a6050>,\n",
       " <unstructured.documents.elements.Image at 0x17c7a7c10>,\n",
       " <unstructured.documents.elements.Image at 0x17c7a4a10>,\n",
       " <unstructured.documents.elements.Image at 0x17c7a65d0>,\n",
       " <unstructured.documents.elements.Image at 0x17c7a5290>]"
      ]
     },
     "execution_count": 21,
     "metadata": {},
     "output_type": "execute_result"
    }
   ],
   "source": [
    "docs[:10]"
   ]
  },
  {
   "cell_type": "code",
   "execution_count": 22,
   "id": "9b8637fa",
   "metadata": {},
   "outputs": [
    {
     "data": {
      "text/plain": [
       "{'type': 'Title',\n",
       " 'element_id': '200b8a7d0dd03f66e4f13456566d2b3a',\n",
       " 'text': '🦜️🔗 LangChain',\n",
       " 'metadata': {'category_depth': 0,\n",
       "  'languages': ['eng'],\n",
       "  'file_directory': '../../docs',\n",
       "  'filename': 'README.md',\n",
       "  'filetype': 'text/markdown',\n",
       "  'last_modified': '2025-05-30T10:16:46'}}"
      ]
     },
     "execution_count": 22,
     "metadata": {},
     "output_type": "execute_result"
    }
   ],
   "source": [
    "docs[0].to_dict()"
   ]
  },
  {
   "cell_type": "code",
   "execution_count": 23,
   "id": "53cb6417",
   "metadata": {},
   "outputs": [
    {
     "data": {
      "text/plain": [
       "{'type': 'NarrativeText',\n",
       " 'element_id': '80d06543c0c2b75ca147f3509e518a47',\n",
       " 'text': '⚡ Build context-aware reasoning applications ⚡',\n",
       " 'metadata': {'languages': ['eng'],\n",
       "  'file_directory': '../../docs',\n",
       "  'filename': 'README.md',\n",
       "  'filetype': 'text/markdown',\n",
       "  'last_modified': '2025-05-30T10:16:46',\n",
       "  'parent_id': '200b8a7d0dd03f66e4f13456566d2b3a'}}"
      ]
     },
     "execution_count": 23,
     "metadata": {},
     "output_type": "execute_result"
    }
   ],
   "source": [
    "docs[1].to_dict()"
   ]
  },
  {
   "cell_type": "markdown",
   "id": "1c6057e5",
   "metadata": {},
   "source": [
    "#### Convert these to LangChain Documents"
   ]
  },
  {
   "cell_type": "code",
   "execution_count": 24,
   "id": "1591208f",
   "metadata": {},
   "outputs": [
    {
     "data": {
      "text/plain": [
       "[Document(metadata={'category_depth': 0, 'languages': ['eng'], 'file_directory': '../../docs', 'filename': 'README.md', 'filetype': 'text/markdown', 'last_modified': '2025-05-30T10:16:46'}, page_content='🦜️🔗 LangChain'),\n",
       " Document(metadata={'languages': ['eng'], 'file_directory': '../../docs', 'filename': 'README.md', 'filetype': 'text/markdown', 'last_modified': '2025-05-30T10:16:46', 'parent_id': '200b8a7d0dd03f66e4f13456566d2b3a'}, page_content='⚡ Build context-aware reasoning applications ⚡'),\n",
       " Document(metadata={'image_url': 'https://img.shields.io/github/release/langchain-ai/langchain?style=flat-square', 'link_texts': ['Release Notes'], 'link_urls': ['https://github.com/langchain-ai/langchain/releases'], 'languages': ['eng'], 'file_directory': '../../docs', 'filename': 'README.md', 'filetype': 'text/markdown', 'last_modified': '2025-05-30T10:16:46'}, page_content='Release Notes'),\n",
       " Document(metadata={'image_url': 'https://github.com/langchain-ai/langchain/actions/workflows/check_diffs.yml/badge.svg', 'link_texts': ['CI'], 'link_urls': ['https://github.com/langchain-ai/langchain/actions/workflows/check_diffs.yml'], 'languages': ['eng'], 'file_directory': '../../docs', 'filename': 'README.md', 'filetype': 'text/markdown', 'last_modified': '2025-05-30T10:16:46'}, page_content='CI'),\n",
       " Document(metadata={'image_url': 'https://img.shields.io/pypi/l/langchain-core?style=flat-square', 'link_texts': ['PyPI - License'], 'link_urls': ['https://opensource.org/licenses/MIT'], 'languages': ['eng'], 'file_directory': '../../docs', 'filename': 'README.md', 'filetype': 'text/markdown', 'last_modified': '2025-05-30T10:16:46'}, page_content='PyPI - License'),\n",
       " Document(metadata={'image_url': 'https://img.shields.io/pypi/dm/langchain-core?style=flat-square', 'link_texts': ['PyPI - Downloads'], 'link_urls': ['https://pypistats.org/packages/langchain-core'], 'languages': ['eng'], 'file_directory': '../../docs', 'filename': 'README.md', 'filetype': 'text/markdown', 'last_modified': '2025-05-30T10:16:46'}, page_content='PyPI - Downloads'),\n",
       " Document(metadata={'image_url': 'https://img.shields.io/github/stars/langchain-ai/langchain?style=flat-square', 'link_texts': ['GitHub star chart'], 'link_urls': ['https://star-history.com/#langchain-ai/langchain'], 'languages': ['eng'], 'file_directory': '../../docs', 'filename': 'README.md', 'filetype': 'text/markdown', 'last_modified': '2025-05-30T10:16:46'}, page_content='GitHub star chart'),\n",
       " Document(metadata={'image_url': 'https://img.shields.io/github/issues-raw/langchain-ai/langchain?style=flat-square', 'link_texts': ['Open Issues'], 'link_urls': ['https://github.com/langchain-ai/langchain/issues'], 'languages': ['eng'], 'file_directory': '../../docs', 'filename': 'README.md', 'filetype': 'text/markdown', 'last_modified': '2025-05-30T10:16:46'}, page_content='Open Issues'),\n",
       " Document(metadata={'image_url': 'https://img.shields.io/static/v1?label=Dev%20Containers&message=Open&color=blue&logo=visualstudiocode&style=flat-square', 'link_texts': ['Open in Dev Containers'], 'link_urls': ['https://vscode.dev/redirect?url=vscode://ms-vscode-remote.remote-containers/cloneInVolume?url=https://github.com/langchain-ai/langchain'], 'languages': ['eng'], 'file_directory': '../../docs', 'filename': 'README.md', 'filetype': 'text/markdown', 'last_modified': '2025-05-30T10:16:46'}, page_content='Open in Dev Containers'),\n",
       " Document(metadata={'image_url': 'https://github.com/codespaces/badge.svg', 'link_texts': ['Open in GitHub Codespaces'], 'link_urls': ['https://codespaces.new/langchain-ai/langchain'], 'languages': ['eng'], 'file_directory': '../../docs', 'filename': 'README.md', 'filetype': 'text/markdown', 'last_modified': '2025-05-30T10:16:46'}, page_content='Open in GitHub Codespaces')]"
      ]
     },
     "execution_count": 24,
     "metadata": {},
     "output_type": "execute_result"
    }
   ],
   "source": [
    "from langchain_core.documents import Document\n",
    "\n",
    "lc_docs = [Document(page_content=doc.text,\n",
    "                    metadata=doc.metadata.to_dict())\n",
    "              for doc in docs]\n",
    "lc_docs[:10]"
   ]
  },
  {
   "cell_type": "code",
   "execution_count": null,
   "id": "4261a38b",
   "metadata": {},
   "outputs": [],
   "source": []
  }
 ],
 "metadata": {
  "kernelspec": {
   "display_name": "venv",
   "language": "python",
   "name": "python3"
  },
  "language_info": {
   "codemirror_mode": {
    "name": "ipython",
    "version": 3
   },
   "file_extension": ".py",
   "mimetype": "text/x-python",
   "name": "python",
   "nbconvert_exporter": "python",
   "pygments_lexer": "ipython3",
   "version": "3.11.6"
  }
 },
 "nbformat": 4,
 "nbformat_minor": 5
}
