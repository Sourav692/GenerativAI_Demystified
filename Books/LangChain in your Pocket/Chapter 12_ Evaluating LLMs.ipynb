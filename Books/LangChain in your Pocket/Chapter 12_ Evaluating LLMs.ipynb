{
 "cells": [
  {
   "cell_type": "code",
   "execution_count": null,
   "metadata": {
    "colab": {
     "base_uri": "https://localhost:8080/"
    },
    "executionInfo": {
     "elapsed": 40617,
     "status": "ok",
     "timestamp": 1702195426153,
     "user": {
      "displayName": "mehul gupta",
      "userId": "02075325736316345622"
     },
     "user_tz": -330
    },
    "id": "uyCWah2quCEk",
    "outputId": "de67183c-1060-4bef-a5b0-9d6c030f0075"
   },
   "outputs": [
    {
     "name": "stdout",
     "output_type": "stream",
     "text": [
      "Installing collected packages: mypy-extensions, marshmallow, jsonpointer, h11, typing-inspect, langsmith, jsonpatch, httpcore, langchain-core, httpx, dataclasses-json, openai, langchain\n",
      "\u001b[31mERROR: pip's dependency resolver does not currently take into account all the packages that are installed. This behaviour is the source of the following dependency conflicts.\n",
      "llmx 0.0.15a0 requires cohere, which is not installed.\n",
      "llmx 0.0.15a0 requires tiktoken, which is not installed.\u001b[0m\u001b[31m\n",
      "\u001b[0mSuccessfully installed dataclasses-json-0.6.3 h11-0.14.0 httpcore-1.0.2 httpx-0.25.2 jsonpatch-1.33 jsonpointer-2.4 langchain-0.0.348 langchain-core-0.0.12 langsmith-0.0.69 marshmallow-3.20.1 mypy-extensions-1.0.0 openai-1.3.8 typing-inspect-0.9.0\n",
      "\n",
      "PROMPT :  Explain road not taken by Robert Frost\n",
      "RESULT :\n",
      " \"The Road Not Taken\" is a famous poem written by Robert Frost\n",
      " It was first published in 1916 as part of Frost's collection of poems titled \"Mountain Interval\n",
      "\" The poem is often interpreted as an exploration of choices and the consequences they bring\n",
      "The poem begins with the speaker coming across a fork in the road while walking in the woods\n",
      " The speaker is faced with a decision between two paths, and he expresses his dilemma by saying, \"Two roads diverged in a yellow wood\n",
      "\" The two roads symbolize different life choices or paths that one can take\n",
      "The speaker observes that both paths are equally worn and attractive, making it difficult for him to choose\n",
      " He carefully examines one of the paths but realizes that he cannot see where it leads\n",
      " He then turns his attention to the other path, which he describes as \"grassy and wanted wear\n",
      "\" This suggests that the less traveled path is more appealing to him because it represents something new and unexplored\n",
      "After considering both paths, the speaker makes a decision\n",
      " He says, \"I took the one less traveled by, And that has made all the difference\n",
      "\" This line is often misinterpreted as a celebration of taking the unconventional path and being rewarded for it\n",
      " However, Frost himself noted that the poem is often misunderstood in this way\n",
      " Instead, it is a reflection on the human tendency to look back on past choices and wonder what might have happened if different decisions were made\n",
      "The poem can be seen as a metaphor for life itself, with the two roads representing the choices and opportunities that we encounter throughout our lives\n",
      " It highlights the uncertainty and complexity of decision-making, as well as the potential for regret and reflection on the paths we did not take\n",
      "Overall, \"The Road Not Taken\" is a thought-provoking poem that encourages readers to contemplate the choices they make in life and the impact those choices have on their journey\n",
      " It serves as a reminder that every decision we make has consequences and shapes our future\n",
      "REASON :\n",
      " The criterion for this assessment is conciseness\n",
      " This means the submission should be brief, to the point, and not include unnecessary information or details\n",
      "Looking at the submission, it provides a detailed explanation of Robert Frost's \"The Road Not Taken\n",
      "\" It includes an overview of the poem, an analysis of its main themes, and a discussion of its common misinterpretations\n",
      " While the submission is thorough and informative, it may not be considered concise\n",
      " It goes into great detail about the poem's themes and interpretations, which, while valuable, may not be necessary for a concise explanation\n",
      "However, considering the complexity of the poem and the various interpretations it has, the level of detail in the submission could be seen as necessary for a comprehensive understanding\n",
      " It's a bit of a judgment call, but given the depth of the poem and the need to clarify common misinterpretations, the submission could be seen as being as concise as possible while still providing a thorough explanation\n",
      "So, based on this reasoning, the submission can be considered to meet the criterion of conciseness\n",
      "VALUE :  Y\n",
      "SCORE :  1\n",
      "\n",
      "PROMPT :  What would happen if everyone becomes immortal?\n",
      "RESULT :\n",
      " If everyone became immortal, it would have significant and far-reaching implications for individuals, society, and the world as a whole\n",
      " Here are a few possible consequences:1\n",
      " Overpopulation: With no natural death, the human population would continue to grow exponentially\n",
      " This would put a strain on resources such as food, water, and living space, leading to potential conflicts and competition for limited resources\n",
      "2\n",
      " Social and Economic Disruption: Immortality could disrupt the existing social and economic systems\n",
      " Traditional life stages like childhood, education, and retirement would become obsolete, and new systems would need to be put in place to accommodate the extended lifespans\n",
      " The concept of work and retirement would undergo significant changes, as people might have to work for much longer periods to sustain their extended lives\n",
      "3\n",
      " Psychological and Emotional Impact: Immortality could have profound psychological effects on individuals\n",
      " People might struggle to find meaning and purpose in life when there is no end in sight\n",
      " The experience of losing loved ones could become more challenging, as they would not have the release of death\n",
      " This could lead to emotional and mental health issues\n",
      "4\n",
      " Scientific Advancement: Immortality could drive unprecedented advancements in medical and scientific research\n",
      " With unlimited time, individuals would have the opportunity to acquire vast knowledge and expertise in various fields\n",
      " This could lead to breakthroughs in medicine, technology, and other areas, potentially solving many of humanity's current problems\n",
      "5\n",
      " Evolutionary Changes: Immortality could potentially lead to changes in human evolution\n",
      " Without the pressure of natural selection, genetic diversity might decrease, and certain traits or characteristics could become more prevalent\n",
      " This could have unknown consequences for the future of the human species\n",
      "It's important to note that hypothetical scenarios like universal immortality cannot be accurately predicted as they involve a multitude of complex factors and uncertainties\n",
      " However, contemplating such scenarios can help us explore the potential consequences and ethical considerations associated with significant changes to the human condition\n",
      "REASON :\n",
      " The criterion in question is creativity, which is defined as the demonstration of novelty or unique ideas\n",
      "Looking at the submission, the respondent has provided a detailed and comprehensive answer to the question\n",
      " They have considered various aspects of society and individual life that could be affected if everyone became immortal, including overpopulation, social and economic disruption, psychological and emotional impact, scientific advancement, and evolutionary changes\n",
      "However, when assessing the creativity of the response, it's important to consider whether these ideas are novel or unique\n",
      " The concepts presented in the response, while well thought out and articulated, are not particularly novel or unique\n",
      " They are fairly common considerations when discussing the concept of immortality, and can be found in many discussions, books, and movies on the subject\n",
      "Therefore, while the response is thorough and well-reasoned, it does not demonstrate a high level of creativity as defined by the criterion\n",
      " The ideas presented are not particularly novel or unique, but rather common considerations in discussions of immortality\n",
      "VALUE :  N\n",
      "SCORE :  0\n"
     ]
    }
   ],
   "source": [
    "#12.1.1 Criteria Evaluators\n",
    "\n",
    "from langchain.chat_models import ChatOpenAI\n",
    "from langchain.prompts.chat import (\n",
    "    ChatPromptTemplate,\n",
    "    SystemMessagePromptTemplate,\n",
    "    HumanMessagePromptTemplate,\n",
    ")\n",
    "from langchain.chains import LLMChain\n",
    "from langchain.evaluation import load_evaluator\n",
    "from langchain.evaluation import EvaluatorType\n",
    "import os\n",
    "\n",
    "api_key = ''\n",
    "os.environ['OPENAI_API_KEY'] = api_key\n",
    "\n",
    "template = \"\"\"You are a Helpful Assistant that explains everyhing being asked\"\"\"\n",
    "\n",
    "system_message_prompt = SystemMessagePromptTemplate.from_template(template)\n",
    "human_template = \"{text}\"\n",
    "human_message_prompt = HumanMessagePromptTemplate.from_template(human_template)\n",
    "\n",
    "chat_prompt = ChatPromptTemplate.from_messages([system_message_prompt, human_message_prompt])\n",
    "chain = LLMChain(\n",
    "    llm=ChatOpenAI(openai_api_key=api_key),\n",
    "    prompt=chat_prompt\n",
    ")\n",
    "\n",
    "def evaluate(criteria,sentences):\n",
    "    evaluator = load_evaluator(EvaluatorType.CRITERIA, criteria=criteria)\n",
    "\n",
    "    for prompt in sentences:\n",
    "          prediction = chain.run(prompt)\n",
    "          eval_result = evaluator.evaluate_strings(\n",
    "              prediction= prediction,\n",
    "              input=prompt,\n",
    "          )\n",
    "          print('\\nPROMPT : ',prompt)\n",
    "          print('RESULT :\\n','\\n'.join(prediction.replace('\\n','').split('.')[:-1]))\n",
    "          print('REASON :\\n','\\n'.join(eval_result['reasoning'].replace('\\n','').split('.')[:-1]))\n",
    "          print('VALUE : ',eval_result['value'])\n",
    "          print('SCORE : ',eval_result['score'])\n",
    "\n",
    "evaluate('conciseness',['Explain road not taken by Robert Frost'])\n",
    "evaluate('creativity',['What would happen if everyone becomes immortal?'])"
   ]
  },
  {
   "cell_type": "code",
   "execution_count": null,
   "metadata": {
    "id": "glpbP6SXcDjT"
   },
   "outputs": [],
   "source": [
    "def evaluate(criteria,sentences,ground_truth):\n",
    "    evaluator = load_evaluator(\"labeled_criteria\" criteria=criteria)\n",
    "\n",
    "    for index,prompt in enumerate(sentences):\n",
    "          prediction = chain.run(prompt)\n",
    "          eval_result = evaluator.evaluate_strings(\n",
    "              prediction= prediction,\n",
    "              input=prompt,\n",
    "              reference = ground_truth[index]\n",
    "          )\n",
    "          print('\\nPROMPT : ',prompt)\n",
    "          print('RESULT :\\n','\\n'.join(prediction.replace('\\n','').split('.')[:-1]))\n",
    "          print('REASON :\\n','\\n'.join(eval_result['reasoning'].replace('\\n','').split('.')[:-1]))\n",
    "          print('VALUE : ',eval_result['value'])\n",
    "          print('SCORE : ',eval_result['score'])\n",
    "\n",
    "evaluate('correctness',['Is Hockey a sports?'],['Yes'])"
   ]
  },
  {
   "cell_type": "code",
   "execution_count": null,
   "metadata": {
    "colab": {
     "base_uri": "https://localhost:8080/"
    },
    "executionInfo": {
     "elapsed": 18496,
     "status": "ok",
     "timestamp": 1702195887609,
     "user": {
      "displayName": "mehul gupta",
      "userId": "02075325736316345622"
     },
     "user_tz": -330
    },
    "id": "CPKtanJwv9cK",
    "outputId": "513e512d-5d5d-46d8-c777-b3c93c9019cf"
   },
   "outputs": [
    {
     "name": "stdout",
     "output_type": "stream",
     "text": [
      "LLMs answer: The life of a general human typically follows a series of stages and experiences, starting from being a baby and progressing through childhood, adolescence, adulthood, and finally old age\n",
      " Let's explore these stages in more detail:\n",
      "\n",
      "1\n",
      " Babyhood: This stage begins at birth and lasts until around two years old\n",
      " Babies are completely dependent on their caregivers for their basic needs, such as feeding, diaper changes, and comfort\n",
      " They gradually develop motor skills, learn to communicate through sounds and gestures, and form attachments to their primary caregivers\n",
      "\n",
      "\n",
      "2\n",
      " Childhood: Childhood spans from around two years old to adolescence\n",
      " During this stage, children grow physically, develop more advanced motor skills, and acquire language and cognitive abilities\n",
      " They begin to explore their surroundings, attend school, and develop social skills through interactions with peers\n",
      " Childhood is often characterized by curiosity, imagination, playfulness, and rapid psychological and emotional development\n",
      "\n",
      "\n",
      "3\n",
      " Adolescence: Adolescence is the transitional stage between childhood and adulthood, typically occurring between the ages of 10 and 19\n",
      " This period is marked by significant physical and hormonal changes as individuals enter puberty\n",
      " Adolescents strive for independence, establish their identity, and begin to develop their own beliefs, values, and goals\n",
      " It is also a time of increased self-awareness, emotional intensity, and peer influence\n",
      "\n",
      "\n",
      "4\n",
      " Adulthood: Adulthood typically starts in the late teens or early twenties and continues until old age\n",
      " This stage is characterized by increased independence, responsibility, and the pursuit of personal and professional goals\n",
      " Many individuals choose to pursue higher education, establish careers, and form long-term relationships such as marriage or committed partnerships\n",
      " They may also start families and become parents\n",
      "\n",
      "\n",
      "5\n",
      " Old age: Old age, also known as the senior or elderly stage, usually begins around the age of 65 and beyond\n",
      " This stage is marked by physical, cognitive, and sensory changes\n",
      " Individuals often retire from their careers and may experience a decline in health and mobility\n",
      " However, many people continue to engage in social and leisure activities, maintain relationships, and contribute to their communities\n",
      " This stage can also bring reflection, wisdom, and a focus on maintaining a fulfilling quality of life\n",
      "\n",
      "\n",
      "It's important to note that individual experiences may vary, and not everyone will follow this exact progression or timeline\n",
      " Additionally, cultural, social, and personal factors can greatly influence how each stage of life is experienced\n",
      "\n",
      "The assistant provides a comprehensive and detailed response to the user's question\n",
      " It breaks down the human life trajectory into five distinct stages—babyhood, childhood, adolescence, adulthood, and old age—and describes each stage in detail\n",
      " The assistant also correctly notes that individual experiences may vary, and factors such as culture, society, and personal choices can greatly influence how each stage of life is experienced\n",
      " The response is both accurate and relevant to the question\n",
      " Rating: [[10]]\n"
     ]
    }
   ],
   "source": [
    "#12.1.2 Custom Evaluators\n",
    "\n",
    "score_criteria = {\n",
    "    \"custom_metric\": \"\"\"\n",
    "\n",
    "0: Completely incorrect\n",
    "1-3: Partially incorrect or minimally relevant\n",
    "4-6: Mix of correct and incorrect information, with notable errors\n",
    "7-8: Mostly accurate, with minor errors or omissions\n",
    "9: Nearly flawless, with very minor errors or negligible missing details\n",
    "10: Flawless, meeting or exceeding expectations\"\"\"\n",
    "}\n",
    "prompt = 'How does a life of a general human looks like? starting from being a baby to being old'\n",
    "evaluator = load_evaluator(\"labeled_score_string\",criteria=score_criteria, llm=ChatOpenAI(model=\"gpt-4\",openai_api_key=api_key))\n",
    "prediction = chain.run(prompt)\n",
    "\n",
    "# Correct\n",
    "eval_result = evaluator.evaluate_strings(\n",
    "    prediction= prediction,\n",
    "    reference=\"A human life follows a general trajectory from infancy to old age.\\\n",
    "    In infancy, rapid physical and cognitive development occurs, followed by early childhood where formal education begins.\\\n",
    "    Adolescence brings puberty and identity formation, leading to young adulthood marked by career and relationship pursuits.\\\n",
    "    Middle adulthood sees professional and family responsibilities, while late adulthood involves retirement,\\\n",
    "    reflection, and potential health challenges. Old age is characterized by increased dependency,\\\n",
    "    wisdom-sharing, and end-of-life considerations.\\\n",
    "    Individual experiences vary based on factors like culture and personal choices,\\\n",
    "    and improvements in healthcare can influence life trajectories.\",\n",
    "    input=prompt\n",
    ")\n",
    "print('LLMs answer:','\\n'.join(prediction.split('.')))\n",
    "print('\\n'.join(eval_result['reasoning'].split('.')))"
   ]
  },
  {
   "cell_type": "code",
   "execution_count": null,
   "metadata": {
    "colab": {
     "base_uri": "https://localhost:8080/"
    },
    "executionInfo": {
     "elapsed": 3172,
     "status": "ok",
     "timestamp": 1702196076006,
     "user": {
      "displayName": "mehul gupta",
      "userId": "02075325736316345622"
     },
     "user_tz": -330
    },
    "id": "dpxIdAbGxkUc",
    "outputId": "d79104be-45ef-4a35-8265-883451af2210"
   },
   "outputs": [
    {
     "name": "stderr",
     "output_type": "stream",
     "text": [
      "WARNING:langchain.evaluation.scoring.eval_chain:This chain was only tested with GPT-4. Performance may be significantly worse with other models.\n"
     ]
    },
    {
     "name": "stdout",
     "output_type": "stream",
     "text": [
      "LLMs answer: Sure, here's a joke that teenagers might enjoy:\n",
      "\n",
      "Why don't scientists trust atoms?\n",
      "\n",
      "Because they make up everything!\n",
      "Explanation:\n",
      "The assistant's response demonstrates a good sense of humor by providing a pun-style joke that teenagers might find amusing\n",
      " The joke plays on the double meaning of \"make up\" to create a humorous twist\n",
      " It leaves a light and playful impression on the reader\n",
      "\n",
      "\n",
      "Rating: [[9]]\n"
     ]
    }
   ],
   "source": [
    "custom_criteria = {\n",
    "    \"Humor\": \"The assistant's answer should have a sense of humor\",\n",
    "    \"Impact\":\"What kind of lasting impression does the text leave on the reader?\"\n",
    "}\n",
    "prompt = 'Tell a joke I can crack infront of teenagers'\n",
    "evaluator = load_evaluator(\"score_string\",criteria=custom_criteria, llm=ChatOpenAI(openai_api_key=api_key))\n",
    "prediction = chain.run(prompt)\n",
    "# Correct\n",
    "eval_result = evaluator.evaluate_strings(\n",
    "    prediction=prediction,\n",
    "    input=prompt\n",
    ")\n",
    "print('LLMs answer:','\\n'.join(prediction.split('.')))\n",
    "print('\\n'.join(eval_result['reasoning'].split('.')))"
   ]
  },
  {
   "cell_type": "code",
   "execution_count": null,
   "metadata": {
    "id": "WPIcF-k6t4m2"
   },
   "outputs": [],
   "source": [
    "#12.2 Comparison Evaluators\n",
    "\n",
    "from langchain.llms import HuggingFaceHub\n",
    "from langchain.evaluation.comparison import PairwiseStringEvalChain\n",
    "llm = HuggingFaceHub(repo_id=\"google/flan-t5-xxl\", huggingfacehub_api_token='', model_kwargs={\"temperature\": 0})\n",
    "\n",
    "chain = PairwiseStringEvalChain.from_llm(llm=llm)\n",
    "result = chain.evaluate_string_pairs(\n",
    "    input = \"What is 2+3?\",\n",
    "    prediction = \"five is the answer\",\n",
    "    prediction_b = \"If I add 2+3, I might get 6.\",\n",
    "    reference = \"5\",\n",
    ")\n",
    "print(result)\n",
    "\n"
   ]
  },
  {
   "cell_type": "code",
   "execution_count": null,
   "metadata": {
    "id": "P0USOoiuudUl"
   },
   "outputs": [],
   "source": [
    "#12.3 Trajectory Evaluators\n",
    "\n",
    "from langchain.evaluation import load_evaluator\n",
    "\n",
    "evaluator = load_evaluator(\"trajectory\",llm=llm)\n",
    "\n",
    "evaluation_result = evaluator.evaluate_agent_trajectory(\n",
    "    prediction=result[\"output\"],\n",
    "    input=result[\"input\"],\n",
    "    agent_trajectory=result[\"intermediate_steps\"],\n",
    ")\n",
    "evaluation_result"
   ]
  },
  {
   "cell_type": "code",
   "execution_count": null,
   "metadata": {
    "id": "BJDr-svS1Wv4"
   },
   "outputs": [],
   "source": []
  }
 ],
 "metadata": {
  "colab": {
   "authorship_tag": "ABX9TyPf1nvGGHfLKReFzOm4hQV7",
   "provenance": []
  },
  "kernelspec": {
   "display_name": "Python 3",
   "name": "python3"
  },
  "language_info": {
   "name": "python"
  }
 },
 "nbformat": 4,
 "nbformat_minor": 0
}
