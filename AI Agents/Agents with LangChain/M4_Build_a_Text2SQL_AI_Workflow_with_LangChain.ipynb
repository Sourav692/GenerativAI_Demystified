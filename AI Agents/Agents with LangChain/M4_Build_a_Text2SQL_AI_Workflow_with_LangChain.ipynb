{
 "cells": [
  {
   "cell_type": "markdown",
   "metadata": {
    "application/vnd.databricks.v1+cell": {
     "cellMetadata": {},
     "inputWidgets": {},
     "nuid": "3a328b62-0b0b-4efe-a8fc-484b51b92ec4",
     "showTitle": false,
     "tableResultSettingsMap": {},
     "title": ""
    }
   },
   "source": [
    "**Reference Link:** [Building AI Agents with LangChain (Analytics Vidhya)](https://courses.analyticsvidhya.com/courses/take/building-ai-agents-with-langchain/lessons/62141622-introduction-to-agents-and-tools)"
   ]
  },
  {
   "cell_type": "markdown",
   "metadata": {
    "application/vnd.databricks.v1+cell": {
     "cellMetadata": {},
     "inputWidgets": {},
     "nuid": "47900197-bf16-423b-9beb-e99613d63cee",
     "showTitle": false,
     "tableResultSettingsMap": {},
     "title": ""
    },
    "id": "1kiH8lf1y4sD"
   },
   "source": [
    "# Build a Text2SQL AI Workflow with LangChain\n",
    "\n"
   ]
  },
  {
   "cell_type": "markdown",
   "metadata": {
    "application/vnd.databricks.v1+cell": {
     "cellMetadata": {},
     "inputWidgets": {},
     "nuid": "17955262-5317-4807-9306-6c70b6541233",
     "showTitle": false,
     "tableResultSettingsMap": {},
     "title": ""
    },
    "id": "NYBpZTjLnEXb"
   },
   "source": [
    "In this project, we will design a Text2SQL workflow using LangChain, enabling users to convert natural language queries into SQL commands seamlessly. The workflow will consist of the following components:\n",
    "\n",
    "Query Write Chain: A large language model (LLM) generates SQL queries based on the user's input question, adhering to constraints such as selecting relevant columns and limiting the number of results.\n",
    "\n",
    "Query Execute Chain: The SQL query is executed against a pre-defined database schema using a database engine, retrieving the necessary results.\n",
    "\n",
    "Answer Chain: The LLM formulates a user-friendly response, presenting the query results while escaping special characters for correct rendering in markdown.\n",
    "\n",
    "By leveraging LangChain’s capabilities, we can simplify the process of interacting with databases, allowing users to obtain meaningful insights without requiring SQL expertise.\n",
    "\n",
    "While this has agentic components like tool-calls we are defining a fixed deterministic flow where we have more control, however less flexibility.\n",
    "\n",
    "![](https://i.imgur.com/7WrLz9I.png)\n",
    "\n"
   ]
  },
  {
   "cell_type": "markdown",
   "metadata": {
    "application/vnd.databricks.v1+cell": {
     "cellMetadata": {},
     "inputWidgets": {},
     "nuid": "c9b853a6-56de-49b2-97a7-a735591829f9",
     "showTitle": false,
     "tableResultSettingsMap": {},
     "title": ""
    },
    "id": "L1KvMtf54l0d"
   },
   "source": [
    "## Install OpenAI, and LangChain dependencies"
   ]
  },
  {
   "cell_type": "code",
   "execution_count": 0,
   "metadata": {
    "application/vnd.databricks.v1+cell": {
     "cellMetadata": {},
     "inputWidgets": {},
     "nuid": "279ecd51-2978-4975-a9ea-1e46aba20e4a",
     "showTitle": false,
     "tableResultSettingsMap": {},
     "title": ""
    },
    "id": "2evPp14fy258"
   },
   "outputs": [],
   "source": [
    "!pip install -q langchain==0.3.14\n",
    "!pip install -q langchain-openai==0.3.0\n",
    "!pip install -q langchain-community==0.3.14"
   ]
  },
  {
   "cell_type": "code",
   "execution_count": 0,
   "metadata": {
    "application/vnd.databricks.v1+cell": {
     "cellMetadata": {},
     "inputWidgets": {},
     "nuid": "8509f240-b3cd-4e09-a314-ff36f2743127",
     "showTitle": false,
     "tableResultSettingsMap": {},
     "title": ""
    },
    "id": "AakmY6B_zYte"
   },
   "outputs": [
    {
     "output_type": "stream",
     "name": "stderr",
     "output_type": "stream",
     "text": [
      "'apt-get' is not recognized as an internal or external command,\noperable program or batch file.\n"
     ]
    }
   ],
   "source": [
    "!apt-get install sqlite3 -y"
   ]
  },
  {
   "cell_type": "markdown",
   "metadata": {
    "application/vnd.databricks.v1+cell": {
     "cellMetadata": {},
     "inputWidgets": {},
     "nuid": "75c35a42-95db-4281-be1c-9b7e0614af74",
     "showTitle": false,
     "tableResultSettingsMap": {},
     "title": ""
    },
    "id": "H9c37cLnSrbg"
   },
   "source": [
    "## Enter Open AI API Key"
   ]
  },
  {
   "cell_type": "code",
   "execution_count": 0,
   "metadata": {
    "application/vnd.databricks.v1+cell": {
     "cellMetadata": {},
     "inputWidgets": {},
     "nuid": "a4cb40ee-69b2-47a4-bd39-f2ad210af7b6",
     "showTitle": false,
     "tableResultSettingsMap": {},
     "title": ""
    },
    "id": "cv3JzCEx_PAd"
   },
   "outputs": [],
   "source": [
    "from getpass import getpass\n",
    "\n",
    "OPENAI_KEY = getpass('Enter Open AI API Key: ')"
   ]
  },
  {
   "cell_type": "markdown",
   "metadata": {
    "application/vnd.databricks.v1+cell": {
     "cellMetadata": {},
     "inputWidgets": {},
     "nuid": "ee78b512-66e3-42c5-a300-57fbe53fc472",
     "showTitle": false,
     "tableResultSettingsMap": {},
     "title": ""
    },
    "id": "1T0s0um5Svfa"
   },
   "source": [
    "## Setup Environment Variables"
   ]
  },
  {
   "cell_type": "code",
   "execution_count": 0,
   "metadata": {
    "application/vnd.databricks.v1+cell": {
     "cellMetadata": {},
     "inputWidgets": {},
     "nuid": "eb69153e-0818-4b95-aaa3-9e0e9046e7e3",
     "showTitle": false,
     "tableResultSettingsMap": {},
     "title": ""
    },
    "id": "x1YSuHNF_lbh"
   },
   "outputs": [],
   "source": [
    "import os\n",
    "\n",
    "os.environ['OPENAI_API_KEY'] = OPENAI_KEY"
   ]
  },
  {
   "cell_type": "markdown",
   "metadata": {
    "application/vnd.databricks.v1+cell": {
     "cellMetadata": {},
     "inputWidgets": {},
     "nuid": "d99d50a4-4dfa-490f-a3ed-7c32869f2454",
     "showTitle": false,
     "tableResultSettingsMap": {},
     "title": ""
    },
    "id": "KCxfzpMp12v1"
   },
   "source": [
    "## Get SQL DB Script"
   ]
  },
  {
   "cell_type": "code",
   "execution_count": 0,
   "metadata": {
    "application/vnd.databricks.v1+cell": {
     "cellMetadata": {},
     "inputWidgets": {},
     "nuid": "0c1e33b9-e486-47d4-82e7-5b1ce96e68bc",
     "showTitle": false,
     "tableResultSettingsMap": {},
     "title": ""
    },
    "id": "q2sKDYgEqOaP"
   },
   "outputs": [],
   "source": [
    "# # in case of issues download from https://drive.google.com/file/d/16mZm3C7xKpPqp_86e64uzduLpM5mPUdq/view?usp=sharing and upload\n",
    "# !gdown 16mZm3C7xKpPqp_86e64uzduLpM5mPUdq"
   ]
  },
  {
   "cell_type": "markdown",
   "metadata": {
    "application/vnd.databricks.v1+cell": {
     "cellMetadata": {},
     "inputWidgets": {},
     "nuid": "33e39de8-c8ae-45b7-b58b-13ca01716e1a",
     "showTitle": false,
     "tableResultSettingsMap": {},
     "title": ""
    },
    "id": "AmkRn5lb2A-g"
   },
   "source": [
    "## Create Comic Store Database"
   ]
  },
  {
   "cell_type": "code",
   "execution_count": 0,
   "metadata": {
    "application/vnd.databricks.v1+cell": {
     "cellMetadata": {},
     "inputWidgets": {},
     "nuid": "cbaba6de-1b80-4c3b-8a27-3d45b78f0c89",
     "showTitle": false,
     "tableResultSettingsMap": {},
     "title": ""
    },
    "id": "8_hWe_1Lq5ve"
   },
   "outputs": [
    {
     "output_type": "stream",
     "name": "stdout",
     "output_type": "stream",
     "text": [
      "3.45.3 2024-04-15 13:34:05 8653b758870e6ef0c98d46b3ace27849054af85da891eb121e9aaa537f1e8355 (64-bit)\n"
     ]
    }
   ],
   "source": [
    "!sqlite3 --version"
   ]
  },
  {
   "cell_type": "code",
   "execution_count": 0,
   "metadata": {
    "application/vnd.databricks.v1+cell": {
     "cellMetadata": {},
     "inputWidgets": {},
     "nuid": "2c05137f-559a-49fe-bc39-baa21e4209c0",
     "showTitle": false,
     "tableResultSettingsMap": {},
     "title": ""
    },
    "id": "LMAxKqyOvVD0"
   },
   "outputs": [],
   "source": [
    "!sqlite3 ComicStore.db \".read ./comicdb_create_script.sql\""
   ]
  },
  {
   "cell_type": "code",
   "execution_count": 0,
   "metadata": {
    "application/vnd.databricks.v1+cell": {
     "cellMetadata": {},
     "inputWidgets": {},
     "nuid": "24352bae-6224-43c6-a71e-f310711ef09e",
     "showTitle": false,
     "tableResultSettingsMap": {},
     "title": ""
    },
    "id": "8JLlJq6DvghH"
   },
   "outputs": [
    {
     "output_type": "stream",
     "name": "stdout",
     "output_type": "stream",
     "text": [
      "Branch\nEmployee\nPublisher\nComic\nInventory\nCustomer\nSale\nSaleTransactions\n"
     ]
    }
   ],
   "source": [
    "!sqlite3 ComicStore.db \"SELECT name FROM sqlite_master WHERE type='table';\""
   ]
  },
  {
   "cell_type": "code",
   "execution_count": 0,
   "metadata": {
    "application/vnd.databricks.v1+cell": {
     "cellMetadata": {},
     "inputWidgets": {},
     "nuid": "59200280-2938-4715-8e93-48c76368bf3f",
     "showTitle": false,
     "tableResultSettingsMap": {},
     "title": ""
    }
   },
   "outputs": [],
   "source": [
    "!pip uninstall -q ipython-sql sqlparse prettytable -y\n",
    "!pip install  -q ipython-sql sqlparse prettytable"
   ]
  },
  {
   "cell_type": "code",
   "execution_count": 0,
   "metadata": {
    "application/vnd.databricks.v1+cell": {
     "cellMetadata": {},
     "inputWidgets": {},
     "nuid": "a5a78b68-d959-46bb-a330-df16bdddb70e",
     "showTitle": false,
     "tableResultSettingsMap": {},
     "title": ""
    }
   },
   "outputs": [],
   "source": [
    "%reload_ext sql\n",
    "%sql sqlite:///ComicStore.db"
   ]
  },
  {
   "cell_type": "code",
   "execution_count": 0,
   "metadata": {
    "application/vnd.databricks.v1+cell": {
     "cellMetadata": {},
     "inputWidgets": {},
     "nuid": "6b9671b6-b1b8-46ba-97ee-4517cc5386e4",
     "showTitle": false,
     "tableResultSettingsMap": {},
     "title": ""
    }
   },
   "outputs": [
    {
     "output_type": "execute_result",
     "data": {
      "text/html": [
       "<div>\n",
       "<style scoped>\n",
       "    .dataframe tbody tr th:only-of-type {\n",
       "        vertical-align: middle;\n",
       "    }\n",
       "\n",
       "    .dataframe tbody tr th {\n",
       "        vertical-align: top;\n",
       "    }\n",
       "\n",
       "    .dataframe thead th {\n",
       "        text-align: right;\n",
       "    }\n",
       "</style>\n",
       "<table border=\"1\" class=\"dataframe\">\n",
       "  <thead>\n",
       "    <tr style=\"text-align: right;\">\n",
       "      <th></th>\n",
       "      <th>ComicId</th>\n",
       "      <th>Title</th>\n",
       "      <th>PublisherId</th>\n",
       "      <th>Genre</th>\n",
       "      <th>Price</th>\n",
       "      <th>ReleaseDate</th>\n",
       "    </tr>\n",
       "  </thead>\n",
       "  <tbody>\n",
       "    <tr>\n",
       "      <th>0</th>\n",
       "      <td>1</td>\n",
       "      <td>Spider-Man: Homecoming</td>\n",
       "      <td>1</td>\n",
       "      <td>Superhero</td>\n",
       "      <td>19.99</td>\n",
       "      <td>2017-07-07</td>\n",
       "    </tr>\n",
       "    <tr>\n",
       "      <th>1</th>\n",
       "      <td>2</td>\n",
       "      <td>Batman: Year One</td>\n",
       "      <td>2</td>\n",
       "      <td>Superhero</td>\n",
       "      <td>14.99</td>\n",
       "      <td>1987-02-01</td>\n",
       "    </tr>\n",
       "    <tr>\n",
       "      <th>2</th>\n",
       "      <td>3</td>\n",
       "      <td>Hellboy: Seed of Destruction</td>\n",
       "      <td>3</td>\n",
       "      <td>Supernatural</td>\n",
       "      <td>24.99</td>\n",
       "      <td>1994-10-01</td>\n",
       "    </tr>\n",
       "    <tr>\n",
       "      <th>3</th>\n",
       "      <td>4</td>\n",
       "      <td>Saga Volume 1</td>\n",
       "      <td>4</td>\n",
       "      <td>Fantasy</td>\n",
       "      <td>12.99</td>\n",
       "      <td>2012-03-14</td>\n",
       "    </tr>\n",
       "    <tr>\n",
       "      <th>4</th>\n",
       "      <td>5</td>\n",
       "      <td>Transformers: All Hail Megatron</td>\n",
       "      <td>5</td>\n",
       "      <td>Science Fiction</td>\n",
       "      <td>25.99</td>\n",
       "      <td>2008-09-01</td>\n",
       "    </tr>\n",
       "  </tbody>\n",
       "</table>\n",
       "</div>"
      ],
      "text/plain": [
       "   ComicId                            Title  PublisherId            Genre  \\\n",
       "0        1           Spider-Man: Homecoming            1        Superhero   \n",
       "1        2                 Batman: Year One            2        Superhero   \n",
       "2        3     Hellboy: Seed of Destruction            3     Supernatural   \n",
       "3        4                    Saga Volume 1            4          Fantasy   \n",
       "4        5  Transformers: All Hail Megatron            5  Science Fiction   \n",
       "\n",
       "   Price ReleaseDate  \n",
       "0  19.99  2017-07-07  \n",
       "1  14.99  1987-02-01  \n",
       "2  24.99  1994-10-01  \n",
       "3  12.99  2012-03-14  \n",
       "4  25.99  2008-09-01  "
      ]
     },
     "execution_count": 13,
     "metadata": {},
     "output_type": "execute_result"
    }
   ],
   "source": [
    "import sqlite3\n",
    "import pandas as pd\n",
    "\n",
    "# Connect to database\n",
    "conn = sqlite3.connect(\"ComicStore.db\")\n",
    "\n",
    "# Execute SQL query\n",
    "df = pd.read_sql_query(\"SELECT * FROM Comic LIMIT 10;\", conn)\n",
    "\n",
    "# Display results\n",
    "df.head()"
   ]
  },
  {
   "cell_type": "code",
   "execution_count": 0,
   "metadata": {
    "application/vnd.databricks.v1+cell": {
     "cellMetadata": {},
     "inputWidgets": {},
     "nuid": "823d080c-9711-4b3c-80b9-4d9c9cfb1e5e",
     "showTitle": false,
     "tableResultSettingsMap": {},
     "title": ""
    },
    "id": "wN0hfytfqOcx"
   },
   "outputs": [
    {
     "output_type": "execute_result",
     "data": {
      "text/plain": [
       "<langchain_community.utilities.sql_database.SQLDatabase at 0x1fc27b4c050>"
      ]
     },
     "execution_count": 14,
     "metadata": {},
     "output_type": "execute_result"
    }
   ],
   "source": [
    "from langchain_community.utilities import SQLDatabase\n",
    "\n",
    "db = SQLDatabase.from_uri(\"sqlite:///ComicStore.db\")\n",
    "db"
   ]
  },
  {
   "cell_type": "code",
   "execution_count": 0,
   "metadata": {
    "application/vnd.databricks.v1+cell": {
     "cellMetadata": {},
     "inputWidgets": {},
     "nuid": "0aa08570-d0ee-4a06-a8e6-3f835c2c12c6",
     "showTitle": false,
     "tableResultSettingsMap": {},
     "title": ""
    },
    "id": "iQsxearCqOfT"
   },
   "outputs": [
    {
     "output_type": "stream",
     "name": "stdout",
     "output_type": "stream",
     "text": [
      "sqlite\n['Branch', 'Comic', 'Customer', 'Employee', 'Inventory', 'Publisher', 'Sale', 'SaleTransactions']\n"
     ]
    }
   ],
   "source": [
    "print(db.dialect)\n",
    "print(db.get_usable_table_names())"
   ]
  },
  {
   "cell_type": "markdown",
   "metadata": {
    "application/vnd.databricks.v1+cell": {
     "cellMetadata": {},
     "inputWidgets": {},
     "nuid": "ce39c637-886a-41da-a41d-61b8f2320fca",
     "showTitle": false,
     "tableResultSettingsMap": {},
     "title": ""
    },
    "id": "3YZF_3Qr2Fvr"
   },
   "source": [
    "## Overview of the Comic Store Database\n",
    "\n",
    "In this project, we will utilize a **Comic Store Database** to demonstrate the capabilities of a Text2SQL workflow. The database schema includes the following entities and relationships:\n",
    "\n",
    "1. **Branch**: Stores details about comic store branches, including their location and contact information.\n",
    "\n",
    "2. **Publisher**: Contains information about publishers, such as their name, country, and the year they were established.\n",
    "\n",
    "3. **Comic**: Represents the comics, including their title, genre, price, release date, and associated publisher.\n",
    "\n",
    "4. **Customer**: Tracks customer details, including their contact information and location.\n",
    "\n",
    "5. **Employee**: Holds data about store employees, including their branch, title, and hire date.\n",
    "\n",
    "6. **Inventory**: Manages the stock of comics available at different branches.\n",
    "\n",
    "7. **Sale**: Records sales transactions, including the employee and customer involved, as well as the total amount and sale date.\n",
    "\n",
    "8. **SaleTransactions**: Tracks individual items within a sale, including the quantity and price of each comic sold.\n",
    "\n",
    "### Relationships:\n",
    "- A **Publisher** publishes multiple **Comics**.\n",
    "- A **Branch** stocks multiple **Comics** through the **Inventory** table.\n",
    "- A **Customer** makes **Sales**, which are processed by **Employees**.\n",
    "- Each **Sale** contains multiple items recorded in **SaleTransactions**.\n",
    "\n",
    "This database schema is well-suited for queries related to inventory management, sales analysis, customer interactions, and employee performance in the context of a comic store business.\n",
    "\n",
    "\n",
    "![](https://i.imgur.com/YzNCLpV.png)"
   ]
  },
  {
   "cell_type": "code",
   "execution_count": 0,
   "metadata": {
    "application/vnd.databricks.v1+cell": {
     "cellMetadata": {},
     "inputWidgets": {},
     "nuid": "26549386-d4fe-47d0-8fd0-adeda2087ed9",
     "showTitle": false,
     "tableResultSettingsMap": {},
     "title": ""
    },
    "id": "6DDHRqCjqOhp"
   },
   "outputs": [
    {
     "output_type": "execute_result",
     "data": {
      "text/plain": [
       "\"[{'ComicId': 1, 'Title': 'Spider-Man: Homecoming', 'PublisherId': 1, 'Genre': 'Superhero', 'Price': 19.99, 'ReleaseDate': '2017-07-07'}, {'ComicId': 2, 'Title': 'Batman: Year One', 'PublisherId': 2, 'Genre': 'Superhero', 'Price': 14.99, 'ReleaseDate': '1987-02-01'}, {'ComicId': 3, 'Title': 'Hellboy: Seed of Destruction', 'PublisherId': 3, 'Genre': 'Supernatural', 'Price': 24.99, 'ReleaseDate': '1994-10-01'}, {'ComicId': 4, 'Title': 'Saga Volume 1', 'PublisherId': 4, 'Genre': 'Fantasy', 'Price': 12.99, 'ReleaseDate': '2012-03-14'}, {'ComicId': 5, 'Title': 'Transformers: All Hail Megatron', 'PublisherId': 5, 'Genre': 'Science Fiction', 'Price': 25.99, 'ReleaseDate': '2008-09-01'}, {'ComicId': 6, 'Title': 'X-Men: Days of Future Past', 'PublisherId': 1, 'Genre': 'Superhero', 'Price': 18.99, 'ReleaseDate': '1981-01-01'}, {'ComicId': 7, 'Title': 'The Killing Joke', 'PublisherId': 2, 'Genre': 'Superhero', 'Price': 14.99, 'ReleaseDate': '1988-03-29'}, {'ComicId': 8, 'Title': 'Sin City: The Hard Goodbye', 'PublisherId': 4, 'Genre': 'Noir', 'Price': 22.99, 'ReleaseDate': '1991-06-01'}, {'ComicId': 9, 'Title': 'Usagi Yojimbo Volume 1', 'PublisherId': 5, 'Genre': 'Adventure', 'Price': 20.99, 'ReleaseDate': '1987-09-01'}, {'ComicId': 10, 'Title': 'Deadpool: Merc with a Mouth', 'PublisherId': 1, 'Genre': 'Superhero', 'Price': 16.99, 'ReleaseDate': '2009-08-05'}]\""
      ]
     },
     "execution_count": 16,
     "metadata": {},
     "output_type": "execute_result"
    }
   ],
   "source": [
    "db.run(\"SELECT * FROM Comic LIMIT 10;\", include_columns=True)"
   ]
  },
  {
   "cell_type": "code",
   "execution_count": 0,
   "metadata": {
    "application/vnd.databricks.v1+cell": {
     "cellMetadata": {},
     "inputWidgets": {},
     "nuid": "20d55fa4-7f00-453e-9f65-52cd47274f5c",
     "showTitle": false,
     "tableResultSettingsMap": {},
     "title": ""
    },
    "id": "HqdauDCFJ87w"
   },
   "outputs": [
    {
     "output_type": "execute_result",
     "data": {
      "text/plain": [
       "\"[{'EmployeeId': 1, 'FirstName': 'John', 'LastName': 'Doe', 'Title': 'Manager', 'BranchId': 1, 'HireDate': '2015-06-01', 'Email': 'john.doe@comicstore.com', 'Phone': '555-1234'}, {'EmployeeId': 2, 'FirstName': 'Jane', 'LastName': 'Smith', 'Title': 'Sales Associate', 'BranchId': 1, 'HireDate': '2017-09-15', 'Email': 'jane.smith@comicstore.com', 'Phone': '555-5678'}, {'EmployeeId': 3, 'FirstName': 'Alice', 'LastName': 'Brown', 'Title': 'Sales Associate', 'BranchId': 2, 'HireDate': '2018-03-12', 'Email': 'alice.brown@comicstore.com', 'Phone': '555-9876'}, {'EmployeeId': 4, 'FirstName': 'Michael', 'LastName': 'Clark', 'Title': 'Manager', 'BranchId': 2, 'HireDate': '2016-02-20', 'Email': 'michael.clark@comicstore.com', 'Phone': '555-6543'}, {'EmployeeId': 5, 'FirstName': 'Emily', 'LastName': 'White', 'Title': 'Sales Associate', 'BranchId': 3, 'HireDate': '2019-07-10', 'Email': 'emily.white@comicstore.com', 'Phone': '555-4321'}]\""
      ]
     },
     "execution_count": 17,
     "metadata": {},
     "output_type": "execute_result"
    }
   ],
   "source": [
    "db.run(\"SELECT * FROM Employee LIMIT 10;\", include_columns=True)"
   ]
  },
  {
   "cell_type": "code",
   "execution_count": 0,
   "metadata": {
    "application/vnd.databricks.v1+cell": {
     "cellMetadata": {},
     "inputWidgets": {},
     "nuid": "f00c9cc2-4d54-41d4-8b8f-4dd6398430d9",
     "showTitle": false,
     "tableResultSettingsMap": {},
     "title": ""
    },
    "id": "XMZ1du4uKC_z"
   },
   "outputs": [
    {
     "output_type": "execute_result",
     "data": {
      "text/plain": [
       "\"[{'SaleId': 1, 'CustomerId': 1, 'EmployeeId': 1, 'SaleDate': '2023-01-15', 'TotalAmount': 54.97}, {'SaleId': 2, 'CustomerId': 2, 'EmployeeId': 2, 'SaleDate': '2023-01-20', 'TotalAmount': 49.97}, {'SaleId': 3, 'CustomerId': 3, 'EmployeeId': 3, 'SaleDate': '2023-01-25', 'TotalAmount': 59.97}, {'SaleId': 4, 'CustomerId': 4, 'EmployeeId': 4, 'SaleDate': '2023-01-30', 'TotalAmount': 45.98}, {'SaleId': 5, 'CustomerId': 5, 'EmployeeId': 5, 'SaleDate': '2023-02-05', 'TotalAmount': 29.97}, {'SaleId': 6, 'CustomerId': 6, 'EmployeeId': 1, 'SaleDate': '2023-02-10', 'TotalAmount': 74.97}, {'SaleId': 7, 'CustomerId': 7, 'EmployeeId': 2, 'SaleDate': '2023-02-15', 'TotalAmount': 64.97}, {'SaleId': 8, 'CustomerId': 8, 'EmployeeId': 3, 'SaleDate': '2023-02-20', 'TotalAmount': 49.99}, {'SaleId': 9, 'CustomerId': 9, 'EmployeeId': 4, 'SaleDate': '2023-02-25', 'TotalAmount': 49.97}, {'SaleId': 10, 'CustomerId': 10, 'EmployeeId': 5, 'SaleDate': '2023-03-01', 'TotalAmount': 65.98}]\""
      ]
     },
     "execution_count": 18,
     "metadata": {},
     "output_type": "execute_result"
    }
   ],
   "source": [
    "db.run(\"SELECT * FROM Sale LIMIT 10;\", include_columns=True)"
   ]
  },
  {
   "cell_type": "code",
   "execution_count": 0,
   "metadata": {
    "application/vnd.databricks.v1+cell": {
     "cellMetadata": {},
     "inputWidgets": {},
     "nuid": "e89d0a6f-d12a-4553-9704-e3fe42806422",
     "showTitle": false,
     "tableResultSettingsMap": {},
     "title": ""
    },
    "id": "x6OcNx3WKH9R"
   },
   "outputs": [
    {
     "output_type": "execute_result",
     "data": {
      "text/plain": [
       "\"[{'TransactionId': 1, 'SaleId': 1, 'ComicId': 1, 'Quantity': 1, 'Price': 19.99}, {'TransactionId': 2, 'SaleId': 1, 'ComicId': 2, 'Quantity': 2, 'Price': 14.99}, {'TransactionId': 3, 'SaleId': 2, 'ComicId': 3, 'Quantity': 1, 'Price': 24.99}, {'TransactionId': 4, 'SaleId': 2, 'ComicId': 4, 'Quantity': 1, 'Price': 24.98}, {'TransactionId': 5, 'SaleId': 3, 'ComicId': 5, 'Quantity': 2, 'Price': 29.99}, {'TransactionId': 6, 'SaleId': 3, 'ComicId': 6, 'Quantity': 1, 'Price': 29.98}, {'TransactionId': 7, 'SaleId': 4, 'ComicId': 7, 'Quantity': 2, 'Price': 22.99}, {'TransactionId': 8, 'SaleId': 4, 'ComicId': 8, 'Quantity': 1, 'Price': 22.99}, {'TransactionId': 9, 'SaleId': 5, 'ComicId': 9, 'Quantity': 2, 'Price': 14.99}, {'TransactionId': 10, 'SaleId': 6, 'ComicId': 10, 'Quantity': 2, 'Price': 29.99}]\""
      ]
     },
     "execution_count": 19,
     "metadata": {},
     "output_type": "execute_result"
    }
   ],
   "source": [
    "db.run(\"SELECT * FROM SaleTransactions LIMIT 10;\", include_columns=True)"
   ]
  },
  {
   "cell_type": "code",
   "execution_count": 0,
   "metadata": {
    "application/vnd.databricks.v1+cell": {
     "cellMetadata": {},
     "inputWidgets": {},
     "nuid": "06af7605-2c3f-43e8-903b-f690d4bec84f",
     "showTitle": false,
     "tableResultSettingsMap": {},
     "title": ""
    },
    "id": "mNSPx5MEI8Ph"
   },
   "outputs": [
    {
     "output_type": "stream",
     "name": "stdout",
     "output_type": "stream",
     "text": [
      "\nCREATE TABLE \"Comic\" (\n\t\"ComicId\" INTEGER NOT NULL, \n\t\"Title\" NVARCHAR(100) NOT NULL, \n\t\"PublisherId\" INTEGER NOT NULL, \n\t\"Genre\" NVARCHAR(50), \n\t\"Price\" NUMERIC(10, 2) NOT NULL, \n\t\"ReleaseDate\" DATETIME, \n\tPRIMARY KEY (\"ComicId\"), \n\tFOREIGN KEY(\"PublisherId\") REFERENCES \"Publisher\" (\"PublisherId\")\n)\n\n/*\n3 rows from Comic table:\nComicId\tTitle\tPublisherId\tGenre\tPrice\tReleaseDate\n1\tSpider-Man: Homecoming\t1\tSuperhero\t19.99\t2017-07-07 00:00:00\n2\tBatman: Year One\t2\tSuperhero\t14.99\t1987-02-01 00:00:00\n3\tHellboy: Seed of Destruction\t3\tSupernatural\t24.99\t1994-10-01 00:00:00\n*/\n\n\nCREATE TABLE \"Sale\" (\n\t\"SaleId\" INTEGER NOT NULL, \n\t\"CustomerId\" INTEGER NOT NULL, \n\t\"EmployeeId\" INTEGER, \n\t\"SaleDate\" DATETIME NOT NULL, \n\t\"TotalAmount\" NUMERIC(10, 2) NOT NULL, \n\tPRIMARY KEY (\"SaleId\"), \n\tFOREIGN KEY(\"EmployeeId\") REFERENCES \"Employee\" (\"EmployeeId\"), \n\tFOREIGN KEY(\"CustomerId\") REFERENCES \"Customer\" (\"CustomerId\")\n)\n\n/*\n3 rows from Sale table:\nSaleId\tCustomerId\tEmployeeId\tSaleDate\tTotalAmount\n1\t1\t1\t2023-01-15 00:00:00\t54.97\n2\t2\t2\t2023-01-20 00:00:00\t49.97\n3\t3\t3\t2023-01-25 00:00:00\t59.97\n*/\n"
     ]
    }
   ],
   "source": [
    "print(db.get_table_info(table_names=['Comic', 'Sale']))"
   ]
  },
  {
   "cell_type": "markdown",
   "metadata": {
    "application/vnd.databricks.v1+cell": {
     "cellMetadata": {},
     "inputWidgets": {},
     "nuid": "4f195323-f2a3-4a9c-ac3b-73be605de6bb",
     "showTitle": false,
     "tableResultSettingsMap": {},
     "title": ""
    },
    "id": "2K573_W62q9N"
   },
   "source": [
    "## Build Text2SQL Components for AI Workflow"
   ]
  },
  {
   "cell_type": "code",
   "execution_count": 0,
   "metadata": {
    "application/vnd.databricks.v1+cell": {
     "cellMetadata": {},
     "inputWidgets": {},
     "nuid": "c88aa898-09f4-4144-a288-4875f0c7a30c",
     "showTitle": false,
     "tableResultSettingsMap": {},
     "title": ""
    },
    "id": "2n0ylLzwLY5a"
   },
   "outputs": [],
   "source": [
    "# This prompt is customized from here\n",
    "# https://github.com/langchain-ai/langchain/blob/master/libs/langchain/langchain/chains/sql_database/prompt.py\n",
    "# you might need to customize it based on the LLM you are using\n",
    "# the output format might vary so you may need to mention explicit instructions in the prompt\n",
    "\n",
    "from langchain_core.prompts.prompt import PromptTemplate\n",
    "\n",
    "PROMPT_SUFFIX = \"\"\"Only use the following tables:\n",
    "{table_info}\n",
    "\n",
    "Question: {input}\"\"\"\n",
    "\n",
    "_sqlite_prompt = \"\"\"You are a SQLite expert.\n",
    "Given an input question, first create a syntactically correct SQLite query to run,\n",
    "then look at the results of the query and return the answer to the input question.\n",
    "\n",
    "Unless the user specifies in the question a specific number of examples to obtain,\n",
    "query for at most {top_k} results using the LIMIT clause as per SQLite.\n",
    "\n",
    "You can order the results to return the most informative data in the database.\n",
    "Never query for all columns from a table.\n",
    "\n",
    "You must query only the columns that are needed to answer the question.\n",
    "Wrap each column name in double quotes (\") to denote them as delimited identifiers.\n",
    "\n",
    "Pay attention to use only the column names you can see in the tables below.\n",
    "Be careful to not query for columns that do not exist.\n",
    "Also, pay attention to which column is in which table.\n",
    "Pay attention to use date('now') function to get the current date, if the question involves \"today\".\n",
    "Pay attention to use table JOINS as necessary if you are adding relevant fields from different tables.\n",
    "\n",
    "Generate the output in the exact following format:\n",
    "\n",
    "SQLQuery: SQL Query to run\n",
    "SQLResult: Result of the SQLQuery\n",
    "Answer: Final answer here\n",
    "\n",
    "The SQLQuery field above should have the correct SQLite query as plain text without any formatting or code blocks.\n",
    "Do not include sql or similar markers.\n",
    "Do not try to explain the query, just provide the query as-is, like this: SELECT ...\n",
    "\"\"\"\n",
    "\n",
    "SQLITE_PROMPT = PromptTemplate(\n",
    "    input_variables=[\"input\", \"table_info\", \"top_k\"],\n",
    "    template=_sqlite_prompt + PROMPT_SUFFIX,\n",
    ")"
   ]
  },
  {
   "cell_type": "code",
   "execution_count": 0,
   "metadata": {
    "application/vnd.databricks.v1+cell": {
     "cellMetadata": {},
     "inputWidgets": {},
     "nuid": "f03ea5ad-b318-4987-9ff4-3599617ef8d3",
     "showTitle": false,
     "tableResultSettingsMap": {},
     "title": ""
    },
    "colab": {
     "base_uri": "https://localhost:8080/"
    },
    "id": "3LTz2FeF7CMZ",
    "outputId": "1d79d643-7fa4-4a5c-9454-ab34ea581060"
   },
   "outputs": [
    {
     "output_type": "execute_result",
     "data": {
      "text/plain": [
       "PromptTemplate(input_variables=['input', 'table_info', 'top_k'], input_types={}, partial_variables={}, template='You are a SQLite expert.\\nGiven an input question, first create a syntactically correct SQLite query to run,\\nthen look at the results of the query and return the answer to the input question.\\n\\nUnless the user specifies in the question a specific number of examples to obtain,\\nquery for at most {top_k} results using the LIMIT clause as per SQLite.\\n\\nYou can order the results to return the most informative data in the database.\\nNever query for all columns from a table.\\n\\nYou must query only the columns that are needed to answer the question.\\nWrap each column name in double quotes (\") to denote them as delimited identifiers.\\n\\nPay attention to use only the column names you can see in the tables below.\\nBe careful to not query for columns that do not exist.\\nAlso, pay attention to which column is in which table.\\nPay attention to use date(\\'now\\') function to get the current date, if the question involves \"today\".\\nPay attention to use table JOINS as necessary if you are adding relevant fields from different tables.\\n\\nGenerate the output in the exact following format:\\n\\nSQLQuery: SQL Query to run\\nSQLResult: Result of the SQLQuery\\nAnswer: Final answer here\\n\\nThe SQLQuery field above should have the correct SQLite query as plain text without any formatting or code blocks.\\nDo not include sql or similar markers.\\nDo not try to explain the query, just provide the query as-is, like this: SELECT ...\\nOnly use the following tables:\\n{table_info}\\n\\nQuestion: {input}')"
      ]
     },
     "execution_count": 22,
     "metadata": {},
     "output_type": "execute_result"
    }
   ],
   "source": [
    "SQLITE_PROMPT"
   ]
  },
  {
   "cell_type": "code",
   "execution_count": 0,
   "metadata": {
    "application/vnd.databricks.v1+cell": {
     "cellMetadata": {},
     "inputWidgets": {},
     "nuid": "cd746db8-9f72-4974-8d19-e7f9bcddbfb2",
     "showTitle": false,
     "tableResultSettingsMap": {},
     "title": ""
    },
    "colab": {
     "base_uri": "https://localhost:8080/"
    },
    "id": "yspwYUsVqOj1",
    "outputId": "3c0f68ac-c9b0-4381-c9e2-1362ccb4b801"
   },
   "outputs": [
    {
     "output_type": "execute_result",
     "data": {
      "text/plain": [
       "RunnableAssign(mapper={\n",
       "  input: RunnableLambda(...),\n",
       "  table_info: RunnableLambda(...)\n",
       "})\n",
       "| RunnableLambda(lambda x: {k: v for k, v in x.items() if k not in ('question', 'table_names_to_use')})\n",
       "| PromptTemplate(input_variables=['input', 'table_info'], input_types={}, partial_variables={'top_k': '5'}, template='You are a SQLite expert.\\nGiven an input question, first create a syntactically correct SQLite query to run,\\nthen look at the results of the query and return the answer to the input question.\\n\\nUnless the user specifies in the question a specific number of examples to obtain,\\nquery for at most {top_k} results using the LIMIT clause as per SQLite.\\n\\nYou can order the results to return the most informative data in the database.\\nNever query for all columns from a table.\\n\\nYou must query only the columns that are needed to answer the question.\\nWrap each column name in double quotes (\") to denote them as delimited identifiers.\\n\\nPay attention to use only the column names you can see in the tables below.\\nBe careful to not query for columns that do not exist.\\nAlso, pay attention to which column is in which table.\\nPay attention to use date(\\'now\\') function to get the current date, if the question involves \"today\".\\nPay attention to use table JOINS as necessary if you are adding relevant fields from different tables.\\n\\nGenerate the output in the exact following format:\\n\\nSQLQuery: SQL Query to run\\nSQLResult: Result of the SQLQuery\\nAnswer: Final answer here\\n\\nThe SQLQuery field above should have the correct SQLite query as plain text without any formatting or code blocks.\\nDo not include sql or similar markers.\\nDo not try to explain the query, just provide the query as-is, like this: SELECT ...\\nOnly use the following tables:\\n{table_info}\\n\\nQuestion: {input}')\n",
       "| RunnableBinding(bound=ChatOpenAI(client=<openai.resources.chat.completions.completions.Completions object at 0x000001FC2ED71810>, async_client=<openai.resources.chat.completions.completions.AsyncCompletions object at 0x000001FC2ED79090>, root_client=<openai.OpenAI object at 0x000001FC2ED39D10>, root_async_client=<openai.AsyncOpenAI object at 0x000001FC2ED71950>, model_name='gpt-4o', temperature=0.0, model_kwargs={}, openai_api_key=SecretStr('**********')), kwargs={'stop': ['\\nSQLResult:']}, config={}, config_factories=[])\n",
       "| StrOutputParser()\n",
       "| RunnableLambda(_strip)"
      ]
     },
     "execution_count": 27,
     "metadata": {},
     "output_type": "execute_result"
    }
   ],
   "source": [
    "# Implementation details in langchain source code:\n",
    "# https://api.python.langchain.com/en/latest/_modules/langchain/chains/sql_database/query.html#create_sql_query_chain\n",
    "from langchain_openai import ChatOpenAI\n",
    "from langchain.chains import create_sql_query_chain\n",
    "\n",
    "chatgpt = ChatOpenAI(model=\"gpt-4o\", temperature=0)\n",
    "text2sql_chain = create_sql_query_chain(llm=chatgpt,\n",
    "                                        db=db,\n",
    "                                        prompt=SQLITE_PROMPT,\n",
    "                                        k=5)\n",
    "text2sql_chain"
   ]
  },
  {
   "cell_type": "code",
   "execution_count": 0,
   "metadata": {
    "application/vnd.databricks.v1+cell": {
     "cellMetadata": {},
     "inputWidgets": {},
     "nuid": "f9ca6ebf-cda4-4132-af92-2f5c7b26ae91",
     "showTitle": false,
     "tableResultSettingsMap": {},
     "title": ""
    }
   },
   "outputs": [],
   "source": [
    "!pip install -q langchain_experimental"
   ]
  },
  {
   "cell_type": "code",
   "execution_count": 0,
   "metadata": {
    "application/vnd.databricks.v1+cell": {
     "cellMetadata": {},
     "inputWidgets": {},
     "nuid": "77d4ef02-bbe7-407d-8da5-5e27bcc66ff3",
     "showTitle": false,
     "tableResultSettingsMap": {},
     "title": ""
    }
   },
   "outputs": [],
   "source": [
    "from langchain_experimental.sql.base import SQLDatabaseChain\n",
    "\n",
    "sql_chain = SQLDatabaseChain.from_llm(llm=chatgpt,\n",
    "                                        db=db,\n",
    "                                        prompt=SQLITE_PROMPT,\n",
    "                                        top_k=5)"
   ]
  },
  {
   "cell_type": "code",
   "execution_count": 0,
   "metadata": {
    "application/vnd.databricks.v1+cell": {
     "cellMetadata": {},
     "inputWidgets": {},
     "nuid": "670e9ac6-54ac-49e9-9f34-f63af33ed6a3",
     "showTitle": false,
     "tableResultSettingsMap": {},
     "title": ""
    }
   },
   "outputs": [
    {
     "output_type": "stream",
     "name": "stdout",
     "output_type": "stream",
     "text": [
      "verbose=False llm_chain=LLMChain(verbose=False, prompt=PromptTemplate(input_variables=['input', 'table_info', 'top_k'], input_types={}, partial_variables={}, template='You are a SQLite expert.\\nGiven an input question, first create a syntactically correct SQLite query to run,\\nthen look at the results of the query and return the answer to the input question.\\n\\nUnless the user specifies in the question a specific number of examples to obtain,\\nquery for at most {top_k} results using the LIMIT clause as per SQLite.\\n\\nYou can order the results to return the most informative data in the database.\\nNever query for all columns from a table.\\n\\nYou must query only the columns that are needed to answer the question.\\nWrap each column name in double quotes (\") to denote them as delimited identifiers.\\n\\nPay attention to use only the column names you can see in the tables below.\\nBe careful to not query for columns that do not exist.\\nAlso, pay attention to which column is in which table.\\nPay attention to use date(\\'now\\') function to get the current date, if the question involves \"today\".\\nPay attention to use table JOINS as necessary if you are adding relevant fields from different tables.\\n\\nGenerate the output in the exact following format:\\n\\nSQLQuery: SQL Query to run\\nSQLResult: Result of the SQLQuery\\nAnswer: Final answer here\\n\\nThe SQLQuery field above should have the correct SQLite query as plain text without any formatting or code blocks.\\nDo not include sql or similar markers.\\nDo not try to explain the query, just provide the query as-is, like this: SELECT ...\\nOnly use the following tables:\\n{table_info}\\n\\nQuestion: {input}'), llm=ChatOpenAI(client=<openai.resources.chat.completions.completions.Completions object at 0x0000026F0826E490>, async_client=<openai.resources.chat.completions.completions.AsyncCompletions object at 0x0000026F08275D10>, root_client=<openai.OpenAI object at 0x0000026F08192C10>, root_async_client=<openai.AsyncOpenAI object at 0x0000026F0826E5D0>, model_name='gpt-4o', temperature=0.0, model_kwargs={}, openai_api_key=SecretStr('**********')), output_parser=StrOutputParser(), llm_kwargs={}) database=<langchain_community.utilities.sql_database.SQLDatabase object at 0x0000026F05F2A120>\n"
     ]
    }
   ],
   "source": [
    "print(sql_chain)                                      "
   ]
  },
  {
   "cell_type": "code",
   "execution_count": 0,
   "metadata": {
    "application/vnd.databricks.v1+cell": {
     "cellMetadata": {},
     "inputWidgets": {},
     "nuid": "8e8f2133-e7de-4617-8265-e48712fa44d1",
     "showTitle": false,
     "tableResultSettingsMap": {},
     "title": ""
    }
   },
   "outputs": [
    {
     "output_type": "execute_result",
     "data": {
      "text/plain": [
       "{'query': 'Top 5 most popular comics',\n",
       " 'result': 'SQLQuery: SELECT \"Comic\".\"Title\", SUM(\"SaleTransactions\".\"Quantity\") AS \"TotalSold\" FROM \"SaleTransactions\" JOIN \"Comic\" ON \"SaleTransactions\".\"ComicId\" = \"Comic\".\"ComicId\" GROUP BY \"Comic\".\"Title\" ORDER BY \"TotalSold\" DESC LIMIT 5'}"
      ]
     },
     "execution_count": 64,
     "metadata": {},
     "output_type": "execute_result"
    }
   ],
   "source": [
    "sql_chain.invoke({\"query\": \"Top 5 most popular comics\"})                                      "
   ]
  },
  {
   "cell_type": "code",
   "execution_count": 0,
   "metadata": {
    "application/vnd.databricks.v1+cell": {
     "cellMetadata": {},
     "inputWidgets": {},
     "nuid": "0c866d89-df61-4170-a007-619fc35b5bff",
     "showTitle": false,
     "tableResultSettingsMap": {},
     "title": ""
    },
    "colab": {
     "base_uri": "https://localhost:8080/"
    },
    "id": "e8PvGz_-RjZL",
    "outputId": "1ff62879-5d43-4727-e73f-b541bfa5a97b"
   },
   "outputs": [
    {
     "output_type": "stream",
     "name": "stdout",
     "output_type": "stream",
     "text": [
      "You are a SQLite expert.\nGiven an input question, first create a syntactically correct SQLite query to run,\nthen look at the results of the query and return the answer to the input question.\n\nUnless the user specifies in the question a specific number of examples to obtain,\nquery for at most 5 results using the LIMIT clause as per SQLite.\n\nYou can order the results to return the most informative data in the database.\nNever query for all columns from a table.\n\nYou must query only the columns that are needed to answer the question.\nWrap each column name in double quotes (\") to denote them as delimited identifiers.\n\nPay attention to use only the column names you can see in the tables below.\nBe careful to not query for columns that do not exist.\nAlso, pay attention to which column is in which table.\nPay attention to use date('now') function to get the current date, if the question involves \"today\".\nPay attention to use table JOINS as necessary if you are adding relevant fields from different tables.\n\nGenerate the output in the exact following format:\n\nSQLQuery: SQL Query to run\nSQLResult: Result of the SQLQuery\nAnswer: Final answer here\n\nThe SQLQuery field above should have the correct SQLite query as plain text without any formatting or code blocks.\nDo not include sql or similar markers.\nDo not try to explain the query, just provide the query as-is, like this: SELECT ...\nOnly use the following tables:\n\u001B[33;1m\u001B[1;3m{table_info}\u001B[0m\n\nQuestion: \u001B[33;1m\u001B[1;3m{input}\u001B[0m\n"
     ]
    }
   ],
   "source": [
    "text2sql_chain.get_prompts()[0].pretty_print()"
   ]
  },
  {
   "cell_type": "code",
   "execution_count": 0,
   "metadata": {
    "application/vnd.databricks.v1+cell": {
     "cellMetadata": {},
     "inputWidgets": {},
     "nuid": "5a9f13b9-0984-46ae-b1b2-b3baf3238042",
     "showTitle": false,
     "tableResultSettingsMap": {},
     "title": ""
    },
    "colab": {
     "base_uri": "https://localhost:8080/"
    },
    "id": "wQylENUJJoRX",
    "outputId": "b7820669-f984-4d6b-87a8-9b2ab1275a7b"
   },
   "outputs": [
    {
     "output_type": "stream",
     "name": "stdout",
     "output_type": "stream",
     "text": [
      "SELECT \"Comic\".\"Title\", SUM(\"SaleTransactions\".\"Quantity\") AS \"TotalSold\"\nFROM \"SaleTransactions\"\nJOIN \"Comic\" ON \"SaleTransactions\".\"ComicId\" = \"Comic\".\"ComicId\"\nGROUP BY \"Comic\".\"Title\"\nORDER BY \"TotalSold\" DESC\nLIMIT 5\n"
     ]
    }
   ],
   "source": [
    "response = text2sql_chain.invoke({\"question\": \"Top 5 most popular comics\"})\n",
    "print(response)"
   ]
  },
  {
   "cell_type": "code",
   "execution_count": 0,
   "metadata": {
    "application/vnd.databricks.v1+cell": {
     "cellMetadata": {},
     "inputWidgets": {},
     "nuid": "adad9754-23f9-471d-b78e-7d99ddc09030",
     "showTitle": false,
     "tableResultSettingsMap": {},
     "title": ""
    },
    "colab": {
     "base_uri": "https://localhost:8080/",
     "height": 53
    },
    "id": "E8CcxGxgqOnL",
    "outputId": "0fe588d0-2d45-4da4-8f6c-388a6b1590ef"
   },
   "outputs": [
    {
     "output_type": "execute_result",
     "data": {
      "text/plain": [
       "\"[('Wolverine: Old Man Logan', 3), ('V for Vendetta', 2), ('Usagi Yojimbo Volume 1', 2), ('Transformers: All Hail Megatron', 2), ('The Killing Joke', 2)]\""
      ]
     },
     "execution_count": 67,
     "metadata": {},
     "output_type": "execute_result"
    }
   ],
   "source": [
    "db.run(response)"
   ]
  },
  {
   "cell_type": "markdown",
   "metadata": {
    "application/vnd.databricks.v1+cell": {
     "cellMetadata": {},
     "inputWidgets": {},
     "nuid": "e8d352f9-817e-46d6-a71d-50e0977f3071",
     "showTitle": false,
     "tableResultSettingsMap": {},
     "title": ""
    },
    "id": "PB_RtjY429RU"
   },
   "source": [
    "## Create SQL Query Write & Execute Workflow Chains"
   ]
  },
  {
   "cell_type": "code",
   "execution_count": 0,
   "metadata": {
    "application/vnd.databricks.v1+cell": {
     "cellMetadata": {},
     "inputWidgets": {},
     "nuid": "59eed044-eb0a-4099-b549-11070d9a7982",
     "showTitle": false,
     "tableResultSettingsMap": {},
     "title": ""
    },
    "colab": {
     "base_uri": "https://localhost:8080/"
    },
    "id": "rU03PHjbqOpJ",
    "outputId": "c419f7a0-4c7c-4d20-cfb0-4af082bf0bda"
   },
   "outputs": [
    {
     "output_type": "execute_result",
     "data": {
      "text/plain": [
       "QuerySQLDatabaseTool(db=<langchain_community.utilities.sql_database.SQLDatabase object at 0x0000026F05F2A120>)"
      ]
     },
     "execution_count": 68,
     "metadata": {},
     "output_type": "execute_result"
    }
   ],
   "source": [
    "from langchain_community.tools import QuerySQLDatabaseTool\n",
    "\n",
    "execute_query_tool = QuerySQLDatabaseTool(db=db)\n",
    "execute_query_tool"
   ]
  },
  {
   "cell_type": "code",
   "execution_count": 0,
   "metadata": {
    "application/vnd.databricks.v1+cell": {
     "cellMetadata": {},
     "inputWidgets": {},
     "nuid": "820cb42b-b7bf-424e-aea2-76d39014c555",
     "showTitle": false,
     "tableResultSettingsMap": {},
     "title": ""
    },
    "colab": {
     "base_uri": "https://localhost:8080/",
     "height": 53
    },
    "id": "vm-WPFxaqOrL",
    "outputId": "6e01fa60-a753-4b60-905c-798b43b7168e"
   },
   "outputs": [
    {
     "output_type": "execute_result",
     "data": {
      "text/plain": [
       "\"[('Wolverine: Old Man Logan', 3), ('V for Vendetta', 2), ('Usagi Yojimbo Volume 1', 2), ('Transformers: All Hail Megatron', 2), ('The Killing Joke', 2)]\""
      ]
     },
     "execution_count": 69,
     "metadata": {},
     "output_type": "execute_result"
    }
   ],
   "source": [
    "chatgpt = ChatOpenAI(model=\"gpt-4o\", temperature=0)\n",
    "query_write_chain = create_sql_query_chain(llm=chatgpt,\n",
    "                                           db=db,\n",
    "                                           prompt=SQLITE_PROMPT,\n",
    "                                           k=10)\n",
    "query_execute_chain = (query_write_chain\n",
    "                            |\n",
    "                       execute_query_tool)\n",
    "\n",
    "query_execute_chain.invoke({\"question\": \"Top 5 most popular comics\"})"
   ]
  },
  {
   "cell_type": "code",
   "execution_count": 0,
   "metadata": {
    "application/vnd.databricks.v1+cell": {
     "cellMetadata": {},
     "inputWidgets": {},
     "nuid": "05ffb198-5972-49d4-bff9-3fb921746cef",
     "showTitle": false,
     "tableResultSettingsMap": {},
     "title": ""
    },
    "colab": {
     "base_uri": "https://localhost:8080/",
     "height": 35
    },
    "id": "d2Brh5CKU11z",
    "outputId": "16ab4aaa-03d4-4603-ea73-9e7f5ae6415d"
   },
   "outputs": [
    {
     "output_type": "execute_result",
     "data": {
      "text/plain": [
       "\"[('Tony', 'Stark', 8), ('Sarah', 'Connor', 7), ('Natasha', 'Romanoff', 6), ('Clark', 'Kent', 6), ('Diana', 'Prince', 6)]\""
      ]
     },
     "execution_count": 70,
     "metadata": {},
     "output_type": "execute_result"
    }
   ],
   "source": [
    "query_execute_chain.invoke({\"question\": \"Top 5 customers with most comics purchased\"})"
   ]
  },
  {
   "cell_type": "code",
   "execution_count": 0,
   "metadata": {
    "application/vnd.databricks.v1+cell": {
     "cellMetadata": {},
     "inputWidgets": {},
     "nuid": "4082e660-3cd0-4a48-87ae-92b4ef256092",
     "showTitle": false,
     "tableResultSettingsMap": {},
     "title": ""
    },
    "colab": {
     "base_uri": "https://localhost:8080/",
     "height": 53
    },
    "id": "DYtDCB-_U15-",
    "outputId": "fe150604-9b4a-42c6-9b54-78761e007e0b"
   },
   "outputs": [
    {
     "output_type": "execute_result",
     "data": {
      "text/plain": [
       "\"[('Tony', 'Stark', 164.94), ('Bruce', 'Wayne', 139.94), ('Sarah', 'Connor', 124.96), ('Clark', 'Kent', 114.96), ('Natasha', 'Romanoff', 111.96000000000001)]\""
      ]
     },
     "execution_count": 71,
     "metadata": {},
     "output_type": "execute_result"
    }
   ],
   "source": [
    "query_execute_chain.invoke({\"question\": \"Top 5 customers with most money spent\"})"
   ]
  },
  {
   "cell_type": "code",
   "execution_count": 0,
   "metadata": {
    "application/vnd.databricks.v1+cell": {
     "cellMetadata": {},
     "inputWidgets": {},
     "nuid": "5cb53515-ea32-4550-8b98-85491fe30f26",
     "showTitle": false,
     "tableResultSettingsMap": {},
     "title": ""
    },
    "colab": {
     "base_uri": "https://localhost:8080/",
     "height": 35
    },
    "id": "mvwpYh4kQd6o",
    "outputId": "8d1f0347-c16b-4ff5-df5f-b529eea2821c"
   },
   "outputs": [
    {
     "output_type": "execute_result",
     "data": {
      "text/plain": [
       "\"[('John', 'Doe', 255.89), ('Alice', 'Brown', 234.94), ('Jane', 'Smith', 234.88)]\""
      ]
     },
     "execution_count": 72,
     "metadata": {},
     "output_type": "execute_result"
    }
   ],
   "source": [
    "query_execute_chain.invoke({\"question\": \"Top 3 salesman with highest revenue\"})"
   ]
  },
  {
   "cell_type": "markdown",
   "metadata": {
    "application/vnd.databricks.v1+cell": {
     "cellMetadata": {},
     "inputWidgets": {},
     "nuid": "326d6e4d-7241-4b5a-9478-c46cdca21254",
     "showTitle": false,
     "tableResultSettingsMap": {},
     "title": ""
    },
    "id": "bYcwPY1A3GRp"
   },
   "source": [
    "## Create Text2SQL AI Workflow Chain"
   ]
  },
  {
   "cell_type": "code",
   "execution_count": 0,
   "metadata": {
    "application/vnd.databricks.v1+cell": {
     "cellMetadata": {},
     "inputWidgets": {},
     "nuid": "e8cff483-6fec-46cc-9bcb-fd3c37cffe7d",
     "showTitle": false,
     "tableResultSettingsMap": {},
     "title": ""
    },
    "id": "JcD73AxaU189"
   },
   "outputs": [
    {
     "output_type": "stream",
     "name": "stderr",
     "output_type": "stream",
     "text": [
      "<>:7: SyntaxWarning: invalid escape sequence '\\$'\n<>:7: SyntaxWarning: invalid escape sequence '\\$'\nC:\\Users\\Sourav Banerjee\\AppData\\Local\\Temp\\ipykernel_33972\\3854867656.py:7: SyntaxWarning: invalid escape sequence '\\$'\n  \"\"\"Given the following user question, corresponding SQL query, and SQL result,\n"
     ]
    }
   ],
   "source": [
    "from operator import itemgetter\n",
    "from langchain_core.output_parsers import StrOutputParser\n",
    "from langchain_core.prompts import PromptTemplate\n",
    "from langchain_core.runnables import RunnablePassthrough\n",
    "\n",
    "answer_prompt = PromptTemplate.from_template(\n",
    "    \"\"\"Given the following user question, corresponding SQL query, and SQL result,\n",
    "       create a helpful answer the user question.\n",
    "\n",
    "       When generating the final answer in markdown from the results,\n",
    "       if there are special characters in the text, such as the dollar symbol,\n",
    "       ensure they are escaped properly for correct rendering e.g $25.5 should become \\$25.5\n",
    "\n",
    "       Question: {question}\n",
    "       SQL Query: {query}\n",
    "       SQL Result: {result}\n",
    "       Answer:\n",
    "    \"\"\"\n",
    ")\n",
    "\n",
    "text2sql_chain = (\n",
    "    RunnablePassthrough.assign(query=query_write_chain)\n",
    "        |\n",
    "    RunnablePassthrough.assign(result=query_execute_chain)\n",
    "        |\n",
    "    answer_prompt\n",
    "        |\n",
    "    chatgpt\n",
    "        |\n",
    "    StrOutputParser()\n",
    ")"
   ]
  },
  {
   "cell_type": "markdown",
   "metadata": {
    "application/vnd.databricks.v1+cell": {
     "cellMetadata": {},
     "inputWidgets": {},
     "nuid": "9b7c069f-5ae7-4176-9362-18de3a6576a6",
     "showTitle": false,
     "tableResultSettingsMap": {},
     "title": ""
    },
    "id": "5D3jafEI3JwL"
   },
   "source": [
    "## Test the Text2SQL AI Workflow"
   ]
  },
  {
   "cell_type": "code",
   "execution_count": 0,
   "metadata": {
    "application/vnd.databricks.v1+cell": {
     "cellMetadata": {},
     "inputWidgets": {},
     "nuid": "ed9c30ee-3b1e-471b-8ddb-d4a1a1d71a0d",
     "showTitle": false,
     "tableResultSettingsMap": {},
     "title": ""
    },
    "colab": {
     "base_uri": "https://localhost:8080/",
     "height": 46
    },
    "id": "1AHvsK6RZWWv",
    "outputId": "1a64f740-1144-4ab6-b955-a9c9419fafde"
   },
   "outputs": [
    {
     "output_type": "display_data",
     "data": {
      "text/markdown": [
       "The total number of customers is **20**."
      ],
      "text/plain": [
       "<IPython.core.display.Markdown object>"
      ]
     },
     "metadata": {},
     "output_type": "display_data"
    }
   ],
   "source": [
    "from IPython.display import display, Markdown\n",
    "response = text2sql_chain.invoke({\"question\": \"Total number of customers\"})\n",
    "display(Markdown(response))"
   ]
  },
  {
   "cell_type": "code",
   "execution_count": 0,
   "metadata": {
    "application/vnd.databricks.v1+cell": {
     "cellMetadata": {},
     "inputWidgets": {},
     "nuid": "b72776cc-6b4a-4fd5-84bd-94e98be773e0",
     "showTitle": false,
     "tableResultSettingsMap": {},
     "title": ""
    },
    "colab": {
     "base_uri": "https://localhost:8080/",
     "height": 265
    },
    "id": "HyK1CpvqU2CD",
    "outputId": "b3534402-f3f6-4458-adc8-96ba4429f099"
   },
   "outputs": [
    {
     "output_type": "display_data",
     "data": {
      "text/markdown": [
       "Here are the Top 10 most popular comics based on sales:\n",
       "\n",
       "1. **Wolverine: Old Man Logan** - Sold 3 copies\n",
       "2. **V for Vendetta** - Sold 2 copies\n",
       "3. **Usagi Yojimbo Volume 1** - Sold 2 copies\n",
       "4. **Transformers: All Hail Megatron** - Sold 2 copies\n",
       "5. **The Killing Joke** - Sold 2 copies\n",
       "6. **The Boys Volume 1** - Sold 2 copies\n",
       "7. **Superman: Red Son** - Sold 2 copies\n",
       "8. **Punisher: Welcome Back, Frank** - Sold 2 copies\n",
       "9. **Preacher Volume 1** - Sold 2 copies\n",
       "10. **Ms. Marvel Volume 1** - Sold 2 copies\n",
       "\n",
       "These comics are the most popular based on the total number of copies sold."
      ],
      "text/plain": [
       "<IPython.core.display.Markdown object>"
      ]
     },
     "metadata": {},
     "output_type": "display_data"
    }
   ],
   "source": [
    "response = text2sql_chain.invoke({\"question\": \"What are the Top 10 most popular comics\"})\n",
    "display(Markdown(response))"
   ]
  },
  {
   "cell_type": "code",
   "execution_count": 0,
   "metadata": {
    "application/vnd.databricks.v1+cell": {
     "cellMetadata": {},
     "inputWidgets": {},
     "nuid": "82a1105d-7384-4610-9182-30c428d4a7ff",
     "showTitle": false,
     "tableResultSettingsMap": {},
     "title": ""
    },
    "colab": {
     "base_uri": "https://localhost:8080/",
     "height": 179
    },
    "id": "zxnLGmVZZlzJ",
    "outputId": "80f54a81-b7ff-4f3e-8f89-fc6d1dc13fd7"
   },
   "outputs": [
    {
     "output_type": "display_data",
     "data": {
      "text/markdown": [
       "Here are the top 5 customers who have purchased the most comics:\n",
       "\n",
       "1. **Tony Stark** - 8 comics\n",
       "2. **Sarah Connor** - 7 comics\n",
       "3. **Natasha Romanoff** - 6 comics\n",
       "4. **Clark Kent** - 6 comics\n",
       "5. **Diana Prince** - 6 comics\n",
       "\n",
       "These customers have shown a great interest in comics, with Tony Stark leading the list with 8 purchases."
      ],
      "text/plain": [
       "<IPython.core.display.Markdown object>"
      ]
     },
     "metadata": {},
     "output_type": "display_data"
    }
   ],
   "source": [
    "response = text2sql_chain.invoke({\"question\": \"Top 5 customers with most comics purchased\"})\n",
    "display(Markdown(response))"
   ]
  },
  {
   "cell_type": "code",
   "execution_count": 0,
   "metadata": {
    "application/vnd.databricks.v1+cell": {
     "cellMetadata": {},
     "inputWidgets": {},
     "nuid": "af5ef5aa-87dc-449e-a40d-71436f4fb69b",
     "showTitle": false,
     "tableResultSettingsMap": {},
     "title": ""
    },
    "colab": {
     "base_uri": "https://localhost:8080/",
     "height": 179
    },
    "id": "0WEhTieKZl5R",
    "outputId": "cd1b4cfb-af95-472a-cb19-f6319e2db6e0"
   },
   "outputs": [
    {
     "output_type": "display_data",
     "data": {
      "text/markdown": [
       "Here are the top 5 customers who have spent the most money:\n",
       "\n",
       "1. **Tony Stark**: \\$164.94\n",
       "2. **Bruce Wayne**: \\$139.94\n",
       "3. **Sarah Connor**: \\$124.96\n",
       "4. **Clark Kent**: \\$114.96\n",
       "5. **Natasha Romanoff**: \\$111.96\n",
       "\n",
       "These customers have made significant purchases, contributing to their high total spending."
      ],
      "text/plain": [
       "<IPython.core.display.Markdown object>"
      ]
     },
     "metadata": {},
     "output_type": "display_data"
    }
   ],
   "source": [
    "response = text2sql_chain.invoke({\"question\": \"Which are the top 5 customers with most money spent\"})\n",
    "display(Markdown(response))"
   ]
  },
  {
   "cell_type": "code",
   "execution_count": 0,
   "metadata": {
    "application/vnd.databricks.v1+cell": {
     "cellMetadata": {},
     "inputWidgets": {},
     "nuid": "0db522ba-c128-41a4-a05b-39a278d8e232",
     "showTitle": false,
     "tableResultSettingsMap": {},
     "title": ""
    },
    "colab": {
     "base_uri": "https://localhost:8080/",
     "height": 144
    },
    "id": "25SJ1cDKRWuf",
    "outputId": "704d9279-0381-432d-a32a-03951569702e"
   },
   "outputs": [
    {
     "output_type": "display_data",
     "data": {
      "text/markdown": [
       "The top 3 salespeople with the highest revenue are:\n",
       "\n",
       "1. **John Doe** with a total revenue of \\$255.89\n",
       "2. **Alice Brown** with a total revenue of \\$234.94\n",
       "3. **Jane Smith** with a total revenue of \\$234.88\n",
       "\n",
       "These individuals have achieved the highest sales figures, showcasing their exceptional performance in generating revenue."
      ],
      "text/plain": [
       "<IPython.core.display.Markdown object>"
      ]
     },
     "metadata": {},
     "output_type": "display_data"
    }
   ],
   "source": [
    "response = text2sql_chain.invoke({\"question\": \"Which are the top 3 salesman with highest revenue\"})\n",
    "display(Markdown(response))"
   ]
  }
 ],
 "metadata": {
  "application/vnd.databricks.v1+notebook": {
   "computePreferences": null,
   "dashboards": [],
   "environmentMetadata": null,
   "language": "python",
   "notebookMetadata": {
    "pythonIndentUnit": 4
   },
   "notebookName": "M4_Build_a_Text2SQL_AI_Workflow_with_LangChain",
   "widgets": {}
  },
  "colab": {
   "provenance": []
  },
  "kernelspec": {
   "display_name": ".venv",
   "language": "python",
   "name": "python3"
  },
  "language_info": {
   "name": "python"
  }
 },
 "nbformat": 4,
 "nbformat_minor": 0
}
