{
 "cells": [
  {
   "cell_type": "markdown",
   "metadata": {
    "application/vnd.databricks.v1+cell": {
     "cellMetadata": {},
     "inputWidgets": {},
     "nuid": "ed18603d-d81e-4c7d-9fd0-cbc9d22c3b20",
     "showTitle": false,
     "tableResultSettingsMap": {},
     "title": ""
    }
   },
   "source": [
    "**Reference Link:** [Building AI Agents with LangChain (Analytics Vidhya)](https://courses.analyticsvidhya.com/courses/take/building-ai-agents-with-langchain/lessons/62141622-introduction-to-agents-and-tools)"
   ]
  },
  {
   "cell_type": "markdown",
   "metadata": {
    "application/vnd.databricks.v1+cell": {
     "cellMetadata": {},
     "inputWidgets": {},
     "nuid": "77659b6e-4a2a-4f37-8c65-62e1f56817a8",
     "showTitle": false,
     "tableResultSettingsMap": {},
     "title": ""
    },
    "id": "1kiH8lf1y4sD"
   },
   "source": [
    "# Build a Text2SQL ReAct Agentic AI System with LangChain"
   ]
  },
  {
   "cell_type": "markdown",
   "metadata": {
    "application/vnd.databricks.v1+cell": {
     "cellMetadata": {},
     "inputWidgets": {},
     "nuid": "742ff4dc-d42e-462a-8c59-c559fd862691",
     "showTitle": false,
     "tableResultSettingsMap": {},
     "title": ""
    },
    "id": "NYBpZTjLnEXb"
   },
   "source": [
    "### Building a Text2SQL ReAct Agentic AI System\n",
    "\n",
    "In this project, we will design a **Text2SQL ReAct Agentic AI System** to enhance the interaction with databases using natural language queries. This workflow will leverage the `create_react_agent` function from **LangGraph**, which offers a more robust implementation compared to the deprecated LangChain version. The workflow consists of the following components:\n",
    "\n",
    "1. **Agent System Prompt**: The agent is designed to interpret user questions and generate syntactically correct SQL queries. Key rules include:\n",
    "   - Limiting results to at most 10 unless specified by the user.\n",
    "   - Querying only relevant columns instead of retrieving all columns from a table.\n",
    "   - Ensuring plain text SQL query generation without additional formatting or code blocks.\n",
    "\n",
    "2. **SQL Database Tools**: The system uses tools to interact with the database schema and validate queries:\n",
    "   - **DB_QUERY**: Executes the generated SQL query.\n",
    "   - **DB_SCHEMA**: Fetches the schema details of the database.\n",
    "   - **DB_LIST_TABLES**: Lists all tables in the database.\n",
    "   - **DB_QUERY_CHECKER**: Validates the correctness of the SQL query before execution.\n",
    "\n",
    "3. **SQL Database Engine**: Executes the validated SQL queries and retrieves the required data from the database.\n",
    "\n",
    "4. **ReAct Reasoning Framework**: The agent combines reasoning with actions to ensure accurate query formulation and execution.\n",
    "\n",
    "5. **Final Response**: The results are processed and returned to the user in a human-friendly format.\n",
    "\n",
    "By using LangGraph's `create_react_agent`, this system ensures a more reliable, efficient, and user-friendly interaction with SQL databases, making it easier to extract meaningful insights from structured data.\n",
    "\n",
    "![](https://i.imgur.com/4PNKql9.png)"
   ]
  },
  {
   "cell_type": "markdown",
   "metadata": {
    "application/vnd.databricks.v1+cell": {
     "cellMetadata": {},
     "inputWidgets": {},
     "nuid": "39bd4a9c-78c9-4173-b715-afb84482d2d8",
     "showTitle": false,
     "tableResultSettingsMap": {},
     "title": ""
    },
    "id": "L1KvMtf54l0d"
   },
   "source": [
    "## Install OpenAI, and LangChain dependencies"
   ]
  },
  {
   "cell_type": "code",
   "execution_count": 0,
   "metadata": {
    "application/vnd.databricks.v1+cell": {
     "cellMetadata": {},
     "inputWidgets": {},
     "nuid": "7dccde05-cf20-44aa-b31c-ceaf4c7bca9c",
     "showTitle": false,
     "tableResultSettingsMap": {},
     "title": ""
    },
    "colab": {
     "base_uri": "https://localhost:8080/"
    },
    "id": "2evPp14fy258",
    "outputId": "c31de020-f5ec-4526-94ef-0d6a58d3a6a1"
   },
   "outputs": [],
   "source": [
    "!pip install -q langchain==0.3.14\n",
    "!pip install -q langchain-openai==0.3.0\n",
    "!pip install -q langchain-community==0.3.14\n",
    "!pip install -q langgraph==0.2.66"
   ]
  },
  {
   "cell_type": "code",
   "execution_count": 0,
   "metadata": {
    "application/vnd.databricks.v1+cell": {
     "cellMetadata": {},
     "inputWidgets": {},
     "nuid": "2d009d1e-090c-4fd5-a45b-c4113a2b7b9e",
     "showTitle": false,
     "tableResultSettingsMap": {},
     "title": ""
    },
    "colab": {
     "base_uri": "https://localhost:8080/"
    },
    "id": "AakmY6B_zYte",
    "outputId": "3f8da9cb-30eb-40be-d929-02bd93969f9c"
   },
   "outputs": [
    {
     "output_type": "stream",
     "name": "stderr",
     "output_type": "stream",
     "text": [
      "'apt-get' is not recognized as an internal or external command,\noperable program or batch file.\n"
     ]
    }
   ],
   "source": [
    "!apt-get install sqlite3 -y"
   ]
  },
  {
   "cell_type": "markdown",
   "metadata": {
    "application/vnd.databricks.v1+cell": {
     "cellMetadata": {},
     "inputWidgets": {},
     "nuid": "2aac97d6-0ce8-41bf-97f2-eb3aa76092f5",
     "showTitle": false,
     "tableResultSettingsMap": {},
     "title": ""
    },
    "id": "H9c37cLnSrbg"
   },
   "source": [
    "## Enter Open AI API Key"
   ]
  },
  {
   "cell_type": "code",
   "execution_count": 0,
   "metadata": {
    "application/vnd.databricks.v1+cell": {
     "cellMetadata": {},
     "inputWidgets": {},
     "nuid": "9ed54794-a07f-4558-b457-b432557a6ec8",
     "showTitle": false,
     "tableResultSettingsMap": {},
     "title": ""
    },
    "colab": {
     "base_uri": "https://localhost:8080/"
    },
    "id": "cv3JzCEx_PAd",
    "outputId": "dea1c0c8-871a-4adf-e182-de9dce58468a"
   },
   "outputs": [],
   "source": [
    "from getpass import getpass\n",
    "\n",
    "OPENAI_KEY = getpass('Enter Open AI API Key: ')"
   ]
  },
  {
   "cell_type": "markdown",
   "metadata": {
    "application/vnd.databricks.v1+cell": {
     "cellMetadata": {},
     "inputWidgets": {},
     "nuid": "6c5827e3-aeef-4f37-80c1-5eca9958a901",
     "showTitle": false,
     "tableResultSettingsMap": {},
     "title": ""
    },
    "id": "1T0s0um5Svfa"
   },
   "source": [
    "## Setup Environment Variables"
   ]
  },
  {
   "cell_type": "code",
   "execution_count": 0,
   "metadata": {
    "application/vnd.databricks.v1+cell": {
     "cellMetadata": {},
     "inputWidgets": {},
     "nuid": "ffafd6ce-5a71-4ba1-9246-199caa95e0de",
     "showTitle": false,
     "tableResultSettingsMap": {},
     "title": ""
    },
    "id": "x1YSuHNF_lbh"
   },
   "outputs": [],
   "source": [
    "import os\n",
    "\n",
    "os.environ['OPENAI_API_KEY'] = OPENAI_KEY"
   ]
  },
  {
   "cell_type": "markdown",
   "metadata": {
    "application/vnd.databricks.v1+cell": {
     "cellMetadata": {},
     "inputWidgets": {},
     "nuid": "dac35800-0b73-4d86-b780-acd3ba03aa75",
     "showTitle": false,
     "tableResultSettingsMap": {},
     "title": ""
    },
    "id": "KCxfzpMp12v1"
   },
   "source": [
    "## Get SQL DB Script"
   ]
  },
  {
   "cell_type": "code",
   "execution_count": 0,
   "metadata": {
    "application/vnd.databricks.v1+cell": {
     "cellMetadata": {},
     "inputWidgets": {},
     "nuid": "1e93294b-3535-42b3-be86-4ad16edecd32",
     "showTitle": false,
     "tableResultSettingsMap": {},
     "title": ""
    },
    "colab": {
     "base_uri": "https://localhost:8080/"
    },
    "id": "c_EPCL4zIHDF",
    "outputId": "ca240d70-e7b8-4b31-9405-a765e58cce0f"
   },
   "outputs": [],
   "source": [
    "# # in case of issues download from https://drive.google.com/file/d/16mZm3C7xKpPqp_86e64uzduLpM5mPUdq/view?usp=sharing and upload\n",
    "# !gdown 16mZm3C7xKpPqp_86e64uzduLpM5mPUdq"
   ]
  },
  {
   "cell_type": "markdown",
   "metadata": {
    "application/vnd.databricks.v1+cell": {
     "cellMetadata": {},
     "inputWidgets": {},
     "nuid": "6b0c76bf-1bd1-4bd6-bc1e-47e670767f75",
     "showTitle": false,
     "tableResultSettingsMap": {},
     "title": ""
    },
    "id": "AmkRn5lb2A-g"
   },
   "source": [
    "## Create Comic Store Database"
   ]
  },
  {
   "cell_type": "code",
   "execution_count": 0,
   "metadata": {
    "application/vnd.databricks.v1+cell": {
     "cellMetadata": {},
     "inputWidgets": {},
     "nuid": "a0005678-62db-44a1-8958-67606e0b5702",
     "showTitle": false,
     "tableResultSettingsMap": {},
     "title": ""
    },
    "colab": {
     "base_uri": "https://localhost:8080/"
    },
    "id": "8_hWe_1Lq5ve",
    "outputId": "35c8e0e2-86b3-42aa-8797-76ccffcae175"
   },
   "outputs": [
    {
     "output_type": "stream",
     "name": "stdout",
     "output_type": "stream",
     "text": [
      "3.45.3 2024-04-15 13:34:05 8653b758870e6ef0c98d46b3ace27849054af85da891eb121e9aaa537f1e8355 (64-bit)\n"
     ]
    }
   ],
   "source": [
    "!sqlite3 --version"
   ]
  },
  {
   "cell_type": "code",
   "execution_count": 0,
   "metadata": {
    "application/vnd.databricks.v1+cell": {
     "cellMetadata": {},
     "inputWidgets": {},
     "nuid": "b2f6637a-0916-4c6e-9d8d-e88a16ce7560",
     "showTitle": false,
     "tableResultSettingsMap": {},
     "title": ""
    },
    "id": "LMAxKqyOvVD0"
   },
   "outputs": [],
   "source": [
    "!sqlite3 ComicStore.db \".read ./comicdb_create_script.sql\""
   ]
  },
  {
   "cell_type": "code",
   "execution_count": 0,
   "metadata": {
    "application/vnd.databricks.v1+cell": {
     "cellMetadata": {},
     "inputWidgets": {},
     "nuid": "7eb2266e-9b8e-4b16-87ed-c68357282a42",
     "showTitle": false,
     "tableResultSettingsMap": {},
     "title": ""
    },
    "colab": {
     "base_uri": "https://localhost:8080/"
    },
    "id": "8JLlJq6DvghH",
    "outputId": "4af790d7-65fc-4640-cc84-573266d95618"
   },
   "outputs": [
    {
     "output_type": "stream",
     "name": "stdout",
     "output_type": "stream",
     "text": [
      "Branch\nEmployee\nPublisher\nComic\nInventory\nCustomer\nSale\nSaleTransactions\n"
     ]
    }
   ],
   "source": [
    "!sqlite3 ComicStore.db \"SELECT name FROM sqlite_master WHERE type='table';\""
   ]
  },
  {
   "cell_type": "code",
   "execution_count": 0,
   "metadata": {
    "application/vnd.databricks.v1+cell": {
     "cellMetadata": {},
     "inputWidgets": {},
     "nuid": "7a4113f9-00f7-486c-8a4b-a9698f123196",
     "showTitle": false,
     "tableResultSettingsMap": {},
     "title": ""
    },
    "colab": {
     "base_uri": "https://localhost:8080/"
    },
    "id": "reeYrrrTvtNG",
    "outputId": "d3fd987d-4393-4f73-9a5d-56f7664e14bd"
   },
   "outputs": [],
   "source": [
    "# %%bash\n",
    "# sqlite3 ComicStore.db <<EOF\n",
    "# .headers on\n",
    "# .mode column\n",
    "# SELECT * FROM Comic LIMIT 10;\n",
    "# EOF"
   ]
  },
  {
   "cell_type": "code",
   "execution_count": 0,
   "metadata": {
    "application/vnd.databricks.v1+cell": {
     "cellMetadata": {},
     "inputWidgets": {},
     "nuid": "2154a4de-6656-46c9-b2d4-7261514bd8e3",
     "showTitle": false,
     "tableResultSettingsMap": {},
     "title": ""
    },
    "colab": {
     "base_uri": "https://localhost:8080/"
    },
    "id": "wN0hfytfqOcx",
    "outputId": "271b2e32-bd76-48ed-a15b-5b3762324256"
   },
   "outputs": [
    {
     "output_type": "execute_result",
     "data": {
      "text/plain": [
       "<langchain_community.utilities.sql_database.SQLDatabase at 0x1ff0e2896a0>"
      ]
     },
     "execution_count": 16,
     "metadata": {},
     "output_type": "execute_result"
    }
   ],
   "source": [
    "from langchain_community.utilities import SQLDatabase\n",
    "\n",
    "db = SQLDatabase.from_uri(\"sqlite:///ComicStore.db\")\n",
    "db"
   ]
  },
  {
   "cell_type": "code",
   "execution_count": 0,
   "metadata": {
    "application/vnd.databricks.v1+cell": {
     "cellMetadata": {},
     "inputWidgets": {},
     "nuid": "40743acc-3752-4691-98ea-1b0520c719b7",
     "showTitle": false,
     "tableResultSettingsMap": {},
     "title": ""
    },
    "colab": {
     "base_uri": "https://localhost:8080/"
    },
    "id": "iQsxearCqOfT",
    "outputId": "78124b3e-8efb-41f9-e1fa-22e7875f5561"
   },
   "outputs": [
    {
     "output_type": "stream",
     "name": "stdout",
     "output_type": "stream",
     "text": [
      "sqlite\n['Branch', 'Comic', 'Customer', 'Employee', 'Inventory', 'Publisher', 'Sale', 'SaleTransactions']\n"
     ]
    }
   ],
   "source": [
    "print(db.dialect)\n",
    "print(db.get_usable_table_names())"
   ]
  },
  {
   "cell_type": "markdown",
   "metadata": {
    "application/vnd.databricks.v1+cell": {
     "cellMetadata": {},
     "inputWidgets": {},
     "nuid": "1c372738-d831-4947-b24d-81d04589bef0",
     "showTitle": false,
     "tableResultSettingsMap": {},
     "title": ""
    },
    "id": "9NiTuq9wIOB1"
   },
   "source": [
    "## Create Comic Store Database"
   ]
  },
  {
   "cell_type": "markdown",
   "metadata": {
    "application/vnd.databricks.v1+cell": {
     "cellMetadata": {},
     "inputWidgets": {},
     "nuid": "701ca109-8dc8-4a7e-80b6-8038a3a651f2",
     "showTitle": false,
     "tableResultSettingsMap": {},
     "title": ""
    },
    "id": "3YZF_3Qr2Fvr"
   },
   "source": [
    "## Overview of the Comic Store Database\n",
    "\n",
    "In this project, we will utilize a **Comic Store Database** to demonstrate the capabilities of a Text2SQL workflow. The database schema includes the following entities and relationships:\n",
    "\n",
    "1. **Branch**: Stores details about comic store branches, including their location and contact information.\n",
    "\n",
    "2. **Publisher**: Contains information about publishers, such as their name, country, and the year they were established.\n",
    "\n",
    "3. **Comic**: Represents the comics, including their title, genre, price, release date, and associated publisher.\n",
    "\n",
    "4. **Customer**: Tracks customer details, including their contact information and location.\n",
    "\n",
    "5. **Employee**: Holds data about store employees, including their branch, title, and hire date.\n",
    "\n",
    "6. **Inventory**: Manages the stock of comics available at different branches.\n",
    "\n",
    "7. **Sale**: Records sales transactions, including the employee and customer involved, as well as the total amount and sale date.\n",
    "\n",
    "8. **SaleTransactions**: Tracks individual items within a sale, including the quantity and price of each comic sold.\n",
    "\n",
    "### Relationships:\n",
    "- A **Publisher** publishes multiple **Comics**.\n",
    "- A **Branch** stocks multiple **Comics** through the **Inventory** table.\n",
    "- A **Customer** makes **Sales**, which are processed by **Employees**.\n",
    "- Each **Sale** contains multiple items recorded in **SaleTransactions**.\n",
    "\n",
    "This database schema is well-suited for queries related to inventory management, sales analysis, customer interactions, and employee performance in the context of a comic store business.\n",
    "\n",
    "\n",
    "![](https://i.imgur.com/YzNCLpV.png)"
   ]
  },
  {
   "cell_type": "code",
   "execution_count": 0,
   "metadata": {
    "application/vnd.databricks.v1+cell": {
     "cellMetadata": {},
     "inputWidgets": {},
     "nuid": "e28df35e-c013-4c4c-a55b-56b894630003",
     "showTitle": false,
     "tableResultSettingsMap": {},
     "title": ""
    },
    "colab": {
     "base_uri": "https://localhost:8080/",
     "height": 140
    },
    "id": "6DDHRqCjqOhp",
    "outputId": "3bf9c777-e92c-4cf9-f1f8-c2f7a7beb908"
   },
   "outputs": [
    {
     "output_type": "execute_result",
     "data": {
      "application/vnd.google.colaboratory.intrinsic+json": {
       "type": "string"
      },
      "text/plain": [
       "\"[{'ComicId': 1, 'Title': 'Spider-Man: Homecoming', 'PublisherId': 1, 'Genre': 'Superhero', 'Price': 19.99, 'ReleaseDate': '2017-07-07'}, {'ComicId': 2, 'Title': 'Batman: Year One', 'PublisherId': 2, 'Genre': 'Superhero', 'Price': 14.99, 'ReleaseDate': '1987-02-01'}, {'ComicId': 3, 'Title': 'Hellboy: Seed of Destruction', 'PublisherId': 3, 'Genre': 'Supernatural', 'Price': 24.99, 'ReleaseDate': '1994-10-01'}, {'ComicId': 4, 'Title': 'Saga Volume 1', 'PublisherId': 4, 'Genre': 'Fantasy', 'Price': 12.99, 'ReleaseDate': '2012-03-14'}, {'ComicId': 5, 'Title': 'Transformers: All Hail Megatron', 'PublisherId': 5, 'Genre': 'Science Fiction', 'Price': 25.99, 'ReleaseDate': '2008-09-01'}, {'ComicId': 6, 'Title': 'X-Men: Days of Future Past', 'PublisherId': 1, 'Genre': 'Superhero', 'Price': 18.99, 'ReleaseDate': '1981-01-01'}, {'ComicId': 7, 'Title': 'The Killing Joke', 'PublisherId': 2, 'Genre': 'Superhero', 'Price': 14.99, 'ReleaseDate': '1988-03-29'}, {'ComicId': 8, 'Title': 'Sin City: The Hard Goodbye', 'PublisherId': 4, 'Genre': 'Noir', 'Price': 22.99, 'ReleaseDate': '1991-06-01'}, {'ComicId': 9, 'Title': 'Usagi Yojimbo Volume 1', 'PublisherId': 5, 'Genre': 'Adventure', 'Price': 20.99, 'ReleaseDate': '1987-09-01'}, {'ComicId': 10, 'Title': 'Deadpool: Merc with a Mouth', 'PublisherId': 1, 'Genre': 'Superhero', 'Price': 16.99, 'ReleaseDate': '2009-08-05'}]\""
      ]
     },
     "execution_count": 12,
     "metadata": {},
     "output_type": "execute_result"
    }
   ],
   "source": [
    "db.run(\"SELECT * FROM Comic LIMIT 10;\", include_columns=True)"
   ]
  },
  {
   "cell_type": "code",
   "execution_count": 0,
   "metadata": {
    "application/vnd.databricks.v1+cell": {
     "cellMetadata": {},
     "inputWidgets": {},
     "nuid": "f8f46777-bcff-44c8-afd0-10c73f0f0e5d",
     "showTitle": false,
     "tableResultSettingsMap": {},
     "title": ""
    },
    "colab": {
     "base_uri": "https://localhost:8080/",
     "height": 140
    },
    "id": "HqdauDCFJ87w",
    "outputId": "1773cea2-a613-4b12-c922-091d4b1b0e85"
   },
   "outputs": [
    {
     "output_type": "execute_result",
     "data": {
      "application/vnd.google.colaboratory.intrinsic+json": {
       "type": "string"
      },
      "text/plain": [
       "\"[{'EmployeeId': 1, 'FirstName': 'John', 'LastName': 'Doe', 'Title': 'Manager', 'BranchId': 1, 'HireDate': '2015-06-01', 'Email': 'john.doe@comicstore.com', 'Phone': '555-1234'}, {'EmployeeId': 2, 'FirstName': 'Jane', 'LastName': 'Smith', 'Title': 'Sales Associate', 'BranchId': 1, 'HireDate': '2017-09-15', 'Email': 'jane.smith@comicstore.com', 'Phone': '555-5678'}, {'EmployeeId': 3, 'FirstName': 'Alice', 'LastName': 'Brown', 'Title': 'Sales Associate', 'BranchId': 2, 'HireDate': '2018-03-12', 'Email': 'alice.brown@comicstore.com', 'Phone': '555-9876'}, {'EmployeeId': 4, 'FirstName': 'Michael', 'LastName': 'Clark', 'Title': 'Manager', 'BranchId': 2, 'HireDate': '2016-02-20', 'Email': 'michael.clark@comicstore.com', 'Phone': '555-6543'}, {'EmployeeId': 5, 'FirstName': 'Emily', 'LastName': 'White', 'Title': 'Sales Associate', 'BranchId': 3, 'HireDate': '2019-07-10', 'Email': 'emily.white@comicstore.com', 'Phone': '555-4321'}]\""
      ]
     },
     "execution_count": 13,
     "metadata": {},
     "output_type": "execute_result"
    }
   ],
   "source": [
    "db.run(\"SELECT * FROM Employee LIMIT 10;\", include_columns=True)"
   ]
  },
  {
   "cell_type": "code",
   "execution_count": 0,
   "metadata": {
    "application/vnd.databricks.v1+cell": {
     "cellMetadata": {},
     "inputWidgets": {},
     "nuid": "baa465b4-9444-4268-972d-2060d99c833e",
     "showTitle": false,
     "tableResultSettingsMap": {},
     "title": ""
    },
    "colab": {
     "base_uri": "https://localhost:8080/",
     "height": 140
    },
    "id": "FrbQ-QpjTrJI",
    "outputId": "9a2c6141-1ed1-41bc-de25-e6d5c7dc44ba"
   },
   "outputs": [
    {
     "output_type": "execute_result",
     "data": {
      "application/vnd.google.colaboratory.intrinsic+json": {
       "type": "string"
      },
      "text/plain": [
       "\"[{'SaleId': 1, 'CustomerId': 1, 'EmployeeId': 1, 'SaleDate': '2023-01-15', 'TotalAmount': 54.97}, {'SaleId': 2, 'CustomerId': 2, 'EmployeeId': 2, 'SaleDate': '2023-01-20', 'TotalAmount': 49.97}, {'SaleId': 3, 'CustomerId': 3, 'EmployeeId': 3, 'SaleDate': '2023-01-25', 'TotalAmount': 59.97}, {'SaleId': 4, 'CustomerId': 4, 'EmployeeId': 4, 'SaleDate': '2023-01-30', 'TotalAmount': 45.98}, {'SaleId': 5, 'CustomerId': 5, 'EmployeeId': 5, 'SaleDate': '2023-02-05', 'TotalAmount': 29.97}, {'SaleId': 6, 'CustomerId': 6, 'EmployeeId': 1, 'SaleDate': '2023-02-10', 'TotalAmount': 74.97}, {'SaleId': 7, 'CustomerId': 7, 'EmployeeId': 2, 'SaleDate': '2023-02-15', 'TotalAmount': 64.97}, {'SaleId': 8, 'CustomerId': 8, 'EmployeeId': 3, 'SaleDate': '2023-02-20', 'TotalAmount': 49.99}, {'SaleId': 9, 'CustomerId': 9, 'EmployeeId': 4, 'SaleDate': '2023-02-25', 'TotalAmount': 49.97}, {'SaleId': 10, 'CustomerId': 10, 'EmployeeId': 5, 'SaleDate': '2023-03-01', 'TotalAmount': 65.98}]\""
      ]
     },
     "execution_count": 14,
     "metadata": {},
     "output_type": "execute_result"
    }
   ],
   "source": [
    "db.run(\"SELECT * FROM Sale LIMIT 10;\", include_columns=True)"
   ]
  },
  {
   "cell_type": "code",
   "execution_count": 0,
   "metadata": {
    "application/vnd.databricks.v1+cell": {
     "cellMetadata": {},
     "inputWidgets": {},
     "nuid": "d9e7ec3d-dd53-431e-9803-ce733fca9765",
     "showTitle": false,
     "tableResultSettingsMap": {},
     "title": ""
    },
    "colab": {
     "base_uri": "https://localhost:8080/",
     "height": 122
    },
    "id": "xmvqubY3TrRf",
    "outputId": "24b51220-dad0-4b6d-ca05-ece2d93e7fca"
   },
   "outputs": [
    {
     "output_type": "execute_result",
     "data": {
      "application/vnd.google.colaboratory.intrinsic+json": {
       "type": "string"
      },
      "text/plain": [
       "\"[{'TransactionId': 1, 'SaleId': 1, 'ComicId': 1, 'Quantity': 1, 'Price': 19.99}, {'TransactionId': 2, 'SaleId': 1, 'ComicId': 2, 'Quantity': 2, 'Price': 14.99}, {'TransactionId': 3, 'SaleId': 2, 'ComicId': 3, 'Quantity': 1, 'Price': 24.99}, {'TransactionId': 4, 'SaleId': 2, 'ComicId': 4, 'Quantity': 1, 'Price': 24.98}, {'TransactionId': 5, 'SaleId': 3, 'ComicId': 5, 'Quantity': 2, 'Price': 29.99}, {'TransactionId': 6, 'SaleId': 3, 'ComicId': 6, 'Quantity': 1, 'Price': 29.98}, {'TransactionId': 7, 'SaleId': 4, 'ComicId': 7, 'Quantity': 2, 'Price': 22.99}, {'TransactionId': 8, 'SaleId': 4, 'ComicId': 8, 'Quantity': 1, 'Price': 22.99}, {'TransactionId': 9, 'SaleId': 5, 'ComicId': 9, 'Quantity': 2, 'Price': 14.99}, {'TransactionId': 10, 'SaleId': 6, 'ComicId': 10, 'Quantity': 2, 'Price': 29.99}]\""
      ]
     },
     "execution_count": 15,
     "metadata": {},
     "output_type": "execute_result"
    }
   ],
   "source": [
    "db.run(\"SELECT * FROM SaleTransactions LIMIT 10;\", include_columns=True)"
   ]
  },
  {
   "cell_type": "code",
   "execution_count": 0,
   "metadata": {
    "application/vnd.databricks.v1+cell": {
     "cellMetadata": {},
     "inputWidgets": {},
     "nuid": "e8a7ffba-62ac-407f-a382-4442dcb3ee59",
     "showTitle": false,
     "tableResultSettingsMap": {},
     "title": ""
    },
    "colab": {
     "base_uri": "https://localhost:8080/"
    },
    "id": "mNSPx5MEI8Ph",
    "outputId": "5a30fe2a-d703-46b7-ff31-f7a8a981fe91"
   },
   "outputs": [
    {
     "output_type": "stream",
     "name": "stdout",
     "output_type": "stream",
     "text": [
      "\nCREATE TABLE \"Comic\" (\n\t\"ComicId\" INTEGER NOT NULL, \n\t\"Title\" NVARCHAR(100) NOT NULL, \n\t\"PublisherId\" INTEGER NOT NULL, \n\t\"Genre\" NVARCHAR(50), \n\t\"Price\" NUMERIC(10, 2) NOT NULL, \n\t\"ReleaseDate\" DATETIME, \n\tPRIMARY KEY (\"ComicId\"), \n\tFOREIGN KEY(\"PublisherId\") REFERENCES \"Publisher\" (\"PublisherId\")\n)\n\n/*\n3 rows from Comic table:\nComicId\tTitle\tPublisherId\tGenre\tPrice\tReleaseDate\n1\tSpider-Man: Homecoming\t1\tSuperhero\t19.99\t2017-07-07 00:00:00\n2\tBatman: Year One\t2\tSuperhero\t14.99\t1987-02-01 00:00:00\n3\tHellboy: Seed of Destruction\t3\tSupernatural\t24.99\t1994-10-01 00:00:00\n*/\n\n\nCREATE TABLE \"Sale\" (\n\t\"SaleId\" INTEGER NOT NULL, \n\t\"CustomerId\" INTEGER NOT NULL, \n\t\"EmployeeId\" INTEGER, \n\t\"SaleDate\" DATETIME NOT NULL, \n\t\"TotalAmount\" NUMERIC(10, 2) NOT NULL, \n\tPRIMARY KEY (\"SaleId\"), \n\tFOREIGN KEY(\"EmployeeId\") REFERENCES \"Employee\" (\"EmployeeId\"), \n\tFOREIGN KEY(\"CustomerId\") REFERENCES \"Customer\" (\"CustomerId\")\n)\n\n/*\n3 rows from Sale table:\nSaleId\tCustomerId\tEmployeeId\tSaleDate\tTotalAmount\n1\t1\t1\t2023-01-15 00:00:00\t54.97\n2\t2\t2\t2023-01-20 00:00:00\t49.97\n3\t3\t3\t2023-01-25 00:00:00\t59.97\n*/\n"
     ]
    }
   ],
   "source": [
    "print(db.get_table_info(table_names=['Comic', 'Sale']))"
   ]
  },
  {
   "cell_type": "markdown",
   "metadata": {
    "application/vnd.databricks.v1+cell": {
     "cellMetadata": {},
     "inputWidgets": {},
     "nuid": "f6855ce3-c361-4fa6-8932-575c9b1369d7",
     "showTitle": false,
     "tableResultSettingsMap": {},
     "title": ""
    },
    "id": "-jtVDw-tIS1b"
   },
   "source": [
    "## Load up SQL Tools\n",
    "\n",
    "The system uses tools to interact with the database schema and validate queries:\n",
    "   - **DB_QUERY**: Executes the generated SQL query.\n",
    "   - **DB_SCHEMA**: Fetches the schema details of the database.\n",
    "   - **DB_LIST_TABLES**: Lists all tables in the database.\n",
    "   - **DB_QUERY_CHECKER**: Validates the correctness of the SQL query before execution.\n",
    "\n",
    "![](https://i.imgur.com/iVSrFE3.png)   "
   ]
  },
  {
   "cell_type": "code",
   "execution_count": 0,
   "metadata": {
    "application/vnd.databricks.v1+cell": {
     "cellMetadata": {},
     "inputWidgets": {},
     "nuid": "d8820cc1-8272-414d-bf8f-3d1af7da6884",
     "showTitle": false,
     "tableResultSettingsMap": {},
     "title": ""
    },
    "colab": {
     "base_uri": "https://localhost:8080/"
    },
    "id": "a--7sXgWix3m",
    "outputId": "792b662b-2d2b-4d5b-f851-aa63a2831a1d"
   },
   "outputs": [
    {
     "output_type": "execute_result",
     "data": {
      "text/plain": [
       "[QuerySQLDatabaseTool(description=\"Input to this tool is a detailed and correct SQL query, output is a result from the database. If the query is not correct, an error message will be returned. If an error is returned, rewrite the query, check the query, and try again. If you encounter an issue with Unknown column 'xxxx' in 'field list', use sql_db_schema to query the correct table fields.\", db=<langchain_community.utilities.sql_database.SQLDatabase object at 0x000001FF0E2896A0>),\n",
       " InfoSQLDatabaseTool(description='Input to this tool is a comma-separated list of tables, output is the schema and sample rows for those tables. Be sure that the tables actually exist by calling sql_db_list_tables first! Example Input: table1, table2, table3', db=<langchain_community.utilities.sql_database.SQLDatabase object at 0x000001FF0E2896A0>),\n",
       " ListSQLDatabaseTool(db=<langchain_community.utilities.sql_database.SQLDatabase object at 0x000001FF0E2896A0>),\n",
       " QuerySQLCheckerTool(description='Use this tool to double check if your query is correct before executing it. Always use this tool before executing a query with sql_db_query!', db=<langchain_community.utilities.sql_database.SQLDatabase object at 0x000001FF0E2896A0>, llm=ChatOpenAI(client=<openai.resources.chat.completions.completions.Completions object at 0x000001FF0F575940>, async_client=<openai.resources.chat.completions.completions.AsyncCompletions object at 0x000001FF0F581550>, root_client=<openai.OpenAI object at 0x000001FF0F4E4050>, root_async_client=<openai.AsyncOpenAI object at 0x000001FF0F575A90>, model_name='gpt-4o', temperature=0.0, model_kwargs={}, openai_api_key=SecretStr('**********')), llm_chain=LLMChain(verbose=False, prompt=PromptTemplate(input_variables=['dialect', 'query'], input_types={}, partial_variables={}, template='\\n{query}\\nDouble check the {dialect} query above for common mistakes, including:\\n- Using NOT IN with NULL values\\n- Using UNION when UNION ALL should have been used\\n- Using BETWEEN for exclusive ranges\\n- Data type mismatch in predicates\\n- Properly quoting identifiers\\n- Using the correct number of arguments for functions\\n- Casting to the correct data type\\n- Using the proper columns for joins\\n\\nIf there are any of the above mistakes, rewrite the query. If there are no mistakes, just reproduce the original query.\\n\\nOutput the final SQL query only.\\n\\nSQL Query: '), llm=ChatOpenAI(client=<openai.resources.chat.completions.completions.Completions object at 0x000001FF0F575940>, async_client=<openai.resources.chat.completions.completions.AsyncCompletions object at 0x000001FF0F581550>, root_client=<openai.OpenAI object at 0x000001FF0F4E4050>, root_async_client=<openai.AsyncOpenAI object at 0x000001FF0F575A90>, model_name='gpt-4o', temperature=0.0, model_kwargs={}, openai_api_key=SecretStr('**********')), output_parser=StrOutputParser(), llm_kwargs={}))]"
      ]
     },
     "execution_count": 18,
     "metadata": {},
     "output_type": "execute_result"
    }
   ],
   "source": [
    "from langchain_community.agent_toolkits import SQLDatabaseToolkit\n",
    "from langchain_openai import ChatOpenAI\n",
    "\n",
    "chatgpt = ChatOpenAI(model=\"gpt-4o\", temperature=0)\n",
    "sql_toolkit = SQLDatabaseToolkit(db=db, llm=chatgpt)\n",
    "sql_tools = sql_toolkit.get_tools()\n",
    "\n",
    "sql_tools"
   ]
  },
  {
   "cell_type": "code",
   "execution_count": 0,
   "metadata": {
    "application/vnd.databricks.v1+cell": {
     "cellMetadata": {},
     "inputWidgets": {},
     "nuid": "4eeb2e19-1a15-4bbb-a0db-f47db9ae9e1c",
     "showTitle": false,
     "tableResultSettingsMap": {},
     "title": ""
    },
    "colab": {
     "base_uri": "https://localhost:8080/"
    },
    "id": "CTBDaNlMj_wI",
    "outputId": "3183c119-1728-4b0b-a1d7-25b7e535485f"
   },
   "outputs": [
    {
     "output_type": "stream",
     "name": "stdout",
     "output_type": "stream",
     "text": [
      "sql_db_query -> Input to this tool is a detailed and correct SQL query, output is a result from the database. If the query is not correct, an error message will be returned. If an error is returned, rewrite the query, check the query, and try again. If you encounter an issue with Unknown column 'xxxx' in 'field list', use sql_db_schema to query the correct table fields.\nsql_db_schema -> Input to this tool is a comma-separated list of tables, output is the schema and sample rows for those tables. Be sure that the tables actually exist by calling sql_db_list_tables first! Example Input: table1, table2, table3\nsql_db_list_tables -> Input is an empty string, output is a comma-separated list of tables in the database.\nsql_db_query_checker -> Use this tool to double check if your query is correct before executing it. Always use this tool before executing a query with sql_db_query!\n"
     ]
    }
   ],
   "source": [
    "for tool in sql_tools:\n",
    "    print(tool.name, '->', tool.description)"
   ]
  },
  {
   "cell_type": "markdown",
   "metadata": {
    "application/vnd.databricks.v1+cell": {
     "cellMetadata": {},
     "inputWidgets": {},
     "nuid": "3e8d97db-9a01-4089-b857-e8ffe6d91f40",
     "showTitle": false,
     "tableResultSettingsMap": {},
     "title": ""
    },
    "id": "MJGale7mIwFH"
   },
   "source": [
    "## Create ReAct Agent Instruction Prompt"
   ]
  },
  {
   "cell_type": "code",
   "execution_count": 0,
   "metadata": {
    "application/vnd.databricks.v1+cell": {
     "cellMetadata": {},
     "inputWidgets": {},
     "nuid": "ff4226e4-3a8a-451c-af0d-fca6b8505271",
     "showTitle": false,
     "tableResultSettingsMap": {},
     "title": ""
    },
    "id": "7Lt50XyXix-p"
   },
   "outputs": [
    {
     "output_type": "stream",
     "name": "stderr",
     "output_type": "stream",
     "text": [
      "<>:3: SyntaxWarning: invalid escape sequence '\\$'\n<>:3: SyntaxWarning: invalid escape sequence '\\$'\nC:\\Users\\Sourav Banerjee\\AppData\\Local\\Temp\\ipykernel_28112\\2188818679.py:3: SyntaxWarning: invalid escape sequence '\\$'\n  SQL_PREFIX = \"\"\"You are an agent designed to interact with a SQL database in SQLite.\n"
     ]
    }
   ],
   "source": [
    "from langchain_core.messages import SystemMessage\n",
    "\n",
    "SQL_PREFIX = \"\"\"You are an agent designed to interact with a SQL database in SQLite.\n",
    "Given an input question, create a syntactically correct SQLite query to run, then look at the results of the query and return the answer.\n",
    "Unless the user specifies a specific number of examples they wish to obtain, always limit your query to at most 10 results.\n",
    "You can order the results by a relevant column to return the most interesting examples in the database.\n",
    "Never query for all the columns from a specific table, only ask for the relevant columns given the question.\n",
    "Make sure you generate a correct SQLite query as plain text without any formatting or code blocks.\n",
    "Do not include sql or similar markers.\n",
    "Do not try to explain the query, just provide the query as-is, like this: SELECT ...\n",
    "\n",
    "You have access to tools for interacting with the database.\n",
    "Only use the below tools. Only use the information returned by the below tools to construct your final answer.\n",
    "\n",
    "You MUST double check your query before executing it. If you get an error while executing a query, rewrite the query and try again.\n",
    "DO NOT make any DML statements (INSERT, UPDATE, DELETE, DROP etc.) to the database even if the user asks.\n",
    "\n",
    "To start you should ALWAYS look at the tables in the database to see what you can query.\n",
    "Do NOT skip this step.\n",
    "Then you should query the schema of the most relevant tables.\n",
    "\n",
    "When generating the final answer in markdown from the results,\n",
    "if there are special characters in the text, such as the dollar symbol,\n",
    "ensure they are escaped properly for correct rendering e.g $25.5 should become \\$25.5\n",
    "\"\"\"\n",
    "\n",
    "SYS_PROMPT = SystemMessage(content=SQL_PREFIX)"
   ]
  },
  {
   "cell_type": "markdown",
   "metadata": {
    "application/vnd.databricks.v1+cell": {
     "cellMetadata": {},
     "inputWidgets": {},
     "nuid": "ec01aab5-f889-40e4-bb4a-b05c91ab7d3b",
     "showTitle": false,
     "tableResultSettingsMap": {},
     "title": ""
    },
    "id": "TecvMWWvIzN-"
   },
   "source": [
    "## Create Text2SQL ReAct Agent"
   ]
  },
  {
   "cell_type": "code",
   "execution_count": 0,
   "metadata": {
    "application/vnd.databricks.v1+cell": {
     "cellMetadata": {},
     "inputWidgets": {},
     "nuid": "c9cf81f8-57d8-4d65-8742-1aab8271d322",
     "showTitle": false,
     "tableResultSettingsMap": {},
     "title": ""
    },
    "colab": {
     "base_uri": "https://localhost:8080/",
     "height": 266
    },
    "id": "VlZFNdOYlXdn",
    "outputId": "2de99fdb-8d45-4fc5-98c8-b33d76875926"
   },
   "outputs": [
    {
     "output_type": "execute_result",
     "data": {
      "image/png": "[encoded data removed]",
      "text/plain": [
       "<langgraph.graph.state.CompiledStateGraph object at 0x000001FF0F991BE0>"
      ]
     },
     "execution_count": 21,
     "metadata": {},
     "output_type": "execute_result"
    }
   ],
   "source": [
    "from langchain_core.messages import HumanMessage\n",
    "from langgraph.prebuilt import create_react_agent\n",
    "from langchain_openai import ChatOpenAI\n",
    "\n",
    "chatgpt = ChatOpenAI(model=\"gpt-4o\", temperature=0)\n",
    "\n",
    "text2sql_agent = create_react_agent(model=chatgpt,\n",
    "                                    tools=sql_tools,\n",
    "                                    state_modifier=SYS_PROMPT)\n",
    "text2sql_agent"
   ]
  },
  {
   "cell_type": "markdown",
   "metadata": {
    "application/vnd.databricks.v1+cell": {
     "cellMetadata": {},
     "inputWidgets": {},
     "nuid": "73d24869-02b0-4bf4-9b71-7c7f77b49425",
     "showTitle": false,
     "tableResultSettingsMap": {},
     "title": ""
    },
    "id": "fsnlW1ZxI1Mp"
   },
   "source": [
    "## Run and Test Text2SQL Agent"
   ]
  },
  {
   "cell_type": "code",
   "execution_count": 0,
   "metadata": {
    "application/vnd.databricks.v1+cell": {
     "cellMetadata": {},
     "inputWidgets": {},
     "nuid": "1a65ce3a-f5ef-423f-b378-64b5a43c6c9a",
     "showTitle": false,
     "tableResultSettingsMap": {},
     "title": ""
    },
    "colab": {
     "base_uri": "https://localhost:8080/",
     "height": 900
    },
    "id": "EuQK9JgtpUuK",
    "outputId": "ed5a197f-c907-4bd8-e793-6136ed007bbb"
   },
   "outputs": [
    {
     "output_type": "display_data",
     "data": {
      "text/markdown": [
       "{'agent': {'messages': [AIMessage(content='', additional_kwargs={'tool_calls': [{'id': 'call_nwdQSYbTVmXBVX8B2GB6Wtsf', 'function': {'arguments': '{}', 'name': 'sql_db_list_tables'}, 'type': 'function'}], 'refusal': None}, response_metadata={'token_usage': {'completion_tokens': 13, 'prompt_tokens': 649, 'total_tokens': 662, 'completion_tokens_details': {'accepted_prediction_tokens': 0, 'audio_tokens': 0, 'reasoning_tokens': 0, 'rejected_prediction_tokens': 0}, 'prompt_tokens_details': {'audio_tokens': 0, 'cached_tokens': 0}}, 'model_name': 'gpt-4o-2024-08-06', 'system_fingerprint': 'fp_523b9b6e5f', 'finish_reason': 'tool_calls', 'logprobs': None}, id='run-1cf8afb9-0bb8-4e36-83dd-2e9c94393b1e-0', tool_calls=[{'name': 'sql_db_list_tables', 'args': {}, 'id': 'call_nwdQSYbTVmXBVX8B2GB6Wtsf', 'type': 'tool_call'}], usage_metadata={'input_tokens': 649, 'output_tokens': 13, 'total_tokens': 662, 'input_token_details': {'audio': 0, 'cache_read': 0}, 'output_token_details': {'audio': 0, 'reasoning': 0}})]}}"
      ],
      "text/plain": [
       "<IPython.core.display.Markdown object>"
      ]
     },
     "metadata": {},
     "output_type": "display_data"
    },
    {
     "output_type": "stream",
     "name": "stdout",
     "output_type": "stream",
     "text": [
      "----\n"
     ]
    },
    {
     "output_type": "display_data",
     "data": {
      "text/markdown": [
       "{'tools': {'messages': [ToolMessage(content='Branch, Comic, Customer, Employee, Inventory, Publisher, Sale, SaleTransactions', name='sql_db_list_tables', id='0837577b-00ee-46db-8b52-9011eb576531', tool_call_id='call_nwdQSYbTVmXBVX8B2GB6Wtsf')]}}"
      ],
      "text/plain": [
       "<IPython.core.display.Markdown object>"
      ]
     },
     "metadata": {},
     "output_type": "display_data"
    },
    {
     "output_type": "stream",
     "name": "stdout",
     "output_type": "stream",
     "text": [
      "----\n"
     ]
    },
    {
     "output_type": "display_data",
     "data": {
      "text/markdown": [
       "{'agent': {'messages': [AIMessage(content='', additional_kwargs={'tool_calls': [{'id': 'call_oYFg2xLOYyJZ9DbuN0eQckn9', 'function': {'arguments': '{\"table_names\":\"Customer\"}', 'name': 'sql_db_schema'}, 'type': 'function'}], 'refusal': None}, response_metadata={'token_usage': {'completion_tokens': 17, 'prompt_tokens': 687, 'total_tokens': 704, 'completion_tokens_details': {'accepted_prediction_tokens': 0, 'audio_tokens': 0, 'reasoning_tokens': 0, 'rejected_prediction_tokens': 0}, 'prompt_tokens_details': {'audio_tokens': 0, 'cached_tokens': 0}}, 'model_name': 'gpt-4o-2024-08-06', 'system_fingerprint': 'fp_523b9b6e5f', 'finish_reason': 'tool_calls', 'logprobs': None}, id='run-3ab53add-1576-4541-bc09-379bb81ffba1-0', tool_calls=[{'name': 'sql_db_schema', 'args': {'table_names': 'Customer'}, 'id': 'call_oYFg2xLOYyJZ9DbuN0eQckn9', 'type': 'tool_call'}], usage_metadata={'input_tokens': 687, 'output_tokens': 17, 'total_tokens': 704, 'input_token_details': {'audio': 0, 'cache_read': 0}, 'output_token_details': {'audio': 0, 'reasoning': 0}})]}}"
      ],
      "text/plain": [
       "<IPython.core.display.Markdown object>"
      ]
     },
     "metadata": {},
     "output_type": "display_data"
    },
    {
     "output_type": "stream",
     "name": "stdout",
     "output_type": "stream",
     "text": [
      "----\n"
     ]
    },
    {
     "output_type": "display_data",
     "data": {
      "text/markdown": [
       "{'tools': {'messages': [ToolMessage(content='\\nCREATE TABLE \"Customer\" (\\n\\t\"CustomerId\" INTEGER NOT NULL, \\n\\t\"FirstName\" NVARCHAR(50) NOT NULL, \\n\\t\"LastName\" NVARCHAR(50) NOT NULL, \\n\\t\"Email\" NVARCHAR(100), \\n\\t\"Phone\" NVARCHAR(20), \\n\\t\"Address\" NVARCHAR(100), \\n\\t\"City\" NVARCHAR(50), \\n\\t\"State\" NVARCHAR(50), \\n\\t\"Country\" NVARCHAR(50) NOT NULL, \\n\\t\"PostalCode\" NVARCHAR(10), \\n\\tPRIMARY KEY (\"CustomerId\")\\n)\\n\\n/*\\n3 rows from Customer table:\\nCustomerId\\tFirstName\\tLastName\\tEmail\\tPhone\\tAddress\\tCity\\tState\\tCountry\\tPostalCode\\n1\\tRobert\\tTaylor\\trobert.taylor@example.com\\t555-1111\\t123 Main St\\tNew York\\tNY\\tUSA\\t10001\\n2\\tEmily\\tDavis\\temily.davis@example.com\\t555-2222\\t456 Oak St\\tLos Angeles\\tCA\\tUSA\\t90001\\n3\\tSarah\\tConnor\\tsarah.connor@example.com\\t555-3333\\t789 Pine St\\tChicago\\tIL\\tUSA\\t60601\\n*/', name='sql_db_schema', id='748d6bd7-fdcb-4706-9aa1-cd4c9b43c978', tool_call_id='call_oYFg2xLOYyJZ9DbuN0eQckn9')]}}"
      ],
      "text/plain": [
       "<IPython.core.display.Markdown object>"
      ]
     },
     "metadata": {},
     "output_type": "display_data"
    },
    {
     "output_type": "stream",
     "name": "stdout",
     "output_type": "stream",
     "text": [
      "----\n"
     ]
    },
    {
     "output_type": "display_data",
     "data": {
      "text/markdown": [
       "{'agent': {'messages': [AIMessage(content='', additional_kwargs={'tool_calls': [{'id': 'call_mW0R87L8IL1K839F49oHMFFf', 'function': {'arguments': '{\"query\":\"SELECT COUNT(CustomerId) AS TotalCustomers FROM Customer;\"}', 'name': 'sql_db_query'}, 'type': 'function'}], 'refusal': None}, response_metadata={'token_usage': {'completion_tokens': 26, 'prompt_tokens': 960, 'total_tokens': 986, 'completion_tokens_details': {'accepted_prediction_tokens': 0, 'audio_tokens': 0, 'reasoning_tokens': 0, 'rejected_prediction_tokens': 0}, 'prompt_tokens_details': {'audio_tokens': 0, 'cached_tokens': 0}}, 'model_name': 'gpt-4o-2024-08-06', 'system_fingerprint': 'fp_523b9b6e5f', 'finish_reason': 'tool_calls', 'logprobs': None}, id='run-ed5dcd8a-7beb-449c-9172-4652a4ec39ed-0', tool_calls=[{'name': 'sql_db_query', 'args': {'query': 'SELECT COUNT(CustomerId) AS TotalCustomers FROM Customer;'}, 'id': 'call_mW0R87L8IL1K839F49oHMFFf', 'type': 'tool_call'}], usage_metadata={'input_tokens': 960, 'output_tokens': 26, 'total_tokens': 986, 'input_token_details': {'audio': 0, 'cache_read': 0}, 'output_token_details': {'audio': 0, 'reasoning': 0}})]}}"
      ],
      "text/plain": [
       "<IPython.core.display.Markdown object>"
      ]
     },
     "metadata": {},
     "output_type": "display_data"
    },
    {
     "output_type": "stream",
     "name": "stdout",
     "output_type": "stream",
     "text": [
      "----\n"
     ]
    },
    {
     "output_type": "display_data",
     "data": {
      "text/markdown": [
       "{'tools': {'messages': [ToolMessage(content='[(20,)]', name='sql_db_query', id='261c6065-ebdf-4d01-bd67-9635384c4ffe', tool_call_id='call_mW0R87L8IL1K839F49oHMFFf')]}}"
      ],
      "text/plain": [
       "<IPython.core.display.Markdown object>"
      ]
     },
     "metadata": {},
     "output_type": "display_data"
    },
    {
     "output_type": "stream",
     "name": "stdout",
     "output_type": "stream",
     "text": [
      "----\n"
     ]
    },
    {
     "output_type": "display_data",
     "data": {
      "text/markdown": [
       "{'agent': {'messages': [AIMessage(content='The total number of customers is 20.', additional_kwargs={'refusal': None}, response_metadata={'token_usage': {'completion_tokens': 11, 'prompt_tokens': 998, 'total_tokens': 1009, 'completion_tokens_details': {'accepted_prediction_tokens': 0, 'audio_tokens': 0, 'reasoning_tokens': 0, 'rejected_prediction_tokens': 0}, 'prompt_tokens_details': {'audio_tokens': 0, 'cached_tokens': 0}}, 'model_name': 'gpt-4o-2024-08-06', 'system_fingerprint': 'fp_523b9b6e5f', 'finish_reason': 'stop', 'logprobs': None}, id='run-58119534-0c72-477a-b44d-4e55e13c726a-0', usage_metadata={'input_tokens': 998, 'output_tokens': 11, 'total_tokens': 1009, 'input_token_details': {'audio': 0, 'cache_read': 0}, 'output_token_details': {'audio': 0, 'reasoning': 0}})]}}"
      ],
      "text/plain": [
       "<IPython.core.display.Markdown object>"
      ]
     },
     "metadata": {},
     "output_type": "display_data"
    },
    {
     "output_type": "stream",
     "name": "stdout",
     "output_type": "stream",
     "text": [
      "----\n"
     ]
    }
   ],
   "source": [
    "from IPython.display import display, Markdown\n",
    "\n",
    "for s in text2sql_agent.stream(\n",
    "    {\"messages\": [HumanMessage(content=\"What is the total number of customers?\")]}\n",
    "):\n",
    "    display(Markdown(str(s)))\n",
    "    print(\"----\")"
   ]
  },
  {
   "cell_type": "code",
   "execution_count": 0,
   "metadata": {
    "application/vnd.databricks.v1+cell": {
     "cellMetadata": {},
     "inputWidgets": {},
     "nuid": "c43f0f9e-e3e6-4ff6-a752-71142619607d",
     "showTitle": false,
     "tableResultSettingsMap": {},
     "title": ""
    },
    "colab": {
     "base_uri": "https://localhost:8080/",
     "height": 1000
    },
    "id": "HcX3afdGlXj6",
    "outputId": "7264119a-423e-4c19-aa93-e0b56162b56b"
   },
   "outputs": [
    {
     "output_type": "stream",
     "name": "stdout",
     "output_type": "stream",
     "text": [
      "================================\u001B[1m Human Message \u001B[0m=================================\n\nWhat are the Top 10 most popular comics?\n==================================\u001B[1m Ai Message \u001B[0m==================================\nTool Calls:\n  sql_db_list_tables (call_nRTU8PM1o367tevrGREXdjnT)\n Call ID: call_nRTU8PM1o367tevrGREXdjnT\n  Args:\n=================================\u001B[1m Tool Message \u001B[0m=================================\nName: sql_db_list_tables\n\nBranch, Comic, Customer, Employee, Inventory, Publisher, Sale, SaleTransactions\n==================================\u001B[1m Ai Message \u001B[0m==================================\nTool Calls:\n  sql_db_schema (call_6WrK5dg8Yp31AHaIIEkP4pcN)\n Call ID: call_6WrK5dg8Yp31AHaIIEkP4pcN\n  Args:\n    table_names: Comic, Sale\n=================================\u001B[1m Tool Message \u001B[0m=================================\nName: sql_db_schema\n\n\nCREATE TABLE \"Comic\" (\n\t\"ComicId\" INTEGER NOT NULL, \n\t\"Title\" NVARCHAR(100) NOT NULL, \n\t\"PublisherId\" INTEGER NOT NULL, \n\t\"Genre\" NVARCHAR(50), \n\t\"Price\" NUMERIC(10, 2) NOT NULL, \n\t\"ReleaseDate\" DATETIME, \n\tPRIMARY KEY (\"ComicId\"), \n\tFOREIGN KEY(\"PublisherId\") REFERENCES \"Publisher\" (\"PublisherId\")\n)\n\n/*\n3 rows from Comic table:\nComicId\tTitle\tPublisherId\tGenre\tPrice\tReleaseDate\n1\tSpider-Man: Homecoming\t1\tSuperhero\t19.99\t2017-07-07 00:00:00\n2\tBatman: Year One\t2\tSuperhero\t14.99\t1987-02-01 00:00:00\n3\tHellboy: Seed of Destruction\t3\tSupernatural\t24.99\t1994-10-01 00:00:00\n*/\n\n\nCREATE TABLE \"Sale\" (\n\t\"SaleId\" INTEGER NOT NULL, \n\t\"CustomerId\" INTEGER NOT NULL, \n\t\"EmployeeId\" INTEGER, \n\t\"SaleDate\" DATETIME NOT NULL, \n\t\"TotalAmount\" NUMERIC(10, 2) NOT NULL, \n\tPRIMARY KEY (\"SaleId\"), \n\tFOREIGN KEY(\"EmployeeId\") REFERENCES \"Employee\" (\"EmployeeId\"), \n\tFOREIGN KEY(\"CustomerId\") REFERENCES \"Customer\" (\"CustomerId\")\n)\n\n/*\n3 rows from Sale table:\nSaleId\tCustomerId\tEmployeeId\tSaleDate\tTotalAmount\n1\t1\t1\t2023-01-15 00:00:00\t54.97\n2\t2\t2\t2023-01-20 00:00:00\t49.97\n3\t3\t3\t2023-01-25 00:00:00\t59.97\n*/\n==================================\u001B[1m Ai Message \u001B[0m==================================\nTool Calls:\n  sql_db_schema (call_LT45PIB48IhO0OWNDGqvrdDN)\n Call ID: call_LT45PIB48IhO0OWNDGqvrdDN\n  Args:\n    table_names: SaleTransactions\n=================================\u001B[1m Tool Message \u001B[0m=================================\nName: sql_db_schema\n\n\nCREATE TABLE \"SaleTransactions\" (\n\t\"TransactionId\" INTEGER NOT NULL, \n\t\"SaleId\" INTEGER NOT NULL, \n\t\"ComicId\" INTEGER NOT NULL, \n\t\"Quantity\" INTEGER NOT NULL, \n\t\"Price\" NUMERIC(10, 2) NOT NULL, \n\tPRIMARY KEY (\"TransactionId\"), \n\tFOREIGN KEY(\"ComicId\") REFERENCES \"Comic\" (\"ComicId\"), \n\tFOREIGN KEY(\"SaleId\") REFERENCES \"Sale\" (\"SaleId\")\n)\n\n/*\n3 rows from SaleTransactions table:\nTransactionId\tSaleId\tComicId\tQuantity\tPrice\n1\t1\t1\t1\t19.99\n2\t1\t2\t2\t14.99\n3\t2\t3\t1\t24.99\n*/\n==================================\u001B[1m Ai Message \u001B[0m==================================\nTool Calls:\n  sql_db_query_checker (call_c9IX5AaZTrjjJ70mHcoRBzB7)\n Call ID: call_c9IX5AaZTrjjJ70mHcoRBzB7\n  Args:\n    query: SELECT Comic.Title, SUM(SaleTransactions.Quantity) as TotalSold FROM Comic JOIN SaleTransactions ON Comic.ComicId = SaleTransactions.ComicId GROUP BY Comic.ComicId ORDER BY TotalSold DESC LIMIT 10;\n=================================\u001B[1m Tool Message \u001B[0m=================================\nName: sql_db_query_checker\n\n```sql\nSELECT Comic.Title, SUM(SaleTransactions.Quantity) as TotalSold \nFROM Comic \nJOIN SaleTransactions ON Comic.ComicId = SaleTransactions.ComicId \nGROUP BY Comic.ComicId \nORDER BY TotalSold DESC \nLIMIT 10;\n```\n==================================\u001B[1m Ai Message \u001B[0m==================================\nTool Calls:\n  sql_db_query (call_nVBQ7X9P1E8hAieihXv8gEJa)\n Call ID: call_nVBQ7X9P1E8hAieihXv8gEJa\n  Args:\n    query: SELECT Comic.Title, SUM(SaleTransactions.Quantity) as TotalSold FROM Comic JOIN SaleTransactions ON Comic.ComicId = SaleTransactions.ComicId GROUP BY Comic.ComicId ORDER BY TotalSold DESC LIMIT 10;\n=================================\u001B[1m Tool Message \u001B[0m=================================\nName: sql_db_query\n\n[('Wolverine: Old Man Logan', 3), ('Superman: Red Son', 2), ('Ms. Marvel Volume 1', 2), ('Iron Man: Extremis', 2), ('Locke & Key Volume 1', 2), ('V for Vendetta', 2), ('The Boys Volume 1', 2), ('Lumberjanes Volume 1', 2), ('Punisher: Welcome Back, Frank', 2), ('Invincible Volume 1', 2)]\n==================================\u001B[1m Ai Message \u001B[0m==================================\n\nHere are the Top 10 most popular comics based on sales:\n\n1. Wolverine: Old Man Logan - 3 copies sold\n2. Superman: Red Son - 2 copies sold\n3. Ms. Marvel Volume 1 - 2 copies sold\n4. Iron Man: Extremis - 2 copies sold\n5. Locke & Key Volume 1 - 2 copies sold\n6. V for Vendetta - 2 copies sold\n7. The Boys Volume 1 - 2 copies sold\n8. Lumberjanes Volume 1 - 2 copies sold\n9. Punisher: Welcome Back, Frank - 2 copies sold\n10. Invincible Volume 1 - 2 copies sold\n\n\nFinal Response:\n\n"
     ]
    },
    {
     "output_type": "display_data",
     "data": {
      "text/markdown": [
       "Here are the Top 10 most popular comics based on sales:\n",
       "\n",
       "1. Wolverine: Old Man Logan - 3 copies sold\n",
       "2. Superman: Red Son - 2 copies sold\n",
       "3. Ms. Marvel Volume 1 - 2 copies sold\n",
       "4. Iron Man: Extremis - 2 copies sold\n",
       "5. Locke & Key Volume 1 - 2 copies sold\n",
       "6. V for Vendetta - 2 copies sold\n",
       "7. The Boys Volume 1 - 2 copies sold\n",
       "8. Lumberjanes Volume 1 - 2 copies sold\n",
       "9. Punisher: Welcome Back, Frank - 2 copies sold\n",
       "10. Invincible Volume 1 - 2 copies sold"
      ],
      "text/plain": [
       "<IPython.core.display.Markdown object>"
      ]
     },
     "metadata": {},
     "output_type": "display_data"
    }
   ],
   "source": [
    "for event in text2sql_agent.stream(\n",
    "    {\"messages\": [HumanMessage(content=\"What are the Top 10 most popular comics?\")]},\n",
    "    stream_mode='values' #returns full agent state with all messages including updates\n",
    "):\n",
    "    event[\"messages\"][-1].pretty_print()\n",
    "\n",
    "print('\\n\\nFinal Response:\\n')\n",
    "display(Markdown(event[\"messages\"][-1].content))"
   ]
  },
  {
   "cell_type": "code",
   "execution_count": 0,
   "metadata": {
    "application/vnd.databricks.v1+cell": {
     "cellMetadata": {},
     "inputWidgets": {},
     "nuid": "b453fafe-1a35-495e-83fb-14383c33b7fb",
     "showTitle": false,
     "tableResultSettingsMap": {},
     "title": ""
    },
    "id": "Rw2P3xHqwmuo"
   },
   "outputs": [],
   "source": [
    "def call_text2sql_agent(query, verbose=False):\n",
    "\n",
    "    for event in text2sql_agent.stream(\n",
    "        {\"messages\": [HumanMessage(content=query)]},\n",
    "        stream_mode='values' #returns full agent state with all messages including updates\n",
    "    ):\n",
    "        if verbose:\n",
    "            event[\"messages\"][-1].pretty_print()\n",
    "\n",
    "    print('\\n\\nFinal Response:\\n')\n",
    "    display(Markdown(event[\"messages\"][-1].content))\n"
   ]
  },
  {
   "cell_type": "code",
   "execution_count": 0,
   "metadata": {
    "application/vnd.databricks.v1+cell": {
     "cellMetadata": {},
     "inputWidgets": {},
     "nuid": "fe434dd6-9e8d-444b-96c2-b69010316806",
     "showTitle": false,
     "tableResultSettingsMap": {},
     "title": ""
    },
    "colab": {
     "base_uri": "https://localhost:8080/",
     "height": 1000
    },
    "id": "YbnijTxIwfdb",
    "outputId": "cc2034e7-b3d2-4cc8-bcd3-1145c58fba11"
   },
   "outputs": [
    {
     "output_type": "stream",
     "name": "stdout",
     "output_type": "stream",
     "text": [
      "================================\u001B[1m Human Message \u001B[0m=================================\n\nWhat are the Top 10 most popular comics?\n==================================\u001B[1m Ai Message \u001B[0m==================================\nTool Calls:\n  sql_db_list_tables (call_mDuO08hkXsd7CYqdMium1SZM)\n Call ID: call_mDuO08hkXsd7CYqdMium1SZM\n  Args:\n=================================\u001B[1m Tool Message \u001B[0m=================================\nName: sql_db_list_tables\n\nBranch, Comic, Customer, Employee, Inventory, Publisher, Sale, SaleTransactions\n==================================\u001B[1m Ai Message \u001B[0m==================================\nTool Calls:\n  sql_db_schema (call_WqbmUXwge3QNW9NjdDtyJIyw)\n Call ID: call_WqbmUXwge3QNW9NjdDtyJIyw\n  Args:\n    table_names: Comic, Sale\n=================================\u001B[1m Tool Message \u001B[0m=================================\nName: sql_db_schema\n\n\nCREATE TABLE \"Comic\" (\n\t\"ComicId\" INTEGER NOT NULL, \n\t\"Title\" NVARCHAR(100) NOT NULL, \n\t\"PublisherId\" INTEGER NOT NULL, \n\t\"Genre\" NVARCHAR(50), \n\t\"Price\" NUMERIC(10, 2) NOT NULL, \n\t\"ReleaseDate\" DATETIME, \n\tPRIMARY KEY (\"ComicId\"), \n\tFOREIGN KEY(\"PublisherId\") REFERENCES \"Publisher\" (\"PublisherId\")\n)\n\n/*\n3 rows from Comic table:\nComicId\tTitle\tPublisherId\tGenre\tPrice\tReleaseDate\n1\tSpider-Man: Homecoming\t1\tSuperhero\t19.99\t2017-07-07 00:00:00\n2\tBatman: Year One\t2\tSuperhero\t14.99\t1987-02-01 00:00:00\n3\tHellboy: Seed of Destruction\t3\tSupernatural\t24.99\t1994-10-01 00:00:00\n*/\n\n\nCREATE TABLE \"Sale\" (\n\t\"SaleId\" INTEGER NOT NULL, \n\t\"CustomerId\" INTEGER NOT NULL, \n\t\"EmployeeId\" INTEGER, \n\t\"SaleDate\" DATETIME NOT NULL, \n\t\"TotalAmount\" NUMERIC(10, 2) NOT NULL, \n\tPRIMARY KEY (\"SaleId\"), \n\tFOREIGN KEY(\"EmployeeId\") REFERENCES \"Employee\" (\"EmployeeId\"), \n\tFOREIGN KEY(\"CustomerId\") REFERENCES \"Customer\" (\"CustomerId\")\n)\n\n/*\n3 rows from Sale table:\nSaleId\tCustomerId\tEmployeeId\tSaleDate\tTotalAmount\n1\t1\t1\t2023-01-15 00:00:00\t54.97\n2\t2\t2\t2023-01-20 00:00:00\t49.97\n3\t3\t3\t2023-01-25 00:00:00\t59.97\n*/\n==================================\u001B[1m Ai Message \u001B[0m==================================\nTool Calls:\n  sql_db_schema (call_lCRDYsd7HBTFmgEkGX1njsB6)\n Call ID: call_lCRDYsd7HBTFmgEkGX1njsB6\n  Args:\n    table_names: SaleTransactions\n=================================\u001B[1m Tool Message \u001B[0m=================================\nName: sql_db_schema\n\n\nCREATE TABLE \"SaleTransactions\" (\n\t\"TransactionId\" INTEGER NOT NULL, \n\t\"SaleId\" INTEGER NOT NULL, \n\t\"ComicId\" INTEGER NOT NULL, \n\t\"Quantity\" INTEGER NOT NULL, \n\t\"Price\" NUMERIC(10, 2) NOT NULL, \n\tPRIMARY KEY (\"TransactionId\"), \n\tFOREIGN KEY(\"ComicId\") REFERENCES \"Comic\" (\"ComicId\"), \n\tFOREIGN KEY(\"SaleId\") REFERENCES \"Sale\" (\"SaleId\")\n)\n\n/*\n3 rows from SaleTransactions table:\nTransactionId\tSaleId\tComicId\tQuantity\tPrice\n1\t1\t1\t1\t19.99\n2\t1\t2\t2\t14.99\n3\t2\t3\t1\t24.99\n*/\n==================================\u001B[1m Ai Message \u001B[0m==================================\nTool Calls:\n  sql_db_query_checker (call_yHU1OaVSMUKtptQ4v8g0ikvG)\n Call ID: call_yHU1OaVSMUKtptQ4v8g0ikvG\n  Args:\n    query: SELECT Comic.Title, SUM(SaleTransactions.Quantity) AS TotalSold FROM Comic JOIN SaleTransactions ON Comic.ComicId = SaleTransactions.ComicId GROUP BY Comic.ComicId ORDER BY TotalSold DESC LIMIT 10;\n=================================\u001B[1m Tool Message \u001B[0m=================================\nName: sql_db_query_checker\n\n```sql\nSELECT Comic.Title, SUM(SaleTransactions.Quantity) AS TotalSold \nFROM Comic \nJOIN SaleTransactions ON Comic.ComicId = SaleTransactions.ComicId \nGROUP BY Comic.ComicId \nORDER BY TotalSold DESC \nLIMIT 10;\n```\n==================================\u001B[1m Ai Message \u001B[0m==================================\nTool Calls:\n  sql_db_query (call_YI9XHQWDJyrm1jeYQ9P9pSOP)\n Call ID: call_YI9XHQWDJyrm1jeYQ9P9pSOP\n  Args:\n    query: SELECT Comic.Title, SUM(SaleTransactions.Quantity) AS TotalSold FROM Comic JOIN SaleTransactions ON Comic.ComicId = SaleTransactions.ComicId GROUP BY Comic.ComicId ORDER BY TotalSold DESC LIMIT 10;\n=================================\u001B[1m Tool Message \u001B[0m=================================\nName: sql_db_query\n\n[('Wolverine: Old Man Logan', 3), ('Superman: Red Son', 2), ('Ms. Marvel Volume 1', 2), ('Iron Man: Extremis', 2), ('Locke & Key Volume 1', 2), ('V for Vendetta', 2), ('The Boys Volume 1', 2), ('Lumberjanes Volume 1', 2), ('Punisher: Welcome Back, Frank', 2), ('Invincible Volume 1', 2)]\n==================================\u001B[1m Ai Message \u001B[0m==================================\n\nHere are the Top 10 most popular comics based on the total quantity sold:\n\n1. Wolverine: Old Man Logan - 3 copies\n2. Superman: Red Son - 2 copies\n3. Ms. Marvel Volume 1 - 2 copies\n4. Iron Man: Extremis - 2 copies\n5. Locke & Key Volume 1 - 2 copies\n6. V for Vendetta - 2 copies\n7. The Boys Volume 1 - 2 copies\n8. Lumberjanes Volume 1 - 2 copies\n9. Punisher: Welcome Back, Frank - 2 copies\n10. Invincible Volume 1 - 2 copies\n\n\nFinal Response:\n\n"
     ]
    },
    {
     "output_type": "display_data",
     "data": {
      "text/markdown": [
       "Here are the Top 10 most popular comics based on the total quantity sold:\n",
       "\n",
       "1. Wolverine: Old Man Logan - 3 copies\n",
       "2. Superman: Red Son - 2 copies\n",
       "3. Ms. Marvel Volume 1 - 2 copies\n",
       "4. Iron Man: Extremis - 2 copies\n",
       "5. Locke & Key Volume 1 - 2 copies\n",
       "6. V for Vendetta - 2 copies\n",
       "7. The Boys Volume 1 - 2 copies\n",
       "8. Lumberjanes Volume 1 - 2 copies\n",
       "9. Punisher: Welcome Back, Frank - 2 copies\n",
       "10. Invincible Volume 1 - 2 copies"
      ],
      "text/plain": [
       "<IPython.core.display.Markdown object>"
      ]
     },
     "metadata": {},
     "output_type": "display_data"
    }
   ],
   "source": [
    "call_text2sql_agent(query=\"What are the Top 10 most popular comics?\",\n",
    "                    verbose=True)"
   ]
  },
  {
   "cell_type": "code",
   "execution_count": 0,
   "metadata": {
    "application/vnd.databricks.v1+cell": {
     "cellMetadata": {},
     "inputWidgets": {},
     "nuid": "d02c5945-34e4-403e-95a0-ed2318549140",
     "showTitle": false,
     "tableResultSettingsMap": {},
     "title": ""
    },
    "colab": {
     "base_uri": "https://localhost:8080/",
     "height": 225
    },
    "id": "nv--rQKD1ar0",
    "outputId": "90f4c2d7-79bd-4387-bb2c-c199bf6f9448"
   },
   "outputs": [
    {
     "output_type": "stream",
     "name": "stdout",
     "output_type": "stream",
     "text": [
      "\n\nFinal Response:\n\n"
     ]
    },
    {
     "output_type": "display_data",
     "data": {
      "text/markdown": [
       "The top 5 customers with the most comics purchased are:\n",
       "\n",
       "1. Tony Stark - 8 comics\n",
       "2. Sarah Connor - 7 comics\n",
       "3. Natasha Romanoff - 6 comics\n",
       "4. Clark Kent - 6 comics\n",
       "5. Diana Prince - 6 comics"
      ],
      "text/plain": [
       "<IPython.core.display.Markdown object>"
      ]
     },
     "metadata": {},
     "output_type": "display_data"
    }
   ],
   "source": [
    "call_text2sql_agent(query=\"What are the top 5 customers with most comics purchased?\",\n",
    "                    verbose=False)"
   ]
  },
  {
   "cell_type": "code",
   "execution_count": 0,
   "metadata": {
    "application/vnd.databricks.v1+cell": {
     "cellMetadata": {},
     "inputWidgets": {},
     "nuid": "47b9f0e1-b06b-478d-b50d-c9f6255f9a0e",
     "showTitle": false,
     "tableResultSettingsMap": {},
     "title": ""
    },
    "colab": {
     "base_uri": "https://localhost:8080/",
     "height": 225
    },
    "id": "Qt7IZD171b4H",
    "outputId": "3391d5f0-0559-4b23-d95a-f02f5e66ffc1"
   },
   "outputs": [
    {
     "output_type": "stream",
     "name": "stdout",
     "output_type": "stream",
     "text": [
      "\n\nFinal Response:\n\n"
     ]
    },
    {
     "output_type": "display_data",
     "data": {
      "text/markdown": [
       "The top 5 customers with the most money spent are:\n",
       "\n",
       "1. Tony Stark - \\$164.94\n",
       "2. Bruce Wayne - \\$139.94\n",
       "3. Sarah Connor - \\$124.96\n",
       "4. Clark Kent - \\$114.96\n",
       "5. Natasha Romanoff - \\$111.96"
      ],
      "text/plain": [
       "<IPython.core.display.Markdown object>"
      ]
     },
     "metadata": {},
     "output_type": "display_data"
    }
   ],
   "source": [
    "call_text2sql_agent(query=\"Which are the top 5 customers with most money spent\",\n",
    "                    verbose=False)"
   ]
  },
  {
   "cell_type": "code",
   "execution_count": 0,
   "metadata": {
    "application/vnd.databricks.v1+cell": {
     "cellMetadata": {},
     "inputWidgets": {},
     "nuid": "01cb5987-ec41-4a27-b9c8-f9241236e7d8",
     "showTitle": false,
     "tableResultSettingsMap": {},
     "title": ""
    },
    "colab": {
     "base_uri": "https://localhost:8080/",
     "height": 190
    },
    "id": "-6pk7cZkUnLz",
    "outputId": "e46f3998-bf41-4dfd-89f0-51daa57e6ab5"
   },
   "outputs": [
    {
     "output_type": "stream",
     "name": "stdout",
     "output_type": "stream",
     "text": [
      "\n\nFinal Response:\n\n"
     ]
    },
    {
     "output_type": "display_data",
     "data": {
      "text/markdown": [
       "The top 3 salesmen with the highest revenue are:\n",
       "\n",
       "1. John Doe with a total revenue of \\$255.89\n",
       "2. Alice Brown with a total revenue of \\$234.94\n",
       "3. Jane Smith with a total revenue of \\$234.88"
      ],
      "text/plain": [
       "<IPython.core.display.Markdown object>"
      ]
     },
     "metadata": {},
     "output_type": "display_data"
    }
   ],
   "source": [
    "call_text2sql_agent(query=\"Which are the top 3 salesman with highest revenue\",\n",
    "                    verbose=False)"
   ]
  }
 ],
 "metadata": {
  "application/vnd.databricks.v1+notebook": {
   "computePreferences": null,
   "dashboards": [],
   "environmentMetadata": null,
   "language": "python",
   "notebookMetadata": {
    "pythonIndentUnit": 4
   },
   "notebookName": "M4_Build_a_Text2SQL_ReAct_Agentic_AI_System_with_LangChain",
   "widgets": {}
  },
  "colab": {
   "provenance": []
  },
  "kernelspec": {
   "display_name": ".venv",
   "language": "python",
   "name": "python3"
  },
  "language_info": {
   "name": "python"
  }
 },
 "nbformat": 4,
 "nbformat_minor": 0
}
