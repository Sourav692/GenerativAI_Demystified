{
 "cells": [
  {
   "cell_type": "markdown",
   "metadata": {
    "application/vnd.databricks.v1+cell": {
     "cellMetadata": {},
     "inputWidgets": {},
     "nuid": "41ab0dee-02df-49bc-aa37-5a255328e69d",
     "showTitle": false,
     "tableResultSettingsMap": {},
     "title": ""
    }
   },
   "source": [
    "**Reference Link:** [Building AI Agents with LangChain (Analytics Vidhya)](https://courses.analyticsvidhya.com/courses/take/building-ai-agents-with-langchain/lessons/62141622-introduction-to-agents-and-tools)"
   ]
  },
  {
   "cell_type": "markdown",
   "metadata": {
    "application/vnd.databricks.v1+cell": {
     "cellMetadata": {},
     "inputWidgets": {},
     "nuid": "44893f4a-69e4-4948-a6f9-6f09a190c6ee",
     "showTitle": false,
     "tableResultSettingsMap": {},
     "title": ""
    },
    "id": "1kiH8lf1y4sD"
   },
   "source": [
    "# Build a Tool-Calling Agentic AI Research Assistant with LangChain"
   ]
  },
  {
   "cell_type": "markdown",
   "metadata": {
    "application/vnd.databricks.v1+cell": {
     "cellMetadata": {},
     "inputWidgets": {},
     "nuid": "471282a9-3579-4861-9d32-c96d382dd0d8",
     "showTitle": false,
     "tableResultSettingsMap": {},
     "title": ""
    },
    "id": "NYBpZTjLnEXb"
   },
   "source": [
    "This demo will cover building AI Agents with the legacy LangChain `AgentExecutor`. These are fine for getting started, but for working with more advanced agents and having more finer control, LangChain recommends to use LangGraph, which we cover in other courses.\n",
    "\n",
    "Agents are systems that use an LLM as a reasoning engine to determine which actions to take and what the inputs to those actions should be. The results of those actions can then be fed back into the agent and it determines whether more actions are needed, or whether it is okay to stop.\n",
    "\n",
    "![](https://i.imgur.com/1uVnBAm.png)\n",
    "\n"
   ]
  },
  {
   "cell_type": "markdown",
   "metadata": {
    "application/vnd.databricks.v1+cell": {
     "cellMetadata": {},
     "inputWidgets": {},
     "nuid": "ba13647d-c0d5-41e8-b883-0b01007c3ede",
     "showTitle": false,
     "tableResultSettingsMap": {},
     "title": ""
    },
    "id": "L1KvMtf54l0d"
   },
   "source": [
    "## Install OpenAI, and LangChain dependencies"
   ]
  },
  {
   "cell_type": "code",
   "execution_count": 0,
   "metadata": {
    "application/vnd.databricks.v1+cell": {
     "cellMetadata": {},
     "inputWidgets": {},
     "nuid": "71b5598b-e2c9-4c85-b003-130be6933014",
     "showTitle": false,
     "tableResultSettingsMap": {},
     "title": ""
    },
    "colab": {
     "base_uri": "https://localhost:8080/"
    },
    "id": "2evPp14fy258",
    "outputId": "93aa791d-4f4c-4167-e6d1-7491fbeb93e5"
   },
   "outputs": [
    {
     "output_type": "stream",
     "name": "stdout",
     "output_type": "stream",
     "text": [
      "Requirement already satisfied: langchain==0.3.14 in d:\\2. my workspace and notes\\1. demystify folders\\generativeai-demystified\\.venv\\lib\\site-packages (0.3.14)\nRequirement already satisfied: PyYAML>=5.3 in d:\\2. my workspace and notes\\1. demystify folders\\generativeai-demystified\\.venv\\lib\\site-packages (from langchain==0.3.14) (6.0.2)\nRequirement already satisfied: SQLAlchemy<3,>=1.4 in d:\\2. my workspace and notes\\1. demystify folders\\generativeai-demystified\\.venv\\lib\\site-packages (from langchain==0.3.14) (2.0.38)\nRequirement already satisfied: aiohttp<4.0.0,>=3.8.3 in d:\\2. my workspace and notes\\1. demystify folders\\generativeai-demystified\\.venv\\lib\\site-packages (from langchain==0.3.14) (3.11.12)\nRequirement already satisfied: langchain-core<0.4.0,>=0.3.29 in d:\\2. my workspace and notes\\1. demystify folders\\generativeai-demystified\\.venv\\lib\\site-packages (from langchain==0.3.14) (0.3.35)\nRequirement already satisfied: langchain-text-splitters<0.4.0,>=0.3.3 in d:\\2. my workspace and notes\\1. demystify folders\\generativeai-demystified\\.venv\\lib\\site-packages (from langchain==0.3.14) (0.3.6)\nRequirement already satisfied: langsmith<0.3,>=0.1.17 in d:\\2. my workspace and notes\\1. demystify folders\\generativeai-demystified\\.venv\\lib\\site-packages (from langchain==0.3.14) (0.2.11)\nRequirement already satisfied: numpy<3,>=1.26.2 in d:\\2. my workspace and notes\\1. demystify folders\\generativeai-demystified\\.venv\\lib\\site-packages (from langchain==0.3.14) (2.2.3)\nRequirement already satisfied: pydantic<3.0.0,>=2.7.4 in d:\\2. my workspace and notes\\1. demystify folders\\generativeai-demystified\\.venv\\lib\\site-packages (from langchain==0.3.14) (2.10.6)\nRequirement already satisfied: requests<3,>=2 in d:\\2. my workspace and notes\\1. demystify folders\\generativeai-demystified\\.venv\\lib\\site-packages (from langchain==0.3.14) (2.32.3)\nRequirement already satisfied: tenacity!=8.4.0,<10,>=8.1.0 in d:\\2. my workspace and notes\\1. demystify folders\\generativeai-demystified\\.venv\\lib\\site-packages (from langchain==0.3.14) (9.0.0)\nRequirement already satisfied: aiohappyeyeballs>=2.3.0 in d:\\2. my workspace and notes\\1. demystify folders\\generativeai-demystified\\.venv\\lib\\site-packages (from aiohttp<4.0.0,>=3.8.3->langchain==0.3.14) (2.4.6)\nRequirement already satisfied: aiosignal>=1.1.2 in d:\\2. my workspace and notes\\1. demystify folders\\generativeai-demystified\\.venv\\lib\\site-packages (from aiohttp<4.0.0,>=3.8.3->langchain==0.3.14) (1.3.2)\nRequirement already satisfied: attrs>=17.3.0 in d:\\2. my workspace and notes\\1. demystify folders\\generativeai-demystified\\.venv\\lib\\site-packages (from aiohttp<4.0.0,>=3.8.3->langchain==0.3.14) (25.1.0)\nRequirement already satisfied: frozenlist>=1.1.1 in d:\\2. my workspace and notes\\1. demystify folders\\generativeai-demystified\\.venv\\lib\\site-packages (from aiohttp<4.0.0,>=3.8.3->langchain==0.3.14) (1.5.0)\nRequirement already satisfied: multidict<7.0,>=4.5 in d:\\2. my workspace and notes\\1. demystify folders\\generativeai-demystified\\.venv\\lib\\site-packages (from aiohttp<4.0.0,>=3.8.3->langchain==0.3.14) (6.1.0)\nRequirement already satisfied: propcache>=0.2.0 in d:\\2. my workspace and notes\\1. demystify folders\\generativeai-demystified\\.venv\\lib\\site-packages (from aiohttp<4.0.0,>=3.8.3->langchain==0.3.14) (0.2.1)\nRequirement already satisfied: yarl<2.0,>=1.17.0 in d:\\2. my workspace and notes\\1. demystify folders\\generativeai-demystified\\.venv\\lib\\site-packages (from aiohttp<4.0.0,>=3.8.3->langchain==0.3.14) (1.18.3)\nRequirement already satisfied: jsonpatch<2.0,>=1.33 in d:\\2. my workspace and notes\\1. demystify folders\\generativeai-demystified\\.venv\\lib\\site-packages (from langchain-core<0.4.0,>=0.3.29->langchain==0.3.14) (1.33)\nRequirement already satisfied: packaging<25,>=23.2 in d:\\2. my workspace and notes\\1. demystify folders\\generativeai-demystified\\.venv\\lib\\site-packages (from langchain-core<0.4.0,>=0.3.29->langchain==0.3.14) (24.2)\nRequirement already satisfied: typing-extensions>=4.7 in d:\\2. my workspace and notes\\1. demystify folders\\generativeai-demystified\\.venv\\lib\\site-packages (from langchain-core<0.4.0,>=0.3.29->langchain==0.3.14) (4.12.2)\nRequirement already satisfied: httpx<1,>=0.23.0 in d:\\2. my workspace and notes\\1. demystify folders\\generativeai-demystified\\.venv\\lib\\site-packages (from langsmith<0.3,>=0.1.17->langchain==0.3.14) (0.28.1)\nRequirement already satisfied: orjson<4.0.0,>=3.9.14 in d:\\2. my workspace and notes\\1. demystify folders\\generativeai-demystified\\.venv\\lib\\site-packages (from langsmith<0.3,>=0.1.17->langchain==0.3.14) (3.10.15)\nRequirement already satisfied: requests-toolbelt<2.0.0,>=1.0.0 in d:\\2. my workspace and notes\\1. demystify folders\\generativeai-demystified\\.venv\\lib\\site-packages (from langsmith<0.3,>=0.1.17->langchain==0.3.14) (1.0.0)\nRequirement already satisfied: annotated-types>=0.6.0 in d:\\2. my workspace and notes\\1. demystify folders\\generativeai-demystified\\.venv\\lib\\site-packages (from pydantic<3.0.0,>=2.7.4->langchain==0.3.14) (0.7.0)\nRequirement already satisfied: pydantic-core==2.27.2 in d:\\2. my workspace and notes\\1. demystify folders\\generativeai-demystified\\.venv\\lib\\site-packages (from pydantic<3.0.0,>=2.7.4->langchain==0.3.14) (2.27.2)\nRequirement already satisfied: charset-normalizer<4,>=2 in d:\\2. my workspace and notes\\1. demystify folders\\generativeai-demystified\\.venv\\lib\\site-packages (from requests<3,>=2->langchain==0.3.14) (3.4.1)\nRequirement already satisfied: idna<4,>=2.5 in d:\\2. my workspace and notes\\1. demystify folders\\generativeai-demystified\\.venv\\lib\\site-packages (from requests<3,>=2->langchain==0.3.14) (3.10)\nRequirement already satisfied: urllib3<3,>=1.21.1 in d:\\2. my workspace and notes\\1. demystify folders\\generativeai-demystified\\.venv\\lib\\site-packages (from requests<3,>=2->langchain==0.3.14) (2.3.0)\nRequirement already satisfied: certifi>=2017.4.17 in d:\\2. my workspace and notes\\1. demystify folders\\generativeai-demystified\\.venv\\lib\\site-packages (from requests<3,>=2->langchain==0.3.14) (2025.1.31)\nRequirement already satisfied: greenlet!=0.4.17 in d:\\2. my workspace and notes\\1. demystify folders\\generativeai-demystified\\.venv\\lib\\site-packages (from SQLAlchemy<3,>=1.4->langchain==0.3.14) (3.1.1)\nRequirement already satisfied: anyio in d:\\2. my workspace and notes\\1. demystify folders\\generativeai-demystified\\.venv\\lib\\site-packages (from httpx<1,>=0.23.0->langsmith<0.3,>=0.1.17->langchain==0.3.14) (4.8.0)\nRequirement already satisfied: httpcore==1.* in d:\\2. my workspace and notes\\1. demystify folders\\generativeai-demystified\\.venv\\lib\\site-packages (from httpx<1,>=0.23.0->langsmith<0.3,>=0.1.17->langchain==0.3.14) (1.0.7)\nRequirement already satisfied: h11<0.15,>=0.13 in d:\\2. my workspace and notes\\1. demystify folders\\generativeai-demystified\\.venv\\lib\\site-packages (from httpcore==1.*->httpx<1,>=0.23.0->langsmith<0.3,>=0.1.17->langchain==0.3.14) (0.14.0)\nRequirement already satisfied: jsonpointer>=1.9 in d:\\2. my workspace and notes\\1. demystify folders\\generativeai-demystified\\.venv\\lib\\site-packages (from jsonpatch<2.0,>=1.33->langchain-core<0.4.0,>=0.3.29->langchain==0.3.14) (3.0.0)\nRequirement already satisfied: sniffio>=1.1 in d:\\2. my workspace and notes\\1. demystify folders\\generativeai-demystified\\.venv\\lib\\site-packages (from anyio->httpx<1,>=0.23.0->langsmith<0.3,>=0.1.17->langchain==0.3.14) (1.3.1)\nRequirement already satisfied: langchain-openai==0.3.0 in d:\\2. my workspace and notes\\1. demystify folders\\generativeai-demystified\\.venv\\lib\\site-packages (0.3.0)\nRequirement already satisfied: langchain-core<0.4.0,>=0.3.29 in d:\\2. my workspace and notes\\1. demystify folders\\generativeai-demystified\\.venv\\lib\\site-packages (from langchain-openai==0.3.0) (0.3.35)\nRequirement already satisfied: openai<2.0.0,>=1.58.1 in d:\\2. my workspace and notes\\1. demystify folders\\generativeai-demystified\\.venv\\lib\\site-packages (from langchain-openai==0.3.0) (1.63.2)\nRequirement already satisfied: tiktoken<1,>=0.7 in d:\\2. my workspace and notes\\1. demystify folders\\generativeai-demystified\\.venv\\lib\\site-packages (from langchain-openai==0.3.0) (0.9.0)\nRequirement already satisfied: langsmith<0.4,>=0.1.125 in d:\\2. my workspace and notes\\1. demystify folders\\generativeai-demystified\\.venv\\lib\\site-packages (from langchain-core<0.4.0,>=0.3.29->langchain-openai==0.3.0) (0.2.11)\nRequirement already satisfied: tenacity!=8.4.0,<10.0.0,>=8.1.0 in d:\\2. my workspace and notes\\1. demystify folders\\generativeai-demystified\\.venv\\lib\\site-packages (from langchain-core<0.4.0,>=0.3.29->langchain-openai==0.3.0) (9.0.0)\nRequirement already satisfied: jsonpatch<2.0,>=1.33 in d:\\2. my workspace and notes\\1. demystify folders\\generativeai-demystified\\.venv\\lib\\site-packages (from langchain-core<0.4.0,>=0.3.29->langchain-openai==0.3.0) (1.33)\nRequirement already satisfied: PyYAML>=5.3 in d:\\2. my workspace and notes\\1. demystify folders\\generativeai-demystified\\.venv\\lib\\site-packages (from langchain-core<0.4.0,>=0.3.29->langchain-openai==0.3.0) (6.0.2)\nRequirement already satisfied: packaging<25,>=23.2 in d:\\2. my workspace and notes\\1. demystify folders\\generativeai-demystified\\.venv\\lib\\site-packages (from langchain-core<0.4.0,>=0.3.29->langchain-openai==0.3.0) (24.2)\nRequirement already satisfied: typing-extensions>=4.7 in d:\\2. my workspace and notes\\1. demystify folders\\generativeai-demystified\\.venv\\lib\\site-packages (from langchain-core<0.4.0,>=0.3.29->langchain-openai==0.3.0) (4.12.2)\nRequirement already satisfied: pydantic<3.0.0,>=2.7.4 in d:\\2. my workspace and notes\\1. demystify folders\\generativeai-demystified\\.venv\\lib\\site-packages (from langchain-core<0.4.0,>=0.3.29->langchain-openai==0.3.0) (2.10.6)\nRequirement already satisfied: anyio<5,>=3.5.0 in d:\\2. my workspace and notes\\1. demystify folders\\generativeai-demystified\\.venv\\lib\\site-packages (from openai<2.0.0,>=1.58.1->langchain-openai==0.3.0) (4.8.0)\nRequirement already satisfied: distro<2,>=1.7.0 in d:\\2. my workspace and notes\\1. demystify folders\\generativeai-demystified\\.venv\\lib\\site-packages (from openai<2.0.0,>=1.58.1->langchain-openai==0.3.0) (1.9.0)\nRequirement already satisfied: httpx<1,>=0.23.0 in d:\\2. my workspace and notes\\1. demystify folders\\generativeai-demystified\\.venv\\lib\\site-packages (from openai<2.0.0,>=1.58.1->langchain-openai==0.3.0) (0.28.1)\nRequirement already satisfied: jiter<1,>=0.4.0 in d:\\2. my workspace and notes\\1. demystify folders\\generativeai-demystified\\.venv\\lib\\site-packages (from openai<2.0.0,>=1.58.1->langchain-openai==0.3.0) (0.8.2)\nRequirement already satisfied: sniffio in d:\\2. my workspace and notes\\1. demystify folders\\generativeai-demystified\\.venv\\lib\\site-packages (from openai<2.0.0,>=1.58.1->langchain-openai==0.3.0) (1.3.1)\nRequirement already satisfied: tqdm>4 in d:\\2. my workspace and notes\\1. demystify folders\\generativeai-demystified\\.venv\\lib\\site-packages (from openai<2.0.0,>=1.58.1->langchain-openai==0.3.0) (4.67.1)\nRequirement already satisfied: regex>=2022.1.18 in d:\\2. my workspace and notes\\1. demystify folders\\generativeai-demystified\\.venv\\lib\\site-packages (from tiktoken<1,>=0.7->langchain-openai==0.3.0) (2024.11.6)\nRequirement already satisfied: requests>=2.26.0 in d:\\2. my workspace and notes\\1. demystify folders\\generativeai-demystified\\.venv\\lib\\site-packages (from tiktoken<1,>=0.7->langchain-openai==0.3.0) (2.32.3)\nRequirement already satisfied: idna>=2.8 in d:\\2. my workspace and notes\\1. demystify folders\\generativeai-demystified\\.venv\\lib\\site-packages (from anyio<5,>=3.5.0->openai<2.0.0,>=1.58.1->langchain-openai==0.3.0) (3.10)\nRequirement already satisfied: certifi in d:\\2. my workspace and notes\\1. demystify folders\\generativeai-demystified\\.venv\\lib\\site-packages (from httpx<1,>=0.23.0->openai<2.0.0,>=1.58.1->langchain-openai==0.3.0) (2025.1.31)\nRequirement already satisfied: httpcore==1.* in d:\\2. my workspace and notes\\1. demystify folders\\generativeai-demystified\\.venv\\lib\\site-packages (from httpx<1,>=0.23.0->openai<2.0.0,>=1.58.1->langchain-openai==0.3.0) (1.0.7)\nRequirement already satisfied: h11<0.15,>=0.13 in d:\\2. my workspace and notes\\1. demystify folders\\generativeai-demystified\\.venv\\lib\\site-packages (from httpcore==1.*->httpx<1,>=0.23.0->openai<2.0.0,>=1.58.1->langchain-openai==0.3.0) (0.14.0)\nRequirement already satisfied: jsonpointer>=1.9 in d:\\2. my workspace and notes\\1. demystify folders\\generativeai-demystified\\.venv\\lib\\site-packages (from jsonpatch<2.0,>=1.33->langchain-core<0.4.0,>=0.3.29->langchain-openai==0.3.0) (3.0.0)\nRequirement already satisfied: orjson<4.0.0,>=3.9.14 in d:\\2. my workspace and notes\\1. demystify folders\\generativeai-demystified\\.venv\\lib\\site-packages (from langsmith<0.4,>=0.1.125->langchain-core<0.4.0,>=0.3.29->langchain-openai==0.3.0) (3.10.15)\nRequirement already satisfied: requests-toolbelt<2.0.0,>=1.0.0 in d:\\2. my workspace and notes\\1. demystify folders\\generativeai-demystified\\.venv\\lib\\site-packages (from langsmith<0.4,>=0.1.125->langchain-core<0.4.0,>=0.3.29->langchain-openai==0.3.0) (1.0.0)\nRequirement already satisfied: annotated-types>=0.6.0 in d:\\2. my workspace and notes\\1. demystify folders\\generativeai-demystified\\.venv\\lib\\site-packages (from pydantic<3.0.0,>=2.7.4->langchain-core<0.4.0,>=0.3.29->langchain-openai==0.3.0) (0.7.0)\nRequirement already satisfied: pydantic-core==2.27.2 in d:\\2. my workspace and notes\\1. demystify folders\\generativeai-demystified\\.venv\\lib\\site-packages (from pydantic<3.0.0,>=2.7.4->langchain-core<0.4.0,>=0.3.29->langchain-openai==0.3.0) (2.27.2)\nRequirement already satisfied: charset-normalizer<4,>=2 in d:\\2. my workspace and notes\\1. demystify folders\\generativeai-demystified\\.venv\\lib\\site-packages (from requests>=2.26.0->tiktoken<1,>=0.7->langchain-openai==0.3.0) (3.4.1)\nRequirement already satisfied: urllib3<3,>=1.21.1 in d:\\2. my workspace and notes\\1. demystify folders\\generativeai-demystified\\.venv\\lib\\site-packages (from requests>=2.26.0->tiktoken<1,>=0.7->langchain-openai==0.3.0) (2.3.0)\nRequirement already satisfied: colorama in d:\\2. my workspace and notes\\1. demystify folders\\generativeai-demystified\\.venv\\lib\\site-packages (from tqdm>4->openai<2.0.0,>=1.58.1->langchain-openai==0.3.0) (0.4.6)\nRequirement already satisfied: langchain-community==0.3.14 in d:\\2. my workspace and notes\\1. demystify folders\\generativeai-demystified\\.venv\\lib\\site-packages (0.3.14)\nRequirement already satisfied: PyYAML>=5.3 in d:\\2. my workspace and notes\\1. demystify folders\\generativeai-demystified\\.venv\\lib\\site-packages (from langchain-community==0.3.14) (6.0.2)\nRequirement already satisfied: SQLAlchemy<3,>=1.4 in d:\\2. my workspace and notes\\1. demystify folders\\generativeai-demystified\\.venv\\lib\\site-packages (from langchain-community==0.3.14) (2.0.38)\nRequirement already satisfied: aiohttp<4.0.0,>=3.8.3 in d:\\2. my workspace and notes\\1. demystify folders\\generativeai-demystified\\.venv\\lib\\site-packages (from langchain-community==0.3.14) (3.11.12)\nRequirement already satisfied: dataclasses-json<0.7,>=0.5.7 in d:\\2. my workspace and notes\\1. demystify folders\\generativeai-demystified\\.venv\\lib\\site-packages (from langchain-community==0.3.14) (0.6.7)\nRequirement already satisfied: httpx-sse<0.5.0,>=0.4.0 in d:\\2. my workspace and notes\\1. demystify folders\\generativeai-demystified\\.venv\\lib\\site-packages (from langchain-community==0.3.14) (0.4.0)\nRequirement already satisfied: langchain<0.4.0,>=0.3.14 in d:\\2. my workspace and notes\\1. demystify folders\\generativeai-demystified\\.venv\\lib\\site-packages (from langchain-community==0.3.14) (0.3.14)\nRequirement already satisfied: langchain-core<0.4.0,>=0.3.29 in d:\\2. my workspace and notes\\1. demystify folders\\generativeai-demystified\\.venv\\lib\\site-packages (from langchain-community==0.3.14) (0.3.35)\nRequirement already satisfied: langsmith<0.3,>=0.1.125 in d:\\2. my workspace and notes\\1. demystify folders\\generativeai-demystified\\.venv\\lib\\site-packages (from langchain-community==0.3.14) (0.2.11)\nRequirement already satisfied: numpy<3,>=1.26.2 in d:\\2. my workspace and notes\\1. demystify folders\\generativeai-demystified\\.venv\\lib\\site-packages (from langchain-community==0.3.14) (2.2.3)\nRequirement already satisfied: pydantic-settings<3.0.0,>=2.4.0 in d:\\2. my workspace and notes\\1. demystify folders\\generativeai-demystified\\.venv\\lib\\site-packages (from langchain-community==0.3.14) (2.7.1)\nRequirement already satisfied: requests<3,>=2 in d:\\2. my workspace and notes\\1. demystify folders\\generativeai-demystified\\.venv\\lib\\site-packages (from langchain-community==0.3.14) (2.32.3)\nRequirement already satisfied: tenacity!=8.4.0,<10,>=8.1.0 in d:\\2. my workspace and notes\\1. demystify folders\\generativeai-demystified\\.venv\\lib\\site-packages (from langchain-community==0.3.14) (9.0.0)\nRequirement already satisfied: aiohappyeyeballs>=2.3.0 in d:\\2. my workspace and notes\\1. demystify folders\\generativeai-demystified\\.venv\\lib\\site-packages (from aiohttp<4.0.0,>=3.8.3->langchain-community==0.3.14) (2.4.6)\nRequirement already satisfied: aiosignal>=1.1.2 in d:\\2. my workspace and notes\\1. demystify folders\\generativeai-demystified\\.venv\\lib\\site-packages (from aiohttp<4.0.0,>=3.8.3->langchain-community==0.3.14) (1.3.2)\nRequirement already satisfied: attrs>=17.3.0 in d:\\2. my workspace and notes\\1. demystify folders\\generativeai-demystified\\.venv\\lib\\site-packages (from aiohttp<4.0.0,>=3.8.3->langchain-community==0.3.14) (25.1.0)\nRequirement already satisfied: frozenlist>=1.1.1 in d:\\2. my workspace and notes\\1. demystify folders\\generativeai-demystified\\.venv\\lib\\site-packages (from aiohttp<4.0.0,>=3.8.3->langchain-community==0.3.14) (1.5.0)\nRequirement already satisfied: multidict<7.0,>=4.5 in d:\\2. my workspace and notes\\1. demystify folders\\generativeai-demystified\\.venv\\lib\\site-packages (from aiohttp<4.0.0,>=3.8.3->langchain-community==0.3.14) (6.1.0)\nRequirement already satisfied: propcache>=0.2.0 in d:\\2. my workspace and notes\\1. demystify folders\\generativeai-demystified\\.venv\\lib\\site-packages (from aiohttp<4.0.0,>=3.8.3->langchain-community==0.3.14) (0.2.1)\nRequirement already satisfied: yarl<2.0,>=1.17.0 in d:\\2. my workspace and notes\\1. demystify folders\\generativeai-demystified\\.venv\\lib\\site-packages (from aiohttp<4.0.0,>=3.8.3->langchain-community==0.3.14) (1.18.3)\nRequirement already satisfied: marshmallow<4.0.0,>=3.18.0 in d:\\2. my workspace and notes\\1. demystify folders\\generativeai-demystified\\.venv\\lib\\site-packages (from dataclasses-json<0.7,>=0.5.7->langchain-community==0.3.14) (3.26.1)\nRequirement already satisfied: typing-inspect<1,>=0.4.0 in d:\\2. my workspace and notes\\1. demystify folders\\generativeai-demystified\\.venv\\lib\\site-packages (from dataclasses-json<0.7,>=0.5.7->langchain-community==0.3.14) (0.9.0)\nRequirement already satisfied: langchain-text-splitters<0.4.0,>=0.3.3 in d:\\2. my workspace and notes\\1. demystify folders\\generativeai-demystified\\.venv\\lib\\site-packages (from langchain<0.4.0,>=0.3.14->langchain-community==0.3.14) (0.3.6)\nRequirement already satisfied: pydantic<3.0.0,>=2.7.4 in d:\\2. my workspace and notes\\1. demystify folders\\generativeai-demystified\\.venv\\lib\\site-packages (from langchain<0.4.0,>=0.3.14->langchain-community==0.3.14) (2.10.6)\nRequirement already satisfied: jsonpatch<2.0,>=1.33 in d:\\2. my workspace and notes\\1. demystify folders\\generativeai-demystified\\.venv\\lib\\site-packages (from langchain-core<0.4.0,>=0.3.29->langchain-community==0.3.14) (1.33)\nRequirement already satisfied: packaging<25,>=23.2 in d:\\2. my workspace and notes\\1. demystify folders\\generativeai-demystified\\.venv\\lib\\site-packages (from langchain-core<0.4.0,>=0.3.29->langchain-community==0.3.14) (24.2)\nRequirement already satisfied: typing-extensions>=4.7 in d:\\2. my workspace and notes\\1. demystify folders\\generativeai-demystified\\.venv\\lib\\site-packages (from langchain-core<0.4.0,>=0.3.29->langchain-community==0.3.14) (4.12.2)\nRequirement already satisfied: httpx<1,>=0.23.0 in d:\\2. my workspace and notes\\1. demystify folders\\generativeai-demystified\\.venv\\lib\\site-packages (from langsmith<0.3,>=0.1.125->langchain-community==0.3.14) (0.28.1)\nRequirement already satisfied: orjson<4.0.0,>=3.9.14 in d:\\2. my workspace and notes\\1. demystify folders\\generativeai-demystified\\.venv\\lib\\site-packages (from langsmith<0.3,>=0.1.125->langchain-community==0.3.14) (3.10.15)\nRequirement already satisfied: requests-toolbelt<2.0.0,>=1.0.0 in d:\\2. my workspace and notes\\1. demystify folders\\generativeai-demystified\\.venv\\lib\\site-packages (from langsmith<0.3,>=0.1.125->langchain-community==0.3.14) (1.0.0)\nRequirement already satisfied: python-dotenv>=0.21.0 in d:\\2. my workspace and notes\\1. demystify folders\\generativeai-demystified\\.venv\\lib\\site-packages (from pydantic-settings<3.0.0,>=2.4.0->langchain-community==0.3.14) (1.0.1)\nRequirement already satisfied: charset-normalizer<4,>=2 in d:\\2. my workspace and notes\\1. demystify folders\\generativeai-demystified\\.venv\\lib\\site-packages (from requests<3,>=2->langchain-community==0.3.14) (3.4.1)\nRequirement already satisfied: idna<4,>=2.5 in d:\\2. my workspace and notes\\1. demystify folders\\generativeai-demystified\\.venv\\lib\\site-packages (from requests<3,>=2->langchain-community==0.3.14) (3.10)\nRequirement already satisfied: urllib3<3,>=1.21.1 in d:\\2. my workspace and notes\\1. demystify folders\\generativeai-demystified\\.venv\\lib\\site-packages (from requests<3,>=2->langchain-community==0.3.14) (2.3.0)\nRequirement already satisfied: certifi>=2017.4.17 in d:\\2. my workspace and notes\\1. demystify folders\\generativeai-demystified\\.venv\\lib\\site-packages (from requests<3,>=2->langchain-community==0.3.14) (2025.1.31)\nRequirement already satisfied: greenlet!=0.4.17 in d:\\2. my workspace and notes\\1. demystify folders\\generativeai-demystified\\.venv\\lib\\site-packages (from SQLAlchemy<3,>=1.4->langchain-community==0.3.14) (3.1.1)\nRequirement already satisfied: anyio in d:\\2. my workspace and notes\\1. demystify folders\\generativeai-demystified\\.venv\\lib\\site-packages (from httpx<1,>=0.23.0->langsmith<0.3,>=0.1.125->langchain-community==0.3.14) (4.8.0)\nRequirement already satisfied: httpcore==1.* in d:\\2. my workspace and notes\\1. demystify folders\\generativeai-demystified\\.venv\\lib\\site-packages (from httpx<1,>=0.23.0->langsmith<0.3,>=0.1.125->langchain-community==0.3.14) (1.0.7)\nRequirement already satisfied: h11<0.15,>=0.13 in d:\\2. my workspace and notes\\1. demystify folders\\generativeai-demystified\\.venv\\lib\\site-packages (from httpcore==1.*->httpx<1,>=0.23.0->langsmith<0.3,>=0.1.125->langchain-community==0.3.14) (0.14.0)\nRequirement already satisfied: jsonpointer>=1.9 in d:\\2. my workspace and notes\\1. demystify folders\\generativeai-demystified\\.venv\\lib\\site-packages (from jsonpatch<2.0,>=1.33->langchain-core<0.4.0,>=0.3.29->langchain-community==0.3.14) (3.0.0)\nRequirement already satisfied: annotated-types>=0.6.0 in d:\\2. my workspace and notes\\1. demystify folders\\generativeai-demystified\\.venv\\lib\\site-packages (from pydantic<3.0.0,>=2.7.4->langchain<0.4.0,>=0.3.14->langchain-community==0.3.14) (0.7.0)\nRequirement already satisfied: pydantic-core==2.27.2 in d:\\2. my workspace and notes\\1. demystify folders\\generativeai-demystified\\.venv\\lib\\site-packages (from pydantic<3.0.0,>=2.7.4->langchain<0.4.0,>=0.3.14->langchain-community==0.3.14) (2.27.2)\nRequirement already satisfied: mypy-extensions>=0.3.0 in d:\\2. my workspace and notes\\1. demystify folders\\generativeai-demystified\\.venv\\lib\\site-packages (from typing-inspect<1,>=0.4.0->dataclasses-json<0.7,>=0.5.7->langchain-community==0.3.14) (1.0.0)\nRequirement already satisfied: sniffio>=1.1 in d:\\2. my workspace and notes\\1. demystify folders\\generativeai-demystified\\.venv\\lib\\site-packages (from anyio->httpx<1,>=0.23.0->langsmith<0.3,>=0.1.125->langchain-community==0.3.14) (1.3.1)\n"
     ]
    }
   ],
   "source": [
    "!pip install langchain==0.3.14\n",
    "!pip install langchain-openai==0.3.0\n",
    "!pip install langchain-community==0.3.14"
   ]
  },
  {
   "cell_type": "code",
   "execution_count": 0,
   "metadata": {
    "application/vnd.databricks.v1+cell": {
     "cellMetadata": {},
     "inputWidgets": {},
     "nuid": "6ef7c71d-0ffb-4af9-9e0e-47d02de5da0e",
     "showTitle": false,
     "tableResultSettingsMap": {},
     "title": ""
    },
    "colab": {
     "base_uri": "https://localhost:8080/"
    },
    "id": "AakmY6B_zYte",
    "outputId": "f206e910-8ac4-4423-c1af-c000a92f3429"
   },
   "outputs": [
    {
     "output_type": "stream",
     "name": "stdout",
     "output_type": "stream",
     "text": [
      "Requirement already satisfied: markitdown in d:\\2. my workspace and notes\\1. demystify folders\\generativeai-demystified\\.venv\\lib\\site-packages (0.0.1a4)\nRequirement already satisfied: azure-ai-documentintelligence in d:\\2. my workspace and notes\\1. demystify folders\\generativeai-demystified\\.venv\\lib\\site-packages (from markitdown) (1.0.0)\nRequirement already satisfied: azure-identity in d:\\2. my workspace and notes\\1. demystify folders\\generativeai-demystified\\.venv\\lib\\site-packages (from markitdown) (1.20.0)\nRequirement already satisfied: beautifulsoup4 in d:\\2. my workspace and notes\\1. demystify folders\\generativeai-demystified\\.venv\\lib\\site-packages (from markitdown) (4.13.3)\nRequirement already satisfied: charset-normalizer in d:\\2. my workspace and notes\\1. demystify folders\\generativeai-demystified\\.venv\\lib\\site-packages (from markitdown) (3.4.1)\nRequirement already satisfied: mammoth in d:\\2. my workspace and notes\\1. demystify folders\\generativeai-demystified\\.venv\\lib\\site-packages (from markitdown) (1.9.0)\nRequirement already satisfied: markdownify in d:\\2. my workspace and notes\\1. demystify folders\\generativeai-demystified\\.venv\\lib\\site-packages (from markitdown) (0.14.1)\nRequirement already satisfied: numpy in d:\\2. my workspace and notes\\1. demystify folders\\generativeai-demystified\\.venv\\lib\\site-packages (from markitdown) (2.2.3)\nRequirement already satisfied: olefile in d:\\2. my workspace and notes\\1. demystify folders\\generativeai-demystified\\.venv\\lib\\site-packages (from markitdown) (0.47)\nRequirement already satisfied: openai in d:\\2. my workspace and notes\\1. demystify folders\\generativeai-demystified\\.venv\\lib\\site-packages (from markitdown) (1.63.2)\nRequirement already satisfied: openpyxl in d:\\2. my workspace and notes\\1. demystify folders\\generativeai-demystified\\.venv\\lib\\site-packages (from markitdown) (3.1.5)\nRequirement already satisfied: pandas in d:\\2. my workspace and notes\\1. demystify folders\\generativeai-demystified\\.venv\\lib\\site-packages (from markitdown) (2.2.3)\nRequirement already satisfied: pathvalidate in d:\\2. my workspace and notes\\1. demystify folders\\generativeai-demystified\\.venv\\lib\\site-packages (from markitdown) (3.2.3)\nRequirement already satisfied: pdfminer-six in d:\\2. my workspace and notes\\1. demystify folders\\generativeai-demystified\\.venv\\lib\\site-packages (from markitdown) (20240706)\nRequirement already satisfied: puremagic in d:\\2. my workspace and notes\\1. demystify folders\\generativeai-demystified\\.venv\\lib\\site-packages (from markitdown) (1.28)\nRequirement already satisfied: pydub in d:\\2. my workspace and notes\\1. demystify folders\\generativeai-demystified\\.venv\\lib\\site-packages (from markitdown) (0.25.1)\nRequirement already satisfied: python-pptx in d:\\2. my workspace and notes\\1. demystify folders\\generativeai-demystified\\.venv\\lib\\site-packages (from markitdown) (1.0.2)\nRequirement already satisfied: requests in d:\\2. my workspace and notes\\1. demystify folders\\generativeai-demystified\\.venv\\lib\\site-packages (from markitdown) (2.32.3)\nRequirement already satisfied: speechrecognition in d:\\2. my workspace and notes\\1. demystify folders\\generativeai-demystified\\.venv\\lib\\site-packages (from markitdown) (3.14.1)\nRequirement already satisfied: xlrd in d:\\2. my workspace and notes\\1. demystify folders\\generativeai-demystified\\.venv\\lib\\site-packages (from markitdown) (2.0.1)\nRequirement already satisfied: youtube-transcript-api in d:\\2. my workspace and notes\\1. demystify folders\\generativeai-demystified\\.venv\\lib\\site-packages (from markitdown) (0.6.3)\nRequirement already satisfied: isodate>=0.6.1 in d:\\2. my workspace and notes\\1. demystify folders\\generativeai-demystified\\.venv\\lib\\site-packages (from azure-ai-documentintelligence->markitdown) (0.7.2)\nRequirement already satisfied: azure-core>=1.30.0 in d:\\2. my workspace and notes\\1. demystify folders\\generativeai-demystified\\.venv\\lib\\site-packages (from azure-ai-documentintelligence->markitdown) (1.32.0)\nRequirement already satisfied: typing-extensions>=4.6.0 in d:\\2. my workspace and notes\\1. demystify folders\\generativeai-demystified\\.venv\\lib\\site-packages (from azure-ai-documentintelligence->markitdown) (4.12.2)\nRequirement already satisfied: cryptography>=2.5 in d:\\2. my workspace and notes\\1. demystify folders\\generativeai-demystified\\.venv\\lib\\site-packages (from azure-identity->markitdown) (44.0.1)\nRequirement already satisfied: msal>=1.30.0 in d:\\2. my workspace and notes\\1. demystify folders\\generativeai-demystified\\.venv\\lib\\site-packages (from azure-identity->markitdown) (1.31.1)\nRequirement already satisfied: msal-extensions>=1.2.0 in d:\\2. my workspace and notes\\1. demystify folders\\generativeai-demystified\\.venv\\lib\\site-packages (from azure-identity->markitdown) (1.2.0)\nRequirement already satisfied: soupsieve>1.2 in d:\\2. my workspace and notes\\1. demystify folders\\generativeai-demystified\\.venv\\lib\\site-packages (from beautifulsoup4->markitdown) (2.6)\nRequirement already satisfied: cobble<0.2,>=0.1.3 in d:\\2. my workspace and notes\\1. demystify folders\\generativeai-demystified\\.venv\\lib\\site-packages (from mammoth->markitdown) (0.1.4)\nRequirement already satisfied: six<2,>=1.15 in d:\\2. my workspace and notes\\1. demystify folders\\generativeai-demystified\\.venv\\lib\\site-packages (from markdownify->markitdown) (1.17.0)\nRequirement already satisfied: anyio<5,>=3.5.0 in d:\\2. my workspace and notes\\1. demystify folders\\generativeai-demystified\\.venv\\lib\\site-packages (from openai->markitdown) (4.8.0)\nRequirement already satisfied: distro<2,>=1.7.0 in d:\\2. my workspace and notes\\1. demystify folders\\generativeai-demystified\\.venv\\lib\\site-packages (from openai->markitdown) (1.9.0)\nRequirement already satisfied: httpx<1,>=0.23.0 in d:\\2. my workspace and notes\\1. demystify folders\\generativeai-demystified\\.venv\\lib\\site-packages (from openai->markitdown) (0.28.1)\nRequirement already satisfied: jiter<1,>=0.4.0 in d:\\2. my workspace and notes\\1. demystify folders\\generativeai-demystified\\.venv\\lib\\site-packages (from openai->markitdown) (0.8.2)\nRequirement already satisfied: pydantic<3,>=1.9.0 in d:\\2. my workspace and notes\\1. demystify folders\\generativeai-demystified\\.venv\\lib\\site-packages (from openai->markitdown) (2.10.6)\nRequirement already satisfied: sniffio in d:\\2. my workspace and notes\\1. demystify folders\\generativeai-demystified\\.venv\\lib\\site-packages (from openai->markitdown) (1.3.1)\nRequirement already satisfied: tqdm>4 in d:\\2. my workspace and notes\\1. demystify folders\\generativeai-demystified\\.venv\\lib\\site-packages (from openai->markitdown) (4.67.1)\nRequirement already satisfied: et-xmlfile in d:\\2. my workspace and notes\\1. demystify folders\\generativeai-demystified\\.venv\\lib\\site-packages (from openpyxl->markitdown) (2.0.0)\nRequirement already satisfied: python-dateutil>=2.8.2 in d:\\2. my workspace and notes\\1. demystify folders\\generativeai-demystified\\.venv\\lib\\site-packages (from pandas->markitdown) (2.9.0.post0)\nRequirement already satisfied: pytz>=2020.1 in d:\\2. my workspace and notes\\1. demystify folders\\generativeai-demystified\\.venv\\lib\\site-packages (from pandas->markitdown) (2025.1)\nRequirement already satisfied: tzdata>=2022.7 in d:\\2. my workspace and notes\\1. demystify folders\\generativeai-demystified\\.venv\\lib\\site-packages (from pandas->markitdown) (2025.1)\nRequirement already satisfied: Pillow>=3.3.2 in d:\\2. my workspace and notes\\1. demystify folders\\generativeai-demystified\\.venv\\lib\\site-packages (from python-pptx->markitdown) (11.1.0)\nRequirement already satisfied: XlsxWriter>=0.5.7 in d:\\2. my workspace and notes\\1. demystify folders\\generativeai-demystified\\.venv\\lib\\site-packages (from python-pptx->markitdown) (3.2.2)\nRequirement already satisfied: lxml>=3.1.0 in d:\\2. my workspace and notes\\1. demystify folders\\generativeai-demystified\\.venv\\lib\\site-packages (from python-pptx->markitdown) (5.3.1)\nRequirement already satisfied: idna<4,>=2.5 in d:\\2. my workspace and notes\\1. demystify folders\\generativeai-demystified\\.venv\\lib\\site-packages (from requests->markitdown) (3.10)\nRequirement already satisfied: urllib3<3,>=1.21.1 in d:\\2. my workspace and notes\\1. demystify folders\\generativeai-demystified\\.venv\\lib\\site-packages (from requests->markitdown) (2.3.0)\nRequirement already satisfied: certifi>=2017.4.17 in d:\\2. my workspace and notes\\1. demystify folders\\generativeai-demystified\\.venv\\lib\\site-packages (from requests->markitdown) (2025.1.31)\nRequirement already satisfied: standard-aifc in d:\\2. my workspace and notes\\1. demystify folders\\generativeai-demystified\\.venv\\lib\\site-packages (from speechrecognition->markitdown) (3.13.0)\nRequirement already satisfied: audioop-lts in d:\\2. my workspace and notes\\1. demystify folders\\generativeai-demystified\\.venv\\lib\\site-packages (from speechrecognition->markitdown) (0.2.1)\nRequirement already satisfied: defusedxml<0.8.0,>=0.7.1 in d:\\2. my workspace and notes\\1. demystify folders\\generativeai-demystified\\.venv\\lib\\site-packages (from youtube-transcript-api->markitdown) (0.7.1)\nRequirement already satisfied: cffi>=1.12 in d:\\2. my workspace and notes\\1. demystify folders\\generativeai-demystified\\.venv\\lib\\site-packages (from cryptography>=2.5->azure-identity->markitdown) (1.17.1)\nRequirement already satisfied: httpcore==1.* in d:\\2. my workspace and notes\\1. demystify folders\\generativeai-demystified\\.venv\\lib\\site-packages (from httpx<1,>=0.23.0->openai->markitdown) (1.0.7)\nRequirement already satisfied: h11<0.15,>=0.13 in d:\\2. my workspace and notes\\1. demystify folders\\generativeai-demystified\\.venv\\lib\\site-packages (from httpcore==1.*->httpx<1,>=0.23.0->openai->markitdown) (0.14.0)\nRequirement already satisfied: PyJWT<3,>=1.0.0 in d:\\2. my workspace and notes\\1. demystify folders\\generativeai-demystified\\.venv\\lib\\site-packages (from PyJWT[crypto]<3,>=1.0.0->msal>=1.30.0->azure-identity->markitdown) (2.10.1)\nRequirement already satisfied: portalocker<3,>=1.4 in d:\\2. my workspace and notes\\1. demystify folders\\generativeai-demystified\\.venv\\lib\\site-packages (from msal-extensions>=1.2.0->azure-identity->markitdown) (2.10.1)\nRequirement already satisfied: annotated-types>=0.6.0 in d:\\2. my workspace and notes\\1. demystify folders\\generativeai-demystified\\.venv\\lib\\site-packages (from pydantic<3,>=1.9.0->openai->markitdown) (0.7.0)\nRequirement already satisfied: pydantic-core==2.27.2 in d:\\2. my workspace and notes\\1. demystify folders\\generativeai-demystified\\.venv\\lib\\site-packages (from pydantic<3,>=1.9.0->openai->markitdown) (2.27.2)\nRequirement already satisfied: colorama in d:\\2. my workspace and notes\\1. demystify folders\\generativeai-demystified\\.venv\\lib\\site-packages (from tqdm>4->openai->markitdown) (0.4.6)\nRequirement already satisfied: standard-chunk in d:\\2. my workspace and notes\\1. demystify folders\\generativeai-demystified\\.venv\\lib\\site-packages (from standard-aifc->speechrecognition->markitdown) (3.13.0)\nRequirement already satisfied: pycparser in d:\\2. my workspace and notes\\1. demystify folders\\generativeai-demystified\\.venv\\lib\\site-packages (from cffi>=1.12->cryptography>=2.5->azure-identity->markitdown) (2.22)\nRequirement already satisfied: pywin32>=226 in d:\\2. my workspace and notes\\1. demystify folders\\generativeai-demystified\\.venv\\lib\\site-packages (from portalocker<3,>=1.4->msal-extensions>=1.2.0->azure-identity->markitdown) (308)\n"
     ]
    }
   ],
   "source": [
    "!pip install markitdown"
   ]
  },
  {
   "cell_type": "markdown",
   "metadata": {
    "application/vnd.databricks.v1+cell": {
     "cellMetadata": {},
     "inputWidgets": {},
     "nuid": "c0e46fc9-170e-466b-9e24-556f5b71dd97",
     "showTitle": false,
     "tableResultSettingsMap": {},
     "title": ""
    },
    "id": "H9c37cLnSrbg"
   },
   "source": [
    "## Enter Open AI API Key"
   ]
  },
  {
   "cell_type": "code",
   "execution_count": 0,
   "metadata": {
    "application/vnd.databricks.v1+cell": {
     "cellMetadata": {},
     "inputWidgets": {},
     "nuid": "b112b8c8-af49-4236-b24c-2544e0065b39",
     "showTitle": false,
     "tableResultSettingsMap": {},
     "title": ""
    },
    "colab": {
     "base_uri": "https://localhost:8080/"
    },
    "id": "cv3JzCEx_PAd",
    "outputId": "3e7a5d36-2bd9-49d8-88bc-5753c36d235c"
   },
   "outputs": [],
   "source": [
    "from getpass import getpass\n",
    "\n",
    "OPENAI_KEY = getpass('Enter Open AI API Key: ')"
   ]
  },
  {
   "cell_type": "markdown",
   "metadata": {
    "application/vnd.databricks.v1+cell": {
     "cellMetadata": {},
     "inputWidgets": {},
     "nuid": "063b8a3b-a260-4545-9b5b-bcfbe2e2e952",
     "showTitle": false,
     "tableResultSettingsMap": {},
     "title": ""
    },
    "id": "ucWRRI3QztL2"
   },
   "source": [
    "## Enter Tavily Search API Key\n",
    "\n",
    "Get a free API key from [here](https://tavily.com/#api)"
   ]
  },
  {
   "cell_type": "code",
   "execution_count": 0,
   "metadata": {
    "application/vnd.databricks.v1+cell": {
     "cellMetadata": {},
     "inputWidgets": {},
     "nuid": "eb4c2ad7-e289-491e-be47-40c9933c14ed",
     "showTitle": false,
     "tableResultSettingsMap": {},
     "title": ""
    },
    "colab": {
     "base_uri": "https://localhost:8080/"
    },
    "id": "mK-1WLzOrJdb",
    "outputId": "143b9b1d-9ae9-4ab1-e830-27bab3836ee2"
   },
   "outputs": [],
   "source": [
    "TAVILY_API_KEY = getpass('Enter Tavily Search API Key: ')"
   ]
  },
  {
   "cell_type": "markdown",
   "metadata": {
    "application/vnd.databricks.v1+cell": {
     "cellMetadata": {},
     "inputWidgets": {},
     "nuid": "a80e0c4b-243e-4925-bd30-a4350cfe3827",
     "showTitle": false,
     "tableResultSettingsMap": {},
     "title": ""
    },
    "id": "Ce5arICZEEov"
   },
   "source": [
    "## Enter WeatherAPI API Key\n",
    "\n",
    "Get a free API key from [here](https://www.weatherapi.com/signup.aspx)"
   ]
  },
  {
   "cell_type": "code",
   "execution_count": 0,
   "metadata": {
    "application/vnd.databricks.v1+cell": {
     "cellMetadata": {},
     "inputWidgets": {},
     "nuid": "7522ddec-76f3-4c47-ada1-0b7c4aef9773",
     "showTitle": false,
     "tableResultSettingsMap": {},
     "title": ""
    },
    "colab": {
     "base_uri": "https://localhost:8080/"
    },
    "id": "XpAMz1XgEEov",
    "outputId": "da1143c0-4243-4799-d76e-79e41dd8ea5f"
   },
   "outputs": [],
   "source": [
    "WEATHER_API_KEY = getpass('Enter WeatherAPI API Key: ')"
   ]
  },
  {
   "cell_type": "markdown",
   "metadata": {
    "application/vnd.databricks.v1+cell": {
     "cellMetadata": {},
     "inputWidgets": {},
     "nuid": "7c38f99b-0f78-45b5-92c0-732354ddb2ff",
     "showTitle": false,
     "tableResultSettingsMap": {},
     "title": ""
    },
    "id": "1T0s0um5Svfa"
   },
   "source": [
    "## Setup Environment Variables"
   ]
  },
  {
   "cell_type": "code",
   "execution_count": 0,
   "metadata": {
    "application/vnd.databricks.v1+cell": {
     "cellMetadata": {},
     "inputWidgets": {},
     "nuid": "739448b4-e74c-4303-aaaa-e3e4b3491912",
     "showTitle": false,
     "tableResultSettingsMap": {},
     "title": ""
    },
    "id": "x1YSuHNF_lbh"
   },
   "outputs": [],
   "source": [
    "import os\n",
    "\n",
    "os.environ['OPENAI_API_KEY'] = OPENAI_KEY\n",
    "os.environ['TAVILY_API_KEY'] = TAVILY_API_KEY"
   ]
  },
  {
   "cell_type": "markdown",
   "metadata": {
    "application/vnd.databricks.v1+cell": {
     "cellMetadata": {},
     "inputWidgets": {},
     "nuid": "3e0fae2b-e948-4964-9bdb-508d8e5f683a",
     "showTitle": false,
     "tableResultSettingsMap": {},
     "title": ""
    },
    "id": "howf-v0ARWbv"
   },
   "source": [
    "## Create Tools\n",
    "\n",
    "Here we create two custom tools which are wrappers on top of the [Tavily API](https://tavily.com/#api) and [WeatherAPI](https://www.weatherapi.com/)\n",
    "\n",
    "- Web Search tool with information extraction\n",
    "- Weather tool\n",
    "\n",
    "![](https://i.imgur.com/TyPAYXE.png)"
   ]
  },
  {
   "cell_type": "code",
   "execution_count": 0,
   "metadata": {
    "application/vnd.databricks.v1+cell": {
     "cellMetadata": {},
     "inputWidgets": {},
     "nuid": "8470a25c-b891-42c3-b4b6-bc6132704a52",
     "showTitle": false,
     "tableResultSettingsMap": {},
     "title": ""
    },
    "colab": {
     "base_uri": "https://localhost:8080/"
    },
    "id": "Ue8xgu9WpuPi",
    "outputId": "5f312771-4696-4ee6-9d37-6a890b73086d"
   },
   "outputs": [
    {
     "output_type": "display_data",
     "data": {
      "text/plain": [
       "\u001B[1;31m---------------------------------------------------------------------------\u001B[0m\n",
       "\u001B[1;31mValidationError\u001B[0m                           Traceback (most recent call last)\n",
       "Cell \u001B[1;32mIn[7], line 11\u001B[0m\n",
       "\u001B[0;32m      8\u001B[0m \u001B[38;5;28;01mfrom\u001B[39;00m\u001B[38;5;250m \u001B[39m\u001B[38;5;21;01mwarnings\u001B[39;00m\u001B[38;5;250m \u001B[39m\u001B[38;5;28;01mimport\u001B[39;00m filterwarnings\n",
       "\u001B[0;32m      9\u001B[0m filterwarnings(\u001B[38;5;124m'\u001B[39m\u001B[38;5;124mignore\u001B[39m\u001B[38;5;124m'\u001B[39m)\n",
       "\u001B[1;32m---> 11\u001B[0m tavily_tool \u001B[38;5;241m=\u001B[39m \u001B[43mTavilySearchResults\u001B[49m\u001B[43m(\u001B[49m\u001B[43mmax_results\u001B[49m\u001B[38;5;241;43m=\u001B[39;49m\u001B[38;5;241;43m5\u001B[39;49m\u001B[43m,\u001B[49m\n",
       "\u001B[0;32m     12\u001B[0m \u001B[43m                                  \u001B[49m\u001B[43msearch_depth\u001B[49m\u001B[38;5;241;43m=\u001B[39;49m\u001B[38;5;124;43m'\u001B[39;49m\u001B[38;5;124;43madvanced\u001B[39;49m\u001B[38;5;124;43m'\u001B[39;49m\u001B[43m,\u001B[49m\n",
       "\u001B[0;32m     13\u001B[0m \u001B[43m                                  \u001B[49m\u001B[43minclude_answer\u001B[49m\u001B[38;5;241;43m=\u001B[39;49m\u001B[38;5;28;43;01mFalse\u001B[39;49;00m\u001B[43m,\u001B[49m\n",
       "\u001B[0;32m     14\u001B[0m \u001B[43m                                  \u001B[49m\u001B[43minclude_raw_content\u001B[49m\u001B[38;5;241;43m=\u001B[39;49m\u001B[38;5;28;43;01mTrue\u001B[39;49;00m\u001B[43m)\u001B[49m\n",
       "\u001B[0;32m     15\u001B[0m \u001B[38;5;66;03m# certain websites won't let you crawl them unless you specify a user-agent\u001B[39;00m\n",
       "\u001B[0;32m     16\u001B[0m session \u001B[38;5;241m=\u001B[39m requests\u001B[38;5;241m.\u001B[39mSession()\n",
       "\n",
       "File \u001B[1;32md:\\2. My WorkSpace and Notes\\1. Demystify Folders\\GenerativeAI-Demystified\\.venv\\Lib\\site-packages\\langchain_core\\tools\\base.py:432\u001B[0m, in \u001B[0;36mBaseTool.__init__\u001B[1;34m(self, **kwargs)\u001B[0m\n",
       "\u001B[0;32m    427\u001B[0m     msg \u001B[38;5;241m=\u001B[39m (\n",
       "\u001B[0;32m    428\u001B[0m         \u001B[38;5;124mf\u001B[39m\u001B[38;5;124m\"\u001B[39m\u001B[38;5;124margs_schema must be a subclass of pydantic BaseModel. \u001B[39m\u001B[38;5;124m\"\u001B[39m\n",
       "\u001B[0;32m    429\u001B[0m         \u001B[38;5;124mf\u001B[39m\u001B[38;5;124m\"\u001B[39m\u001B[38;5;124mGot: \u001B[39m\u001B[38;5;132;01m{\u001B[39;00mkwargs[\u001B[38;5;124m'\u001B[39m\u001B[38;5;124margs_schema\u001B[39m\u001B[38;5;124m'\u001B[39m]\u001B[38;5;132;01m}\u001B[39;00m\u001B[38;5;124m.\u001B[39m\u001B[38;5;124m\"\u001B[39m\n",
       "\u001B[0;32m    430\u001B[0m     )\n",
       "\u001B[0;32m    431\u001B[0m     \u001B[38;5;28;01mraise\u001B[39;00m \u001B[38;5;167;01mTypeError\u001B[39;00m(msg)\n",
       "\u001B[1;32m--> 432\u001B[0m \u001B[38;5;28;43msuper\u001B[39;49m\u001B[43m(\u001B[49m\u001B[43m)\u001B[49m\u001B[38;5;241;43m.\u001B[39;49m\u001B[38;5;21;43m__init__\u001B[39;49m\u001B[43m(\u001B[49m\u001B[38;5;241;43m*\u001B[39;49m\u001B[38;5;241;43m*\u001B[39;49m\u001B[43mkwargs\u001B[49m\u001B[43m)\u001B[49m\n",
       "\n",
       "File \u001B[1;32md:\\2. My WorkSpace and Notes\\1. Demystify Folders\\GenerativeAI-Demystified\\.venv\\Lib\\site-packages\\langchain_core\\load\\serializable.py:125\u001B[0m, in \u001B[0;36mSerializable.__init__\u001B[1;34m(self, *args, **kwargs)\u001B[0m\n",
       "\u001B[0;32m    123\u001B[0m \u001B[38;5;28;01mdef\u001B[39;00m\u001B[38;5;250m \u001B[39m\u001B[38;5;21m__init__\u001B[39m(\u001B[38;5;28mself\u001B[39m, \u001B[38;5;241m*\u001B[39margs: Any, \u001B[38;5;241m*\u001B[39m\u001B[38;5;241m*\u001B[39mkwargs: Any) \u001B[38;5;241m-\u001B[39m\u001B[38;5;241m>\u001B[39m \u001B[38;5;28;01mNone\u001B[39;00m:\n",
       "\u001B[0;32m    124\u001B[0m \u001B[38;5;250m    \u001B[39m\u001B[38;5;124;03m\"\"\"\"\"\"\u001B[39;00m\n",
       "\u001B[1;32m--> 125\u001B[0m     \u001B[38;5;28;43msuper\u001B[39;49m\u001B[43m(\u001B[49m\u001B[43m)\u001B[49m\u001B[38;5;241;43m.\u001B[39;49m\u001B[38;5;21;43m__init__\u001B[39;49m\u001B[43m(\u001B[49m\u001B[38;5;241;43m*\u001B[39;49m\u001B[43margs\u001B[49m\u001B[43m,\u001B[49m\u001B[43m \u001B[49m\u001B[38;5;241;43m*\u001B[39;49m\u001B[38;5;241;43m*\u001B[39;49m\u001B[43mkwargs\u001B[49m\u001B[43m)\u001B[49m\n",
       "\n",
       "    \u001B[1;31m[... skipping hidden 1 frame]\u001B[0m\n",
       "\n",
       "File \u001B[1;32md:\\2. My WorkSpace and Notes\\1. Demystify Folders\\GenerativeAI-Demystified\\.venv\\Lib\\site-packages\\pydantic\\main.py:214\u001B[0m, in \u001B[0;36mBaseModel.__init__\u001B[1;34m(self, **data)\u001B[0m\n",
       "\u001B[0;32m    212\u001B[0m \u001B[38;5;66;03m# `__tracebackhide__` tells pytest and some other tools to omit this function from tracebacks\u001B[39;00m\n",
       "\u001B[0;32m    213\u001B[0m __tracebackhide__ \u001B[38;5;241m=\u001B[39m \u001B[38;5;28;01mTrue\u001B[39;00m\n",
       "\u001B[1;32m--> 214\u001B[0m validated_self \u001B[38;5;241m=\u001B[39m \u001B[38;5;28;43mself\u001B[39;49m\u001B[38;5;241;43m.\u001B[39;49m\u001B[43m__pydantic_validator__\u001B[49m\u001B[38;5;241;43m.\u001B[39;49m\u001B[43mvalidate_python\u001B[49m\u001B[43m(\u001B[49m\u001B[43mdata\u001B[49m\u001B[43m,\u001B[49m\u001B[43m \u001B[49m\u001B[43mself_instance\u001B[49m\u001B[38;5;241;43m=\u001B[39;49m\u001B[38;5;28;43mself\u001B[39;49m\u001B[43m)\u001B[49m\n",
       "\u001B[0;32m    215\u001B[0m \u001B[38;5;28;01mif\u001B[39;00m \u001B[38;5;28mself\u001B[39m \u001B[38;5;129;01mis\u001B[39;00m \u001B[38;5;129;01mnot\u001B[39;00m validated_self:\n",
       "\u001B[0;32m    216\u001B[0m     warnings\u001B[38;5;241m.\u001B[39mwarn(\n",
       "\u001B[0;32m    217\u001B[0m         \u001B[38;5;124m'\u001B[39m\u001B[38;5;124mA custom validator is returning a value other than `self`.\u001B[39m\u001B[38;5;130;01m\\n\u001B[39;00m\u001B[38;5;124m'\u001B[39m\n",
       "\u001B[0;32m    218\u001B[0m         \u001B[38;5;124m\"\u001B[39m\u001B[38;5;124mReturning anything other than `self` from a top level model validator isn\u001B[39m\u001B[38;5;124m'\u001B[39m\u001B[38;5;124mt supported when validating via `__init__`.\u001B[39m\u001B[38;5;130;01m\\n\u001B[39;00m\u001B[38;5;124m\"\u001B[39m\n",
       "\u001B[0;32m    219\u001B[0m         \u001B[38;5;124m'\u001B[39m\u001B[38;5;124mSee the `model_validator` docs (https://docs.pydantic.dev/latest/concepts/validators/#model-validators) for more details.\u001B[39m\u001B[38;5;124m'\u001B[39m,\n",
       "\u001B[0;32m    220\u001B[0m         stacklevel\u001B[38;5;241m=\u001B[39m\u001B[38;5;241m2\u001B[39m,\n",
       "\u001B[0;32m    221\u001B[0m     )\n",
       "\n",
       "\u001B[1;31mValidationError\u001B[0m: 1 validation error for TavilySearchAPIWrapper\n",
       "  Value error, Did not find tavily_api_key, please add an environment variable `TAVILY_API_KEY` which contains it, or pass `tavily_api_key` as a named parameter. [type=value_error, input_value={}, input_type=dict]\n",
       "    For further information visit https://errors.pydantic.dev/2.10/v/value_error"
      ]
     },
     "metadata": {
      "application/vnd.databricks.v1+output": {
       "arguments": {},
       "data": "\u001B[1;31m---------------------------------------------------------------------------\u001B[0m\n\u001B[1;31mValidationError\u001B[0m                           Traceback (most recent call last)\nCell \u001B[1;32mIn[7], line 11\u001B[0m\n\u001B[0;32m      8\u001B[0m \u001B[38;5;28;01mfrom\u001B[39;00m\u001B[38;5;250m \u001B[39m\u001B[38;5;21;01mwarnings\u001B[39;00m\u001B[38;5;250m \u001B[39m\u001B[38;5;28;01mimport\u001B[39;00m filterwarnings\n\u001B[0;32m      9\u001B[0m filterwarnings(\u001B[38;5;124m'\u001B[39m\u001B[38;5;124mignore\u001B[39m\u001B[38;5;124m'\u001B[39m)\n\u001B[1;32m---> 11\u001B[0m tavily_tool \u001B[38;5;241m=\u001B[39m \u001B[43mTavilySearchResults\u001B[49m\u001B[43m(\u001B[49m\u001B[43mmax_results\u001B[49m\u001B[38;5;241;43m=\u001B[39;49m\u001B[38;5;241;43m5\u001B[39;49m\u001B[43m,\u001B[49m\n\u001B[0;32m     12\u001B[0m \u001B[43m                                  \u001B[49m\u001B[43msearch_depth\u001B[49m\u001B[38;5;241;43m=\u001B[39;49m\u001B[38;5;124;43m'\u001B[39;49m\u001B[38;5;124;43madvanced\u001B[39;49m\u001B[38;5;124;43m'\u001B[39;49m\u001B[43m,\u001B[49m\n\u001B[0;32m     13\u001B[0m \u001B[43m                                  \u001B[49m\u001B[43minclude_answer\u001B[49m\u001B[38;5;241;43m=\u001B[39;49m\u001B[38;5;28;43;01mFalse\u001B[39;49;00m\u001B[43m,\u001B[49m\n\u001B[0;32m     14\u001B[0m \u001B[43m                                  \u001B[49m\u001B[43minclude_raw_content\u001B[49m\u001B[38;5;241;43m=\u001B[39;49m\u001B[38;5;28;43;01mTrue\u001B[39;49;00m\u001B[43m)\u001B[49m\n\u001B[0;32m     15\u001B[0m \u001B[38;5;66;03m# certain websites won't let you crawl them unless you specify a user-agent\u001B[39;00m\n\u001B[0;32m     16\u001B[0m session \u001B[38;5;241m=\u001B[39m requests\u001B[38;5;241m.\u001B[39mSession()\n\nFile \u001B[1;32md:\\2. My WorkSpace and Notes\\1. Demystify Folders\\GenerativeAI-Demystified\\.venv\\Lib\\site-packages\\langchain_core\\tools\\base.py:432\u001B[0m, in \u001B[0;36mBaseTool.__init__\u001B[1;34m(self, **kwargs)\u001B[0m\n\u001B[0;32m    427\u001B[0m     msg \u001B[38;5;241m=\u001B[39m (\n\u001B[0;32m    428\u001B[0m         \u001B[38;5;124mf\u001B[39m\u001B[38;5;124m\"\u001B[39m\u001B[38;5;124margs_schema must be a subclass of pydantic BaseModel. \u001B[39m\u001B[38;5;124m\"\u001B[39m\n\u001B[0;32m    429\u001B[0m         \u001B[38;5;124mf\u001B[39m\u001B[38;5;124m\"\u001B[39m\u001B[38;5;124mGot: \u001B[39m\u001B[38;5;132;01m{\u001B[39;00mkwargs[\u001B[38;5;124m'\u001B[39m\u001B[38;5;124margs_schema\u001B[39m\u001B[38;5;124m'\u001B[39m]\u001B[38;5;132;01m}\u001B[39;00m\u001B[38;5;124m.\u001B[39m\u001B[38;5;124m\"\u001B[39m\n\u001B[0;32m    430\u001B[0m     )\n\u001B[0;32m    431\u001B[0m     \u001B[38;5;28;01mraise\u001B[39;00m \u001B[38;5;167;01mTypeError\u001B[39;00m(msg)\n\u001B[1;32m--> 432\u001B[0m \u001B[38;5;28;43msuper\u001B[39;49m\u001B[43m(\u001B[49m\u001B[43m)\u001B[49m\u001B[38;5;241;43m.\u001B[39;49m\u001B[38;5;21;43m__init__\u001B[39;49m\u001B[43m(\u001B[49m\u001B[38;5;241;43m*\u001B[39;49m\u001B[38;5;241;43m*\u001B[39;49m\u001B[43mkwargs\u001B[49m\u001B[43m)\u001B[49m\n\nFile \u001B[1;32md:\\2. My WorkSpace and Notes\\1. Demystify Folders\\GenerativeAI-Demystified\\.venv\\Lib\\site-packages\\langchain_core\\load\\serializable.py:125\u001B[0m, in \u001B[0;36mSerializable.__init__\u001B[1;34m(self, *args, **kwargs)\u001B[0m\n\u001B[0;32m    123\u001B[0m \u001B[38;5;28;01mdef\u001B[39;00m\u001B[38;5;250m \u001B[39m\u001B[38;5;21m__init__\u001B[39m(\u001B[38;5;28mself\u001B[39m, \u001B[38;5;241m*\u001B[39margs: Any, \u001B[38;5;241m*\u001B[39m\u001B[38;5;241m*\u001B[39mkwargs: Any) \u001B[38;5;241m-\u001B[39m\u001B[38;5;241m>\u001B[39m \u001B[38;5;28;01mNone\u001B[39;00m:\n\u001B[0;32m    124\u001B[0m \u001B[38;5;250m    \u001B[39m\u001B[38;5;124;03m\"\"\"\"\"\"\u001B[39;00m\n\u001B[1;32m--> 125\u001B[0m     \u001B[38;5;28;43msuper\u001B[39;49m\u001B[43m(\u001B[49m\u001B[43m)\u001B[49m\u001B[38;5;241;43m.\u001B[39;49m\u001B[38;5;21;43m__init__\u001B[39;49m\u001B[43m(\u001B[49m\u001B[38;5;241;43m*\u001B[39;49m\u001B[43margs\u001B[49m\u001B[43m,\u001B[49m\u001B[43m \u001B[49m\u001B[38;5;241;43m*\u001B[39;49m\u001B[38;5;241;43m*\u001B[39;49m\u001B[43mkwargs\u001B[49m\u001B[43m)\u001B[49m\n\n    \u001B[1;31m[... skipping hidden 1 frame]\u001B[0m\n\nFile \u001B[1;32md:\\2. My WorkSpace and Notes\\1. Demystify Folders\\GenerativeAI-Demystified\\.venv\\Lib\\site-packages\\pydantic\\main.py:214\u001B[0m, in \u001B[0;36mBaseModel.__init__\u001B[1;34m(self, **data)\u001B[0m\n\u001B[0;32m    212\u001B[0m \u001B[38;5;66;03m# `__tracebackhide__` tells pytest and some other tools to omit this function from tracebacks\u001B[39;00m\n\u001B[0;32m    213\u001B[0m __tracebackhide__ \u001B[38;5;241m=\u001B[39m \u001B[38;5;28;01mTrue\u001B[39;00m\n\u001B[1;32m--> 214\u001B[0m validated_self \u001B[38;5;241m=\u001B[39m \u001B[38;5;28;43mself\u001B[39;49m\u001B[38;5;241;43m.\u001B[39;49m\u001B[43m__pydantic_validator__\u001B[49m\u001B[38;5;241;43m.\u001B[39;49m\u001B[43mvalidate_python\u001B[49m\u001B[43m(\u001B[49m\u001B[43mdata\u001B[49m\u001B[43m,\u001B[49m\u001B[43m \u001B[49m\u001B[43mself_instance\u001B[49m\u001B[38;5;241;43m=\u001B[39;49m\u001B[38;5;28;43mself\u001B[39;49m\u001B[43m)\u001B[49m\n\u001B[0;32m    215\u001B[0m \u001B[38;5;28;01mif\u001B[39;00m \u001B[38;5;28mself\u001B[39m \u001B[38;5;129;01mis\u001B[39;00m \u001B[38;5;129;01mnot\u001B[39;00m validated_self:\n\u001B[0;32m    216\u001B[0m     warnings\u001B[38;5;241m.\u001B[39mwarn(\n\u001B[0;32m    217\u001B[0m         \u001B[38;5;124m'\u001B[39m\u001B[38;5;124mA custom validator is returning a value other than `self`.\u001B[39m\u001B[38;5;130;01m\\n\u001B[39;00m\u001B[38;5;124m'\u001B[39m\n\u001B[0;32m    218\u001B[0m         \u001B[38;5;124m\"\u001B[39m\u001B[38;5;124mReturning anything other than `self` from a top level model validator isn\u001B[39m\u001B[38;5;124m'\u001B[39m\u001B[38;5;124mt supported when validating via `__init__`.\u001B[39m\u001B[38;5;130;01m\\n\u001B[39;00m\u001B[38;5;124m\"\u001B[39m\n\u001B[0;32m    219\u001B[0m         \u001B[38;5;124m'\u001B[39m\u001B[38;5;124mSee the `model_validator` docs (https://docs.pydantic.dev/latest/concepts/validators/#model-validators) for more details.\u001B[39m\u001B[38;5;124m'\u001B[39m,\n\u001B[0;32m    220\u001B[0m         stacklevel\u001B[38;5;241m=\u001B[39m\u001B[38;5;241m2\u001B[39m,\n\u001B[0;32m    221\u001B[0m     )\n\n\u001B[1;31mValidationError\u001B[0m: 1 validation error for TavilySearchAPIWrapper\n  Value error, Did not find tavily_api_key, please add an environment variable `TAVILY_API_KEY` which contains it, or pass `tavily_api_key` as a named parameter. [type=value_error, input_value={}, input_type=dict]\n    For further information visit https://errors.pydantic.dev/2.10/v/value_error",
       "errorSummary": "<span class='ansi-red-fg'>ValidationError</span>: 1 validation error for TavilySearchAPIWrapper\n  Value error, Did not find tavily_api_key, please add an environment variable `TAVILY_API_KEY` which contains it, or pass `tavily_api_key` as a named parameter. [type=value_error, input_value={}, input_type=dict]\n    For further information visit https://errors.pydantic.dev/2.10/v/value_error",
       "errorTraceType": "ansi",
       "metadata": {},
       "type": "ipynbError"
      }
     },
     "output_type": "display_data"
    }
   ],
   "source": [
    "from langchain_core.tools import tool\n",
    "from markitdown import MarkItDown\n",
    "from langchain_community.tools.tavily_search import TavilySearchResults\n",
    "from tqdm import tqdm\n",
    "from concurrent.futures import ThreadPoolExecutor, TimeoutError\n",
    "import requests\n",
    "import json\n",
    "from warnings import filterwarnings\n",
    "filterwarnings('ignore')\n",
    "\n",
    "tavily_tool = TavilySearchResults(max_results=5,\n",
    "                                  search_depth='advanced',\n",
    "                                  include_answer=False,\n",
    "                                  include_raw_content=True)\n",
    "# certain websites won't let you crawl them unless you specify a user-agent\n",
    "session = requests.Session()\n",
    "session.headers.update({\n",
    "    \"User-Agent\": \"Mozilla/5.0 (Windows NT 10.0; Win64; x64) AppleWebKit/537.36 (KHTML, like Gecko) Chrome/112.0.0.0 Safari/537.36\",\n",
    "    \"Accept-Language\": \"en-US,en;q=0.9\",\n",
    "    \"Accept-Encoding\": \"gzip, deflate, br\"\n",
    "})\n",
    "md = MarkItDown(requests_session=session)\n",
    "\n",
    "@tool\n",
    "def search_web_extract_info(query: str) -> list:\n",
    "    \"\"\"Search the web for a query and extracts useful information from the search links.\"\"\"\n",
    "    print('Calling web search tool')\n",
    "    results = tavily_tool.invoke(query)\n",
    "    docs = []\n",
    "\n",
    "    def extract_content(url):\n",
    "        \"\"\"Helper function to extract content from a URL.\"\"\"\n",
    "        extracted_info = md.convert(url)\n",
    "        text_title = extracted_info.title.strip()\n",
    "        text_content = extracted_info.text_content.strip()\n",
    "        return text_title + '\\n' + text_content\n",
    "    # parallelize execution of different urls\n",
    "    with ThreadPoolExecutor() as executor:\n",
    "        for result in tqdm(results):\n",
    "            try:\n",
    "                future = executor.submit(extract_content, result['url'])\n",
    "                # Wait for up to 15 seconds for the task to complete\n",
    "                content = future.result(timeout=15)\n",
    "                docs.append(content)\n",
    "            except TimeoutError:\n",
    "                print(f\"Extraction timed out for url: {result['url']}\")\n",
    "            except Exception as e:\n",
    "                print(f\"Error extracting from url: {result['url']} - {e}\")\n",
    "\n",
    "    return docs\n",
    "\n",
    "\n",
    "@tool\n",
    "def get_weather(query: str) -> list:\n",
    "    \"\"\"Search weatherapi to get the current weather of the queried location.\"\"\"\n",
    "    print('Calling weather tool')\n",
    "    base_url = \"http://api.weatherapi.com/v1/current.json\"\n",
    "    complete_url = f\"{base_url}?key={WEATHER_API_KEY}&q={query}\"\n",
    "\n",
    "    response = requests.get(complete_url)\n",
    "    data = response.json()\n",
    "    if data.get(\"location\"):\n",
    "        return data\n",
    "    else:\n",
    "        return \"Weather Data Not Found\""
   ]
  },
  {
   "cell_type": "markdown",
   "metadata": {
    "application/vnd.databricks.v1+cell": {
     "cellMetadata": {},
     "inputWidgets": {},
     "nuid": "87dc186b-b202-4163-8991-d2e7a7b59b35",
     "showTitle": false,
     "tableResultSettingsMap": {},
     "title": ""
    },
    "id": "D2N5192vikJR"
   },
   "source": [
    "## Test Tool Calling with LLM"
   ]
  },
  {
   "cell_type": "code",
   "execution_count": 0,
   "metadata": {
    "application/vnd.databricks.v1+cell": {
     "cellMetadata": {},
     "inputWidgets": {},
     "nuid": "50c738be-8d92-491b-bf9f-313f9d9ec1be",
     "showTitle": false,
     "tableResultSettingsMap": {},
     "title": ""
    },
    "id": "_B2EFrwTpuXB"
   },
   "outputs": [],
   "source": [
    "from langchain_openai import ChatOpenAI\n",
    "\n",
    "chatgpt = ChatOpenAI(model=\"gpt-4o\", temperature=0)\n",
    "tools = [search_web_extract_info, get_weather]\n",
    "\n",
    "chatgpt_with_tools = chatgpt.bind_tools(tools)"
   ]
  },
  {
   "cell_type": "code",
   "execution_count": 0,
   "metadata": {
    "application/vnd.databricks.v1+cell": {
     "cellMetadata": {},
     "inputWidgets": {},
     "nuid": "87cef874-2ef0-4362-aed6-ddb504015a86",
     "showTitle": false,
     "tableResultSettingsMap": {},
     "title": ""
    },
    "colab": {
     "base_uri": "https://localhost:8080/"
    },
    "id": "W0rVVBGDpuYw",
    "outputId": "95231440-d9de-4c58-a536-e05d67e0f279"
   },
   "outputs": [
    {
     "output_type": "execute_result",
     "data": {
      "text/plain": [
       "[{'name': 'search_web_extract_info',\n",
       "  'args': {'query': 'Microsoft earnings call Q4 2024 details'},\n",
       "  'id': 'call_JbExenn37WbQ4P5K3PznrYzw',\n",
       "  'type': 'tool_call'}]"
      ]
     },
     "execution_count": 9,
     "metadata": {},
     "output_type": "execute_result"
    }
   ],
   "source": [
    "prompt = \"Get details of Microsoft's earnings call Q4 2024\"\n",
    "response = chatgpt_with_tools.invoke(prompt)\n",
    "response.tool_calls"
   ]
  },
  {
   "cell_type": "code",
   "execution_count": 0,
   "metadata": {
    "application/vnd.databricks.v1+cell": {
     "cellMetadata": {},
     "inputWidgets": {},
     "nuid": "ae7b70da-5dbb-44aa-8a90-cc2224fa59d8",
     "showTitle": false,
     "tableResultSettingsMap": {},
     "title": ""
    },
    "colab": {
     "base_uri": "https://localhost:8080/"
    },
    "id": "9qfchhGEpuaj",
    "outputId": "d4674863-91c3-44ea-8a7e-67121e208f3b"
   },
   "outputs": [
    {
     "output_type": "execute_result",
     "data": {
      "text/plain": [
       "[{'name': 'get_weather',\n",
       "  'args': {'query': 'Bangalore'},\n",
       "  'id': 'call_shdm3EoSFkZTbx0ky5W4wMeK',\n",
       "  'type': 'tool_call'}]"
      ]
     },
     "execution_count": 10,
     "metadata": {},
     "output_type": "execute_result"
    }
   ],
   "source": [
    "prompt = \"how is the weather in Bangalore today\"\n",
    "response = chatgpt_with_tools.invoke(prompt)\n",
    "response.tool_calls"
   ]
  },
  {
   "cell_type": "markdown",
   "metadata": {
    "application/vnd.databricks.v1+cell": {
     "cellMetadata": {},
     "inputWidgets": {},
     "nuid": "180cc0f1-dd28-4328-856a-d460bd1eaa85",
     "showTitle": false,
     "tableResultSettingsMap": {},
     "title": ""
    },
    "id": "c7kvwG3SmREW"
   },
   "source": [
    "## Build and Test AI Agent\n",
    "\n",
    "Now that we have defined the tools and the LLM, we can create the agent. We will be using a tool calling agent to bind the tools to the agent with a prompt. We will also add in the capability to store historical conversations as memory"
   ]
  },
  {
   "cell_type": "code",
   "execution_count": 0,
   "metadata": {
    "application/vnd.databricks.v1+cell": {
     "cellMetadata": {},
     "inputWidgets": {},
     "nuid": "0bf4e765-5934-4907-8d4e-dd7d1cc12d28",
     "showTitle": false,
     "tableResultSettingsMap": {},
     "title": ""
    },
    "colab": {
     "base_uri": "https://localhost:8080/"
    },
    "id": "grNq1I6_5dxC",
    "outputId": "7353b0b3-cb8d-4324-efc1-601180a6bc7d"
   },
   "outputs": [
    {
     "output_type": "execute_result",
     "data": {
      "text/plain": [
       "[SystemMessagePromptTemplate(prompt=PromptTemplate(input_variables=[], input_types={}, partial_variables={}, template=\"Act as a helpful assistant.\\n                You run in a loop of Thought, Action, PAUSE, Observation.\\n                At the end of the loop, you output an Answer.\\n                Use Thought to describe your thoughts about the question you have been asked.\\n                Use Action to run one of the actions available to you - then return PAUSE.\\n                Observation will be the result of running those actions.\\n                Repeat till you get to the answer for the given user query.\\n\\n                Use the following workflow format:\\n                  Question: the input task you must solve\\n                  Thought: you should always think about what to do\\n                  Action: the action to take which can be any of the following:\\n                            - break it into smaller steps if needed\\n                            - see if you can answer the given task with your trained knowledge\\n                            - call the most relevant tools at your disposal mentioned below in case you need more information\\n                  Action Input: the input to the action\\n                  Observation: the result of the action\\n                  ... (this Thought/Action/Action Input/Observation can repeat N times)\\n                  Thought: I now know the final answer\\n                  Final Answer: the final answer to the original input question\\n\\n                Tools at your disposal to perform tasks as needed:\\n                  - get_weather: whenever user asks get the weather of a place.\\n                  - search_web_extract_info: whenever user asks for specific information or if you don't know the answer.\\n             \"), additional_kwargs={}),\n",
       " MessagesPlaceholder(variable_name='history', optional=True),\n",
       " HumanMessagePromptTemplate(prompt=PromptTemplate(input_variables=['query'], input_types={}, partial_variables={}, template='{query}'), additional_kwargs={}),\n",
       " MessagesPlaceholder(variable_name='agent_scratchpad')]"
      ]
     },
     "execution_count": 14,
     "metadata": {},
     "output_type": "execute_result"
    }
   ],
   "source": [
    "from langchain_core.prompts import ChatPromptTemplate, MessagesPlaceholder\n",
    "\n",
    "SYS_PROMPT = \"\"\"Act as a helpful assistant.\n",
    "                You run in a loop of Thought, Action, PAUSE, Observation.\n",
    "                At the end of the loop, you output an Answer.\n",
    "                Use Thought to describe your thoughts about the question you have been asked.\n",
    "                Use Action to run one of the actions available to you - then return PAUSE.\n",
    "                Observation will be the result of running those actions.\n",
    "                Repeat till you get to the answer for the given user query.\n",
    "\n",
    "                Use the following workflow format:\n",
    "                  Question: the input task you must solve\n",
    "                  Thought: you should always think about what to do\n",
    "                  Action: the action to take which can be any of the following:\n",
    "                            - break it into smaller steps if needed\n",
    "                            - see if you can answer the given task with your trained knowledge\n",
    "                            - call the most relevant tools at your disposal mentioned below in case you need more information\n",
    "                  Action Input: the input to the action\n",
    "                  Observation: the result of the action\n",
    "                  ... (this Thought/Action/Action Input/Observation can repeat N times)\n",
    "                  Thought: I now know the final answer\n",
    "                  Final Answer: the final answer to the original input question\n",
    "\n",
    "                Tools at your disposal to perform tasks as needed:\n",
    "                  - get_weather: whenever user asks get the weather of a place.\n",
    "                  - search_web_extract_info: whenever user asks for specific information or if you don't know the answer.\n",
    "             \"\"\"\n",
    "\n",
    "prompt_template = ChatPromptTemplate.from_messages(\n",
    "    [\n",
    "        (\"system\", SYS_PROMPT),\n",
    "        MessagesPlaceholder(variable_name=\"history\", optional=True),\n",
    "        (\"human\", \"{query}\"),\n",
    "        MessagesPlaceholder(variable_name=\"agent_scratchpad\"),\n",
    "    ]\n",
    ")\n",
    "\n",
    "prompt_template.messages"
   ]
  },
  {
   "cell_type": "markdown",
   "metadata": {
    "application/vnd.databricks.v1+cell": {
     "cellMetadata": {},
     "inputWidgets": {},
     "nuid": "17857e45-aa84-4c51-9999-fc1c1fe12d20",
     "showTitle": false,
     "tableResultSettingsMap": {},
     "title": ""
    },
    "id": "jlJwVepDmsZw"
   },
   "source": [
    "Now, we can initalize the agent with the LLM, the prompt, and the tools.\n",
    "\n",
    "The agent is responsible for taking in input and deciding what actions to take.\n",
    "\n",
    "REMEMBER the Agent does not execute those actions - that is done by the AgentExecutor\n",
    "\n",
    "Note that we are passing in the model `chatgpt`, not `chatgpt_with_tools`.\n",
    "\n",
    "That is because `create_tool_calling_agent` will call `.bind_tools` for us under the hood.\n",
    "\n",
    "This should ideally be used with an LLM which supports tool \\ function calling"
   ]
  },
  {
   "cell_type": "code",
   "execution_count": 0,
   "metadata": {
    "application/vnd.databricks.v1+cell": {
     "cellMetadata": {},
     "inputWidgets": {},
     "nuid": "c498c3c1-c94d-430a-b215-5d00868c12a8",
     "showTitle": false,
     "tableResultSettingsMap": {},
     "title": ""
    },
    "id": "u4NMA82HpueH"
   },
   "outputs": [],
   "source": [
    "from langchain.agents import create_tool_calling_agent\n",
    "\n",
    "chatgpt = ChatOpenAI(model=\"gpt-4o\", temperature=0)\n",
    "tools = [search_web_extract_info, get_weather]\n",
    "agent = create_tool_calling_agent(chatgpt, tools, prompt_template)"
   ]
  },
  {
   "cell_type": "markdown",
   "metadata": {
    "application/vnd.databricks.v1+cell": {
     "cellMetadata": {},
     "inputWidgets": {},
     "nuid": "5d244c20-0a8d-44ab-8cb5-3aa1971d027b",
     "showTitle": false,
     "tableResultSettingsMap": {},
     "title": ""
    },
    "id": "TiL70NCrmkkW"
   },
   "source": [
    "Finally, we combine the `agent` (the brains) with the `tools` inside the `AgentExecutor` (which will repeatedly call the agent and execute tools)."
   ]
  },
  {
   "cell_type": "code",
   "execution_count": 0,
   "metadata": {
    "application/vnd.databricks.v1+cell": {
     "cellMetadata": {},
     "inputWidgets": {},
     "nuid": "64dde174-d3af-43d6-8270-a32c360c8871",
     "showTitle": false,
     "tableResultSettingsMap": {},
     "title": ""
    },
    "id": "vAuGe5G5pugJ"
   },
   "outputs": [],
   "source": [
    "from langchain.agents import AgentExecutor\n",
    "\n",
    "agent_executor = AgentExecutor(agent=agent,\n",
    "                               tools=tools,\n",
    "                               early_stopping_method='force',\n",
    "                               max_iterations=10)"
   ]
  },
  {
   "cell_type": "code",
   "execution_count": 0,
   "metadata": {
    "application/vnd.databricks.v1+cell": {
     "cellMetadata": {},
     "inputWidgets": {},
     "nuid": "3041b163-11d8-47f7-b4cf-2ac6494e4e90",
     "showTitle": false,
     "tableResultSettingsMap": {},
     "title": ""
    },
    "colab": {
     "base_uri": "https://localhost:8080/"
    },
    "id": "OXqgT0Yth892",
    "outputId": "6c03e40b-832c-44b2-9318-77cbdb3f42ae"
   },
   "outputs": [
    {
     "output_type": "stream",
     "name": "stdout",
     "output_type": "stream",
     "text": [
      "I'm sorry, but I don't have access to real-time data or the ability to retrieve specific documents such as Nvidia's Q4 2024 earnings call. However, I can help you understand what typically happens during an earnings call and what key points are usually discussed. \n\nDuring an earnings call, a company typically covers:\n\n1. **Financial Performance**: Discussion of revenue, profit margins, net income, and earnings per share compared to previous quarters and analyst expectations.\n\n2. **Business Segments**: Performance of different business units or segments, such as gaming, data center, professional visualization, and automotive for Nvidia.\n\n3. **Market Trends**: Insights into market conditions and trends affecting the business, such as demand for GPUs, AI advancements, or supply chain issues.\n\n4. **Guidance**: Forward-looking statements about expected financial performance, including revenue and earnings forecasts for the next quarter or fiscal year.\n\n5. **Strategic Initiatives**: Updates on strategic projects, partnerships, acquisitions, or new product launches.\n\n6. **Q&A Session**: Analysts and investors often ask questions about the company's performance, strategy, and outlook.\n\nFor specific details on Nvidia's Q4 2024 earnings call, I recommend checking their official investor relations website or financial news outlets for a transcript or summary.\n"
     ]
    }
   ],
   "source": [
    "query = \"\"\"Summarize the key points discussed in Nvidia's Q4 2024 earnings call\"\"\"\n",
    "response = chatgpt.invoke(query)\n",
    "print(response.content)"
   ]
  },
  {
   "cell_type": "code",
   "execution_count": 0,
   "metadata": {
    "application/vnd.databricks.v1+cell": {
     "cellMetadata": {},
     "inputWidgets": {},
     "nuid": "2419b39c-a394-4812-831b-8fb9e0a15bc7",
     "showTitle": false,
     "tableResultSettingsMap": {},
     "title": ""
    },
    "colab": {
     "base_uri": "https://localhost:8080/"
    },
    "id": "07nRAXEwY7Ea",
    "outputId": "00785ea5-fcad-45bb-a491-0e287c184f55"
   },
   "outputs": [
    {
     "output_type": "stream",
     "name": "stdout",
     "output_type": "stream",
     "text": [
      "Calling web search tool\n"
     ]
    },
    {
     "output_type": "stream",
     "name": "stderr",
     "output_type": "stream",
     "text": [
      " 80%|████████  | 4/5 [00:05<00:01,  1.49s/it]"
     ]
    },
    {
     "output_type": "stream",
     "name": "stdout",
     "output_type": "stream",
     "text": [
      "Error extracting from url: https://www.investiment.io/symbols/NVDA/earnings/transcripts/2024/4 - 'NoneType' object has no attribute 'strip'\n"
     ]
    },
    {
     "output_type": "stream",
     "name": "stderr",
     "output_type": "stream",
     "text": [
      "100%|██████████| 5/5 [00:05<00:00,  1.19s/it]"
     ]
    },
    {
     "output_type": "stream",
     "name": "stdout",
     "output_type": "stream",
     "text": [
      "Error extracting from url: https://investor.nvidia.com/news/press-release-details/2024/NVIDIA-Announces-Financial-Results-for-Fourth-Quarter-and-Fiscal-2024/ - 403 Client Error: Forbidden for url: https://investor.nvidia.com/news/press-release-details/2024/NVIDIA-Announces-Financial-Results-for-Fourth-Quarter-and-Fiscal-2024/\n"
     ]
    },
    {
     "output_type": "stream",
     "name": "stderr",
     "output_type": "stream",
     "text": [
      "\n"
     ]
    }
   ],
   "source": [
    "query = \"\"\"Summarize the key points discussed in Nvidia's Q4 2024 earnings call\"\"\"\n",
    "response = agent_executor.invoke({\"query\": query})"
   ]
  },
  {
   "cell_type": "code",
   "execution_count": 0,
   "metadata": {
    "application/vnd.databricks.v1+cell": {
     "cellMetadata": {},
     "inputWidgets": {},
     "nuid": "3b9f7845-03cb-4634-bec9-129ae2e0d041",
     "showTitle": false,
     "tableResultSettingsMap": {},
     "title": ""
    },
    "colab": {
     "base_uri": "https://localhost:8080/"
    },
    "id": "ne8x7JqGPMmf",
    "outputId": "67158154-6b2c-498a-a4e8-6c4dfcf327d9"
   },
   "outputs": [
    {
     "output_type": "execute_result",
     "data": {
      "text/plain": [
       "{'query': \"Summarize the key points discussed in Nvidia's Q4 2024 earnings call\",\n",
       " 'output': \"Nvidia's Q4 2024 earnings call highlighted several key points:\\n\\n1. **Record Financial Performance**: Nvidia reported a record quarterly revenue of $22.1 billion, a 22% increase from the previous quarter and a 265% increase year-over-year. The full-year revenue reached $60.9 billion, up 126% from the previous year.\\n\\n2. **Data Center Growth**: The data center segment achieved a record $18.4 billion in revenue for the quarter, marking a 27% rise from Q3 and a 409% year-over-year growth. This growth was driven by the adoption of Nvidia's Hopper GPU computing platform and InfiniBand networking.\\n\\n3. **AI and Accelerated Computing**: Nvidia emphasized the transition from general-purpose to accelerated computing, driven by the demand for AI and generative AI applications. The company is focusing on building AI factories to refine data and produce intelligence.\\n\\n4. **Gross Margin and Profitability**: The gross margin improved to 76.0% in Q4, up from 74.0% in Q3 and 63.3% the previous year. Net income for Q4 was $12.3 billion, a 33% increase from Q3 and a 769% increase year-over-year.\\n\\n5. **Gaming and Other Segments**: Gaming revenue was $2.87 billion, up 56% year-over-year. Nvidia also reported growth in professional visualization and automotive segments.\\n\\n6. **Future Outlook**: Nvidia expects Q1 2025 revenue to be around $24 billion, with continued growth in data center and professional visualization segments. The company plans to invest in new product cycles and innovations to maintain its market position.\\n\\nOverall, Nvidia's strong financial performance was driven by its leadership in AI and accelerated computing, with significant contributions from its data center and gaming segments.\"}"
      ]
     },
     "execution_count": 20,
     "metadata": {},
     "output_type": "execute_result"
    }
   ],
   "source": [
    "response"
   ]
  },
  {
   "cell_type": "code",
   "execution_count": 0,
   "metadata": {
    "application/vnd.databricks.v1+cell": {
     "cellMetadata": {},
     "inputWidgets": {},
     "nuid": "0a028493-e485-48b0-a7ad-501291d7eeb2",
     "showTitle": false,
     "tableResultSettingsMap": {},
     "title": ""
    },
    "colab": {
     "base_uri": "https://localhost:8080/",
     "height": 334
    },
    "id": "H2_MM2jrPRya",
    "outputId": "71457141-9bae-4ece-efb3-eb2c1d245488"
   },
   "outputs": [
    {
     "output_type": "display_data",
     "data": {
      "text/markdown": [
       "Nvidia's Q4 2024 earnings call highlighted several key points:\n",
       "\n",
       "1. **Record Financial Performance**: Nvidia reported a record quarterly revenue of $22.1 billion, a 22% increase from the previous quarter and a 265% increase year-over-year. The full-year revenue reached $60.9 billion, up 126% from the previous year.\n",
       "\n",
       "2. **Data Center Growth**: The data center segment achieved a record $18.4 billion in revenue for the quarter, marking a 27% rise from Q3 and a 409% year-over-year growth. This growth was driven by the adoption of Nvidia's Hopper GPU computing platform and InfiniBand networking.\n",
       "\n",
       "3. **AI and Accelerated Computing**: Nvidia emphasized the transition from general-purpose to accelerated computing, driven by the demand for AI and generative AI applications. The company is focusing on building AI factories to refine data and produce intelligence.\n",
       "\n",
       "4. **Gross Margin and Profitability**: The gross margin improved to 76.0% in Q4, up from 74.0% in Q3 and 63.3% the previous year. Net income for Q4 was $12.3 billion, a 33% increase from Q3 and a 769% increase year-over-year.\n",
       "\n",
       "5. **Gaming and Other Segments**: Gaming revenue was $2.87 billion, up 56% year-over-year. Nvidia also reported growth in professional visualization and automotive segments.\n",
       "\n",
       "6. **Future Outlook**: Nvidia expects Q1 2025 revenue to be around $24 billion, with continued growth in data center and professional visualization segments. The company plans to invest in new product cycles and innovations to maintain its market position.\n",
       "\n",
       "Overall, Nvidia's strong financial performance was driven by its leadership in AI and accelerated computing, with significant contributions from its data center and gaming segments."
      ],
      "text/plain": [
       "<IPython.core.display.Markdown object>"
      ]
     },
     "metadata": {},
     "output_type": "display_data"
    }
   ],
   "source": [
    "from IPython.display import display, Markdown\n",
    "\n",
    "display(Markdown(response['output']))"
   ]
  },
  {
   "cell_type": "code",
   "execution_count": 0,
   "metadata": {
    "application/vnd.databricks.v1+cell": {
     "cellMetadata": {},
     "inputWidgets": {},
     "nuid": "51342ddb-8cd1-4c93-9247-51f70211afd3",
     "showTitle": false,
     "tableResultSettingsMap": {},
     "title": ""
    },
    "colab": {
     "base_uri": "https://localhost:8080/",
     "height": 260
    },
    "id": "riHUt00KE_3q",
    "outputId": "a45dcd11-12bf-43c7-da55-33b01c0fa057"
   },
   "outputs": [
    {
     "output_type": "stream",
     "name": "stdout",
     "output_type": "stream",
     "text": [
      "Calling web search tool\n"
     ]
    },
    {
     "output_type": "stream",
     "name": "stderr",
     "output_type": "stream",
     "text": [
      "100%|██████████| 5/5 [00:05<00:00,  1.02s/it]\n"
     ]
    },
    {
     "output_type": "display_data",
     "data": {
      "text/markdown": [
       "Intel's Q4 2024 earnings call highlighted several key points:\n",
       "\n",
       "1. **Financial Performance**: Intel reported a profit of $2.7 billion for Q4 2024, compared to a loss of $0.7 billion in the same period the previous year. The earnings per share (EPS) were $0.63, up from a loss of $0.16 per share last year. Adjusted earnings were $2.3 billion or $0.54 per share, surpassing analysts' expectations of $0.45 per share.\n",
       "\n",
       "2. **Revenue**: The company generated $15.4 billion in revenue for the quarter, an increase from $14.0 billion in the previous year.\n",
       "\n",
       "3. **Guidance**: For the next quarter, Intel provided guidance for EPS at $0.13 and revenue between $12.2 billion and $13.2 billion.\n",
       "\n",
       "These results indicate a strong recovery and performance improvement for Intel, exceeding market expectations and setting a positive outlook for the upcoming quarter."
      ],
      "text/plain": [
       "<IPython.core.display.Markdown object>"
      ]
     },
     "metadata": {},
     "output_type": "display_data"
    }
   ],
   "source": [
    "query = \"\"\"Summarize the key points discussed in Intel's Q4 2024 earnings call\"\"\"\n",
    "response = agent_executor.invoke({\"query\": query})\n",
    "display(Markdown(response['output']))"
   ]
  },
  {
   "cell_type": "code",
   "execution_count": 0,
   "metadata": {
    "application/vnd.databricks.v1+cell": {
     "cellMetadata": {},
     "inputWidgets": {},
     "nuid": "2fa3fc54-7b90-4861-bde7-8498ed4c586b",
     "showTitle": false,
     "tableResultSettingsMap": {},
     "title": ""
    },
    "colab": {
     "base_uri": "https://localhost:8080/",
     "height": 64
    },
    "id": "GfBHtCzJFKdb",
    "outputId": "8bc3f413-9adf-48a7-88c5-6ea25be31108"
   },
   "outputs": [
    {
     "output_type": "display_data",
     "data": {
      "text/markdown": [
       "To provide an accurate assessment of a company's future outlook, I would need to know which specific companies you are interested in comparing. Please provide the names of the companies you would like to evaluate."
      ],
      "text/plain": [
       "<IPython.core.display.Markdown object>"
      ]
     },
     "metadata": {},
     "output_type": "display_data"
    }
   ],
   "source": [
    "query = \"\"\"which company's future outlook looks to be better?\n",
    "        \"\"\"\n",
    "response = agent_executor.invoke({\"query\": query})\n",
    "display(Markdown(response['output']))"
   ]
  },
  {
   "cell_type": "code",
   "execution_count": 0,
   "metadata": {
    "application/vnd.databricks.v1+cell": {
     "cellMetadata": {},
     "inputWidgets": {},
     "nuid": "67b017d2-dca2-4c3b-838d-a8a52d59f620",
     "showTitle": false,
     "tableResultSettingsMap": {},
     "title": ""
    },
    "colab": {
     "base_uri": "https://localhost:8080/",
     "height": 301
    },
    "id": "O1-HaMLoZAwO",
    "outputId": "88218ffb-eb4e-45f3-c530-68cbeb0e2f03"
   },
   "outputs": [
    {
     "output_type": "stream",
     "name": "stdout",
     "output_type": "stream",
     "text": [
      "Calling weather tool\n"
     ]
    },
    {
     "output_type": "display_data",
     "data": {
      "text/markdown": [
       "The weather in Bangalore today is as follows:\n",
       "\n",
       "- **Temperature**: 16.7°C (62.1°F)\n",
       "- **Condition**: Partly Cloudy\n",
       "- **Wind**: 10.8 kph (6.7 mph) from the East\n",
       "- **Pressure**: 1013.0 mb (29.91 in)\n",
       "- **Precipitation**: 0.0 mm\n",
       "- **Humidity**: 92%\n",
       "- **Cloud Cover**: 28%\n",
       "- **Feels Like**: 16.7°C (62.1°F)\n",
       "- **Dew Point**: 15.4°C (59.7°F)\n",
       "- **Visibility**: 10.0 km (6.0 miles)\n",
       "- **UV Index**: 0.0\n",
       "- **Wind Gusts**: 19.0 kph (11.8 mph)\n",
       "\n",
       "The data was last updated at 6:30 AM local time."
      ],
      "text/plain": [
       "<IPython.core.display.Markdown object>"
      ]
     },
     "metadata": {},
     "output_type": "display_data"
    }
   ],
   "source": [
    "query = \"\"\"how is the weather in Bangalore today?\n",
    "           show detailed statistics\n",
    "        \"\"\"\n",
    "response = agent_executor.invoke({\"query\": query})\n",
    "display(Markdown(response['output']))"
   ]
  },
  {
   "cell_type": "code",
   "execution_count": 0,
   "metadata": {
    "application/vnd.databricks.v1+cell": {
     "cellMetadata": {},
     "inputWidgets": {},
     "nuid": "92bc28c4-2fd7-47dc-836c-2fb3f1554cff",
     "showTitle": false,
     "tableResultSettingsMap": {},
     "title": ""
    },
    "colab": {
     "base_uri": "https://localhost:8080/",
     "height": 301
    },
    "id": "2GosuSIoZrZm",
    "outputId": "a5212dd7-68f9-4820-934c-48a47a823c42"
   },
   "outputs": [
    {
     "output_type": "stream",
     "name": "stdout",
     "output_type": "stream",
     "text": [
      "Calling weather tool\n"
     ]
    },
    {
     "output_type": "display_data",
     "data": {
      "text/markdown": [
       "The weather in Dubai today is clear. Here are the detailed statistics:\n",
       "\n",
       "- **Temperature**: 17.6°C (63.7°F)\n",
       "- **Condition**: Clear\n",
       "- **Wind**: 12.3 mph (19.8 kph) from the East (93°)\n",
       "- **Pressure**: 1021.0 mb (30.16 in)\n",
       "- **Precipitation**: 0.0 mm (0.0 in)\n",
       "- **Humidity**: 43%\n",
       "- **Cloud Cover**: 0%\n",
       "- **Feels Like**: 17.6°C (63.7°F)\n",
       "- **Dew Point**: 5.0°C (41.1°F)\n",
       "- **Visibility**: 10.0 km (6.0 miles)\n",
       "- **UV Index**: 0.0\n",
       "- **Wind Gusts**: 21.9 mph (35.2 kph)\n",
       "\n",
       "The current time in Dubai is 5:04 AM."
      ],
      "text/plain": [
       "<IPython.core.display.Markdown object>"
      ]
     },
     "metadata": {},
     "output_type": "display_data"
    }
   ],
   "source": [
    "query = \"\"\"how is the weather in Dubai today?\n",
    "           show detailed statistics\n",
    "        \"\"\"\n",
    "response = agent_executor.invoke({\"query\": query})\n",
    "display(Markdown(response['output']))"
   ]
  },
  {
   "cell_type": "code",
   "execution_count": 0,
   "metadata": {
    "application/vnd.databricks.v1+cell": {
     "cellMetadata": {},
     "inputWidgets": {},
     "nuid": "c53ec5dc-db77-4d3d-b140-a1222c3da4a8",
     "showTitle": false,
     "tableResultSettingsMap": {},
     "title": ""
    },
    "colab": {
     "base_uri": "https://localhost:8080/",
     "height": 93
    },
    "id": "ElF1npM4ZvAo",
    "outputId": "0414a0b5-51dc-4183-813b-a6a37701fc6a"
   },
   "outputs": [
    {
     "output_type": "display_data",
     "data": {
      "text/markdown": [
       "Question: The user is asking which city is hotter, but they haven't specified the cities they are interested in. I need more information to proceed.\n",
       "\n",
       "Thought: I need to ask the user for the names of the cities they want to compare in terms of temperature.\n",
       "\n",
       "Final Answer: Could you please specify the names of the cities you would like to compare to determine which one is hotter?"
      ],
      "text/plain": [
       "<IPython.core.display.Markdown object>"
      ]
     },
     "metadata": {},
     "output_type": "display_data"
    }
   ],
   "source": [
    "query = \"\"\"which city is hotter?\n",
    "        \"\"\"\n",
    "response = agent_executor.invoke({\"query\": query})\n",
    "display(Markdown(response['output']))"
   ]
  },
  {
   "cell_type": "markdown",
   "metadata": {
    "application/vnd.databricks.v1+cell": {
     "cellMetadata": {},
     "inputWidgets": {},
     "nuid": "a0a79f4a-c7b9-483d-bdb8-3f4f3b5bbaf9",
     "showTitle": false,
     "tableResultSettingsMap": {},
     "title": ""
    },
    "id": "DQQAx3B7xrl-"
   },
   "source": [
    "The agent is doing pretty well but unfortunately it doesn't remember conversations. We will use some user-session based memory to store this and dive deeper into this in the next video."
   ]
  }
 ],
 "metadata": {
  "application/vnd.databricks.v1+notebook": {
   "computePreferences": null,
   "dashboards": [],
   "environmentMetadata": null,
   "language": "python",
   "notebookMetadata": {
    "pythonIndentUnit": 4
   },
   "notebookName": "M2_Build_a_Tool_Calling_Agentic_AI_Research_Assistant",
   "widgets": {}
  },
  "colab": {
   "provenance": []
  },
  "kernelspec": {
   "display_name": ".venv",
   "language": "python",
   "name": "python3"
  },
  "language_info": {
   "name": "python"
  }
 },
 "nbformat": 4,
 "nbformat_minor": 0
}
