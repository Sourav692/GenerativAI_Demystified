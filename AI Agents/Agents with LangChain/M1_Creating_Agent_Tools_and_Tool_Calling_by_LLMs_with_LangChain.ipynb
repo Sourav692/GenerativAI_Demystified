{
 "cells": [
  {
   "cell_type": "markdown",
   "metadata": {
    "application/vnd.databricks.v1+cell": {
     "cellMetadata": {},
     "inputWidgets": {},
     "nuid": "fa896cd9-e743-480f-b8b4-c514d2d7da45",
     "showTitle": false,
     "tableResultSettingsMap": {},
     "title": ""
    }
   },
   "source": [
    "**Reference Link:** [Building AI Agents with LangChain (Analytics Vidhya)](https://courses.analyticsvidhya.com/courses/take/building-ai-agents-with-langchain/lessons/62141622-introduction-to-agents-and-tools)"
   ]
  },
  {
   "cell_type": "markdown",
   "metadata": {
    "application/vnd.databricks.v1+cell": {
     "cellMetadata": {},
     "inputWidgets": {},
     "nuid": "f1bf7395-8e8b-48d5-a036-8e1333f3b3e3",
     "showTitle": false,
     "tableResultSettingsMap": {},
     "title": ""
    },
    "id": "-CVPAiNAy9MH"
   },
   "source": [
    "# Exploring Tools in LangChain"
   ]
  },
  {
   "cell_type": "markdown",
   "metadata": {
    "application/vnd.databricks.v1+cell": {
     "cellMetadata": {},
     "inputWidgets": {},
     "nuid": "8ad55a94-af66-4599-9c4b-4934757f3d21",
     "showTitle": false,
     "tableResultSettingsMap": {},
     "title": ""
    },
    "id": "L1KvMtf54l0d"
   },
   "source": [
    "## Install OpenAI, and LangChain dependencies"
   ]
  },
  {
   "cell_type": "code",
   "execution_count": 0,
   "metadata": {
    "application/vnd.databricks.v1+cell": {
     "cellMetadata": {},
     "inputWidgets": {},
     "nuid": "891fa8c7-ae75-4d0c-9991-f2e5e58a83aa",
     "showTitle": false,
     "tableResultSettingsMap": {},
     "title": ""
    },
    "id": "yXgPP-n3lDy6"
   },
   "outputs": [],
   "source": [
    "from warnings import filterwarnings\n",
    "filterwarnings('ignore')"
   ]
  },
  {
   "cell_type": "code",
   "execution_count": 0,
   "metadata": {
    "application/vnd.databricks.v1+cell": {
     "cellMetadata": {},
     "inputWidgets": {},
     "nuid": "4064d12b-3014-449f-a4bb-a3c41b9b108e",
     "showTitle": false,
     "tableResultSettingsMap": {},
     "title": ""
    },
    "colab": {
     "base_uri": "https://localhost:8080/"
    },
    "id": "2evPp14fy258",
    "outputId": "ab34056e-c484-42bd-f1b7-ae0a05c43059"
   },
   "outputs": [
    {
     "output_type": "stream",
     "name": "stdout",
     "output_type": "stream",
     "text": [
      "Note: you may need to restart the kernel to use updated packages.\nNote: you may need to restart the kernel to use updated packages.\nNote: you may need to restart the kernel to use updated packages.\n"
     ]
    }
   ],
   "source": [
    "%pip install -q langchain==0.3.14\n",
    "%pip install -q langchain-openai==0.3.0\n",
    "%pip install -q langchain-community==0.3.14"
   ]
  },
  {
   "cell_type": "markdown",
   "metadata": {
    "application/vnd.databricks.v1+cell": {
     "cellMetadata": {},
     "inputWidgets": {},
     "nuid": "d78e0eaf-8080-4600-9afd-afb409b23db0",
     "showTitle": false,
     "tableResultSettingsMap": {},
     "title": ""
    },
    "id": "TlfidBdQZRGj"
   },
   "source": [
    "## Install Data Extraction APIs"
   ]
  },
  {
   "cell_type": "code",
   "execution_count": 0,
   "metadata": {
    "application/vnd.databricks.v1+cell": {
     "cellMetadata": {},
     "inputWidgets": {},
     "nuid": "281a7d05-bbe1-43e3-8f47-edf1cac7127d",
     "showTitle": false,
     "tableResultSettingsMap": {},
     "title": ""
    },
    "colab": {
     "base_uri": "https://localhost:8080/"
    },
    "id": "uZKQDgQURhmF",
    "outputId": "e965e299-4f80-4e20-a8c9-4186483f7b0a"
   },
   "outputs": [
    {
     "output_type": "stream",
     "name": "stderr",
     "output_type": "stream",
     "text": [
      "\n[notice] A new release of pip is available: 24.3.1 -> 25.0.1\n[notice] To update, run: python.exe -m pip install --upgrade pip\n\n[notice] A new release of pip is available: 24.3.1 -> 25.0.1\n[notice] To update, run: python.exe -m pip install --upgrade pip\n\n[notice] A new release of pip is available: 24.3.1 -> 25.0.1\n[notice] To update, run: python.exe -m pip install --upgrade pip\n"
     ]
    }
   ],
   "source": [
    "# to create custom tools\n",
    "!pip install -q wikipedia==1.4.0\n",
    "!pip install -q markitdown\n",
    "# to highlight json\n",
    "!pip install -q rich"
   ]
  },
  {
   "cell_type": "markdown",
   "metadata": {
    "application/vnd.databricks.v1+cell": {
     "cellMetadata": {},
     "inputWidgets": {},
     "nuid": "14292e95-b7ad-4f9d-a2af-290b1af63895",
     "showTitle": false,
     "tableResultSettingsMap": {},
     "title": ""
    },
    "id": "H9c37cLnSrbg"
   },
   "source": [
    "## Enter Open AI API Key"
   ]
  },
  {
   "cell_type": "code",
   "execution_count": 0,
   "metadata": {
    "application/vnd.databricks.v1+cell": {
     "cellMetadata": {},
     "inputWidgets": {},
     "nuid": "ea423b56-747f-4634-9d29-bc3b2e274ccd",
     "showTitle": false,
     "tableResultSettingsMap": {},
     "title": ""
    },
    "colab": {
     "base_uri": "https://localhost:8080/"
    },
    "id": "cv3JzCEx_PAd",
    "outputId": "d2368589-e313-4cc8-909c-9399e147ef1d"
   },
   "outputs": [],
   "source": [
    "from getpass import getpass\n",
    "\n",
    "OPENAI_KEY = getpass('Enter Open AI API Key: ')"
   ]
  },
  {
   "cell_type": "markdown",
   "metadata": {
    "application/vnd.databricks.v1+cell": {
     "cellMetadata": {},
     "inputWidgets": {},
     "nuid": "71fe96e9-1ccd-400a-a8d7-719d981bcffc",
     "showTitle": false,
     "tableResultSettingsMap": {},
     "title": ""
    },
    "id": "ucWRRI3QztL2"
   },
   "source": [
    "## Enter Tavily Search API Key\n",
    "\n",
    "Get a free API key from [here](https://tavily.com/#api)"
   ]
  },
  {
   "cell_type": "code",
   "execution_count": 0,
   "metadata": {
    "application/vnd.databricks.v1+cell": {
     "cellMetadata": {},
     "inputWidgets": {},
     "nuid": "ca71dd20-7209-4c46-a52d-5bd628f15210",
     "showTitle": false,
     "tableResultSettingsMap": {},
     "title": ""
    },
    "colab": {
     "base_uri": "https://localhost:8080/"
    },
    "id": "mK-1WLzOrJdb",
    "outputId": "df080905-75fc-4b9d-96bd-562bce8afa84"
   },
   "outputs": [],
   "source": [
    "TAVILY_API_KEY = getpass('Enter Tavily Search API Key: ')"
   ]
  },
  {
   "cell_type": "markdown",
   "metadata": {
    "application/vnd.databricks.v1+cell": {
     "cellMetadata": {},
     "inputWidgets": {},
     "nuid": "aa952ab5-01a3-413f-a0e3-916e4354b04c",
     "showTitle": false,
     "tableResultSettingsMap": {},
     "title": ""
    },
    "id": "Ce5arICZEEov"
   },
   "source": [
    "## Enter WeatherAPI API Key\n",
    "\n",
    "Get a free API key from [here](https://www.weatherapi.com/signup.aspx)"
   ]
  },
  {
   "cell_type": "code",
   "execution_count": 0,
   "metadata": {
    "application/vnd.databricks.v1+cell": {
     "cellMetadata": {},
     "inputWidgets": {},
     "nuid": "8ab021f1-6830-4382-98ce-6fdcd85914b0",
     "showTitle": false,
     "tableResultSettingsMap": {},
     "title": ""
    },
    "colab": {
     "base_uri": "https://localhost:8080/"
    },
    "id": "XpAMz1XgEEov",
    "outputId": "2a18b0a1-ffea-4fbf-f185-d9116fbaf6b2"
   },
   "outputs": [],
   "source": [
    "WEATHER_API_KEY = getpass('Enter WeatherAPI API Key: ')"
   ]
  },
  {
   "cell_type": "markdown",
   "metadata": {
    "application/vnd.databricks.v1+cell": {
     "cellMetadata": {},
     "inputWidgets": {},
     "nuid": "e33eee32-ff52-4096-8514-c93d7402d031",
     "showTitle": false,
     "tableResultSettingsMap": {},
     "title": ""
    },
    "id": "1T0s0um5Svfa"
   },
   "source": [
    "## Setup Environment Variables"
   ]
  },
  {
   "cell_type": "code",
   "execution_count": 0,
   "metadata": {
    "application/vnd.databricks.v1+cell": {
     "cellMetadata": {},
     "inputWidgets": {},
     "nuid": "bf43c8ca-a791-42a1-a46a-af2ac33af1fa",
     "showTitle": false,
     "tableResultSettingsMap": {},
     "title": ""
    },
    "id": "x1YSuHNF_lbh"
   },
   "outputs": [],
   "source": [
    "import os\n",
    "\n",
    "os.environ['OPENAI_API_KEY'] = OPENAI_KEY\n",
    "os.environ['TAVILY_API_KEY'] = TAVILY_API_KEY"
   ]
  },
  {
   "cell_type": "markdown",
   "metadata": {
    "application/vnd.databricks.v1+cell": {
     "cellMetadata": {},
     "inputWidgets": {},
     "nuid": "db2206a8-1b37-4b03-a10e-701863e829ca",
     "showTitle": false,
     "tableResultSettingsMap": {},
     "title": ""
    },
    "id": "65C3PellZGYf"
   },
   "source": [
    "## Exploring Built-in Tools"
   ]
  },
  {
   "cell_type": "markdown",
   "metadata": {
    "application/vnd.databricks.v1+cell": {
     "cellMetadata": {},
     "inputWidgets": {},
     "nuid": "d2d83b7c-d46a-4772-93eb-3a0e9ba3e46d",
     "showTitle": false,
     "tableResultSettingsMap": {},
     "title": ""
    },
    "id": "howf-v0ARWbv"
   },
   "source": [
    "### Exploring the Wikipedia Tool\n",
    "\n",
    "Enables you to tap into the Wikipedia API to search wikipedia pages for information"
   ]
  },
  {
   "cell_type": "code",
   "execution_count": 0,
   "metadata": {
    "application/vnd.databricks.v1+cell": {
     "cellMetadata": {},
     "inputWidgets": {},
     "nuid": "e7380105-e293-43e1-bc53-18aed433edfc",
     "showTitle": false,
     "tableResultSettingsMap": {},
     "title": ""
    },
    "id": "q2CMhK9Rjk2t"
   },
   "outputs": [],
   "source": [
    "from langchain_community.tools import WikipediaQueryRun\n",
    "from langchain_community.utilities import WikipediaAPIWrapper\n",
    "\n",
    "wiki_api_wrapper = WikipediaAPIWrapper(top_k_results=3,\n",
    "                                       doc_content_chars_max=8000)\n",
    "wiki_tool = WikipediaQueryRun(api_wrapper=wiki_api_wrapper, features=\"lxml\")"
   ]
  },
  {
   "cell_type": "code",
   "execution_count": 0,
   "metadata": {
    "application/vnd.databricks.v1+cell": {
     "cellMetadata": {},
     "inputWidgets": {},
     "nuid": "2aa297a7-a3ef-4025-afc0-d984c0b0217c",
     "showTitle": false,
     "tableResultSettingsMap": {},
     "title": ""
    },
    "colab": {
     "base_uri": "https://localhost:8080/",
     "height": 53
    },
    "id": "t1Ce8wbYodYO",
    "outputId": "dc4ad085-54a8-450f-d32a-bb261bdfc362"
   },
   "outputs": [
    {
     "output_type": "execute_result",
     "data": {
      "text/plain": [
       "'A wrapper around Wikipedia. Useful for when you need to answer general questions about people, places, companies, facts, historical events, or other subjects. Input should be a search query.'"
      ]
     },
     "execution_count": 5,
     "metadata": {},
     "output_type": "execute_result"
    }
   ],
   "source": [
    "wiki_tool.description"
   ]
  },
  {
   "cell_type": "code",
   "execution_count": 0,
   "metadata": {
    "application/vnd.databricks.v1+cell": {
     "cellMetadata": {},
     "inputWidgets": {},
     "nuid": "a964b621-2623-4250-8fe7-3a376ddd6b1a",
     "showTitle": false,
     "tableResultSettingsMap": {},
     "title": ""
    },
    "colab": {
     "base_uri": "https://localhost:8080/"
    },
    "id": "d2MSVAh2osSE",
    "outputId": "02e23a35-bf58-453b-adf3-64fa5536588c"
   },
   "outputs": [
    {
     "output_type": "execute_result",
     "data": {
      "text/plain": [
       "{'query': {'description': 'query to look up on wikipedia',\n",
       "  'title': 'Query',\n",
       "  'type': 'string'}}"
      ]
     },
     "execution_count": 6,
     "metadata": {},
     "output_type": "execute_result"
    }
   ],
   "source": [
    "wiki_tool.args"
   ]
  },
  {
   "cell_type": "code",
   "execution_count": 0,
   "metadata": {
    "application/vnd.databricks.v1+cell": {
     "cellMetadata": {},
     "inputWidgets": {},
     "nuid": "de23958d-b6ce-49ce-8cab-6c19032d1f9d",
     "showTitle": false,
     "tableResultSettingsMap": {},
     "title": ""
    },
    "colab": {
     "base_uri": "https://localhost:8080/"
    },
    "id": "luhjlzeSkgUq",
    "outputId": "0c781ee6-9a3e-459c-969d-54f6dbe72251"
   },
   "outputs": [
    {
     "output_type": "stream",
     "name": "stdout",
     "output_type": "stream",
     "text": [
      "Page: Microsoft\nSummary: Microsoft Corporation is an American multinational technology conglomerate headquartered in Redmond, Washington. Founded in 1975, the company became highly influential in the rise of personal computers through software like Windows, and the company has since expanded to Internet services, cloud computing, video gaming and other fields. Microsoft is the largest software maker, one of the most valuable public U.S. companies, and one of the most valuable brands globally.\nMicrosoft was founded by Bill Gates and Paul Allen to develop and sell BASIC interpreters for the Altair 8800. It rose to dominate the personal computer operating system market with MS-DOS in the mid-1980s, followed by Windows. During the 41 years from 1980 to 2021 Microsoft released 9 versions of MS-DOS with a median frequency of 2 years, and 13 versions of Windows with a median frequency of 3 years. The company's 1986 initial public offering (IPO) and subsequent rise in its share price created three billionaires and an estimated 12,000 millionaires among Microsoft employees. Since the 1990s, it has increasingly diversified from the operating system market. Steve Ballmer replaced Gates as CEO in 2000.  He oversaw the then-largest of Microsoft's corporate acquisitions in Skype Technologies in 2011, and an increased focus on hardware that led to its first in-house PC line, the Surface, in 2012, and the formation of Microsoft Mobile through Nokia. Since Satya Nadella took over as CEO in 2014, the company has changed focus towards cloud computing, as well as its large acquisition of LinkedIn for $26.2 billion in 2016. Under Nadella's direction, the company has also expanded its video gaming business to support the Xbox brand, establishing the Microsoft Gaming division in 2022, which is currently the third-largest gaming company in the world by revenue, following the 2023 acquisition of Activision Blizzard for $68.7 billion.\nMicrosoft has been market-dominant in the IBM PC–compatible operating system market and the office software suite market since the 1990s. Its best-known software products are the Windows line of operating systems and the Microsoft Office and Microsoft 365 suite of productivity applications, which most notably include the Word word processor and Excel spreadsheet editor. Its flagship hardware products are the Surface lineup of personal computers and Xbox video game consoles, the latter of which includes the Xbox network; the company also provides a range of consumer Internet services such as Bing web search, the MSN web portal, the Outlook.com email service and the Microsoft Store. In the enterprise and development fields, Microsoft most notably provides the Azure cloud computing platform, Microsoft SQL Server database software, and Visual Studio.\nMicrosoft is considered one of the Big Five American information technology companies, alongside Alphabet, Amazon, Apple, and Meta. In April 2019, Microsoft reached a trillion-dollar market cap, becoming the third public U.S. company to be valued at over $1 trillion. It has been criticized for its monopolistic practices, and the company's software has been criticized for problems with ease of use, robustness, and security.\n\n\n\nPage: Microsoft Excel\nSummary: Microsoft Excel is a spreadsheet editor developed by Microsoft for Windows, macOS, Android, iOS and iPadOS. It features calculation or computation capabilities, graphing tools, pivot tables, and a macro programming language called Visual Basic for Applications (VBA). Excel forms part of the Microsoft 365 and Microsoft Office suites of software and has been developed since 1985.\n\nPage: Microsoft Office\nSummary: Microsoft Office, MS Office, or simply Office, is an office suite and family of client software, server software, and services developed by Microsoft. The first version of the Office suite, announced by Bill Gates on August 1, 1988 at COMDEX, contained Microsoft Word, Microsoft Excel, and Microsoft PowerPoint — all three of which remain core products in Office — and over time Office applications have grown substantially closer with shared features such as a common spell checker, Object Linking and Embedding data integration and Visual Basic for Applications scripting language. Microsoft also positions Office as a development platform for line-of-business software under the Office Business Applications brand.\nThe suite currently includes a word processor (Word), a spreadsheet program (Excel), a presentation program (PowerPoint), a notetaking program (OneNote), an email client (Outlook) and a file-hosting service client (OneDrive). The Windows version includes a database management system (Access). Office is produced in several versions targeted towards different end-users and computing environments. The original, and most widely used version, is the desktop version, available for PCs running the Windows and macOS operating systems, and sold at retail or under volume licensing. Microsoft also maintains mobile apps for Android and iOS, as well as Office on the web, a version of the software that runs within a web browser, which are offered freely.\nSince Office 2013, Microsoft has promoted Office 365 as the primary means of obtaining Microsoft Office: it allows the use of the software and other services on a subscription business model, and users receive feature updates to the software for the lifetime of the subscription, including new features and cloud computing integration that are not necessarily included in the \"on-premises\" releases of Office sold under conventional license terms. In 2017, revenue from Office 365 overtook conventional license sales. Microsoft also rebranded most of their standard Office 365 editions as \"Microsoft 365\" to reflect their inclusion of features and services beyond the core Microsoft Office suite. Although Microsoft announced that it was to phase out the Microsoft Office brand in favor of Microsoft 365 by 2023, with the name continuing only for legacy product offerings, later that year it reversed this decision and announced Office 2024, which they released in September 2024.\n"
     ]
    }
   ],
   "source": [
    "print(wiki_tool.invoke({\"query\": \"Microsoft\"}))"
   ]
  },
  {
   "cell_type": "code",
   "execution_count": 0,
   "metadata": {
    "application/vnd.databricks.v1+cell": {
     "cellMetadata": {},
     "inputWidgets": {},
     "nuid": "01254da6-8428-4e3b-aab8-c189417e13d5",
     "showTitle": false,
     "tableResultSettingsMap": {},
     "title": ""
    },
    "colab": {
     "base_uri": "https://localhost:8080/"
    },
    "id": "jglV7GRXjk5O",
    "outputId": "c5982698-fe63-4d74-faa0-f6b5b7ffd2d5"
   },
   "outputs": [
    {
     "output_type": "stream",
     "name": "stderr",
     "output_type": "stream",
     "text": [
      "d:\\2. My WorkSpace and Notes\\1. Demystify Folders\\GenerativeAI-Demystified\\.venv\\Lib\\site-packages\\wikipedia\\wikipedia.py:389: GuessedAtParserWarning: No parser was explicitly specified, so I'm using the best available HTML parser for this system (\"html.parser\"). This usually isn't a problem, but if you run this code on another system, or in a different virtual environment, it may use a different parser and behave differently.\n\nThe code that caused this warning is on line 389 of the file d:\\2. My WorkSpace and Notes\\1. Demystify Folders\\GenerativeAI-Demystified\\.venv\\Lib\\site-packages\\wikipedia\\wikipedia.py. To get rid of this warning, pass the additional argument 'features=\"html.parser\"' to the BeautifulSoup constructor.\n\n  lis = BeautifulSoup(html).find_all('li')\n"
     ]
    },
    {
     "output_type": "stream",
     "name": "stdout",
     "output_type": "stream",
     "text": [
      "Page: Artificial intelligence\nSummary: Artificial intelligence (AI), in its broadest sense, is intelligence exhibited by machines, particularly computer systems. It is a field of research in computer science that develops and studies methods and software that enable machines to perceive their environment and use learning and intelligence to take actions that maximize their chances of achieving defined goals. Such machines may be called AIs.\nHigh-profile applications of AI include advanced web search engines (e.g., Google Search); recommendation systems (used by YouTube, Amazon, and Netflix); virtual assistants (e.g., Google Assistant, Siri, and Alexa); autonomous vehicles (e.g., Waymo); generative and creative tools (e.g., ChatGPT and AI art); and superhuman play and analysis in strategy games (e.g., chess and Go). However, many AI applications are not perceived as AI: \"A lot of cutting edge AI has filtered into general applications, often without being called AI because once something becomes useful enough and common enough it's not labeled AI anymore.\"\nVarious subfields of AI research are centered around particular goals and the use of particular tools. The traditional goals of AI research include reasoning, knowledge representation, planning, learning, natural language processing, perception, and support for robotics. General intelligence—the ability to complete any task performed by a human on an at least equal level—is among the field's long-term goals. To reach these goals, AI researchers have adapted and integrated a wide range of techniques, including search and mathematical optimization, formal logic, artificial neural networks, and methods based on statistics, operations research, and economics. AI also draws upon psychology, linguistics, philosophy, neuroscience, and other fields.\nArtificial intelligence was founded as an academic discipline in 1956, and the field went through multiple cycles of optimism throughout its history, followed by periods of disappointment and loss of funding, known as AI winters. Funding and interest vastly increased after 2012 when deep learning outperformed previous AI techniques. This growth accelerated further after 2017 with the transformer architecture, and by the early 2020s many billions of dollars were being invested in AI and the field experienced rapid ongoing progress in what has become known as the AI boom. The emergence of advanced generative AI in the midst of the AI boom and its ability to create and modify content exposed several unintended consequences and harms in the present and raised concerns about the risks of AI and its long-term effects in the future, prompting discussions about regulatory policies to ensure the safety and benefits of the technology.\n\n\n\nPage: .ai\nSummary: .ai is the Internet country code top-level domain (ccTLD) for Anguilla, a British Overseas Territory in the Caribbean. It is administered by the government of Anguilla.\nIt is a popular domain hack with companies and projects related to the artificial intelligence industry (AI).\nGoogle's ad targeting treats .ai as a generic top-level domain (gTLD) because \"users and website owners frequently see [the domain] as being more generic than country-targeted.\"\nIdentity Digital began managing the domain as of January 2025.\n"
     ]
    }
   ],
   "source": [
    "print(wiki_tool.invoke({\"query\": \"AI\"}))"
   ]
  },
  {
   "cell_type": "markdown",
   "metadata": {
    "application/vnd.databricks.v1+cell": {
     "cellMetadata": {},
     "inputWidgets": {},
     "nuid": "f56c3436-a6d9-43fa-a7a7-9817b176347a",
     "showTitle": false,
     "tableResultSettingsMap": {},
     "title": ""
    },
    "id": "LnfMeoXJVn-i"
   },
   "source": [
    " You can customize the default tool with its own name, description and so on as follows"
   ]
  },
  {
   "cell_type": "code",
   "execution_count": 0,
   "metadata": {
    "application/vnd.databricks.v1+cell": {
     "cellMetadata": {},
     "inputWidgets": {},
     "nuid": "04ddae7c-725c-440a-b4a9-39528cf4422c",
     "showTitle": false,
     "tableResultSettingsMap": {},
     "title": ""
    },
    "id": "1tO5g9Q1jk7x"
   },
   "outputs": [],
   "source": [
    "from langchain.agents import Tool\n",
    "\n",
    "wiki_tool_init = Tool(name=\"Wikipedia\",\n",
    "                      func=wiki_api_wrapper.run,\n",
    "                      description=\"useful when you need a detailed answer about general knowledge\")"
   ]
  },
  {
   "cell_type": "code",
   "execution_count": 0,
   "metadata": {
    "application/vnd.databricks.v1+cell": {
     "cellMetadata": {},
     "inputWidgets": {},
     "nuid": "8c100204-2b66-4a51-8541-5016c9d111a8",
     "showTitle": false,
     "tableResultSettingsMap": {},
     "title": ""
    },
    "colab": {
     "base_uri": "https://localhost:8080/",
     "height": 35
    },
    "id": "ZRTfVUuGo7ti",
    "outputId": "e7f5b9e0-d851-472b-ab66-cff39b04f84c"
   },
   "outputs": [
    {
     "output_type": "execute_result",
     "data": {
      "text/plain": [
       "'useful when you need a detailed answer about general knowledge'"
      ]
     },
     "execution_count": 10,
     "metadata": {},
     "output_type": "execute_result"
    }
   ],
   "source": [
    "wiki_tool_init.description"
   ]
  },
  {
   "cell_type": "code",
   "execution_count": 0,
   "metadata": {
    "application/vnd.databricks.v1+cell": {
     "cellMetadata": {},
     "inputWidgets": {},
     "nuid": "eeea2eb0-f35c-4e97-8d24-1ba2ecc226c4",
     "showTitle": false,
     "tableResultSettingsMap": {},
     "title": ""
    },
    "colab": {
     "base_uri": "https://localhost:8080/"
    },
    "id": "TW0emMEIou-L",
    "outputId": "e0fba8f6-1da1-4791-e4af-8913e4f38245"
   },
   "outputs": [
    {
     "output_type": "execute_result",
     "data": {
      "text/plain": [
       "{'tool_input': {'type': 'string'}}"
      ]
     },
     "execution_count": 11,
     "metadata": {},
     "output_type": "execute_result"
    }
   ],
   "source": [
    "wiki_tool_init.args"
   ]
  },
  {
   "cell_type": "code",
   "execution_count": 0,
   "metadata": {
    "application/vnd.databricks.v1+cell": {
     "cellMetadata": {},
     "inputWidgets": {},
     "nuid": "dff97ad1-a649-4537-877b-babe90f95460",
     "showTitle": false,
     "tableResultSettingsMap": {},
     "title": ""
    },
    "colab": {
     "base_uri": "https://localhost:8080/"
    },
    "id": "kgAwdPrBjk-x",
    "outputId": "fe3765d3-356d-4545-af7f-3a65076578ea"
   },
   "outputs": [
    {
     "output_type": "stream",
     "name": "stderr",
     "output_type": "stream",
     "text": [
      "d:\\2. My WorkSpace and Notes\\1. Demystify Folders\\GenerativeAI-Demystified\\.venv\\Lib\\site-packages\\wikipedia\\wikipedia.py:389: GuessedAtParserWarning: No parser was explicitly specified, so I'm using the best available HTML parser for this system (\"html.parser\"). This usually isn't a problem, but if you run this code on another system, or in a different virtual environment, it may use a different parser and behave differently.\n\nThe code that caused this warning is on line 389 of the file d:\\2. My WorkSpace and Notes\\1. Demystify Folders\\GenerativeAI-Demystified\\.venv\\Lib\\site-packages\\wikipedia\\wikipedia.py. To get rid of this warning, pass the additional argument 'features=\"html.parser\"' to the BeautifulSoup constructor.\n\n  lis = BeautifulSoup(html).find_all('li')\n"
     ]
    },
    {
     "output_type": "stream",
     "name": "stdout",
     "output_type": "stream",
     "text": [
      "Page: Artificial intelligence\nSummary: Artificial intelligence (AI), in its broadest sense, is intelligence exhibited by machines, particularly computer systems. It is a field of research in computer science that develops and studies methods and software that enable machines to perceive their environment and use learning and intelligence to take actions that maximize their chances of achieving defined goals. Such machines may be called AIs.\nHigh-profile applications of AI include advanced web search engines (e.g., Google Search); recommendation systems (used by YouTube, Amazon, and Netflix); virtual assistants (e.g., Google Assistant, Siri, and Alexa); autonomous vehicles (e.g., Waymo); generative and creative tools (e.g., ChatGPT and AI art); and superhuman play and analysis in strategy games (e.g., chess and Go). However, many AI applications are not perceived as AI: \"A lot of cutting edge AI has filtered into general applications, often without being called AI because once something becomes useful enough and common enough it's not labeled AI anymore.\"\nVarious subfields of AI research are centered around particular goals and the use of particular tools. The traditional goals of AI research include reasoning, knowledge representation, planning, learning, natural language processing, perception, and support for robotics. General intelligence—the ability to complete any task performed by a human on an at least equal level—is among the field's long-term goals. To reach these goals, AI researchers have adapted and integrated a wide range of techniques, including search and mathematical optimization, formal logic, artificial neural networks, and methods based on statistics, operations research, and economics. AI also draws upon psychology, linguistics, philosophy, neuroscience, and other fields.\nArtificial intelligence was founded as an academic discipline in 1956, and the field went through multiple cycles of optimism throughout its history, followed by periods of disappointment and loss of funding, known as AI winters. Funding and interest vastly increased after 2012 when deep learning outperformed previous AI techniques. This growth accelerated further after 2017 with the transformer architecture, and by the early 2020s many billions of dollars were being invested in AI and the field experienced rapid ongoing progress in what has become known as the AI boom. The emergence of advanced generative AI in the midst of the AI boom and its ability to create and modify content exposed several unintended consequences and harms in the present and raised concerns about the risks of AI and its long-term effects in the future, prompting discussions about regulatory policies to ensure the safety and benefits of the technology.\n\n\n\nPage: .ai\nSummary: .ai is the Internet country code top-level domain (ccTLD) for Anguilla, a British Overseas Territory in the Caribbean. It is administered by the government of Anguilla.\nIt is a popular domain hack with companies and projects related to the artificial intelligence industry (AI).\nGoogle's ad targeting treats .ai as a generic top-level domain (gTLD) because \"users and website owners frequently see [the domain] as being more generic than country-targeted.\"\nIdentity Digital began managing the domain as of January 2025.\n"
     ]
    }
   ],
   "source": [
    "print(wiki_tool_init.invoke({\"tool_input\": \"AI\"}))"
   ]
  },
  {
   "cell_type": "markdown",
   "metadata": {
    "application/vnd.databricks.v1+cell": {
     "cellMetadata": {},
     "inputWidgets": {},
     "nuid": "8471f9ae-d130-43cf-bdc9-62ecc8bdf81a",
     "showTitle": false,
     "tableResultSettingsMap": {},
     "title": ""
    },
    "id": "cnQfnkQeV7Hp"
   },
   "source": [
    "### Exploring the Tavily Search Tool\n",
    "\n",
    "Tavily Search API is a search engine optimized for LLMs and RAG, aimed at efficient, quick and persistent search results"
   ]
  },
  {
   "cell_type": "code",
   "execution_count": 0,
   "metadata": {
    "application/vnd.databricks.v1+cell": {
     "cellMetadata": {},
     "inputWidgets": {},
     "nuid": "8d1f257a-10fb-439b-8725-68f147a3938c",
     "showTitle": false,
     "tableResultSettingsMap": {},
     "title": ""
    },
    "id": "UjWM95p5pB4k"
   },
   "outputs": [],
   "source": [
    "from langchain_community.tools.tavily_search import TavilySearchResults\n",
    "\n",
    "tavily_tool = TavilySearchResults(max_results=8,\n",
    "                                search_depth='advanced',\n",
    "                                include_raw_content=True)"
   ]
  },
  {
   "cell_type": "code",
   "execution_count": 0,
   "metadata": {
    "application/vnd.databricks.v1+cell": {
     "cellMetadata": {},
     "inputWidgets": {},
     "nuid": "d4b2a315-8153-45d1-9f41-ed733bb0fee9",
     "showTitle": false,
     "tableResultSettingsMap": {},
     "title": ""
    },
    "colab": {
     "base_uri": "https://localhost:8080/"
    },
    "id": "WmawzibmjlC6",
    "outputId": "ccd9cdcc-7ece-42bb-ca1a-b6dc0d727d72"
   },
   "outputs": [
    {
     "output_type": "execute_result",
     "data": {
      "text/plain": [
       "{'query': {'description': 'search query to look up',\n",
       "  'title': 'Query',\n",
       "  'type': 'string'}}"
      ]
     },
     "execution_count": 15,
     "metadata": {},
     "output_type": "execute_result"
    }
   ],
   "source": [
    "tavily_tool.args"
   ]
  },
  {
   "cell_type": "code",
   "execution_count": 0,
   "metadata": {
    "application/vnd.databricks.v1+cell": {
     "cellMetadata": {},
     "inputWidgets": {},
     "nuid": "36c39f5e-1590-481f-9088-1540706467c8",
     "showTitle": false,
     "tableResultSettingsMap": {},
     "title": ""
    },
    "colab": {
     "base_uri": "https://localhost:8080/",
     "height": 53
    },
    "id": "eERoFFoPjlGJ",
    "outputId": "a14facad-3ba4-4a0f-a68b-34d12658fc79"
   },
   "outputs": [
    {
     "output_type": "execute_result",
     "data": {
      "text/plain": [
       "'A search engine optimized for comprehensive, accurate, and trusted results. Useful for when you need to answer questions about current events. Input should be a search query.'"
      ]
     },
     "execution_count": 16,
     "metadata": {},
     "output_type": "execute_result"
    }
   ],
   "source": [
    "tavily_tool.description"
   ]
  },
  {
   "cell_type": "code",
   "execution_count": 0,
   "metadata": {
    "application/vnd.databricks.v1+cell": {
     "cellMetadata": {},
     "inputWidgets": {},
     "nuid": "4b762bc1-f585-4857-954e-2e30e2b22b27",
     "showTitle": false,
     "tableResultSettingsMap": {},
     "title": ""
    },
    "colab": {
     "base_uri": "https://localhost:8080/"
    },
    "id": "khqWQVcvrnG9",
    "outputId": "287a0237-f323-4e40-9d35-3df6d100515f"
   },
   "outputs": [
    {
     "output_type": "execute_result",
     "data": {
      "text/plain": [
       "[{'url': 'https://news.microsoft.com/about/',\n",
       "  'content': 'About Microsoft - Stories Microsoft Microsoft On The Issues All Microsoft Microsoft 365 Microsoft Teams Microsoft Edge Microsoft Cloud Microsoft Security Microsoft 365 for business Microsoft Industry Microsoft Developer Microsoft Learn Microsoft Rewards About Microsoft Microsoft introduced a new paradigm for search, with an AI-powered Copilot for the Web. Read more Microsoft launches Windows Azure Microsoft made its entry into cloud computing with Windows Azure, an internet version of Windows that ran from the company’s own data centers. Microsoft launches Xbox Microsoft is born Microsoft Copilot Microsoft Store Microsoft in education Microsoft Teams for Education Microsoft 365 Education Microsoft Cloud Microsoft Security Microsoft 365 Microsoft Teams Microsoft 365 Copilot Microsoft Developer Microsoft Learn About Microsoft Privacy at Microsoft Contact Microsoft © Microsoft 2025'},\n",
       " {'url': 'https://news.microsoft.com/facts-about-microsoft/',\n",
       "  'content': 'Microsoft All Microsoft Microsoft Corporation May 22, 1990    Microsoft launches Windows 3.0 June 25, 1998   Microsoft launches Windows 98 Feb. 17, 2000   Microsoft launches Windows 2000 Oct. 25, 2001   Microsoft launches Windows XP June 28, 2011   Microsoft launches Office 365 Oct. 26, 2012   Microsoft launches Windows 8 and Microsoft Surface Oct. 17, 2013   Microsoft launches Windows 8.1 June\\xa020, 2014   Microsoft launches Surface Pro 3 July 29, 2015   Microsoft launches Windows 10 22, 2015  Microsoft launches Office 2016 May 23, 2017    Microsoft announces Windows 10 China Government Edition and the new Surface Pro Oct. 20, 2020   Microsoft introduces Azure Space June 24, 2021   Microsoft introduces Windows 11 Microsoft in education Microsoft 365 Education Microsoft 365 Microsoft Developer About Microsoft Privacy at Microsoft'},\n",
       " {'url': 'https://www.britannica.com/money/Microsoft-Corporation',\n",
       "  'content': 'Headquartered in Redmond, Washington, Microsoft initially gained dominance in the operating systems market during the 1980s and ’90s with MS-DOS and Windows. Microsoft’s operations can be divided into three major business segments: productivity and business processes, intelligent cloud, and more personal computing. Microsoft Dynamics is a suite of intelligent and cloud-based applications designed to assist in various business operations, including finance, marketing, sales, supply chain management, and customer service. Thereafter, most manufacturers of personal computers licensed MS-DOS as their operating system, generating vast revenues for Microsoft; by the early 1990s, it had sold more than 100 million copies of the program and defeated rival operating systems such as CP/M, which it displaced in the early 1980s, and later IBM OS/2.'},\n",
       " {'url': 'https://www.microsoft.com/en-us/about',\n",
       "  'content': 'Microsoft Microsoft AI Microsoft Copilot All Microsoft Microsoft 365 Microsoft Security Microsoft 365 for business Microsoft Developer ![Image 5: Three people are smiling and talking around a table with a laptop, with the text \"How can we expand opportunity?\" displayed.](https://cdn-dynmedia-1.microsoft.com/is/image/microsoftcorp/Impact-Summary-Cross-Expand-Opportunity-834x470?wid=406&hei=230&fit=crop) ![Image 6: A man points to a digital world map on a screen, with the question \"How can we earn trust?\" displayed.](https://cdn-dynmedia-1.microsoft.com/is/image/microsoftcorp/Impact-Summary-Cross-Earn-Trust-834x470?wid=406&hei=230&fit=crop) Microsoft Copilot Explore careers at Microsoft ![Image 14: Three female coworkers sitting at a table talking and while looking at a Surface computer and tablet](https://cdn-dynmedia-1.microsoft.com/is/image/microsoftcorp/About-Diversity-Inclusion-three-coworkers-400x400?wid=425&hei=425) Explore Microsoft Microsoft Support Microsoft Copilot Microsoft in education Microsoft 365 Education Microsoft Security Microsoft 365 Microsoft 365 Copilot Microsoft Developer About Microsoft Privacy at Microsoft'},\n",
       " {'url': 'https://news.microsoft.com/announcement/microsoft-is-born/',\n",
       "  'content': 'Microsoft is born - Stories Microsoft Microsoft On The Issues Inclusion is Innovation All Microsoft Microsoft 365 Surface Microsoft Teams Microsoft Edge Microsoft Cloud Microsoft Security Microsoft 365 for business Microsoft Industry Microsoft Developer Microsoft Learn Microsoft Rewards Microsoft is born Share on Facebook (opens new window) Microsoft released Windows in 1985, a year before moving its headquarters to Redmond, Washington. By the late 1980s, Microsoft was the world’s largest personal-computer software company. ### Microsoft by the Numbers ### Facts About Microsoft Microsoft Copilot Explore Microsoft products Microsoft Store Microsoft Store support Microsoft in education Microsoft Teams for Education Microsoft 365 Education Microsoft Cloud Microsoft Security Microsoft 365 Microsoft Teams Microsoft 365 Copilot Microsoft Developer Microsoft Learn About Microsoft Privacy at Microsoft Contact Microsoft © Microsoft 2025'},\n",
       " {'url': 'https://en.wikipedia.org/wiki/Microsoft',\n",
       "  'content': 'Microsoft released Windows 1.0 on November 20, 1985, as a graphical extension for MS-DOS,[11]:\\u200a242–243,\\u200a246\\u200a despite having begun jointly developing OS/2 with IBM that August.[26] Microsoft moved its headquarters from Bellevue to Redmond, Washington, on February 26, 1986, and went public on March 13,[27] with the resulting rise in stock making an estimated four billionaires and 12,000\\xa0millionaires from Microsoft employees.[28] Microsoft released its version of OS/2 to original equipment manufacturers (OEMs) on April 2, 1987.[11] In 1990, the Federal Trade Commission examined Microsoft for possible collusion due to the partnership with IBM, marking the beginning of more than a decade of legal clashes with the government.[29] :\\u200a243–244\\u200a Meanwhile, the company was at work on Microsoft Windows NT, which was heavily based on their copy of the OS/2 code.'},\n",
       " {'url': 'https://blogs.microsoft.com/blog/2023/03/16/introducing-microsoft-365-copilot-your-copilot-for-work/',\n",
       "  'content': 'Microsoft About Microsoft Microsoft 365 Microsoft 365 All Microsoft Microsoft 365 Introducing Microsoft 365 Copilot — your copilot for work. It works alongside you, embedded in the Microsoft 365 apps you use every day — Word, Excel, PowerPoint, Outlook, Teams and more — to unleash creativity, unlock productivity and uplevel skills. Microsoft 365 Copilot is integrated in the productivity apps millions of people use and rely on every day for work and life — Word, Excel, PowerPoint, Outlook, Teams and more. Microsoft 365 Copilot’s foundational skills are a game changer for productivity: It can already create, summarize, analyze, collaborate and automate using your specific business content and context. Microsoft Copilot Microsoft 365 Microsoft 365 Copilot About Microsoft'},\n",
       " {'url': 'https://support.microsoft.com/en-us/office/what-is-microsoft-365-847caf12-2589-452c-8aca-1c009797678b',\n",
       "  'content': 'What is Microsoft 365? - Microsoft Support Microsoft Microsoft 365 Microsoft 365 Microsoft Teams Install Microsoft 365 Microsoft 365 Admins Buy Microsoft 365 All Microsoft Microsoft 365 Microsoft Teams Microsoft Cloud Microsoft Security Microsoft 365 for business Microsoft Developer Microsoft Learn Sign in with Microsoft What is Microsoft 365? The latest productivity apps, such as Microsoft Teams, Word, Excel, PowerPoint, Outlook, OneDrive, and so much more. Get Microsoft 365 Microsoft 365 training Microsoft security Microsoft 365 Insiders Any more feedback for Microsoft? (Send feedback to Microsoft so we can help.) Microsoft Copilot Microsoft Store Microsoft in education Microsoft Teams for Education Microsoft 365 Education Microsoft Cloud Microsoft Security Microsoft 365 Microsoft Teams Microsoft 365 Copilot Microsoft Developer Microsoft Learn About Microsoft Privacy at Microsoft'}]"
      ]
     },
     "execution_count": 17,
     "metadata": {},
     "output_type": "execute_result"
    }
   ],
   "source": [
    "results = tavily_tool.invoke(\"Tell me about Microsoft\")\n",
    "results"
   ]
  },
  {
   "cell_type": "markdown",
   "metadata": {
    "application/vnd.databricks.v1+cell": {
     "cellMetadata": {},
     "inputWidgets": {},
     "nuid": "454c226d-0011-465d-afde-e615220fb1a1",
     "showTitle": false,
     "tableResultSettingsMap": {},
     "title": ""
    },
    "id": "-GNP2J9Dd_nj"
   },
   "source": [
    "## Build your own tools in LangChain\n",
    "\n",
    "Tools are interfaces that an agent, chain, or LLM can use to interact with the world. They combine a few things:\n",
    "\n",
    "- The name of the tool\n",
    "- A description of what the tool is\n",
    "- JSON schema of what the inputs to the tool are\n",
    "- The function to call\n",
    "- Whether the result of a tool should be returned directly to the user\n",
    "\n",
    "It is useful to have all this information because this information can be used to build action-taking systems! The name, description, and JSON schema can be used to prompt the LLM so it knows how to specify what action to take, and then the function to call is equivalent to taking that action."
   ]
  },
  {
   "cell_type": "markdown",
   "metadata": {
    "application/vnd.databricks.v1+cell": {
     "cellMetadata": {},
     "inputWidgets": {},
     "nuid": "673f70f4-113d-4c9f-bf9c-b68595162c38",
     "showTitle": false,
     "tableResultSettingsMap": {},
     "title": ""
    },
    "id": "ZtoArDYfheYD"
   },
   "source": [
    "### Building a Simple Math Tool"
   ]
  },
  {
   "cell_type": "markdown",
   "metadata": {
    "application/vnd.databricks.v1+cell": {
     "cellMetadata": {},
     "inputWidgets": {},
     "nuid": "53165ed8-8555-46f0-8e20-5650f5198273",
     "showTitle": false,
     "tableResultSettingsMap": {},
     "title": ""
    },
    "id": "JvPAmW62eLyE"
   },
   "source": [
    "We will start by building a simple tool which does some basic math"
   ]
  },
  {
   "cell_type": "code",
   "execution_count": 0,
   "metadata": {
    "application/vnd.databricks.v1+cell": {
     "cellMetadata": {},
     "inputWidgets": {},
     "nuid": "531fb25d-2b9b-4373-993c-41b3a760d702",
     "showTitle": false,
     "tableResultSettingsMap": {},
     "title": ""
    },
    "colab": {
     "base_uri": "https://localhost:8080/"
    },
    "id": "wa0mztbQ8Ae3",
    "outputId": "0a94a594-dcec-4710-8756-74f96200d7d2"
   },
   "outputs": [
    {
     "output_type": "stream",
     "name": "stdout",
     "output_type": "stream",
     "text": [
      "multiply\nMultiply two numbers.\n{'a': {'title': 'A'}, 'b': {'title': 'B'}}\n"
     ]
    }
   ],
   "source": [
    "from langchain_core.tools import tool\n",
    "\n",
    "@tool\n",
    "def multiply(a, b):\n",
    "    \"\"\"Multiply two numbers.\"\"\"\n",
    "    return a * b\n",
    "\n",
    "\n",
    "# Let's inspect some of the attributes associated with the tool.\n",
    "print(multiply.name)\n",
    "print(multiply.description)\n",
    "print(multiply.args)"
   ]
  },
  {
   "cell_type": "code",
   "execution_count": 0,
   "metadata": {
    "application/vnd.databricks.v1+cell": {
     "cellMetadata": {},
     "inputWidgets": {},
     "nuid": "430e72d4-db6d-49cc-b512-528e47f261c3",
     "showTitle": false,
     "tableResultSettingsMap": {},
     "title": ""
    },
    "colab": {
     "base_uri": "https://localhost:8080/",
     "height": 121
    },
    "id": "tfP2TjeK8FsR",
    "outputId": "60859e65-098c-4ebf-aeb4-69bbf29fcb6e"
   },
   "outputs": [
    {
     "output_type": "execute_result",
     "data": {
      "text/plain": [
       "langchain_core.tools.structured.StructuredTool"
      ]
     },
     "execution_count": 22,
     "metadata": {},
     "output_type": "execute_result"
    }
   ],
   "source": [
    "type(multiply)"
   ]
  },
  {
   "cell_type": "code",
   "execution_count": 0,
   "metadata": {
    "application/vnd.databricks.v1+cell": {
     "cellMetadata": {},
     "inputWidgets": {},
     "nuid": "2594b684-e15c-451e-b80b-030672f1b97c",
     "showTitle": false,
     "tableResultSettingsMap": {},
     "title": ""
    },
    "colab": {
     "base_uri": "https://localhost:8080/"
    },
    "id": "EsOVBIvX8Agu",
    "outputId": "c30cfbac-b30c-466d-ddaa-0c3b3974f030"
   },
   "outputs": [
    {
     "output_type": "execute_result",
     "data": {
      "text/plain": [
       "6"
      ]
     },
     "execution_count": 23,
     "metadata": {},
     "output_type": "execute_result"
    }
   ],
   "source": [
    "multiply.invoke({\"a\": 2, \"b\": 3})"
   ]
  },
  {
   "cell_type": "code",
   "execution_count": 0,
   "metadata": {
    "application/vnd.databricks.v1+cell": {
     "cellMetadata": {},
     "inputWidgets": {},
     "nuid": "bedb1db0-57fb-4dbf-9d8c-a7740fe2505d",
     "showTitle": false,
     "tableResultSettingsMap": {},
     "title": ""
    },
    "colab": {
     "base_uri": "https://localhost:8080/"
    },
    "id": "cC7o_Mv5-Grc",
    "outputId": "b7ad7932-9a39-465d-88ef-3cff9d508021"
   },
   "outputs": [
    {
     "output_type": "execute_result",
     "data": {
      "text/plain": [
       "6.720000000000001"
      ]
     },
     "execution_count": 24,
     "metadata": {},
     "output_type": "execute_result"
    }
   ],
   "source": [
    "multiply.invoke({\"a\": 2.1, \"b\": 3.2})"
   ]
  },
  {
   "cell_type": "code",
   "execution_count": 0,
   "metadata": {
    "application/vnd.databricks.v1+cell": {
     "cellMetadata": {},
     "inputWidgets": {},
     "nuid": "588e0402-a1a9-4206-90b0-30b17f4dcbc3",
     "showTitle": false,
     "tableResultSettingsMap": {},
     "title": ""
    },
    "colab": {
     "base_uri": "https://localhost:8080/",
     "height": 35
    },
    "id": "vN4tHdDa-Tm2",
    "outputId": "49359bb5-6ae6-4b03-993a-ae04b100a67a"
   },
   "outputs": [
    {
     "output_type": "execute_result",
     "data": {
      "text/plain": [
       "'abcabc'"
      ]
     },
     "execution_count": 25,
     "metadata": {},
     "output_type": "execute_result"
    }
   ],
   "source": [
    "multiply.invoke({\"a\": 2, \"b\": 'abc'})"
   ]
  },
  {
   "cell_type": "markdown",
   "metadata": {
    "application/vnd.databricks.v1+cell": {
     "cellMetadata": {},
     "inputWidgets": {},
     "nuid": "64425900-5df7-4316-9bd9-f868b2707a6d",
     "showTitle": false,
     "tableResultSettingsMap": {},
     "title": ""
    },
    "id": "XED8giGYeS_I"
   },
   "source": [
    "Let's now build a tool with data type enforcing"
   ]
  },
  {
   "cell_type": "code",
   "execution_count": 0,
   "metadata": {
    "application/vnd.databricks.v1+cell": {
     "cellMetadata": {},
     "inputWidgets": {},
     "nuid": "eaa22834-7a1f-463f-b577-1b4e43db8e84",
     "showTitle": false,
     "tableResultSettingsMap": {},
     "title": ""
    },
    "colab": {
     "base_uri": "https://localhost:8080/"
    },
    "id": "9sKF2zqQ8Aih",
    "outputId": "7508ee9f-3492-4386-9be5-cf870b690d09"
   },
   "outputs": [
    {
     "output_type": "stream",
     "name": "stdout",
     "output_type": "stream",
     "text": [
      "multiply\nuse to multiply numbers\n{'a': {'description': 'first number', 'title': 'A', 'type': 'number'}, 'b': {'description': 'second number', 'title': 'B', 'type': 'number'}}\n"
     ]
    }
   ],
   "source": [
    "from pydantic import BaseModel, Field\n",
    "from langchain_core.tools import StructuredTool\n",
    "\n",
    "class CalculatorInput(BaseModel):\n",
    "    a: float = Field(description=\"first number\")\n",
    "    b: float = Field(description=\"second number\")\n",
    "\n",
    "\n",
    "def multiply(a: float, b: float) -> float:\n",
    "    \"\"\"Multiply two numbers.\"\"\"\n",
    "    return a * b\n",
    "\n",
    "# we could also use the @tool decorator from before\n",
    "multiply = StructuredTool.from_function(\n",
    "    func=multiply,\n",
    "    name=\"multiply\",\n",
    "    description=\"use to multiply numbers\",\n",
    "    args_schema=CalculatorInput,\n",
    "    return_direct=True\n",
    "    )\n",
    "\n",
    "# Let's inspect some of the attributes associated with the tool.\n",
    "print(multiply.name)\n",
    "print(multiply.description)\n",
    "print(multiply.args)"
   ]
  },
  {
   "cell_type": "code",
   "execution_count": 0,
   "metadata": {
    "application/vnd.databricks.v1+cell": {
     "cellMetadata": {},
     "inputWidgets": {},
     "nuid": "ce115647-dc9e-4a9a-9cf9-4e74783d2060",
     "showTitle": false,
     "tableResultSettingsMap": {},
     "title": ""
    },
    "colab": {
     "base_uri": "https://localhost:8080/"
    },
    "id": "H5taFxZg8Akc",
    "outputId": "c20364a3-8405-4713-f963-d42bdee4b688"
   },
   "outputs": [
    {
     "output_type": "execute_result",
     "data": {
      "text/plain": [
       "6.0"
      ]
     },
     "execution_count": 27,
     "metadata": {},
     "output_type": "execute_result"
    }
   ],
   "source": [
    "multiply.invoke({\"a\": 2, \"b\": 3})"
   ]
  },
  {
   "cell_type": "code",
   "execution_count": 0,
   "metadata": {
    "application/vnd.databricks.v1+cell": {
     "cellMetadata": {},
     "inputWidgets": {},
     "nuid": "06b235cf-6b1b-4a47-abcf-1ba24228aac8",
     "showTitle": false,
     "tableResultSettingsMap": {},
     "title": ""
    },
    "colab": {
     "base_uri": "https://localhost:8080/",
     "height": 356
    },
    "id": "3PTl9ezG8Ans",
    "outputId": "2c769158-1a30-4991-8211-0a7471acd4a2"
   },
   "outputs": [
    {
     "output_type": "display_data",
     "data": {
      "text/plain": [
       "\u001B[1;31m---------------------------------------------------------------------------\u001B[0m\n",
       "\u001B[1;31mValidationError\u001B[0m                           Traceback (most recent call last)\n",
       "Cell \u001B[1;32mIn[28], line 2\u001B[0m\n",
       "\u001B[0;32m      1\u001B[0m \u001B[38;5;66;03m# this code will error out as abc is not a floating point number\u001B[39;00m\n",
       "\u001B[1;32m----> 2\u001B[0m \u001B[43mmultiply\u001B[49m\u001B[38;5;241;43m.\u001B[39;49m\u001B[43minvoke\u001B[49m\u001B[43m(\u001B[49m\u001B[43m{\u001B[49m\u001B[38;5;124;43m\"\u001B[39;49m\u001B[38;5;124;43ma\u001B[39;49m\u001B[38;5;124;43m\"\u001B[39;49m\u001B[43m:\u001B[49m\u001B[43m \u001B[49m\u001B[38;5;241;43m2\u001B[39;49m\u001B[43m,\u001B[49m\u001B[43m \u001B[49m\u001B[38;5;124;43m\"\u001B[39;49m\u001B[38;5;124;43mb\u001B[39;49m\u001B[38;5;124;43m\"\u001B[39;49m\u001B[43m:\u001B[49m\u001B[43m \u001B[49m\u001B[38;5;124;43m'\u001B[39;49m\u001B[38;5;124;43mabc\u001B[39;49m\u001B[38;5;124;43m'\u001B[39;49m\u001B[43m}\u001B[49m\u001B[43m)\u001B[49m\n",
       "\n",
       "File \u001B[1;32md:\\2. My WorkSpace and Notes\\1. Demystify Folders\\GenerativeAI-Demystified\\.venv\\Lib\\site-packages\\langchain_core\\tools\\base.py:484\u001B[0m, in \u001B[0;36mBaseTool.invoke\u001B[1;34m(self, input, config, **kwargs)\u001B[0m\n",
       "\u001B[0;32m    477\u001B[0m \u001B[38;5;28;01mdef\u001B[39;00m\u001B[38;5;250m \u001B[39m\u001B[38;5;21minvoke\u001B[39m(\n",
       "\u001B[0;32m    478\u001B[0m     \u001B[38;5;28mself\u001B[39m,\n",
       "\u001B[0;32m    479\u001B[0m     \u001B[38;5;28minput\u001B[39m: Union[\u001B[38;5;28mstr\u001B[39m, \u001B[38;5;28mdict\u001B[39m, ToolCall],\n",
       "\u001B[0;32m    480\u001B[0m     config: Optional[RunnableConfig] \u001B[38;5;241m=\u001B[39m \u001B[38;5;28;01mNone\u001B[39;00m,\n",
       "\u001B[0;32m    481\u001B[0m     \u001B[38;5;241m*\u001B[39m\u001B[38;5;241m*\u001B[39mkwargs: Any,\n",
       "\u001B[0;32m    482\u001B[0m ) \u001B[38;5;241m-\u001B[39m\u001B[38;5;241m>\u001B[39m Any:\n",
       "\u001B[0;32m    483\u001B[0m     tool_input, kwargs \u001B[38;5;241m=\u001B[39m _prep_run_args(\u001B[38;5;28minput\u001B[39m, config, \u001B[38;5;241m*\u001B[39m\u001B[38;5;241m*\u001B[39mkwargs)\n",
       "\u001B[1;32m--> 484\u001B[0m     \u001B[38;5;28;01mreturn\u001B[39;00m \u001B[38;5;28;43mself\u001B[39;49m\u001B[38;5;241;43m.\u001B[39;49m\u001B[43mrun\u001B[49m\u001B[43m(\u001B[49m\u001B[43mtool_input\u001B[49m\u001B[43m,\u001B[49m\u001B[43m \u001B[49m\u001B[38;5;241;43m*\u001B[39;49m\u001B[38;5;241;43m*\u001B[39;49m\u001B[43mkwargs\u001B[49m\u001B[43m)\u001B[49m\n",
       "\n",
       "File \u001B[1;32md:\\2. My WorkSpace and Notes\\1. Demystify Folders\\GenerativeAI-Demystified\\.venv\\Lib\\site-packages\\langchain_core\\tools\\base.py:725\u001B[0m, in \u001B[0;36mBaseTool.run\u001B[1;34m(self, tool_input, verbose, start_color, color, callbacks, tags, metadata, run_name, run_id, config, tool_call_id, **kwargs)\u001B[0m\n",
       "\u001B[0;32m    723\u001B[0m \u001B[38;5;28;01mif\u001B[39;00m error_to_raise:\n",
       "\u001B[0;32m    724\u001B[0m     run_manager\u001B[38;5;241m.\u001B[39mon_tool_error(error_to_raise)\n",
       "\u001B[1;32m--> 725\u001B[0m     \u001B[38;5;28;01mraise\u001B[39;00m error_to_raise\n",
       "\u001B[0;32m    726\u001B[0m output \u001B[38;5;241m=\u001B[39m _format_output(content, artifact, tool_call_id, \u001B[38;5;28mself\u001B[39m\u001B[38;5;241m.\u001B[39mname, status)\n",
       "\u001B[0;32m    727\u001B[0m run_manager\u001B[38;5;241m.\u001B[39mon_tool_end(output, color\u001B[38;5;241m=\u001B[39mcolor, name\u001B[38;5;241m=\u001B[39m\u001B[38;5;28mself\u001B[39m\u001B[38;5;241m.\u001B[39mname, \u001B[38;5;241m*\u001B[39m\u001B[38;5;241m*\u001B[39mkwargs)\n",
       "\n",
       "File \u001B[1;32md:\\2. My WorkSpace and Notes\\1. Demystify Folders\\GenerativeAI-Demystified\\.venv\\Lib\\site-packages\\langchain_core\\tools\\base.py:689\u001B[0m, in \u001B[0;36mBaseTool.run\u001B[1;34m(self, tool_input, verbose, start_color, color, callbacks, tags, metadata, run_name, run_id, config, tool_call_id, **kwargs)\u001B[0m\n",
       "\u001B[0;32m    687\u001B[0m context \u001B[38;5;241m=\u001B[39m copy_context()\n",
       "\u001B[0;32m    688\u001B[0m context\u001B[38;5;241m.\u001B[39mrun(_set_config_context, child_config)\n",
       "\u001B[1;32m--> 689\u001B[0m tool_args, tool_kwargs \u001B[38;5;241m=\u001B[39m \u001B[38;5;28;43mself\u001B[39;49m\u001B[38;5;241;43m.\u001B[39;49m\u001B[43m_to_args_and_kwargs\u001B[49m\u001B[43m(\u001B[49m\u001B[43mtool_input\u001B[49m\u001B[43m,\u001B[49m\u001B[43m \u001B[49m\u001B[43mtool_call_id\u001B[49m\u001B[43m)\u001B[49m\n",
       "\u001B[0;32m    690\u001B[0m \u001B[38;5;28;01mif\u001B[39;00m signature(\u001B[38;5;28mself\u001B[39m\u001B[38;5;241m.\u001B[39m_run)\u001B[38;5;241m.\u001B[39mparameters\u001B[38;5;241m.\u001B[39mget(\u001B[38;5;124m\"\u001B[39m\u001B[38;5;124mrun_manager\u001B[39m\u001B[38;5;124m\"\u001B[39m):\n",
       "\u001B[0;32m    691\u001B[0m     tool_kwargs \u001B[38;5;241m=\u001B[39m tool_kwargs \u001B[38;5;241m|\u001B[39m {\u001B[38;5;124m\"\u001B[39m\u001B[38;5;124mrun_manager\u001B[39m\u001B[38;5;124m\"\u001B[39m: run_manager}\n",
       "\n",
       "File \u001B[1;32md:\\2. My WorkSpace and Notes\\1. Demystify Folders\\GenerativeAI-Demystified\\.venv\\Lib\\site-packages\\langchain_core\\tools\\base.py:611\u001B[0m, in \u001B[0;36mBaseTool._to_args_and_kwargs\u001B[1;34m(self, tool_input, tool_call_id)\u001B[0m\n",
       "\u001B[0;32m    608\u001B[0m \u001B[38;5;28;01mif\u001B[39;00m \u001B[38;5;28mself\u001B[39m\u001B[38;5;241m.\u001B[39margs_schema \u001B[38;5;129;01mis\u001B[39;00m \u001B[38;5;129;01mnot\u001B[39;00m \u001B[38;5;28;01mNone\u001B[39;00m \u001B[38;5;129;01mand\u001B[39;00m \u001B[38;5;129;01mnot\u001B[39;00m get_fields(\u001B[38;5;28mself\u001B[39m\u001B[38;5;241m.\u001B[39margs_schema):\n",
       "\u001B[0;32m    609\u001B[0m     \u001B[38;5;66;03m# StructuredTool with no args\u001B[39;00m\n",
       "\u001B[0;32m    610\u001B[0m     \u001B[38;5;28;01mreturn\u001B[39;00m (), {}\n",
       "\u001B[1;32m--> 611\u001B[0m tool_input \u001B[38;5;241m=\u001B[39m \u001B[38;5;28;43mself\u001B[39;49m\u001B[38;5;241;43m.\u001B[39;49m\u001B[43m_parse_input\u001B[49m\u001B[43m(\u001B[49m\u001B[43mtool_input\u001B[49m\u001B[43m,\u001B[49m\u001B[43m \u001B[49m\u001B[43mtool_call_id\u001B[49m\u001B[43m)\u001B[49m\n",
       "\u001B[0;32m    612\u001B[0m \u001B[38;5;66;03m# For backwards compatibility, if run_input is a string,\u001B[39;00m\n",
       "\u001B[0;32m    613\u001B[0m \u001B[38;5;66;03m# pass as a positional argument.\u001B[39;00m\n",
       "\u001B[0;32m    614\u001B[0m \u001B[38;5;28;01mif\u001B[39;00m \u001B[38;5;28misinstance\u001B[39m(tool_input, \u001B[38;5;28mstr\u001B[39m):\n",
       "\n",
       "File \u001B[1;32md:\\2. My WorkSpace and Notes\\1. Demystify Folders\\GenerativeAI-Demystified\\.venv\\Lib\\site-packages\\langchain_core\\tools\\base.py:532\u001B[0m, in \u001B[0;36mBaseTool._parse_input\u001B[1;34m(self, tool_input, tool_call_id)\u001B[0m\n",
       "\u001B[0;32m    530\u001B[0m                 \u001B[38;5;28;01mraise\u001B[39;00m \u001B[38;5;167;01mValueError\u001B[39;00m(msg)\n",
       "\u001B[0;32m    531\u001B[0m             tool_input[k] \u001B[38;5;241m=\u001B[39m tool_call_id\n",
       "\u001B[1;32m--> 532\u001B[0m     result \u001B[38;5;241m=\u001B[39m \u001B[43minput_args\u001B[49m\u001B[38;5;241;43m.\u001B[39;49m\u001B[43mmodel_validate\u001B[49m\u001B[43m(\u001B[49m\u001B[43mtool_input\u001B[49m\u001B[43m)\u001B[49m\n",
       "\u001B[0;32m    533\u001B[0m     result_dict \u001B[38;5;241m=\u001B[39m result\u001B[38;5;241m.\u001B[39mmodel_dump()\n",
       "\u001B[0;32m    534\u001B[0m \u001B[38;5;28;01melif\u001B[39;00m \u001B[38;5;28missubclass\u001B[39m(input_args, BaseModelV1):\n",
       "\n",
       "File \u001B[1;32md:\\2. My WorkSpace and Notes\\1. Demystify Folders\\GenerativeAI-Demystified\\.venv\\Lib\\site-packages\\pydantic\\main.py:627\u001B[0m, in \u001B[0;36mBaseModel.model_validate\u001B[1;34m(cls, obj, strict, from_attributes, context)\u001B[0m\n",
       "\u001B[0;32m    625\u001B[0m \u001B[38;5;66;03m# `__tracebackhide__` tells pytest and some other tools to omit this function from tracebacks\u001B[39;00m\n",
       "\u001B[0;32m    626\u001B[0m __tracebackhide__ \u001B[38;5;241m=\u001B[39m \u001B[38;5;28;01mTrue\u001B[39;00m\n",
       "\u001B[1;32m--> 627\u001B[0m \u001B[38;5;28;01mreturn\u001B[39;00m \u001B[38;5;28;43mcls\u001B[39;49m\u001B[38;5;241;43m.\u001B[39;49m\u001B[43m__pydantic_validator__\u001B[49m\u001B[38;5;241;43m.\u001B[39;49m\u001B[43mvalidate_python\u001B[49m\u001B[43m(\u001B[49m\n",
       "\u001B[0;32m    628\u001B[0m \u001B[43m    \u001B[49m\u001B[43mobj\u001B[49m\u001B[43m,\u001B[49m\u001B[43m \u001B[49m\u001B[43mstrict\u001B[49m\u001B[38;5;241;43m=\u001B[39;49m\u001B[43mstrict\u001B[49m\u001B[43m,\u001B[49m\u001B[43m \u001B[49m\u001B[43mfrom_attributes\u001B[49m\u001B[38;5;241;43m=\u001B[39;49m\u001B[43mfrom_attributes\u001B[49m\u001B[43m,\u001B[49m\u001B[43m \u001B[49m\u001B[43mcontext\u001B[49m\u001B[38;5;241;43m=\u001B[39;49m\u001B[43mcontext\u001B[49m\n",
       "\u001B[0;32m    629\u001B[0m \u001B[43m\u001B[49m\u001B[43m)\u001B[49m\n",
       "\n",
       "\u001B[1;31mValidationError\u001B[0m: 1 validation error for CalculatorInput\n",
       "b\n",
       "  Input should be a valid number, unable to parse string as a number [type=float_parsing, input_value='abc', input_type=str]\n",
       "    For further information visit https://errors.pydantic.dev/2.10/v/float_parsing"
      ]
     },
     "metadata": {
      "application/vnd.databricks.v1+output": {
       "arguments": {},
       "data": "\u001B[1;31m---------------------------------------------------------------------------\u001B[0m\n\u001B[1;31mValidationError\u001B[0m                           Traceback (most recent call last)\nCell \u001B[1;32mIn[28], line 2\u001B[0m\n\u001B[0;32m      1\u001B[0m \u001B[38;5;66;03m# this code will error out as abc is not a floating point number\u001B[39;00m\n\u001B[1;32m----> 2\u001B[0m \u001B[43mmultiply\u001B[49m\u001B[38;5;241;43m.\u001B[39;49m\u001B[43minvoke\u001B[49m\u001B[43m(\u001B[49m\u001B[43m{\u001B[49m\u001B[38;5;124;43m\"\u001B[39;49m\u001B[38;5;124;43ma\u001B[39;49m\u001B[38;5;124;43m\"\u001B[39;49m\u001B[43m:\u001B[49m\u001B[43m \u001B[49m\u001B[38;5;241;43m2\u001B[39;49m\u001B[43m,\u001B[49m\u001B[43m \u001B[49m\u001B[38;5;124;43m\"\u001B[39;49m\u001B[38;5;124;43mb\u001B[39;49m\u001B[38;5;124;43m\"\u001B[39;49m\u001B[43m:\u001B[49m\u001B[43m \u001B[49m\u001B[38;5;124;43m'\u001B[39;49m\u001B[38;5;124;43mabc\u001B[39;49m\u001B[38;5;124;43m'\u001B[39;49m\u001B[43m}\u001B[49m\u001B[43m)\u001B[49m\n\nFile \u001B[1;32md:\\2. My WorkSpace and Notes\\1. Demystify Folders\\GenerativeAI-Demystified\\.venv\\Lib\\site-packages\\langchain_core\\tools\\base.py:484\u001B[0m, in \u001B[0;36mBaseTool.invoke\u001B[1;34m(self, input, config, **kwargs)\u001B[0m\n\u001B[0;32m    477\u001B[0m \u001B[38;5;28;01mdef\u001B[39;00m\u001B[38;5;250m \u001B[39m\u001B[38;5;21minvoke\u001B[39m(\n\u001B[0;32m    478\u001B[0m     \u001B[38;5;28mself\u001B[39m,\n\u001B[0;32m    479\u001B[0m     \u001B[38;5;28minput\u001B[39m: Union[\u001B[38;5;28mstr\u001B[39m, \u001B[38;5;28mdict\u001B[39m, ToolCall],\n\u001B[0;32m    480\u001B[0m     config: Optional[RunnableConfig] \u001B[38;5;241m=\u001B[39m \u001B[38;5;28;01mNone\u001B[39;00m,\n\u001B[0;32m    481\u001B[0m     \u001B[38;5;241m*\u001B[39m\u001B[38;5;241m*\u001B[39mkwargs: Any,\n\u001B[0;32m    482\u001B[0m ) \u001B[38;5;241m-\u001B[39m\u001B[38;5;241m>\u001B[39m Any:\n\u001B[0;32m    483\u001B[0m     tool_input, kwargs \u001B[38;5;241m=\u001B[39m _prep_run_args(\u001B[38;5;28minput\u001B[39m, config, \u001B[38;5;241m*\u001B[39m\u001B[38;5;241m*\u001B[39mkwargs)\n\u001B[1;32m--> 484\u001B[0m     \u001B[38;5;28;01mreturn\u001B[39;00m \u001B[38;5;28;43mself\u001B[39;49m\u001B[38;5;241;43m.\u001B[39;49m\u001B[43mrun\u001B[49m\u001B[43m(\u001B[49m\u001B[43mtool_input\u001B[49m\u001B[43m,\u001B[49m\u001B[43m \u001B[49m\u001B[38;5;241;43m*\u001B[39;49m\u001B[38;5;241;43m*\u001B[39;49m\u001B[43mkwargs\u001B[49m\u001B[43m)\u001B[49m\n\nFile \u001B[1;32md:\\2. My WorkSpace and Notes\\1. Demystify Folders\\GenerativeAI-Demystified\\.venv\\Lib\\site-packages\\langchain_core\\tools\\base.py:725\u001B[0m, in \u001B[0;36mBaseTool.run\u001B[1;34m(self, tool_input, verbose, start_color, color, callbacks, tags, metadata, run_name, run_id, config, tool_call_id, **kwargs)\u001B[0m\n\u001B[0;32m    723\u001B[0m \u001B[38;5;28;01mif\u001B[39;00m error_to_raise:\n\u001B[0;32m    724\u001B[0m     run_manager\u001B[38;5;241m.\u001B[39mon_tool_error(error_to_raise)\n\u001B[1;32m--> 725\u001B[0m     \u001B[38;5;28;01mraise\u001B[39;00m error_to_raise\n\u001B[0;32m    726\u001B[0m output \u001B[38;5;241m=\u001B[39m _format_output(content, artifact, tool_call_id, \u001B[38;5;28mself\u001B[39m\u001B[38;5;241m.\u001B[39mname, status)\n\u001B[0;32m    727\u001B[0m run_manager\u001B[38;5;241m.\u001B[39mon_tool_end(output, color\u001B[38;5;241m=\u001B[39mcolor, name\u001B[38;5;241m=\u001B[39m\u001B[38;5;28mself\u001B[39m\u001B[38;5;241m.\u001B[39mname, \u001B[38;5;241m*\u001B[39m\u001B[38;5;241m*\u001B[39mkwargs)\n\nFile \u001B[1;32md:\\2. My WorkSpace and Notes\\1. Demystify Folders\\GenerativeAI-Demystified\\.venv\\Lib\\site-packages\\langchain_core\\tools\\base.py:689\u001B[0m, in \u001B[0;36mBaseTool.run\u001B[1;34m(self, tool_input, verbose, start_color, color, callbacks, tags, metadata, run_name, run_id, config, tool_call_id, **kwargs)\u001B[0m\n\u001B[0;32m    687\u001B[0m context \u001B[38;5;241m=\u001B[39m copy_context()\n\u001B[0;32m    688\u001B[0m context\u001B[38;5;241m.\u001B[39mrun(_set_config_context, child_config)\n\u001B[1;32m--> 689\u001B[0m tool_args, tool_kwargs \u001B[38;5;241m=\u001B[39m \u001B[38;5;28;43mself\u001B[39;49m\u001B[38;5;241;43m.\u001B[39;49m\u001B[43m_to_args_and_kwargs\u001B[49m\u001B[43m(\u001B[49m\u001B[43mtool_input\u001B[49m\u001B[43m,\u001B[49m\u001B[43m \u001B[49m\u001B[43mtool_call_id\u001B[49m\u001B[43m)\u001B[49m\n\u001B[0;32m    690\u001B[0m \u001B[38;5;28;01mif\u001B[39;00m signature(\u001B[38;5;28mself\u001B[39m\u001B[38;5;241m.\u001B[39m_run)\u001B[38;5;241m.\u001B[39mparameters\u001B[38;5;241m.\u001B[39mget(\u001B[38;5;124m\"\u001B[39m\u001B[38;5;124mrun_manager\u001B[39m\u001B[38;5;124m\"\u001B[39m):\n\u001B[0;32m    691\u001B[0m     tool_kwargs \u001B[38;5;241m=\u001B[39m tool_kwargs \u001B[38;5;241m|\u001B[39m {\u001B[38;5;124m\"\u001B[39m\u001B[38;5;124mrun_manager\u001B[39m\u001B[38;5;124m\"\u001B[39m: run_manager}\n\nFile \u001B[1;32md:\\2. My WorkSpace and Notes\\1. Demystify Folders\\GenerativeAI-Demystified\\.venv\\Lib\\site-packages\\langchain_core\\tools\\base.py:611\u001B[0m, in \u001B[0;36mBaseTool._to_args_and_kwargs\u001B[1;34m(self, tool_input, tool_call_id)\u001B[0m\n\u001B[0;32m    608\u001B[0m \u001B[38;5;28;01mif\u001B[39;00m \u001B[38;5;28mself\u001B[39m\u001B[38;5;241m.\u001B[39margs_schema \u001B[38;5;129;01mis\u001B[39;00m \u001B[38;5;129;01mnot\u001B[39;00m \u001B[38;5;28;01mNone\u001B[39;00m \u001B[38;5;129;01mand\u001B[39;00m \u001B[38;5;129;01mnot\u001B[39;00m get_fields(\u001B[38;5;28mself\u001B[39m\u001B[38;5;241m.\u001B[39margs_schema):\n\u001B[0;32m    609\u001B[0m     \u001B[38;5;66;03m# StructuredTool with no args\u001B[39;00m\n\u001B[0;32m    610\u001B[0m     \u001B[38;5;28;01mreturn\u001B[39;00m (), {}\n\u001B[1;32m--> 611\u001B[0m tool_input \u001B[38;5;241m=\u001B[39m \u001B[38;5;28;43mself\u001B[39;49m\u001B[38;5;241;43m.\u001B[39;49m\u001B[43m_parse_input\u001B[49m\u001B[43m(\u001B[49m\u001B[43mtool_input\u001B[49m\u001B[43m,\u001B[49m\u001B[43m \u001B[49m\u001B[43mtool_call_id\u001B[49m\u001B[43m)\u001B[49m\n\u001B[0;32m    612\u001B[0m \u001B[38;5;66;03m# For backwards compatibility, if run_input is a string,\u001B[39;00m\n\u001B[0;32m    613\u001B[0m \u001B[38;5;66;03m# pass as a positional argument.\u001B[39;00m\n\u001B[0;32m    614\u001B[0m \u001B[38;5;28;01mif\u001B[39;00m \u001B[38;5;28misinstance\u001B[39m(tool_input, \u001B[38;5;28mstr\u001B[39m):\n\nFile \u001B[1;32md:\\2. My WorkSpace and Notes\\1. Demystify Folders\\GenerativeAI-Demystified\\.venv\\Lib\\site-packages\\langchain_core\\tools\\base.py:532\u001B[0m, in \u001B[0;36mBaseTool._parse_input\u001B[1;34m(self, tool_input, tool_call_id)\u001B[0m\n\u001B[0;32m    530\u001B[0m                 \u001B[38;5;28;01mraise\u001B[39;00m \u001B[38;5;167;01mValueError\u001B[39;00m(msg)\n\u001B[0;32m    531\u001B[0m             tool_input[k] \u001B[38;5;241m=\u001B[39m tool_call_id\n\u001B[1;32m--> 532\u001B[0m     result \u001B[38;5;241m=\u001B[39m \u001B[43minput_args\u001B[49m\u001B[38;5;241;43m.\u001B[39;49m\u001B[43mmodel_validate\u001B[49m\u001B[43m(\u001B[49m\u001B[43mtool_input\u001B[49m\u001B[43m)\u001B[49m\n\u001B[0;32m    533\u001B[0m     result_dict \u001B[38;5;241m=\u001B[39m result\u001B[38;5;241m.\u001B[39mmodel_dump()\n\u001B[0;32m    534\u001B[0m \u001B[38;5;28;01melif\u001B[39;00m \u001B[38;5;28missubclass\u001B[39m(input_args, BaseModelV1):\n\nFile \u001B[1;32md:\\2. My WorkSpace and Notes\\1. Demystify Folders\\GenerativeAI-Demystified\\.venv\\Lib\\site-packages\\pydantic\\main.py:627\u001B[0m, in \u001B[0;36mBaseModel.model_validate\u001B[1;34m(cls, obj, strict, from_attributes, context)\u001B[0m\n\u001B[0;32m    625\u001B[0m \u001B[38;5;66;03m# `__tracebackhide__` tells pytest and some other tools to omit this function from tracebacks\u001B[39;00m\n\u001B[0;32m    626\u001B[0m __tracebackhide__ \u001B[38;5;241m=\u001B[39m \u001B[38;5;28;01mTrue\u001B[39;00m\n\u001B[1;32m--> 627\u001B[0m \u001B[38;5;28;01mreturn\u001B[39;00m \u001B[38;5;28;43mcls\u001B[39;49m\u001B[38;5;241;43m.\u001B[39;49m\u001B[43m__pydantic_validator__\u001B[49m\u001B[38;5;241;43m.\u001B[39;49m\u001B[43mvalidate_python\u001B[49m\u001B[43m(\u001B[49m\n\u001B[0;32m    628\u001B[0m \u001B[43m    \u001B[49m\u001B[43mobj\u001B[49m\u001B[43m,\u001B[49m\u001B[43m \u001B[49m\u001B[43mstrict\u001B[49m\u001B[38;5;241;43m=\u001B[39;49m\u001B[43mstrict\u001B[49m\u001B[43m,\u001B[49m\u001B[43m \u001B[49m\u001B[43mfrom_attributes\u001B[49m\u001B[38;5;241;43m=\u001B[39;49m\u001B[43mfrom_attributes\u001B[49m\u001B[43m,\u001B[49m\u001B[43m \u001B[49m\u001B[43mcontext\u001B[49m\u001B[38;5;241;43m=\u001B[39;49m\u001B[43mcontext\u001B[49m\n\u001B[0;32m    629\u001B[0m \u001B[43m\u001B[49m\u001B[43m)\u001B[49m\n\n\u001B[1;31mValidationError\u001B[0m: 1 validation error for CalculatorInput\nb\n  Input should be a valid number, unable to parse string as a number [type=float_parsing, input_value='abc', input_type=str]\n    For further information visit https://errors.pydantic.dev/2.10/v/float_parsing",
       "errorSummary": "<span class='ansi-red-fg'>ValidationError</span>: 1 validation error for CalculatorInput\nb\n  Input should be a valid number, unable to parse string as a number [type=float_parsing, input_value='abc', input_type=str]\n    For further information visit https://errors.pydantic.dev/2.10/v/float_parsing",
       "errorTraceType": "ansi",
       "metadata": {},
       "type": "ipynbError"
      }
     },
     "output_type": "display_data"
    }
   ],
   "source": [
    "# this code will error out as abc is not a floating point number\n",
    "multiply.invoke({\"a\": 2, \"b\": 'abc'})"
   ]
  },
  {
   "cell_type": "markdown",
   "metadata": {
    "application/vnd.databricks.v1+cell": {
     "cellMetadata": {},
     "inputWidgets": {},
     "nuid": "e1c094a4-b77f-4caf-862b-ad096d7baed7",
     "showTitle": false,
     "tableResultSettingsMap": {},
     "title": ""
    },
    "id": "QMsvq9sVhjuL"
   },
   "source": [
    "### Build a Web Search & Information Extraction Tool"
   ]
  },
  {
   "cell_type": "code",
   "execution_count": 0,
   "metadata": {
    "application/vnd.databricks.v1+cell": {
     "cellMetadata": {},
     "inputWidgets": {},
     "nuid": "448a2a36-090d-47e6-a8d2-5b3353711450",
     "showTitle": false,
     "tableResultSettingsMap": {},
     "title": ""
    },
    "colab": {
     "base_uri": "https://localhost:8080/"
    },
    "id": "cazBMQsghoaB",
    "outputId": "e5c7d31e-1197-46da-b0ac-20ff234e19b0"
   },
   "outputs": [
    {
     "output_type": "execute_result",
     "data": {
      "text/plain": [
       "[{'url': 'https://www.kavout.com/market-lens/key-takeaways-from-microsofts-q4-fy2024-cloud-challenges-amid-strong-financials',\n",
       "  'content': 'The analysis will cover Microsoft’s financial performance, cloud growth, AI investments, and future outlook, considering the broader implications for stakeholders and potential future developments. While the shortfall in cloud growth led to a decline in share prices, the company’s significant investments in AI and its strong overall financial performance suggest potential for long-term growth. Microsoft’s Q4 FY2024 earnings call highlighted a strong financial performance, driven by robust revenue growth across its segments. Despite these challenges, Microsoft’s significant investments in AI and its strategic focus on innovation position the company for long-term growth. In summary, while Microsoft’s Q4 FY2024 earnings call revealed some areas of concern, the company’s strategic investments and strong financial performance underscore its potential for sustained growth and innovation in the years ahead.'},\n",
       " {'url': 'https://www.cnbc.com/2024/07/30/microsoft-msft-q4-earnings-report-2024.html',\n",
       "  'content': \"Best Credit Cards Best Credit Cards for Small Business Best Personal Loans for Bad Credit Microsoft\\xa0reported better-than-expected earnings and revenue for the fiscal fourth quarter. With respect to guidance, Microsoft called for fiscal first-quarter revenue between $63.8 billion and $64.8 billion, implying 13.8% growth at the middle of the range. GitHub's revenue is now at an annual run rate exceeding $2 billion, Microsoft CEO Satya Nadella said on a conference call with analysts. Microsoft sees fiscal first-quarter Azure revenue growth between 28% and 29% at constant currency in the fiscal second quarter, with faster growth in the second half of the fiscal year, Hood said. Microsoft's More Personal Computing unit, with the Windows operating system, gaming, devices and search advertising, contributed $15.90 billion in revenue.\"},\n",
       " {'url': 'https://www.youtube.com/watch?v=Cb_WyMkkhBQ',\n",
       "  'content': \"Microsoft Q4 Earnings Highlights: Revenue Beat, EPS Beat, Cloud Revenue Up 21% YoY, 'Ensuring We Lead The AI Era'\"},\n",
       " {'url': 'https://www.shacknews.com/article/140751/listen-to-microsoft-msft-q4-2024-earnings-call',\n",
       "  'content': \"Microsoft's Q4 2024 earnings call will take place today, July 30, 2024, at 2:30 pm PT/5:30 pm ET. We'll be streaming it on the Shacknews YouTube channel.\"},\n",
       " {'url': 'https://www.microsoft.com/en-us/investor/events/fy-2024/earnings-fy-2024-q4',\n",
       "  'content': 'In our largest quarter of the year, we again delivered double-digit top and bottom-line growth with continued share gains across many of our businesses and record commitments to our Microsoft Cloud platform. In Windows commercial products and cloud services, customer demand for Microsoft 365 and our advanced security solutions should drive revenue growth in the mid-single digits. With Azure growth we’ve seen this quarter and O365, Commercial not yet fully visible in numbers, even though, Amy, you gave us a lot of color on it, two parts to the question of Satya, how should we think about what it’s going to take for Gen AI to become more real across the industry, and for it to become more visible within your SaaS offerings?'}]"
      ]
     },
     "execution_count": 29,
     "metadata": {},
     "output_type": "execute_result"
    }
   ],
   "source": [
    "tavily_tool = TavilySearchResults(max_results=5,\n",
    "                                  search_depth='advanced',\n",
    "                                  include_raw_content=True)\n",
    "\n",
    "result = tavily_tool.invoke(\"Tell me about Microsoft's Q4 2024 earning call report\")\n",
    "result"
   ]
  },
  {
   "cell_type": "code",
   "execution_count": 0,
   "metadata": {
    "application/vnd.databricks.v1+cell": {
     "cellMetadata": {},
     "inputWidgets": {},
     "nuid": "e6127487-f588-4360-b87e-b5ce955beb31",
     "showTitle": false,
     "tableResultSettingsMap": {},
     "title": ""
    },
    "colab": {
     "base_uri": "https://localhost:8080/",
     "height": 35
    },
    "id": "xZ-WELThiwjK",
    "outputId": "dddff98f-74ed-43b8-b9bc-bdefc69b2046"
   },
   "outputs": [
    {
     "output_type": "execute_result",
     "data": {
      "text/plain": [
       "'https://www.kavout.com/market-lens/key-takeaways-from-microsofts-q4-fy2024-cloud-challenges-amid-strong-financials'"
      ]
     },
     "execution_count": 44,
     "metadata": {},
     "output_type": "execute_result"
    }
   ],
   "source": [
    "result[0]['url']"
   ]
  },
  {
   "cell_type": "code",
   "execution_count": 0,
   "metadata": {
    "application/vnd.databricks.v1+cell": {
     "cellMetadata": {},
     "inputWidgets": {},
     "nuid": "d4e16910-ce85-48b4-8096-b000492935f7",
     "showTitle": false,
     "tableResultSettingsMap": {},
     "title": ""
    }
   },
   "outputs": [
    {
     "output_type": "stream",
     "name": "stderr",
     "output_type": "stream",
     "text": [
      "\n[notice] A new release of pip is available: 24.3.1 -> 25.0.1\n[notice] To update, run: python.exe -m pip install --upgrade pip\n"
     ]
    }
   ],
   "source": [
    "!pip install -q markitdown"
   ]
  },
  {
   "cell_type": "code",
   "execution_count": 0,
   "metadata": {
    "application/vnd.databricks.v1+cell": {
     "cellMetadata": {},
     "inputWidgets": {},
     "nuid": "998a77ce-bf72-4377-ae9c-523ae32139cd",
     "showTitle": false,
     "tableResultSettingsMap": {},
     "title": ""
    }
   },
   "outputs": [
    {
     "output_type": "stream",
     "name": "stdout",
     "output_type": "stream",
     "text": [
      "Note: you may need to restart the kernel to use updated packages.\n"
     ]
    },
    {
     "output_type": "stream",
     "name": "stderr",
     "output_type": "stream",
     "text": [
      "d:\\2. My WorkSpace and Notes\\1. Demystify Folders\\GenerativeAI-Demystified\\.venv\\Lib\\site-packages\\IPython\\utils\\_process_win32.py:124: ResourceWarning: unclosed file <_io.BufferedWriter name=3>\n  return process_handler(cmd, _system_body)\nResourceWarning: Enable tracemalloc to get the object allocation traceback\nd:\\2. My WorkSpace and Notes\\1. Demystify Folders\\GenerativeAI-Demystified\\.venv\\Lib\\site-packages\\IPython\\utils\\_process_win32.py:124: ResourceWarning: unclosed file <_io.BufferedReader name=4>\n  return process_handler(cmd, _system_body)\nResourceWarning: Enable tracemalloc to get the object allocation traceback\nd:\\2. My WorkSpace and Notes\\1. Demystify Folders\\GenerativeAI-Demystified\\.venv\\Lib\\site-packages\\IPython\\utils\\_process_win32.py:124: ResourceWarning: unclosed file <_io.BufferedReader name=5>\n  return process_handler(cmd, _system_body)\nResourceWarning: Enable tracemalloc to get the object allocation traceback\n"
     ]
    }
   ],
   "source": [
    "pip install -U -q markitdown"
   ]
  },
  {
   "cell_type": "code",
   "execution_count": 0,
   "metadata": {
    "application/vnd.databricks.v1+cell": {
     "cellMetadata": {},
     "inputWidgets": {},
     "nuid": "72de2b86-7980-484b-b0bc-7799d44d664b",
     "showTitle": false,
     "tableResultSettingsMap": {},
     "title": ""
    }
   },
   "outputs": [],
   "source": [
    "from markitdown import MarkItDown"
   ]
  },
  {
   "cell_type": "code",
   "execution_count": 0,
   "metadata": {
    "application/vnd.databricks.v1+cell": {
     "cellMetadata": {},
     "inputWidgets": {},
     "nuid": "7a6d6f9d-d19c-49a3-9b5b-68fbab6184d3",
     "showTitle": false,
     "tableResultSettingsMap": {},
     "title": ""
    },
    "colab": {
     "base_uri": "https://localhost:8080/",
     "height": 460
    },
    "id": "IXfm6C2UizLk",
    "outputId": "d3f4702b-388b-4c87-af8b-6d1de29c0901"
   },
   "outputs": [],
   "source": [
    "\n",
    "md = MarkItDown()\n",
    "doc_content = md.convert(result[0]['url'])"
   ]
  },
  {
   "cell_type": "code",
   "execution_count": 0,
   "metadata": {
    "application/vnd.databricks.v1+cell": {
     "cellMetadata": {},
     "inputWidgets": {},
     "nuid": "ff7d6234-02c1-4971-a2c5-5fc239a64c2f",
     "showTitle": false,
     "tableResultSettingsMap": {},
     "title": ""
    }
   },
   "outputs": [
    {
     "output_type": "stream",
     "name": "stdout",
     "output_type": "stream",
     "text": [
      "Key Takeaways From Microsoft’s Q4 FY2024: Cloud Challenges Amid Strong Financials\n"
     ]
    }
   ],
   "source": [
    "print(doc_content.title.strip())"
   ]
  },
  {
   "cell_type": "code",
   "execution_count": 0,
   "metadata": {
    "application/vnd.databricks.v1+cell": {
     "cellMetadata": {},
     "inputWidgets": {},
     "nuid": "9a75e190-ecb5-4299-8d7a-210cf19167ad",
     "showTitle": false,
     "tableResultSettingsMap": {},
     "title": ""
    },
    "id": "cK2iU3buYDsB"
   },
   "outputs": [],
   "source": [
    "doc_content = md.convert(result[2]['url'])"
   ]
  },
  {
   "cell_type": "code",
   "execution_count": 0,
   "metadata": {
    "application/vnd.databricks.v1+cell": {
     "cellMetadata": {},
     "inputWidgets": {},
     "nuid": "adf9158e-dcb3-4659-a4e4-b5d1159e8f03",
     "showTitle": false,
     "tableResultSettingsMap": {},
     "title": ""
    },
    "colab": {
     "base_uri": "https://localhost:8080/"
    },
    "id": "4iNDFm3qk-Em",
    "outputId": "596d2d54-283c-4c05-ee5c-0611ea265cc1"
   },
   "outputs": [
    {
     "output_type": "stream",
     "name": "stdout",
     "output_type": "stream",
     "text": [
      "🔴WATCH LIVE: Microsoft Q4 2024 Earnings Call | $MSFT\n"
     ]
    }
   ],
   "source": [
    "print(doc_content.title.strip())"
   ]
  },
  {
   "cell_type": "code",
   "execution_count": 0,
   "metadata": {
    "application/vnd.databricks.v1+cell": {
     "cellMetadata": {},
     "inputWidgets": {},
     "nuid": "df75aaf2-92aa-4b7a-8580-cb42863842f6",
     "showTitle": false,
     "tableResultSettingsMap": {},
     "title": ""
    },
    "colab": {
     "base_uri": "https://localhost:8080/"
    },
    "id": "O7ok0mAqi9Oz",
    "outputId": "7112b92c-32d0-4415-8f33-e48ee5f58442"
   },
   "outputs": [
    {
     "output_type": "stream",
     "name": "stdout",
     "output_type": "stream",
     "text": [
      "# YouTube\n\n## 🔴WATCH LIVE: Microsoft Q4 2024 Earnings Call | $MSFT\n\n### Video Metadata\n- **Views:** 8818\n- **Keywords:** video, sharing, camera phone, video phone, free, upload\n- **Runtime:** PT70M59S\n\n### Description\nMicrosoft Q4 Earnings Highlights: Revenue Beat, EPS Beat, Cloud Revenue Up 21% YoY, 'Ensuring We Lead The AI Era' - https://www.benzinga.com/news/earning...\n\nSign up for Benzinga's Trading Competition Powered by TradeZero for your chance to win up to $30,000! https://www.tradezeroedge.com/world-c...\n\nFind more coverage on www.benzinga.com\n\nFollow us on socials:\nInstagram: www.instagram.com/benzinga\nFacebook: www.facebook.com/benzinga\nTikTok: www.tiktok.com/benzinga\nTwitter: twitter.com/benzinga\n\nDisclaimer: All of the information, material, and/or content contained in this program is for informational purposes only. Investing in stocks, options, and futures is risky and not suitable for all investors. Please consult your own independent financial adviser before making any investment decisions.\n\n#Microsoft #AI $MSFT\n\n### Transcript\n[Music] he [Music] [Music] [Applause] hey [Music] [Music] he [Music] [Music] hey [Music] [Applause] [Music] hey [Music] wo wo [Music] [Music] hey hey [Music] hey [Music] w w [Music] oh [Music] oh w w [Music] [Music] n [Music] [Laughter] [Music] n [Music] n [Music] [Music] [Music] [Music] [Music] oh [Music] [Music] oh [Music] [Applause] [Music] greetings and welcome to the Microsoft fiscal year 2024 fourth quarter earnings conference call at this time all participants are in a listen only mode a question and answer session will follow the formal presentation if anyone should require operators assistance during the conference please press star zero on your telephone keypad as a reminder this conference is being recorded I would now like to turn the conference over to your host Brett Iverson vice president of investor relations good afternoon and thank you for joining us today on the call with me are Sati Nadella chairman and chief executive officer Amy Hood Chief Financial Officer Alice Jala Chief accounting officer and Keith Oliver corporate secretary and Deputy general counsel on the Microsoft investor relations website you can find our earnings press release and financial summary slide deck which is intended to supplement our prepared remarks during today's call and provides the reconciliation of differences between Gap and non-gaap financial measures more detailed Outlook slides will be available on the Microsoft invest relations website when we provide Outlook commentary on today's call on this call we will discuss certain non-gaap items the non-gaap financial measures provided should not be considered as a substitute for or superior to the measures of financial performance prepared in accordance with gap they are included as additional clarifying items to Aid investors in further understanding the company's fourth quarter performance in addition to the impact these items and events have on the financial results all growth comparisons we make on the call today relate to the corresponding period of last year unless otherwise noted we will also provide growth rates in constant currency went available as a framework for assessing how our underlying businesses performed excluding the effect of foreign currency rate fluctuations where growth rates are the same in constant currency we will refer to the growth rate only we'll post our prepared remarks to our website immediately following the call until the complete transcript is available today's call is being webcast live and recorded if you ask a question it will be included in our live Transmission in the transcript and in any future use of the recording you can replay the call and view the transcript on the Microsoft investor relations website during this call we will be making forward-looking statements which are predictions projections or other statements about future events these statements are based on current expectations and assumptions that are subject to risks and uncertainties actual results could materially differ because of factors discussed in today's earnings press release in the comments made during this conference call and in the risk factor section of our form 10K forms 10q and other reports and filings with the Securities and Exchange Commission we do not undertake any duty to update any forward looking statement and with that I'll turn the call over to SAA thank you Brett we had a solid close to our fiscal year all up annual revenue was more than $245 billion up 15% year-over-year and Microsoft cloud Revenue surpassed 135 billion up 23% before I dive in I want to offer some broader perspective on the AI platform shift similar to the cloud this transition involves both knowledge and capital intensive Investments and as we go through this shift we have focused on two fundamental things first driving Innovation across a product portfolio that spans infrastructure and applications so as to ensure that we are maximizing our opportunity while in parallel continuing to scale our Cloud business and prioritizing fundamentals starting with security second using customer demand signal and time to Value to manage our cost structure dynamically and generate durable long-term operating leverage with that let me highlight examples starting with aure our share gains accelerated this year driven by AI we expanded our data center footprint announcing Investments across continents these are long-term assets around the world to drive growth for the next decade and Beyond we added new AI accelerators from AMD and Nvidia as well as our own first party silicon Azam Maya and we introduced new cobalt 100 which provides best-in-class performance for customers like elastic mongodb semen Snowflake and teradata we continue to see sustained Revenue growth from migrations Azure Arc is helping customers in every industry from ABB and Kate Pacific to La Liga to streamline their Cloud migrations we now have 36,000 our customers up 90% year-over-year we remain The hyperscale Cloud of choice for sap and Oracle workloads atos Kohl's Daimler truck AG dominoes helon for example all migrated the mission critical sap workloads to our cloud and with our Azure VMware solution we offer the fastest and most cost effective way for customers to migrate their wmware workloads to with Azure AI we are building out the app server for the AI wave providing access to the most diverse selection of models to meet customers unique cost latency and design considerations all up we now have over 60,000 Azure AI customers up nearly 60% EUR over year and average spend per customer continues to grow Azure open AI service provides access to best-in-class Frontier models including as of this quarter GPT 40 and GPT 40 mini it's being used by Leading companies in every industry including H&R Block Suzuki swissy Telstra as well as digital natives like freshworks misho and zamato with 53 we offer a family of powerful small language models which are being used by companies like Black Rock emirat epic ITC Navy Federal Credit Union and others and with models as a service we provide API access to third party models including as of last week the latest from coher meta and Mistral the number of paid model of service customers more than doubled quarter over quarter and we are seeing increased usage by leaders in every industry from Adobe and Bridgestone to Nova nisk and Palante now on today our Microsoft intelligent data platform provides customers with the broadest capability spanning databases analytics business intelligence and governance along with seamless integration with all of our AI Services the number of azure AI customers also using our data and analytics tools grew nearly 50% year-over year Microsoft fabric our AI powered Next Generation data platform now has over 14,000 paid customers including cluding leaders in every industry from Accenture and Kroger to Rockwell Automation and Zeiss up 20% quarter over quarter and this quarter we introduced new first of their kind realtime intelligence capabilities in Fabrics or customers can unlock insights on high volume time sensitive data now on to developer tools get up co-pilot is by far the most widely adopted AI power developer tool just over 2 years since it's General availability more than 77,000 organizations from BBVA FedEx and H&M to infosis and PTM have adopted co-pilot up 180% year-over-year and we're going further with co-pilot workspace we offer co-pilot native endtoend developer productivity across plan build test debug and deploy cycle co-pilot is driving GitHub growth all up GitHub annual revenue run rate is now $2 billion copilot accounted for over 40% of GitHub Revenue growth this year and is already a larger business than all a GitHub was when we acquired it we're also integrating generative AI across Power Platform enabling anyone to use natural language to create apps automate workflows or build a website to date over 480,000 organizations have used AI powered capabilities in Power Platform up 45% quarter over quarter in total we now have 48 million monthly active users of Power Platform up 40% year-over-year now on to future work co-pilot for Microsoft 365 is becoming a daily habit for knowledge workers as it transforms work workflow and work artifacts the number of people who use copilot daily at work nearly doubled quarter over quarter as they use it to complete task faster hold more more effective meetings and automate business workflows and processes co-pilot customers increased more than 60% quarter over quarter feedback has been positive with majority of Enterprise customers coming back to purchase more seats all up the number of customers with more than 10,000 seats more than doubled quarter over quarter including Capital group Disney Dao kendrell novantas and ey alone will deploy co-pilot to 150,000 of its employees and we're going further adding AG capabilities to co-pilot new team co-pilot can facilitate meetings and create an assigned task and with co-pilot Studio customers can extend co-pilot for Microsoft 365 and build custom co-pilots that proactively respond to data and events using their own first and third party business data to date 50,000 organizations from Carnival corporations cognizant and Eon to KPMG majest and McKenzie have used co-pilot Studio up over 70% quarter over quarter we're also extending co-pilot to specific Industries including Healthcare with Dax co-pilot more than 400 Healthcare organizations including Community Health Network Inter Mountain Northwestern Memorial Healthcare and Ohio State University waxner Medical Center have purchased Dax Co pilot to date up 40% quarter over quarter and the number of AI generated clinical reports more than tripled copilot is also transforming Erp and CRM business applications we again took share this quarter as customers like thermofisher scientific switch to Dynamics our new Dynamics 365 contact center is a co-pilot first solution that infuses generative AI throughout the contact center workflow companies like 1 1800 Flowers Mediterranean shipping synop Tech Will rely on it to deliver better customer support and Dynamics 65 business Central is now trusted by over 40,000 organizations for core Erp Microsoft teams has become essential to how hundreds of millions of people meet call chat collaborate and do business we once again saw year-over-year usage growth teams premium has surpassed 3 million seats up nearly 400% year-over year as organizations like denu Eli Lily and Ford chose it for Advan features like endtoend encryption and realtime translation when it comes to devices we introduced our new category of co-pilot plus PCS this quarter they are the fastest most intelligent Windows PCS ever they include a new system architecture designed to deliver best-in-class performance and breakthrough AI experiences we are delighted by early reviews and we are looking forward to the introduction of more co-pilot plus PCS powered by all of our silicon and OEM Partners in the coming months more broadly Windows 11 active devices increase 50% eurover year and we are seeing accelerated adoption of Windows 11 by companies like carlsburg Eon National Australia bank and now on to security we continue to prioritize security above all else we're doubling down on our secure future initiative as we Implement our principles of secure by Design secure by default and secure operations through this initiative we're also continually applying what we are learning and translating it into Innovation for our customers including how we approach AI over a thousand paid customers used co-pilot for security including Alaska Airlines Oregon State University petrofac wiipro wtw and we are also securing customers AI deployments with updates to Defender and perview all up we now have 1.2 million security customers over 800,000 including Dell Technologies Deutsche telom TomTom use four or more workloads up 25% year-over-year and Defender for cloud our Cloud security solution surpassed $1 billion in Revenue over the past 12 months as we protect customer workloads across multicloud and hybrid environments now let me turn to our consumer businesses starting with LinkedIn LinkedIn continues to see accelerated member growth and record engagement 1.5 million pieces of content are shared every minute on the platform and video is now the fastest growing format on LinkedIn with uploads up 34% year over year LinkedIn marketing Solutions continues to be a leader in B2B digital advertising helping companies deliver the right message to the Right audience on a safe trusted platform and when it comes to our subscription businesses premium signups increased 51% this fiscal year and we're adding even more value to our members and customers with new AI tools our reimagined AI powered LinkedIn premium experience is now available for every premium subscriber worldwide helping them more easily and intuitively connect to opportunity learn and get career coaching finally hiring took share for the second consecutive year and now on to search advertising in news we are ensuring that Bing Edge and co-pilot collectively are driving more engagement and value to end users Publishers and advertisers our overall Revenue xtac increased 19% year-over-year and we again took share across Bing and Edge we continue to apply generative AI to Pioneer new approaches to how people search and browse just last week we announced we are testing a new generative search experience which creates a dynamic response to users query while maintaining clickshare to Publishers and we continue to drive record engagement with co-pilot for the web consumers have used co-pilot to create over 12 billion images and conduct 13 billion chats to date up 150% since the start of the calendar year thousands of news and entertainment Publishers trust us to reach new audiences with Microsoft start and in fact we have paid them $1 billion over the last five years we helping advertisers increase their roi2 we have seen positive response to Performance Max which uses AI to dynamically create and optimize ads and co-pilot in Microsoft ad platform helps marketeers create campaigns and troubl shoot using natural language now on to gaming we now have over 500 million monthly active users across platforms and devices and our content pipeline has never been stronger we previewed a record 30 new titles at our showcase this quarter 18 of them such as Call of Duty Black Ops 6 will be available on Game Pass Game Pass ultimate subscribers can now stream games directly on devices they already have including as of last month Amazon Fire TVs finally we are bringing our IP to new audiences Fallout for example made its debut as a TV show on Amazon Prime this quarter it was the second most watched title on the platform ever and ours played on Game Pass for the Fallout franchise increase nearly 5x quarter over quarter in closing I'm energized about the opportunities ahead we are investing for the long term in our fundamentals in our Innovation and in our people with that let me turn it over to Amy thank you safia and good afternoon everyone this quarter Revenue was $ 64.7 billion up 15% and 16% in constant currency earnings per share was $2.95 and increased 10% and 11% in constant currency in our largest quarter of the year we again delivered double-digit top and bottom line growth with continued share gains across many of our businesses and record commitments to our Microsoft cloud platform commercial booking were significantly ahead of expectations and increased 17% and 19% in constant currency this record commitment quarter was driven by growth in the number of $10 million plus and $100 million plus contracts for both Azure and Microsoft 365 and consistent execution across our core annuity sales motions commercial remaining performance obligation increased 20% and 21% in constant currency to $269 billion roughly 40% will be recognized in Revenue in the next 12 months up 18% year-over-year the remaining portion recognized beyond the next 12 months increased 21% and this quarter our annuity mix was 97% at a company level Activision contributed a net impact of approximately three points to revenue growth was a two-point drag on operating income growth and had a negative 6 Cent impact to earnings per share a reminder that this net impact includes adjusting for the movement of Activision content from our prior relationship as a third party partner to first party and includes 938 million from purchase accounting adjustments integration and transaction related cost FX did not have a significant impact on our results and was roughly in line with our expectations on total company Revenue segment level Revenue cogs and operating expense growth Microsoft cloud Revenue was $ 36.8 billion and grew 21% and 22% in constant currency roughly in line with expectations Microsoft cloud gross margin percentage decreased roughly 2 points year-over-year to 69% in in line with expectations excluding the impact of the change in accounting estimate for useful lives gross margin percentage decreased slightly driven by sales mix shift to Azure partially offset by Improvement in Azure even with the impact of scaling our AI infrastructure company gross margin dollars increase 14% And 15% in constant currency and gross margin percentage decrease slightly year-over-year to 70% excluding the impact of the change in accounting estimate gross margin percentage increased slightly even with the impact from purchase accounting adjustments integration and transaction related cost from the Activision acquisition operating expenses increased 13% with nine points from the Activision acquisition at a total company level head count at the end of June was 3% higher than a year ago operating income increased 15% and 16% in constant currency and operating margins were 43% relatively unchanged Eur over year excluding the impact of the change in accounting estimate operating margins increased slightly driven by the higher gross margin noted earlier and improved operating leverage through continued cost discipline now to our segment results revenue from productivity in business processes was 20.3 billion and grew 11% and 12% in constant currency slightly ahead of expectations driven by better than expected results across all business units office commercial Revenue grew 12% and 1% in constant currency Office 365 commercial Revenue increased 133% and 14% in constant currency with arpo growth primarily from E5 momentum as well as co-pilot for Microsoft 365 paid Office 365 commercial seats grew 7% year-over-year with install based expansion across all customer segments seat growth was again driven by our small and medium business and Frontline worker offerings although both segments continued to moderate office commercial licensing declined 9% and 7% in constant currency with continued customer shift to Cloud offerings office consumer Revenue increased 3% and 4% in constant currency with continued momentum in Microsoft 365 subscriptions was scw 10% to 82.5 million LinkedIn Revenue increased 10% and 9% in constant currency driven by better than expected performance across all businesses Dynamics Revenue grew 16% driven by Dynamics 365 which grew 19% and 20% in constant currency we saw continued growth across all workloads and better than expected new business Dynamics 365 now represents roughly 90% of total Dynamics Revenue segment gross margin dollars increased 9% and 10% in constant currency and gross margin percentage decreased roughly one point year-over-year excluding the impact of the change in accounting estimate gross margin percentage decreased slightly driven by Office 365 as we scale our AI infrastructure operating expenses increased 5% and operating income increased 12% and 133% in constant currency next the intelligent Cloud segment Revenue was $ 28.5 billion increasing 19% and 20% in constant currency in line with expectations overall server products and cloud services Revenue grew 21% and 22% in constant currency Azure and other cloud services Revenue grew 29% and 30% in constant currency in line with expectations and consistent with Q3 when adjusting for leap year Azure growth included eight points from AI Services where demand remained higher than our available capacity in June we saw slightly lower than expected growth in a few European GEOS in our per user business the Enterprise mobility and Security install base grew 10% to over 281 million seats with continued impact from moderated growth in seats sold outside the Microsoft 365 Suite therefore our Azure consumption business continues to grow faster than total Azure in our on premises server business Revenue increased 2% and 3% in constant currency growth was driven by demand for our hybrid Solutions although was slightly lower than expected transactional purchasing Enterprise and partner Services Revenue decreased 7% on a strong prior year comparable for Enterprise Support Services segment gross margin dollars increased 16% and gross margin percentage decreased roughly two points year-over-year excluding the impact of the change in accounting estimate gross margin percentage decreased slightly driven by sales mix shift to Azure partially offset by the Improvement in Azure noted earlier even with the impact of scaling our AI infrastructure operating expenses increased 5% and operating income grew 22% in 23 3% in constant currency now to more personal Computing Revenue was $15.9 billion increasing 14% And 15% in constant currency with 12 points of net impact from the Activision acquisition results were above expectations driven by Windows commercial and search the PC market was as expected and windows OEM Revenue increased 4% year-over-year Windows commercial products and cloud services Revenue increased 11% and 12% in constant currency ahead of expectations due to higher in Period Revenue recognition from the mix of contracts devices Revenue decreased 11% and 9% in constant currency roughly in line with expectations as we remain focused on our higher margin premium products while early days we're excited about the recent launch of our copilot plus PCS search and news advertising Revenue xtac increased 19% ahead of expectations primarily due to improved execution healthy volume growth was driven by Bing and Ed and in Gaming revenue increased 44% with 48 points of net impact from the Activision acquisition Xbox content and services Revenue increased 61% slightly ahead of expectations with 58 points of net impact from the Activision acquisition stronger than expected performance in first-party content was partially offset by thirdparty content performance Xbox Hardware Revenue decreased 42% and 41% in constant currency segment gross margin dollars increased 21 1% with 10 points of net impact from the Activision acquisition gross margin percentage increased roughly three points year-over-year primarily driven by sales mix shift to higher margin businesses operating expenses increased 43% with 41 points from the Activision acquisition operating income increased 5% and 6% in constant currency now back to Total company results Capital expenditures including Finance leases were $19 billion in line with expectations and cash paid for PPN was $13.9 billion cloud and AI related spend represents nearly all of our total Capital expenditures within that roughly half is for infrastructure needs where we continue to build and Lease data centers that will support monetization over the next 15 years and Beyond the remaining cloud and AI related spend is primarily for servers both CPUs and gpus to serve customers based on demand signals for the full year the mix of our cloud and AI related spend was similar to Q4 cash flow from operations was 37.2 billion up 29% driven by strong Cloud Billings and collections free cash flow was $23.3 billion up 18% year-over-year reflecting higher Capital expenditures to support our cloud and AI offerings for the full year cash flow from operations surpassed $100 billion for the first time reaching 9 billion this quarter other income expense was negative $675 million more favorable than anticipated with lower than expected interest expense and higher than expected interest income our losses on investments accounted for under the equity method were as expected our effective tax rate was approximately 19% higher than anticipated due to a state tax law signed in June that was effective retroactively and finally we returned $8.4 billion to shareholders through dividends and share repurchases bringing our total cash return to shareholders to over 34 billion for the full fiscal year now moving to our Outlook my commentary for both the full year and next quarter is on a US dollar basis unless specifically noted otherwise let me start with some ful year commentary for fy2 first FX assuming current rates remain stable we expect FX to have no meaningful impact to full year Revenue cogs or operating expense growth next we continue to expect double digigit revenue and operating income growth as we focus on delivering differentiated value for our customers to meet the growing demand signal for our Ai and Cloud products we will scale our infrastructure Investments with fy2 capital expenditures expected to be higher than FY 24 as a reminder these expenditures are dependent on demand signals and Adoption of our services that will be managed through the year as scaling these Investments drives growth in cogs we will remain disciplined on operating expense management therefore we expect FY 25 Opex growth to be in the single digits and given our focused commitment to managing at the operating margin level we still expect fy2 operating margins to be down only about 1 point year-over-year and finally we expect our FY 25 effective tax rate to be around 19% now to the outlook for our first quarter based on current rates we expect FX to decrease total revenue and segment level Revenue growth by less than one point we expect FX to decrease cogs growth by less than one point and to have no meaningful impact to operating expense growth in commercial bookings increased long-term commitments to our platform and strong execution across core annuity sales motions should drive Healthy Growth on a growing free base as a reminder larger long-term Azure contracts which are more unpredictable in their timing can derve increased quarterly volatility in our bookings growth rate Microsoft cloud growth margin percentage should be roughly 70% down year-over-year driven by the impact of scaling our AI infrastructure we expect Capital expenditures to increase on a sequential basis given our cloud and AI demand as well as existing AI capacity constraints as a reminder there can be quarterly spend varability from cloud infrastructure build outs and the timing of delivery of Finance leases next to segment guidance in productivity and business processes we expect Revenue to grow between 10 and 11% in constant currency or 20.3 to 20.6 billion US in office commercial Revenue growth will again be driven by Office 365 with seat growth across customer segments and RP gross through E5 and co-pilot for Microsoft 365 we expect office 65 Revenue growth to be approximately 14% in constant currency in our on premises business we expect Revenue to decline in the mid to high teens in office consumer we expect Revenue growth in the low to mid single digits driven by Microsoft 365 subscriptions for LinkedIn we expect Revenue growth in the high single digits driven by continued growth across all businesses and in Dynamics we expect Revenue growth in the low to mid teams driven by Dynamics 365 for intelligent cloud expect Revenue to grow between 18 and 20% in constant currency or 28.6 to 28.9 billion US doar Revenue will continue to be driven by Azure which as a reminder can have quarterly variability primarily from our per user business and in Period Revenue recognition depending on the mix of contracts in Azure we expect Q on Revenue growth to be 28 to 29% in constant currency growth will continue to be driven by our consumption business inclusive of AI which is growing faster than total Azure we expect the consumption Trends from Q4 to continue through the first half of the Year this includes both AI demand impacted by capacity constraints and non AI growth Trends similar to June growth in our per user business will continue to moderate and in H2 we expect Azure growth to accelerate as our Capital Investments create an increase in available AI capacity to serve more of the growing demand in our on premises server business we expect Revenue to decline in low single digits as continued hybrid demand will be more than offset by lower transactional purchasing and in Enterprise and partner Services Revenue should decline in the low single digits and more personal Computing we expect Revenue to grow between 9 and 12% in constant currency or 14.9 to 15.3 billion US Windows OEM Revenue growth should be relatively thought roughly in line with the PC market and window those commercial products and cloud services customer demand for Microsoft 365 and our Advanced Security Solutions should drive Revenue growth in the mid single digits as a reminder our quarterly Revenue growth can have variability primarily from in Period Revenue recognition depending on the mix of contracts in devices Revenue growth should be in the low to mid single digits search and news advertising X teac Revenue growth should be in the mid to high teens this will be higher than overall search and news advertising Revenue growth which we expect to be in the low single digits and in gaming we expect Revenue growth in the mid-30s including approximately 40 points of net impact from the Activision acquisition we expect Xbox content and services Revenue growth in the low to mid-50s driven by the net impact from the Activision acquisition Hardware Revenue will again decline year-over-year now back to company guidance we expect cogs between 19.95 to 20.15 billion us including approximately 7 $100 million from purchase accounting integration and transaction related cost from the Activision acquisition we expect operating expense of 15.2 to 15.3 billion us including approximately $200 million from purchase accounting integration and transaction related costs from the Activision acquisition other income and expense should be roughly negative $650 million proven by losses on investments accounted for under the equity method as interest income will be mostly offset by interest expens as a reminder we are required to recognize gains or losses on our Equity Investments which can increase quarterly volatility we expect our q1 effective tax rate to be approximately 19% in closing we remain focused on delivering innovations that matter to our Global customers of every size that Focus extends to delivering on our financial commitments as well we delivered operating margin growth of nearly three points year-over-year even as we accelerate our AI Investments completed the Activision acquisition and had a headwind from the change in useful lives last year so as we begin fy2 we will continue to invest in the cloud and AI opportunity ahead aligned and if needed adjusted to the demand signals we see we are committed to Growing our leadership across our commercial cloud and within that the AI platform and we feel well positioned as we start fy2 with that let's go to Q&A Brett thanks Amy we'll now move over to Q&A out of respect for others on the call we request the participants please only ask one question operator can you please repeat your instruction ladies and gentlemen if you would like to ask a question please press star one on your telephone keypad and a confirmation tone will indicate your lines in the question queue you may press star two if you would like to remove your question from the queue for participants using speaker equipment it may be necessary to pick up your handset before pressing the star keys and our first question comes from the line of Keith Weiss with Morgan Stanley please proceed excellent uh thank you guys for taking the question and congratulations on another uh great quarter and really solid overall fiscal year right now there's a industry debate raging around the um CeX requirements around generative Ai and whether the monetization is actually going to match with that and I think the question for for for you guys from a Microsoft perspective is is uh is capex still an appropriate leading indicator for cloud growth or do the shifting gross margin profiles change that equation or set another way maybe can you give us a little bit more help in understanding the timing between the capex Investments and the yields on those Investments thank you thank you Keith so let me St and then Amy can add to this um I think I would say we primarily start right now from the demand side what I mean by that is um what's the product shape of the product portfolio uh you know what we learned even from the cloud transition which as you know Keith was similar in the sense it was both a knowledge intensive and a capital intensive transition we needed to have the product portfolio where there was the right mix of I'll call it infrastructure meters as well as SAS applications um so that's the first thing uh that we looking looking at and how is that value Landing with customers and what's the growth rate so when I think about what's happening with M365 co- pilot as perhaps the best Office 365 or M365 Suite uh we have had um the fact that we're getting recurring customers or customers coming back buying more seats or GitHub co-pilot now being bigger than even GitHub when we bought it uh what's happening in the contact center with Dynamics so I would say um you know and obviously the azure uh AI growth that's the first place we look at that then drives bulk of the cap expend basically that's the demand signal uh because you got to remember even in the capital spend there is land and there is data center build but 60 plus percent is the kit uh that only will be bought for inferencing and everything else if there is demand signal right so that's I think the key way to think about Capital cycle even uh the asset as Amy said is long-term asset uh which is land and the data center which by the way we don't even construct things fully we can even have things which are semi constructiv we called cold shells and so on so we know how to manage our cap expend to build out a long-term asset uh and a lot of the hydration of the kit happens when we have the demand signal there is definitely spend for training uh even there of course we will only be scaling uh training as we see the demand uh crew in any given period in time so I would say it's more important to manage to capture the opportunity with the right product portfolio that's driving value and on that front I feel good about the breadth of Microsoft offering whether it's in consumer side uh whether it's in commercial per seed side or on the consumption meters uh that's I think the fundamental driver and Keith you know I do think um and I really do appreciate how you phrase the question as well because I think the timing uh and some of the questions you all have had really led to how we were talking even about Capital expense uh in our comments and my comments today um being able to maybe share a little more about that when we talked about you know roughly half of FY 24's total Capital expense as well as half of q4's um expense it's really on land and builds and finance leases and those things really will be monetized over 15 years and be beond and they're incredibly flexible um because we've built an consistent architecture first with a commercial cloud and second with the Azure stack for AI regardless of whether the demands at the platform layer or at the app layer or through third parties and partners or frankly uh our first party stass it uses the same infrastructure so we've got longli flexible assets and if you think about it that way you can see what we're doing and focused on is building out this network in parallel across the globe because you know when we did this last transition um the first transition to the cloud which seems a long time ago sometimes um it rolled out quite differently we rolled out more Geo by Geo and this one because we have Demand on a global basis we are doing it on a global basis which is important uh we have large customers in every Geo and so hopefully with that um sort of shape of our Capital expense it helps people see how much of that is sort of near-term monetization driver as well as a much longer um duration that's super helpful thank you very much thanks Keith operator next question please and the next question comes from the line of Mark morler with Bernstein research please proceed thank thank you very much uh thank you for Tak the question and congrats on a strong year um gen has been a bit of roller coaster for Tech over the last year with periods of uh acceleration um high expectations and the expectations drop is reality kicked in with Azure growth we've seen this quarter an 0365 commercial not yet fully visible in numbers even though AMU gave us a lot of color on it two quick parts to the question on SAA how should we think about what it's going to take for Gen to become more real across the industry and for it to become more visible within your SAS offerings and Amy um with Cloud it took time for margins to improve it looks like with AI it's happening quicker can you give us a sense of how you think about the margin impact near-term and long term from all the investment on AI thank you yeah thanks again Mark for the question so to me look at the end of the day jna is just software um so it is really translating into uh fundamentally growth on what is been our M365 uh SAS offering uh with a new offering that is the m co-pilot SAS offering which today uh is on a growth rate that's faster than any other previous generation of software uh we launched as a suite in M365 that's I think the best way to describe it I mean and the numbers I think we shared even this quarter are indicative of this Mark so if you look at it uh we have both the landing of the seats itself quarter over quarter that is uh growing 60% right that's a pretty good healthy sign the most healthy sign for me is the fact that customers are coming back there that is the same customers with whom we landed the seats coming back and buying more seats and then the number of customers with 10,000 plus seats doubled right it's 2x quarter over quarter that to me is a healthy SAS Core Business and on top of that you know some of the things that Amy shared are on Dynamics that's another exciting uh place for us which is one we're gaining share we're um uh your Dynamics with the Gen builtin is sort of really Biz app is probably the category that gets completely transformed uh with jna contact centers being a great example we ourselves are you know on course to save hundreds of millions of dollars in our own uh customer support and contact center operations I think we we can drive that value uh to our customers and then on the Azure side uh you see the numbers very clearly in fact I think last quarter is when we started giving you that you saw an acceleration of that this quarter uh one of the other pieces Mark is AI doesn't sit on its own right so it's just uh for we have a concept of design wins uh in Azure so in fact uh 50% of the folks who are using Azure AI are also using a data meter that's very exciting to us because the most important thing in Azure is to win workloads in the Enterprise uh and that is are starting to happen and these are generational uh things once they get going with you so that's I think how we think about it at least when I look at what's happening on our demand site and Mark to answer the second half of your question on margin Improvement looking different than it did through the last Cloud cycle that's primarily for a reason I've mentioned a couple times we have a consistent uh platform so uh because we're building to one Azure AI stack uh we don't have to have multiple infrastructure Investments we're making one uh we're using that internally first party and that's what we're using with customers to build on as well as isbs so it does in fact um make make margins uh start off better and obviously scale consistently thank you thanks Mark operator next question please the next question comes from the line of cash rangan with Goldman Sachs please proceed I thank you very much and congrats on a great uh year uh fiscal year ending uh question for you Amy when you look at the capex how do you ring efficiencies out of the capex you disclosure at 50% of the was infrastructure the other 50% Tech is very useful so in other words do you have to keep going growing capex at these elevated rates or could you slow down capex and still get that consistent Revenue growth rate in your Azure and generative AI uh that that's the the main question on my mind thank you so much thanks Cash uh that that's a very good question there's really two pieces I think as I heard your question that I would um reflect on the first is could we see sort of consistent Revenue growth without maybe what you would say is more of this sort of elevated um ta expense number or something that continues to accelerate and the answer to that is yes because there's two different pieces right you're seeing half of this go toward long-term builds that Sakia mentioned um you know the pace at which we fill those builds with CPUs or gpus um will be demand driven and so if we see differences in demand signal uh we can throttle that investment on the CPU side which we've done for I guess a long time at this point as I reflect and we'll use all that same learning and demand signal understanding to do the same thing on the GPU side and so um you're right that you could see relatively consistent Revenue patterns and yet see these inconsistencies and and capital spend quarter to quarter the other thing I would um note cash is you'll also notice there's a s of growing distinction between um our capex number and on occas the cash that we pay for PPN and you're going to start to see that more often um in this period um because it happens when we use leases um leases sort of show up all at once and so you'll see a little bit more volatility I've mentioned that in my comments before but I mentioned again just because you're starting to see that distinction in my comments and and hopefully that's helpful context just one other thing Amy if I wanted to add I think as people think about Capital spend I think it's important separate out leases from build and when it comes to build I think it's important for us to think about we think about it in terms of What's the total percentage of cost that goes into each line item land which obviously has a very different duration and a very different lead time so those are the other two considerations we think about lead time and duration of the asset uh land you know Network construction the system or the kit and then the ongoing cost and so if you think about it that way then it you know you know how to even adjust if you will the capital spend based on demand signal thank you it was triggered by the jump and CICS and as Emy pointed out you're guiding to accelerating re Azure Revenue growth rate which I guess follows the the CAPIC search thank you so much once again thanks Cash operator next question please the next question comes from the line of Brent till with Jeff please proceed thanks uh Amy the magnitude to beat this quarter was a little lower than we've seen in the past was there anything unusual on Sal Cycles the close rate that you saw thanks um thanks Brent actually no uh as I was talking on the corner I I mean commercial bookings were much better than we expected going into the quarter um commitments were very good execution across both the core sort of annuity renewal motion um was good as expected the uh larger long-term commitments uh were better than we expected so BR I would not say there was anything really unusual um in how I thought about uh and what we saw in our commercial execution um through through the quarter great thank you thanks Brent operator next question please the next question comes from the line of Carl kierstead with UBS please proceed okay great maybe I'll direct this to Amy Amy I know when you set your Azure guidance you're always looking to uh meet or beat uh the highend the 30% you put up in the June quarter amazing number given the scale of azure but it did come in at the low end of your range and I just love for you to maybe elaborate on on the Delta I guess as I reflect on what you said in your comments there's two things that I heard you say one it sounded like like um there's persistent capacity constraints that you think might uh get alleviated in the second half and then secondly you mentioned perhaps some modest softness in Europe I presume that's uh a little bit more economic rather than Azure specific uh is that the right way to to frame um the performance in the quarter thank you uh thanks Carl um yes that's exactly right maybe I'll just repeat it just so people can hear it uh in my words as well um to that 30 to 31% guide for Q4 and coming in at the lower end at 30 uh you're exactly right the the distinguishing uh between being at the higher end or at the lower end really was um some softness we saw in a few European GEOS on uh non AI consumption um really uh you know made made the difference in that number and and we've assumed that going forward into H1 um inclusive of my guide in 28 to 29 going forward and then let me separate which was your larger point which is what are the other factors you see ongoing um number one you're right uh capacity constraints uh particularly on AI uh and Azure will remained in Q4 and will remain uh in H1 so hopefully hopefully that's helpful yeah thank you Amy thanks Carl operator next question please the next question comes from the line of Brad zelnick with doche bank please proceed great thank you very much Amy with Azure demand once again greater than available capacity I appreciate you know the capex Investments and the buildout and acceleration you expect in the back half but as we think about Cloud capacity and AI Services specifically can you talk about both the near-term and long-term strategy around the AI Partnerships that signing with the likes of Oracle and Cory for example thank you um thanks Brad maybe uh separate a couple of things um we are and we've talked about I think now for quite a few quarters uh we are constrained on AI capacity and because of that actually we've um to your point have signed up with third parties uh to help us uh as we are behind uh with some leases on AI capacity um we've done that with Partners who are happy to help help us extend the Azure platform uh to be able to serve this a Azure AI demand and you do see us uh investing quite a bit as we've talked about in builds so that we can get back in a more balanced Place yeah I mean to me it's no different than leases that we would have done in the past um these you could even say sometimes buying from Oracle maybe even more efficiently because they're even shorter date excellent thanks for the color thanks Brad operator next question please the next question comes from the line of Mark Murphy with JP Morgan please proceed thank you very much with a couple quarters of co-pilot for M365 availability under under your belt now how are you assessing the capability of co-pilots to replicate uh the productivity gains that they've created for developers which seem to be very high uh and to do something similar for the broader population of of knowledge workers for instance with you're mentioning the the 10,000 seat deals the repeat purchases is it possible to eventually see co-pilot penetration rates uh equally high in office as they will be in GitHub yeah that's a that's a great question uh in fact the the the GitHub design system uh and the GitHub Co pilot workspace design system which now um you know for example you start with an issue you create a plan from a plan you create a spec um or you create a spec and from a spec you create a plan and then you go uh operate across the full repo uh that's effectively the design system that uh is getting replicated inside of even the uh M365 co-pilot uh and you see this even now uh for examp example you get an email uh you're in sales uh you want to respond to the customer the data from the email is essentially context for a prompt but you expand by bringing in all of your CRM data right so this customer email is in the context of some order all of the CRM record gets completed in context and a reply gets generated uh with the CRM data uh that's the type of stuff that's already happening then you take something like co-pilot Studio you can start even grounding it in more data and then completing workflows so you could say if this email comes from this customer whose order uh date is you know uh got a particular issue with it you can then go and escalate it to somebody else who gets a notification in teams and those are the kinds of workflows that are getting built uh within uh it or by end users themselves uh what used to be line of business applications to us are co-pilot extensions uh going forward so we think of this as uh really a new design system for knowledge and Frontline work to drive productivity uh which would be very akin to what has happened in software engineering so when you think about marketing or Finance or sales or customer service we will effectively replicate uh what you just said which is the type of productivity we've seen in developers uh will come to all of these functions as they think about their work workflow and work artifact all being driven by co-pilots thank you very much thanks Mark operator we have time for one last question and the last question will come from the line of Keith Bachman with Capital markets please proceed hi good evening and thank you for the opportunity to ask the question I actually wanted to Veer towards gaming if I could for a second Xbox content Services Revenue grew 61% 58 points uh help from Activision so net is is about three points of growth how should investors think about the longer term growth potential uh in this area you've made significant Investments including the Activision deal um but how should investors be thinking about the growth potential of the gaming area what are the puts and takes to help make considerations here thank you yeah for us you know our investment um in gaming uh fundamentally was to have I'll would say the right portfolio of both what we love about gaming and always have loved about gaming which is Xbox and uh the content for the console uh and expand from there so that we have content for everywhere people play games starting with the PC uh so when I think about the Activision portfolio it comes with great assets for us to cover both the PC and the console and then of course uh as to cover mobile sockets which we never had so we feel uh that now we have both the content and the ability to access all the traditional high-scale platforms where people play games which is uh the console PC and mobile uh but we're also excited about these new sockets right I mean the fact that even in this last quarter we expanded uh xcloud uh to Amazon uh TV uh I forget the name of what it's called but uh but that's the type of new access that really helps us a lot get reach new Gamers or the same gamer everywhere they want to play uh and that ultimately will show up in that software plus Services uh and transaction revenue for us uh which is really our long-term kpi uh and that's what we're building uh towards and that was the strategy behind Activision as an asset Amy if you wanted to add to it no I I do think the the real goal here is to be able to take a broaden set of content to more users in more places uh and really build what looks more like to us a software annuity and subscription business um with enhanced transactions and the ownership of Ip which is quite valuable long term as s mentioned things where uh with the ownership of Ip it can be monetized in multiple ways and uh I think we're really encouraged by some of the progress and and how we're making making progress with Game Pass as well uh with some of the new announcements thank you Keith thanks Keith that wraps up the Q&A portion of today's earnings call thank you for joining us today and we look forward to speaking with all of you soon thank you thank you all this concludes today's conference you may now disconnect your alliance at this time enjoy the rest of your day e e e e e\n\n"
     ]
    }
   ],
   "source": [
    "print(doc_content.text_content)"
   ]
  },
  {
   "cell_type": "code",
   "execution_count": 0,
   "metadata": {
    "application/vnd.databricks.v1+cell": {
     "cellMetadata": {},
     "inputWidgets": {},
     "nuid": "d23657c2-ad7f-441e-849b-24bfc3c567cb",
     "showTitle": false,
     "tableResultSettingsMap": {},
     "title": ""
    },
    "id": "0G6V3Kv1jwU0"
   },
   "outputs": [],
   "source": [
    "from markitdown import MarkItDown\n",
    "from langchain_community.tools.tavily_search import TavilySearchResults\n",
    "from tqdm import tqdm\n",
    "import requests\n",
    "\n",
    "tavily_tool = TavilySearchResults(max_results=5,\n",
    "                                  search_depth='advanced',\n",
    "                                  include_answer=False,\n",
    "                                  include_raw_content=True)\n",
    "md = MarkItDown()\n",
    "\n",
    "@tool\n",
    "def search_web_extract_info(query: str) -> list:\n",
    "    \"\"\"Search the web for a query and extracts useful information from the search links\"\"\"\n",
    "    results = tavily_tool.invoke(query)\n",
    "    docs = []\n",
    "    for result in tqdm(results):\n",
    "        # Extracting all text content from the URL\n",
    "        try:\n",
    "            extracted_info = md.convert(result['url'])\n",
    "            text_title = extracted_info.title.strip()\n",
    "            text_content = extracted_info.text_content.strip()\n",
    "            docs.append(text_title + '\\n' + text_content)\n",
    "        except:\n",
    "            print('Extraction blocked for url: ', result['url'])\n",
    "            pass\n",
    "\n",
    "    return docs"
   ]
  },
  {
   "cell_type": "code",
   "execution_count": 0,
   "metadata": {
    "application/vnd.databricks.v1+cell": {
     "cellMetadata": {},
     "inputWidgets": {},
     "nuid": "ce1c3f33-66a8-4fab-97bb-a08ea2662ecc",
     "showTitle": false,
     "tableResultSettingsMap": {},
     "title": ""
    },
    "colab": {
     "base_uri": "https://localhost:8080/"
    },
    "id": "_qNB0fSmlhLQ",
    "outputId": "ff852d1e-aaf1-4b69-e516-744d923b6092"
   },
   "outputs": [
    {
     "output_type": "stream",
     "name": "stderr",
     "output_type": "stream",
     "text": [
      "C:\\Users\\Sourav Banerjee\\AppData\\Local\\Temp\\ipykernel_24820\\1285904659.py:1: LangChainDeprecationWarning: The method `BaseTool.__call__` was deprecated in langchain-core 0.1.47 and will be removed in 1.0. Use :meth:`~invoke` instead.\n  docs = search_web_extract_info('OpenAI GPT-4o')\n100%|██████████| 5/5 [00:01<00:00,  2.60it/s]"
     ]
    },
    {
     "output_type": "stream",
     "name": "stdout",
     "output_type": "stream",
     "text": [
      "Extraction blocked for url:  https://help.openai.com/en/articles/7102672-how-can-i-access-gpt-4-gpt-4-turbo-gpt-4o-and-gpt-4o-mini\nExtraction blocked for url:  https://openai.com/index/hello-gpt-4o/\nExtraction blocked for url:  https://platform.openai.com/docs/models\nExtraction blocked for url:  https://openai.com/index/gpt-4o-and-more-tools-to-chatgpt-free/\n"
     ]
    },
    {
     "output_type": "stream",
     "name": "stderr",
     "output_type": "stream",
     "text": [
      "\n"
     ]
    }
   ],
   "source": [
    "docs = search_web_extract_info('OpenAI GPT-4o')"
   ]
  },
  {
   "cell_type": "code",
   "execution_count": 0,
   "metadata": {
    "application/vnd.databricks.v1+cell": {
     "cellMetadata": {},
     "inputWidgets": {},
     "nuid": "53489862-2b76-4f16-a0d3-b905bbf779a0",
     "showTitle": false,
     "tableResultSettingsMap": {},
     "title": ""
    },
    "colab": {
     "base_uri": "https://localhost:8080/",
     "height": 1000,
     "resources": {
      "http://localhost:8080/_next/image?url=https%3A%2F%2Favatars.githubusercontent.com%2Fu%2F96567547%3Fs%3D400%26u%3D08b9757200906ab12e3989b561cff6c4b95a12cb%26v%3D4&w=64&q=75": {
       "data": "",
       "headers": [
        [
         "content-length",
         "0"
        ]
       ],
       "ok": false,
       "status": 404,
       "status_text": ""
      },
      "http://localhost:8080/_next/static/media/openai-logomark.e026557a.svg": {
       "data": "",
       "headers": [
        [
         "content-length",
         "0"
        ]
       ],
       "ok": false,
       "status": 404,
       "status_text": ""
      }
     }
    },
    "id": "jHJb63LQm2If",
    "outputId": "2ebcd166-88f6-4af1-de57-540b2c08567d"
   },
   "outputs": [
    {
     "output_type": "display_data",
     "data": {
      "text/markdown": [
       "What Is GPT-4o? | IBM\n",
       "# What is GPT-4o?\n",
       "\n",
       "[Artificial Intelligence](https://www.ibm.com/think/artificial-intelligence)\n",
       "[IT automation](https://www.ibm.com/think/it-automation)\n",
       "\n",
       "#### 24 September 2024\n",
       "\n",
       "Link copied\n",
       "\n",
       "## Authors\n",
       "\n",
       "[#### Ivan Belcic](https://www.ibm.com/think/author/ivan-belcic.html)\n",
       "\n",
       "Staff writer\n",
       "\n",
       "[#### Cole Stryker](https://www.ibm.com/think/author/cole-stryker)\n",
       "\n",
       "Editorial Lead, AI Models\n",
       "\n",
       "## What is GPT-4o?\n",
       "\n",
       "GPT-4o is a multimodal and multilingual generative pretrained [transformer model](https://www.ibm.com/topics/transformer-model) released in May 2024 by [artificial intelligence (AI)](https://www.ibm.com/topics/artificial-intelligence) developer OpenAI. It is the flagship [large language model (LLM)](https://www.ibm.com/topics/large-language-models) in the GPT-4 family of [AI models](https://www.ibm.com/topics/ai-model), which also includes GPT-4o mini, GPT-4 Turbo and the original GPT-4.\n",
       "\n",
       "The “o” in GPT-4o stands for omni and highlights that GPT-4o is a [multimodal AI model](https://www.ibm.com/think/topics/multimodal-ai) with sound and vision capabilities. This means it can accept prompt datasets as a mixture of text, audio, image and video input. GPT-4o is also capable of image generation. GPT-4o brings multimedia input and output capabilities to the same transformer-powered GPT-4 intelligence fueling the other models in its line.\n",
       "\n",
       "Revealed in May 2024 as part of OpenAI’s Spring Updates, ChatGPT’s new model appeared to translate spoken language in real time, adapt audio responses to include emotional content and engage in lifelike conversations.\n",
       "\n",
       "Both GPT-4o and GPT-4o mini support [fine-tuning](https://www.ibm.com/topics/fine-tuning), enabling developers to apply these models toward specific use cases.\n",
       "\n",
       "### What is GPT-4o mini?\n",
       "\n",
       "GPT-4o mini is a smaller, cost-effective GPT-4o model and the fastest [generative AI](https://www.ibm.com/topics/generative-ai) model in the OpenAI product family. Unlike bigger [large language models (LLMs)](https://www.ibm.com/topics/large-language-models) with tens or hundreds of billions of parameters, GPT-4o mini is a small and lean model. Despite its compact size, it outperforms GPT-3.5 Turbo with similar speed and at approximately 60% of the cost.\n",
       "\n",
       "Like its larger sibling, GPT-4o mini has multimodal capabilities, supports languages other than English and can handle typical AI tasks such as reasoning, math and coding. As of publishing, GPT-4o mini can process text and image inputs. OpenAI claims that support for audio and video content is pending.\n",
       "\n",
       "Developers can access GPT-4o mini through [application programming interfaces (APIs)](https://www.ibm.com/topics/api) at a cost of USD 0.15 per million input tokens and USD 0.60 cents per million output tokens.\n",
       "\n",
       "## How is GPT-4o different from GPT-4 Turbo?\n",
       "\n",
       "GPT-4o is an “all-in-one” flagship model capable of processing multimodal inputs and outputs on its own as a single neural network. With previous models such as GPT-4 Turbo and GPT-3.5, users would need OpenAI APIs and other supporting models to input and generate varied content types. While GPT-4 Turbo can process image prompts, it is not capable of processing audio without API assistance.\n",
       "\n",
       "The multimodal nature of GPT-4o is the single biggest breakthrough as compared to GPT-4 Turbo and underpins many of its advancements:\n",
       "\n",
       "* Real-time audio conversations\n",
       "\n",
       "* Tone of voice capabilities\n",
       "\n",
       "* Built-in video processing\n",
       "\n",
       "* Image generation\n",
       "\n",
       "* Greater token efficiency\n",
       "\n",
       "### Real-time audio conversations\n",
       "\n",
       "GPT-4o’s faster speed and multimodal capabilities allow it to engage conversationally and translate languages at a more humanlike pace than GPT-4 Turbo. In a video demo as part of its release announcement[1](#footnotes1), ChatGPT-4o was shown translating in real time between English and Spanish speakers. GPT-4o brings [chatbot](https://www.ibm.com/topics/chatbots) voice support in over 50 languages.\n",
       "\n",
       "Because it can process audio inputs by itself, GPT-4o has lower latency—the time taken to produce output from the moment an input is received—than previous models. It responds to audio input in 320 milliseconds, comparable to the typical human response time of 210 milliseconds.\n",
       "\n",
       "Previous iterations of GPT-4 required multiple models assembled in a pipeline to provide a similar service, increasing its latency to 5.4 seconds. Before GPT-4o, OpenAI’s Whisper API converted audio prompts to text, fed them to GPT-4 Turbo, then text-to-speech (TTS) services converted GPT’s responses back to audio.\n",
       "\n",
       "GPT-4 Turbo was also a slower model in general. In benchmark tests by AI evaluation organization Artificial Analysis[2](#footnotes2), GPT-4o demonstrated a speed of 110 tokens per second, approximately three times faster than GPT-4 Turbo. In the same test, GPT-4o also outperformed many competitors, including Claude 3 Opus and Gemini 1.5 Pro.\n",
       "\n",
       "### Tone of voice capabilities\n",
       "\n",
       "The previous Whisper–GPT–TTS pipeline meant that when fielding audio inputs, GPT-4 Turbo was receiving only a text transcription of what was being said. The transcription isolates the content spoken by the user while filtering out background noise, speaker identities and tone of voice, depriving GPT of substantial contextual data.\n",
       "\n",
       "As a multimodal model, GPT-4o can process the entirety of an audio input and respond appropriately to this additional context. Its improved [natural language processing (NLP)](https://www.ibm.com/topics/natural-language-processing) enables it to include sentiment, tone and emotional content into its output generation when used in voice mode.\n",
       "\n",
       "### Built-in video processing\n",
       "\n",
       "GPT-4o handles image and video input in addition to text and audio. GPT-4o can connect to a live camera feed or record a user’s screen, then describe what it sees and answer questions. Users can turn on their smartphone cameras and speak with ChatGPT-4o the same way they would to a friend or colleague.\n",
       "\n",
       "Previously, the GPT-4 Vision API allowed GPT-4 Turbo to analyze visual content.\n",
       "\n",
       "### Image generation\n",
       "\n",
       "According to OpenAI’s release statement, GPT-4o offers self-contained image generation abilities. GPT-4 Turbo was only able to generate images by connecting to OpenAI’s DALL-E 3 model. GPT-4 Turbo would field a text-based user prompt, then DALL-E would create the image.\n",
       "\n",
       "### Greater token efficiency\n",
       "\n",
       "OpenAI improved GPT-4’s tokenization abilities with GPT-4o. Tokenization is the process by which LLMs convert words into data. Each token represents either a whole word or part of one and punctuation. AI models convert words into tokens, then apply complex mathematics to analyze that data.\n",
       "\n",
       "GPT-4o converts non-Roman languages, such as Chinese, Hindi and Arabic, into tokens much more efficiently than its predecessors. Because OpenAI charges API users per input or output token, GPT-4o’s improved efficiency in non-Roman scripts makes it more cost-effective for use cases in those languages.\n",
       "\n",
       "## What else can GPT-4o do?\n",
       "\n",
       "In addition to its new multimodal capabilities, GPT-4o brings many of the same functions as seen in prior iterations:\n",
       "\n",
       "* Question-answering\n",
       "\n",
       "* Document analysis and summarization\n",
       "\n",
       "* Sentiment analysis\n",
       "\n",
       "* Data analysis\n",
       "\n",
       "* Coding\n",
       "\n",
       "### Question-answering\n",
       "\n",
       "With a knowledge cutoff of October 2023, GPT-4o is OpenAI’s most current model in terms of its knowledge base. A knowledge cutoff is the point in time at which a model’s training data concludes. Users can ask GPT-4o questions and receive answers, though at the risk of [hallucinations](https://www.ibm.com/topics/ai-hallucinations).\n",
       "\n",
       "### Document analysis and summarization\n",
       "\n",
       "Users can upload files and have ChatGPT analyze and summarize them. GPT-4o’s context window of 128,000 tokens allows it to process large input datasets, though that is not quite as large as that of Claude 3.\n",
       "\n",
       "The context window of an LLM represents the maximum number of tokens that it can field while maintaining contextual awareness over the entire input sequence. A larger context window permits AI models to intake more complex prompts and include more information from users when generating responses.\n",
       "\n",
       "GPT-4 has already demonstrated a real-world ability to read documents via optical character recognition (OCR) by using the GPT-4 Vision API.\n",
       "\n",
       "### Sentiment analysis\n",
       "\n",
       "Sentiment analysis is the process of discerning how a person feels from their statements or behaviors. Researchers use AI models to perform sentiment analysis at scale—for example, when analyzing user reviews. As a multimodal model, GPT-4o can identify sentiment from audio input.\n",
       "\n",
       "### Data analysis\n",
       "\n",
       "GPT-4o can process complex datasets and distill actionable insights, as seen with [self-service analytics](https://www.ibm.com/think/topics/self-service-analytics) platforms. It can also represent data as charts and graphs.\n",
       "\n",
       "### Coding\n",
       "\n",
       "GPT-4o isn’t the first LLM to have coding abilities, but its multimodal nature can simplify workflows for programmers. Rather than copy and paste code into the user interface, users can share their screens and allow GPT-4o to analyze their code, provide feedback and generate code snippets.\n",
       "\n",
       "## How does GPT-4o perform?\n",
       "\n",
       "When revealing GPT-4o, OpenAI released [LLM benchmarking](https://www.ibm.com/think/topics/llm-benchmarks) test results comparing their new model to the competition. GPT-4 Turbo, GPT-4 as it initially released, Anthropic’s Claude 3 Opus, Meta’s Llama 3 400B and Google’s Gemini 1.5 Pro and Gemini 1.0 Ultra were tested alongside GPT-4o on several leading benchmarking tests.\n",
       "\n",
       "Tests included Massive Multitask Language Understanding (MMLU), which assesses knowledge base and problem-solving skills, and HumanEval, a code-checking test. OpenAI did not test GPT-4o against Google’s models in Graduate-Level Google-Proof Q&A (GPQA), a science exam requiring extensive reasoning. Nor was Llama 3 400B included in Multilingual Grade School Math (MGSM), a math exam given in 10 languages.\n",
       "\n",
       "GPT-4o placed first in four out of the six tests, coming second to Claude 3 Opus in MGSM and to GPT-4 Turbo in Discrete Reasoning Over Paragraphs (DROP), which tests a model’s ability to reason across several paragraphs.\n",
       "\n",
       "Overall, GPT-4o did not demonstrate a significant boost in performance over GPT-4 Turbo. Its comparative advancements lie chiefly with its multimodal capabilities and increased speed.\n",
       "\n",
       "## How can people access GPT-4o?\n",
       "\n",
       "OpenAI is making GPT-4o available for both free and premium users in various locations and products:\n",
       "\n",
       "* ChatGPT Plus, Team and Enterprise\n",
       "\n",
       "* ChatGPT Free\n",
       "\n",
       "* Desktop and mobile app\n",
       "\n",
       "* AI applications\n",
       "\n",
       "* Microsoft Azure OpenAI Studio\n",
       "\n",
       "### ChatGPT Plus, Teams and Enterprise\n",
       "\n",
       "Subscribers to OpenAI’s premium ChatGPT services have varying levels of access to GPT-4o. ChatGPT Plus users can send up to 80 messages every 3 hours on GPT-4o, with Team users getting more access. Enterprise users have unlimited access to GPT-4o.\n",
       "\n",
       "### ChatGPT Free\n",
       "\n",
       "Users of the free ChatGPT tier can engage with GPT-4o as the default model behind the chatbot while demand allows. When a free user reaches their limit, they’ll be rolled back to GPT-4o mini[3](#footnotes3).\n",
       "\n",
       "### Desktop and mobile apps\n",
       "\n",
       "OpenAI released a macOS desktop app along with GPT-4o that integrates the new model with a user’s MacBook. OpenAI’s ChatGPT mobile apps also grant access to GPT-4o based on a user’s subscription tier.\n",
       "\n",
       "### AI applications\n",
       "\n",
       "ChatGPT Plus, Teams and Enterprise users can build custom GPTs through which they and others can use specialized versions of GPT-4o tailored to specific use cases. Developers can also connect to GPT-4o through APIs to create other AI tools.\n",
       "\n",
       "### Microsoft Azure OpenAI Studio\n",
       "\n",
       "GPT-4o and GPT-4o mini are both available in Microsoft’s Azure OpenAI Studio, part of Microsoft’s Azure [enterprise AI](https://www.ibm.com/topics/enterprise-ai) platform. As of publishing, Copilot continues to offer GPT-4 Turbo, though Microsoft announced in May 20244 that its AI service would soon receive GPT-4o support.\n",
       "\n",
       "## What are the risks of using GPT-4o?\n",
       "\n",
       "To mitigate potential use in vishing scams, deepfakes and other types of audio fraud, OpenAI limited GPT-4o to four preset voices at launch. But as with any genAI release, GPT-4o is an imperfect model. The risks of its use include:\n",
       "\n",
       "* **Hallucinations:** Like all generative AI models, GPT-4o can hallucinate—when it detects patterns in its data that don’t exist, causing it to present incorrect information as factual. It is never advisable to use AI-generated content without first vetting or fact-checking it.\n",
       "\n",
       "* **Data breaches:** OpenAI continues to store user-provided inputs and train its models with them. Users who enter protected data into ChatGPT might find their data appearing in the model’s replies to other users.\n",
       "\n",
       "* **Intellectual property violations:** OpenAI trains its models on data available online, including copyrighted material such as news articles. Models can inadvertently generate copyrighted content as part of a response.\n",
       "\n",
       "OpenAI classified GPT-4o as a medium-risk model on their internal scale. Models are evaluated on four threat metrics—cybersecurity, CBRN (chemical, biological, radiological and nuclear threats), persuasion and model autonomy. OpenAI assesses models according to the degree to which they can be used to advance developments in each threat field.\n",
       "\n",
       "Once assessed, models are given a score ranging from *Low* to *Critical* in each field, then assigned an overall score corresponding to their single highest threat ranking after considering any mitigation measures.\n",
       "\n",
       "GPT-4o earned a score of *Low* in three out of four categories, with a Medium score in Persuasion. This means it “can create (potentially interactive) content with comparable persuasive effectiveness to typical human-written content.”[5](#footnotes5) For example, malicious actors might theoretically use it to create disinformation articles and social media content.\n",
       "\n",
       "##### Footnotes\n",
       "\n",
       "1. [Hello GPT-4o](https://openai.com/index/hello-gpt-4o/), OpenAI, 13 May 2024\n",
       "\n",
       "2. [GPT-4o: Quality, Performance & Price Analysis](https://artificialanalysis.ai/models/gpt-4o?models_selected=gpt-4o-2024-08-06%2Cgpt-4o%2Cgpt-4o-mini%2Cllama-3-1-instruct-405b%2Cllama-3-1-instruct-70b%2Cllama-3-1-instruct-8b%2Cgemini-1-5-pro%2Cgemini-1-5-flash%2Cclaude-35-sonnet%2Cclaude-3-haiku%2Cmistral-large-2%2Cmistral-nemo%2Creka-core%2Cjamba-1-5-large%2Cjamba-1-5-mini%2Cgpt-4-turbo%2Cgpt-35-turbo), Artificial Analysis, 2024\n",
       "\n",
       "3. [Using ChatGPT's Free Tier - FAQ](https://help.openai.com/en/articles/9275245-using-chatgpt-s-free-tier-faq), OpenAI, 2024\n",
       "\n",
       "4. [Microsoft’s Copilot Embraces the Power of OpenAI's New GPT-4o](https://www.cnet.com/tech/services-and-software/microsoft-copilot-embraces-the-power-of-openais-new-gpt-4-o/), CNET, 24 May 2024\n",
       "\n",
       "5. [Preparedness  Framework  (Beta)](https://cdn.openai.com/openai-preparedness-framework-beta.pdf), OpenAI, 18 December 2023\n",
       "\n",
       "Ebook\n",
       "\n",
       "How to choose the right foundation model\n",
       "\n",
       "Learn how to choose the right approach in preparing datasets and employing foundation models.\n",
       "\n",
       "Read the ebook\n",
       "\n",
       "## Resources\n",
       "\n",
       "AI models\n",
       "\n",
       "Explore IBM Granite\n",
       "\n",
       "IBM® Granite™ is our family of open, performant and trusted AI models, tailored for business and optimized to scale your AI applications. Explore language, code, time series and guardrail options.\n",
       "\n",
       "Meet Granite\n",
       "\n",
       "Ebook\n",
       "\n",
       "How to choose the right foundation model\n",
       "\n",
       "Learn how to select the most suitable AI foundation model for your use case.\n",
       "\n",
       "Read the ebook\n",
       "\n",
       "Article\n",
       "\n",
       "Discover the power of LLMs\n",
       "\n",
       "Dive into IBM Developer articles, blogs and tutorials to deepen your knowledge of LLMs.\n",
       "\n",
       "Explore the articles\n",
       "\n",
       "Guide\n",
       "\n",
       "The CEO's guide to model optimization\n",
       "\n",
       "Learn how to continually push teams to improve model performance and outpace the competition by using the latest AI techniques and infrastructure.\n",
       "\n",
       "Read the guide\n",
       "\n",
       "Report\n",
       "\n",
       "A differentiated approach to AI foundation models\n",
       "\n",
       "Explore the value of enterprise-grade foundation models that\n",
       "provide trust, performance and cost-effective benefits to\n",
       "all industries.\n",
       "\n",
       "Read the report\n",
       "\n",
       "Ebook\n",
       "\n",
       "Unlock the Power of Generative AI + ML\n",
       "\n",
       "Learn how to incorporate generative AI, machine learning and foundation models into your business operations for improved performance.\n",
       "\n",
       "Read the ebook\n",
       "\n",
       "Report\n",
       "\n",
       "AI in Action 2024\n",
       "\n",
       "We surveyed 2,000 organizations about their AI initiatives to discover what's working, what's not and how you can get ahead.\n",
       "\n",
       "Read the report\n",
       "\n",
       "Related solutions\n",
       "\n",
       "Foundation models\n",
       "\n",
       "Explore the IBM library of foundation models on the watsonx platform to scale generative AI for your business with confidence.\n",
       "\n",
       "Discover watsonx.ai\n",
       "\n",
       "Artificial intelligence solutions\n",
       "\n",
       "Put AI to work in your business with IBM's industry-leading AI expertise and portfolio of solutions at your side.\n",
       "\n",
       "Explore AI solutions\n",
       "\n",
       "AI consulting and services\n",
       "\n",
       "Reinvent critical workflows and operations by adding AI to maximize experiences, real-time decision-making and business value.\n",
       "\n",
       "Explore AI services\n",
       "\n",
       "Take the next step\n",
       "\n",
       "Explore the IBM library of foundation models on the IBM watsonx platform to scale generative AI for your business with confidence.\n",
       "\n",
       "Explore watsonx.ai\n",
       "\n",
       "Explore AI solutions"
      ],
      "text/plain": [
       "<IPython.core.display.Markdown object>"
      ]
     },
     "metadata": {},
     "output_type": "display_data"
    }
   ],
   "source": [
    "from IPython.display import display, Markdown\n",
    "\n",
    "display(Markdown(docs[0]))"
   ]
  },
  {
   "cell_type": "markdown",
   "metadata": {
    "application/vnd.databricks.v1+cell": {
     "cellMetadata": {},
     "inputWidgets": {},
     "nuid": "fbf332c4-ad56-4f27-9df6-f223e590db0b",
     "showTitle": false,
     "tableResultSettingsMap": {},
     "title": ""
    },
    "id": "3km3-7WcnYk6"
   },
   "source": [
    "### Build a Weather Tool"
   ]
  },
  {
   "cell_type": "code",
   "execution_count": 0,
   "metadata": {
    "application/vnd.databricks.v1+cell": {
     "cellMetadata": {},
     "inputWidgets": {},
     "nuid": "c1fcaaaa-c2bc-494b-adf9-cc9b2a73949d",
     "showTitle": false,
     "tableResultSettingsMap": {},
     "title": ""
    },
    "id": "ZM8R-JgOnXdN"
   },
   "outputs": [],
   "source": [
    "import requests\n",
    "\n",
    "@tool\n",
    "def get_weather(query: str) -> list:\n",
    "    \"\"\"Search weatherapi to get the current weather.\"\"\"\n",
    "    base_url = \"http://api.weatherapi.com/v1/current.json\"\n",
    "    complete_url = f\"{base_url}?key={WEATHER_API_KEY}&q={query}\"\n",
    "\n",
    "    response = requests.get(complete_url)\n",
    "    data = response.json()\n",
    "    if data.get(\"location\"):\n",
    "        return data\n",
    "    else:\n",
    "        return \"Weather Data Not Found\""
   ]
  },
  {
   "cell_type": "code",
   "execution_count": 0,
   "metadata": {
    "application/vnd.databricks.v1+cell": {
     "cellMetadata": {},
     "inputWidgets": {},
     "nuid": "e9b3dce3-4d9a-4da2-83c6-2a93e5462b73",
     "showTitle": false,
     "tableResultSettingsMap": {},
     "title": ""
    },
    "colab": {
     "base_uri": "https://localhost:8080/"
    },
    "id": "12xdLSJ3ZUiv",
    "outputId": "cbf2b782-48b1-4417-960d-b599278bb199"
   },
   "outputs": [
    {
     "output_type": "execute_result",
     "data": {
      "text/plain": [
       "{'location': {'name': 'Bangalore',\n",
       "  'region': 'Karnataka',\n",
       "  'country': 'India',\n",
       "  'lat': 12.9833,\n",
       "  'lon': 77.5833,\n",
       "  'tz_id': 'Asia/Kolkata',\n",
       "  'localtime_epoch': 1739905630,\n",
       "  'localtime': '2025-02-19 00:37'},\n",
       " 'current': {'last_updated_epoch': 1739905200,\n",
       "  'last_updated': '2025-02-19 00:30',\n",
       "  'temp_c': 20.1,\n",
       "  'temp_f': 68.2,\n",
       "  'is_day': 0,\n",
       "  'condition': {'text': 'Clear',\n",
       "   'icon': '//cdn.weatherapi.com/weather/64x64/night/113.png',\n",
       "   'code': 1000},\n",
       "  'wind_mph': 6.7,\n",
       "  'wind_kph': 10.8,\n",
       "  'wind_degree': 127,\n",
       "  'wind_dir': 'SE',\n",
       "  'pressure_mb': 1019.0,\n",
       "  'pressure_in': 30.09,\n",
       "  'precip_mm': 0.0,\n",
       "  'precip_in': 0.0,\n",
       "  'humidity': 73,\n",
       "  'cloud': 0,\n",
       "  'feelslike_c': 20.1,\n",
       "  'feelslike_f': 68.2,\n",
       "  'windchill_c': 20.5,\n",
       "  'windchill_f': 68.9,\n",
       "  'heatindex_c': 20.5,\n",
       "  'heatindex_f': 68.9,\n",
       "  'dewpoint_c': 11.7,\n",
       "  'dewpoint_f': 53.0,\n",
       "  'vis_km': 6.0,\n",
       "  'vis_miles': 3.0,\n",
       "  'uv': 0.0,\n",
       "  'gust_mph': 12.7,\n",
       "  'gust_kph': 20.4}}"
      ]
     },
     "execution_count": 56,
     "metadata": {},
     "output_type": "execute_result"
    }
   ],
   "source": [
    "get_weather.invoke(\"Bangalore\")"
   ]
  },
  {
   "cell_type": "code",
   "execution_count": 0,
   "metadata": {
    "application/vnd.databricks.v1+cell": {
     "cellMetadata": {},
     "inputWidgets": {},
     "nuid": "4ece8ee8-e07c-4111-9bb5-b7dfec04a11f",
     "showTitle": false,
     "tableResultSettingsMap": {},
     "title": ""
    }
   },
   "outputs": [
    {
     "output_type": "stream",
     "name": "stdout",
     "output_type": "stream",
     "text": [
      "Collecting rich\n  Using cached rich-13.9.4-py3-none-any.whl.metadata (18 kB)\nCollecting markdown-it-py>=2.2.0 (from rich)\n  Using cached markdown_it_py-3.0.0-py3-none-any.whl.metadata (6.9 kB)\nRequirement already satisfied: pygments<3.0.0,>=2.13.0 in d:\\2. my workspace and notes\\1. demystify folders\\generativeai-demystified\\.venv\\lib\\site-packages (from rich) (2.19.1)\nCollecting mdurl~=0.1 (from markdown-it-py>=2.2.0->rich)\n  Using cached mdurl-0.1.2-py3-none-any.whl.metadata (1.6 kB)\nUsing cached rich-13.9.4-py3-none-any.whl (242 kB)\nUsing cached markdown_it_py-3.0.0-py3-none-any.whl (87 kB)\nUsing cached mdurl-0.1.2-py3-none-any.whl (10.0 kB)\nInstalling collected packages: mdurl, markdown-it-py, rich\nSuccessfully installed markdown-it-py-3.0.0 mdurl-0.1.2 rich-13.9.4\nNote: you may need to restart the kernel to use updated packages.\n"
     ]
    },
    {
     "output_type": "stream",
     "name": "stderr",
     "output_type": "stream",
     "text": [
      "C:\\Users\\Sourav Banerjee\\AppData\\Local\\Programs\\Python\\Python313\\Lib\\threading.py:996: ResourceWarning: unclosed file <_io.BufferedWriter name=3>\n  del self._target, self._args, self._kwargs\nResourceWarning: Enable tracemalloc to get the object allocation traceback\nC:\\Users\\Sourav Banerjee\\AppData\\Local\\Programs\\Python\\Python313\\Lib\\threading.py:996: ResourceWarning: unclosed file <_io.BufferedReader name=4>\n  del self._target, self._args, self._kwargs\nResourceWarning: Enable tracemalloc to get the object allocation traceback\n"
     ]
    }
   ],
   "source": [
    "pip install rich"
   ]
  },
  {
   "cell_type": "code",
   "execution_count": 0,
   "metadata": {
    "application/vnd.databricks.v1+cell": {
     "cellMetadata": {},
     "inputWidgets": {},
     "nuid": "27238152-4d27-4baa-bc56-57579df0a5cd",
     "showTitle": false,
     "tableResultSettingsMap": {},
     "title": ""
    },
    "colab": {
     "base_uri": "https://localhost:8080/",
     "height": 914
    },
    "id": "dyL1L1ifn0mj",
    "outputId": "9fee08e8-31de-4671-c2d4-d43b1f6ef554"
   },
   "outputs": [
    {
     "output_type": "stream",
     "name": "stderr",
     "output_type": "stream",
     "text": [
      "C:\\Users\\Sourav Banerjee\\AppData\\Local\\Programs\\Python\\Python313\\Lib\\threading.py:996: ResourceWarning: unclosed file <_io.BufferedReader name=5>\n  del self._target, self._args, self._kwargs\nResourceWarning: Enable tracemalloc to get the object allocation traceback\n"
     ]
    },
    {
     "output_type": "display_data",
     "data": {
      "text/html": [
       "<pre style=\"white-space:pre;overflow-x:auto;line-height:normal;font-family:Menlo,'DejaVu Sans Mono',consolas,'Courier New',monospace\"><span style=\"font-weight: bold\">{</span>\n",
       "  <span style=\"color: #000080; text-decoration-color: #000080; font-weight: bold\">\"location\"</span>: <span style=\"font-weight: bold\">{</span>\n",
       "    <span style=\"color: #000080; text-decoration-color: #000080; font-weight: bold\">\"name\"</span>: <span style=\"color: #008000; text-decoration-color: #008000\">\"Zurich\"</span>,\n",
       "    <span style=\"color: #000080; text-decoration-color: #000080; font-weight: bold\">\"region\"</span>: <span style=\"color: #008000; text-decoration-color: #008000\">\"\"</span>,\n",
       "    <span style=\"color: #000080; text-decoration-color: #000080; font-weight: bold\">\"country\"</span>: <span style=\"color: #008000; text-decoration-color: #008000\">\"Switzerland\"</span>,\n",
       "    <span style=\"color: #000080; text-decoration-color: #000080; font-weight: bold\">\"lat\"</span>: <span style=\"color: #008080; text-decoration-color: #008080; font-weight: bold\">47.3667</span>,\n",
       "    <span style=\"color: #000080; text-decoration-color: #000080; font-weight: bold\">\"lon\"</span>: <span style=\"color: #008080; text-decoration-color: #008080; font-weight: bold\">8.55</span>,\n",
       "    <span style=\"color: #000080; text-decoration-color: #000080; font-weight: bold\">\"tz_id\"</span>: <span style=\"color: #008000; text-decoration-color: #008000\">\"Europe/Zurich\"</span>,\n",
       "    <span style=\"color: #000080; text-decoration-color: #000080; font-weight: bold\">\"localtime_epoch\"</span>: <span style=\"color: #008080; text-decoration-color: #008080; font-weight: bold\">1739905734</span>,\n",
       "    <span style=\"color: #000080; text-decoration-color: #000080; font-weight: bold\">\"localtime\"</span>: <span style=\"color: #008000; text-decoration-color: #008000\">\"2025-02-18 20:08\"</span>\n",
       "  <span style=\"font-weight: bold\">}</span>,\n",
       "  <span style=\"color: #000080; text-decoration-color: #000080; font-weight: bold\">\"current\"</span>: <span style=\"font-weight: bold\">{</span>\n",
       "    <span style=\"color: #000080; text-decoration-color: #000080; font-weight: bold\">\"last_updated_epoch\"</span>: <span style=\"color: #008080; text-decoration-color: #008080; font-weight: bold\">1739905200</span>,\n",
       "    <span style=\"color: #000080; text-decoration-color: #000080; font-weight: bold\">\"last_updated\"</span>: <span style=\"color: #008000; text-decoration-color: #008000\">\"2025-02-18 20:00\"</span>,\n",
       "    <span style=\"color: #000080; text-decoration-color: #000080; font-weight: bold\">\"temp_c\"</span>: <span style=\"color: #008080; text-decoration-color: #008080; font-weight: bold\">0.1</span>,\n",
       "    <span style=\"color: #000080; text-decoration-color: #000080; font-weight: bold\">\"temp_f\"</span>: <span style=\"color: #008080; text-decoration-color: #008080; font-weight: bold\">32.2</span>,\n",
       "    <span style=\"color: #000080; text-decoration-color: #000080; font-weight: bold\">\"is_day\"</span>: <span style=\"color: #008080; text-decoration-color: #008080; font-weight: bold\">0</span>,\n",
       "    <span style=\"color: #000080; text-decoration-color: #000080; font-weight: bold\">\"condition\"</span>: <span style=\"font-weight: bold\">{</span>\n",
       "      <span style=\"color: #000080; text-decoration-color: #000080; font-weight: bold\">\"text\"</span>: <span style=\"color: #008000; text-decoration-color: #008000\">\"Partly cloudy\"</span>,\n",
       "      <span style=\"color: #000080; text-decoration-color: #000080; font-weight: bold\">\"icon\"</span>: <span style=\"color: #008000; text-decoration-color: #008000\">\"//cdn.weatherapi.com/weather/64x64/night/116.png\"</span>,\n",
       "      <span style=\"color: #000080; text-decoration-color: #000080; font-weight: bold\">\"code\"</span>: <span style=\"color: #008080; text-decoration-color: #008080; font-weight: bold\">1003</span>\n",
       "    <span style=\"font-weight: bold\">}</span>,\n",
       "    <span style=\"color: #000080; text-decoration-color: #000080; font-weight: bold\">\"wind_mph\"</span>: <span style=\"color: #008080; text-decoration-color: #008080; font-weight: bold\">2.7</span>,\n",
       "    <span style=\"color: #000080; text-decoration-color: #000080; font-weight: bold\">\"wind_kph\"</span>: <span style=\"color: #008080; text-decoration-color: #008080; font-weight: bold\">4.3</span>,\n",
       "    <span style=\"color: #000080; text-decoration-color: #000080; font-weight: bold\">\"wind_degree\"</span>: <span style=\"color: #008080; text-decoration-color: #008080; font-weight: bold\">50</span>,\n",
       "    <span style=\"color: #000080; text-decoration-color: #000080; font-weight: bold\">\"wind_dir\"</span>: <span style=\"color: #008000; text-decoration-color: #008000\">\"NE\"</span>,\n",
       "    <span style=\"color: #000080; text-decoration-color: #000080; font-weight: bold\">\"pressure_mb\"</span>: <span style=\"color: #008080; text-decoration-color: #008080; font-weight: bold\">1022.0</span>,\n",
       "    <span style=\"color: #000080; text-decoration-color: #000080; font-weight: bold\">\"pressure_in\"</span>: <span style=\"color: #008080; text-decoration-color: #008080; font-weight: bold\">30.18</span>,\n",
       "    <span style=\"color: #000080; text-decoration-color: #000080; font-weight: bold\">\"precip_mm\"</span>: <span style=\"color: #008080; text-decoration-color: #008080; font-weight: bold\">0.0</span>,\n",
       "    <span style=\"color: #000080; text-decoration-color: #000080; font-weight: bold\">\"precip_in\"</span>: <span style=\"color: #008080; text-decoration-color: #008080; font-weight: bold\">0.0</span>,\n",
       "    <span style=\"color: #000080; text-decoration-color: #000080; font-weight: bold\">\"humidity\"</span>: <span style=\"color: #008080; text-decoration-color: #008080; font-weight: bold\">74</span>,\n",
       "    <span style=\"color: #000080; text-decoration-color: #000080; font-weight: bold\">\"cloud\"</span>: <span style=\"color: #008080; text-decoration-color: #008080; font-weight: bold\">25</span>,\n",
       "    <span style=\"color: #000080; text-decoration-color: #000080; font-weight: bold\">\"feelslike_c\"</span>: <span style=\"color: #008080; text-decoration-color: #008080; font-weight: bold\">-1.1</span>,\n",
       "    <span style=\"color: #000080; text-decoration-color: #000080; font-weight: bold\">\"feelslike_f\"</span>: <span style=\"color: #008080; text-decoration-color: #008080; font-weight: bold\">29.9</span>,\n",
       "    <span style=\"color: #000080; text-decoration-color: #000080; font-weight: bold\">\"windchill_c\"</span>: <span style=\"color: #008080; text-decoration-color: #008080; font-weight: bold\">-4.2</span>,\n",
       "    <span style=\"color: #000080; text-decoration-color: #000080; font-weight: bold\">\"windchill_f\"</span>: <span style=\"color: #008080; text-decoration-color: #008080; font-weight: bold\">24.4</span>,\n",
       "    <span style=\"color: #000080; text-decoration-color: #000080; font-weight: bold\">\"heatindex_c\"</span>: <span style=\"color: #008080; text-decoration-color: #008080; font-weight: bold\">-2.7</span>,\n",
       "    <span style=\"color: #000080; text-decoration-color: #000080; font-weight: bold\">\"heatindex_f\"</span>: <span style=\"color: #008080; text-decoration-color: #008080; font-weight: bold\">27.2</span>,\n",
       "    <span style=\"color: #000080; text-decoration-color: #000080; font-weight: bold\">\"dewpoint_c\"</span>: <span style=\"color: #008080; text-decoration-color: #008080; font-weight: bold\">-4.5</span>,\n",
       "    <span style=\"color: #000080; text-decoration-color: #000080; font-weight: bold\">\"dewpoint_f\"</span>: <span style=\"color: #008080; text-decoration-color: #008080; font-weight: bold\">23.8</span>,\n",
       "    <span style=\"color: #000080; text-decoration-color: #000080; font-weight: bold\">\"vis_km\"</span>: <span style=\"color: #008080; text-decoration-color: #008080; font-weight: bold\">10.0</span>,\n",
       "    <span style=\"color: #000080; text-decoration-color: #000080; font-weight: bold\">\"vis_miles\"</span>: <span style=\"color: #008080; text-decoration-color: #008080; font-weight: bold\">6.0</span>,\n",
       "    <span style=\"color: #000080; text-decoration-color: #000080; font-weight: bold\">\"uv\"</span>: <span style=\"color: #008080; text-decoration-color: #008080; font-weight: bold\">0.0</span>,\n",
       "    <span style=\"color: #000080; text-decoration-color: #000080; font-weight: bold\">\"gust_mph\"</span>: <span style=\"color: #008080; text-decoration-color: #008080; font-weight: bold\">5.6</span>,\n",
       "    <span style=\"color: #000080; text-decoration-color: #000080; font-weight: bold\">\"gust_kph\"</span>: <span style=\"color: #008080; text-decoration-color: #008080; font-weight: bold\">9.0</span>\n",
       "  <span style=\"font-weight: bold\">}</span>\n",
       "<span style=\"font-weight: bold\">}</span>\n",
       "</pre>\n"
      ],
      "text/plain": [
       "\u001B[1m{\u001B[0m\n",
       "  \u001B[1;34m\"location\"\u001B[0m: \u001B[1m{\u001B[0m\n",
       "    \u001B[1;34m\"name\"\u001B[0m: \u001B[32m\"Zurich\"\u001B[0m,\n",
       "    \u001B[1;34m\"region\"\u001B[0m: \u001B[32m\"\"\u001B[0m,\n",
       "    \u001B[1;34m\"country\"\u001B[0m: \u001B[32m\"Switzerland\"\u001B[0m,\n",
       "    \u001B[1;34m\"lat\"\u001B[0m: \u001B[1;36m47.3667\u001B[0m,\n",
       "    \u001B[1;34m\"lon\"\u001B[0m: \u001B[1;36m8.55\u001B[0m,\n",
       "    \u001B[1;34m\"tz_id\"\u001B[0m: \u001B[32m\"Europe/Zurich\"\u001B[0m,\n",
       "    \u001B[1;34m\"localtime_epoch\"\u001B[0m: \u001B[1;36m1739905734\u001B[0m,\n",
       "    \u001B[1;34m\"localtime\"\u001B[0m: \u001B[32m\"2025-02-18 20:08\"\u001B[0m\n",
       "  \u001B[1m}\u001B[0m,\n",
       "  \u001B[1;34m\"current\"\u001B[0m: \u001B[1m{\u001B[0m\n",
       "    \u001B[1;34m\"last_updated_epoch\"\u001B[0m: \u001B[1;36m1739905200\u001B[0m,\n",
       "    \u001B[1;34m\"last_updated\"\u001B[0m: \u001B[32m\"2025-02-18 20:00\"\u001B[0m,\n",
       "    \u001B[1;34m\"temp_c\"\u001B[0m: \u001B[1;36m0.1\u001B[0m,\n",
       "    \u001B[1;34m\"temp_f\"\u001B[0m: \u001B[1;36m32.2\u001B[0m,\n",
       "    \u001B[1;34m\"is_day\"\u001B[0m: \u001B[1;36m0\u001B[0m,\n",
       "    \u001B[1;34m\"condition\"\u001B[0m: \u001B[1m{\u001B[0m\n",
       "      \u001B[1;34m\"text\"\u001B[0m: \u001B[32m\"Partly cloudy\"\u001B[0m,\n",
       "      \u001B[1;34m\"icon\"\u001B[0m: \u001B[32m\"//cdn.weatherapi.com/weather/64x64/night/116.png\"\u001B[0m,\n",
       "      \u001B[1;34m\"code\"\u001B[0m: \u001B[1;36m1003\u001B[0m\n",
       "    \u001B[1m}\u001B[0m,\n",
       "    \u001B[1;34m\"wind_mph\"\u001B[0m: \u001B[1;36m2.7\u001B[0m,\n",
       "    \u001B[1;34m\"wind_kph\"\u001B[0m: \u001B[1;36m4.3\u001B[0m,\n",
       "    \u001B[1;34m\"wind_degree\"\u001B[0m: \u001B[1;36m50\u001B[0m,\n",
       "    \u001B[1;34m\"wind_dir\"\u001B[0m: \u001B[32m\"NE\"\u001B[0m,\n",
       "    \u001B[1;34m\"pressure_mb\"\u001B[0m: \u001B[1;36m1022.0\u001B[0m,\n",
       "    \u001B[1;34m\"pressure_in\"\u001B[0m: \u001B[1;36m30.18\u001B[0m,\n",
       "    \u001B[1;34m\"precip_mm\"\u001B[0m: \u001B[1;36m0.0\u001B[0m,\n",
       "    \u001B[1;34m\"precip_in\"\u001B[0m: \u001B[1;36m0.0\u001B[0m,\n",
       "    \u001B[1;34m\"humidity\"\u001B[0m: \u001B[1;36m74\u001B[0m,\n",
       "    \u001B[1;34m\"cloud\"\u001B[0m: \u001B[1;36m25\u001B[0m,\n",
       "    \u001B[1;34m\"feelslike_c\"\u001B[0m: \u001B[1;36m-1.1\u001B[0m,\n",
       "    \u001B[1;34m\"feelslike_f\"\u001B[0m: \u001B[1;36m29.9\u001B[0m,\n",
       "    \u001B[1;34m\"windchill_c\"\u001B[0m: \u001B[1;36m-4.2\u001B[0m,\n",
       "    \u001B[1;34m\"windchill_f\"\u001B[0m: \u001B[1;36m24.4\u001B[0m,\n",
       "    \u001B[1;34m\"heatindex_c\"\u001B[0m: \u001B[1;36m-2.7\u001B[0m,\n",
       "    \u001B[1;34m\"heatindex_f\"\u001B[0m: \u001B[1;36m27.2\u001B[0m,\n",
       "    \u001B[1;34m\"dewpoint_c\"\u001B[0m: \u001B[1;36m-4.5\u001B[0m,\n",
       "    \u001B[1;34m\"dewpoint_f\"\u001B[0m: \u001B[1;36m23.8\u001B[0m,\n",
       "    \u001B[1;34m\"vis_km\"\u001B[0m: \u001B[1;36m10.0\u001B[0m,\n",
       "    \u001B[1;34m\"vis_miles\"\u001B[0m: \u001B[1;36m6.0\u001B[0m,\n",
       "    \u001B[1;34m\"uv\"\u001B[0m: \u001B[1;36m0.0\u001B[0m,\n",
       "    \u001B[1;34m\"gust_mph\"\u001B[0m: \u001B[1;36m5.6\u001B[0m,\n",
       "    \u001B[1;34m\"gust_kph\"\u001B[0m: \u001B[1;36m9.0\u001B[0m\n",
       "  \u001B[1m}\u001B[0m\n",
       "\u001B[1m}\u001B[0m\n"
      ]
     },
     "metadata": {},
     "output_type": "display_data"
    }
   ],
   "source": [
    "import rich\n",
    "\n",
    "result = get_weather.invoke(\"Zurich\")\n",
    "rich.print_json(data=result)"
   ]
  },
  {
   "cell_type": "markdown",
   "metadata": {
    "application/vnd.databricks.v1+cell": {
     "cellMetadata": {},
     "inputWidgets": {},
     "nuid": "310fbab1-af2c-407c-8aaa-ce7292cd5384",
     "showTitle": false,
     "tableResultSettingsMap": {},
     "title": ""
    },
    "id": "bIOhB430gpW9"
   },
   "source": [
    "## Explore LLM tool calling with custom tools\n",
    "\n",
    "An agent is basically an LLM which has the capability to automatically call relevant functions to perform complex or tool-based tasks based on input human prompts.\n",
    "\n",
    "Tool calling also popularly known as function calling is the ability to reliably enable such LLMs to call external tools and APIs.\n",
    "\n",
    "We will leverate the custom tools we created earlier in the previous section and try to see if the LLM can automatically call the right tools based on input prompts"
   ]
  },
  {
   "cell_type": "markdown",
   "metadata": {
    "application/vnd.databricks.v1+cell": {
     "cellMetadata": {},
     "inputWidgets": {},
     "nuid": "c7ab8801-5100-4b2c-b4db-fb6f547cee30",
     "showTitle": false,
     "tableResultSettingsMap": {},
     "title": ""
    },
    "id": "4Y26Ohn3P54j"
   },
   "source": [
    "### Tool calling for LLMs with native support for tool or function calling"
   ]
  },
  {
   "cell_type": "markdown",
   "metadata": {
    "application/vnd.databricks.v1+cell": {
     "cellMetadata": {},
     "inputWidgets": {},
     "nuid": "a3709425-d32f-41b5-ba91-9e60df3194e3",
     "showTitle": false,
     "tableResultSettingsMap": {},
     "title": ""
    },
    "id": "1nACq0NgL5yM"
   },
   "source": [
    "Tool calling allows a model to respond to a given prompt by generating output that matches a user-defined schema. While the name implies that the model is performing some action, this is actually not the case! The model is coming up with the arguments to a tool, and actually running the tool (or not) is up to the user or agent defined by the user.\n",
    "\n",
    "Many LLM providers, including Anthropic, Cohere, Google, Mistral, OpenAI, and others, support variants of a tool calling feature. These features typically allow requests to the LLM to include available tools and their schemas, and for responses to include calls to these tools.\n",
    "\n"
   ]
  },
  {
   "cell_type": "code",
   "execution_count": 0,
   "metadata": {
    "application/vnd.databricks.v1+cell": {
     "cellMetadata": {},
     "inputWidgets": {},
     "nuid": "d41e317a-44c9-43da-b8e1-69a368e4b2fa",
     "showTitle": false,
     "tableResultSettingsMap": {},
     "title": ""
    },
    "colab": {
     "base_uri": "https://localhost:8080/"
    },
    "id": "s0wCNpzCBvtS",
    "outputId": "9cf3776a-5fe1-4bbb-fcde-70ff7bca9b1f"
   },
   "outputs": [],
   "source": [
    "from langchain_openai import ChatOpenAI\n",
    "\n",
    "chatgpt = ChatOpenAI(model=\"gpt-4o\", temperature=0)"
   ]
  },
  {
   "cell_type": "code",
   "execution_count": 0,
   "metadata": {
    "application/vnd.databricks.v1+cell": {
     "cellMetadata": {},
     "inputWidgets": {},
     "nuid": "e3cd1b6e-3d92-4df4-85ab-91337735a03e",
     "showTitle": false,
     "tableResultSettingsMap": {},
     "title": ""
    },
    "id": "rjKWxFNgB2t_"
   },
   "outputs": [],
   "source": [
    "tools = [multiply, search_web_extract_info, get_weather]\n",
    "chatgpt_with_tools = chatgpt.bind_tools(tools)"
   ]
  },
  {
   "cell_type": "code",
   "execution_count": 0,
   "metadata": {
    "application/vnd.databricks.v1+cell": {
     "cellMetadata": {},
     "inputWidgets": {},
     "nuid": "4dc4e86f-210d-43f6-a639-a17ad34d51b0",
     "showTitle": false,
     "tableResultSettingsMap": {},
     "title": ""
    }
   },
   "outputs": [
    {
     "output_type": "execute_result",
     "data": {
      "text/plain": [
       "[StructuredTool(name='multiply', description='use to multiply numbers', args_schema=<class '__main__.CalculatorInput'>, return_direct=True, func=<function multiply at 0x000001E3AD9CCD60>),\n",
       " StructuredTool(name='search_web_extract_info', description='Search the web for a query and extracts useful information from the search links', args_schema=<class 'langchain_core.utils.pydantic.search_web_extract_info'>, func=<function search_web_extract_info at 0x000001E3D0B756C0>),\n",
       " StructuredTool(name='get_weather', description='Search weatherapi to get the current weather.', args_schema=<class 'langchain_core.utils.pydantic.get_weather'>, func=<function get_weather at 0x000001E3AD9CEAC0>)]"
      ]
     },
     "execution_count": 73,
     "metadata": {},
     "output_type": "execute_result"
    }
   ],
   "source": [
    "tools"
   ]
  },
  {
   "cell_type": "code",
   "execution_count": 0,
   "metadata": {
    "application/vnd.databricks.v1+cell": {
     "cellMetadata": {},
     "inputWidgets": {},
     "nuid": "bf573a08-cdb1-4bb6-b2f5-5d5df6106a5b",
     "showTitle": false,
     "tableResultSettingsMap": {},
     "title": ""
    },
    "id": "hJ271K_tB9K7"
   },
   "outputs": [],
   "source": [
    "# LLMs are still not perfect in tool calling so you might need to play around with the following prompt\n",
    "prompt = \"\"\"\n",
    "            Given only the tools at your disposal, mention tool calls for the following tasks:\n",
    "            Do not change the query given for any search tasks\n",
    "            1. What is 2.1 times 3.5\n",
    "            2. What is the current weather in Greenland today\n",
    "            3. What are the 4 major Agentic AI Design Patterns\n",
    "         \"\"\"\n",
    "\n",
    "results = chatgpt_with_tools.invoke(prompt)"
   ]
  },
  {
   "cell_type": "code",
   "execution_count": 0,
   "metadata": {
    "application/vnd.databricks.v1+cell": {
     "cellMetadata": {},
     "inputWidgets": {},
     "nuid": "0d32c326-2b79-4bef-a850-7d9a5d0ee1c7",
     "showTitle": false,
     "tableResultSettingsMap": {},
     "title": ""
    },
    "colab": {
     "base_uri": "https://localhost:8080/"
    },
    "id": "kLoZWknjCNlC",
    "outputId": "ba479c17-587e-419a-ce56-0c3a16b09dbf"
   },
   "outputs": [
    {
     "output_type": "execute_result",
     "data": {
      "text/plain": [
       "AIMessage(content='', additional_kwargs={'tool_calls': [{'id': 'call_1xlsND3IZ2eOvWf2bA4XSS2x', 'function': {'arguments': '{\"a\": 2.1, \"b\": 3.5}', 'name': 'multiply'}, 'type': 'function'}, {'id': 'call_u2GcWQiI5UjFMJ09p0mWfR4s', 'function': {'arguments': '{\"query\": \"Greenland\"}', 'name': 'get_weather'}, 'type': 'function'}, {'id': 'call_OYLqeDHFsCCXfoxZXZO1NSV3', 'function': {'arguments': '{\"query\": \"4 major Agentic AI Design Patterns\"}', 'name': 'search_web_extract_info'}, 'type': 'function'}], 'refusal': None}, response_metadata={'token_usage': {'completion_tokens': 75, 'prompt_tokens': 182, 'total_tokens': 257, 'completion_tokens_details': {'accepted_prediction_tokens': 0, 'audio_tokens': 0, 'reasoning_tokens': 0, 'rejected_prediction_tokens': 0}, 'prompt_tokens_details': {'audio_tokens': 0, 'cached_tokens': 0}}, 'model_name': 'gpt-4o-2024-08-06', 'system_fingerprint': 'fp_523b9b6e5f', 'finish_reason': 'tool_calls', 'logprobs': None}, id='run-779c6633-1efb-4dcc-af98-81426ba1b2f4-0', tool_calls=[{'name': 'multiply', 'args': {'a': 2.1, 'b': 3.5}, 'id': 'call_1xlsND3IZ2eOvWf2bA4XSS2x', 'type': 'tool_call'}, {'name': 'get_weather', 'args': {'query': 'Greenland'}, 'id': 'call_u2GcWQiI5UjFMJ09p0mWfR4s', 'type': 'tool_call'}, {'name': 'search_web_extract_info', 'args': {'query': '4 major Agentic AI Design Patterns'}, 'id': 'call_OYLqeDHFsCCXfoxZXZO1NSV3', 'type': 'tool_call'}], usage_metadata={'input_tokens': 182, 'output_tokens': 75, 'total_tokens': 257, 'input_token_details': {'audio': 0, 'cache_read': 0}, 'output_token_details': {'audio': 0, 'reasoning': 0}})"
      ]
     },
     "execution_count": 66,
     "metadata": {},
     "output_type": "execute_result"
    }
   ],
   "source": [
    "results"
   ]
  },
  {
   "cell_type": "code",
   "execution_count": 0,
   "metadata": {
    "application/vnd.databricks.v1+cell": {
     "cellMetadata": {},
     "inputWidgets": {},
     "nuid": "516f84c6-66e3-45ad-b81b-340dfa9da814",
     "showTitle": false,
     "tableResultSettingsMap": {},
     "title": ""
    },
    "colab": {
     "base_uri": "https://localhost:8080/"
    },
    "id": "ckZz5pcpCQau",
    "outputId": "4e96c257-c347-45cd-f5ec-6e1c071d9f86"
   },
   "outputs": [
    {
     "output_type": "execute_result",
     "data": {
      "text/plain": [
       "[{'name': 'multiply',\n",
       "  'args': {'a': 2.1, 'b': 3.5},\n",
       "  'id': 'call_1xlsND3IZ2eOvWf2bA4XSS2x',\n",
       "  'type': 'tool_call'},\n",
       " {'name': 'get_weather',\n",
       "  'args': {'query': 'Greenland'},\n",
       "  'id': 'call_u2GcWQiI5UjFMJ09p0mWfR4s',\n",
       "  'type': 'tool_call'},\n",
       " {'name': 'search_web_extract_info',\n",
       "  'args': {'query': '4 major Agentic AI Design Patterns'},\n",
       "  'id': 'call_OYLqeDHFsCCXfoxZXZO1NSV3',\n",
       "  'type': 'tool_call'}]"
      ]
     },
     "execution_count": 67,
     "metadata": {},
     "output_type": "execute_result"
    }
   ],
   "source": [
    "results.tool_calls"
   ]
  },
  {
   "cell_type": "code",
   "execution_count": 0,
   "metadata": {
    "application/vnd.databricks.v1+cell": {
     "cellMetadata": {},
     "inputWidgets": {},
     "nuid": "b02bb3d2-8745-4e9f-854c-38d53611e37a",
     "showTitle": false,
     "tableResultSettingsMap": {},
     "title": ""
    },
    "colab": {
     "base_uri": "https://localhost:8080/"
    },
    "id": "tLxNMPTegDed",
    "outputId": "780eca46-d94f-45c7-9311-d9bd0388b0f7"
   },
   "outputs": [
    {
     "output_type": "execute_result",
     "data": {
      "text/plain": [
       "StructuredTool(name='multiply', description='use to multiply numbers', args_schema=<class '__main__.CalculatorInput'>, return_direct=True, func=<function multiply at 0x000001E3AD9CCD60>)"
      ]
     },
     "execution_count": 68,
     "metadata": {},
     "output_type": "execute_result"
    }
   ],
   "source": [
    "multiply"
   ]
  },
  {
   "cell_type": "code",
   "execution_count": 0,
   "metadata": {
    "application/vnd.databricks.v1+cell": {
     "cellMetadata": {},
     "inputWidgets": {},
     "nuid": "f5c376b0-a01d-442d-88cd-02cb60b73a0b",
     "showTitle": false,
     "tableResultSettingsMap": {},
     "title": ""
    }
   },
   "outputs": [
    {
     "output_type": "execute_result",
     "data": {
      "text/plain": [
       "StructuredTool(name='get_weather', description='Search weatherapi to get the current weather.', args_schema=<class 'langchain_core.utils.pydantic.get_weather'>, func=<function get_weather at 0x000001E3AD9CEAC0>)"
      ]
     },
     "execution_count": 69,
     "metadata": {},
     "output_type": "execute_result"
    }
   ],
   "source": [
    "get_weather"
   ]
  },
  {
   "cell_type": "code",
   "execution_count": 0,
   "metadata": {
    "application/vnd.databricks.v1+cell": {
     "cellMetadata": {},
     "inputWidgets": {},
     "nuid": "cb29e9f3-a36a-4e1c-a11c-6d0cedd36e7d",
     "showTitle": false,
     "tableResultSettingsMap": {},
     "title": ""
    },
    "colab": {
     "base_uri": "https://localhost:8080/"
    },
    "id": "POvGp_xZCpSg",
    "outputId": "56aef3e3-78d7-416e-e0a9-553ae3f7e9c8"
   },
   "outputs": [
    {
     "output_type": "stream",
     "name": "stdout",
     "output_type": "stream",
     "text": [
      "Calling tool: multiply\n7.3500000000000005\n\nCalling tool: get_weather\n{'location': {'name': 'Nuuk', 'region': 'Vestgronland', 'country': 'Greenland', 'lat': 64.183, 'lon': -51.75, 'tz_id': 'America/Nuuk', 'localtime_epoch': 1739906239, 'localtime': '2025-02-18 17:17'}, 'current': {'last_updated_epoch': 1739906100, 'last_updated': '2025-02-18 17:15', 'temp_c': 3.1, 'temp_f': 37.6, 'is_day': 1, 'condition': {'text': 'Sunny', 'icon': '//cdn.weatherapi.com/weather/64x64/day/113.png', 'code': 1000}, 'wind_mph': 10.1, 'wind_kph': 16.2, 'wind_degree': 39, 'wind_dir': 'NE', 'pressure_mb': 994.0, 'pressure_in': 29.35, 'precip_mm': 0.0, 'precip_in': 0.0, 'humidity': 41, 'cloud': 0, 'feelslike_c': -0.8, 'feelslike_f': 30.6, 'windchill_c': -5.3, 'windchill_f': 22.4, 'heatindex_c': -0.6, 'heatindex_f': 31.0, 'dewpoint_c': -5.2, 'dewpoint_f': 22.7, 'vis_km': 10.0, 'vis_miles': 6.0, 'uv': 0.0, 'gust_mph': 20.5, 'gust_kph': 33.0}}\n\nCalling tool: search_web_extract_info\n"
     ]
    },
    {
     "output_type": "stream",
     "name": "stderr",
     "output_type": "stream",
     "text": [
      "100%|██████████| 5/5 [00:04<00:00,  1.02it/s]"
     ]
    },
    {
     "output_type": "stream",
     "name": "stdout",
     "output_type": "stream",
     "text": [
      "['Top Agentic AI Design Patterns. Learning is a continuous journey… | by Yugank .Aman | Jan, 2025 | Medium\\n[Open in app](https://rsci.app.link/?%24canonical_url=https%3A%2F%2Fmedium.com%2Fp%2F397798b44d5c&%7Efeature=LoOpenInAppButton&%7Echannel=ShowPostUnderUser&source=---top_nav_layout_nav-----------------------------------------)\\n\\nSign up\\n\\n[Sign in](/m/signin?operation=login&redirect=https%3A%2F%2Fmedium.com%2F%40yugank.aman%2Ftop-agentic-ai-design-patterns-for-architecting-ai-systems-397798b44d5c&source=post_page---top_nav_layout_nav-----------------------global_nav------------------)\\n\\n[Write](/m/signin?operation=register&redirect=https%3A%2F%2Fmedium.com%2Fnew-story&source=---top_nav_layout_nav-----------------------new_post_topnav------------------)\\n\\nSign up\\n\\n[Sign in](/m/signin?operation=login&redirect=https%3A%2F%2Fmedium.com%2F%40yugank.aman%2Ftop-agentic-ai-design-patterns-for-architecting-ai-systems-397798b44d5c&source=post_page---top_nav_layout_nav-----------------------global_nav------------------)\\n\\n![](https://miro.medium.com/v2/resize:fill:64:64/1*dmbNkD5D-u45r44go_cf0g.png)\\n# Top Agentic AI Design Patterns\\n\\n[![Yugank .Aman](https://miro.medium.com/v2/da:true/resize:fill:88:88/0*BVHsZMj15ryXMndl)](/%40yugank.aman?source=post_page---byline--397798b44d5c---------------------------------------)\\n\\n[Yugank .Aman](/%40yugank.aman?source=post_page---byline--397798b44d5c---------------------------------------)\\n\\n·\\n\\n[Follow](/m/signin?actionUrl=https%3A%2F%2Fmedium.com%2F_%2Fsubscribe%2Fuser%2F32a82bbbc82f&operation=register&redirect=https%3A%2F%2Fmedium.com%2F%40yugank.aman%2Ftop-agentic-ai-design-patterns-for-architecting-ai-systems-397798b44d5c&user=Yugank+.Aman&userId=32a82bbbc82f&source=post_page-32a82bbbc82f--byline--397798b44d5c---------------------post_header------------------)\\n\\n10 min read·Jan 20, 2025\\n\\n--\\n\\n2\\n\\nListen\\n\\nShare\\n\\n![]()\\n\\nLearning is a continuous journey, whether you’re human or an AI model. However, one question that often comes up is, can these AI models learn themselves just like humans do? As per the recent developments — **They can**. To understand this in a better way, let’s go back to our college days when C++, Java, and Python were the primary languages we needed to master to excel in computer science. Learning these languages requires understanding syntax, semantics, practical application, and problem-solving. So, to get a strong hold on these languages, we practised continuously (or you can say get trained). Also, we learned a lot from our classmates and professors. Right? Similarly, just like humans can learn from their own thinking, expertise and other mediums, perhaps LLMs can, too.\\n\\nHowever, gaining expertise or becoming a subject matter expert is quite a rigorous journey for both humans and LLMs. We know about the human learning process and reasoning capabilities for making decisions and completing tasks, but what does LLM training look like?\\n\\nCan I say?\\n\\n1. **Firstly, pre-training of LLM:** In this step, you help the model learn patterns, such as grammar, sentence structure, and even relationships between words and concepts.\\n2. **Instruction-tuning (or Fine-Tuning):** To fine-tune the model, a curated dataset containing examples of instructions and desired responses is used.\\n3. **Reinforcement Learning with Human Feedback (RLHF):** Human evaluators rank model responses, which is used further to improve the model’s alignment with user expectations.\\n\\nThat makes sense, right? But what if we build an agentic workflow to make the model learn and give the output while doing all the checks independently? It would be like having your own assistant who can do all the work without any human intervention. Further, in this article we will talk about the 4 Agentic AI Design Patterns for Architecting AI Systems.\\n\\n# Overview\\n\\n* The article discusses how AI models, particularly large language models (LLMs) like [**GPT**](https://www.analyticsvidhya.com/blog/2024/05/applications-of-gpt-4o/), can learn autonomously by adopting agentic workflows, which mimic human-like iterative problem-solving.\\n* Agentic workflows enhance AI performance by refining tasks step-by-step, similar to how humans review and improve their work repeatedly for better results.\\n* Four key Agentic Design Patterns — Reflection, Tool Use, Planning, and Multi-Agent Collaboration — are introduced as strategies that make AI systems more autonomous and capable.\\n\\n# What is Agentic Design Patterns?\\n\\nThe agentic design pattern is introduced as a solution for making LLMs more autonomous. Instead of just giving the model one prompt and expecting a final answer (like writing an essay in one go), an agent-like approach involves prompting the LLM multiple times, step by step. Each step refines the task, with the model improving its output iteratively.\\n\\nTo understand this better, let’s look at it like this:\\n\\nWhen we prompt an LLM in zero-shot mode, it’s like asking someone to write a story in one go without revising. LLMs do well at this, but they can do even better. By using an agent-like workflow, we can prompt the LLM multiple times in steps. Each step builds on the previous one, refining the response. Think of it like asking the LLM to go over the essay multiple times, improving it with each pass.\\n\\nBy each step, I meant:\\n\\nLet’s take the example of writing a code using Agentic workflow:\\n\\n1. **Plan an outline for the code:** Break down the task into smaller modules or functions.\\n2. **Gather information and content:** Research libraries, algorithms, or existing solutions. Do web searches or check the documentation if needed.\\n3. **Write the first draft of the code:** Implement the basic functionality, focusing on structure over perfection.\\n4. **Review the code for inefficiencies or errors:** Check for unnecessary code, bugs, or logic flaws.\\n5. **Revise the code:** Refactor, optimise, or add comments for clarity.\\n\\nRinse and repeat until the code is efficient and clean.\\n\\nBy allowing the model to work through these steps independently, the agentic design pattern enhances both human-like reasoning and efficiency. This is similar to how humans break down complex tasks, gather information, make improvements, and iterate until the final result is satisfactory. Now, let us understand the Agentic design pattern in detail.\\n\\n# Agentic Design Patterns: Evaluations\\n\\n![]()\\n\\nAndrew Ng’s analysis, shared in a letter on [**Deeplearning.ai**](https://www.deeplearning.ai/the-batch/how-agents-can-improve-llm-performance/?ref=dl-staging-website.ghost.io), noted advancements in AI-driven code generation, particularly focusing on the performance of models like GPT-3.5 and GPT-4. The evaluation was centred on these models’ capabilities to perform on the widely recognized HumanEval coding benchmark, a common standard for assessing an algorithm’s proficiency in writing code.\\n\\nThe data presented shows the evolution in AI coding abilities using AI agents. **GPT-3.5**, when tested in a zero-shot setting (i.e., without any prior examples), achieved a correctness rate of 48.1%. [**GPT-4**](https://openai.com/index/gpt-4/), also evaluated in a zero-shot manner, demonstrated a significant improvement, with a 67.0% success rate. However, what stood out in the analysis was how integrating these models into an iterative agent workflow (Agentic workflow) drastically boosted their performance. When [**GPT-3.5**](https://platform.openai.com/docs/models) was wrapped in such an agent loop, its accuracy soared to an impressive 95.1%, far surpassing its baseline and even approaching human-level coding proficiency.\\n\\nThis finding underscores the transformative potential of iterative workflows (Agentic workflow) in enhancing **AI model** performance, suggesting that the future of AI-assisted coding may heavily rely on these more advanced, adaptive frameworks rather than on model size or architecture improvements alone.\\n\\nBut what are Agentic design patterns that complete the delegation of autonomy to AI systems, enabling them to act more independently and effectively? These patterns structure AI agents to perform tasks, make decisions, and communicate with other systems in a more human-like and autonomous manner, ultimately creating both savvy and dependable applications.\\x7f\\n\\n# 4 Types of Agentic Design Patterns that You Must Know\\n\\nIn Agentic AI and the key design patterns, it’s essential to understand how each pattern empowers large language models (LLMs) like GPT to behave more autonomously and effectively. These design patterns push the boundaries of what AI can do by encouraging self-evaluation, tool integration, strategic thinking, and collaboration. Let’s explore four vital agentic design patterns that shape how these models operate and perform complex tasks.\\n\\nHere are the types of agentic design patterns:\\n\\n# 1. Reflection Pattern\\n\\n![]()\\n\\nThe **Reflection Pattern** focuses on improving AI’s ability to evaluate and refine its own outputs. Imagine an LLM reviewing its generated content or code as if it were a human reviewer, identifying errors, gaps, or areas that need improvement and then offering suggestions for how to improve.\\n\\nThis self-critique loop is not limited to a single iteration. The AI can repeat the reflection process as many times as necessary to achieve a refined, polished result. For example, if tasked with writing software, the LLM can generate an initial version, critique its own logic and structure, and revise the code. The iterative nature of reflection leads to stronger, more reliable outputs over time.\\n\\nThis pattern is particularly useful in tasks that require precision, such as content creation, problem-solving, or code generation. Employing this approach can enhance the model’s accuracy and reliability through self-guided corrections.\\n\\nOne interesting example is Self-Reflective RAG. [**SELF-RAG**](https://langchain-ai.github.io/langgraph/tutorials/rag/langgraph_self_rag/) is a framework designed to improve language models’ quality and factual accuracy by integrating retrieval and self-reflection into the text generation process. Traditional **Retrieval-Augmented Generation (RAG)** models enhance responses by incorporating relevant retrieved passages but often retrieve a fixed number of documents regardless of their relevance, which can introduce noise or irrelevant content. SELF-RAG addresses these limitations through an adaptive approach that retrieves information on demand and uses reflection tokens to assess the generation’s quality.\\n\\n## How SELF-RAG Uses Reflection?\\n\\nSELF-RAG incorporates self-reflection mechanisms via “reflection tokens,” which serve to evaluate various aspects of the text generation, such as relevance, support, and overall utility. During the generation process, the model evaluates whether retrieval is necessary and assesses the quality of the generated content by critiquing itself at different stages.\\n\\nHere’s the diagram for better understanding:\\n\\n![]()\\n\\n* **Traditional RAG** retrieves a fixed number of documents first, while **Self-RAG** performs retrieval dynamically based on the content being generated.\\n* **Self-RAG** evaluates multiple generated segments, critiques their quality, and selectively combines the most accurate information.\\n* **Self-RAG’s iterative process** enables refining the generation step by step, improving the accuracy and relevance of the output.\\n\\nIn a nutshell, Self-RAG adds an extra layer of self-reflection and refinement, leading to more reliable and precise answers.\\n\\n# 2. Tool Use Pattern\\n\\n![]()\\n\\nThe Tool Use Pattern significantly broadens an LLM’s capability by allowing it to interact with external tools and resources to enhance its problem-solving abilities. Instead of relying solely on internal computations or knowledge, an AI following this pattern can access databases, search the web, or even execute complex functions via programming languages like Python.\\n\\nFor instance, an **LLM** could be prompted to retrieve data from the web for a specific query, analyze it, and integrate it into its output. Alternatively, it might be tasked with calculating statistical results, generating images, or manipulating spreadsheets — actions that go beyond simple text generation. By incorporating the use of tools, LLMs evolve from static knowledge banks into dynamic agents capable of interacting with external systems to achieve goals.\\n\\nThis pattern is powerful because it allows **AI systems** to tackle more complex, multifaceted tasks where internal knowledge alone isn’t sufficient, expanding their utility into real-world applications.\\n\\n# 3. Planning Pattern\\n\\n![]()\\n\\nThe Planning Pattern enables an LLM to break down large, complicated tasks into smaller, more manageable components. Planning equips an agent with the ability to react to requests and strategically structure the steps needed to achieve a goal.\\n\\nInstead of tackling a problem linearly, ad hocly, an LLM using the Planning Pattern will create a roadmap of subtasks, determining the most efficient path to completion. For example, when coding, the LLM would first outline the overall structure before implementing individual functions. This avoids confusion or meandering logic and keeps the AI focused on the main objective.\\n\\n[**ReAct (Reasoning and Acting)**](https://research.google/blog/react-synergizing-reasoning-and-acting-in-language-models/) and [**ReWOO (Reasoning With Open Ontology)**](https://billxbf.github.io/works/ReWOO_preprint.pdf) further extend this approach by integrating decision-making and contextual reasoning into the planning process. ReAct enables the LLM to dynamically alternate between reasoning (thinking through the problem) and acting (performing specific tasks), allowing for more adaptive and flexible planning. By combining these two steps, the LLM can refine its approach iteratively, addressing unexpected challenges as they arise.\\n\\nReWOO, on the other hand, enhances the planning pattern by using an open-world ontology to guide reasoning. This means the LLM can incorporate broader contextual information and knowledge from various domains, leading to more informed decision-making. With ReWOO, the AI can adjust the plan in real-time based on newly acquired information or changing requirements, ensuring a more robust and comprehensive problem-solving approach.\\n\\nTogether, the Planning Pattern, ReAct, and ReWOO enable an LLM to handle complex tasks in a structured yet adaptive manner, resulting in efficient and goal-oriented execution.\\n\\nMoreover, generating a structured plan (or a “user\\\\_request\\\\_summary”) ensures that the AI keeps track of all steps and doesn’t lose sight of the broader task. This method ensures higher quality and consistency in the results, especially in complex problem-solving or multi-phase projects.\\n\\n# 4. Multi-Agent Pattern\\n\\n![]()\\n\\nThe Multi-Agent Pattern builds upon the concept of delegation, akin to project management in human teams. This pattern involves assigning different agents (which are instances of an LLM with specific roles or functions) to handle various subtasks. These agents can work independently on their assignments while also communicating and collaborating to achieve a unified outcome.\\n\\nThere are several types of multi-agent patterns:\\n\\n1. **Collaborative Agents**: Multiple agents work together on different parts of a task, sharing progress and building toward a unified result. Each agent may specialize in a different domain.\\n2. **Supervised Agents**: A central supervisor agent manages other agents, coordinating their activities and verifying results to ensure quality.\\n3. **Hierarchical Teams**: A structured system where higher-level agents oversee lower-level agents, with decision-making cascaded through levels to accomplish complex tasks.\\n\\n***For more details on this, explore:*** [***Multi-agent Collaboration***](https://langchain-ai.github.io/langgraph/tutorials/multi_agent/multi-agent-collaboration/)***.***\\n\\nFor instance, in a scenario requiring both text analysis and numerical computation, two separate agents can handle each task, sharing their results to form a comprehensive solution. One agent might focus on understanding the context, while another processes data, and together they deliver a holistic response. This pattern is particularly powerful for tackling large-scale or complex problems that require diverse skill sets.\\n\\nIn short, the Multiagent Pattern mirrors how humans collaborate across specialities, ensuring that each agent focuses on its strengths while contributing to a greater, coordinated effort.\\n\\nBy mastering these four agentic design patterns, developers and users alike can unlock the full potential of AI systems. The Reflection Pattern improves accuracy and quality through self-evaluation, Tool Use enables dynamic, real-world interactions, Planning provides a roadmap for solving complex tasks, and Multiagent Collaboration ensures that multiple agents work together effectively. Together, these patterns create a foundation for building more intelligent, autonomous AI systems capable of addressing real-world challenges.\\n\\n# Conclusion\\n\\nAgentic Design Patterns emphasize the transformative potential of agentic workflows in making AI models, particularly **large language models (LLMs)**, more autonomous and efficient. It explains that while models like GPT-3.5 and GPT-4 perform well in zero-shot tasks, their accuracy and effectiveness significantly improve when adopting an iterative, agentic workflow. This method allows the model to break down tasks, self-evaluate, leverage external tools, plan strategically, and collaborate with other agents, enhancing their problem-solving capabilities.\\n\\nThe article introduces four key design patterns — Reflection, Tool Use, Planning, and Multiagent — that form the foundation of these agentic workflows. These patterns push the boundaries of what AI can do and enable AI systems to behave more independently and intelligently, much like humans handling complex tasks. This signals that future AI advancements will depend on increasing model size and developing more adaptive and strategic workflows.\\n\\n[Llm](/tag/llm?source=post_page-----397798b44d5c---------------------------------------)[AI](/tag/ai?source=post_page-----397798b44d5c---------------------------------------)[Llmops](/tag/llmops?source=post_page-----397798b44d5c---------------------------------------)[Architecture](/tag/architecture?source=post_page-----397798b44d5c---------------------------------------)[Genai](/tag/genai?source=post_page-----397798b44d5c---------------------------------------)\\n\\n--\\n\\n--\\n\\n2\\n\\n[![Yugank .Aman](https://miro.medium.com/v2/resize:fill:96:96/0*BVHsZMj15ryXMndl)](/%40yugank.aman?source=post_page---post_author_info--397798b44d5c---------------------------------------)[![Yugank .Aman](https://miro.medium.com/v2/resize:fill:128:128/0*BVHsZMj15ryXMndl)](/%40yugank.aman?source=post_page---post_author_info--397798b44d5c---------------------------------------)Follow[## Written by Yugank .Aman](/%40yugank.aman?source=post_page---post_author_info--397798b44d5c---------------------------------------)[139 Followers](/%40yugank.aman/followers?source=post_page---post_author_info--397798b44d5c---------------------------------------)·[43 Following](/%40yugank.aman/following?source=post_page---post_author_info--397798b44d5c---------------------------------------)Follow\\n## Responses (2)\\n\\nSee all responses[Help](https://help.medium.com/hc/en-us?source=post_page-----397798b44d5c---------------------------------------)[Status](https://medium.statuspage.io/?source=post_page-----397798b44d5c---------------------------------------)[About](/about?autoplay=1&source=post_page-----397798b44d5c---------------------------------------)[Careers](/jobs-at-medium/work-at-medium-959d1a85284e?source=post_page-----397798b44d5c---------------------------------------)Press[Blog](https://blog.medium.com/?source=post_page-----397798b44d5c---------------------------------------)[Privacy](https://policy.medium.com/medium-privacy-policy-f03bf92035c9?source=post_page-----397798b44d5c---------------------------------------)[Terms](https://policy.medium.com/medium-terms-of-service-9db0094a1e0f?source=post_page-----397798b44d5c---------------------------------------)[Text to speech](https://speechify.com/medium?source=post_page-----397798b44d5c---------------------------------------)[Teams](/business?source=post_page-----397798b44d5c---------------------------------------)', 'Four design patterns for AI agent workflows | Andrew Ng posted on the topic | LinkedIn\\nAgree & Join LinkedIn\\n\\nBy clicking Continue to join or sign in, you agree to LinkedIn’s [User Agreement](/legal/user-agreement?trk=linkedin-tc_auth-button_user-agreement), [Privacy Policy](/legal/privacy-policy?trk=linkedin-tc_auth-button_privacy-policy), and [Cookie Policy](/legal/cookie-policy?trk=linkedin-tc_auth-button_cookie-policy).\\n\\n[Skip to main content](#main-content)\\n[LinkedIn](/?trk=public_post_nav-header-logo)\\n\\n* [Articles](https://www.linkedin.com/pulse/topics/home/?trk=public_post_guest_nav_menu_articles)\\n* [People](https://www.linkedin.com/pub/dir/%2B/%2B?trk=public_post_guest_nav_menu_people)\\n* [Learning](https://www.linkedin.com/learning/search?trk=public_post_guest_nav_menu_learning)\\n* [Jobs](https://www.linkedin.com/jobs/search?trk=public_post_guest_nav_menu_jobs)\\n* [Games](https://www.linkedin.com/games?trk=public_post_guest_nav_menu_games)\\n\\n[Join now](https://www.linkedin.com/signup/cold-join?session_redirect=https%3A%2F%2Fwww%2Elinkedin%2Ecom%2Fposts%2Fandrewyng_one-agent-for-many-worlds-cross-species-activity-7179159130325078016-_oXr&trk=public_post_nav-header-join)\\n[Sign in](https://www.linkedin.com/login?session_redirect=https%3A%2F%2Fwww%2Elinkedin%2Ecom%2Fposts%2Fandrewyng_one-agent-for-many-worlds-cross-species-activity-7179159130325078016-_oXr&fromSignIn=true&trk=public_post_nav-header-signin)\\n\\n# Andrew Ng’s Post\\n\\n[![View profile for Andrew Ng, graphic]()](https://www.linkedin.com/in/andrewyng?trk=public_post_feed-actor-image)\\n[Andrew Ng](https://www.linkedin.com/in/andrewyng?trk=public_post_feed-actor-name)\\n\\nAndrew Ng is an Influencer\\n\\n Founder of DeepLearning.AI; Managing General Partner of AI Fund; Exec Chairman of Landing AI\\n\\n10mo\\n\\n* [Report this post](/uas/login?session_redirect=https%3A%2F%2Fwww.linkedin.com%2Fposts%2Fandrewyng_one-agent-for-many-worlds-cross-species-activity-7179159130325078016-_oXr&trk=public_post_ellipsis-menu-semaphore-sign-in-redirect&guestReportContentType=POST&_f=guest-reporting)\\n\\nLast week, I described four design patterns for AI agentic workflows that I believe will drive significant progress: Reflection, Tool use, Planning and Multi-agent collaboration. Instead of having an LLM generate its final output directly, an agentic workflow prompts the LLM multiple times, giving it opportunities to build step by step to higher-quality output. Here, I\\'d like to discuss Reflection. It\\'s relatively quick to implement, and I\\'ve seen it lead to surprising performance gains.\\nYou may have had the experience of prompting ChatGPT/Claude/Gemini, receiving unsatisfactory output, delivering critical feedback to help the LLM improve its response, and then getting a better response. What if you automate the step of delivering critical feedback, so the model automatically criticizes its own output and improves its response? This is the crux of Reflection.\\nTake the task of asking an LLM to write code. We can prompt it to generate the desired code directly to carry out some task X. Then, we can prompt it to reflect on its own output, perhaps as follows:\\nHere’s code intended for task X:\\n[previously generated code]\\nCheck the code carefully for correctness, style, and efficiency, and give constructive criticism for how to improve it.\\nSometimes this causes the LLM to spot problems and come up with constructive suggestions. Next, we can prompt the LLM with context including (i) the previously generated code and (ii) the constructive feedback, and ask it to use the feedback to rewrite the code. This can lead to a better response. Repeating the criticism/rewrite process might yield further improvements. This self-reflection process allows the LLM to spot gaps and improve its output on a variety of tasks including producing code, writing text, and answering questions.\\nAnd we can go beyond self-reflection by giving the LLM tools that help evaluate its output; for example, running its code through a few unit tests to check whether it generates correct results on test cases or searching the web to double-check text output. Then it can reflect on any errors it found and come up with ideas for improvement.\\nFurther, we can implement Reflection using a multi-agent framework. I\\'ve found it convenient to create two agents, one prompted to generate good outputs and the other prompted to give constructive criticism of the first agent\\'s output. The resulting discussion between the two agents leads to improved responses.\\nReflection is a relatively basic type of agentic workflow, but I\\'ve been delighted by how much it improved my applications’ results. If you’re interested in learning more about reflection, I recommend:\\n- Self-Refine: Iterative Refinement with Self-Feedback, by Madaan et al. (2023)\\n- Reflexion: Language Agents with Verbal Reinforcement Learning, by Shinn et al. (2023)\\n- CRITIC: Large Language Models Can Self-Correct with Tool-Interactive Critiquing, by Gou et al. (2024)\\n[Original text: [https://lnkd.in/g4bTuWtU](https://lnkd.in/g4bTuWtU?trk=public_post-text) ]\\n\\n[![One Agent For Many Worlds, Cross-Species Cell Embeddings, and more]()\\n\\n## One Agent For Many Worlds, Cross-Species Cell Embeddings, and more\\n\\n### deeplearning.ai](https://www.linkedin.com/redir/redirect?url=https%3A%2F%2Fwww%2Edeeplearning%2Eai%2Fthe-batch%2Fissue-242%2F&urlhash=yLaH&trk=public_post_feed-article-content)\\n\\n[![]()\\n![]()\\n![]()\\n4,122](https://www.linkedin.com/signup/cold-join?session_redirect=https%3A%2F%2Fwww%2Elinkedin%2Ecom%2Fposts%2Fandrewyng_one-agent-for-many-worlds-cross-species-activity-7179159130325078016-_oXr&trk=public_post_social-actions-reactions)\\n\\n[125 Comments](https://www.linkedin.com/signup/cold-join?session_redirect=https%3A%2F%2Fwww%2Elinkedin%2Ecom%2Fposts%2Fandrewyng_one-agent-for-many-worlds-cross-species-activity-7179159130325078016-_oXr&trk=public_post_social-actions-comments)\\n\\n[Like](https://www.linkedin.com/signup/cold-join?session_redirect=https%3A%2F%2Fwww%2Elinkedin%2Ecom%2Fposts%2Fandrewyng_one-agent-for-many-worlds-cross-species-activity-7179159130325078016-_oXr&trk=public_post_like-cta)\\n[Comment](https://www.linkedin.com/signup/cold-join?session_redirect=https%3A%2F%2Fwww%2Elinkedin%2Ecom%2Fposts%2Fandrewyng_one-agent-for-many-worlds-cross-species-activity-7179159130325078016-_oXr&trk=public_post_comment-cta)\\n\\nShare\\n\\n* Copy\\n* LinkedIn\\n* Facebook\\n* Twitter\\n\\n[![Dan C., graphic]()](https://nl.linkedin.com/in/comandan?trk=public_post_comment_actor-image)\\n\\n[Dan C.](https://nl.linkedin.com/in/comandan?trk=public_post_comment_actor-name)\\n\\nAI Research Engineer\\n\\n10mo\\n\\n* [Report this comment](/uas/login?session_redirect=https%3A%2F%2Fwww.linkedin.com%2Fposts%2Fandrewyng_one-agent-for-many-worlds-cross-species-activity-7179159130325078016-_oXr&trk=public_post_comment_ellipsis-menu-semaphore-sign-in-redirect&guestReportContentType=COMMENT&_f=guest-reporting)\\n\\nHere are my custom instructions:\\n“First: Ensure responses delve into the implications of the user’s findings, using them as a springboard for deeper insights rather than summarizing what has already been stated.\\nSecond: Tell me all the assumptions you are making and how they may be wrong.\\nThird:\\n1. Analyze deeply, grasp underlying inquiry. Seek clarifications, look beyond surface.\\n2. Extract essential ideas, concepts, requirements. Basis for nuanced response.\\n3. Before finalizing response, attempt to disprove initial conclusions. Continue until confidence in correctness is achieved.\\n4. Aim for originality, depth. Progress from query to new perspectives, solutions.\\n5. Ensure alignment with goals.\\nBe as clear and succinct as possible when answering and use plain language.”\\nWhen I don’t want to use these custom instructions I use ChatGPT Classic.\\n\\n[Like](https://www.linkedin.com/signup/cold-join?session_redirect=https%3A%2F%2Fwww%2Elinkedin%2Ecom%2Fposts%2Fandrewyng_one-agent-for-many-worlds-cross-species-activity-7179159130325078016-_oXr&trk=public_post_comment_like)\\n\\n[Reply](https://www.linkedin.com/signup/cold-join?session_redirect=https%3A%2F%2Fwww%2Elinkedin%2Ecom%2Fposts%2Fandrewyng_one-agent-for-many-worlds-cross-species-activity-7179159130325078016-_oXr&trk=public_post_comment_reply)\\n[9\\xa0Reactions](https://www.linkedin.com/signup/cold-join?session_redirect=https%3A%2F%2Fwww%2Elinkedin%2Ecom%2Fposts%2Fandrewyng_one-agent-for-many-worlds-cross-species-activity-7179159130325078016-_oXr&trk=public_post_comment_reactions)\\n10\\xa0Reactions\\n\\n[![Carlos Chinchilla, graphic]()](https://www.linkedin.com/in/carloschinchilla?trk=public_post_comment_actor-image)\\n\\n[Carlos Chinchilla](https://www.linkedin.com/in/carloschinchilla?trk=public_post_comment_actor-name)\\n\\nMarketing Automation | Ex-CTO @ YC & Techstars\\n\\n10mo\\n\\n* [Report this comment](/uas/login?session_redirect=https%3A%2F%2Fwww.linkedin.com%2Fposts%2Fandrewyng_one-agent-for-many-worlds-cross-species-activity-7179159130325078016-_oXr&trk=public_post_comment_ellipsis-menu-semaphore-sign-in-redirect&guestReportContentType=COMMENT&_f=guest-reporting)\\n\\nOne tool I\\'ve been using to self-correct/self-reflect is \"instructor\", [https://python.useinstructor.com/examples/self\\\\_critique](https://python.useinstructor.com/examples/self_critique?trk=public_post_comment-text)/. With instructor, you use Pydantic validators to self-correct. No need for complex frameworks (langchain, DSP), adhoc code, instructor is all you need.\\nI ran across it while building ZAP, an agent that creates videos using simple instructions like: \"create a video on the origins of AI\". ZAP takes the user\\'s command to create a plan, write code, execute the code in parallel, and returns you a shiny video.\\nVideos produced by ZAP already reached millions of views on TikTok.\\nYou can check out the architecture of ZAP here, [https://www.linkedin.com/feed/update/urn:li:activity:7175525317015392256](https://www.linkedin.com/feed/update/urn%3Ali%3Aactivity%3A7175525317015392256?trk=public_post_comment-text)/.\\nExciting times!\\n\\n[Like](https://www.linkedin.com/signup/cold-join?session_redirect=https%3A%2F%2Fwww%2Elinkedin%2Ecom%2Fposts%2Fandrewyng_one-agent-for-many-worlds-cross-species-activity-7179159130325078016-_oXr&trk=public_post_comment_like)\\n\\n[Reply](https://www.linkedin.com/signup/cold-join?session_redirect=https%3A%2F%2Fwww%2Elinkedin%2Ecom%2Fposts%2Fandrewyng_one-agent-for-many-worlds-cross-species-activity-7179159130325078016-_oXr&trk=public_post_comment_reply)\\n[4\\xa0Reactions](https://www.linkedin.com/signup/cold-join?session_redirect=https%3A%2F%2Fwww%2Elinkedin%2Ecom%2Fposts%2Fandrewyng_one-agent-for-many-worlds-cross-species-activity-7179159130325078016-_oXr&trk=public_post_comment_reactions)\\n5\\xa0Reactions\\n\\n[![Sai vamsi C., graphic]()](https://au.linkedin.com/in/sai-chunduru12?trk=public_post_comment_actor-image)\\n\\n[Sai vamsi C.](https://au.linkedin.com/in/sai-chunduru12?trk=public_post_comment_actor-name)\\n\\nData Analyst | Gen AI | LLM | RAG | Agents | RMIT University | Machine Learning Engineer | AI Solutions\\n\\n10mo\\n\\n* [Report this comment](/uas/login?session_redirect=https%3A%2F%2Fwww.linkedin.com%2Fposts%2Fandrewyng_one-agent-for-many-worlds-cross-species-activity-7179159130325078016-_oXr&trk=public_post_comment_ellipsis-menu-semaphore-sign-in-redirect&guestReportContentType=COMMENT&_f=guest-reporting)\\n\\nI use reflection to generate code, it does a good job, but the only downside of it is multiple LLM calls.\\n\\n[Like](https://www.linkedin.com/signup/cold-join?session_redirect=https%3A%2F%2Fwww%2Elinkedin%2Ecom%2Fposts%2Fandrewyng_one-agent-for-many-worlds-cross-species-activity-7179159130325078016-_oXr&trk=public_post_comment_like)\\n\\n[Reply](https://www.linkedin.com/signup/cold-join?session_redirect=https%3A%2F%2Fwww%2Elinkedin%2Ecom%2Fposts%2Fandrewyng_one-agent-for-many-worlds-cross-species-activity-7179159130325078016-_oXr&trk=public_post_comment_reply)\\n\\n1\\xa0Reaction\\n\\n[![SunDeep Mehra, graphic]()](https://in.linkedin.com/in/sundeep-mehra-614464199?trk=public_post_comment_actor-image)\\n\\n[SunDeep Mehra](https://in.linkedin.com/in/sundeep-mehra-614464199?trk=public_post_comment_actor-name)\\n\\nGlobal Leader | International Speaker | Change Maker | Top Voice | Leadership Advisor | Writer | Author | Poet | Visionary Thinker | Entrepreneur | Trailblazer | Humanitarian | Awakener | Pioneering Awakened Leadership…\\n\\n10mo\\n\\n* [Report this comment](/uas/login?session_redirect=https%3A%2F%2Fwww.linkedin.com%2Fposts%2Fandrewyng_one-agent-for-many-worlds-cross-species-activity-7179159130325078016-_oXr&trk=public_post_comment_ellipsis-menu-semaphore-sign-in-redirect&guestReportContentType=COMMENT&_f=guest-reporting)\\n\\nInteresting to see human curiosity in training LLMs for superior responses.\\nBut out of interest in the topic I would like to ask some sorted questions. Some might find is not fully aligned with the topic, but still, having so many great minds and thinkers, we can at least share some inputs to understand or through some light on other relevant queries.\\nAre we trying to train LLM to criticize its own incorrect responses to get a better one?\\nWhy do we want everything out of it? What is the intent behind it?\\nInstead of honing our own skills, knowledge, and expertise every single time in order to enhance human capabilities and intelligence, why our only goal is to achieve enhanced machine performance.\\nThough it\\'s important to do so to a certain extent, why the whole efforts are all about making humans 2nd?\\nIt feels like humans are planning their own whitewash. We need to use these tools as a screwdriver in our creation and upskilling process so that they can strengthen human intelligence.\\nBut if we are just ready to sit and watch things happen, becoming the laziest species on the planet, then in the next 10 years we might not even need our hands or might sense too. Are we planning our own extinction?\\n\\n[Like](https://www.linkedin.com/signup/cold-join?session_redirect=https%3A%2F%2Fwww%2Elinkedin%2Ecom%2Fposts%2Fandrewyng_one-agent-for-many-worlds-cross-species-activity-7179159130325078016-_oXr&trk=public_post_comment_like)\\n\\n[Reply](https://www.linkedin.com/signup/cold-join?session_redirect=https%3A%2F%2Fwww%2Elinkedin%2Ecom%2Fposts%2Fandrewyng_one-agent-for-many-worlds-cross-species-activity-7179159130325078016-_oXr&trk=public_post_comment_reply)\\n[1\\xa0Reaction](https://www.linkedin.com/signup/cold-join?session_redirect=https%3A%2F%2Fwww%2Elinkedin%2Ecom%2Fposts%2Fandrewyng_one-agent-for-many-worlds-cross-species-activity-7179159130325078016-_oXr&trk=public_post_comment_reactions)\\n2\\xa0Reactions\\n\\n[![PlatorAI, graphic]()](https://uk.linkedin.com/showcase/platorai/?trk=public_post_comment_actor-image)\\n\\n[PlatorAI](https://uk.linkedin.com/showcase/platorai/?trk=public_post_comment_actor-name)\\n10mo\\n\\n* [Report this comment](/uas/login?session_redirect=https%3A%2F%2Fwww.linkedin.com%2Fposts%2Fandrewyng_one-agent-for-many-worlds-cross-species-activity-7179159130325078016-_oXr&trk=public_post_comment_ellipsis-menu-semaphore-sign-in-redirect&guestReportContentType=COMMENT&_f=guest-reporting)\\n\\nThank-you for sharing Andrew. We (at PlatorAI) have naturally found ourselves doing iterations and breaking things down into smaller chunks and have used different models (Gemini to ChatGPT and back) to check/improve responses. Thank-you for explaining “Reflection” and providing the academic research links (will investigate further). Keep up the good work and sharing for all to learn/develop / understand. 👏\\n\\n[Like](https://www.linkedin.com/signup/cold-join?session_redirect=https%3A%2F%2Fwww%2Elinkedin%2Ecom%2Fposts%2Fandrewyng_one-agent-for-many-worlds-cross-species-activity-7179159130325078016-_oXr&trk=public_post_comment_like)\\n\\n[Reply](https://www.linkedin.com/signup/cold-join?session_redirect=https%3A%2F%2Fwww%2Elinkedin%2Ecom%2Fposts%2Fandrewyng_one-agent-for-many-worlds-cross-species-activity-7179159130325078016-_oXr&trk=public_post_comment_reply)\\n[3\\xa0Reactions](https://www.linkedin.com/signup/cold-join?session_redirect=https%3A%2F%2Fwww%2Elinkedin%2Ecom%2Fposts%2Fandrewyng_one-agent-for-many-worlds-cross-species-activity-7179159130325078016-_oXr&trk=public_post_comment_reactions)\\n4\\xa0Reactions\\n\\n[![Ray G. Butler, graphic]()](https://es.linkedin.com/in/raygbutler?trk=public_post_comment_actor-image)\\n\\n[Ray G. Butler](https://es.linkedin.com/in/raygbutler?trk=public_post_comment_actor-name)\\n\\nCEO / Director of Data Science at Butler Scientifics. Affiliated Professor of Statistics and Data Science, UPC/Euncet.\\n\\n10mo\\n\\n* [Report this comment](/uas/login?session_redirect=https%3A%2F%2Fwww.linkedin.com%2Fposts%2Fandrewyng_one-agent-for-many-worlds-cross-species-activity-7179159130325078016-_oXr&trk=public_post_comment_ellipsis-menu-semaphore-sign-in-redirect&guestReportContentType=COMMENT&_f=guest-reporting)\\n\\nHello, Andrew. It\\'s a pleasure to chat with you. This topic is very recurrent in our activity at [Butler Scientifics](https://es.linkedin.com/company/butler-scientifics?trk=public_post_comment-text). We have developed quite a few pieces of code with that prompting scheme you propose, but I have serious doubts about its fully automation.\\nThese doubts are based on the fact that a significant proportion of the deviations from the expected results occur due to a lack of technical detail in the initial prompt, usually because the programmer himself was not aware of certain functional requirements. In those cases, the solution was also functional, but the deviation from the expected result was evident. And I doubt an LLM can \"imagine\" those expectations.\\nI couldn\\'t tell you in what proportion of cases this happened, but it\\'s a significant problem.\\nAnyway, I congratulate any initiative to raise the level of abstraction of the solutions implemented by LLMs. We are also working in that direction from our #ButlerLabs. I\\'ll tell you about it ;)\\n\\n[Like](https://www.linkedin.com/signup/cold-join?session_redirect=https%3A%2F%2Fwww%2Elinkedin%2Ecom%2Fposts%2Fandrewyng_one-agent-for-many-worlds-cross-species-activity-7179159130325078016-_oXr&trk=public_post_comment_like)\\n\\n[Reply](https://www.linkedin.com/signup/cold-join?session_redirect=https%3A%2F%2Fwww%2Elinkedin%2Ecom%2Fposts%2Fandrewyng_one-agent-for-many-worlds-cross-species-activity-7179159130325078016-_oXr&trk=public_post_comment_reply)\\n\\n1\\xa0Reaction\\n\\n[![Adeel Ahmad, graphic]()](https://au.linkedin.com/in/adeelahmadch?trk=public_post_comment_actor-image)\\n\\n[Adeel Ahmad](https://au.linkedin.com/in/adeelahmadch?trk=public_post_comment_actor-name)\\n\\n🚀 Passionate AI & Cloud Solutions Architect\\n\\n10mo\\n\\n* [Report this comment](/uas/login?session_redirect=https%3A%2F%2Fwww.linkedin.com%2Fposts%2Fandrewyng_one-agent-for-many-worlds-cross-species-activity-7179159130325078016-_oXr&trk=public_post_comment_ellipsis-menu-semaphore-sign-in-redirect&guestReportContentType=COMMENT&_f=guest-reporting)\\n\\n[Andrew Ng](https://www.linkedin.com/in/andrewyng?trk=public_post_comment-text) Thank you so much for sharing this. I am experimenting with a similar framework we usually use during interviews STAR( Situation/Context, Task (needs to be carried out), Actions (for each task) and Results (expectations).\\nand then the agent start working on the actions. Thought its own reflection and comparison with the STAR plan i found that even quantized smaller models are performing well. I am hopping to write a blog post and a POC this weekend.\\n\\n[Like](https://www.linkedin.com/signup/cold-join?session_redirect=https%3A%2F%2Fwww%2Elinkedin%2Ecom%2Fposts%2Fandrewyng_one-agent-for-many-worlds-cross-species-activity-7179159130325078016-_oXr&trk=public_post_comment_like)\\n\\n[Reply](https://www.linkedin.com/signup/cold-join?session_redirect=https%3A%2F%2Fwww%2Elinkedin%2Ecom%2Fposts%2Fandrewyng_one-agent-for-many-worlds-cross-species-activity-7179159130325078016-_oXr&trk=public_post_comment_reply)\\n[2\\xa0Reactions](https://www.linkedin.com/signup/cold-join?session_redirect=https%3A%2F%2Fwww%2Elinkedin%2Ecom%2Fposts%2Fandrewyng_one-agent-for-many-worlds-cross-species-activity-7179159130325078016-_oXr&trk=public_post_comment_reactions)\\n3\\xa0Reactions\\n\\n[![Apurva Garware, graphic]()](https://www.linkedin.com/in/apurvacg?trk=public_post_comment_actor-image)\\n\\n[Apurva Garware](https://www.linkedin.com/in/apurvacg?trk=public_post_comment_actor-name)\\n\\nSVP / Head of Product and UX, Invisible | AI Training/Enablement, Marketplace product leadership | Ex-Amazon, Microsoft, Upwork\\n\\n10mo\\n\\n* [Report this comment](/uas/login?session_redirect=https%3A%2F%2Fwww.linkedin.com%2Fposts%2Fandrewyng_one-agent-for-many-worlds-cross-species-activity-7179159130325078016-_oXr&trk=public_post_comment_ellipsis-menu-semaphore-sign-in-redirect&guestReportContentType=COMMENT&_f=guest-reporting)\\n\\nA very helpful post on the next frontier of AI we should expect to see. I\\'m looking to learn more about tools that will allow the \"evaluator\" agent to receive success criteria from a developer (unit tests, performance metrics, precision/recall metrics, accuracy metrics etc) so they prompt the \"doer\" agent to the right degree and know when the task is truly complete.\\n\\n[Like](https://www.linkedin.com/signup/cold-join?session_redirect=https%3A%2F%2Fwww%2Elinkedin%2Ecom%2Fposts%2Fandrewyng_one-agent-for-many-worlds-cross-species-activity-7179159130325078016-_oXr&trk=public_post_comment_like)\\n\\n[Reply](https://www.linkedin.com/signup/cold-join?session_redirect=https%3A%2F%2Fwww%2Elinkedin%2Ecom%2Fposts%2Fandrewyng_one-agent-for-many-worlds-cross-species-activity-7179159130325078016-_oXr&trk=public_post_comment_reply)\\n\\n1\\xa0Reaction\\n\\n[![Calvin Hall, graphic]()](https://www.linkedin.com/in/calvin-hall-824143ba?trk=public_post_comment_actor-image)\\n\\n[Calvin Hall](https://www.linkedin.com/in/calvin-hall-824143ba?trk=public_post_comment_actor-name)\\n\\nTransform Your Business with Precision Marketing! | Founder & CEO at Shotgun Ads\\n\\n10mo\\n\\n* [Report this comment](/uas/login?session_redirect=https%3A%2F%2Fwww.linkedin.com%2Fposts%2Fandrewyng_one-agent-for-many-worlds-cross-species-activity-7179159130325078016-_oXr&trk=public_post_comment_ellipsis-menu-semaphore-sign-in-redirect&guestReportContentType=COMMENT&_f=guest-reporting)\\n\\nThe concept of Reflection in AI agentic workflows is fascinating and holds great promise for enhancing the performance of large language models (LLMs). By enabling the model to critique and improve its own output, you\\'re essentially incorporating a continuous learning and improvement process within a single interaction. This not only makes the model more self-reliant but also potentially reduces the need for human intervention in refining responses.\\nThe examples you provided, like code generation and refinement, illustrate the practical application of this concept and how it can lead to more accurate and efficient outputs. The idea of using multi-agent frameworks to facilitate a constructive discussion between agents is an innovative approach to further enhance this process.\\nIt\\'s exciting to see how Reflection and other design patterns for AI agentic workflows are driving advancements in the field. I look forward to seeing how these concepts continue to evolve and impact the development of more sophisticated and capable AI systems. Thank you for sharing these insights and resources!\\n\\n[Like](https://www.linkedin.com/signup/cold-join?session_redirect=https%3A%2F%2Fwww%2Elinkedin%2Ecom%2Fposts%2Fandrewyng_one-agent-for-many-worlds-cross-species-activity-7179159130325078016-_oXr&trk=public_post_comment_like)\\n\\n[Reply](https://www.linkedin.com/signup/cold-join?session_redirect=https%3A%2F%2Fwww%2Elinkedin%2Ecom%2Fposts%2Fandrewyng_one-agent-for-many-worlds-cross-species-activity-7179159130325078016-_oXr&trk=public_post_comment_reply)\\n[1\\xa0Reaction](https://www.linkedin.com/signup/cold-join?session_redirect=https%3A%2F%2Fwww%2Elinkedin%2Ecom%2Fposts%2Fandrewyng_one-agent-for-many-worlds-cross-species-activity-7179159130325078016-_oXr&trk=public_post_comment_reactions)\\n2\\xa0Reactions\\n\\n[See more comments](https://www.linkedin.com/signup/cold-join?session_redirect=https%3A%2F%2Fwww%2Elinkedin%2Ecom%2Fposts%2Fandrewyng_one-agent-for-many-worlds-cross-species-activity-7179159130325078016-_oXr&trk=public_post_see-more-comments)\\n\\nTo view or add a comment, [sign in](https://www.linkedin.com/signup/cold-join?session_redirect=https%3A%2F%2Fwww%2Elinkedin%2Ecom%2Fposts%2Fandrewyng_one-agent-for-many-worlds-cross-species-activity-7179159130325078016-_oXr&trk=public_post_feed-cta-banner-cta)\\n\\n![](https://static.licdn.com/aero-v1/sc/h/5q92mjc5c51bjlwaj3rs9aa82)\\n\\n![Andrew Ng]()\\n\\n1,948,102 followers\\n\\n* [376 Posts](https://www.linkedin.com/signup/cold-join?session_redirect=https%3A%2F%2Fwww%2Elinkedin%2Ecom%2Fin%2Fandrewyng%2Frecent-activity%2F&trk=public_post_follow-posts)\\n* [1 Article](https://www.linkedin.com/today/author/andrewyng?trk=public_post_follow-articles)\\n\\n[View Profile](https://www.linkedin.com/in/andrewyng?trk=public_post_follow-view-profile)\\n[Connect](https://www.linkedin.com/signup/cold-join?session_redirect=https%3A%2F%2Fwww%2Elinkedin%2Ecom%2Ffeed%2Fupdate%2Furn%3Ali%3Aactivity%3A7179159130325078016&trk=public_post_follow)\\n\\n## More from this author\\n\\n* [![]()\\n\\n  ### Learn to Speak or Teach Better in 30 Minutes\\n\\n  Andrew Ng\\n\\n  10y](https://www.linkedin.com/pulse/20140320175655-176238488-learn-to-speak-or-teach-better-in-30-minutes?trk=public_post)\\n\\n## Explore topics\\n\\n* [Sales](https://www.linkedin.com/pulse/topics/sales-s5/)\\n* [Marketing](https://www.linkedin.com/pulse/topics/marketing-s2461/)\\n* [IT Services](https://www.linkedin.com/pulse/topics/it-services-s57547/)\\n* [Business Administration](https://www.linkedin.com/pulse/topics/business-administration-s50111/)\\n* [HR Management](https://www.linkedin.com/pulse/topics/hr-management-s50359/)\\n* [Engineering](https://www.linkedin.com/pulse/topics/engineering-s166/)\\n* [Soft Skills](https://www.linkedin.com/pulse/topics/soft-skills-s2976/)\\n* [See All](https://www.linkedin.com/pulse/topics/home/)\\n\\n* LinkedIn\\n\\n  © 2025\\n* [About](https://about.linkedin.com?trk=d_public_post_footer-about)\\n* [Accessibility](https://www.linkedin.com/accessibility?trk=d_public_post_footer-accessibility)\\n* [User Agreement](https://www.linkedin.com/legal/user-agreement?trk=d_public_post_footer-user-agreement)\\n* [Privacy Policy](https://www.linkedin.com/legal/privacy-policy?trk=d_public_post_footer-privacy-policy)\\n* [Cookie Policy](https://www.linkedin.com/legal/cookie-policy?trk=d_public_post_footer-cookie-policy)\\n* [Copyright Policy](https://www.linkedin.com/legal/copyright-policy?trk=d_public_post_footer-copyright-policy)\\n* [Brand Policy](https://brand.linkedin.com/policies?trk=d_public_post_footer-brand-policy)\\n* [Guest Controls](https://www.linkedin.com/psettings/guest-controls?trk=d_public_post_footer-guest-controls)\\n* [Community Guidelines](https://www.linkedin.com/legal/professional-community-policies?trk=d_public_post_footer-community-guide)\\n* + العربية (Arabic)\\n  + বাংলা (Bangla)\\n  + Čeština (Czech)\\n  + Dansk (Danish)\\n  + Deutsch (German)\\n  + Ελληνικά (Greek)\\n  + **English (English)**\\n  + Español (Spanish)\\n  + فارسی (Persian)\\n  + Suomi (Finnish)\\n  + Français (French)\\n  + हिंदी (Hindi)\\n  + Magyar (Hungarian)\\n  + Bahasa Indonesia (Indonesian)\\n  + Italiano (Italian)\\n  + עברית (Hebrew)\\n  + 日本語 (Japanese)\\n  + 한국어 (Korean)\\n  + मराठी (Marathi)\\n  + Bahasa Malaysia (Malay)\\n  + Nederlands (Dutch)\\n  + Norsk (Norwegian)\\n  + ਪੰਜਾਬੀ (Punjabi)\\n  + Polski (Polish)\\n  + Português (Portuguese)\\n  + Română (Romanian)\\n  + Русский (Russian)\\n  + Svenska (Swedish)\\n  + తెలుగు (Telugu)\\n  + ภาษาไทย (Thai)\\n  + Tagalog (Tagalog)\\n  + Türkçe (Turkish)\\n  + Українська (Ukrainian)\\n  + Tiếng Việt (Vietnamese)\\n  + 简体中文 (Chinese (Simplified))\\n  + 正體中文 (Chinese (Traditional))\\n  Language\\n\\n![]()\\n## Sign in to view more content\\n\\nCreate your free account or sign in to continue your search\\n\\n Sign in\\n\\n## Welcome back\\n\\nEmail or phone\\n\\nPassword\\n\\nShow\\n\\n[Forgot password?](https://www.linkedin.com/uas/request-password-reset?trk=public_post_contextual-sign-in-modal_sign-in-modal_forgot_password)\\n\\nSign in\\n\\nor\\n\\nBy clicking Continue to join or sign in, you agree to LinkedIn’s [User Agreement](/legal/user-agreement?trk=public_post_contextual-sign-in-modal_sign-in-modal_auth-button_user-agreement), [Privacy Policy](/legal/privacy-policy?trk=public_post_contextual-sign-in-modal_sign-in-modal_auth-button_privacy-policy), and [Cookie Policy](/legal/cookie-policy?trk=public_post_contextual-sign-in-modal_sign-in-modal_auth-button_cookie-policy).\\n\\nNew to LinkedIn? [Join now](https://www.linkedin.com/signup/cold-join?session_redirect=https%3A%2F%2Fwww%2Elinkedin%2Ecom%2Fposts%2Fandrewyng_one-agent-for-many-worlds-cross-species-activity-7179159130325078016-_oXr&trk=public_post_contextual-sign-in-modal_sign-in-modal_join-link)\\n\\nor\\n\\nNew to LinkedIn? [Join now](https://www.linkedin.com/signup/cold-join?session_redirect=https%3A%2F%2Fwww%2Elinkedin%2Ecom%2Fposts%2Fandrewyng_one-agent-for-many-worlds-cross-species-activity-7179159130325078016-_oXr&trk=public_post_contextual-sign-in-modal_join-link)\\n\\nBy clicking Continue to join or sign in, you agree to LinkedIn’s [User Agreement](/legal/user-agreement?trk=linkedin-tc_auth-button_user-agreement), [Privacy Policy](/legal/privacy-policy?trk=linkedin-tc_auth-button_privacy-policy), and [Cookie Policy](/legal/cookie-policy?trk=linkedin-tc_auth-button_cookie-policy).', 'x.com\\n', 'Introduction to 4 Agentic AI Design Patterns\\nAgree & Join LinkedIn\\n\\nBy clicking Continue to join or sign in, you agree to LinkedIn’s [User Agreement](/legal/user-agreement?trk=linkedin-tc_auth-button_user-agreement), [Privacy Policy](/legal/privacy-policy?trk=linkedin-tc_auth-button_privacy-policy), and [Cookie Policy](/legal/cookie-policy?trk=linkedin-tc_auth-button_cookie-policy).\\n\\n[Skip to main content](#main-content)\\n[LinkedIn](/?trk=article-ssr-frontend-pulse_nav-header-logo)\\n\\n* [Articles](https://www.linkedin.com/pulse/topics/home/?trk=article-ssr-frontend-pulse_guest_nav_menu_articles)\\n* [People](https://www.linkedin.com/pub/dir/%2B/%2B?trk=article-ssr-frontend-pulse_guest_nav_menu_people)\\n* [Learning](https://www.linkedin.com/learning/search?trk=article-ssr-frontend-pulse_guest_nav_menu_learning)\\n* [Jobs](https://www.linkedin.com/jobs/search?trk=article-ssr-frontend-pulse_guest_nav_menu_jobs)\\n* [Games](https://www.linkedin.com/games?trk=article-ssr-frontend-pulse_guest_nav_menu_games)\\n\\n[Join now](https://www.linkedin.com/signup/cold-join?session_redirect=%2Fpulse%2Fintroduction-4-agentic-ai-design-patterns-kashif-manzoor-zosuf&trk=article-ssr-frontend-pulse_nav-header-join)\\n[Sign in](https://www.linkedin.com/uas/login?session_redirect=%2Fpulse%2Fintroduction-4-agentic-ai-design-patterns-kashif-manzoor-zosuf&fromSignIn=true&trk=article-ssr-frontend-pulse_nav-header-signin)\\n[![]()](https://www.linkedin.com/uas/login?session_redirect=%2Fpulse%2Fintroduction-4-agentic-ai-design-patterns-kashif-manzoor-zosuf&fromSignIn=true&trk=article-ssr-frontend-pulse_nav-header-signin)\\n\\n![Introduction to 4 Agentic AI Design Patterns](https://media.licdn.com/dms/image/v2/D4D12AQHB3vrNyWqdRg/article-cover_image-shrink_720_1280/article-cover_image-shrink_720_1280/0/1737302366316?e=2147483647&v=beta&t=DBgQDwG0puQVGe4BHtgYyEFGB2k3J-ax5UsFoLnwsKs)\\n\\n# Introduction to 4 Agentic AI Design Patterns\\n\\n* [Report this article](/uas/login?session_redirect=https%3A%2F%2Fwww.linkedin.com%2Fpulse%2Fintroduction-4-agentic-ai-design-patterns-kashif-manzoor-zosuf&trk=article-ssr-frontend-pulse_ellipsis-menu-semaphore-sign-in-redirect&guestReportContentType=PONCHO_ARTICLE&_f=guest-reporting)\\n\\n[Kashif Manzoor](https://ae.linkedin.com/in/kashifmanzoor)\\n![Kashif Manzoor]()\\n### Kashif Manzoor\\n\\n#### Enabling Customers for a Successful AI Adoption | AI Tech Evangelist | AI Solutions Architect\\n\\nPublished Jan 19, 2025\\n\\n[+ Follow](https://www.linkedin.com/signup/cold-join?session_redirect=%2Fpulse%2Fintroduction-4-agentic-ai-design-patterns-kashif-manzoor-zosuf&trk=article-ssr-frontend-pulse_publisher-author-card)\\n\\nWelcome to your weekly AI Newsletter from\\xa0[AITechCircle](https://aitechcircle.com/)!\\n\\nI\\'m Building, Implementing AI solutions, and sharing everything I learn along the way...\\n\\nCheck out the updates from this week! Please take a moment to share them with a friend or colleague who might benefit from these valuable insights!\\n\\n### Today at a Glance:\\n\\n* AI Agentic Design Patterns\\n* Generative AI Use cases\\n* AI Weekly news and updates covering newly released LLMs\\n* Courses and events to attend\\n\\n### Agentic AI Design Patterns\\n\\nLast week, we covered how AI is evolving, and it is in the\\xa0[Agentic AI phase in 2025](https://aitechcircle.kit.com/posts/from-perception-ai-to-generative-to-agentic-to-physical-ai)\\u200b\\n\\nContinuously to this topic, I got a question during this week\\'s session with a few tech engineers about whether there are common patterns for Agentic AI.\\n\\nBefore you go into details of the patterns, let\\'s have a look at the following:\\n\\n### What is Agentic AI\\n\\nAgentic AI systems feature intelligent, independent agents collaborating to tackle complex problems. These agents surpass traditional AI, like just prompts or pre-defined tasks, by integrating advanced capabilities like “chaining,” enabling them to manage intricate, sequential tasks. They can perceive environments, make decisions, and learn from outcomes to achieve goals.\\n\\nThey have a spectrum of agent-like qualities and cover various systems and methodologies. Large language models (LLMs) are a key part of Agentic AI.\\n\\n![](//:0)\\n\\nI worked on exploring these patterns during this week, and here are some common\\xa0**Agentic AI**\\xa0design patterns.\\n\\nThey describe how autonomous agents perceive, reason, communicate, and act in a multi-agent or distributed environment.\\n\\nEach pattern has distinct benefits and trade-offs;\\n\\nYou can combine them to build more complex agentic systems.\\n\\nEach pattern offers a way to structure decision-making, communication, and execution in complex scenarios.\\n\\n**Design Patterns for Agentic AI:**\\n\\n**1 - Reflection:**\\n\\nThe Reflection design pattern in Agentic AI involves the system\\'s ability to analyze its own performance and decision-making processes. This self-awareness allows the agent to adjust its behaviour based on past actions and outcomes, enhancing its effectiveness over time.\\n\\n**Use Cases:**\\xa0This pattern is particularly useful in dynamic environments where conditions change rapidly, such as in automated trading systems where an agent must evaluate its trading strategies and adapt to new market conditions without human intervention.\\n\\n![](//:0)\\n\\n**2 - Planning:**\\n\\nPlanning is another design pattern in which the AI agent can foresee potential future states and devise a series of actions to achieve its goals. This involves complex problem-solving and decision-making processes based on predicted outcomes.\\n\\n**Use Cases:**\\xa0Planning is essential in logistics and supply chain management, where AI agents need to optimize delivery vehicle routes and schedules based on traffic, weather conditions, and customer delivery windows.\\n\\n![](//:0)\\n\\n**3. Tool Use:**\\n\\nThe tool-use design pattern enables AI agents to identify, select, and use tools or resources within their environment to accomplish specific tasks. This extends the agent’s capabilities beyond built-in functions to leveraging external tools or integrating with other systems.\\n\\n**Use Cases:**\\xa0In manufacturing, AI agents equipped with the Tool Use pattern can autonomously operate machinery, adjust parameters for different production runs, or switch between tools to handle varying materials and assembly processes efficiently.\\n\\n![](//:0)\\n\\n**4. Multi-Agent:**\\n\\nThe multi-agent design pattern involves multiple AI agents working collaboratively to solve problems or complete tasks that are too complex for a single agent. This pattern focuses on coordination and cooperation among agents to optimize overall system performance.\\n\\n**Use Cases:**\\xa0Multi-agent systems are highly effective in smart city applications, such as coordinating traffic lights and public transportation schedules to optimize traffic flow and reduce congestion during peak times.\\n\\n![](//:0)\\n\\nGenerative artificial intelligence facilitates the development and implementation of agents. These agents can leverage distinguished reasoning and language processing capabilities to take a proactive, autonomous role in pursuing business process goals\\n\\n### Decision Tree\\n\\nThe paper \"[*Agent Design Pattern Catalogue: A Collection of Architectural Patterns for Foundation Model-based Agent*](https://arxiv.org/abs/2405.10467)*s\"*\\xa0covers\\xa0**18 patterns.**\\xa0The best part is that you can decide which model you want to use below the decision tree to achieve a specific business task.\\n\\n\\u200b\\n\\n![](//:0)\\n\\nAgentic AI Design Patterns\\n\\nLast week, we covered how AI is evolving, and it is in the\\xa0[Agentic AI phase in 2025](https://aitechcircle.kit.com/posts/from-perception-ai-to-generative-to-agentic-to-physical-ai)\\u200b\\n\\nContinuously to this topic, I got a question during this week\\'s session with a few tech engineers about whether there are common patterns for Agentic AI.\\n\\nBefore you go into details of the patterns, let\\'s have a look at the following:\\n\\n### What is Agentic AI\\n\\nAgentic AI systems feature intelligent, independent agents collaborating to tackle complex problems. These agents surpass traditional AI, like just prompts or pre-defined tasks, by integrating advanced capabilities like “chaining,” enabling them to manage intricate, sequential tasks. They can perceive environments, make decisions, and learn from outcomes to achieve goals.\\n\\nThey have a spectrum of agent-like qualities and cover various systems and methodologies. Large language models (LLMs) are a key part of Agentic AI.\\n\\n![](//:0)\\n\\nI worked on exploring these patterns during this week, and here are some common\\xa0**Agentic AI**\\xa0design patterns.\\n\\nThey describe how autonomous agents perceive, reason, communicate, and act in a multi-agent or distributed environment.\\n\\nEach pattern has distinct benefits and trade-offs;\\n\\nYou can combine them to build more complex agentic systems.\\n\\nEach pattern offers a way to structure decision-making, communication, and execution in complex scenarios.\\n\\n**Design Patterns for Agentic AI:**\\n\\n**\\u200b**\\n\\n**1 - Reflection:**\\n\\nThe Reflection design pattern in Agentic AI involves the system\\'s ability to analyze its own performance and decision-making processes. This self-awareness allows the agent to adjust its behaviour based on past actions and outcomes, enhancing its effectiveness over time.\\n\\n\\u200b\\n\\n**Use Cases:**\\xa0This pattern is particularly useful in dynamic environments where conditions change rapidly, such as in automated trading systems where an agent must evaluate its trading strategies and adapt to new market conditions without human intervention.\\n\\n![](//:0)\\n\\n**2 - Planning:**\\n\\nPlanning is another design pattern in which the AI agent can foresee potential future states and devise a series of actions to achieve its goals. This involves complex problem-solving and decision-making processes based on predicted outcomes.\\n\\n**Use Cases:**\\xa0Planning is essential in logistics and supply chain management, where AI agents need to optimize routes and schedules for delivery vehicles based on traffic, weather conditions, and customer delivery windows.\\n\\n![](//:0)\\n\\n\\u200b\\n\\n**3. Tool Use:**\\n\\nThe tool-use design pattern enables AI agents to identify, select, and use tools or resources within their environment to accomplish specific tasks. This extends the agent’s capabilities beyond built-in functions to leveraging external tools or integrating with other systems.\\n\\n**Use Cases:**\\xa0In manufacturing, AI agents equipped with the Tool Use pattern can autonomously operate machinery, adjust parameters for different production runs, or switch between tools to efficiently handle varying materials and assembly processes.\\n\\n![](//:0)\\n\\n**4. Multi-Agent:**\\n\\nThe multi-agent design pattern involves multiple AI agents working collaboratively to solve problems or complete tasks that are too complex for a single agent. This pattern focuses on coordination and cooperation among agents to optimize overall system performance.\\n\\n**Use Cases:**\\xa0Multi-agent systems are highly effective in smart city applications, such as coordinating traffic lights and public transportation schedules to optimize traffic flow and reduce congestion during peak times.\\n\\n![](//:0)\\n\\nGenerative artificial intelligence facilitates the development and implementation of agents. These agents can leverage distinguished reasoning and language processing capabilities to take a proactive, autonomous role in pursuing business process goals\\n\\n### Decision Tree\\n\\nThe paper \"[*Agent Design Pattern Catalogue: A Collection of Architectural Patterns for Foundation Model-based Agent*](https://arxiv.org/abs/2405.10467)*s\"*\\xa0covers\\xa0**18 patterns.**\\xa0The best part is that you can decide which model you want to use below the decision tree to achieve a specific business task.\\n\\n\\u200b\\n\\n![](//:0)\\n\\n*Source:*[*https://arxiv.org/abs/2405.10467\\u200b*](https://arxiv.org/abs/2405.10467%E2%80%8B)\\n\\n### Call for Action\\n\\nFor organizations looking to implement Agentic AI, understanding these design patterns can support the development of robust AI systems that can operate autonomously and adapt to new challenges.\\n\\nEach pattern provides a framework for designing AI agents to perform designated tasks, improve their IT ecosystem, and interact intelligently with it.\\n\\nBy leveraging these patterns, businesses can enhance efficiency, reduce operational costs, and improve service delivery across various domains.\\n\\n---\\n\\n### Weekly News & Updates...\\n\\nLast week\\'s AI breakthroughs marked another leap forward in the tech revolution.\\n\\n1. Mistral has announced Codestral 25.01, a new SOTA coding model. It is Lightweight, fast, proficient in over 80 programming languages, and Optimized for low-latency, high-frequency use cases.\\xa0[Link](https://mistral.ai/news/codestral-2501/)\\u200b\\n2. Snowflake-Llama models with SwiftKV optimizations developed and integrated into vLLM improve LLM inference throughput to lower costs. Snowflake-derived models, based on Meta’s Llama 3.3 70B and Llama 3.1 405B base models,\\xa0[link](https://www.snowflake.com/en/blog/up-to-75-lower-inference-cost-llama-meta-llm/)\\u200b\\n3. Kokoro Voice Mixer Studio from Gradio is released,\\xa0[link](https://huggingface.co/spaces/ysharma/Make_Custom_Voices_With_KokoroTTS)\\u200b\\n\\n### The Cloud:\\xa0the backbone\\xa0of the\\xa0AI revolution\\n\\n* NVIDIA Releases NIM Microservices to Safeguard Applications for Agentic AI\\xa0[link](https://blogs.nvidia.com/blog/nemo-guardrails-nim-microservices/)\\u200b\\n* Worker safety and PPE compliance using AI\\xa0[link](https://blogs.oracle.com/ai-and-datascience/post/worker-safety-and-ppe-compliance-using-ai)\\u200b\\n\\n---\\n\\n### Generative AI\\xa0Use Case of the Week:\\n\\nUrban planning is evolving with the integration of Generative AI, offering innovative solutions to design challenges. Public Works Departments can now capitalize on the power of large language models (LLMs) to generate tailored urban design proposals for parks, housing layouts, and public spaces. These AI-driven suggestions streamline planning processes while aligning with community needs and sustainability goals.\\n\\nTo access the library of Gen AI Use cases,\\xa0[link here](https://github.com/kashifmannzoor/Generative-AI-use-cases):\\n\\n---\\n\\n### Chief\\xa0AI Officer (CAIO) Corner:\\n\\nThree tips for CAIOs\\n\\n1. **Invest in Scalable Data Infrastructure:**Prioritize a flexible, secure infra for AI. This enables faster AI experimentation and deployment across diverse use cases.\\n2. **Focus on Responsible AI:**Adopt clear guidelines for data privacy, bias mitigation, and model explainability. This will build trust with stakeholders and reduce regulatory risks.\\n3. **AI Literacy in Leadership:**Promote education and training so executives can understand AI\\'s potential, limitations, and ethical implications. This drives strategic alignment and informed decision-making.\\n\\n---\\n\\n### Favorite\\xa0Tip Of The Week:\\n\\nHere\\'s my favorite resource of the week.\\n\\nUsing the DINOv2 open source model from Meta FAIR, EndoDINO, a foundation model that delivers SOTA performance across a range of GI endoscopy tasks, details to read over: How Virgo is using DINOv2 to analyze endoscopy videos for precision medicine.\\xa0[link](https://ai.meta.com/blog/virgo-dino-endoscopy-video/)\\u200b\\n\\n---\\n\\n### Potential of AI\\n\\nOpenAI has published an Economic Blueprint outlining policy proposals to maximize AI’s benefits, bolster national security, and drive economic growth in the United States. It discusses the importance of building a democratic AI ecosystem that supports entrepreneurship and personal freedom, ensuring AI development aligns with American values and safeguards. The full details of the proposals can be found on OpenAI’s\\xa0[website](https://openai.com/global-affairs/openais-economic-blueprint/). Below are the few examples presented in the report where it is being used.\\n\\n![](//:0)\\n\\n*Source: OpenAI’s Economic Blueprint*\\n\\n### Things to Know...\\n\\nThe UK’s Prime Minister has recently outlined an ambitious\\xa0[blueprint](https://www.gov.uk/government/speeches/pm-speech-on-ai-opportunities-action-plan-13-january-2025)\\xa0aimed at harnessing the power of AI for economic and social advancement. The plan emphasizes substantial investment in AI technology and infrastructure to position the UK as a leading AI innovator on the global stage. This includes enhancing public services through AI\\n\\n![](//:0)\\n\\nSource: UK’s Prime Minister AI blueprint\\n\\nApplications, addressing safety risks associated with AI technologies, and establishing the UK as a prime destination for AI firms and talent. This strategic move no\\n\\nt only aims to boost the national economy but also to ensure that AI advancements are safe and beneficial across various sectors\\n\\n---\\n\\n### The Opportunity...\\n\\n**Podcast:**\\n\\n* This week\\'s Open Tech Talks episode 153 is\\xa0**\"AI and Software Development: What Engineers Need to Know with Mayank Jindal,\"**He is a Software Development Engineer at Amazon.\\n\\n[Apple](https://podcasts.apple.com/sg/podcast/ai-and-software-development-what-engineers-need-to/id980891268?i=1000682217324)\\xa0|\\xa0[Spotify](https://open.spotify.com/episode/0212eCY4ETEgO5xU8sq8Fx)\\xa0|\\xa0[Amazon Music](https://music.amazon.com.mx/podcasts/5ebfc419-67fc-4d25-9373-c2e391719bf2/episodes/1065f49a-482a-4040-9afa-896fce0ca69a/open-tech-talks-technology-worth-talking-artificial-intelligence-tools-tips-ai-and-software-development-what-engineers-need-to-know-with-mayank-jindal)\\u200b\\n\\n---\\n\\n**Courses to attend:**\\n\\n* \\u200b[One Million Prompters](https://dub.ai/en/omp/): This course consists of four modules\\n\\n---\\n\\n**Events:**\\n\\n* \\u200b[Oracle CloudWorld](https://www.oracle.com/ae/cloudworld-tour/), Dubai, Jan 22, 2025\\n* \\u200b[AI in Dubai Conference](https://aidubaiconference.com/), Jan 20 - 24, 2025, Dubai, UAE\\n* \\u200b[AI Everything GLOBAL](https://aieverythingglobal.com/home), Feb 4-6, 2025, Dubai, UAE\\n* \\u200b[Web Summit](https://qatar.websummit.com/), Feb 23-26, Qatar\\n\\n---\\n\\n### Tech and Tools...\\n\\n* \\u200b[MiniCPM-o](https://github.com/OpenBMB/MiniCPM-o)\\xa0is the latest series of end-side multimodal LLMs (MLLMs) ungraded from MiniCPM-V. The models can now take images, video, text, and audio as inputs and provide high-quality text and speech outputs\\n* \\u200b[Parlant](https://github.com/emcie-co/parlant): The Behavior Guidance Framework for Customer-Facing Agents\\n\\n### And that’s a wrap!\\n\\nThank you, as always, for taking the time to read.\\n\\n**I’d love to hear your thoughts. Please reply and let me know what you find most valuable this week. Your feedback means a lot.**\\n\\nUntil next week,\\n\\nKashif Manzoor\\n\\n---\\n\\n*The opinions expressed here are solely my conjecture based on experience, practice, and observation. They do not represent the thoughts, intentions, plans, or strategies of my current or previous employers or their clients/customers. The objective of this newsletter is to share and learn with the community.*\\n\\n[AI Tech Circle](https://www.linkedin.com/newsletters/ai-tech-circle-7166858009262993410)\\n![AI Tech Circle]()\\n### AI Tech Circle\\n\\n#### 1,688 follower\\n\\n[+ Subscribe](https://www.linkedin.com/signup/cold-join?session_redirect=%2Fpulse%2Fintroduction-4-agentic-ai-design-patterns-kashif-manzoor-zosuf)\\n\\n[Like](https://www.linkedin.com/signup/cold-join?session_redirect=%2Fpulse%2Fintroduction-4-agentic-ai-design-patterns-kashif-manzoor-zosuf&trk=article-ssr-frontend-pulse_x-social-details_like-toggle_like-cta)\\n\\n![Like]()\\nLike\\n\\n![Celebrate]()\\nCelebrate\\n\\n![Support]()\\nSupport\\n\\n![Love]()\\nLove\\n\\n![Insightful]()\\nInsightful\\n\\n![Funny]()\\nFunny\\n\\n[Comment](https://www.linkedin.com/signup/cold-join?session_redirect=%2Fpulse%2Fintroduction-4-agentic-ai-design-patterns-kashif-manzoor-zosuf&trk=article-ssr-frontend-pulse_comment-cta)\\n\\n* Copy\\n* LinkedIn\\n* Facebook\\n* Twitter\\n\\nShare\\n\\n[![]()\\n23](https://www.linkedin.com/signup/cold-join?session_redirect=%2Fpulse%2Fintroduction-4-agentic-ai-design-patterns-kashif-manzoor-zosuf&trk=article-ssr-frontend-pulse_x-social-details_likes-count_social-actions-reactions)\\n\\nTo view or add a comment, [sign in](https://www.linkedin.com/signup/cold-join?session_redirect=%2Fpulse%2Fintroduction-4-agentic-ai-design-patterns-kashif-manzoor-zosuf&trk=article-ssr-frontend-pulse_x-social-details_feed-cta-banner-cta)\\n\\n## More articles by Kashif Manzoor\\n\\n* [Agentic AI: Creating your first AI Agent in OCI](https://www.linkedin.com/pulse/agentic-ai-creating-your-first-agent-oci-kashif-manzoor-re5uf)\\n  ![]()\\n\\n  Feb 16, 2025\\n\\n  ### Agentic AI: Creating your first AI Agent in OCI\\n\\n  Welcome to your weekly AI Newsletter from AITechCircle! I\\'m building and implementing AI solutions and sharing…\\n\\n  ![]()\\n  ![]()\\n  21\\n\\n  3 Comments\\n* [What AI Can Do, Its Risks, and Mitigation Strategies from the International AI Safety Report](https://www.linkedin.com/pulse/what-ai-can-do-its-risks-mitigation-strategies-from-safety-manzoor-bgwcf)\\n  ![]()\\n\\n  Feb 9, 2025\\n\\n  ### What AI Can Do, Its Risks, and Mitigation Strategies from the International AI Safety Report\\n\\n  Welcome to your weekly AI Newsletter from AITechCircle! I\\'m building and implementing AI solutions and sharing…\\n\\n  ![]()\\n  ![]()\\n  15\\n* [DeepSeek Special Edition: Action Steps for the Week](https://www.linkedin.com/pulse/deepseek-special-edition-action-steps-week-kashif-manzoor-rl5vf)\\n  ![]()\\n\\n  Feb 2, 2025\\n\\n  ### DeepSeek Special Edition: Action Steps for the Week\\n\\n  Welcome to your weekly AI Newsletter from AITechCircle! I\\'m Building, Implementing AI solutions, and sharing everything…\\n\\n  ![]()\\n  ![]()\\n  23\\n* [Race to Deliver Generative AI Outcomes](https://www.linkedin.com/pulse/race-deliver-generative-ai-outcomes-kashif-manzoor-tj98f)\\n  ![]()\\n\\n  Jan 26, 2025\\n\\n  ### Race to Deliver Generative AI Outcomes\\n\\n  Welcome to your weekly AI Newsletter from AITechCircle! I\\'m Building, Implementing AI solutions, and sharing everything…\\n\\n  ![]()\\n  24\\n* [From Perception AI to Generative to Agentic to Physical AI](https://www.linkedin.com/pulse/from-perception-ai-generative-agentic-physical-kashif-manzoor-dy4kf)\\n  ![]()\\n\\n  Jan 12, 2025\\n\\n  ### From Perception AI to Generative to Agentic to Physical AI\\n\\n  Welcome to your weekly AI Newsletter from AITechCircle! I\\'m Building, Implementing AI solutions, and sharing everything…\\n\\n  ![]()\\n  28\\n* [Generative AI: Use Case-Driven Approach vs Capability-Driven Approach](https://www.linkedin.com/pulse/generative-ai-use-case-driven-approach-vs-kashif-manzoor-sxrnf)\\n  ![]()\\n\\n  Jan 4, 2025\\n\\n  ### Generative AI: Use Case-Driven Approach vs Capability-Driven Approach\\n\\n  Welcome to your weekly AI Newsletter from AITechCircle! I\\'m Building, Implementing AI solutions, and sharing everything…\\n\\n  ![]()\\n  ![]()\\n  ![]()\\n  34\\n* [2024 Wrapping up a Year of Shared Learning and Growth in AI](https://www.linkedin.com/pulse/2024-wrapping-up-year-shared-learning-growth-ai-kashif-manzoor-kiu6f)\\n  ![]()\\n\\n  Dec 28, 2024\\n\\n  ### 2024 Wrapping up a Year of Shared Learning and Growth in AI\\n\\n  Welcome to your weekly AI Newsletter from AITechCircle! I\\'m Building, Implementing AI solutions, and sharing everything…\\n\\n  ![]()\\n  ![]()\\n  ![]()\\n  18\\n\\n  1 Comment\\n* [Generative AI Maturity Framework for Structured Guidance](https://www.linkedin.com/pulse/generative-ai-maturity-framework-structured-guidance-kashif-manzoor-srrqf)\\n  ![]()\\n\\n  Dec 15, 2024\\n\\n  ### Generative AI Maturity Framework for Structured Guidance\\n\\n  Welcome to your weekly AI Newsletter from AITechCircle! I\\'m Building, Implementing AI solutions, and sharing everything…\\n\\n  ![]()\\n  ![]()\\n  ![]()\\n  31\\n\\n  2 Comments\\n* [Lets build AI Governance Framework for an organization](https://www.linkedin.com/pulse/lets-build-ai-governance-framework-organization-kashif-manzoor-nlopf)\\n  ![]()\\n\\n  Nov 30, 2024\\n\\n  ### Lets build AI Governance Framework for an organization\\n\\n  Welcome to your weekly AI Newsletter from AITechCircle! This newsletter has become an essential resource for me and…\\n\\n  ![]()\\n  11\\n* [Diaries from the Field - Building Ethically Responsible AI Enterprise Solution](https://www.linkedin.com/pulse/diaries-from-field-building-ethically-responsible-ai-kashif-manzoor-3nngf)\\n  ![]()\\n\\n  Nov 23, 2024\\n\\n  ### Diaries from the Field - Building Ethically Responsible AI Enterprise Solution\\n\\n  Welcome to your weekly AI Newsletter from AITechCircle! This newsletter has become an essential resource for me and…\\n\\n  ![]()\\n  ![]()\\n  23\\n\\n  3 Comments\\n\\nShow more\\n\\n[See all articles](https://ae.linkedin.com/in/kashifmanzoor/recent-activity/articles/)\\n\\n## Explore topics\\n\\n* [Sales](https://www.linkedin.com/pulse/topics/sales-s5/)\\n* [Marketing](https://www.linkedin.com/pulse/topics/marketing-s2461/)\\n* [IT Services](https://www.linkedin.com/pulse/topics/it-services-s57547/)\\n* [Business Administration](https://www.linkedin.com/pulse/topics/business-administration-s50111/)\\n* [HR Management](https://www.linkedin.com/pulse/topics/hr-management-s50359/)\\n* [Engineering](https://www.linkedin.com/pulse/topics/engineering-s166/)\\n* [Soft Skills](https://www.linkedin.com/pulse/topics/soft-skills-s2976/)\\n* [See All](https://www.linkedin.com/pulse/topics/home/)\\n\\n* LinkedIn\\n\\n  © 2025\\n* [About](https://about.linkedin.com?trk=d_flagship2_pulse_read_footer-about)\\n* [Accessibility](https://www.linkedin.com/accessibility?trk=d_flagship2_pulse_read_footer-accessibility)\\n* [User Agreement](https://www.linkedin.com/legal/user-agreement?trk=d_flagship2_pulse_read_footer-user-agreement)\\n* [Privacy Policy](https://www.linkedin.com/legal/privacy-policy?trk=d_flagship2_pulse_read_footer-privacy-policy)\\n* [Cookie Policy](https://www.linkedin.com/legal/cookie-policy?trk=d_flagship2_pulse_read_footer-cookie-policy)\\n* [Copyright Policy](https://www.linkedin.com/legal/copyright-policy?trk=d_flagship2_pulse_read_footer-copyright-policy)\\n* [Brand Policy](https://brand.linkedin.com/policies?trk=d_flagship2_pulse_read_footer-brand-policy)\\n* [Guest Controls](https://www.linkedin.com/psettings/guest-controls?trk=d_flagship2_pulse_read_footer-guest-controls)\\n* [Community Guidelines](https://www.linkedin.com/legal/professional-community-policies?trk=d_flagship2_pulse_read_footer-community-guide)\\n* + العربية (Arabic)\\n  + বাংলা (Bangla)\\n  + Čeština (Czech)\\n  + Dansk (Danish)\\n  + Deutsch (German)\\n  + Ελληνικά (Greek)\\n  + **English (English)**\\n  + Español (Spanish)\\n  + فارسی (Persian)\\n  + Suomi (Finnish)\\n  + Français (French)\\n  + हिंदी (Hindi)\\n  + Magyar (Hungarian)\\n  + Bahasa Indonesia (Indonesian)\\n  + Italiano (Italian)\\n  + עברית (Hebrew)\\n  + 日本語 (Japanese)\\n  + 한국어 (Korean)\\n  + मराठी (Marathi)\\n  + Bahasa Malaysia (Malay)\\n  + Nederlands (Dutch)\\n  + Norsk (Norwegian)\\n  + ਪੰਜਾਬੀ (Punjabi)\\n  + Polski (Polish)\\n  + Português (Portuguese)\\n  + Română (Romanian)\\n  + Русский (Russian)\\n  + Svenska (Swedish)\\n  + తెలుగు (Telugu)\\n  + ภาษาไทย (Thai)\\n  + Tagalog (Tagalog)\\n  + Türkçe (Turkish)\\n  + Українська (Ukrainian)\\n  + Tiếng Việt (Vietnamese)\\n  + 简体中文 (Chinese (Simplified))\\n  + 正體中文 (Chinese (Traditional))\\n  Language', \"Evolution of Agentic AI Design Patterns in LLM-Based Applications\\n[Master Generative AI with 10+ Real-world Projects in 2025!\\n\\nDownload Projects](https://www.analyticsvidhya.com/pinnacleplus/pinnacleplus-projects?utm_source=blog_india&utm_medium=desktop_flashstrip&utm_campaign=15-Feb-2025||&utm_content=projects)\\n\\n[![Analytics Vidhya](https://www.analyticsvidhya.com/wp-content/themes/analytics-vidhya/icon/av-logo-svg.svg)](https://www.analyticsvidhya.com/blog/)\\n\\n* [Free Courses](https://www.analyticsvidhya.com/all-free-courses/?ref=Navbar)\\n* [Learning Paths](https://www.analyticsvidhya.com/blog/category/learning-path/?ref=Navbar)\\n* [GenAI Pinnacle Plus Program](https://www.analyticsvidhya.com/pinnacleplus/?ref=blognavbar)\\n  New\\n* [Agentic AI Pioneer Program](https://www.analyticsvidhya.com/agenticaipioneer/?ref=blognavbar)\\n\\n* Login\\n\\n  + Switch Mode\\n  + Logout\\n\\n[Interview Prep](https://www.analyticsvidhya.com/blog/category/interview-questions/?ref=category)[Career](https://www.analyticsvidhya.com/blog/category/career/?ref=category)[GenAI](https://www.analyticsvidhya.com/blog/category/generative-ai/?ref=category)[Prompt Engg](https://www.analyticsvidhya.com/blog/category/prompt-engineering/?ref=category)[ChatGPT](https://www.analyticsvidhya.com/blog/category/chatgpt/?ref=category)[LLM](https://www.analyticsvidhya.com/blog/category/llms/?ref=category)[Langchain](https://www.analyticsvidhya.com/blog/category/langchain/?ref=category)[RAG](https://www.analyticsvidhya.com/blog/category/rag/?ref=category)[AI Agents](https://www.analyticsvidhya.com/blog/category/ai-agent/?ref=category)[Machine Learning](https://www.analyticsvidhya.com/blog/category/machine-learning/?ref=category)[Deep Learning](https://www.analyticsvidhya.com/blog/category/deep-learning/?ref=category)[GenAI Tools](https://www.analyticsvidhya.com/blog/category/ai-tools/?ref=category)[LLMOps](https://www.analyticsvidhya.com/blog/category/llmops/?ref=category)[Python](https://www.analyticsvidhya.com/blog/category/python/?ref=category)[NLP](https://www.analyticsvidhya.com/blog/category/nlp/?ref=category)[SQL](https://www.analyticsvidhya.com/blog/category/sql/?ref=category)[AIML Projects](https://www.analyticsvidhya.com/blog/category/project/?ref=category)\\n\\n![](https://www.analyticsvidhya.com/wp-content/themes/analytics-vidhya/images/av_loader.gif)\\n\\n1. [Home](https://www.analyticsvidhya.com/blog/)\\n2. [Beginner](https://www.analyticsvidhya.com/blog/category/beginner/)\\n3. Evolution of Agentic AI Design Patterns in LLM-Based Applications\\n\\n# Evolution of Agentic AI Design Patterns in LLM-Based Applications\\n\\n[![Sushant Thakur](https://av-eks-lekhak.s3.amazonaws.com/media/lekhak-profile-images/converted_image_Lc8YaeG.webp)](https://www.analyticsvidhya.com/blog/author/sushant1924559/)\\n\\n[Sushant Thakur](https://www.analyticsvidhya.com/blog/author/sushant1924559/)\\n Last Updated :\\n27 Sep, 2024\\n\\n  7  min read\\n\\n## Introduction\\n\\n> “*AI agents will become the primary way we interact with computers in the future. They will be able to understand our needs and preferences, and proactively help us with tasks and decision-making*”\\n>\\n> **Satya Nadella, CEO of Microsoft**\\n\\nThis vision is rapidly becoming a reality, and the driving force behind it is the evolution of AI agents into more intelligent, flexible, and proactive systems. But what enables these agents, specifically [Large Language Models (LLMs)](https://www.analyticsvidhya.com/blog/2023/03/an-introduction-to-large-language-models-llms/), to seamlessly adapt and respond to our needs? The answer lies in agentic design patterns—the underlying frameworks that allow LLMs to autonomously determine the best sequence of actions to accomplish a task. In this article, we’ll explore how these patterns are transforming LLMs into powerful, autonomous agents capable of driving the future of human-computer interaction. Let’s dive in and see how it all works.\\n\\n*Also, if you are looking for a course on AI Agents then, exploreour free course on [Introduction to AI Agents](https://courses.analyticsvidhya.com/courses/Introduction%20to%20AI%20Agents?utm_source=blog_page&utm_medium=blog&utm_campaign=SEO).*\\n\\n![agentic AI design patterns](https://cdn.analyticsvidhya.com/wp-content/uploads/2024/09/Evolution-of-Agentic-AI-Design-Patterns-in-LLM-Based-Applications.webp)\\n### Overview\\n\\n* **Agentic AI design patterns enable autonomous decision-making** in AI agents, improving LLMs’ flexibility and task execution.\\n* **GenAI agents** use machine learning to interpret data and perform tasks like customer service, coding, and content creation.\\n* **Tool use** allows LLMs to interact with external resources, enhancing their functionality and enabling more complex problem-solving.\\n* **Multi-agent collaboration** splits tasks between agents, optimizing complex workflows like supply chain management and autonomous systems.\\n* **Autonomous coding agents** streamline software development by generating and refining code, crucial in industries like fintech and autonomous vehicles.\\n\\n## Table of contents\\n\\n* [Agentic AI Design Patterns](#h-agentic-ai-design-patterns-nbsp)\\n* [Role of GenAI Agents](#h-role-of-genai-agents)\\n* [Evolving Role of LLMs in App Development](#h-evolving-role-of-llms-in-app-development)\\n* [Tool Use: Empowering LLMs with Functions](#h-tool-use-empowering-llms-with-functions-nbsp)\\n* [Multi-Agent Collaboration](#h-multi-agent-collaboration)\\n* [Autonomous Coding Agent](#h-autonomous-coding-agent)\\n* [Reflection: Self-Criticism](#h-reflection-self-criticism)\\n* [Planning: Autonomous Decision-making](#h-planning-autonomous-decision-making)\\n* [Additional Design Patterns](#h-additional-design-patterns)\\n* [Frequently Asked Questions](#h-frequently-asked-questions)\\n## Agentic AI Design Patterns\\n\\n*[Agentic AI](https://www.forbes.com/sites/bernardmarr/2024/09/06/agentic-ai-the-next-big-breakthrough-thats-transforming-business-and-technology/) Design Patterns are a set of structured approaches that guide the development and execution of autonomous AI agents.*\\n\\nThese patterns ensure robust, scalable, and efficient AI systems. Thus an AI developer finds them as a guide to improve the abilities of language models by impacting resolute aspirational behaviors.\\n\\nUltimately, this boils down to the role of AI agents and how these agents will help developers create not only savvy but also dependable and user-friendly applications.\\n\\nLet’s have a look at some of the prominent roles of AI agents.\\n\\n## Role of GenAI Agents\\n\\n[GenAI](https://www.analyticsvidhya.com/blog/2024/09/generative-ai-for-enterprises/) agents utilize advanced algorithms and machine learning models to interpret data and execute tasks. They are employed in various real-life applications, such as customer services, chatbots, automated coding systems, and content creation tools.\\n\\nTo learn more about AI agents and their roles, read a detailed article on [AI Agents](https://www.analyticsvidhya.com/blog/category/ai-agent/#:~:text=AI%20agents%20operate%20based%20on,sensors%20or%20data%20intake%20mechanisms.).\\n\\n![Role of GenAI Agents](https://cdn.analyticsvidhya.com/wp-content/uploads/2024/09/image-207.webp)\\n## Evolving Role of LLMs in App Development\\n\\nLLMs have come a long way since its inception. Their capabilities have opened new horizons, from customer service bots to intricate data analysis tools. Incorporating agentic design patterns into [LLMs](https://www.analyticsvidhya.com/blog/2024/09/llms-on-mobile/) is a new milestone in this development.\\n\\nThe future of agentic framework in integration with LLMs is promising, with the evolution of more.\\n\\n* Advanced reflective agents\\n* Enhanced multi-agents collaboration\\n* Planning\\n* And improved tool use\\n\\nThese expected advancements in agentic workflow will strengthen the abilities of LLMs that make these workflows possible right now.\\n\\nBut before we look too far into the future, let’s examine the design patterns that make these workflows possible today.\\n\\n## Tool Use: Empowering LLMs with Functions\\n\\nTool use allows LLMs to interact with external tools during conversation generation. This pattern is useful as it allows agents to extend their functionalities. Tools can be functions written by developers, APIs for external services, or any resources LLM can interact with.\\n\\n**Let’s understand the pattern of tool use with the help of the diagram below.**\\n\\n![agentic AI design patterns tool use pattern](https://cdn.analyticsvidhya.com/wp-content/uploads/2024/09/image-208.webp)\\n\\n* **Task Defining:** In the first step, the agent defines a task that it needs to solve. It can be a query, or any work related problem posed by a user.\\n* **LLM Processing**: The LLM evaluates the query and decides if it requires an external tool to solve the problem. It decides which tool to call based on its reasoning qualities.\\n* **Interaction between tool and environmen**t: Once the tool is finalized, it interacts with the environment. These actions generate feedback that is fed to the system.\\n* **Feedback to the LLM**: The feedback received from the interaction between the tool and environment is sent to the LLM. The LLM uses this feedback to refine its understanding of the task further.\\n* **Task resolution**: The LLM incorporates feedback and continues reasoning, possibly connecting more tools until the task is done.\\n\\n### Practical Applications\\n\\nIn real-world scenarios, application of implementing tool use patterns can be seen in automated data analysis, leveraging statistical tools to derive insights, or in customer support where they access the database to provide information swiftly.\\n\\n![Practical Applications](https://cdn.analyticsvidhya.com/wp-content/uploads/2024/09/image-1-1.webp)\\n## Multi-Agent Collaboration\\n\\nThe Multi-Agent Collaboration pattern is a combination of multiple autonomous agents working together to achieve a common goal. The main objective of their collaboration is to break down complex tasks into subtasks executed by different agents.\\n\\nThis pattern is significant because **it enables division of labor enhancing problem solving capabilities.**\\n\\n![Multi-Agent Collaboration](https://cdn.analyticsvidhya.com/wp-content/uploads/2024/09/image-2.webp)\\n### Practical Applications\\n\\nMulti-agent collaboration includes multiple automated robots in manufacturing industries, where different agents various aspects of the production process, optimizing supply chain operations, or in supply chain management to coordinate robots in warehouses to manage stock, pick and pack items.\\n\\n## Autonomous Coding Agent\\n\\nAutonomous coding agents, sometimes referred as AI coding assistants are Gen AI agents designed to optimize code autonomously. In this process agents are designed to generate, modify, or improve code based on the given tasks.\\n\\nThese agents follow different patterns to optimize their effectiveness. Let’s have a look and understand one of them.\\n\\n![Autonomous Coding Agent](https://cdn.analyticsvidhya.com/wp-content/uploads/2024/09/image-209.webp)\\n\\n* **User Input**: In the first step, users put a query or task through API or user interface, which is then refined and interpreted by the agents.\\n* **Agent Activation**: The central agent initiates the process and starts working on it. It accesses historical data, vector databases to tailor code generation followed by breaking the tasks into sub-task.\\n* **Code Generation**: Once done, agents generate and test code simultaneously based on the feedback.\\n\\n### Practical Applications\\n\\nIn the present day, the main applications of autonomous code generation include their use in developing software for autonomous vehicles, where they generate codes for decision making algorithms. Nowadays, the Fin-tech sector has also started automating their system to ensure secure transactions.\\n\\n## Reflection: Self-Criticism\\n\\nReflection is one of the most promising agentic design patterns as it allows one to critique its own output and improve it iteratively. By prompting an agent to reflect on its own output, we can harness its ability to suggest improvements. This design pattern can be extensively used in various interactive processes such as code generation, text writing and question answering.\\n\\nHere’s how it typically works:\\n\\n* **Self-awareness**: To answer a query, an agent first monitors its own internal state, including knowledge base, goals, plan and actions.\\n* **Reasoning**: Once it evaluates whether its current behavior is aligned with goals, it then starts reasoning to find if it should continue with its current strategy.\\n* **Adaption**: In this design pattern, agents have the capabilities to modify its behavior, meaning change in decision-making, updating its knowledge base, or altering the way it interacts with the environment.\\n\\n## Planning: Autonomous Decision-making\\n\\nPlanning is the most important design pattern on which agents rely since it allows LLM to autonomously decide on the steps which it needs to execute to accomplish a bigger task. This design pattern allows agents to break down complex problems into smaller subtasks.\\n\\nWhen LLMs are asked to produce a result based on [React prompting](https://www.promptingguide.ai/techniques/react), without structured planning, the result can be lower quality. Generating a user query request along with the reasoning step can help LLMs plan their output.\\n\\n## Additional Design Patterns\\n\\nApart from the above-mentioned design patterns, there are three additional notable AI design patterns for autonomous agents, which includes the following:\\n\\n* **Reactive Agents**: These agents respond in real time, making them appropriate for dynamic conditions.\\n* **Proactive Agents**: Unlike the first agent, these agents take initiative based on predefined goals, making them ideal for long-term projects.\\n* **Hybrid Agents**: These agents have the characteristics of both reactive and proactive, making it hybrid by adapting to the context.\\n\\n![Additional Design Patterns](https://cdn.analyticsvidhya.com/wp-content/uploads/2024/09/image-210.webp)\\n## Conclusion\\n\\nIn conclusion, agentic design patterns lay the foundation for the evolution of LLM based applications. From tool usage to multi-agent collaboration, these patterns offer scalable solutions to various industries applications. As we look ahead, integration of agentic design patterns within LLM based applications holds immense potential for robust AI systems.\\n\\nTo start your Agentic AI journey, checkout our [Pinnacle Program](https://www.analyticsvidhya.com/genaipinnacle?utm_source=blog_page&utm_medium=blog&utm_campaign=SEO) today!\\n\\n## Frequently Asked Questions\\n\\n**Q1. What are Agentic Design Patterns in AI?**\\n\\nAns. Agentic Design Patterns are frameworks that help AI systems, like LLMs, act autonomously by organizing their decision-making and task execution.\\n\\n **Q2. How do LLMs benefit from Agentic Design Patterns?**\\n\\nAns. LLMs use these patterns to interact with tools, collaborate with other agents, and complete tasks more flexibly and efficiently.\\n\\n **Q3. How is Tool Use applied in real-world problems?**\\n\\nAns. LLMs use external tools (e.g., APIs) to solve complex tasks, like retrieving real-time data in customer service for faster and more accurate responses.\\n\\n **Q4. How do AI agents collaborate to solve problems?**\\n\\nAns. Multi-agent collaboration splits complex tasks into subtasks, with each agent handling a portion, improving efficiency in areas like supply chain management.\\n\\n **Q5. Why are Autonomous Coding Agents important for code generation?**\\n\\nAns. They autonomously write, test, and optimize code, making them vital in areas like fintech, where secure and efficient coding is critical.\\n\\n **Q6. How do Reactive, Proactive, and Hybrid Agents differ?**\\n\\nAns. Reactive agents respond quickly, proactive agents plan ahead, and hybrid agents combine both to adapt to different tasks.\\n\\n **Q7. What future trends will shape Agentic Design Patterns?**\\n\\nAns. Future trends include smarter agents, better collaboration, and advanced tool use, impacting industries like healthcare, finance, and autonomous systems.\\n\\n[![Sushant Thakur](https://av-eks-lekhak.s3.amazonaws.com/media/lekhak-profile-images/converted_image_Lc8YaeG.webp)](https://www.analyticsvidhya.com/blog/author/sushant1924559/)\\n\\n[Sushant Thakur](https://www.analyticsvidhya.com/blog/author/sushant1924559/)\\n\\nHi, I'm Sushant Thakur, an Instructional Designer. I'm actively involved in writing blogs and articles that explore the latest trends in Generative AI technologies and their real-world applications. Follow me for insights on how Gen AI is shaping industries and enhancing learning experiences.\\n\\n[AI Agents](https://www.analyticsvidhya.com/blog/category/ai-agent/)[Beginner](https://www.analyticsvidhya.com/blog/category/beginner/)[Generative AI](https://www.analyticsvidhya.com/blog/category/generative-ai/)[Large Language Models](https://www.analyticsvidhya.com/blog/category/large-language-models/)[LLMs](https://www.analyticsvidhya.com/blog/category/llms/)\\n\\n## Free Courses\\n\\n[![Generative AI](https://www.analyticsvidhya.com/wp-content/themes/analytics-vidhya/images/Generative-AI---A-Way-of-Life---Free-Course.webp)\\n\\n4.7\\n\\n#### Generative AI - A Way of Life\\n\\nExplore Generative AI for beginners: create text and images, use top AI tools, learn practical skills, and ethics.](https://courses.analyticsvidhya.com/courses/genai-a-way-of-life/?ref=blog_freecourse)\\n\\n[![Large Language Models](https://www.analyticsvidhya.com/wp-content/themes/analytics-vidhya/images/Getting-Started-with-Large-Language-Models.webp)\\n\\n4.5\\n\\n#### Getting Started with Large Language Models\\n\\nMaster Large Language Models (LLMs) with this course, offering clear guidance in NLP and model training made simple.](https://courses.analyticsvidhya.com/courses/getting-started-with-llms?ref=blog_freecourse)\\n\\n[![Prompt Engineering](https://www.analyticsvidhya.com/wp-content/themes/analytics-vidhya/images/Building-LLM-Applications-using-Prompt-Engineering---Free-Course.webp)\\n\\n4.6\\n\\n#### Building LLM Applications using Prompt Engineering\\n\\nThis free course guides you on building LLM apps, mastering prompt engineering, and developing chatbots with enterprise data.](https://courses.analyticsvidhya.com/courses/building-llm-applications-using-prompt-engineering-free?ref=blog_freecourse)\\n\\n[![LlamaIndex](https://www.analyticsvidhya.com/wp-content/themes/analytics-vidhya/images/Real-World-RAG-Systems.webp)\\n\\n4.8\\n\\n#### Improving Real World RAG Systems: Key Challenges & Practical Solutions\\n\\nExplore practical solutions, advanced retrieval strategies, and agentic RAG systems to improve context, relevance, and accuracy in AI-driven applications.](https://courses.analyticsvidhya.com/courses/improving-real-world-rag-systems-key-challenges/?ref=blog_freecourse)\\n\\n[![RAG systems using LlamaIndex](https://www.analyticsvidhya.com/wp-content/themes/analytics-vidhya/images/excel.webp)\\n\\n4.7\\n\\n#### Microsoft Excel: Formulas & Functions\\n\\nMaster MS Excel for data analysis with key formulas, functions, and LookUp tools in this comprehensive course.](https://courses.analyticsvidhya.com/courses/microsoft-excel-formulas-functions?ref=blog_freecourse)\\n\\n![](https://www.analyticsvidhya.com/wp-content/themes/analytics-vidhya/images/av_loader.gif)\\n\\n### Responses From Readers\\n\\n[Cancel reply](/blog/2024/09/agentic-ai-design-patterns/#respond)\\n\\nClearSubmit reply\\n\\nΔ\\n\\n[## Write for us\\n\\nWrite, captivate, and earn accolades and rewards for your work](https://datahack.analyticsvidhya.com/blogathon/)\\n[* Reach a Global Audience\\n* Get Expert Feedback\\n* Build Your Brand & Audience\\n\\n* Cash In on Your Knowledge\\n* Join a Thriving Community\\n* Level Up Your Data Science Game](https://datahack.analyticsvidhya.com/blogathon/)\\n\\n[![imag](https://www.analyticsvidhya.com/wp-content/themes/analytics-vidhya/images/Write-for-us.webp)](https://datahack.analyticsvidhya.com/blogathon/)\\n\\nWe use cookies essential for this site to function well. Please click to help us improve its usefulness with additional cookies. Learn about our use of cookies in our [Privacy Policy](https://www.analyticsvidhya.com/privacy-policy/?utm_source=courses&utm_medium=footer) & [Cookies Policy](https://www.analyticsvidhya.com/cookies-policy/).\\n\\nShow details\\n\\nAccept all cookies\\n\\nUse necessary cookies\\n\\n##### Powered By Av Logo White\\n\\n* Consent\\n* Details\\n* About\\n\\n###### Cookies\\n\\nThis site uses cookies to ensure that you get the best experience possible. To learn more about how we use cookies, please refer to our [Privacy Policy](/privacy-policy) & [Cookies Policy](/cookies-policy).\\n\\n## Necessary (2) Necessary cookies help make a website usable by enabling basic functions like page navigation and access to secure areas of the website. The website cannot function properly without these cookies.\\n\\n## Analytics Vidhya (4)[learn more about analytics vidhya privacy](https://www.analyticsvidhya.com/privacy-policy/)\\n\\n###### brahmaid\\n\\nIt is needed for personalizing the website.\\n\\nExpiry: Session\\n\\nType: HTTP\\n\\n###### csrftoken\\n\\nThis cookie is used to prevent Cross-site request forgery (often abbreviated as CSRF) attacks of the website\\n\\nExpiry: Session\\n\\nType: HTTPS\\n\\n###### Identityid\\n\\nPreserves the login/logout state of users across the whole site.\\n\\nExpiry: Session\\n\\nType: HTTPS\\n\\n###### sessionid\\n\\nPreserves users' states across page requests.\\n\\nExpiry: Session\\n\\nType: HTTPS\\n\\n## Google (1)[learn more about google privacy](https://policies.google.com/privacy)\\n\\n###### g\\\\_state\\n\\nGoogle One-Tap login adds this g\\\\_state cookie to set the user status on how they interact with the One-Tap modal.\\n\\nExpiry: 365 days\\n\\nType: HTTP\\n\\n## Statistics (4) Statistic cookies help website owners to understand how visitors interact with websites by collecting and reporting information anonymously.\\n\\n## Microsoft (7)[learn more about microsoft policy](https://privacy.microsoft.com/en-us/privacystatement)\\n\\n###### MUID\\n\\nUsed by Microsoft Clarity, to store and track visits across websites.\\n\\nExpiry: 1 Year\\n\\nType: HTTP\\n\\n###### \\\\_clck\\n\\nUsed by Microsoft Clarity, Persists the Clarity User ID and preferences, unique to that site, on the browser. This ensures that behavior in subsequent visits to the same site will be attributed to the same user ID.\\n\\nExpiry: 1 Year\\n\\nType: HTTP\\n\\n###### \\\\_clsk\\n\\nUsed by Microsoft Clarity, Connects multiple page views by a user into a single Clarity session recording.\\n\\nExpiry: 1 Day\\n\\nType: HTTP\\n\\n###### SRM\\\\_I\\n\\nCollects user data is specifically adapted to the user or device. The user can also be followed outside of the loaded website, creating a picture of the visitor's behavior.\\n\\nExpiry: 2 Years\\n\\nType: HTTP\\n\\n###### SM\\n\\nUse to measure the use of the website for internal analytics\\n\\nExpiry: 1 Years\\n\\nType: HTTP\\n\\n###### CLID\\n\\nThe cookie is set by embedded Microsoft Clarity scripts. The purpose of this cookie is for heatmap and session recording.\\n\\nExpiry: 1 Year\\n\\nType: HTTP\\n\\n###### SRM\\\\_B\\n\\nCollected user data is specifically adapted to the user or device. The user can also be followed outside of the loaded website, creating a picture of the visitor's behavior.\\n\\nExpiry: 2 Months\\n\\nType: HTTP\\n\\n## Google (7)[learn more about google privacy](https://policies.google.com/privacy)\\n\\n###### \\\\_gid\\n\\nThis cookie is installed by Google Analytics. The cookie is used to store information of how visitors use a website and helps in creating an analytics report of how the website is doing. The data collected includes the number of visitors, the source where they have come from, and the pages visited in an anonymous form.\\n\\nExpiry: 399 Days\\n\\nType: HTTP\\n\\n###### \\\\_ga\\\\_#\\n\\nUsed by Google Analytics, to store and count pageviews.\\n\\nExpiry: 399 Days\\n\\nType: HTTP\\n\\n###### \\\\_gat\\\\_#\\n\\nUsed by Google Analytics to collect data on the number of times a user has visited the website as well as dates for the first and most recent visit.\\n\\nExpiry: 1 Day\\n\\nType: HTTP\\n\\n###### collect\\n\\nUsed to send data to Google Analytics about the visitor's device and behavior. Tracks the visitor across devices and marketing channels.\\n\\nExpiry: Session\\n\\nType: PIXEL\\n\\n###### AEC\\n\\ncookies ensure that requests within a browsing session are made by the user, and not by other sites.\\n\\nExpiry: 6 Months\\n\\nType: HTTP\\n\\n###### G\\\\_ENABLED\\\\_IDPS\\n\\nuse the cookie when customers want to make a referral from their gmail contacts; it helps auth the gmail account.\\n\\nExpiry: 2 Years\\n\\nType: HTTP\\n\\n###### test\\\\_cookie\\n\\nThis cookie is set by DoubleClick (which is owned by Google) to determine if the website visitor's browser supports cookies.\\n\\nExpiry: 1 Year\\n\\nType: HTTP\\n\\n## Webengage (2)[Learn more about webengage privacy](https://webengage.com/privacy-policy/)\\n\\n###### \\\\_we\\\\_us\\n\\nthis is used to send push notification using webengage.\\n\\nExpiry: 1 Year\\n\\nType: HTTP\\n\\n###### WebKlipperAuth\\n\\nused by webenage to track auth of webenagage.\\n\\nExpiry: Session\\n\\nType: HTTP\\n\\n## LinkedIn (16)[learn more about linkedin privacy](https://www.linkedin.com/legal/privacy-policy)\\n\\n###### ln\\\\_or\\n\\nLinkedin sets this cookie to registers statistical data on users' behavior on the website for internal analytics.\\n\\nExpiry: 1 Day\\n\\nType: HTTP\\n\\n###### JSESSIONID\\n\\nUse to maintain an anonymous user session by the server.\\n\\nExpiry: 1 Year\\n\\nType: HTTP\\n\\n###### li\\\\_rm\\n\\nUsed as part of the LinkedIn Remember Me feature and is set when a user clicks Remember Me on the device to make it easier for him or her to sign in to that device.\\n\\nExpiry: 1 Year\\n\\nType: HTTP\\n\\n###### AnalyticsSyncHistory\\n\\nUsed to store information about the time a sync with the lms\\\\_analytics cookie took place for users in the Designated Countries.\\n\\nExpiry: 6 Months\\n\\nType: HTTP\\n\\n###### lms\\\\_analytics\\n\\nUsed to store information about the time a sync with the AnalyticsSyncHistory cookie took place for users in the Designated Countries.\\n\\nExpiry: 6 Months\\n\\nType: HTTP\\n\\n###### liap\\n\\nCookie used for Sign-in with Linkedin and/or to allow for the Linkedin follow feature.\\n\\nExpiry: 6 Months\\n\\nType: HTTP\\n\\n###### visit\\n\\nallow for the Linkedin follow feature.\\n\\nExpiry: 1 Year\\n\\nType: HTTP\\n\\n###### li\\\\_at\\n\\noften used to identify you, including your name, interests, and previous activity.\\n\\nExpiry: 2 Months\\n\\nType: HTTP\\n\\n###### s\\\\_plt\\n\\nTracks the time that the previous page took to load\\n\\nExpiry: Session\\n\\nType: HTTP\\n\\n###### lang\\n\\nUsed to remember a user's language setting to ensure LinkedIn.com displays in the language selected by the user in their settings\\n\\nExpiry: Session\\n\\nType: HTTP\\n\\n###### s\\\\_tp\\n\\nTracks percent of page viewed\\n\\nExpiry: Session\\n\\nType: HTTP\\n\\n###### AMCV\\\\_14215E3D5995C57C0A495C55%40AdobeOrg\\n\\nIndicates the start of a session for Adobe Experience Cloud\\n\\nExpiry: Session\\n\\nType: HTTP\\n\\n###### s\\\\_pltp\\n\\nProvides page name value (URL) for use by Adobe Analytics\\n\\nExpiry: Session\\n\\nType: HTTP\\n\\n###### s\\\\_tslv\\n\\nUsed to retain and fetch time since last visit in Adobe Analytics\\n\\nExpiry: 6 Months\\n\\nType: HTTP\\n\\n###### li\\\\_theme\\n\\nRemembers a user's display preference/theme setting\\n\\nExpiry: 6 Months\\n\\nType: HTTP\\n\\n###### li\\\\_theme\\\\_set\\n\\nRemembers which users have updated their display / theme preferences\\n\\nExpiry: 6 Months\\n\\nType: HTTP\\n\\n## Preferences (0) Preference cookies enable a website to remember information that changes the way the website behaves or looks, like your preferred language or the region that you are in.\\n\\nWe do not use cookies of this type.\\n\\n## Marketing (4) Marketing cookies are used to track visitors across websites. The intention is to display ads that are relevant and engaging for the individual user and thereby more valuable for publishers and third party advertisers.\\n\\n## Google (11)[learn more about google privacy](https://policies.google.com/privacy)\\n\\n###### \\\\_gcl\\\\_au\\n\\nUsed by Google Adsense, to store and track conversions.\\n\\nExpiry: 3 Months\\n\\nType: HTTP\\n\\n###### SID\\n\\nSave certain preferences, for example the number of search results per page or activation of the SafeSearch Filter. Adjusts the ads that appear in Google Search.\\n\\nExpiry: 2 Years\\n\\nType: HTTP\\n\\n###### SAPISID\\n\\nSave certain preferences, for example the number of search results per page or activation of the SafeSearch Filter. Adjusts the ads that appear in Google Search.\\n\\nExpiry: 2 Years\\n\\nType: HTTP\\n\\n###### \\\\_\\\\_Secure-#\\n\\nSave certain preferences, for example the number of search results per page or activation of the SafeSearch Filter. Adjusts the ads that appear in Google Search.\\n\\nExpiry: 2 Years\\n\\nType: HTTP\\n\\n###### APISID\\n\\nSave certain preferences, for example the number of search results per page or activation of the SafeSearch Filter. Adjusts the ads that appear in Google Search.\\n\\nExpiry: 2 Years\\n\\nType: HTTP\\n\\n###### SSID\\n\\nSave certain preferences, for example the number of search results per page or activation of the SafeSearch Filter. Adjusts the ads that appear in Google Search.\\n\\nExpiry: 2 Years\\n\\nType: HTTP\\n\\n###### HSID\\n\\nSave certain preferences, for example the number of search results per page or activation of the SafeSearch Filter. Adjusts the ads that appear in Google Search.\\n\\nExpiry: 2 Years\\n\\nType: HTTP\\n\\n###### DV\\n\\nThese cookies are used for the purpose of targeted advertising.\\n\\nExpiry: 6 Hours\\n\\nType: HTTP\\n\\n###### NID\\n\\nThese cookies are used for the purpose of targeted advertising.\\n\\nExpiry: 1 Month\\n\\nType: HTTP\\n\\n###### 1P\\\\_JAR\\n\\nThese cookies are used to gather website statistics, and track conversion rates.\\n\\nExpiry: 1 Month\\n\\nType: HTTP\\n\\n###### OTZ\\n\\nAggregate analysis of website visitors\\n\\nExpiry: 6 Months\\n\\nType: HTTP\\n\\n## Facebook (2)[learn more about facebook privacy](https://www.facebook.com/privacy/policy/)\\n\\n###### \\\\_fbp\\n\\nThis cookie is set by Facebook to deliver advertisements when they are on Facebook or a digital platform powered by Facebook advertising after visiting this website.\\n\\nExpiry: 4 Months\\n\\nType: HTTP\\n\\n###### fr\\n\\nContains a unique browser and user ID, used for targeted advertising.\\n\\nExpiry: 2 Months\\n\\nType: HTTP\\n\\n## LinkedIn (6)[Learn about linkedin policy](https://www.linkedin.com/legal/privacy-policy)\\n\\n###### bscookie\\n\\nUsed by LinkedIn to track the use of embedded services.\\n\\nExpiry: 1 Year\\n\\nType: HTTP\\n\\n###### lidc\\n\\nUsed by LinkedIn for tracking the use of embedded services.\\n\\nExpiry: 1 Day\\n\\nType: HTTP\\n\\n###### bcookie\\n\\nUsed by LinkedIn to track the use of embedded services.\\n\\nExpiry: 6 Months\\n\\nType: HTTP\\n\\n###### aam\\\\_uuid\\n\\nUse these cookies to assign a unique ID when users visit a website.\\n\\nExpiry: 6 Months\\n\\nType: HTTP\\n\\n###### UserMatchHistory\\n\\nThese cookies are set by LinkedIn for advertising purposes, including: tracking visitors so that more relevant ads can be presented, allowing users to use the 'Apply with LinkedIn' or the 'Sign-in with LinkedIn' functions, collecting information about how visitors use the site, etc.\\n\\nExpiry: 6 Months\\n\\nType: HTTP\\n\\n###### li\\\\_sugr\\n\\nUsed to make a probabilistic match of a user's identity outside the Designated Countries\\n\\nExpiry: 90 Days\\n\\nType: HTTP\\n\\n## Microsoft (2)[Learn more about microsoft privacy.](https://privacy.microsoft.com/en-us/privacystatement)\\n\\n###### MR\\n\\nUsed to collect information for analytics purposes.\\n\\nExpiry: 1 year\\n\\nType: HTTP\\n\\n###### ANONCHK\\n\\nUsed to store session ID for a users session to ensure that clicks from adverts on the Bing search engine are verified for reporting purposes and for personalisation\\n\\nExpiry: 1 Day\\n\\nType: HTTP\\n\\n## UnclassNameified (0) UnclassNameified cookies are cookies that we are in the process of classNameifying, together with the providers of individual cookies.\\n\\nWe do not use cookies of this type.\\n\\nCookie declaration last updated on 24/03/2023 by Analytics Vidhya.\\n\\nCookies are small text files that can be used by websites to make a user's experience more efficient. The law states that we can store cookies on your device if they are strictly necessary for the operation of this site. For all other types of cookies, we need your permission. This site uses different types of cookies. Some cookies are placed by third-party services that appear on our pages. Learn more about who we are, how you can contact us, and how we process personal data in our [Privacy Policy](/privacy-policy).\\n\\nAccept all cookies\\nUse necessary cookies\\n\\n## Flagship Courses\\n\\n[GenAI Pinnacle Program](https://www.analyticsvidhya.com/genaipinnacle/?ref=footer)| [GenAI Pinnacle Plus Program](https://www.analyticsvidhya.com/pinnacleplus/?ref=blogflashstripfooter)| [AI/ML BlackBelt Courses](https://www.analyticsvidhya.com/bbplus?ref=footer)| [Agentic AI Pioneer Program](https://www.analyticsvidhya.com/agenticaipioneer?ref=footer)\\n\\n## Free Courses\\n\\n[Generative AI](https://courses.analyticsvidhya.com/courses/genai-a-way-of-life?ref=footer)| [Large Language Models](https://courses.analyticsvidhya.com/courses/getting-started-with-llms?ref=footer)| [Building LLM Applications using Prompt Engineering](https://courses.analyticsvidhya.com/courses/building-llm-applications-using-prompt-engineering-free?ref=footer)| [Building Your first RAG System using LlamaIndex](https://courses.analyticsvidhya.com/courses/building-first-rag-systems-using-llamaindex?ref=footer)| [Stability.AI](https://courses.analyticsvidhya.com/courses/exploring-stability-ai?ref=footer)| [MidJourney](https://courses.analyticsvidhya.com/courses/midjourney_from_inspiration_to_implementation?ref=footer)| [Building Production Ready RAG systems using LlamaIndex](https://courses.analyticsvidhya.com/courses/rag-systems-using-llamaindex?ref=footer)| [Building LLMs for Code](https://courses.analyticsvidhya.com/courses/building-large-language-models-for-code?ref=footer)| [Deep Learning](https://courses.analyticsvidhya.com/courses/getting-started-with-deep-learning?ref=footer)| [Python](https://courses.analyticsvidhya.com/courses/introduction-to-data-science?ref=footer)| [Microsoft Excel](https://courses.analyticsvidhya.com/courses/microsoft-excel-formulas-functions?ref=footer)| [Machine Learning](https://courses.analyticsvidhya.com/courses/Machine-Learning-Certification-Course-for-Beginners?ref=footer)| [Decision Trees](https://courses.analyticsvidhya.com/courses/getting-started-with-decision-trees?ref=footer)| [Pandas for Data Analysis](https://courses.analyticsvidhya.com/courses/pandas-for-data-analysis-in-python?ref=footer)| [Ensemble Learning](https://courses.analyticsvidhya.com/courses/ensemble-learning-and-ensemble-learning-techniques?ref=footer)| [NLP](https://courses.analyticsvidhya.com/courses/Intro-to-NLP?ref=footer)| [NLP using Deep Learning](https://courses.analyticsvidhya.com/courses/exploring-natural-language-processing-nlp-using-deep-learning?ref=footer)| [Neural Networks](https://courses.analyticsvidhya.com/courses/getting-started-with-neural-networks?ref=footer)| [Loan Prediction Practice Problem](https://courses.analyticsvidhya.com/courses/loan-prediction-practice-problem-using-python?ref=footer)| [Time Series Forecasting](https://courses.analyticsvidhya.com/courses/creating-time-series-forecast-using-python?ref=footer)| [Tableau](https://courses.analyticsvidhya.com/courses/tableau-for-beginners?ref=footer)| [Business Analytics](https://courses.analyticsvidhya.com/courses/introduction-to-analytics?ref=footer)\\n\\n## Popular Categories\\n\\n[Generative AI](https://www.analyticsvidhya.com/blog/category/generative-ai/?ref=footer)| [Prompt Engineering](https://www.analyticsvidhya.com/blog/category/prompt-engineering/?ref=footer)| [Generative AI Application](https://www.analyticsvidhya.com/blog/category/generative-ai-application/?ref=footer)| [News](https://news.google.com/publications/CAAqBwgKMJiWzAswyLHjAw?hl=en-IN&gl=IN&ceid=IN%3Aen)| [Technical Guides](https://www.analyticsvidhya.com/blog/category/guide/?ref=footer)| [AI Tools](https://www.analyticsvidhya.com/blog/category/ai-tools/?ref=footer)| [Interview Preparation](https://www.analyticsvidhya.com/blog/category/interview-questions/?ref=footer)| [Research Papers](https://www.analyticsvidhya.com/blog/category/research-paper/?ref=footer)| [Success Stories](https://www.analyticsvidhya.com/blog/category/success-story/?ref=footer)| [Quiz](https://www.analyticsvidhya.com/blog/category/quiz/?ref=footer)| [Use Cases](https://www.analyticsvidhya.com/blog/category/use-cases/?ref=footer)| [Listicles](https://www.analyticsvidhya.com/blog/category/listicle/?ref=footer)\\n\\n## Generative AI Tools and Techniques\\n\\n[GANs](https://www.analyticsvidhya.com/blog/2021/10/an-end-to-end-introduction-to-generative-adversarial-networksgans/?ref=footer)| [VAEs](https://www.analyticsvidhya.com/blog/2023/07/an-overview-of-variational-autoencoders/?ref=footer)| [Transformers](https://www.analyticsvidhya.com/blog/2019/06/understanding-transformers-nlp-state-of-the-art-models?ref=footer)| [StyleGAN](https://www.analyticsvidhya.com/blog/2021/05/stylegan-explained-in-less-than-five-minutes/?ref=footer)| [Pix2Pix](https://www.analyticsvidhya.com/blog/2023/10/pix2pix-unleashed-transforming-images-with-creative-superpower?ref=footer)| [Autoencoders](https://www.analyticsvidhya.com/blog/2021/06/autoencoders-a-gentle-introduction?ref=footer)| [GPT](https://www.analyticsvidhya.com/blog/2022/10/generative-pre-training-gpt-for-natural-language-understanding/?ref=footer)| [BERT](https://www.analyticsvidhya.com/blog/2022/11/comprehensive-guide-to-bert/?ref=footer)| [Word2Vec](https://www.analyticsvidhya.com/blog/2017/06/word-embeddings-count-word2veec/?ref=footer)| [LSTM](https://www.analyticsvidhya.com/blog/2021/03/introduction-to-long-short-term-memory-lstm?ref=footer)| [Attention Mechanisms](https://www.analyticsvidhya.com/blog/2019/11/comprehensive-guide-attention-mechanism-deep-learning/?ref=footer)| [Diffusion Models](https://www.analyticsvidhya.com/blog/2024/09/what-are-diffusion-models/?ref=footer)| [LLMs](https://www.analyticsvidhya.com/blog/2023/03/an-introduction-to-large-language-models-llms/?ref=footer)| [SLMs](https://www.analyticsvidhya.com/blog/2019/06/understanding-transformers-nlp-state-of-the-art-models?ref=footer)| [StyleGAN](https://www.analyticsvidhya.com/blog/2024/05/what-are-small-language-models-slms/?ref=footer)| [Encoder Decoder Models](https://www.analyticsvidhya.com/blog/2023/10/advanced-encoders-and-decoders-in-generative-ai/?ref=footer)| [Prompt Engineering](https://www.analyticsvidhya.com/blog/2023/06/what-is-prompt-engineering/?ref=footer)| [LangChain](https://www.analyticsvidhya.com/blog/2024/06/langchain-guide/?ref=footer)| [LlamaIndex](https://www.analyticsvidhya.com/blog/2023/10/rag-pipeline-with-the-llama-index/?ref=footer)| [RAG](https://www.analyticsvidhya.com/blog/2023/09/retrieval-augmented-generation-rag-in-ai/?ref=footer)| [Fine-tuning](https://www.analyticsvidhya.com/blog/2023/08/fine-tuning-large-language-models/?ref=footer)| [LangChain AI Agent](https://www.analyticsvidhya.com/blog/2024/07/langchains-agent-framework/?ref=footer)| [Multimodal Models](https://www.analyticsvidhya.com/blog/2023/12/what-are-multimodal-models/?ref=footer)| [RNNs](https://www.analyticsvidhya.com/blog/2022/03/a-brief-overview-of-recurrent-neural-networks-rnn/?ref=footer)| [DCGAN](https://www.analyticsvidhya.com/blog/2021/07/deep-convolutional-generative-adversarial-network-dcgan-for-beginners/?ref=footer)| [ProGAN](https://www.analyticsvidhya.com/blog/2021/05/progressive-growing-gan-progan/?ref=footer)| [Text-to-Image Models](https://www.analyticsvidhya.com/blog/2024/02/llm-driven-text-to-image-with-diffusiongpt/?ref=footer)| [DDPM](https://www.analyticsvidhya.com/blog/2024/08/different-components-of-diffusion-models/?ref=footer)| [Document Question Answering](https://www.analyticsvidhya.com/blog/2024/04/a-hands-on-guide-to-creating-a-pdf-based-qa-assistant-with-llama-and-llamaindex/?ref=footer)| [Imagen](https://www.analyticsvidhya.com/blog/2024/09/google-imagen-3/?ref=footer)| [T5 (Text-to-Text Transfer Transformer)](https://www.analyticsvidhya.com/blog/2024/05/text-summarization-using-googles-t5-base/?ref=footer)| [Seq2seq Models](https://www.analyticsvidhya.com/blog/2020/08/a-simple-introduction-to-sequence-to-sequence-models/?ref=footer)| [WaveNet](https://www.analyticsvidhya.com/blog/2020/01/how-to-perform-automatic-music-generation/?ref=footer)| [Attention Is All You Need (Transformer Architecture)](https://www.analyticsvidhya.com/blog/2019/11/comprehensive-guide-attention-mechanism-deep-learning/?ref=footer)\\n\\n## Popular GenAI Models\\n\\n[Llama 3.1](https://www.analyticsvidhya.com/blog/2024/07/meta-llama-3-1/?ref=footer)| [Llama 3](https://www.analyticsvidhya.com/blog/2024/04/meta-llama-3-redefining-large-language-model-standards/?ref=footer)| [Llama 2](https://www.analyticsvidhya.com/blog/2023/08/getting-started-with-llama-2/?ref=footer)| [GPT 4o Mini](https://www.analyticsvidhya.com/blog/2024/07/gpt-4o-mini/?ref=footer)| [GPT 4o](https://www.analyticsvidhya.com/blog/2024/05/openai-flagship-model-gpt-omni/?ref=footer)| [GPT 3](https://www.analyticsvidhya.com/blog/2021/01/gpt-3-the-next-big-thing-foundation-of-future/?ref=footer)| [Claude 3 Haiku](https://www.analyticsvidhya.com/blog/2024/03/the-fastest-ai-model-by-anthropic-claude-haiku/?ref=footer)| [Claude 3.5 Sonnet](https://www.analyticsvidhya.com/blog/2024/06/claude-3-5-sonnet/?ref=footer)| [Phi 3.5](https://www.analyticsvidhya.com/blog/2024/09/phi-3-5-slms/?ref=footer)| [Phi 3](https://www.analyticsvidhya.com/blog/2024/05/microsoft-phi3/?ref=footer)| [Mistral Large 2](https://www.analyticsvidhya.com/blog/2024/07/mistral-large-2-powerful-enough-to-challenge-llama-3-1-405b/?ref=footer)| [Mistral NeMo](https://www.analyticsvidhya.com/blog/2024/08/mistral-nemo/?ref=footer)| [Mistral-7b](https://www.analyticsvidhya.com/blog/2024/01/making-the-most-of-mistral-7b-with-finetuning/?ref=footer)| [Gemini 1.5 Pro](https://www.analyticsvidhya.com/blog/2024/04/gemini-pro-goes-global-with-powerful-new-features/?ref=footer)| [Gemini Flash 1.5](https://www.analyticsvidhya.com/blog/2024/08/building-a-food-vision-webapp-with-the-gemini-flash-1-5-model/?ref=footer)| [Bedrock](https://www.analyticsvidhya.com/blog/2024/02/building-end-to-end-generative-ai-models-with-aws-bedrock/?ref=footer)| [Vertex AI](https://www.analyticsvidhya.com/blog/2024/02/build-deploy-and-manage-ml-models-with-google-vertex-ai/?ref=footer)| [DALL.E](https://www.analyticsvidhya.com/blog/2021/01/openais-future-of-vision-with-dall-e-creating-images-from-text/?ref=footer)| [Midjourney](https://courses.analyticsvidhya.com/courses/midjourney_from_inspiration_to_implementation/?ref=footer)| [Stable Diffusion](https://www.analyticsvidhya.com/blog/2023/12/what-is-stable-diffusion/?ref=footer)\\n\\n## Data Science Tools and Techniques\\n\\n[Python](https://www.analyticsvidhya.com/blog/2016/01/complete-tutorial-learn-data-science-python-scratch-2/?ref=footer)| [R](https://www.analyticsvidhya.com/blog/2016/02/complete-tutorial-learn-data-science-scratch/?ref=footer)| [SQL](https://www.analyticsvidhya.com/blog/2022/01/learning-sql-from-basics-to-advance/?ref=footer)| [Jupyter Notebooks](https://www.analyticsvidhya.com/blog/2018/05/starters-guide-jupyter-notebook/?ref=footer)| [TensorFlow](https://www.analyticsvidhya.com/blog/2021/11/tensorflow-for-beginners-with-examples-and-python-implementation/?ref=footer)| [Scikit-learn](https://www.analyticsvidhya.com/blog/2021/08/complete-guide-on-how-to-learn-scikit-learn-for-data-science/?ref=footer)| [PyTorch](https://www.analyticsvidhya.com/blog/2018/02/pytorch-tutorial/?ref=footer)| [Tableau](https://www.analyticsvidhya.com/blog/2021/09/a-complete-guide-to-tableau-for-beginners-in-data-visualization/?ref=footer)| [Apache Spark](https://www.analyticsvidhya.com/blog/2022/08/introduction-to-on-apache-spark-and-its-datasets/?ref=footer)| [Matplotlib](https://www.analyticsvidhya.com/blog/2021/10/introduction-to-matplotlib-using-python-for-beginners/?ref=footer)| [Seaborn](https://www.analyticsvidhya.com/blog/2021/02/a-beginners-guide-to-seaborn-the-simplest-way-to-learn/?ref=footer)| [Pandas](https://www.analyticsvidhya.com/blog/2021/03/pandas-functions-for-data-analysis-and-manipulation/?ref=footer)| [Hadoop](https://www.analyticsvidhya.com/blog/2022/05/an-introduction-to-hadoop-ecosystem-for-big-data/?ref=footer)| [Docker](https://www.analyticsvidhya.com/blog/2021/10/end-to-end-guide-to-docker-for-aspiring-data-engineers/?ref=footer)| [Git](https://www.analyticsvidhya.com/blog/2021/09/git-and-github-tutorial-for-beginners/?ref=footer)| [Keras](https://www.analyticsvidhya.com/blog/2016/10/tutorial-optimizing-neural-networks-using-keras-with-image-recognition-case-study/?ref=footer)| [Apache Kafka](https://www.analyticsvidhya.com/blog/2022/12/introduction-to-apache-kafka-fundamentals-and-working/?ref=footer)| [AWS](https://www.analyticsvidhya.com/blog/2020/09/what-is-aws-amazon-web-services-data-science/?ref=footer)| [NLP](https://www.analyticsvidhya.com/blog/2017/01/ultimate-guide-to-understand-implement-natural-language-processing-codes-in-python/?ref=footer)| [Random Forest](https://www.analyticsvidhya.com/blog/2021/06/understanding-random-forest/?ref=footer)| [Computer Vision](https://www.analyticsvidhya.com/blog/2020/01/computer-vision-learning-path/?ref=footer)| [Data Visualization](https://www.analyticsvidhya.com/blog/2021/04/a-complete-beginners-guide-to-data-visualization/?ref=footer)| [Data Exploration](https://www.analyticsvidhya.com/blog/2016/01/guide-data-exploration/?ref=footer)| [Big Data](https://www.analyticsvidhya.com/blog/2021/05/what-is-big-data-introduction-uses-and-applications/?ref=footer)| [Common Machine Learning Algorithms](https://www.analyticsvidhya.com/blog/2017/09/common-machine-learning-algorithms/?ref=footer)| [Machine Learning](https://www.analyticsvidhya.com/blog/category/Machine-Learning/?ref=footer)\\n\\n## Company\\n\\n* [About Us](https://www.analyticsvidhya.com/about/?ref=global_footer)\\n* [Contact Us](https://www.analyticsvidhya.com/contact/?ref=global_footer)\\n* [Careers](https://www.analyticsvidhya.com/careers/?ref=global_footer)\\n\\n## Discover\\n\\n* [Blogs](https://www.analyticsvidhya.com/blog/?ref=global_footer)\\n* [Expert Sessions](https://www.analyticsvidhya.com/events/datahour/?ref=global_footer)\\n* [Learning Paths](https://www.analyticsvidhya.com/blog/category/learning-path/?ref=global_footer)\\n* [Comprehensive Guides](https://www.analyticsvidhya.com/category/guide/?ref=global_footer)\\n\\n## Learn\\n\\n* [Free Courses](https://www.analyticsvidhya.com/all-free-courses?ref=global_footer)\\n* [AI&ML Program](https://www.analyticsvidhya.com/bbplus?ref=global_footer)\\n* [Pinnacle Plus Program](https://www.analyticsvidhya.com/pinnacleplus/?ref=global_footer)\\n* [Agentic AI Program](https://www.analyticsvidhya.com/agenticaipioneer/?ref=global_footer)\\n\\n## Engage\\n\\n* [Community](https://community.analyticsvidhya.com/?ref=global_footer)\\n* [Hackathons](https://www.analyticsvidhya.com/datahack/?ref=global_footer)\\n* [Events](https://www.analyticsvidhya.com/events/?ref=global_footer)\\n* [Podcasts](https://www.analyticsvidhya.com/events/leading-with-data/?ref=global_footer)\\n\\n## Contribute\\n\\n* [Become an Author](https://www.analyticsvidhya.com/datahack/blogathon/?ref=global_footer)\\n* [Become a Speaker](https://docs.google.com/forms/d/e/1FAIpQLSdTDIsIUzmliuTkXIlTX6qI65RCiksQ3nCbTJ7twNx2rgEsXw/viewform?ref=global_footer)\\n* [Become a Mentor](https://docs.google.com/forms/d/e/1FAIpQLSdTDIsIUzmliuTkXIlTX6qI65RCiksQ3nCbTJ7twNx2rgEsXw/viewform?ref=global_footer)\\n* [Become an Instructor](https://docs.google.com/forms/d/e/1FAIpQLSdTDIsIUzmliuTkXIlTX6qI65RCiksQ3nCbTJ7twNx2rgEsXw/viewform?ref=global_footer)\\n\\n## Enterprise\\n\\n* [Our Offerings](https://enterprise.analyticsvidhya.com/?ref=global_footer)\\n* [Trainings](https://www.analyticsvidhya.com/enterprise/training?ref=global_footer)\\n* [Data Culture](https://www.analyticsvidhya.com/enterprise/data-culture?ref=global_footer)\\n* [AI Newsletter](https://newsletter.ai/?ref=global_footer)\\n\\n[Terms & conditions](https://www.analyticsvidhya.com/terms/)\\n\\n[Refund Policy](https://www.analyticsvidhya.com/refund-policy/)\\n\\n[Privacy Policy](https://www.analyticsvidhya.com/privacy-policy/)\\n\\n[Cookies Policy](https://www.analyticsvidhya.com/cookies-policy)\\n© Analytics Vidhya 2025.All rights reserved.\\n\\n![Av Logo White](data:image/png;base64...)\\n## Continue your learning for FREE\\n\\nLogin with Google\\n\\nLogin with Email\\n\\n[Forgot your password?](https://id.analyticsvidhya.com/auth/password/reset/?utm_source=newhomepage)\\n\\nI accept the [Terms and Conditions](/terms)\\n\\nReceive updates on WhatsApp\\n\\n![Av Logo White](data:image/png;base64...)\\n\\n## Enter email address to continue\\n\\nEmail address\\n\\nGet OTP\\n\\n![Av Logo White](data:image/png;base64...)\\n\\n## Enter OTP sent to\\n\\nEdit\\n\\n### Enter the OTP\\n\\nResend OTP\\n\\nResend OTP in 45s\\n\\nVerify OTP\"]\n\n"
     ]
    },
    {
     "output_type": "stream",
     "name": "stderr",
     "output_type": "stream",
     "text": [
      "\n"
     ]
    }
   ],
   "source": [
    "toolkit = {\n",
    "    \"multiply\": multiply,\n",
    "    \"search_web_extract_info\": search_web_extract_info,\n",
    "    \"get_weather\": get_weather\n",
    "}\n",
    "\n",
    "for tool_call in results.tool_calls:\n",
    "    selected_tool = toolkit[tool_call[\"name\"].lower()]\n",
    "    print(f\"Calling tool: {tool_call['name']}\")\n",
    "    tool_output = selected_tool.invoke(tool_call[\"args\"])\n",
    "    print(tool_output)\n",
    "    print()"
   ]
  },
  {
   "cell_type": "code",
   "execution_count": 0,
   "metadata": {
    "application/vnd.databricks.v1+cell": {
     "cellMetadata": {},
     "inputWidgets": {},
     "nuid": "de07f65d-6bb9-470f-88e0-d048cd24c629",
     "showTitle": false,
     "tableResultSettingsMap": {},
     "title": ""
    },
    "colab": {
     "base_uri": "https://localhost:8080/"
    },
    "id": "yJXO6NaNKVQk",
    "outputId": "0f6f5ca5-7d10-4f71-83dd-d863d1f7365b"
   },
   "outputs": [
    {
     "output_type": "execute_result",
     "data": {
      "text/plain": [
       "[StructuredTool(name='multiply', description='use to multiply numbers', args_schema=<class '__main__.CalculatorInput'>, return_direct=True, func=<function multiply at 0x000001E3AD9CCD60>),\n",
       " StructuredTool(name='search_web_extract_info', description='Search the web for a query and extracts useful information from the search links', args_schema=<class 'langchain_core.utils.pydantic.search_web_extract_info'>, func=<function search_web_extract_info at 0x000001E3D0B756C0>),\n",
       " StructuredTool(name='get_weather', description='Search weatherapi to get the current weather.', args_schema=<class 'langchain_core.utils.pydantic.get_weather'>, func=<function get_weather at 0x000001E3AD9CEAC0>)]"
      ]
     },
     "execution_count": 71,
     "metadata": {},
     "output_type": "execute_result"
    }
   ],
   "source": [
    "tools"
   ]
  },
  {
   "cell_type": "markdown",
   "metadata": {
    "application/vnd.databricks.v1+cell": {
     "cellMetadata": {},
     "inputWidgets": {},
     "nuid": "3ba62e74-8579-46d0-a5b3-0d0e8f3db06a",
     "showTitle": false,
     "tableResultSettingsMap": {},
     "title": ""
    },
    "id": "_1Yc8d9MQDqa"
   },
   "source": [
    "### Tool calling for LLMs without native support for tool or function calling"
   ]
  },
  {
   "cell_type": "markdown",
   "metadata": {
    "application/vnd.databricks.v1+cell": {
     "cellMetadata": {},
     "inputWidgets": {},
     "nuid": "92396249-86b9-466d-8506-db792b49e6a9",
     "showTitle": false,
     "tableResultSettingsMap": {},
     "title": ""
    },
    "id": "yIXJC1-9RXnx"
   },
   "source": [
    "Some models like ChatGPT have been fine-tuned for tool calling and provide a dedicated API for tool calling. Generally, such models are better at tool calling than non-fine-tuned models, and are recommended for use cases that require tool calling.\n",
    "\n",
    "Here we will explore an alternative method to invoke tools if you're using a model that does not natively support tool calling (even though we use ChatGPT here which supports it, we will assume it could be any LLM which doesn't support tool calling).\n",
    "\n",
    "We'll do this by simply writing a prompt that will get the model to invoke the appropriate tools."
   ]
  },
  {
   "cell_type": "code",
   "execution_count": 0,
   "metadata": {
    "application/vnd.databricks.v1+cell": {
     "cellMetadata": {},
     "inputWidgets": {},
     "nuid": "ac694005-9f24-46dd-ba34-4bc762d60d6c",
     "showTitle": false,
     "tableResultSettingsMap": {},
     "title": ""
    },
    "colab": {
     "base_uri": "https://localhost:8080/"
    },
    "id": "xr2Wt-iuHEuw",
    "outputId": "f855c868-140a-4ad6-d107-92828004566b"
   },
   "outputs": [
    {
     "output_type": "stream",
     "name": "stdout",
     "output_type": "stream",
     "text": [
      "multiply(a: float, b: float) -> float - use to multiply numbers\nsearch_web_extract_info(query: str) -> list - Search the web for a query and extracts useful information from the search links\nget_weather(query: str) -> list - Search weatherapi to get the current weather.\n"
     ]
    }
   ],
   "source": [
    "from langchain_core.output_parsers import JsonOutputParser\n",
    "from langchain_core.prompts import ChatPromptTemplate\n",
    "from langchain_core.tools import render_text_description\n",
    "\n",
    "rendered_tools = render_text_description(tools)\n",
    "print(rendered_tools)"
   ]
  },
  {
   "cell_type": "code",
   "execution_count": 0,
   "metadata": {
    "application/vnd.databricks.v1+cell": {
     "cellMetadata": {},
     "inputWidgets": {},
     "nuid": "16ee3d0b-c48d-4ed5-8e45-e560a4a128d5",
     "showTitle": false,
     "tableResultSettingsMap": {},
     "title": ""
    },
    "id": "sO8AT_uiK3zV"
   },
   "outputs": [],
   "source": [
    "system_prompt = f\"\"\"\\\n",
    "You are an assistant that has access to the following set of tools.\n",
    "Here are the names and descriptions for each tool:\n",
    "\n",
    "{rendered_tools}\n",
    "\n",
    "Given the user instructions, for each instruction do the following:\n",
    " - Return the name and input of the tool to use.\n",
    " - Return your response as a JSON blob with 'name' and 'arguments' keys.\n",
    " - The `arguments` should be a dictionary, with keys corresponding\n",
    "   to the argument names and the values corresponding to the requested values.\n",
    "\"\"\"\n",
    "\n",
    "prompt = ChatPromptTemplate.from_messages(\n",
    "    [\n",
    "        (\"system\", system_prompt),\n",
    "        (\"user\", \"{input}\")\n",
    "    ]\n",
    ")"
   ]
  },
  {
   "cell_type": "code",
   "execution_count": 0,
   "metadata": {
    "application/vnd.databricks.v1+cell": {
     "cellMetadata": {},
     "inputWidgets": {},
     "nuid": "a6b1975e-ba41-4179-b6eb-61eb8374386a",
     "showTitle": false,
     "tableResultSettingsMap": {},
     "title": ""
    },
    "id": "aNq3a5B9HEy-"
   },
   "outputs": [],
   "source": [
    "instructions = [\n",
    "                  {\"input\" : \"What is 2.1 times 3.5\"},\n",
    "                  {\"input\" : \"What is the current weather in Greenland\"},\n",
    "                  {\"input\" : \"Tell me about the current state of Agentic AI in the industry\" }\n",
    "               ]"
   ]
  },
  {
   "cell_type": "code",
   "execution_count": 0,
   "metadata": {
    "application/vnd.databricks.v1+cell": {
     "cellMetadata": {},
     "inputWidgets": {},
     "nuid": "2483e1d4-c196-4a45-bfbf-927fc47e75de",
     "showTitle": false,
     "tableResultSettingsMap": {},
     "title": ""
    },
    "id": "GJWWhI0NHE3J"
   },
   "outputs": [],
   "source": [
    "from langchain_core.output_parsers import JsonOutputParser\n",
    "\n",
    "chain = (prompt\n",
    "            |\n",
    "         chatgpt\n",
    "            |\n",
    "         JsonOutputParser())"
   ]
  },
  {
   "cell_type": "code",
   "execution_count": 0,
   "metadata": {
    "application/vnd.databricks.v1+cell": {
     "cellMetadata": {},
     "inputWidgets": {},
     "nuid": "4d59b565-2ba5-4c22-bff4-be03a4d9629a",
     "showTitle": false,
     "tableResultSettingsMap": {},
     "title": ""
    },
    "colab": {
     "base_uri": "https://localhost:8080/"
    },
    "id": "a8O7pvViHE5l",
    "outputId": "9a5c31a2-63d9-4637-e0d5-96c1257e1f8b"
   },
   "outputs": [],
   "source": [
    "responses = chain.map().invoke(instructions)"
   ]
  },
  {
   "cell_type": "code",
   "execution_count": 0,
   "metadata": {
    "application/vnd.databricks.v1+cell": {
     "cellMetadata": {},
     "inputWidgets": {},
     "nuid": "cc6366c7-626f-4f7f-a244-a9a35a027ff6",
     "showTitle": false,
     "tableResultSettingsMap": {},
     "title": ""
    },
    "colab": {
     "base_uri": "https://localhost:8080/"
    },
    "id": "4F7Cqo6yMGzU",
    "outputId": "0f1e4782-6b84-44fa-fe3f-25882d82fcd3"
   },
   "outputs": [
    {
     "output_type": "execute_result",
     "data": {
      "text/plain": [
       "[{'name': 'multiply', 'arguments': {'a': 2.1, 'b': 3.5}},\n",
       " {'name': 'get_weather', 'arguments': {'query': 'Greenland'}},\n",
       " {'name': 'search_web_extract_info',\n",
       "  'arguments': {'query': 'current state of Agentic AI in the industry 2023'}}]"
      ]
     },
     "execution_count": 87,
     "metadata": {},
     "output_type": "execute_result"
    }
   ],
   "source": [
    "responses"
   ]
  },
  {
   "cell_type": "code",
   "execution_count": 0,
   "metadata": {
    "application/vnd.databricks.v1+cell": {
     "cellMetadata": {},
     "inputWidgets": {},
     "nuid": "0d8cc0a1-f7e9-48a4-8537-8205e3724122",
     "showTitle": false,
     "tableResultSettingsMap": {},
     "title": ""
    },
    "colab": {
     "base_uri": "https://localhost:8080/"
    },
    "id": "rLsWGvOkM5Qe",
    "outputId": "29df7cdd-dd9e-494a-c7a3-9b0b70bb4758"
   },
   "outputs": [
    {
     "output_type": "stream",
     "name": "stdout",
     "output_type": "stream",
     "text": [
      "Calling tool: multiply\n7.3500000000000005\n\nCalling tool: get_weather\n{'location': {'name': 'Nuuk', 'region': 'Vestgronland', 'country': 'Greenland', 'lat': 64.183, 'lon': -51.75, 'tz_id': 'America/Nuuk', 'localtime_epoch': 1739906792, 'localtime': '2025-02-18 17:26'}, 'current': {'last_updated_epoch': 1739906100, 'last_updated': '2025-02-18 17:15', 'temp_c': 3.1, 'temp_f': 37.6, 'is_day': 1, 'condition': {'text': 'Sunny', 'icon': '//cdn.weatherapi.com/weather/64x64/day/113.png', 'code': 1000}, 'wind_mph': 10.1, 'wind_kph': 16.2, 'wind_degree': 39, 'wind_dir': 'NE', 'pressure_mb': 994.0, 'pressure_in': 29.35, 'precip_mm': 0.0, 'precip_in': 0.0, 'humidity': 41, 'cloud': 0, 'feelslike_c': -0.8, 'feelslike_f': 30.6, 'windchill_c': -5.3, 'windchill_f': 22.4, 'heatindex_c': -0.6, 'heatindex_f': 31.0, 'dewpoint_c': -5.2, 'dewpoint_f': 22.7, 'vis_km': 10.0, 'vis_miles': 6.0, 'uv': 0.0, 'gust_mph': 20.5, 'gust_kph': 33.0}}\n\nCalling tool: search_web_extract_info\n"
     ]
    },
    {
     "output_type": "stream",
     "name": "stderr",
     "output_type": "stream",
     "text": [
      " 80%|████████  | 4/5 [00:03<00:00,  1.22it/s]"
     ]
    },
    {
     "output_type": "stream",
     "name": "stdout",
     "output_type": "stream",
     "text": [
      "Extraction blocked for url:  https://www.fintechfutures.com/2025/02/agentic-ai-and-the-future-of-fintech-and-banking-automation/\n"
     ]
    },
    {
     "output_type": "stream",
     "name": "stderr",
     "output_type": "stream",
     "text": [
      "100%|██████████| 5/5 [00:05<00:00,  1.04s/it]"
     ]
    },
    {
     "output_type": "stream",
     "name": "stdout",
     "output_type": "stream",
     "text": [
      "Extraction blocked for url:  https://scet.berkeley.edu/the-next-next-big-thing-agentic-ais-opportunities-and-risks/\n[\"The Current State and Future of Agentic AI - Sikich\\n[![Sikich Logo](https://www.sikich.com/wp-content/themes/sikich/images/sikich-logo.svg)](https://www.sikich.com)\\n\\n* Services\\n* Industries\\n* [Insights](/insights)\\n* [About](/about)\\n* [Careers](/careers)\\n\\n![Search Icon](https://www.sikich.com/wp-content/themes/sikich/images/icons/search-icon.png)\\nSearch\\n\\n![Phone Icon](https://www.sikich.com/wp-content/themes/sikich/images/icons/phone-icon.png)\\n877.279.1900\\n\\n[Get Started](https://www.sikich.com/contact-us/)\\n\\n[![Sikich Logo](https://www.sikich.com/wp-content/themes/sikich/images/sikich-logo.svg)](https://www.sikich.com)\\n\\n![Search Icon](https://www.sikich.com/wp-content/themes/sikich/images/icons/search-icon.png)\\n\\n![Phone Icon](https://www.sikich.com/wp-content/themes/sikich/images/icons/phone-icon.png)\\n\\n![Menu Icon](https://www.sikich.com/wp-content/themes/sikich/images/icons/menu-icon.png)\\n\\n* [Audit and Assurance](https://www.sikich.com/accounting-audit-tax-consulting/audit-assurance/)\\n* [Business Succession Plan](https://www.sikich.com/advisory-services/business-succession-planning/)\\n* [Business Transformation](https://www.sikich.com/advisory-services/business-transformation/)\\n* [Cloud Services](https://www.sikich.com/technology/cloud-infrastructure-migration/)\\n* [Consulting Services](https://www.sikich.com/accounting-audit-tax-consulting/consulting-services/)\\n* [CRM and ERP Products](https://www.sikich.com/technology/products/)\\n* [CRM Services](https://www.sikich.com/technology/crm-customer-engagement/)\\n* [Cybersecurity](https://www.sikich.com/technology/cybersecurity/)\\n\\n* [Data and AI](/technology/data-and-ai/)\\n* [ERP Services](https://www.sikich.com/technology/erp-services/)\\n* [Forensic and Valuation](https://www.sikich.com/advisory-services/forensics-valuation/)\\n* [Governance, Risk and Compliance](https://www.sikich.com/accounting-audit-tax-consulting/consulting-services/governance-risk-and-compliance-services/)\\n* [HEADSTART Implementations](https://www.sikich.com/technology/products/headstart-approach-for-erp-and-crm-implementations/)\\n* [Human Capital Management and Payroll](https://www.sikich.com/advisory-services/human-capital-management-payroll-consulting/)\\n* [Insurance Services](https://www.sikich.com/advisory-services/insurance-services/)\\n* [Internal Audit](/accounting-audit-tax-consulting/consulting-services/governance-risk-and-compliance-services/internal-audit-services/)\\n\\n* [Investment Banking](https://www.sikich.com/advisory-services/investment-banking/)\\n* [Lender Services](/advisory-services/lender-services/)\\n* [IT and Security Managed Services](https://www.sikich.com/technology/managed-it-services/)\\n* [Marketing and Communication](https://www.sikich.com/advisory-services/marketing-communication/)\\n* [Modern Workplace](https://www.sikich.com/technology/remote-workforce-implementations/)\\n* [Outsourced Accounting](https://www.sikich.com/accounting-audit-tax-consulting/outsourced-accounting/)\\n* [Regulatory, Quality and Compliance](https://www.sikich.com/advisory-services/regulatory-quality-and-compliance/)\\n* [Retirement Plan Services](https://www.sikich.com/advisory-services/retirement-plan-services/)\\n\\n* [Site Selection and Incentives](https://www.sikich.com/accounting-audit-tax-consulting/consulting-services/site-selection-business-incentives/)\\n* [Spend Management](https://www.sikich.com/technology/spend-management/)\\n* [Tax Services](https://www.sikich.com/accounting-audit-tax-consulting/tax-services/)\\n* [Transaction Advisory](https://www.sikich.com/advisory-services/transaction-advisory-services/)\\n* [Wealth Management](https://www.sikich.com/advisory-services/wealth-management/)\\n* [Workforce Risk Management](https://www.sikich.com/advisory-services/workforce-risk-management/)\\n\\nHighlights\\n\\n[![](https://www.sikich.com/wp-content/uploads/2025/01/spfcompliance-150x150.jpg)\\n\\nUnderstanding the 'Overwrite Return Path' Setting in KnowBe4: Why It’s Critical for SPF and DMARC Compliance](https://www.sikich.com/insight/understanding-the-overwrite-return-path-setting-in-knowbe4-why-its-critical-for-spf-and-dmarc-compliance/)\\n\\n[![](https://www.sikich.com/wp-content/uploads/2025/02/GPTW-IN-and-US-150x150.jpg)\\n\\nSikich Earns 2025 Great Place To Work® Certification in the U.S. and India](https://www.sikich.com/insight/sikich-earns-2025-great-place-to-work-in-us-and-india/)\\n\\n[![](https://www.sikich.com/wp-content/uploads/2025/02/Businesswoman-working-in-stacks-of-paperwork.-piles-of-forms-on-desk-in-office-150x150.jpg)\\n\\nThe Latest on ERC Claims: What Tax Professionals and Business Owners Should Know Now](https://www.sikich.com/insight/erc-claims-2025-what-tax-professionals-and-business-owners-should-know/)\\n\\n[View More >](https://www.sikich.com/insights/)\\n\\n![](https://www.sikich.com/wp-content/themes/sikich/images/icons/menu-chevron.png)\\n\\nCLOSE\\n\\n* [Construction and Real Estate](/industries/construction-real-estate)\\n* [Discrete Manufacturing](https://www.sikich.com/industries/manufacturing/discrete-manufacturing/)\\n* [Federal Government](/industries/governmentservices/government-federal)\\n* [Financial Services](/industries/financial-services)\\n\\n* [Government Contractors](/industries/government-contractors)\\n* [Industrial Equipment Manufacturing](https://www.sikich.com/technology/industries/discrete-manufacturing/industrial-equipment-manufacturing/)\\n* [Life Sciences](/industries/life-sciences)\\n* [Manufacturing and Distribution](https://www.sikich.com/industries/manufacturing/)\\n\\n* [Not-for-Profit](/industries/not-for-profit)\\n* [Professional Services](/advisory-services/professional-services)\\n* [Rolled Products Manufacturing](https://www.sikich.com/industries/manufacturing/rolled-products-manufacturing-technology-solutions/)\\n* [State and Local Government](/industries/governmentservices/government-state-local)\\n\\n* [Title IV Audit and Consulting](/accounting-audit-tax-consulting/audit-assurance/title-iv-audit-and-consulting/)\\n* [Distribution and Supply Chain](/technology/industries/distribution-technology/)\\n* [Insurance](/industries/insurance-industry-technology/)\\n\\nHighlights\\n\\n[![](https://www.sikich.com/wp-content/uploads/2025/01/spfcompliance-150x150.jpg)\\n\\nUnderstanding the 'Overwrite Return Path' Setting in KnowBe4: Why It’s Critical for SPF and DMARC Compliance](https://www.sikich.com/insight/understanding-the-overwrite-return-path-setting-in-knowbe4-why-its-critical-for-spf-and-dmarc-compliance/)\\n\\n[![](https://www.sikich.com/wp-content/uploads/2025/02/GPTW-IN-and-US-150x150.jpg)\\n\\nSikich Earns 2025 Great Place To Work® Certification in the U.S. and India](https://www.sikich.com/insight/sikich-earns-2025-great-place-to-work-in-us-and-india/)\\n\\n[![](https://www.sikich.com/wp-content/uploads/2025/02/Businesswoman-working-in-stacks-of-paperwork.-piles-of-forms-on-desk-in-office-150x150.jpg)\\n\\nThe Latest on ERC Claims: What Tax Professionals and Business Owners Should Know Now](https://www.sikich.com/insight/erc-claims-2025-what-tax-professionals-and-business-owners-should-know/)\\n\\n[View More >](https://www.sikich.com/insights/)\\n\\n![](https://www.sikich.com/wp-content/themes/sikich/images/icons/menu-chevron.png)\\n\\nCLOSE\\n\\n* [Contact](/contact-us)\\n* Services\\n  + [Audit & Assurance](https://www.sikich.com/accounting-audit-tax-consulting/audit-assurance/)\\n  + [Business Succession Plan](https://www.sikich.com/advisory-services/business-succession-planning/)\\n  + [Business Transformation](https://www.sikich.com/advisory-services/business-transformation/)\\n  + [Cloud Services](https://www.sikich.com/technology/cloud-infrastructure-migration/)\\n  + [Consulting Services](https://www.sikich.com/accounting-audit-tax-consulting/consulting-services/)\\n  + [CRM and ERP Products](https://www.sikich.com/technology/products/)\\n  + [CRM Services](https://www.sikich.com/technology/products/)\\n  + [Cybersecurity](https://www.sikich.com/technology/cybersecurity/)\\n  + [Data and AI](https://www.sikich.com/technology/data-and-ai/)\\n  + [ERP Services](https://www.sikich.com/technology/erp-services/)\\n  + [Forensic & Valuation](https://www.sikich.com/advisory-services/forensics-valuation/)\\n  + [Governance, Risk and Compliance](https://www.sikich.com/accounting-audit-tax-consulting/consulting-services/governance-risk-and-compliance-services/)\\n  + [HEADSTART Implementations](https://www.sikich.com/technology/products/headstart-approach-for-erp-and-crm-implementations/)\\n  + [Human Capital Management & Payroll](https://www.sikich.com/advisory-services/human-capital-management-payroll-consulting/)\\n  + [Insurance Services](https://www.sikich.com/advisory-services/insurance-services/)\\n  + [Internal Audit](https://www.sikich.com/accounting-audit-tax-consulting/consulting-services/governance-risk-and-compliance-services/internal-audit-services/)\\n  + [Investment Banking](https://www.sikich.com/advisory-services/investment-banking/)\\n  + [Lender Services](https://www.sikich.com/advisory-services/lender-services/)\\n  + [IT and Managed Services](https://www.sikich.com/technology/managed-it-services/)\\n  + [Marketing and Communications](https://www.sikich.com/advisory-services/marketing-communication/)\\n  + [Modern Workplace](https://www.sikich.com/technology/remote-workforce-implementations/)\\n  + [Outsourced Accounting](https://www.sikich.com/accounting-audit-tax-consulting/outsourced-accounting/)\\n  + [Regulatory, Quality & Compliance](https://www.sikich.com/advisory-services/regulatory-quality-and-compliance/)\\n  + [Site Selection & Incentives](https://www.sikich.com/accounting-audit-tax-consulting/consulting-services/site-selection-business-incentives/)\\n  + [Spend Management](https://www.sikich.com/technology/spend-management/)\\n  + [Tax](https://www.sikich.com/accounting-audit-tax-consulting/tax-services/)\\n  + [Transaction Advisory](https://www.sikich.com/advisory-services/transaction-advisory-services/)\\n  + [Wealth Management](https://www.sikich.com/advisory-services/wealth-management/)\\n  + [Workforce Risk Management](https://www.sikich.com/advisory-services/workforce-risk-management/)\\n* Industries\\n  + [Construction & Real Estate](https://www.sikich.com/industries/construction-real-estate)\\n  + [Discrete Manufacturing](https://www.sikich.com/industries/manufacturing/discrete-manufacturing/)\\n  + [Federal Government](https://www.sikich.com/industries/governmentservices/government-federal)\\n  + [Financial Services](https://www.sikich.com/industries/financial-services)\\n  + [Government Contractors](https://www.sikich.com/industries/government-contractors)\\n  + [Industrial Equipment Manufacturing](https://www.sikich.com/technology/industries/discrete-manufacturing/industrial-equipment-manufacturing/)\\n  + [Life Sciences](https://www.sikich.com/industries/life-sciences)\\n  + [Manufacturing and Distribution](https://www.sikich.com/industries/manufacturing/)\\n  + [Not-for-profit](https://www.sikich.com/industries/not-for-profit)\\n  + [Process Manufacturing](https://www.sikich.com/technology/industries/process-manufacturing/)\\n  + [Professional Services](https://www.sikich.com/advisory-services/professional-services)\\n  + Rolled Products\\n  + [State & Local Government](https://www.sikich.com/industries/governmentservices/government-state-local)\\n  + [Title IV Audit & Consulting](https://www.sikich.com/accounting-audit-tax-consulting/audit-assurance/title-iv-audit-and-consulting/)\\n  + [Distribution & Supply Chain](https://www.sikich.com/technology/industries/distribution-technology/)\\n  + [Insurance](/industries/insurance-industry-technology/)\\n* [Insights](https://www.sikich.com/insights)\\n  + [Insights](https://www.sikich.com/insights)\\n  + [Events](https://www.sikich.com/events)\\n  + [Lessons from Leadership](https://www.sikich.com/about/lessons-from-leadership)\\n* [About](https://www.sikich.com/about/)\\n* [Locations](https://www.sikich.com/about/locations/)\\n* [Careers](https://www.sikich.com/careers)\\n* [Pay](https://www.sikich.com/pay)\\n\\nhttps://www.sikich.com\\n# The Current State and Future of Agentic AI: Insights and Innovations\\n\\nRay Beste\\n\\n\\xa0\\xa0|\\n\\nJan 23 2025\\n\\n\\xa0\\xa0|\\n\\n4 min read\\n\\n![](https://www.sikich.com/wp-content/uploads/2025/01/agenticAI.jpg)\\n\\nAgentic AI, or AI systems capable of autonomous decision-making and task execution, has become the latest buzzword in the [AI landscape](https://www.sikich.com/insight/salesforce-ai-leveraging-agentforce-for-smarter-customer-service/). But what exactly does it mean, and why is everyone talking about it?\\n\\nGenerative AI captured the world’s imagination with tools like [ChatGPT](https://chatgpt.com/), demonstrating the power of AI to create new content based on a simple prompt. Now, the evolution to agentic AI takes it further—beyond providing answers to performing actions based on those answers and even orchestrating a series of actions.\\n\\nImagine a system that continuously monitors a marketing campaign, learns from the results, and automatically adjusts strategies without human intervention. Or picture a supply chain module in an ERP system autonomously placing orders for low-risk products to maintain optimal inventory levels.\\n\\nYou may wonder, *“That sounds great! Have I already missed out?”* The answer is a resounding no. We are in the early stages of this transformative technology. Even Gartner predicts that by 2028, only up to 15% of day-to-day workflows will be handled autonomously by AI agents.\\n\\n## The Levels of Agentic AI: A Framework for Understanding\\n\\nAgentic AI spans several levels, each reflecting a different degree of autonomy and sophistication in how AI systems act and learn:\\n\\n1. **Reactive Agents**\\n   Reactive agents operate on a simple sense-and-respond model, reacting to current inputs without memory or planning.\\n   *Examples: Basic chatbots, thermostats.*\\n2. **Proactive Agents**\\n   Proactive agents go beyond reacting by learning from past experiences and planning limited actions to achieve goals.\\n   *Examples: AI scheduling tools, recommendation systems.*\\n3. **Adaptive Agents**\\n   Adaptive agents learn dynamically from their interactions, optimizing responses and strategies in complex environments.\\n   *Examples: Self-driving cars, adaptive CRM tools.*\\n4. **Fully Agentic Systems**\\n   Fully autonomous AI systems independently set goals, make decisions, and perform tasks in unstructured environments.\\n   *Examples: Experimental platforms like [Microsoft’s Magentic-One](https://www.microsoft.com/en-us/research/articles/magentic-one-a-generalist-multi-agent-system-for-solving-complex-tasks/).*\\n\\nEach level builds upon the last, reflecting the growing capacity of AI to act autonomously and intelligently.\\n\\n## The Current State of Agentic AI\\n\\nAgentic AI is making its mark across industries, transitioning from experimental tools to practical applications. Current systems excel at:\\n\\n* **Automation at Scale:** Reducing the need for human input in repetitive processes.\\n* **Proactive Decision-Making:** Solving problems and making recommendations in real-time.\\n* **Personalization:** Tailoring actions based on contextual understanding.\\n\\n## Magentic-One by Microsoft\\n\\nMicrosoft’s Magentic-One is a standout example, showcasing the power of agentic AI. This currently experimental platform integrates with Microsoft’s enterprise ecosystem to:\\n\\n* Automate complex workflows using advanced task orchestration.\\n* Provide real-time, context-aware assistance.\\n* Continuously improve through self-learning systems.\\n\\n## Future Possibilities of Agentic AI\\n\\nAs agentic AI evolves, its potential will expand into even more advanced applications:\\n\\n1. **Enhanced Enterprise Autonomy:** AI agents that don’t just execute but also strategize and optimize processes.\\n2. **Cross-Domain Integration:** Bridging fields like healthcare and legal research for deeper problem-solving.\\n3. **Human Collaboration:** AI as a proactive partner, collaborating seamlessly with human teams.\\n\\nThese advancements could revolutionize areas such as autonomous logistics, predictive crisis management, and smart city design.\\n\\n## Risk and Mitigation Strategies\\n\\nAgentic AI, while promising, introduces several risks:\\n\\n* **Ethical Concerns:** Decisions may conflict with our values or norms.\\n* **Skewed Decision-Making:** Flaws in training data can foster errors.\\n* **Security Threats:** Vulnerabilities to adversarial attacks or misuse.\\n* **Loss of Oversight:** Over-reliance on autonomy risks human control and understanding.\\n\\n**Mitigation Strategies:**\\n\\n* Build transparent, explainable systems for decision-making.\\n* Continuously test and make corrections as you go.\\n* Implement robust security measures.\\n* Maintain human-in-the-loop systems to oversee critical decisions.\\n\\n## Realize the Power of Today’s Agentic AI\\n\\nAgentic AI represents a dramatic shift in how technology interacts with humans and the world. While the future is brimming with possibilities, the tools and capabilities available today are already game-changing.\\n\\nPlatforms like Microsoft 365 Copilot and Salesforce Einstein demonstrate advanced AI capabilities, offering proactive assistance, workflow automation, and contextual recommendations. However, these tools represent an early stage of agentic AI. They excel at enhancing productivity and decision-making but remain heavily reliant on user direction and input, stopping short of true autonomy. These systems are building blocks toward fully agentic solutions, offering organizations an opportunity to start leveraging AI for impactful results today.\\n\\nAt Sikich, we specialize in helping organizations define, build, and integrate these intelligent agents into their existing technology landscapes. Whether you’re looking to extend the functionality of Microsoft 365 Copilot, leverage the power of Salesforce Einstein, or enhance Dynamics 365 products, our expertise ensures a seamless transition from concept to implementation.\\n\\nDon’t wait for the future—start your journey with agentic AI today. Let Sikich guide you in transforming your vision into reality, unlocking the potential of these powerful tools to drive innovation and efficiency in your organization.\\n\\n****[Contact us](/technology/contact-us/) to explore how\\xa0the\\xa0[Sikich AI Solutions StudioTM](https://www.sikich.com/insight/sikich-expands-ai-consulting-capabilities/) can partner with you in building intelligent, autonomous solutions tailored to your needs.****\\n\\nThis publication contains general information only and Sikich is not, by means of this publication, rendering accounting, business, financial, investment, legal, tax, or any other professional advice or services. This publication is not a substitute for such professional advice or services, nor should you use it as a basis for any decision, action or omission that may affect you or your business. Before making any decision, taking any action or omitting an action that may affect you or your business, you should consult a qualified professional advisor. In addition, this publication may contain certain content generated by an artificial intelligence (AI) language model. You acknowledge that Sikich shall not be responsible for any loss sustained by you or any person who relies on this publication.\\n\\nAbout the Author\\n\\n![](https://secure.gravatar.com/avatar/d3c3fa8f9ba8b75366612b24c907aa7f?s=218&d=https%3A%2F%2Fwww.sikich.com%2Fwp-content%2Fuploads%2F2024%2F03%2Fsikich-default-author-icon-lower.jpg&r=g)\\n\\nRay Beste\\n\\nCommencing his IT career with Sikich in 1989, the birth year of the World Wide Web, Ray has witnessed the evolution of technology from the inception of websites and browsers to the rise of smartphones and social media platforms. The advent of AI technologies, particularly Generative AI, has Ray focusing his attention on this and related technologies as he guides Sikich's internal use journey as well as that of our clients.\\n\\nSign up for Insights\\n\\nJoin 14,000+ Business executives and decision makers.\\n\\nLatest Insights\\n\\nGovernance, Risk and Compliance\\n\\nInternal Controls for AI Governance\\n\\nJanuary 14, 2025\\n\\nGovernance, Risk and Compliance\\n\\nInternal Controls for AI Governance\\n\\nJanuary 14, 2025\\n\\nAs AI continues to capture significant attention, organizations face increasing pressure to adopt these tools to enhance customer experience and stre...\\n\\n[Read More](https://www.sikich.com/insight/internal-controls-for-ai-governance/)\\n![](https://www.sikich.com/wp-content/themes/sikich/images/icons/white-chevron.png)\\n\\nNews Release\\n\\nSikich AI Solutions Studio™ Introduces Virtual Chief AI Of...\\n\\nDecember 18, 2024\\n\\nNews Release\\n\\nSikich AI Solutions Studio™ Introduces Virtual Chief AI Of...\\n\\nDecember 18, 2024\\n\\nCHICAGO – December 18, 2024 – Sikich, a Chicago-based leading global technology-enabled professional services company, announced the launch of it...\\n\\n[Read More](https://www.sikich.com/insight/sikich-introduces-virtual-chief-ai-officer-service/)\\n![](https://www.sikich.com/wp-content/themes/sikich/images/icons/white-chevron.png)\\n\\nMarketing & Communications\\n\\nHow to Ensure Marketing-Focused AI Initiatives Don’t Fall ...\\n\\nDecember 6, 2024\\n\\nMarketing & Communications\\n\\nHow to Ensure Marketing-Focused AI Initiatives Don’t Fall ...\\n\\nDecember 6, 2024\\n\\nBased on our discussions with clients and prospects, it is clear companies are increasingly putting their excitement about AI into action via both sm...\\n\\n[Read More](https://www.sikich.com/insight/how-to-ensure-marketing-focused-ai-initiatives-dont-fall-flat/)\\n![](https://www.sikich.com/wp-content/themes/sikich/images/icons/white-chevron.png)\\n\\nConstruction\\n\\nHow Construction Companies Can Leverage Microsoft Dynamics 3...\\n\\nNovember 7, 2024\\n\\nConstruction\\n\\nHow Construction Companies Can Leverage Microsoft Dynamics 3...\\n\\nNovember 7, 2024\\n\\nReady to elevate your construction management software? With Microsoft Dynamics 365 Business Central for Construction, you can tap into one of the mo...\\n\\n[Read More](https://www.sikich.com/insight/how-construction-companies-can-leverage-microsoft-dynamics-365-business-central-and-copilot-to-transform-their-business/)\\n![](https://www.sikich.com/wp-content/themes/sikich/images/icons/white-chevron.png)\\n\\nData Management and Governance\\n\\nWays an Enterprise Data and AI Strategy Drives Exponential G...\\n\\nOctober 23, 2024\\n\\nData Management and Governance\\n\\nWays an Enterprise Data and AI Strategy Drives Exponential G...\\n\\nOctober 23, 2024\\n\\n“The price of light is less than the cost of darkness” – Arthur C. Nielsen\\nThis is one of my favorite quotes because it is simple and yet sa...\\n\\n[Read More](https://www.sikich.com/insight/ways-an-enterprise-data-and-ai-strategy-drives-exponential-growth/)\\n![](https://www.sikich.com/wp-content/themes/sikich/images/icons/white-chevron.png)\\n\\nTransaction Advisory Services\\n\\nMaximize Your Data to Enhance Decision Making\\n\\nOctober 21, 2024\\n\\nTransaction Advisory Services\\n\\nMaximize Your Data to Enhance Decision Making\\n\\nOctober 21, 2024\\n\\nData has emerged as one of the most valuable assets for any organization. However, many companies struggle to harness its full potential. This can be...\\n\\n[Read More](https://www.sikich.com/insight/maximize-your-data-enhance-decision-making/)\\n![](https://www.sikich.com/wp-content/themes/sikich/images/icons/white-chevron.png)\\n\\nAI\\n\\nHow Generative AI is Improving the Insurance Customer Experi...\\n\\nOctober 2, 2024\\n\\nAI\\n\\nHow Generative AI is Improving the Insurance Customer Experi...\\n\\nOctober 2, 2024\\n\\nGenerative AI capabilities and AI-infused automations in Salesforce allow insurance companies to empower every employee to make a difference for cust...\\n\\n[Read More](https://www.sikich.com/insight/innovate-the-insurance-customer-experience-with-generative-ai/)\\n![](https://www.sikich.com/wp-content/themes/sikich/images/icons/white-chevron.png)\\n\\nSalesforce\\n\\nLeveraging AI to Automate Salesforce Translation Workbench M...\\n\\nAugust 30, 2024\\n\\nSalesforce\\n\\nLeveraging AI to Automate Salesforce Translation Workbench M...\\n\\nAugust 30, 2024\\n\\nOffering localized experiences within Salesforce is essential for companies. One of the key components of this is translating Salesforce custom field...\\n\\n[Read More](https://www.sikich.com/insight/leveraging-ai-to-automate-salesforce-translation-workbench-metadata/)\\n![](https://www.sikich.com/wp-content/themes/sikich/images/icons/white-chevron.png)\\n\\nHuman Resources\\n\\nHR Executives Roundtable Recap: The Benefits and Challenges ...\\n\\nJuly 8, 2024\\n\\nHuman Resources\\n\\nHR Executives Roundtable Recap: The Benefits and Challenges ...\\n\\nJuly 8, 2024\\n\\nArtificial Intelligence (AI) continues to weave its way into various facets of business operations –Human Resources (HR) leaders have a unique oppo...\\n\\n[Read More](https://www.sikich.com/insight/hr-executives-benefits-and-challenges-of-ai-landscape/)\\n![](https://www.sikich.com/wp-content/themes/sikich/images/icons/white-chevron.png)\\n\\nTechnology\\n\\nNavigating the Potential of Generative AI in Life Sciences\\n\\nMay 16, 2024\\n\\nTechnology\\n\\nNavigating the Potential of Generative AI in Life Sciences\\n\\nMay 16, 2024\\n\\nI recently spoke at the Informa Life Sciences Accounting & Reporting conference in Philadelphia, PA. Apart from the expected presentations about ...\\n\\n[Read More](https://www.sikich.com/insight/navigating-the-potential-of-generative-ai-in-life-sciences/)\\n![](https://www.sikich.com/wp-content/themes/sikich/images/icons/white-chevron.png)\\n\\n[View All Insights\\n![Teal Chevron](https://www.sikich.com/wp-content/themes/sikich/images/icons/teal-right-chevron.png)](https://www.sikich.com/insights/)\\n\\n[![Sikich Logo](https://www.sikich.com/wp-content/themes/sikich/images/footer-logo.png)](https://www.sikich.com)\\n\\n* [Careers](https://www.sikich.com/careers/)\\n* [Events](/events)\\n* [Locations](/about/locations/)\\n* [Pay](/pay)\\n* [Privacy](/privacy-policy)\\n* [Disclaimer](/disclaimer)\\n* [Login](https://secure.netlinksolution.com/nextgen/?firm=40430#/)\\n\\nFollow Us\\n\\n[![Facebook Icon](https://www.sikich.com/wp-content/themes/sikich/images/footer-facebook-icon.png)](https://www.facebook.com/sikichglobal)\\n[![LinkedIn Icon](https://www.sikich.com/wp-content/themes/sikich/images/footer-linkedin-icon.png)](https://www.linkedin.com/company/sikich)\\n[![Youtube Icon](https://www.sikich.com/wp-content/themes/sikich/images/footer-youtube-icon.png)](https://www.youtube.com/%40Sikich_Global)\\n[![Twitter Icon](https://www.sikich.com/wp-content/themes/sikich/images/footer-twitter-icon.png)](https://twitter.com/sikichglobal)\\n\\nSikich practices in an alternative practice structure in accordance with the AICPA Professional Code of Conduct and applicable law, regulations, and professional standards. Sikich CPA LLC is a licensed CPA firm that provides audit and attest services to its clients, and Sikich LLC and its subsidiaries provide tax and business advisory services to its clients. Sikich CPA LLC has a contractual arrangement with Sikich LLC under which Sikich LLC supports Sikich CPA LLC’s performance of its professional services. Sikich LLC and its subsidiaries are not licensed CPA firms.\\n\\n“Sikich” is the brand name under which Sikich CPA LLC and Sikich LLC provide professional services. The entities under the Sikich brand are independently owned and are not liable for the services provided by any other entity providing services under the Sikich brand. The use of the terms “our company”, “we” and “us” and other similar terms denote the alternative practice structure of Sikich CPA LLC and Sikich LLC.\\n\\nSecurities offered through Sikich Corporate Finance LLC, member FINRA/SIPC. Investment advisory services offered through Sikich Financial, an SEC Registered Investment Advisor.\\n\\nCopyright © 2025 Sikich LLC. All rights reserved.\\n\\nWe are using cookies to give you the best experience on our website.\\n\\nYou can find out more about which cookies we are using or switch them off in settings.\\n\\nAccept\\nReject\\n\\nClose GDPR Cookie Settings\\n\\n![Sikich](https://www.sikich.com/wp-content/plugins/gdpr-cookie-compliance/dist/images/gdpr-logo.png)\\n\\n* Privacy Overview\\n* Strictly Necessary Cookies\\n\\n[Powered by\\xa0 GDPR Cookie Compliance](https://wordpress.org/plugins/gdpr-cookie-compliance/)\\n\\nPrivacy Overview\\n\\nThis website uses cookies so that we can provide you with the best user experience possible. Cookie information is stored in your browser and performs functions such as recognising you when you return to our website and helping our team to understand which sections of the website you find most interesting and useful.\\n\\nStrictly Necessary Cookies\\n\\nStrictly Necessary Cookie should be enabled at all times so that we can save your preferences for cookie settings.\\n\\nEnable or Disable Cookies\\n\\nIf you disable this cookie, we will not be able to save your preferences. This means that every time you visit this website you will need to enable or disable cookies again.\\n\\nEnable All\\nSave Settings\", 'Autonomous generative AI agents | Deloitte Insights\\nPlease enable JavaScript to view the site.\\n\\nDeloitte Insights and our research centers deliver proprietary research designed to help organizations turn their aspirations into action.\\n\\n#### DELOITTE INSIGHTS\\n\\n* [Home](/us/en/insights.html?icid=disidenav_insights)\\n* Spotlight\\n  + [Weekly Global Economic Outlook](/us/en/insights/economy/global-economic-outlook/weekly-update.html?icid=disidenav_weekly-update)\\n  + [Top 10 Reading Guide](/us/en/insights/focus/top-10-business-insights.html?icid=disidenav_top-10-business-insights)\\n  + [Future of Sports](/us/en/insights/focus/future-of-sports.html?icid=disidenav_future-of-sports)\\n  + [Technology Management](/us/en/insights/technology-management.html?icid=disidenav_technology-management)\\n  + [Growth & Competitive Advantage](/us/en/insights/topics/strategy.html?icid=disidenav_strategy)\\n* Topics\\n  + [Economics](/us/en/insights/economy.html?icid=disidenav_economy)\\n  + [Environmental, Social, & Governance](/us/en/insights/environmental-social-governance.html?icid=disidenav_environmental-social-governance)\\n  + [Operations](/us/en/insights/operations.html?icid=disidenav_operations)\\n  + [Strategy](/us/en/insights/strategy.html?icid=disidenav_strategy)\\n  + [Technology](/us/en/insights/technology-management.html?icid=disidenav_technology-management)\\n  + [Workforce](/us/en/insights/workforce.html?icid=disidenav_workforce)\\n  + [Industries](/us/en/insights/industries.html?icid=disidenav_industries)\\n* More\\n  + [About](/us/en/insights/about-deloitte-insights.html?icid=disidenav_about-deloitte-insights)\\n  + [Deloitte Insights Magazine](/us/en/insights/deloitte-insights-magazine.html?icid=disidenav_deloitte-insights-magazine)\\n  + [Press Room Podcasts](/us/en/insights/multimedia/podcasts.html?icid=disidenav_podcasts)\\n\\n#### DELOITTE RESEARCH CENTERS\\n\\n* Cross-Industry\\n  + [Home](/us/en/insights/research-centers/center-for-integrated-research.html?icid=disidenav_center-for-integrated-research)\\n  + [Workforce Trends](/us/en/insights/research-centers/center-for-integrated-research/workforce-trends.html?icid=disidenav_workforce-trends)\\n  + [Enterprise Growth & Innovation](/us/en/insights/research-centers/center-for-integrated-research/enterprise-growth-and-innovation.html?icid=disidenav_enterprise-growth-and-innovation)\\n  + [Technology & Transformation](/us/en/insights/research-centers/center-for-integrated-research/technology-and-transformation.html?icid=disidenav_technology-and-transformation)\\n  + [Environmental & Social Issues](/us/en/insights/research-centers/center-for-integrated-research/environmental-and-social-issues.html?icid=disidenav_environmental-and-social-issues)\\n* Economics\\n  + [Home](/us/en/insights/research-centers/economics.html?icid=disidenav_economics)\\n  + [Consumer Spending](/us/en/insights/research-centers/economics/consumer-spending.html?icid=disidenav_consumer-spending)\\n  + [Housing](/us/en/insights/research-centers/economics/housing.html?icid=disidenav_housing)\\n  + [Business Investment](/us/en/insights/research-centers/economics/business-investment.html?icid=disidenav_business-investment)\\n  + [Globalization & International Trade](/us/en/insights/research-centers/economics/globalization-and-international-trade.html?icid=disidenav_globalization-and-international-trade)\\n  + [Fiscal & Monetary Policy](/us/en/insights/research-centers/economics/fiscal-and-monetary-policy.html?icid=disidenav_fiscal-and-monetary-policy)\\n  + [Sustainability, Equity & Climate](/us/en/insights/research-centers/economics/sustainability-equity-climate.html?icid=disidenav_sustainability-equity-climate)\\n  + [Labor Markets](/us/en/insights/research-centers/economics/labor-markets.html?icid=disidenav_labor-markets)\\n  + [Prices & Inflation](/us/en/insights/research-centers/economics/prices-and-inflation.html?icid=disidenav_prices-and-inflation)\\n* Consumer\\n  + [Home](/us/en/insights/research-centers/consumer-industry-center.html?icid=disidenav_consumer-industry-center)\\n  + [Automotive](/us/en/insights/industry/automotive.html?icid=disidenav_automotive)\\n  + [Consumer Products](/us/en/insights/industry/consumer-products.html?icid=disidenav_consumer-products)\\n  + [Food](/us/en/insights/research-centers/consumer-industry-center/food.html?icid=disidenav_food)\\n  + [Retail, Wholesale & Distribution](/us/en/insights/industry/retail-distribution.html?icid=disidenav_retail-distribution)\\n  + [Hospitality](/us/en/insights/research-centers/consumer-industry-center/hospitality.html?icid=disidenav_hospitality)\\n  + [Airlines & Transportation](/us/en/insights/focus/transportation.html?icid=disidenav_transportation)\\n* Energy & Industrials\\n  + [Home](/us/en/insights/research-centers/center-energy-industrials.html?icid=disidenav_center-energy-industrials)\\n  + [Aerospace & Defense](/us/en/insights/industry/aerospace-defense.html?icid=disidenav_aerospace-defense)\\n  + [Chemicals & Specialty Materials](/us/en/insights/research-centers/center-energy-industrials/chemicals-and-specialty-materials.html?icid=disidenav_chemicals-and-specialty-materials)\\n  + [Engineering & Construction](/us/en/insights/research-centers/center-energy-industrials/engineering-and-construction.html?icid=disidenav_engineering-and-construction)\\n  + [Industrial Manufacturing](/us/en/insights/industry/manufacturing.html?icid=disidenav_manufacturing)\\n  + [Mining & Metals](/us/en/insights/industry/mining-and-metals.html?icid=disidenav_mining-and-metals)\\n  + [Oil & Gas](/us/en/insights/industry/oil-and-gas.html?icid=disidenav_oil-and-gas)\\n  + [Power & Utilities](/us/en/insights/industry/power-and-utilities.html?icid=disidenav_power-and-utilities)\\n  + [Renewable Energy](/us/en/insights/research-centers/center-energy-industrials/renewable-energy.html?icid=disidenav_renewable-energy)\\n* Financial Services\\n  + [Home](/us/en/insights/research-centers/center-for-financial-services.html?icid=disidenav_center-for-financial-services)\\n  + [Banking & Capital Markets](/us/en/insights/industry/banking-and-capital-markets.html?icid=disidenav_banking-and-capital-markets)\\n  + [Commercial Real Estate](/us/en/insights/industry/real-estate.html?icid=disidenav_real-estate)\\n  + [Insurance](/us/en/insights/industry/insurance.html?icid=disidenav_insurance)\\n  + [Investment Management](/us/en/insights/industry/investment-management.html?icid=disidenav_investment-management)\\n  + [Cross Financial Services](/us/en/insights/research-centers/center-for-financial-services/cross-industry.html?icid=disidenav_cross-industry)\\n* Government & Public Services\\n  + [Home](/us/en/insights/research-centers/center-for-government-insights.html?icid=disidenav_center-for-government-insights)\\n  + [Defense, Security & Justice](/us/en/insights/research-centers/center-for-government-insights/defense-security-justice.html?icid=disidenav_defense-security-justice)\\n  + [Government Health Care](/us/en/insights/research-centers/center-for-government-insights/government-health-care.html?icid=disidenav_government-health-care)\\n  + [State & Local Government](/us/en/insights/research-centers/center-for-government-insights/state-and-local-government.html?icid=disidenav_state-and-local-government)\\n  + [Whole of Government](/us/en/insights/research-centers/center-for-government-insights/whole-of-government.html?icid=disidenav_whole-of-government)\\n  + [Transportation & Infrastructure](/us/en/insights/research-centers/center-for-government-insights/transportation-infrastructure.html?icid=disidenav_transportation-infrastructure)\\n  + [Human Services](/us/en/insights/industry/public-sector/human-services.html?icid=disidenav_human-services)\\n  + [Higher Education](/us/en/insights/focus/reimagining-higher-education.html?icid=disidenav_reimagining-higher-education)\\n* Life Sciences & Health Care\\n  + [Home](/us/en/insights/research-centers/center-for-health-solutions.html?icid=disidenav_center-for-health-solutions)\\n  + [Hospitals, Health Systems & Providers\\u200b](/us/en/insights/research-centers/center-for-health-solutions/hospitals-health-systems-and-providers.html?icid=disidenav_hospitals-health-systems-and-providers)\\n  + [Pharmaceutical Manufacturers\\u200b](/us/en/insights/research-centers/center-for-health-solutions/pharmaceutical-manufacturers.html?icid=disidenav_pharmaceutical-manufacturers)\\n  + [Health Plans & Payers\\u200b](/us/en/insights/research-centers/center-for-health-solutions/health-plans-and-payers.html?icid=disidenav_health-plans-and-payers)\\n  + [Medtech & Health Tech Organizations](/us/en/insights/research-centers/center-for-health-solutions/medtech-and-health-tech-organizations.html?icid=disidenav_medtech-and-health-tech-organizations)\\n* Tech, Media & Telecom\\n  + [Home](/us/en/insights/research-centers/center-for-technology-media-telecommunications.html?icid=disidenav_center-for-technology-media-telecommunications)\\n  + [Technology](/us/en/insights/industry/technology.html?icid=disidenav_technology)\\n  + [Media & Entertainment](/us/en/insights/industry/media-and-entertainment.html?icid=disidenav_media-and-entertainment)\\n  + [Telecommunications](/us/en/insights/industry/telecommunications.html?icid=disidenav_telecommunications)\\n  + [Semiconductor](/us/en/insights/focus/semiconductor.html?icid=disidenav_semiconductor)\\n  + [Sports](/us/en/insights/focus/future-of-sports.html?icid=disidenav_future-of-sports)\\n\\n[![Deloitte Logo](/content/dam/insights/di-new-templates-images/deloitte-logo1.svg)](/us/en.html)\\n\\n![](/content/dam/shared/icons/misc/DEL_PRI_Insights_RGB.png)\\n[## Tech, Media & Telecom](/us/en/insights/research-centers/center-for-technology-media-telecommunications.html)\\n\\n* SECTORS\\n  + [Technology](/us/en/insights/industry/technology.html?icid=disubnav_technology)\\n  + [Media & Entertainment](/us/en/insights/industry/media-and-entertainment.html?icid=disubnav_media-and-entertainment)\\n  + [Telecommunications](/us/en/insights/industry/telecommunications.html?icid=disubnav_telecommunications)\\n  + [Semiconductor](/us/en/insights/focus/semiconductor.html?icid=disubnav_semiconductor)\\n  + [Sports](/us/en/insights/focus/future-of-sports.html?icid=disubnav_future-of-sports)\\n* RESEARCH CENTERS\\n  + [Cross-Industry](/us/en/insights/research-centers/center-for-integrated-research.html?icid=disubnav_center-for-integrated-research)\\n  + [Economics](/us/en/insights/research-centers/economics.html?icid=disubnav_economics)\\n  + [Consumer](/us/en/insights/research-centers/consumer-industry-center.html?icid=disubnav_consumer-industry-center)\\n  + [Energy & Industrials](/us/en/insights/research-centers/center-energy-industrials.html?icid=disubnav_center-energy-industrials)\\n  + [Financial Services](/us/en/insights/research-centers/center-for-financial-services.html?icid=disubnav_center-for-financial-services)\\n  + [Government & Public Services](/us/en/insights/research-centers/center-for-government-insights.html?icid=disubnav_center-for-government-insights)\\n  + [Life Sciences & Health Care](/us/en/insights/research-centers/center-for-health-solutions.html?icid=disubnav_center-for-health-solutions)\\n  + [Tech, Media & Telecom](/us/en/insights/research-centers/center-for-technology-media-telecommunications.html?icid=disubnav_center-for-technology-media-telecommunications)\\n\\n* For You\\n\\n  ### Welcome!\\n\\n  For personalized content and settings, go to your\\xa0[My Deloitte Dashboard](https://my.deloitte.com/?site=insights-us-en_en&action=optin&sub=a0C300000021TZR&nocheck=true&pl=en-US&pc=US&pi=sub%20Sign%20up/Sign%20in%20for%20MyDeloitte)\\n\\n  ### Latest Insights\\n\\n  [### Creating opportunity at the intersection of climate disruption and regulatory change\\n\\n  Article\\n  \\xa0•\\n  7-min read](/us/en/insights/environmental-social-governance/cxo-survey-sustainability-2024.html)\\n\\n  [### Better questions about generative AI\\n\\n  Article\\n  \\xa0•\\n  2-min read](/us/en/insights/topics/emerging-technologies/better-questions-about-generative-ai.html)\\n\\n  ### Recommendations\\n\\n  [### Tech Trends 2025\\n\\n  Article](/us/en/insights/focus/tech-trends.html)\\n\\n  [### TMT Predictions 2025\\n\\n  Article](/us/en/insights/industry/technology/technology-media-and-telecom-predictions.html)\\n\\n  ### About Deloitte Insights\\n\\n  [### About Deloitte Insights](/us/en/insights/about-deloitte-insights.html)\\n\\n  [### Deloitte Insights Magazine, issue 33\\n\\n  Magazine](/us/en/insights/deloitte-insights-magazine.html)\\n\\n  #### Topics for you\\n\\n  + [Business Strategy & Growth](/us/en/insights/topics/strategy.html?icid=topics-for-you_click)\\n  + [Leadership](/us/en/insights/topics/leadership.html?icid=topics-for-you_click)\\n  + [Operations](/us/en/insights/topics/operations.html?icid=topics-for-you_click)\\n  + [Marketing & Sales](/us/en/insights/topics/marketing-and-sales-operations.html?icid=topics-for-you_click)\\n  + [Diversity, Equity, & Inclusion](/us/en/insights/topics/value-of-diversity-and-inclusion.html?icid=topics-for-you_click)\\n  + [Emerging Technologies](/us/en/insights/topics/emerging-technologies.html?icid=topics-for-you_click)\\n  + [Economy](/us/en/insights/economy.html?icid=topics-for-you_click)\\n\\n  ### Watch & Listen\\n\\n  [### Dbriefs\\n\\n  Stay\\xa0informed on the issues impacting your business with Deloitte\\'s live webcast series. Gain valuable insights and practical knowledge from our specialists\\xa0while earning CPE credits.](/us/en/pages/dbriefs-webcasts/topics/upcoming-webcasts.html)\\n\\n  [### Deloitte Insights Podcasts\\n\\n  Join\\xa0host Tanya Ott as she interviews influential voices discussing the business\\xa0trends and challenges that matter most to your business today.](/us/en/insights/multimedia/podcasts.html)\\n\\n  ### Subscribe\\n\\n  [### Deloitte Insights Newsletters\\n\\n  Looking\\xa0to stay on top of the latest news and trends? With MyDeloitte you\\'ll never\\xa0miss out on the information you need to lead. Simply link your email or\\xa0social profile and select the newsletters and alerts that matter most to you.](https://my.deloitte.com/?site=insights-us-en_en&action=optin&sub=a0C300000021TZR&nocheck=true&pl=en-US&pc=US&pi=sub%20Sign%20up/Sign%20in%20for%20MyDeloitte)\\n\\n# Autonomous generative AI agents: Under development\\n\\n## Autonomous gen AI agents—agentic AI—could increase the productivity of knowledge workers and make workflows of all kinds more efficient. But the “autonomous” part may take time for wide adoption.\\n\\nArticle\\n\\xa0•\\n16-min read\\n\\xa0•\\n19 November 2024\\n\\xa0•\\nDeloitte Center for Technology Media & Telecommunications\\n\\n* Share\\n  + twitter\\n  + linkedin\\n  + facebook\\n* Print\\n\\n#### Jeff Loucks\\n\\nUnited States\\n\\n### Jeff Loucks\\n\\nExecutive director, Deloitte’s Center for Technology, Media & Telecommunications | Deloitte Services LP\\n\\nUnited States\\n\\nJeff Loucks is the executive director of Deloitte\\'s Center for Technology, Media & Telecommunications, Deloitte Services LP. He conducts research and writes on topics that help companies capitalize on technological change. An award-winning thought leader in digital business model transformation, Loucks is especially interested in the strategies organizations use to adapt to accelerating change.\\n\\n*jloucks@deloitte.com*\\n\\n*+1 614 477 0407*\\n\\n#### Gillian Crossan\\n\\nUnited States\\n\\n### Gillian Crossan\\n\\nPrincipal | Deloitte Risk and Financial Advisory\\n\\nUnited States\\n\\nGillian Crossan\\xa0is a principal in Risk & Financial Advisory, Deloitte & Touche LLP, and leads the Global Technology Industry Sector. She serves as the Global Lead Client Service partner for a $1B+ Digital Platform Company and a 360-degree relationship for Deloitte. Gillian has been with Deloitte for more than 25 years and has worked in both the UK and the US across sectors including energy, healthcare, consumer products, and technology and enjoys being at the heart of industry convergence. Gillian is passionate about working with organizations that are not just transforming themselves but are transforming our world.\\xa0Gillian is has always focused on Diversity, Equity, and Inclusion and works to support female client executives in preparing for corporate board service. In the past, she worked with the US Chief Inclusion officer to roll out Inclusion Councils and lead People and Purpose for the Global TMT Industry.\\n\\n*gicrossan@deloitte.com*\\n\\n*+1 206 716 6254*\\n\\n#### Baris Sarer\\n\\nUnited States\\n\\n### Baris Sarer\\n\\nConsulting Principal | TMT Strategy and Analytics\\n\\nUnited States\\n\\nBaris is the Global Leader of Deloitte’s AI Practice for the Technology, Media & Entertainment, and Telecom (TMT) industries. He is recognized as a thought leader, frequently contributing as a writer and speaker at industry forums, publications, and events. His insightful contributions have shaped discourse on the evolution of AI and its transformative impact on business, technology, and culture.\\n\\nWith over 20 years of experience, Baris has successfully guided C-suite executives in transforming their operations through data-driven strategies and intelligent technology investments that enhance business value. He has led numerous complex programs aimed at maximizing technology asset returns, monetizing data, and scaling AI capabilities.\\n\\nCurrently, Baris focuses on unlocking the potential of AI in the TMT industry, developing deep insights into the sector and understanding the emerging AI vendor ecosystem and opportunities for value creation and monetization.\\n\\nBefore joining Deloitte, Baris worked in the wireless communications industry for more than a decade, taking on various leadership roles in research & development, operations, and sales. He has advised clients and managed projects on a global scale.\\n\\n*bsarer@deloitte.com*\\n\\n*+1 212 313 2697*\\n\\n#### China Widener\\n\\nUnited States\\n\\n### China Widener\\n\\nUnited States\\n\\nWith over 25 years of professional experience, China leads Deloitte’s Technology, Media and Telecommunications Industry and offers a unique point of view on the future of this industry and its sectors. China brings a strong perspective on industry convergence and is passionate about the need for trustworthy AI. She has co-authored articles on use of technology frameworks in the enterprise, delivery model analysis, and closing the talent gap. China also serves on the Board of Directors , Deloitte US.\\n\\nAs a principal of Deloitte Consulting LLP, she has also led clients through technology-enabled business transformations and operating model optimizations to achieve performance outcomes and competitive advantage.\\n\\nChina is also a dedicated leader, working to help advance multiple Deloitte-wide DEI communities, including the Black Action Council, the LGBTQIA++ Community, and the East Asian and Southeast Asian Communities.\\n\\nFormerly, China spent 15 years in industry holding various C-suite roles including COO, Chief Inspector, and served as an Assistant Prosecuting Attorney and in-house Counsel. She is a highly sought-after speaker and facilitator. Her technology experience and career progression has been featured by several well-known podcasts and publications.\\n\\n*cwidener@deloitte.com*\\n\\n*+1 513 723 4174*\\n\\n#### Ariane Bucaille\\n\\nFrance\\n\\n### Ariane Bucaille\\n\\nGlobal Technology, Media & Telecommunications Industry Leader | Partner\\n\\nFrance\\n\\nAriane is a Partner and TMT Industry leader in France. She has 20+ of experience and is a chartered and certified public accountant. Her knowledge covers IFRS and publicly-listed company requirements as well as international audit and project coordination. She also leads the TMT Audit practice and her past experience includes audit of international media and technology groups and vendor due diligence assignments. She began her career with Arthur Andersen and joined Deloitte France in 2002.\\n\\n*abucaille@deloitte.fr*\\n\\nAutonomous generative AI agents, referred to as “agentic AI,” are software solutions that can complete complex tasks and meet objectives with little or no human supervision. Agentic AI is different from today’s chatbots and co-pilots, which themselves are often called “agents.” Agentic AI has the potential to make knowledge workers more productive and to automate multi-step processes across business functions. Deloitte predicts that in 2025, 25% of companies that use gen AI will launch agentic AI pilots or proofs of concept, growing to 50% in 2027.[1](#endnote-1) Some agentic AI applications, in some industries, and for some use cases, could see actual adoption into existing workflows in 2025, especially by the back half of the year.\\n\\nTheir efforts are being aided by startups and established tech companies developing agentic AI, both of which see the technology’s potential to spur revenue growth. Investors have poured over $2 billion into agentic AI startups in the past two years, focusing their investment on companies that target the enterprise market.[2](#endnote-2) Meanwhile, many tech companies, cloud providers, and others are developing their own agentic AI offerings. They are also making strategic acquisitions, and increasingly licensing agentic AI technology from startups and hiring their employees, instead of buying the companies outright.[3](#endnote-3)\\n\\n[## TMT Predictions 2025\\n\\nRead more from the Deloitte Center for Technology, Media & Telecommunications’ TMT Predictions 2025\\n\\n![Take me to TMT Predictions 2025.](https://www2.deloitte.com/content/dam/insights/us/USI-dev/2023/january/pitching-machine/assets/icon-arrow-up-green.png \"Take me to TMT Predictions 2025\")](/us/en/insights/industry/technology/technology-media-and-telecom-predictions/2025.html)\\n\\n## Agentic AI puts the “agency” in agent\\n\\nGen AI chatbots and co-pilots are sophisticated; they can interact intuitively with humans, synthesize complex information, and generate content. But they lack the degree of agency and autonomy that agentic AI promises. While chatbots and agents share the same foundation—large language models (LLM)—additional technologies and techniques enable agents to act independently, break a job down into discrete steps, and complete their work with minimal human supervision or intervention. AI agents don’t just interact. They more effectively reason and act on behalf of the user.\\n\\nAs its name suggests, agentic AI has “agency”: the ability to act, and to choose which actions to take.[4](#endnote-4) Agency implies autonomy, which is the power to act and make decisions *independently*.[5](#endnote-5) When we extend these concepts to agentic AI, we can say it can act on its own to plan, execute, and achieve a goal—it becomes “agentic”. [6](#endnote-6) The goals are set by humans, but the agents determine how to fulfill those goals.\\n\\nAn example can illustrate the difference between agentic AI and co-pilots and chatbots. Co-pilots that assist software developers by testing and suggesting code are one of the most successful gen AI use cases to date.[7](#endnote-7) They can make experienced software engineers more productive and increase the effectiveness of junior coders. They can convert natural language prompts (in multiple languages) into suggestions for code, and test code for consistency. But such co-pilots only respond to prompts from engineers and do not show agency. With agentic AI, the software “engineer” takes this a step further. A human coder can enter ideas for software through a prompt, and the agentic AI “software engineer” converts those ideas into executable code, a process that automates multiple steps in the software development process.\\n\\nFor example, Cognition Software launched “Devin” in March 2024 with the goal of creating an autonomous software engineer capable of reasoning, planning, and completing complex engineering tasks that require thousands of decisions.[8](#endnote-8) Devin was designed to perform programming jobs unassisted, based on natural language prompts from human programmers. These jobs include designing full applications, testing and fixing codebases, and training and tuning LLMs.[9](#endnote-9) Competitors like Codeium, which focuses on enterprise software development, and open-source versions of Devin, hit the market in summer 2024.[10](#endnote-10)\\n\\nAgentic AI software engineers share similar capabilities and vulnerabilities.[11](#endnote-11) One vulnerability is that they currently make too many errors to handle full, or even partial, jobs without human oversight. In a recent benchmarking test, Devin was able to resolve nearly 14% of GitHub issues\\xa0from real-world code repositories—twice as good as LLM-based chatbots,[12](#endnote-12) but not fully autonomous. Big tech companies[13](#endnote-13) and startups are striving to make agentic AI software engineers more autonomous and reliable, so human coders—and their employers—can trust them to handle parts of their workload (figure 1).\\n\\n### Share image\\n\\n* Share\\n  + twitter\\n  + linkedin\\n  + facebook\\n\\n### Or copy link\\n\\nCopy\\n\\n## Augmenting and amplifying labor productivity\\n\\nAgentic AI software engineers are just one example of how autonomous generative AI agents could transform how work is done (see [Promising use cases for autonomous gen AI agents](#promising-use)\\xa0below). As agentic AI improves, its impact could be enormous. There are over 100 million knowledge workers in the US, and over 1.25 billion knowledge workers globally.[14](#endnote-14) Total factor productivity,[15](#endnote-15) a useful proxy for knowledge work, has stagnated in the United States, growing 0.8% from 1987 to 2023 and only 0.5% from 2019 to 2023.[16](#endnote-16) In most OECD countries, the story is the same.[17](#endnote-17) Attempts to increase the productivity of knowledge work by automating tasks have met with only partial success. Many companies also need more knowledge workers. Shortfalls of customer service representatives, semiconductor engineers, and seemingly everything in between persist. When new workers start, they need to be productive quickly.\\n\\nExpert systems and robotic process automation (RPA) can falter when processes are ambiguous or require multiple steps. Systems based on traditional machine learning require extensive training, which is tailored for specific purposes. Built on LLMs, agentic AI can be more flexible, and it can address a broader range of use cases than machine learning or deep learning.\\n\\nAgentic AI can significantly advance the capabilities of LLMs and could vindicate the investments companies are making in gen AI. The public release of gen AI tools has quickly captured the attention of executives. It was easy to imagine how their organizations could use the technology. Quantifiable business value from gen AI has often been elusive, however. Challenges with data foundations, risk and governance policies, and talent gaps make it hard for companies to scale gen AI initiatives.[18](#endnote-18) Only 30% of gen AI pilots make it to full production.[19](#endnote-19) Lack of trust in gen AI output, and potential “real world” consequences from gen AI mistakes, give executives pause.[20](#endnote-20)\\n\\nCompanies that develop and implement agentic AI need to consider the challenges of gen AI, plus the complexity of building bots that can reason, act, collaborate, and create. Most importantly, gen AI agents of all kinds need to be reliable for enterprises to use them: Getting the job right most of the time isn’t enough. There are some use cases and applications in late 2024 that show encouraging signs of being reliable enough for adoption in early 2025.\\n\\nThe potential payoff is worth the effort, however, and early results seem promising. Companies are learning how to boost LLM performance by combining these models with other AI technologies and training techniques. While autonomous and reliable agents are the goal, incremental increases in accuracy and independence could help companies reach their early productivity and efficiency goals for gen AI overall.[21](#endnote-21) With their range of applications—both horizontal and vertical—and clear business goals, agentic AI looks more like the gen AI solutions executives may have expected in the first place.\\n\\n## Gen AI agents explained: A closer look\\n\\nGenerative AI agents can break down a complex task into a series of steps, execute them, and work through unexpected barriers. They can sense their environment, which depending on the use case can be virtual, physical, or a combination of the two. To complete a task, agentic AI can determine which actions to take, recruit assistance from tools, databases, and other agents, and deliver results based on its goals set by humans.\\n\\nAgentic AI is an emerging technology—and it continues to evolve—but it has some common characteristics and capabilities:\\n\\n* **Built on foundation models:** Foundation models like LLMs enable agentic AI to reason, analyze, and adapt to complex and unpredictable workflows. This makes it more flexible than RPA and expert systems. LLMs are improving rapidly, with enhanced reasoning and ability to break tasks into smaller steps among the most recent breakthroughs.[22](#endnote-22) But foundation models alone can’t interact with their environment, make decisions, or execute tasks.[23](#endnote-23) They must be augmented by other technologies and capabilities.\\n* **Acts autonomously:** While the degree of autonomy varies, agentic AI can be trained to plan and execute complex tasks largely on its own. By introducing reasoning tokens, chain-of-thought models can solve more complex challenges than previous LLMs. Chain-of-thought models are slower to respond but are more deliberative in how they reason through a problem; they can correct their own errors; and they can show the steps they have taken to reach a solution.[24](#endnote-24)\\n* **Senses the environment:** Agentic AI can perceive the environment, process information, and understand the context of the tasks it is given.[25](#endnote-25) Advanced agentic AI can process multimodal data, such as videos, images, audio, text, and numbers.\\n* **Uses tools:** Agentic AI interacts with tools and systems to complete tasks, such as software, enterprise applications, and the internet.\\n* **Orchestrates:** Agentic AI can direct the participation of other systems and bots to complete a task. With multiagent systems, this means collaborating with other autonomous generative AI agents.\\n* **Accesses memory:** LLMs are stateless: Each interaction is processed independently, and information is not retained when an interaction is complete. With the addition of retrieval mechanisms and databases, agentic AI can access short-term memory to maintain context while performing a specific task, and long-term memory to learn and improve from experience.[26](#endnote-26)\\n\\nStartups and big tech are developing multiagent gen AI systems, including tools that can help organizations build their own custom agents.\\n\\nSome of the latest models employ chain-of-thought functions that, while slower and more deliberative than prior large-scale models, enable higher-order reasoning on complex problems.[27](#endnote-27) Multimodal data analysis can make agentic AI more flexible by expanding the kinds of data that can be interpreted and produced. Multimodal AI also shows that agentic AI can be even more powerful when combined with other kinds of AI technologies such as computer vision (image recognition), and transcription and translation.[28](#endnote-28) Like agents themselves, multimodal AI is still developing.\\n\\nTrue multiagent systems, in which work is orchestrated among a network of autonomous agents, are being developed now, with some pilots being launched in late 2024.[29](#endnote-29) Multiagent models often outperform single-model systems by distributing tasks, especially in complex environments.[30](#endnote-30) Startups and big tech are developing multiagent gen AI systems, including tools that can help organizations build their own custom agents.[31](#endnote-31)\\n\\n## Promising use cases for autonomous gen AI agents\\n\\nBig tech companies and startups are developing early-stage solutions that can partially automate functions like software development, sales, marketing, and regulatory compliance. What follows is a snapshot of today’s examples, not an exhaustive list of applications. Some are based on proofs of concept and demos that are promising but are not ready for enterprise deployment. While these examples are cross-industry, industry-specific agentic applications are also emerging.\\n\\n**Customer support:** Customer service is an essential—and often stressful—job, with an annual turnover rate of 38%.[32](#endnote-32) Effective automation of parts of the customer support workflow could reduce stress and tedium for staff, and help companies serve more customers.[33](#endnote-33) Agentic AI can handle more complex customer inquiries than today’s customer support chatbots, and they can act autonomously to resolve issues. In one example, an audio company is using agentic AI to help customers set up new equipment, a multistep process that usually requires a human agent. If a human agent is required, the agentic AI compiles relevant information and summarizes the issue before transferring the customer.[34](#endnote-34) The next wave of customer support agents will likely integrate multimodal data such as voice and video in addition to text-based chat.\\n\\n**Cybersecurity:** Cybersecurity experts epitomize the shortage of skilled knowledge workers: Globally, there’s a shortfall of four million today.[35](#endnote-35) Meanwhile, malicious actors are using gen AI to infiltrate cybersecurity systems. Emerging agentic cybersecurity systems can make human experts more efficient by automating aspects of their work. They can autonomously detect attacks and generate reports, improving system security and reducing the workload of human experts by up to 90%.[36](#endnote-36) Agentic AI can also help software development teams detect vulnerabilities in new code. It can run tests and communicate directly with developers to explain how to fix a problem—something human engineers must do manually today.[37](#endnote-37)\\n\\n**Regulatory compliance:** Companies across industries, including financial services and healthcare, are required to conduct periodic regulatory compliance reviews. The increased size and complexity of relevant regulations, and the dearth of compliance professionals, makes compliance a growing challenge. Startups are developing agentic AI that can analyze regulations and corporate documents, and quickly determine whether the company is compliant. The agent can cite specific regulations, and proactively provide analysis and advice to human regulatory professionals.[38](#endnote-38) Companies that use gen AI today cite regulatory compliance as their top barrier to developing and deploying gen AI, ahead of issues like a lack of AI technical talent, and implementation challenges.[39](#endnote-39) Regulatory uncertainty plays a role, but so does the reach and complexity of new regulations. By helping companies understand and comply with regulations as they’re enacted, a more agentic AI solution could help accelerate wider gen AI adoption across enterprises.\\n\\n**Agent builders and orchestrators:** Agentic AI solutions are emerging to help automate other cross-industry and vertical-specific workflows. Companies may not need to wait for the market, however. They can build their own agents and multiagent systems. With Google’s Vertex, companies can use no-code tools to create agents for specific tasks, such as building marketing collateral based on previous marketing campaigns.[40](#endnote-40) LangChain uses open-source technology to help companies construct multiagentic systems. For example, startup Paradigm has launched a “smart spreadsheet” in which multiple agentic AIs partner to collect data from diverse sources, structure it, and complete tasks.[41](#endnote-41)\\n\\n## Bottom line\\n\\nAgentic AI has enormous potential to help increase the productivity of knowledge workers by automating entire workflows and discrete tasks. Its ability to take independent action, as single agents or in concert with other agents, sets it apart from today’s chatbots and co-pilots. Yet, agentic AI is in the early stages of development and adoption. As impressive as early agentic examples may be, these agents can make mistakes and get stuck in loops. In multiagent systems, “hallucinations” can spread from one agent to another; they can persuade other agents to take the wrong steps and give incorrect answers.[42](#endnote-42) Although agentic AI can be mainly autonomous, often having a human review decisions after they’ve been made (also known as “human on the loop” rather than the more restrictive “human in the loop”) can make agentic AI more suitable for deployment today. When gen AI agents get stuck, they can consult human experts who help them resolve the challenge and move forward. In this model, agentic AI is like a junior employee who can learn by experience while performing valuable work.[43](#endnote-43)\\n\\nBecause the vision for agentic AI is compelling and the technology is evolving rapidly, companies should prepare themselves now.\\n\\nWhile some companies are investing billions to create consistent and reliable agentic AI, it’s not clear when this will happen, or under what circumstances. Will agentic AI reach widespread adoption in 2025, or within the next five years? Will ubiquity require breakthrough innovation, or tweaking current AI technologies and training methods? If the big companies and startups developing agentic AI are successful, the game will change quickly. Imagine autonomous gen AI agents that can process multimodal data, use tools, orchestrate other agents, remember and learn, and execute tasks consistently and reliably. Imagine further that custom agents can be quickly and easily developed by enterprises in “no-code environments” using just conversational text prompts.\\n\\nBecause the vision for agentic AI is compelling and the technology is evolving rapidly, companies should prepare themselves now. As they prepare, they should consider the following approaches.\\n\\n**Prioritize and redesign workflows for agentic AI:** Consider which tasks and workflows are well-suited for agentic AI to execute, based on the technology’s capabilities and where the highest value is for your company. Redesign them to remove unnecessary steps. Ensure that agentic AI solutions have a clear goal, and access to the data, tools, and systems they will require. Although these agents can help other agents navigate their environment, cluttered and sub-optimized processes could deliver disappointing results.\\n\\n**Focus on data governance and cybersecurity:** For agentic AI to deliver value, it must have access to valuable and potentially sensitive enterprise data, as well as internal systems and external resources. Companies should put strong data governance and cybersecurity in place before getting started with autonomous generative AI agents. For gen AI early adopters, the top areas where they’re increasing IT investment are data management (75%) and cybersecurity (73%).[44](#endnote-44) Despite these investments, 58% are highly concerned about using sensitive data in models and managing data security. And only 23% say they’re highly prepared for managing gen AI risk and governance. In short, many of today’s gen AI leaders seem unprepared for the advent of agentic AI. If these leaders are not ready, companies that are still on the gen AI sidelines surely have further to go.\\n\\n**Balance risk and reward:** When starting with agentic AI, companies should consider the level of autonomy and data access agents are permitted. Low risk use cases with non-critical data and human oversight can help companies build the data management, cybersecurity, and governance for safe agentic AI applications. Once these are in place, companies should consider higher value use cases that use strategic data, access to more tools, and more autonomy.\\n\\n**Maintain healthy skepticism:** Agentic AI is evolving and will likely be more capable in the next year, and will be applied to more horizontal and vertical-specific use cases. Expect impressive demos, simulations, and product announcements throughout 2025. But the challenges we’ve noted may take some time to resolve. Until these challenges are addressed, agentic AI performance in controlled settings is unlikely to deliver improved enterprise performance. Evaluate and question carefully.\\n\\n### Continue the conversation\\n\\n##### Meet the industry leader\\n\\n![Img](https://www2.deloitte.com/content/dam/assets-zone2/fr/fr/img/profiles/a-d/arianne-bucaille.jpg)\\n\\nAriane Bucaille\\n\\nGlobal Technology, Media & Telecommunications Industry leader\\n\\n![Img](${leaderImageLink2})\\n\\n${leaderName2}\\n\\n${leaderRole2}\\n\\n![Img](${leaderImageLink3})\\n\\n${leaderName3}\\n\\n${leaderRole3}\\n\\n![Img](${leaderImageLink4})\\n\\n${leaderName4}\\n\\n${leaderRole4}\\n\\n![Img](${leaderImageLink5})\\n\\n${leaderName5}\\n\\n${leaderRole5}\\n\\n![Img](${leaderImageLink6})\\n\\n${leaderName6}\\n\\n${leaderRole6}\\n\\n#### Let’s make this work.\\n\\nChange your Analytics and performance cookie settings to access this feature.\\n\\n### By\\n\\n#### Jeff Loucks\\n\\nUnited States\\n\\n### Jeff Loucks\\n\\nExecutive director, Deloitte’s Center for Technology, Media & Telecommunications | Deloitte Services LP\\n\\nUnited States\\n\\nJeff Loucks is the executive director of Deloitte\\'s Center for Technology, Media & Telecommunications, Deloitte Services LP. He conducts research and writes on topics that help companies capitalize on technological change. An award-winning thought leader in digital business model transformation, Loucks is especially interested in the strategies organizations use to adapt to accelerating change.\\n\\n*jloucks@deloitte.com*\\n\\n*+1 614 477 0407*\\n\\n#### Gillian Crossan\\n\\nUnited States\\n\\n### Gillian Crossan\\n\\nPrincipal | Deloitte Risk and Financial Advisory\\n\\nUnited States\\n\\nGillian Crossan\\xa0is a principal in Risk & Financial Advisory, Deloitte & Touche LLP, and leads the Global Technology Industry Sector. She serves as the Global Lead Client Service partner for a $1B+ Digital Platform Company and a 360-degree relationship for Deloitte. Gillian has been with Deloitte for more than 25 years and has worked in both the UK and the US across sectors including energy, healthcare, consumer products, and technology and enjoys being at the heart of industry convergence. Gillian is passionate about working with organizations that are not just transforming themselves but are transforming our world.\\xa0Gillian is has always focused on Diversity, Equity, and Inclusion and works to support female client executives in preparing for corporate board service. In the past, she worked with the US Chief Inclusion officer to roll out Inclusion Councils and lead People and Purpose for the Global TMT Industry.\\n\\n*gicrossan@deloitte.com*\\n\\n*+1 206 716 6254*\\n\\n#### Baris Sarer\\n\\nUnited States\\n\\n### Baris Sarer\\n\\nConsulting Principal | TMT Strategy and Analytics\\n\\nUnited States\\n\\nBaris is the Global Leader of Deloitte’s AI Practice for the Technology, Media & Entertainment, and Telecom (TMT) industries. He is recognized as a thought leader, frequently contributing as a writer and speaker at industry forums, publications, and events. His insightful contributions have shaped discourse on the evolution of AI and its transformative impact on business, technology, and culture.\\n\\nWith over 20 years of experience, Baris has successfully guided C-suite executives in transforming their operations through data-driven strategies and intelligent technology investments that enhance business value. He has led numerous complex programs aimed at maximizing technology asset returns, monetizing data, and scaling AI capabilities.\\n\\nCurrently, Baris focuses on unlocking the potential of AI in the TMT industry, developing deep insights into the sector and understanding the emerging AI vendor ecosystem and opportunities for value creation and monetization.\\n\\nBefore joining Deloitte, Baris worked in the wireless communications industry for more than a decade, taking on various leadership roles in research & development, operations, and sales. He has advised clients and managed projects on a global scale.\\n\\n*bsarer@deloitte.com*\\n\\n*+1 212 313 2697*\\n\\n#### China Widener\\n\\nUnited States\\n\\n### China Widener\\n\\nUnited States\\n\\nWith over 25 years of professional experience, China leads Deloitte’s Technology, Media and Telecommunications Industry and offers a unique point of view on the future of this industry and its sectors. China brings a strong perspective on industry convergence and is passionate about the need for trustworthy AI. She has co-authored articles on use of technology frameworks in the enterprise, delivery model analysis, and closing the talent gap. China also serves on the Board of Directors , Deloitte US.\\n\\nAs a principal of Deloitte Consulting LLP, she has also led clients through technology-enabled business transformations and operating model optimizations to achieve performance outcomes and competitive advantage.\\n\\nChina is also a dedicated leader, working to help advance multiple Deloitte-wide DEI communities, including the Black Action Council, the LGBTQIA++ Community, and the East Asian and Southeast Asian Communities.\\n\\nFormerly, China spent 15 years in industry holding various C-suite roles including COO, Chief Inspector, and served as an Assistant Prosecuting Attorney and in-house Counsel. She is a highly sought-after speaker and facilitator. Her technology experience and career progression has been featured by several well-known podcasts and publications.\\n\\n*cwidener@deloitte.com*\\n\\n*+1 513 723 4174*\\n\\n* Share\\n  + twitter\\n  + linkedin\\n  + facebook\\n* Print\\n\\n### Endnotes\\n\\n1. We make this Prediction based in part on soon-to-be-published data from an enterprise survey on AI, including agentic AI. Given the high interest in agentic AI and the products and services that are being launched by startups and established tech companies, we expect this interest to turn to action, at least on an experimental scale.\\n\\n   [View in Article](#endnote-sup-1)\\n2. CB Insights. Gen AI Investment Database, Aug 21, 2024. This data excludes Open AI. It includes funding to companies that are developing agentic AI with “varying degrees of autonomy.”\\n\\n   [View in Article](#endnote-sup-2)\\n3. Kate Clark, “[Investors undaunted by spate of AI acqui-hires](https://www.theinformation.com/articles/investors-undaunted-by-spate-of-ai-acqui-hires?rc=sbdjv8),”\\xa0*The Information*, Aug. 19, 2024.\\n\\n   [View in Article](#endnote-sup-3)\\n4. Cambridge English Dictionary, “[Agency](https://dictionary.cambridge.org/us/dictionary/english/agency),” accessed Aug. 26, 2024.\\n\\n   [View in Article](#endnote-sup-4)\\n5. Cambridge English Dictionary, “[Autonomous](https://dictionary.cambridge.org/us/dictionary/english/autonomous),” accessed Aug. 26, 2024.\\n\\n   [View in Article](#endnote-sup-5)\\n6. For humans, agency and autonomy are moral and political concepts. In the context of gen AI agents, we are speaking only of the extent to which software-based technology has scope to design and perform tasks without human direction.\\n\\n   [View in Article](#endnote-sup-6)\\n7. Faruk Muratovic, Duncan Stewart, and Prashant Raman, “[Tech companies lead the way on generative AI: Does code deserve the credit?](https://www2.deloitte.com/us/en/insights/industry/technology/gen-ai-coding-tools.html)”\\xa0*Deloitte Insights*, Aug. 2, 2024.\\n\\n   [View in Article](#endnote-sup-7)\\n8. Scott Wu, “[Introducing Devin, the first AI software engineer](https://www.cognition.ai/blog/introducing-devin),” Cognition Software, March 12, 2024.\\n\\n   [View in Article](#endnote-sup-8)\\n9. Rina Diane Caballar, “[AI Coding is going from copilot to autopilot](https://spectrum.ieee.org/ai-code-generator),”\\xa0*IEEE Spectrum*, April 9, 2024.\\n\\n   [View in Article](#endnote-sup-9)\\n10. Jenna Barron, “[Codeium’s new Cortex assistant utilizes complex reasoning engine for coding help](https://sdtimes.com/ai/codeiums-new-cortex-assistant-utilizes-complex-reasoning-engine-for-coding-help/),”\\xa0*SD Times*, Aug. 14, 2024; Aswin Ak, “[OpenDevin: An artificial intelligence platform for the development of powerful AI agents that interact in similar ways to those of a human developer](https://www.marktechpost.com/2024/07/28/opendevin-an-artificial-intelligence-platform-for-the-development-of-powerful-ai-agents-that-interact-in-similar-ways-to-those-of-a-human-developer/),”\\xa0*Marktechpost*, July 28, 2024.\\n\\n    [View in Article](#endnote-sup-10)\\n11. Carl Franzen, “[Codium announces Codiumate, a new AI agent that seeks to be Devin for enterprise software development](https://venturebeat.com/programming-development/codium-announces-codiumate-a-new-ai-agent-that-seeks-to-be-devin-for-enterprise-software-development/),”\\xa0*VentureBeat*, April 3, 2024.\\n\\n    [View in Article](#endnote-sup-11)\\n12. Cognition Software, “[SWE-bench technical report](https://www.cognition.ai/blog/swe-bench-technical-report),” March 15, 2024.\\n\\n    [View in Article](#endnote-sup-12)\\n13. Big tech companies continue to improve their software co-pilots to make them more like gen AI agents. For example, see: Alex Woodie, “[The semi-autonomous agents of amazon Q](https://www.datanami.com/2024/05/03/the-semi-autonomous-agents-of-amazon-q/),”\\xa0*BigDATAWire*, May 3, 2024.\\n\\n    [View in Article](#endnote-sup-13)\\n14. Molly Talbert, “[Overcoming disruption in a distributed world: Insights from the Anatomy of Work Index 2021](https://asana.com/resources/anatomy-of-work-index),” Asana, January 14, 2024.\\n\\n    [View in Article](#endnote-sup-14)\\n15. Total factor productivity, which measures how efficiently both capital and labour are used, can be a proxy for knowledge worker efficiency. Knowledge work requires access to capital-intensive technology, and effectively designed processes.\\n\\n    [View in Article](#endnote-sup-15)\\n16. US Bureau of Labor Statistics, “[Table A. Productivity, output, and inputs in the private nonfarm business and private business sectors for selected periods, 1987-2023](https://www.bls.gov/news.release/prod3.ta.htm),” March 3, 2024.\\n\\n    [View in Article](#endnote-sup-16)\\n17. Organisation for Economic Co-operation and Development, “[Multifactor productivity](https://www.oecd.org/en/data/indicators/multifactor-productivity.html),” accessed Oct. 30, 2024.\\n\\n    [View in Article](#endnote-sup-17)\\n18. Jim Rowan, Beena Ammanath, Costi Perricos, Brenna Sniderman, and David Jarvis,\\xa0[State of gen AI in the Enterprise](https://www2.deloitte.com/us/en/pages/consulting/articles/state-of-generative-ai-in-enterprise.html), Q3 report, Deloitte, August 2024.\\n\\n    [View in Article](#endnote-sup-18)\\n19. Ibid.\\n\\n    [View in Article](#endnote-sup-19)\\n20. Ibid.\\n\\n    [View in Article](#endnote-sup-20)\\n21. Ibid.\\n\\n    [View in Article](#endnote-sup-21)\\n22. James O’Donnell, “[Why OpenAI’s new model is such a big deal](https://www.technologyreview.com/2024/09/17/1104004/why-openais-new-model-is-such-a-big-deal/),”\\xa0*MIT Technology Review*, Sept. 17, 2024.\\n\\n    [View in Article](#endnote-sup-22)\\n23. Janakiram MSV, “[AI agents: Key concepts and how they overcome LLM limitations](https://thenewstack.io/ai-agents-key-concepts-and-how-they-overcome-llm-limitations/#:~:text=LLMs%20are%20often%20poor%20at,learned%20from%20vast%20textual%20datasets),”\\xa0*The New Stack*, June 11, 2024.\\n\\n    [View in Article](#endnote-sup-23)\\n24. “OpenAI, “[Learning to Reason with LLMs](https://openai.com/index/learning-to-reason-with-llms/),” Sept. 12, 2024.\\n\\n    [View in Article](#endnote-sup-24)\\n25. Anna Gutowska, “[What are AI Agents?](https://www.ibm.com/think/topics/ai-agents)” IBM, July 3, 2024.\\n\\n    [View in Article](#endnote-sup-25)\\n26. Janakiram MSV, “[AI agents: Key concepts and how they overcome LLM limitations](https://thenewstack.io/ai-agents-key-concepts-and-how-they-overcome-llm-limitations/#:~:text=LLMs%20are%20often%20poor%20at,learned%20from%20vast%20textual%20datasets).”\\n\\n    [View in Article](#endnote-sup-26)\\n27. Simon Willison, “[Notes on OpenAI’s new o1 chain-of-thought models](https://simonwillison.net/2024/Sep/12/openai-o1/),” Simon Willison’s Blog, Sept. 12, 2024.\\n\\n    [View in Article](#endnote-sup-27)\\n28. Hamidou Dia, “[So much more than gen AI: Meet all the other AI making AI agents possible](https://cloud.google.com/transform/more-than-gen-ai-other-ai-ml-technologies-making-ai-agents),” Google Cloud Blog, Aug. 20, 2024.\\n\\n    [View in Article](#endnote-sup-28)\\n29. Vivek Kulkarni, Scott Holcomb, Prakul Sharma, Edward Van Buren and Caroline Ritter, “[How AI agents are reshaping the future of work](https://www2.deloitte.com/us/en/pages/consulting/articles/generative-ai-agents-multiagent-systems.html),” Deloitte AI Institute, November 2024.\\n\\n    [View in Article](#endnote-sup-29)\\n30. *The Economist*, “[Today’s AI models are impressive. Teams of them will be formidable](https://www.economist.com/science-and-technology/2024/05/13/todays-ai-models-are-impressive-teams-of-them-will-be-formidable),” May 13, 2024.\\n\\n    [View in Article](#endnote-sup-30)\\n31. CB Insights, “[The multi-agent AI outlook: Here’s what you need to know about the next major development in genAI](https://www.cbinsights.com/research/multi-agent-ai-outlook/),” Aug. 30, 2024.\\n\\n    [View in Article](#endnote-sup-31)\\n32. Mike Desmarais, “[The call center burnout problem](https://www.sqmgroup.com/resources/library/blog/call-center-burnout-rate-problem),” SQM Group, Feb. 24, 2023.\\n\\n    [View in Article](#endnote-sup-32)\\n33. It’s important to balance the work of human agents. When they get only the most complicated and difficult cases, it can lead to burnout. See Sue Cantrell, et al., “[Strengthening the bonds of human and machine collaboration](https://www2.deloitte.com/us/en/insights/topics/talent/human-machine-collaboration.html),”\\xa0*Deloitte Insights*, Nov. 22, 2022.\\n\\n    [View in Article](#endnote-sup-33)\\n34. Sierra, “[Sonos elevates the listener experience](https://sierra.ai/customers/sonos),” Feb. 13, 2024.\\n\\n    [View in Article](#endnote-sup-34)\\n35. Michelle Meineke, “[The cybersecurity industry has an urgent talent shortage. Here’s how to plug the gap](https://www.weforum.org/agenda/2024/04/cybersecurity-industry-talent-shortage-new-report/),” World Economic Forum, April 28, 2024.\\n\\n    [View in Article](#endnote-sup-35)\\n36. Ken Yeung, “[Dropzone AI gets $16.85M for autonomous cybersecurity AI agents that reduce manual work by 90 percent](https://venturebeat.com/ai/dropzone-ai-raises-17m-from-theory-ventures-for-its-autonomous-cybersecurity-ai-agents/),”\\xa0*VentureBeat*, April 25, 2024.\\n\\n    [View in Article](#endnote-sup-36)\\n37. Simon Thomsen, “[Software development cybersec startup Nullify banks $1.1 million pre-seed round](https://www.startupdaily.net/topic/funding/software-development-cybersec-startup-nullify-banks-1-1-million-pre-seed-round/),”\\xa0*Startup Daily*, June 26, 2023.\\n\\n    [View in Article](#endnote-sup-37)\\n38. Kyt, Dotson, “[Norm Ai raises $27M to help businesses handle regulatory compliance with AI agents](https://siliconangle.com/2024/06/26/norm-ai-raises-27m-help-businesses-handle-regulatory-compliance-ai-agents/),”\\xa0*SiliconANGLE*, June 26, 2024.\\n\\n    [View in Article](#endnote-sup-38)\\n39. Rowan,\\xa0[State of Generative AI in the Enterprise](https://www2.deloitte.com/us/en/pages/consulting/articles/state-of-generative-ai-in-enterprise.html), Q3 report.\\n\\n    [View in Article](#endnote-sup-39)\\n40. Ron Miller, “[With Vertex AI Agent Builder, Google Cloud aims to simplify agent creation](https://techcrunch.com/2024/04/09/with-vertex-ai-agent-builder-google-cloud-aims-to-simplify-agent-creation/),”\\xa0*TechCrunch*, April 9, 2024.\\n\\n    [View in Article](#endnote-sup-40)\\n41. Iris Coleman, “[Paradigm utilizes LangChain and LangSmith for advanced AI-driven spreadsheets](https://blockchain.news/news/paradigm-utilizes-langchain-langsmith-ai-spreadsheets),”\\xa0*Blockchain.News*, Sept. 5, 2024.\\n\\n    [View in Article](#endnote-sup-41)\\n42. *The Economist*, “[Today’s AI models are impressive](https://www.economist.com/science-and-technology/2024/05/13/todays-ai-models-are-impressive-teams-of-them-will-be-formidable).”\\n\\n    [View in Article](#endnote-sup-42)\\n43. Maria Korolov, “[AI agents will transform business processes — and magnify risks](https://www.cio.com/article/3489045/ai-agents-will-transform-business-processes-and-magnify-risks.html),”\\xa0*CIO*, Aug. 21, 2024.\\n\\n    [View in Article](#endnote-sup-43)\\n44. Rowan,\\xa0[State of Generative AI in the Enterprise](https://www2.deloitte.com/us/en/pages/consulting/articles/state-of-generative-ai-in-enterprise.html), Q3 report.\\n\\n    [View in Article](#endnote-sup-44)\\n\\n### Acknowledgments\\n\\nAuthors would like thank **Chris Arkenberg**, **Duncan Stewart**, and **Ankit Dhameja**.\\n\\nCover image by: **Jaime Austin**; Getty Images, Adobe Stock.\\n\\n### Copyright and legal information\\n\\n*This article contains general information and predictions only and Deloitte is not, by means of this article, rendering accounting, business, financial, investment, legal, tax, or other professional advice or services. This article is not a substitute for such professional advice or services, nor should it be used as a basis for any decision or action that may affect your business. Before making any decision or taking any action that may affect your business, you should consult a qualified professional advisor.*\\n\\n*Deloitte shall not be responsible for any loss sustained by any person who relies on this article.*\\n\\n***About Deloitte***\\n\\n*Deloitte refers to one or more of Deloitte Touche Tohmatsu Limited, a UK private company limited by guarantee (“DTTL”), its network of member firms, and their related entities. DTTL and each of its member firms are legally separate and independent entities. DTTL (also referred to as “Deloitte Global”) does not provide services to clients. In the United States, Deloitte refers to one or more of the US member firms of DTTL, their related entities that operate using the “Deloitte” name in the United States and their respective affiliates. Certain services may not be available to attest clients under the rules and regulations of public accounting. Please see\\xa0[www.deloitte.com/about](http://www.deloitte.com/about)\\xa0to learn more about our global network of member firms.*\\n\\n#### Visit the Deloitte Center for Technology, Media & Telecommunications\\n\\n[Get more insights](https://www2.deloitte.com/us/en/insights/research-centers/center-for-technology-media-telecommunications.html?icid=get-more-insights_click)\\n\\nAccess more insights for the technology, media, and entertainment; semiconductor; telecommunication; and sports sectors.\\n\\n### Related Content\\n\\n[### Tech companies lead the way on generative AI: Does code deserve the credit?\\n\\nAre gen AI coding tools the thin edge of the wedge that can lead to wider use of gen AI across all industries?\\n\\nArticle\\n\\xa0•\\n5-min read](/us/en/insights/industry/technology/gen-ai-coding-tools.html)\\n\\n[### 2024 Digital Media Trends\\n\\nMedia and entertainment companies should be thinking more about the world ahead than the one they’re being forced to leave behind.\\n\\nArticle](/us/en/insights/industry/technology/digital-media-trends-consumption-habits-survey.html)\\n\\n[### Three ways generative AI can drive industry advantage\\n\\nAs investments in gen AI for business strategy begin to show value, organizations can identify the strategies that lead to greater industry advantage.\\n\\nArticle\\n\\xa0•\\n8-min read](/us/en/insights/topics/strategy/artificial-intelligence-in-business.html)\\n\\n[### Focusing on the foundation: How digital transformation investments have changed in 2024\\n\\nA year-over-year analysis of tech investments reveals changing priorities. What do these changes mean for tech ROI and digital value?\\n\\nArticle\\n\\xa0•\\n7-min read](/us/en/insights/topics/digital-transformation/where-are-organizations-getting-the-most-roi-from-tech-investments.html)\\n\\n#### EXPLORE MORE TOPICS IN THIS ARTICLE\\n\\n* [Media & Entertainment](/us/en/insights/tags/media-and-entertainment.html.html?icid=explore-more-topics-in-this-article_click)\\n* [Technology Industry](/us/en/insights/tags/technology-industry.html.html?icid=explore-more-topics-in-this-article_click)\\n\\nDeloitte Insights and our research centers deliver proprietary research designed to help organizations turn their aspirations into action.\\n\\n#### Deloitte Insights\\n\\n* [Home](/us/en/insights.html?icid=dibottom_insights)\\n* [Topics](/us/en/insights/topic.html?icid=dibottom_topic)\\n* [Industries](/us/en/insights/industries.html?icid=dibottom_industries)\\n* [About Deloitte Insights](/us/en/insights/about-deloitte-insights.html?icid=dibottom_about-deloitte-insights)\\n\\n#### DELOITTE RESEARCH CENTERS\\n\\n* [Cross-Industry](/us/en/insights/research-centers/center-for-integrated-research.html?icid=dibottom_center-for-integrated-research)\\n* [Economics](/us/en/insights/research-centers/economics.html?icid=dibottom_economics)\\n* [Consumer](/us/en/insights/research-centers/consumer-industry-center.html?icid=dibottom_consumer-industry-center)\\n* [Energy & Industrials](/us/en/insights/research-centers/center-energy-industrials.html?icid=dibottom_center-energy-industrials)\\n* [Financial Services](/us/en/insights/research-centers/center-for-financial-services.html?icid=dibottom_center-for-financial-services)\\n* [Government & Public Services](/us/en/insights/research-centers/center-for-government-insights.html?icid=dibottom_center-for-government-insights)\\n* [Life Sciences & Health Care](/us/en/insights/research-centers/center-for-health-solutions.html?icid=dibottom_center-for-health-solutions)\\n* [Tech, Media & Telecom](/us/en/insights/research-centers/center-for-technology-media-telecommunications.html?icid=dibottom_center-for-technology-media-telecommunications)\\n\\n[![Deloitte logo](/content/dam/insights/di-new-templates-images/DEL_SEC_RGB_70x15.png \"DELOITTE\")](/us/en.html)\\n\\nLearn about Deloitte’s offerings, people, and culture as a global provider of audit, assurance, consulting, financial advisory, risk advisory, tax, and related services.\\n\\n© 2025. See [Terms of Use](https://www2.deloitte.com/us/en/legal/terms-of-use.html) for more information.\\n\\nDeloitte refers to one or more of Deloitte Touche Tohmatsu Limited, a UK private company limited by guarantee (\"DTTL\"), its network of member firms, and their related entities. DTTL and each of its member firms are legally separate and independent entities. DTTL (also referred to as \"Deloitte Global\") does not provide services to clients. In the United States, Deloitte refers to one or more of the US member firms of DTTL, their related entities that operate using the \"Deloitte\" name in the United States and their respective affiliates. Certain services may not be available to attest clients under the rules and regulations of public accounting. Please see www.deloitte.com/about to learn more about our global network of member firms.\\n\\n* [About Deloitte](/us/en/pages/about-deloitte/articles/about-deloitte.html?icid=dibottom_about-deloitte)\\n* [Terms of Use](/us/en/legal/terms-of-use.html?icid=dibottom_terms-of-use)\\n* [Privacy](/us/en/legal/privacy-index.html?icid=dibottom_privacy-index)\\n* [Data Privacy Framework](/us/en/legal/data-privacy-framework.html?icid=dibottom_data-privacy-framework)\\n* [Cookies](https://cookienotice.deloitte.com/?icid=dibottom_https://cookienotice.deloitte.com/)\\n* [Cookie Settings](/us/en/legal/do-not-sell-my-personal-information.html?icid=dibottom_do-not-sell-my-personal-information)\\n* [Legal Information for Job Seekers](/us/en/legal/join-deloitte-legal-information-for-job-seekers.html?icid=dibottom_join-deloitte-legal-information-for-job-seekers)\\n* [Labor Condition Applications](/us/en/legal/labor-condition-applications.html?icid=dibottom_labor-condition-applications)\\n* [Do Not Sell My Personal Information](/us/en/legal/do-not-sell-my-personal-information.html?icid=dibottom_do-not-sell-my-personal-information)\\n\\nPlease enable JavaScript to view the site.\\n\\n![](//googleads.g.doubleclick.net/pagead/viewthroughconversion/933697776/?value=0&guid=ON&script=0)\\n\\n![](https://dc.ads.linkedin.com/collect/?pid=53506&fmt=gif)\\n\\n![](https://px.ads.linkedin.com/collect/?pid=5930770&fmt=gif)', 'AI Agents: Current Status, Industry Impact, and Job Market Implications | by ByteBridge | Feb, 2025 | Medium\\n[Open in app](https://rsci.app.link/?%24canonical_url=https%3A%2F%2Fmedium.com%2Fp%2Ff8f1ccd0e01f&%7Efeature=LoOpenInAppButton&%7Echannel=ShowPostUnderUser&source=---top_nav_layout_nav-----------------------------------------)\\n\\nSign up\\n\\n[Sign in](https://medium.com/m/signin?operation=login&redirect=https%3A%2F%2Fbytebridge.medium.com%2Fai-agents-current-status-industry-impact-and-job-market-implications-f8f1ccd0e01f&source=post_page---top_nav_layout_nav-----------------------global_nav------------------)\\n\\n[Write](https://medium.com/m/signin?operation=register&redirect=https%3A%2F%2Fmedium.com%2Fnew-story&source=---top_nav_layout_nav-----------------------new_post_topnav------------------)\\n\\nSign up\\n\\n[Sign in](https://medium.com/m/signin?operation=login&redirect=https%3A%2F%2Fbytebridge.medium.com%2Fai-agents-current-status-industry-impact-and-job-market-implications-f8f1ccd0e01f&source=post_page---top_nav_layout_nav-----------------------global_nav------------------)\\n\\n![](https://miro.medium.com/v2/resize:fill:64:64/1*dmbNkD5D-u45r44go_cf0g.png)\\n# AI Agents: Current Status, Industry Impact, and Job Market Implications\\n\\n[![ByteBridge](https://miro.medium.com/v2/resize:fill:88:88/1*7S98-LzIKmBg7WUmY0ZN1w.png)](/?source=post_page---byline--f8f1ccd0e01f---------------------------------------)\\n\\n[ByteBridge](/?source=post_page---byline--f8f1ccd0e01f---------------------------------------)\\n\\n·\\n\\n[Follow](https://medium.com/m/signin?actionUrl=https%3A%2F%2Fmedium.com%2F_%2Fsubscribe%2Fuser%2Fdef7c39e9492&operation=register&redirect=https%3A%2F%2Fbytebridge.medium.com%2Fai-agents-current-status-industry-impact-and-job-market-implications-f8f1ccd0e01f&user=ByteBridge&userId=def7c39e9492&source=post_page-def7c39e9492--byline--f8f1ccd0e01f---------------------post_header------------------)\\n\\n14 min read·Feb 5, 2025\\n\\n--\\n\\nListen\\n\\nShare\\n\\n# What is an AI Agent?\\n\\nAn AI agent is a software entity designed to perform tasks autonomously or semi-autonomously using artificial intelligence techniques. These agents can perceive their environment, make decisions, and take actions to achieve specific goals. AI agents leverage technologies such as machine learning, deep learning, and natural language processing (NLP) to understand, learn, and execute tasks. They range from simple chatbots to complex systems capable of solving intricate problems and making decisions.\\n\\nFor instance, in the healthcare industry, AI agents can assist in diagnosing diseases by analyzing medical data, while in finance, they can detect fraudulent transactions by monitoring patterns and anomalies. Recent advancements in machine learning, such as enhanced NLP models with better contextual understanding and breakthroughs in reinforcement learning, have significantly improved the capabilities of AI agents. Additionally, developments in quantum machine learning and federated learning have further expanded their potential applications.\\n\\nDespite their capabilities, AI agents also face limitations such as the need for large datasets for training, potential biases in decision-making, and challenges in understanding context or nuances in human language. Primary sources of bias include data bias, algorithmic bias, human bias, feedback loops, and deployment context. Strategies to mitigate these biases involve developing robust and interpretable AI models, ensuring high-quality and diverse training data, and implementing ethical considerations in AI development.\\n\\nMoreover, AI agents are continuously improving in handling the challenges of understanding context and nuances in human language. Advances in NLP, contextual understanding, sentiment analysis, and conversational agents have led to more human-like interactions and accurate responses. These improvements are crucial for AI agents to perform effectively across various industries, enhancing their efficiency and effectiveness in specific tasks\\n\\n# How AI Agents Will Change the Industry\\n\\nAI agents are poised to revolutionize various industries by enhancing productivity, reducing costs, and enabling new business models.\\n\\nOrganizations implementing AI agents report average monthly savings of $80,000 through multiple benefits: task automation, continuous availability, scalability, reduced training costs, improved efficiency, data-driven insights, error reduction, and enhanced customer experiences. The ROI calculation encompasses identifying automation opportunities, cost assessment, implementation, performance measurement, and savings analysis. McKinsey projects AI’s contribution to corporate productivity growth at $4.4 trillion, highlighting its transformative business impact. This projection aligns with current applications and future trends in AI technology adoption, with 71% of executives anticipating AI agents enhancing workflow automation. Industries including healthcare, finance, manufacturing, and retail increasingly utilize AI for predictive analytics, process automation, personalized recommendations, and advanced data analysis.\\n\\n## Key impacts include:\\n\\n1. **Increased Productivity:** AI agents automate repetitive tasks, enabling human workers to focus on complex and creative activities. They are expected to drive a 30% increase in workplace productivity. In manufacturing, AI agents manage assembly lines, reducing downtime and increasing output. Siemens exemplifies this through documented case studies showing significant productivity gains. Manufacturing-specific AI agents have demonstrated increases in productivity by 20–30%, reductions in operational costs by 15–20%, and decreases in equipment downtime by 20–25%.\\n2. **Cost Reduction:** Through automation, AI agents reduce labor costs and minimize human errors, generating substantial savings. Notably, 82% of financial institutions report decreased operational costs due to AI implementation. These savings are quantified through cost-benefit analysis and ROI calculations, with variations observed across different financial institutions based on implementation scale, task complexity, and initial investment.\\n3. **New Business Models:** AI agents facilitate innovative business models through new services and products. AI-driven personalized marketing strategies create additional revenue streams for retail businesses, particularly through subscription-based services and AI-as-a-Service (AIaaS) platforms. Personalized marketing using AI has demonstrated revenue increases of 10–30%, with the global AI retail market projected to reach $31 billion by 2028.\\n4. **Enhanced Decision-Making:** AI agents excel at rapid data analysis, providing valuable insights for decision-making. In finance, AI predicts market trends with success rates of 60–80%, surpassing traditional methods’ 50–60% accuracy. Model performance varies based on data quality, model complexity, and specific financial sector applications.\\n5. **Improved Customer Service:** AI-powered chatbots and virtual assistants provide continuous customer support, enhancing satisfaction through efficient inquiry handling and reduced wait times. Performance is measured through First Response Time (FRT), Customer Satisfaction (CSAT), and Net Promoter Score (NPS). Leading platforms include IBM Watson, Google Assistant, Amazon Alexa, and Microsoft Cortana.\\n6. **Scalability:** Organizations can expand operations without proportional increases in human resources. AI optimizes supply chain management in logistics, enabling growth without significant staffing increases. In retail, AI-driven inventory management systems have reduced stockouts by 35% while increasing sales by 10%.\\n7. **Innovation and Creativity:** By handling routine tasks, AI agents free human workers to focus on innovation and creativity. In technology sectors, AI manages routine coding, allowing developers to concentrate on complex problem-solving. This has resulted in 15% increased production efficiency in manufacturing and 25% improved diagnostic accuracy in healthcare.\\n8. **Enhanced Data Management:** AI agents excel in managing and processing large datasets, improving data integrity and utilization. In research applications, AI accelerates scientific discoveries through faster data analysis. In manufacturing, AI-driven predictive maintenance has reduced downtime by 20%, enhancing overall productivity and efficiency.\\n\\n[**Kompas AI**](https://kompas.ai) **independently researched and wrote this report. AI-powered tools make it easy and fast to generate similar reports.**\\n\\n# How AI Agents Will Change the Job Market\\n\\nThe job market for AI agents is expected to undergo significant changes, driven by advancements in technology and evolving industry needs. Key trends include:\\n\\n1. **Increased Automation:** AI will disrupt the recruitment and staffing industry by automating tasks like resume screening and candidate matching. By 2025, AI is expected to automate more jobs, potentially replacing full-time careers. For example, AI-driven platforms like HireVue are already being used to screen candidates through video interviews, analyzing their responses and body language. Metrics such as the reduction in time-to-hire by up to 90% and improved candidate-job fit are used to measure the impact of these AI-driven processes.\\n2. **Demand for Specialized Skills:** There will be a growing demand for AI professionals with skills in machine learning, natural language processing, and data analytics. Companies will seek experts who can develop, implement, and maintain AI systems, as well as those who can interpret and leverage AI-generated insights. Educational programs focusing on these areas, such as specialized AI and data science degrees, bootcamps, and online courses, are proving effective in preparing individuals for these roles. For instance, AI bootcamps report job placement rates between 74% to 90% within six months of graduation, while AI degree programs boast a 94% job placement rate within six months, with an average starting salary of $105,000 per year.\\n3. **Legal and Ethical Considerations:** Concerns about bias in AI algorithms, data privacy, and transparency will become more prominent. For instance, the use of AI in hiring processes has raised questions about fairness and the potential for discriminatory practices, prompting calls for stricter regulations and ethical guidelines. Frameworks such as the EU’s General Data Protection Regulation (GDPR) and the proposed AI Act aim to address these issues by enforcing transparency and accountability in AI systems. Documented instances of bias include Amazon’s 2018 AI recruiting tool, which was scrapped for being biased against women, and a 2019 study by the National Bureau of Economic Research that found AI systems favored candidates with names that sounded white.\\n4. **Shift in Job Roles:** Human recruiters will focus more on strategic tasks such as relationship building and complex decision-making. As AI handles more administrative and repetitive tasks, recruiters will have more time to engage with candidates and develop long-term talent strategies. This shift is expected to enhance the overall recruitment process by allowing human recruiters to leverage their unique interpersonal skills.\\n5. **AI in Employee Management:** AI will play a larger role in performance tracking, personalized training programs, and predictive analytics. Tools like Workday and SAP SuccessFactors are already incorporating AI to provide insights into employee performance and to tailor development programs to individual needs. These tools use metrics such as employee engagement scores, performance review outcomes, and training completion rates to quantitatively improve employee management. For example, SAP SuccessFactors has been shown to improve employee productivity by up to 20%.\\n6. **Gig Employment:** There is likely to be an increased reliance on gig employment and freelancers as companies adapt to the changing job landscape. Platforms like Upwork and Fiverr are expected to see more AI-driven matching of freelancers to projects, optimizing the gig economy. The projected economic impacts include increased productivity and cost savings, with AI facilitating more efficient matching processes and reducing the time required to find suitable freelancers. Businesses using Fiverr report saving up to 30% on costs and a 50% increase in productivity.\\n7. **Time Savings:** AI agents are currently saving workers one day a week, with projections to increase to 2.5 days a week by 2026. This increased efficiency will allow employees to focus on higher-value tasks and improve overall productivity. The time saved is often measured through metrics such as reduced task completion times and increased output quality.\\n\\n# Current Status of AI Agent Development\\n\\nAs of 2025, AI agent development has made significant practical advances across various domains. Here are the key developments and their real-world applications:\\n\\n* **Enterprise Solutions:** Major companies like Microsoft, Google, and Amazon have launched AI agents specifically designed for business operations. Microsoft’s Copilot for Microsoft 365 has shown a 70% increase in productivity for routine tasks, measured through metrics such as a 30% increase in code development speed, a 20% reduction in code errors, and a 40% improvement in overall developer satisfaction. Additionally, in 2024, Copilot reported a 20% increase in productivity for users, with a 30% reduction in time spent on repetitive tasks, a 25% improvement in task completion rates, and a 15% increase in user satisfaction. Google’s Duet AI has reduced document processing time by 55%. These enterprise AI agents are being used in customer service, data analysis, and workflow automation, with documented cost savings of 30–40% in operational expenses. These savings vary across industries, with manufacturing saving $1.2 billion, healthcare $900 million, and retail $750 million, among others. Small businesses save an average of $50,000 annually, medium-sized businesses $500,000, and large enterprises $5,000,000.\\n* **Autonomous Systems:** AI agents in autonomous vehicles have achieved Level 4 autonomy in controlled environments, with companies like Waymo and Cruise operating commercial services in select cities. These systems handle unexpected situations with 92% accuracy, attributed to factors such as the quality and quantity of training data, algorithm design, sensor precision, and real-time data processing capabilities. Waymo and Cruise differ in their approaches, with Waymo focusing on extensive real-world testing and Cruise emphasizing simulation-based training. In manufacturing, AI agents are managing complex production lines, reducing errors by 85% and increasing efficiency by 40%.\\n* **Healthcare Applications**: AI agents are now actively assisting in medical diagnosis, achieving 95% accuracy in identifying common conditions through image analysis. For instance, AI systems have shown up to 94.5% accuracy in diagnosing diabetic retinopathy, 92.5% in detecting skin cancer, and 87% in identifying pneumonia from chest X-rays. They’re processing patient data 60% faster than traditional methods and reducing administrative workload by 45%. Notable implementations include Mayo Clinic’s diagnostic AI system, which has helped analyze over 1 million patient cases with a 93% accuracy rate. Comparative success rates across different medical conditions and institutions show similar high performance, with AI systems consistently outperforming traditional diagnostic methods.\\n* **Financial Services:** AI agents are revolutionizing trading and risk assessment, with automated systems handling 65% of daily trading volume. These agents can process market data 1000 times faster than human traders and have improved fraud detection rates by 75%. Companies like JPMorgan and Goldman Sachs report 40% cost reduction in routine financial operations through AI agent implementation. In 2024, AI fraud detection significantly impacted financial market stability by reducing fraudulent activities by 35%, enhancing investor confidence, and improving market efficiency. AI systems led to a 20% decrease in financial fraud cases and a 15% increase in the detection rate of suspicious transactions, outperforming traditional methods that rely on rule-based systems and manual reviews.\\n\\n**Current development challenges include:**\\n\\n* Integration complexity with legacy systems (affecting 60% of implementations), primarily due to data compatibility issues, scalability problems, and technical debt.\\n* Data privacy concerns (cited by 75% of organizations), with measures such as data anonymization, encryption, and federated learning being implemented to address these issues.\\n* Need for continuous human oversight (required in 85% of applications).\\n* Reliability issues in edge cases (occurring in 15% of scenarios).\\n\\nThe focus has shifted from pure technological advancement to practical implementation and optimization. Organizations are reporting an average of 18 months from pilot to full deployment, with success rates improving from 35% in 2023 to 65% in 2025. Industry standards are emerging, with the ISO/IEC establishing specific guidelines for AI agent deployment and evaluation.\\n\\nRecent breakthroughs in multimodal learning and context understanding have enabled AI agents to handle complex tasks with human-like comprehension. For example, customer service AI agents now resolve 80% of queries without human intervention, up from 45% in 2023. These improvements are supported by enhanced error rates below 5% in standard operations and response times averaging under 2 seconds.\\n\\n[Kompas AI](https://kompas.ai) specializes in creating detailed and well-researched reports. AI-powered writing tools can help you produce similar high-quality content effortlessly\\n\\n# Market Growth and Strategic Trends\\n\\n## Market Growth:\\n\\nThe AI agent market is projected to grow from $5.1 billion in 2024 to $47.1 billion in 2025. This remarkable expansion is driven by enhanced customer experiences, operational efficiencies, and business transformation through automation and data insights. Key growth catalysts include widespread industry adoption, technological advancements, and increased AI research investment. Government support, exemplified by a $2 billion allocation in 2025 for research, education, infrastructure, and public-private partnerships, further accelerates this trajectory. The growth is particularly fueled by rising automation demands in customer service, substantial AI R&D investments, and AI agent integration in smart devices. Technological progress in natural language processing, machine learning algorithms, IoT integration, and security features continues to make AI agents more efficient, accurate, and versatile across industries.\\n\\nIn 2025, AI agent adoption spans diverse sectors with notable applications:\\n\\n* Healthcare: Diagnostic assistance, patient monitoring, personalized treatment plans, and administrative tasks\\n* Finance: Fraud detection, customer service, investment analysis, and automated trading\\n* Retail: Personalized recommendations, inventory management, and customer support chatbots\\n* Manufacturing: Supply chain optimization, predictive maintenance, and quality control\\n* Transportation: Route optimization, autonomous driving, and fleet management\\n* Education: Personalized learning experiences, administrative support, and student performance analytics\\n* Human Resources: Recruitment process automation, employee engagement, and performance management\\n\\n## Strategic Technology Trend:\\n\\nAI agents have emerged as a pivotal strategic technology trend, transforming industries through automation, enhanced decision-making, and personalized experiences. Their strategic significance is characterized by adaptability, autonomy, interactivity, scalability, security, explainability, integration capabilities, and ethical alignment.\\n\\n1. AI agents enhance decision-making and personalized experiences through mechanisms such as real-time data analysis, predictive analytics, and machine learning algorithms. For instance, in healthcare, AI agents analyze patient data to provide personalized treatment plans and predict potential health risks. In finance, they assess transaction patterns to detect fraud and offer tailored financial advice. In retail, AI agents analyze customer behavior to deliver personalized recommendations and improve inventory management.\\n2. Within the broader technology landscape, AI agents drive hyperautomation by automating complex workflows and integrating various technologies to streamline operations. This leads to measurable outcomes such as a 30% to 50% reduction in operational expenses, increased efficiency, and minimized manual intervention. Industry experts project significant impacts over the next five years, particularly in edge AI, AI security, generative AI advancement, and regulatory compliance. Advancements in edge AI are expected to enhance processing power, energy efficiency, and real-time data analysis, benefiting sectors like healthcare, automotive, manufacturing, and smart cities.\\n3. Gartner’s analysis identifies agentic AI as a leading strategic trend based on market dynamics, technological progress, and adoption rates. Healthcare implementations demonstrate notable improvements, with Mayo Clinic achieving 30% increased diagnostic accuracy and Johns Hopkins Hospital reducing readmissions by 25%. Similarly, financial institutions like PayPal and Bank of America leverage AI for fraud detection and customer service, resulting in substantial operational cost savings.\\n4. The adaptability, autonomy, and interactivity of AI agents influence their scalability and integration capabilities in complex environments. For example, in smart cities, AI agents manage large volumes of data from IoT devices, optimize traffic management, enhance public safety, and improve energy efficiency. Ethical considerations and regulatory compliance challenges, such as bias, transparency, privacy, and security, are being addressed by industry leaders through the development of regulations, governance frameworks, and ethical design principles.\\n\\n## **Generative AI Agents:**\\n\\nCurrent development focuses on sophisticated problem-solving capabilities, supported by declining costs and enhanced functionalities. These agents excel in natural language understanding, creative content generation, and human-like interactions. The 2025 landscape features advanced natural language processing, image generation, and multimodal AI systems, enabling more sophisticated cross-industry applications.\\n\\nSpecific advancements in natural language processing (NLP) include enhanced contextual understanding through transformer models, nuanced sentiment analysis, improved machine translation with near-human accuracy, advanced conversational AI with better dialogue management, and integration with other AI fields for more comprehensive applications. In image generation, enhanced Generative Adversarial Networks (GANs) produce images indistinguishable from real photos, improved text-to-image models generate detailed images from textual descriptions, and real-time image synthesis is used in virtual and augmented reality. These technologies are increasingly utilized in creative industries for generating art, design, and media content, as well as in advanced deepfake detection methods.\\n\\nImplementation costs have decreased significantly, with small-scale projects ranging from $50,000 to $100,000, medium-scale projects from $100,000 to $500,000, and enterprise-level initiatives from $1 million to $5 million. This cost reduction stems from algorithmic efficiency improvements, lower hardware costs, and pre-trained model availability. High-performance GPUs and specialized AI chips have seen a price drop of approximately 20–30% compared to previous years, driven by advancements in technology, increased competition, more efficient manufacturing processes, and economies of scale.\\n\\nWhile generative AI agents offer transformative benefits across sectors, they also present ethical challenges including misinformation risks, intellectual property concerns, bias issues, and privacy considerations. Addressing these challenges remains crucial for responsible development and deployment. Measures being taken include developing more sophisticated detection methods for misinformation, implementing robust privacy protections, ensuring fairness and avoiding bias in AI models, and establishing clear guidelines for intellectual property rights and accountability in AI-generated content.\\n\\n# Conclusion\\n\\nThe integration of AI agents is anticipated to transform workplace efficiency and operational cost-effectiveness significantly. With rapid advancements and widespread adoption expected, 2025 is poised to be a transformative year for AI agents, driving substantial changes across various sectors and the job market. As AI agents continue to evolve, they will play an increasingly crucial role in shaping the future of work, business operations, and industry innovation. For instance, AI agents are expected to automate routine tasks, enhance decision-making through advanced data analytics, and provide personalized customer interactions. These capabilities will not only improve productivity but also create new business models and services, ultimately leading to a more dynamic and efficient economic landscape.\\n\\nRecent advancements in AI agent technology, such as improvements in natural language processing, machine learning algorithms, IoT integration, and autonomous decision-making, have already demonstrated significant improvements in workplace efficiency and operational cost-effectiveness in early adopter sectors like healthcare, finance, and customer service. For example, in healthcare, AI agents have been used to analyze medical data for faster and more accurate diagnoses, while in finance, they have been instrumental in detecting fraudulent transactions and managing risk.\\n\\nHowever, the widespread adoption of AI agents also presents potential risks and challenges. These include data privacy and security concerns, the perpetuation of biases present in training data, job displacement, ethical issues related to transparency and accountability, technical challenges in system integration, and navigating complex regulatory frameworks. To mitigate these risks, it is essential to implement robust data protection measures, use diverse and representative datasets, develop reskilling and upskilling programs for affected employees, establish clear ethical guidelines, invest in thorough testing and validation, and stay informed and compliant with relevant regulations and standards.\\n\\nThe automation of routine tasks by AI agents is expected to significantly impact employment patterns and job market dynamics across different sectors. While up to 85 million jobs may be displaced due to automation, it is also projected that 97 million new roles will emerge, adapting to the new division of labor between humans, machines, and algorithms. This shift will necessitate a focus on reskilling and upskilling the workforce to prepare for new opportunities in AI development, maintenance, and other emerging fields.\\n\\nIn conclusion, the integration of AI agents is set to revolutionize various industries by enhancing productivity, reducing costs, and fostering innovation. The emergence of new business models and services, such as AI-driven customer service, predictive maintenance, and personalized marketing, will contribute to economic growth and create a more dynamic and efficient economic landscape. By addressing the associated risks and challenges through proactive measures, businesses and society can fully harness the potential of AI agents to drive positive change\\n\\n**This detailed, comprehensive report was produced by** [**Kompas AI**](https://kompas.ai)**. Generate similar reports in minutes with AI.**\\n\\n[AI](https://medium.com/tag/ai?source=post_page-----f8f1ccd0e01f---------------------------------------)[Artificial Intelligence](https://medium.com/tag/artificial-intelligence?source=post_page-----f8f1ccd0e01f---------------------------------------)[Ai Agent Development](https://medium.com/tag/ai-agent-development?source=post_page-----f8f1ccd0e01f---------------------------------------)[Ai Agent](https://medium.com/tag/ai-agent?source=post_page-----f8f1ccd0e01f---------------------------------------)[OpenAI](https://medium.com/tag/openai?source=post_page-----f8f1ccd0e01f---------------------------------------)\\n\\n--\\n\\n--\\n\\n[![ByteBridge](https://miro.medium.com/v2/resize:fill:96:96/1*7S98-LzIKmBg7WUmY0ZN1w.png)](/?source=post_page---post_author_info--f8f1ccd0e01f---------------------------------------)[![ByteBridge](https://miro.medium.com/v2/resize:fill:128:128/1*7S98-LzIKmBg7WUmY0ZN1w.png)](/?source=post_page---post_author_info--f8f1ccd0e01f---------------------------------------)Follow[## Written by ByteBridge](/?source=post_page---post_author_info--f8f1ccd0e01f---------------------------------------)[201 Followers](/followers?source=post_page---post_author_info--f8f1ccd0e01f---------------------------------------)·[52 Following](/following?source=post_page---post_author_info--f8f1ccd0e01f---------------------------------------)\\n\\nKompas AI: A Better Alternative to ChatGPT’s Deep Research (<https://kompas.ai>)\\n\\nFollow\\n## No responses yet\\n\\n[Help](https://help.medium.com/hc/en-us?source=post_page-----f8f1ccd0e01f---------------------------------------)[Status](https://medium.statuspage.io/?source=post_page-----f8f1ccd0e01f---------------------------------------)[About](https://medium.com/about?autoplay=1&source=post_page-----f8f1ccd0e01f---------------------------------------)[Careers](https://medium.com/jobs-at-medium/work-at-medium-959d1a85284e?source=post_page-----f8f1ccd0e01f---------------------------------------)Press[Blog](https://blog.medium.com/?source=post_page-----f8f1ccd0e01f---------------------------------------)[Privacy](https://policy.medium.com/medium-privacy-policy-f03bf92035c9?source=post_page-----f8f1ccd0e01f---------------------------------------)[Terms](https://policy.medium.com/medium-terms-of-service-9db0094a1e0f?source=post_page-----f8f1ccd0e01f---------------------------------------)[Text to speech](https://speechify.com/medium?source=post_page-----f8f1ccd0e01f---------------------------------------)[Teams](https://medium.com/business?source=post_page-----f8f1ccd0e01f---------------------------------------)']\n\n"
     ]
    },
    {
     "output_type": "stream",
     "name": "stderr",
     "output_type": "stream",
     "text": [
      "\n"
     ]
    }
   ],
   "source": [
    "toolkit = {\n",
    "    \"multiply\": multiply,\n",
    "    \"search_web_extract_info\": search_web_extract_info,\n",
    "    \"get_weather\": get_weather\n",
    "}\n",
    "\n",
    "for tool_call in responses:\n",
    "    selected_tool = toolkit[tool_call[\"name\"].lower()]\n",
    "    print(f\"Calling tool: {tool_call['name']}\")\n",
    "    tool_output = selected_tool.invoke(tool_call[\"arguments\"])\n",
    "    print(tool_output)\n",
    "    print()"
   ]
  },
  {
   "cell_type": "code",
   "execution_count": 0,
   "metadata": {
    "application/vnd.databricks.v1+cell": {
     "cellMetadata": {},
     "inputWidgets": {},
     "nuid": "05295073-3ac2-4626-b48c-5d81a32ae563",
     "showTitle": false,
     "tableResultSettingsMap": {},
     "title": ""
    },
    "colab": {
     "base_uri": "https://localhost:8080/"
    },
    "id": "mOS3qwf6tKNF",
    "outputId": "b7caee23-452d-4de5-b0cd-909a5fc7ff62"
   },
   "outputs": [
    {
     "output_type": "stream",
     "name": "stdout",
     "output_type": "stream",
     "text": [
      "The Current State and Future of Agentic AI - Sikich\n[![Sikich Logo](https://www.sikich.com/wp-content/themes/sikich/images/sikich-logo.svg)](https://www.sikich.com)\n\n* Services\n* Industries\n* [Insights](/insights)\n* [About](/about)\n* [Careers](/careers)\n\n![Search Icon](https://www.sikich.com/wp-content/themes/sikich/images/icons/search-icon.png)\nSearch\n\n![Phone Icon](https://www.sikich.com/wp-content/themes/sikich/images/icons/phone-icon.png)\n877.279.1900\n\n[Get Started](https://www.sikich.com/contact-us/)\n\n[![Sikich Logo](https://www.sikich.com/wp-content/themes/sikich/images/sikich-logo.svg)](https://www.sikich.com)\n\n![Search Icon](https://www.sikich.com/wp-content/themes/sikich/images/icons/search-icon.png)\n\n![Phone Icon](https://www.sikich.com/wp-content/themes/sikich/images/icons/phone-icon.png)\n\n![Menu Icon](https://www.sikich.com/wp-content/themes/sikich/images/icons/menu-icon.png)\n\n* [Audit and Assurance](https://www.sikich.com/accounting-audit-tax-consulting/audit-assurance/)\n* [Business Succession Plan](https://www.sikich.com/advisory-services/business-succession-planning/)\n* [Business Transformation](https://www.sikich.com/advisory-services/business-transformation/)\n* [Cloud Services](https://www.sikich.com/technology/cloud-infrastructure-migration/)\n* [Consulting Services](https://www.sikich.com/accounting-audit-tax-consulting/consulting-services/)\n* [CRM and ERP Products](https://www.sikich.com/technology/products/)\n* [CRM Services](https://www.sikich.com/technology/crm-customer-engagement/)\n* [Cybersecurity](https://www.sikich.com/technology/cybersecurity/)\n\n* [Data and AI](/technology/data-and-ai/)\n* [ERP Services](https://www.sikich.com/technology/erp-services/)\n* [Forensic and Valuation](https://www.sikich.com/advisory-services/forensics-valuation/)\n* [Governance, Risk and Compliance](https://www.sikich.com/accounting-audit-tax-consulting/consulting-services/governance-risk-and-compliance-services/)\n* [HEADSTART Implementations](https://www.sikich.com/technology/products/headstart-approach-for-erp-and-crm-implementations/)\n* [Human Capital Management and Payroll](https://www.sikich.com/advisory-services/human-capital-management-payroll-consulting/)\n* [Insurance Services](https://www.sikich.com/advisory-services/insurance-services/)\n* [Internal Audit](/accounting-audit-tax-consulting/consulting-services/governance-risk-and-compliance-services/internal-audit-services/)\n\n* [Investment Banking](https://www.sikich.com/advisory-services/investment-banking/)\n* [Lender Services](/advisory-services/lender-services/)\n* [IT and Security Managed Services](https://www.sikich.com/technology/managed-it-services/)\n* [Marketing and Communication](https://www.sikich.com/advisory-services/marketing-communication/)\n* [Modern Workplace](https://www.sikich.com/technology/remote-workforce-implementations/)\n* [Outsourced Accounting](https://www.sikich.com/accounting-audit-tax-consulting/outsourced-accounting/)\n* [Regulatory, Quality and Compliance](https://www.sikich.com/advisory-services/regulatory-quality-and-compliance/)\n* [Retirement Plan Services](https://www.sikich.com/advisory-services/retirement-plan-services/)\n\n* [Site Selection and Incentives](https://www.sikich.com/accounting-audit-tax-consulting/consulting-services/site-selection-business-incentives/)\n* [Spend Management](https://www.sikich.com/technology/spend-management/)\n* [Tax Services](https://www.sikich.com/accounting-audit-tax-consulting/tax-services/)\n* [Transaction Advisory](https://www.sikich.com/advisory-services/transaction-advisory-services/)\n* [Wealth Management](https://www.sikich.com/advisory-services/wealth-management/)\n* [Workforce Risk Management](https://www.sikich.com/advisory-services/workforce-risk-management/)\n\nHighlights\n\n[![](https://www.sikich.com/wp-content/uploads/2025/01/spfcompliance-150x150.jpg)\n\nUnderstanding the 'Overwrite Return Path' Setting in KnowBe4: Why It’s Critical for SPF and DMARC Compliance](https://www.sikich.com/insight/understanding-the-overwrite-return-path-setting-in-knowbe4-why-its-critical-for-spf-and-dmarc-compliance/)\n\n[![](https://www.sikich.com/wp-content/uploads/2025/02/GPTW-IN-and-US-150x150.jpg)\n\nSikich Earns 2025 Great Place To Work® Certification in the U.S. and India](https://www.sikich.com/insight/sikich-earns-2025-great-place-to-work-in-us-and-india/)\n\n[![](https://www.sikich.com/wp-content/uploads/2025/02/Businesswoman-working-in-stacks-of-paperwork.-piles-of-forms-on-desk-in-office-150x150.jpg)\n\nThe Latest on ERC Claims: What Tax Professionals and Business Owners Should Know Now](https://www.sikich.com/insight/erc-claims-2025-what-tax-professionals-and-business-owners-should-know/)\n\n[View More >](https://www.sikich.com/insights/)\n\n![](https://www.sikich.com/wp-content/themes/sikich/images/icons/menu-chevron.png)\n\nCLOSE\n\n* [Construction and Real Estate](/industries/construction-real-estate)\n* [Discrete Manufacturing](https://www.sikich.com/industries/manufacturing/discrete-manufacturing/)\n* [Federal Government](/industries/governmentservices/government-federal)\n* [Financial Services](/industries/financial-services)\n\n* [Government Contractors](/industries/government-contractors)\n* [Industrial Equipment Manufacturing](https://www.sikich.com/technology/industries/discrete-manufacturing/industrial-equipment-manufacturing/)\n* [Life Sciences](/industries/life-sciences)\n* [Manufacturing and Distribution](https://www.sikich.com/industries/manufacturing/)\n\n* [Not-for-Profit](/industries/not-for-profit)\n* [Professional Services](/advisory-services/professional-services)\n* [Rolled Products Manufacturing](https://www.sikich.com/industries/manufacturing/rolled-products-manufacturing-technology-solutions/)\n* [State and Local Government](/industries/governmentservices/government-state-local)\n\n* [Title IV Audit and Consulting](/accounting-audit-tax-consulting/audit-assurance/title-iv-audit-and-consulting/)\n* [Distribution and Supply Chain](/technology/industries/distribution-technology/)\n* [Insurance](/industries/insurance-industry-technology/)\n\nHighlights\n\n[![](https://www.sikich.com/wp-content/uploads/2025/01/spfcompliance-150x150.jpg)\n\nUnderstanding the 'Overwrite Return Path' Setting in KnowBe4: Why It’s Critical for SPF and DMARC Compliance](https://www.sikich.com/insight/understanding-the-overwrite-return-path-setting-in-knowbe4-why-its-critical-for-spf-and-dmarc-compliance/)\n\n[![](https://www.sikich.com/wp-content/uploads/2025/02/GPTW-IN-and-US-150x150.jpg)\n\nSikich Earns 2025 Great Place To Work® Certification in the U.S. and India](https://www.sikich.com/insight/sikich-earns-2025-great-place-to-work-in-us-and-india/)\n\n[![](https://www.sikich.com/wp-content/uploads/2025/02/Businesswoman-working-in-stacks-of-paperwork.-piles-of-forms-on-desk-in-office-150x150.jpg)\n\nThe Latest on ERC Claims: What Tax Professionals and Business Owners Should Know Now](https://www.sikich.com/insight/erc-claims-2025-what-tax-professionals-and-business-owners-should-know/)\n\n[View More >](https://www.sikich.com/insights/)\n\n![](https://www.sikich.com/wp-content/themes/sikich/images/icons/menu-chevron.png)\n\nCLOSE\n\n* [Contact](/contact-us)\n* Services\n  + [Audit & Assurance](https://www.sikich.com/accounting-audit-tax-consulting/audit-assurance/)\n  + [Business Succession Plan](https://www.sikich.com/advisory-services/business-succession-planning/)\n  + [Business Transformation](https://www.sikich.com/advisory-services/business-transformation/)\n  + [Cloud Services](https://www.sikich.com/technology/cloud-infrastructure-migration/)\n  + [Consulting Services](https://www.sikich.com/accounting-audit-tax-consulting/consulting-services/)\n  + [CRM and ERP Products](https://www.sikich.com/technology/products/)\n  + [CRM Services](https://www.sikich.com/technology/products/)\n  + [Cybersecurity](https://www.sikich.com/technology/cybersecurity/)\n  + [Data and AI](https://www.sikich.com/technology/data-and-ai/)\n  + [ERP Services](https://www.sikich.com/technology/erp-services/)\n  + [Forensic & Valuation](https://www.sikich.com/advisory-services/forensics-valuation/)\n  + [Governance, Risk and Compliance](https://www.sikich.com/accounting-audit-tax-consulting/consulting-services/governance-risk-and-compliance-services/)\n  + [HEADSTART Implementations](https://www.sikich.com/technology/products/headstart-approach-for-erp-and-crm-implementations/)\n  + [Human Capital Management & Payroll](https://www.sikich.com/advisory-services/human-capital-management-payroll-consulting/)\n  + [Insurance Services](https://www.sikich.com/advisory-services/insurance-services/)\n  + [Internal Audit](https://www.sikich.com/accounting-audit-tax-consulting/consulting-services/governance-risk-and-compliance-services/internal-audit-services/)\n  + [Investment Banking](https://www.sikich.com/advisory-services/investment-banking/)\n  + [Lender Services](https://www.sikich.com/advisory-services/lender-services/)\n  + [IT and Managed Services](https://www.sikich.com/technology/managed-it-services/)\n  + [Marketing and Communications](https://www.sikich.com/advisory-services/marketing-communication/)\n  + [Modern Workplace](https://www.sikich.com/technology/remote-workforce-implementations/)\n  + [Outsourced Accounting](https://www.sikich.com/accounting-audit-tax-consulting/outsourced-accounting/)\n  + [Regulatory, Quality & Compliance](https://www.sikich.com/advisory-services/regulatory-quality-and-compliance/)\n  + [Site Selection & Incentives](https://www.sikich.com/accounting-audit-tax-consulting/consulting-services/site-selection-business-incentives/)\n  + [Spend Management](https://www.sikich.com/technology/spend-management/)\n  + [Tax](https://www.sikich.com/accounting-audit-tax-consulting/tax-services/)\n  + [Transaction Advisory](https://www.sikich.com/advisory-services/transaction-advisory-services/)\n  + [Wealth Management](https://www.sikich.com/advisory-services/wealth-management/)\n  + [Workforce Risk Management](https://www.sikich.com/advisory-services/workforce-risk-management/)\n* Industries\n  + [Construction & Real Estate](https://www.sikich.com/industries/construction-real-estate)\n  + [Discrete Manufacturing](https://www.sikich.com/industries/manufacturing/discrete-manufacturing/)\n  + [Federal Government](https://www.sikich.com/industries/governmentservices/government-federal)\n  + [Financial Services](https://www.sikich.com/industries/financial-services)\n  + [Government Contractors](https://www.sikich.com/industries/government-contractors)\n  + [Industrial Equipment Manufacturing](https://www.sikich.com/technology/industries/discrete-manufacturing/industrial-equipment-manufacturing/)\n  + [Life Sciences](https://www.sikich.com/industries/life-sciences)\n  + [Manufacturing and Distribution](https://www.sikich.com/industries/manufacturing/)\n  + [Not-for-profit](https://www.sikich.com/industries/not-for-profit)\n  + [Process Manufacturing](https://www.sikich.com/technology/industries/process-manufacturing/)\n  + [Professional Services](https://www.sikich.com/advisory-services/professional-services)\n  + Rolled Products\n  + [State & Local Government](https://www.sikich.com/industries/governmentservices/government-state-local)\n  + [Title IV Audit & Consulting](https://www.sikich.com/accounting-audit-tax-consulting/audit-assurance/title-iv-audit-and-consulting/)\n  + [Distribution & Supply Chain](https://www.sikich.com/technology/industries/distribution-technology/)\n  + [Insurance](/industries/insurance-industry-technology/)\n* [Insights](https://www.sikich.com/insights)\n  + [Insights](https://www.sikich.com/insights)\n  + [Events](https://www.sikich.com/events)\n  + [Lessons from Leadership](https://www.sikich.com/about/lessons-from-leadership)\n* [About](https://www.sikich.com/about/)\n* [Locations](https://www.sikich.com/about/locations/)\n* [Careers](https://www.sikich.com/careers)\n* [Pay](https://www.sikich.com/pay)\n\nhttps://www.sikich.com\n# The Current State and Future of Agentic AI: Insights and Innovations\n\nRay Beste\n\n  |\n\nJan 23 2025\n\n  |\n\n4 min read\n\n![](https://www.sikich.com/wp-content/uploads/2025/01/agenticAI.jpg)\n\nAgentic AI, or AI systems capable of autonomous decision-making and task execution, has become the latest buzzword in the [AI landscape](https://www.sikich.com/insight/salesforce-ai-leveraging-agentforce-for-smarter-customer-service/). But what exactly does it mean, and why is everyone talking about it?\n\nGenerative AI captured the world’s imagination with tools like [ChatGPT](https://chatgpt.com/), demonstrating the power of AI to create new content based on a simple prompt. Now, the evolution to agentic AI takes it further—beyond providing answers to performing actions based on those answers and even orchestrating a series of actions.\n\nImagine a system that continuously monitors a marketing campaign, learns from the results, and automatically adjusts strategies without human intervention. Or picture a supply chain module in an ERP system autonomously placing orders for low-risk products to maintain optimal inventory levels.\n\nYou may wonder, *“That sounds great! Have I already missed out?”* The answer is a resounding no. We are in the early stages of this transformative technology. Even Gartner predicts that by 2028, only up to 15% of day-to-day workflows will be handled autonomously by AI agents.\n\n## The Levels of Agentic AI: A Framework for Understanding\n\nAgentic AI spans several levels, each reflecting a different degree of autonomy and sophistication in how AI systems act and learn:\n\n1. **Reactive Agents**\n   Reactive agents operate on a simple sense-and-respond model, reacting to current inputs without memory or planning.\n   *Examples: Basic chatbots, thermostats.*\n2. **Proactive Agents**\n   Proactive agents go beyond reacting by learning from past experiences and planning limited actions to achieve goals.\n   *Examples: AI scheduling tools, recommendation systems.*\n3. **Adaptive Agents**\n   Adaptive agents learn dynamically from their interactions, optimizing responses and strategies in complex environments.\n   *Examples: Self-driving cars, adaptive CRM tools.*\n4. **Fully Agentic Systems**\n   Fully autonomous AI systems independently set goals, make decisions, and perform tasks in unstructured environments.\n   *Examples: Experimental platforms like [Microsoft’s Magentic-One](https://www.microsoft.com/en-us/research/articles/magentic-one-a-generalist-multi-agent-system-for-solving-complex-tasks/).*\n\nEach level builds upon the last, reflecting the growing capacity of AI to act autonomously and intelligently.\n\n## The Current State of Agentic AI\n\nAgentic AI is making its mark across industries, transitioning from experimental tools to practical applications. Current systems excel at:\n\n* **Automation at Scale:** Reducing the need for human input in repetitive processes.\n* **Proactive Decision-Making:** Solving problems and making recommendations in real-time.\n* **Personalization:** Tailoring actions based on contextual understanding.\n\n## Magentic-One by Microsoft\n\nMicrosoft’s Magentic-One is a standout example, showcasing the power of agentic AI. This currently experimental platform integrates with Microsoft’s enterprise ecosystem to:\n\n* Automate complex workflows using advanced task orchestration.\n* Provide real-time, context-aware assistance.\n* Continuously improve through self-learning systems.\n\n## Future Possibilities of Agentic AI\n\nAs agentic AI evolves, its potential will expand into even more advanced applications:\n\n1. **Enhanced Enterprise Autonomy:** AI agents that don’t just execute but also strategize and optimize processes.\n2. **Cross-Domain Integration:** Bridging fields like healthcare and legal research for deeper problem-solving.\n3. **Human Collaboration:** AI as a proactive partner, collaborating seamlessly with human teams.\n\nThese advancements could revolutionize areas such as autonomous logistics, predictive crisis management, and smart city design.\n\n## Risk and Mitigation Strategies\n\nAgentic AI, while promising, introduces several risks:\n\n* **Ethical Concerns:** Decisions may conflict with our values or norms.\n* **Skewed Decision-Making:** Flaws in training data can foster errors.\n* **Security Threats:** Vulnerabilities to adversarial attacks or misuse.\n* **Loss of Oversight:** Over-reliance on autonomy risks human control and understanding.\n\n**Mitigation Strategies:**\n\n* Build transparent, explainable systems for decision-making.\n* Continuously test and make corrections as you go.\n* Implement robust security measures.\n* Maintain human-in-the-loop systems to oversee critical decisions.\n\n## Realize the Power of Today’s Agentic AI\n\nAgentic AI represents a dramatic shift in how technology interacts with humans and the world. While the future is brimming with possibilities, the tools and capabilities available today are already game-changing.\n\nPlatforms like Microsoft 365 Copilot and Salesforce Einstein demonstrate advanced AI capabilities, offering proactive assistance, workflow automation, and contextual recommendations. However, these tools represent an early stage of agentic AI. They excel at enhancing productivity and decision-making but remain heavily reliant on user direction and input, stopping short of true autonomy. These systems are building blocks toward fully agentic solutions, offering organizations an opportunity to start leveraging AI for impactful results today.\n\nAt Sikich, we specialize in helping organizations define, build, and integrate these intelligent agents into their existing technology landscapes. Whether you’re looking to extend the functionality of Microsoft 365 Copilot, leverage the power of Salesforce Einstein, or enhance Dynamics 365 products, our expertise ensures a seamless transition from concept to implementation.\n\nDon’t wait for the future—start your journey with agentic AI today. Let Sikich guide you in transforming your vision into reality, unlocking the potential of these powerful tools to drive innovation and efficiency in your organization.\n\n****[Contact us](/technology/contact-us/) to explore how the [Sikich AI Solutions StudioTM](https://www.sikich.com/insight/sikich-expands-ai-consulting-capabilities/) can partner with you in building intelligent, autonomous solutions tailored to your needs.****\n\nThis publication contains general information only and Sikich is not, by means of this publication, rendering accounting, business, financial, investment, legal, tax, or any other professional advice or services. This publication is not a substitute for such professional advice or services, nor should you use it as a basis for any decision, action or omission that may affect you or your business. Before making any decision, taking any action or omitting an action that may affect you or your business, you should consult a qualified professional advisor. In addition, this publication may contain certain content generated by an artificial intelligence (AI) language model. You acknowledge that Sikich shall not be responsible for any loss sustained by you or any person who relies on this publication.\n\nAbout the Author\n\n![](https://secure.gravatar.com/avatar/d3c3fa8f9ba8b75366612b24c907aa7f?s=218&d=https%3A%2F%2Fwww.sikich.com%2Fwp-content%2Fuploads%2F2024%2F03%2Fsikich-default-author-icon-lower.jpg&r=g)\n\nRay Beste\n\nCommencing his IT career with Sikich in 1989, the birth year of the World Wide Web, Ray has witnessed the evolution of technology from the inception of websites and browsers to the rise of smartphones and social media platforms. The advent of AI technologies, particularly Generative AI, has Ray focusing his attention on this and related technologies as he guides Sikich's internal use journey as well as that of our clients.\n\nSign up for Insights\n\nJoin 14,000+ Business executives and decision makers.\n\nLatest Insights\n\nGovernance, Risk and Compliance\n\nInternal Controls for AI Governance\n\nJanuary 14, 2025\n\nGovernance, Risk and Compliance\n\nInternal Controls for AI Governance\n\nJanuary 14, 2025\n\nAs AI continues to capture significant attention, organizations face increasing pressure to adopt these tools to enhance customer experience and stre...\n\n[Read More](https://www.sikich.com/insight/internal-controls-for-ai-governance/)\n![](https://www.sikich.com/wp-content/themes/sikich/images/icons/white-chevron.png)\n\nNews Release\n\nSikich AI Solutions Studio™ Introduces Virtual Chief AI Of...\n\nDecember 18, 2024\n\nNews Release\n\nSikich AI Solutions Studio™ Introduces Virtual Chief AI Of...\n\nDecember 18, 2024\n\nCHICAGO – December 18, 2024 – Sikich, a Chicago-based leading global technology-enabled professional services company, announced the launch of it...\n\n[Read More](https://www.sikich.com/insight/sikich-introduces-virtual-chief-ai-officer-service/)\n![](https://www.sikich.com/wp-content/themes/sikich/images/icons/white-chevron.png)\n\nMarketing & Communications\n\nHow to Ensure Marketing-Focused AI Initiatives Don’t Fall ...\n\nDecember 6, 2024\n\nMarketing & Communications\n\nHow to Ensure Marketing-Focused AI Initiatives Don’t Fall ...\n\nDecember 6, 2024\n\nBased on our discussions with clients and prospects, it is clear companies are increasingly putting their excitement about AI into action via both sm...\n\n[Read More](https://www.sikich.com/insight/how-to-ensure-marketing-focused-ai-initiatives-dont-fall-flat/)\n![](https://www.sikich.com/wp-content/themes/sikich/images/icons/white-chevron.png)\n\nConstruction\n\nHow Construction Companies Can Leverage Microsoft Dynamics 3...\n\nNovember 7, 2024\n\nConstruction\n\nHow Construction Companies Can Leverage Microsoft Dynamics 3...\n\nNovember 7, 2024\n\nReady to elevate your construction management software? With Microsoft Dynamics 365 Business Central for Construction, you can tap into one of the mo...\n\n[Read More](https://www.sikich.com/insight/how-construction-companies-can-leverage-microsoft-dynamics-365-business-central-and-copilot-to-transform-their-business/)\n![](https://www.sikich.com/wp-content/themes/sikich/images/icons/white-chevron.png)\n\nData Management and Governance\n\nWays an Enterprise Data and AI Strategy Drives Exponential G...\n\nOctober 23, 2024\n\nData Management and Governance\n\nWays an Enterprise Data and AI Strategy Drives Exponential G...\n\nOctober 23, 2024\n\n“The price of light is less than the cost of darkness” – Arthur C. Nielsen\nThis is one of my favorite quotes because it is simple and yet sa...\n\n[Read More](https://www.sikich.com/insight/ways-an-enterprise-data-and-ai-strategy-drives-exponential-growth/)\n![](https://www.sikich.com/wp-content/themes/sikich/images/icons/white-chevron.png)\n\nTransaction Advisory Services\n\nMaximize Your Data to Enhance Decision Making\n\nOctober 21, 2024\n\nTransaction Advisory Services\n\nMaximize Your Data to Enhance Decision Making\n\nOctober 21, 2024\n\nData has emerged as one of the most valuable assets for any organization. However, many companies struggle to harness its full potential. This can be...\n\n[Read More](https://www.sikich.com/insight/maximize-your-data-enhance-decision-making/)\n![](https://www.sikich.com/wp-content/themes/sikich/images/icons/white-chevron.png)\n\nAI\n\nHow Generative AI is Improving the Insurance Customer Experi...\n\nOctober 2, 2024\n\nAI\n\nHow Generative AI is Improving the Insurance Customer Experi...\n\nOctober 2, 2024\n\nGenerative AI capabilities and AI-infused automations in Salesforce allow insurance companies to empower every employee to make a difference for cust...\n\n[Read More](https://www.sikich.com/insight/innovate-the-insurance-customer-experience-with-generative-ai/)\n![](https://www.sikich.com/wp-content/themes/sikich/images/icons/white-chevron.png)\n\nSalesforce\n\nLeveraging AI to Automate Salesforce Translation Workbench M...\n\nAugust 30, 2024\n\nSalesforce\n\nLeveraging AI to Automate Salesforce Translation Workbench M...\n\nAugust 30, 2024\n\nOffering localized experiences within Salesforce is essential for companies. One of the key components of this is translating Salesforce custom field...\n\n[Read More](https://www.sikich.com/insight/leveraging-ai-to-automate-salesforce-translation-workbench-metadata/)\n![](https://www.sikich.com/wp-content/themes/sikich/images/icons/white-chevron.png)\n\nHuman Resources\n\nHR Executives Roundtable Recap: The Benefits and Challenges ...\n\nJuly 8, 2024\n\nHuman Resources\n\nHR Executives Roundtable Recap: The Benefits and Challenges ...\n\nJuly 8, 2024\n\nArtificial Intelligence (AI) continues to weave its way into various facets of business operations –Human Resources (HR) leaders have a unique oppo...\n\n[Read More](https://www.sikich.com/insight/hr-executives-benefits-and-challenges-of-ai-landscape/)\n![](https://www.sikich.com/wp-content/themes/sikich/images/icons/white-chevron.png)\n\nTechnology\n\nNavigating the Potential of Generative AI in Life Sciences\n\nMay 16, 2024\n\nTechnology\n\nNavigating the Potential of Generative AI in Life Sciences\n\nMay 16, 2024\n\nI recently spoke at the Informa Life Sciences Accounting & Reporting conference in Philadelphia, PA. Apart from the expected presentations about ...\n\n[Read More](https://www.sikich.com/insight/navigating-the-potential-of-generative-ai-in-life-sciences/)\n![](https://www.sikich.com/wp-content/themes/sikich/images/icons/white-chevron.png)\n\n[View All Insights\n![Teal Chevron](https://www.sikich.com/wp-content/themes/sikich/images/icons/teal-right-chevron.png)](https://www.sikich.com/insights/)\n\n[![Sikich Logo](https://www.sikich.com/wp-content/themes/sikich/images/footer-logo.png)](https://www.sikich.com)\n\n* [Careers](https://www.sikich.com/careers/)\n* [Events](/events)\n* [Locations](/about/locations/)\n* [Pay](/pay)\n* [Privacy](/privacy-policy)\n* [Disclaimer](/disclaimer)\n* [Login](https://secure.netlinksolution.com/nextgen/?firm=40430#/)\n\nFollow Us\n\n[![Facebook Icon](https://www.sikich.com/wp-content/themes/sikich/images/footer-facebook-icon.png)](https://www.facebook.com/sikichglobal)\n[![LinkedIn Icon](https://www.sikich.com/wp-content/themes/sikich/images/footer-linkedin-icon.png)](https://www.linkedin.com/company/sikich)\n[![Youtube Icon](https://www.sikich.com/wp-content/themes/sikich/images/footer-youtube-icon.png)](https://www.youtube.com/%40Sikich_Global)\n[![Twitter Icon](https://www.sikich.com/wp-content/themes/sikich/images/footer-twitter-icon.png)](https://twitter.com/sikichglobal)\n\nSikich practices in an alternative practice structure in accordance with the AICPA Professional Code of Conduct and applicable law, regulations, and professional standards. Sikich CPA LLC is a licensed CPA firm that provides audit and attest services to its clients, and Sikich LLC and its subsidiaries provide tax and business advisory services to its clients. Sikich CPA LLC has a contractual arrangement with Sikich LLC under which Sikich LLC supports Sikich CPA LLC’s performance of its professional services. Sikich LLC and its subsidiaries are not licensed CPA firms.\n\n“Sikich” is the brand name under which Sikich CPA LLC and Sikich LLC provide professional services. The entities under the Sikich brand are independently owned and are not liable for the services provided by any other entity providing services under the Sikich brand. The use of the terms “our company”, “we” and “us” and other similar terms denote the alternative practice structure of Sikich CPA LLC and Sikich LLC.\n\nSecurities offered through Sikich Corporate Finance LLC, member FINRA/SIPC. Investment advisory services offered through Sikich Financial, an SEC Registered Investment Advisor.\n\nCopyright © 2025 Sikich LLC. All rights reserved.\n\nWe are using cookies to give you the best experience on our website.\n\nYou can find out more about which cookies we are using or switch them off in settings.\n\nAccept\nReject\n\nClose GDPR Cookie Settings\n\n![Sikich](https://www.sikich.com/wp-content/plugins/gdpr-cookie-compliance/dist/images/gdpr-logo.png)\n\n* Privacy Overview\n* Strictly Necessary Cookies\n\n[Powered by  GDPR Cookie Compliance](https://wordpress.org/plugins/gdpr-cookie-compliance/)\n\nPrivacy Overview\n\nThis website uses cookies so that we can provide you with the best user experience possible. Cookie information is stored in your browser and performs functions such as recognising you when you return to our website and helping our team to understand which sections of the website you find most interesting and useful.\n\nStrictly Necessary Cookies\n\nStrictly Necessary Cookie should be enabled at all times so that we can save your preferences for cookie settings.\n\nEnable or Disable Cookies\n\nIf you disable this cookie, we will not be able to save your preferences. This means that every time you visit this website you will need to enable or disable cookies again.\n\nEnable All\nSave Settings\n\nAutonomous generative AI agents | Deloitte Insights\nPlease enable JavaScript to view the site.\n\nDeloitte Insights and our research centers deliver proprietary research designed to help organizations turn their aspirations into action.\n\n#### DELOITTE INSIGHTS\n\n* [Home](/us/en/insights.html?icid=disidenav_insights)\n* Spotlight\n  + [Weekly Global Economic Outlook](/us/en/insights/economy/global-economic-outlook/weekly-update.html?icid=disidenav_weekly-update)\n  + [Top 10 Reading Guide](/us/en/insights/focus/top-10-business-insights.html?icid=disidenav_top-10-business-insights)\n  + [Future of Sports](/us/en/insights/focus/future-of-sports.html?icid=disidenav_future-of-sports)\n  + [Technology Management](/us/en/insights/technology-management.html?icid=disidenav_technology-management)\n  + [Growth & Competitive Advantage](/us/en/insights/topics/strategy.html?icid=disidenav_strategy)\n* Topics\n  + [Economics](/us/en/insights/economy.html?icid=disidenav_economy)\n  + [Environmental, Social, & Governance](/us/en/insights/environmental-social-governance.html?icid=disidenav_environmental-social-governance)\n  + [Operations](/us/en/insights/operations.html?icid=disidenav_operations)\n  + [Strategy](/us/en/insights/strategy.html?icid=disidenav_strategy)\n  + [Technology](/us/en/insights/technology-management.html?icid=disidenav_technology-management)\n  + [Workforce](/us/en/insights/workforce.html?icid=disidenav_workforce)\n  + [Industries](/us/en/insights/industries.html?icid=disidenav_industries)\n* More\n  + [About](/us/en/insights/about-deloitte-insights.html?icid=disidenav_about-deloitte-insights)\n  + [Deloitte Insights Magazine](/us/en/insights/deloitte-insights-magazine.html?icid=disidenav_deloitte-insights-magazine)\n  + [Press Room Podcasts](/us/en/insights/multimedia/podcasts.html?icid=disidenav_podcasts)\n\n#### DELOITTE RESEARCH CENTERS\n\n* Cross-Industry\n  + [Home](/us/en/insights/research-centers/center-for-integrated-research.html?icid=disidenav_center-for-integrated-research)\n  + [Workforce Trends](/us/en/insights/research-centers/center-for-integrated-research/workforce-trends.html?icid=disidenav_workforce-trends)\n  + [Enterprise Growth & Innovation](/us/en/insights/research-centers/center-for-integrated-research/enterprise-growth-and-innovation.html?icid=disidenav_enterprise-growth-and-innovation)\n  + [Technology & Transformation](/us/en/insights/research-centers/center-for-integrated-research/technology-and-transformation.html?icid=disidenav_technology-and-transformation)\n  + [Environmental & Social Issues](/us/en/insights/research-centers/center-for-integrated-research/environmental-and-social-issues.html?icid=disidenav_environmental-and-social-issues)\n* Economics\n  + [Home](/us/en/insights/research-centers/economics.html?icid=disidenav_economics)\n  + [Consumer Spending](/us/en/insights/research-centers/economics/consumer-spending.html?icid=disidenav_consumer-spending)\n  + [Housing](/us/en/insights/research-centers/economics/housing.html?icid=disidenav_housing)\n  + [Business Investment](/us/en/insights/research-centers/economics/business-investment.html?icid=disidenav_business-investment)\n  + [Globalization & International Trade](/us/en/insights/research-centers/economics/globalization-and-international-trade.html?icid=disidenav_globalization-and-international-trade)\n  + [Fiscal & Monetary Policy](/us/en/insights/research-centers/economics/fiscal-and-monetary-policy.html?icid=disidenav_fiscal-and-monetary-policy)\n  + [Sustainability, Equity & Climate](/us/en/insights/research-centers/economics/sustainability-equity-climate.html?icid=disidenav_sustainability-equity-climate)\n  + [Labor Markets](/us/en/insights/research-centers/economics/labor-markets.html?icid=disidenav_labor-markets)\n  + [Prices & Inflation](/us/en/insights/research-centers/economics/prices-and-inflation.html?icid=disidenav_prices-and-inflation)\n* Consumer\n  + [Home](/us/en/insights/research-centers/consumer-industry-center.html?icid=disidenav_consumer-industry-center)\n  + [Automotive](/us/en/insights/industry/automotive.html?icid=disidenav_automotive)\n  + [Consumer Products](/us/en/insights/industry/consumer-products.html?icid=disidenav_consumer-products)\n  + [Food](/us/en/insights/research-centers/consumer-industry-center/food.html?icid=disidenav_food)\n  + [Retail, Wholesale & Distribution](/us/en/insights/industry/retail-distribution.html?icid=disidenav_retail-distribution)\n  + [Hospitality](/us/en/insights/research-centers/consumer-industry-center/hospitality.html?icid=disidenav_hospitality)\n  + [Airlines & Transportation](/us/en/insights/focus/transportation.html?icid=disidenav_transportation)\n* Energy & Industrials\n  + [Home](/us/en/insights/research-centers/center-energy-industrials.html?icid=disidenav_center-energy-industrials)\n  + [Aerospace & Defense](/us/en/insights/industry/aerospace-defense.html?icid=disidenav_aerospace-defense)\n  + [Chemicals & Specialty Materials](/us/en/insights/research-centers/center-energy-industrials/chemicals-and-specialty-materials.html?icid=disidenav_chemicals-and-specialty-materials)\n  + [Engineering & Construction](/us/en/insights/research-centers/center-energy-industrials/engineering-and-construction.html?icid=disidenav_engineering-and-construction)\n  + [Industrial Manufacturing](/us/en/insights/industry/manufacturing.html?icid=disidenav_manufacturing)\n  + [Mining & Metals](/us/en/insights/industry/mining-and-metals.html?icid=disidenav_mining-and-metals)\n  + [Oil & Gas](/us/en/insights/industry/oil-and-gas.html?icid=disidenav_oil-and-gas)\n  + [Power & Utilities](/us/en/insights/industry/power-and-utilities.html?icid=disidenav_power-and-utilities)\n  + [Renewable Energy](/us/en/insights/research-centers/center-energy-industrials/renewable-energy.html?icid=disidenav_renewable-energy)\n* Financial Services\n  + [Home](/us/en/insights/research-centers/center-for-financial-services.html?icid=disidenav_center-for-financial-services)\n  + [Banking & Capital Markets](/us/en/insights/industry/banking-and-capital-markets.html?icid=disidenav_banking-and-capital-markets)\n  + [Commercial Real Estate](/us/en/insights/industry/real-estate.html?icid=disidenav_real-estate)\n  + [Insurance](/us/en/insights/industry/insurance.html?icid=disidenav_insurance)\n  + [Investment Management](/us/en/insights/industry/investment-management.html?icid=disidenav_investment-management)\n  + [Cross Financial Services](/us/en/insights/research-centers/center-for-financial-services/cross-industry.html?icid=disidenav_cross-industry)\n* Government & Public Services\n  + [Home](/us/en/insights/research-centers/center-for-government-insights.html?icid=disidenav_center-for-government-insights)\n  + [Defense, Security & Justice](/us/en/insights/research-centers/center-for-government-insights/defense-security-justice.html?icid=disidenav_defense-security-justice)\n  + [Government Health Care](/us/en/insights/research-centers/center-for-government-insights/government-health-care.html?icid=disidenav_government-health-care)\n  + [State & Local Government](/us/en/insights/research-centers/center-for-government-insights/state-and-local-government.html?icid=disidenav_state-and-local-government)\n  + [Whole of Government](/us/en/insights/research-centers/center-for-government-insights/whole-of-government.html?icid=disidenav_whole-of-government)\n  + [Transportation & Infrastructure](/us/en/insights/research-centers/center-for-government-insights/transportation-infrastructure.html?icid=disidenav_transportation-infrastructure)\n  + [Human Services](/us/en/insights/industry/public-sector/human-services.html?icid=disidenav_human-services)\n  + [Higher Education](/us/en/insights/focus/reimagining-higher-education.html?icid=disidenav_reimagining-higher-education)\n* Life Sciences & Health Care\n  + [Home](/us/en/insights/research-centers/center-for-health-solutions.html?icid=disidenav_center-for-health-solutions)\n  + [Hospitals, Health Systems & Providers​](/us/en/insights/research-centers/center-for-health-solutions/hospitals-health-systems-and-providers.html?icid=disidenav_hospitals-health-systems-and-providers)\n  + [Pharmaceutical Manufacturers​](/us/en/insights/research-centers/center-for-health-solutions/pharmaceutical-manufacturers.html?icid=disidenav_pharmaceutical-manufacturers)\n  + [Health Plans & Payers​](/us/en/insights/research-centers/center-for-health-solutions/health-plans-and-payers.html?icid=disidenav_health-plans-and-payers)\n  + [Medtech & Health Tech Organizations](/us/en/insights/research-centers/center-for-health-solutions/medtech-and-health-tech-organizations.html?icid=disidenav_medtech-and-health-tech-organizations)\n* Tech, Media & Telecom\n  + [Home](/us/en/insights/research-centers/center-for-technology-media-telecommunications.html?icid=disidenav_center-for-technology-media-telecommunications)\n  + [Technology](/us/en/insights/industry/technology.html?icid=disidenav_technology)\n  + [Media & Entertainment](/us/en/insights/industry/media-and-entertainment.html?icid=disidenav_media-and-entertainment)\n  + [Telecommunications](/us/en/insights/industry/telecommunications.html?icid=disidenav_telecommunications)\n  + [Semiconductor](/us/en/insights/focus/semiconductor.html?icid=disidenav_semiconductor)\n  + [Sports](/us/en/insights/focus/future-of-sports.html?icid=disidenav_future-of-sports)\n\n[![Deloitte Logo](/content/dam/insights/di-new-templates-images/deloitte-logo1.svg)](/us/en.html)\n\n![](/content/dam/shared/icons/misc/DEL_PRI_Insights_RGB.png)\n[## Tech, Media & Telecom](/us/en/insights/research-centers/center-for-technology-media-telecommunications.html)\n\n* SECTORS\n  + [Technology](/us/en/insights/industry/technology.html?icid=disubnav_technology)\n  + [Media & Entertainment](/us/en/insights/industry/media-and-entertainment.html?icid=disubnav_media-and-entertainment)\n  + [Telecommunications](/us/en/insights/industry/telecommunications.html?icid=disubnav_telecommunications)\n  + [Semiconductor](/us/en/insights/focus/semiconductor.html?icid=disubnav_semiconductor)\n  + [Sports](/us/en/insights/focus/future-of-sports.html?icid=disubnav_future-of-sports)\n* RESEARCH CENTERS\n  + [Cross-Industry](/us/en/insights/research-centers/center-for-integrated-research.html?icid=disubnav_center-for-integrated-research)\n  + [Economics](/us/en/insights/research-centers/economics.html?icid=disubnav_economics)\n  + [Consumer](/us/en/insights/research-centers/consumer-industry-center.html?icid=disubnav_consumer-industry-center)\n  + [Energy & Industrials](/us/en/insights/research-centers/center-energy-industrials.html?icid=disubnav_center-energy-industrials)\n  + [Financial Services](/us/en/insights/research-centers/center-for-financial-services.html?icid=disubnav_center-for-financial-services)\n  + [Government & Public Services](/us/en/insights/research-centers/center-for-government-insights.html?icid=disubnav_center-for-government-insights)\n  + [Life Sciences & Health Care](/us/en/insights/research-centers/center-for-health-solutions.html?icid=disubnav_center-for-health-solutions)\n  + [Tech, Media & Telecom](/us/en/insights/research-centers/center-for-technology-media-telecommunications.html?icid=disubnav_center-for-technology-media-telecommunications)\n\n* For You\n\n  ### Welcome!\n\n  For personalized content and settings, go to your [My Deloitte Dashboard](https://my.deloitte.com/?site=insights-us-en_en&action=optin&sub=a0C300000021TZR&nocheck=true&pl=en-US&pc=US&pi=sub%20Sign%20up/Sign%20in%20for%20MyDeloitte)\n\n  ### Latest Insights\n\n  [### Creating opportunity at the intersection of climate disruption and regulatory change\n\n  Article\n   •\n  7-min read](/us/en/insights/environmental-social-governance/cxo-survey-sustainability-2024.html)\n\n  [### Better questions about generative AI\n\n  Article\n   •\n  2-min read](/us/en/insights/topics/emerging-technologies/better-questions-about-generative-ai.html)\n\n  ### Recommendations\n\n  [### Tech Trends 2025\n\n  Article](/us/en/insights/focus/tech-trends.html)\n\n  [### TMT Predictions 2025\n\n  Article](/us/en/insights/industry/technology/technology-media-and-telecom-predictions.html)\n\n  ### About Deloitte Insights\n\n  [### About Deloitte Insights](/us/en/insights/about-deloitte-insights.html)\n\n  [### Deloitte Insights Magazine, issue 33\n\n  Magazine](/us/en/insights/deloitte-insights-magazine.html)\n\n  #### Topics for you\n\n  + [Business Strategy & Growth](/us/en/insights/topics/strategy.html?icid=topics-for-you_click)\n  + [Leadership](/us/en/insights/topics/leadership.html?icid=topics-for-you_click)\n  + [Operations](/us/en/insights/topics/operations.html?icid=topics-for-you_click)\n  + [Marketing & Sales](/us/en/insights/topics/marketing-and-sales-operations.html?icid=topics-for-you_click)\n  + [Diversity, Equity, & Inclusion](/us/en/insights/topics/value-of-diversity-and-inclusion.html?icid=topics-for-you_click)\n  + [Emerging Technologies](/us/en/insights/topics/emerging-technologies.html?icid=topics-for-you_click)\n  + [Economy](/us/en/insights/economy.html?icid=topics-for-you_click)\n\n  ### Watch & Listen\n\n  [### Dbriefs\n\n  Stay informed on the issues impacting your business with Deloitte's live webcast series. Gain valuable insights and practical knowledge from our specialists while earning CPE credits.](/us/en/pages/dbriefs-webcasts/topics/upcoming-webcasts.html)\n\n  [### Deloitte Insights Podcasts\n\n  Join host Tanya Ott as she interviews influential voices discussing the business trends and challenges that matter most to your business today.](/us/en/insights/multimedia/podcasts.html)\n\n  ### Subscribe\n\n  [### Deloitte Insights Newsletters\n\n  Looking to stay on top of the latest news and trends? With MyDeloitte you'll never miss out on the information you need to lead. Simply link your email or social profile and select the newsletters and alerts that matter most to you.](https://my.deloitte.com/?site=insights-us-en_en&action=optin&sub=a0C300000021TZR&nocheck=true&pl=en-US&pc=US&pi=sub%20Sign%20up/Sign%20in%20for%20MyDeloitte)\n\n# Autonomous generative AI agents: Under development\n\n## Autonomous gen AI agents—agentic AI—could increase the productivity of knowledge workers and make workflows of all kinds more efficient. But the “autonomous” part may take time for wide adoption.\n\nArticle\n •\n16-min read\n •\n19 November 2024\n •\nDeloitte Center for Technology Media & Telecommunications\n\n* Share\n  + twitter\n  + linkedin\n  + facebook\n* Print\n\n#### Jeff Loucks\n\nUnited States\n\n### Jeff Loucks\n\nExecutive director, Deloitte’s Center for Technology, Media & Telecommunications | Deloitte Services LP\n\nUnited States\n\nJeff Loucks is the executive director of Deloitte's Center for Technology, Media & Telecommunications, Deloitte Services LP. He conducts research and writes on topics that help companies capitalize on technological change. An award-winning thought leader in digital business model transformation, Loucks is especially interested in the strategies organizations use to adapt to accelerating change.\n\n*jloucks@deloitte.com*\n\n*+1 614 477 0407*\n\n#### Gillian Crossan\n\nUnited States\n\n### Gillian Crossan\n\nPrincipal | Deloitte Risk and Financial Advisory\n\nUnited States\n\nGillian Crossan is a principal in Risk & Financial Advisory, Deloitte & Touche LLP, and leads the Global Technology Industry Sector. She serves as the Global Lead Client Service partner for a $1B+ Digital Platform Company and a 360-degree relationship for Deloitte. Gillian has been with Deloitte for more than 25 years and has worked in both the UK and the US across sectors including energy, healthcare, consumer products, and technology and enjoys being at the heart of industry convergence. Gillian is passionate about working with organizations that are not just transforming themselves but are transforming our world. Gillian is has always focused on Diversity, Equity, and Inclusion and works to support female client executives in preparing for corporate board service. In the past, she worked with the US Chief Inclusion officer to roll out Inclusion Councils and lead People and Purpose for the Global TMT Industry.\n\n*gicrossan@deloitte.com*\n\n*+1 206 716 6254*\n\n#### Baris Sarer\n\nUnited States\n\n### Baris Sarer\n\nConsulting Principal | TMT Strategy and Analytics\n\nUnited States\n\nBaris is the Global Leader of Deloitte’s AI Practice for the Technology, Media & Entertainment, and Telecom (TMT) industries. He is recognized as a thought leader, frequently contributing as a writer and speaker at industry forums, publications, and events. His insightful contributions have shaped discourse on the evolution of AI and its transformative impact on business, technology, and culture.\n\nWith over 20 years of experience, Baris has successfully guided C-suite executives in transforming their operations through data-driven strategies and intelligent technology investments that enhance business value. He has led numerous complex programs aimed at maximizing technology asset returns, monetizing data, and scaling AI capabilities.\n\nCurrently, Baris focuses on unlocking the potential of AI in the TMT industry, developing deep insights into the sector and understanding the emerging AI vendor ecosystem and opportunities for value creation and monetization.\n\nBefore joining Deloitte, Baris worked in the wireless communications industry for more than a decade, taking on various leadership roles in research & development, operations, and sales. He has advised clients and managed projects on a global scale.\n\n*bsarer@deloitte.com*\n\n*+1 212 313 2697*\n\n#### China Widener\n\nUnited States\n\n### China Widener\n\nUnited States\n\nWith over 25 years of professional experience, China leads Deloitte’s Technology, Media and Telecommunications Industry and offers a unique point of view on the future of this industry and its sectors. China brings a strong perspective on industry convergence and is passionate about the need for trustworthy AI. She has co-authored articles on use of technology frameworks in the enterprise, delivery model analysis, and closing the talent gap. China also serves on the Board of Directors , Deloitte US.\n\nAs a principal of Deloitte Consulting LLP, she has also led clients through technology-enabled business transformations and operating model optimizations to achieve performance outcomes and competitive advantage.\n\nChina is also a dedicated leader, working to help advance multiple Deloitte-wide DEI communities, including the Black Action Council, the LGBTQIA++ Community, and the East Asian and Southeast Asian Communities.\n\nFormerly, China spent 15 years in industry holding various C-suite roles including COO, Chief Inspector, and served as an Assistant Prosecuting Attorney and in-house Counsel. She is a highly sought-after speaker and facilitator. Her technology experience and career progression has been featured by several well-known podcasts and publications.\n\n*cwidener@deloitte.com*\n\n*+1 513 723 4174*\n\n#### Ariane Bucaille\n\nFrance\n\n### Ariane Bucaille\n\nGlobal Technology, Media & Telecommunications Industry Leader | Partner\n\nFrance\n\nAriane is a Partner and TMT Industry leader in France. She has 20+ of experience and is a chartered and certified public accountant. Her knowledge covers IFRS and publicly-listed company requirements as well as international audit and project coordination. She also leads the TMT Audit practice and her past experience includes audit of international media and technology groups and vendor due diligence assignments. She began her career with Arthur Andersen and joined Deloitte France in 2002.\n\n*abucaille@deloitte.fr*\n\nAutonomous generative AI agents, referred to as “agentic AI,” are software solutions that can complete complex tasks and meet objectives with little or no human supervision. Agentic AI is different from today’s chatbots and co-pilots, which themselves are often called “agents.” Agentic AI has the potential to make knowledge workers more productive and to automate multi-step processes across business functions. Deloitte predicts that in 2025, 25% of companies that use gen AI will launch agentic AI pilots or proofs of concept, growing to 50% in 2027.[1](#endnote-1) Some agentic AI applications, in some industries, and for some use cases, could see actual adoption into existing workflows in 2025, especially by the back half of the year.\n\nTheir efforts are being aided by startups and established tech companies developing agentic AI, both of which see the technology’s potential to spur revenue growth. Investors have poured over $2 billion into agentic AI startups in the past two years, focusing their investment on companies that target the enterprise market.[2](#endnote-2) Meanwhile, many tech companies, cloud providers, and others are developing their own agentic AI offerings. They are also making strategic acquisitions, and increasingly licensing agentic AI technology from startups and hiring their employees, instead of buying the companies outright.[3](#endnote-3)\n\n[## TMT Predictions 2025\n\nRead more from the Deloitte Center for Technology, Media & Telecommunications’ TMT Predictions 2025\n\n![Take me to TMT Predictions 2025.](https://www2.deloitte.com/content/dam/insights/us/USI-dev/2023/january/pitching-machine/assets/icon-arrow-up-green.png \"Take me to TMT Predictions 2025\")](/us/en/insights/industry/technology/technology-media-and-telecom-predictions/2025.html)\n\n## Agentic AI puts the “agency” in agent\n\nGen AI chatbots and co-pilots are sophisticated; they can interact intuitively with humans, synthesize complex information, and generate content. But they lack the degree of agency and autonomy that agentic AI promises. While chatbots and agents share the same foundation—large language models (LLM)—additional technologies and techniques enable agents to act independently, break a job down into discrete steps, and complete their work with minimal human supervision or intervention. AI agents don’t just interact. They more effectively reason and act on behalf of the user.\n\nAs its name suggests, agentic AI has “agency”: the ability to act, and to choose which actions to take.[4](#endnote-4) Agency implies autonomy, which is the power to act and make decisions *independently*.[5](#endnote-5) When we extend these concepts to agentic AI, we can say it can act on its own to plan, execute, and achieve a goal—it becomes “agentic”. [6](#endnote-6) The goals are set by humans, but the agents determine how to fulfill those goals.\n\nAn example can illustrate the difference between agentic AI and co-pilots and chatbots. Co-pilots that assist software developers by testing and suggesting code are one of the most successful gen AI use cases to date.[7](#endnote-7) They can make experienced software engineers more productive and increase the effectiveness of junior coders. They can convert natural language prompts (in multiple languages) into suggestions for code, and test code for consistency. But such co-pilots only respond to prompts from engineers and do not show agency. With agentic AI, the software “engineer” takes this a step further. A human coder can enter ideas for software through a prompt, and the agentic AI “software engineer” converts those ideas into executable code, a process that automates multiple steps in the software development process.\n\nFor example, Cognition Software launched “Devin” in March 2024 with the goal of creating an autonomous software engineer capable of reasoning, planning, and completing complex engineering tasks that require thousands of decisions.[8](#endnote-8) Devin was designed to perform programming jobs unassisted, based on natural language prompts from human programmers. These jobs include designing full applications, testing and fixing codebases, and training and tuning LLMs.[9](#endnote-9) Competitors like Codeium, which focuses on enterprise software development, and open-source versions of Devin, hit the market in summer 2024.[10](#endnote-10)\n\nAgentic AI software engineers share similar capabilities and vulnerabilities.[11](#endnote-11) One vulnerability is that they currently make too many errors to handle full, or even partial, jobs without human oversight. In a recent benchmarking test, Devin was able to resolve nearly 14% of GitHub issues from real-world code repositories—twice as good as LLM-based chatbots,[12](#endnote-12) but not fully autonomous. Big tech companies[13](#endnote-13) and startups are striving to make agentic AI software engineers more autonomous and reliable, so human coders—and their employers—can trust them to handle parts of their workload (figure 1).\n\n### Share image\n\n* Share\n  + twitter\n  + linkedin\n  + facebook\n\n### Or copy link\n\nCopy\n\n## Augmenting and amplifying labor productivity\n\nAgentic AI software engineers are just one example of how autonomous generative AI agents could transform how work is done (see [Promising use cases for autonomous gen AI agents](#promising-use) below). As agentic AI improves, its impact could be enormous. There are over 100 million knowledge workers in the US, and over 1.25 billion knowledge workers globally.[14](#endnote-14) Total factor productivity,[15](#endnote-15) a useful proxy for knowledge work, has stagnated in the United States, growing 0.8% from 1987 to 2023 and only 0.5% from 2019 to 2023.[16](#endnote-16) In most OECD countries, the story is the same.[17](#endnote-17) Attempts to increase the productivity of knowledge work by automating tasks have met with only partial success. Many companies also need more knowledge workers. Shortfalls of customer service representatives, semiconductor engineers, and seemingly everything in between persist. When new workers start, they need to be productive quickly.\n\nExpert systems and robotic process automation (RPA) can falter when processes are ambiguous or require multiple steps. Systems based on traditional machine learning require extensive training, which is tailored for specific purposes. Built on LLMs, agentic AI can be more flexible, and it can address a broader range of use cases than machine learning or deep learning.\n\nAgentic AI can significantly advance the capabilities of LLMs and could vindicate the investments companies are making in gen AI. The public release of gen AI tools has quickly captured the attention of executives. It was easy to imagine how their organizations could use the technology. Quantifiable business value from gen AI has often been elusive, however. Challenges with data foundations, risk and governance policies, and talent gaps make it hard for companies to scale gen AI initiatives.[18](#endnote-18) Only 30% of gen AI pilots make it to full production.[19](#endnote-19) Lack of trust in gen AI output, and potential “real world” consequences from gen AI mistakes, give executives pause.[20](#endnote-20)\n\nCompanies that develop and implement agentic AI need to consider the challenges of gen AI, plus the complexity of building bots that can reason, act, collaborate, and create. Most importantly, gen AI agents of all kinds need to be reliable for enterprises to use them: Getting the job right most of the time isn’t enough. There are some use cases and applications in late 2024 that show encouraging signs of being reliable enough for adoption in early 2025.\n\nThe potential payoff is worth the effort, however, and early results seem promising. Companies are learning how to boost LLM performance by combining these models with other AI technologies and training techniques. While autonomous and reliable agents are the goal, incremental increases in accuracy and independence could help companies reach their early productivity and efficiency goals for gen AI overall.[21](#endnote-21) With their range of applications—both horizontal and vertical—and clear business goals, agentic AI looks more like the gen AI solutions executives may have expected in the first place.\n\n## Gen AI agents explained: A closer look\n\nGenerative AI agents can break down a complex task into a series of steps, execute them, and work through unexpected barriers. They can sense their environment, which depending on the use case can be virtual, physical, or a combination of the two. To complete a task, agentic AI can determine which actions to take, recruit assistance from tools, databases, and other agents, and deliver results based on its goals set by humans.\n\nAgentic AI is an emerging technology—and it continues to evolve—but it has some common characteristics and capabilities:\n\n* **Built on foundation models:** Foundation models like LLMs enable agentic AI to reason, analyze, and adapt to complex and unpredictable workflows. This makes it more flexible than RPA and expert systems. LLMs are improving rapidly, with enhanced reasoning and ability to break tasks into smaller steps among the most recent breakthroughs.[22](#endnote-22) But foundation models alone can’t interact with their environment, make decisions, or execute tasks.[23](#endnote-23) They must be augmented by other technologies and capabilities.\n* **Acts autonomously:** While the degree of autonomy varies, agentic AI can be trained to plan and execute complex tasks largely on its own. By introducing reasoning tokens, chain-of-thought models can solve more complex challenges than previous LLMs. Chain-of-thought models are slower to respond but are more deliberative in how they reason through a problem; they can correct their own errors; and they can show the steps they have taken to reach a solution.[24](#endnote-24)\n* **Senses the environment:** Agentic AI can perceive the environment, process information, and understand the context of the tasks it is given.[25](#endnote-25) Advanced agentic AI can process multimodal data, such as videos, images, audio, text, and numbers.\n* **Uses tools:** Agentic AI interacts with tools and systems to complete tasks, such as software, enterprise applications, and the internet.\n* **Orchestrates:** Agentic AI can direct the participation of other systems and bots to complete a task. With multiagent systems, this means collaborating with other autonomous generative AI agents.\n* **Accesses memory:** LLMs are stateless: Each interaction is processed independently, and information is not retained when an interaction is complete. With the addition of retrieval mechanisms and databases, agentic AI can access short-term memory to maintain context while performing a specific task, and long-term memory to learn and improve from experience.[26](#endnote-26)\n\nStartups and big tech are developing multiagent gen AI systems, including tools that can help organizations build their own custom agents.\n\nSome of the latest models employ chain-of-thought functions that, while slower and more deliberative than prior large-scale models, enable higher-order reasoning on complex problems.[27](#endnote-27) Multimodal data analysis can make agentic AI more flexible by expanding the kinds of data that can be interpreted and produced. Multimodal AI also shows that agentic AI can be even more powerful when combined with other kinds of AI technologies such as computer vision (image recognition), and transcription and translation.[28](#endnote-28) Like agents themselves, multimodal AI is still developing.\n\nTrue multiagent systems, in which work is orchestrated among a network of autonomous agents, are being developed now, with some pilots being launched in late 2024.[29](#endnote-29) Multiagent models often outperform single-model systems by distributing tasks, especially in complex environments.[30](#endnote-30) Startups and big tech are developing multiagent gen AI systems, including tools that can help organizations build their own custom agents.[31](#endnote-31)\n\n## Promising use cases for autonomous gen AI agents\n\nBig tech companies and startups are developing early-stage solutions that can partially automate functions like software development, sales, marketing, and regulatory compliance. What follows is a snapshot of today’s examples, not an exhaustive list of applications. Some are based on proofs of concept and demos that are promising but are not ready for enterprise deployment. While these examples are cross-industry, industry-specific agentic applications are also emerging.\n\n**Customer support:** Customer service is an essential—and often stressful—job, with an annual turnover rate of 38%.[32](#endnote-32) Effective automation of parts of the customer support workflow could reduce stress and tedium for staff, and help companies serve more customers.[33](#endnote-33) Agentic AI can handle more complex customer inquiries than today’s customer support chatbots, and they can act autonomously to resolve issues. In one example, an audio company is using agentic AI to help customers set up new equipment, a multistep process that usually requires a human agent. If a human agent is required, the agentic AI compiles relevant information and summarizes the issue before transferring the customer.[34](#endnote-34) The next wave of customer support agents will likely integrate multimodal data such as voice and video in addition to text-based chat.\n\n**Cybersecurity:** Cybersecurity experts epitomize the shortage of skilled knowledge workers: Globally, there’s a shortfall of four million today.[35](#endnote-35) Meanwhile, malicious actors are using gen AI to infiltrate cybersecurity systems. Emerging agentic cybersecurity systems can make human experts more efficient by automating aspects of their work. They can autonomously detect attacks and generate reports, improving system security and reducing the workload of human experts by up to 90%.[36](#endnote-36) Agentic AI can also help software development teams detect vulnerabilities in new code. It can run tests and communicate directly with developers to explain how to fix a problem—something human engineers must do manually today.[37](#endnote-37)\n\n**Regulatory compliance:** Companies across industries, including financial services and healthcare, are required to conduct periodic regulatory compliance reviews. The increased size and complexity of relevant regulations, and the dearth of compliance professionals, makes compliance a growing challenge. Startups are developing agentic AI that can analyze regulations and corporate documents, and quickly determine whether the company is compliant. The agent can cite specific regulations, and proactively provide analysis and advice to human regulatory professionals.[38](#endnote-38) Companies that use gen AI today cite regulatory compliance as their top barrier to developing and deploying gen AI, ahead of issues like a lack of AI technical talent, and implementation challenges.[39](#endnote-39) Regulatory uncertainty plays a role, but so does the reach and complexity of new regulations. By helping companies understand and comply with regulations as they’re enacted, a more agentic AI solution could help accelerate wider gen AI adoption across enterprises.\n\n**Agent builders and orchestrators:** Agentic AI solutions are emerging to help automate other cross-industry and vertical-specific workflows. Companies may not need to wait for the market, however. They can build their own agents and multiagent systems. With Google’s Vertex, companies can use no-code tools to create agents for specific tasks, such as building marketing collateral based on previous marketing campaigns.[40](#endnote-40) LangChain uses open-source technology to help companies construct multiagentic systems. For example, startup Paradigm has launched a “smart spreadsheet” in which multiple agentic AIs partner to collect data from diverse sources, structure it, and complete tasks.[41](#endnote-41)\n\n## Bottom line\n\nAgentic AI has enormous potential to help increase the productivity of knowledge workers by automating entire workflows and discrete tasks. Its ability to take independent action, as single agents or in concert with other agents, sets it apart from today’s chatbots and co-pilots. Yet, agentic AI is in the early stages of development and adoption. As impressive as early agentic examples may be, these agents can make mistakes and get stuck in loops. In multiagent systems, “hallucinations” can spread from one agent to another; they can persuade other agents to take the wrong steps and give incorrect answers.[42](#endnote-42) Although agentic AI can be mainly autonomous, often having a human review decisions after they’ve been made (also known as “human on the loop” rather than the more restrictive “human in the loop”) can make agentic AI more suitable for deployment today. When gen AI agents get stuck, they can consult human experts who help them resolve the challenge and move forward. In this model, agentic AI is like a junior employee who can learn by experience while performing valuable work.[43](#endnote-43)\n\nBecause the vision for agentic AI is compelling and the technology is evolving rapidly, companies should prepare themselves now.\n\nWhile some companies are investing billions to create consistent and reliable agentic AI, it’s not clear when this will happen, or under what circumstances. Will agentic AI reach widespread adoption in 2025, or within the next five years? Will ubiquity require breakthrough innovation, or tweaking current AI technologies and training methods? If the big companies and startups developing agentic AI are successful, the game will change quickly. Imagine autonomous gen AI agents that can process multimodal data, use tools, orchestrate other agents, remember and learn, and execute tasks consistently and reliably. Imagine further that custom agents can be quickly and easily developed by enterprises in “no-code environments” using just conversational text prompts.\n\nBecause the vision for agentic AI is compelling and the technology is evolving rapidly, companies should prepare themselves now. As they prepare, they should consider the following approaches.\n\n**Prioritize and redesign workflows for agentic AI:** Consider which tasks and workflows are well-suited for agentic AI to execute, based on the technology’s capabilities and where the highest value is for your company. Redesign them to remove unnecessary steps. Ensure that agentic AI solutions have a clear goal, and access to the data, tools, and systems they will require. Although these agents can help other agents navigate their environment, cluttered and sub-optimized processes could deliver disappointing results.\n\n**Focus on data governance and cybersecurity:** For agentic AI to deliver value, it must have access to valuable and potentially sensitive enterprise data, as well as internal systems and external resources. Companies should put strong data governance and cybersecurity in place before getting started with autonomous generative AI agents. For gen AI early adopters, the top areas where they’re increasing IT investment are data management (75%) and cybersecurity (73%).[44](#endnote-44) Despite these investments, 58% are highly concerned about using sensitive data in models and managing data security. And only 23% say they’re highly prepared for managing gen AI risk and governance. In short, many of today’s gen AI leaders seem unprepared for the advent of agentic AI. If these leaders are not ready, companies that are still on the gen AI sidelines surely have further to go.\n\n**Balance risk and reward:** When starting with agentic AI, companies should consider the level of autonomy and data access agents are permitted. Low risk use cases with non-critical data and human oversight can help companies build the data management, cybersecurity, and governance for safe agentic AI applications. Once these are in place, companies should consider higher value use cases that use strategic data, access to more tools, and more autonomy.\n\n**Maintain healthy skepticism:** Agentic AI is evolving and will likely be more capable in the next year, and will be applied to more horizontal and vertical-specific use cases. Expect impressive demos, simulations, and product announcements throughout 2025. But the challenges we’ve noted may take some time to resolve. Until these challenges are addressed, agentic AI performance in controlled settings is unlikely to deliver improved enterprise performance. Evaluate and question carefully.\n\n### Continue the conversation\n\n##### Meet the industry leader\n\n![Img](https://www2.deloitte.com/content/dam/assets-zone2/fr/fr/img/profiles/a-d/arianne-bucaille.jpg)\n\nAriane Bucaille\n\nGlobal Technology, Media & Telecommunications Industry leader\n\n![Img](${leaderImageLink2})\n\n${leaderName2}\n\n${leaderRole2}\n\n![Img](${leaderImageLink3})\n\n${leaderName3}\n\n${leaderRole3}\n\n![Img](${leaderImageLink4})\n\n${leaderName4}\n\n${leaderRole4}\n\n![Img](${leaderImageLink5})\n\n${leaderName5}\n\n${leaderRole5}\n\n![Img](${leaderImageLink6})\n\n${leaderName6}\n\n${leaderRole6}\n\n#### Let’s make this work.\n\nChange your Analytics and performance cookie settings to access this feature.\n\n### By\n\n#### Jeff Loucks\n\nUnited States\n\n### Jeff Loucks\n\nExecutive director, Deloitte’s Center for Technology, Media & Telecommunications | Deloitte Services LP\n\nUnited States\n\nJeff Loucks is the executive director of Deloitte's Center for Technology, Media & Telecommunications, Deloitte Services LP. He conducts research and writes on topics that help companies capitalize on technological change. An award-winning thought leader in digital business model transformation, Loucks is especially interested in the strategies organizations use to adapt to accelerating change.\n\n*jloucks@deloitte.com*\n\n*+1 614 477 0407*\n\n#### Gillian Crossan\n\nUnited States\n\n### Gillian Crossan\n\nPrincipal | Deloitte Risk and Financial Advisory\n\nUnited States\n\nGillian Crossan is a principal in Risk & Financial Advisory, Deloitte & Touche LLP, and leads the Global Technology Industry Sector. She serves as the Global Lead Client Service partner for a $1B+ Digital Platform Company and a 360-degree relationship for Deloitte. Gillian has been with Deloitte for more than 25 years and has worked in both the UK and the US across sectors including energy, healthcare, consumer products, and technology and enjoys being at the heart of industry convergence. Gillian is passionate about working with organizations that are not just transforming themselves but are transforming our world. Gillian is has always focused on Diversity, Equity, and Inclusion and works to support female client executives in preparing for corporate board service. In the past, she worked with the US Chief Inclusion officer to roll out Inclusion Councils and lead People and Purpose for the Global TMT Industry.\n\n*gicrossan@deloitte.com*\n\n*+1 206 716 6254*\n\n#### Baris Sarer\n\nUnited States\n\n### Baris Sarer\n\nConsulting Principal | TMT Strategy and Analytics\n\nUnited States\n\nBaris is the Global Leader of Deloitte’s AI Practice for the Technology, Media & Entertainment, and Telecom (TMT) industries. He is recognized as a thought leader, frequently contributing as a writer and speaker at industry forums, publications, and events. His insightful contributions have shaped discourse on the evolution of AI and its transformative impact on business, technology, and culture.\n\nWith over 20 years of experience, Baris has successfully guided C-suite executives in transforming their operations through data-driven strategies and intelligent technology investments that enhance business value. He has led numerous complex programs aimed at maximizing technology asset returns, monetizing data, and scaling AI capabilities.\n\nCurrently, Baris focuses on unlocking the potential of AI in the TMT industry, developing deep insights into the sector and understanding the emerging AI vendor ecosystem and opportunities for value creation and monetization.\n\nBefore joining Deloitte, Baris worked in the wireless communications industry for more than a decade, taking on various leadership roles in research & development, operations, and sales. He has advised clients and managed projects on a global scale.\n\n*bsarer@deloitte.com*\n\n*+1 212 313 2697*\n\n#### China Widener\n\nUnited States\n\n### China Widener\n\nUnited States\n\nWith over 25 years of professional experience, China leads Deloitte’s Technology, Media and Telecommunications Industry and offers a unique point of view on the future of this industry and its sectors. China brings a strong perspective on industry convergence and is passionate about the need for trustworthy AI. She has co-authored articles on use of technology frameworks in the enterprise, delivery model analysis, and closing the talent gap. China also serves on the Board of Directors , Deloitte US.\n\nAs a principal of Deloitte Consulting LLP, she has also led clients through technology-enabled business transformations and operating model optimizations to achieve performance outcomes and competitive advantage.\n\nChina is also a dedicated leader, working to help advance multiple Deloitte-wide DEI communities, including the Black Action Council, the LGBTQIA++ Community, and the East Asian and Southeast Asian Communities.\n\nFormerly, China spent 15 years in industry holding various C-suite roles including COO, Chief Inspector, and served as an Assistant Prosecuting Attorney and in-house Counsel. She is a highly sought-after speaker and facilitator. Her technology experience and career progression has been featured by several well-known podcasts and publications.\n\n*cwidener@deloitte.com*\n\n*+1 513 723 4174*\n\n* Share\n  + twitter\n  + linkedin\n  + facebook\n* Print\n\n### Endnotes\n\n1. We make this Prediction based in part on soon-to-be-published data from an enterprise survey on AI, including agentic AI. Given the high interest in agentic AI and the products and services that are being launched by startups and established tech companies, we expect this interest to turn to action, at least on an experimental scale.\n\n   [View in Article](#endnote-sup-1)\n2. CB Insights. Gen AI Investment Database, Aug 21, 2024. This data excludes Open AI. It includes funding to companies that are developing agentic AI with “varying degrees of autonomy.”\n\n   [View in Article](#endnote-sup-2)\n3. Kate Clark, “[Investors undaunted by spate of AI acqui-hires](https://www.theinformation.com/articles/investors-undaunted-by-spate-of-ai-acqui-hires?rc=sbdjv8),” *The Information*, Aug. 19, 2024.\n\n   [View in Article](#endnote-sup-3)\n4. Cambridge English Dictionary, “[Agency](https://dictionary.cambridge.org/us/dictionary/english/agency),” accessed Aug. 26, 2024.\n\n   [View in Article](#endnote-sup-4)\n5. Cambridge English Dictionary, “[Autonomous](https://dictionary.cambridge.org/us/dictionary/english/autonomous),” accessed Aug. 26, 2024.\n\n   [View in Article](#endnote-sup-5)\n6. For humans, agency and autonomy are moral and political concepts. In the context of gen AI agents, we are speaking only of the extent to which software-based technology has scope to design and perform tasks without human direction.\n\n   [View in Article](#endnote-sup-6)\n7. Faruk Muratovic, Duncan Stewart, and Prashant Raman, “[Tech companies lead the way on generative AI: Does code deserve the credit?](https://www2.deloitte.com/us/en/insights/industry/technology/gen-ai-coding-tools.html)” *Deloitte Insights*, Aug. 2, 2024.\n\n   [View in Article](#endnote-sup-7)\n8. Scott Wu, “[Introducing Devin, the first AI software engineer](https://www.cognition.ai/blog/introducing-devin),” Cognition Software, March 12, 2024.\n\n   [View in Article](#endnote-sup-8)\n9. Rina Diane Caballar, “[AI Coding is going from copilot to autopilot](https://spectrum.ieee.org/ai-code-generator),” *IEEE Spectrum*, April 9, 2024.\n\n   [View in Article](#endnote-sup-9)\n10. Jenna Barron, “[Codeium’s new Cortex assistant utilizes complex reasoning engine for coding help](https://sdtimes.com/ai/codeiums-new-cortex-assistant-utilizes-complex-reasoning-engine-for-coding-help/),” *SD Times*, Aug. 14, 2024; Aswin Ak, “[OpenDevin: An artificial intelligence platform for the development of powerful AI agents that interact in similar ways to those of a human developer](https://www.marktechpost.com/2024/07/28/opendevin-an-artificial-intelligence-platform-for-the-development-of-powerful-ai-agents-that-interact-in-similar-ways-to-those-of-a-human-developer/),” *Marktechpost*, July 28, 2024.\n\n    [View in Article](#endnote-sup-10)\n11. Carl Franzen, “[Codium announces Codiumate, a new AI agent that seeks to be Devin for enterprise software development](https://venturebeat.com/programming-development/codium-announces-codiumate-a-new-ai-agent-that-seeks-to-be-devin-for-enterprise-software-development/),” *VentureBeat*, April 3, 2024.\n\n    [View in Article](#endnote-sup-11)\n12. Cognition Software, “[SWE-bench technical report](https://www.cognition.ai/blog/swe-bench-technical-report),” March 15, 2024.\n\n    [View in Article](#endnote-sup-12)\n13. Big tech companies continue to improve their software co-pilots to make them more like gen AI agents. For example, see: Alex Woodie, “[The semi-autonomous agents of amazon Q](https://www.datanami.com/2024/05/03/the-semi-autonomous-agents-of-amazon-q/),” *BigDATAWire*, May 3, 2024.\n\n    [View in Article](#endnote-sup-13)\n14. Molly Talbert, “[Overcoming disruption in a distributed world: Insights from the Anatomy of Work Index 2021](https://asana.com/resources/anatomy-of-work-index),” Asana, January 14, 2024.\n\n    [View in Article](#endnote-sup-14)\n15. Total factor productivity, which measures how efficiently both capital and labour are used, can be a proxy for knowledge worker efficiency. Knowledge work requires access to capital-intensive technology, and effectively designed processes.\n\n    [View in Article](#endnote-sup-15)\n16. US Bureau of Labor Statistics, “[Table A. Productivity, output, and inputs in the private nonfarm business and private business sectors for selected periods, 1987-2023](https://www.bls.gov/news.release/prod3.ta.htm),” March 3, 2024.\n\n    [View in Article](#endnote-sup-16)\n17. Organisation for Economic Co-operation and Development, “[Multifactor productivity](https://www.oecd.org/en/data/indicators/multifactor-productivity.html),” accessed Oct. 30, 2024.\n\n    [View in Article](#endnote-sup-17)\n18. Jim Rowan, Beena Ammanath, Costi Perricos, Brenna Sniderman, and David Jarvis, [State of gen AI in the Enterprise](https://www2.deloitte.com/us/en/pages/consulting/articles/state-of-generative-ai-in-enterprise.html), Q3 report, Deloitte, August 2024.\n\n    [View in Article](#endnote-sup-18)\n19. Ibid.\n\n    [View in Article](#endnote-sup-19)\n20. Ibid.\n\n    [View in Article](#endnote-sup-20)\n21. Ibid.\n\n    [View in Article](#endnote-sup-21)\n22. James O’Donnell, “[Why OpenAI’s new model is such a big deal](https://www.technologyreview.com/2024/09/17/1104004/why-openais-new-model-is-such-a-big-deal/),” *MIT Technology Review*, Sept. 17, 2024.\n\n    [View in Article](#endnote-sup-22)\n23. Janakiram MSV, “[AI agents: Key concepts and how they overcome LLM limitations](https://thenewstack.io/ai-agents-key-concepts-and-how-they-overcome-llm-limitations/#:~:text=LLMs%20are%20often%20poor%20at,learned%20from%20vast%20textual%20datasets),” *The New Stack*, June 11, 2024.\n\n    [View in Article](#endnote-sup-23)\n24. “OpenAI, “[Learning to Reason with LLMs](https://openai.com/index/learning-to-reason-with-llms/),” Sept. 12, 2024.\n\n    [View in Article](#endnote-sup-24)\n25. Anna Gutowska, “[What are AI Agents?](https://www.ibm.com/think/topics/ai-agents)” IBM, July 3, 2024.\n\n    [View in Article](#endnote-sup-25)\n26. Janakiram MSV, “[AI agents: Key concepts and how they overcome LLM limitations](https://thenewstack.io/ai-agents-key-concepts-and-how-they-overcome-llm-limitations/#:~:text=LLMs%20are%20often%20poor%20at,learned%20from%20vast%20textual%20datasets).”\n\n    [View in Article](#endnote-sup-26)\n27. Simon Willison, “[Notes on OpenAI’s new o1 chain-of-thought models](https://simonwillison.net/2024/Sep/12/openai-o1/),” Simon Willison’s Blog, Sept. 12, 2024.\n\n    [View in Article](#endnote-sup-27)\n28. Hamidou Dia, “[So much more than gen AI: Meet all the other AI making AI agents possible](https://cloud.google.com/transform/more-than-gen-ai-other-ai-ml-technologies-making-ai-agents),” Google Cloud Blog, Aug. 20, 2024.\n\n    [View in Article](#endnote-sup-28)\n29. Vivek Kulkarni, Scott Holcomb, Prakul Sharma, Edward Van Buren and Caroline Ritter, “[How AI agents are reshaping the future of work](https://www2.deloitte.com/us/en/pages/consulting/articles/generative-ai-agents-multiagent-systems.html),” Deloitte AI Institute, November 2024.\n\n    [View in Article](#endnote-sup-29)\n30. *The Economist*, “[Today’s AI models are impressive. Teams of them will be formidable](https://www.economist.com/science-and-technology/2024/05/13/todays-ai-models-are-impressive-teams-of-them-will-be-formidable),” May 13, 2024.\n\n    [View in Article](#endnote-sup-30)\n31. CB Insights, “[The multi-agent AI outlook: Here’s what you need to know about the next major development in genAI](https://www.cbinsights.com/research/multi-agent-ai-outlook/),” Aug. 30, 2024.\n\n    [View in Article](#endnote-sup-31)\n32. Mike Desmarais, “[The call center burnout problem](https://www.sqmgroup.com/resources/library/blog/call-center-burnout-rate-problem),” SQM Group, Feb. 24, 2023.\n\n    [View in Article](#endnote-sup-32)\n33. It’s important to balance the work of human agents. When they get only the most complicated and difficult cases, it can lead to burnout. See Sue Cantrell, et al., “[Strengthening the bonds of human and machine collaboration](https://www2.deloitte.com/us/en/insights/topics/talent/human-machine-collaboration.html),” *Deloitte Insights*, Nov. 22, 2022.\n\n    [View in Article](#endnote-sup-33)\n34. Sierra, “[Sonos elevates the listener experience](https://sierra.ai/customers/sonos),” Feb. 13, 2024.\n\n    [View in Article](#endnote-sup-34)\n35. Michelle Meineke, “[The cybersecurity industry has an urgent talent shortage. Here’s how to plug the gap](https://www.weforum.org/agenda/2024/04/cybersecurity-industry-talent-shortage-new-report/),” World Economic Forum, April 28, 2024.\n\n    [View in Article](#endnote-sup-35)\n36. Ken Yeung, “[Dropzone AI gets $16.85M for autonomous cybersecurity AI agents that reduce manual work by 90 percent](https://venturebeat.com/ai/dropzone-ai-raises-17m-from-theory-ventures-for-its-autonomous-cybersecurity-ai-agents/),” *VentureBeat*, April 25, 2024.\n\n    [View in Article](#endnote-sup-36)\n37. Simon Thomsen, “[Software development cybersec startup Nullify banks $1.1 million pre-seed round](https://www.startupdaily.net/topic/funding/software-development-cybersec-startup-nullify-banks-1-1-million-pre-seed-round/),” *Startup Daily*, June 26, 2023.\n\n    [View in Article](#endnote-sup-37)\n38. Kyt, Dotson, “[Norm Ai raises $27M to help businesses handle regulatory compliance with AI agents](https://siliconangle.com/2024/06/26/norm-ai-raises-27m-help-businesses-handle-regulatory-compliance-ai-agents/),” *SiliconANGLE*, June 26, 2024.\n\n    [View in Article](#endnote-sup-38)\n39. Rowan, [State of Generative AI in the Enterprise](https://www2.deloitte.com/us/en/pages/consulting/articles/state-of-generative-ai-in-enterprise.html), Q3 report.\n\n    [View in Article](#endnote-sup-39)\n40. Ron Miller, “[With Vertex AI Agent Builder, Google Cloud aims to simplify agent creation](https://techcrunch.com/2024/04/09/with-vertex-ai-agent-builder-google-cloud-aims-to-simplify-agent-creation/),” *TechCrunch*, April 9, 2024.\n\n    [View in Article](#endnote-sup-40)\n41. Iris Coleman, “[Paradigm utilizes LangChain and LangSmith for advanced AI-driven spreadsheets](https://blockchain.news/news/paradigm-utilizes-langchain-langsmith-ai-spreadsheets),” *Blockchain.News*, Sept. 5, 2024.\n\n    [View in Article](#endnote-sup-41)\n42. *The Economist*, “[Today’s AI models are impressive](https://www.economist.com/science-and-technology/2024/05/13/todays-ai-models-are-impressive-teams-of-them-will-be-formidable).”\n\n    [View in Article](#endnote-sup-42)\n43. Maria Korolov, “[AI agents will transform business processes — and magnify risks](https://www.cio.com/article/3489045/ai-agents-will-transform-business-processes-and-magnify-risks.html),” *CIO*, Aug. 21, 2024.\n\n    [View in Article](#endnote-sup-43)\n44. Rowan, [State of Generative AI in the Enterprise](https://www2.deloitte.com/us/en/pages/consulting/articles/state-of-generative-ai-in-enterprise.html), Q3 report.\n\n    [View in Article](#endnote-sup-44)\n\n### Acknowledgments\n\nAuthors would like thank **Chris Arkenberg**, **Duncan Stewart**, and **Ankit Dhameja**.\n\nCover image by: **Jaime Austin**; Getty Images, Adobe Stock.\n\n### Copyright and legal information\n\n*This article contains general information and predictions only and Deloitte is not, by means of this article, rendering accounting, business, financial, investment, legal, tax, or other professional advice or services. This article is not a substitute for such professional advice or services, nor should it be used as a basis for any decision or action that may affect your business. Before making any decision or taking any action that may affect your business, you should consult a qualified professional advisor.*\n\n*Deloitte shall not be responsible for any loss sustained by any person who relies on this article.*\n\n***About Deloitte***\n\n*Deloitte refers to one or more of Deloitte Touche Tohmatsu Limited, a UK private company limited by guarantee (“DTTL”), its network of member firms, and their related entities. DTTL and each of its member firms are legally separate and independent entities. DTTL (also referred to as “Deloitte Global”) does not provide services to clients. In the United States, Deloitte refers to one or more of the US member firms of DTTL, their related entities that operate using the “Deloitte” name in the United States and their respective affiliates. Certain services may not be available to attest clients under the rules and regulations of public accounting. Please see [www.deloitte.com/about](http://www.deloitte.com/about) to learn more about our global network of member firms.*\n\n#### Visit the Deloitte Center for Technology, Media & Telecommunications\n\n[Get more insights](https://www2.deloitte.com/us/en/insights/research-centers/center-for-technology-media-telecommunications.html?icid=get-more-insights_click)\n\nAccess more insights for the technology, media, and entertainment; semiconductor; telecommunication; and sports sectors.\n\n### Related Content\n\n[### Tech companies lead the way on generative AI: Does code deserve the credit?\n\nAre gen AI coding tools the thin edge of the wedge that can lead to wider use of gen AI across all industries?\n\nArticle\n •\n5-min read](/us/en/insights/industry/technology/gen-ai-coding-tools.html)\n\n[### 2024 Digital Media Trends\n\nMedia and entertainment companies should be thinking more about the world ahead than the one they’re being forced to leave behind.\n\nArticle](/us/en/insights/industry/technology/digital-media-trends-consumption-habits-survey.html)\n\n[### Three ways generative AI can drive industry advantage\n\nAs investments in gen AI for business strategy begin to show value, organizations can identify the strategies that lead to greater industry advantage.\n\nArticle\n •\n8-min read](/us/en/insights/topics/strategy/artificial-intelligence-in-business.html)\n\n[### Focusing on the foundation: How digital transformation investments have changed in 2024\n\nA year-over-year analysis of tech investments reveals changing priorities. What do these changes mean for tech ROI and digital value?\n\nArticle\n •\n7-min read](/us/en/insights/topics/digital-transformation/where-are-organizations-getting-the-most-roi-from-tech-investments.html)\n\n#### EXPLORE MORE TOPICS IN THIS ARTICLE\n\n* [Media & Entertainment](/us/en/insights/tags/media-and-entertainment.html.html?icid=explore-more-topics-in-this-article_click)\n* [Technology Industry](/us/en/insights/tags/technology-industry.html.html?icid=explore-more-topics-in-this-article_click)\n\nDeloitte Insights and our research centers deliver proprietary research designed to help organizations turn their aspirations into action.\n\n#### Deloitte Insights\n\n* [Home](/us/en/insights.html?icid=dibottom_insights)\n* [Topics](/us/en/insights/topic.html?icid=dibottom_topic)\n* [Industries](/us/en/insights/industries.html?icid=dibottom_industries)\n* [About Deloitte Insights](/us/en/insights/about-deloitte-insights.html?icid=dibottom_about-deloitte-insights)\n\n#### DELOITTE RESEARCH CENTERS\n\n* [Cross-Industry](/us/en/insights/research-centers/center-for-integrated-research.html?icid=dibottom_center-for-integrated-research)\n* [Economics](/us/en/insights/research-centers/economics.html?icid=dibottom_economics)\n* [Consumer](/us/en/insights/research-centers/consumer-industry-center.html?icid=dibottom_consumer-industry-center)\n* [Energy & Industrials](/us/en/insights/research-centers/center-energy-industrials.html?icid=dibottom_center-energy-industrials)\n* [Financial Services](/us/en/insights/research-centers/center-for-financial-services.html?icid=dibottom_center-for-financial-services)\n* [Government & Public Services](/us/en/insights/research-centers/center-for-government-insights.html?icid=dibottom_center-for-government-insights)\n* [Life Sciences & Health Care](/us/en/insights/research-centers/center-for-health-solutions.html?icid=dibottom_center-for-health-solutions)\n* [Tech, Media & Telecom](/us/en/insights/research-centers/center-for-technology-media-telecommunications.html?icid=dibottom_center-for-technology-media-telecommunications)\n\n[![Deloitte logo](/content/dam/insights/di-new-templates-images/DEL_SEC_RGB_70x15.png \"DELOITTE\")](/us/en.html)\n\nLearn about Deloitte’s offerings, people, and culture as a global provider of audit, assurance, consulting, financial advisory, risk advisory, tax, and related services.\n\n© 2025. See [Terms of Use](https://www2.deloitte.com/us/en/legal/terms-of-use.html) for more information.\n\nDeloitte refers to one or more of Deloitte Touche Tohmatsu Limited, a UK private company limited by guarantee (\"DTTL\"), its network of member firms, and their related entities. DTTL and each of its member firms are legally separate and independent entities. DTTL (also referred to as \"Deloitte Global\") does not provide services to clients. In the United States, Deloitte refers to one or more of the US member firms of DTTL, their related entities that operate using the \"Deloitte\" name in the United States and their respective affiliates. Certain services may not be available to attest clients under the rules and regulations of public accounting. Please see www.deloitte.com/about to learn more about our global network of member firms.\n\n* [About Deloitte](/us/en/pages/about-deloitte/articles/about-deloitte.html?icid=dibottom_about-deloitte)\n* [Terms of Use](/us/en/legal/terms-of-use.html?icid=dibottom_terms-of-use)\n* [Privacy](/us/en/legal/privacy-index.html?icid=dibottom_privacy-index)\n* [Data Privacy Framework](/us/en/legal/data-privacy-framework.html?icid=dibottom_data-privacy-framework)\n* [Cookies](https://cookienotice.deloitte.com/?icid=dibottom_https://cookienotice.deloitte.com/)\n* [Cookie Settings](/us/en/legal/do-not-sell-my-personal-information.html?icid=dibottom_do-not-sell-my-personal-information)\n* [Legal Information for Job Seekers](/us/en/legal/join-deloitte-legal-information-for-job-seekers.html?icid=dibottom_join-deloitte-legal-information-for-job-seekers)\n* [Labor Condition Applications](/us/en/legal/labor-condition-applications.html?icid=dibottom_labor-condition-applications)\n* [Do Not Sell My Personal Information](/us/en/legal/do-not-sell-my-personal-information.html?icid=dibottom_do-not-sell-my-personal-information)\n\nPlease enable JavaScript to view the site.\n\n![](//googleads.g.doubleclick.net/pagead/viewthroughconversion/933697776/?value=0&guid=ON&script=0)\n\n![](https://dc.ads.linkedin.com/collect/?pid=53506&fmt=gif)\n\n![](https://px.ads.linkedin.com/collect/?pid=5930770&fmt=gif)\n\nAI Agents: Current Status, Industry Impact, and Job Market Implications | by ByteBridge | Feb, 2025 | Medium\n[Open in app](https://rsci.app.link/?%24canonical_url=https%3A%2F%2Fmedium.com%2Fp%2Ff8f1ccd0e01f&%7Efeature=LoOpenInAppButton&%7Echannel=ShowPostUnderUser&source=---top_nav_layout_nav-----------------------------------------)\n\nSign up\n\n[Sign in](https://medium.com/m/signin?operation=login&redirect=https%3A%2F%2Fbytebridge.medium.com%2Fai-agents-current-status-industry-impact-and-job-market-implications-f8f1ccd0e01f&source=post_page---top_nav_layout_nav-----------------------global_nav------------------)\n\n[Write](https://medium.com/m/signin?operation=register&redirect=https%3A%2F%2Fmedium.com%2Fnew-story&source=---top_nav_layout_nav-----------------------new_post_topnav------------------)\n\nSign up\n\n[Sign in](https://medium.com/m/signin?operation=login&redirect=https%3A%2F%2Fbytebridge.medium.com%2Fai-agents-current-status-industry-impact-and-job-market-implications-f8f1ccd0e01f&source=post_page---top_nav_layout_nav-----------------------global_nav------------------)\n\n![](https://miro.medium.com/v2/resize:fill:64:64/1*dmbNkD5D-u45r44go_cf0g.png)\n# AI Agents: Current Status, Industry Impact, and Job Market Implications\n\n[![ByteBridge](https://miro.medium.com/v2/resize:fill:88:88/1*7S98-LzIKmBg7WUmY0ZN1w.png)](/?source=post_page---byline--f8f1ccd0e01f---------------------------------------)\n\n[ByteBridge](/?source=post_page---byline--f8f1ccd0e01f---------------------------------------)\n\n·\n\n[Follow](https://medium.com/m/signin?actionUrl=https%3A%2F%2Fmedium.com%2F_%2Fsubscribe%2Fuser%2Fdef7c39e9492&operation=register&redirect=https%3A%2F%2Fbytebridge.medium.com%2Fai-agents-current-status-industry-impact-and-job-market-implications-f8f1ccd0e01f&user=ByteBridge&userId=def7c39e9492&source=post_page-def7c39e9492--byline--f8f1ccd0e01f---------------------post_header------------------)\n\n14 min read·Feb 5, 2025\n\n--\n\nListen\n\nShare\n\n# What is an AI Agent?\n\nAn AI agent is a software entity designed to perform tasks autonomously or semi-autonomously using artificial intelligence techniques. These agents can perceive their environment, make decisions, and take actions to achieve specific goals. AI agents leverage technologies such as machine learning, deep learning, and natural language processing (NLP) to understand, learn, and execute tasks. They range from simple chatbots to complex systems capable of solving intricate problems and making decisions.\n\nFor instance, in the healthcare industry, AI agents can assist in diagnosing diseases by analyzing medical data, while in finance, they can detect fraudulent transactions by monitoring patterns and anomalies. Recent advancements in machine learning, such as enhanced NLP models with better contextual understanding and breakthroughs in reinforcement learning, have significantly improved the capabilities of AI agents. Additionally, developments in quantum machine learning and federated learning have further expanded their potential applications.\n\nDespite their capabilities, AI agents also face limitations such as the need for large datasets for training, potential biases in decision-making, and challenges in understanding context or nuances in human language. Primary sources of bias include data bias, algorithmic bias, human bias, feedback loops, and deployment context. Strategies to mitigate these biases involve developing robust and interpretable AI models, ensuring high-quality and diverse training data, and implementing ethical considerations in AI development.\n\nMoreover, AI agents are continuously improving in handling the challenges of understanding context and nuances in human language. Advances in NLP, contextual understanding, sentiment analysis, and conversational agents have led to more human-like interactions and accurate responses. These improvements are crucial for AI agents to perform effectively across various industries, enhancing their efficiency and effectiveness in specific tasks\n\n# How AI Agents Will Change the Industry\n\nAI agents are poised to revolutionize various industries by enhancing productivity, reducing costs, and enabling new business models.\n\nOrganizations implementing AI agents report average monthly savings of $80,000 through multiple benefits: task automation, continuous availability, scalability, reduced training costs, improved efficiency, data-driven insights, error reduction, and enhanced customer experiences. The ROI calculation encompasses identifying automation opportunities, cost assessment, implementation, performance measurement, and savings analysis. McKinsey projects AI’s contribution to corporate productivity growth at $4.4 trillion, highlighting its transformative business impact. This projection aligns with current applications and future trends in AI technology adoption, with 71% of executives anticipating AI agents enhancing workflow automation. Industries including healthcare, finance, manufacturing, and retail increasingly utilize AI for predictive analytics, process automation, personalized recommendations, and advanced data analysis.\n\n## Key impacts include:\n\n1. **Increased Productivity:** AI agents automate repetitive tasks, enabling human workers to focus on complex and creative activities. They are expected to drive a 30% increase in workplace productivity. In manufacturing, AI agents manage assembly lines, reducing downtime and increasing output. Siemens exemplifies this through documented case studies showing significant productivity gains. Manufacturing-specific AI agents have demonstrated increases in productivity by 20–30%, reductions in operational costs by 15–20%, and decreases in equipment downtime by 20–25%.\n2. **Cost Reduction:** Through automation, AI agents reduce labor costs and minimize human errors, generating substantial savings. Notably, 82% of financial institutions report decreased operational costs due to AI implementation. These savings are quantified through cost-benefit analysis and ROI calculations, with variations observed across different financial institutions based on implementation scale, task complexity, and initial investment.\n3. **New Business Models:** AI agents facilitate innovative business models through new services and products. AI-driven personalized marketing strategies create additional revenue streams for retail businesses, particularly through subscription-based services and AI-as-a-Service (AIaaS) platforms. Personalized marketing using AI has demonstrated revenue increases of 10–30%, with the global AI retail market projected to reach $31 billion by 2028.\n4. **Enhanced Decision-Making:** AI agents excel at rapid data analysis, providing valuable insights for decision-making. In finance, AI predicts market trends with success rates of 60–80%, surpassing traditional methods’ 50–60% accuracy. Model performance varies based on data quality, model complexity, and specific financial sector applications.\n5. **Improved Customer Service:** AI-powered chatbots and virtual assistants provide continuous customer support, enhancing satisfaction through efficient inquiry handling and reduced wait times. Performance is measured through First Response Time (FRT), Customer Satisfaction (CSAT), and Net Promoter Score (NPS). Leading platforms include IBM Watson, Google Assistant, Amazon Alexa, and Microsoft Cortana.\n6. **Scalability:** Organizations can expand operations without proportional increases in human resources. AI optimizes supply chain management in logistics, enabling growth without significant staffing increases. In retail, AI-driven inventory management systems have reduced stockouts by 35% while increasing sales by 10%.\n7. **Innovation and Creativity:** By handling routine tasks, AI agents free human workers to focus on innovation and creativity. In technology sectors, AI manages routine coding, allowing developers to concentrate on complex problem-solving. This has resulted in 15% increased production efficiency in manufacturing and 25% improved diagnostic accuracy in healthcare.\n8. **Enhanced Data Management:** AI agents excel in managing and processing large datasets, improving data integrity and utilization. In research applications, AI accelerates scientific discoveries through faster data analysis. In manufacturing, AI-driven predictive maintenance has reduced downtime by 20%, enhancing overall productivity and efficiency.\n\n[**Kompas AI**](https://kompas.ai) **independently researched and wrote this report. AI-powered tools make it easy and fast to generate similar reports.**\n\n# How AI Agents Will Change the Job Market\n\nThe job market for AI agents is expected to undergo significant changes, driven by advancements in technology and evolving industry needs. Key trends include:\n\n1. **Increased Automation:** AI will disrupt the recruitment and staffing industry by automating tasks like resume screening and candidate matching. By 2025, AI is expected to automate more jobs, potentially replacing full-time careers. For example, AI-driven platforms like HireVue are already being used to screen candidates through video interviews, analyzing their responses and body language. Metrics such as the reduction in time-to-hire by up to 90% and improved candidate-job fit are used to measure the impact of these AI-driven processes.\n2. **Demand for Specialized Skills:** There will be a growing demand for AI professionals with skills in machine learning, natural language processing, and data analytics. Companies will seek experts who can develop, implement, and maintain AI systems, as well as those who can interpret and leverage AI-generated insights. Educational programs focusing on these areas, such as specialized AI and data science degrees, bootcamps, and online courses, are proving effective in preparing individuals for these roles. For instance, AI bootcamps report job placement rates between 74% to 90% within six months of graduation, while AI degree programs boast a 94% job placement rate within six months, with an average starting salary of $105,000 per year.\n3. **Legal and Ethical Considerations:** Concerns about bias in AI algorithms, data privacy, and transparency will become more prominent. For instance, the use of AI in hiring processes has raised questions about fairness and the potential for discriminatory practices, prompting calls for stricter regulations and ethical guidelines. Frameworks such as the EU’s General Data Protection Regulation (GDPR) and the proposed AI Act aim to address these issues by enforcing transparency and accountability in AI systems. Documented instances of bias include Amazon’s 2018 AI recruiting tool, which was scrapped for being biased against women, and a 2019 study by the National Bureau of Economic Research that found AI systems favored candidates with names that sounded white.\n4. **Shift in Job Roles:** Human recruiters will focus more on strategic tasks such as relationship building and complex decision-making. As AI handles more administrative and repetitive tasks, recruiters will have more time to engage with candidates and develop long-term talent strategies. This shift is expected to enhance the overall recruitment process by allowing human recruiters to leverage their unique interpersonal skills.\n5. **AI in Employee Management:** AI will play a larger role in performance tracking, personalized training programs, and predictive analytics. Tools like Workday and SAP SuccessFactors are already incorporating AI to provide insights into employee performance and to tailor development programs to individual needs. These tools use metrics such as employee engagement scores, performance review outcomes, and training completion rates to quantitatively improve employee management. For example, SAP SuccessFactors has been shown to improve employee productivity by up to 20%.\n6. **Gig Employment:** There is likely to be an increased reliance on gig employment and freelancers as companies adapt to the changing job landscape. Platforms like Upwork and Fiverr are expected to see more AI-driven matching of freelancers to projects, optimizing the gig economy. The projected economic impacts include increased productivity and cost savings, with AI facilitating more efficient matching processes and reducing the time required to find suitable freelancers. Businesses using Fiverr report saving up to 30% on costs and a 50% increase in productivity.\n7. **Time Savings:** AI agents are currently saving workers one day a week, with projections to increase to 2.5 days a week by 2026. This increased efficiency will allow employees to focus on higher-value tasks and improve overall productivity. The time saved is often measured through metrics such as reduced task completion times and increased output quality.\n\n# Current Status of AI Agent Development\n\nAs of 2025, AI agent development has made significant practical advances across various domains. Here are the key developments and their real-world applications:\n\n* **Enterprise Solutions:** Major companies like Microsoft, Google, and Amazon have launched AI agents specifically designed for business operations. Microsoft’s Copilot for Microsoft 365 has shown a 70% increase in productivity for routine tasks, measured through metrics such as a 30% increase in code development speed, a 20% reduction in code errors, and a 40% improvement in overall developer satisfaction. Additionally, in 2024, Copilot reported a 20% increase in productivity for users, with a 30% reduction in time spent on repetitive tasks, a 25% improvement in task completion rates, and a 15% increase in user satisfaction. Google’s Duet AI has reduced document processing time by 55%. These enterprise AI agents are being used in customer service, data analysis, and workflow automation, with documented cost savings of 30–40% in operational expenses. These savings vary across industries, with manufacturing saving $1.2 billion, healthcare $900 million, and retail $750 million, among others. Small businesses save an average of $50,000 annually, medium-sized businesses $500,000, and large enterprises $5,000,000.\n* **Autonomous Systems:** AI agents in autonomous vehicles have achieved Level 4 autonomy in controlled environments, with companies like Waymo and Cruise operating commercial services in select cities. These systems handle unexpected situations with 92% accuracy, attributed to factors such as the quality and quantity of training data, algorithm design, sensor precision, and real-time data processing capabilities. Waymo and Cruise differ in their approaches, with Waymo focusing on extensive real-world testing and Cruise emphasizing simulation-based training. In manufacturing, AI agents are managing complex production lines, reducing errors by 85% and increasing efficiency by 40%.\n* **Healthcare Applications**: AI agents are now actively assisting in medical diagnosis, achieving 95% accuracy in identifying common conditions through image analysis. For instance, AI systems have shown up to 94.5% accuracy in diagnosing diabetic retinopathy, 92.5% in detecting skin cancer, and 87% in identifying pneumonia from chest X-rays. They’re processing patient data 60% faster than traditional methods and reducing administrative workload by 45%. Notable implementations include Mayo Clinic’s diagnostic AI system, which has helped analyze over 1 million patient cases with a 93% accuracy rate. Comparative success rates across different medical conditions and institutions show similar high performance, with AI systems consistently outperforming traditional diagnostic methods.\n* **Financial Services:** AI agents are revolutionizing trading and risk assessment, with automated systems handling 65% of daily trading volume. These agents can process market data 1000 times faster than human traders and have improved fraud detection rates by 75%. Companies like JPMorgan and Goldman Sachs report 40% cost reduction in routine financial operations through AI agent implementation. In 2024, AI fraud detection significantly impacted financial market stability by reducing fraudulent activities by 35%, enhancing investor confidence, and improving market efficiency. AI systems led to a 20% decrease in financial fraud cases and a 15% increase in the detection rate of suspicious transactions, outperforming traditional methods that rely on rule-based systems and manual reviews.\n\n**Current development challenges include:**\n\n* Integration complexity with legacy systems (affecting 60% of implementations), primarily due to data compatibility issues, scalability problems, and technical debt.\n* Data privacy concerns (cited by 75% of organizations), with measures such as data anonymization, encryption, and federated learning being implemented to address these issues.\n* Need for continuous human oversight (required in 85% of applications).\n* Reliability issues in edge cases (occurring in 15% of scenarios).\n\nThe focus has shifted from pure technological advancement to practical implementation and optimization. Organizations are reporting an average of 18 months from pilot to full deployment, with success rates improving from 35% in 2023 to 65% in 2025. Industry standards are emerging, with the ISO/IEC establishing specific guidelines for AI agent deployment and evaluation.\n\nRecent breakthroughs in multimodal learning and context understanding have enabled AI agents to handle complex tasks with human-like comprehension. For example, customer service AI agents now resolve 80% of queries without human intervention, up from 45% in 2023. These improvements are supported by enhanced error rates below 5% in standard operations and response times averaging under 2 seconds.\n\n[Kompas AI](https://kompas.ai) specializes in creating detailed and well-researched reports. AI-powered writing tools can help you produce similar high-quality content effortlessly\n\n# Market Growth and Strategic Trends\n\n## Market Growth:\n\nThe AI agent market is projected to grow from $5.1 billion in 2024 to $47.1 billion in 2025. This remarkable expansion is driven by enhanced customer experiences, operational efficiencies, and business transformation through automation and data insights. Key growth catalysts include widespread industry adoption, technological advancements, and increased AI research investment. Government support, exemplified by a $2 billion allocation in 2025 for research, education, infrastructure, and public-private partnerships, further accelerates this trajectory. The growth is particularly fueled by rising automation demands in customer service, substantial AI R&D investments, and AI agent integration in smart devices. Technological progress in natural language processing, machine learning algorithms, IoT integration, and security features continues to make AI agents more efficient, accurate, and versatile across industries.\n\nIn 2025, AI agent adoption spans diverse sectors with notable applications:\n\n* Healthcare: Diagnostic assistance, patient monitoring, personalized treatment plans, and administrative tasks\n* Finance: Fraud detection, customer service, investment analysis, and automated trading\n* Retail: Personalized recommendations, inventory management, and customer support chatbots\n* Manufacturing: Supply chain optimization, predictive maintenance, and quality control\n* Transportation: Route optimization, autonomous driving, and fleet management\n* Education: Personalized learning experiences, administrative support, and student performance analytics\n* Human Resources: Recruitment process automation, employee engagement, and performance management\n\n## Strategic Technology Trend:\n\nAI agents have emerged as a pivotal strategic technology trend, transforming industries through automation, enhanced decision-making, and personalized experiences. Their strategic significance is characterized by adaptability, autonomy, interactivity, scalability, security, explainability, integration capabilities, and ethical alignment.\n\n1. AI agents enhance decision-making and personalized experiences through mechanisms such as real-time data analysis, predictive analytics, and machine learning algorithms. For instance, in healthcare, AI agents analyze patient data to provide personalized treatment plans and predict potential health risks. In finance, they assess transaction patterns to detect fraud and offer tailored financial advice. In retail, AI agents analyze customer behavior to deliver personalized recommendations and improve inventory management.\n2. Within the broader technology landscape, AI agents drive hyperautomation by automating complex workflows and integrating various technologies to streamline operations. This leads to measurable outcomes such as a 30% to 50% reduction in operational expenses, increased efficiency, and minimized manual intervention. Industry experts project significant impacts over the next five years, particularly in edge AI, AI security, generative AI advancement, and regulatory compliance. Advancements in edge AI are expected to enhance processing power, energy efficiency, and real-time data analysis, benefiting sectors like healthcare, automotive, manufacturing, and smart cities.\n3. Gartner’s analysis identifies agentic AI as a leading strategic trend based on market dynamics, technological progress, and adoption rates. Healthcare implementations demonstrate notable improvements, with Mayo Clinic achieving 30% increased diagnostic accuracy and Johns Hopkins Hospital reducing readmissions by 25%. Similarly, financial institutions like PayPal and Bank of America leverage AI for fraud detection and customer service, resulting in substantial operational cost savings.\n4. The adaptability, autonomy, and interactivity of AI agents influence their scalability and integration capabilities in complex environments. For example, in smart cities, AI agents manage large volumes of data from IoT devices, optimize traffic management, enhance public safety, and improve energy efficiency. Ethical considerations and regulatory compliance challenges, such as bias, transparency, privacy, and security, are being addressed by industry leaders through the development of regulations, governance frameworks, and ethical design principles.\n\n## **Generative AI Agents:**\n\nCurrent development focuses on sophisticated problem-solving capabilities, supported by declining costs and enhanced functionalities. These agents excel in natural language understanding, creative content generation, and human-like interactions. The 2025 landscape features advanced natural language processing, image generation, and multimodal AI systems, enabling more sophisticated cross-industry applications.\n\nSpecific advancements in natural language processing (NLP) include enhanced contextual understanding through transformer models, nuanced sentiment analysis, improved machine translation with near-human accuracy, advanced conversational AI with better dialogue management, and integration with other AI fields for more comprehensive applications. In image generation, enhanced Generative Adversarial Networks (GANs) produce images indistinguishable from real photos, improved text-to-image models generate detailed images from textual descriptions, and real-time image synthesis is used in virtual and augmented reality. These technologies are increasingly utilized in creative industries for generating art, design, and media content, as well as in advanced deepfake detection methods.\n\nImplementation costs have decreased significantly, with small-scale projects ranging from $50,000 to $100,000, medium-scale projects from $100,000 to $500,000, and enterprise-level initiatives from $1 million to $5 million. This cost reduction stems from algorithmic efficiency improvements, lower hardware costs, and pre-trained model availability. High-performance GPUs and specialized AI chips have seen a price drop of approximately 20–30% compared to previous years, driven by advancements in technology, increased competition, more efficient manufacturing processes, and economies of scale.\n\nWhile generative AI agents offer transformative benefits across sectors, they also present ethical challenges including misinformation risks, intellectual property concerns, bias issues, and privacy considerations. Addressing these challenges remains crucial for responsible development and deployment. Measures being taken include developing more sophisticated detection methods for misinformation, implementing robust privacy protections, ensuring fairness and avoiding bias in AI models, and establishing clear guidelines for intellectual property rights and accountability in AI-generated content.\n\n# Conclusion\n\nThe integration of AI agents is anticipated to transform workplace efficiency and operational cost-effectiveness significantly. With rapid advancements and widespread adoption expected, 2025 is poised to be a transformative year for AI agents, driving substantial changes across various sectors and the job market. As AI agents continue to evolve, they will play an increasingly crucial role in shaping the future of work, business operations, and industry innovation. For instance, AI agents are expected to automate routine tasks, enhance decision-making through advanced data analytics, and provide personalized customer interactions. These capabilities will not only improve productivity but also create new business models and services, ultimately leading to a more dynamic and efficient economic landscape.\n\nRecent advancements in AI agent technology, such as improvements in natural language processing, machine learning algorithms, IoT integration, and autonomous decision-making, have already demonstrated significant improvements in workplace efficiency and operational cost-effectiveness in early adopter sectors like healthcare, finance, and customer service. For example, in healthcare, AI agents have been used to analyze medical data for faster and more accurate diagnoses, while in finance, they have been instrumental in detecting fraudulent transactions and managing risk.\n\nHowever, the widespread adoption of AI agents also presents potential risks and challenges. These include data privacy and security concerns, the perpetuation of biases present in training data, job displacement, ethical issues related to transparency and accountability, technical challenges in system integration, and navigating complex regulatory frameworks. To mitigate these risks, it is essential to implement robust data protection measures, use diverse and representative datasets, develop reskilling and upskilling programs for affected employees, establish clear ethical guidelines, invest in thorough testing and validation, and stay informed and compliant with relevant regulations and standards.\n\nThe automation of routine tasks by AI agents is expected to significantly impact employment patterns and job market dynamics across different sectors. While up to 85 million jobs may be displaced due to automation, it is also projected that 97 million new roles will emerge, adapting to the new division of labor between humans, machines, and algorithms. This shift will necessitate a focus on reskilling and upskilling the workforce to prepare for new opportunities in AI development, maintenance, and other emerging fields.\n\nIn conclusion, the integration of AI agents is set to revolutionize various industries by enhancing productivity, reducing costs, and fostering innovation. The emergence of new business models and services, such as AI-driven customer service, predictive maintenance, and personalized marketing, will contribute to economic growth and create a more dynamic and efficient economic landscape. By addressing the associated risks and challenges through proactive measures, businesses and society can fully harness the potential of AI agents to drive positive change\n\n**This detailed, comprehensive report was produced by** [**Kompas AI**](https://kompas.ai)**. Generate similar reports in minutes with AI.**\n\n[AI](https://medium.com/tag/ai?source=post_page-----f8f1ccd0e01f---------------------------------------)[Artificial Intelligence](https://medium.com/tag/artificial-intelligence?source=post_page-----f8f1ccd0e01f---------------------------------------)[Ai Agent Development](https://medium.com/tag/ai-agent-development?source=post_page-----f8f1ccd0e01f---------------------------------------)[Ai Agent](https://medium.com/tag/ai-agent?source=post_page-----f8f1ccd0e01f---------------------------------------)[OpenAI](https://medium.com/tag/openai?source=post_page-----f8f1ccd0e01f---------------------------------------)\n\n--\n\n--\n\n[![ByteBridge](https://miro.medium.com/v2/resize:fill:96:96/1*7S98-LzIKmBg7WUmY0ZN1w.png)](/?source=post_page---post_author_info--f8f1ccd0e01f---------------------------------------)[![ByteBridge](https://miro.medium.com/v2/resize:fill:128:128/1*7S98-LzIKmBg7WUmY0ZN1w.png)](/?source=post_page---post_author_info--f8f1ccd0e01f---------------------------------------)Follow[## Written by ByteBridge](/?source=post_page---post_author_info--f8f1ccd0e01f---------------------------------------)[201 Followers](/followers?source=post_page---post_author_info--f8f1ccd0e01f---------------------------------------)·[52 Following](/following?source=post_page---post_author_info--f8f1ccd0e01f---------------------------------------)\n\nKompas AI: A Better Alternative to ChatGPT’s Deep Research (<https://kompas.ai>)\n\nFollow\n## No responses yet\n\n[Help](https://help.medium.com/hc/en-us?source=post_page-----f8f1ccd0e01f---------------------------------------)[Status](https://medium.statuspage.io/?source=post_page-----f8f1ccd0e01f---------------------------------------)[About](https://medium.com/about?autoplay=1&source=post_page-----f8f1ccd0e01f---------------------------------------)[Careers](https://medium.com/jobs-at-medium/work-at-medium-959d1a85284e?source=post_page-----f8f1ccd0e01f---------------------------------------)Press[Blog](https://blog.medium.com/?source=post_page-----f8f1ccd0e01f---------------------------------------)[Privacy](https://policy.medium.com/medium-privacy-policy-f03bf92035c9?source=post_page-----f8f1ccd0e01f---------------------------------------)[Terms](https://policy.medium.com/medium-terms-of-service-9db0094a1e0f?source=post_page-----f8f1ccd0e01f---------------------------------------)[Text to speech](https://speechify.com/medium?source=post_page-----f8f1ccd0e01f---------------------------------------)[Teams](https://medium.com/business?source=post_page-----f8f1ccd0e01f---------------------------------------)\n\n"
     ]
    }
   ],
   "source": [
    "for doc in tool_output:\n",
    "    print(doc)\n",
    "    print()"
   ]
  },
  {
   "cell_type": "code",
   "execution_count": 0,
   "metadata": {
    "application/vnd.databricks.v1+cell": {
     "cellMetadata": {},
     "inputWidgets": {},
     "nuid": "759c8265-c1bb-4e12-a58d-e71072e34832",
     "showTitle": false,
     "tableResultSettingsMap": {},
     "title": ""
    }
   },
   "outputs": [],
   "source": []
  }
 ],
 "metadata": {
  "application/vnd.databricks.v1+notebook": {
   "computePreferences": null,
   "dashboards": [],
   "environmentMetadata": null,
   "language": "python",
   "notebookMetadata": {
    "pythonIndentUnit": 4
   },
   "notebookName": "M1_Creating_Agent_Tools_and_Tool_Calling_by_LLMs_with_LangChain",
   "widgets": {}
  },
  "colab": {
   "provenance": []
  },
  "kernelspec": {
   "display_name": ".venv",
   "language": "python",
   "name": "python3"
  },
  "language_info": {
   "name": "python"
  }
 },
 "nbformat": 4,
 "nbformat_minor": 0
}
