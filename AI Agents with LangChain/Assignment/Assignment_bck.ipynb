{
 "cells": [
  {
   "cell_type": "code",
   "execution_count": 1,
   "id": "f0240560",
   "metadata": {},
   "outputs": [],
   "source": [
    "!pip install -qq langchain==0.3.14\n",
    "!pip install -qq langchain-openai==0.3.0\n",
    "!pip install -qq langchain-community==0.3.14"
   ]
  },
  {
   "cell_type": "code",
   "execution_count": 2,
   "id": "5adc46d9",
   "metadata": {},
   "outputs": [],
   "source": [
    "!pip install -qq markitdown"
   ]
  },
  {
   "cell_type": "code",
   "execution_count": 3,
   "id": "46314165",
   "metadata": {},
   "outputs": [
    {
     "data": {
      "text/plain": [
       "True"
      ]
     },
     "execution_count": 3,
     "metadata": {},
     "output_type": "execute_result"
    }
   ],
   "source": [
    "import os\n",
    "from dotenv import load_dotenv\n",
    "load_dotenv()"
   ]
  },
  {
   "cell_type": "code",
   "execution_count": null,
   "id": "56001b62",
   "metadata": {},
   "outputs": [],
   "source": [
    "WEATHER_API_KEY = os.environ['OPENAI_API_KEY']"
   ]
  },
  {
   "cell_type": "code",
   "execution_count": null,
   "id": "ce94b456",
   "metadata": {},
   "outputs": [],
   "source": [
    "from langchain_core.tools import tool\n",
    "from markitdown import MarkItDown\n",
    "from langchain_community.tools.tavily_search import TavilySearchResults\n",
    "from tqdm import tqdm\n",
    "from concurrent.futures import ThreadPoolExecutor, TimeoutError\n",
    "import requests\n",
    "import json\n",
    "from warnings import filterwarnings\n",
    "filterwarnings('ignore')\n",
    "\n",
    "tavily_tool = TavilySearchResults(max_results=3,  # Reduced from 5 to 3\n",
    "                                  search_depth='basic',  # Changed from 'advanced' to 'basic'\n",
    "                                  include_answer=True,  # Include answers to reduce need for content extraction\n",
    "                                  include_raw_content=False)  # Disable raw content to save tokens\n",
    "# certain websites won't let you crawl them unless you specify a user-agent\n",
    "session = requests.Session()\n",
    "session.headers.update({\n",
    "    \"User-Agent\": \"Mozilla/5.0 (Windows NT 10.0; Win64; x64) AppleWebKit/537.36 (KHTML, like Gecko) Chrome/112.0.0.0 Safari/537.36\",\n",
    "    \"Accept-Language\": \"en-US,en;q=0.9\",\n",
    "    \"Accept-Encoding\": \"gzip, deflate, br\"\n",
    "})\n",
    "md = MarkItDown(requests_session=session)\n",
    "\n",
    "@tool\n",
    "def search_web_extract_info(query: str) -> list:\n",
    "    \"\"\"Search the web for a query and extracts useful information from the search links.\"\"\"\n",
    "    print('Calling web search tool')\n",
    "    results = tavily_tool.invoke(query)\n",
    "    docs = []\n",
    "    max_content_length = 1500  # Limit content per URL to prevent context overflow\n",
    "\n",
    "    def extract_content(url):\n",
    "        \"\"\"Helper function to extract content from a URL.\"\"\"\n",
    "        try:\n",
    "            extracted_info = md.convert(url)\n",
    "            text_title = extracted_info.title.strip() if extracted_info.title else \"No title\"\n",
    "            text_content = extracted_info.text_content.strip() if extracted_info.text_content else \"No content\"\n",
    "            \n",
    "            # Truncate content to prevent context overflow\n",
    "            if len(text_content) > max_content_length:\n",
    "                text_content = text_content[:max_content_length] + \"... [Content truncated]\"\n",
    "            \n",
    "            return f\"{text_title}\\n{text_content}\"\n",
    "        except Exception as e:\n",
    "            return f\"Error extracting content: {str(e)}\"\n",
    "    \n",
    "    # parallelize execution of different urls (limit to 3 to reduce total content)\n",
    "    limited_results = results[:3] if len(results) > 3 else results\n",
    "    with ThreadPoolExecutor() as executor:\n",
    "        for result in tqdm(limited_results):\n",
    "            try:\n",
    "                future = executor.submit(extract_content, result['url'])\n",
    "                # Wait for up to 10 seconds for the task to complete (reduced from 15)\n",
    "                content = future.result(timeout=10)\n",
    "                docs.append(content)\n",
    "            except TimeoutError:\n",
    "                print(f\"Extraction timed out for url: {result['url']}\")\n",
    "                docs.append(f\"Timeout extracting from: {result['url']}\")\n",
    "            except Exception as e:\n",
    "                print(f\"Error extracting from url: {result['url']} - {e}\")\n",
    "                docs.append(f\"Error extracting from: {result['url']}\")\n",
    "\n",
    "    return docs\n",
    "\n",
    "\n",
    "@tool\n",
    "def get_weather(query: str) -> str:\n",
    "    \"\"\"Search weatherapi to get the current weather of the queried location.\"\"\"\n",
    "    print('Calling weather tool')\n",
    "    \n",
    "    # Check if API key is properly set\n",
    "    if WEATHER_API_KEY == 'your_weather_api_key_here':\n",
    "        return \"Weather API key not configured. Please set WEATHER_API_KEY environment variable.\"\n",
    "    \n",
    "    try:\n",
    "        base_url = \"http://api.weatherapi.com/v1/current.json\"\n",
    "        complete_url = f\"{base_url}?key={WEATHER_API_KEY}&q={query}\"\n",
    "\n",
    "        response = requests.get(complete_url, timeout=10)\n",
    "        data = response.json()\n",
    "        \n",
    "        if data.get(\"location\") and data.get(\"current\"):\n",
    "            location = data[\"location\"]\n",
    "            current = data[\"current\"]\n",
    "            weather_info = f\"\"\"\n",
    "            Weather for {location['name']}, {location['region']}, {location['country']}:\n",
    "            - Temperature: {current['temp_c']}°C ({current['temp_f']}°F)\n",
    "            - Condition: {current['condition']['text']}\n",
    "            - Humidity: {current['humidity']}%\n",
    "            - Wind: {current['wind_kph']} kph\n",
    "            - Feels like: {current['feelslike_c']}°C\n",
    "            \"\"\"\n",
    "            return weather_info.strip()\n",
    "        else:\n",
    "            return f\"Weather data not found for location: {query}\"\n",
    "    except requests.exceptions.RequestException as e:\n",
    "        return f\"Error fetching weather data: {str(e)}\"\n",
    "    except Exception as e:\n",
    "        return f\"Unexpected error getting weather: {str(e)}\""
   ]
  },
  {
   "cell_type": "code",
   "execution_count": 6,
   "id": "ab9ad0f3",
   "metadata": {},
   "outputs": [
    {
     "name": "stdout",
     "output_type": "stream",
     "text": [
      "Calling weather tool\n"
     ]
    },
    {
     "data": {
      "text/plain": [
       "'Weather Data Not Found'"
      ]
     },
     "execution_count": 6,
     "metadata": {},
     "output_type": "execute_result"
    }
   ],
   "source": [
    "get_weather.invoke(\"Get weather in kolkata now\")"
   ]
  },
  {
   "cell_type": "code",
   "execution_count": 7,
   "id": "ed784e7d",
   "metadata": {},
   "outputs": [],
   "source": [
    "from langchain_openai import ChatOpenAI\n",
    "\n",
    "chatgpt = ChatOpenAI(model=\"gpt-4o\", temperature=0)\n",
    "tools = [search_web_extract_info, get_weather]\n",
    "\n",
    "chatgpt_with_tools = chatgpt.bind_tools(tools)"
   ]
  },
  {
   "cell_type": "code",
   "execution_count": 26,
   "id": "1e97e8bd",
   "metadata": {},
   "outputs": [
    {
     "data": {
      "text/plain": [
       "[{'name': 'search_web_extract_info',\n",
       "  'args': {'query': 'Local Attractions in Bangalore'},\n",
       "  'id': 'call_7SwuPH7BZUYE5eHFJA8Upxng',\n",
       "  'type': 'tool_call'},\n",
       " {'name': 'get_weather',\n",
       "  'args': {'query': 'Bangalore'},\n",
       "  'id': 'call_CHqk48QDiDmOsGCMLp3B4NUV',\n",
       "  'type': 'tool_call'}]"
      ]
     },
     "execution_count": 26,
     "metadata": {},
     "output_type": "execute_result"
    }
   ],
   "source": [
    "prompt = \"Show me Local Attractions in Bangalore and The Weather in Bangalore\"\n",
    "response = chatgpt_with_tools.invoke(prompt)\n",
    "response.tool_calls"
   ]
  },
  {
   "cell_type": "code",
   "execution_count": 27,
   "id": "1e02c43b",
   "metadata": {},
   "outputs": [],
   "source": [
    "from langchain_core.prompts import ChatPromptTemplate, MessagesPlaceholder\n",
    "\n",
    "SYS_PROMPT = \"\"\"You are a helpful travel assistant. For location queries, provide local attractions as bullet points and current weather.\n",
    "\n",
    "Tools available:\n",
    "- get_weather: Get current weather for a location\n",
    "- search_web_extract_info: Search web for specific information\n",
    "\n",
    "Keep responses concise and well-formatted.\"\"\"\n",
    "\n",
    "prompt_template = ChatPromptTemplate.from_messages(\n",
    "    [\n",
    "        (\"system\", SYS_PROMPT),\n",
    "        MessagesPlaceholder(variable_name=\"history\", optional=True),\n",
    "        (\"human\", \"{query}\"),\n",
    "        MessagesPlaceholder(variable_name=\"agent_scratchpad\"),\n",
    "    ]\n",
    ")"
   ]
  },
  {
   "cell_type": "code",
   "execution_count": 28,
   "id": "e7bcf740",
   "metadata": {},
   "outputs": [],
   "source": [
    "from langchain.agents import create_tool_calling_agent\n",
    "\n",
    "chatgpt = ChatOpenAI(model=\"gpt-4o-mini\", temperature=0)\n",
    "tools = [search_web_extract_info, get_weather]\n",
    "agent = create_tool_calling_agent(chatgpt, tools, prompt_template)"
   ]
  },
  {
   "cell_type": "code",
   "execution_count": 34,
   "id": "94eaacfe",
   "metadata": {},
   "outputs": [],
   "source": [
    "from langchain.agents import AgentExecutor\n",
    "\n",
    "agent_executor = AgentExecutor(agent=agent,\n",
    "                               tools=tools,\n",
    "                               early_stopping_method='generate',\n",
    "                               max_iterations=3,\n",
    "                               handle_parsing_errors=True)"
   ]
  },
  {
   "cell_type": "code",
   "execution_count": 35,
   "id": "51e05b02",
   "metadata": {},
   "outputs": [
    {
     "name": "stdout",
     "output_type": "stream",
     "text": [
      "Calling web search tool\n"
     ]
    },
    {
     "name": "stderr",
     "output_type": "stream",
     "text": [
      "100%|██████████| 3/3 [00:05<00:00,  1.75s/it]\n"
     ]
    },
    {
     "name": "stdout",
     "output_type": "stream",
     "text": [
      "Calling weather tool\n",
      "Calling weather tool\n",
      "\n",
      "Response:\n",
      "### Top 3 Attractions in Paris\n",
      "1. **Eiffel Tower**\n",
      "   - Iconic symbol of Paris with stunning views from the top.\n",
      "   \n",
      "2. **Louvre Museum**\n",
      "   - Home to thousands of works of art, including the Mona Lisa.\n",
      "\n",
      "3. **Notre-Dame Cathedral**\n",
      "   - A masterpiece of French Gothic architecture, currently under restoration.\n",
      "\n",
      "### Current Weather in Paris\n",
      "Unfortunately, I couldn't retrieve the current weather data for Paris. You may want to check a reliable weather website or app for the latest updates.\n"
     ]
    }
   ],
   "source": [
    "# Test with a simpler, more specific query to avoid context overflow\n",
    "query = \"Top 3 attractions in Paris and current weather\"\n",
    "try:\n",
    "    resp = agent_executor.invoke({\"query\": query})\n",
    "    print(\"\\nResponse:\")\n",
    "    print(resp[\"output\"])\n",
    "except Exception as e:\n",
    "    print(f\"Error: {e}\")\n",
    "    print(\"Try using a weather API key or simplifying the query\")"
   ]
  },
  {
   "cell_type": "code",
   "execution_count": 31,
   "id": "bfd3430e",
   "metadata": {},
   "outputs": [
    {
     "name": "stdout",
     "output_type": "stream",
     "text": [
      "Testing weather tool:\n",
      "Calling weather tool\n",
      "Weather data not found for location: Paris\n",
      "\n",
      "==================================================\n",
      "\n",
      "Testing search tool:\n",
      "Calling web search tool\n"
     ]
    },
    {
     "name": "stderr",
     "output_type": "stream",
     "text": [
      "100%|██████████| 3/3 [00:03<00:00,  1.28s/it]"
     ]
    },
    {
     "name": "stdout",
     "output_type": "stream",
     "text": [
      "Result 1:\n",
      "THE 15 BEST Things to Do in Paris (2025) - Must-See Attractions\n",
      "![Advertisement](data:image/gif;base64...)\n",
      "\n",
      "Skip to main content\n",
      "\n",
      "[![Tripadvisor](https://static.tacdn.com/img2/brand_refresh_2025/logos...\n",
      "------------------------------\n",
      "Result 2:\n",
      "The absolute must-do things in Paris - and what to avoid - Blogger at Large\n",
      "[Skip to Content](#content)\n",
      "\n",
      "Search\n",
      "\n",
      "Magnifying Glass\n",
      "\n",
      "Search for:\n",
      "\n",
      "Close Search\n",
      "×\n",
      "\n",
      "* [Home](https://bloggeratlarge.com//)\n",
      "*...\n",
      "------------------------------\n"
     ]
    },
    {
     "name": "stderr",
     "output_type": "stream",
     "text": [
      "\n"
     ]
    }
   ],
   "source": [
    "# Test individual tools\n",
    "print(\"Testing weather tool:\")\n",
    "weather_result = get_weather.invoke(\"Paris\")\n",
    "print(weather_result)\n",
    "\n",
    "print(\"\\n\" + \"=\"*50 + \"\\n\")\n",
    "\n",
    "print(\"Testing search tool:\")\n",
    "search_result = search_web_extract_info.invoke(\"top attractions in Paris\")\n",
    "for i, doc in enumerate(search_result[:2]):  # Show only first 2 results\n",
    "    print(f\"Result {i+1}:\")\n",
    "    print(doc[:200] + \"...\" if len(doc) > 200 else doc)\n",
    "    print(\"-\" * 30)\n"
   ]
  },
  {
   "cell_type": "code",
   "execution_count": 36,
   "id": "237f7b34",
   "metadata": {},
   "outputs": [
    {
     "name": "stdout",
     "output_type": "stream",
     "text": [
      "{'query': 'Top 3 attractions in Paris and current weather', 'output': \"### Top 3 Attractions in Paris\\n1. **Eiffel Tower**\\n   - Iconic symbol of Paris with stunning views from the top.\\n   \\n2. **Louvre Museum**\\n   - Home to thousands of works of art, including the Mona Lisa.\\n\\n3. **Notre-Dame Cathedral**\\n   - A masterpiece of French Gothic architecture, currently under restoration.\\n\\n### Current Weather in Paris\\nUnfortunately, I couldn't retrieve the current weather data for Paris. You may want to check a reliable weather website or app for the latest updates.\"}\n"
     ]
    }
   ],
   "source": [
    "print(resp)"
   ]
  },
  {
   "cell_type": "code",
   "execution_count": 37,
   "id": "e9f8c7e0",
   "metadata": {},
   "outputs": [
    {
     "ename": "TypeError",
     "evalue": "'AIMessage' object is not subscriptable",
     "output_type": "error",
     "traceback": [
      "\u001b[31m---------------------------------------------------------------------------\u001b[39m",
      "\u001b[31mTypeError\u001b[39m                                 Traceback (most recent call last)",
      "\u001b[36mCell\u001b[39m\u001b[36m \u001b[39m\u001b[32mIn[37]\u001b[39m\u001b[32m, line 2\u001b[39m\n\u001b[32m      1\u001b[39m \u001b[38;5;28;01mfrom\u001b[39;00m\u001b[38;5;250m \u001b[39m\u001b[34;01mIPython\u001b[39;00m\u001b[34;01m.\u001b[39;00m\u001b[34;01mdisplay\u001b[39;00m\u001b[38;5;250m \u001b[39m\u001b[38;5;28;01mimport\u001b[39;00m display, Markdown\n\u001b[32m----> \u001b[39m\u001b[32m2\u001b[39m display(Markdown(\u001b[43mresponse\u001b[49m\u001b[43m[\u001b[49m\u001b[33;43m'\u001b[39;49m\u001b[33;43moutput\u001b[39;49m\u001b[33;43m'\u001b[39;49m\u001b[43m]\u001b[49m))\n",
      "\u001b[31mTypeError\u001b[39m: 'AIMessage' object is not subscriptable"
     ]
    }
   ],
   "source": [
    "from IPython.display import display, Markdown\n",
    "display(Markdown(response['output']))"
   ]
  },
  {
   "cell_type": "code",
   "execution_count": null,
   "id": "a4425a3c",
   "metadata": {},
   "outputs": [],
   "source": []
  },
  {
   "cell_type": "code",
   "execution_count": null,
   "id": "a14f815d",
   "metadata": {},
   "outputs": [],
   "source": []
  }
 ],
 "metadata": {
  "kernelspec": {
   "display_name": "venv",
   "language": "python",
   "name": "python3"
  },
  "language_info": {
   "codemirror_mode": {
    "name": "ipython",
    "version": 3
   },
   "file_extension": ".py",
   "mimetype": "text/x-python",
   "name": "python",
   "nbconvert_exporter": "python",
   "pygments_lexer": "ipython3",
   "version": "3.11.6"
  }
 },
 "nbformat": 4,
 "nbformat_minor": 5
}
