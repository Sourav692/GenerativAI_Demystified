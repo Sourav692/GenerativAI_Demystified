{
 "cells": [
  {
   "cell_type": "markdown",
   "metadata": {
    "application/vnd.databricks.v1+cell": {
     "cellMetadata": {},
     "inputWidgets": {},
     "nuid": "a0d661b0-d425-4e93-97c0-649eb0dfdad2",
     "showTitle": false,
     "tableResultSettingsMap": {},
     "title": ""
    },
    "id": "TVraWpDTW8i0"
   },
   "source": [
    "# Prompting with Prompt Templates for LLM Input / Output with LangChain"
   ]
  },
  {
   "cell_type": "markdown",
   "metadata": {
    "application/vnd.databricks.v1+cell": {
     "cellMetadata": {},
     "inputWidgets": {},
     "nuid": "1d220798-933a-4da1-8224-93103dc5c1b8",
     "showTitle": false,
     "tableResultSettingsMap": {},
     "title": ""
    },
    "id": "L1KvMtf54l0d"
   },
   "source": [
    "## Install OpenAI, HuggingFace and LangChain dependencies"
   ]
  },
  {
   "cell_type": "code",
   "execution_count": 1,
   "metadata": {
    "application/vnd.databricks.v1+cell": {
     "cellMetadata": {},
     "inputWidgets": {},
     "nuid": "0704fbaa-02e2-4b27-9892-b66fc1f1392d",
     "showTitle": false,
     "tableResultSettingsMap": {},
     "title": ""
    }
   },
   "outputs": [
    {
     "name": "stdout",
     "output_type": "stream",
     "text": [
      "Requirement already satisfied: langchain==0.3.11 in /Users/sourav.banerjee/Documents/Github Codebase/GenerativAI_Demystified/.venv/lib/python3.11/site-packages (0.3.11)\n",
      "Requirement already satisfied: PyYAML>=5.3 in /Users/sourav.banerjee/Documents/Github Codebase/GenerativAI_Demystified/.venv/lib/python3.11/site-packages (from langchain==0.3.11) (6.0.2)\n",
      "Requirement already satisfied: SQLAlchemy<3,>=1.4 in /Users/sourav.banerjee/Documents/Github Codebase/GenerativAI_Demystified/.venv/lib/python3.11/site-packages (from langchain==0.3.11) (2.0.41)\n",
      "Requirement already satisfied: aiohttp<4.0.0,>=3.8.3 in /Users/sourav.banerjee/Documents/Github Codebase/GenerativAI_Demystified/.venv/lib/python3.11/site-packages (from langchain==0.3.11) (3.12.13)\n",
      "Requirement already satisfied: langchain-core<0.4.0,>=0.3.24 in /Users/sourav.banerjee/Documents/Github Codebase/GenerativAI_Demystified/.venv/lib/python3.11/site-packages (from langchain==0.3.11) (0.3.66)\n",
      "Requirement already satisfied: langchain-text-splitters<0.4.0,>=0.3.0 in /Users/sourav.banerjee/Documents/Github Codebase/GenerativAI_Demystified/.venv/lib/python3.11/site-packages (from langchain==0.3.11) (0.3.8)\n",
      "Collecting langsmith<0.3,>=0.1.17 (from langchain==0.3.11)\n",
      "  Using cached langsmith-0.2.11-py3-none-any.whl.metadata (14 kB)\n",
      "Requirement already satisfied: numpy<2,>=1.22.4 in /Users/sourav.banerjee/Documents/Github Codebase/GenerativAI_Demystified/.venv/lib/python3.11/site-packages (from langchain==0.3.11) (1.26.4)\n",
      "Requirement already satisfied: pydantic<3.0.0,>=2.7.4 in /Users/sourav.banerjee/Documents/Github Codebase/GenerativAI_Demystified/.venv/lib/python3.11/site-packages (from langchain==0.3.11) (2.11.5)\n",
      "Requirement already satisfied: requests<3,>=2 in /Users/sourav.banerjee/Documents/Github Codebase/GenerativAI_Demystified/.venv/lib/python3.11/site-packages (from langchain==0.3.11) (2.32.3)\n",
      "Requirement already satisfied: tenacity!=8.4.0,<10,>=8.1.0 in /Users/sourav.banerjee/Documents/Github Codebase/GenerativAI_Demystified/.venv/lib/python3.11/site-packages (from langchain==0.3.11) (9.1.2)\n",
      "Requirement already satisfied: aiohappyeyeballs>=2.5.0 in /Users/sourav.banerjee/Documents/Github Codebase/GenerativAI_Demystified/.venv/lib/python3.11/site-packages (from aiohttp<4.0.0,>=3.8.3->langchain==0.3.11) (2.6.1)\n",
      "Requirement already satisfied: aiosignal>=1.1.2 in /Users/sourav.banerjee/Documents/Github Codebase/GenerativAI_Demystified/.venv/lib/python3.11/site-packages (from aiohttp<4.0.0,>=3.8.3->langchain==0.3.11) (1.3.2)\n",
      "Requirement already satisfied: attrs>=17.3.0 in /Users/sourav.banerjee/Documents/Github Codebase/GenerativAI_Demystified/.venv/lib/python3.11/site-packages (from aiohttp<4.0.0,>=3.8.3->langchain==0.3.11) (25.3.0)\n",
      "Requirement already satisfied: frozenlist>=1.1.1 in /Users/sourav.banerjee/Documents/Github Codebase/GenerativAI_Demystified/.venv/lib/python3.11/site-packages (from aiohttp<4.0.0,>=3.8.3->langchain==0.3.11) (1.7.0)\n",
      "Requirement already satisfied: multidict<7.0,>=4.5 in /Users/sourav.banerjee/Documents/Github Codebase/GenerativAI_Demystified/.venv/lib/python3.11/site-packages (from aiohttp<4.0.0,>=3.8.3->langchain==0.3.11) (6.5.1)\n",
      "Requirement already satisfied: propcache>=0.2.0 in /Users/sourav.banerjee/Documents/Github Codebase/GenerativAI_Demystified/.venv/lib/python3.11/site-packages (from aiohttp<4.0.0,>=3.8.3->langchain==0.3.11) (0.3.2)\n",
      "Requirement already satisfied: yarl<2.0,>=1.17.0 in /Users/sourav.banerjee/Documents/Github Codebase/GenerativAI_Demystified/.venv/lib/python3.11/site-packages (from aiohttp<4.0.0,>=3.8.3->langchain==0.3.11) (1.20.1)\n",
      "INFO: pip is looking at multiple versions of langchain-core to determine which version is compatible with other requirements. This could take a while.\n",
      "Collecting langchain-core<0.4.0,>=0.3.24 (from langchain==0.3.11)\n",
      "  Downloading langchain_core-0.3.65-py3-none-any.whl.metadata (5.8 kB)\n",
      "  Downloading langchain_core-0.3.64-py3-none-any.whl.metadata (5.8 kB)\n",
      "  Using cached langchain_core-0.3.63-py3-none-any.whl.metadata (5.8 kB)\n",
      "Requirement already satisfied: jsonpatch<2.0,>=1.33 in /Users/sourav.banerjee/Documents/Github Codebase/GenerativAI_Demystified/.venv/lib/python3.11/site-packages (from langchain-core<0.4.0,>=0.3.24->langchain==0.3.11) (1.33)\n",
      "Requirement already satisfied: packaging<25,>=23.2 in /Users/sourav.banerjee/Documents/Github Codebase/GenerativAI_Demystified/.venv/lib/python3.11/site-packages (from langchain-core<0.4.0,>=0.3.24->langchain==0.3.11) (24.2)\n",
      "Requirement already satisfied: typing-extensions>=4.7 in /Users/sourav.banerjee/Documents/Github Codebase/GenerativAI_Demystified/.venv/lib/python3.11/site-packages (from langchain-core<0.4.0,>=0.3.24->langchain==0.3.11) (4.13.2)\n",
      "Requirement already satisfied: jsonpointer>=1.9 in /Users/sourav.banerjee/Documents/Github Codebase/GenerativAI_Demystified/.venv/lib/python3.11/site-packages (from jsonpatch<2.0,>=1.33->langchain-core<0.4.0,>=0.3.24->langchain==0.3.11) (3.0.0)\n",
      "Requirement already satisfied: httpx<1,>=0.23.0 in /Users/sourav.banerjee/Documents/Github Codebase/GenerativAI_Demystified/.venv/lib/python3.11/site-packages (from langsmith<0.3,>=0.1.17->langchain==0.3.11) (0.28.1)\n",
      "Requirement already satisfied: orjson<4.0.0,>=3.9.14 in /Users/sourav.banerjee/Documents/Github Codebase/GenerativAI_Demystified/.venv/lib/python3.11/site-packages (from langsmith<0.3,>=0.1.17->langchain==0.3.11) (3.10.18)\n",
      "Requirement already satisfied: requests-toolbelt<2.0.0,>=1.0.0 in /Users/sourav.banerjee/Documents/Github Codebase/GenerativAI_Demystified/.venv/lib/python3.11/site-packages (from langsmith<0.3,>=0.1.17->langchain==0.3.11) (1.0.0)\n",
      "Requirement already satisfied: anyio in /Users/sourav.banerjee/Documents/Github Codebase/GenerativAI_Demystified/.venv/lib/python3.11/site-packages (from httpx<1,>=0.23.0->langsmith<0.3,>=0.1.17->langchain==0.3.11) (4.9.0)\n",
      "Requirement already satisfied: certifi in /Users/sourav.banerjee/Documents/Github Codebase/GenerativAI_Demystified/.venv/lib/python3.11/site-packages (from httpx<1,>=0.23.0->langsmith<0.3,>=0.1.17->langchain==0.3.11) (2025.4.26)\n",
      "Requirement already satisfied: httpcore==1.* in /Users/sourav.banerjee/Documents/Github Codebase/GenerativAI_Demystified/.venv/lib/python3.11/site-packages (from httpx<1,>=0.23.0->langsmith<0.3,>=0.1.17->langchain==0.3.11) (1.0.9)\n",
      "Requirement already satisfied: idna in /Users/sourav.banerjee/Documents/Github Codebase/GenerativAI_Demystified/.venv/lib/python3.11/site-packages (from httpx<1,>=0.23.0->langsmith<0.3,>=0.1.17->langchain==0.3.11) (3.10)\n",
      "Requirement already satisfied: h11>=0.16 in /Users/sourav.banerjee/Documents/Github Codebase/GenerativAI_Demystified/.venv/lib/python3.11/site-packages (from httpcore==1.*->httpx<1,>=0.23.0->langsmith<0.3,>=0.1.17->langchain==0.3.11) (0.16.0)\n",
      "Requirement already satisfied: annotated-types>=0.6.0 in /Users/sourav.banerjee/Documents/Github Codebase/GenerativAI_Demystified/.venv/lib/python3.11/site-packages (from pydantic<3.0.0,>=2.7.4->langchain==0.3.11) (0.7.0)\n",
      "Requirement already satisfied: pydantic-core==2.33.2 in /Users/sourav.banerjee/Documents/Github Codebase/GenerativAI_Demystified/.venv/lib/python3.11/site-packages (from pydantic<3.0.0,>=2.7.4->langchain==0.3.11) (2.33.2)\n",
      "Requirement already satisfied: typing-inspection>=0.4.0 in /Users/sourav.banerjee/Documents/Github Codebase/GenerativAI_Demystified/.venv/lib/python3.11/site-packages (from pydantic<3.0.0,>=2.7.4->langchain==0.3.11) (0.4.1)\n",
      "Requirement already satisfied: charset-normalizer<4,>=2 in /Users/sourav.banerjee/Documents/Github Codebase/GenerativAI_Demystified/.venv/lib/python3.11/site-packages (from requests<3,>=2->langchain==0.3.11) (3.4.2)\n",
      "Requirement already satisfied: urllib3<3,>=1.21.1 in /Users/sourav.banerjee/Documents/Github Codebase/GenerativAI_Demystified/.venv/lib/python3.11/site-packages (from requests<3,>=2->langchain==0.3.11) (2.4.0)\n",
      "Requirement already satisfied: sniffio>=1.1 in /Users/sourav.banerjee/Documents/Github Codebase/GenerativAI_Demystified/.venv/lib/python3.11/site-packages (from anyio->httpx<1,>=0.23.0->langsmith<0.3,>=0.1.17->langchain==0.3.11) (1.3.1)\n",
      "Using cached langchain_core-0.3.63-py3-none-any.whl (438 kB)\n",
      "Using cached langsmith-0.2.11-py3-none-any.whl (326 kB)\n",
      "Installing collected packages: langsmith, langchain-core\n",
      "\u001b[2K  Attempting uninstall: langsmith\n",
      "\u001b[2K    Found existing installation: langsmith 0.4.2\n",
      "\u001b[2K    Uninstalling langsmith-0.4.2:\n",
      "\u001b[2K      Successfully uninstalled langsmith-0.4.2\n",
      "\u001b[2K  Attempting uninstall: langchain-core\n",
      "\u001b[2K    Found existing installation: langchain-core 0.3.66\n",
      "\u001b[2K    Uninstalling langchain-core-0.3.66:\n",
      "\u001b[2K      Successfully uninstalled langchain-core-0.3.66\n",
      "\u001b[2K   \u001b[90m━━━━━━━━━━━━━━━━━━━━━━━━━━━━━━━━━━━━━━━━\u001b[0m \u001b[32m2/2\u001b[0m [langchain-core]m [langchain-core]\n",
      "\u001b[1A\u001b[2K\u001b[31mERROR: pip's dependency resolver does not currently take into account all the packages that are installed. This behaviour is the source of the following dependency conflicts.\n",
      "langchain-huggingface 0.3.0 requires langchain-core<1.0.0,>=0.3.65, but you have langchain-core 0.3.63 which is incompatible.\u001b[0m\u001b[31m\n",
      "\u001b[0mSuccessfully installed langchain-core-0.3.63 langsmith-0.2.11\n",
      "Requirement already satisfied: langchain-openai==0.2.12 in /Users/sourav.banerjee/Documents/Github Codebase/GenerativAI_Demystified/.venv/lib/python3.11/site-packages (0.2.12)\n",
      "Requirement already satisfied: langchain-core<0.4.0,>=0.3.21 in /Users/sourav.banerjee/Documents/Github Codebase/GenerativAI_Demystified/.venv/lib/python3.11/site-packages (from langchain-openai==0.2.12) (0.3.63)\n",
      "Requirement already satisfied: openai<2.0.0,>=1.55.3 in /Users/sourav.banerjee/Documents/Github Codebase/GenerativAI_Demystified/.venv/lib/python3.11/site-packages (from langchain-openai==0.2.12) (1.57.0)\n",
      "Requirement already satisfied: tiktoken<1,>=0.7 in /Users/sourav.banerjee/Documents/Github Codebase/GenerativAI_Demystified/.venv/lib/python3.11/site-packages (from langchain-openai==0.2.12) (0.9.0)\n",
      "Requirement already satisfied: langsmith<0.4,>=0.1.126 in /Users/sourav.banerjee/Documents/Github Codebase/GenerativAI_Demystified/.venv/lib/python3.11/site-packages (from langchain-core<0.4.0,>=0.3.21->langchain-openai==0.2.12) (0.2.11)\n",
      "Requirement already satisfied: tenacity!=8.4.0,<10.0.0,>=8.1.0 in /Users/sourav.banerjee/Documents/Github Codebase/GenerativAI_Demystified/.venv/lib/python3.11/site-packages (from langchain-core<0.4.0,>=0.3.21->langchain-openai==0.2.12) (9.1.2)\n",
      "Requirement already satisfied: jsonpatch<2.0,>=1.33 in /Users/sourav.banerjee/Documents/Github Codebase/GenerativAI_Demystified/.venv/lib/python3.11/site-packages (from langchain-core<0.4.0,>=0.3.21->langchain-openai==0.2.12) (1.33)\n",
      "Requirement already satisfied: PyYAML>=5.3 in /Users/sourav.banerjee/Documents/Github Codebase/GenerativAI_Demystified/.venv/lib/python3.11/site-packages (from langchain-core<0.4.0,>=0.3.21->langchain-openai==0.2.12) (6.0.2)\n",
      "Requirement already satisfied: packaging<25,>=23.2 in /Users/sourav.banerjee/Documents/Github Codebase/GenerativAI_Demystified/.venv/lib/python3.11/site-packages (from langchain-core<0.4.0,>=0.3.21->langchain-openai==0.2.12) (24.2)\n",
      "Requirement already satisfied: typing-extensions>=4.7 in /Users/sourav.banerjee/Documents/Github Codebase/GenerativAI_Demystified/.venv/lib/python3.11/site-packages (from langchain-core<0.4.0,>=0.3.21->langchain-openai==0.2.12) (4.13.2)\n",
      "Requirement already satisfied: pydantic>=2.7.4 in /Users/sourav.banerjee/Documents/Github Codebase/GenerativAI_Demystified/.venv/lib/python3.11/site-packages (from langchain-core<0.4.0,>=0.3.21->langchain-openai==0.2.12) (2.11.5)\n",
      "Requirement already satisfied: jsonpointer>=1.9 in /Users/sourav.banerjee/Documents/Github Codebase/GenerativAI_Demystified/.venv/lib/python3.11/site-packages (from jsonpatch<2.0,>=1.33->langchain-core<0.4.0,>=0.3.21->langchain-openai==0.2.12) (3.0.0)\n",
      "Requirement already satisfied: httpx<1,>=0.23.0 in /Users/sourav.banerjee/Documents/Github Codebase/GenerativAI_Demystified/.venv/lib/python3.11/site-packages (from langsmith<0.4,>=0.1.126->langchain-core<0.4.0,>=0.3.21->langchain-openai==0.2.12) (0.28.1)\n",
      "Requirement already satisfied: orjson<4.0.0,>=3.9.14 in /Users/sourav.banerjee/Documents/Github Codebase/GenerativAI_Demystified/.venv/lib/python3.11/site-packages (from langsmith<0.4,>=0.1.126->langchain-core<0.4.0,>=0.3.21->langchain-openai==0.2.12) (3.10.18)\n",
      "Requirement already satisfied: requests<3,>=2 in /Users/sourav.banerjee/Documents/Github Codebase/GenerativAI_Demystified/.venv/lib/python3.11/site-packages (from langsmith<0.4,>=0.1.126->langchain-core<0.4.0,>=0.3.21->langchain-openai==0.2.12) (2.32.3)\n",
      "Requirement already satisfied: requests-toolbelt<2.0.0,>=1.0.0 in /Users/sourav.banerjee/Documents/Github Codebase/GenerativAI_Demystified/.venv/lib/python3.11/site-packages (from langsmith<0.4,>=0.1.126->langchain-core<0.4.0,>=0.3.21->langchain-openai==0.2.12) (1.0.0)\n",
      "Requirement already satisfied: anyio in /Users/sourav.banerjee/Documents/Github Codebase/GenerativAI_Demystified/.venv/lib/python3.11/site-packages (from httpx<1,>=0.23.0->langsmith<0.4,>=0.1.126->langchain-core<0.4.0,>=0.3.21->langchain-openai==0.2.12) (4.9.0)\n",
      "Requirement already satisfied: certifi in /Users/sourav.banerjee/Documents/Github Codebase/GenerativAI_Demystified/.venv/lib/python3.11/site-packages (from httpx<1,>=0.23.0->langsmith<0.4,>=0.1.126->langchain-core<0.4.0,>=0.3.21->langchain-openai==0.2.12) (2025.4.26)\n",
      "Requirement already satisfied: httpcore==1.* in /Users/sourav.banerjee/Documents/Github Codebase/GenerativAI_Demystified/.venv/lib/python3.11/site-packages (from httpx<1,>=0.23.0->langsmith<0.4,>=0.1.126->langchain-core<0.4.0,>=0.3.21->langchain-openai==0.2.12) (1.0.9)\n",
      "Requirement already satisfied: idna in /Users/sourav.banerjee/Documents/Github Codebase/GenerativAI_Demystified/.venv/lib/python3.11/site-packages (from httpx<1,>=0.23.0->langsmith<0.4,>=0.1.126->langchain-core<0.4.0,>=0.3.21->langchain-openai==0.2.12) (3.10)\n",
      "Requirement already satisfied: h11>=0.16 in /Users/sourav.banerjee/Documents/Github Codebase/GenerativAI_Demystified/.venv/lib/python3.11/site-packages (from httpcore==1.*->httpx<1,>=0.23.0->langsmith<0.4,>=0.1.126->langchain-core<0.4.0,>=0.3.21->langchain-openai==0.2.12) (0.16.0)\n",
      "Requirement already satisfied: distro<2,>=1.7.0 in /Users/sourav.banerjee/Documents/Github Codebase/GenerativAI_Demystified/.venv/lib/python3.11/site-packages (from openai<2.0.0,>=1.55.3->langchain-openai==0.2.12) (1.9.0)\n",
      "Requirement already satisfied: jiter<1,>=0.4.0 in /Users/sourav.banerjee/Documents/Github Codebase/GenerativAI_Demystified/.venv/lib/python3.11/site-packages (from openai<2.0.0,>=1.55.3->langchain-openai==0.2.12) (0.10.0)\n",
      "Requirement already satisfied: sniffio in /Users/sourav.banerjee/Documents/Github Codebase/GenerativAI_Demystified/.venv/lib/python3.11/site-packages (from openai<2.0.0,>=1.55.3->langchain-openai==0.2.12) (1.3.1)\n",
      "Requirement already satisfied: tqdm>4 in /Users/sourav.banerjee/Documents/Github Codebase/GenerativAI_Demystified/.venv/lib/python3.11/site-packages (from openai<2.0.0,>=1.55.3->langchain-openai==0.2.12) (4.67.1)\n",
      "Requirement already satisfied: annotated-types>=0.6.0 in /Users/sourav.banerjee/Documents/Github Codebase/GenerativAI_Demystified/.venv/lib/python3.11/site-packages (from pydantic>=2.7.4->langchain-core<0.4.0,>=0.3.21->langchain-openai==0.2.12) (0.7.0)\n",
      "Requirement already satisfied: pydantic-core==2.33.2 in /Users/sourav.banerjee/Documents/Github Codebase/GenerativAI_Demystified/.venv/lib/python3.11/site-packages (from pydantic>=2.7.4->langchain-core<0.4.0,>=0.3.21->langchain-openai==0.2.12) (2.33.2)\n",
      "Requirement already satisfied: typing-inspection>=0.4.0 in /Users/sourav.banerjee/Documents/Github Codebase/GenerativAI_Demystified/.venv/lib/python3.11/site-packages (from pydantic>=2.7.4->langchain-core<0.4.0,>=0.3.21->langchain-openai==0.2.12) (0.4.1)\n",
      "Requirement already satisfied: charset-normalizer<4,>=2 in /Users/sourav.banerjee/Documents/Github Codebase/GenerativAI_Demystified/.venv/lib/python3.11/site-packages (from requests<3,>=2->langsmith<0.4,>=0.1.126->langchain-core<0.4.0,>=0.3.21->langchain-openai==0.2.12) (3.4.2)\n",
      "Requirement already satisfied: urllib3<3,>=1.21.1 in /Users/sourav.banerjee/Documents/Github Codebase/GenerativAI_Demystified/.venv/lib/python3.11/site-packages (from requests<3,>=2->langsmith<0.4,>=0.1.126->langchain-core<0.4.0,>=0.3.21->langchain-openai==0.2.12) (2.4.0)\n",
      "Requirement already satisfied: regex>=2022.1.18 in /Users/sourav.banerjee/Documents/Github Codebase/GenerativAI_Demystified/.venv/lib/python3.11/site-packages (from tiktoken<1,>=0.7->langchain-openai==0.2.12) (2024.11.6)\n",
      "Requirement already satisfied: langchain-community==0.3.11 in /Users/sourav.banerjee/Documents/Github Codebase/GenerativAI_Demystified/.venv/lib/python3.11/site-packages (0.3.11)\n",
      "Requirement already satisfied: PyYAML>=5.3 in /Users/sourav.banerjee/Documents/Github Codebase/GenerativAI_Demystified/.venv/lib/python3.11/site-packages (from langchain-community==0.3.11) (6.0.2)\n",
      "Requirement already satisfied: SQLAlchemy<3,>=1.4 in /Users/sourav.banerjee/Documents/Github Codebase/GenerativAI_Demystified/.venv/lib/python3.11/site-packages (from langchain-community==0.3.11) (2.0.41)\n",
      "Requirement already satisfied: aiohttp<4.0.0,>=3.8.3 in /Users/sourav.banerjee/Documents/Github Codebase/GenerativAI_Demystified/.venv/lib/python3.11/site-packages (from langchain-community==0.3.11) (3.12.13)\n",
      "Requirement already satisfied: dataclasses-json<0.7,>=0.5.7 in /Users/sourav.banerjee/Documents/Github Codebase/GenerativAI_Demystified/.venv/lib/python3.11/site-packages (from langchain-community==0.3.11) (0.6.7)\n",
      "Requirement already satisfied: httpx-sse<0.5.0,>=0.4.0 in /Users/sourav.banerjee/Documents/Github Codebase/GenerativAI_Demystified/.venv/lib/python3.11/site-packages (from langchain-community==0.3.11) (0.4.1)\n",
      "Requirement already satisfied: langchain<0.4.0,>=0.3.11 in /Users/sourav.banerjee/Documents/Github Codebase/GenerativAI_Demystified/.venv/lib/python3.11/site-packages (from langchain-community==0.3.11) (0.3.11)\n",
      "Requirement already satisfied: langchain-core<0.4.0,>=0.3.24 in /Users/sourav.banerjee/Documents/Github Codebase/GenerativAI_Demystified/.venv/lib/python3.11/site-packages (from langchain-community==0.3.11) (0.3.63)\n",
      "Requirement already satisfied: langsmith<0.3,>=0.1.125 in /Users/sourav.banerjee/Documents/Github Codebase/GenerativAI_Demystified/.venv/lib/python3.11/site-packages (from langchain-community==0.3.11) (0.2.11)\n",
      "Requirement already satisfied: numpy<2,>=1.22.4 in /Users/sourav.banerjee/Documents/Github Codebase/GenerativAI_Demystified/.venv/lib/python3.11/site-packages (from langchain-community==0.3.11) (1.26.4)\n",
      "Requirement already satisfied: pydantic-settings<3.0.0,>=2.4.0 in /Users/sourav.banerjee/Documents/Github Codebase/GenerativAI_Demystified/.venv/lib/python3.11/site-packages (from langchain-community==0.3.11) (2.10.1)\n",
      "Requirement already satisfied: requests<3,>=2 in /Users/sourav.banerjee/Documents/Github Codebase/GenerativAI_Demystified/.venv/lib/python3.11/site-packages (from langchain-community==0.3.11) (2.32.3)\n",
      "Requirement already satisfied: tenacity!=8.4.0,<10,>=8.1.0 in /Users/sourav.banerjee/Documents/Github Codebase/GenerativAI_Demystified/.venv/lib/python3.11/site-packages (from langchain-community==0.3.11) (9.1.2)\n",
      "Requirement already satisfied: aiohappyeyeballs>=2.5.0 in /Users/sourav.banerjee/Documents/Github Codebase/GenerativAI_Demystified/.venv/lib/python3.11/site-packages (from aiohttp<4.0.0,>=3.8.3->langchain-community==0.3.11) (2.6.1)\n",
      "Requirement already satisfied: aiosignal>=1.1.2 in /Users/sourav.banerjee/Documents/Github Codebase/GenerativAI_Demystified/.venv/lib/python3.11/site-packages (from aiohttp<4.0.0,>=3.8.3->langchain-community==0.3.11) (1.3.2)\n",
      "Requirement already satisfied: attrs>=17.3.0 in /Users/sourav.banerjee/Documents/Github Codebase/GenerativAI_Demystified/.venv/lib/python3.11/site-packages (from aiohttp<4.0.0,>=3.8.3->langchain-community==0.3.11) (25.3.0)\n",
      "Requirement already satisfied: frozenlist>=1.1.1 in /Users/sourav.banerjee/Documents/Github Codebase/GenerativAI_Demystified/.venv/lib/python3.11/site-packages (from aiohttp<4.0.0,>=3.8.3->langchain-community==0.3.11) (1.7.0)\n",
      "Requirement already satisfied: multidict<7.0,>=4.5 in /Users/sourav.banerjee/Documents/Github Codebase/GenerativAI_Demystified/.venv/lib/python3.11/site-packages (from aiohttp<4.0.0,>=3.8.3->langchain-community==0.3.11) (6.5.1)\n",
      "Requirement already satisfied: propcache>=0.2.0 in /Users/sourav.banerjee/Documents/Github Codebase/GenerativAI_Demystified/.venv/lib/python3.11/site-packages (from aiohttp<4.0.0,>=3.8.3->langchain-community==0.3.11) (0.3.2)\n",
      "Requirement already satisfied: yarl<2.0,>=1.17.0 in /Users/sourav.banerjee/Documents/Github Codebase/GenerativAI_Demystified/.venv/lib/python3.11/site-packages (from aiohttp<4.0.0,>=3.8.3->langchain-community==0.3.11) (1.20.1)\n",
      "Requirement already satisfied: marshmallow<4.0.0,>=3.18.0 in /Users/sourav.banerjee/Documents/Github Codebase/GenerativAI_Demystified/.venv/lib/python3.11/site-packages (from dataclasses-json<0.7,>=0.5.7->langchain-community==0.3.11) (3.26.1)\n",
      "Requirement already satisfied: typing-inspect<1,>=0.4.0 in /Users/sourav.banerjee/Documents/Github Codebase/GenerativAI_Demystified/.venv/lib/python3.11/site-packages (from dataclasses-json<0.7,>=0.5.7->langchain-community==0.3.11) (0.9.0)\n",
      "Requirement already satisfied: langchain-text-splitters<0.4.0,>=0.3.0 in /Users/sourav.banerjee/Documents/Github Codebase/GenerativAI_Demystified/.venv/lib/python3.11/site-packages (from langchain<0.4.0,>=0.3.11->langchain-community==0.3.11) (0.3.8)\n",
      "Requirement already satisfied: pydantic<3.0.0,>=2.7.4 in /Users/sourav.banerjee/Documents/Github Codebase/GenerativAI_Demystified/.venv/lib/python3.11/site-packages (from langchain<0.4.0,>=0.3.11->langchain-community==0.3.11) (2.11.5)\n",
      "Requirement already satisfied: jsonpatch<2.0,>=1.33 in /Users/sourav.banerjee/Documents/Github Codebase/GenerativAI_Demystified/.venv/lib/python3.11/site-packages (from langchain-core<0.4.0,>=0.3.24->langchain-community==0.3.11) (1.33)\n",
      "Requirement already satisfied: packaging<25,>=23.2 in /Users/sourav.banerjee/Documents/Github Codebase/GenerativAI_Demystified/.venv/lib/python3.11/site-packages (from langchain-core<0.4.0,>=0.3.24->langchain-community==0.3.11) (24.2)\n",
      "Requirement already satisfied: typing-extensions>=4.7 in /Users/sourav.banerjee/Documents/Github Codebase/GenerativAI_Demystified/.venv/lib/python3.11/site-packages (from langchain-core<0.4.0,>=0.3.24->langchain-community==0.3.11) (4.13.2)\n",
      "Requirement already satisfied: jsonpointer>=1.9 in /Users/sourav.banerjee/Documents/Github Codebase/GenerativAI_Demystified/.venv/lib/python3.11/site-packages (from jsonpatch<2.0,>=1.33->langchain-core<0.4.0,>=0.3.24->langchain-community==0.3.11) (3.0.0)\n",
      "Requirement already satisfied: httpx<1,>=0.23.0 in /Users/sourav.banerjee/Documents/Github Codebase/GenerativAI_Demystified/.venv/lib/python3.11/site-packages (from langsmith<0.3,>=0.1.125->langchain-community==0.3.11) (0.28.1)\n",
      "Requirement already satisfied: orjson<4.0.0,>=3.9.14 in /Users/sourav.banerjee/Documents/Github Codebase/GenerativAI_Demystified/.venv/lib/python3.11/site-packages (from langsmith<0.3,>=0.1.125->langchain-community==0.3.11) (3.10.18)\n",
      "Requirement already satisfied: requests-toolbelt<2.0.0,>=1.0.0 in /Users/sourav.banerjee/Documents/Github Codebase/GenerativAI_Demystified/.venv/lib/python3.11/site-packages (from langsmith<0.3,>=0.1.125->langchain-community==0.3.11) (1.0.0)\n",
      "Requirement already satisfied: anyio in /Users/sourav.banerjee/Documents/Github Codebase/GenerativAI_Demystified/.venv/lib/python3.11/site-packages (from httpx<1,>=0.23.0->langsmith<0.3,>=0.1.125->langchain-community==0.3.11) (4.9.0)\n",
      "Requirement already satisfied: certifi in /Users/sourav.banerjee/Documents/Github Codebase/GenerativAI_Demystified/.venv/lib/python3.11/site-packages (from httpx<1,>=0.23.0->langsmith<0.3,>=0.1.125->langchain-community==0.3.11) (2025.4.26)\n",
      "Requirement already satisfied: httpcore==1.* in /Users/sourav.banerjee/Documents/Github Codebase/GenerativAI_Demystified/.venv/lib/python3.11/site-packages (from httpx<1,>=0.23.0->langsmith<0.3,>=0.1.125->langchain-community==0.3.11) (1.0.9)\n",
      "Requirement already satisfied: idna in /Users/sourav.banerjee/Documents/Github Codebase/GenerativAI_Demystified/.venv/lib/python3.11/site-packages (from httpx<1,>=0.23.0->langsmith<0.3,>=0.1.125->langchain-community==0.3.11) (3.10)\n",
      "Requirement already satisfied: h11>=0.16 in /Users/sourav.banerjee/Documents/Github Codebase/GenerativAI_Demystified/.venv/lib/python3.11/site-packages (from httpcore==1.*->httpx<1,>=0.23.0->langsmith<0.3,>=0.1.125->langchain-community==0.3.11) (0.16.0)\n",
      "Requirement already satisfied: annotated-types>=0.6.0 in /Users/sourav.banerjee/Documents/Github Codebase/GenerativAI_Demystified/.venv/lib/python3.11/site-packages (from pydantic<3.0.0,>=2.7.4->langchain<0.4.0,>=0.3.11->langchain-community==0.3.11) (0.7.0)\n",
      "Requirement already satisfied: pydantic-core==2.33.2 in /Users/sourav.banerjee/Documents/Github Codebase/GenerativAI_Demystified/.venv/lib/python3.11/site-packages (from pydantic<3.0.0,>=2.7.4->langchain<0.4.0,>=0.3.11->langchain-community==0.3.11) (2.33.2)\n",
      "Requirement already satisfied: typing-inspection>=0.4.0 in /Users/sourav.banerjee/Documents/Github Codebase/GenerativAI_Demystified/.venv/lib/python3.11/site-packages (from pydantic<3.0.0,>=2.7.4->langchain<0.4.0,>=0.3.11->langchain-community==0.3.11) (0.4.1)\n",
      "Requirement already satisfied: python-dotenv>=0.21.0 in /Users/sourav.banerjee/Documents/Github Codebase/GenerativAI_Demystified/.venv/lib/python3.11/site-packages (from pydantic-settings<3.0.0,>=2.4.0->langchain-community==0.3.11) (1.1.0)\n",
      "Requirement already satisfied: charset-normalizer<4,>=2 in /Users/sourav.banerjee/Documents/Github Codebase/GenerativAI_Demystified/.venv/lib/python3.11/site-packages (from requests<3,>=2->langchain-community==0.3.11) (3.4.2)\n",
      "Requirement already satisfied: urllib3<3,>=1.21.1 in /Users/sourav.banerjee/Documents/Github Codebase/GenerativAI_Demystified/.venv/lib/python3.11/site-packages (from requests<3,>=2->langchain-community==0.3.11) (2.4.0)\n",
      "Requirement already satisfied: mypy-extensions>=0.3.0 in /Users/sourav.banerjee/Documents/Github Codebase/GenerativAI_Demystified/.venv/lib/python3.11/site-packages (from typing-inspect<1,>=0.4.0->dataclasses-json<0.7,>=0.5.7->langchain-community==0.3.11) (1.1.0)\n",
      "Requirement already satisfied: sniffio>=1.1 in /Users/sourav.banerjee/Documents/Github Codebase/GenerativAI_Demystified/.venv/lib/python3.11/site-packages (from anyio->httpx<1,>=0.23.0->langsmith<0.3,>=0.1.125->langchain-community==0.3.11) (1.3.1)\n"
     ]
    }
   ],
   "source": [
    "!pip install langchain==0.3.11\n",
    "!pip install langchain-openai==0.2.12\n",
    "!pip install langchain-community==0.3.11"
   ]
  },
  {
   "cell_type": "markdown",
   "metadata": {
    "application/vnd.databricks.v1+cell": {
     "cellMetadata": {},
     "inputWidgets": {},
     "nuid": "bee2b7af-66c9-4b4c-8988-2be13f520733",
     "showTitle": false,
     "tableResultSettingsMap": {},
     "title": ""
    },
    "id": "PtBa7rlWJWH3"
   },
   "source": [
    "## Enter API Tokens"
   ]
  },
  {
   "cell_type": "markdown",
   "metadata": {
    "application/vnd.databricks.v1+cell": {
     "cellMetadata": {},
     "inputWidgets": {},
     "nuid": "c1b066d3-1c69-4bca-abed-a2570860454b",
     "showTitle": false,
     "tableResultSettingsMap": {},
     "title": ""
    },
    "id": "Y6RD7As2sm8G"
   },
   "source": [
    "#### Enter your Open AI Key here\n",
    "\n",
    "You can get the key from [here](https://platform.openai.com/api-keys) after creating an account or signing in"
   ]
  },
  {
   "cell_type": "code",
   "execution_count": 2,
   "metadata": {
    "application/vnd.databricks.v1+cell": {
     "cellMetadata": {},
     "inputWidgets": {},
     "nuid": "c2a16b1e-0f89-4bd7-90bb-0a4a0eebec31",
     "showTitle": false,
     "tableResultSettingsMap": {},
     "title": ""
    }
   },
   "outputs": [],
   "source": [
    "from getpass import getpass\n",
    "\n",
    "OPENAI_KEY = getpass('Enter Open AI API Key: ')"
   ]
  },
  {
   "cell_type": "code",
   "execution_count": 3,
   "metadata": {
    "application/vnd.databricks.v1+cell": {
     "cellMetadata": {},
     "inputWidgets": {},
     "nuid": "ca0e0bc6-b9a0-427d-abe8-655f4c72c490",
     "showTitle": false,
     "tableResultSettingsMap": {},
     "title": ""
    },
    "id": "cKlax-updNW-"
   },
   "outputs": [],
   "source": [
    "import os\n",
    "\n",
    "os.environ['OPENAI_API_KEY'] = OPENAI_KEY"
   ]
  },
  {
   "cell_type": "markdown",
   "metadata": {
    "application/vnd.databricks.v1+cell": {
     "cellMetadata": {},
     "inputWidgets": {},
     "nuid": "b86047e9-f32d-4b9d-bdb9-b61309feb301",
     "showTitle": false,
     "tableResultSettingsMap": {},
     "title": ""
    },
    "id": "_4h0xywyJ3v7"
   },
   "source": [
    "## Chat Models and LLMs\n",
    "\n",
    "Large Language Models (LLMs) are a core component of LangChain. LangChain does not implement or build its own LLMs. It provides a standard API for interacting with almost every LLM out there.\n",
    "\n",
    "There are lots of LLM providers (OpenAI, Hugging Face, etc) - the LLM class is designed to provide a standard interface for all of them."
   ]
  },
  {
   "cell_type": "markdown",
   "metadata": {
    "application/vnd.databricks.v1+cell": {
     "cellMetadata": {},
     "inputWidgets": {},
     "nuid": "67060941-7a71-48a2-8944-6b0321081d9e",
     "showTitle": false,
     "tableResultSettingsMap": {},
     "title": ""
    },
    "id": "cSdF6_R7J45Z"
   },
   "source": [
    "## Accessing Commercial LLMs like ChatGPT"
   ]
  },
  {
   "cell_type": "code",
   "execution_count": 4,
   "metadata": {
    "application/vnd.databricks.v1+cell": {
     "cellMetadata": {},
     "inputWidgets": {},
     "nuid": "0c805660-01cb-4d2f-9223-1471acfdd6b0",
     "showTitle": false,
     "tableResultSettingsMap": {},
     "title": ""
    },
    "id": "v8nnrOGxZ2uZ"
   },
   "outputs": [],
   "source": [
    "from langchain_openai import ChatOpenAI\n",
    "\n",
    "chatgpt = ChatOpenAI(model_name=\"gpt-4o-mini\", temperature=0)"
   ]
  },
  {
   "cell_type": "markdown",
   "metadata": {
    "application/vnd.databricks.v1+cell": {
     "cellMetadata": {},
     "inputWidgets": {},
     "nuid": "73f30da9-959f-4b08-992e-a35a5793f45c",
     "showTitle": false,
     "tableResultSettingsMap": {},
     "title": ""
    },
    "id": "8i8KIVTwnD6Y"
   },
   "source": [
    "## Prompt Templates\n",
    "Prompt templates are pre-designed formats used to generate prompts for language models. These templates can include instructions, few-shot examples, and specific contexts and questions suited for particular tasks.\n",
    "\n",
    "LangChain provides tools for creating and using prompt templates. It aims to develop model-agnostic templates to facilitate the reuse of existing templates across different language models. Typically, these models expect prompts in the form of either a string or a list of chat messages.\n",
    "\n",
    "### Types of Prompt Templates\n",
    "\n",
    "- **PromptTemplate:**\n",
    "  - Used for creating string-based prompts.\n",
    "  - Utilizes Python's `str.format` syntax for templating, supporting any number of variables, including scenarios with no variables.\n",
    "\n",
    "- **ChatPromptTemplate:**\n",
    "  - Designed for chat models, where the prompt consists of a list of chat messages.\n",
    "  - Each chat message includes content and a role parameter. For instance, in the OpenAI Chat Completions API, a chat message could be assigned to an AI assistant, a human, or a system role.\n",
    "- **FewShotChatMessagePromptTemplate**\n",
    "  - A few-shot prompt template can be constructed from a set of examples\n"
   ]
  },
  {
   "cell_type": "markdown",
   "metadata": {
    "application/vnd.databricks.v1+cell": {
     "cellMetadata": {},
     "inputWidgets": {},
     "nuid": "dc33d91f-7d17-4bac-810d-ae820e3d3588",
     "showTitle": false,
     "tableResultSettingsMap": {},
     "title": ""
    },
    "id": "7Oh9UiTNqaPf"
   },
   "source": [
    "### PromptTemplate\n",
    "\n",
    "We can use `PromptTemplate` to create a template for a string prompt.\n",
    "\n",
    "By default, `PromptTemplate` uses Python's `str.format` syntax for templating.\n",
    "\n",
    "You can create custom prompt templates that format the prompt in any way you want. For more information, see [Prompt Template Composition](https://python.langchain.com/v0.1/docs/modules/model_io/prompts/composition/)."
   ]
  },
  {
   "cell_type": "code",
   "execution_count": 5,
   "metadata": {
    "application/vnd.databricks.v1+cell": {
     "cellMetadata": {},
     "inputWidgets": {},
     "nuid": "78cf9937-b1e2-42e2-9bea-bec06ab4b200",
     "showTitle": false,
     "tableResultSettingsMap": {},
     "title": ""
    },
    "colab": {
     "base_uri": "https://localhost:8080/"
    },
    "id": "xoUCbb4FkaIW",
    "outputId": "2f255135-a1b7-415c-ee72-a284ac2da032"
   },
   "outputs": [
    {
     "data": {
      "text/plain": [
       "PromptTemplate(input_variables=[], input_types={}, partial_variables={}, template='Explain to me what is Generative AI in 3 bullet points?')"
      ]
     },
     "execution_count": 5,
     "metadata": {},
     "output_type": "execute_result"
    }
   ],
   "source": [
    "from langchain.prompts import PromptTemplate\n",
    "\n",
    "# Simple prompt\n",
    "\n",
    "prompt = \"\"\"Explain to me what is Generative AI in 3 bullet points?\"\"\"\n",
    "prompt_template = PromptTemplate.from_template(prompt)\n",
    "prompt_template"
   ]
  },
  {
   "cell_type": "code",
   "execution_count": null,
   "metadata": {},
   "outputs": [
    {
     "name": "stdout",
     "output_type": "stream",
     "text": [
      "input_variables=['prompt_txt'] input_types={} partial_variables={} messages=[SystemMessagePromptTemplate(prompt=PromptTemplate(input_variables=[], input_types={}, partial_variables={}, template='\\nAct as a Artificial Intelligence Expert.\\nTransform the input research paper abstract given below\\nbased on the instruction input by the user.\\n'), additional_kwargs={}), HumanMessagePromptTemplate(prompt=PromptTemplate(input_variables=['prompt_txt'], input_types={}, partial_variables={}, template='{prompt_txt}'), additional_kwargs={})]\n"
     ]
    }
   ],
   "source": [
    "print(prompt)"
   ]
  },
  {
   "cell_type": "code",
   "execution_count": 7,
   "metadata": {},
   "outputs": [
    {
     "name": "stdout",
     "output_type": "stream",
     "text": [
      "input_variables=[] input_types={} partial_variables={} template='Explain to me what is Generative AI in 3 bullet points?'\n"
     ]
    }
   ],
   "source": [
    "print(prompt_template)"
   ]
  },
  {
   "cell_type": "code",
   "execution_count": 8,
   "metadata": {
    "application/vnd.databricks.v1+cell": {
     "cellMetadata": {},
     "inputWidgets": {},
     "nuid": "5b913434-4b2d-46f4-8804-b7488e79f1e3",
     "showTitle": false,
     "tableResultSettingsMap": {},
     "title": ""
    },
    "colab": {
     "base_uri": "https://localhost:8080/",
     "height": 35
    },
    "id": "nPNs1Efsn2Zf",
    "outputId": "447ac1d7-db90-46dd-e07c-3c1fe7e7dc97"
   },
   "outputs": [
    {
     "data": {
      "text/plain": [
       "'Explain to me what is Generative AI in 3 bullet points?'"
      ]
     },
     "execution_count": 8,
     "metadata": {},
     "output_type": "execute_result"
    }
   ],
   "source": [
    "prompt_template.format()"
   ]
  },
  {
   "cell_type": "code",
   "execution_count": 10,
   "metadata": {},
   "outputs": [
    {
     "data": {
      "text/plain": [
       "'Explain to me what is Generative AI in 3 bullet points?'"
      ]
     },
     "execution_count": 10,
     "metadata": {},
     "output_type": "execute_result"
    }
   ],
   "source": [
    "prompt_template.template"
   ]
  },
  {
   "cell_type": "code",
   "execution_count": 9,
   "metadata": {
    "application/vnd.databricks.v1+cell": {
     "cellMetadata": {},
     "inputWidgets": {},
     "nuid": "01b10241-f8b8-431b-a326-70a228bfe5ef",
     "showTitle": false,
     "tableResultSettingsMap": {},
     "title": ""
    },
    "colab": {
     "base_uri": "https://localhost:8080/"
    },
    "id": "iM5oNvXpnSq7",
    "outputId": "31946dc3-313f-45da-d756-171fe6457af3"
   },
   "outputs": [
    {
     "name": "stdout",
     "output_type": "stream",
     "text": [
      "- **Definition**: Generative AI refers to a class of artificial intelligence models that can create new content, such as text, images, music, or videos, by learning patterns and structures from existing data.\n",
      "\n",
      "- **Techniques**: It often employs advanced techniques like deep learning, particularly neural networks such as Generative Adversarial Networks (GANs) and transformer models, to generate high-quality and coherent outputs.\n",
      "\n",
      "- **Applications**: Generative AI is used in various fields, including creative arts (e.g., art and music generation), content creation (e.g., writing and journalism), and even in practical applications like drug discovery and personalized marketing.\n"
     ]
    }
   ],
   "source": [
    "response = chatgpt.invoke(prompt_template.format())\n",
    "print(response.content)"
   ]
  },
  {
   "cell_type": "code",
   "execution_count": 11,
   "metadata": {},
   "outputs": [
    {
     "name": "stdout",
     "output_type": "stream",
     "text": [
      "- **Definition**: Generative AI refers to a class of artificial intelligence models that can create new content, such as text, images, music, or videos, by learning patterns and structures from existing data.\n",
      "\n",
      "- **Techniques**: It often employs advanced techniques like deep learning, particularly neural networks such as Generative Adversarial Networks (GANs) and transformer models, to generate high-quality and coherent outputs.\n",
      "\n",
      "- **Applications**: Generative AI is used in various fields, including creative arts (e.g., art and music generation), content creation (e.g., writing and journalism), and even in practical applications like drug discovery and data augmentation.\n"
     ]
    }
   ],
   "source": [
    "response = chatgpt.invoke(prompt_template.template)\n",
    "print(response.content)"
   ]
  },
  {
   "cell_type": "code",
   "execution_count": 13,
   "metadata": {
    "application/vnd.databricks.v1+cell": {
     "cellMetadata": {},
     "inputWidgets": {},
     "nuid": "5cf2b5ff-d872-4106-81d5-9769f178ccfc",
     "showTitle": false,
     "tableResultSettingsMap": {},
     "title": ""
    },
    "colab": {
     "base_uri": "https://localhost:8080/"
    },
    "id": "2VTvciVcnajD",
    "outputId": "48497e6c-a1d6-4eae-e5a4-8161a63df48e"
   },
   "outputs": [
    {
     "data": {
      "text/plain": [
       "PromptTemplate(input_variables=['language', 'topic'], input_types={}, partial_variables={}, template='Explain to me briefly about {topic} in {language}.')"
      ]
     },
     "execution_count": 13,
     "metadata": {},
     "output_type": "execute_result"
    }
   ],
   "source": [
    "# more complex prompt with placeholders\n",
    "prompt = \"\"\"Explain to me briefly about {topic} in {language}.\"\"\"\n",
    "\n",
    "prompt_template = PromptTemplate.from_template(prompt)\n",
    "prompt_template"
   ]
  },
  {
   "cell_type": "code",
   "execution_count": 14,
   "metadata": {},
   "outputs": [
    {
     "name": "stdout",
     "output_type": "stream",
     "text": [
      "input_variables=['language', 'topic'] input_types={} partial_variables={} template='Explain to me briefly about {topic} in {language}.'\n"
     ]
    }
   ],
   "source": [
    "print(prompt_template)"
   ]
  },
  {
   "cell_type": "code",
   "execution_count": 19,
   "metadata": {
    "application/vnd.databricks.v1+cell": {
     "cellMetadata": {},
     "inputWidgets": {},
     "nuid": "e97b13da-3361-4c1f-b534-d8e60d4131b5",
     "showTitle": false,
     "tableResultSettingsMap": {},
     "title": ""
    },
    "colab": {
     "base_uri": "https://localhost:8080/"
    },
    "id": "FyXhUhbapZ7T",
    "outputId": "5df86fd5-c9dd-445d-a597-8169eb2006a6"
   },
   "outputs": [
    {
     "data": {
      "text/plain": [
       "['Explain to me briefly about Generative AI in english.',\n",
       " 'Explain to me briefly about Artificial Intelligence in bengali.',\n",
       " 'Explain to me briefly about Deep Learning in german.']"
      ]
     },
     "execution_count": 19,
     "metadata": {},
     "output_type": "execute_result"
    }
   ],
   "source": [
    "inputs = [(\"Generative AI\", \"english\"),\n",
    "          (\"Artificial Intelligence\", \"bengali\"),\n",
    "          (\"Deep Learning\", \"german\")]\n",
    "\n",
    "prompts = [prompt_template.format(topic=topic, language=language) for topic, language in inputs]\n",
    "prompts"
   ]
  },
  {
   "cell_type": "code",
   "execution_count": 20,
   "metadata": {
    "application/vnd.databricks.v1+cell": {
     "cellMetadata": {},
     "inputWidgets": {},
     "nuid": "392755ec-5a2f-40c2-a849-94fb5546ca20",
     "showTitle": false,
     "tableResultSettingsMap": {},
     "title": ""
    },
    "id": "edPyCf_Aps9Q"
   },
   "outputs": [],
   "source": [
    "# use map to run on multiple prompts in one go\n",
    "responses = chatgpt.map().invoke(prompts)"
   ]
  },
  {
   "cell_type": "code",
   "execution_count": 21,
   "metadata": {
    "application/vnd.databricks.v1+cell": {
     "cellMetadata": {},
     "inputWidgets": {},
     "nuid": "17446e1a-802c-4128-8e0c-75a5e3c424e4",
     "showTitle": false,
     "tableResultSettingsMap": {},
     "title": ""
    },
    "colab": {
     "base_uri": "https://localhost:8080/"
    },
    "id": "wZ8cDck4ck_g",
    "outputId": "0d78d17a-e61f-4a58-f75c-6d447fc5214c"
   },
   "outputs": [
    {
     "data": {
      "text/plain": [
       "[AIMessage(content='Generative AI refers to a class of artificial intelligence models that can create new content, such as text, images, music, or even videos, based on the patterns and information they have learned from existing data. These models, like GPT-3 for text or DALL-E for images, use techniques such as deep learning and neural networks to generate outputs that can mimic human creativity. Generative AI has applications in various fields, including art, entertainment, marketing, and more, enabling users to produce unique and innovative content efficiently.', additional_kwargs={'refusal': None}, response_metadata={'token_usage': {'completion_tokens': 105, 'prompt_tokens': 18, 'total_tokens': 123, 'completion_tokens_details': {'accepted_prediction_tokens': 0, 'audio_tokens': 0, 'reasoning_tokens': 0, 'rejected_prediction_tokens': 0}, 'prompt_tokens_details': {'audio_tokens': 0, 'cached_tokens': 0}}, 'model_name': 'gpt-4o-mini-2024-07-18', 'system_fingerprint': 'fp_34a54ae93c', 'finish_reason': 'stop', 'logprobs': None}, id='run--78e20bef-58ec-4f2d-9c01-b8d5cbdbf852-0', usage_metadata={'input_tokens': 18, 'output_tokens': 105, 'total_tokens': 123, 'input_token_details': {'audio': 0, 'cache_read': 0}, 'output_token_details': {'audio': 0, 'reasoning': 0}}),\n",
       " AIMessage(content='কৃত্রিম বুদ্ধিমত্তা (Artificial Intelligence বা AI) হল একটি প্রযুক্তি যা কম্পিউটার এবং মেশিনকে মানুষের মতো চিন্তা, শেখা এবং সিদ্ধান্ত নিতে সক্ষম করে। এটি বিভিন্ন অ্যালগরিদম এবং ডেটা ব্যবহার করে কাজ করে, যার মাধ্যমে মেশিনগুলি তথ্য বিশ্লেষণ করে এবং সমস্যার সমাধান করতে পারে। কৃত্রিম বুদ্ধিমত্তা বিভিন্ন ক্ষেত্রে ব্যবহৃত হয়, যেমন স্বয়ংক্রিয় গাড়ি, স্বাস্থ্যসেবা, গ্রাহক সেবা, এবং আরও অনেক কিছু। AI-এর মূল উদ্দেশ্য হল মানুষের কাজকে সহজ করা এবং কার্যকারিতা বৃদ্ধি করা।', additional_kwargs={'refusal': None}, response_metadata={'token_usage': {'completion_tokens': 139, 'prompt_tokens': 18, 'total_tokens': 157, 'completion_tokens_details': {'accepted_prediction_tokens': 0, 'audio_tokens': 0, 'reasoning_tokens': 0, 'rejected_prediction_tokens': 0}, 'prompt_tokens_details': {'audio_tokens': 0, 'cached_tokens': 0}}, 'model_name': 'gpt-4o-mini-2024-07-18', 'system_fingerprint': 'fp_34a54ae93c', 'finish_reason': 'stop', 'logprobs': None}, id='run--0d238ea0-76b3-4e95-8312-438be14f312e-0', usage_metadata={'input_tokens': 18, 'output_tokens': 139, 'total_tokens': 157, 'input_token_details': {'audio': 0, 'cache_read': 0}, 'output_token_details': {'audio': 0, 'reasoning': 0}}),\n",
       " AIMessage(content='Deep Learning ist ein Teilbereich des maschinellen Lernens, der auf künstlichen neuronalen Netzwerken basiert. Es ermöglicht Computern, aus großen Datenmengen zu lernen und komplexe Muster zu erkennen. Deep Learning wird häufig in Anwendungen wie Bild- und Spracherkennung, natürlicher Sprachverarbeitung und autonomen Fahrzeugen eingesetzt. Durch die Verwendung mehrerer Schichten von Neuronen kann das Modell hierarchische Merkmale aus den Daten extrahieren, was zu einer hohen Genauigkeit bei der Vorhersage und Klassifizierung führt.', additional_kwargs={'refusal': None}, response_metadata={'token_usage': {'completion_tokens': 111, 'prompt_tokens': 17, 'total_tokens': 128, 'completion_tokens_details': {'accepted_prediction_tokens': 0, 'audio_tokens': 0, 'reasoning_tokens': 0, 'rejected_prediction_tokens': 0}, 'prompt_tokens_details': {'audio_tokens': 0, 'cached_tokens': 0}}, 'model_name': 'gpt-4o-mini-2024-07-18', 'system_fingerprint': 'fp_34a54ae93c', 'finish_reason': 'stop', 'logprobs': None}, id='run--e4f82673-a43e-4c21-aec3-44cb75e17521-0', usage_metadata={'input_tokens': 17, 'output_tokens': 111, 'total_tokens': 128, 'input_token_details': {'audio': 0, 'cache_read': 0}, 'output_token_details': {'audio': 0, 'reasoning': 0}})]"
      ]
     },
     "execution_count": 21,
     "metadata": {},
     "output_type": "execute_result"
    }
   ],
   "source": [
    "responses"
   ]
  },
  {
   "cell_type": "code",
   "execution_count": 22,
   "metadata": {
    "application/vnd.databricks.v1+cell": {
     "cellMetadata": {},
     "inputWidgets": {},
     "nuid": "6cedb72f-e546-46da-820b-7802caaf1393",
     "showTitle": false,
     "tableResultSettingsMap": {},
     "title": ""
    },
    "colab": {
     "base_uri": "https://localhost:8080/"
    },
    "id": "tRWUf9eTqEMU",
    "outputId": "42467835-6b0e-4622-caf9-35e399e88cd6"
   },
   "outputs": [
    {
     "name": "stdout",
     "output_type": "stream",
     "text": [
      "Generative AI refers to a class of artificial intelligence models that can create new content, such as text, images, music, or even videos, based on the patterns and information they have learned from existing data. These models, like GPT-3 for text or DALL-E for images, use techniques such as deep learning and neural networks to generate outputs that can mimic human creativity. Generative AI has applications in various fields, including art, entertainment, marketing, and more, enabling users to produce unique and innovative content efficiently.\n",
      "-----\n",
      "কৃত্রিম বুদ্ধিমত্তা (Artificial Intelligence বা AI) হল একটি প্রযুক্তি যা কম্পিউটার এবং মেশিনকে মানুষের মতো চিন্তা, শেখা এবং সিদ্ধান্ত নিতে সক্ষম করে। এটি বিভিন্ন অ্যালগরিদম এবং ডেটা ব্যবহার করে কাজ করে, যার মাধ্যমে মেশিনগুলি তথ্য বিশ্লেষণ করে এবং সমস্যার সমাধান করতে পারে। কৃত্রিম বুদ্ধিমত্তা বিভিন্ন ক্ষেত্রে ব্যবহৃত হয়, যেমন স্বয়ংক্রিয় গাড়ি, স্বাস্থ্যসেবা, গ্রাহক সেবা, এবং আরও অনেক কিছু। AI-এর মূল উদ্দেশ্য হল মানুষের কাজকে সহজ করা এবং কার্যকারিতা বৃদ্ধি করা।\n",
      "-----\n",
      "Deep Learning ist ein Teilbereich des maschinellen Lernens, der auf künstlichen neuronalen Netzwerken basiert. Es ermöglicht Computern, aus großen Datenmengen zu lernen und komplexe Muster zu erkennen. Deep Learning wird häufig in Anwendungen wie Bild- und Spracherkennung, natürlicher Sprachverarbeitung und autonomen Fahrzeugen eingesetzt. Durch die Verwendung mehrerer Schichten von Neuronen kann das Modell hierarchische Merkmale aus den Daten extrahieren, was zu einer hohen Genauigkeit bei der Vorhersage und Klassifizierung führt.\n",
      "-----\n"
     ]
    }
   ],
   "source": [
    "for response in responses:\n",
    "  print(response.content)\n",
    "  print('-----')"
   ]
  },
  {
   "cell_type": "markdown",
   "metadata": {
    "application/vnd.databricks.v1+cell": {
     "cellMetadata": {},
     "inputWidgets": {},
     "nuid": "9ebc56a2-794c-4578-8737-227cb5742af4",
     "showTitle": false,
     "tableResultSettingsMap": {},
     "title": ""
    },
    "id": "VAGmjR-tqfmV"
   },
   "source": [
    "### ChatPromptTemplate\n",
    "\n",
    "The standard prompt format to [chat models](https://python.langchain.com/v0.1/docs/modules/model_io/chat/) is a list of [chat messages](https://python.langchain.com/v0.1/docs/modules/model_io/chat/message_types/).\n",
    "\n",
    "Each chat message is associated with content, and an additional parameter called `role`. For example, in the OpenAI Chat Completions API, a chat message can be associated with an AI assistant, a human or a system role."
   ]
  },
  {
   "cell_type": "code",
   "execution_count": 23,
   "metadata": {
    "application/vnd.databricks.v1+cell": {
     "cellMetadata": {},
     "inputWidgets": {},
     "nuid": "c17cd471-2e9a-45e9-9280-5e0efb80ee56",
     "showTitle": false,
     "tableResultSettingsMap": {},
     "title": ""
    },
    "colab": {
     "base_uri": "https://localhost:8080/"
    },
    "id": "tawdWLueqHG6",
    "outputId": "3dd83fa4-e2ac-4eb0-f7b6-2c6f8e989aac"
   },
   "outputs": [
    {
     "data": {
      "text/plain": [
       "ChatPromptTemplate(input_variables=['topic'], input_types={}, partial_variables={}, messages=[HumanMessagePromptTemplate(prompt=PromptTemplate(input_variables=['topic'], input_types={}, partial_variables={}, template='Explain to me briefly about {topic}.'), additional_kwargs={})])"
      ]
     },
     "execution_count": 23,
     "metadata": {},
     "output_type": "execute_result"
    }
   ],
   "source": [
    "from langchain_core.prompts import ChatPromptTemplate\n",
    "\n",
    "# simple prompt with placeholders\n",
    "prompt = \"\"\"Explain to me briefly about {topic}.\"\"\"\n",
    "\n",
    "chat_template = ChatPromptTemplate.from_template(prompt)\n",
    "chat_template"
   ]
  },
  {
   "cell_type": "code",
   "execution_count": 39,
   "metadata": {},
   "outputs": [
    {
     "name": "stdout",
     "output_type": "stream",
     "text": [
      "[HumanMessage(content='Tell me a funny joke about databases', additional_kwargs={}, response_metadata={})]\n"
     ]
    }
   ],
   "source": [
    "from langchain.prompts import ChatPromptTemplate\n",
    "\n",
    "# Simple template with variables\n",
    "simple_template = ChatPromptTemplate.from_template(\n",
    "    \"Tell me a {adjective} joke about {topic}\"\n",
    ")\n",
    "\n",
    "# Format the template with values\n",
    "formatted_prompt = simple_template.format_messages(\n",
    "    adjective=\"funny\",\n",
    "    topic=\"databases\"\n",
    ")\n",
    "\n",
    "print(formatted_prompt)\n",
    "# Output: [HumanMessage(content='Tell me a funny joke about databases')]"
   ]
  },
  {
   "cell_type": "code",
   "execution_count": 41,
   "metadata": {},
   "outputs": [
    {
     "data": {
      "text/plain": [
       "[HumanMessage(content='Tell me a funny joke about databases', additional_kwargs={}, response_metadata={})]"
      ]
     },
     "execution_count": 41,
     "metadata": {},
     "output_type": "execute_result"
    }
   ],
   "source": [
    "formatted_prompt"
   ]
  },
  {
   "cell_type": "code",
   "execution_count": 40,
   "metadata": {},
   "outputs": [
    {
     "name": "stdout",
     "output_type": "stream",
     "text": [
      "content='Why did the database administrator break up with their partner?\\n\\nBecause they had too many \"NULL\" values in the relationship!' additional_kwargs={'refusal': None} response_metadata={'token_usage': {'completion_tokens': 24, 'prompt_tokens': 14, 'total_tokens': 38, 'completion_tokens_details': {'accepted_prediction_tokens': 0, 'audio_tokens': 0, 'reasoning_tokens': 0, 'rejected_prediction_tokens': 0}, 'prompt_tokens_details': {'audio_tokens': 0, 'cached_tokens': 0}}, 'model_name': 'gpt-4o-mini-2024-07-18', 'system_fingerprint': 'fp_34a54ae93c', 'finish_reason': 'stop', 'logprobs': None} id='run--1b0be8df-0dbb-4402-9c44-4e741a0f486c-0' usage_metadata={'input_tokens': 14, 'output_tokens': 24, 'total_tokens': 38, 'input_token_details': {'audio': 0, 'cache_read': 0}, 'output_token_details': {'audio': 0, 'reasoning': 0}}\n"
     ]
    }
   ],
   "source": [
    "print(chatgpt.invoke(formatted_prompt))"
   ]
  },
  {
   "cell_type": "code",
   "execution_count": 34,
   "metadata": {},
   "outputs": [
    {
     "name": "stdout",
     "output_type": "stream",
     "text": [
      "Human: Tell me a funny joke about databases\n"
     ]
    }
   ],
   "source": [
    "from langchain.prompts import ChatPromptTemplate\n",
    "\n",
    "# Simple template with variables\n",
    "simple_template = ChatPromptTemplate.from_template(\n",
    "    \"Tell me a {adjective} joke about {topic}\"\n",
    ")\n",
    "\n",
    "# Format the template with values\n",
    "formatted_prompt = simple_template.format(\n",
    "    adjective=\"funny\",\n",
    "    topic=\"databases\"\n",
    ")\n",
    "\n",
    "print(formatted_prompt)\n",
    "# Output: [HumanMessage(content='Tell me a funny joke about databases')]"
   ]
  },
  {
   "cell_type": "code",
   "execution_count": 37,
   "metadata": {},
   "outputs": [
    {
     "name": "stdout",
     "output_type": "stream",
     "text": [
      "content='Why did the database administrator break up with their partner?\\n\\nBecause they had too many \"NULL\" values in the relationship!' additional_kwargs={'refusal': None} response_metadata={'token_usage': {'completion_tokens': 24, 'prompt_tokens': 16, 'total_tokens': 40, 'completion_tokens_details': {'accepted_prediction_tokens': 0, 'audio_tokens': 0, 'reasoning_tokens': 0, 'rejected_prediction_tokens': 0}, 'prompt_tokens_details': {'audio_tokens': 0, 'cached_tokens': 0}}, 'model_name': 'gpt-4o-mini-2024-07-18', 'system_fingerprint': 'fp_34a54ae93c', 'finish_reason': 'stop', 'logprobs': None} id='run--8c24450e-7f13-4fc0-81e2-b5d1ceecaf87-0' usage_metadata={'input_tokens': 16, 'output_tokens': 24, 'total_tokens': 40, 'input_token_details': {'audio': 0, 'cache_read': 0}, 'output_token_details': {'audio': 0, 'reasoning': 0}}\n"
     ]
    }
   ],
   "source": [
    "print(chatgpt.invoke(formatted_prompt))"
   ]
  },
  {
   "cell_type": "code",
   "execution_count": null,
   "metadata": {},
   "outputs": [],
   "source": []
  },
  {
   "cell_type": "code",
   "execution_count": 24,
   "metadata": {
    "application/vnd.databricks.v1+cell": {
     "cellMetadata": {},
     "inputWidgets": {},
     "nuid": "1d2e2f80-5db9-479d-bdfd-08cfc6bd6eda",
     "showTitle": false,
     "tableResultSettingsMap": {},
     "title": ""
    },
    "colab": {
     "base_uri": "https://localhost:8080/"
    },
    "id": "Hr0sC7xHqxOp",
    "outputId": "69467a00-ece8-4dbf-ffc0-954ae01c4510"
   },
   "outputs": [
    {
     "data": {
      "text/plain": [
       "['Human: Explain to me briefly about mortgage.',\n",
       " 'Human: Explain to me briefly about fractional real estate.',\n",
       " 'Human: Explain to me briefly about commercial real estate.']"
      ]
     },
     "execution_count": 24,
     "metadata": {},
     "output_type": "execute_result"
    }
   ],
   "source": [
    "topics = ['mortgage', 'fractional real estate', 'commercial real estate']\n",
    "prompts = [chat_template.format(topic=topic) for topic in topics]\n",
    "prompts"
   ]
  },
  {
   "cell_type": "code",
   "execution_count": 25,
   "metadata": {
    "application/vnd.databricks.v1+cell": {
     "cellMetadata": {},
     "inputWidgets": {},
     "nuid": "55ebaff3-64af-42cd-9c2d-def75f26bef4",
     "showTitle": false,
     "tableResultSettingsMap": {},
     "title": ""
    },
    "colab": {
     "base_uri": "https://localhost:8080/"
    },
    "id": "cU9YObv9rY4P",
    "outputId": "97fe9ad3-2944-431e-9902-7a663ae66d75"
   },
   "outputs": [
    {
     "name": "stdout",
     "output_type": "stream",
     "text": [
      "A mortgage is a type of loan specifically used to purchase real estate. In a mortgage agreement, the borrower receives funds from a lender to buy a home or property and agrees to repay the loan over a specified period, typically 15 to 30 years. The property itself serves as collateral, meaning if the borrower fails to make payments, the lender can take possession of the property through a process called foreclosure. Mortgages usually involve monthly payments that include both principal (the amount borrowed) and interest (the cost of borrowing). There are various types of mortgages, including fixed-rate and adjustable-rate mortgages, each with different terms and conditions.\n",
      "-----\n",
      "Fractional real estate refers to a shared ownership model where multiple investors collectively own a property, allowing them to invest in real estate without having to purchase an entire property individually. Each investor holds a fraction of the property, which entitles them to a proportional share of the income generated (like rental income) and any appreciation in value. This model can make real estate investment more accessible and affordable, as it lowers the financial barrier to entry. Fractional ownership can apply to various types of properties, including vacation homes, commercial real estate, and more.\n",
      "-----\n",
      "Commercial real estate (CRE) refers to properties that are used for business purposes rather than residential living. This category includes various types of properties, such as office buildings, retail spaces, industrial warehouses, hotels, and multifamily apartment complexes. Investors and businesses typically engage in commercial real estate for income generation through leasing or renting out space, as well as potential appreciation in property value over time. The commercial real estate market is influenced by factors such as location, economic conditions, and market demand.\n",
      "-----\n"
     ]
    }
   ],
   "source": [
    "responses = chatgpt.map().invoke(prompts)\n",
    "for response in responses:\n",
    "  print(response.content)\n",
    "  print('-----')"
   ]
  },
  {
   "cell_type": "code",
   "execution_count": 0,
   "metadata": {
    "application/vnd.databricks.v1+cell": {
     "cellMetadata": {},
     "inputWidgets": {},
     "nuid": "f1e4c3f3-0336-41be-b069-722d239b46d7",
     "showTitle": false,
     "tableResultSettingsMap": {},
     "title": ""
    },
    "colab": {
     "base_uri": "https://localhost:8080/"
    },
    "id": "8NHhUa48rm_g",
    "outputId": "0ce02334-631a-4533-dad4-3a382da0435d"
   },
   "outputs": [],
   "source": [
    "responses[0]"
   ]
  },
  {
   "cell_type": "code",
   "execution_count": 26,
   "metadata": {
    "application/vnd.databricks.v1+cell": {
     "cellMetadata": {},
     "inputWidgets": {},
     "nuid": "100c17fe-4d76-469f-b21e-e85a6d6b1b87",
     "showTitle": false,
     "tableResultSettingsMap": {},
     "title": ""
    },
    "colab": {
     "base_uri": "https://localhost:8080/"
    },
    "id": "1PSkafcfsme2",
    "outputId": "d15d31fc-c4dd-43ff-a54f-40fd00aa3cba"
   },
   "outputs": [
    {
     "data": {
      "text/plain": [
       "ChatPromptTemplate(input_variables=['user_prompt'], input_types={}, partial_variables={}, messages=[SystemMessagePromptTemplate(prompt=PromptTemplate(input_variables=[], input_types={}, partial_variables={}, template='Act as an expert in real estate and provide brief answers'), additional_kwargs={}), HumanMessagePromptTemplate(prompt=PromptTemplate(input_variables=[], input_types={}, partial_variables={}, template='what is your name?'), additional_kwargs={}), AIMessagePromptTemplate(prompt=PromptTemplate(input_variables=[], input_types={}, partial_variables={}, template='my name is AIBot'), additional_kwargs={}), HumanMessagePromptTemplate(prompt=PromptTemplate(input_variables=['user_prompt'], input_types={}, partial_variables={}, template='{user_prompt}'), additional_kwargs={})])"
      ]
     },
     "execution_count": 26,
     "metadata": {},
     "output_type": "execute_result"
    }
   ],
   "source": [
    "# more complex prompt with a series of messages\n",
    "messages = [\n",
    "        (\"system\", \"Act as an expert in real estate and provide brief answers\"),\n",
    "        (\"human\", \"what is your name?\"),\n",
    "        (\"ai\", \"my name is AIBot\"),\n",
    "        (\"human\", \"{user_prompt}\"),\n",
    "]\n",
    "chat_template = ChatPromptTemplate.from_messages(messages)\n",
    "chat_template"
   ]
  },
  {
   "cell_type": "code",
   "execution_count": 27,
   "metadata": {
    "application/vnd.databricks.v1+cell": {
     "cellMetadata": {},
     "inputWidgets": {},
     "nuid": "1a4a6e57-5da7-4249-9fa8-30919d42a8d7",
     "showTitle": false,
     "tableResultSettingsMap": {},
     "title": ""
    },
    "colab": {
     "base_uri": "https://localhost:8080/"
    },
    "id": "N5ncYrVVtUWU",
    "outputId": "a6eb9f20-19f3-4aca-88e9-6291bc350d97"
   },
   "outputs": [
    {
     "data": {
      "text/plain": [
       "['System: Act as an expert in real estate and provide brief answers\\nHuman: what is your name?\\nAI: my name is AIBot\\nHuman: what is your name?',\n",
       " 'System: Act as an expert in real estate and provide brief answers\\nHuman: what is your name?\\nAI: my name is AIBot\\nHuman: explain commercial real estate to me']"
      ]
     },
     "execution_count": 27,
     "metadata": {},
     "output_type": "execute_result"
    }
   ],
   "source": [
    "text_prompts = [\"what is your name?\",\n",
    "                \"explain commercial real estate to me\"]\n",
    "chat_prompts = [chat_template.format(user_prompt=prompt) for prompt in text_prompts]\n",
    "chat_prompts"
   ]
  },
  {
   "cell_type": "code",
   "execution_count": 28,
   "metadata": {
    "application/vnd.databricks.v1+cell": {
     "cellMetadata": {},
     "inputWidgets": {},
     "nuid": "5ed479f9-fa9b-4f5a-a0e0-6c7456066519",
     "showTitle": false,
     "tableResultSettingsMap": {},
     "title": ""
    },
    "colab": {
     "base_uri": "https://localhost:8080/"
    },
    "id": "vQd1Bk_Td2mM",
    "outputId": "9b1b8375-1a16-432e-d6a2-77f1e023a393"
   },
   "outputs": [
    {
     "name": "stdout",
     "output_type": "stream",
     "text": [
      "System: Act as an expert in real estate and provide brief answers\n",
      "Human: what is your name?\n",
      "AI: my name is AIBot\n",
      "Human: what is your name?\n"
     ]
    }
   ],
   "source": [
    "print(chat_prompts[0])"
   ]
  },
  {
   "cell_type": "code",
   "execution_count": 29,
   "metadata": {
    "application/vnd.databricks.v1+cell": {
     "cellMetadata": {},
     "inputWidgets": {},
     "nuid": "a33cec41-f481-4486-8dac-ff5dd7f62f0e",
     "showTitle": false,
     "tableResultSettingsMap": {},
     "title": ""
    },
    "colab": {
     "base_uri": "https://localhost:8080/"
    },
    "id": "xQnrzTfj59gv",
    "outputId": "28ac7692-1933-4779-b82d-77e8ac092f8c"
   },
   "outputs": [
    {
     "name": "stdout",
     "output_type": "stream",
     "text": [
      "System: Act as an expert in real estate and provide brief answers\n",
      "Human: what is your name?\n",
      "AI: my name is AIBot\n",
      "Human: explain commercial real estate to me\n"
     ]
    }
   ],
   "source": [
    "print(chat_prompts[1])"
   ]
  },
  {
   "cell_type": "code",
   "execution_count": 30,
   "metadata": {
    "application/vnd.databricks.v1+cell": {
     "cellMetadata": {},
     "inputWidgets": {},
     "nuid": "b5e72628-18cb-45fd-975a-0b33bb518ef1",
     "showTitle": false,
     "tableResultSettingsMap": {},
     "title": ""
    },
    "colab": {
     "base_uri": "https://localhost:8080/"
    },
    "id": "73R370WTuAIR",
    "outputId": "add8b521-d274-494b-a28d-54dda747d8a3"
   },
   "outputs": [
    {
     "name": "stdout",
     "output_type": "stream",
     "text": [
      "AI: I am AIBot, your real estate expert. How can I assist you today?\n",
      "-----\n",
      "Commercial real estate (CRE) refers to properties used exclusively for business purposes. This includes office buildings, retail spaces, warehouses, industrial properties, and multifamily housing (like apartment complexes). CRE is typically leased to tenants who operate businesses, and it can generate income through rent and appreciation in property value. Investors often seek CRE for its potential for higher returns compared to residential real estate.\n",
      "-----\n"
     ]
    }
   ],
   "source": [
    "responses = chatgpt.map().invoke(chat_prompts)\n",
    "for response in responses:\n",
    "  print(response.content)\n",
    "  print('-----')"
   ]
  },
  {
   "cell_type": "code",
   "execution_count": 31,
   "metadata": {
    "application/vnd.databricks.v1+cell": {
     "cellMetadata": {},
     "inputWidgets": {},
     "nuid": "e5eb0f76-1d75-4a56-bb43-761e1d614a2a",
     "showTitle": false,
     "tableResultSettingsMap": {},
     "title": ""
    },
    "colab": {
     "base_uri": "https://localhost:8080/"
    },
    "id": "qQJP-Q6SuLmV",
    "outputId": "95dff59f-9ed1-4eb8-f25e-27f55db82d70"
   },
   "outputs": [
    {
     "data": {
      "text/plain": [
       "['System: Act as an expert in real estate and provide very detailed answers with examples\\nHuman: what is your name?\\nAI: my name is AIBot\\nHuman: what is your name?',\n",
       " 'System: Act as an expert in real estate and provide very detailed answers with examples\\nHuman: what is your name?\\nAI: my name is AIBot\\nHuman: explain commercial real estate to me']"
      ]
     },
     "execution_count": 31,
     "metadata": {},
     "output_type": "execute_result"
    }
   ],
   "source": [
    "messages = [\n",
    "        (\"system\", \"Act as an expert in real estate and provide very detailed answers with examples\"),\n",
    "        (\"human\", \"what is your name?\"),\n",
    "        (\"ai\", \"my name is AIBot\"),\n",
    "        (\"human\", \"{user_prompt}\"),\n",
    "]\n",
    "chat_template = ChatPromptTemplate.from_messages(messages)\n",
    "text_prompts = [\"what is your name?\", \"explain commercial real estate to me\"]\n",
    "chat_prompts = [chat_template.format(user_prompt=prompt) for prompt in text_prompts]\n",
    "chat_prompts"
   ]
  },
  {
   "cell_type": "code",
   "execution_count": 32,
   "metadata": {
    "application/vnd.databricks.v1+cell": {
     "cellMetadata": {},
     "inputWidgets": {},
     "nuid": "11610447-0979-4c03-87dc-764d5cbe6900",
     "showTitle": false,
     "tableResultSettingsMap": {},
     "title": ""
    },
    "colab": {
     "base_uri": "https://localhost:8080/"
    },
    "id": "JK9VxeObuTXj",
    "outputId": "79a981ca-e34b-4897-fa69-7cd97910a275"
   },
   "outputs": [
    {
     "name": "stdout",
     "output_type": "stream",
     "text": [
      "AI: My name is AIBot, and I'm here to assist you with any questions you have about real estate. Whether you're looking for information on buying, selling, investing, or understanding market trends, feel free to ask!\n",
      "-----\n",
      "Commercial real estate (CRE) refers to properties that are used exclusively for business purposes. This sector of real estate is distinct from residential real estate, which involves properties designed for people to live in. Understanding commercial real estate involves recognizing its various types, investment strategies, market dynamics, and the factors that influence its value.\n",
      "\n",
      "### Types of Commercial Real Estate\n",
      "\n",
      "1. **Office Buildings**: These properties are designed for business operations and can range from single-tenant buildings to large skyscrapers. They are often categorized into:\n",
      "   - **Class A**: High-quality buildings in prime locations with top amenities (e.g., One World Trade Center in New York City).\n",
      "   - **Class B**: Good quality buildings that may need some renovations but are still desirable (e.g., older office buildings in suburban areas).\n",
      "   - **Class C**: Older buildings in less desirable locations, often requiring significant repairs (e.g., older office spaces in declining neighborhoods).\n",
      "\n",
      "2. **Retail Properties**: These include shopping centers, malls, and standalone stores. Retail properties can be further divided into:\n",
      "   - **Neighborhood Centers**: Small shopping areas that serve local communities (e.g., strip malls).\n",
      "   - **Regional Malls**: Larger shopping centers with a variety of stores and entertainment options (e.g., Mall of America).\n",
      "   - **Power Centers**: Large retail spaces that typically include big-box retailers (e.g., Walmart, Target).\n",
      "\n",
      "3. **Industrial Properties**: These are used for manufacturing, production, distribution, and storage. Types include:\n",
      "   - **Warehouses**: Large spaces for storing goods (e.g., Amazon fulfillment centers).\n",
      "   - **Manufacturing Facilities**: Buildings where products are made (e.g., factories).\n",
      "   - **Flex Spaces**: Versatile properties that can be used for both office and industrial purposes.\n",
      "\n",
      "4. **Multifamily Properties**: While often considered residential, multifamily properties with five or more units are classified as commercial real estate. Examples include:\n",
      "   - **Apartment Complexes**: Large buildings or groups of buildings with multiple rental units (e.g., high-rise apartments).\n",
      "   - **Condominiums**: Individually owned units within a larger building.\n",
      "\n",
      "5. **Hospitality Properties**: This category includes hotels, motels, and resorts. They are often evaluated based on occupancy rates and average daily rates (ADR). Examples include:\n",
      "   - **Luxury Hotels**: High-end accommodations (e.g., The Ritz-Carlton).\n",
      "   - **Budget Motels**: Affordable lodging options (e.g., Motel 6).\n",
      "\n",
      "6. **Special Purpose Properties**: These are unique properties that do not fit into the other categories, such as:\n",
      "   - **Self-Storage Facilities**: Spaces rented out for personal or business storage.\n",
      "   - **Healthcare Facilities**: Hospitals, nursing homes, and medical offices.\n",
      "\n",
      "### Investment Strategies\n",
      "\n",
      "Investing in commercial real estate can be approached in several ways:\n",
      "\n",
      "1. **Direct Ownership**: Purchasing a property outright, managing it, and collecting rent. For example, an investor buys a shopping center, leases space to retailers, and earns rental income.\n",
      "\n",
      "2. **Real Estate Investment Trusts (REITs)**: These are companies that own, operate, or finance income-producing real estate. Investors can buy shares in a REIT, allowing them to invest in commercial properties without direct ownership. For instance, a REIT might own a portfolio of office buildings and distribute rental income to shareholders.\n",
      "\n",
      "3. **Crowdfunding**: This relatively new method allows multiple investors to pool their money to invest in commercial real estate projects. Platforms like Fundrise or RealtyMogul enable investors to participate in larger deals with lower capital requirements.\n",
      "\n",
      "### Market Dynamics\n",
      "\n",
      "The commercial real estate market is influenced by various factors, including:\n",
      "\n",
      "- **Economic Conditions**: Economic growth typically leads to increased demand for commercial space, while recessions can lead to higher vacancy rates.\n",
      "- **Interest Rates**: Higher interest rates can increase borrowing costs, affecting property values and investment returns.\n",
      "- **Location**: The adage \"location, location, location\" holds true in commercial real estate. Properties in prime locations tend to have higher demand and rental rates.\n",
      "- **Zoning Laws**: Local regulations can impact what types of businesses can operate in certain areas, affecting property values and investment potential.\n",
      "\n",
      "### Valuation\n",
      "\n",
      "Valuing commercial real estate often involves several methods, including:\n",
      "\n",
      "1. **Income Approach**: This method estimates the value based on the income the property generates. For example, if a retail property generates $100,000 in net operating income (NOI) and the capitalization rate (cap rate) for similar properties is 8%, the property value would be calculated as:\n",
      "   \\[\n",
      "   \\text{Value} = \\frac{\\text{NOI}}{\\text{Cap Rate}} = \\frac{100,000}{0.08} = 1,250,000\n",
      "   \\]\n",
      "\n",
      "2. **Sales Comparison Approach**: This method compares the property to similar properties that have recently sold in the area, adjusting for differences in size, location, and condition.\n",
      "\n",
      "3. **Cost Approach**: This method estimates the value based on the cost to replace the property, minus depreciation.\n",
      "\n",
      "### Conclusion\n",
      "\n",
      "Commercial real estate is a complex and dynamic sector that offers various opportunities for investment and development. Understanding the different types of properties, investment strategies, market dynamics, and valuation methods is crucial for anyone looking to engage in this field. Whether you are an investor, developer, or business owner, a solid grasp of commercial real estate can lead to informed decisions and successful outcomes.\n",
      "-----\n"
     ]
    }
   ],
   "source": [
    "responses = chatgpt.map().invoke(chat_prompts)\n",
    "for response in responses:\n",
    "  print(response.content)\n",
    "  print('-----')"
   ]
  },
  {
   "cell_type": "markdown",
   "metadata": {
    "application/vnd.databricks.v1+cell": {
     "cellMetadata": {},
     "inputWidgets": {},
     "nuid": "d60fe111-a823-41bf-90fd-5370fb3be545",
     "showTitle": false,
     "tableResultSettingsMap": {},
     "title": ""
    },
    "id": "7PnxbHHoiDHZ"
   },
   "source": [
    "#### PromptTemplate and ChatPromptTemplate supports LCEL\n",
    "\n",
    "`PromptTemplate` and `ChatPromptTemplate` implement the [Runnable interface](https://python.langchain.com/v0.1/docs/expression_language/interface/), the basic building block of the LangChain Expression Language (LCEL). This means they support `invoke`, `ainvoke`, `stream`, `astream`, `batch`, `abatch`, `astream_log` calls.\n",
    "\n",
    "`PromptTemplate` accepts a dictionary (of the prompt variables) and returns a `StringPromptValue`. A `ChatPromptTemplate` accepts a dictionary and returns a `ChatPromptValue`."
   ]
  },
  {
   "cell_type": "code",
   "execution_count": 1,
   "metadata": {
    "application/vnd.databricks.v1+cell": {
     "cellMetadata": {},
     "inputWidgets": {},
     "nuid": "5d0cb6dd-2506-4710-8122-9dd81ff0e644",
     "showTitle": false,
     "tableResultSettingsMap": {},
     "title": ""
    },
    "colab": {
     "base_uri": "https://localhost:8080/"
    },
    "id": "Qxsx7a0xe2u6",
    "outputId": "b5c3d28d-55fa-488f-eb9f-159acd710cc1"
   },
   "outputs": [
    {
     "ename": "NameError",
     "evalue": "name 'chat_template' is not defined",
     "output_type": "error",
     "traceback": [
      "\u001b[31m---------------------------------------------------------------------------\u001b[39m",
      "\u001b[31mNameError\u001b[39m                                 Traceback (most recent call last)",
      "\u001b[36mCell\u001b[39m\u001b[36m \u001b[39m\u001b[32mIn[1]\u001b[39m\u001b[32m, line 2\u001b[39m\n\u001b[32m      1\u001b[39m text_prompts = [\u001b[33m\"\u001b[39m\u001b[33mwhat is your name?\u001b[39m\u001b[33m\"\u001b[39m, \u001b[33m\"\u001b[39m\u001b[33mexplain commercial real estate to me\u001b[39m\u001b[33m\"\u001b[39m]\n\u001b[32m----> \u001b[39m\u001b[32m2\u001b[39m chat_prompts = \u001b[43m[\u001b[49m\u001b[43mchat_template\u001b[49m\u001b[43m.\u001b[49m\u001b[43minvoke\u001b[49m\u001b[43m(\u001b[49m\u001b[43m{\u001b[49m\u001b[33;43m'\u001b[39;49m\u001b[33;43muser_prompt\u001b[39;49m\u001b[33;43m'\u001b[39;49m\u001b[43m \u001b[49m\u001b[43m:\u001b[49m\u001b[43m \u001b[49m\u001b[43mprompt\u001b[49m\u001b[43m}\u001b[49m\u001b[43m)\u001b[49m\u001b[43m \u001b[49m\u001b[38;5;28;43;01mfor\u001b[39;49;00m\u001b[43m \u001b[49m\u001b[43mprompt\u001b[49m\u001b[43m \u001b[49m\u001b[38;5;129;43;01min\u001b[39;49;00m\u001b[43m \u001b[49m\u001b[43mtext_prompts\u001b[49m\u001b[43m]\u001b[49m\n\u001b[32m      3\u001b[39m chat_prompts\n",
      "\u001b[36mCell\u001b[39m\u001b[36m \u001b[39m\u001b[32mIn[1]\u001b[39m\u001b[32m, line 2\u001b[39m, in \u001b[36m<listcomp>\u001b[39m\u001b[34m(.0)\u001b[39m\n\u001b[32m      1\u001b[39m text_prompts = [\u001b[33m\"\u001b[39m\u001b[33mwhat is your name?\u001b[39m\u001b[33m\"\u001b[39m, \u001b[33m\"\u001b[39m\u001b[33mexplain commercial real estate to me\u001b[39m\u001b[33m\"\u001b[39m]\n\u001b[32m----> \u001b[39m\u001b[32m2\u001b[39m chat_prompts = [\u001b[43mchat_template\u001b[49m.invoke({\u001b[33m'\u001b[39m\u001b[33muser_prompt\u001b[39m\u001b[33m'\u001b[39m : prompt}) \u001b[38;5;28;01mfor\u001b[39;00m prompt \u001b[38;5;129;01min\u001b[39;00m text_prompts]\n\u001b[32m      3\u001b[39m chat_prompts\n",
      "\u001b[31mNameError\u001b[39m: name 'chat_template' is not defined"
     ]
    }
   ],
   "source": [
    "text_prompts = [\"what is your name?\", \"explain commercial real estate to me\"]\n",
    "chat_prompts = [chat_template.invoke({'user_prompt' : prompt}) for prompt in text_prompts]\n",
    "chat_prompts"
   ]
  },
  {
   "cell_type": "code",
   "execution_count": 0,
   "metadata": {
    "application/vnd.databricks.v1+cell": {
     "cellMetadata": {},
     "inputWidgets": {},
     "nuid": "9e371e59-61b9-4a02-a6a1-4f95ef85b718",
     "showTitle": false,
     "tableResultSettingsMap": {},
     "title": ""
    },
    "colab": {
     "base_uri": "https://localhost:8080/"
    },
    "id": "tCqy3Exuiuu0",
    "outputId": "5dc1990e-cef5-4738-8675-7d34134bb229"
   },
   "outputs": [],
   "source": [
    "chat_prompts[1]"
   ]
  },
  {
   "cell_type": "code",
   "execution_count": 0,
   "metadata": {
    "application/vnd.databricks.v1+cell": {
     "cellMetadata": {},
     "inputWidgets": {},
     "nuid": "f61d822d-28a6-418e-967c-dcdfcf58d74d",
     "showTitle": false,
     "tableResultSettingsMap": {},
     "title": ""
    },
    "colab": {
     "base_uri": "https://localhost:8080/"
    },
    "id": "wND5o7kCiyKG",
    "outputId": "4e251c6a-2391-4ab4-ec5d-766b603e51e7"
   },
   "outputs": [],
   "source": [
    "print(chat_prompts[1].to_string())"
   ]
  },
  {
   "cell_type": "code",
   "execution_count": 0,
   "metadata": {
    "application/vnd.databricks.v1+cell": {
     "cellMetadata": {},
     "inputWidgets": {},
     "nuid": "64e1f049-4147-43eb-9e0f-4a12e18ebb23",
     "showTitle": false,
     "tableResultSettingsMap": {},
     "title": ""
    },
    "colab": {
     "base_uri": "https://localhost:8080/"
    },
    "id": "egsNrmqui6ls",
    "outputId": "e7b24f79-0eda-443f-e5ce-3ee370db9f99"
   },
   "outputs": [],
   "source": [
    "chat_prompts[1].to_messages()"
   ]
  },
  {
   "cell_type": "code",
   "execution_count": 0,
   "metadata": {
    "application/vnd.databricks.v1+cell": {
     "cellMetadata": {},
     "inputWidgets": {},
     "nuid": "c2c16fdd-18e2-466a-bfe2-9abfc51939c7",
     "showTitle": false,
     "tableResultSettingsMap": {},
     "title": ""
    },
    "colab": {
     "base_uri": "https://localhost:8080/"
    },
    "id": "r_ywweDLflCq",
    "outputId": "e97c0372-2dd1-498a-8852-9cee2b6a5470"
   },
   "outputs": [],
   "source": [
    "responses = chatgpt.map().invoke(chat_prompts)\n",
    "for response in responses:\n",
    "  print(response.content)\n",
    "  print('-----')"
   ]
  }
 ],
 "metadata": {
  "application/vnd.databricks.v1+notebook": {
   "computePreferences": null,
   "dashboards": [],
   "environmentMetadata": null,
   "language": "python",
   "notebookMetadata": {
    "pythonIndentUnit": 2
   },
   "notebookName": "2. LangChain_LLM_Input_Output_Prompting_with_Prompt_Templates",
   "widgets": {}
  },
  "colab": {
   "provenance": []
  },
  "kernelspec": {
   "display_name": ".venv",
   "language": "python",
   "name": "python3"
  },
  "language_info": {
   "codemirror_mode": {
    "name": "ipython",
    "version": 3
   },
   "file_extension": ".py",
   "mimetype": "text/x-python",
   "name": "python",
   "nbconvert_exporter": "python",
   "pygments_lexer": "ipython3",
   "version": "3.11.6"
  }
 },
 "nbformat": 4,
 "nbformat_minor": 0
}
