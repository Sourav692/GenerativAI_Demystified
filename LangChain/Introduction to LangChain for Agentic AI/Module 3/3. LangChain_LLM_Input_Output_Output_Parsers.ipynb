{
 "cells": [
  {
   "cell_type": "markdown",
   "metadata": {
    "application/vnd.databricks.v1+cell": {
     "cellMetadata": {},
     "inputWidgets": {},
     "nuid": "0945f562-bbbd-4ebc-8bd0-66a75087f7fc",
     "showTitle": false,
     "tableResultSettingsMap": {},
     "title": ""
    },
    "id": "TVraWpDTW8i0"
   },
   "source": [
    "# Output Parsers for LLM Input / Output with LangChain"
   ]
  },
  {
   "cell_type": "markdown",
   "metadata": {
    "application/vnd.databricks.v1+cell": {
     "cellMetadata": {},
     "inputWidgets": {},
     "nuid": "ef38e97b-24c8-4995-a6a9-2e0ff42cc14b",
     "showTitle": false,
     "tableResultSettingsMap": {},
     "title": ""
    },
    "id": "L1KvMtf54l0d"
   },
   "source": [
    "## Install OpenAI, HuggingFace and LangChain dependencies"
   ]
  },
  {
   "cell_type": "code",
   "execution_count": 1,
   "metadata": {
    "application/vnd.databricks.v1+cell": {
     "cellMetadata": {},
     "inputWidgets": {},
     "nuid": "77c143c5-f9dd-4ef7-8680-831701c9fbd4",
     "showTitle": false,
     "tableResultSettingsMap": {},
     "title": ""
    }
   },
   "outputs": [
    {
     "name": "stdout",
     "output_type": "stream",
     "text": [
      "Requirement already satisfied: langchain==0.3.11 in /Users/sourav.banerjee/Documents/Github Codebase/GenerativAI_Demystified/.venv/lib/python3.11/site-packages (0.3.11)\n",
      "Requirement already satisfied: PyYAML>=5.3 in /Users/sourav.banerjee/Documents/Github Codebase/GenerativAI_Demystified/.venv/lib/python3.11/site-packages (from langchain==0.3.11) (6.0.2)\n",
      "Requirement already satisfied: SQLAlchemy<3,>=1.4 in /Users/sourav.banerjee/Documents/Github Codebase/GenerativAI_Demystified/.venv/lib/python3.11/site-packages (from langchain==0.3.11) (2.0.41)\n",
      "Requirement already satisfied: aiohttp<4.0.0,>=3.8.3 in /Users/sourav.banerjee/Documents/Github Codebase/GenerativAI_Demystified/.venv/lib/python3.11/site-packages (from langchain==0.3.11) (3.12.13)\n",
      "Requirement already satisfied: langchain-core<0.4.0,>=0.3.24 in /Users/sourav.banerjee/Documents/Github Codebase/GenerativAI_Demystified/.venv/lib/python3.11/site-packages (from langchain==0.3.11) (0.3.63)\n",
      "Requirement already satisfied: langchain-text-splitters<0.4.0,>=0.3.0 in /Users/sourav.banerjee/Documents/Github Codebase/GenerativAI_Demystified/.venv/lib/python3.11/site-packages (from langchain==0.3.11) (0.3.8)\n",
      "Requirement already satisfied: langsmith<0.3,>=0.1.17 in /Users/sourav.banerjee/Documents/Github Codebase/GenerativAI_Demystified/.venv/lib/python3.11/site-packages (from langchain==0.3.11) (0.2.11)\n",
      "Requirement already satisfied: numpy<2,>=1.22.4 in /Users/sourav.banerjee/Documents/Github Codebase/GenerativAI_Demystified/.venv/lib/python3.11/site-packages (from langchain==0.3.11) (1.26.4)\n",
      "Requirement already satisfied: pydantic<3.0.0,>=2.7.4 in /Users/sourav.banerjee/Documents/Github Codebase/GenerativAI_Demystified/.venv/lib/python3.11/site-packages (from langchain==0.3.11) (2.11.5)\n",
      "Requirement already satisfied: requests<3,>=2 in /Users/sourav.banerjee/Documents/Github Codebase/GenerativAI_Demystified/.venv/lib/python3.11/site-packages (from langchain==0.3.11) (2.32.3)\n",
      "Requirement already satisfied: tenacity!=8.4.0,<10,>=8.1.0 in /Users/sourav.banerjee/Documents/Github Codebase/GenerativAI_Demystified/.venv/lib/python3.11/site-packages (from langchain==0.3.11) (9.1.2)\n",
      "Requirement already satisfied: aiohappyeyeballs>=2.5.0 in /Users/sourav.banerjee/Documents/Github Codebase/GenerativAI_Demystified/.venv/lib/python3.11/site-packages (from aiohttp<4.0.0,>=3.8.3->langchain==0.3.11) (2.6.1)\n",
      "Requirement already satisfied: aiosignal>=1.1.2 in /Users/sourav.banerjee/Documents/Github Codebase/GenerativAI_Demystified/.venv/lib/python3.11/site-packages (from aiohttp<4.0.0,>=3.8.3->langchain==0.3.11) (1.3.2)\n",
      "Requirement already satisfied: attrs>=17.3.0 in /Users/sourav.banerjee/Documents/Github Codebase/GenerativAI_Demystified/.venv/lib/python3.11/site-packages (from aiohttp<4.0.0,>=3.8.3->langchain==0.3.11) (25.3.0)\n",
      "Requirement already satisfied: frozenlist>=1.1.1 in /Users/sourav.banerjee/Documents/Github Codebase/GenerativAI_Demystified/.venv/lib/python3.11/site-packages (from aiohttp<4.0.0,>=3.8.3->langchain==0.3.11) (1.7.0)\n",
      "Requirement already satisfied: multidict<7.0,>=4.5 in /Users/sourav.banerjee/Documents/Github Codebase/GenerativAI_Demystified/.venv/lib/python3.11/site-packages (from aiohttp<4.0.0,>=3.8.3->langchain==0.3.11) (6.5.1)\n",
      "Requirement already satisfied: propcache>=0.2.0 in /Users/sourav.banerjee/Documents/Github Codebase/GenerativAI_Demystified/.venv/lib/python3.11/site-packages (from aiohttp<4.0.0,>=3.8.3->langchain==0.3.11) (0.3.2)\n",
      "Requirement already satisfied: yarl<2.0,>=1.17.0 in /Users/sourav.banerjee/Documents/Github Codebase/GenerativAI_Demystified/.venv/lib/python3.11/site-packages (from aiohttp<4.0.0,>=3.8.3->langchain==0.3.11) (1.20.1)\n",
      "Requirement already satisfied: jsonpatch<2.0,>=1.33 in /Users/sourav.banerjee/Documents/Github Codebase/GenerativAI_Demystified/.venv/lib/python3.11/site-packages (from langchain-core<0.4.0,>=0.3.24->langchain==0.3.11) (1.33)\n",
      "Requirement already satisfied: packaging<25,>=23.2 in /Users/sourav.banerjee/Documents/Github Codebase/GenerativAI_Demystified/.venv/lib/python3.11/site-packages (from langchain-core<0.4.0,>=0.3.24->langchain==0.3.11) (24.2)\n",
      "Requirement already satisfied: typing-extensions>=4.7 in /Users/sourav.banerjee/Documents/Github Codebase/GenerativAI_Demystified/.venv/lib/python3.11/site-packages (from langchain-core<0.4.0,>=0.3.24->langchain==0.3.11) (4.13.2)\n",
      "Requirement already satisfied: jsonpointer>=1.9 in /Users/sourav.banerjee/Documents/Github Codebase/GenerativAI_Demystified/.venv/lib/python3.11/site-packages (from jsonpatch<2.0,>=1.33->langchain-core<0.4.0,>=0.3.24->langchain==0.3.11) (3.0.0)\n",
      "Requirement already satisfied: httpx<1,>=0.23.0 in /Users/sourav.banerjee/Documents/Github Codebase/GenerativAI_Demystified/.venv/lib/python3.11/site-packages (from langsmith<0.3,>=0.1.17->langchain==0.3.11) (0.28.1)\n",
      "Requirement already satisfied: orjson<4.0.0,>=3.9.14 in /Users/sourav.banerjee/Documents/Github Codebase/GenerativAI_Demystified/.venv/lib/python3.11/site-packages (from langsmith<0.3,>=0.1.17->langchain==0.3.11) (3.10.18)\n",
      "Requirement already satisfied: requests-toolbelt<2.0.0,>=1.0.0 in /Users/sourav.banerjee/Documents/Github Codebase/GenerativAI_Demystified/.venv/lib/python3.11/site-packages (from langsmith<0.3,>=0.1.17->langchain==0.3.11) (1.0.0)\n",
      "Requirement already satisfied: anyio in /Users/sourav.banerjee/Documents/Github Codebase/GenerativAI_Demystified/.venv/lib/python3.11/site-packages (from httpx<1,>=0.23.0->langsmith<0.3,>=0.1.17->langchain==0.3.11) (4.9.0)\n",
      "Requirement already satisfied: certifi in /Users/sourav.banerjee/Documents/Github Codebase/GenerativAI_Demystified/.venv/lib/python3.11/site-packages (from httpx<1,>=0.23.0->langsmith<0.3,>=0.1.17->langchain==0.3.11) (2025.4.26)\n",
      "Requirement already satisfied: httpcore==1.* in /Users/sourav.banerjee/Documents/Github Codebase/GenerativAI_Demystified/.venv/lib/python3.11/site-packages (from httpx<1,>=0.23.0->langsmith<0.3,>=0.1.17->langchain==0.3.11) (1.0.9)\n",
      "Requirement already satisfied: idna in /Users/sourav.banerjee/Documents/Github Codebase/GenerativAI_Demystified/.venv/lib/python3.11/site-packages (from httpx<1,>=0.23.0->langsmith<0.3,>=0.1.17->langchain==0.3.11) (3.10)\n",
      "Requirement already satisfied: h11>=0.16 in /Users/sourav.banerjee/Documents/Github Codebase/GenerativAI_Demystified/.venv/lib/python3.11/site-packages (from httpcore==1.*->httpx<1,>=0.23.0->langsmith<0.3,>=0.1.17->langchain==0.3.11) (0.16.0)\n",
      "Requirement already satisfied: annotated-types>=0.6.0 in /Users/sourav.banerjee/Documents/Github Codebase/GenerativAI_Demystified/.venv/lib/python3.11/site-packages (from pydantic<3.0.0,>=2.7.4->langchain==0.3.11) (0.7.0)\n",
      "Requirement already satisfied: pydantic-core==2.33.2 in /Users/sourav.banerjee/Documents/Github Codebase/GenerativAI_Demystified/.venv/lib/python3.11/site-packages (from pydantic<3.0.0,>=2.7.4->langchain==0.3.11) (2.33.2)\n",
      "Requirement already satisfied: typing-inspection>=0.4.0 in /Users/sourav.banerjee/Documents/Github Codebase/GenerativAI_Demystified/.venv/lib/python3.11/site-packages (from pydantic<3.0.0,>=2.7.4->langchain==0.3.11) (0.4.1)\n",
      "Requirement already satisfied: charset-normalizer<4,>=2 in /Users/sourav.banerjee/Documents/Github Codebase/GenerativAI_Demystified/.venv/lib/python3.11/site-packages (from requests<3,>=2->langchain==0.3.11) (3.4.2)\n",
      "Requirement already satisfied: urllib3<3,>=1.21.1 in /Users/sourav.banerjee/Documents/Github Codebase/GenerativAI_Demystified/.venv/lib/python3.11/site-packages (from requests<3,>=2->langchain==0.3.11) (2.4.0)\n",
      "Requirement already satisfied: sniffio>=1.1 in /Users/sourav.banerjee/Documents/Github Codebase/GenerativAI_Demystified/.venv/lib/python3.11/site-packages (from anyio->httpx<1,>=0.23.0->langsmith<0.3,>=0.1.17->langchain==0.3.11) (1.3.1)\n",
      "Requirement already satisfied: langchain-openai==0.2.12 in /Users/sourav.banerjee/Documents/Github Codebase/GenerativAI_Demystified/.venv/lib/python3.11/site-packages (0.2.12)\n",
      "Requirement already satisfied: langchain-core<0.4.0,>=0.3.21 in /Users/sourav.banerjee/Documents/Github Codebase/GenerativAI_Demystified/.venv/lib/python3.11/site-packages (from langchain-openai==0.2.12) (0.3.63)\n",
      "Requirement already satisfied: openai<2.0.0,>=1.55.3 in /Users/sourav.banerjee/Documents/Github Codebase/GenerativAI_Demystified/.venv/lib/python3.11/site-packages (from langchain-openai==0.2.12) (1.57.0)\n",
      "Requirement already satisfied: tiktoken<1,>=0.7 in /Users/sourav.banerjee/Documents/Github Codebase/GenerativAI_Demystified/.venv/lib/python3.11/site-packages (from langchain-openai==0.2.12) (0.9.0)\n",
      "Requirement already satisfied: langsmith<0.4,>=0.1.126 in /Users/sourav.banerjee/Documents/Github Codebase/GenerativAI_Demystified/.venv/lib/python3.11/site-packages (from langchain-core<0.4.0,>=0.3.21->langchain-openai==0.2.12) (0.2.11)\n",
      "Requirement already satisfied: tenacity!=8.4.0,<10.0.0,>=8.1.0 in /Users/sourav.banerjee/Documents/Github Codebase/GenerativAI_Demystified/.venv/lib/python3.11/site-packages (from langchain-core<0.4.0,>=0.3.21->langchain-openai==0.2.12) (9.1.2)\n",
      "Requirement already satisfied: jsonpatch<2.0,>=1.33 in /Users/sourav.banerjee/Documents/Github Codebase/GenerativAI_Demystified/.venv/lib/python3.11/site-packages (from langchain-core<0.4.0,>=0.3.21->langchain-openai==0.2.12) (1.33)\n",
      "Requirement already satisfied: PyYAML>=5.3 in /Users/sourav.banerjee/Documents/Github Codebase/GenerativAI_Demystified/.venv/lib/python3.11/site-packages (from langchain-core<0.4.0,>=0.3.21->langchain-openai==0.2.12) (6.0.2)\n",
      "Requirement already satisfied: packaging<25,>=23.2 in /Users/sourav.banerjee/Documents/Github Codebase/GenerativAI_Demystified/.venv/lib/python3.11/site-packages (from langchain-core<0.4.0,>=0.3.21->langchain-openai==0.2.12) (24.2)\n",
      "Requirement already satisfied: typing-extensions>=4.7 in /Users/sourav.banerjee/Documents/Github Codebase/GenerativAI_Demystified/.venv/lib/python3.11/site-packages (from langchain-core<0.4.0,>=0.3.21->langchain-openai==0.2.12) (4.13.2)\n",
      "Requirement already satisfied: pydantic>=2.7.4 in /Users/sourav.banerjee/Documents/Github Codebase/GenerativAI_Demystified/.venv/lib/python3.11/site-packages (from langchain-core<0.4.0,>=0.3.21->langchain-openai==0.2.12) (2.11.5)\n",
      "Requirement already satisfied: jsonpointer>=1.9 in /Users/sourav.banerjee/Documents/Github Codebase/GenerativAI_Demystified/.venv/lib/python3.11/site-packages (from jsonpatch<2.0,>=1.33->langchain-core<0.4.0,>=0.3.21->langchain-openai==0.2.12) (3.0.0)\n",
      "Requirement already satisfied: httpx<1,>=0.23.0 in /Users/sourav.banerjee/Documents/Github Codebase/GenerativAI_Demystified/.venv/lib/python3.11/site-packages (from langsmith<0.4,>=0.1.126->langchain-core<0.4.0,>=0.3.21->langchain-openai==0.2.12) (0.28.1)\n",
      "Requirement already satisfied: orjson<4.0.0,>=3.9.14 in /Users/sourav.banerjee/Documents/Github Codebase/GenerativAI_Demystified/.venv/lib/python3.11/site-packages (from langsmith<0.4,>=0.1.126->langchain-core<0.4.0,>=0.3.21->langchain-openai==0.2.12) (3.10.18)\n",
      "Requirement already satisfied: requests<3,>=2 in /Users/sourav.banerjee/Documents/Github Codebase/GenerativAI_Demystified/.venv/lib/python3.11/site-packages (from langsmith<0.4,>=0.1.126->langchain-core<0.4.0,>=0.3.21->langchain-openai==0.2.12) (2.32.3)\n",
      "Requirement already satisfied: requests-toolbelt<2.0.0,>=1.0.0 in /Users/sourav.banerjee/Documents/Github Codebase/GenerativAI_Demystified/.venv/lib/python3.11/site-packages (from langsmith<0.4,>=0.1.126->langchain-core<0.4.0,>=0.3.21->langchain-openai==0.2.12) (1.0.0)\n",
      "Requirement already satisfied: anyio in /Users/sourav.banerjee/Documents/Github Codebase/GenerativAI_Demystified/.venv/lib/python3.11/site-packages (from httpx<1,>=0.23.0->langsmith<0.4,>=0.1.126->langchain-core<0.4.0,>=0.3.21->langchain-openai==0.2.12) (4.9.0)\n",
      "Requirement already satisfied: certifi in /Users/sourav.banerjee/Documents/Github Codebase/GenerativAI_Demystified/.venv/lib/python3.11/site-packages (from httpx<1,>=0.23.0->langsmith<0.4,>=0.1.126->langchain-core<0.4.0,>=0.3.21->langchain-openai==0.2.12) (2025.4.26)\n",
      "Requirement already satisfied: httpcore==1.* in /Users/sourav.banerjee/Documents/Github Codebase/GenerativAI_Demystified/.venv/lib/python3.11/site-packages (from httpx<1,>=0.23.0->langsmith<0.4,>=0.1.126->langchain-core<0.4.0,>=0.3.21->langchain-openai==0.2.12) (1.0.9)\n",
      "Requirement already satisfied: idna in /Users/sourav.banerjee/Documents/Github Codebase/GenerativAI_Demystified/.venv/lib/python3.11/site-packages (from httpx<1,>=0.23.0->langsmith<0.4,>=0.1.126->langchain-core<0.4.0,>=0.3.21->langchain-openai==0.2.12) (3.10)\n",
      "Requirement already satisfied: h11>=0.16 in /Users/sourav.banerjee/Documents/Github Codebase/GenerativAI_Demystified/.venv/lib/python3.11/site-packages (from httpcore==1.*->httpx<1,>=0.23.0->langsmith<0.4,>=0.1.126->langchain-core<0.4.0,>=0.3.21->langchain-openai==0.2.12) (0.16.0)\n",
      "Requirement already satisfied: distro<2,>=1.7.0 in /Users/sourav.banerjee/Documents/Github Codebase/GenerativAI_Demystified/.venv/lib/python3.11/site-packages (from openai<2.0.0,>=1.55.3->langchain-openai==0.2.12) (1.9.0)\n",
      "Requirement already satisfied: jiter<1,>=0.4.0 in /Users/sourav.banerjee/Documents/Github Codebase/GenerativAI_Demystified/.venv/lib/python3.11/site-packages (from openai<2.0.0,>=1.55.3->langchain-openai==0.2.12) (0.10.0)\n",
      "Requirement already satisfied: sniffio in /Users/sourav.banerjee/Documents/Github Codebase/GenerativAI_Demystified/.venv/lib/python3.11/site-packages (from openai<2.0.0,>=1.55.3->langchain-openai==0.2.12) (1.3.1)\n",
      "Requirement already satisfied: tqdm>4 in /Users/sourav.banerjee/Documents/Github Codebase/GenerativAI_Demystified/.venv/lib/python3.11/site-packages (from openai<2.0.0,>=1.55.3->langchain-openai==0.2.12) (4.67.1)\n",
      "Requirement already satisfied: annotated-types>=0.6.0 in /Users/sourav.banerjee/Documents/Github Codebase/GenerativAI_Demystified/.venv/lib/python3.11/site-packages (from pydantic>=2.7.4->langchain-core<0.4.0,>=0.3.21->langchain-openai==0.2.12) (0.7.0)\n",
      "Requirement already satisfied: pydantic-core==2.33.2 in /Users/sourav.banerjee/Documents/Github Codebase/GenerativAI_Demystified/.venv/lib/python3.11/site-packages (from pydantic>=2.7.4->langchain-core<0.4.0,>=0.3.21->langchain-openai==0.2.12) (2.33.2)\n",
      "Requirement already satisfied: typing-inspection>=0.4.0 in /Users/sourav.banerjee/Documents/Github Codebase/GenerativAI_Demystified/.venv/lib/python3.11/site-packages (from pydantic>=2.7.4->langchain-core<0.4.0,>=0.3.21->langchain-openai==0.2.12) (0.4.1)\n",
      "Requirement already satisfied: charset-normalizer<4,>=2 in /Users/sourav.banerjee/Documents/Github Codebase/GenerativAI_Demystified/.venv/lib/python3.11/site-packages (from requests<3,>=2->langsmith<0.4,>=0.1.126->langchain-core<0.4.0,>=0.3.21->langchain-openai==0.2.12) (3.4.2)\n",
      "Requirement already satisfied: urllib3<3,>=1.21.1 in /Users/sourav.banerjee/Documents/Github Codebase/GenerativAI_Demystified/.venv/lib/python3.11/site-packages (from requests<3,>=2->langsmith<0.4,>=0.1.126->langchain-core<0.4.0,>=0.3.21->langchain-openai==0.2.12) (2.4.0)\n",
      "Requirement already satisfied: regex>=2022.1.18 in /Users/sourav.banerjee/Documents/Github Codebase/GenerativAI_Demystified/.venv/lib/python3.11/site-packages (from tiktoken<1,>=0.7->langchain-openai==0.2.12) (2024.11.6)\n",
      "Requirement already satisfied: langchain-community==0.3.11 in /Users/sourav.banerjee/Documents/Github Codebase/GenerativAI_Demystified/.venv/lib/python3.11/site-packages (0.3.11)\n",
      "Requirement already satisfied: PyYAML>=5.3 in /Users/sourav.banerjee/Documents/Github Codebase/GenerativAI_Demystified/.venv/lib/python3.11/site-packages (from langchain-community==0.3.11) (6.0.2)\n",
      "Requirement already satisfied: SQLAlchemy<3,>=1.4 in /Users/sourav.banerjee/Documents/Github Codebase/GenerativAI_Demystified/.venv/lib/python3.11/site-packages (from langchain-community==0.3.11) (2.0.41)\n",
      "Requirement already satisfied: aiohttp<4.0.0,>=3.8.3 in /Users/sourav.banerjee/Documents/Github Codebase/GenerativAI_Demystified/.venv/lib/python3.11/site-packages (from langchain-community==0.3.11) (3.12.13)\n",
      "Requirement already satisfied: dataclasses-json<0.7,>=0.5.7 in /Users/sourav.banerjee/Documents/Github Codebase/GenerativAI_Demystified/.venv/lib/python3.11/site-packages (from langchain-community==0.3.11) (0.6.7)\n",
      "Requirement already satisfied: httpx-sse<0.5.0,>=0.4.0 in /Users/sourav.banerjee/Documents/Github Codebase/GenerativAI_Demystified/.venv/lib/python3.11/site-packages (from langchain-community==0.3.11) (0.4.1)\n",
      "Requirement already satisfied: langchain<0.4.0,>=0.3.11 in /Users/sourav.banerjee/Documents/Github Codebase/GenerativAI_Demystified/.venv/lib/python3.11/site-packages (from langchain-community==0.3.11) (0.3.11)\n",
      "Requirement already satisfied: langchain-core<0.4.0,>=0.3.24 in /Users/sourav.banerjee/Documents/Github Codebase/GenerativAI_Demystified/.venv/lib/python3.11/site-packages (from langchain-community==0.3.11) (0.3.63)\n",
      "Requirement already satisfied: langsmith<0.3,>=0.1.125 in /Users/sourav.banerjee/Documents/Github Codebase/GenerativAI_Demystified/.venv/lib/python3.11/site-packages (from langchain-community==0.3.11) (0.2.11)\n",
      "Requirement already satisfied: numpy<2,>=1.22.4 in /Users/sourav.banerjee/Documents/Github Codebase/GenerativAI_Demystified/.venv/lib/python3.11/site-packages (from langchain-community==0.3.11) (1.26.4)\n",
      "Requirement already satisfied: pydantic-settings<3.0.0,>=2.4.0 in /Users/sourav.banerjee/Documents/Github Codebase/GenerativAI_Demystified/.venv/lib/python3.11/site-packages (from langchain-community==0.3.11) (2.10.1)\n",
      "Requirement already satisfied: requests<3,>=2 in /Users/sourav.banerjee/Documents/Github Codebase/GenerativAI_Demystified/.venv/lib/python3.11/site-packages (from langchain-community==0.3.11) (2.32.3)\n",
      "Requirement already satisfied: tenacity!=8.4.0,<10,>=8.1.0 in /Users/sourav.banerjee/Documents/Github Codebase/GenerativAI_Demystified/.venv/lib/python3.11/site-packages (from langchain-community==0.3.11) (9.1.2)\n",
      "Requirement already satisfied: aiohappyeyeballs>=2.5.0 in /Users/sourav.banerjee/Documents/Github Codebase/GenerativAI_Demystified/.venv/lib/python3.11/site-packages (from aiohttp<4.0.0,>=3.8.3->langchain-community==0.3.11) (2.6.1)\n",
      "Requirement already satisfied: aiosignal>=1.1.2 in /Users/sourav.banerjee/Documents/Github Codebase/GenerativAI_Demystified/.venv/lib/python3.11/site-packages (from aiohttp<4.0.0,>=3.8.3->langchain-community==0.3.11) (1.3.2)\n",
      "Requirement already satisfied: attrs>=17.3.0 in /Users/sourav.banerjee/Documents/Github Codebase/GenerativAI_Demystified/.venv/lib/python3.11/site-packages (from aiohttp<4.0.0,>=3.8.3->langchain-community==0.3.11) (25.3.0)\n",
      "Requirement already satisfied: frozenlist>=1.1.1 in /Users/sourav.banerjee/Documents/Github Codebase/GenerativAI_Demystified/.venv/lib/python3.11/site-packages (from aiohttp<4.0.0,>=3.8.3->langchain-community==0.3.11) (1.7.0)\n",
      "Requirement already satisfied: multidict<7.0,>=4.5 in /Users/sourav.banerjee/Documents/Github Codebase/GenerativAI_Demystified/.venv/lib/python3.11/site-packages (from aiohttp<4.0.0,>=3.8.3->langchain-community==0.3.11) (6.5.1)\n",
      "Requirement already satisfied: propcache>=0.2.0 in /Users/sourav.banerjee/Documents/Github Codebase/GenerativAI_Demystified/.venv/lib/python3.11/site-packages (from aiohttp<4.0.0,>=3.8.3->langchain-community==0.3.11) (0.3.2)\n",
      "Requirement already satisfied: yarl<2.0,>=1.17.0 in /Users/sourav.banerjee/Documents/Github Codebase/GenerativAI_Demystified/.venv/lib/python3.11/site-packages (from aiohttp<4.0.0,>=3.8.3->langchain-community==0.3.11) (1.20.1)\n",
      "Requirement already satisfied: marshmallow<4.0.0,>=3.18.0 in /Users/sourav.banerjee/Documents/Github Codebase/GenerativAI_Demystified/.venv/lib/python3.11/site-packages (from dataclasses-json<0.7,>=0.5.7->langchain-community==0.3.11) (3.26.1)\n",
      "Requirement already satisfied: typing-inspect<1,>=0.4.0 in /Users/sourav.banerjee/Documents/Github Codebase/GenerativAI_Demystified/.venv/lib/python3.11/site-packages (from dataclasses-json<0.7,>=0.5.7->langchain-community==0.3.11) (0.9.0)\n",
      "Requirement already satisfied: langchain-text-splitters<0.4.0,>=0.3.0 in /Users/sourav.banerjee/Documents/Github Codebase/GenerativAI_Demystified/.venv/lib/python3.11/site-packages (from langchain<0.4.0,>=0.3.11->langchain-community==0.3.11) (0.3.8)\n",
      "Requirement already satisfied: pydantic<3.0.0,>=2.7.4 in /Users/sourav.banerjee/Documents/Github Codebase/GenerativAI_Demystified/.venv/lib/python3.11/site-packages (from langchain<0.4.0,>=0.3.11->langchain-community==0.3.11) (2.11.5)\n",
      "Requirement already satisfied: jsonpatch<2.0,>=1.33 in /Users/sourav.banerjee/Documents/Github Codebase/GenerativAI_Demystified/.venv/lib/python3.11/site-packages (from langchain-core<0.4.0,>=0.3.24->langchain-community==0.3.11) (1.33)\n",
      "Requirement already satisfied: packaging<25,>=23.2 in /Users/sourav.banerjee/Documents/Github Codebase/GenerativAI_Demystified/.venv/lib/python3.11/site-packages (from langchain-core<0.4.0,>=0.3.24->langchain-community==0.3.11) (24.2)\n",
      "Requirement already satisfied: typing-extensions>=4.7 in /Users/sourav.banerjee/Documents/Github Codebase/GenerativAI_Demystified/.venv/lib/python3.11/site-packages (from langchain-core<0.4.0,>=0.3.24->langchain-community==0.3.11) (4.13.2)\n",
      "Requirement already satisfied: jsonpointer>=1.9 in /Users/sourav.banerjee/Documents/Github Codebase/GenerativAI_Demystified/.venv/lib/python3.11/site-packages (from jsonpatch<2.0,>=1.33->langchain-core<0.4.0,>=0.3.24->langchain-community==0.3.11) (3.0.0)\n",
      "Requirement already satisfied: httpx<1,>=0.23.0 in /Users/sourav.banerjee/Documents/Github Codebase/GenerativAI_Demystified/.venv/lib/python3.11/site-packages (from langsmith<0.3,>=0.1.125->langchain-community==0.3.11) (0.28.1)\n",
      "Requirement already satisfied: orjson<4.0.0,>=3.9.14 in /Users/sourav.banerjee/Documents/Github Codebase/GenerativAI_Demystified/.venv/lib/python3.11/site-packages (from langsmith<0.3,>=0.1.125->langchain-community==0.3.11) (3.10.18)\n",
      "Requirement already satisfied: requests-toolbelt<2.0.0,>=1.0.0 in /Users/sourav.banerjee/Documents/Github Codebase/GenerativAI_Demystified/.venv/lib/python3.11/site-packages (from langsmith<0.3,>=0.1.125->langchain-community==0.3.11) (1.0.0)\n",
      "Requirement already satisfied: anyio in /Users/sourav.banerjee/Documents/Github Codebase/GenerativAI_Demystified/.venv/lib/python3.11/site-packages (from httpx<1,>=0.23.0->langsmith<0.3,>=0.1.125->langchain-community==0.3.11) (4.9.0)\n",
      "Requirement already satisfied: certifi in /Users/sourav.banerjee/Documents/Github Codebase/GenerativAI_Demystified/.venv/lib/python3.11/site-packages (from httpx<1,>=0.23.0->langsmith<0.3,>=0.1.125->langchain-community==0.3.11) (2025.4.26)\n",
      "Requirement already satisfied: httpcore==1.* in /Users/sourav.banerjee/Documents/Github Codebase/GenerativAI_Demystified/.venv/lib/python3.11/site-packages (from httpx<1,>=0.23.0->langsmith<0.3,>=0.1.125->langchain-community==0.3.11) (1.0.9)\n",
      "Requirement already satisfied: idna in /Users/sourav.banerjee/Documents/Github Codebase/GenerativAI_Demystified/.venv/lib/python3.11/site-packages (from httpx<1,>=0.23.0->langsmith<0.3,>=0.1.125->langchain-community==0.3.11) (3.10)\n",
      "Requirement already satisfied: h11>=0.16 in /Users/sourav.banerjee/Documents/Github Codebase/GenerativAI_Demystified/.venv/lib/python3.11/site-packages (from httpcore==1.*->httpx<1,>=0.23.0->langsmith<0.3,>=0.1.125->langchain-community==0.3.11) (0.16.0)\n",
      "Requirement already satisfied: annotated-types>=0.6.0 in /Users/sourav.banerjee/Documents/Github Codebase/GenerativAI_Demystified/.venv/lib/python3.11/site-packages (from pydantic<3.0.0,>=2.7.4->langchain<0.4.0,>=0.3.11->langchain-community==0.3.11) (0.7.0)\n",
      "Requirement already satisfied: pydantic-core==2.33.2 in /Users/sourav.banerjee/Documents/Github Codebase/GenerativAI_Demystified/.venv/lib/python3.11/site-packages (from pydantic<3.0.0,>=2.7.4->langchain<0.4.0,>=0.3.11->langchain-community==0.3.11) (2.33.2)\n",
      "Requirement already satisfied: typing-inspection>=0.4.0 in /Users/sourav.banerjee/Documents/Github Codebase/GenerativAI_Demystified/.venv/lib/python3.11/site-packages (from pydantic<3.0.0,>=2.7.4->langchain<0.4.0,>=0.3.11->langchain-community==0.3.11) (0.4.1)\n",
      "Requirement already satisfied: python-dotenv>=0.21.0 in /Users/sourav.banerjee/Documents/Github Codebase/GenerativAI_Demystified/.venv/lib/python3.11/site-packages (from pydantic-settings<3.0.0,>=2.4.0->langchain-community==0.3.11) (1.1.0)\n",
      "Requirement already satisfied: charset-normalizer<4,>=2 in /Users/sourav.banerjee/Documents/Github Codebase/GenerativAI_Demystified/.venv/lib/python3.11/site-packages (from requests<3,>=2->langchain-community==0.3.11) (3.4.2)\n",
      "Requirement already satisfied: urllib3<3,>=1.21.1 in /Users/sourav.banerjee/Documents/Github Codebase/GenerativAI_Demystified/.venv/lib/python3.11/site-packages (from requests<3,>=2->langchain-community==0.3.11) (2.4.0)\n",
      "Requirement already satisfied: mypy-extensions>=0.3.0 in /Users/sourav.banerjee/Documents/Github Codebase/GenerativAI_Demystified/.venv/lib/python3.11/site-packages (from typing-inspect<1,>=0.4.0->dataclasses-json<0.7,>=0.5.7->langchain-community==0.3.11) (1.1.0)\n",
      "Requirement already satisfied: sniffio>=1.1 in /Users/sourav.banerjee/Documents/Github Codebase/GenerativAI_Demystified/.venv/lib/python3.11/site-packages (from anyio->httpx<1,>=0.23.0->langsmith<0.3,>=0.1.125->langchain-community==0.3.11) (1.3.1)\n"
     ]
    }
   ],
   "source": [
    "!pip install langchain==0.3.11\n",
    "!pip install langchain-openai==0.2.12\n",
    "!pip install langchain-community==0.3.11"
   ]
  },
  {
   "cell_type": "markdown",
   "metadata": {
    "application/vnd.databricks.v1+cell": {
     "cellMetadata": {},
     "inputWidgets": {},
     "nuid": "8215aa59-cf43-4f08-a423-476a13a9b908",
     "showTitle": false,
     "tableResultSettingsMap": {},
     "title": ""
    },
    "id": "PtBa7rlWJWH3"
   },
   "source": [
    "## Enter API Tokens"
   ]
  },
  {
   "cell_type": "markdown",
   "metadata": {
    "application/vnd.databricks.v1+cell": {
     "cellMetadata": {},
     "inputWidgets": {},
     "nuid": "8c937613-376f-4e89-98a3-01cf1e0723fd",
     "showTitle": false,
     "tableResultSettingsMap": {},
     "title": ""
    },
    "id": "Y6RD7As2sm8G"
   },
   "source": [
    "#### Enter your Open AI Key here\n",
    "\n",
    "You can get the key from [here](https://platform.openai.com/api-keys) after creating an account or signing in"
   ]
  },
  {
   "cell_type": "code",
   "execution_count": 2,
   "metadata": {
    "application/vnd.databricks.v1+cell": {
     "cellMetadata": {},
     "inputWidgets": {},
     "nuid": "beaacbb6-9e21-4ad6-89a4-4f678b63a8da",
     "showTitle": false,
     "tableResultSettingsMap": {},
     "title": ""
    },
    "colab": {
     "base_uri": "https://localhost:8080/"
    },
    "id": "9ogxBkS6ZnnC",
    "outputId": "1889cc11-f4ec-46a7-ebcc-de4195ad20ce"
   },
   "outputs": [],
   "source": [
    "from getpass import getpass\n",
    "\n",
    "OPENAI_KEY = getpass('Please enter your Open AI API Key here: ')"
   ]
  },
  {
   "cell_type": "markdown",
   "metadata": {
    "application/vnd.databricks.v1+cell": {
     "cellMetadata": {},
     "inputWidgets": {},
     "nuid": "ea0fc2cd-fd24-4621-bb71-ff01bf0c1ef8",
     "showTitle": false,
     "tableResultSettingsMap": {},
     "title": ""
    },
    "id": "T5rOqCyianbP"
   },
   "source": [
    "## Setup necessary system environment variables"
   ]
  },
  {
   "cell_type": "code",
   "execution_count": 3,
   "metadata": {
    "application/vnd.databricks.v1+cell": {
     "cellMetadata": {},
     "inputWidgets": {},
     "nuid": "278a9eb8-93d2-472c-95f1-986fffc15a7d",
     "showTitle": false,
     "tableResultSettingsMap": {},
     "title": ""
    },
    "id": "1PIStD04Zp9p"
   },
   "outputs": [],
   "source": [
    "import os\n",
    "\n",
    "os.environ['OPENAI_API_KEY'] = OPENAI_KEY"
   ]
  },
  {
   "cell_type": "markdown",
   "metadata": {
    "application/vnd.databricks.v1+cell": {
     "cellMetadata": {},
     "inputWidgets": {},
     "nuid": "c5c9b25c-cb40-4788-be39-374876dc6cf8",
     "showTitle": false,
     "tableResultSettingsMap": {},
     "title": ""
    },
    "id": "_4h0xywyJ3v7"
   },
   "source": [
    "## Chat Models and LLMs\n",
    "\n",
    "Large Language Models (LLMs) are a core component of LangChain. LangChain does not implement or build its own LLMs. It provides a standard API for interacting with almost every LLM out there.\n",
    "\n",
    "There are lots of LLM providers (OpenAI, Hugging Face, etc) - the LLM class is designed to provide a standard interface for all of them."
   ]
  },
  {
   "cell_type": "markdown",
   "metadata": {
    "application/vnd.databricks.v1+cell": {
     "cellMetadata": {},
     "inputWidgets": {},
     "nuid": "98209cd1-83c5-428a-93ef-a256018cd5b5",
     "showTitle": false,
     "tableResultSettingsMap": {},
     "title": ""
    },
    "id": "cSdF6_R7J45Z"
   },
   "source": [
    "## Accessing Commercial LLMs like ChatGPT"
   ]
  },
  {
   "cell_type": "code",
   "execution_count": 5,
   "metadata": {
    "application/vnd.databricks.v1+cell": {
     "cellMetadata": {},
     "inputWidgets": {},
     "nuid": "7a0105f3-834a-4904-a1b3-3e048d5a097b",
     "showTitle": false,
     "tableResultSettingsMap": {},
     "title": ""
    },
    "id": "v8nnrOGxZ2uZ"
   },
   "outputs": [],
   "source": [
    "from langchain_openai import ChatOpenAI\n",
    "\n",
    "chatgpt = ChatOpenAI(model_name=\"gpt-4o-mini\", temperature=0)"
   ]
  },
  {
   "cell_type": "markdown",
   "metadata": {
    "application/vnd.databricks.v1+cell": {
     "cellMetadata": {},
     "inputWidgets": {},
     "nuid": "a212b14c-8578-4549-8172-c4f2153e245d",
     "showTitle": false,
     "tableResultSettingsMap": {},
     "title": ""
    },
    "id": "-cei3lVfHduK"
   },
   "source": [
    "## Output Parsers\n",
    "Output parsers are essential in Langchain for structuring the responses from language models. Below, we will discuss the role of output parsers and include examples using Langchain's specific parser types: PydanticOutputParser, JsonOutputParser, and CommaSeparatedListOutputParser.\n",
    "\n",
    "- **Pydantic parser:**\n",
    "  - This parser allows the specification of an arbitrary Pydantic Model to query LLMs for outputs matching that schema. Pydantic's BaseModel functions similarly to a Python dataclass but includes type checking and coercion.\n",
    "\n",
    "- **JSON parser:**\n",
    "  - Users can specify an arbitrary JSON schema with this parser to ensure outputs from LLMs adhere to that schema. Pydantic can also be used to declare your data model here.\n",
    "\n",
    "- **CSV parser:**\n",
    "  - Useful for outputs requiring a list of items separated by commas. This parser facilitates the extraction of comma-separated values from model outputs.\n"
   ]
  },
  {
   "cell_type": "markdown",
   "metadata": {
    "application/vnd.databricks.v1+cell": {
     "cellMetadata": {},
     "inputWidgets": {},
     "nuid": "153b9f09-9f18-4160-8236-07723d8547ce",
     "showTitle": false,
     "tableResultSettingsMap": {},
     "title": ""
    },
    "id": "B1-PDxOf1h87"
   },
   "source": [
    "### PydanticOutputParser\n",
    "\n",
    "This output parser allows users to specify an arbitrary Pydantic Model and query LLMs for outputs that conform to that schema.\n",
    "\n",
    "Keep in mind that large language models are non-deterministic! You'll have to use an LLM with sufficient capacity to generate well-formed responses.\n",
    "\n",
    "Use Pydantic to declare your data model. Pydantic's BaseModel is like a Python dataclass, but with actual type checking + coercion."
   ]
  },
  {
   "cell_type": "code",
   "execution_count": 8,
   "metadata": {
    "application/vnd.databricks.v1+cell": {
     "cellMetadata": {},
     "inputWidgets": {},
     "nuid": "542495b8-0c89-47d7-8073-cc294439646c",
     "showTitle": false,
     "tableResultSettingsMap": {},
     "title": ""
    },
    "colab": {
     "base_uri": "https://localhost:8080/"
    },
    "id": "-fApMfO9zG4B",
    "outputId": "5edce92d-a8b0-44c9-a761-856b8aed1f4a"
   },
   "outputs": [
    {
     "data": {
      "text/plain": [
       "PydanticOutputParser(pydantic_object=<class '__main__.QueryResponse'>)"
      ]
     },
     "execution_count": 8,
     "metadata": {},
     "output_type": "execute_result"
    }
   ],
   "source": [
    "from langchain_core.prompts import PromptTemplate\n",
    "from langchain_core.output_parsers import PydanticOutputParser\n",
    "from pydantic import BaseModel, Field\n",
    "\n",
    "# Define your desired data structure - like a python data class.\n",
    "class QueryResponse(BaseModel):\n",
    "    description: str = Field(description=\"A brief description of the topic asked by the user\")\n",
    "    pros: str = Field(description=\"3 bullet points showing the pros of the topic asked by the user\")\n",
    "    cons: str = Field(description=\"3 bullet points showing the cons of the topic asked by the user\")\n",
    "    conclusion: str = Field(description=\"One line conclusion of the topic asked by the user\")\n",
    "\n",
    "# Set up a parser + inject instructions into the prompt template.\n",
    "parser = PydanticOutputParser(pydantic_object=QueryResponse)\n",
    "parser"
   ]
  },
  {
   "cell_type": "code",
   "execution_count": 9,
   "metadata": {
    "application/vnd.databricks.v1+cell": {
     "cellMetadata": {},
     "inputWidgets": {},
     "nuid": "9ca8a1ef-6cb1-40b3-9799-7fb1b40279bb",
     "showTitle": false,
     "tableResultSettingsMap": {},
     "title": ""
    },
    "colab": {
     "base_uri": "https://localhost:8080/"
    },
    "id": "iu_4ogkz0ABZ",
    "outputId": "87a3fd2a-9724-4f23-c007-1de7f36cf4bb"
   },
   "outputs": [
    {
     "name": "stdout",
     "output_type": "stream",
     "text": [
      "The output should be formatted as a JSON instance that conforms to the JSON schema below.\n",
      "\n",
      "As an example, for the schema {\"properties\": {\"foo\": {\"title\": \"Foo\", \"description\": \"a list of strings\", \"type\": \"array\", \"items\": {\"type\": \"string\"}}}, \"required\": [\"foo\"]}\n",
      "the object {\"foo\": [\"bar\", \"baz\"]} is a well-formatted instance of the schema. The object {\"properties\": {\"foo\": [\"bar\", \"baz\"]}} is not well-formatted.\n",
      "\n",
      "Here is the output schema:\n",
      "```\n",
      "{\"properties\": {\"description\": {\"description\": \"A brief description of the topic asked by the user\", \"title\": \"Description\", \"type\": \"string\"}, \"pros\": {\"description\": \"3 bullet points showing the pros of the topic asked by the user\", \"title\": \"Pros\", \"type\": \"string\"}, \"cons\": {\"description\": \"3 bullet points showing the cons of the topic asked by the user\", \"title\": \"Cons\", \"type\": \"string\"}, \"conclusion\": {\"description\": \"One line conclusion of the topic asked by the user\", \"title\": \"Conclusion\", \"type\": \"string\"}}, \"required\": [\"description\", \"pros\", \"cons\", \"conclusion\"]}\n",
      "```\n"
     ]
    }
   ],
   "source": [
    "# langchain pre-generated output response formatting instructions\n",
    "print(parser.get_format_instructions())"
   ]
  },
  {
   "cell_type": "code",
   "execution_count": 11,
   "metadata": {
    "application/vnd.databricks.v1+cell": {
     "cellMetadata": {},
     "inputWidgets": {},
     "nuid": "180d6d3c-ee11-4146-8a8b-7ebb828d81de",
     "showTitle": false,
     "tableResultSettingsMap": {},
     "title": ""
    },
    "colab": {
     "base_uri": "https://localhost:8080/"
    },
    "id": "rIrCkknp0FiO",
    "outputId": "2270c018-e92f-48e2-96dd-9850d5214db6"
   },
   "outputs": [
    {
     "name": "stdout",
     "output_type": "stream",
     "text": [
      "input_variables=['query'] input_types={} partial_variables={'format_instructions': 'The output should be formatted as a JSON instance that conforms to the JSON schema below.\\n\\nAs an example, for the schema {\"properties\": {\"foo\": {\"title\": \"Foo\", \"description\": \"a list of strings\", \"type\": \"array\", \"items\": {\"type\": \"string\"}}}, \"required\": [\"foo\"]}\\nthe object {\"foo\": [\"bar\", \"baz\"]} is a well-formatted instance of the schema. The object {\"properties\": {\"foo\": [\"bar\", \"baz\"]}} is not well-formatted.\\n\\nHere is the output schema:\\n```\\n{\"properties\": {\"description\": {\"description\": \"A brief description of the topic asked by the user\", \"title\": \"Description\", \"type\": \"string\"}, \"pros\": {\"description\": \"3 bullet points showing the pros of the topic asked by the user\", \"title\": \"Pros\", \"type\": \"string\"}, \"cons\": {\"description\": \"3 bullet points showing the cons of the topic asked by the user\", \"title\": \"Cons\", \"type\": \"string\"}, \"conclusion\": {\"description\": \"One line conclusion of the topic asked by the user\", \"title\": \"Conclusion\", \"type\": \"string\"}}, \"required\": [\"description\", \"pros\", \"cons\", \"conclusion\"]}\\n```'} template='\\n             Answer the user query and generate the response based on the following formatting instructions\\n\\n             Format Instructions:\\n             {format_instructions}\\n\\n             Query:\\n             {query}\\n            '\n"
     ]
    }
   ],
   "source": [
    "# create the final prompt with formatting instructions from the parser\n",
    "prompt_txt = \"\"\"\n",
    "             Answer the user query and generate the response based on the following formatting instructions\n",
    "\n",
    "             Format Instructions:\n",
    "             {format_instructions}\n",
    "\n",
    "             Query:\n",
    "             {query}\n",
    "            \"\"\"\n",
    "prompt = PromptTemplate(\n",
    "    template=prompt_txt,\n",
    "    input_variables=[\"query\"],\n",
    "    partial_variables={\"format_instructions\": parser.get_format_instructions()},\n",
    ")\n",
    "\n",
    "print(prompt)"
   ]
  },
  {
   "cell_type": "code",
   "execution_count": 12,
   "metadata": {
    "application/vnd.databricks.v1+cell": {
     "cellMetadata": {},
     "inputWidgets": {},
     "nuid": "e092a415-3405-4654-87e3-6aaaca3a42d0",
     "showTitle": false,
     "tableResultSettingsMap": {},
     "title": ""
    },
    "id": "-pCdfUpn0mdg"
   },
   "outputs": [],
   "source": [
    "# create a simple LCEL chain to take the prompt, pass it to the LLM, enforce response format using the parser\n",
    "chain = (prompt\n",
    "           |\n",
    "         chatgpt\n",
    "           |\n",
    "         parser)"
   ]
  },
  {
   "cell_type": "code",
   "execution_count": 13,
   "metadata": {
    "application/vnd.databricks.v1+cell": {
     "cellMetadata": {},
     "inputWidgets": {},
     "nuid": "93a250a5-9cef-44df-9827-348879ed58c9",
     "showTitle": false,
     "tableResultSettingsMap": {},
     "title": ""
    },
    "id": "AqYCylpw0u4L"
   },
   "outputs": [],
   "source": [
    "question = \"Tell me about Commercial Real Estate\"\n",
    "response = chain.invoke({\"query\": question})"
   ]
  },
  {
   "cell_type": "code",
   "execution_count": 14,
   "metadata": {
    "application/vnd.databricks.v1+cell": {
     "cellMetadata": {},
     "inputWidgets": {},
     "nuid": "b61f2025-8d87-43e1-9481-c76e3d565386",
     "showTitle": false,
     "tableResultSettingsMap": {},
     "title": ""
    },
    "colab": {
     "base_uri": "https://localhost:8080/"
    },
    "id": "ZfLIwllb02ax",
    "outputId": "f5376677-d3fb-4493-a6d7-78ca734ae492"
   },
   "outputs": [
    {
     "data": {
      "text/plain": [
       "QueryResponse(description='Commercial real estate refers to properties used exclusively for business purposes, including office buildings, retail spaces, warehouses, and industrial properties.', pros='1. Potential for high returns on investment.\\n2. Long-term leases provide stable income.\\n3. Diversification of investment portfolio.', cons='1. High initial capital investment required.\\n2. Market fluctuations can impact property values.\\n3. Management and maintenance can be time-consuming.', conclusion='Commercial real estate can be a lucrative investment but requires careful consideration of risks and management.')"
      ]
     },
     "execution_count": 14,
     "metadata": {},
     "output_type": "execute_result"
    }
   ],
   "source": [
    "response"
   ]
  },
  {
   "cell_type": "code",
   "execution_count": 15,
   "metadata": {
    "application/vnd.databricks.v1+cell": {
     "cellMetadata": {},
     "inputWidgets": {},
     "nuid": "15aacca4-0758-458f-a45b-ba6f4f71191e",
     "showTitle": false,
     "tableResultSettingsMap": {},
     "title": ""
    },
    "colab": {
     "base_uri": "https://localhost:8080/",
     "height": 53
    },
    "id": "As6-VKZE1W7z",
    "outputId": "c99b766b-31e0-4265-b9d5-000c93e7fe5e"
   },
   "outputs": [
    {
     "data": {
      "text/plain": [
       "'Commercial real estate refers to properties used exclusively for business purposes, including office buildings, retail spaces, warehouses, and industrial properties.'"
      ]
     },
     "execution_count": 15,
     "metadata": {},
     "output_type": "execute_result"
    }
   ],
   "source": [
    "response.description"
   ]
  },
  {
   "cell_type": "code",
   "execution_count": 16,
   "metadata": {
    "application/vnd.databricks.v1+cell": {
     "cellMetadata": {},
     "inputWidgets": {},
     "nuid": "bebe1ff2-2f3d-4bf6-ae97-91187862039f",
     "showTitle": false,
     "tableResultSettingsMap": {},
     "title": ""
    },
    "colab": {
     "base_uri": "https://localhost:8080/"
    },
    "id": "U8rv_tK00_T-",
    "outputId": "e25da03a-934a-44b2-f0dc-bcc7a87e57ca"
   },
   "outputs": [
    {
     "name": "stderr",
     "output_type": "stream",
     "text": [
      "/var/folders/8v/xkrl1q210t5_4t4hvbx286800000gp/T/ipykernel_35975/3202056457.py:1: PydanticDeprecatedSince20: The `dict` method is deprecated; use `model_dump` instead. Deprecated in Pydantic V2.0 to be removed in V3.0. See Pydantic V2 Migration Guide at https://errors.pydantic.dev/2.11/migration/\n",
      "  response.dict()\n"
     ]
    },
    {
     "data": {
      "text/plain": [
       "{'description': 'Commercial real estate refers to properties used exclusively for business purposes, including office buildings, retail spaces, warehouses, and industrial properties.',\n",
       " 'pros': '1. Potential for high returns on investment.\\n2. Long-term leases provide stable income.\\n3. Diversification of investment portfolio.',\n",
       " 'cons': '1. High initial capital investment required.\\n2. Market fluctuations can impact property values.\\n3. Management and maintenance can be time-consuming.',\n",
       " 'conclusion': 'Commercial real estate can be a lucrative investment but requires careful consideration of risks and management.'}"
      ]
     },
     "execution_count": 16,
     "metadata": {},
     "output_type": "execute_result"
    }
   ],
   "source": [
    "response.dict()"
   ]
  },
  {
   "cell_type": "code",
   "execution_count": 17,
   "metadata": {
    "application/vnd.databricks.v1+cell": {
     "cellMetadata": {},
     "inputWidgets": {},
     "nuid": "386e967a-af22-48bd-bc11-c5cb486ffd74",
     "showTitle": false,
     "tableResultSettingsMap": {},
     "title": ""
    },
    "colab": {
     "base_uri": "https://localhost:8080/"
    },
    "id": "McK3BVa91CH8",
    "outputId": "f79a2417-a0e3-46ec-8786-80f71d9d59ea"
   },
   "outputs": [
    {
     "name": "stdout",
     "output_type": "stream",
     "text": [
      "description:\n",
      "Commercial real estate refers to properties used exclusively for business purposes, including office buildings, retail spaces, warehouses, and industrial properties.\n",
      "\n",
      "pros:\n",
      "1. Potential for high returns on investment.\n",
      "2. Long-term leases provide stable income.\n",
      "3. Diversification of investment portfolio.\n",
      "\n",
      "cons:\n",
      "1. High initial capital investment required.\n",
      "2. Market fluctuations can impact property values.\n",
      "3. Management and maintenance can be time-consuming.\n",
      "\n",
      "conclusion:\n",
      "Commercial real estate can be a lucrative investment but requires careful consideration of risks and management.\n",
      "\n"
     ]
    },
    {
     "name": "stderr",
     "output_type": "stream",
     "text": [
      "/var/folders/8v/xkrl1q210t5_4t4hvbx286800000gp/T/ipykernel_35975/3926753719.py:1: PydanticDeprecatedSince20: The `dict` method is deprecated; use `model_dump` instead. Deprecated in Pydantic V2.0 to be removed in V3.0. See Pydantic V2 Migration Guide at https://errors.pydantic.dev/2.11/migration/\n",
      "  for k,v in response.dict().items():\n"
     ]
    }
   ],
   "source": [
    "for k,v in response.dict().items():\n",
    "    print(f\"{k}:\\n{v}\\n\")"
   ]
  },
  {
   "cell_type": "markdown",
   "metadata": {
    "application/vnd.databricks.v1+cell": {
     "cellMetadata": {},
     "inputWidgets": {},
     "nuid": "c5e31020-1fae-4a9f-bb75-7871ab689840",
     "showTitle": false,
     "tableResultSettingsMap": {},
     "title": ""
    },
    "id": "qMbwJySEITJy"
   },
   "source": [
    "### JsonOutputParser\n",
    "\n",
    "This output parser allows users to specify an arbitrary JSON schema and query LLMs for outputs that conform to that schema.\n",
    "\n",
    "Keep in mind that large language models are non-deterministic! You'll have to use an LLM with sufficient capacity to generate well-formed responses.\n",
    "\n",
    "It is recommended use Pydantic to declare your data model."
   ]
  },
  {
   "cell_type": "code",
   "execution_count": 18,
   "metadata": {
    "application/vnd.databricks.v1+cell": {
     "cellMetadata": {},
     "inputWidgets": {},
     "nuid": "0af599fe-e86a-41d8-8eee-3719538b0e69",
     "showTitle": false,
     "tableResultSettingsMap": {},
     "title": ""
    },
    "colab": {
     "base_uri": "https://localhost:8080/"
    },
    "id": "Td0hVmQd3OVw",
    "outputId": "ae36ea67-6651-4582-acc6-7705f5dfa9af"
   },
   "outputs": [
    {
     "data": {
      "text/plain": [
       "JsonOutputParser(pydantic_object=<class '__main__.QueryResponse'>)"
      ]
     },
     "execution_count": 18,
     "metadata": {},
     "output_type": "execute_result"
    }
   ],
   "source": [
    "from typing import List\n",
    "\n",
    "from langchain_core.prompts import PromptTemplate\n",
    "from langchain_core.output_parsers import JsonOutputParser\n",
    "from pydantic import BaseModel, Field\n",
    "\n",
    "# Define your desired data structure - like a python data class.\n",
    "class QueryResponse(BaseModel):\n",
    "    description: str = Field(description=\"A brief description of the topic asked by the user\")\n",
    "    pros: str = Field(description=\"3 bullet points showing the pros of the topic asked by the user\")\n",
    "    cons: str = Field(description=\"3 bullet points showing the cons of the topic asked by the user\")\n",
    "    conclusion: str = Field(description=\"One line conclusion of the topic asked by the user\")\n",
    "\n",
    "# Set up a parser + inject instructions into the prompt template.\n",
    "parser = JsonOutputParser(pydantic_object=QueryResponse)\n",
    "parser"
   ]
  },
  {
   "cell_type": "code",
   "execution_count": 20,
   "metadata": {
    "application/vnd.databricks.v1+cell": {
     "cellMetadata": {},
     "inputWidgets": {},
     "nuid": "0b14024b-dcbb-4f03-af7c-ab3afca15769",
     "showTitle": false,
     "tableResultSettingsMap": {},
     "title": ""
    },
    "colab": {
     "base_uri": "https://localhost:8080/"
    },
    "id": "1HJvSevb4XES",
    "outputId": "54ae4c0f-6137-40d2-9b64-a93f500e4ceb"
   },
   "outputs": [
    {
     "data": {
      "text/plain": [
       "PromptTemplate(input_variables=['query'], input_types={}, partial_variables={'format_instructions': 'The output should be formatted as a JSON instance that conforms to the JSON schema below.\\n\\nAs an example, for the schema {\"properties\": {\"foo\": {\"title\": \"Foo\", \"description\": \"a list of strings\", \"type\": \"array\", \"items\": {\"type\": \"string\"}}}, \"required\": [\"foo\"]}\\nthe object {\"foo\": [\"bar\", \"baz\"]} is a well-formatted instance of the schema. The object {\"properties\": {\"foo\": [\"bar\", \"baz\"]}} is not well-formatted.\\n\\nHere is the output schema:\\n```\\n{\"properties\": {\"description\": {\"description\": \"A brief description of the topic asked by the user\", \"title\": \"Description\", \"type\": \"string\"}, \"pros\": {\"description\": \"3 bullet points showing the pros of the topic asked by the user\", \"title\": \"Pros\", \"type\": \"string\"}, \"cons\": {\"description\": \"3 bullet points showing the cons of the topic asked by the user\", \"title\": \"Cons\", \"type\": \"string\"}, \"conclusion\": {\"description\": \"One line conclusion of the topic asked by the user\", \"title\": \"Conclusion\", \"type\": \"string\"}}, \"required\": [\"description\", \"pros\", \"cons\", \"conclusion\"]}\\n```'}, template='\\n             Answer the user query and generate the response based on the following formatting instructions\\n\\n             Format Instructions:\\n             {format_instructions}\\n\\n             Query:\\n             {query}\\n            ')"
      ]
     },
     "execution_count": 20,
     "metadata": {},
     "output_type": "execute_result"
    }
   ],
   "source": [
    "# create the final prompt with formatting instructions from the parser\n",
    "prompt_txt = \"\"\"\n",
    "             Answer the user query and generate the response based on the following formatting instructions\n",
    "\n",
    "             Format Instructions:\n",
    "             {format_instructions}\n",
    "\n",
    "             Query:\n",
    "             {query}\n",
    "            \"\"\"\n",
    "prompt = PromptTemplate(\n",
    "    template=prompt_txt,\n",
    "    input_variables=[\"query\"],\n",
    "    partial_variables={\"format_instructions\": parser.get_format_instructions()},\n",
    ")\n",
    "\n",
    "prompt"
   ]
  },
  {
   "cell_type": "code",
   "execution_count": 21,
   "metadata": {
    "application/vnd.databricks.v1+cell": {
     "cellMetadata": {},
     "inputWidgets": {},
     "nuid": "6d736d93-7aaa-4c2a-95a1-54057d5e9dd6",
     "showTitle": false,
     "tableResultSettingsMap": {},
     "title": ""
    },
    "colab": {
     "base_uri": "https://localhost:8080/"
    },
    "id": "ObjYJrXh8Hj3",
    "outputId": "cc70ef62-8895-466e-96d4-82a1e90d9b9e"
   },
   "outputs": [
    {
     "data": {
      "text/plain": [
       "PromptTemplate(input_variables=['query'], input_types={}, partial_variables={'format_instructions': 'The output should be formatted as a JSON instance that conforms to the JSON schema below.\\n\\nAs an example, for the schema {\"properties\": {\"foo\": {\"title\": \"Foo\", \"description\": \"a list of strings\", \"type\": \"array\", \"items\": {\"type\": \"string\"}}}, \"required\": [\"foo\"]}\\nthe object {\"foo\": [\"bar\", \"baz\"]} is a well-formatted instance of the schema. The object {\"properties\": {\"foo\": [\"bar\", \"baz\"]}} is not well-formatted.\\n\\nHere is the output schema:\\n```\\n{\"properties\": {\"description\": {\"description\": \"A brief description of the topic asked by the user\", \"title\": \"Description\", \"type\": \"string\"}, \"pros\": {\"description\": \"3 bullet points showing the pros of the topic asked by the user\", \"title\": \"Pros\", \"type\": \"string\"}, \"cons\": {\"description\": \"3 bullet points showing the cons of the topic asked by the user\", \"title\": \"Cons\", \"type\": \"string\"}, \"conclusion\": {\"description\": \"One line conclusion of the topic asked by the user\", \"title\": \"Conclusion\", \"type\": \"string\"}}, \"required\": [\"description\", \"pros\", \"cons\", \"conclusion\"]}\\n```'}, template='\\n             Answer the user query and generate the response based on the following formatting instructions\\n\\n             Format Instructions:\\n             {format_instructions}\\n\\n             Query:\\n             {query}\\n            ')\n",
       "| ChatOpenAI(client=<openai.resources.chat.completions.Completions object at 0x106ef4990>, async_client=<openai.resources.chat.completions.AsyncCompletions object at 0x10ee9a950>, root_client=<openai.OpenAI object at 0x10ee9c390>, root_async_client=<openai.AsyncOpenAI object at 0x106f90690>, model_name='gpt-4o-mini', temperature=0.0, model_kwargs={}, openai_api_key=SecretStr('**********'))\n",
       "| JsonOutputParser(pydantic_object=<class '__main__.QueryResponse'>)"
      ]
     },
     "execution_count": 21,
     "metadata": {},
     "output_type": "execute_result"
    }
   ],
   "source": [
    "# create a simple LCEL chain to take the prompt, pass it to the LLM, enforce response format using the parser\n",
    "chain = (prompt\n",
    "              |\n",
    "            chatgpt\n",
    "              |\n",
    "            parser)\n",
    "chain"
   ]
  },
  {
   "cell_type": "code",
   "execution_count": 22,
   "metadata": {
    "application/vnd.databricks.v1+cell": {
     "cellMetadata": {},
     "inputWidgets": {},
     "nuid": "83a60686-e5de-4137-ab3f-29c39420563b",
     "showTitle": false,
     "tableResultSettingsMap": {},
     "title": ""
    },
    "colab": {
     "base_uri": "https://localhost:8080/"
    },
    "id": "c3dlBUHh7682",
    "outputId": "854fb56c-b230-4528-d4dd-85ad6acb8888"
   },
   "outputs": [
    {
     "data": {
      "text/plain": [
       "[{'query': 'Tell me about commercial real estate'},\n",
       " {'query': 'Tell me about Generative AI'}]"
      ]
     },
     "execution_count": 22,
     "metadata": {},
     "output_type": "execute_result"
    }
   ],
   "source": [
    "topic_queries = [\n",
    "    \"Tell me about commercial real estate\",\n",
    "    \"Tell me about Generative AI\"\n",
    "]\n",
    "\n",
    "topic_queries_formatted = [{\"query\": topic}\n",
    "                    for topic in topic_queries]\n",
    "topic_queries_formatted"
   ]
  },
  {
   "cell_type": "code",
   "execution_count": 23,
   "metadata": {
    "application/vnd.databricks.v1+cell": {
     "cellMetadata": {},
     "inputWidgets": {},
     "nuid": "a4cc43b7-6ff5-4f4d-8c80-d4c5e507810f",
     "showTitle": false,
     "tableResultSettingsMap": {},
     "title": ""
    },
    "id": "CnxspdUb8rSd"
   },
   "outputs": [],
   "source": [
    "responses = chain.map().invoke(topic_queries_formatted)"
   ]
  },
  {
   "cell_type": "code",
   "execution_count": 24,
   "metadata": {
    "application/vnd.databricks.v1+cell": {
     "cellMetadata": {},
     "inputWidgets": {},
     "nuid": "0fe2f782-e388-4e07-93f4-e172b8c1e057",
     "showTitle": false,
     "tableResultSettingsMap": {},
     "title": ""
    },
    "colab": {
     "base_uri": "https://localhost:8080/"
    },
    "id": "bLhLZnQi8xqq",
    "outputId": "ddffcb66-4478-441b-fe6a-69a61fbedea9"
   },
   "outputs": [
    {
     "data": {
      "text/plain": [
       "({'description': 'Commercial real estate refers to properties used exclusively for business purposes, including office buildings, retail spaces, warehouses, and industrial properties.',\n",
       "  'pros': '1. Potential for high returns on investment.\\n2. Long-term leases provide stable income.\\n3. Diversification of investment portfolio.',\n",
       "  'cons': '1. High initial capital investment required.\\n2. Market fluctuations can impact property values.\\n3. Management and maintenance can be time-consuming.',\n",
       "  'conclusion': 'Investing in commercial real estate can be lucrative but requires careful consideration of risks and management responsibilities.'},\n",
       " dict)"
      ]
     },
     "execution_count": 24,
     "metadata": {},
     "output_type": "execute_result"
    }
   ],
   "source": [
    "responses[0], type(responses[0])"
   ]
  },
  {
   "cell_type": "code",
   "execution_count": 25,
   "metadata": {
    "application/vnd.databricks.v1+cell": {
     "cellMetadata": {},
     "inputWidgets": {},
     "nuid": "aaf3fd5a-210f-4e85-8d07-537950047097",
     "showTitle": false,
     "tableResultSettingsMap": {},
     "title": ""
    },
    "colab": {
     "base_uri": "https://localhost:8080/",
     "height": 147
    },
    "id": "aJJMXDsV82Pd",
    "outputId": "1611a9bb-9126-4ca1-88e7-a4d8fbc889c1"
   },
   "outputs": [
    {
     "data": {
      "text/html": [
       "<div>\n",
       "<style scoped>\n",
       "    .dataframe tbody tr th:only-of-type {\n",
       "        vertical-align: middle;\n",
       "    }\n",
       "\n",
       "    .dataframe tbody tr th {\n",
       "        vertical-align: top;\n",
       "    }\n",
       "\n",
       "    .dataframe thead th {\n",
       "        text-align: right;\n",
       "    }\n",
       "</style>\n",
       "<table border=\"1\" class=\"dataframe\">\n",
       "  <thead>\n",
       "    <tr style=\"text-align: right;\">\n",
       "      <th></th>\n",
       "      <th>description</th>\n",
       "      <th>pros</th>\n",
       "      <th>cons</th>\n",
       "      <th>conclusion</th>\n",
       "    </tr>\n",
       "  </thead>\n",
       "  <tbody>\n",
       "    <tr>\n",
       "      <th>0</th>\n",
       "      <td>Commercial real estate refers to properties us...</td>\n",
       "      <td>1. Potential for high returns on investment.\\n...</td>\n",
       "      <td>1. High initial capital investment required.\\n...</td>\n",
       "      <td>Investing in commercial real estate can be luc...</td>\n",
       "    </tr>\n",
       "    <tr>\n",
       "      <th>1</th>\n",
       "      <td>Generative AI refers to algorithms that can ge...</td>\n",
       "      <td>1. Can create unique and diverse content quick...</td>\n",
       "      <td>1. May produce biased or inappropriate content...</td>\n",
       "      <td>Generative AI is a powerful tool with both sig...</td>\n",
       "    </tr>\n",
       "  </tbody>\n",
       "</table>\n",
       "</div>"
      ],
      "text/plain": [
       "                                         description  \\\n",
       "0  Commercial real estate refers to properties us...   \n",
       "1  Generative AI refers to algorithms that can ge...   \n",
       "\n",
       "                                                pros  \\\n",
       "0  1. Potential for high returns on investment.\\n...   \n",
       "1  1. Can create unique and diverse content quick...   \n",
       "\n",
       "                                                cons  \\\n",
       "0  1. High initial capital investment required.\\n...   \n",
       "1  1. May produce biased or inappropriate content...   \n",
       "\n",
       "                                          conclusion  \n",
       "0  Investing in commercial real estate can be luc...  \n",
       "1  Generative AI is a powerful tool with both sig...  "
      ]
     },
     "execution_count": 25,
     "metadata": {},
     "output_type": "execute_result"
    }
   ],
   "source": [
    "import pandas as pd\n",
    "\n",
    "df = pd.DataFrame(responses)\n",
    "df"
   ]
  },
  {
   "cell_type": "code",
   "execution_count": 26,
   "metadata": {
    "application/vnd.databricks.v1+cell": {
     "cellMetadata": {},
     "inputWidgets": {},
     "nuid": "0b498bb9-4c9b-439f-ac00-1f5fca8c1166",
     "showTitle": false,
     "tableResultSettingsMap": {},
     "title": ""
    },
    "colab": {
     "base_uri": "https://localhost:8080/"
    },
    "id": "QCPgsG1r3d_g",
    "outputId": "78003d03-b7bb-4664-9231-67bddefc9613"
   },
   "outputs": [
    {
     "name": "stdout",
     "output_type": "stream",
     "text": [
      "description:\n",
      "Commercial real estate refers to properties used exclusively for business purposes, including office buildings, retail spaces, warehouses, and industrial properties.\n",
      "\n",
      "pros:\n",
      "1. Potential for high returns on investment.\n",
      "2. Long-term leases provide stable income.\n",
      "3. Diversification of investment portfolio.\n",
      "\n",
      "cons:\n",
      "1. High initial capital investment required.\n",
      "2. Market fluctuations can impact property values.\n",
      "3. Management and maintenance can be time-consuming.\n",
      "\n",
      "conclusion:\n",
      "Investing in commercial real estate can be lucrative but requires careful consideration of risks and management responsibilities.\n",
      "\n",
      "-----\n",
      "description:\n",
      "Generative AI refers to algorithms that can generate new content, such as text, images, music, and more, based on training data.\n",
      "\n",
      "pros:\n",
      "1. Can create unique and diverse content quickly.\n",
      "2. Enhances creativity by providing new ideas and perspectives.\n",
      "3. Automates repetitive tasks, saving time and resources.\n",
      "\n",
      "cons:\n",
      "1. May produce biased or inappropriate content based on training data.\n",
      "2. Can lead to misinformation if not monitored properly.\n",
      "3. Raises ethical concerns regarding authorship and originality.\n",
      "\n",
      "conclusion:\n",
      "Generative AI is a powerful tool with both significant benefits and notable challenges.\n",
      "\n",
      "-----\n"
     ]
    }
   ],
   "source": [
    "for response in responses:\n",
    "  for k,v in response.items():\n",
    "    print(f\"{k}:\\n{v}\\n\")\n",
    "  print('-----')"
   ]
  },
  {
   "cell_type": "markdown",
   "metadata": {
    "application/vnd.databricks.v1+cell": {
     "cellMetadata": {},
     "inputWidgets": {},
     "nuid": "0fd82a12-f351-4549-b070-0f5e84409280",
     "showTitle": false,
     "tableResultSettingsMap": {},
     "title": ""
    },
    "id": "W6PZ6XE8IX8B"
   },
   "source": [
    "### CommaSeparatedListOutputParser\n",
    "\n",
    "This output parser can be used when you want to return a list of comma-separated items."
   ]
  },
  {
   "cell_type": "code",
   "execution_count": 27,
   "metadata": {
    "application/vnd.databricks.v1+cell": {
     "cellMetadata": {},
     "inputWidgets": {},
     "nuid": "b9d9b39e-254d-48d2-9e14-5022e84e0dcf",
     "showTitle": false,
     "tableResultSettingsMap": {},
     "title": ""
    },
    "colab": {
     "base_uri": "https://localhost:8080/",
     "height": 35
    },
    "id": "KsXC0ij886pg",
    "outputId": "b8253b04-7cbf-4843-c844-9f75dea38470"
   },
   "outputs": [
    {
     "data": {
      "text/plain": [
       "'Your response should be a list of comma separated values, eg: `foo, bar, baz` or `foo,bar,baz`'"
      ]
     },
     "execution_count": 27,
     "metadata": {},
     "output_type": "execute_result"
    }
   ],
   "source": [
    "from langchain_core.output_parsers import CommaSeparatedListOutputParser\n",
    "from langchain_core.prompts import PromptTemplate\n",
    "\n",
    "output_parser = CommaSeparatedListOutputParser()\n",
    "\n",
    "format_instructions = output_parser.get_format_instructions()\n",
    "format_instructions"
   ]
  },
  {
   "cell_type": "code",
   "execution_count": 28,
   "metadata": {
    "application/vnd.databricks.v1+cell": {
     "cellMetadata": {},
     "inputWidgets": {},
     "nuid": "e52322f8-88ee-431e-b0ba-8e701349dbbf",
     "showTitle": false,
     "tableResultSettingsMap": {},
     "title": ""
    },
    "colab": {
     "base_uri": "https://localhost:8080/"
    },
    "id": "bzt_1I48-JEt",
    "outputId": "cee64284-baba-4226-c057-1ed1d973f03b"
   },
   "outputs": [
    {
     "data": {
      "text/plain": [
       "PromptTemplate(input_variables=['format_instructions'], input_types={}, partial_variables={}, template='\\n             Create a list of 5 different ways in which Generative AI can be used\\n\\n             Output format instructions:\\n             {format_instructions}\\n             ')"
      ]
     },
     "execution_count": 28,
     "metadata": {},
     "output_type": "execute_result"
    }
   ],
   "source": [
    "format_instructions = output_parser.get_format_instructions()\n",
    "\n",
    "# And a query intented to prompt a language model to populate the data structure.\n",
    "prompt_txt = \"\"\"\n",
    "             Create a list of 5 different ways in which Generative AI can be used\n",
    "\n",
    "             Output format instructions:\n",
    "             {format_instructions}\n",
    "             \"\"\"\n",
    "\n",
    "prompt = PromptTemplate.from_template(template=prompt_txt)\n",
    "prompt"
   ]
  },
  {
   "cell_type": "code",
   "execution_count": 30,
   "metadata": {
    "application/vnd.databricks.v1+cell": {
     "cellMetadata": {},
     "inputWidgets": {},
     "nuid": "77c1cd72-d521-4faa-b741-adc3ced2ae62",
     "showTitle": false,
     "tableResultSettingsMap": {},
     "title": ""
    },
    "colab": {
     "base_uri": "https://localhost:8080/"
    },
    "id": "B1znuijS_Gds",
    "outputId": "4c1fd37e-ba58-4b27-a189-144dedb77103"
   },
   "outputs": [
    {
     "data": {
      "text/plain": [
       "['Content creation',\n",
       " 'code generation',\n",
       " 'personalized marketing',\n",
       " 'virtual assistants',\n",
       " 'art and design generation']"
      ]
     },
     "execution_count": 30,
     "metadata": {},
     "output_type": "execute_result"
    }
   ],
   "source": [
    "# create a simple LLM Chain - more on this later\n",
    "llm_chain = (prompt\n",
    "              |\n",
    "            chatgpt\n",
    "              |\n",
    "            output_parser)\n",
    "\n",
    "# run the chain\n",
    "response = llm_chain.invoke({'format_instructions': format_instructions})\n",
    "response"
   ]
  },
  {
   "cell_type": "code",
   "execution_count": 31,
   "metadata": {
    "application/vnd.databricks.v1+cell": {
     "cellMetadata": {},
     "inputWidgets": {},
     "nuid": "86626b3b-7402-475e-b408-b6d8c53d8c9e",
     "showTitle": false,
     "tableResultSettingsMap": {},
     "title": ""
    },
    "colab": {
     "base_uri": "https://localhost:8080/"
    },
    "id": "dzm72WA_Jzxv",
    "outputId": "330ba07b-59ae-4123-90bc-c46447d4fbe4"
   },
   "outputs": [
    {
     "data": {
      "text/plain": [
       "list"
      ]
     },
     "execution_count": 31,
     "metadata": {},
     "output_type": "execute_result"
    }
   ],
   "source": [
    "type(response)"
   ]
  },
  {
   "cell_type": "code",
   "execution_count": null,
   "metadata": {},
   "outputs": [],
   "source": []
  }
 ],
 "metadata": {
  "application/vnd.databricks.v1+notebook": {
   "computePreferences": null,
   "dashboards": [],
   "environmentMetadata": null,
   "language": "python",
   "notebookMetadata": {},
   "notebookName": "3. LangChain_LLM_Input_Output_Output_Parsers",
   "widgets": {}
  },
  "colab": {
   "provenance": []
  },
  "kernelspec": {
   "display_name": ".venv",
   "language": "python",
   "name": "python3"
  },
  "language_info": {
   "codemirror_mode": {
    "name": "ipython",
    "version": 3
   },
   "file_extension": ".py",
   "mimetype": "text/x-python",
   "name": "python",
   "nbconvert_exporter": "python",
   "pygments_lexer": "ipython3",
   "version": "3.11.6"
  }
 },
 "nbformat": 4,
 "nbformat_minor": 0
}
