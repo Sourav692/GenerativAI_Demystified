{
 "cells": [
  {
   "cell_type": "markdown",
   "metadata": {
    "application/vnd.databricks.v1+cell": {
     "cellMetadata": {},
     "inputWidgets": {},
     "nuid": "60649352-5a66-4cbf-b1af-e3d11b56317d",
     "showTitle": false,
     "tableResultSettingsMap": {},
     "title": ""
    },
    "id": "TkZ-tYIsqsAP"
   },
   "source": [
    "# Exploring Conversation Chains and Memory with LCEL"
   ]
  },
  {
   "cell_type": "markdown",
   "metadata": {
    "application/vnd.databricks.v1+cell": {
     "cellMetadata": {},
     "inputWidgets": {},
     "nuid": "44c02624-9f45-47d3-a22a-1506f8c4666f",
     "showTitle": false,
     "tableResultSettingsMap": {},
     "title": ""
    },
    "id": "L1KvMtf54l0d"
   },
   "source": [
    "## Install OpenAI, and LangChain dependencies"
   ]
  },
  {
   "cell_type": "code",
   "execution_count": 1,
   "metadata": {
    "application/vnd.databricks.v1+cell": {
     "cellMetadata": {
      "byteLimit": 2048000,
      "rowLimit": 10000
     },
     "inputWidgets": {},
     "nuid": "07d37144-67dd-489f-8786-9356f934012d",
     "showTitle": false,
     "tableResultSettingsMap": {},
     "title": ""
    }
   },
   "outputs": [],
   "source": [
    "!pip install -q langchain==0.3.11\n",
    "!pip install -q langchain-openai==0.2.12\n",
    "!pip install -q langchain-community==0.3.11\n",
    "!pip install -q langchain-chroma==0.1.4"
   ]
  },
  {
   "cell_type": "markdown",
   "metadata": {
    "application/vnd.databricks.v1+cell": {
     "cellMetadata": {},
     "inputWidgets": {},
     "nuid": "32be77e1-a190-479f-a1e2-ec10a70b70c8",
     "showTitle": false,
     "tableResultSettingsMap": {},
     "title": ""
    },
    "id": "H9c37cLnSrbg"
   },
   "source": [
    "## Enter Open AI API Key"
   ]
  },
  {
   "cell_type": "code",
   "execution_count": 2,
   "metadata": {
    "application/vnd.databricks.v1+cell": {
     "cellMetadata": {},
     "inputWidgets": {},
     "nuid": "9a7b8256-d88f-4b55-8be2-ea3008cafa66",
     "showTitle": false,
     "tableResultSettingsMap": {},
     "title": ""
    }
   },
   "outputs": [
    {
     "data": {
      "text/plain": [
       "True"
      ]
     },
     "execution_count": 2,
     "metadata": {},
     "output_type": "execute_result"
    }
   ],
   "source": [
    "import os\n",
    "from dotenv import load_dotenv\n",
    "load_dotenv()"
   ]
  },
  {
   "cell_type": "code",
   "execution_count": 4,
   "metadata": {
    "application/vnd.databricks.v1+cell": {
     "cellMetadata": {
      "byteLimit": 2048000,
      "rowLimit": 10000
     },
     "inputWidgets": {},
     "nuid": "ea858a99-54f2-4b3e-b170-cd3586dc728a",
     "showTitle": false,
     "tableResultSettingsMap": {},
     "title": ""
    },
    "id": "cv3JzCEx_PAd"
   },
   "outputs": [],
   "source": [
    "from getpass import getpass\n",
    "\n",
    "# OPENAI_KEY = getpass('Enter Open AI API Key: ')\n",
    "OPENAI_KEY = os.getenv(\"OPENAI_API_KEY\")"
   ]
  },
  {
   "cell_type": "markdown",
   "metadata": {
    "application/vnd.databricks.v1+cell": {
     "cellMetadata": {},
     "inputWidgets": {},
     "nuid": "542abed7-a208-4ab6-955f-aea09142bb57",
     "showTitle": false,
     "tableResultSettingsMap": {},
     "title": ""
    },
    "id": "1T0s0um5Svfa"
   },
   "source": [
    "## Setup Environment Variables"
   ]
  },
  {
   "cell_type": "code",
   "execution_count": 5,
   "metadata": {
    "application/vnd.databricks.v1+cell": {
     "cellMetadata": {
      "byteLimit": 2048000,
      "rowLimit": 10000
     },
     "inputWidgets": {},
     "nuid": "f34b0c5f-24e4-467f-8c6f-a19307e9bb25",
     "showTitle": false,
     "tableResultSettingsMap": {},
     "title": ""
    },
    "id": "x1YSuHNF_lbh"
   },
   "outputs": [],
   "source": [
    "import os\n",
    "\n",
    "os.environ['OPENAI_API_KEY'] = OPENAI_KEY"
   ]
  },
  {
   "cell_type": "markdown",
   "metadata": {
    "application/vnd.databricks.v1+cell": {
     "cellMetadata": {},
     "inputWidgets": {},
     "nuid": "c323433d-0656-4433-88fb-62cbf3e36f2e",
     "showTitle": false,
     "tableResultSettingsMap": {},
     "title": ""
    },
    "id": "2oeckxFBcc0E"
   },
   "source": [
    "## Load Connection to LLM\n",
    "\n",
    "Here we create a connection to ChatGPT to use later in our chains"
   ]
  },
  {
   "cell_type": "code",
   "execution_count": 7,
   "metadata": {
    "application/vnd.databricks.v1+cell": {
     "cellMetadata": {
      "byteLimit": 2048000,
      "rowLimit": 10000
     },
     "inputWidgets": {},
     "nuid": "67a3ce6b-293d-4179-9d50-72ca3d662b4b",
     "showTitle": false,
     "tableResultSettingsMap": {},
     "title": ""
    },
    "id": "vHa9LMOfcOCV"
   },
   "outputs": [],
   "source": [
    "from langchain_openai import ChatOpenAI\n",
    "\n",
    "chatgpt = ChatOpenAI(model_name='gpt-4o-mini', temperature=0)"
   ]
  },
  {
   "cell_type": "markdown",
   "metadata": {
    "application/vnd.databricks.v1+cell": {
     "cellMetadata": {},
     "inputWidgets": {},
     "nuid": "ae91dbbc-cdc8-4cc6-80ea-b0b2fa7f9777",
     "showTitle": false,
     "tableResultSettingsMap": {},
     "title": ""
    },
    "id": "FD3EKYm8M8gg"
   },
   "source": [
    "## Working with LangChain Chains\n",
    "\n",
    "Using an LLM in isolation is fine for simple applications, but more complex applications require chaining LLMs - either with each other or with other components. Also running on multiple data points can be done easily with chains.\n",
    "\n",
    "Chain's are the legacy interface for \"chained\" applications. We define a Chain very generically as a sequence of calls to components, which can include other chains.\n",
    "\n",
    "Here we will be using LCEL chains exclusively"
   ]
  },
  {
   "cell_type": "markdown",
   "metadata": {
    "application/vnd.databricks.v1+cell": {
     "cellMetadata": {},
     "inputWidgets": {},
     "nuid": "3305da57-9fe4-4cc4-ac74-dc217614d780",
     "showTitle": false,
     "tableResultSettingsMap": {},
     "title": ""
    },
    "id": "iJ4-yIpEa1lx"
   },
   "source": [
    "### The Problem with Simple LLM Chains\n",
    "\n",
    "Simple LLM Chains cannot keep a track of past conversation history"
   ]
  },
  {
   "cell_type": "code",
   "execution_count": 8,
   "metadata": {
    "application/vnd.databricks.v1+cell": {
     "cellMetadata": {
      "byteLimit": 2048000,
      "rowLimit": 10000
     },
     "inputWidgets": {},
     "nuid": "bee7fec5-93ab-42cc-8b83-204116126981",
     "showTitle": false,
     "tableResultSettingsMap": {},
     "title": ""
    },
    "id": "jsPXwBEYavEv"
   },
   "outputs": [],
   "source": [
    "from langchain_core.prompts import ChatPromptTemplate\n",
    "\n",
    "prompt_txt = \"\"\"{query}\"\"\"\n",
    "prompt = ChatPromptTemplate.from_template(prompt_txt)\n",
    "\n",
    "# you can also write this as llm_chain = prompt | chatgpt\n",
    "llm_chain = (\n",
    "    prompt\n",
    "      |\n",
    "    chatgpt\n",
    ")"
   ]
  },
  {
   "cell_type": "code",
   "execution_count": 9,
   "metadata": {
    "application/vnd.databricks.v1+cell": {
     "cellMetadata": {
      "byteLimit": 2048000,
      "rowLimit": 10000
     },
     "inputWidgets": {},
     "nuid": "7396952c-723a-473c-a97f-d8b96da93cac",
     "showTitle": false,
     "tableResultSettingsMap": {},
     "title": ""
    },
    "id": "0_XdMXuca-pT"
   },
   "outputs": [
    {
     "name": "stdout",
     "output_type": "stream",
     "text": [
      "The first four colors of a rainbow, in order, are red, orange, yellow, and green.\n"
     ]
    }
   ],
   "source": [
    "response = llm_chain.invoke({'query': 'What are the first four colors of a rainbow?'})\n",
    "print(response.content)"
   ]
  },
  {
   "cell_type": "code",
   "execution_count": 10,
   "metadata": {
    "application/vnd.databricks.v1+cell": {
     "cellMetadata": {
      "byteLimit": 2048000,
      "rowLimit": 10000
     },
     "inputWidgets": {},
     "nuid": "3c3438c7-ce99-4767-bf94-b3a98fa57536",
     "showTitle": false,
     "tableResultSettingsMap": {},
     "title": ""
    },
    "id": "_FeBWLIPbGd4"
   },
   "outputs": [
    {
     "name": "stdout",
     "output_type": "stream",
     "text": [
      "It seems like your question might be missing some context. Could you please provide more details or clarify what you are referring to with \"the other 3\"? This will help me assist you better!\n"
     ]
    }
   ],
   "source": [
    "response = llm_chain.invoke({'query': 'and the other 3?'})\n",
    "print(response.content)"
   ]
  },
  {
   "cell_type": "markdown",
   "metadata": {
    "application/vnd.databricks.v1+cell": {
     "cellMetadata": {},
     "inputWidgets": {},
     "nuid": "c32cd8bf-0c3c-46aa-9fa3-6ac0c1111e6f",
     "showTitle": false,
     "tableResultSettingsMap": {},
     "title": ""
    },
    "id": "ng-9uxLActTT"
   },
   "source": [
    "### Conversation Chains with LCEL\n",
    "\n",
    "LangChain Expression Language (LCEL) connects prompts, models, parsers and retrieval components using a `|` pipe operator.\n",
    "\n",
    "A conversation chain basically consists of user prompts, historical conversation memory and the LLM. The LLM uses the history memory to give more contextual answers to every new prompt or user query.\n",
    "\n",
    "Memory is very important for having a true conversation with LLMs. LangChain allows us to manage conversation memory using various constructs. The main ones we will cover include:\n",
    "\n",
    "- ConversationBufferMemory\n",
    "- ConversationBufferWindowMemory\n",
    "- ConversationSummaryMemory\n",
    "- VectorStoreRetrieverMemory\n",
    "- ChatMessageHistory\n",
    "- SQLChatMessageHistory"
   ]
  },
  {
   "cell_type": "markdown",
   "metadata": {
    "application/vnd.databricks.v1+cell": {
     "cellMetadata": {},
     "inputWidgets": {},
     "nuid": "185e5524-c809-4a8e-82b6-4f561c1f999f",
     "showTitle": false,
     "tableResultSettingsMap": {},
     "title": ""
    },
    "id": "CCZDMCXoO0Cv"
   },
   "source": [
    "### Conversation Chains with ConversationBufferMemory\n",
    "\n",
    "This is the simplest version of in-memory storage of historical conversation messages. It is basically a buffer for storing conversation memory.\n",
    "\n",
    "Remember if you have a really long conversation, you might exceed the max token limit of the context window allowed for the LLM."
   ]
  },
  {
   "cell_type": "code",
   "execution_count": 11,
   "metadata": {
    "application/vnd.databricks.v1+cell": {
     "cellMetadata": {
      "byteLimit": 2048000,
      "rowLimit": 10000
     },
     "inputWidgets": {},
     "nuid": "d9dd5d83-8bd3-4d1b-be3e-2f98b9fd5726",
     "showTitle": false,
     "tableResultSettingsMap": {},
     "title": ""
    },
    "id": "pfB6RuGLWjDT"
   },
   "outputs": [
    {
     "name": "stderr",
     "output_type": "stream",
     "text": [
      "/var/folders/8v/xkrl1q210t5_4t4hvbx286800000gp/T/ipykernel_76817/3875846320.py:14: LangChainDeprecationWarning: Please see the migration guide at: https://python.langchain.com/docs/versions/migrating_memory/\n",
      "  memory = ConversationBufferMemory(return_messages=True)\n"
     ]
    }
   ],
   "source": [
    "from langchain_core.prompts import ChatPromptTemplate, MessagesPlaceholder\n",
    "from langchain.memory import ConversationBufferMemory\n",
    "from langchain.schema.runnable import RunnablePassthrough, RunnableLambda\n",
    "\n",
    "SYS_PROMPT = \"\"\"Act as a helpful assistant and give brief answers\"\"\"\n",
    "prompt = ChatPromptTemplate.from_messages(\n",
    "    [\n",
    "        (\"system\", SYS_PROMPT),\n",
    "        MessagesPlaceholder(variable_name=\"history\"),\n",
    "        (\"human\", \"{query}\"),\n",
    "    ]\n",
    ")\n",
    "\n",
    "memory = ConversationBufferMemory(return_messages=True)"
   ]
  },
  {
   "cell_type": "code",
   "execution_count": 13,
   "metadata": {},
   "outputs": [
    {
     "name": "stdout",
     "output_type": "stream",
     "text": [
      "<class 'langchain.memory.buffer.ConversationBufferMemory'>\n"
     ]
    }
   ],
   "source": [
    "print(type(memory))"
   ]
  },
  {
   "cell_type": "code",
   "execution_count": 14,
   "metadata": {},
   "outputs": [
    {
     "name": "stdout",
     "output_type": "stream",
     "text": [
      "chat_memory=InMemoryChatMessageHistory(messages=[]) return_messages=True\n"
     ]
    }
   ],
   "source": [
    "print(memory)"
   ]
  },
  {
   "cell_type": "code",
   "execution_count": 52,
   "metadata": {
    "application/vnd.databricks.v1+cell": {
     "cellMetadata": {
      "byteLimit": 2048000,
      "rowLimit": 10000
     },
     "inputWidgets": {},
     "nuid": "24bb5cc6-1e15-41b6-ba94-3629a2480cbd",
     "showTitle": false,
     "tableResultSettingsMap": {},
     "title": ""
    },
    "id": "71wPNZ19Wqsu"
   },
   "outputs": [
    {
     "data": {
      "text/plain": [
       "{'history': []}"
      ]
     },
     "execution_count": 52,
     "metadata": {},
     "output_type": "execute_result"
    }
   ],
   "source": [
    "# function to get historical conversation messages from the memory\n",
    "memory.load_memory_variables({})"
   ]
  },
  {
   "cell_type": "markdown",
   "metadata": {
    "application/vnd.databricks.v1+cell": {
     "cellMetadata": {},
     "inputWidgets": {},
     "nuid": "996876e4-71f2-4798-b69e-800c74866500",
     "showTitle": false,
     "tableResultSettingsMap": {},
     "title": ""
    }
   },
   "source": [
    "### Understand RunnableLambda\n",
    "https://python.langchain.com/api_reference/core/runnables/langchain_core.runnables.base.RunnableLambda.html"
   ]
  },
  {
   "cell_type": "code",
   "execution_count": 29,
   "metadata": {
    "application/vnd.databricks.v1+cell": {
     "cellMetadata": {},
     "inputWidgets": {},
     "nuid": "f78e2975-091d-46a2-8ec5-6079ff931554",
     "showTitle": false,
     "tableResultSettingsMap": {},
     "title": ""
    }
   },
   "outputs": [
    {
     "name": "stdout",
     "output_type": "stream",
     "text": [
      "7\n"
     ]
    }
   ],
   "source": [
    "def sum(a):\n",
    "    return a + 3\n",
    "\n",
    "print(RunnableLambda(sum).invoke(4))"
   ]
  },
  {
   "cell_type": "code",
   "execution_count": 30,
   "metadata": {
    "application/vnd.databricks.v1+cell": {
     "cellMetadata": {},
     "inputWidgets": {},
     "nuid": "3f04fdcb-5b19-455f-95ba-65d59ae4e83d",
     "showTitle": false,
     "tableResultSettingsMap": {},
     "title": ""
    }
   },
   "outputs": [
    {
     "name": "stdout",
     "output_type": "stream",
     "text": [
      "2\n"
     ]
    }
   ],
   "source": [
    "def add_one(x: int) -> int:\n",
    "    return x + 1\n",
    "\n",
    "print(RunnableLambda(add_one).invoke(1))"
   ]
  },
  {
   "cell_type": "code",
   "execution_count": 31,
   "metadata": {
    "application/vnd.databricks.v1+cell": {
     "cellMetadata": {},
     "inputWidgets": {},
     "nuid": "1a038913-e749-4274-878d-cd3a8dd9383d",
     "showTitle": false,
     "tableResultSettingsMap": {},
     "title": ""
    }
   },
   "outputs": [
    {
     "name": "stdout",
     "output_type": "stream",
     "text": [
      "<class 'langchain_core.runnables.base.RunnableLambda'>\n"
     ]
    }
   ],
   "source": [
    "print(type(RunnableLambda(add_one)))"
   ]
  },
  {
   "cell_type": "code",
   "execution_count": 32,
   "metadata": {
    "application/vnd.databricks.v1+cell": {
     "cellMetadata": {},
     "inputWidgets": {},
     "nuid": "e42da9b4-3e83-4a4a-be52-96bfa0271abf",
     "showTitle": false,
     "tableResultSettingsMap": {},
     "title": ""
    }
   },
   "outputs": [
    {
     "name": "stdout",
     "output_type": "stream",
     "text": [
      "3\n"
     ]
    }
   ],
   "source": [
    "for elem in RunnableLambda(add_one).stream(2):\n",
    "    print(elem)"
   ]
  },
  {
   "cell_type": "code",
   "execution_count": 33,
   "metadata": {
    "application/vnd.databricks.v1+cell": {
     "cellMetadata": {},
     "inputWidgets": {},
     "nuid": "72dc200a-6a23-4a74-b884-8638cfaaac63",
     "showTitle": false,
     "tableResultSettingsMap": {},
     "title": ""
    }
   },
   "outputs": [
    {
     "name": "stdout",
     "output_type": "stream",
     "text": [
      "2\n",
      "3\n",
      "4\n"
     ]
    }
   ],
   "source": [
    "for elem in RunnableLambda(add_one).batch([1,2,3]):\n",
    "    print(elem)"
   ]
  },
  {
   "cell_type": "markdown",
   "metadata": {
    "application/vnd.databricks.v1+cell": {
     "cellMetadata": {},
     "inputWidgets": {},
     "nuid": "a6971ed1-fa62-4bff-b408-0c7a8e921915",
     "showTitle": false,
     "tableResultSettingsMap": {},
     "title": ""
    }
   },
   "source": [
    "### Understand RunnablePassthrough\n",
    "https://python.langchain.com/api_reference/core/runnables/langchain_core.runnables.passthrough.RunnablePassthrough.html"
   ]
  },
  {
   "cell_type": "code",
   "execution_count": 43,
   "metadata": {
    "application/vnd.databricks.v1+cell": {
     "cellMetadata": {},
     "inputWidgets": {},
     "nuid": "597bb8c9-60e4-4a48-9c91-8eef26b219da",
     "showTitle": false,
     "tableResultSettingsMap": {},
     "title": ""
    }
   },
   "outputs": [
    {
     "name": "stdout",
     "output_type": "stream",
     "text": [
      "{'origin': 1, 'modified': 2}\n"
     ]
    }
   ],
   "source": [
    "from langchain_core.runnables import (\n",
    "    RunnableLambda,\n",
    "    RunnableParallel,\n",
    "    RunnablePassthrough,\n",
    ")\n",
    "\n",
    "runnable = RunnableParallel(\n",
    "    origin=RunnablePassthrough(),\n",
    "    modified=lambda x: x+1\n",
    ")\n",
    "\n",
    "print(runnable.invoke(1))"
   ]
  },
  {
   "cell_type": "code",
   "execution_count": 35,
   "metadata": {
    "application/vnd.databricks.v1+cell": {
     "cellMetadata": {},
     "inputWidgets": {},
     "nuid": "8527a645-6259-465b-994b-22f822f3f021",
     "showTitle": false,
     "tableResultSettingsMap": {},
     "title": ""
    }
   },
   "outputs": [],
   "source": [
    "def fake_llm(prompt: str) -> str: # Fake LLM for the example\n",
    "    return prompt+\" completion\""
   ]
  },
  {
   "cell_type": "code",
   "execution_count": 42,
   "metadata": {},
   "outputs": [
    {
     "data": {
      "text/plain": [
       "{'parsed': 'noitelpmoc olleh'}"
      ]
     },
     "execution_count": 42,
     "metadata": {},
     "output_type": "execute_result"
    }
   ],
   "source": [
    "chain = RunnableLambda(fake_llm) |{'parsed': lambda text: text[::-1]}\n",
    "\n",
    "chain.invoke(\"hello\")"
   ]
  },
  {
   "cell_type": "code",
   "execution_count": 40,
   "metadata": {},
   "outputs": [
    {
     "name": "stdout",
     "output_type": "stream",
     "text": [
      "{'original': 'hello completion', 'parsed': 'noitelpmoc olleh'}\n"
     ]
    }
   ],
   "source": [
    "chain = RunnableLambda(fake_llm) | {\n",
    "    'original': RunnablePassthrough(), # Original LLM output\n",
    "    'parsed': lambda text: text[::-1] # Reverse the output\n",
    "}\n",
    "\n",
    "print(chain.invoke('hello'))"
   ]
  },
  {
   "cell_type": "code",
   "execution_count": 25,
   "metadata": {
    "application/vnd.databricks.v1+cell": {
     "cellMetadata": {},
     "inputWidgets": {},
     "nuid": "c15d7ef5-e287-4cca-a389-5c7d3fa52f66",
     "showTitle": false,
     "tableResultSettingsMap": {},
     "title": ""
    }
   },
   "outputs": [
    {
     "data": {
      "text/plain": [
       "langchain_core.runnables.base.RunnableSequence"
      ]
     },
     "execution_count": 25,
     "metadata": {},
     "output_type": "execute_result"
    }
   ],
   "source": [
    "type(chain)"
   ]
  },
  {
   "cell_type": "markdown",
   "metadata": {
    "application/vnd.databricks.v1+cell": {
     "cellMetadata": {},
     "inputWidgets": {},
     "nuid": "8e550b48-9963-4c80-9f26-4f930055abc1",
     "showTitle": false,
     "tableResultSettingsMap": {},
     "title": ""
    }
   },
   "source": [
    "#### Explanation of above code\n",
    "\n",
    "1. RunnableLambda(fake_llm) Converts the fake_llm function into a LangChain Runnable. This makes it compatible with LangChain pipelines\n",
    "2. This pipes the output of RunnableLambda(fake_llm) into the next processing step.\n",
    "3. The output of fake_llm (\"completion\") is passed into both\n",
    "    * 'original': RunnablePassthrough(), which simply forwards the input as is.\n",
    "    * 'parsed': lambda text: text[::-1], which reverses the output string."
   ]
  },
  {
   "cell_type": "markdown",
   "metadata": {
    "application/vnd.databricks.v1+cell": {
     "cellMetadata": {},
     "inputWidgets": {},
     "nuid": "bf46ed35-19e0-4f33-b388-177f2a5c1610",
     "showTitle": false,
     "tableResultSettingsMap": {},
     "title": ""
    }
   },
   "source": [
    "1. Input 'hello' is passed into fake_llm\n",
    "    * fake_llm('hello')  # Returns \"completion\"\n",
    "2. \"completion\" is passed into the dictionary processor, which does:\n",
    "    * 'original': Keeps \"completion\" as is.\n",
    "    * 'parsed': Reverses \"completion\" to \"noitelpmoc\"."
   ]
  },
  {
   "cell_type": "code",
   "execution_count": 44,
   "metadata": {
    "application/vnd.databricks.v1+cell": {
     "cellMetadata": {},
     "inputWidgets": {},
     "nuid": "8dd23a3d-1400-4336-ba4a-000e1c257ed8",
     "showTitle": false,
     "tableResultSettingsMap": {},
     "title": ""
    }
   },
   "outputs": [
    {
     "data": {
      "text/plain": [
       "'hello completion'"
      ]
     },
     "execution_count": 44,
     "metadata": {},
     "output_type": "execute_result"
    }
   ],
   "source": [
    "RunnableLambda(fake_llm).invoke(\"hello\")"
   ]
  },
  {
   "cell_type": "code",
   "execution_count": 45,
   "metadata": {
    "application/vnd.databricks.v1+cell": {
     "cellMetadata": {},
     "inputWidgets": {},
     "nuid": "5b1e5d9d-4606-4b84-a3cc-b3ac9fec1fcb",
     "showTitle": false,
     "tableResultSettingsMap": {},
     "title": ""
    }
   },
   "outputs": [],
   "source": [
    "# Use Assign in RunnablePassThrough\n",
    "# In some cases, it may be useful to pass the input through while adding some keys to the output. In this case, you can use the assign method.\n",
    "\n",
    "def fake_llm(prompt: str) -> str: # Fake LLM for the example\n",
    "    return \"completion\"\n",
    "\n",
    "chain = {\n",
    "    'llm1':  fake_llm,\n",
    "    'llm2':  fake_llm,\n",
    "} | RunnablePassthrough.assign(\n",
    "    total_chars=lambda inputs: len(inputs['llm1'] + inputs['llm2'])\n",
    ")"
   ]
  },
  {
   "cell_type": "code",
   "execution_count": 46,
   "metadata": {
    "application/vnd.databricks.v1+cell": {
     "cellMetadata": {},
     "inputWidgets": {},
     "nuid": "00e502ae-ef88-4a8a-94b3-6ed591cb8af8",
     "showTitle": false,
     "tableResultSettingsMap": {},
     "title": ""
    }
   },
   "outputs": [
    {
     "data": {
      "text/plain": [
       "langchain_core.runnables.base.RunnableSequence"
      ]
     },
     "execution_count": 46,
     "metadata": {},
     "output_type": "execute_result"
    }
   ],
   "source": [
    "type(chain)"
   ]
  },
  {
   "cell_type": "code",
   "execution_count": 47,
   "metadata": {
    "application/vnd.databricks.v1+cell": {
     "cellMetadata": {},
     "inputWidgets": {},
     "nuid": "6d59ff04-3eb4-49a2-a9dc-7e6211c8ff97",
     "showTitle": false,
     "tableResultSettingsMap": {},
     "title": ""
    }
   },
   "outputs": [
    {
     "data": {
      "text/plain": [
       "{'llm1': 'completion', 'llm2': 'completion', 'total_chars': 20}"
      ]
     },
     "execution_count": 47,
     "metadata": {},
     "output_type": "execute_result"
    }
   ],
   "source": [
    "chain.invoke('hello')"
   ]
  },
  {
   "cell_type": "markdown",
   "metadata": {
    "application/vnd.databricks.v1+cell": {
     "cellMetadata": {},
     "inputWidgets": {},
     "nuid": "28b5a218-3a7d-4393-9475-11b685266044",
     "showTitle": false,
     "tableResultSettingsMap": {},
     "title": ""
    }
   },
   "source": [
    "![image-2.png](attachment:image-2.png)"
   ]
  },
  {
   "cell_type": "markdown",
   "metadata": {
    "application/vnd.databricks.v1+cell": {
     "cellMetadata": {},
     "inputWidgets": {},
     "nuid": "dc642817-bc27-402e-a625-33bb3e76ab81",
     "showTitle": false,
     "tableResultSettingsMap": {},
     "title": ""
    }
   },
   "source": [
    "![image.png](attachment:image.png)"
   ]
  },
  {
   "cell_type": "markdown",
   "metadata": {
    "application/vnd.databricks.v1+cell": {
     "cellMetadata": {},
     "inputWidgets": {},
     "nuid": "4a4b79fc-7e35-402f-a257-3be6dad123e0",
     "showTitle": false,
     "tableResultSettingsMap": {},
     "title": ""
    }
   },
   "source": [
    "![image.png](attachment:image.png)"
   ]
  },
  {
   "cell_type": "code",
   "execution_count": 56,
   "metadata": {},
   "outputs": [
    {
     "name": "stdout",
     "output_type": "stream",
     "text": [
      "{'history': []}\n"
     ]
    }
   ],
   "source": [
    "print(memory.load_memory_variables({}))"
   ]
  },
  {
   "cell_type": "code",
   "execution_count": 59,
   "metadata": {},
   "outputs": [
    {
     "name": "stdout",
     "output_type": "stream",
     "text": [
      "[]\n"
     ]
    }
   ],
   "source": [
    "print(memory.load_memory_variables({})['history'])"
   ]
  },
  {
   "cell_type": "markdown",
   "metadata": {
    "application/vnd.databricks.v1+cell": {
     "cellMetadata": {},
     "inputWidgets": {},
     "nuid": "82015dbf-ba93-4cb9-aa4b-30a7086ac5f3",
     "showTitle": false,
     "tableResultSettingsMap": {},
     "title": ""
    }
   },
   "source": [
    "### Now Come to the Original Code"
   ]
  },
  {
   "cell_type": "code",
   "execution_count": 62,
   "metadata": {
    "application/vnd.databricks.v1+cell": {
     "cellMetadata": {},
     "inputWidgets": {},
     "nuid": "90a7b147-8fb6-4b3c-b9ad-7ca972d9a28a",
     "showTitle": false,
     "tableResultSettingsMap": {},
     "title": ""
    }
   },
   "outputs": [
    {
     "name": "stdout",
     "output_type": "stream",
     "text": [
      "[]\n"
     ]
    }
   ],
   "source": [
    "# lets create a function now which returns the list of messages from memory\n",
    "def get_memory_messages(query):\n",
    "    return memory.load_memory_variables(query)['history']\n",
    "\n",
    "print(get_memory_messages('What are the first four colors of a rainbow?'))"
   ]
  },
  {
   "cell_type": "code",
   "execution_count": 63,
   "metadata": {
    "application/vnd.databricks.v1+cell": {
     "cellMetadata": {},
     "inputWidgets": {},
     "nuid": "60845eee-9f7e-4d18-b04b-51d325630a56",
     "showTitle": false,
     "tableResultSettingsMap": {},
     "title": ""
    }
   },
   "outputs": [
    {
     "data": {
      "text/plain": [
       "langchain_core.runnables.base.RunnableLambda"
      ]
     },
     "execution_count": 63,
     "metadata": {},
     "output_type": "execute_result"
    }
   ],
   "source": [
    "type(RunnableLambda(get_memory_messages))"
   ]
  },
  {
   "cell_type": "code",
   "execution_count": 65,
   "metadata": {
    "application/vnd.databricks.v1+cell": {
     "cellMetadata": {},
     "inputWidgets": {},
     "nuid": "585a3d5a-ec91-42f3-9ea1-bdee6a6a15bd",
     "showTitle": false,
     "tableResultSettingsMap": {},
     "title": ""
    }
   },
   "outputs": [
    {
     "name": "stdout",
     "output_type": "stream",
     "text": [
      "[]\n"
     ]
    }
   ],
   "source": [
    "# testing out the function with a runnable lambda which will go into our chain\n",
    "# this returns the history but we also need to send our current query to the prompt\n",
    "print(RunnableLambda(get_memory_messages).invoke({'query': 'What are the first four colors of a rainbow?'}))"
   ]
  },
  {
   "cell_type": "code",
   "execution_count": 66,
   "metadata": {
    "application/vnd.databricks.v1+cell": {
     "cellMetadata": {
      "byteLimit": 2048000,
      "rowLimit": 10000
     },
     "inputWidgets": {},
     "nuid": "847d5f57-2501-46e4-b96b-8b36f982d149",
     "showTitle": false,
     "tableResultSettingsMap": {},
     "title": ""
    },
    "id": "xhxKM_gWXa-r"
   },
   "outputs": [
    {
     "data": {
      "text/plain": [
       "{'query': 'What are the first four colors of a rainbow1?',\n",
       " 'query2': 'sourav',\n",
       " 'history': []}"
      ]
     },
     "execution_count": 66,
     "metadata": {},
     "output_type": "execute_result"
    }
   ],
   "source": [
    "# we use a runnable passthrough to pass our current query untouched\n",
    "# along with the history messages to the next step in the chain\n",
    "RunnablePassthrough.assign(\n",
    "        history=RunnableLambda(get_memory_messages)\n",
    "    ).invoke({'query': 'What are the first four colors of a rainbow1?','query2':\"sourav\"})"
   ]
  },
  {
   "cell_type": "code",
   "execution_count": 67,
   "metadata": {
    "application/vnd.databricks.v1+cell": {
     "cellMetadata": {},
     "inputWidgets": {},
     "nuid": "d904d03d-3620-4aae-b297-4f5ad31d388f",
     "showTitle": false,
     "tableResultSettingsMap": {},
     "title": ""
    }
   },
   "outputs": [
    {
     "data": {
      "text/plain": [
       "{'query': 'sourav', 'history': []}"
      ]
     },
     "execution_count": 67,
     "metadata": {},
     "output_type": "execute_result"
    }
   ],
   "source": [
    "chain1 = {\n",
    "    'query': RunnableLambda(lambda x: x['query2'])\n",
    "} |RunnablePassthrough.assign(\n",
    "        history=RunnableLambda(get_memory_messages)\n",
    "    )\n",
    "chain1.invoke({'query1': 'What are the first four colors of a rainbow1?','query2':\"sourav\"})"
   ]
  },
  {
   "cell_type": "code",
   "execution_count": 68,
   "metadata": {
    "application/vnd.databricks.v1+cell": {
     "cellMetadata": {},
     "inputWidgets": {},
     "nuid": "a2bb0460-6994-4de9-ab58-69c759dc058d",
     "showTitle": false,
     "tableResultSettingsMap": {},
     "title": ""
    }
   },
   "outputs": [
    {
     "data": {
      "text/plain": [
       "{'query': 'What are the first four colors of a rainbow1?', 'history': []}"
      ]
     },
     "execution_count": 68,
     "metadata": {},
     "output_type": "execute_result"
    }
   ],
   "source": [
    "chain2 = {\n",
    "    'query': RunnableLambda(lambda x: x['query1'])\n",
    "} |RunnablePassthrough.assign(\n",
    "        history=RunnableLambda(get_memory_messages)\n",
    "    )\n",
    "\n",
    "chain2.invoke({'query1': 'What are the first four colors of a rainbow1?','query2':\"sourav\"})"
   ]
  },
  {
   "cell_type": "code",
   "execution_count": 69,
   "metadata": {
    "application/vnd.databricks.v1+cell": {
     "cellMetadata": {},
     "inputWidgets": {},
     "nuid": "37f46f2f-3f78-436b-a43a-28b74a3e1351",
     "showTitle": false,
     "tableResultSettingsMap": {},
     "title": ""
    }
   },
   "outputs": [
    {
     "data": {
      "text/plain": [
       "'What are the first four colors of a rainbow1?'"
      ]
     },
     "execution_count": 69,
     "metadata": {},
     "output_type": "execute_result"
    }
   ],
   "source": [
    "runnable = RunnableLambda(lambda x: x['query1'])\n",
    "runnable.invoke({'query1': 'What are the first four colors of a rainbow1?', 'query2': \"sourav\"})"
   ]
  },
  {
   "cell_type": "code",
   "execution_count": 70,
   "metadata": {
    "application/vnd.databricks.v1+cell": {
     "cellMetadata": {},
     "inputWidgets": {},
     "nuid": "97d588a1-f04a-4325-8e2f-6a10e2ee8d8c",
     "showTitle": false,
     "tableResultSettingsMap": {},
     "title": ""
    }
   },
   "outputs": [
    {
     "data": {
      "text/plain": [
       "{'query': 'What are the first four colors of a rainbow1?',\n",
       " 'llm1': 'completion',\n",
       " 'llm2': 'completion',\n",
       " 'history': []}"
      ]
     },
     "execution_count": 70,
     "metadata": {},
     "output_type": "execute_result"
    }
   ],
   "source": [
    "chain = {\n",
    "    'query': RunnableLambda(lambda x: x['query']), \n",
    "    'llm1':  fake_llm,\n",
    "    'llm2':  fake_llm,\n",
    "} | RunnablePassthrough.assign(\n",
    "    history=RunnableLambda(get_memory_messages)\n",
    ")\n",
    "\n",
    "chain.invoke({'query': 'What are the first four colors of a rainbow1?'})"
   ]
  },
  {
   "cell_type": "code",
   "execution_count": 71,
   "metadata": {
    "application/vnd.databricks.v1+cell": {
     "cellMetadata": {
      "byteLimit": 2048000,
      "rowLimit": 10000
     },
     "inputWidgets": {},
     "nuid": "aff81e12-c4ef-4906-9e89-901538760f42",
     "showTitle": false,
     "tableResultSettingsMap": {},
     "title": ""
    },
    "id": "nnfHCMuFWtn_"
   },
   "outputs": [],
   "source": [
    "# creating our conversation chain now\n",
    "def get_memory_messages(query):\n",
    "    return memory.load_memory_variables(query)['history']\n",
    "\n",
    "conversation_chain = (\n",
    "    RunnablePassthrough.assign(\n",
    "        history=RunnableLambda(get_memory_messages)\n",
    "    ) # sends current query (input by user at runtime) and history messages to next step\n",
    "      |\n",
    "    prompt # creates prompt using the previous two variables\n",
    "      |\n",
    "    chatgpt # generates response using the prompt from previous step\n",
    ")"
   ]
  },
  {
   "cell_type": "code",
   "execution_count": 72,
   "metadata": {
    "application/vnd.databricks.v1+cell": {
     "cellMetadata": {
      "byteLimit": 2048000,
      "rowLimit": 10000
     },
     "inputWidgets": {},
     "nuid": "2e520681-8980-450e-afa0-c8770b51786b",
     "showTitle": false,
     "tableResultSettingsMap": {},
     "title": ""
    },
    "id": "aUHqbObhW8OC"
   },
   "outputs": [
    {
     "name": "stdout",
     "output_type": "stream",
     "text": [
      "content='The first four colors of a rainbow are red, orange, yellow, and green.' additional_kwargs={'refusal': None} response_metadata={'token_usage': {'completion_tokens': 17, 'prompt_tokens': 30, 'total_tokens': 47, 'completion_tokens_details': {'accepted_prediction_tokens': 0, 'audio_tokens': 0, 'reasoning_tokens': 0, 'rejected_prediction_tokens': 0}, 'prompt_tokens_details': {'audio_tokens': 0, 'cached_tokens': 0}}, 'model_name': 'gpt-4o-mini-2024-07-18', 'system_fingerprint': 'fp_62a23a81ef', 'finish_reason': 'stop', 'logprobs': None} id='run--91ab0749-82bd-4637-8301-4758fee3247c-0' usage_metadata={'input_tokens': 30, 'output_tokens': 17, 'total_tokens': 47, 'input_token_details': {'audio': 0, 'cache_read': 0}, 'output_token_details': {'audio': 0, 'reasoning': 0}}\n"
     ]
    }
   ],
   "source": [
    "query = {'query': 'What are the first four colors of a rainbow?'}\n",
    "response = conversation_chain.invoke(query)\n",
    "print(response)"
   ]
  },
  {
   "cell_type": "code",
   "execution_count": 73,
   "metadata": {
    "application/vnd.databricks.v1+cell": {
     "cellMetadata": {
      "byteLimit": 2048000,
      "rowLimit": 10000
     },
     "inputWidgets": {},
     "nuid": "e02065ad-9978-4841-8cfe-ccfa8ab58a1c",
     "showTitle": false,
     "tableResultSettingsMap": {},
     "title": ""
    },
    "id": "Zz3I1Kt3Zx2F"
   },
   "outputs": [
    {
     "name": "stdout",
     "output_type": "stream",
     "text": [
      "The first four colors of a rainbow are red, orange, yellow, and green.\n"
     ]
    }
   ],
   "source": [
    "print(response.content)"
   ]
  },
  {
   "cell_type": "code",
   "execution_count": 74,
   "metadata": {
    "application/vnd.databricks.v1+cell": {
     "cellMetadata": {
      "byteLimit": 2048000,
      "rowLimit": 10000
     },
     "inputWidgets": {},
     "nuid": "155f3ae1-fedb-4867-80d4-85c1808b3ab5",
     "showTitle": false,
     "tableResultSettingsMap": {},
     "title": ""
    },
    "id": "DfoKQ8yjZ6zV"
   },
   "outputs": [
    {
     "data": {
      "text/plain": [
       "{'history': []}"
      ]
     },
     "execution_count": 74,
     "metadata": {},
     "output_type": "execute_result"
    }
   ],
   "source": [
    "memory.load_memory_variables({})"
   ]
  },
  {
   "cell_type": "code",
   "execution_count": 75,
   "metadata": {
    "application/vnd.databricks.v1+cell": {
     "cellMetadata": {
      "byteLimit": 2048000,
      "rowLimit": 10000
     },
     "inputWidgets": {},
     "nuid": "479a9196-38fe-4624-a5a3-516fab36baec",
     "showTitle": false,
     "tableResultSettingsMap": {},
     "title": ""
    },
    "id": "yiBksfTgZ9z4"
   },
   "outputs": [],
   "source": [
    "memory.save_context(query, {\"output\": response.content})"
   ]
  },
  {
   "cell_type": "code",
   "execution_count": 82,
   "metadata": {
    "application/vnd.databricks.v1+cell": {
     "cellMetadata": {
      "byteLimit": 2048000,
      "rowLimit": 10000
     },
     "inputWidgets": {},
     "nuid": "1425ae0f-3dc4-468a-aaea-8695fd46b995",
     "showTitle": false,
     "tableResultSettingsMap": {},
     "title": ""
    },
    "id": "M8D7hnKUaix_"
   },
   "outputs": [
    {
     "data": {
      "text/plain": [
       "[HumanMessage(content='What are the first four colors of a rainbow?', additional_kwargs={}, response_metadata={}),\n",
       " AIMessage(content='The first four colors of a rainbow are red, orange, yellow, and green.', additional_kwargs={}, response_metadata={})]"
      ]
     },
     "execution_count": 82,
     "metadata": {},
     "output_type": "execute_result"
    }
   ],
   "source": [
    "memory.load_memory_variables({})['history']"
   ]
  },
  {
   "cell_type": "code",
   "execution_count": 83,
   "metadata": {
    "application/vnd.databricks.v1+cell": {
     "cellMetadata": {
      "byteLimit": 2048000,
      "rowLimit": 10000
     },
     "inputWidgets": {},
     "nuid": "cff0bf2a-6871-4759-be48-9803386dc7b5",
     "showTitle": false,
     "tableResultSettingsMap": {},
     "title": ""
    },
    "id": "Ra8taD1VanUS"
   },
   "outputs": [
    {
     "name": "stdout",
     "output_type": "stream",
     "text": [
      "The other three colors of a rainbow are blue, indigo, and violet.\n"
     ]
    }
   ],
   "source": [
    "query = {'query': 'and the other 3?'}\n",
    "response = conversation_chain.invoke(query)\n",
    "memory.save_context(query, {\"output\": response.content}) # remember to save your current conversation in memory\n",
    "print(response.content)"
   ]
  },
  {
   "cell_type": "code",
   "execution_count": null,
   "metadata": {},
   "outputs": [],
   "source": []
  },
  {
   "cell_type": "code",
   "execution_count": 84,
   "metadata": {
    "application/vnd.databricks.v1+cell": {
     "cellMetadata": {
      "byteLimit": 2048000,
      "rowLimit": 10000
     },
     "inputWidgets": {},
     "nuid": "db82e0f7-5714-4901-b286-eb03ead2ebde",
     "showTitle": false,
     "tableResultSettingsMap": {},
     "title": ""
    },
    "id": "J4hJh9jgbnMi"
   },
   "outputs": [
    {
     "data": {
      "text/plain": [
       "{'history': [HumanMessage(content='What are the first four colors of a rainbow?', additional_kwargs={}, response_metadata={}),\n",
       "  AIMessage(content='The first four colors of a rainbow are red, orange, yellow, and green.', additional_kwargs={}, response_metadata={}),\n",
       "  HumanMessage(content='and the other 3?', additional_kwargs={}, response_metadata={}),\n",
       "  AIMessage(content='The other three colors of a rainbow are blue, indigo, and violet.', additional_kwargs={}, response_metadata={})]}"
      ]
     },
     "execution_count": 84,
     "metadata": {},
     "output_type": "execute_result"
    }
   ],
   "source": [
    "memory.load_memory_variables({})"
   ]
  },
  {
   "cell_type": "code",
   "execution_count": 85,
   "metadata": {
    "application/vnd.databricks.v1+cell": {
     "cellMetadata": {
      "byteLimit": 2048000,
      "rowLimit": 10000
     },
     "inputWidgets": {},
     "nuid": "9412d1a2-ae7e-42f9-b500-37e041e5ab28",
     "showTitle": false,
     "tableResultSettingsMap": {},
     "title": ""
    },
    "id": "TFogFx9JbqFN"
   },
   "outputs": [
    {
     "name": "stdout",
     "output_type": "stream",
     "text": [
      "- **Definition**: Artificial Intelligence (AI) refers to the simulation of human intelligence in machines programmed to think and learn, enabling them to perform tasks that typically require human cognitive functions, such as problem-solving, understanding language, and recognizing patterns.\n",
      "\n",
      "- **Applications**: AI is used in various fields, including healthcare (diagnosis and treatment recommendations), finance (fraud detection and algorithmic trading), and everyday technology (virtual assistants and recommendation systems).\n"
     ]
    }
   ],
   "source": [
    "query = {'query': 'Explain AI in 2 bullet points'}\n",
    "response = conversation_chain.invoke(query)\n",
    "memory.save_context(query, {\"output\": response.content}) # remember to save your current conversation in memory\n",
    "print(response.content)"
   ]
  },
  {
   "cell_type": "code",
   "execution_count": 86,
   "metadata": {},
   "outputs": [
    {
     "data": {
      "text/plain": [
       "{'history': [HumanMessage(content='What are the first four colors of a rainbow?', additional_kwargs={}, response_metadata={}),\n",
       "  AIMessage(content='The first four colors of a rainbow are red, orange, yellow, and green.', additional_kwargs={}, response_metadata={}),\n",
       "  HumanMessage(content='and the other 3?', additional_kwargs={}, response_metadata={}),\n",
       "  AIMessage(content='The other three colors of a rainbow are blue, indigo, and violet.', additional_kwargs={}, response_metadata={}),\n",
       "  HumanMessage(content='Explain AI in 2 bullet points', additional_kwargs={}, response_metadata={}),\n",
       "  AIMessage(content='- **Definition**: Artificial Intelligence (AI) refers to the simulation of human intelligence in machines programmed to think and learn, enabling them to perform tasks that typically require human cognitive functions, such as problem-solving, understanding language, and recognizing patterns.\\n\\n- **Applications**: AI is used in various fields, including healthcare (diagnosis and treatment recommendations), finance (fraud detection and algorithmic trading), and everyday technology (virtual assistants and recommendation systems).', additional_kwargs={}, response_metadata={})]}"
      ]
     },
     "execution_count": 86,
     "metadata": {},
     "output_type": "execute_result"
    }
   ],
   "source": [
    "memory.load_memory_variables({})"
   ]
  },
  {
   "cell_type": "code",
   "execution_count": 87,
   "metadata": {
    "application/vnd.databricks.v1+cell": {
     "cellMetadata": {
      "byteLimit": 2048000,
      "rowLimit": 10000
     },
     "inputWidgets": {},
     "nuid": "311a14e7-bf3d-47f8-aa9d-f79eeb239c16",
     "showTitle": false,
     "tableResultSettingsMap": {},
     "title": ""
    },
    "id": "67wu0ct9buF8"
   },
   "outputs": [
    {
     "name": "stdout",
     "output_type": "stream",
     "text": [
      "- **Definition**: Deep Learning is a subset of machine learning that uses neural networks with many layers (deep neural networks) to model complex patterns in large datasets, enabling machines to learn from data in a way that mimics human brain function.\n",
      "\n",
      "- **Applications**: Deep Learning is widely used in image and speech recognition, natural language processing, autonomous vehicles, and various other fields where large amounts of data are available for training models.\n"
     ]
    }
   ],
   "source": [
    "query = {'query': 'Now do the same for Deep Learning'}\n",
    "response = conversation_chain.invoke(query)\n",
    "memory.save_context(query, {\"output\": response.content}) # remember to save your current conversation in memory\n",
    "print(response.content)"
   ]
  },
  {
   "cell_type": "code",
   "execution_count": 88,
   "metadata": {
    "application/vnd.databricks.v1+cell": {
     "cellMetadata": {
      "byteLimit": 2048000,
      "rowLimit": 10000
     },
     "inputWidgets": {},
     "nuid": "2189a31e-0785-4227-8ff4-663be06d6c58",
     "showTitle": false,
     "tableResultSettingsMap": {},
     "title": ""
    },
    "id": "qG1UoqoybxLQ"
   },
   "outputs": [
    {
     "name": "stdout",
     "output_type": "stream",
     "text": [
      "So far, we have discussed the following topics:\n",
      "\n",
      "1. The first four colors of a rainbow (red, orange, yellow, green) and the remaining three (blue, indigo, violet).\n",
      "2. A brief explanation of Artificial Intelligence (AI) in two bullet points.\n",
      "3. A brief explanation of Deep Learning in two bullet points.\n"
     ]
    }
   ],
   "source": [
    "query = {'query': 'What have we discussed so far?'}\n",
    "response = conversation_chain.invoke(query)\n",
    "memory.save_context(query, {\"output\": response.content}) # remember to save your current conversation in memory\n",
    "print(response.content)"
   ]
  },
  {
   "cell_type": "code",
   "execution_count": 89,
   "metadata": {
    "application/vnd.databricks.v1+cell": {
     "cellMetadata": {
      "byteLimit": 2048000,
      "rowLimit": 10000
     },
     "inputWidgets": {},
     "nuid": "724aeb4c-9e25-48fa-a7ce-835b13033050",
     "showTitle": false,
     "tableResultSettingsMap": {},
     "title": ""
    },
    "id": "KH-9mqvXb0mM"
   },
   "outputs": [
    {
     "data": {
      "text/plain": [
       "[HumanMessage(content='What are the first four colors of a rainbow?', additional_kwargs={}, response_metadata={}),\n",
       " AIMessage(content='The first four colors of a rainbow are red, orange, yellow, and green.', additional_kwargs={}, response_metadata={}),\n",
       " HumanMessage(content='and the other 3?', additional_kwargs={}, response_metadata={}),\n",
       " AIMessage(content='The other three colors of a rainbow are blue, indigo, and violet.', additional_kwargs={}, response_metadata={}),\n",
       " HumanMessage(content='Explain AI in 2 bullet points', additional_kwargs={}, response_metadata={}),\n",
       " AIMessage(content='- **Definition**: Artificial Intelligence (AI) refers to the simulation of human intelligence in machines programmed to think and learn, enabling them to perform tasks that typically require human cognitive functions, such as problem-solving, understanding language, and recognizing patterns.\\n\\n- **Applications**: AI is used in various fields, including healthcare (diagnosis and treatment recommendations), finance (fraud detection and algorithmic trading), and everyday technology (virtual assistants and recommendation systems).', additional_kwargs={}, response_metadata={}),\n",
       " HumanMessage(content='Now do the same for Deep Learning', additional_kwargs={}, response_metadata={}),\n",
       " AIMessage(content='- **Definition**: Deep Learning is a subset of machine learning that uses neural networks with many layers (deep neural networks) to model complex patterns in large datasets, enabling machines to learn from data in a way that mimics human brain function.\\n\\n- **Applications**: Deep Learning is widely used in image and speech recognition, natural language processing, autonomous vehicles, and various other fields where large amounts of data are available for training models.', additional_kwargs={}, response_metadata={}),\n",
       " HumanMessage(content='What have we discussed so far?', additional_kwargs={}, response_metadata={}),\n",
       " AIMessage(content='So far, we have discussed the following topics:\\n\\n1. The first four colors of a rainbow (red, orange, yellow, green) and the remaining three (blue, indigo, violet).\\n2. A brief explanation of Artificial Intelligence (AI) in two bullet points.\\n3. A brief explanation of Deep Learning in two bullet points.', additional_kwargs={}, response_metadata={})]"
      ]
     },
     "execution_count": 89,
     "metadata": {},
     "output_type": "execute_result"
    }
   ],
   "source": [
    "memory.load_memory_variables({})['history']"
   ]
  },
  {
   "cell_type": "markdown",
   "metadata": {
    "application/vnd.databricks.v1+cell": {
     "cellMetadata": {},
     "inputWidgets": {},
     "nuid": "38444b35-31d6-47ed-9635-3d814fbd50d1",
     "showTitle": false,
     "tableResultSettingsMap": {},
     "title": ""
    },
    "id": "z02POB29ePic"
   },
   "source": [
    "### Conversation Chains with ConversationBufferWindowMemory\n",
    "\n",
    "If you have a really long conversation, you might exceed the max token limit of the context window allowed for the LLM when using `ConversationBufferMemory` so `ConversationBufferWindowMemory` helps in just storing the last K conversations (one conversation piece is one user message and the corresponding AI message from the LLM) and thus helps you manage token limits and costs"
   ]
  },
  {
   "cell_type": "code",
   "execution_count": 0,
   "metadata": {
    "application/vnd.databricks.v1+cell": {
     "cellMetadata": {
      "byteLimit": 2048000,
      "rowLimit": 10000
     },
     "inputWidgets": {},
     "nuid": "dc8e83fc-1a04-4351-a627-ecfd944fd1e2",
     "showTitle": false,
     "tableResultSettingsMap": {},
     "title": ""
    },
    "id": "uz6mUhHTga6l"
   },
   "outputs": [
    {
     "name": "stderr",
     "output_type": "stream",
     "text": [
      "C:\\Users\\Sourav Banerjee\\AppData\\Local\\Temp\\ipykernel_45028\\96416143.py:15: LangChainDeprecationWarning: Please see the migration guide at: https://python.langchain.com/docs/versions/migrating_memory/\n",
      "  memory = ConversationBufferWindowMemory(return_messages=True, k=2)\n"
     ]
    }
   ],
   "source": [
    "from langchain_core.prompts import ChatPromptTemplate, MessagesPlaceholder\n",
    "from langchain.memory import ConversationBufferWindowMemory\n",
    "from langchain.schema.runnable import RunnablePassthrough, RunnableLambda\n",
    "\n",
    "SYS_PROMPT = \"\"\"Act as a helpful assistant and give brief answers\"\"\"\n",
    "prompt = ChatPromptTemplate.from_messages(\n",
    "    [\n",
    "        (\"system\", SYS_PROMPT),\n",
    "        MessagesPlaceholder(variable_name=\"history\"),\n",
    "        (\"human\", \"{query}\"),\n",
    "    ]\n",
    ")\n",
    "\n",
    "# stores last 2 sets of human-AI conversations\n",
    "memory = ConversationBufferWindowMemory(return_messages=True, k=2)\n",
    "\n",
    "# creating our conversation chain now\n",
    "def get_memory_messages(query):\n",
    "    return memory.load_memory_variables(query)['history']\n",
    "\n",
    "conversation_chain = (\n",
    "    RunnablePassthrough.assign(\n",
    "        history=RunnableLambda(get_memory_messages)\n",
    "    ) # sends current query (input by user at runtime) and history messages to next step\n",
    "      |\n",
    "    prompt # creates prompt using the previous two variables\n",
    "      |\n",
    "    chatgpt # generates response using the prompt from previous step\n",
    ")"
   ]
  },
  {
   "cell_type": "code",
   "execution_count": 0,
   "metadata": {
    "application/vnd.databricks.v1+cell": {
     "cellMetadata": {
      "byteLimit": 2048000,
      "rowLimit": 10000
     },
     "inputWidgets": {},
     "nuid": "898fe46b-1c51-4718-85ea-0411d3d52313",
     "showTitle": false,
     "tableResultSettingsMap": {},
     "title": ""
    },
    "id": "_IsESp4jtHND"
   },
   "outputs": [
    {
     "name": "stdout",
     "output_type": "stream",
     "text": [
      "The first four colors of a rainbow are red, orange, yellow, and green.\n"
     ]
    }
   ],
   "source": [
    "query = {'query': 'What are the first four colors of a rainbow?'}\n",
    "response = conversation_chain.invoke(query)\n",
    "memory.save_context(query, {\"output\": response.content}) # remember to save your current conversation in memory\n",
    "print(response.content)"
   ]
  },
  {
   "cell_type": "code",
   "execution_count": 0,
   "metadata": {
    "application/vnd.databricks.v1+cell": {
     "cellMetadata": {
      "byteLimit": 2048000,
      "rowLimit": 10000
     },
     "inputWidgets": {},
     "nuid": "dad33abc-99a3-43b1-bc88-27a70cab1720",
     "showTitle": false,
     "tableResultSettingsMap": {},
     "title": ""
    },
    "id": "NAveTuGstPsm"
   },
   "outputs": [
    {
     "name": "stdout",
     "output_type": "stream",
     "text": [
      "The other three colors of a rainbow are blue, indigo, and violet.\n"
     ]
    }
   ],
   "source": [
    "query = {'query': 'and the other 3?'}\n",
    "response = conversation_chain.invoke(query)\n",
    "memory.save_context(query, {\"output\": response.content}) # remember to save your current conversation in memory\n",
    "print(response.content)"
   ]
  },
  {
   "cell_type": "code",
   "execution_count": 0,
   "metadata": {
    "application/vnd.databricks.v1+cell": {
     "cellMetadata": {
      "byteLimit": 2048000,
      "rowLimit": 10000
     },
     "inputWidgets": {},
     "nuid": "a881eae7-cca4-4687-97ea-d75f6079463b",
     "showTitle": false,
     "tableResultSettingsMap": {},
     "title": ""
    },
    "id": "dTLfJ_1WtWwi"
   },
   "outputs": [
    {
     "name": "stdout",
     "output_type": "stream",
     "text": [
      "- **Definition**: Artificial Intelligence (AI) refers to the simulation of human intelligence in machines programmed to think and learn, enabling them to perform tasks that typically require human cognitive functions, such as problem-solving, understanding language, and recognizing patterns.\n",
      "\n",
      "- **Applications**: AI is used in various fields, including healthcare (diagnosis and treatment recommendations), finance (fraud detection and algorithmic trading), autonomous vehicles, customer service (chatbots), and more, enhancing efficiency and decision-making.\n"
     ]
    }
   ],
   "source": [
    "query = {'query': 'Explain AI in 2 bullet points'}\n",
    "response = conversation_chain.invoke(query)\n",
    "memory.save_context(query, {\"output\": response.content}) # remember to save your current conversation in memory\n",
    "print(response.content)"
   ]
  },
  {
   "cell_type": "code",
   "execution_count": 0,
   "metadata": {
    "application/vnd.databricks.v1+cell": {
     "cellMetadata": {
      "byteLimit": 2048000,
      "rowLimit": 10000
     },
     "inputWidgets": {},
     "nuid": "adf707d7-35b1-4ec9-a33e-f9edba044fd1",
     "showTitle": false,
     "tableResultSettingsMap": {},
     "title": ""
    },
    "id": "KcHC0uWJtYda"
   },
   "outputs": [
    {
     "name": "stdout",
     "output_type": "stream",
     "text": [
      "- **Definition**: Deep Learning is a subset of machine learning that uses neural networks with many layers (deep neural networks) to model complex patterns in large datasets, enabling machines to learn from data in a way that mimics human brain function.\n",
      "\n",
      "- **Applications**: Deep Learning is widely used in image and speech recognition, natural language processing, autonomous systems, and generative models, driving advancements in technologies like virtual assistants, facial recognition, and self-driving cars.\n"
     ]
    }
   ],
   "source": [
    "query = {'query': 'Now do the same for Deep Learning'}\n",
    "response = conversation_chain.invoke(query)\n",
    "memory.save_context(query, {\"output\": response.content}) # remember to save your current conversation in memory\n",
    "print(response.content)"
   ]
  },
  {
   "cell_type": "code",
   "execution_count": 0,
   "metadata": {
    "application/vnd.databricks.v1+cell": {
     "cellMetadata": {
      "byteLimit": 2048000,
      "rowLimit": 10000
     },
     "inputWidgets": {},
     "nuid": "24447ad8-b3d5-437f-92bd-2ddd6464748f",
     "showTitle": false,
     "tableResultSettingsMap": {},
     "title": ""
    },
    "id": "oaxZzNrctb1n"
   },
   "outputs": [
    {
     "data": {
      "text/plain": [
       "{'history': [HumanMessage(content='Explain AI in 2 bullet points', additional_kwargs={}, response_metadata={}),\n",
       "  AIMessage(content='- **Definition**: Artificial Intelligence (AI) refers to the simulation of human intelligence in machines programmed to think and learn, enabling them to perform tasks that typically require human cognitive functions, such as problem-solving, understanding language, and recognizing patterns.\\n\\n- **Applications**: AI is used in various fields, including healthcare (diagnosis and treatment recommendations), finance (fraud detection and algorithmic trading), autonomous vehicles, customer service (chatbots), and more, enhancing efficiency and decision-making.', additional_kwargs={}, response_metadata={}),\n",
       "  HumanMessage(content='Now do the same for Deep Learning', additional_kwargs={}, response_metadata={}),\n",
       "  AIMessage(content='- **Definition**: Deep Learning is a subset of machine learning that uses neural networks with many layers (deep neural networks) to model complex patterns in large datasets, enabling machines to learn from data in a way that mimics human brain function.\\n\\n- **Applications**: Deep Learning is widely used in image and speech recognition, natural language processing, autonomous systems, and generative models, driving advancements in technologies like virtual assistants, facial recognition, and self-driving cars.', additional_kwargs={}, response_metadata={})]}"
      ]
     },
     "execution_count": 48,
     "metadata": {},
     "output_type": "execute_result"
    }
   ],
   "source": [
    "memory.load_memory_variables({})"
   ]
  },
  {
   "cell_type": "code",
   "execution_count": 0,
   "metadata": {
    "application/vnd.databricks.v1+cell": {
     "cellMetadata": {
      "byteLimit": 2048000,
      "rowLimit": 10000
     },
     "inputWidgets": {},
     "nuid": "f5082a56-1cb0-428d-a07d-680f4333641f",
     "showTitle": false,
     "tableResultSettingsMap": {},
     "title": ""
    },
    "id": "SA_ILGM0thBN"
   },
   "outputs": [
    {
     "name": "stdout",
     "output_type": "stream",
     "text": [
      "So far, we have discussed the concepts of Artificial Intelligence (AI) and Deep Learning, including their definitions and applications.\n"
     ]
    }
   ],
   "source": [
    "query = {'query': 'What have we discussed so far?'}\n",
    "response = conversation_chain.invoke(query)\n",
    "memory.save_context(query, {\"output\": response.content}) # remember to save your current conversation in memory\n",
    "print(response.content)"
   ]
  },
  {
   "cell_type": "code",
   "execution_count": 0,
   "metadata": {
    "application/vnd.databricks.v1+cell": {
     "cellMetadata": {
      "byteLimit": 2048000,
      "rowLimit": 10000
     },
     "inputWidgets": {},
     "nuid": "04d78556-7efc-4e20-931b-9fde1e51e925",
     "showTitle": false,
     "tableResultSettingsMap": {},
     "title": ""
    },
    "id": "7ROjso3qtjiC"
   },
   "outputs": [
    {
     "data": {
      "text/plain": [
       "{'history': [HumanMessage(content='Now do the same for Deep Learning', additional_kwargs={}, response_metadata={}),\n",
       "  AIMessage(content='- **Definition**: Deep Learning is a subset of machine learning that uses neural networks with many layers (deep neural networks) to model complex patterns in large datasets, enabling machines to learn from data in a way that mimics human brain function.\\n\\n- **Applications**: Deep Learning is widely used in image and speech recognition, natural language processing, autonomous systems, and generative models, driving advancements in technologies like virtual assistants, facial recognition, and self-driving cars.', additional_kwargs={}, response_metadata={}),\n",
       "  HumanMessage(content='What have we discussed so far?', additional_kwargs={}, response_metadata={}),\n",
       "  AIMessage(content='So far, we have discussed the concepts of Artificial Intelligence (AI) and Deep Learning, including their definitions and applications.', additional_kwargs={}, response_metadata={})]}"
      ]
     },
     "execution_count": 50,
     "metadata": {},
     "output_type": "execute_result"
    }
   ],
   "source": [
    "memory.load_memory_variables({})"
   ]
  },
  {
   "cell_type": "markdown",
   "metadata": {
    "application/vnd.databricks.v1+cell": {
     "cellMetadata": {},
     "inputWidgets": {},
     "nuid": "44921117-f0ea-4ac1-80ad-fc8c543d8c0a",
     "showTitle": false,
     "tableResultSettingsMap": {},
     "title": ""
    },
    "id": "PEqgmHFqwLqg"
   },
   "source": [
    "### Conversation Chains with ConversationSummaryMemory\n",
    "\n",
    "If you have a really long conversation or a lot of messages, you might exceed the max token limit of the context window allowed for the LLM when using `ConversationBufferMemory`\n",
    "\n",
    "`ConversationSummaryMemory` creates a summary of the conversation history over time. This can be useful for condensing information from the conversation messages over time.\n",
    "\n",
    "This memory is most useful for longer conversations, where keeping the past message history in the prompt verbatim would take up too many tokens."
   ]
  },
  {
   "cell_type": "code",
   "execution_count": 0,
   "metadata": {
    "application/vnd.databricks.v1+cell": {
     "cellMetadata": {
      "byteLimit": 2048000,
      "rowLimit": 10000
     },
     "inputWidgets": {},
     "nuid": "dd3d35c2-b56e-4f5f-81e4-8bdd4e7bc3fb",
     "showTitle": false,
     "tableResultSettingsMap": {},
     "title": ""
    },
    "id": "zsvU8Wk44uBy"
   },
   "outputs": [
    {
     "name": "stderr",
     "output_type": "stream",
     "text": [
      "C:\\Users\\Sourav Banerjee\\AppData\\Local\\Temp\\ipykernel_45028\\2640930987.py:14: LangChainDeprecationWarning: Please see the migration guide at: https://python.langchain.com/docs/versions/migrating_memory/\n",
      "  memory = ConversationSummaryMemory(return_messages=True, llm=chatgpt)\n"
     ]
    }
   ],
   "source": [
    "from langchain_core.prompts import ChatPromptTemplate, MessagesPlaceholder\n",
    "from langchain.memory import ConversationSummaryMemory\n",
    "from langchain.schema.runnable import RunnablePassthrough, RunnableLambda\n",
    "\n",
    "SYS_PROMPT = \"\"\"Act as a helpful assistant and give brief answers\"\"\"\n",
    "prompt = ChatPromptTemplate.from_messages(\n",
    "    [\n",
    "        (\"system\", SYS_PROMPT),\n",
    "        MessagesPlaceholder(variable_name=\"history\"),\n",
    "        (\"human\", \"{query}\"),\n",
    "    ]\n",
    ")\n",
    "\n",
    "memory = ConversationSummaryMemory(return_messages=True, llm=chatgpt)\n",
    "# creating our conversation chain now\n",
    "def get_memory_messages(query):\n",
    "    return memory.load_memory_variables(query)['history']\n",
    "\n",
    "conversation_chain = (\n",
    "    RunnablePassthrough.assign(\n",
    "        history=RunnableLambda(get_memory_messages)\n",
    "    ) # sends current query (input by user at runtime) and history messages as a summary to next step\n",
    "      |\n",
    "    prompt # creates prompt using the previous two variables\n",
    "      |\n",
    "    chatgpt # generates response using the prompt from previous step\n",
    ")"
   ]
  },
  {
   "cell_type": "code",
   "execution_count": 0,
   "metadata": {
    "application/vnd.databricks.v1+cell": {
     "cellMetadata": {
      "byteLimit": 2048000,
      "rowLimit": 10000
     },
     "inputWidgets": {},
     "nuid": "8b712230-6902-483d-bf80-215e3b134924",
     "showTitle": false,
     "tableResultSettingsMap": {},
     "title": ""
    },
    "id": "5cBOUQAG5t1z"
   },
   "outputs": [
    {
     "name": "stdout",
     "output_type": "stream",
     "text": [
      "- **Definition**: Artificial Intelligence (AI) refers to the simulation of human intelligence processes by machines, particularly computer systems, enabling them to perform tasks such as learning, reasoning, and problem-solving.\n",
      "\n",
      "- **Applications**: AI is used in various fields, including healthcare (diagnosis and treatment recommendations), finance (fraud detection), autonomous vehicles, customer service (chatbots), and more, enhancing efficiency and decision-making.\n"
     ]
    }
   ],
   "source": [
    "query = {'query': 'Explain AI in 2 bullet points'}\n",
    "response = conversation_chain.invoke(query)\n",
    "memory.save_context(query, {\"output\": response.content}) # remember to save your current conversation in memory\n",
    "print(response.content)"
   ]
  },
  {
   "cell_type": "code",
   "execution_count": 0,
   "metadata": {
    "application/vnd.databricks.v1+cell": {
     "cellMetadata": {
      "byteLimit": 2048000,
      "rowLimit": 10000
     },
     "inputWidgets": {},
     "nuid": "629b9eb6-3e75-4a0a-97e1-71a1e77289eb",
     "showTitle": false,
     "tableResultSettingsMap": {},
     "title": ""
    },
    "id": "DJlLfPTx5xpx"
   },
   "outputs": [
    {
     "name": "stdout",
     "output_type": "stream",
     "text": [
      "- Deep learning is a subset of machine learning that uses neural networks with many layers to analyze and interpret complex data patterns, enabling tasks like image and speech recognition.\n",
      "- It is widely applied in areas such as natural language processing, computer vision, and autonomous systems, significantly improving performance in these fields.\n"
     ]
    }
   ],
   "source": [
    "query = {'query': 'Now do the same for Deep Learning'}\n",
    "response = conversation_chain.invoke(query)\n",
    "memory.save_context(query, {\"output\": response.content}) # remember to save your current conversation in memory\n",
    "print(response.content)"
   ]
  },
  {
   "cell_type": "code",
   "execution_count": 0,
   "metadata": {
    "application/vnd.databricks.v1+cell": {
     "cellMetadata": {},
     "inputWidgets": {},
     "nuid": "5f5290c5-f1c3-4b68-9a93-45607e643a57",
     "showTitle": false,
     "tableResultSettingsMap": {},
     "title": ""
    },
    "id": "La4RXy_s50Bz"
   },
   "outputs": [
    {
     "data": {
      "text/plain": [
       "{'history': [SystemMessage(content='The human asks the AI to explain artificial intelligence in two bullet points. The AI defines artificial intelligence as the simulation of human intelligence processes by machines, enabling tasks like learning and problem-solving, and notes its applications in fields such as healthcare, finance, autonomous vehicles, and customer service, enhancing efficiency and decision-making. The human then requests a similar explanation for deep learning, to which the AI responds that deep learning is a subset of machine learning using neural networks with many layers to analyze complex data patterns, enabling tasks like image and speech recognition, and that it is widely applied in natural language processing, computer vision, and autonomous systems, significantly improving performance in these areas.', additional_kwargs={}, response_metadata={})]}"
      ]
     },
     "execution_count": 54,
     "metadata": {},
     "output_type": "execute_result"
    }
   ],
   "source": [
    "memory.load_memory_variables({})"
   ]
  },
  {
   "cell_type": "code",
   "execution_count": 0,
   "metadata": {
    "application/vnd.databricks.v1+cell": {
     "cellMetadata": {},
     "inputWidgets": {},
     "nuid": "3092c3c0-07c4-4d0a-b686-057d33c7ae4f",
     "showTitle": false,
     "tableResultSettingsMap": {},
     "title": ""
    },
    "id": "_EAa87s156RU"
   },
   "outputs": [
    {
     "name": "stdout",
     "output_type": "stream",
     "text": [
      "We discussed artificial intelligence (AI) and deep learning. AI is the simulation of human intelligence processes by machines, with applications in various fields like healthcare and finance. Deep learning is a subset of machine learning that uses neural networks to analyze complex data patterns, applied in areas like image recognition and natural language processing.\n"
     ]
    }
   ],
   "source": [
    "query = {'query': 'What have we discussed so far?'}\n",
    "response = conversation_chain.invoke(query)\n",
    "memory.save_context(query, {\"output\": response.content}) # remember to save your current conversation in memory\n",
    "print(response.content)"
   ]
  },
  {
   "cell_type": "markdown",
   "metadata": {
    "application/vnd.databricks.v1+cell": {
     "cellMetadata": {},
     "inputWidgets": {},
     "nuid": "653728d5-4171-4205-9486-787ff7615dd7",
     "showTitle": false,
     "tableResultSettingsMap": {},
     "title": ""
    },
    "id": "VI6HK_dw8GA2"
   },
   "source": [
    "### Conversation Chains with VectorStoreRetrieverMemory\n",
    "\n",
    "`VectorStoreRetrieverMemory` stores historical conversation messages in a vector store and queries the top-K most \"relevant\" history messages every time it is called.\n",
    "\n",
    "This differs from most of the other Memory classes in that it doesn't explicitly track the order of interactions but retrieves history based on embedding similarity to the current question or prompt.\n",
    "\n",
    "In this case, the \"docs\" are previous conversation snippets. This can be useful to refer to relevant pieces of information that the AI was told earlier in the conversation."
   ]
  },
  {
   "cell_type": "markdown",
   "metadata": {
    "application/vnd.databricks.v1+cell": {
     "cellMetadata": {},
     "inputWidgets": {},
     "nuid": "5dd883cd-cace-4c10-b1e3-9af0c3e2d4f0",
     "showTitle": false,
     "tableResultSettingsMap": {},
     "title": ""
    },
    "id": "M8nHAP7XOGOj"
   },
   "source": [
    "#### Connect to  Open AI Embedding Models\n",
    "\n",
    "LangChain enables us to access Open AI embedding models which include the newest models: a smaller and highly efficient `text-embedding-3-small` model, and a larger and more powerful `text-embedding-3-large` model."
   ]
  },
  {
   "cell_type": "code",
   "execution_count": 0,
   "metadata": {
    "application/vnd.databricks.v1+cell": {
     "cellMetadata": {},
     "inputWidgets": {},
     "nuid": "943150fd-b3d6-4c4a-88a7-dede4adae257",
     "showTitle": false,
     "tableResultSettingsMap": {},
     "title": ""
    },
    "id": "jzrIVI2NAHC1"
   },
   "outputs": [],
   "source": [
    "from langchain_openai import OpenAIEmbeddings\n",
    "\n",
    "# details here: https://openai.com/blog/new-embedding-models-and-api-updates\n",
    "openai_embed_model = OpenAIEmbeddings(model='text-embedding-3-small')"
   ]
  },
  {
   "cell_type": "markdown",
   "metadata": {
    "application/vnd.databricks.v1+cell": {
     "cellMetadata": {},
     "inputWidgets": {},
     "nuid": "0a1ebb92-3d76-4b06-92f5-578d11948e9f",
     "showTitle": false,
     "tableResultSettingsMap": {},
     "title": ""
    },
    "id": "T_ehzSNyHZCx"
   },
   "source": [
    "#### Create a Vector Database to store conversation history\n",
    "\n",
    "Here we use the Chroma vector DB and initialize an empty database collection to store conversation messages"
   ]
  },
  {
   "cell_type": "code",
   "execution_count": 0,
   "metadata": {
    "application/vnd.databricks.v1+cell": {
     "cellMetadata": {},
     "inputWidgets": {},
     "nuid": "9d3e8f79-b2b1-4f83-bc6b-e9a2856d92e6",
     "showTitle": false,
     "tableResultSettingsMap": {},
     "title": ""
    },
    "id": "1FZOGTTi8LhH"
   },
   "outputs": [
    {
     "data": {
      "text/plain": [
       "\u001b[1;31m---------------------------------------------------------------------------\u001b[0m\n",
       "\u001b[1;31mModuleNotFoundError\u001b[0m                       Traceback (most recent call last)\n",
       "Cell \u001b[1;32mIn[57], line 1\u001b[0m\n",
       "\u001b[1;32m----> 1\u001b[0m \u001b[38;5;28;01mfrom\u001b[39;00m\u001b[38;5;250m \u001b[39m\u001b[38;5;21;01mlangchain_chroma\u001b[39;00m\u001b[38;5;250m \u001b[39m\u001b[38;5;28;01mimport\u001b[39;00m Chroma\n",
       "\u001b[0;32m      3\u001b[0m \u001b[38;5;66;03m# create empty vector DB\u001b[39;00m\n",
       "\u001b[0;32m      4\u001b[0m chroma_db \u001b[38;5;241m=\u001b[39m Chroma(collection_name\u001b[38;5;241m=\u001b[39m\u001b[38;5;124m'\u001b[39m\u001b[38;5;124mhistory_db\u001b[39m\u001b[38;5;124m'\u001b[39m,\n",
       "\u001b[0;32m      5\u001b[0m                    embedding_function\u001b[38;5;241m=\u001b[39mopenai_embed_model)\n",
       "\n",
       "\u001b[1;31mModuleNotFoundError\u001b[0m: No module named 'langchain_chroma'"
      ]
     },
     "metadata": {
      "application/vnd.databricks.v1+output": {
       "arguments": {},
       "data": "\u001b[1;31m---------------------------------------------------------------------------\u001b[0m\n\u001b[1;31mModuleNotFoundError\u001b[0m                       Traceback (most recent call last)\nCell \u001b[1;32mIn[57], line 1\u001b[0m\n\u001b[1;32m----> 1\u001b[0m \u001b[38;5;28;01mfrom\u001b[39;00m\u001b[38;5;250m \u001b[39m\u001b[38;5;21;01mlangchain_chroma\u001b[39;00m\u001b[38;5;250m \u001b[39m\u001b[38;5;28;01mimport\u001b[39;00m Chroma\n\u001b[0;32m      3\u001b[0m \u001b[38;5;66;03m# create empty vector DB\u001b[39;00m\n\u001b[0;32m      4\u001b[0m chroma_db \u001b[38;5;241m=\u001b[39m Chroma(collection_name\u001b[38;5;241m=\u001b[39m\u001b[38;5;124m'\u001b[39m\u001b[38;5;124mhistory_db\u001b[39m\u001b[38;5;124m'\u001b[39m,\n\u001b[0;32m      5\u001b[0m                    embedding_function\u001b[38;5;241m=\u001b[39mopenai_embed_model)\n\n\u001b[1;31mModuleNotFoundError\u001b[0m: No module named 'langchain_chroma'",
       "errorSummary": "<span class='ansi-red-fg'>ModuleNotFoundError</span>: No module named 'langchain_chroma'",
       "errorTraceType": "ansi",
       "metadata": {},
       "type": "ipynbError"
      }
     },
     "output_type": "display_data"
    }
   ],
   "source": [
    "from langchain_chroma import Chroma\n",
    "\n",
    "# create empty vector DB\n",
    "chroma_db = Chroma(collection_name='history_db',\n",
    "                   embedding_function=openai_embed_model)"
   ]
  },
  {
   "cell_type": "code",
   "execution_count": 0,
   "metadata": {
    "application/vnd.databricks.v1+cell": {
     "cellMetadata": {},
     "inputWidgets": {},
     "nuid": "fe41c39b-4939-485e-9219-59126bf4577b",
     "showTitle": false,
     "tableResultSettingsMap": {},
     "title": ""
    },
    "id": "IquTZdMN8nb0"
   },
   "outputs": [
    {
     "name": "stderr",
     "output_type": "stream",
     "text": [
      "/tmp/ipykernel_633820/573889585.py:18: LangChainDeprecationWarning: Please see the migration guide at: https://python.langchain.com/docs/versions/migrating_memory/\n",
      "  memory = VectorStoreRetrieverMemory(retriever=retriever, return_messages=True)\n"
     ]
    }
   ],
   "source": [
    "from langchain_core.prompts import ChatPromptTemplate, MessagesPlaceholder\n",
    "from langchain.memory import VectorStoreRetrieverMemory\n",
    "from langchain.schema.runnable import RunnablePassthrough, RunnableLambda\n",
    "\n",
    "SYS_PROMPT = \"\"\"Act as a helpful assistant and give brief answers\"\"\"\n",
    "prompt = ChatPromptTemplate.from_messages(\n",
    "    [\n",
    "        (\"system\", SYS_PROMPT),\n",
    "        MessagesPlaceholder(variable_name=\"history\"),\n",
    "        (\"human\", \"{query}\"),\n",
    "    ]\n",
    ")\n",
    "\n",
    "# load 2 most similar conversation messages from vector db history for each new message \\ prompt\n",
    "# this uses cosine embedding similarity to load the top 2 similar messgages to the input prompt \\ query\n",
    "retriever = chroma_db.as_retriever(search_type=\"similarity\",\n",
    "                                   search_kwargs={\"k\": 2})\n",
    "memory = VectorStoreRetrieverMemory(retriever=retriever, return_messages=True)\n",
    "\n",
    "# creating our conversation chain now\n",
    "def get_memory_messages(query):\n",
    "    return [memory.load_memory_variables(query)['history']]\n",
    "\n",
    "conversation_chain = (\n",
    "    RunnablePassthrough.assign(\n",
    "        history=RunnableLambda(get_memory_messages)\n",
    "    ) # sends current query (input by user at runtime) and history messages to next step\n",
    "      |\n",
    "    prompt # creates prompt using the previous two variables\n",
    "      |\n",
    "    chatgpt # generates response using the prompt from previous step\n",
    ")"
   ]
  },
  {
   "cell_type": "code",
   "execution_count": 0,
   "metadata": {
    "application/vnd.databricks.v1+cell": {
     "cellMetadata": {},
     "inputWidgets": {},
     "nuid": "0c304414-3015-49b1-ad67-bc2aec080ac9",
     "showTitle": false,
     "tableResultSettingsMap": {},
     "title": ""
    },
    "id": "VlBEB4DIGW83"
   },
   "outputs": [
    {
     "name": "stdout",
     "output_type": "stream",
     "text": [
      "- Artificial Intelligence (AI) is the simulation of human intelligence processes by machines, allowing them to perform tasks such as learning, reasoning, and problem-solving.\n",
      "- AI is applied in various fields, including healthcare, finance, autonomous vehicles, and customer service, enhancing efficiency and decision-making.\n"
     ]
    }
   ],
   "source": [
    "query = {'query': 'Tell me about AI'}\n",
    "response = conversation_chain.invoke(query)\n",
    "memory.save_context(query, {\"output\": response.content}) # remember to save your current conversation in memory\n",
    "print(response.content)"
   ]
  },
  {
   "cell_type": "code",
   "execution_count": 0,
   "metadata": {
    "application/vnd.databricks.v1+cell": {
     "cellMetadata": {},
     "inputWidgets": {},
     "nuid": "f1e9c5cd-3c3d-4696-a685-e963abdaf401",
     "showTitle": false,
     "tableResultSettingsMap": {},
     "title": ""
    },
    "id": "hSeAY7pZBqlN"
   },
   "outputs": [
    {
     "name": "stdout",
     "output_type": "stream",
     "text": [
      "- Deep learning is a subset of machine learning that utilizes neural networks with multiple layers to analyze and interpret complex data patterns.\n",
      "- It is widely used in applications such as image and speech recognition, natural language processing, and medical diagnosis, significantly improving accuracy and performance.\n"
     ]
    }
   ],
   "source": [
    "query = {'query': 'What about deep learning'}\n",
    "response = conversation_chain.invoke(query)\n",
    "memory.save_context(query, {\"output\": response.content}) # remember to save your current conversation in memory\n",
    "print(response.content)"
   ]
  },
  {
   "cell_type": "code",
   "execution_count": 0,
   "metadata": {
    "application/vnd.databricks.v1+cell": {
     "cellMetadata": {},
     "inputWidgets": {},
     "nuid": "8f3c90bf-b984-41f9-bb39-8ea6ac705df5",
     "showTitle": false,
     "tableResultSettingsMap": {},
     "title": ""
    },
    "id": "rH-gVRxXBkQc"
   },
   "outputs": [
    {
     "name": "stdout",
     "output_type": "stream",
     "text": [
      "The fastest animal in the world is the peregrine falcon, which can reach speeds over 240 mph (386 km/h) during its hunting stoop (high-speed dive). On land, the cheetah holds the record, capable of sprinting up to 60-70 mph (97-113 km/h) in short bursts.\n"
     ]
    }
   ],
   "source": [
    "query = {'query': 'Tell me about the fastest animal in the world in 2 lines'}\n",
    "response = conversation_chain.invoke(query)\n",
    "memory.save_context(query, {\"output\": response.content}) # remember to save your current conversation in memory\n",
    "print(response.content)"
   ]
  },
  {
   "cell_type": "code",
   "execution_count": 0,
   "metadata": {
    "application/vnd.databricks.v1+cell": {
     "cellMetadata": {},
     "inputWidgets": {},
     "nuid": "474eb6f0-deae-4d73-a6d7-78b5590c0482",
     "showTitle": false,
     "tableResultSettingsMap": {},
     "title": ""
    },
    "id": "VPkUBjZYEnrh"
   },
   "outputs": [
    {
     "name": "stdout",
     "output_type": "stream",
     "text": [
      "The cheetah is the fastest land animal, capable of sprinting at speeds of 60-70 mph (97-113 km/h) in short bursts covering distances up to 1,500 feet (460 meters). It is known for its incredible acceleration and agility, allowing it to catch prey quickly.\n"
     ]
    }
   ],
   "source": [
    "query = {'query': 'What about the cheetah?'}\n",
    "response = conversation_chain.invoke(query)\n",
    "memory.save_context(query, {\"output\": response.content}) # remember to save your current conversation in memory\n",
    "print(response.content)"
   ]
  },
  {
   "cell_type": "markdown",
   "metadata": {
    "application/vnd.databricks.v1+cell": {
     "cellMetadata": {},
     "inputWidgets": {},
     "nuid": "93ae9d53-e0f6-4dd4-9112-a0fd0e2e9a62",
     "showTitle": false,
     "tableResultSettingsMap": {},
     "title": ""
    },
    "id": "f-8cs1yFG8LY"
   },
   "source": [
    "Now for a new query around machine learning even if the most recent conversation messages have been about animals, it uses the vector databases to load the last 2 historical conversations which are closest to the current question in terms of semantic similarity"
   ]
  },
  {
   "cell_type": "code",
   "execution_count": 0,
   "metadata": {
    "application/vnd.databricks.v1+cell": {
     "cellMetadata": {},
     "inputWidgets": {},
     "nuid": "6d01e9c9-ae9e-4c32-83ec-16d7e93c404b",
     "showTitle": false,
     "tableResultSettingsMap": {},
     "title": ""
    },
    "id": "UkMDLlqdGmhW"
   },
   "outputs": [
    {
     "name": "stdout",
     "output_type": "stream",
     "text": [
      "[SystemMessage(content='The human asks the AI to explain artificial intelligence in two bullet points. The AI defines artificial intelligence as the simulation of human intelligence processes by machines, enabling tasks like learning and problem-solving, and highlights its applications in fields such as healthcare, finance, autonomous vehicles, and customer service, which enhance efficiency and decision-making. The human then requests a similar explanation for deep learning, and the AI describes deep learning as a subset of machine learning that uses neural networks with many layers to analyze complex data patterns, enabling tasks like image and speech recognition, and notes its applications in natural language processing, autonomous systems, and medical diagnosis, significantly improving accuracy and performance in these areas. The human further asks about AI, and the AI reiterates that artificial intelligence is the simulation of human intelligence processes by machines, allowing them to perform tasks such as learning, reasoning, and problem-solving, and emphasizes its applications across various fields, enhancing efficiency and decision-making. The human then inquires specifically about deep learning again, and the AI summarizes that deep learning is a subset of machine learning utilizing neural networks with multiple layers to analyze complex data patterns, widely used in applications like image and speech recognition, natural language processing, and medical diagnosis, significantly improving accuracy and performance. Finally, the human asks about the fastest animal in the world, and the AI responds that the peregrine falcon is the fastest, reaching speeds over 240 mph during its hunting dive, while the cheetah holds the land speed record, sprinting up to 60-70 mph in short bursts. The human then asks about the cheetah, and the AI explains that the cheetah is the fastest land animal, capable of sprinting at speeds of 60-70 mph in short bursts covering distances up to 1,500 feet, known for its incredible acceleration and agility to catch prey quickly.', additional_kwargs={}, response_metadata={})]\n"
     ]
    }
   ],
   "source": [
    "print(memory.load_memory_variables({'query': 'What about machine learning?'})['history'])"
   ]
  },
  {
   "cell_type": "code",
   "execution_count": 0,
   "metadata": {
    "application/vnd.databricks.v1+cell": {
     "cellMetadata": {},
     "inputWidgets": {},
     "nuid": "19c311f5-cee0-494e-87d5-4ee2185db3f2",
     "showTitle": false,
     "tableResultSettingsMap": {},
     "title": ""
    },
    "id": "1KZx6U4PGi9m"
   },
   "outputs": [
    {
     "name": "stdout",
     "output_type": "stream",
     "text": [
      "Machine learning is a subset of artificial intelligence that focuses on the development of algorithms that allow computers to learn from and make predictions or decisions based on data. It involves training models on datasets to identify patterns and improve performance over time without being explicitly programmed for specific tasks. Machine learning is widely used in applications like recommendation systems, fraud detection, and predictive analytics.\n"
     ]
    }
   ],
   "source": [
    "query = {'query': 'What about machine learning?'}\n",
    "response = conversation_chain.invoke(query)\n",
    "memory.save_context(query, {\"output\": response.content}) # remember to save your current conversation in memory\n",
    "print(response.content)"
   ]
  },
  {
   "cell_type": "markdown",
   "metadata": {
    "application/vnd.databricks.v1+cell": {
     "cellMetadata": {},
     "inputWidgets": {},
     "nuid": "57b6ec35-590f-464a-8ab5-c4aa80ffcac8",
     "showTitle": false,
     "tableResultSettingsMap": {},
     "title": ""
    },
    "id": "Bqb1PyNFPTwd"
   },
   "source": [
    "### Multi-user Conversation Chains with ChatMessageHistory\n",
    "\n",
    "The concept of `ChatHistory` refers to a class in LangChain which can be used to wrap an arbitrary chain. This `ChatHistory` will keep track of inputs and outputs of the underlying chain, and append them as messages to a message database. Future interactions will then load those messages and pass them into the chain as part of the input.\n",
    "\n",
    "The beauty of `ChatMessageHistory` is that we can store separate conversation histories per user or session which is often the need for real-world chatbots which will be accessed by many users at the same time.\n",
    "\n",
    "We use a `get_session_history` function which is expected to take in a `session_id` and return a Message History object. Everything is stored in memory. This `session_id` is used to distinguish between separate conversations, and should be passed in as part of the config when calling the new chain"
   ]
  },
  {
   "cell_type": "code",
   "execution_count": 0,
   "metadata": {
    "application/vnd.databricks.v1+cell": {
     "cellMetadata": {},
     "inputWidgets": {},
     "nuid": "551c6c25-d6ef-4c7c-b1c1-2037f7e45754",
     "showTitle": false,
     "tableResultSettingsMap": {},
     "title": ""
    },
    "id": "zNT2eLWjPWtf"
   },
   "outputs": [],
   "source": [
    "from langchain_community.chat_message_histories import ChatMessageHistory\n",
    "from langchain_core.chat_history import BaseChatMessageHistory\n",
    "from langchain_core.runnables.history import RunnableWithMessageHistory\n",
    "from langchain_core.prompts import ChatPromptTemplate, MessagesPlaceholder\n",
    "\n",
    "# used to retrieve conversation history from memory\n",
    "# based on a specific user or session ID\n",
    "history_store = {}\n",
    "def get_session_history(session_id):\n",
    "    if session_id not in history_store:\n",
    "        history_store[session_id] = ChatMessageHistory()\n",
    "    return history_store[session_id]\n",
    "\n",
    "# prompt to load in history and current input from the user\n",
    "prompt_template = ChatPromptTemplate.from_messages(\n",
    "    [\n",
    "        (\"system\", \"Act as a helpful AI Assistant\"),\n",
    "        MessagesPlaceholder(variable_name=\"history\"),\n",
    "        (\"human\", \"{human_input}\"),\n",
    "    ]\n",
    ")\n",
    "\n",
    "# create a basic LLM Chain\n",
    "llm_chain = (prompt_template\n",
    "                |\n",
    "             chatgpt)\n",
    "\n",
    "# create a conversation chain which can load memory based on specific user or session id\n",
    "conv_chain = RunnableWithMessageHistory(\n",
    "    llm_chain,\n",
    "    get_session_history,\n",
    "    input_messages_key=\"human_input\",\n",
    "    history_messages_key=\"history\",\n",
    ")\n",
    "\n",
    "# create a utility function to take in current user input prompt and their session ID\n",
    "# streams result live back to the user from the LLM\n",
    "def chat_with_llm(prompt: str, session_id: str):\n",
    "    for chunk in conv_chain.stream({\"human_input\": prompt},\n",
    "                                   {'configurable': { 'session_id': session_id}}):\n",
    "        print(chunk.content, end=\"\")"
   ]
  },
  {
   "cell_type": "markdown",
   "metadata": {
    "application/vnd.databricks.v1+cell": {
     "cellMetadata": {},
     "inputWidgets": {},
     "nuid": "e32b2f98-a73b-4308-93d6-9c3ccb2b8047",
     "showTitle": false,
     "tableResultSettingsMap": {},
     "title": ""
    },
    "id": "LNg8YkwyvXPS"
   },
   "source": [
    "Test conversation chain for user 1"
   ]
  },
  {
   "cell_type": "code",
   "execution_count": 0,
   "metadata": {
    "application/vnd.databricks.v1+cell": {
     "cellMetadata": {},
     "inputWidgets": {},
     "nuid": "1f0a10ea-9e7a-45f1-bdba-09a0008305a2",
     "showTitle": false,
     "tableResultSettingsMap": {},
     "title": ""
    },
    "id": "-34zIxbmSSCr"
   },
   "outputs": [
    {
     "name": "stdout",
     "output_type": "stream",
     "text": [
      "Sure, Bob! Here are three key points about AI:\n",
      "\n",
      "1. **Definition and Purpose**: Artificial Intelligence (AI) refers to the simulation of human intelligence in machines that are programmed to think and learn. Its primary purpose is to perform tasks that typically require human intelligence, such as problem-solving, understanding natural language, and recognizing patterns.\n",
      "\n",
      "2. **Types of AI**: AI can be categorized into two main types: Narrow AI, which is designed for specific tasks (like virtual assistants or recommendation systems), and General AI, which aims to understand and reason across a wide range of tasks, similar to human cognitive abilities (though this is still largely theoretical).\n",
      "\n",
      "3. **Applications**: AI is used in various fields, including healthcare (for diagnostics and personalized medicine), finance (for fraud detection and algorithmic trading), transportation (in autonomous vehicles), and customer service (through chatbots and virtual agents), among many others."
     ]
    }
   ],
   "source": [
    "user_id = 'bob123'\n",
    "prompt = \"Hi I am Bob, can you explain AI in 3 bullet points?\"\n",
    "chat_with_llm(prompt, user_id)"
   ]
  },
  {
   "cell_type": "code",
   "execution_count": 0,
   "metadata": {
    "application/vnd.databricks.v1+cell": {
     "cellMetadata": {},
     "inputWidgets": {},
     "nuid": "b29058cb-b1f3-4282-9e48-da765ecfd93d",
     "showTitle": false,
     "tableResultSettingsMap": {},
     "title": ""
    },
    "id": "trsi1b4vSwaB"
   },
   "outputs": [
    {
     "name": "stdout",
     "output_type": "stream",
     "text": [
      "Of course, Bob! Here are three key points about deep learning:\n",
      "\n",
      "1. **Definition and Structure**: Deep learning is a subset of machine learning that uses neural networks with many layers (hence \"deep\") to model complex patterns in large datasets. These neural networks are inspired by the structure and function of the human brain.\n",
      "\n",
      "2. **Learning Process**: Deep learning algorithms learn from vast amounts of data through a process called training, where they adjust their internal parameters to minimize the difference between their predictions and the actual outcomes. This allows them to automatically extract features and improve their performance over time.\n",
      "\n",
      "3. **Applications**: Deep learning has led to significant advancements in various fields, including image and speech recognition, natural language processing, and game playing (like AlphaGo). It powers technologies such as facial recognition systems, language translation services, and self-driving cars."
     ]
    }
   ],
   "source": [
    "prompt = \"Now do the same for deep learning\"\n",
    "chat_with_llm(prompt, user_id)"
   ]
  },
  {
   "cell_type": "code",
   "execution_count": 0,
   "metadata": {
    "application/vnd.databricks.v1+cell": {
     "cellMetadata": {},
     "inputWidgets": {},
     "nuid": "55515c57-43df-4d11-8dac-52ef8263c5cd",
     "showTitle": false,
     "tableResultSettingsMap": {},
     "title": ""
    },
    "id": "4uwXCxqTSzBT"
   },
   "outputs": [
    {
     "name": "stdout",
     "output_type": "stream",
     "text": [
      "Certainly! Here’s a brief summary of what we’ve discussed so far in bullet points:\n",
      "\n",
      "### Artificial Intelligence (AI)\n",
      "- **Definition and Purpose**: AI simulates human intelligence in machines to perform tasks that require cognitive functions.\n",
      "- **Types of AI**: Includes Narrow AI (specific tasks) and General AI (broad cognitive abilities, mostly theoretical).\n",
      "- **Applications**: Used in healthcare, finance, transportation, and customer service, among other fields.\n",
      "\n",
      "### Deep Learning\n",
      "- **Definition and Structure**: A subset of machine learning using deep neural networks to model complex patterns in data.\n",
      "- **Learning Process**: Involves training on large datasets to automatically extract features and improve predictions.\n",
      "- **Applications**: Powers advancements in image/speech recognition, natural language processing, and technologies like facial recognition and self-driving cars."
     ]
    }
   ],
   "source": [
    "prompt = \"Discuss briefly what have we discussed so far is bullet points?\"\n",
    "chat_with_llm(prompt, user_id)"
   ]
  },
  {
   "cell_type": "markdown",
   "metadata": {
    "application/vnd.databricks.v1+cell": {
     "cellMetadata": {},
     "inputWidgets": {},
     "nuid": "c4c6cf58-da71-406c-a218-b52638551d79",
     "showTitle": false,
     "tableResultSettingsMap": {},
     "title": ""
    },
    "id": "mbU0RS9WvaUo"
   },
   "source": [
    "Now test conversation chain for user 2"
   ]
  },
  {
   "cell_type": "code",
   "execution_count": 0,
   "metadata": {
    "application/vnd.databricks.v1+cell": {
     "cellMetadata": {},
     "inputWidgets": {},
     "nuid": "da0f1bac-f428-4d1f-af31-c7d4fbdb0b6d",
     "showTitle": false,
     "tableResultSettingsMap": {},
     "title": ""
    },
    "id": "7opAjYZTTi_4"
   },
   "outputs": [
    {
     "name": "stdout",
     "output_type": "stream",
     "text": [
      "Sure! Here are two key points about LLMs (Large Language Models):\n",
      "\n",
      "- **Definition**: LLMs are advanced artificial intelligence models designed to understand, generate, and manipulate human language by processing vast amounts of text data, enabling them to perform tasks like translation, summarization, and conversation.\n",
      "\n",
      "- **Architecture**: They typically use deep learning techniques, particularly transformer architectures, which allow them to capture complex patterns and relationships in language, making them highly effective for various natural language processing applications."
     ]
    }
   ],
   "source": [
    "user_id = 'james007'\n",
    "prompt = \"Hi can you explain what is an LLM in 2 bullet points?\"\n",
    "chat_with_llm(prompt, user_id)"
   ]
  },
  {
   "cell_type": "code",
   "execution_count": 0,
   "metadata": {
    "application/vnd.databricks.v1+cell": {
     "cellMetadata": {},
     "inputWidgets": {},
     "nuid": "d1a36948-e6c3-4315-8691-d661f2758434",
     "showTitle": false,
     "tableResultSettingsMap": {},
     "title": ""
    },
    "id": "zWP5yyElULYP"
   },
   "outputs": [
    {
     "name": "stdout",
     "output_type": "stream",
     "text": [
      "Got it! Here’s a refined explanation of LLMs in the context of AI:\n",
      "\n",
      "- **Large Language Models (LLMs)**: These are AI models that are trained on extensive datasets to understand and generate human-like text. They leverage deep learning techniques to predict the next word in a sentence, enabling them to perform a wide range of language-related tasks.\n",
      "\n",
      "- **Applications**: LLMs are used in various applications, including chatbots, content generation, language translation, and sentiment analysis, making them valuable tools in fields like customer service, education, and creative writing."
     ]
    }
   ],
   "source": [
    "prompt = \"Actually I meant in the context of AI?\"\n",
    "chat_with_llm(prompt, user_id)"
   ]
  },
  {
   "cell_type": "code",
   "execution_count": 0,
   "metadata": {
    "application/vnd.databricks.v1+cell": {
     "cellMetadata": {},
     "inputWidgets": {},
     "nuid": "e7856473-db6c-4231-87b7-b0d596d82526",
     "showTitle": false,
     "tableResultSettingsMap": {},
     "title": ""
    },
    "id": "spIcYAS7Ud5q"
   },
   "outputs": [
    {
     "name": "stdout",
     "output_type": "stream",
     "text": [
      "We discussed Large Language Models (LLMs) in the context of AI, highlighting two main points: \n",
      "\n",
      "1. LLMs are advanced AI models trained on large datasets to understand and generate human-like text, utilizing deep learning techniques.\n",
      "2. They have diverse applications, including chatbots, content generation, language translation, and sentiment analysis, making them useful in various fields."
     ]
    }
   ],
   "source": [
    "prompt = \"Summarize briefly what we have discussed so far?\"\n",
    "chat_with_llm(prompt, user_id)"
   ]
  },
  {
   "cell_type": "code",
   "execution_count": 0,
   "metadata": {
    "application/vnd.databricks.v1+cell": {
     "cellMetadata": {},
     "inputWidgets": {},
     "nuid": "c23c63e5-4da5-4d7f-8ffb-3742f696deab",
     "showTitle": false,
     "tableResultSettingsMap": {},
     "title": ""
    },
    "id": "PDOoqws52yuZ"
   },
   "outputs": [
    {
     "name": "stdout",
     "output_type": "stream",
     "text": [
      "Sure! Here’s a concise summary of our discussion in bullet points:\n",
      "\n",
      "### Summary of Discussion\n",
      "- **Artificial Intelligence (AI)**:\n",
      "  - Simulates human intelligence in machines for cognitive tasks.\n",
      "  - Includes Narrow AI (specific tasks) and General AI (theoretical broad abilities).\n",
      "  - Applications span healthcare, finance, transportation, and customer service.\n",
      "\n",
      "- **Deep Learning**:\n",
      "  - A subset of machine learning using deep neural networks to analyze complex data.\n",
      "  - Involves training on large datasets to enhance feature extraction and predictions.\n",
      "  - Applications include image/speech recognition, natural language processing, and technologies like facial recognition and autonomous vehicles."
     ]
    }
   ],
   "source": [
    "user_id = 'bob123'\n",
    "prompt = \"Discuss briefly what have we discussed so far is bullet points?\"\n",
    "chat_with_llm(prompt, user_id)"
   ]
  },
  {
   "cell_type": "markdown",
   "metadata": {
    "application/vnd.databricks.v1+cell": {
     "cellMetadata": {},
     "inputWidgets": {},
     "nuid": "d1a208a4-70b9-4aa7-a593-c593584ab46f",
     "showTitle": false,
     "tableResultSettingsMap": {},
     "title": ""
    },
    "id": "fm6pZinBV4Q1"
   },
   "source": [
    "### Multi-user Window-based Conversation Chains with persistence - SQLChatMessageHistory\n",
    "\n",
    "The beauty of `SQLChatMessageHistory` is that we can store separate conversation histories per user or session which is often the need for real-world chatbots which will be accessed by many users at the same time. Instead of in-memory we can store it in a SQL database which can be used to store a lot of conversations.\n",
    "\n",
    "We use a `get_session_history` function which is expected to take in a `session_id` and return a Message History object. Everything is stored in a SQL database. This `session_id` is used to distinguish between separate conversations, and should be passed in as part of the config when calling the new chain\n",
    "\n",
    "We also use a `memory_buffer_window` function to only use the top-K last historical conversations before sending it to the LLM, basically our own implementation of `ConversationBufferWindowMemory`"
   ]
  },
  {
   "cell_type": "code",
   "execution_count": 0,
   "metadata": {
    "application/vnd.databricks.v1+cell": {
     "cellMetadata": {},
     "inputWidgets": {},
     "nuid": "21fe8df7-2d29-4a0f-88b9-1a96e92d64a1",
     "showTitle": false,
     "tableResultSettingsMap": {},
     "title": ""
    },
    "id": "tLdc_EEzWSKG"
   },
   "outputs": [],
   "source": [
    "# removes the memory database file - usually not needed\n",
    "# you can run this only when you want to remove all conversation histories\n",
    "!rm memory.db"
   ]
  },
  {
   "cell_type": "code",
   "execution_count": 0,
   "metadata": {
    "application/vnd.databricks.v1+cell": {
     "cellMetadata": {},
     "inputWidgets": {},
     "nuid": "a3656c90-3455-4858-8b6f-a14088ad5677",
     "showTitle": false,
     "tableResultSettingsMap": {},
     "title": ""
    },
    "id": "J-Qam16QUgkj"
   },
   "outputs": [],
   "source": [
    "from langchain_community.chat_message_histories import SQLChatMessageHistory\n",
    "from langchain_core.chat_history import BaseChatMessageHistory\n",
    "from langchain_core.runnables.history import RunnableWithMessageHistory\n",
    "from langchain_core.prompts import ChatPromptTemplate, MessagesPlaceholder\n",
    "from langchain_core.runnables import RunnablePassthrough\n",
    "\n",
    "# used to retrieve conversation history from database\n",
    "# based on a specific user or session ID\n",
    "def get_session_history_db(session_id):\n",
    "    return SQLChatMessageHistory(session_id, \"sqlite:///memory.db\")\n",
    "\n",
    "# prompt to load in history and current input from the user\n",
    "prompt_template = ChatPromptTemplate.from_messages(\n",
    "    [\n",
    "        (\"system\", \"Act as a helpful AI Assistant\"),\n",
    "        MessagesPlaceholder(variable_name=\"history\"),\n",
    "        (\"human\", \"{human_input}\"),\n",
    "    ]\n",
    ")\n",
    "\n",
    "# create a memory buffer window function to return the last K conversations\n",
    "def memory_buffer_window(messages, k=2):\n",
    "    return messages[-(k+1):]\n",
    "\n",
    "# create a basic LLM Chain which only sends the last K conversations per user\n",
    "llm_chain = (\n",
    "    RunnablePassthrough.assign(history=lambda x: memory_buffer_window(x[\"history\"]))\n",
    "      |\n",
    "    prompt_template\n",
    "      |\n",
    "    chatgpt\n",
    ")"
   ]
  },
  {
   "cell_type": "code",
   "execution_count": 0,
   "metadata": {
    "application/vnd.databricks.v1+cell": {
     "cellMetadata": {},
     "inputWidgets": {},
     "nuid": "17a9d7fc-b325-4d69-a8dd-00f93f7a0ad9",
     "showTitle": false,
     "tableResultSettingsMap": {},
     "title": ""
    },
    "id": "GKepk9DBrRNS"
   },
   "outputs": [],
   "source": [
    "# create a conversation chain which can load memory based on specific user or session id\n",
    "conv_chain = RunnableWithMessageHistory(\n",
    "    llm_chain,\n",
    "    get_session_history_db,\n",
    "    input_messages_key=\"human_input\",\n",
    "    history_messages_key=\"history\",\n",
    ")\n",
    "\n",
    "# create a utility function to take in current user input prompt and their session ID\n",
    "# streams result live back to the user from the LLM\n",
    "def chat_with_llm(prompt: str, session_id: str):\n",
    "    for chunk in conv_chain.stream({\"human_input\": prompt},\n",
    "                                   {'configurable': { 'session_id': session_id}}):\n",
    "        print(chunk.content, end=\"\")"
   ]
  },
  {
   "cell_type": "markdown",
   "metadata": {
    "application/vnd.databricks.v1+cell": {
     "cellMetadata": {},
     "inputWidgets": {},
     "nuid": "12fdee0c-888a-4160-9a20-0036b100d258",
     "showTitle": false,
     "tableResultSettingsMap": {},
     "title": ""
    },
    "id": "gkPyZbTnxBSY"
   },
   "source": [
    "Test conversation chain for user 1"
   ]
  },
  {
   "cell_type": "code",
   "execution_count": 0,
   "metadata": {
    "application/vnd.databricks.v1+cell": {
     "cellMetadata": {},
     "inputWidgets": {},
     "nuid": "c5eb8d1b-7891-4858-82a0-2dcf872799e3",
     "showTitle": false,
     "tableResultSettingsMap": {},
     "title": ""
    },
    "id": "ebkhHCjfWl0q"
   },
   "outputs": [
    {
     "name": "stderr",
     "output_type": "stream",
     "text": [
      "/home/santhosh/anaconda3/lib/python3.11/site-packages/langchain_core/runnables/history.py:608: LangChainDeprecationWarning: `connection_string` was deprecated in LangChain 0.2.2 and will be removed in 1.0. Use connection instead.\n",
      "  message_history = self.get_session_history(\n"
     ]
    },
    {
     "name": "stdout",
     "output_type": "stream",
     "text": [
      "The fastest animal in the world is the peregrine falcon. When in a dive, it can reach speeds of over 240 miles per hour (386 kilometers per hour). If you're considering speed in level flight, the Brazilian free-tailed bat holds the record, flying at speeds of around 99 miles per hour (160 kilometers per hour). For land animals, the cheetah is the fastest, capable of running speeds up to 60-70 miles per hour (97-113 kilometers per hour) in short bursts."
     ]
    }
   ],
   "source": [
    "user_id = 'jim001'\n",
    "prompt = \"Hi can you tell me which is the fastest animal?\"\n",
    "chat_with_llm(prompt, user_id)"
   ]
  },
  {
   "cell_type": "code",
   "execution_count": 0,
   "metadata": {
    "application/vnd.databricks.v1+cell": {
     "cellMetadata": {},
     "inputWidgets": {},
     "nuid": "d1ba43e2-4f6f-4573-a7f9-b41e61575990",
     "showTitle": false,
     "tableResultSettingsMap": {},
     "title": ""
    },
    "id": "cW6On1LasjYb"
   },
   "outputs": [
    {
     "name": "stdout",
     "output_type": "stream",
     "text": [
      "The slowest animal is often considered to be the three-toed sloth. It moves at an average speed of about 0.24 kilometers per hour (0.15 miles per hour) when climbing trees. In water, they can swim slightly faster, but they are still quite slow compared to many other animals. Another contender for the title of slowest animal is the garden snail, which moves at a speed of about 0.03 miles per hour (0.048 kilometers per hour). Both of these animals have adapted to their slow pace as part of their survival strategies."
     ]
    }
   ],
   "source": [
    "prompt = \"what about the slowest animal?\"\n",
    "chat_with_llm(prompt, user_id)"
   ]
  },
  {
   "cell_type": "code",
   "execution_count": 0,
   "metadata": {
    "application/vnd.databricks.v1+cell": {
     "cellMetadata": {},
     "inputWidgets": {},
     "nuid": "592f0519-a0c8-47ca-a729-68f99b9423df",
     "showTitle": false,
     "tableResultSettingsMap": {},
     "title": ""
    },
    "id": "gMY_wEU5soCL"
   },
   "outputs": [
    {
     "name": "stdout",
     "output_type": "stream",
     "text": [
      "The largest animal on Earth is the blue whale (*Balaenoptera musculus*). Blue whales can reach lengths of up to 100 feet (30 meters) or more and can weigh as much as 200 tons (approximately 181 metric tonnes). These magnificent marine mammals are not only the largest animals alive today but are also believed to be the largest animals to have ever existed on Earth, surpassing even the largest dinosaurs. Their immense size is supported by their diet, which primarily consists of tiny shrimp-like animals called krill."
     ]
    }
   ],
   "source": [
    "prompt = \"what about the largest animal?\"\n",
    "chat_with_llm(prompt, user_id)"
   ]
  },
  {
   "cell_type": "code",
   "execution_count": 0,
   "metadata": {
    "application/vnd.databricks.v1+cell": {
     "cellMetadata": {},
     "inputWidgets": {},
     "nuid": "61291a78-fbd8-4455-8960-b07fd39ea23d",
     "showTitle": false,
     "tableResultSettingsMap": {},
     "title": ""
    },
    "id": "UTQPpY8RWysk"
   },
   "outputs": [
    {
     "name": "stdout",
     "output_type": "stream",
     "text": [
      "Sure! Here are the topics we've discussed so far:\n",
      "\n",
      "- The slowest animal (three-toed sloth and garden snail)\n",
      "- The largest animal (blue whale)"
     ]
    }
   ],
   "source": [
    "prompt = \"what topics have we discussed, show briefly as bullet points\"\n",
    "chat_with_llm(prompt, user_id)"
   ]
  },
  {
   "cell_type": "markdown",
   "metadata": {
    "application/vnd.databricks.v1+cell": {
     "cellMetadata": {},
     "inputWidgets": {},
     "nuid": "50f726c5-7282-44ae-9128-3a77d1f00c36",
     "showTitle": false,
     "tableResultSettingsMap": {},
     "title": ""
    },
    "id": "qDLyOrajxD8i"
   },
   "source": [
    "Now test conversation chain for user 2"
   ]
  },
  {
   "cell_type": "code",
   "execution_count": 0,
   "metadata": {
    "application/vnd.databricks.v1+cell": {
     "cellMetadata": {},
     "inputWidgets": {},
     "nuid": "2c2af99c-8c3c-41af-8f2d-ec86a5c55107",
     "showTitle": false,
     "tableResultSettingsMap": {},
     "title": ""
    },
    "id": "YBe4sodJW9UL"
   },
   "outputs": [
    {
     "name": "stdout",
     "output_type": "stream",
     "text": [
      "Sure! Here are three simple points to explain AI to a child:\n",
      "\n",
      "1. **Smart Helpers**: AI is like a smart robot or computer that can help us with tasks, like answering questions or playing games, by learning from lots of information.\n",
      "\n",
      "2. **Learning from Experience**: Just like how you get better at something the more you practice, AI learns from examples and gets better at doing things over time.\n",
      "\n",
      "3. **Talking and Understanding**: AI can understand what we say and even talk back to us, kind of like having a conversation with a friend who knows a lot of things!"
     ]
    }
   ],
   "source": [
    "user_id = 'john005'\n",
    "prompt = \"Explain AI in 3 bullets to a child\"\n",
    "chat_with_llm(prompt, user_id)"
   ]
  },
  {
   "cell_type": "code",
   "execution_count": 0,
   "metadata": {
    "application/vnd.databricks.v1+cell": {
     "cellMetadata": {},
     "inputWidgets": {},
     "nuid": "80adb343-6966-46ac-ac3f-a0e7469a7022",
     "showTitle": false,
     "tableResultSettingsMap": {},
     "title": ""
    },
    "id": "ebV3Mt-vXG3U"
   },
   "outputs": [
    {
     "name": "stdout",
     "output_type": "stream",
     "text": [
      "Of course! Here are three simple points to explain Generative AI to a child:\n",
      "\n",
      "1. **Creative Robot**: Generative AI is like a creative robot that can make new things, like pictures, stories, or music, all by itself!\n",
      "\n",
      "2. **Learning from Examples**: It learns by looking at lots of examples, like reading many books or seeing many drawings, so it can create something new that’s similar but different.\n",
      "\n",
      "3. **Imagination in a Computer**: Just like you use your imagination to come up with fun ideas, Generative AI uses its \"imagination\" to invent cool stuff that we can enjoy!"
     ]
    }
   ],
   "source": [
    "prompt = \"Now do the same for Generative AI\"\n",
    "chat_with_llm(prompt, user_id)"
   ]
  },
  {
   "cell_type": "code",
   "execution_count": 0,
   "metadata": {
    "application/vnd.databricks.v1+cell": {
     "cellMetadata": {},
     "inputWidgets": {},
     "nuid": "6380cdc9-b0ed-4fbf-b199-4571c6d81c39",
     "showTitle": false,
     "tableResultSettingsMap": {},
     "title": ""
    },
    "id": "1sTqJOawtRqb"
   },
   "outputs": [
    {
     "name": "stdout",
     "output_type": "stream",
     "text": [
      "Sure! Here are three simple points to explain machine learning to a child:\n",
      "\n",
      "1. **Learning Like You**: Machine learning is when a computer learns from experience, just like you learn new things by practicing and trying again.\n",
      "\n",
      "2. **Finding Patterns**: It looks at lots of information to find patterns, like how you notice that the sky is blue during the day or that ice cream is cold and sweet.\n",
      "\n",
      "3. **Getting Better Over Time**: The more it practices, the better it gets at making decisions or predictions, like guessing what your favorite game is based on what you’ve played before!"
     ]
    }
   ],
   "source": [
    "prompt = \"Now do the same for machine learning\"\n",
    "chat_with_llm(prompt, user_id)"
   ]
  },
  {
   "cell_type": "code",
   "execution_count": 0,
   "metadata": {
    "application/vnd.databricks.v1+cell": {
     "cellMetadata": {},
     "inputWidgets": {},
     "nuid": "37a19dda-64b4-47c2-a371-f2fdaa30d325",
     "showTitle": false,
     "tableResultSettingsMap": {},
     "title": ""
    },
    "id": "Riyf6VhZXLEf"
   },
   "outputs": [
    {
     "name": "stdout",
     "output_type": "stream",
     "text": [
      "Sure! Here are the topics we've discussed so far:\n",
      "\n",
      "- **Generative AI**\n",
      "  - Creative robot that makes new things\n",
      "  - Learns from examples\n",
      "  - Uses imagination to invent cool stuff\n",
      "\n",
      "- **Machine Learning**\n",
      "  - Learning from experience like a person\n",
      "  - Finding patterns in information\n",
      "  - Improving over time with practice"
     ]
    }
   ],
   "source": [
    "prompt = \"what topics have we discussed, show briefly as bullet points\"\n",
    "chat_with_llm(prompt, user_id)"
   ]
  }
 ],
 "metadata": {
  "application/vnd.databricks.v1+notebook": {
   "computePreferences": null,
   "dashboards": [],
   "environmentMetadata": null,
   "language": "python",
   "notebookMetadata": {
    "pythonIndentUnit": 2
   },
   "notebookName": "M5 L3,4,5_Conversation_Chains_and_Memory_with_LCEL",
   "widgets": {}
  },
  "colab": {
   "provenance": []
  },
  "kernelspec": {
   "display_name": ".venv",
   "language": "python",
   "name": "python3"
  },
  "language_info": {
   "codemirror_mode": {
    "name": "ipython",
    "version": 3
   },
   "file_extension": ".py",
   "mimetype": "text/x-python",
   "name": "python",
   "nbconvert_exporter": "python",
   "pygments_lexer": "ipython3",
   "version": "3.11.6"
  }
 },
 "nbformat": 4,
 "nbformat_minor": 0
}
