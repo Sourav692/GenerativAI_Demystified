{
 "cells": [
  {
   "cell_type": "markdown",
   "metadata": {},
   "source": [
    "## Setup Env and Initial Imports"
   ]
  },
  {
   "cell_type": "code",
   "execution_count": 1,
   "metadata": {},
   "outputs": [
    {
     "name": "stdout",
     "output_type": "stream",
     "text": [
      "Requirement already satisfied: langchain==0.3.11 in /Users/sourav.banerjee/Documents/Github Codebase/GenerativAI_Demystified/.venv/lib/python3.11/site-packages (0.3.11)\n",
      "Requirement already satisfied: PyYAML>=5.3 in /Users/sourav.banerjee/Documents/Github Codebase/GenerativAI_Demystified/.venv/lib/python3.11/site-packages (from langchain==0.3.11) (6.0.2)\n",
      "Requirement already satisfied: SQLAlchemy<3,>=1.4 in /Users/sourav.banerjee/Documents/Github Codebase/GenerativAI_Demystified/.venv/lib/python3.11/site-packages (from langchain==0.3.11) (2.0.41)\n",
      "Requirement already satisfied: aiohttp<4.0.0,>=3.8.3 in /Users/sourav.banerjee/Documents/Github Codebase/GenerativAI_Demystified/.venv/lib/python3.11/site-packages (from langchain==0.3.11) (3.12.13)\n",
      "Requirement already satisfied: langchain-core<0.4.0,>=0.3.24 in /Users/sourav.banerjee/Documents/Github Codebase/GenerativAI_Demystified/.venv/lib/python3.11/site-packages (from langchain==0.3.11) (0.3.63)\n",
      "Requirement already satisfied: langchain-text-splitters<0.4.0,>=0.3.0 in /Users/sourav.banerjee/Documents/Github Codebase/GenerativAI_Demystified/.venv/lib/python3.11/site-packages (from langchain==0.3.11) (0.3.8)\n",
      "Requirement already satisfied: langsmith<0.3,>=0.1.17 in /Users/sourav.banerjee/Documents/Github Codebase/GenerativAI_Demystified/.venv/lib/python3.11/site-packages (from langchain==0.3.11) (0.2.11)\n",
      "Requirement already satisfied: numpy<2,>=1.22.4 in /Users/sourav.banerjee/Documents/Github Codebase/GenerativAI_Demystified/.venv/lib/python3.11/site-packages (from langchain==0.3.11) (1.26.4)\n",
      "Requirement already satisfied: pydantic<3.0.0,>=2.7.4 in /Users/sourav.banerjee/Documents/Github Codebase/GenerativAI_Demystified/.venv/lib/python3.11/site-packages (from langchain==0.3.11) (2.11.5)\n",
      "Requirement already satisfied: requests<3,>=2 in /Users/sourav.banerjee/Documents/Github Codebase/GenerativAI_Demystified/.venv/lib/python3.11/site-packages (from langchain==0.3.11) (2.32.3)\n",
      "Requirement already satisfied: tenacity!=8.4.0,<10,>=8.1.0 in /Users/sourav.banerjee/Documents/Github Codebase/GenerativAI_Demystified/.venv/lib/python3.11/site-packages (from langchain==0.3.11) (9.1.2)\n",
      "Requirement already satisfied: aiohappyeyeballs>=2.5.0 in /Users/sourav.banerjee/Documents/Github Codebase/GenerativAI_Demystified/.venv/lib/python3.11/site-packages (from aiohttp<4.0.0,>=3.8.3->langchain==0.3.11) (2.6.1)\n",
      "Requirement already satisfied: aiosignal>=1.1.2 in /Users/sourav.banerjee/Documents/Github Codebase/GenerativAI_Demystified/.venv/lib/python3.11/site-packages (from aiohttp<4.0.0,>=3.8.3->langchain==0.3.11) (1.3.2)\n",
      "Requirement already satisfied: attrs>=17.3.0 in /Users/sourav.banerjee/Documents/Github Codebase/GenerativAI_Demystified/.venv/lib/python3.11/site-packages (from aiohttp<4.0.0,>=3.8.3->langchain==0.3.11) (25.3.0)\n",
      "Requirement already satisfied: frozenlist>=1.1.1 in /Users/sourav.banerjee/Documents/Github Codebase/GenerativAI_Demystified/.venv/lib/python3.11/site-packages (from aiohttp<4.0.0,>=3.8.3->langchain==0.3.11) (1.7.0)\n",
      "Requirement already satisfied: multidict<7.0,>=4.5 in /Users/sourav.banerjee/Documents/Github Codebase/GenerativAI_Demystified/.venv/lib/python3.11/site-packages (from aiohttp<4.0.0,>=3.8.3->langchain==0.3.11) (6.5.1)\n",
      "Requirement already satisfied: propcache>=0.2.0 in /Users/sourav.banerjee/Documents/Github Codebase/GenerativAI_Demystified/.venv/lib/python3.11/site-packages (from aiohttp<4.0.0,>=3.8.3->langchain==0.3.11) (0.3.2)\n",
      "Requirement already satisfied: yarl<2.0,>=1.17.0 in /Users/sourav.banerjee/Documents/Github Codebase/GenerativAI_Demystified/.venv/lib/python3.11/site-packages (from aiohttp<4.0.0,>=3.8.3->langchain==0.3.11) (1.20.1)\n",
      "Requirement already satisfied: jsonpatch<2.0,>=1.33 in /Users/sourav.banerjee/Documents/Github Codebase/GenerativAI_Demystified/.venv/lib/python3.11/site-packages (from langchain-core<0.4.0,>=0.3.24->langchain==0.3.11) (1.33)\n",
      "Requirement already satisfied: packaging<25,>=23.2 in /Users/sourav.banerjee/Documents/Github Codebase/GenerativAI_Demystified/.venv/lib/python3.11/site-packages (from langchain-core<0.4.0,>=0.3.24->langchain==0.3.11) (24.2)\n",
      "Requirement already satisfied: typing-extensions>=4.7 in /Users/sourav.banerjee/Documents/Github Codebase/GenerativAI_Demystified/.venv/lib/python3.11/site-packages (from langchain-core<0.4.0,>=0.3.24->langchain==0.3.11) (4.13.2)\n",
      "Requirement already satisfied: jsonpointer>=1.9 in /Users/sourav.banerjee/Documents/Github Codebase/GenerativAI_Demystified/.venv/lib/python3.11/site-packages (from jsonpatch<2.0,>=1.33->langchain-core<0.4.0,>=0.3.24->langchain==0.3.11) (3.0.0)\n",
      "Requirement already satisfied: httpx<1,>=0.23.0 in /Users/sourav.banerjee/Documents/Github Codebase/GenerativAI_Demystified/.venv/lib/python3.11/site-packages (from langsmith<0.3,>=0.1.17->langchain==0.3.11) (0.28.1)\n",
      "Requirement already satisfied: orjson<4.0.0,>=3.9.14 in /Users/sourav.banerjee/Documents/Github Codebase/GenerativAI_Demystified/.venv/lib/python3.11/site-packages (from langsmith<0.3,>=0.1.17->langchain==0.3.11) (3.10.18)\n",
      "Requirement already satisfied: requests-toolbelt<2.0.0,>=1.0.0 in /Users/sourav.banerjee/Documents/Github Codebase/GenerativAI_Demystified/.venv/lib/python3.11/site-packages (from langsmith<0.3,>=0.1.17->langchain==0.3.11) (1.0.0)\n",
      "Requirement already satisfied: anyio in /Users/sourav.banerjee/Documents/Github Codebase/GenerativAI_Demystified/.venv/lib/python3.11/site-packages (from httpx<1,>=0.23.0->langsmith<0.3,>=0.1.17->langchain==0.3.11) (4.9.0)\n",
      "Requirement already satisfied: certifi in /Users/sourav.banerjee/Documents/Github Codebase/GenerativAI_Demystified/.venv/lib/python3.11/site-packages (from httpx<1,>=0.23.0->langsmith<0.3,>=0.1.17->langchain==0.3.11) (2025.4.26)\n",
      "Requirement already satisfied: httpcore==1.* in /Users/sourav.banerjee/Documents/Github Codebase/GenerativAI_Demystified/.venv/lib/python3.11/site-packages (from httpx<1,>=0.23.0->langsmith<0.3,>=0.1.17->langchain==0.3.11) (1.0.9)\n",
      "Requirement already satisfied: idna in /Users/sourav.banerjee/Documents/Github Codebase/GenerativAI_Demystified/.venv/lib/python3.11/site-packages (from httpx<1,>=0.23.0->langsmith<0.3,>=0.1.17->langchain==0.3.11) (3.10)\n",
      "Requirement already satisfied: h11>=0.16 in /Users/sourav.banerjee/Documents/Github Codebase/GenerativAI_Demystified/.venv/lib/python3.11/site-packages (from httpcore==1.*->httpx<1,>=0.23.0->langsmith<0.3,>=0.1.17->langchain==0.3.11) (0.16.0)\n",
      "Requirement already satisfied: annotated-types>=0.6.0 in /Users/sourav.banerjee/Documents/Github Codebase/GenerativAI_Demystified/.venv/lib/python3.11/site-packages (from pydantic<3.0.0,>=2.7.4->langchain==0.3.11) (0.7.0)\n",
      "Requirement already satisfied: pydantic-core==2.33.2 in /Users/sourav.banerjee/Documents/Github Codebase/GenerativAI_Demystified/.venv/lib/python3.11/site-packages (from pydantic<3.0.0,>=2.7.4->langchain==0.3.11) (2.33.2)\n",
      "Requirement already satisfied: typing-inspection>=0.4.0 in /Users/sourav.banerjee/Documents/Github Codebase/GenerativAI_Demystified/.venv/lib/python3.11/site-packages (from pydantic<3.0.0,>=2.7.4->langchain==0.3.11) (0.4.1)\n",
      "Requirement already satisfied: charset-normalizer<4,>=2 in /Users/sourav.banerjee/Documents/Github Codebase/GenerativAI_Demystified/.venv/lib/python3.11/site-packages (from requests<3,>=2->langchain==0.3.11) (3.4.2)\n",
      "Requirement already satisfied: urllib3<3,>=1.21.1 in /Users/sourav.banerjee/Documents/Github Codebase/GenerativAI_Demystified/.venv/lib/python3.11/site-packages (from requests<3,>=2->langchain==0.3.11) (2.4.0)\n",
      "Requirement already satisfied: sniffio>=1.1 in /Users/sourav.banerjee/Documents/Github Codebase/GenerativAI_Demystified/.venv/lib/python3.11/site-packages (from anyio->httpx<1,>=0.23.0->langsmith<0.3,>=0.1.17->langchain==0.3.11) (1.3.1)\n",
      "Requirement already satisfied: langchain-openai==0.2.12 in /Users/sourav.banerjee/Documents/Github Codebase/GenerativAI_Demystified/.venv/lib/python3.11/site-packages (0.2.12)\n",
      "Requirement already satisfied: langchain-core<0.4.0,>=0.3.21 in /Users/sourav.banerjee/Documents/Github Codebase/GenerativAI_Demystified/.venv/lib/python3.11/site-packages (from langchain-openai==0.2.12) (0.3.63)\n",
      "Requirement already satisfied: openai<2.0.0,>=1.55.3 in /Users/sourav.banerjee/Documents/Github Codebase/GenerativAI_Demystified/.venv/lib/python3.11/site-packages (from langchain-openai==0.2.12) (1.57.0)\n",
      "Requirement already satisfied: tiktoken<1,>=0.7 in /Users/sourav.banerjee/Documents/Github Codebase/GenerativAI_Demystified/.venv/lib/python3.11/site-packages (from langchain-openai==0.2.12) (0.9.0)\n",
      "Requirement already satisfied: langsmith<0.4,>=0.1.126 in /Users/sourav.banerjee/Documents/Github Codebase/GenerativAI_Demystified/.venv/lib/python3.11/site-packages (from langchain-core<0.4.0,>=0.3.21->langchain-openai==0.2.12) (0.2.11)\n",
      "Requirement already satisfied: tenacity!=8.4.0,<10.0.0,>=8.1.0 in /Users/sourav.banerjee/Documents/Github Codebase/GenerativAI_Demystified/.venv/lib/python3.11/site-packages (from langchain-core<0.4.0,>=0.3.21->langchain-openai==0.2.12) (9.1.2)\n",
      "Requirement already satisfied: jsonpatch<2.0,>=1.33 in /Users/sourav.banerjee/Documents/Github Codebase/GenerativAI_Demystified/.venv/lib/python3.11/site-packages (from langchain-core<0.4.0,>=0.3.21->langchain-openai==0.2.12) (1.33)\n",
      "Requirement already satisfied: PyYAML>=5.3 in /Users/sourav.banerjee/Documents/Github Codebase/GenerativAI_Demystified/.venv/lib/python3.11/site-packages (from langchain-core<0.4.0,>=0.3.21->langchain-openai==0.2.12) (6.0.2)\n",
      "Requirement already satisfied: packaging<25,>=23.2 in /Users/sourav.banerjee/Documents/Github Codebase/GenerativAI_Demystified/.venv/lib/python3.11/site-packages (from langchain-core<0.4.0,>=0.3.21->langchain-openai==0.2.12) (24.2)\n",
      "Requirement already satisfied: typing-extensions>=4.7 in /Users/sourav.banerjee/Documents/Github Codebase/GenerativAI_Demystified/.venv/lib/python3.11/site-packages (from langchain-core<0.4.0,>=0.3.21->langchain-openai==0.2.12) (4.13.2)\n",
      "Requirement already satisfied: pydantic>=2.7.4 in /Users/sourav.banerjee/Documents/Github Codebase/GenerativAI_Demystified/.venv/lib/python3.11/site-packages (from langchain-core<0.4.0,>=0.3.21->langchain-openai==0.2.12) (2.11.5)\n",
      "Requirement already satisfied: jsonpointer>=1.9 in /Users/sourav.banerjee/Documents/Github Codebase/GenerativAI_Demystified/.venv/lib/python3.11/site-packages (from jsonpatch<2.0,>=1.33->langchain-core<0.4.0,>=0.3.21->langchain-openai==0.2.12) (3.0.0)\n",
      "Requirement already satisfied: httpx<1,>=0.23.0 in /Users/sourav.banerjee/Documents/Github Codebase/GenerativAI_Demystified/.venv/lib/python3.11/site-packages (from langsmith<0.4,>=0.1.126->langchain-core<0.4.0,>=0.3.21->langchain-openai==0.2.12) (0.28.1)\n",
      "Requirement already satisfied: orjson<4.0.0,>=3.9.14 in /Users/sourav.banerjee/Documents/Github Codebase/GenerativAI_Demystified/.venv/lib/python3.11/site-packages (from langsmith<0.4,>=0.1.126->langchain-core<0.4.0,>=0.3.21->langchain-openai==0.2.12) (3.10.18)\n",
      "Requirement already satisfied: requests<3,>=2 in /Users/sourav.banerjee/Documents/Github Codebase/GenerativAI_Demystified/.venv/lib/python3.11/site-packages (from langsmith<0.4,>=0.1.126->langchain-core<0.4.0,>=0.3.21->langchain-openai==0.2.12) (2.32.3)\n",
      "Requirement already satisfied: requests-toolbelt<2.0.0,>=1.0.0 in /Users/sourav.banerjee/Documents/Github Codebase/GenerativAI_Demystified/.venv/lib/python3.11/site-packages (from langsmith<0.4,>=0.1.126->langchain-core<0.4.0,>=0.3.21->langchain-openai==0.2.12) (1.0.0)\n",
      "Requirement already satisfied: anyio in /Users/sourav.banerjee/Documents/Github Codebase/GenerativAI_Demystified/.venv/lib/python3.11/site-packages (from httpx<1,>=0.23.0->langsmith<0.4,>=0.1.126->langchain-core<0.4.0,>=0.3.21->langchain-openai==0.2.12) (4.9.0)\n",
      "Requirement already satisfied: certifi in /Users/sourav.banerjee/Documents/Github Codebase/GenerativAI_Demystified/.venv/lib/python3.11/site-packages (from httpx<1,>=0.23.0->langsmith<0.4,>=0.1.126->langchain-core<0.4.0,>=0.3.21->langchain-openai==0.2.12) (2025.4.26)\n",
      "Requirement already satisfied: httpcore==1.* in /Users/sourav.banerjee/Documents/Github Codebase/GenerativAI_Demystified/.venv/lib/python3.11/site-packages (from httpx<1,>=0.23.0->langsmith<0.4,>=0.1.126->langchain-core<0.4.0,>=0.3.21->langchain-openai==0.2.12) (1.0.9)\n",
      "Requirement already satisfied: idna in /Users/sourav.banerjee/Documents/Github Codebase/GenerativAI_Demystified/.venv/lib/python3.11/site-packages (from httpx<1,>=0.23.0->langsmith<0.4,>=0.1.126->langchain-core<0.4.0,>=0.3.21->langchain-openai==0.2.12) (3.10)\n",
      "Requirement already satisfied: h11>=0.16 in /Users/sourav.banerjee/Documents/Github Codebase/GenerativAI_Demystified/.venv/lib/python3.11/site-packages (from httpcore==1.*->httpx<1,>=0.23.0->langsmith<0.4,>=0.1.126->langchain-core<0.4.0,>=0.3.21->langchain-openai==0.2.12) (0.16.0)\n",
      "Requirement already satisfied: distro<2,>=1.7.0 in /Users/sourav.banerjee/Documents/Github Codebase/GenerativAI_Demystified/.venv/lib/python3.11/site-packages (from openai<2.0.0,>=1.55.3->langchain-openai==0.2.12) (1.9.0)\n",
      "Requirement already satisfied: jiter<1,>=0.4.0 in /Users/sourav.banerjee/Documents/Github Codebase/GenerativAI_Demystified/.venv/lib/python3.11/site-packages (from openai<2.0.0,>=1.55.3->langchain-openai==0.2.12) (0.10.0)\n",
      "Requirement already satisfied: sniffio in /Users/sourav.banerjee/Documents/Github Codebase/GenerativAI_Demystified/.venv/lib/python3.11/site-packages (from openai<2.0.0,>=1.55.3->langchain-openai==0.2.12) (1.3.1)\n",
      "Requirement already satisfied: tqdm>4 in /Users/sourav.banerjee/Documents/Github Codebase/GenerativAI_Demystified/.venv/lib/python3.11/site-packages (from openai<2.0.0,>=1.55.3->langchain-openai==0.2.12) (4.67.1)\n",
      "Requirement already satisfied: annotated-types>=0.6.0 in /Users/sourav.banerjee/Documents/Github Codebase/GenerativAI_Demystified/.venv/lib/python3.11/site-packages (from pydantic>=2.7.4->langchain-core<0.4.0,>=0.3.21->langchain-openai==0.2.12) (0.7.0)\n",
      "Requirement already satisfied: pydantic-core==2.33.2 in /Users/sourav.banerjee/Documents/Github Codebase/GenerativAI_Demystified/.venv/lib/python3.11/site-packages (from pydantic>=2.7.4->langchain-core<0.4.0,>=0.3.21->langchain-openai==0.2.12) (2.33.2)\n",
      "Requirement already satisfied: typing-inspection>=0.4.0 in /Users/sourav.banerjee/Documents/Github Codebase/GenerativAI_Demystified/.venv/lib/python3.11/site-packages (from pydantic>=2.7.4->langchain-core<0.4.0,>=0.3.21->langchain-openai==0.2.12) (0.4.1)\n",
      "Requirement already satisfied: charset-normalizer<4,>=2 in /Users/sourav.banerjee/Documents/Github Codebase/GenerativAI_Demystified/.venv/lib/python3.11/site-packages (from requests<3,>=2->langsmith<0.4,>=0.1.126->langchain-core<0.4.0,>=0.3.21->langchain-openai==0.2.12) (3.4.2)\n",
      "Requirement already satisfied: urllib3<3,>=1.21.1 in /Users/sourav.banerjee/Documents/Github Codebase/GenerativAI_Demystified/.venv/lib/python3.11/site-packages (from requests<3,>=2->langsmith<0.4,>=0.1.126->langchain-core<0.4.0,>=0.3.21->langchain-openai==0.2.12) (2.4.0)\n",
      "Requirement already satisfied: regex>=2022.1.18 in /Users/sourav.banerjee/Documents/Github Codebase/GenerativAI_Demystified/.venv/lib/python3.11/site-packages (from tiktoken<1,>=0.7->langchain-openai==0.2.12) (2024.11.6)\n",
      "Requirement already satisfied: langchain-community==0.3.11 in /Users/sourav.banerjee/Documents/Github Codebase/GenerativAI_Demystified/.venv/lib/python3.11/site-packages (0.3.11)\n",
      "Requirement already satisfied: PyYAML>=5.3 in /Users/sourav.banerjee/Documents/Github Codebase/GenerativAI_Demystified/.venv/lib/python3.11/site-packages (from langchain-community==0.3.11) (6.0.2)\n",
      "Requirement already satisfied: SQLAlchemy<3,>=1.4 in /Users/sourav.banerjee/Documents/Github Codebase/GenerativAI_Demystified/.venv/lib/python3.11/site-packages (from langchain-community==0.3.11) (2.0.41)\n",
      "Requirement already satisfied: aiohttp<4.0.0,>=3.8.3 in /Users/sourav.banerjee/Documents/Github Codebase/GenerativAI_Demystified/.venv/lib/python3.11/site-packages (from langchain-community==0.3.11) (3.12.13)\n",
      "Requirement already satisfied: dataclasses-json<0.7,>=0.5.7 in /Users/sourav.banerjee/Documents/Github Codebase/GenerativAI_Demystified/.venv/lib/python3.11/site-packages (from langchain-community==0.3.11) (0.6.7)\n",
      "Requirement already satisfied: httpx-sse<0.5.0,>=0.4.0 in /Users/sourav.banerjee/Documents/Github Codebase/GenerativAI_Demystified/.venv/lib/python3.11/site-packages (from langchain-community==0.3.11) (0.4.1)\n",
      "Requirement already satisfied: langchain<0.4.0,>=0.3.11 in /Users/sourav.banerjee/Documents/Github Codebase/GenerativAI_Demystified/.venv/lib/python3.11/site-packages (from langchain-community==0.3.11) (0.3.11)\n",
      "Requirement already satisfied: langchain-core<0.4.0,>=0.3.24 in /Users/sourav.banerjee/Documents/Github Codebase/GenerativAI_Demystified/.venv/lib/python3.11/site-packages (from langchain-community==0.3.11) (0.3.63)\n",
      "Requirement already satisfied: langsmith<0.3,>=0.1.125 in /Users/sourav.banerjee/Documents/Github Codebase/GenerativAI_Demystified/.venv/lib/python3.11/site-packages (from langchain-community==0.3.11) (0.2.11)\n",
      "Requirement already satisfied: numpy<2,>=1.22.4 in /Users/sourav.banerjee/Documents/Github Codebase/GenerativAI_Demystified/.venv/lib/python3.11/site-packages (from langchain-community==0.3.11) (1.26.4)\n",
      "Requirement already satisfied: pydantic-settings<3.0.0,>=2.4.0 in /Users/sourav.banerjee/Documents/Github Codebase/GenerativAI_Demystified/.venv/lib/python3.11/site-packages (from langchain-community==0.3.11) (2.10.1)\n",
      "Requirement already satisfied: requests<3,>=2 in /Users/sourav.banerjee/Documents/Github Codebase/GenerativAI_Demystified/.venv/lib/python3.11/site-packages (from langchain-community==0.3.11) (2.32.3)\n",
      "Requirement already satisfied: tenacity!=8.4.0,<10,>=8.1.0 in /Users/sourav.banerjee/Documents/Github Codebase/GenerativAI_Demystified/.venv/lib/python3.11/site-packages (from langchain-community==0.3.11) (9.1.2)\n",
      "Requirement already satisfied: aiohappyeyeballs>=2.5.0 in /Users/sourav.banerjee/Documents/Github Codebase/GenerativAI_Demystified/.venv/lib/python3.11/site-packages (from aiohttp<4.0.0,>=3.8.3->langchain-community==0.3.11) (2.6.1)\n",
      "Requirement already satisfied: aiosignal>=1.1.2 in /Users/sourav.banerjee/Documents/Github Codebase/GenerativAI_Demystified/.venv/lib/python3.11/site-packages (from aiohttp<4.0.0,>=3.8.3->langchain-community==0.3.11) (1.3.2)\n",
      "Requirement already satisfied: attrs>=17.3.0 in /Users/sourav.banerjee/Documents/Github Codebase/GenerativAI_Demystified/.venv/lib/python3.11/site-packages (from aiohttp<4.0.0,>=3.8.3->langchain-community==0.3.11) (25.3.0)\n",
      "Requirement already satisfied: frozenlist>=1.1.1 in /Users/sourav.banerjee/Documents/Github Codebase/GenerativAI_Demystified/.venv/lib/python3.11/site-packages (from aiohttp<4.0.0,>=3.8.3->langchain-community==0.3.11) (1.7.0)\n",
      "Requirement already satisfied: multidict<7.0,>=4.5 in /Users/sourav.banerjee/Documents/Github Codebase/GenerativAI_Demystified/.venv/lib/python3.11/site-packages (from aiohttp<4.0.0,>=3.8.3->langchain-community==0.3.11) (6.5.1)\n",
      "Requirement already satisfied: propcache>=0.2.0 in /Users/sourav.banerjee/Documents/Github Codebase/GenerativAI_Demystified/.venv/lib/python3.11/site-packages (from aiohttp<4.0.0,>=3.8.3->langchain-community==0.3.11) (0.3.2)\n",
      "Requirement already satisfied: yarl<2.0,>=1.17.0 in /Users/sourav.banerjee/Documents/Github Codebase/GenerativAI_Demystified/.venv/lib/python3.11/site-packages (from aiohttp<4.0.0,>=3.8.3->langchain-community==0.3.11) (1.20.1)\n",
      "Requirement already satisfied: marshmallow<4.0.0,>=3.18.0 in /Users/sourav.banerjee/Documents/Github Codebase/GenerativAI_Demystified/.venv/lib/python3.11/site-packages (from dataclasses-json<0.7,>=0.5.7->langchain-community==0.3.11) (3.26.1)\n",
      "Requirement already satisfied: typing-inspect<1,>=0.4.0 in /Users/sourav.banerjee/Documents/Github Codebase/GenerativAI_Demystified/.venv/lib/python3.11/site-packages (from dataclasses-json<0.7,>=0.5.7->langchain-community==0.3.11) (0.9.0)\n",
      "Requirement already satisfied: langchain-text-splitters<0.4.0,>=0.3.0 in /Users/sourav.banerjee/Documents/Github Codebase/GenerativAI_Demystified/.venv/lib/python3.11/site-packages (from langchain<0.4.0,>=0.3.11->langchain-community==0.3.11) (0.3.8)\n",
      "Requirement already satisfied: pydantic<3.0.0,>=2.7.4 in /Users/sourav.banerjee/Documents/Github Codebase/GenerativAI_Demystified/.venv/lib/python3.11/site-packages (from langchain<0.4.0,>=0.3.11->langchain-community==0.3.11) (2.11.5)\n",
      "Requirement already satisfied: jsonpatch<2.0,>=1.33 in /Users/sourav.banerjee/Documents/Github Codebase/GenerativAI_Demystified/.venv/lib/python3.11/site-packages (from langchain-core<0.4.0,>=0.3.24->langchain-community==0.3.11) (1.33)\n",
      "Requirement already satisfied: packaging<25,>=23.2 in /Users/sourav.banerjee/Documents/Github Codebase/GenerativAI_Demystified/.venv/lib/python3.11/site-packages (from langchain-core<0.4.0,>=0.3.24->langchain-community==0.3.11) (24.2)\n",
      "Requirement already satisfied: typing-extensions>=4.7 in /Users/sourav.banerjee/Documents/Github Codebase/GenerativAI_Demystified/.venv/lib/python3.11/site-packages (from langchain-core<0.4.0,>=0.3.24->langchain-community==0.3.11) (4.13.2)\n",
      "Requirement already satisfied: jsonpointer>=1.9 in /Users/sourav.banerjee/Documents/Github Codebase/GenerativAI_Demystified/.venv/lib/python3.11/site-packages (from jsonpatch<2.0,>=1.33->langchain-core<0.4.0,>=0.3.24->langchain-community==0.3.11) (3.0.0)\n",
      "Requirement already satisfied: httpx<1,>=0.23.0 in /Users/sourav.banerjee/Documents/Github Codebase/GenerativAI_Demystified/.venv/lib/python3.11/site-packages (from langsmith<0.3,>=0.1.125->langchain-community==0.3.11) (0.28.1)\n",
      "Requirement already satisfied: orjson<4.0.0,>=3.9.14 in /Users/sourav.banerjee/Documents/Github Codebase/GenerativAI_Demystified/.venv/lib/python3.11/site-packages (from langsmith<0.3,>=0.1.125->langchain-community==0.3.11) (3.10.18)\n",
      "Requirement already satisfied: requests-toolbelt<2.0.0,>=1.0.0 in /Users/sourav.banerjee/Documents/Github Codebase/GenerativAI_Demystified/.venv/lib/python3.11/site-packages (from langsmith<0.3,>=0.1.125->langchain-community==0.3.11) (1.0.0)\n",
      "Requirement already satisfied: anyio in /Users/sourav.banerjee/Documents/Github Codebase/GenerativAI_Demystified/.venv/lib/python3.11/site-packages (from httpx<1,>=0.23.0->langsmith<0.3,>=0.1.125->langchain-community==0.3.11) (4.9.0)\n",
      "Requirement already satisfied: certifi in /Users/sourav.banerjee/Documents/Github Codebase/GenerativAI_Demystified/.venv/lib/python3.11/site-packages (from httpx<1,>=0.23.0->langsmith<0.3,>=0.1.125->langchain-community==0.3.11) (2025.4.26)\n",
      "Requirement already satisfied: httpcore==1.* in /Users/sourav.banerjee/Documents/Github Codebase/GenerativAI_Demystified/.venv/lib/python3.11/site-packages (from httpx<1,>=0.23.0->langsmith<0.3,>=0.1.125->langchain-community==0.3.11) (1.0.9)\n",
      "Requirement already satisfied: idna in /Users/sourav.banerjee/Documents/Github Codebase/GenerativAI_Demystified/.venv/lib/python3.11/site-packages (from httpx<1,>=0.23.0->langsmith<0.3,>=0.1.125->langchain-community==0.3.11) (3.10)\n",
      "Requirement already satisfied: h11>=0.16 in /Users/sourav.banerjee/Documents/Github Codebase/GenerativAI_Demystified/.venv/lib/python3.11/site-packages (from httpcore==1.*->httpx<1,>=0.23.0->langsmith<0.3,>=0.1.125->langchain-community==0.3.11) (0.16.0)\n",
      "Requirement already satisfied: annotated-types>=0.6.0 in /Users/sourav.banerjee/Documents/Github Codebase/GenerativAI_Demystified/.venv/lib/python3.11/site-packages (from pydantic<3.0.0,>=2.7.4->langchain<0.4.0,>=0.3.11->langchain-community==0.3.11) (0.7.0)\n",
      "Requirement already satisfied: pydantic-core==2.33.2 in /Users/sourav.banerjee/Documents/Github Codebase/GenerativAI_Demystified/.venv/lib/python3.11/site-packages (from pydantic<3.0.0,>=2.7.4->langchain<0.4.0,>=0.3.11->langchain-community==0.3.11) (2.33.2)\n",
      "Requirement already satisfied: typing-inspection>=0.4.0 in /Users/sourav.banerjee/Documents/Github Codebase/GenerativAI_Demystified/.venv/lib/python3.11/site-packages (from pydantic<3.0.0,>=2.7.4->langchain<0.4.0,>=0.3.11->langchain-community==0.3.11) (0.4.1)\n",
      "Requirement already satisfied: python-dotenv>=0.21.0 in /Users/sourav.banerjee/Documents/Github Codebase/GenerativAI_Demystified/.venv/lib/python3.11/site-packages (from pydantic-settings<3.0.0,>=2.4.0->langchain-community==0.3.11) (1.1.0)\n",
      "Requirement already satisfied: charset-normalizer<4,>=2 in /Users/sourav.banerjee/Documents/Github Codebase/GenerativAI_Demystified/.venv/lib/python3.11/site-packages (from requests<3,>=2->langchain-community==0.3.11) (3.4.2)\n",
      "Requirement already satisfied: urllib3<3,>=1.21.1 in /Users/sourav.banerjee/Documents/Github Codebase/GenerativAI_Demystified/.venv/lib/python3.11/site-packages (from requests<3,>=2->langchain-community==0.3.11) (2.4.0)\n",
      "Requirement already satisfied: mypy-extensions>=0.3.0 in /Users/sourav.banerjee/Documents/Github Codebase/GenerativAI_Demystified/.venv/lib/python3.11/site-packages (from typing-inspect<1,>=0.4.0->dataclasses-json<0.7,>=0.5.7->langchain-community==0.3.11) (1.1.0)\n",
      "Requirement already satisfied: sniffio>=1.1 in /Users/sourav.banerjee/Documents/Github Codebase/GenerativAI_Demystified/.venv/lib/python3.11/site-packages (from anyio->httpx<1,>=0.23.0->langsmith<0.3,>=0.1.125->langchain-community==0.3.11) (1.3.1)\n"
     ]
    }
   ],
   "source": [
    "%run \"Setup_Env.ipynb\""
   ]
  },
  {
   "cell_type": "markdown",
   "metadata": {},
   "source": [
    "## Mini-Project 2: Research Paper Analyst\n",
    "\n",
    "Make ChatGPT act as an AI expert and transform the given research paper abstract based on the nature of the audience mentioned below.\n",
    "\n",
    "- Short summary of maximum 10 lines for a general audience\n",
    "- Detailed report for a healthcare company. Have bullet points for pros and cons of ethics in Generative AI as mentioned in the paper\n",
    "- Detailed report for a generative AI company solving healthcare problems. Have bullet points for key points mentioned for Generative AI for text, images and structured data based healthcare\n",
    "\n",
    "Try to use `ChatPromptTemplate` so you can have a conversation with ChatGPT for each of the above tasks using conversational prompting"
   ]
  },
  {
   "cell_type": "markdown",
   "metadata": {},
   "source": [
    "### Access the Research Paper Abstract"
   ]
  },
  {
   "cell_type": "code",
   "execution_count": 24,
   "metadata": {},
   "outputs": [],
   "source": [
    "paper_abstract = f\"\"\"\n",
    "The widespread use of ChatGPT and other emerging technology powered by generative\n",
    "artificial intelligence (AI) has drawn much attention to potential ethical issues, especially in\n",
    "high-stakes applications such as healthcare.1–3 However, less clear is how to resolve such\n",
    "issues beyond following guidelines and regulations that are still under discussion and\n",
    "development. On the other hand, other types of generative AI have been used to synthesize\n",
    "images and other types of data for research and practical purposes, which have resolved some\n",
    "ethical issues and exposed other ethical issues,4,5 but such technology is less often the focus\n",
    "of ongoing ethical discussions. Here we highlight gaps in current ethical discussions of\n",
    "generative AI via a systematic scoping review of relevant existing research in healthcare, and\n",
    "reduce the gaps by proposing an ethics checklist for comprehensive assessment and\n",
    "transparent documentation of ethical discussions in generative AI development. While the\n",
    "checklist can be readily integrated into the current peer review and publication system to\n",
    "enhance generative AI research, it may also be used in broader settings to disclose ethicsrelated considerations in generative AI-powered products (or real-life applications of such\n",
    "products) to help users establish reasonable trust in their capabilities.\n",
    "\n",
    "Current ethical discussions on generative AI in healthcare\n",
    "We conducted a systematic scoping review to analyse current ethical discussions on\n",
    "generative AI in healthcare. Our search in four major academic research databases for\n",
    "relevant publications from January 2013 to July 2023 yielded 2859 articles (see Methods for\n",
    "detailed search strategy and Supplementary Figure S1 for the PRISMA flow diagram), of\n",
    "which 193 articles were included for analysis based on application data modality (text, image,\n",
    "or structured data), ethical issues discussed, generative AI involved, and whether generative\n",
    "AI causes or offers technical solutions for issues raised.\n",
    "\n",
    "Generative AI for text data-based healthcare\n",
    "Forty-one of the 193 articles discussed ethical considerations pertaining to generative AI\n",
    "applications for text data, with 20 articles describing methodological developments or\n",
    "applications of generative AI and the other 21 articles describing review-type works on this\n",
    "topic. Although some of these review-type articles used the general term “generative AI”, the\n",
    "main body and supporting evidence focused on LLMs. Twenty-nine articles had in-depth\n",
    "discussions on ethical issues, whereas the other 12 articles only briefly touched on some\n",
    "ethical aspects.\n",
    "Among the 41 articles, 29 articles focused on discussing ethical issues caused by LLMs (and\n",
    "specifically by GPT in 16 of the articles), covering a wide range of application scenarios and\n",
    "considered the application of all 10 ethical principles identified in the review (see Figure 1),\n",
    "as well as other less discussed concerns such as human-AI interaction, and the rights of\n",
    "LLMs to be considered as co-authors in scientific papers. One paper only commented briefly\n",
    "on the need for ethical considerations in LLMs and is summarised in the “Others” category.\n",
    "Although all ethical principles are equally important, some are discussed more often than\n",
    "others, e.g., non-maleficence (also referred to in the literature as ‘benevolence’), equity, and\n",
    "privacy.\n",
    "Fifteen of the 41 articles aimed to resolve some existing ethical issues (for example,\n",
    "confidentiality of medical data) by using LLMs and other generative AI (e.g., GAN,\n",
    "autoencoder or diffusion), such as, to reduce privacy concerns by generating synthetic\n",
    "medical text, to reduce disparity by providing accessible services and assistance, to detect\n",
    "health-related misinformation, to generate trusted content, and to improve accountability or\n",
    "transparency over existing approaches. While most articles focused on either identifying\n",
    "ethical issues caused by generative AI or proposing generative AI-based solutions, three\n",
    "articles discussed both to provide a more balanced perspective.\n",
    "\n",
    "Generative AI for image and structured data-based healthcare\n",
    "Unlike the diverse application scenarios of generative AI based on text data, for image and\n",
    "structured data, this use of generative AI focuses on data synthesis and encryption. Hence the\n",
    "majority of articles discussed the methodological developments of generative AI as giving\n",
    "rise to a more distinctive and focused set of ethical issues.\n",
    "5\n",
    "Notably, of the 98 articles on image data and 58 articles on structured data, more than half\n",
    "(n=63 for image data and n=33 for structured data) only mentioned ethical considerations as a\n",
    "brief motivation for methodological developments or as a general discussion point. The rest\n",
    "included more in-depth discussions or evaluations of ethical issues. Among these 155 articles\n",
    "(as one article covered multiple modalities), 11 articles were review-type work, where 10\n",
    "articles reviewed methods that mentioned one or two ethical perspectives, and only one\n",
    "article24 discussed detailed ethical concerns on generative AI applications.\n",
    "Resolving privacy issues was the main aim of articles for these two data modalities (n=74 for\n",
    "image data and n=50 for structured data; see Figure 1), predominantly by generating synthetic\n",
    "data using GAN. Eight articles on image data and 9 articles on structured data used\n",
    "generative AI to reduce bias, e.g., by synthesizing data for under-represented subgroups in\n",
    "existing databases. For both data modalities, we did not see explicit discussions on resolving\n",
    "autonomy, integrity, or morality issues using generative AI, and for structured data the articles\n",
    "additionally lacked discussions on trust or transparency.\n",
    "Only 11 articles for image data selectively discussed some ethical issues that generative AI\n",
    "can give rise to, without specific discussions regarding autonomy, integrity, or morality. For\n",
    "structured data, only 4 articles discussed equity, privacy, or data security issues caused by\n",
    "generative AI. Only two articles on structured data included both the cause and resolving\n",
    "perspectives by discussing ethical issues that may arise from limitations of methods\n",
    "proposed, specifically bias induced when synthesizing data in order to resolve privacy issues.\n",
    "\"\"\""
   ]
  },
  {
   "cell_type": "markdown",
   "metadata": {},
   "source": [
    "### Create a prompt template for paper analysis and transformation"
   ]
  },
  {
   "cell_type": "code",
   "execution_count": 64,
   "metadata": {},
   "outputs": [
    {
     "name": "stdout",
     "output_type": "stream",
     "text": [
      "System Message:\n",
      "\n",
      "Act as a Artificial Intelligence Expert.\n",
      "Transform the input research paper abstract given below\n",
      "based on the instruction input by the user.\n",
      "\n",
      "\n",
      "Human Message:\n",
      "Short summary of maximum 10 lines for a general audience on Transformers\n",
      "\n",
      "Type of chat_prompt:\n",
      "<class 'langchain_core.prompt_values.ChatPromptValue'>\n",
      "\n",
      "Type of chat_prompt.messages:\n",
      "<class 'list'>\n",
      "\n",
      "Type of chat_prompt.messages[0]:\n",
      "<class 'langchain_core.messages.system.SystemMessage'>\n",
      "\n",
      "Type of chat_prompt.messages[1]:\n",
      "<class 'langchain_core.messages.human.HumanMessage'>\n",
      "\n",
      "Type of prompt:\n",
      "<class 'langchain_core.prompts.chat.ChatPromptTemplate'>\n",
      "\n",
      "chat_prompt:\n",
      "messages=[SystemMessage(content='\\nAct as a Artificial Intelligence Expert.\\nTransform the input research paper abstract given below\\nbased on the instruction input by the user.\\n', additional_kwargs={}, response_metadata={}), HumanMessage(content='Short summary of maximum 10 lines for a general audience on Transformers', additional_kwargs={}, response_metadata={})]\n"
     ]
    }
   ],
   "source": [
    "\n",
    "SYS_PROMPT = \"\"\"\n",
    "Act as a Artificial Intelligence Expert.\n",
    "Transform the input research paper abstract given below\n",
    "based on the instruction input by the user.\n",
    "\"\"\"\n",
    "prompt = ChatPromptTemplate.from_messages(\n",
    "    [\n",
    "        (\"system\", SYS_PROMPT),\n",
    "        (\"human\", \"{instruction}\"),\n",
    "    ]\n",
    ")\n",
    "chat_prompt = prompt.invoke({\"instruction\": \"Short summary of maximum 10 lines for a general audience on Transformers\"})\n",
    "\n",
    "# Access individual messages from the chat prompt\n",
    "system_message = chat_prompt.messages[0]  # Get the SystemMessage\n",
    "human_message = chat_prompt.messages[1]   # Get the HumanMessage\n",
    "\n",
    "print(\"System Message:\")\n",
    "print(system_message.content)\n",
    "print(\"\\nHuman Message:\")\n",
    "print(human_message.content)\n",
    "print(\"\\nType of chat_prompt:\")\n",
    "print(type(chat_prompt))\n",
    "print(\"\\nType of chat_prompt.messages:\")\n",
    "print(type(chat_prompt.messages))\n",
    "print(\"\\nType of chat_prompt.messages[0]:\")\n",
    "print(type(chat_prompt.messages[0]))\n",
    "print(\"\\nType of chat_prompt.messages[1]:\")\n",
    "print(type(chat_prompt.messages[1]))\n",
    "print(\"\\nType of prompt:\")\n",
    "print(type(prompt))\n",
    "print(\"\\nchat_prompt:\")\n",
    "print(chat_prompt)"
   ]
  },
  {
   "cell_type": "markdown",
   "metadata": {},
   "source": [
    "#### Use ChatPromptValue and use LLM to invoke directly\n"
   ]
  },
  {
   "cell_type": "code",
   "execution_count": 58,
   "metadata": {},
   "outputs": [
    {
     "name": "stdout",
     "output_type": "stream",
     "text": [
      "Transformers are a type of artificial intelligence model that have revolutionized the field of natural language processing. Introduced in 2017, they use a mechanism called \"attention\" to weigh the importance of different words in a sentence, allowing them to understand context better than previous models. This architecture enables Transformers to generate coherent text, translate languages, and even create art. They are the backbone of many popular AI applications, including chatbots and virtual assistants. Their ability to process large amounts of data quickly makes them highly effective for various tasks, from summarizing articles to answering questions. Overall, Transformers represent a significant leap forward in how machines understand and generate human language.\n"
     ]
    }
   ],
   "source": [
    "response_with_llm = chatgpt.invoke(chat_prompt)\n",
    "print(response_with_llm.content)"
   ]
  },
  {
   "cell_type": "markdown",
   "metadata": {},
   "source": [
    "#### Use Chain and use PromptTemplate"
   ]
  },
  {
   "cell_type": "code",
   "execution_count": 59,
   "metadata": {},
   "outputs": [
    {
     "name": "stdout",
     "output_type": "stream",
     "text": [
      "Transformers are a type of artificial intelligence model that have revolutionized the field of natural language processing. Introduced in 2017, they use a mechanism called \"attention\" to weigh the importance of different words in a sentence, allowing them to understand context better than previous models. This architecture enables Transformers to generate coherent text, translate languages, and even create art. They are the backbone of many popular AI applications, including chatbots and virtual assistants. Their ability to learn from vast amounts of data has made them highly effective in various tasks, making them a cornerstone of modern AI research and development.\n"
     ]
    }
   ],
   "source": [
    "chain = prompt | chatgpt\n",
    "\n",
    "response_with_chain = chain.invoke({\"instruction\": \"Short summary of maximum 10 lines for a general audience on Transformers\"})\n",
    "print(response_with_chain.content)"
   ]
  },
  {
   "cell_type": "markdown",
   "metadata": {},
   "source": [
    "#### Pass Prompt_Text Directly "
   ]
  },
  {
   "cell_type": "code",
   "execution_count": 77,
   "metadata": {},
   "outputs": [
    {
     "name": "stdout",
     "output_type": "stream",
     "text": [
      "The increasing use of generative artificial intelligence (AI), particularly in healthcare, raises important ethical concerns. This research highlights gaps in current ethical discussions surrounding generative AI applications, especially in high-stakes areas like healthcare. A systematic review of literature from 2013 to 2023 identified 193 relevant articles, revealing that while many focus on ethical issues related to text data, fewer address those concerning image and structured data. The study proposes an ethics checklist to guide the assessment and documentation of ethical considerations in generative AI development. This checklist aims to enhance transparency and trust in AI applications, helping users better understand the ethical implications of these technologies. Overall, the research underscores the need for comprehensive ethical frameworks as generative AI continues to evolve and integrate into various sectors.\n"
     ]
    }
   ],
   "source": [
    "print(chain.invoke({\"instruction\": prompt_txt}).content)"
   ]
  },
  {
   "cell_type": "markdown",
   "metadata": {},
   "source": [
    "#### use HumanMessage Directly"
   ]
  },
  {
   "cell_type": "code",
   "execution_count": 78,
   "metadata": {},
   "outputs": [
    {
     "name": "stdout",
     "output_type": "stream",
     "text": [
      "The research paper examines the ethical implications of generative artificial intelligence (AI), particularly in healthcare, where technologies like ChatGPT are increasingly utilized. It highlights the need for a structured approach to address these ethical concerns, as current guidelines are still evolving. Through a systematic review of 2,859 articles published between 2013 and 2023, the authors identified gaps in ethical discussions surrounding generative AI applications, especially in text, image, and structured data. They propose an ethics checklist to enhance transparency and accountability in generative AI research and applications. This checklist aims to help users build trust in AI technologies by ensuring ethical considerations are documented and addressed. The study emphasizes the importance of discussing ethical principles such as privacy, equity, and non-maleficence in the development of generative AI solutions.\n"
     ]
    }
   ],
   "source": [
    "from langchain_core.messages import HumanMessage\n",
    "\n",
    "prompt_txt = f\"\"\"\n",
    "Based on the following research paper abstract, create the summary report of maximum 10 lines for a general audience\n",
    "\n",
    "Abstract:\n",
    "{paper_abstract}\n",
    "\"\"\"\n",
    "\n",
    "messages = [HumanMessage(content=prompt_txt)]\n",
    "user_instruction = {'instruction': messages}\n",
    "response = chain.invoke(user_instruction)\n",
    "print(response.content)"
   ]
  },
  {
   "cell_type": "markdown",
   "metadata": {},
   "source": [
    "As we want to create a conversational bot where the output of each step would be used in next step so we are using HumanMessage() format here"
   ]
  },
  {
   "cell_type": "markdown",
   "metadata": {},
   "source": [
    "✅ Use when chain.invoke({\"instruction\": prompt_txt}): \n",
    "*  You are using ChatPromptTemplate with placeholders like {instruction}\n",
    "* Your input is a dictionary mapping prompt variables to string values\n",
    "* The chain expects a simple dict[str, str] input and takes care of formatting internally\n",
    "* You are not manually constructing LangChain message objects (HumanMessage, AIMessage, etc.)\n",
    "\n",
    "\n",
    "🧠 Behind the scenes:\n",
    "\n",
    "LangChain internally converts the string into a HumanMessage and passes it along with the system message."
   ]
  },
  {
   "cell_type": "markdown",
   "metadata": {},
   "source": [
    "✅ Use when messages = [HumanMessage(content=prompt_txt)]:\n",
    "* You want fine-grained control over messages.\n",
    "* You need to pass in already constructed message objects, like HumanMessage, AIMessage, or SystemMessage.\n",
    "* You’re working with chains that support or require message object input, for example, if you’re mixing Runnable objects or building custom chat workflows.\n",
    "\n",
    "🚨 Important:\n",
    "\n",
    "This approach only works if the prompt template (ChatPromptTemplate) can accept ChatMessage objects instead of just strings."
   ]
  },
  {
   "cell_type": "markdown",
   "metadata": {},
   "source": [
    "Only use the HumanMessage list style when:\n",
    "* You’re interacting directly with the LLM class (like chatgpt.invoke([...]))\n",
    "* You are building a custom message flow, e.g., simulating prior conversations."
   ]
  },
  {
   "cell_type": "code",
   "execution_count": 79,
   "metadata": {},
   "outputs": [
    {
     "name": "stdout",
     "output_type": "stream",
     "text": [
      "The increasing use of generative artificial intelligence (AI), such as ChatGPT, raises important ethical concerns, particularly in sensitive fields like healthcare. This research paper reviews existing literature on these ethical issues and identifies gaps in current discussions. It proposes an ethics checklist to help researchers assess and document ethical considerations in generative AI development. The review analyzed 2,859 articles, focusing on applications involving text, images, and structured data. While many articles addressed ethical challenges, particularly related to large language models (LLMs), fewer explored solutions or discussed ethical implications for image and structured data. The proposed checklist aims to enhance transparency and trust in generative AI applications, ensuring ethical considerations are integrated into research and real-world use.\n"
     ]
    }
   ],
   "source": [
    "from langchain_openai import ChatOpenAI\n",
    "from langchain_core.prompts import ChatPromptTemplate\n",
    "from langchain_core.messages import HumanMessage, SystemMessage\n",
    "\n",
    "# Initialize the chat model\n",
    "chatgpt = ChatOpenAI(model_name=\"gpt-4o-mini\", temperature=0)\n",
    "\n",
    "# Define system prompt for context\n",
    "sys_prompt = \"\"\"Act as an Artificial Intelligence Expert. \n",
    "Transform the input research paper abstract based on the instruction input by the user.\"\"\"\n",
    "\n",
    "# Create a prompt template\n",
    "chat_prompt = ChatPromptTemplate.from_messages([\n",
    "    (\"system\", sys_prompt),\n",
    "    (\"human\", \"{instruction}\")\n",
    "])\n",
    "\n",
    "# Define reusable function for invoking chat with instruction\n",
    "def generate_response(instruction_text: str) -> str:\n",
    "    messages = [HumanMessage(content=instruction_text)]\n",
    "    user_instruction = {'instruction': messages}\n",
    "    return chatgpt.invoke(chat_prompt.format_messages(**user_instruction))\n",
    "\n",
    "# Example research paper abstract\n",
    "paper_abstract = paper_abstract\n",
    "\n",
    "# First task: Create a summary report\n",
    "summary_instruction = f\"\"\"\n",
    "Based on the following research paper abstract, create a summary report of maximum 10 lines for a general audience.\n",
    "\n",
    "Abstract:\n",
    "{paper_abstract}\n",
    "\"\"\"\n",
    "response = generate_response(summary_instruction)\n",
    "print(response.content)"
   ]
  },
  {
   "cell_type": "code",
   "execution_count": 81,
   "metadata": {},
   "outputs": [],
   "source": [
    "paper_abstract = f\"\"\"\n",
    "The widespread use of ChatGPT and other emerging technology powered by generative\n",
    "artificial intelligence (AI) has drawn much attention to potential ethical issues, especially in\n",
    "high-stakes applications such as healthcare.1–3 However, less clear is how to resolve such\n",
    "issues beyond following guidelines and regulations that are still under discussion and\n",
    "development. On the other hand, other types of generative AI have been used to synthesize\n",
    "images and other types of data for research and practical purposes, which have resolved some\n",
    "ethical issues and exposed other ethical issues,4,5 but such technology is less often the focus\n",
    "of ongoing ethical discussions. Here we highlight gaps in current ethical discussions of\n",
    "generative AI via a systematic scoping review of relevant existing research in healthcare, and\n",
    "reduce the gaps by proposing an ethics checklist for comprehensive assessment and\n",
    "transparent documentation of ethical discussions in generative AI development. While the\n",
    "checklist can be readily integrated into the current peer review and publication system to\n",
    "enhance generative AI research, it may also be used in broader settings to disclose ethicsrelated considerations in generative AI-powered products (or real-life applications of such\n",
    "products) to help users establish reasonable trust in their capabilities.\n",
    "\n",
    "Current ethical discussions on generative AI in healthcare\n",
    "We conducted a systematic scoping review to analyse current ethical discussions on\n",
    "generative AI in healthcare. Our search in four major academic research databases for\n",
    "relevant publications from January 2013 to July 2023 yielded 2859 articles (see Methods for\n",
    "detailed search strategy and Supplementary Figure S1 for the PRISMA flow diagram), of\n",
    "which 193 articles were included for analysis based on application data modality (text, image,\n",
    "or structured data), ethical issues discussed, generative AI involved, and whether generative\n",
    "AI causes or offers technical solutions for issues raised.\n",
    "\n",
    "Generative AI for text data-based healthcare\n",
    "Forty-one of the 193 articles discussed ethical considerations pertaining to generative AI\n",
    "applications for text data, with 20 articles describing methodological developments or\n",
    "applications of generative AI and the other 21 articles describing review-type works on this\n",
    "topic. Although some of these review-type articles used the general term “generative AI”, the\n",
    "main body and supporting evidence focused on LLMs. Twenty-nine articles had in-depth\n",
    "discussions on ethical issues, whereas the other 12 articles only briefly touched on some\n",
    "ethical aspects.\n",
    "Among the 41 articles, 29 articles focused on discussing ethical issues caused by LLMs (and\n",
    "specifically by GPT in 16 of the articles), covering a wide range of application scenarios and\n",
    "considered the application of all 10 ethical principles identified in the review (see Figure 1),\n",
    "as well as other less discussed concerns such as human-AI interaction, and the rights of\n",
    "LLMs to be considered as co-authors in scientific papers. One paper only commented briefly\n",
    "on the need for ethical considerations in LLMs and is summarised in the “Others” category.\n",
    "Although all ethical principles are equally important, some are discussed more often than\n",
    "others, e.g., non-maleficence (also referred to in the literature as ‘benevolence’), equity, and\n",
    "privacy.\n",
    "Fifteen of the 41 articles aimed to resolve some existing ethical issues (for example,\n",
    "confidentiality of medical data) by using LLMs and other generative AI (e.g., GAN,\n",
    "autoencoder or diffusion), such as, to reduce privacy concerns by generating synthetic\n",
    "medical text, to reduce disparity by providing accessible services and assistance, to detect\n",
    "health-related misinformation, to generate trusted content, and to improve accountability or\n",
    "transparency over existing approaches. While most articles focused on either identifying\n",
    "ethical issues caused by generative AI or proposing generative AI-based solutions, three\n",
    "articles discussed both to provide a more balanced perspective.\n",
    "\n",
    "Generative AI for image and structured data-based healthcare\n",
    "Unlike the diverse application scenarios of generative AI based on text data, for image and\n",
    "structured data, this use of generative AI focuses on data synthesis and encryption. Hence the\n",
    "majority of articles discussed the methodological developments of generative AI as giving\n",
    "rise to a more distinctive and focused set of ethical issues.\n",
    "5\n",
    "Notably, of the 98 articles on image data and 58 articles on structured data, more than half\n",
    "(n=63 for image data and n=33 for structured data) only mentioned ethical considerations as a\n",
    "brief motivation for methodological developments or as a general discussion point. The rest\n",
    "included more in-depth discussions or evaluations of ethical issues. Among these 155 articles\n",
    "(as one article covered multiple modalities), 11 articles were review-type work, where 10\n",
    "articles reviewed methods that mentioned one or two ethical perspectives, and only one\n",
    "article24 discussed detailed ethical concerns on generative AI applications.\n",
    "Resolving privacy issues was the main aim of articles for these two data modalities (n=74 for\n",
    "image data and n=50 for structured data; see Figure 1), predominantly by generating synthetic\n",
    "data using GAN. Eight articles on image data and 9 articles on structured data used\n",
    "generative AI to reduce bias, e.g., by synthesizing data for under-represented subgroups in\n",
    "existing databases. For both data modalities, we did not see explicit discussions on resolving\n",
    "autonomy, integrity, or morality issues using generative AI, and for structured data the articles\n",
    "additionally lacked discussions on trust or transparency.\n",
    "Only 11 articles for image data selectively discussed some ethical issues that generative AI\n",
    "can give rise to, without specific discussions regarding autonomy, integrity, or morality. For\n",
    "structured data, only 4 articles discussed equity, privacy, or data security issues caused by\n",
    "generative AI. Only two articles on structured data included both the cause and resolving\n",
    "perspectives by discussing ethical issues that may arise from limitations of methods\n",
    "proposed, specifically bias induced when synthesizing data in order to resolve privacy issues.\n",
    "\"\"\""
   ]
  },
  {
   "cell_type": "code",
   "execution_count": 90,
   "metadata": {},
   "outputs": [
    {
     "name": "stdout",
     "output_type": "stream",
     "text": [
      "Summary Report:\n",
      " The increasing use of generative artificial intelligence (AI), such as ChatGPT, raises important ethical concerns, particularly in sensitive fields like healthcare. This research highlights the gaps in current ethical discussions surrounding generative AI by conducting a systematic review of existing literature. The study analyzed 2,859 articles, focusing on ethical issues related to text, image, and structured data applications of generative AI. It found that while many articles identified ethical challenges, fewer proposed solutions. To address this, the authors developed an ethics checklist aimed at improving transparency and accountability in generative AI research and applications. This checklist can be integrated into peer review processes and used to help users better understand the ethical implications of generative AI technologies.\n",
      "Detailed Report:\n",
      " **Detailed Report on Ethical Considerations of Generative AI in Healthcare**\n",
      "\n",
      "**Introduction:**\n",
      "The integration of generative artificial intelligence (AI) technologies, such as ChatGPT, into healthcare has raised significant ethical concerns. This report synthesizes findings from a systematic scoping review of existing research on the ethical implications of generative AI in healthcare, highlighting the need for a comprehensive ethics checklist to guide the development and application of these technologies.\n",
      "\n",
      "**Key Findings:**\n",
      "- **Current Ethical Landscape:** The review identified 2859 articles, with 193 selected for in-depth analysis. The focus was on ethical issues related to generative AI applications in healthcare, particularly concerning text, image, and structured data.\n",
      "- **Text Data Applications:** A significant portion of the literature (41 articles) discussed ethical considerations related to text data, with a focus on large language models (LLMs). Key ethical principles such as non-maleficence, equity, and privacy were frequently addressed.\n",
      "- **Image and Structured Data Applications:** The ethical discussions surrounding image and structured data were less comprehensive, with many articles only briefly mentioning ethical considerations. The primary focus was on privacy issues and the generation of synthetic data to mitigate bias.\n",
      "\n",
      "**Proposed Ethics Checklist:**\n",
      "To address the identified gaps in ethical discussions, an ethics checklist is proposed for the assessment and documentation of ethical considerations in generative AI development. This checklist can be integrated into peer review processes and used in real-world applications to enhance transparency and trust.\n",
      "\n",
      "**Pros and Cons of Ethics in Generative AI:**\n",
      "\n",
      "**Pros:**\n",
      "- **Enhanced Trust:** A structured approach to ethics can foster user trust in generative AI applications, ensuring that stakeholders are aware of ethical considerations and the measures taken to address them.\n",
      "- **Guidance for Development:** An ethics checklist provides a clear framework for developers and researchers, promoting responsible innovation and adherence to ethical standards.\n",
      "- **Mitigation of Risks:** By identifying and addressing ethical issues proactively, generative AI can be developed in a way that minimizes potential harm, such as privacy violations or biases in data.\n",
      "\n",
      "**Cons:**\n",
      "- **Complexity of Implementation:** Developing and integrating an ethics checklist into existing systems may be challenging, requiring significant changes in current practices and additional training for stakeholders.\n",
      "- **Potential for Overregulation:** There is a risk that stringent ethical guidelines could stifle innovation and limit the potential benefits of generative AI technologies in healthcare.\n",
      "- **Dynamic Nature of Ethics:** Ethical considerations are continually evolving, and a static checklist may not adequately address emerging issues or adapt to new developments in generative AI.\n",
      "\n",
      "**Conclusion:**\n",
      "The ethical implications of generative AI in healthcare are complex and multifaceted. By implementing a comprehensive ethics checklist, stakeholders can better navigate these challenges, ensuring that generative AI technologies are developed and applied responsibly. This approach not only enhances trust but also promotes the ethical advancement of AI in healthcare settings.\n",
      "Summary\n",
      "content='The increasing use of generative artificial intelligence (AI), particularly in healthcare, raises important ethical concerns. This research highlights gaps in current ethical discussions surrounding generative AI applications, especially in high-stakes areas like healthcare. A systematic review of 2,859 articles revealed that while many focus on ethical issues related to text data, fewer address those concerning image and structured data. The study proposes an ethics checklist to guide the assessment and documentation of ethical considerations in generative AI development. This checklist aims to enhance transparency and trust in AI-powered healthcare products, ensuring that ethical principles such as privacy, equity, and accountability are adequately addressed. Overall, the research emphasizes the need for comprehensive ethical frameworks as generative AI continues to evolve.' additional_kwargs={'refusal': None} response_metadata={'token_usage': {'completion_tokens': 144, 'prompt_tokens': 1275, 'total_tokens': 1419, 'completion_tokens_details': {'accepted_prediction_tokens': 0, 'audio_tokens': 0, 'reasoning_tokens': 0, 'rejected_prediction_tokens': 0}, 'prompt_tokens_details': {'audio_tokens': 0, 'cached_tokens': 1152}}, 'model_name': 'gpt-4o-mini-2024-07-18', 'system_fingerprint': 'fp_34a54ae93c', 'finish_reason': 'stop', 'logprobs': None} id='run--b58603c2-fbaa-4b0f-a3b6-77ec00cdd871-0' usage_metadata={'input_tokens': 1275, 'output_tokens': 144, 'total_tokens': 1419, 'input_token_details': {'audio': 0, 'cache_read': 1152}, 'output_token_details': {'audio': 0, 'reasoning': 0}}\n"
     ]
    }
   ],
   "source": [
    "from langchain_openai import ChatOpenAI\n",
    "from langchain_core.prompts import ChatPromptTemplate\n",
    "from langchain_core.messages import HumanMessage, SystemMessage\n",
    "\n",
    "# Initialize the chat model\n",
    "chatgpt = ChatOpenAI(model_name=\"gpt-4o-mini\", temperature=0)\n",
    "\n",
    "# Define system-level prompt for context\n",
    "SYS_PROMPT = \"\"\"Act as an Artificial Intelligence Expert. \n",
    "Transform the input research paper abstract based on the instruction input by the user.\"\"\"\n",
    "\n",
    "# Create a chat prompt template\n",
    "chat_prompt = ChatPromptTemplate.from_messages([\n",
    "    (\"system\", SYS_PROMPT),\n",
    "    (\"human\", \"{instruction}\")\n",
    "])\n",
    "\n",
    "# Build a chain for processing messages\n",
    "chain = chat_prompt | chatgpt\n",
    "\n",
    "# Define reusable function to interact with the chain\n",
    "def generate_response(instruction_text: str) -> str:\n",
    "    # Create a human message\n",
    "    messages = [HumanMessage(content=instruction_text)]\n",
    "    # Wrap messages in instruction dictionary as required\n",
    "    user_instruction = {'instruction': messages}\n",
    "    # Invoke the chain and return the response\n",
    "    response = chain.invoke(user_instruction)\n",
    "    return response.content\n",
    "\n",
    "# First task: Create a summary report\n",
    "summary_instruction = f\"\"\"\n",
    "Based on the following research paper abstract, create a summary report of maximum 10 lines for a general audience.\n",
    "\n",
    "Abstract:\n",
    "{paper_abstract}\n",
    "\"\"\"\n",
    "summary_response = generate_response(summary_instruction)\n",
    "print(\"Summary Report:\\n\", summary_response)\n",
    "\n",
    "# Second task: Detailed report for a healthcare company\n",
    "detailed_instruction = f\"\"\"\n",
    "Using only the research paper abstract provided earlier, create a detailed report for a healthcare company.\n",
    "Include bullet points (3 max) for pros and cons of ethics in Generative AI.\n",
    "\n",
    "Abstract:\n",
    "{paper_abstract}\n",
    "\n",
    "\"\"\"\n",
    "detailed_response = generate_response(detailed_instruction)\n",
    "print(\"Detailed Report:\\n\", detailed_response)\n",
    "\n",
    "# Define system-level behavior for AI\n",
    "sys_prompt = \"\"\"Act as an Artificial Intelligence Expert. Transform the input research paper abstract based on the instruction input by the user.\"\"\"\n",
    "messages = [SystemMessage(content=sys_prompt)]\n",
    "\n",
    "# First user instruction\n",
    "paper_abstract = paper_abstract\n",
    "prompt_txt = f\"\"\"\n",
    "Based on the following research paper abstract, create the summary report of maximum 10 lines for a general audience\n",
    "\n",
    "Abstract:\n",
    "{paper_abstract}\n",
    "\"\"\"\n",
    "messages.append(HumanMessage(content=prompt_txt))\n",
    "response = chatgpt.invoke(messages)\n",
    "print(\"Summary\")\n",
    "print(response)"
   ]
  },
  {
   "cell_type": "code",
   "execution_count": 83,
   "metadata": {},
   "outputs": [
    {
     "data": {
      "text/plain": [
       "[SystemMessage(content='Act as an Artificial Intelligence Expert. Transform the input research paper abstract based on the instruction input by the user.', additional_kwargs={}, response_metadata={}),\n",
       " HumanMessage(content='\\nBased on the following research paper abstract, create the summary report of maximum 10 lines for a general audience\\n\\nAbstract:\\n(Long abstract content here)\\n', additional_kwargs={}, response_metadata={})]"
      ]
     },
     "execution_count": 83,
     "metadata": {},
     "output_type": "execute_result"
    }
   ],
   "source": [
    "messages"
   ]
  },
  {
   "cell_type": "markdown",
   "metadata": {},
   "source": [
    "### Generate the second summary report\n",
    "\n",
    "Here we add the previous LLM response and the new instructions to the list of messages and send the whole thing to the LLM so it has access to the historical conversation"
   ]
  },
  {
   "cell_type": "code",
   "execution_count": 91,
   "metadata": {},
   "outputs": [],
   "source": [
    "prompt_txt = f\"\"\"\n",
    "Use only the research paper abstract from earlier and create a detailed report for a healthcare company.\n",
    "In the report, also include bullet points (3 max) for pros and cons of ethics in Generative AI\n",
    "\"\"\"\n",
    "messages.append(HumanMessage(content=prompt_txt))\n",
    "user_instruction = {'instruction': messages}\n",
    "response = chain.invoke(user_instruction)\n",
    "messages.append(response)"
   ]
  },
  {
   "cell_type": "code",
   "execution_count": 92,
   "metadata": {},
   "outputs": [
    {
     "name": "stdout",
     "output_type": "stream",
     "text": [
      "**Detailed Report on Ethical Considerations in Generative AI for Healthcare**\n",
      "\n",
      "**Introduction:**\n",
      "The rapid adoption of generative artificial intelligence (AI) technologies, such as ChatGPT, has raised significant ethical concerns, particularly in high-stakes fields like healthcare. While guidelines and regulations are still evolving, there is a pressing need to address the ethical implications of these technologies comprehensively. This report synthesizes findings from a systematic scoping review of existing research on generative AI in healthcare, highlighting current ethical discussions and proposing a checklist for ethical assessment.\n",
      "\n",
      "**Key Findings:**\n",
      "- A systematic review of 2,859 articles from major academic databases identified 193 relevant studies focused on generative AI applications in healthcare, categorized by data modality (text, image, structured data) and ethical issues.\n",
      "- Ethical discussions primarily centered around text-based applications, particularly those involving large language models (LLMs) like GPT. Key ethical principles identified include non-maleficence, equity, and privacy.\n",
      "- For image and structured data, the focus was on data synthesis and encryption, with many articles only briefly mentioning ethical considerations without in-depth analysis.\n",
      "\n",
      "**Proposed Ethics Checklist:**\n",
      "To enhance transparency and accountability in generative AI development, an ethics checklist is proposed. This checklist can be integrated into the peer review and publication processes, ensuring that ethical considerations are systematically addressed in research and real-world applications.\n",
      "\n",
      "**Pros and Cons of Ethics in Generative AI:**\n",
      "\n",
      "**Pros:**\n",
      "- **Enhanced Trust:** A robust ethical framework can foster user trust in generative AI technologies, ensuring that stakeholders feel confident in their applications.\n",
      "- **Guided Development:** An ethics checklist can guide researchers and developers in identifying and addressing potential ethical issues early in the design and implementation phases.\n",
      "- **Improved Accountability:** Establishing clear ethical standards can hold developers accountable for the implications of their technologies, promoting responsible innovation.\n",
      "\n",
      "**Cons:**\n",
      "- **Complexity of Implementation:** Integrating ethical considerations into existing frameworks may complicate the research and development processes, potentially slowing innovation.\n",
      "- **Subjectivity of Ethics:** Ethical principles can be subjective and context-dependent, leading to challenges in reaching consensus on what constitutes ethical use in diverse applications.\n",
      "- **Potential for Overregulation:** Excessive focus on ethics may lead to overregulation, stifling creativity and limiting the potential benefits of generative AI technologies in healthcare.\n",
      "\n",
      "**Conclusion:**\n",
      "As generative AI continues to evolve and integrate into healthcare, addressing ethical considerations is paramount. By implementing a comprehensive ethics checklist and fostering ongoing discussions, stakeholders can navigate the complexities of these technologies while maximizing their benefits for patient care and research.\n"
     ]
    }
   ],
   "source": [
    "print(response.content)"
   ]
  },
  {
   "cell_type": "markdown",
   "metadata": {},
   "source": [
    "### Generate the third summary report\n",
    "\n",
    "Here we add the previous LLM response and the new instructions to the list of messages and send the whole thing to the LLM so it has access to the historical conversation"
   ]
  },
  {
   "cell_type": "code",
   "execution_count": 93,
   "metadata": {},
   "outputs": [],
   "source": [
    "prompt_txt = f\"\"\"\n",
    "Use only the research paper abstract from earlier and create a detailed report for a generative AI company solving healthcare problems.\n",
    "In the report also include sections for key points mentioned around Generative AI for text, images and structured data based healthcare\n",
    "\"\"\"\n",
    "messages.append(HumanMessage(content=prompt_txt))\n",
    "user_instruction = {'instruction': messages}\n",
    "response = chain.invoke(user_instruction)"
   ]
  },
  {
   "cell_type": "code",
   "execution_count": null,
   "metadata": {},
   "outputs": [],
   "source": []
  }
 ],
 "metadata": {
  "kernelspec": {
   "display_name": ".venv",
   "language": "python",
   "name": "python3"
  },
  "language_info": {
   "codemirror_mode": {
    "name": "ipython",
    "version": 3
   },
   "file_extension": ".py",
   "mimetype": "text/x-python",
   "name": "python",
   "nbconvert_exporter": "python",
   "pygments_lexer": "ipython3",
   "version": "3.11.6"
  }
 },
 "nbformat": 4,
 "nbformat_minor": 2
}
