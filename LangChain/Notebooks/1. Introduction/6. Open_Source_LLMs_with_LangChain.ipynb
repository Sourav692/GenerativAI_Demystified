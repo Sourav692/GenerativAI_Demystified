{
 "cells": [
  {
   "cell_type": "markdown",
   "id": "abc07a50",
   "metadata": {},
   "source": [
    "# Using Open Source LLMs with LangChain\n",
    "\n",
    "Here we will see briefly how you can use popular commercial LLM APIs with LangChain including\n",
    "\n",
    "- OpenAI GPT (Paid)\n",
    "- Google Gemini (Paid and Free)"
   ]
  },
  {
   "cell_type": "code",
   "execution_count": 1,
   "id": "36e932cf",
   "metadata": {},
   "outputs": [
    {
     "name": "stderr",
     "output_type": "stream",
     "text": [
      "ERROR: pip's dependency resolver does not currently take into account all the packages that are installed. This behaviour is the source of the following dependency conflicts.\n",
      "langchain-community 0.3.26 requires langchain<1.0.0,>=0.3.26, but you have langchain 0.3.4 which is incompatible.\n",
      "langchain-community 0.3.26 requires langchain-core<1.0.0,>=0.3.66, but you have langchain-core 0.3.63 which is incompatible.\n",
      "langchain-huggingface 0.3.0 requires langchain-core<1.0.0,>=0.3.65, but you have langchain-core 0.3.63 which is incompatible.\n"
     ]
    }
   ],
   "source": [
    "!pip install -qq langchain==0.3.4\n",
    "!pip install -qq langchain-huggingface==0.1.0\n",
    "!pip install -qq langchain-groq==0.2.0\n",
    "!pip install -qq transformers==4.46.3"
   ]
  },
  {
   "cell_type": "code",
   "execution_count": null,
   "id": "c764c21b",
   "metadata": {},
   "outputs": [],
   "source": [
    "# from getpass import getpass\n",
    "\n",
    "# hf_key = getpass(\"Enter your Hugging Face Access Token: \")"
   ]
  },
  {
   "cell_type": "code",
   "execution_count": 2,
   "id": "0fe626c0",
   "metadata": {},
   "outputs": [
    {
     "data": {
      "text/plain": [
       "True"
      ]
     },
     "execution_count": 2,
     "metadata": {},
     "output_type": "execute_result"
    }
   ],
   "source": [
    "from dotenv import load_dotenv\n",
    "import os\n",
    "\n",
    "load_dotenv()"
   ]
  },
  {
   "cell_type": "markdown",
   "id": "1b5b7e18",
   "metadata": {},
   "source": [
    "## Use LLMs locally with LangChain and Hugging Face"
   ]
  },
  {
   "cell_type": "code",
   "execution_count": null,
   "id": "c1a1e638",
   "metadata": {},
   "outputs": [
    {
     "name": "stderr",
     "output_type": "stream",
     "text": [
      "d:\\2. My Github Codebase\\GenerativAI_Demystified\\.venv\\Lib\\site-packages\\tqdm\\auto.py:21: TqdmWarning: IProgress not found. Please update jupyter and ipywidgets. See https://ipywidgets.readthedocs.io/en/stable/user_install.html\n",
      "  from .autonotebook import tqdm as notebook_tqdm\n"
     ]
    }
   ],
   "source": [
    "from langchain_huggingface import ChatHuggingFace, HuggingFacePipeline\n",
    "\n",
    "model_id = \"meta-llama/Llama-3.2-1B-Instruct\"\n",
    "\n",
    "llm = HuggingFacePipeline.from_model_id(\n",
    "    model_id=model_id,\n",
    "    task=\"text-generation\",\n",
    "    pipeline_kwargs=dict(\n",
    "        max_new_tokens=1000,\n",
    "        do_sample=False,\n",
    "        temperature=0,\n",
    "        return_full_text=False,\n",
    "    ),\n",
    "    device=0\n",
    ")\n",
    "llm.pipeline.tokenizer.pad_token_id = llm.pipeline.tokenizer.eos_token_id\n",
    "chat_llama = ChatHuggingFace(llm=llm)"
   ]
  },
  {
   "cell_type": "code",
   "execution_count": null,
   "id": "5c75d51e",
   "metadata": {},
   "outputs": [],
   "source": [
    "from langchain_core.prompts import ChatPromptTemplate\n",
    "\n",
    "PROMPT = \"Explain {topic} in 2 bullets\"\n",
    "prompt = ChatPromptTemplate.from_template(PROMPT)\n",
    "\n",
    "chain = (\n",
    "         prompt\n",
    "           |\n",
    "         chat_llama\n",
    ")\n",
    "\n",
    "response = chain.invoke({\"topic\": \"AI\"})\n",
    "print(response.content)"
   ]
  },
  {
   "cell_type": "markdown",
   "id": "3afa6d05",
   "metadata": {},
   "source": [
    "## Use LLMs with LangChain and Hugging Face Inference APIs"
   ]
  },
  {
   "cell_type": "code",
   "execution_count": null,
   "id": "8fe612fe",
   "metadata": {},
   "outputs": [],
   "source": [
    "from langchain_huggingface import ChatHuggingFace, HuggingFaceEndpoint\n",
    "\n",
    "model_id = \"meta-llama/Llama-3.2-1B-Instruct\"\n",
    "\n",
    "llm_api = HuggingFaceEndpoint(\n",
    "    repo_id=model_id,\n",
    "    task=\"text-generation\",\n",
    "    max_new_tokens=1000,\n",
    "    do_sample=False,\n",
    "    temperature=0,\n",
    ")\n",
    "\n",
    "chat_llama = ChatHuggingFace(llm=llm_api)"
   ]
  },
  {
   "cell_type": "code",
   "execution_count": null,
   "id": "61225674",
   "metadata": {},
   "outputs": [],
   "source": [
    "from langchain_core.prompts import ChatPromptTemplate\n",
    "\n",
    "PROMPT = \"Explain {topic} in 2 bullets\"\n",
    "prompt = ChatPromptTemplate.from_template(PROMPT)\n",
    "\n",
    "chain = (\n",
    "         prompt\n",
    "           |\n",
    "         chat_llama\n",
    ")\n",
    "\n",
    "response = chain.invoke({\"topic\": \"AI\"})\n",
    "print(response.content)"
   ]
  },
  {
   "cell_type": "markdown",
   "id": "47f39963",
   "metadata": {},
   "source": [
    "## Load Groq API Credentials\n"
   ]
  },
  {
   "cell_type": "code",
   "execution_count": null,
   "id": "0a666a2a",
   "metadata": {},
   "outputs": [],
   "source": [
    "from dotenv import load_dotenv\n",
    "import os\n",
    "\n",
    "load_dotenv()"
   ]
  },
  {
   "cell_type": "markdown",
   "id": "1bcf1d1b",
   "metadata": {},
   "source": [
    "## Use LLMs with LangChain and Groq API"
   ]
  },
  {
   "cell_type": "code",
   "execution_count": null,
   "id": "abe2cb3b",
   "metadata": {},
   "outputs": [],
   "source": [
    "from langchain_groq import ChatGroq\n",
    "\n",
    "chat_llama = ChatGroq(\n",
    "    model=\"llama-3.2-3b-preview\",\n",
    "    temperature=0,\n",
    "    max_tokens=1000,\n",
    ")"
   ]
  },
  {
   "cell_type": "code",
   "execution_count": null,
   "id": "74be1942",
   "metadata": {},
   "outputs": [],
   "source": [
    "from langchain_core.prompts import ChatPromptTemplate\n",
    "\n",
    "PROMPT = \"Explain {topic} in 2 bullets\"\n",
    "prompt = ChatPromptTemplate.from_template(PROMPT)\n",
    "\n",
    "chain = (\n",
    "         prompt\n",
    "           |\n",
    "         chat_llama\n",
    ")\n",
    "\n",
    "response = chain.invoke({\"topic\": \"AI\"})\n",
    "print(response.content)"
   ]
  }
 ],
 "metadata": {
  "kernelspec": {
   "display_name": ".venv",
   "language": "python",
   "name": "python3"
  },
  "language_info": {
   "codemirror_mode": {
    "name": "ipython",
    "version": 3
   },
   "file_extension": ".py",
   "mimetype": "text/x-python",
   "name": "python",
   "nbconvert_exporter": "python",
   "pygments_lexer": "ipython3",
   "version": "3.12.10"
  }
 },
 "nbformat": 4,
 "nbformat_minor": 5
}
