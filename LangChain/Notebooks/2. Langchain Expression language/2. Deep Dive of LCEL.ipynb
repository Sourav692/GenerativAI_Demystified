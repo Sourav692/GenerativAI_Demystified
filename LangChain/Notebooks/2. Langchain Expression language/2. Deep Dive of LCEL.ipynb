{
 "cells": [
  {
   "cell_type": "markdown",
   "id": "0a4a44e7",
   "metadata": {},
   "source": [
    "# Deep Dive of LLM Chains with LCEL"
   ]
  },
  {
   "cell_type": "code",
   "execution_count": 1,
   "id": "a0d0d74a",
   "metadata": {},
   "outputs": [
    {
     "name": "stderr",
     "output_type": "stream",
     "text": [
      "ERROR: pip's dependency resolver does not currently take into account all the packages that are installed. This behaviour is the source of the following dependency conflicts.\n",
      "langchain-community 0.3.26 requires langchain<1.0.0,>=0.3.26, but you have langchain 0.3.11 which is incompatible.\n",
      "langchain-community 0.3.26 requires langchain-core<1.0.0,>=0.3.66, but you have langchain-core 0.3.63 which is incompatible.\n"
     ]
    }
   ],
   "source": [
    "!pip install -qq langchain==0.3.11\n",
    "!pip install -qq langchain-openai==0.2.12\n",
    "!pip install -qq langchain-community==0.3.11"
   ]
  },
  {
   "cell_type": "code",
   "execution_count": 2,
   "id": "0011f50c",
   "metadata": {},
   "outputs": [
    {
     "name": "stdout",
     "output_type": "stream",
     "text": [
      "Collecting grandalf\n",
      "  Downloading grandalf-0.8-py3-none-any.whl.metadata (1.7 kB)\n",
      "Requirement already satisfied: pyparsing in d:\\2. my github codebase\\generativai_demystified\\.venv\\lib\\site-packages (from grandalf) (3.2.3)\n",
      "Downloading grandalf-0.8-py3-none-any.whl (41 kB)\n",
      "Installing collected packages: grandalf\n",
      "Successfully installed grandalf-0.8\n"
     ]
    }
   ],
   "source": [
    "# for drawing text graphs\n",
    "!pip install grandalf"
   ]
  },
  {
   "cell_type": "code",
   "execution_count": 3,
   "id": "a1542b86",
   "metadata": {},
   "outputs": [
    {
     "data": {
      "text/plain": [
       "True"
      ]
     },
     "execution_count": 3,
     "metadata": {},
     "output_type": "execute_result"
    }
   ],
   "source": [
    "import os\n",
    "from dotenv import load_dotenv\n",
    "load_dotenv()"
   ]
  },
  {
   "cell_type": "code",
   "execution_count": 4,
   "id": "e3cc88b0",
   "metadata": {},
   "outputs": [],
   "source": [
    "from langchain_openai import ChatOpenAI\n",
    "\n",
    "chatgpt = ChatOpenAI(model_name='gpt-4o-mini', temperature=0)"
   ]
  },
  {
   "cell_type": "markdown",
   "id": "d399fe57",
   "metadata": {},
   "source": [
    "## Working with LangChain Chains\n",
    "\n",
    "Using an LLM in isolation is fine for simple applications, but more complex applications require chaining LLMs - either with each other or with other components. Also running on multiple data points can be done easily with chains.\n",
    "\n",
    "Chain's are the legacy interface for \"chained\" applications. We define a Chain very generically as a sequence of calls to components, which can include other chains.\n",
    "\n",
    "Here we will be using LCEL chains exclusively"
   ]
  },
  {
   "cell_type": "markdown",
   "id": "a4b29644",
   "metadata": {},
   "source": [
    "### LLM Chain with LCEL\n",
    "\n",
    "LangChain Expression Language (LCEL) connects prompts, models, parsers and retrieval components using a `|` pipe operator.\n",
    "\n",
    "Any runnables can be \"chained\" together into sequences. The output of the previous runnable's `.invoke()` call is passed as input to the next runnable. This can be done using the pipe operator `(|)`, or the more explicit `.pipe()` method, which does the same thing.\n",
    "\n",
    "The resulting `RunnableSequence` is itself a runnable, which means it can be invoked, streamed, or further chained just like any other runnable."
   ]
  },
  {
   "cell_type": "code",
   "execution_count": 5,
   "id": "4ce12861",
   "metadata": {},
   "outputs": [],
   "source": [
    "from langchain_core.prompts import ChatPromptTemplate\n",
    "\n",
    "prompt_txt = \"\"\"Explain to me about {topic} in 3 bullet points\"\"\"\n",
    "prompt = ChatPromptTemplate.from_template(prompt_txt)\n",
    "\n",
    "# you can also write this as llm_chain = prompt | chatgpt\n",
    "\n",
    "llm_chain = (\n",
    "    prompt\n",
    "      |\n",
    "    chatgpt\n",
    ")"
   ]
  },
  {
   "cell_type": "code",
   "execution_count": 6,
   "id": "a2444373",
   "metadata": {},
   "outputs": [
    {
     "data": {
      "text/plain": [
       "langchain_core.runnables.base.RunnableSequence"
      ]
     },
     "execution_count": 6,
     "metadata": {},
     "output_type": "execute_result"
    }
   ],
   "source": [
    "type(llm_chain)"
   ]
  },
  {
   "cell_type": "code",
   "execution_count": 7,
   "id": "3f323f11",
   "metadata": {},
   "outputs": [
    {
     "data": {
      "text/plain": [
       "ChatPromptTemplate(input_variables=['topic'], input_types={}, partial_variables={}, messages=[HumanMessagePromptTemplate(prompt=PromptTemplate(input_variables=['topic'], input_types={}, partial_variables={}, template='Explain to me about {topic} in 3 bullet points'), additional_kwargs={})])\n",
       "| ChatOpenAI(client=<openai.resources.chat.completions.Completions object at 0x0000011711A4A4E0>, async_client=<openai.resources.chat.completions.AsyncCompletions object at 0x0000011712B2C4D0>, root_client=<openai.OpenAI object at 0x00000117117ED160>, root_async_client=<openai.AsyncOpenAI object at 0x0000011712B02900>, model_name='gpt-4o-mini', temperature=0.0, model_kwargs={}, openai_api_key=SecretStr('**********'))"
      ]
     },
     "execution_count": 7,
     "metadata": {},
     "output_type": "execute_result"
    }
   ],
   "source": [
    "llm_chain"
   ]
  },
  {
   "cell_type": "code",
   "execution_count": 8,
   "id": "62a6e2da",
   "metadata": {},
   "outputs": [
    {
     "data": {
      "image/png": "[encoded data removed]",
      "text/plain": [
       "<IPython.core.display.Image object>"
      ]
     },
     "metadata": {},
     "output_type": "display_data"
    }
   ],
   "source": [
    "from IPython.display import Image, display\n",
    "\n",
    "display(Image(llm_chain.get_graph().draw_mermaid_png()))"
   ]
  },
  {
   "cell_type": "code",
   "execution_count": 9,
   "id": "43ad7da4",
   "metadata": {},
   "outputs": [
    {
     "name": "stdout",
     "output_type": "stream",
     "text": [
      "    +-------------+    \n",
      "    | PromptInput |    \n",
      "    +-------------+    \n",
      "           *           \n",
      "           *           \n",
      "           *           \n",
      "+--------------------+ \n",
      "| ChatPromptTemplate | \n",
      "+--------------------+ \n",
      "           *           \n",
      "           *           \n",
      "           *           \n",
      "    +------------+     \n",
      "    | ChatOpenAI |     \n",
      "    +------------+     \n",
      "           *           \n",
      "           *           \n",
      "           *           \n",
      " +------------------+  \n",
      " | ChatOpenAIOutput |  \n",
      " +------------------+  \n"
     ]
    }
   ],
   "source": [
    "print(llm_chain.get_graph().draw_ascii())"
   ]
  },
  {
   "cell_type": "code",
   "execution_count": 10,
   "id": "a6e50078",
   "metadata": {},
   "outputs": [
    {
     "data": {
      "text/plain": [
       "AIMessage(content='- **Definition and Functionality**: Generative AI refers to a class of artificial intelligence models that can create new content, such as text, images, music, or videos, by learning patterns and structures from existing data. These models, like GPT-3 for text or DALL-E for images, use deep learning techniques to generate outputs that resemble human-created content.\\n\\n- **Applications**: Generative AI has a wide range of applications across various fields, including content creation (e.g., writing articles, generating art), entertainment (e.g., video game design, music composition), and even in industries like healthcare (e.g., drug discovery, personalized medicine) where it can simulate complex biological processes.\\n\\n- **Ethical Considerations**: The rise of generative AI raises important ethical questions, such as concerns about copyright infringement, misinformation, and the potential for misuse in creating deepfakes or harmful content. Addressing these issues is crucial for the responsible development and deployment of generative AI technologies.', additional_kwargs={'refusal': None}, response_metadata={'token_usage': {'completion_tokens': 201, 'prompt_tokens': 19, 'total_tokens': 220, 'completion_tokens_details': {'accepted_prediction_tokens': 0, 'audio_tokens': 0, 'reasoning_tokens': 0, 'rejected_prediction_tokens': 0}, 'prompt_tokens_details': {'audio_tokens': 0, 'cached_tokens': 0}}, 'model_name': 'gpt-4o-mini-2024-07-18', 'system_fingerprint': 'fp_34a54ae93c', 'finish_reason': 'stop', 'logprobs': None}, id='run--c3040d5c-8c32-4a38-ad8f-85cc6f25eca5-0', usage_metadata={'input_tokens': 19, 'output_tokens': 201, 'total_tokens': 220, 'input_token_details': {'audio': 0, 'cache_read': 0}, 'output_token_details': {'audio': 0, 'reasoning': 0}})"
      ]
     },
     "execution_count": 10,
     "metadata": {},
     "output_type": "execute_result"
    }
   ],
   "source": [
    "response = llm_chain.invoke({'topic': 'Generative AI'})\n",
    "response"
   ]
  },
  {
   "cell_type": "code",
   "execution_count": 11,
   "id": "29a8ca28",
   "metadata": {},
   "outputs": [
    {
     "name": "stdout",
     "output_type": "stream",
     "text": [
      "- **Definition and Functionality**: Generative AI refers to a class of artificial intelligence models that can create new content, such as text, images, music, or videos, by learning patterns and structures from existing data. These models, like GPT-3 for text or DALL-E for images, use deep learning techniques to generate outputs that resemble human-created content.\n",
      "\n",
      "- **Applications**: Generative AI has a wide range of applications across various fields, including content creation (e.g., writing articles, generating art), entertainment (e.g., video game design, music composition), and even in industries like healthcare (e.g., drug discovery, personalized medicine) where it can simulate complex biological processes.\n",
      "\n",
      "- **Ethical Considerations**: The rise of generative AI raises important ethical questions, such as concerns about copyright infringement, misinformation, and the potential for misuse in creating deepfakes or harmful content. Addressing these issues is crucial for the responsible development and deployment of generative AI technologies.\n"
     ]
    }
   ],
   "source": [
    "print(response.content)"
   ]
  },
  {
   "cell_type": "code",
   "execution_count": 12,
   "id": "f9690a8c",
   "metadata": {},
   "outputs": [],
   "source": [
    "from langchain_core.output_parsers import StrOutputParser\n",
    "\n",
    "# chain with an output parser\n",
    "llm_chain = (\n",
    "    prompt\n",
    "      |\n",
    "    chatgpt\n",
    "      |\n",
    "    StrOutputParser()\n",
    ")"
   ]
  },
  {
   "cell_type": "code",
   "execution_count": 13,
   "id": "b302c924",
   "metadata": {},
   "outputs": [
    {
     "data": {
      "text/plain": [
       "ChatPromptTemplate(input_variables=['topic'], input_types={}, partial_variables={}, messages=[HumanMessagePromptTemplate(prompt=PromptTemplate(input_variables=['topic'], input_types={}, partial_variables={}, template='Explain to me about {topic} in 3 bullet points'), additional_kwargs={})])\n",
       "| ChatOpenAI(client=<openai.resources.chat.completions.Completions object at 0x0000011711A4A4E0>, async_client=<openai.resources.chat.completions.AsyncCompletions object at 0x0000011712B2C4D0>, root_client=<openai.OpenAI object at 0x00000117117ED160>, root_async_client=<openai.AsyncOpenAI object at 0x0000011712B02900>, model_name='gpt-4o-mini', temperature=0.0, model_kwargs={}, openai_api_key=SecretStr('**********'))\n",
       "| StrOutputParser()"
      ]
     },
     "execution_count": 13,
     "metadata": {},
     "output_type": "execute_result"
    }
   ],
   "source": [
    "llm_chain"
   ]
  },
  {
   "cell_type": "code",
   "execution_count": 14,
   "id": "586705b3",
   "metadata": {},
   "outputs": [
    {
     "data": {
      "image/png": "[encoded data removed]",
      "text/plain": [
       "<IPython.core.display.Image object>"
      ]
     },
     "metadata": {},
     "output_type": "display_data"
    }
   ],
   "source": [
    "display(Image(llm_chain.get_graph().draw_mermaid_png()))"
   ]
  },
  {
   "cell_type": "code",
   "execution_count": 15,
   "id": "c7aa8899",
   "metadata": {},
   "outputs": [
    {
     "name": "stdout",
     "output_type": "stream",
     "text": [
      "- **Definition and Functionality**: Generative AI refers to a class of artificial intelligence models that can create new content, such as text, images, music, or videos, by learning patterns from existing data. These models, like GPT-3 for text or DALL-E for images, use deep learning techniques to generate outputs that mimic human-like creativity.\n",
      "\n",
      "- **Applications**: Generative AI has a wide range of applications, including content creation (e.g., writing articles, generating artwork), enhancing creativity in design, automating customer service interactions, and even aiding in drug discovery by simulating molecular structures.\n",
      "\n",
      "- **Ethical Considerations**: The rise of generative AI raises important ethical questions, such as the potential for misuse in creating deepfakes, issues of copyright and ownership of generated content, and the need for transparency in AI-generated outputs to avoid misinformation and bias.\n"
     ]
    }
   ],
   "source": [
    "response = llm_chain.invoke({'topic': 'Generative AI'})\n",
    "print(response)"
   ]
  },
  {
   "cell_type": "code",
   "execution_count": 16,
   "id": "3de9499c",
   "metadata": {},
   "outputs": [],
   "source": [
    "reviews = [\n",
    "    f\"\"\"\n",
    "    Purchased this adorable koala plush toy for my nephew's birthday,\n",
    "    and he's absolutely smitten with it, carrying it around everywhere he goes.\n",
    "    The plush is incredibly soft, and the koala's face has an endearing expression.\n",
    "    However, I did find it a tad on the smaller side given its price point.\n",
    "    I believe there may be larger alternatives available at a similar price.\n",
    "    To my delight, it arrived a day earlier than anticipated,\n",
    "    allowing me to enjoy it briefly before gifting it to him.\n",
    "    \"\"\",\n",
    "    f\"\"\"\n",
    "    Required a stylish lamp for my office space, and this particular one\n",
    "    came with added storage at a reasonable price.\n",
    "    The delivery was surprisingly quick, arriving within just two days.\n",
    "    However, the pull string for the lamp suffered damage during transit.\n",
    "    To my relief, the company promptly dispatched a replacement,\n",
    "    which arrived within a few days. Assembly was a breeze.\n",
    "    Then, I encountered an issue with a missing component,\n",
    "    but their support team responded swiftly and provided the missing part.\n",
    "    It appears to be a commendable company that genuinely values its\n",
    "    customers and the quality of its products.\n",
    "    \"\"\"\n",
    "    ]"
   ]
  },
  {
   "cell_type": "code",
   "execution_count": 17,
   "id": "70407f73",
   "metadata": {},
   "outputs": [],
   "source": [
    "from langchain_core.prompts import ChatPromptTemplate\n",
    "\n",
    "prompt = \"\"\"\n",
    "            Act as a product review analyst.\n",
    "            Your task is to generate a short summary of a product\n",
    "            review from an ecommerce site.\n",
    "\n",
    "            Generate a summary of the review (max 2 lines)\n",
    "            Also show both the positives and negatives from the review (max 2 bullets)\n",
    "\n",
    "            ```{review}```\n",
    "\"\"\"\n",
    "\n",
    "prompt_template = ChatPromptTemplate.from_template(prompt)\n",
    "llm_chain = (\n",
    "    prompt_template\n",
    "      |\n",
    "    chatgpt\n",
    "      |\n",
    "    StrOutputParser()\n",
    ")"
   ]
  },
  {
   "cell_type": "code",
   "execution_count": 18,
   "id": "c21bd6d6",
   "metadata": {},
   "outputs": [
    {
     "data": {
      "text/plain": [
       "\"\\n    Purchased this adorable koala plush toy for my nephew's birthday,\\n    and he's absolutely smitten with it, carrying it around everywhere he goes.\\n    The plush is incredibly soft, and the koala's face has an endearing expression.\\n    However, I did find it a tad on the smaller side given its price point.\\n    I believe there may be larger alternatives available at a similar price.\\n    To my delight, it arrived a day earlier than anticipated,\\n    allowing me to enjoy it briefly before gifting it to him.\\n    \""
      ]
     },
     "execution_count": 18,
     "metadata": {},
     "output_type": "execute_result"
    }
   ],
   "source": [
    "reviews[0]"
   ]
  },
  {
   "cell_type": "code",
   "execution_count": 19,
   "id": "a54c6f6d",
   "metadata": {},
   "outputs": [],
   "source": [
    "result = llm_chain.invoke({'review': reviews[0]})"
   ]
  },
  {
   "cell_type": "code",
   "execution_count": 20,
   "id": "19cdb122",
   "metadata": {},
   "outputs": [
    {
     "data": {
      "text/plain": [
       "2"
      ]
     },
     "execution_count": 20,
     "metadata": {},
     "output_type": "execute_result"
    }
   ],
   "source": [
    "formatted_reviews = [{'review': review}\n",
    "                        for review in reviews]\n",
    "\n",
    "results = llm_chain.map().invoke(formatted_reviews)\n",
    "len(results)"
   ]
  },
  {
   "cell_type": "code",
   "execution_count": 21,
   "id": "0335e26e",
   "metadata": {},
   "outputs": [
    {
     "name": "stdout",
     "output_type": "stream",
     "text": [
      "**Summary:** The koala plush toy is soft and adorable, making it a hit with the recipient, though its size may not justify the price.\n",
      "\n",
      "**Positives:**\n",
      "- Incredibly soft and endearing design.\n",
      "- Early delivery enhanced the gifting experience.\n",
      "\n",
      "**Negatives:**\n",
      "- Smaller than expected for the price.\n",
      "- Larger alternatives may be available at a similar cost.\n",
      "\n",
      "**Summary:** A stylish and functional lamp with quick delivery and excellent customer support, though it had initial issues with damaged and missing components.\n",
      "\n",
      "**Positives:**\n",
      "- Quick delivery and easy assembly.\n",
      "- Responsive customer support that promptly addressed issues.\n",
      "\n",
      "**Negatives:**\n",
      "- Pull string was damaged during transit.\n",
      "- Missing component required additional support intervention.\n",
      "\n"
     ]
    }
   ],
   "source": [
    "for result in results:\n",
    "    print(result)\n",
    "    print()"
   ]
  },
  {
   "cell_type": "code",
   "execution_count": null,
   "id": "6a10a01e",
   "metadata": {},
   "outputs": [],
   "source": []
  }
 ],
 "metadata": {
  "kernelspec": {
   "display_name": ".venv",
   "language": "python",
   "name": "python3"
  },
  "language_info": {
   "codemirror_mode": {
    "name": "ipython",
    "version": 3
   },
   "file_extension": ".py",
   "mimetype": "text/x-python",
   "name": "python",
   "nbconvert_exporter": "python",
   "pygments_lexer": "ipython3",
   "version": "3.12.10"
  }
 },
 "nbformat": 4,
 "nbformat_minor": 5
}
