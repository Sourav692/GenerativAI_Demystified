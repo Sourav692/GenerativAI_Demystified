{
 "cells": [
  {
   "cell_type": "markdown",
   "metadata": {
    "application/vnd.databricks.v1+cell": {
     "cellMetadata": {},
     "inputWidgets": {},
     "nuid": "efbf6a47-0022-4f5e-b169-1ecb702b1f76",
     "showTitle": false,
     "tableResultSettingsMap": {},
     "title": ""
    }
   },
   "source": [
    "### Definition \n",
    "\n",
    "Memory in LangChain refers to the ability of a workflow to store and retrieve information about previous interactions. By keeping track of past inputs and outputs, LangChain enables more dynamic and context-aware applications. \n",
    "\n",
    "Key Features of LangChain Memory \n",
    "   * Context Retention: Stores details of prior queries and responses to ensure continuity in conversations.  \n",
    "   * Flexible Storage Options: Memory can be managed in various ways, such as in-memory buffers or external storage systems.  \n",
    "   * Scalability: LangChain supports scalable memory solutions for applications requiring persistent or large-scale context tracking.\n",
    "\n"
   ]
  },
  {
   "cell_type": "markdown",
   "metadata": {
    "application/vnd.databricks.v1+cell": {
     "cellMetadata": {},
     "inputWidgets": {},
     "nuid": "ff9df9a3-38b9-4998-985b-90966020d10e",
     "showTitle": false,
     "tableResultSettingsMap": {},
     "title": ""
    }
   },
   "source": [
    "**Types of Memory in LangChain**\n",
    "* ConversationBufferMemory: Stores the entire conversation history as a buffer.  \n",
    "* ConversationSummaryMemory: Summarizes past interactions to reduce memory usage.  \n",
    "* Custom Memory Solutions: Allows you to design memory components tailored to specific application needs.\n"
   ]
  },
  {
   "cell_type": "markdown",
   "metadata": {
    "application/vnd.databricks.v1+cell": {
     "cellMetadata": {},
     "inputWidgets": {},
     "nuid": "f78b7b08-5ace-46a0-bc5e-45719a2a110b",
     "showTitle": false,
     "tableResultSettingsMap": {},
     "title": ""
    }
   },
   "source": [
    "### Implement Conversational Memory\n",
    "* Without memory, chatbots and similar applications treat every query as isolated, leading to inconsistent or contextually irrelevant responses. \n",
    "* With memory, applications can recall user preferences, previously asked questions, or any context shared earlier in the interaction."
   ]
  },
  {
   "cell_type": "code",
   "execution_count": 0,
   "metadata": {
    "application/vnd.databricks.v1+cell": {
     "cellMetadata": {},
     "inputWidgets": {},
     "nuid": "e7e6736e-99f5-4607-90b6-1e1fb58aa27a",
     "showTitle": false,
     "tableResultSettingsMap": {},
     "title": ""
    }
   },
   "outputs": [],
   "source": [
    "from getpass import getpass\n",
    "\n",
    "OPENAI_KEY = getpass('Enter Open AI API Key: ')"
   ]
  },
  {
   "cell_type": "code",
   "execution_count": 0,
   "metadata": {
    "application/vnd.databricks.v1+cell": {
     "cellMetadata": {},
     "inputWidgets": {},
     "nuid": "f75f4795-b935-43d2-827f-c9def35c7ae9",
     "showTitle": false,
     "tableResultSettingsMap": {},
     "title": ""
    }
   },
   "outputs": [],
   "source": [
    "import os\n",
    "\n",
    "os.environ['OPENAI_API_KEY'] = OPENAI_KEY"
   ]
  },
  {
   "cell_type": "code",
   "execution_count": 0,
   "metadata": {
    "application/vnd.databricks.v1+cell": {
     "cellMetadata": {},
     "inputWidgets": {},
     "nuid": "5f5d521b-8d42-470a-a48b-a010c5c68cb6",
     "showTitle": false,
     "tableResultSettingsMap": {},
     "title": ""
    }
   },
   "outputs": [],
   "source": [
    "from langchain.chains import LLMChain\n",
    "from langchain.llms import OpenAI\n",
    "from langchain.prompts import PromptTemplate\n",
    "from langchain.chains import ConversationChain\n",
    "from langchain.memory import ConversationBufferMemory"
   ]
  },
  {
   "cell_type": "code",
   "execution_count": 0,
   "metadata": {
    "application/vnd.databricks.v1+cell": {
     "cellMetadata": {},
     "inputWidgets": {},
     "nuid": "9a108c99-11de-4713-bca8-f9dfb290ec5a",
     "showTitle": false,
     "tableResultSettingsMap": {},
     "title": ""
    }
   },
   "outputs": [],
   "source": [
    "llm = OpenAI(model = 'gpt-3.5-turbo-instruct',temperature=0.7)"
   ]
  },
  {
   "cell_type": "code",
   "execution_count": 0,
   "metadata": {
    "application/vnd.databricks.v1+cell": {
     "cellMetadata": {},
     "inputWidgets": {},
     "nuid": "14a5ecf9-1c02-44aa-bf1d-77a6e19a8679",
     "showTitle": false,
     "tableResultSettingsMap": {},
     "title": ""
    }
   },
   "outputs": [],
   "source": [
    "# Add Memory  for contexr\n",
    "memory = ConversationBufferMemory()\n",
    "\n",
    "# Create a Conversation Chain with Memory\n",
    "chatbot = ConversationChain(llm = llm,memory = memory)\n",
    "\n",
    "# Start a conversation\n",
    "\n",
    "print(\"Hello, I am a chatbot. I am here to help you. You can ask me anything.\")\n",
    "while True:\n",
    "    user_input = input(\"You: \")\n",
    "    # Exit Condition\n",
    "    if user_input.lower() == 'exit':\n",
    "        print(\"Goodbye!\")\n",
    "        break\n",
    "    \n",
    "    \n",
    "    response = chatbot.run(user_input)\n",
    "    print(\"Chatbot:\",response)"
   ]
  },
  {
   "cell_type": "markdown",
   "metadata": {
    "application/vnd.databricks.v1+cell": {
     "cellMetadata": {},
     "inputWidgets": {},
     "nuid": "18d9603d-cc33-44e1-873d-e081514658e8",
     "showTitle": false,
     "tableResultSettingsMap": {},
     "title": ""
    }
   },
   "source": [
    "### Implement Summarization Memory"
   ]
  },
  {
   "cell_type": "code",
   "execution_count": 0,
   "metadata": {
    "application/vnd.databricks.v1+cell": {
     "cellMetadata": {},
     "inputWidgets": {},
     "nuid": "574fb983-f87d-448b-bc79-83b6442392ce",
     "showTitle": false,
     "tableResultSettingsMap": {},
     "title": ""
    }
   },
   "outputs": [],
   "source": [
    "from langchain.chains import LLMChain\n",
    "from langchain.llms import OpenAI\n",
    "from langchain.prompts import PromptTemplate\n",
    "from langchain.chains import ConversationChain\n",
    "from langchain.memory import ConversationSummaryMemory"
   ]
  },
  {
   "cell_type": "code",
   "execution_count": 0,
   "metadata": {
    "application/vnd.databricks.v1+cell": {
     "cellMetadata": {},
     "inputWidgets": {},
     "nuid": "9e2c8511-fada-4055-a9ab-6822c1affe63",
     "showTitle": false,
     "tableResultSettingsMap": {},
     "title": ""
    }
   },
   "outputs": [],
   "source": [
    "# Add Memory  for contexr\n",
    "memory = ConversationSummaryMemory(llm = llm)\n",
    "\n",
    "# Create a Conversation Chain with Memory\n",
    "chatbot = ConversationChain(llm = llm,memory = memory)\n",
    "\n",
    "# Start a conversation\n",
    "\n",
    "print(\"Hello, I am a chatbot. I am here to help you. You can ask me anything.\")\n",
    "while True:\n",
    "    user_input = input(\"You: \")\n",
    "    # Exit Condition\n",
    "    if user_input.lower() == 'exit':\n",
    "        print(\"Goodbye!\")\n",
    "        break\n",
    "    \n",
    "    \n",
    "    response = chatbot.run(user_input)\n",
    "    print(\"Chatbot:\",response)"
   ]
  },
  {
   "cell_type": "code",
   "execution_count": 0,
   "metadata": {
    "application/vnd.databricks.v1+cell": {
     "cellMetadata": {},
     "inputWidgets": {},
     "nuid": "bb8472e2-96db-4afa-8b2c-6f8b944dd883",
     "showTitle": false,
     "tableResultSettingsMap": {},
     "title": ""
    }
   },
   "outputs": [],
   "source": []
  }
 ],
 "metadata": {
  "application/vnd.databricks.v1+notebook": {
   "computePreferences": null,
   "dashboards": [],
   "environmentMetadata": null,
   "language": "python",
   "notebookMetadata": {},
   "notebookName": "3. Memory",
   "widgets": {}
  },
  "kernelspec": {
   "display_name": ".venv",
   "language": "python",
   "name": "python3"
  },
  "language_info": {
   "name": "python"
  }
 },
 "nbformat": 4,
 "nbformat_minor": 0
}
